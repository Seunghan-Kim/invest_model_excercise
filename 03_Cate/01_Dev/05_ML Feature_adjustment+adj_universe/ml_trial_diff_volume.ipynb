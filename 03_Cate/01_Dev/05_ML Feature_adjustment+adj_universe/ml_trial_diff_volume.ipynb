{
 "cells": [
  {
   "cell_type": "markdown",
   "metadata": {},
   "source": [
    "#### This Code is the base of the current running Cate ML Model"
   ]
  },
  {
   "cell_type": "code",
   "execution_count": 1,
   "metadata": {},
   "outputs": [],
   "source": [
    "import pandas as pd\n",
    "pd.options.plotting.backend = \"plotly\"\n",
    "\n",
    "import plotly.express as px\n",
    "import plotly.graph_objects as go\n",
    "\n",
    "import numpy as np\n",
    "\n",
    "from make_new_features import get_df_with_features\n",
    "from get_krx_value import get_krx_mean\n",
    "\n",
    "from sklearn.metrics import accuracy_score, precision_score, recall_score, f1_score\n",
    "\n",
    "import warnings\n",
    "warnings.filterwarnings(action='ignore', category=FutureWarning)\n",
    "\n",
    "from xgboost import plot_importance\n",
    "import matplotlib.pyplot as plt"
   ]
  },
  {
   "cell_type": "markdown",
   "metadata": {},
   "source": [
    "#### Preparing Price Dataset"
   ]
  },
  {
   "cell_type": "code",
   "execution_count": 2,
   "metadata": {},
   "outputs": [],
   "source": [
    "SHORT_PERIOD=5\n",
    "MID_PERIOD=20\n",
    "LONG_PERIOD=60\n",
    "\n",
    "try :\n",
    "    df_with_feats = pd.read_pickle(f\"./df_with_feats_f_20130101_t_20230919_{SHORT_PERIOD}_{MID_PERIOD}_{LONG_PERIOD}_with_min_max_ratio.pkl\")\n",
    "    # df_with_feats['date'] = df_with_feats['date'].dt.strftime(\"%Y-%m-%d\")\n",
    "except :\n",
    "    # filtering : Normal Stocks, Not SPAC\n",
    "    df_price = (\n",
    "        pd.read_pickle(\"./df_price_price_only_f_20130101_t_20230919.pkl\")\n",
    "        .loc[lambda df : df[\"code\"].str[5]== \"0\"]\n",
    "        # .loc[lambda df : ~df[\"name\"].str.contains(\"스펙\")]\n",
    "        # .loc[lambda df : ~df[\"name\"].str.contains(\"스팩\")]    \n",
    "    )\n",
    "\n",
    "    df_price['date'] = df_price['date'].dt.strftime(\"%Y-%m-%d\")\n",
    "\n",
    "    try:\n",
    "        df_krx = pd.read_pickle(\"./df_krx.pkl\")\n",
    "    except :\n",
    "        df_krx = get_krx_mean()\n",
    "        df_krx.to_pickle(\"./df_krx.pkl\")\n",
    "\n",
    "    df_price = df_price.merge(\n",
    "        df_krx,\n",
    "        on='date'\n",
    "    )\n",
    "    \n",
    "    df_with_feats = get_df_with_features(\n",
    "        df_price, SHORT_PERIOD=SHORT_PERIOD, MID_PERIOD=MID_PERIOD, LONG_PERIOD=LONG_PERIOD)\n",
    "    df_with_feats.to_pickle(f\"./df_with_feats_f_20130101_t_20230919_{SHORT_PERIOD}_{MID_PERIOD}_{LONG_PERIOD}_with_min_max_ratio.pkl\")"
   ]
  },
  {
   "cell_type": "markdown",
   "metadata": {},
   "source": [
    "## ML"
   ]
  },
  {
   "cell_type": "code",
   "execution_count": 3,
   "metadata": {},
   "outputs": [],
   "source": [
    "import xgboost as xgb\n",
    "from sklearn.model_selection import train_test_split"
   ]
  },
  {
   "cell_type": "code",
   "execution_count": null,
   "metadata": {},
   "outputs": [],
   "source": []
  },
  {
   "cell_type": "code",
   "execution_count": 8,
   "metadata": {},
   "outputs": [],
   "source": [
    "df_with_feats_ml = (\n",
    "    df_with_feats\n",
    "    .assign(\n",
    "        vol_x_price_sma_long_to_mid = lambda df : df.vol_x_price_sma_long / df.vol_x_price_sma_mid,\n",
    "        vol_x_price_sma_mid_to_short = lambda df : df.vol_x_price_sma_mid / df.vol_x_price_sma_short,\n",
    "        vol_x_price_today = lambda df : df.volume * df.close \n",
    "    )\n",
    "    .loc[lambda df : df.code.str[5] == '0']\n",
    "    # .loc[lambda df : ~df.name.str.contains(\"스펙\")]\n",
    "    # .loc[lambda df : ~df.name.str.contains(\"스팩\")]\n",
    "    .loc[lambda df : df[\"vol_x_price_today\"] > 0.75e+08]\n",
    "    .loc[lambda df : df[\"vol_x_price_sma_mid\"] >  0.75e+08]  # 0.75e+08\n",
    "    .loc[lambda df : df[\"vol_x_price_sma_mid\"] <  3.5e+08]  # 3.5e+08\n",
    "    .loc[lambda df : df[\"vol_zero_count_mid\"] == 0]\n",
    "    .loc[lambda df : df[\"change\"] < 0.29]\n",
    "    .loc[lambda df : df[\"volume\"] > 0]\n",
    "\n",
    "    # .loc[lambda df : df.close > 1000]\n",
    ")"
   ]
  },
  {
   "cell_type": "code",
   "execution_count": 6,
   "metadata": {},
   "outputs": [],
   "source": [
    "# # All Available Features\n",
    "# for col in df_with_feats_ml.columns:\n",
    "#     print(f\"'{col}',\")"
   ]
  },
  {
   "cell_type": "markdown",
   "metadata": {},
   "source": [
    "#### EDA & Selecting Features"
   ]
  },
  {
   "cell_type": "code",
   "execution_count": 9,
   "metadata": {},
   "outputs": [],
   "source": [
    "feats = [\n",
    "        'change_high',\n",
    "        'change_low',\n",
    "        'change_open',\n",
    "        'close_std_short',\n",
    "        # 'close_std_mid',\n",
    "        'close_std_long',\n",
    "        # 'close_mean_short',\n",
    "        # 'close_mean_mid',\n",
    "        # 'close_mean_long',\n",
    "        'close_min_ratio_short',\n",
    "        'close_min_ratio_mid',\n",
    "        'close_min_ratio_long',\n",
    "        'close_max_ratio_short',\n",
    "        'close_max_ratio_mid',\n",
    "        'close_max_ratio_long',\n",
    "        'open_std_short',\n",
    "        # 'open_std_mid',\n",
    "        # 'open_std_long',\n",
    "        'high_std_short',\n",
    "        'high_std_mid',\n",
    "        'high_std_long',\n",
    "        'low_std_short',\n",
    "        'low_std_mid',\n",
    "        # 'low_std_long',\n",
    "        # 'vol_zero_count_short',\n",
    "        # 'vol_zero_count_mid',\n",
    "        # 'vol_zero_count_long',\n",
    "        'close_change_p_short',\n",
    "        'close_change_p_mid',\n",
    "        'close_change_p_long',\n",
    "        'w_price_vol_corr_long',\n",
    "        'w_price_vol_corr_mid',\n",
    "        'w_price_vol_corr_short',\n",
    "        'krx_corr_short',\n",
    "        'krx_corr_mid',\n",
    "        'krx_corr_long',\n",
    "        'krx_change_std_short',\n",
    "        'krx_change_std_mid',\n",
    "        'krx_change_std_long',\n",
    "        'vol_x_price_sma_long_to_mid',\n",
    "        'vol_x_price_sma_mid_to_short'\n",
    "    ]"
   ]
  },
  {
   "cell_type": "code",
   "execution_count": 10,
   "metadata": {},
   "outputs": [],
   "source": [
    "corr_matrix = df_with_feats_ml[feats].corr()\n",
    "\n",
    "upper = corr_matrix.where(~np.tril(np.ones(corr_matrix.shape)).astype(bool))\n",
    "\n",
    "# Find the pairs where the absolute value of correlation is greater than 0.75\n",
    "high_corr_pairs = [(column, index) for column, rowIndex in zip(upper.columns, upper.index) \n",
    "                   for index, value in upper[column].items() if abs(value) > 0.75]\n",
    "\n",
    "# Print the high correlation pairs\n",
    "for pair in high_corr_pairs:\n",
    "    print(pair)"
   ]
  },
  {
   "cell_type": "code",
   "execution_count": 11,
   "metadata": {},
   "outputs": [],
   "source": [
    "# For fixed length train dataset\n",
    "\n",
    "import exchange_calendars as xcals\n",
    "krx_cal = xcals.get_calendar(\"XKRX\")\n",
    "\n",
    "max_date = '2023-09-19'\n",
    "# max_date = '2024-01-19'\n",
    "start_date = '2015-01-02'\n",
    "\n",
    "finish = False\n",
    "dates = []\n",
    "\n",
    "len_of_train = 200\n",
    "gap_from_last_train_date = 7 # This number depends on the target ( rtn_5 -> 7, rnt_20 -> 22)\n",
    "len_of_pred = 20 # The length of pred for 1 model update\n",
    "\n",
    "while not finish :\n",
    "    train_end = krx_cal.sessions_window(start_date, len_of_train)[-1].strftime(\"%Y-%m-%d\")\n",
    "    oos_start = krx_cal.sessions_window(train_end, gap_from_last_train_date)[-1].strftime(\"%Y-%m-%d\")\n",
    "    oos_end = krx_cal.sessions_window(oos_start, len_of_pred)[-1].strftime(\"%Y-%m-%d\")\n",
    "\n",
    "    if oos_end > max_date :\n",
    "        dates.append(\n",
    "            (start_date, train_end, oos_start, max_date)\n",
    "        )\n",
    "        finish = True\n",
    "\n",
    "    else :\n",
    "        dates.append(\n",
    "            (start_date, train_end, oos_start, oos_end)\n",
    "        )\n",
    "\n",
    "        start_date = krx_cal.sessions_window(start_date, len_of_pred)[-1].strftime(\"%Y-%m-%d\")"
   ]
  },
  {
   "cell_type": "markdown",
   "metadata": {},
   "source": [
    "#### Create df_oos_with_proba"
   ]
  },
  {
   "cell_type": "code",
   "execution_count": 12,
   "metadata": {},
   "outputs": [],
   "source": [
    "def run_ml_multi_seed(features, idx0, idx1, fixed, target):\n",
    "\n",
    "    feats = features\n",
    "    \n",
    "    THRES_OF_PROBA = 0.5\n",
    "\n",
    "    rtn_in_period = []\n",
    "    l_df = []\n",
    "\n",
    "    if fixed:\n",
    "        print(\"fixed\")\n",
    "    else :\n",
    "        print(\"float\")\n",
    "\n",
    "    for train_start, train_end, oos_start, oos_end in dates[idx0 : idx1]:\n",
    "\n",
    "        df_train_set = df_with_feats_ml.loc[lambda df : df.date >= train_start].loc[lambda df : df.date < train_end]\n",
    "        df_oos_set = df_with_feats_ml.loc[lambda df : df.date >= oos_start].loc[lambda df : df.date < oos_end]\n",
    "\n",
    "        df_train_set_ = (\n",
    "            df_train_set\n",
    "            .replace([-np.inf, np.inf], np.nan)\n",
    "            .dropna(subset=feats)\n",
    "            .reset_index(drop=True)\n",
    "        )\n",
    "\n",
    "        if fixed:\n",
    "            THRES_OF_TRUE = 0.03\n",
    "        else :\n",
    "            THRES_OF_TRUE = df_train_set_[target].quantile(0.75)\n",
    "        \n",
    "        # print(THRES_OF_TRUE)\n",
    "\n",
    "        df_oos_set_ = (\n",
    "            df_oos_set      \n",
    "            .replace([-np.inf, np.inf], np.nan)\n",
    "            .dropna(subset=feats)\n",
    "            .reset_index(drop=True)\n",
    "        )\n",
    "\n",
    "        df_train_set_[\"target\"] = (\n",
    "                df_train_set_[target].apply(lambda x : 1 if x > THRES_OF_TRUE else 0)\n",
    "            )\n",
    "\n",
    "        feature_df = df_train_set_[feats]\n",
    "        target_df = df_train_set_[\"target\"]\n",
    "\n",
    "        feature_df_oos = df_oos_set_[feats]\n",
    "\n",
    "        doos = xgb.DMatrix(feature_df_oos)        \n",
    "\n",
    "        if df_oos_set_.shape[0] > 0:\n",
    "            \n",
    "            col_list = []\n",
    "            for id, seed in enumerate([6, 13, 5, 2]):\n",
    "\n",
    "                X_train, X_valid, y_train, y_valid = train_test_split(\n",
    "                    feature_df, target_df, test_size=0.25, random_state=seed\n",
    "                )\n",
    "\n",
    "                # Create DMatrix for training and validation data\n",
    "                dtrain = xgb.DMatrix(X_train, label=y_train)\n",
    "                dvalid = xgb.DMatrix(X_valid, label=y_valid)\n",
    "\n",
    "                evals = [(dtrain, 'train'), (dvalid, 'eval')]\n",
    "\n",
    "                params = {\n",
    "                    'max_depth': 5, # Adjust based on your dataset : originally 5 --> try 8\n",
    "                    'eta': 0.05,     # Learning rate : originally 0.05\n",
    "                    'objective': 'binary:logistic',\n",
    "                    'eval_metric': 'logloss',  # Or use 'auc', 'error', etc. based on your problem\n",
    "                    'random_state': 42,\n",
    "                }\n",
    "\n",
    "                model = xgb.train(\n",
    "                    params, dtrain,\n",
    "                    1000,\n",
    "                    evals=evals,\n",
    "                    early_stopping_rounds=50,\n",
    "                    verbose_eval=False\n",
    "                )\n",
    "\n",
    "                df_oos_set_[f\"pred_proba_{id}\"] = model.predict(doos)\n",
    "                col_list.append(f\"pred_proba_{id}\")\n",
    "            \n",
    "            df_oos_set_[\"proba_mean\"] = df_oos_set_[col_list].mean(axis=1)\n",
    "            df_oos_set_[\"proba_max\"] = df_oos_set_[col_list].max(axis=1)\n",
    "\n",
    "            l_df.append(df_oos_set_)\n",
    "\n",
    "            sr_selected_mean_mean = (\n",
    "                df_oos_set_\n",
    "                .loc[lambda df : df['proba_mean'] > THRES_OF_PROBA]\n",
    "                .sort_values('proba_mean', ascending=False)\n",
    "                .groupby('date')\n",
    "                .head(5)\n",
    "                .reset_index()\n",
    "                .groupby('date')[target]\n",
    "                .mean()\n",
    "                -0.0023\n",
    "            )       \n",
    "\n",
    "            sr_selected_mean_max = (\n",
    "                df_oos_set_\n",
    "                .loc[lambda df : df['proba_mean'] > THRES_OF_PROBA]\n",
    "                .sort_values('proba_max', ascending=False)\n",
    "                .groupby('date')\n",
    "                .head(5)\n",
    "                .reset_index()\n",
    "                .groupby('date')[target]\n",
    "                .mean()\n",
    "                -0.0023\n",
    "            )      \n",
    "\n",
    "            sr_selected_max_mean = (\n",
    "                df_oos_set_\n",
    "                .loc[lambda df : df['proba_max'] > THRES_OF_PROBA]\n",
    "                .sort_values('proba_mean', ascending=False)\n",
    "                .groupby('date')\n",
    "                .head(5)\n",
    "                .reset_index()\n",
    "                .groupby('date')[target]\n",
    "                .mean()\n",
    "                -0.0023\n",
    "            )    \n",
    "\n",
    "            sr_selected_max_max = (\n",
    "                df_oos_set_\n",
    "                .loc[lambda df : df['proba_max'] > THRES_OF_PROBA]\n",
    "                .sort_values('proba_max', ascending=False)\n",
    "                .groupby('date')\n",
    "                .head(5)\n",
    "                .reset_index()\n",
    "                .groupby('date')[target]\n",
    "                .mean()\n",
    "                -0.0023\n",
    "            )     \n",
    "\n",
    "            rtn_in_period.append(\n",
    "                {\n",
    "                    'date' : oos_end,\n",
    "                    \"return_mean_mean\" : sr_selected_mean_mean.sum()/(int(target.split('_')[-1]) + 1),\n",
    "                    'return_mean_max' : sr_selected_mean_max.sum()/(int(target.split('_')[-1]) + 1),\n",
    "                    'return_max_mean' : sr_selected_max_mean.sum()/(int(target.split('_')[-1]) + 1),\n",
    "                    'return_max_max' : sr_selected_max_max.sum()/(int(target.split('_')[-1]) + 1),\n",
    "                    'date_n' : sr_selected_mean_max.shape[0]\n",
    "                }\n",
    "            )\n",
    "\n",
    "        else :\n",
    "\n",
    "        \n",
    "            # cumsum += 0\n",
    "            rtn_in_period.append(\n",
    "                {\n",
    "                    'date' : oos_end,\n",
    "                    \"return_mean_mean\" : 0,\n",
    "                    'return_mean_max' : 0,\n",
    "                    'return_max_mean' : 0,\n",
    "                    'return_max_max' : 0,\n",
    "                    'date_n' : 0\n",
    "                }\n",
    "            )\n",
    "        \n",
    "        \n",
    "    return rtn_in_period, l_df"
   ]
  },
  {
   "cell_type": "code",
   "execution_count": 14,
   "metadata": {},
   "outputs": [
    {
     "name": "stdout",
     "output_type": "stream",
     "text": [
      "rtn_3\n",
      "float\n",
      "return_mean_mean\n",
      "Prod : 18.82\n",
      "Prod Max : 21.62\n",
      "Prod Min : 1.01\n",
      "min : -0.223\n",
      "std : 0.071\n",
      "mean : 0.032\n",
      "\n",
      "\n",
      "return_mean_max\n",
      "Prod : 16.94\n",
      "Prod Max : 20.08\n",
      "Prod Min : 1.01\n",
      "min : -0.217\n",
      "std : 0.068\n",
      "mean : 0.03\n",
      "\n",
      "\n",
      "return_max_mean\n",
      "Prod : 28.68\n",
      "Prod Max : 28.68\n",
      "Prod Min : 1.02\n",
      "min : -0.144\n",
      "std : 0.065\n",
      "mean : 0.036\n",
      "\n",
      "\n",
      "return_max_max\n",
      "Prod : 31.95\n",
      "Prod Max : 31.95\n",
      "Prod Min : 1.02\n",
      "min : -0.13\n",
      "std : 0.064\n",
      "mean : 0.037\n",
      "\n",
      "\n",
      "date_n\n",
      "Prod : 0\n",
      "Prod Max : 8881601777359650816\n",
      "Prod Min : -9119789245425254400\n",
      "min : 0\n",
      "std : 6.07\n",
      "mean : 11.941\n",
      "\n",
      "\n"
     ]
    }
   ],
   "source": [
    "for feat_var, target_var in [(feats, 'rtn_3')]: #, (feats, 'rtn_4')]: #, (feats, 'rtn_5')]:\n",
    "\n",
    "    feats = feat_var\n",
    "    target = target_var\n",
    "\n",
    "    for tf in [False]:\n",
    "\n",
    "        print(target)\n",
    "\n",
    "        oos_test_result, dfs = run_ml_multi_seed(feats, 0, -1, tf, target)\n",
    "        df_oos_result = pd.DataFrame(oos_test_result)\n",
    "        df_oos_result = df_oos_result.set_index('date')\n",
    "\n",
    "        if tf:\n",
    "            df_oos_with_proba_fixed = pd.concat(dfs)\n",
    "            df_oos_with_proba_fixed.to_pickle(f\"df_oos_with_proba_fixed_{target}.pkl\")\n",
    "        else:\n",
    "            df_oos_with_proba_float = pd.concat(dfs)\n",
    "            df_oos_with_proba_float.to_pickle(f\"df_oos_with_proba_float_{target}.pkl\")\n",
    "\n",
    "        for col in df_oos_result.columns:\n",
    "            sr = (df_oos_result[col]+1)\n",
    "            sr_org = df_oos_result[col]\n",
    "\n",
    "            print(col)\n",
    "            print(f\"Prod : {round(sr.cumprod()[-1],2)}\")\n",
    "            print(f\"Prod Max : {round(sr.cumprod().max(),2)}\")\n",
    "            print(f\"Prod Min : {round(sr.cumprod().min(),2)}\")\n",
    "            print(f\"min : {round(sr_org.min(),3)}\")\n",
    "            print(f\"std : {round(sr_org.std(),3)}\")\n",
    "            print(f\"mean : {round(sr_org.mean(),3)}\")\n",
    "            print('\\n')\n"
   ]
  },
  {
   "cell_type": "markdown",
   "metadata": {},
   "source": [
    "#### Get Best Thresholds for Proba"
   ]
  },
  {
   "cell_type": "code",
   "execution_count": 15,
   "metadata": {},
   "outputs": [],
   "source": [
    "def objective(trial, df_proba, rtn_n):\n",
    "\n",
    "    thres01 = trial.suggest_float(\"thres_for_max\", 0.3, 0.9, step=0.01)\n",
    "    thres02 = trial.suggest_float(\"thres_for_mean\", 0.3, 0.9, step=0.01)\n",
    "    thres03 = trial.suggest_float(\"thres_mean_max\", 0.3, 0.9, step=0.01)\n",
    "    thres04 = trial.suggest_float(\"thres_mean_mean\", 0.3, 0.9, step=0.01)\n",
    "\n",
    "    l_rtn_p = []\n",
    "\n",
    "    for date in dates:\n",
    "\n",
    "        df_ = df_proba.loc[lambda df : df.date >= date[2]].loc[lambda df : df.date < date[3]]\n",
    "        df_ = df_.loc[lambda df : df['weighted_price_change_p_short'] >= df['weighted_price_change_p_mid']]\n",
    "\n",
    "\n",
    "        df1 = (\n",
    "            df_\n",
    "            .loc[lambda df : df['proba_max'] > thres01]\n",
    "            .sort_values('proba_max', ascending=False)\n",
    "            .groupby('date')\n",
    "            .head(3)\n",
    "            .reset_index()\n",
    "        )\n",
    "\n",
    "        df2 = (\n",
    "            df_\n",
    "            .loc[lambda df : df['proba_max'] > thres02]\n",
    "            .sort_values('proba_mean', ascending=False)\n",
    "            .groupby('date')\n",
    "            .head(3)\n",
    "            .reset_index()\n",
    "        )\n",
    "\n",
    "        df3 = (\n",
    "            df_\n",
    "            .loc[lambda df : df['proba_mean'] > thres03]\n",
    "            .sort_values('proba_max', ascending=False)\n",
    "            .groupby('date')\n",
    "            .head(3)\n",
    "            .reset_index()\n",
    "        )\n",
    "\n",
    "        df4 = (\n",
    "            df_\n",
    "            .loc[lambda df : df['proba_mean'] > thres04]\n",
    "            .sort_values('proba_mean', ascending=False)\n",
    "            .groupby('date')\n",
    "            .head(3)\n",
    "            .reset_index()\n",
    "        )\n",
    "\n",
    "        sr = (\n",
    "            pd.concat([df1, df2, df3, df4]).drop_duplicates(subset=['date','code']) #df1, df2, \n",
    "            .groupby('date')[rtn_n]\n",
    "            .mean()\n",
    "            -0.0023\n",
    "        )\n",
    "\n",
    "        n = int(rtn_n.split('_')[1]) + 1\n",
    "\n",
    "        l_rtn_p.append(\n",
    "            {\n",
    "                'date' : date[3],\n",
    "                'rtn_p' : (sr/n).sum(),\n",
    "                'days' : pd.concat([df1, df2, df3, df4]).drop_duplicates(subset=['date','code'])['date'].unique().__len__()\n",
    "            }        \n",
    "        )\n",
    "\n",
    "    sr_final = (\n",
    "        pd.DataFrame(l_rtn_p)\n",
    "        .set_index('date')\n",
    "        ['rtn_p']\n",
    "        # +1\n",
    "    )\n",
    "\n",
    "    print(\n",
    "        pd.DataFrame(l_rtn_p)['days'].sum()\n",
    "    )\n",
    "\n",
    "    return (sr_final+1).cumprod()[-1]\n"
   ]
  },
  {
   "cell_type": "code",
   "execution_count": 16,
   "metadata": {},
   "outputs": [],
   "source": [
    "import optuna"
   ]
  },
  {
   "cell_type": "code",
   "execution_count": 17,
   "metadata": {},
   "outputs": [],
   "source": [
    "# Optuna Strudy Run\n",
    "def run_optuna(name, df_, rtn_n):\n",
    "\n",
    "    study = optuna.create_study(\n",
    "            direction=\"maximize\",\n",
    "            # direction=\"minimize\",\n",
    "            study_name=name,\n",
    "        )\n",
    "\n",
    "    study.optimize(\n",
    "        lambda trial : objective(trial, df_, rtn_n),\n",
    "        n_trials=400,\n",
    "        show_progress_bar=True,\n",
    "    )\n",
    "\n",
    "    # Create study result df & Save to file\n",
    "    df_study_result = (\n",
    "        study.trials_dataframe()\n",
    "        .rename(columns = lambda x : x.replace(\"params_\", \"\"))\n",
    "    )    \n",
    "    df_study_result.to_pickle(f\"./study_result_20240217_{name}.pkl\")"
   ]
  },
  {
   "cell_type": "code",
   "execution_count": 18,
   "metadata": {},
   "outputs": [
    {
     "name": "stderr",
     "output_type": "stream",
     "text": [
      "[I 2024-03-04 15:40:34,713] A new study created in memory with name: best_combi_of_thres_float_rtn_3\n"
     ]
    },
    {
     "data": {
      "application/vnd.jupyter.widget-view+json": {
       "model_id": "d511044ac56f4b5c9833e827d219b2e6",
       "version_major": 2,
       "version_minor": 0
      },
      "text/plain": [
       "  0%|          | 0/400 [00:00<?, ?it/s]"
      ]
     },
     "metadata": {},
     "output_type": "display_data"
    },
    {
     "name": "stdout",
     "output_type": "stream",
     "text": [
      "1626\n",
      "[I 2024-03-04 15:40:44,459] Trial 0 finished with value: 64.77414127651063 and parameters: {'thres_for_max': 0.49, 'thres_for_mean': 0.74, 'thres_mean_max': 0.59, 'thres_mean_mean': 0.79}. Best is trial 0 with value: 64.77414127651063.\n",
      "1736\n",
      "[I 2024-03-04 15:40:54,033] Trial 1 finished with value: 54.6012147482645 and parameters: {'thres_for_max': 0.76, 'thres_for_mean': 0.59, 'thres_mean_max': 0.3, 'thres_mean_mean': 0.65}. Best is trial 0 with value: 64.77414127651063.\n",
      "1534\n",
      "[I 2024-03-04 15:41:03,614] Trial 2 finished with value: 66.52083677068983 and parameters: {'thres_for_max': 0.81, 'thres_for_mean': 0.65, 'thres_mean_max': 0.76, 'thres_mean_mean': 0.38}. Best is trial 2 with value: 66.52083677068983.\n",
      "1316\n",
      "[I 2024-03-04 15:41:13,291] Trial 3 finished with value: 56.88930795424651 and parameters: {'thres_for_max': 0.59, 'thres_for_mean': 0.76, 'thres_mean_max': 0.53, 'thres_mean_mean': 0.53}. Best is trial 2 with value: 66.52083677068983.\n",
      "1569\n",
      "[I 2024-03-04 15:41:23,950] Trial 4 finished with value: 60.30653972895908 and parameters: {'thres_for_max': 0.8400000000000001, 'thres_for_mean': 0.51, 'thres_mean_max': 0.6699999999999999, 'thres_mean_mean': 0.48}. Best is trial 2 with value: 66.52083677068983.\n",
      "1259\n",
      "[I 2024-03-04 15:41:36,359] Trial 5 finished with value: 39.30238383104265 and parameters: {'thres_for_max': 0.73, 'thres_for_mean': 0.8400000000000001, 'thres_mean_max': 0.45999999999999996, 'thres_mean_mean': 0.81}. Best is trial 2 with value: 66.52083677068983.\n",
      "1877\n",
      "[I 2024-03-04 15:41:48,310] Trial 6 finished with value: 70.50541424051926 and parameters: {'thres_for_max': 0.32999999999999996, 'thres_for_mean': 0.8600000000000001, 'thres_mean_max': 0.81, 'thres_mean_mean': 0.76}. Best is trial 6 with value: 70.50541424051926.\n",
      "1650\n",
      "[I 2024-03-04 15:42:00,882] Trial 7 finished with value: 66.78514164596255 and parameters: {'thres_for_max': 0.48, 'thres_for_mean': 0.71, 'thres_mean_max': 0.69, 'thres_mean_mean': 0.79}. Best is trial 6 with value: 70.50541424051926.\n",
      "1322\n",
      "[I 2024-03-04 15:42:12,725] Trial 8 finished with value: 34.973847798725046 and parameters: {'thres_for_max': 0.61, 'thres_for_mean': 0.8600000000000001, 'thres_mean_max': 0.47, 'thres_mean_mean': 0.52}. Best is trial 6 with value: 70.50541424051926.\n",
      "1853\n",
      "[I 2024-03-04 15:42:25,302] Trial 9 finished with value: 53.49151898091717 and parameters: {'thres_for_max': 0.38, 'thres_for_mean': 0.35, 'thres_mean_max': 0.31, 'thres_mean_mean': 0.56}. Best is trial 6 with value: 70.50541424051926.\n",
      "1897\n",
      "[I 2024-03-04 15:42:38,396] Trial 10 finished with value: 61.87148436753189 and parameters: {'thres_for_max': 0.3, 'thres_for_mean': 0.44999999999999996, 'thres_mean_max': 0.8899999999999999, 'thres_mean_mean': 0.6699999999999999}. Best is trial 6 with value: 70.50541424051926.\n",
      "1740\n",
      "[I 2024-03-04 15:42:50,707] Trial 11 finished with value: 65.0173426836184 and parameters: {'thres_for_max': 0.43, 'thres_for_mean': 0.8899999999999999, 'thres_mean_max': 0.81, 'thres_mean_mean': 0.8999999999999999}. Best is trial 6 with value: 70.50541424051926.\n",
      "1897\n",
      "[I 2024-03-04 15:43:02,933] Trial 12 finished with value: 70.81490471265849 and parameters: {'thres_for_max': 0.3, 'thres_for_mean': 0.74, 'thres_mean_max': 0.71, 'thres_mean_mean': 0.74}. Best is trial 12 with value: 70.81490471265849.\n",
      "1869\n",
      "[I 2024-03-04 15:43:15,143] Trial 13 finished with value: 78.29328834235334 and parameters: {'thres_for_max': 0.33999999999999997, 'thres_for_mean': 0.78, 'thres_mean_max': 0.8600000000000001, 'thres_mean_mean': 0.71}. Best is trial 13 with value: 78.29328834235334.\n",
      "1315\n",
      "[I 2024-03-04 15:43:28,258] Trial 14 finished with value: 60.50272166762275 and parameters: {'thres_for_max': 0.59, 'thres_for_mean': 0.64, 'thres_mean_max': 0.8899999999999999, 'thres_mean_mean': 0.7}. Best is trial 13 with value: 78.29328834235334.\n",
      "1808\n",
      "[I 2024-03-04 15:43:41,823] Trial 15 finished with value: 67.00220184151556 and parameters: {'thres_for_max': 0.39, 'thres_for_mean': 0.78, 'thres_mean_max': 0.74, 'thres_mean_mean': 0.8999999999999999}. Best is trial 13 with value: 78.29328834235334.\n",
      "1897\n",
      "[I 2024-03-04 15:43:54,333] Trial 16 finished with value: 61.38553345895461 and parameters: {'thres_for_max': 0.3, 'thres_for_mean': 0.5700000000000001, 'thres_mean_max': 0.8200000000000001, 'thres_mean_mean': 0.62}. Best is trial 13 with value: 78.29328834235334.\n",
      "1748\n",
      "[I 2024-03-04 15:44:07,058] Trial 17 finished with value: 44.27479730757266 and parameters: {'thres_for_max': 0.5, 'thres_for_mean': 0.69, 'thres_mean_max': 0.65, 'thres_mean_mean': 0.3}. Best is trial 13 with value: 78.29328834235334.\n",
      "1794\n",
      "[I 2024-03-04 15:44:19,464] Trial 18 finished with value: 67.53060939276608 and parameters: {'thres_for_max': 0.4, 'thres_for_mean': 0.81, 'thres_mean_max': 0.6, 'thres_mean_mean': 0.72}. Best is trial 13 with value: 78.29328834235334.\n",
      "1891\n",
      "[I 2024-03-04 15:44:33,010] Trial 19 finished with value: 67.5337399112116 and parameters: {'thres_for_max': 0.54, 'thres_for_mean': 0.31, 'thres_mean_max': 0.73, 'thres_mean_mean': 0.8600000000000001}. Best is trial 13 with value: 78.29328834235334.\n",
      "1047\n",
      "[I 2024-03-04 15:44:44,816] Trial 20 finished with value: 24.16646855709093 and parameters: {'thres_for_max': 0.6699999999999999, 'thres_for_mean': 0.6699999999999999, 'thres_mean_max': 0.8500000000000001, 'thres_mean_mean': 0.6}. Best is trial 13 with value: 78.29328834235334.\n",
      "1853\n",
      "[I 2024-03-04 15:44:55,989] Trial 21 finished with value: 65.13340833934947 and parameters: {'thres_for_max': 0.35, 'thres_for_mean': 0.8899999999999999, 'thres_mean_max': 0.79, 'thres_mean_mean': 0.75}. Best is trial 13 with value: 78.29328834235334.\n",
      "1869\n",
      "[I 2024-03-04 15:45:07,785] Trial 22 finished with value: 77.93447213182642 and parameters: {'thres_for_max': 0.33999999999999997, 'thres_for_mean': 0.81, 'thres_mean_max': 0.8600000000000001, 'thres_mean_mean': 0.75}. Best is trial 13 with value: 78.29328834235334.\n",
      "1740\n",
      "[I 2024-03-04 15:45:19,496] Trial 23 finished with value: 63.63635986299989 and parameters: {'thres_for_max': 0.43, 'thres_for_mean': 0.77, 'thres_mean_max': 0.8999999999999999, 'thres_mean_mean': 0.7}. Best is trial 13 with value: 78.29328834235334.\n",
      "1853\n",
      "[I 2024-03-04 15:45:31,074] Trial 24 finished with value: 65.94309157559168 and parameters: {'thres_for_max': 0.35, 'thres_for_mean': 0.81, 'thres_mean_max': 0.8400000000000001, 'thres_mean_mean': 0.81}. Best is trial 13 with value: 78.29328834235334.\n",
      "1740\n",
      "[I 2024-03-04 15:45:42,722] Trial 25 finished with value: 61.73353560348591 and parameters: {'thres_for_max': 0.43, 'thres_for_mean': 0.73, 'thres_mean_max': 0.72, 'thres_mean_mean': 0.8400000000000001}. Best is trial 13 with value: 78.29328834235334.\n",
      "1897\n",
      "[I 2024-03-04 15:45:55,681] Trial 26 finished with value: 69.87146258085536 and parameters: {'thres_for_max': 0.3, 'thres_for_mean': 0.81, 'thres_mean_max': 0.78, 'thres_mean_mean': 0.74}. Best is trial 13 with value: 78.29328834235334.\n",
      "1869\n",
      "[I 2024-03-04 15:46:09,094] Trial 27 finished with value: 74.3797595681531 and parameters: {'thres_for_max': 0.33999999999999997, 'thres_for_mean': 0.61, 'thres_mean_max': 0.64, 'thres_mean_mean': 0.6699999999999999}. Best is trial 13 with value: 78.29328834235334.\n",
      "1665\n",
      "[I 2024-03-04 15:46:21,299] Trial 28 finished with value: 62.44076605484486 and parameters: {'thres_for_max': 0.8999999999999999, 'thres_for_mean': 0.48, 'thres_mean_max': 0.38, 'thres_mean_mean': 0.64}. Best is trial 13 with value: 78.29328834235334.\n",
      "1794\n",
      "[I 2024-03-04 15:46:33,605] Trial 29 finished with value: 51.87613910353327 and parameters: {'thres_for_max': 0.48, 'thres_for_mean': 0.4, 'thres_mean_max': 0.63, 'thres_mean_mean': 0.6799999999999999}. Best is trial 13 with value: 78.29328834235334.\n",
      "1569\n",
      "[I 2024-03-04 15:46:45,998] Trial 30 finished with value: 48.231543867664634 and parameters: {'thres_for_max': 0.51, 'thres_for_mean': 0.52, 'thres_mean_max': 0.55, 'thres_mean_mean': 0.55}. Best is trial 13 with value: 78.29328834235334.\n",
      "1853\n",
      "[I 2024-03-04 15:46:58,248] Trial 31 finished with value: 61.63439491052986 and parameters: {'thres_for_max': 0.35, 'thres_for_mean': 0.62, 'thres_mean_max': 0.56, 'thres_mean_mean': 0.77}. Best is trial 13 with value: 78.29328834235334.\n",
      "1818\n",
      "[I 2024-03-04 15:47:10,765] Trial 32 finished with value: 65.02795141003843 and parameters: {'thres_for_max': 0.38, 'thres_for_mean': 0.5700000000000001, 'thres_mean_max': 0.69, 'thres_mean_mean': 0.65}. Best is trial 13 with value: 78.29328834235334.\n",
      "1877\n",
      "[I 2024-03-04 15:47:23,842] Trial 33 finished with value: 69.28503142409443 and parameters: {'thres_for_max': 0.32999999999999996, 'thres_for_mean': 0.73, 'thres_mean_max': 0.8500000000000001, 'thres_mean_mean': 0.72}. Best is trial 13 with value: 78.29328834235334.\n",
      "1706\n",
      "[I 2024-03-04 15:47:36,090] Trial 34 finished with value: 57.16823253175129 and parameters: {'thres_for_max': 0.44999999999999996, 'thres_for_mean': 0.69, 'thres_mean_max': 0.77, 'thres_mean_mean': 0.6799999999999999}. Best is trial 13 with value: 78.29328834235334.\n",
      "1794\n",
      "[I 2024-03-04 15:47:47,573] Trial 35 finished with value: 67.45573379502436 and parameters: {'thres_for_max': 0.4, 'thres_for_mean': 0.75, 'thres_mean_max': 0.64, 'thres_mean_mean': 0.59}. Best is trial 13 with value: 78.29328834235334.\n",
      "1869\n",
      "[I 2024-03-04 15:47:59,705] Trial 36 finished with value: 72.57336980382338 and parameters: {'thres_for_max': 0.33999999999999997, 'thres_for_mean': 0.79, 'thres_mean_max': 0.5, 'thres_mean_mean': 0.47}. Best is trial 13 with value: 78.29328834235334.\n",
      "1869\n",
      "[I 2024-03-04 15:48:11,457] Trial 37 finished with value: 71.43399427652139 and parameters: {'thres_for_max': 0.33999999999999997, 'thres_for_mean': 0.79, 'thres_mean_max': 0.48, 'thres_mean_mean': 0.45999999999999996}. Best is trial 13 with value: 78.29328834235334.\n",
      "1498\n",
      "[I 2024-03-04 15:48:23,533] Trial 38 finished with value: 52.85709637788539 and parameters: {'thres_for_max': 0.55, 'thres_for_mean': 0.8300000000000001, 'thres_mean_max': 0.42, 'thres_mean_mean': 0.44}. Best is trial 13 with value: 78.29328834235334.\n",
      "1481\n",
      "[I 2024-03-04 15:48:35,412] Trial 39 finished with value: 57.0018684650429 and parameters: {'thres_for_max': 0.75, 'thres_for_mean': 0.8999999999999999, 'thres_mean_max': 0.5, 'thres_mean_mean': 0.39}. Best is trial 13 with value: 78.29328834235334.\n",
      "1520\n",
      "[I 2024-03-04 15:48:47,107] Trial 40 finished with value: 55.30416079021741 and parameters: {'thres_for_max': 0.69, 'thres_for_mean': 0.54, 'thres_mean_max': 0.42, 'thres_mean_mean': 0.49}. Best is trial 13 with value: 78.29328834235334.\n",
      "1869\n",
      "[I 2024-03-04 15:48:59,282] Trial 41 finished with value: 65.99243150565452 and parameters: {'thres_for_max': 0.33999999999999997, 'thres_for_mean': 0.79, 'thres_mean_max': 0.51, 'thres_mean_mean': 0.43}. Best is trial 13 with value: 78.29328834235334.\n",
      "1836\n",
      "[I 2024-03-04 15:49:11,158] Trial 42 finished with value: 57.39732773551067 and parameters: {'thres_for_max': 0.37, 'thres_for_mean': 0.8500000000000001, 'thres_mean_max': 0.5800000000000001, 'thres_mean_mean': 0.31}. Best is trial 13 with value: 78.29328834235334.\n",
      "1706\n",
      "[I 2024-03-04 15:49:24,049] Trial 43 finished with value: 53.83715180212291 and parameters: {'thres_for_max': 0.44999999999999996, 'thres_for_mean': 0.7, 'thres_mean_max': 0.45999999999999996, 'thres_mean_mean': 0.47}. Best is trial 13 with value: 78.29328834235334.\n",
      "1885\n",
      "[I 2024-03-04 15:49:37,881] Trial 44 finished with value: 61.788668613048 and parameters: {'thres_for_max': 0.32, 'thres_for_mean': 0.78, 'thres_mean_max': 0.36, 'thres_mean_mean': 0.51}. Best is trial 13 with value: 78.29328834235334.\n",
      "1778\n",
      "[I 2024-03-04 15:49:49,260] Trial 45 finished with value: 58.39676505421004 and parameters: {'thres_for_max': 0.41, 'thres_for_mean': 0.8700000000000001, 'thres_mean_max': 0.48, 'thres_mean_mean': 0.35}. Best is trial 13 with value: 78.29328834235334.\n",
      "1845\n",
      "[I 2024-03-04 15:50:00,284] Trial 46 finished with value: 53.63579363776931 and parameters: {'thres_for_max': 0.36, 'thres_for_mean': 0.6599999999999999, 'thres_mean_max': 0.53, 'thres_mean_mean': 0.41}. Best is trial 13 with value: 78.29328834235334.\n",
      "1885\n",
      "[I 2024-03-04 15:50:11,380] Trial 47 finished with value: 69.01653088983608 and parameters: {'thres_for_max': 0.32, 'thres_for_mean': 0.8300000000000001, 'thres_mean_max': 0.41, 'thres_mean_mean': 0.56}. Best is trial 13 with value: 78.29328834235334.\n",
      "1693\n",
      "[I 2024-03-04 15:50:23,717] Trial 48 finished with value: 53.63719239394844 and parameters: {'thres_for_max': 0.45999999999999996, 'thres_for_mean': 0.62, 'thres_mean_max': 0.44, 'thres_mean_mean': 0.45999999999999996}. Best is trial 13 with value: 78.29328834235334.\n",
      "1818\n",
      "[I 2024-03-04 15:50:34,527] Trial 49 finished with value: 78.4541157136315 and parameters: {'thres_for_max': 0.38, 'thres_for_mean': 0.72, 'thres_mean_max': 0.61, 'thres_mean_mean': 0.78}. Best is trial 49 with value: 78.4541157136315.\n",
      "1836\n",
      "[I 2024-03-04 15:50:45,471] Trial 50 finished with value: 72.5892044104474 and parameters: {'thres_for_max': 0.37, 'thres_for_mean': 0.71, 'thres_mean_max': 0.6, 'thres_mean_mean': 0.79}. Best is trial 49 with value: 78.4541157136315.\n",
      "1818\n",
      "[I 2024-03-04 15:50:56,311] Trial 51 finished with value: 76.52461115077097 and parameters: {'thres_for_max': 0.38, 'thres_for_mean': 0.72, 'thres_mean_max': 0.6, 'thres_mean_mean': 0.8}. Best is trial 49 with value: 78.4541157136315.\n",
      "1818\n",
      "[I 2024-03-04 15:51:07,625] Trial 52 finished with value: 79.50399434391741 and parameters: {'thres_for_max': 0.38, 'thres_for_mean': 0.71, 'thres_mean_max': 0.61, 'thres_mean_mean': 0.79}. Best is trial 52 with value: 79.50399434391741.\n",
      "1756\n",
      "[I 2024-03-04 15:51:18,950] Trial 53 finished with value: 53.592224857004624 and parameters: {'thres_for_max': 0.42, 'thres_for_mean': 0.64, 'thres_mean_max': 0.62, 'thres_mean_mean': 0.8400000000000001}. Best is trial 52 with value: 79.50399434391741.\n",
      "1808\n",
      "[I 2024-03-04 15:51:31,194] Trial 54 finished with value: 68.64684349975691 and parameters: {'thres_for_max': 0.39, 'thres_for_mean': 0.72, 'thres_mean_max': 0.6599999999999999, 'thres_mean_mean': 0.77}. Best is trial 52 with value: 79.50399434391741.\n",
      "1885\n",
      "[I 2024-03-04 15:51:42,322] Trial 55 finished with value: 72.20059464355006 and parameters: {'thres_for_max': 0.32, 'thres_for_mean': 0.75, 'thres_mean_max': 0.5800000000000001, 'thres_mean_mean': 0.8300000000000001}. Best is trial 52 with value: 79.50399434391741.\n",
      "1818\n",
      "[I 2024-03-04 15:51:55,313] Trial 56 finished with value: 71.93555316600823 and parameters: {'thres_for_max': 0.38, 'thres_for_mean': 0.59, 'thres_mean_max': 0.6799999999999999, 'thres_mean_mean': 0.8}. Best is trial 52 with value: 79.50399434391741.\n",
      "1045\n",
      "[I 2024-03-04 15:52:08,446] Trial 57 finished with value: 24.348825386085547 and parameters: {'thres_for_max': 0.8200000000000001, 'thres_for_mean': 0.6699999999999999, 'thres_mean_max': 0.8700000000000001, 'thres_mean_mean': 0.8700000000000001}. Best is trial 52 with value: 79.50399434391741.\n",
      "1776\n",
      "[I 2024-03-04 15:52:21,547] Trial 58 finished with value: 66.73841931151041 and parameters: {'thres_for_max': 0.41, 'thres_for_mean': 0.76, 'thres_mean_max': 0.8200000000000001, 'thres_mean_mean': 0.7}. Best is trial 52 with value: 79.50399434391741.\n",
      "1693\n",
      "[I 2024-03-04 15:52:32,492] Trial 59 finished with value: 66.2129257948266 and parameters: {'thres_for_max': 0.45999999999999996, 'thres_for_mean': 0.6799999999999999, 'thres_mean_max': 0.61, 'thres_mean_mean': 0.72}. Best is trial 52 with value: 79.50399434391741.\n",
      "1897\n",
      "[I 2024-03-04 15:52:43,319] Trial 60 finished with value: 67.03616757032752 and parameters: {'thres_for_max': 0.3, 'thres_for_mean': 0.63, 'thres_mean_max': 0.75, 'thres_mean_mean': 0.78}. Best is trial 52 with value: 79.50399434391741.\n",
      "1836\n",
      "[I 2024-03-04 15:52:53,925] Trial 61 finished with value: 73.39137901760236 and parameters: {'thres_for_max': 0.37, 'thres_for_mean': 0.71, 'thres_mean_max': 0.56, 'thres_mean_mean': 0.81}. Best is trial 52 with value: 79.50399434391741.\n",
      "1836\n",
      "[I 2024-03-04 15:53:07,564] Trial 62 finished with value: 66.18824522222192 and parameters: {'thres_for_max': 0.37, 'thres_for_mean': 0.72, 'thres_mean_max': 0.55, 'thres_mean_mean': 0.8200000000000001}. Best is trial 52 with value: 79.50399434391741.\n",
      "1226\n",
      "[I 2024-03-04 15:53:19,962] Trial 63 finished with value: 46.712722720484685 and parameters: {'thres_for_max': 0.62, 'thres_for_mean': 0.7, 'thres_mean_max': 0.5800000000000001, 'thres_mean_mean': 0.75}. Best is trial 52 with value: 79.50399434391741.\n",
      "1740\n",
      "[I 2024-03-04 15:53:31,394] Trial 64 finished with value: 62.5297921448746 and parameters: {'thres_for_max': 0.43, 'thres_for_mean': 0.76, 'thres_mean_max': 0.71, 'thres_mean_mean': 0.8600000000000001}. Best is trial 52 with value: 79.50399434391741.\n",
      "1808\n",
      "[I 2024-03-04 15:53:42,808] Trial 65 finished with value: 69.05320493318234 and parameters: {'thres_for_max': 0.39, 'thres_for_mean': 0.74, 'thres_mean_max': 0.6599999999999999, 'thres_mean_mean': 0.73}. Best is trial 52 with value: 79.50399434391741.\n",
      "1885\n",
      "[I 2024-03-04 15:53:54,429] Trial 66 finished with value: 61.455183521889005 and parameters: {'thres_for_max': 0.32, 'thres_for_mean': 0.81, 'thres_mean_max': 0.53, 'thres_mean_mean': 0.8}. Best is trial 52 with value: 79.50399434391741.\n",
      "1845\n",
      "[I 2024-03-04 15:54:06,307] Trial 67 finished with value: 62.24566144265223 and parameters: {'thres_for_max': 0.36, 'thres_for_mean': 0.6599999999999999, 'thres_mean_max': 0.63, 'thres_mean_mean': 0.8799999999999999}. Best is trial 52 with value: 79.50399434391741.\n",
      "1542\n",
      "[I 2024-03-04 15:54:18,084] Trial 68 finished with value: 71.2897697642091 and parameters: {'thres_for_max': 0.52, 'thres_for_mean': 0.77, 'thres_mean_max': 0.5700000000000001, 'thres_mean_mean': 0.76}. Best is trial 52 with value: 79.50399434391741.\n",
      "1724\n",
      "[I 2024-03-04 15:54:31,083] Trial 69 finished with value: 58.42315758879845 and parameters: {'thres_for_max': 0.44, 'thres_for_mean': 0.61, 'thres_mean_max': 0.8799999999999999, 'thres_mean_mean': 0.63}. Best is trial 52 with value: 79.50399434391741.\n",
      "1794\n",
      "[I 2024-03-04 15:54:43,923] Trial 70 finished with value: 66.53072506863994 and parameters: {'thres_for_max': 0.4, 'thres_for_mean': 0.73, 'thres_mean_max': 0.6, 'thres_mean_mean': 0.6599999999999999}. Best is trial 52 with value: 79.50399434391741.\n",
      "1845\n",
      "[I 2024-03-04 15:54:56,896] Trial 71 finished with value: 63.015535083339394 and parameters: {'thres_for_max': 0.36, 'thres_for_mean': 0.7, 'thres_mean_max': 0.6, 'thres_mean_mean': 0.78}. Best is trial 52 with value: 79.50399434391741.\n",
      "1650\n",
      "[I 2024-03-04 15:55:09,024] Trial 72 finished with value: 66.5842046535296 and parameters: {'thres_for_max': 0.48, 'thres_for_mean': 0.71, 'thres_mean_max': 0.62, 'thres_mean_mean': 0.8}. Best is trial 52 with value: 79.50399434391741.\n",
      "1818\n",
      "[I 2024-03-04 15:55:21,464] Trial 73 finished with value: 72.43294317201548 and parameters: {'thres_for_max': 0.38, 'thres_for_mean': 0.6799999999999999, 'thres_mean_max': 0.54, 'thres_mean_mean': 0.7}. Best is trial 52 with value: 79.50399434391741.\n",
      "1885\n",
      "[I 2024-03-04 15:55:34,581] Trial 74 finished with value: 65.63648132252835 and parameters: {'thres_for_max': 0.32, 'thres_for_mean': 0.74, 'thres_mean_max': 0.79, 'thres_mean_mean': 0.8200000000000001}. Best is trial 52 with value: 79.50399434391741.\n",
      "1869\n",
      "[I 2024-03-04 15:55:46,746] Trial 75 finished with value: 64.16703514752774 and parameters: {'thres_for_max': 0.33999999999999997, 'thres_for_mean': 0.44999999999999996, 'thres_mean_max': 0.64, 'thres_mean_mean': 0.74}. Best is trial 52 with value: 79.50399434391741.\n",
      "1845\n",
      "[I 2024-03-04 15:55:58,666] Trial 76 finished with value: 59.51284280007566 and parameters: {'thres_for_max': 0.36, 'thres_for_mean': 0.8, 'thres_mean_max': 0.6799999999999999, 'thres_mean_mean': 0.78}. Best is trial 52 with value: 79.50399434391741.\n",
      "1776\n",
      "[I 2024-03-04 15:56:13,730] Trial 77 finished with value: 60.65208130397181 and parameters: {'thres_for_max': 0.41, 'thres_for_mean': 0.56, 'thres_mean_max': 0.8400000000000001, 'thres_mean_mean': 0.6799999999999999}. Best is trial 52 with value: 79.50399434391741.\n",
      "1869\n",
      "[I 2024-03-04 15:56:29,272] Trial 78 finished with value: 85.54530846368054 and parameters: {'thres_for_max': 0.33999999999999997, 'thres_for_mean': 0.8200000000000001, 'thres_mean_max': 0.56, 'thres_mean_mean': 0.8500000000000001}. Best is trial 78 with value: 85.54530846368054.\n",
      "1891\n",
      "[I 2024-03-04 15:56:41,697] Trial 79 finished with value: 71.12985649864036 and parameters: {'thres_for_max': 0.31, 'thres_for_mean': 0.8700000000000001, 'thres_mean_max': 0.51, 'thres_mean_mean': 0.8600000000000001}. Best is trial 78 with value: 85.54530846368054.\n",
      "1869\n",
      "[I 2024-03-04 15:56:53,524] Trial 80 finished with value: 90.29157195120376 and parameters: {'thres_for_max': 0.33999999999999997, 'thres_for_mean': 0.8400000000000001, 'thres_mean_max': 0.5700000000000001, 'thres_mean_mean': 0.8500000000000001}. Best is trial 80 with value: 90.29157195120376.\n",
      "1869\n",
      "[I 2024-03-04 15:57:05,403] Trial 81 finished with value: 86.09908196809965 and parameters: {'thres_for_max': 0.33999999999999997, 'thres_for_mean': 0.8300000000000001, 'thres_mean_max': 0.56, 'thres_mean_mean': 0.8400000000000001}. Best is trial 80 with value: 90.29157195120376.\n",
      "1869\n",
      "[I 2024-03-04 15:57:18,234] Trial 82 finished with value: 86.1818359734212 and parameters: {'thres_for_max': 0.33999999999999997, 'thres_for_mean': 0.8500000000000001, 'thres_mean_max': 0.59, 'thres_mean_mean': 0.8999999999999999}. Best is trial 80 with value: 90.29157195120376.\n",
      "1869\n",
      "[I 2024-03-04 15:57:30,190] Trial 83 finished with value: 87.5486607167817 and parameters: {'thres_for_max': 0.33999999999999997, 'thres_for_mean': 0.8300000000000001, 'thres_mean_max': 0.5700000000000001, 'thres_mean_mean': 0.8899999999999999}. Best is trial 80 with value: 90.29157195120376.\n",
      "1877\n",
      "[I 2024-03-04 15:57:44,367] Trial 84 finished with value: 68.31801763287216 and parameters: {'thres_for_max': 0.32999999999999996, 'thres_for_mean': 0.8300000000000001, 'thres_mean_max': 0.55, 'thres_mean_mean': 0.8899999999999999}. Best is trial 80 with value: 90.29157195120376.\n",
      "1897\n",
      "[I 2024-03-04 15:57:56,902] Trial 85 finished with value: 82.3928095500655 and parameters: {'thres_for_max': 0.3, 'thres_for_mean': 0.8500000000000001, 'thres_mean_max': 0.5700000000000001, 'thres_mean_mean': 0.8999999999999999}. Best is trial 80 with value: 90.29157195120376.\n",
      "1897\n",
      "[I 2024-03-04 15:58:07,593] Trial 86 finished with value: 82.3928095500655 and parameters: {'thres_for_max': 0.3, 'thres_for_mean': 0.8500000000000001, 'thres_mean_max': 0.5700000000000001, 'thres_mean_mean': 0.8999999999999999}. Best is trial 80 with value: 90.29157195120376.\n",
      "1897\n",
      "[I 2024-03-04 15:58:18,473] Trial 87 finished with value: 67.01624036583897 and parameters: {'thres_for_max': 0.3, 'thres_for_mean': 0.8799999999999999, 'thres_mean_max': 0.52, 'thres_mean_mean': 0.8999999999999999}. Best is trial 80 with value: 90.29157195120376.\n",
      "1891\n",
      "[I 2024-03-04 15:58:29,297] Trial 88 finished with value: 83.205653031947 and parameters: {'thres_for_max': 0.31, 'thres_for_mean': 0.8999999999999999, 'thres_mean_max': 0.5700000000000001, 'thres_mean_mean': 0.8500000000000001}. Best is trial 80 with value: 90.29157195120376.\n",
      "1891\n",
      "[I 2024-03-04 15:58:41,141] Trial 89 finished with value: 84.85966033547696 and parameters: {'thres_for_max': 0.31, 'thres_for_mean': 0.8400000000000001, 'thres_mean_max': 0.5700000000000001, 'thres_mean_mean': 0.8500000000000001}. Best is trial 80 with value: 90.29157195120376.\n",
      "1891\n",
      "[I 2024-03-04 15:58:51,713] Trial 90 finished with value: 84.25608389227311 and parameters: {'thres_for_max': 0.31, 'thres_for_mean': 0.8500000000000001, 'thres_mean_max': 0.5700000000000001, 'thres_mean_mean': 0.8400000000000001}. Best is trial 80 with value: 90.29157195120376.\n",
      "1891\n",
      "[I 2024-03-04 15:59:04,088] Trial 91 finished with value: 86.18128234239953 and parameters: {'thres_for_max': 0.31, 'thres_for_mean': 0.8500000000000001, 'thres_mean_max': 0.5800000000000001, 'thres_mean_mean': 0.8400000000000001}. Best is trial 80 with value: 90.29157195120376.\n",
      "1891\n",
      "[I 2024-03-04 15:59:17,503] Trial 92 finished with value: 85.14190957024539 and parameters: {'thres_for_max': 0.31, 'thres_for_mean': 0.8999999999999999, 'thres_mean_max': 0.5800000000000001, 'thres_mean_mean': 0.8400000000000001}. Best is trial 80 with value: 90.29157195120376.\n",
      "1877\n",
      "[I 2024-03-04 15:59:30,350] Trial 93 finished with value: 68.06372144264064 and parameters: {'thres_for_max': 0.32999999999999996, 'thres_for_mean': 0.8999999999999999, 'thres_mean_max': 0.54, 'thres_mean_mean': 0.8500000000000001}. Best is trial 80 with value: 90.29157195120376.\n",
      "1853\n",
      "[I 2024-03-04 15:59:41,825] Trial 94 finished with value: 73.23595107935786 and parameters: {'thres_for_max': 0.35, 'thres_for_mean': 0.8700000000000001, 'thres_mean_max': 0.59, 'thres_mean_mean': 0.8799999999999999}. Best is trial 80 with value: 90.29157195120376.\n",
      "1891\n",
      "[I 2024-03-04 15:59:55,152] Trial 95 finished with value: 80.75236983479566 and parameters: {'thres_for_max': 0.31, 'thres_for_mean': 0.8899999999999999, 'thres_mean_max': 0.56, 'thres_mean_mean': 0.8400000000000001}. Best is trial 80 with value: 90.29157195120376.\n",
      "1877\n",
      "[I 2024-03-04 16:00:06,446] Trial 96 finished with value: 77.51478344927703 and parameters: {'thres_for_max': 0.32999999999999996, 'thres_for_mean': 0.8400000000000001, 'thres_mean_max': 0.59, 'thres_mean_mean': 0.8500000000000001}. Best is trial 80 with value: 90.29157195120376.\n",
      "1891\n",
      "[I 2024-03-04 16:00:18,947] Trial 97 finished with value: 68.37478533477889 and parameters: {'thres_for_max': 0.31, 'thres_for_mean': 0.8200000000000001, 'thres_mean_max': 0.53, 'thres_mean_mean': 0.8799999999999999}. Best is trial 80 with value: 90.29157195120376.\n",
      "1869\n",
      "[I 2024-03-04 16:00:33,395] Trial 98 finished with value: 78.53969853812893 and parameters: {'thres_for_max': 0.33999999999999997, 'thres_for_mean': 0.8600000000000001, 'thres_mean_max': 0.5, 'thres_mean_mean': 0.8300000000000001}. Best is trial 80 with value: 90.29157195120376.\n",
      "1853\n",
      "[I 2024-03-04 16:00:47,898] Trial 99 finished with value: 76.45287880093332 and parameters: {'thres_for_max': 0.35, 'thres_for_mean': 0.8799999999999999, 'thres_mean_max': 0.5800000000000001, 'thres_mean_mean': 0.8700000000000001}. Best is trial 80 with value: 90.29157195120376.\n",
      "1891\n",
      "[I 2024-03-04 16:00:59,999] Trial 100 finished with value: 73.35421036630598 and parameters: {'thres_for_max': 0.31, 'thres_for_mean': 0.8400000000000001, 'thres_mean_max': 0.54, 'thres_mean_mean': 0.8500000000000001}. Best is trial 80 with value: 90.29157195120376.\n",
      "1897\n",
      "[I 2024-03-04 16:01:12,371] Trial 101 finished with value: 82.3928095500655 and parameters: {'thres_for_max': 0.3, 'thres_for_mean': 0.8500000000000001, 'thres_mean_max': 0.5700000000000001, 'thres_mean_mean': 0.8700000000000001}. Best is trial 80 with value: 90.29157195120376.\n",
      "1877\n",
      "[I 2024-03-04 16:01:24,706] Trial 102 finished with value: 69.07732768376168 and parameters: {'thres_for_max': 0.32999999999999996, 'thres_for_mean': 0.8999999999999999, 'thres_mean_max': 0.55, 'thres_mean_mean': 0.8899999999999999}. Best is trial 80 with value: 90.29157195120376.\n",
      "1885\n",
      "[I 2024-03-04 16:01:35,949] Trial 103 finished with value: 76.6608365328222 and parameters: {'thres_for_max': 0.32, 'thres_for_mean': 0.8600000000000001, 'thres_mean_max': 0.56, 'thres_mean_mean': 0.8300000000000001}. Best is trial 80 with value: 90.29157195120376.\n",
      "1853\n",
      "[I 2024-03-04 16:01:47,736] Trial 104 finished with value: 71.28647515810466 and parameters: {'thres_for_max': 0.35, 'thres_for_mean': 0.8300000000000001, 'thres_mean_max': 0.62, 'thres_mean_mean': 0.8899999999999999}. Best is trial 80 with value: 90.29157195120376.\n",
      "1891\n",
      "[I 2024-03-04 16:02:00,870] Trial 105 finished with value: 87.72349655163467 and parameters: {'thres_for_max': 0.31, 'thres_for_mean': 0.8700000000000001, 'thres_mean_max': 0.5800000000000001, 'thres_mean_mean': 0.8600000000000001}. Best is trial 80 with value: 90.29157195120376.\n",
      "797\n",
      "[I 2024-03-04 16:02:13,427] Trial 106 finished with value: 13.996885621720255 and parameters: {'thres_for_max': 0.8799999999999999, 'thres_for_mean': 0.8799999999999999, 'thres_mean_max': 0.59, 'thres_mean_mean': 0.8600000000000001}. Best is trial 80 with value: 90.29157195120376.\n",
      "1885\n",
      "[I 2024-03-04 16:02:25,310] Trial 107 finished with value: 60.64938251255767 and parameters: {'thres_for_max': 0.32, 'thres_for_mean': 0.8200000000000001, 'thres_mean_max': 0.52, 'thres_mean_mean': 0.8200000000000001}. Best is trial 80 with value: 90.29157195120376.\n",
      "1845\n",
      "[I 2024-03-04 16:02:36,767] Trial 108 finished with value: 66.74437141608588 and parameters: {'thres_for_max': 0.36, 'thres_for_mean': 0.8, 'thres_mean_max': 0.5800000000000001, 'thres_mean_mean': 0.8400000000000001}. Best is trial 80 with value: 90.29157195120376.\n",
      "1853\n",
      "[I 2024-03-04 16:02:49,115] Trial 109 finished with value: 72.98114721692319 and parameters: {'thres_for_max': 0.35, 'thres_for_mean': 0.8700000000000001, 'thres_mean_max': 0.63, 'thres_mean_mean': 0.8700000000000001}. Best is trial 80 with value: 90.29157195120376.\n",
      "1877\n",
      "[I 2024-03-04 16:03:00,898] Trial 110 finished with value: 77.5099397445048 and parameters: {'thres_for_max': 0.32999999999999996, 'thres_for_mean': 0.8899999999999999, 'thres_mean_max': 0.56, 'thres_mean_mean': 0.8200000000000001}. Best is trial 80 with value: 90.29157195120376.\n",
      "1891\n",
      "[I 2024-03-04 16:03:12,099] Trial 111 finished with value: 84.25608389227311 and parameters: {'thres_for_max': 0.31, 'thres_for_mean': 0.8500000000000001, 'thres_mean_max': 0.5700000000000001, 'thres_mean_mean': 0.8500000000000001}. Best is trial 80 with value: 90.29157195120376.\n",
      "1891\n",
      "[I 2024-03-04 16:03:24,237] Trial 112 finished with value: 81.70038433470319 and parameters: {'thres_for_max': 0.31, 'thres_for_mean': 0.8200000000000001, 'thres_mean_max': 0.61, 'thres_mean_mean': 0.8500000000000001}. Best is trial 80 with value: 90.29157195120376.\n",
      "1877\n",
      "[I 2024-03-04 16:03:35,821] Trial 113 finished with value: 77.51478344927703 and parameters: {'thres_for_max': 0.32999999999999996, 'thres_for_mean': 0.8400000000000001, 'thres_mean_max': 0.59, 'thres_mean_mean': 0.8400000000000001}. Best is trial 80 with value: 90.29157195120376.\n",
      "1891\n",
      "[I 2024-03-04 16:03:46,407] Trial 114 finished with value: 73.76511100609278 and parameters: {'thres_for_max': 0.31, 'thres_for_mean': 0.8600000000000001, 'thres_mean_max': 0.54, 'thres_mean_mean': 0.8799999999999999}. Best is trial 80 with value: 90.29157195120376.\n",
      "1869\n",
      "[I 2024-03-04 16:03:58,416] Trial 115 finished with value: 72.92225677996227 and parameters: {'thres_for_max': 0.33999999999999997, 'thres_for_mean': 0.8799999999999999, 'thres_mean_max': 0.52, 'thres_mean_mean': 0.8600000000000001}. Best is trial 80 with value: 90.29157195120376.\n",
      "1897\n",
      "[I 2024-03-04 16:04:09,870] Trial 116 finished with value: 80.81809931426811 and parameters: {'thres_for_max': 0.3, 'thres_for_mean': 0.8999999999999999, 'thres_mean_max': 0.5700000000000001, 'thres_mean_mean': 0.81}. Best is trial 80 with value: 90.29157195120376.\n",
      "1382\n",
      "[I 2024-03-04 16:04:21,175] Trial 117 finished with value: 58.94291781118839 and parameters: {'thres_for_max': 0.5700000000000001, 'thres_for_mean': 0.8, 'thres_mean_max': 0.55, 'thres_mean_mean': 0.8300000000000001}. Best is trial 80 with value: 90.29157195120376.\n",
      "1845\n",
      "[I 2024-03-04 16:04:33,386] Trial 118 finished with value: 67.01067959591353 and parameters: {'thres_for_max': 0.36, 'thres_for_mean': 0.8400000000000001, 'thres_mean_max': 0.6, 'thres_mean_mean': 0.8700000000000001}. Best is trial 80 with value: 90.29157195120376.\n",
      "1135\n",
      "[I 2024-03-04 16:04:44,317] Trial 119 finished with value: 33.29884000289743 and parameters: {'thres_for_max': 0.78, 'thres_for_mean': 0.8600000000000001, 'thres_mean_max': 0.49, 'thres_mean_mean': 0.8500000000000001}. Best is trial 80 with value: 90.29157195120376.\n",
      "1055\n",
      "[I 2024-03-04 16:04:55,220] Trial 120 finished with value: 33.61531819423586 and parameters: {'thres_for_max': 0.6699999999999999, 'thres_for_mean': 0.8300000000000001, 'thres_mean_max': 0.5800000000000001, 'thres_mean_mean': 0.8899999999999999}. Best is trial 80 with value: 90.29157195120376.\n",
      "1897\n",
      "[I 2024-03-04 16:05:06,500] Trial 121 finished with value: 83.87564053370615 and parameters: {'thres_for_max': 0.3, 'thres_for_mean': 0.8700000000000001, 'thres_mean_max': 0.5700000000000001, 'thres_mean_mean': 0.8899999999999999}. Best is trial 80 with value: 90.29157195120376.\n",
      "1885\n",
      "[I 2024-03-04 16:05:17,520] Trial 122 finished with value: 75.78484483005572 and parameters: {'thres_for_max': 0.32, 'thres_for_mean': 0.8500000000000001, 'thres_mean_max': 0.56, 'thres_mean_mean': 0.8600000000000001}. Best is trial 80 with value: 90.29157195120376.\n",
      "1885\n",
      "[I 2024-03-04 16:05:28,678] Trial 123 finished with value: 78.61846146086579 and parameters: {'thres_for_max': 0.32, 'thres_for_mean': 0.8700000000000001, 'thres_mean_max': 0.61, 'thres_mean_mean': 0.8799999999999999}. Best is trial 80 with value: 90.29157195120376.\n",
      "1869\n",
      "[I 2024-03-04 16:05:39,475] Trial 124 finished with value: 85.88957788012414 and parameters: {'thres_for_max': 0.33999999999999997, 'thres_for_mean': 0.8899999999999999, 'thres_mean_max': 0.59, 'thres_mean_mean': 0.8999999999999999}. Best is trial 80 with value: 90.29157195120376.\n",
      "1869\n",
      "[I 2024-03-04 16:05:51,419] Trial 125 finished with value: 83.54716478814994 and parameters: {'thres_for_max': 0.33999999999999997, 'thres_for_mean': 0.8200000000000001, 'thres_mean_max': 0.59, 'thres_mean_mean': 0.8999999999999999}. Best is trial 80 with value: 90.29157195120376.\n",
      "1836\n",
      "[I 2024-03-04 16:06:05,603] Trial 126 finished with value: 77.2498908336447 and parameters: {'thres_for_max': 0.37, 'thres_for_mean': 0.8799999999999999, 'thres_mean_max': 0.62, 'thres_mean_mean': 0.8700000000000001}. Best is trial 80 with value: 90.29157195120376.\n",
      "1853\n",
      "[I 2024-03-04 16:06:17,501] Trial 127 finished with value: 71.28380202231925 and parameters: {'thres_for_max': 0.35, 'thres_for_mean': 0.8500000000000001, 'thres_mean_max': 0.65, 'thres_mean_mean': 0.8899999999999999}. Best is trial 80 with value: 90.29157195120376.\n",
      "1877\n",
      "[I 2024-03-04 16:06:28,586] Trial 128 finished with value: 64.09215375200392 and parameters: {'thres_for_max': 0.32999999999999996, 'thres_for_mean': 0.81, 'thres_mean_max': 0.53, 'thres_mean_mean': 0.8300000000000001}. Best is trial 80 with value: 90.29157195120376.\n",
      "1897\n",
      "[I 2024-03-04 16:06:40,223] Trial 129 finished with value: 72.4432218224696 and parameters: {'thres_for_max': 0.3, 'thres_for_mean': 0.8400000000000001, 'thres_mean_max': 0.55, 'thres_mean_mean': 0.8799999999999999}. Best is trial 80 with value: 90.29157195120376.\n",
      "1808\n",
      "[I 2024-03-04 16:06:54,180] Trial 130 finished with value: 73.30899100064644 and parameters: {'thres_for_max': 0.39, 'thres_for_mean': 0.79, 'thres_mean_max': 0.5800000000000001, 'thres_mean_mean': 0.8400000000000001}. Best is trial 80 with value: 90.29157195120376.\n",
      "1869\n",
      "[I 2024-03-04 16:07:06,664] Trial 131 finished with value: 83.54716478814994 and parameters: {'thres_for_max': 0.33999999999999997, 'thres_for_mean': 0.8200000000000001, 'thres_mean_max': 0.59, 'thres_mean_mean': 0.8999999999999999}. Best is trial 80 with value: 90.29157195120376.\n",
      "1869\n",
      "[I 2024-03-04 16:07:18,498] Trial 132 finished with value: 87.10326734298523 and parameters: {'thres_for_max': 0.33999999999999997, 'thres_for_mean': 0.8600000000000001, 'thres_mean_max': 0.6, 'thres_mean_mean': 0.8999999999999999}. Best is trial 80 with value: 90.29157195120376.\n",
      "1885\n",
      "[I 2024-03-04 16:07:29,709] Trial 133 finished with value: 74.7033714727681 and parameters: {'thres_for_max': 0.32, 'thres_for_mean': 0.8600000000000001, 'thres_mean_max': 0.6, 'thres_mean_mean': 0.8600000000000001}. Best is trial 80 with value: 90.29157195120376.\n",
      "1845\n",
      "[I 2024-03-04 16:07:41,637] Trial 134 finished with value: 68.02021462378566 and parameters: {'thres_for_max': 0.36, 'thres_for_mean': 0.8899999999999999, 'thres_mean_max': 0.5700000000000001, 'thres_mean_mean': 0.81}. Best is trial 80 with value: 90.29157195120376.\n",
      "1891\n",
      "[I 2024-03-04 16:07:53,087] Trial 135 finished with value: 83.79900926174648 and parameters: {'thres_for_max': 0.31, 'thres_for_mean': 0.8600000000000001, 'thres_mean_max': 0.56, 'thres_mean_mean': 0.8999999999999999}. Best is trial 80 with value: 90.29157195120376.\n",
      "1877\n",
      "[I 2024-03-04 16:08:04,548] Trial 136 finished with value: 80.4329951946284 and parameters: {'thres_for_max': 0.32999999999999996, 'thres_for_mean': 0.8799999999999999, 'thres_mean_max': 0.61, 'thres_mean_mean': 0.8799999999999999}. Best is trial 80 with value: 90.29157195120376.\n",
      "1853\n",
      "[I 2024-03-04 16:08:15,115] Trial 137 finished with value: 72.29041544259093 and parameters: {'thres_for_max': 0.35, 'thres_for_mean': 0.8400000000000001, 'thres_mean_max': 0.63, 'thres_mean_mean': 0.8700000000000001}. Best is trial 80 with value: 90.29157195120376.\n",
      "1897\n",
      "[I 2024-03-04 16:08:26,439] Trial 138 finished with value: 72.42132165002992 and parameters: {'thres_for_max': 0.3, 'thres_for_mean': 0.8700000000000001, 'thres_mean_max': 0.54, 'thres_mean_mean': 0.8899999999999999}. Best is trial 80 with value: 90.29157195120376.\n",
      "1836\n",
      "[I 2024-03-04 16:08:38,648] Trial 139 finished with value: 79.50430431319032 and parameters: {'thres_for_max': 0.37, 'thres_for_mean': 0.8300000000000001, 'thres_mean_max': 0.5800000000000001, 'thres_mean_mean': 0.8500000000000001}. Best is trial 80 with value: 90.29157195120376.\n",
      "1869\n",
      "[I 2024-03-04 16:08:50,167] Trial 140 finished with value: 88.36835768729625 and parameters: {'thres_for_max': 0.33999999999999997, 'thres_for_mean': 0.8500000000000001, 'thres_mean_max': 0.56, 'thres_mean_mean': 0.8400000000000001}. Best is trial 80 with value: 90.29157195120376.\n",
      "1869\n",
      "[I 2024-03-04 16:09:02,144] Trial 141 finished with value: 90.9629617315325 and parameters: {'thres_for_max': 0.33999999999999997, 'thres_for_mean': 0.8700000000000001, 'thres_mean_max': 0.5700000000000001, 'thres_mean_mean': 0.8400000000000001}. Best is trial 141 with value: 90.9629617315325.\n",
      "1869\n",
      "[I 2024-03-04 16:09:13,875] Trial 142 finished with value: 76.94693162904088 and parameters: {'thres_for_max': 0.33999999999999997, 'thres_for_mean': 0.8899999999999999, 'thres_mean_max': 0.55, 'thres_mean_mean': 0.8200000000000001}. Best is trial 141 with value: 90.9629617315325.\n",
      "1885\n",
      "[I 2024-03-04 16:09:25,410] Trial 143 finished with value: 73.71080735448076 and parameters: {'thres_for_max': 0.32, 'thres_for_mean': 0.8500000000000001, 'thres_mean_max': 0.6, 'thres_mean_mean': 0.8400000000000001}. Best is trial 141 with value: 90.9629617315325.\n",
      "1229\n",
      "[I 2024-03-04 16:09:36,678] Trial 144 finished with value: 47.06726309100772 and parameters: {'thres_for_max': 0.62, 'thres_for_mean': 0.8300000000000001, 'thres_mean_max': 0.56, 'thres_mean_mean': 0.8300000000000001}. Best is trial 141 with value: 90.9629617315325.\n",
      "1845\n",
      "[I 2024-03-04 16:09:48,976] Trial 145 finished with value: 68.35332754282675 and parameters: {'thres_for_max': 0.36, 'thres_for_mean': 0.81, 'thres_mean_max': 0.5800000000000001, 'thres_mean_mean': 0.8600000000000001}. Best is trial 141 with value: 90.9629617315325.\n",
      "1869\n",
      "[I 2024-03-04 16:10:01,809] Trial 146 finished with value: 77.78206448063649 and parameters: {'thres_for_max': 0.33999999999999997, 'thres_for_mean': 0.8600000000000001, 'thres_mean_max': 0.54, 'thres_mean_mean': 0.8}. Best is trial 141 with value: 90.9629617315325.\n",
      "1891\n",
      "[I 2024-03-04 16:10:13,767] Trial 147 finished with value: 63.68381995848032 and parameters: {'thres_for_max': 0.32999999999999996, 'thres_for_mean': 0.31, 'thres_mean_max': 0.59, 'thres_mean_mean': 0.8200000000000001}. Best is trial 141 with value: 90.9629617315325.\n",
      "1818\n",
      "[I 2024-03-04 16:10:25,815] Trial 148 finished with value: 69.0243647961505 and parameters: {'thres_for_max': 0.38, 'thres_for_mean': 0.8899999999999999, 'thres_mean_max': 0.51, 'thres_mean_mean': 0.8400000000000001}. Best is trial 141 with value: 90.9629617315325.\n",
      "1853\n",
      "[I 2024-03-04 16:10:37,510] Trial 149 finished with value: 72.92185073934061 and parameters: {'thres_for_max': 0.35, 'thres_for_mean': 0.8500000000000001, 'thres_mean_max': 0.62, 'thres_mean_mean': 0.8600000000000001}. Best is trial 141 with value: 90.9629617315325.\n",
      "1885\n",
      "[I 2024-03-04 16:10:48,363] Trial 150 finished with value: 76.4927690091133 and parameters: {'thres_for_max': 0.32, 'thres_for_mean': 0.8999999999999999, 'thres_mean_max': 0.5700000000000001, 'thres_mean_mean': 0.8799999999999999}. Best is trial 141 with value: 90.9629617315325.\n",
      "1891\n",
      "[I 2024-03-04 16:10:59,504] Trial 151 finished with value: 84.12296758443574 and parameters: {'thres_for_max': 0.31, 'thres_for_mean': 0.8700000000000001, 'thres_mean_max': 0.56, 'thres_mean_mean': 0.8700000000000001}. Best is trial 141 with value: 90.9629617315325.\n",
      "1891\n",
      "[I 2024-03-04 16:11:09,965] Trial 152 finished with value: 71.7494161951859 and parameters: {'thres_for_max': 0.31, 'thres_for_mean': 0.8700000000000001, 'thres_mean_max': 0.53, 'thres_mean_mean': 0.8500000000000001}. Best is trial 141 with value: 90.9629617315325.\n",
      "1877\n",
      "[I 2024-03-04 16:11:20,750] Trial 153 finished with value: 79.51033016483156 and parameters: {'thres_for_max': 0.32999999999999996, 'thres_for_mean': 0.8400000000000001, 'thres_mean_max': 0.56, 'thres_mean_mean': 0.8700000000000001}. Best is trial 141 with value: 90.9629617315325.\n",
      "1869\n",
      "[I 2024-03-04 16:11:31,658] Trial 154 finished with value: 85.73424556785349 and parameters: {'thres_for_max': 0.33999999999999997, 'thres_for_mean': 0.8799999999999999, 'thres_mean_max': 0.6, 'thres_mean_mean': 0.8400000000000001}. Best is trial 141 with value: 90.9629617315325.\n",
      "1836\n",
      "[I 2024-03-04 16:11:42,952] Trial 155 finished with value: 76.98666483885492 and parameters: {'thres_for_max': 0.37, 'thres_for_mean': 0.8799999999999999, 'thres_mean_max': 0.6, 'thres_mean_mean': 0.8300000000000001}. Best is trial 141 with value: 90.9629617315325.\n",
      "1853\n",
      "[I 2024-03-04 16:11:53,947] Trial 156 finished with value: 75.84216958769234 and parameters: {'thres_for_max': 0.35, 'thres_for_mean': 0.8500000000000001, 'thres_mean_max': 0.5800000000000001, 'thres_mean_mean': 0.81}. Best is trial 141 with value: 90.9629617315325.\n",
      "1869\n",
      "[I 2024-03-04 16:12:06,014] Trial 157 finished with value: 88.06994286766303 and parameters: {'thres_for_max': 0.33999999999999997, 'thres_for_mean': 0.8300000000000001, 'thres_mean_max': 0.61, 'thres_mean_mean': 0.8500000000000001}. Best is trial 141 with value: 90.9629617315325.\n",
      "1808\n",
      "[I 2024-03-04 16:12:17,314] Trial 158 finished with value: 75.02796930677087 and parameters: {'thres_for_max': 0.39, 'thres_for_mean': 0.8200000000000001, 'thres_mean_max': 0.61, 'thres_mean_mean': 0.8400000000000001}. Best is trial 141 with value: 90.9629617315325.\n",
      "1845\n",
      "[I 2024-03-04 16:12:30,882] Trial 159 finished with value: 62.12610832903573 and parameters: {'thres_for_max': 0.36, 'thres_for_mean': 0.78, 'thres_mean_max': 0.59, 'thres_mean_mean': 0.8200000000000001}. Best is trial 141 with value: 90.9629617315325.\n",
      "1869\n",
      "[I 2024-03-04 16:12:41,802] Trial 160 finished with value: 82.19784674643569 and parameters: {'thres_for_max': 0.33999999999999997, 'thres_for_mean': 0.81, 'thres_mean_max': 0.64, 'thres_mean_mean': 0.6}. Best is trial 141 with value: 90.9629617315325.\n",
      "1877\n",
      "[I 2024-03-04 16:12:52,856] Trial 161 finished with value: 75.28362737834371 and parameters: {'thres_for_max': 0.32999999999999996, 'thres_for_mean': 0.8300000000000001, 'thres_mean_max': 0.59, 'thres_mean_mean': 0.8500000000000001}. Best is trial 141 with value: 90.9629617315325.\n",
      "1885\n",
      "[I 2024-03-04 16:13:04,244] Trial 162 finished with value: 78.31839034012111 and parameters: {'thres_for_max': 0.32, 'thres_for_mean': 0.8600000000000001, 'thres_mean_max': 0.61, 'thres_mean_mean': 0.8600000000000001}. Best is trial 141 with value: 90.9629617315325.\n",
      "1869\n",
      "[I 2024-03-04 16:13:16,278] Trial 163 finished with value: 77.83670676095004 and parameters: {'thres_for_max': 0.33999999999999997, 'thres_for_mean': 0.8400000000000001, 'thres_mean_max': 0.31, 'thres_mean_mean': 0.8400000000000001}. Best is trial 141 with value: 90.9629617315325.\n",
      "1877\n",
      "[I 2024-03-04 16:13:28,117] Trial 164 finished with value: 57.13830321266444 and parameters: {'thres_for_max': 0.35, 'thres_for_mean': 0.32999999999999996, 'thres_mean_max': 0.55, 'thres_mean_mean': 0.8799999999999999}. Best is trial 141 with value: 90.9629617315325.\n",
      "1885\n",
      "[I 2024-03-04 16:13:40,457] Trial 165 finished with value: 75.58207150308826 and parameters: {'thres_for_max': 0.32, 'thres_for_mean': 0.8899999999999999, 'thres_mean_max': 0.5700000000000001, 'thres_mean_mean': 0.8500000000000001}. Best is trial 141 with value: 90.9629617315325.\n",
      "1897\n",
      "[I 2024-03-04 16:13:52,325] Trial 166 finished with value: 84.27543335501424 and parameters: {'thres_for_max': 0.3, 'thres_for_mean': 0.8500000000000001, 'thres_mean_max': 0.5800000000000001, 'thres_mean_mean': 0.8999999999999999}. Best is trial 141 with value: 90.9629617315325.\n",
      "1897\n",
      "[I 2024-03-04 16:14:03,830] Trial 167 finished with value: 56.70956991577845 and parameters: {'thres_for_max': 0.3, 'thres_for_mean': 0.4, 'thres_mean_max': 0.62, 'thres_mean_mean': 0.8999999999999999}. Best is trial 141 with value: 90.9629617315325.\n",
      "1877\n",
      "[I 2024-03-04 16:14:14,822] Trial 168 finished with value: 76.7311073431591 and parameters: {'thres_for_max': 0.32999999999999996, 'thres_for_mean': 0.8799999999999999, 'thres_mean_max': 0.6, 'thres_mean_mean': 0.8999999999999999}. Best is trial 141 with value: 90.9629617315325.\n",
      "1845\n",
      "[I 2024-03-04 16:14:29,119] Trial 169 finished with value: 65.07967662468836 and parameters: {'thres_for_max': 0.36, 'thres_for_mean': 0.8300000000000001, 'thres_mean_max': 0.63, 'thres_mean_mean': 0.8700000000000001}. Best is trial 141 with value: 90.9629617315325.\n",
      "1897\n",
      "[I 2024-03-04 16:14:42,996] Trial 170 finished with value: 79.12204534682131 and parameters: {'thres_for_max': 0.3, 'thres_for_mean': 0.8, 'thres_mean_max': 0.5800000000000001, 'thres_mean_mean': 0.8899999999999999}. Best is trial 141 with value: 90.9629617315325.\n",
      "1891\n",
      "[I 2024-03-04 16:14:57,634] Trial 171 finished with value: 86.18128234239953 and parameters: {'thres_for_max': 0.31, 'thres_for_mean': 0.8500000000000001, 'thres_mean_max': 0.5800000000000001, 'thres_mean_mean': 0.8300000000000001}. Best is trial 141 with value: 90.9629617315325.\n",
      "1885\n",
      "[I 2024-03-04 16:15:09,305] Trial 172 finished with value: 75.43952790938913 and parameters: {'thres_for_max': 0.32, 'thres_for_mean': 0.8700000000000001, 'thres_mean_max': 0.59, 'thres_mean_mean': 0.8300000000000001}. Best is trial 141 with value: 90.9629617315325.\n",
      "1869\n",
      "[I 2024-03-04 16:15:21,477] Trial 173 finished with value: 90.90010899103763 and parameters: {'thres_for_max': 0.33999999999999997, 'thres_for_mean': 0.8600000000000001, 'thres_mean_max': 0.5700000000000001, 'thres_mean_mean': 0.8799999999999999}. Best is trial 141 with value: 90.9629617315325.\n",
      "1869\n",
      "[I 2024-03-04 16:15:32,693] Trial 174 finished with value: 79.1176997275444 and parameters: {'thres_for_max': 0.33999999999999997, 'thres_for_mean': 0.8600000000000001, 'thres_mean_max': 0.55, 'thres_mean_mean': 0.8799999999999999}. Best is trial 141 with value: 90.9629617315325.\n",
      "1836\n",
      "[I 2024-03-04 16:15:44,827] Trial 175 finished with value: 76.35622583931439 and parameters: {'thres_for_max': 0.37, 'thres_for_mean': 0.8999999999999999, 'thres_mean_max': 0.6, 'thres_mean_mean': 0.8600000000000001}. Best is trial 141 with value: 90.9629617315325.\n",
      "1853\n",
      "[I 2024-03-04 16:15:56,680] Trial 176 finished with value: 77.09238495942238 and parameters: {'thres_for_max': 0.35, 'thres_for_mean': 0.8400000000000001, 'thres_mean_max': 0.5800000000000001, 'thres_mean_mean': 0.8899999999999999}. Best is trial 141 with value: 90.9629617315325.\n",
      "1869\n",
      "[I 2024-03-04 16:16:12,704] Trial 177 finished with value: 78.00947495546676 and parameters: {'thres_for_max': 0.33999999999999997, 'thres_for_mean': 0.8799999999999999, 'thres_mean_max': 0.55, 'thres_mean_mean': 0.8700000000000001}. Best is trial 141 with value: 90.9629617315325.\n",
      "1877\n",
      "[I 2024-03-04 16:16:24,431] Trial 178 finished with value: 77.81300611108462 and parameters: {'thres_for_max': 0.32999999999999996, 'thres_for_mean': 0.8200000000000001, 'thres_mean_max': 0.5700000000000001, 'thres_mean_mean': 0.8999999999999999}. Best is trial 141 with value: 90.9629617315325.\n",
      "1885\n",
      "[I 2024-03-04 16:16:35,813] Trial 179 finished with value: 74.94498793845227 and parameters: {'thres_for_max': 0.32, 'thres_for_mean': 0.8600000000000001, 'thres_mean_max': 0.59, 'thres_mean_mean': 0.8799999999999999}. Best is trial 141 with value: 90.9629617315325.\n",
      "1853\n",
      "[I 2024-03-04 16:16:48,112] Trial 180 finished with value: 75.23924143950796 and parameters: {'thres_for_max': 0.35, 'thres_for_mean': 0.8400000000000001, 'thres_mean_max': 0.61, 'thres_mean_mean': 0.81}. Best is trial 141 with value: 90.9629617315325.\n",
      "1891\n",
      "[I 2024-03-04 16:16:59,269] Trial 181 finished with value: 83.02726492659436 and parameters: {'thres_for_max': 0.31, 'thres_for_mean': 0.8500000000000001, 'thres_mean_max': 0.56, 'thres_mean_mean': 0.8300000000000001}. Best is trial 141 with value: 90.9629617315325.\n",
      "1891\n",
      "[I 2024-03-04 16:17:10,002] Trial 182 finished with value: 85.77244839589842 and parameters: {'thres_for_max': 0.31, 'thres_for_mean': 0.8700000000000001, 'thres_mean_max': 0.5700000000000001, 'thres_mean_mean': 0.8600000000000001}. Best is trial 141 with value: 90.9629617315325.\n",
      "1897\n",
      "[I 2024-03-04 16:17:20,719] Trial 183 finished with value: 85.78354239304389 and parameters: {'thres_for_max': 0.3, 'thres_for_mean': 0.8700000000000001, 'thres_mean_max': 0.5800000000000001, 'thres_mean_mean': 0.8600000000000001}. Best is trial 141 with value: 90.9629617315325.\n",
      "1877\n",
      "[I 2024-03-04 16:17:31,510] Trial 184 finished with value: 65.97365584786832 and parameters: {'thres_for_max': 0.32999999999999996, 'thres_for_mean': 0.8700000000000001, 'thres_mean_max': 0.54, 'thres_mean_mean': 0.5800000000000001}. Best is trial 141 with value: 90.9629617315325.\n",
      "1885\n",
      "[I 2024-03-04 16:17:42,024] Trial 185 finished with value: 76.79821495089547 and parameters: {'thres_for_max': 0.32, 'thres_for_mean': 0.8799999999999999, 'thres_mean_max': 0.5700000000000001, 'thres_mean_mean': 0.8600000000000001}. Best is trial 141 with value: 90.9629617315325.\n",
      "1869\n",
      "[I 2024-03-04 16:17:52,408] Trial 186 finished with value: 84.80817256585529 and parameters: {'thres_for_max': 0.33999999999999997, 'thres_for_mean': 0.8999999999999999, 'thres_mean_max': 0.6, 'thres_mean_mean': 0.8500000000000001}. Best is trial 141 with value: 90.9629617315325.\n",
      "1891\n",
      "[I 2024-03-04 16:18:03,100] Trial 187 finished with value: 80.42961320622217 and parameters: {'thres_for_max': 0.31, 'thres_for_mean': 0.8899999999999999, 'thres_mean_max': 0.59, 'thres_mean_mean': 0.8600000000000001}. Best is trial 141 with value: 90.9629617315325.\n",
      "1845\n",
      "[I 2024-03-04 16:18:13,442] Trial 188 finished with value: 69.5845055720392 and parameters: {'thres_for_max': 0.36, 'thres_for_mean': 0.8700000000000001, 'thres_mean_max': 0.56, 'thres_mean_mean': 0.8300000000000001}. Best is trial 141 with value: 90.9629617315325.\n",
      "1877\n",
      "[I 2024-03-04 16:18:24,867] Trial 189 finished with value: 68.07679247650393 and parameters: {'thres_for_max': 0.32999999999999996, 'thres_for_mean': 0.8600000000000001, 'thres_mean_max': 0.53, 'thres_mean_mean': 0.8799999999999999}. Best is trial 141 with value: 90.9629617315325.\n",
      "1897\n",
      "[I 2024-03-04 16:18:36,605] Trial 190 finished with value: 84.88117439034261 and parameters: {'thres_for_max': 0.3, 'thres_for_mean': 0.8400000000000001, 'thres_mean_max': 0.5800000000000001, 'thres_mean_mean': 0.8400000000000001}. Best is trial 141 with value: 90.9629617315325.\n",
      "1897\n",
      "[I 2024-03-04 16:18:47,328] Trial 191 finished with value: 82.29070634939677 and parameters: {'thres_for_max': 0.3, 'thres_for_mean': 0.8300000000000001, 'thres_mean_max': 0.5800000000000001, 'thres_mean_mean': 0.8400000000000001}. Best is trial 141 with value: 90.9629617315325.\n",
      "1891\n",
      "[I 2024-03-04 16:18:57,809] Trial 192 finished with value: 87.38281913755524 and parameters: {'thres_for_max': 0.31, 'thres_for_mean': 0.8600000000000001, 'thres_mean_max': 0.5800000000000001, 'thres_mean_mean': 0.8700000000000001}. Best is trial 141 with value: 90.9629617315325.\n",
      "1885\n",
      "[I 2024-03-04 16:19:08,212] Trial 193 finished with value: 73.81387669090135 and parameters: {'thres_for_max': 0.32, 'thres_for_mean': 0.8799999999999999, 'thres_mean_max': 0.59, 'thres_mean_mean': 0.8700000000000001}. Best is trial 141 with value: 90.9629617315325.\n",
      "1877\n",
      "[I 2024-03-04 16:19:18,584] Trial 194 finished with value: 81.67251079008798 and parameters: {'thres_for_max': 0.32999999999999996, 'thres_for_mean': 0.8600000000000001, 'thres_mean_max': 0.61, 'thres_mean_mean': 0.8600000000000001}. Best is trial 141 with value: 90.9629617315325.\n",
      "1897\n",
      "[I 2024-03-04 16:19:29,013] Trial 195 finished with value: 81.19116520186488 and parameters: {'thres_for_max': 0.3, 'thres_for_mean': 0.8500000000000001, 'thres_mean_max': 0.56, 'thres_mean_mean': 0.8200000000000001}. Best is trial 141 with value: 90.9629617315325.\n",
      "1869\n",
      "[I 2024-03-04 16:19:39,674] Trial 196 finished with value: 93.03102828318288 and parameters: {'thres_for_max': 0.33999999999999997, 'thres_for_mean': 0.8700000000000001, 'thres_mean_max': 0.5800000000000001, 'thres_mean_mean': 0.8400000000000001}. Best is trial 196 with value: 93.03102828318288.\n",
      "1853\n",
      "[I 2024-03-04 16:19:50,073] Trial 197 finished with value: 72.10723020402165 and parameters: {'thres_for_max': 0.35, 'thres_for_mean': 0.8899999999999999, 'thres_mean_max': 0.62, 'thres_mean_mean': 0.8700000000000001}. Best is trial 196 with value: 93.03102828318288.\n",
      "1836\n",
      "[I 2024-03-04 16:20:00,388] Trial 198 finished with value: 77.63569592728216 and parameters: {'thres_for_max': 0.37, 'thres_for_mean': 0.8700000000000001, 'thres_mean_max': 0.6, 'thres_mean_mean': 0.8899999999999999}. Best is trial 196 with value: 93.03102828318288.\n",
      "1853\n",
      "[I 2024-03-04 16:20:11,072] Trial 199 finished with value: 74.66003149416231 and parameters: {'thres_for_max': 0.35, 'thres_for_mean': 0.8799999999999999, 'thres_mean_max': 0.5700000000000001, 'thres_mean_mean': 0.8500000000000001}. Best is trial 196 with value: 93.03102828318288.\n",
      "1869\n",
      "[I 2024-03-04 16:20:21,915] Trial 200 finished with value: 79.1176997275444 and parameters: {'thres_for_max': 0.33999999999999997, 'thres_for_mean': 0.8600000000000001, 'thres_mean_max': 0.55, 'thres_mean_mean': 0.8799999999999999}. Best is trial 196 with value: 93.03102828318288.\n",
      "1885\n",
      "[I 2024-03-04 16:20:32,311] Trial 201 finished with value: 79.22265959305786 and parameters: {'thres_for_max': 0.32, 'thres_for_mean': 0.8400000000000001, 'thres_mean_max': 0.5800000000000001, 'thres_mean_mean': 0.8400000000000001}. Best is trial 196 with value: 93.03102828318288.\n",
      "1891\n",
      "[I 2024-03-04 16:20:42,765] Trial 202 finished with value: 84.15167167610764 and parameters: {'thres_for_max': 0.31, 'thres_for_mean': 0.8300000000000001, 'thres_mean_max': 0.5800000000000001, 'thres_mean_mean': 0.8300000000000001}. Best is trial 196 with value: 93.03102828318288.\n",
      "1869\n",
      "[I 2024-03-04 16:20:53,229] Trial 203 finished with value: 87.44016972153999 and parameters: {'thres_for_max': 0.33999999999999997, 'thres_for_mean': 0.8700000000000001, 'thres_mean_max': 0.59, 'thres_mean_mean': 0.8400000000000001}. Best is trial 196 with value: 93.03102828318288.\n",
      "943\n",
      "[I 2024-03-04 16:21:03,887] Trial 204 finished with value: 22.970077308967632 and parameters: {'thres_for_max': 0.71, 'thres_for_mean': 0.8700000000000001, 'thres_mean_max': 0.6, 'thres_mean_mean': 0.8600000000000001}. Best is trial 196 with value: 93.03102828318288.\n",
      "1869\n",
      "[I 2024-03-04 16:21:14,490] Trial 205 finished with value: 85.19626425713805 and parameters: {'thres_for_max': 0.33999999999999997, 'thres_for_mean': 0.8999999999999999, 'thres_mean_max': 0.59, 'thres_mean_mean': 0.8200000000000001}. Best is trial 196 with value: 93.03102828318288.\n",
      "1869\n",
      "[I 2024-03-04 16:21:25,115] Trial 206 finished with value: 84.33374459009343 and parameters: {'thres_for_max': 0.33999999999999997, 'thres_for_mean': 0.8899999999999999, 'thres_mean_max': 0.59, 'thres_mean_mean': 0.81}. Best is trial 196 with value: 93.03102828318288.\n",
      "1845\n",
      "[I 2024-03-04 16:21:35,603] Trial 207 finished with value: 69.1321859626278 and parameters: {'thres_for_max': 0.36, 'thres_for_mean': 0.8600000000000001, 'thres_mean_max': 0.56, 'thres_mean_mean': 0.8500000000000001}. Best is trial 196 with value: 93.03102828318288.\n",
      "1818\n",
      "[I 2024-03-04 16:21:45,457] Trial 208 finished with value: 81.87204500245967 and parameters: {'thres_for_max': 0.38, 'thres_for_mean': 0.8799999999999999, 'thres_mean_max': 0.62, 'thres_mean_mean': 0.8}. Best is trial 196 with value: 93.03102828318288.\n",
      "1877\n",
      "[I 2024-03-04 16:21:55,349] Trial 209 finished with value: 80.19760323241499 and parameters: {'thres_for_max': 0.32999999999999996, 'thres_for_mean': 0.8500000000000001, 'thres_mean_max': 0.5700000000000001, 'thres_mean_mean': 0.8200000000000001}. Best is trial 196 with value: 93.03102828318288.\n",
      "1853\n",
      "[I 2024-03-04 16:22:05,308] Trial 210 finished with value: 73.00323996632193 and parameters: {'thres_for_max': 0.35, 'thres_for_mean': 0.8700000000000001, 'thres_mean_max': 0.6, 'thres_mean_mean': 0.8700000000000001}. Best is trial 196 with value: 93.03102828318288.\n",
      "1877\n",
      "[I 2024-03-04 16:22:15,297] Trial 211 finished with value: 76.92607921460619 and parameters: {'thres_for_max': 0.32999999999999996, 'thres_for_mean': 0.8999999999999999, 'thres_mean_max': 0.59, 'thres_mean_mean': 0.8300000000000001}. Best is trial 196 with value: 93.03102828318288.\n",
      "1869\n",
      "[I 2024-03-04 16:22:25,319] Trial 212 finished with value: 88.58048394781432 and parameters: {'thres_for_max': 0.33999999999999997, 'thres_for_mean': 0.8999999999999999, 'thres_mean_max': 0.5700000000000001, 'thres_mean_mean': 0.8400000000000001}. Best is trial 196 with value: 93.03102828318288.\n",
      "1869\n",
      "[I 2024-03-04 16:22:36,253] Trial 213 finished with value: 86.05128054210121 and parameters: {'thres_for_max': 0.33999999999999997, 'thres_for_mean': 0.8899999999999999, 'thres_mean_max': 0.56, 'thres_mean_mean': 0.8500000000000001}. Best is trial 196 with value: 93.03102828318288.\n",
      "1845\n",
      "[I 2024-03-04 16:22:46,119] Trial 214 finished with value: 60.39758996208993 and parameters: {'thres_for_max': 0.36, 'thres_for_mean': 0.8799999999999999, 'thres_mean_max': 0.55, 'thres_mean_mean': 0.8500000000000001}. Best is trial 196 with value: 93.03102828318288.\n",
      "1853\n",
      "[I 2024-03-04 16:22:56,035] Trial 215 finished with value: 74.82521668731178 and parameters: {'thres_for_max': 0.35, 'thres_for_mean': 0.8500000000000001, 'thres_mean_max': 0.5700000000000001, 'thres_mean_mean': 0.8600000000000001}. Best is trial 196 with value: 93.03102828318288.\n",
      "1869\n",
      "[I 2024-03-04 16:23:06,069] Trial 216 finished with value: 78.5233485162269 and parameters: {'thres_for_max': 0.33999999999999997, 'thres_for_mean': 0.8600000000000001, 'thres_mean_max': 0.54, 'thres_mean_mean': 0.8400000000000001}. Best is trial 196 with value: 93.03102828318288.\n",
      "1836\n",
      "[I 2024-03-04 16:23:15,982] Trial 217 finished with value: 55.520207332929665 and parameters: {'thres_for_max': 0.37, 'thres_for_mean': 0.49, 'thres_mean_max': 0.56, 'thres_mean_mean': 0.8799999999999999}. Best is trial 196 with value: 93.03102828318288.\n",
      "1877\n",
      "[I 2024-03-04 16:23:25,993] Trial 218 finished with value: 64.98288795023346 and parameters: {'thres_for_max': 0.32999999999999996, 'thres_for_mean': 0.8899999999999999, 'thres_mean_max': 0.5700000000000001, 'thres_mean_mean': 0.52}. Best is trial 196 with value: 93.03102828318288.\n",
      "1885\n",
      "[I 2024-03-04 16:23:35,859] Trial 219 finished with value: 76.78496998144783 and parameters: {'thres_for_max': 0.32, 'thres_for_mean': 0.8700000000000001, 'thres_mean_max': 0.56, 'thres_mean_mean': 0.8899999999999999}. Best is trial 196 with value: 93.03102828318288.\n",
      "1845\n",
      "[I 2024-03-04 16:23:45,766] Trial 220 finished with value: 69.72553891359932 and parameters: {'thres_for_max': 0.36, 'thres_for_mean': 0.8799999999999999, 'thres_mean_max': 0.61, 'thres_mean_mean': 0.8600000000000001}. Best is trial 196 with value: 93.03102828318288.\n",
      "1869\n",
      "[I 2024-03-04 16:23:55,619] Trial 221 finished with value: 91.50969010336722 and parameters: {'thres_for_max': 0.33999999999999997, 'thres_for_mean': 0.8999999999999999, 'thres_mean_max': 0.5800000000000001, 'thres_mean_mean': 0.8300000000000001}. Best is trial 196 with value: 93.03102828318288.\n",
      "1869\n",
      "[I 2024-03-04 16:24:05,591] Trial 222 finished with value: 90.10036647726206 and parameters: {'thres_for_max': 0.33999999999999997, 'thres_for_mean': 0.8899999999999999, 'thres_mean_max': 0.5800000000000001, 'thres_mean_mean': 0.8500000000000001}. Best is trial 196 with value: 93.03102828318288.\n",
      "1869\n",
      "[I 2024-03-04 16:24:15,461] Trial 223 finished with value: 90.58529470055903 and parameters: {'thres_for_max': 0.33999999999999997, 'thres_for_mean': 0.8999999999999999, 'thres_mean_max': 0.5800000000000001, 'thres_mean_mean': 0.8400000000000001}. Best is trial 196 with value: 93.03102828318288.\n",
      "1885\n",
      "[I 2024-03-04 16:24:25,411] Trial 224 finished with value: 78.50166176915805 and parameters: {'thres_for_max': 0.32, 'thres_for_mean': 0.8999999999999999, 'thres_mean_max': 0.5800000000000001, 'thres_mean_mean': 0.8300000000000001}. Best is trial 196 with value: 93.03102828318288.\n",
      "1853\n",
      "[I 2024-03-04 16:24:35,278] Trial 225 finished with value: 55.693903151555766 and parameters: {'thres_for_max': 0.35, 'thres_for_mean': 0.8899999999999999, 'thres_mean_max': 0.5700000000000001, 'thres_mean_mean': 0.32999999999999996}. Best is trial 196 with value: 93.03102828318288.\n",
      "1877\n",
      "[I 2024-03-04 16:24:45,062] Trial 226 finished with value: 80.98866993052307 and parameters: {'thres_for_max': 0.32999999999999996, 'thres_for_mean': 0.8999999999999999, 'thres_mean_max': 0.5800000000000001, 'thres_mean_mean': 0.8500000000000001}. Best is trial 196 with value: 93.03102828318288.\n",
      "1885\n",
      "[I 2024-03-04 16:24:54,945] Trial 227 finished with value: 77.98522460329028 and parameters: {'thres_for_max': 0.32, 'thres_for_mean': 0.8899999999999999, 'thres_mean_max': 0.5800000000000001, 'thres_mean_mean': 0.8700000000000001}. Best is trial 196 with value: 93.03102828318288.\n",
      "1869\n",
      "[I 2024-03-04 16:25:04,898] Trial 228 finished with value: 79.1732641223267 and parameters: {'thres_for_max': 0.33999999999999997, 'thres_for_mean': 0.8700000000000001, 'thres_mean_max': 0.55, 'thres_mean_mean': 0.8400000000000001}. Best is trial 196 with value: 93.03102828318288.\n",
      "1845\n",
      "[I 2024-03-04 16:25:14,941] Trial 229 finished with value: 66.43740863186312 and parameters: {'thres_for_max': 0.36, 'thres_for_mean': 0.8999999999999999, 'thres_mean_max': 0.59, 'thres_mean_mean': 0.8999999999999999}. Best is trial 196 with value: 93.03102828318288.\n",
      "1877\n",
      "[I 2024-03-04 16:25:24,847] Trial 230 finished with value: 81.32038902148126 and parameters: {'thres_for_max': 0.32999999999999996, 'thres_for_mean': 0.8600000000000001, 'thres_mean_max': 0.5700000000000001, 'thres_mean_mean': 0.8600000000000001}. Best is trial 196 with value: 93.03102828318288.\n",
      "1869\n",
      "[I 2024-03-04 16:25:34,757] Trial 231 finished with value: 86.70867064402456 and parameters: {'thres_for_max': 0.33999999999999997, 'thres_for_mean': 0.8799999999999999, 'thres_mean_max': 0.6, 'thres_mean_mean': 0.8300000000000001}. Best is trial 196 with value: 93.03102828318288.\n",
      "1853\n",
      "[I 2024-03-04 16:25:44,605] Trial 232 finished with value: 72.6246893554745 and parameters: {'thres_for_max': 0.35, 'thres_for_mean': 0.8799999999999999, 'thres_mean_max': 0.59, 'thres_mean_mean': 0.8300000000000001}. Best is trial 196 with value: 93.03102828318288.\n",
      "1869\n",
      "[I 2024-03-04 16:25:54,524] Trial 233 finished with value: 84.2359697534539 and parameters: {'thres_for_max': 0.33999999999999997, 'thres_for_mean': 0.8700000000000001, 'thres_mean_max': 0.35, 'thres_mean_mean': 0.81}. Best is trial 196 with value: 93.03102828318288.\n",
      "1885\n",
      "[I 2024-03-04 16:26:04,433] Trial 234 finished with value: 72.39082387138691 and parameters: {'thres_for_max': 0.32, 'thres_for_mean': 0.8899999999999999, 'thres_mean_max': 0.6, 'thres_mean_mean': 0.8500000000000001}. Best is trial 196 with value: 93.03102828318288.\n",
      "1891\n",
      "[I 2024-03-04 16:26:14,400] Trial 235 finished with value: 86.9716895856697 and parameters: {'thres_for_max': 0.31, 'thres_for_mean': 0.8600000000000001, 'thres_mean_max': 0.5800000000000001, 'thres_mean_mean': 0.8200000000000001}. Best is trial 196 with value: 93.03102828318288.\n",
      "1853\n",
      "[I 2024-03-04 16:26:24,344] Trial 236 finished with value: 75.42067134198192 and parameters: {'thres_for_max': 0.35, 'thres_for_mean': 0.8500000000000001, 'thres_mean_max': 0.61, 'thres_mean_mean': 0.8300000000000001}. Best is trial 196 with value: 93.03102828318288.\n",
      "1877\n",
      "[I 2024-03-04 16:26:34,266] Trial 237 finished with value: 75.9359459280714 and parameters: {'thres_for_max': 0.32999999999999996, 'thres_for_mean': 0.8899999999999999, 'thres_mean_max': 0.59, 'thres_mean_mean': 0.8200000000000001}. Best is trial 196 with value: 93.03102828318288.\n",
      "1130\n",
      "[I 2024-03-04 16:26:44,045] Trial 238 finished with value: 39.81610224849472 and parameters: {'thres_for_max': 0.65, 'thres_for_mean': 0.8600000000000001, 'thres_mean_max': 0.5800000000000001, 'thres_mean_mean': 0.8400000000000001}. Best is trial 196 with value: 93.03102828318288.\n",
      "1891\n",
      "[I 2024-03-04 16:26:53,777] Trial 239 finished with value: 79.88729639924006 and parameters: {'thres_for_max': 0.31, 'thres_for_mean': 0.8799999999999999, 'thres_mean_max': 0.6, 'thres_mean_mean': 0.8}. Best is trial 196 with value: 93.03102828318288.\n",
      "1836\n",
      "[I 2024-03-04 16:27:03,475] Trial 240 finished with value: 78.44280157429495 and parameters: {'thres_for_max': 0.37, 'thres_for_mean': 0.8500000000000001, 'thres_mean_max': 0.56, 'thres_mean_mean': 0.8200000000000001}. Best is trial 196 with value: 93.03102828318288.\n",
      "1891\n",
      "[I 2024-03-04 16:27:13,261] Trial 241 finished with value: 85.49528700470644 and parameters: {'thres_for_max': 0.31, 'thres_for_mean': 0.8700000000000001, 'thres_mean_max': 0.5700000000000001, 'thres_mean_mean': 0.8400000000000001}. Best is trial 196 with value: 93.03102828318288.\n",
      "1869\n",
      "[I 2024-03-04 16:27:23,167] Trial 242 finished with value: 92.96947253467941 and parameters: {'thres_for_max': 0.33999999999999997, 'thres_for_mean': 0.8600000000000001, 'thres_mean_max': 0.5800000000000001, 'thres_mean_mean': 0.8600000000000001}. Best is trial 196 with value: 93.03102828318288.\n",
      "1869\n",
      "[I 2024-03-04 16:27:33,051] Trial 243 finished with value: 92.35515882358581 and parameters: {'thres_for_max': 0.33999999999999997, 'thres_for_mean': 0.8400000000000001, 'thres_mean_max': 0.5800000000000001, 'thres_mean_mean': 0.8500000000000001}. Best is trial 196 with value: 93.03102828318288.\n",
      "1869\n",
      "[I 2024-03-04 16:27:42,818] Trial 244 finished with value: 86.66845908066013 and parameters: {'thres_for_max': 0.33999999999999997, 'thres_for_mean': 0.8400000000000001, 'thres_mean_max': 0.59, 'thres_mean_mean': 0.8500000000000001}. Best is trial 196 with value: 93.03102828318288.\n",
      "1845\n",
      "[I 2024-03-04 16:27:52,771] Trial 245 finished with value: 69.4138854631528 and parameters: {'thres_for_max': 0.36, 'thres_for_mean': 0.8300000000000001, 'thres_mean_max': 0.5800000000000001, 'thres_mean_mean': 0.8500000000000001}. Best is trial 196 with value: 93.03102828318288.\n",
      "1869\n",
      "[I 2024-03-04 16:28:02,657] Trial 246 finished with value: 88.89897276544424 and parameters: {'thres_for_max': 0.33999999999999997, 'thres_for_mean': 0.8400000000000001, 'thres_mean_max': 0.56, 'thres_mean_mean': 0.8300000000000001}. Best is trial 196 with value: 93.03102828318288.\n",
      "1853\n",
      "[I 2024-03-04 16:28:12,538] Trial 247 finished with value: 72.34842374604565 and parameters: {'thres_for_max': 0.35, 'thres_for_mean': 0.8400000000000001, 'thres_mean_max': 0.59, 'thres_mean_mean': 0.8300000000000001}. Best is trial 196 with value: 93.03102828318288.\n",
      "1869\n",
      "[I 2024-03-04 16:28:22,462] Trial 248 finished with value: 86.96517758493663 and parameters: {'thres_for_max': 0.33999999999999997, 'thres_for_mean': 0.8200000000000001, 'thres_mean_max': 0.61, 'thres_mean_mean': 0.8400000000000001}. Best is trial 196 with value: 93.03102828318288.\n",
      "1877\n",
      "[I 2024-03-04 16:28:32,408] Trial 249 finished with value: 77.77306018538508 and parameters: {'thres_for_max': 0.32999999999999996, 'thres_for_mean': 0.8200000000000001, 'thres_mean_max': 0.61, 'thres_mean_mean': 0.8200000000000001}. Best is trial 196 with value: 93.03102828318288.\n",
      "1869\n",
      "[I 2024-03-04 16:28:42,187] Trial 250 finished with value: 87.83501006846292 and parameters: {'thres_for_max': 0.33999999999999997, 'thres_for_mean': 0.8400000000000001, 'thres_mean_max': 0.62, 'thres_mean_mean': 0.8400000000000001}. Best is trial 196 with value: 93.03102828318288.\n",
      "1845\n",
      "[I 2024-03-04 16:28:52,006] Trial 251 finished with value: 67.13703037812658 and parameters: {'thres_for_max': 0.36, 'thres_for_mean': 0.8400000000000001, 'thres_mean_max': 0.63, 'thres_mean_mean': 0.8400000000000001}. Best is trial 196 with value: 93.03102828318288.\n",
      "1853\n",
      "[I 2024-03-04 16:29:01,790] Trial 252 finished with value: 70.12291644557918 and parameters: {'thres_for_max': 0.35, 'thres_for_mean': 0.8200000000000001, 'thres_mean_max': 0.64, 'thres_mean_mean': 0.8700000000000001}. Best is trial 196 with value: 93.03102828318288.\n",
      "1877\n",
      "[I 2024-03-04 16:29:11,690] Trial 253 finished with value: 76.34376288580572 and parameters: {'thres_for_max': 0.32999999999999996, 'thres_for_mean': 0.8300000000000001, 'thres_mean_max': 0.62, 'thres_mean_mean': 0.8500000000000001}. Best is trial 196 with value: 93.03102828318288.\n",
      "1869\n",
      "[I 2024-03-04 16:29:21,545] Trial 254 finished with value: 89.50479530244185 and parameters: {'thres_for_max': 0.33999999999999997, 'thres_for_mean': 0.8500000000000001, 'thres_mean_max': 0.61, 'thres_mean_mean': 0.81}. Best is trial 196 with value: 93.03102828318288.\n",
      "1836\n",
      "[I 2024-03-04 16:29:31,376] Trial 255 finished with value: 77.21349024050207 and parameters: {'thres_for_max': 0.37, 'thres_for_mean': 0.8400000000000001, 'thres_mean_max': 0.62, 'thres_mean_mean': 0.79}. Best is trial 196 with value: 93.03102828318288.\n",
      "1869\n",
      "[I 2024-03-04 16:29:41,178] Trial 256 finished with value: 86.32886791751939 and parameters: {'thres_for_max': 0.33999999999999997, 'thres_for_mean': 0.81, 'thres_mean_max': 0.61, 'thres_mean_mean': 0.8200000000000001}. Best is trial 196 with value: 93.03102828318288.\n",
      "1869\n",
      "[I 2024-03-04 16:29:51,082] Trial 257 finished with value: 82.92457293820888 and parameters: {'thres_for_max': 0.33999999999999997, 'thres_for_mean': 0.8200000000000001, 'thres_mean_max': 0.63, 'thres_mean_mean': 0.81}. Best is trial 196 with value: 93.03102828318288.\n",
      "1845\n",
      "[I 2024-03-04 16:30:01,086] Trial 258 finished with value: 63.127502578327395 and parameters: {'thres_for_max': 0.36, 'thres_for_mean': 0.81, 'thres_mean_max': 0.65, 'thres_mean_mean': 0.8}. Best is trial 196 with value: 93.03102828318288.\n",
      "1853\n",
      "[I 2024-03-04 16:30:11,025] Trial 259 finished with value: 71.27851854398236 and parameters: {'thres_for_max': 0.35, 'thres_for_mean': 0.8, 'thres_mean_max': 0.61, 'thres_mean_mean': 0.8300000000000001}. Best is trial 196 with value: 93.03102828318288.\n",
      "1869\n",
      "[I 2024-03-04 16:30:20,917] Trial 260 finished with value: 90.65659931545324 and parameters: {'thres_for_max': 0.33999999999999997, 'thres_for_mean': 0.8400000000000001, 'thres_mean_max': 0.61, 'thres_mean_mean': 0.8200000000000001}. Best is trial 196 with value: 93.03102828318288.\n",
      "1818\n",
      "[I 2024-03-04 16:30:30,848] Trial 261 finished with value: 81.55454106703533 and parameters: {'thres_for_max': 0.38, 'thres_for_mean': 0.8400000000000001, 'thres_mean_max': 0.6, 'thres_mean_mean': 0.81}. Best is trial 196 with value: 93.03102828318288.\n",
      "1853\n",
      "[I 2024-03-04 16:30:40,576] Trial 262 finished with value: 71.75079126983945 and parameters: {'thres_for_max': 0.35, 'thres_for_mean': 0.8500000000000001, 'thres_mean_max': 0.6, 'thres_mean_mean': 0.8400000000000001}. Best is trial 196 with value: 93.03102828318288.\n",
      "1877\n",
      "[I 2024-03-04 16:30:50,410] Trial 263 finished with value: 78.6264441549363 and parameters: {'thres_for_max': 0.32999999999999996, 'thres_for_mean': 0.8600000000000001, 'thres_mean_max': 0.62, 'thres_mean_mean': 0.8200000000000001}. Best is trial 196 with value: 93.03102828318288.\n",
      "1869\n",
      "[I 2024-03-04 16:31:00,232] Trial 264 finished with value: 83.90771868732658 and parameters: {'thres_for_max': 0.33999999999999997, 'thres_for_mean': 0.8300000000000001, 'thres_mean_max': 0.6, 'thres_mean_mean': 0.8500000000000001}. Best is trial 196 with value: 93.03102828318288.\n",
      "1845\n",
      "[I 2024-03-04 16:31:10,155] Trial 265 finished with value: 67.13703037812658 and parameters: {'thres_for_max': 0.36, 'thres_for_mean': 0.8400000000000001, 'thres_mean_max': 0.63, 'thres_mean_mean': 0.8300000000000001}. Best is trial 196 with value: 93.03102828318288.\n",
      "1485\n",
      "[I 2024-03-04 16:31:20,118] Trial 266 finished with value: 67.74775509054136 and parameters: {'thres_for_max': 0.54, 'thres_for_mean': 0.8500000000000001, 'thres_mean_max': 0.59, 'thres_mean_mean': 0.79}. Best is trial 196 with value: 93.03102828318288.\n",
      "1877\n",
      "[I 2024-03-04 16:31:30,007] Trial 267 finished with value: 81.67251079008798 and parameters: {'thres_for_max': 0.32999999999999996, 'thres_for_mean': 0.8600000000000001, 'thres_mean_max': 0.61, 'thres_mean_mean': 0.8600000000000001}. Best is trial 196 with value: 93.03102828318288.\n",
      "1853\n",
      "[I 2024-03-04 16:31:39,819] Trial 268 finished with value: 73.07299715791513 and parameters: {'thres_for_max': 0.35, 'thres_for_mean': 0.8300000000000001, 'thres_mean_max': 0.5700000000000001, 'thres_mean_mean': 0.8400000000000001}. Best is trial 196 with value: 93.03102828318288.\n",
      "1818\n",
      "[I 2024-03-04 16:31:49,591] Trial 269 finished with value: 86.6722087213538 and parameters: {'thres_for_max': 0.38, 'thres_for_mean': 0.8600000000000001, 'thres_mean_max': 0.61, 'thres_mean_mean': 0.8700000000000001}. Best is trial 196 with value: 93.03102828318288.\n",
      "1836\n",
      "[I 2024-03-04 16:31:59,504] Trial 270 finished with value: 78.46829178534934 and parameters: {'thres_for_max': 0.37, 'thres_for_mean': 0.8600000000000001, 'thres_mean_max': 0.62, 'thres_mean_mean': 0.8700000000000001}. Best is trial 196 with value: 93.03102828318288.\n",
      "1877\n",
      "[I 2024-03-04 16:32:09,405] Trial 271 finished with value: 79.05608380431633 and parameters: {'thres_for_max': 0.32999999999999996, 'thres_for_mean': 0.8600000000000001, 'thres_mean_max': 0.64, 'thres_mean_mean': 0.8799999999999999}. Best is trial 196 with value: 93.03102828318288.\n",
      "1794\n",
      "[I 2024-03-04 16:32:19,305] Trial 272 finished with value: 66.465935015915 and parameters: {'thres_for_max': 0.4, 'thres_for_mean': 0.8700000000000001, 'thres_mean_max': 0.55, 'thres_mean_mean': 0.8300000000000001}. Best is trial 196 with value: 93.03102828318288.\n",
      "1885\n",
      "[I 2024-03-04 16:32:29,177] Trial 273 finished with value: 77.10898142557609 and parameters: {'thres_for_max': 0.32, 'thres_for_mean': 0.8799999999999999, 'thres_mean_max': 0.61, 'thres_mean_mean': 0.8600000000000001}. Best is trial 196 with value: 93.03102828318288.\n",
      "1836\n",
      "[I 2024-03-04 16:32:39,011] Trial 274 finished with value: 76.44810908329664 and parameters: {'thres_for_max': 0.37, 'thres_for_mean': 0.8600000000000001, 'thres_mean_max': 0.6, 'thres_mean_mean': 0.81}. Best is trial 196 with value: 93.03102828318288.\n",
      "1853\n",
      "[I 2024-03-04 16:32:48,809] Trial 275 finished with value: 74.82521668731178 and parameters: {'thres_for_max': 0.35, 'thres_for_mean': 0.8500000000000001, 'thres_mean_max': 0.5700000000000001, 'thres_mean_mean': 0.8700000000000001}. Best is trial 196 with value: 93.03102828318288.\n",
      "1885\n",
      "[I 2024-03-04 16:32:58,593] Trial 276 finished with value: 72.50083951531829 and parameters: {'thres_for_max': 0.32, 'thres_for_mean': 0.8999999999999999, 'thres_mean_max': 0.63, 'thres_mean_mean': 0.8400000000000001}. Best is trial 196 with value: 93.03102828318288.\n",
      "1845\n",
      "[I 2024-03-04 16:33:08,458] Trial 277 finished with value: 72.05158227588169 and parameters: {'thres_for_max': 0.36, 'thres_for_mean': 0.8700000000000001, 'thres_mean_max': 0.5800000000000001, 'thres_mean_mean': 0.8200000000000001}. Best is trial 196 with value: 93.03102828318288.\n",
      "1869\n",
      "[I 2024-03-04 16:33:18,239] Trial 278 finished with value: 89.82342223595002 and parameters: {'thres_for_max': 0.33999999999999997, 'thres_for_mean': 0.8799999999999999, 'thres_mean_max': 0.61, 'thres_mean_mean': 0.8500000000000001}. Best is trial 196 with value: 93.03102828318288.\n",
      "805\n",
      "[I 2024-03-04 16:33:28,028] Trial 279 finished with value: 16.218313071752647 and parameters: {'thres_for_max': 0.8400000000000001, 'thres_for_mean': 0.8799999999999999, 'thres_mean_max': 0.59, 'thres_mean_mean': 0.8500000000000001}. Best is trial 196 with value: 93.03102828318288.\n",
      "1869\n",
      "[I 2024-03-04 16:33:37,975] Trial 280 finished with value: 67.82998762994849 and parameters: {'thres_for_max': 0.33999999999999997, 'thres_for_mean': 0.38, 'thres_mean_max': 0.56, 'thres_mean_mean': 0.49}. Best is trial 196 with value: 93.03102828318288.\n",
      "1877\n",
      "[I 2024-03-04 16:33:47,809] Trial 281 finished with value: 77.49692178169857 and parameters: {'thres_for_max': 0.32999999999999996, 'thres_for_mean': 0.8899999999999999, 'thres_mean_max': 0.62, 'thres_mean_mean': 0.8300000000000001}. Best is trial 196 with value: 93.03102828318288.\n",
      "1569\n",
      "[I 2024-03-04 16:33:57,636] Trial 282 finished with value: 58.62090927448202 and parameters: {'thres_for_max': 0.51, 'thres_for_mean': 0.8799999999999999, 'thres_mean_max': 0.54, 'thres_mean_mean': 0.8500000000000001}. Best is trial 196 with value: 93.03102828318288.\n",
      "1853\n",
      "[I 2024-03-04 16:34:07,493] Trial 283 finished with value: 72.1569496759095 and parameters: {'thres_for_max': 0.35, 'thres_for_mean': 0.8400000000000001, 'thres_mean_max': 0.6, 'thres_mean_mean': 0.8300000000000001}. Best is trial 196 with value: 93.03102828318288.\n",
      "1885\n",
      "[I 2024-03-04 16:34:17,403] Trial 284 finished with value: 77.70866842418832 and parameters: {'thres_for_max': 0.32, 'thres_for_mean': 0.8999999999999999, 'thres_mean_max': 0.5800000000000001, 'thres_mean_mean': 0.8400000000000001}. Best is trial 196 with value: 93.03102828318288.\n",
      "1869\n",
      "[I 2024-03-04 16:34:27,307] Trial 285 finished with value: 85.84097081112843 and parameters: {'thres_for_max': 0.33999999999999997, 'thres_for_mean': 0.8300000000000001, 'thres_mean_max': 0.56, 'thres_mean_mean': 0.81}. Best is trial 196 with value: 93.03102828318288.\n",
      "1877\n",
      "[I 2024-03-04 16:34:37,229] Trial 286 finished with value: 78.46140725017983 and parameters: {'thres_for_max': 0.32999999999999996, 'thres_for_mean': 0.8700000000000001, 'thres_mean_max': 0.59, 'thres_mean_mean': 0.8600000000000001}. Best is trial 196 with value: 93.03102828318288.\n",
      "1853\n",
      "[I 2024-03-04 16:34:47,028] Trial 287 finished with value: 65.43215065105497 and parameters: {'thres_for_max': 0.35, 'thres_for_mean': 0.8500000000000001, 'thres_mean_max': 0.55, 'thres_mean_mean': 0.8400000000000001}. Best is trial 196 with value: 93.03102828318288.\n",
      "1885\n",
      "[I 2024-03-04 16:34:56,847] Trial 288 finished with value: 77.09758890985347 and parameters: {'thres_for_max': 0.32, 'thres_for_mean': 0.8799999999999999, 'thres_mean_max': 0.5700000000000001, 'thres_mean_mean': 0.8200000000000001}. Best is trial 196 with value: 93.03102828318288.\n",
      "1845\n",
      "[I 2024-03-04 16:35:06,793] Trial 289 finished with value: 71.08267181490706 and parameters: {'thres_for_max': 0.36, 'thres_for_mean': 0.8500000000000001, 'thres_mean_max': 0.5800000000000001, 'thres_mean_mean': 0.8799999999999999}. Best is trial 196 with value: 93.03102828318288.\n",
      "1869\n",
      "[I 2024-03-04 16:35:16,692] Trial 290 finished with value: 85.99660083872787 and parameters: {'thres_for_max': 0.33999999999999997, 'thres_for_mean': 0.8999999999999999, 'thres_mean_max': 0.6, 'thres_mean_mean': 0.8600000000000001}. Best is trial 196 with value: 93.03102828318288.\n",
      "1877\n",
      "[I 2024-03-04 16:35:26,619] Trial 291 finished with value: 77.32697664772571 and parameters: {'thres_for_max': 0.32999999999999996, 'thres_for_mean': 0.8700000000000001, 'thres_mean_max': 0.65, 'thres_mean_mean': 0.8500000000000001}. Best is trial 196 with value: 93.03102828318288.\n",
      "1845\n",
      "[I 2024-03-04 16:35:36,479] Trial 292 finished with value: 67.43231762633955 and parameters: {'thres_for_max': 0.36, 'thres_for_mean': 0.8200000000000001, 'thres_mean_max': 0.61, 'thres_mean_mean': 0.8300000000000001}. Best is trial 196 with value: 93.03102828318288.\n",
      "1885\n",
      "[I 2024-03-04 16:35:46,231] Trial 293 finished with value: 65.20360180307189 and parameters: {'thres_for_max': 0.32, 'thres_for_mean': 0.8799999999999999, 'thres_mean_max': 0.5700000000000001, 'thres_mean_mean': 0.55}. Best is trial 196 with value: 93.03102828318288.\n",
      "1869\n",
      "[I 2024-03-04 16:35:56,051] Trial 294 finished with value: 86.97531937703765 and parameters: {'thres_for_max': 0.33999999999999997, 'thres_for_mean': 0.8600000000000001, 'thres_mean_max': 0.59, 'thres_mean_mean': 0.8200000000000001}. Best is trial 196 with value: 93.03102828318288.\n",
      "869\n",
      "[I 2024-03-04 16:36:05,879] Trial 295 finished with value: 37.73731088385227 and parameters: {'thres_for_max': 0.77, 'thres_for_mean': 0.8400000000000001, 'thres_mean_max': 0.5800000000000001, 'thres_mean_mean': 0.79}. Best is trial 196 with value: 93.03102828318288.\n",
      "1853\n",
      "[I 2024-03-04 16:36:15,740] Trial 296 finished with value: 70.68325391653057 and parameters: {'thres_for_max': 0.35, 'thres_for_mean': 0.8600000000000001, 'thres_mean_max': 0.56, 'thres_mean_mean': 0.63}. Best is trial 196 with value: 93.03102828318288.\n",
      "1869\n",
      "[I 2024-03-04 16:36:25,583] Trial 297 finished with value: 83.8688888555953 and parameters: {'thres_for_max': 0.33999999999999997, 'thres_for_mean': 0.8300000000000001, 'thres_mean_max': 0.59, 'thres_mean_mean': 0.8}. Best is trial 196 with value: 93.03102828318288.\n",
      "1885\n",
      "[I 2024-03-04 16:36:35,438] Trial 298 finished with value: 66.6151871627995 and parameters: {'thres_for_max': 0.32, 'thres_for_mean': 0.8500000000000001, 'thres_mean_max': 0.55, 'thres_mean_mean': 0.81}. Best is trial 196 with value: 93.03102828318288.\n",
      "1836\n",
      "[I 2024-03-04 16:36:45,372] Trial 299 finished with value: 59.86608760420686 and parameters: {'thres_for_max': 0.37, 'thres_for_mean': 0.8600000000000001, 'thres_mean_max': 0.5700000000000001, 'thres_mean_mean': 0.4}. Best is trial 196 with value: 93.03102828318288.\n",
      "1869\n",
      "[I 2024-03-04 16:36:55,191] Trial 300 finished with value: 73.38106625624214 and parameters: {'thres_for_max': 0.33999999999999997, 'thres_for_mean': 0.5800000000000001, 'thres_mean_max': 0.62, 'thres_mean_mean': 0.77}. Best is trial 196 with value: 93.03102828318288.\n",
      "1877\n",
      "[I 2024-03-04 16:37:05,036] Trial 301 finished with value: 77.51478344927703 and parameters: {'thres_for_max': 0.32999999999999996, 'thres_for_mean': 0.8400000000000001, 'thres_mean_max': 0.59, 'thres_mean_mean': 0.8500000000000001}. Best is trial 196 with value: 93.03102828318288.\n",
      "1885\n",
      "[I 2024-03-04 16:37:14,926] Trial 302 finished with value: 76.31343843484085 and parameters: {'thres_for_max': 0.32, 'thres_for_mean': 0.8200000000000001, 'thres_mean_max': 0.5800000000000001, 'thres_mean_mean': 0.8799999999999999}. Best is trial 196 with value: 93.03102828318288.\n",
      "1853\n",
      "[I 2024-03-04 16:37:24,968] Trial 303 finished with value: 64.79463680132022 and parameters: {'thres_for_max': 0.35, 'thres_for_mean': 0.8500000000000001, 'thres_mean_max': 0.54, 'thres_mean_mean': 0.8400000000000001}. Best is trial 196 with value: 93.03102828318288.\n",
      "844\n",
      "[I 2024-03-04 16:37:34,706] Trial 304 finished with value: 15.236633330160553 and parameters: {'thres_for_max': 0.74, 'thres_for_mean': 0.8700000000000001, 'thres_mean_max': 0.63, 'thres_mean_mean': 0.8200000000000001}. Best is trial 196 with value: 93.03102828318288.\n",
      "1284\n",
      "[I 2024-03-04 16:37:44,457] Trial 305 finished with value: 68.97216845497881 and parameters: {'thres_for_max': 0.6, 'thres_for_mean': 0.8899999999999999, 'thres_mean_max': 0.61, 'thres_mean_mean': 0.8600000000000001}. Best is trial 196 with value: 93.03102828318288.\n",
      "1818\n",
      "[I 2024-03-04 16:37:54,280] Trial 306 finished with value: 86.24766915643511 and parameters: {'thres_for_max': 0.38, 'thres_for_mean': 0.8600000000000001, 'thres_mean_max': 0.5700000000000001, 'thres_mean_mean': 0.8700000000000001}. Best is trial 196 with value: 93.03102828318288.\n",
      "1845\n",
      "[I 2024-03-04 16:38:04,373] Trial 307 finished with value: 65.254080439782 and parameters: {'thres_for_max': 0.36, 'thres_for_mean': 0.8300000000000001, 'thres_mean_max': 0.59, 'thres_mean_mean': 0.8400000000000001}. Best is trial 196 with value: 93.03102828318288.\n",
      "1891\n",
      "[I 2024-03-04 16:38:14,200] Trial 308 finished with value: 79.46640398484621 and parameters: {'thres_for_max': 0.31, 'thres_for_mean': 0.81, 'thres_mean_max': 0.56, 'thres_mean_mean': 0.8899999999999999}. Best is trial 196 with value: 93.03102828318288.\n",
      "1877\n",
      "[I 2024-03-04 16:38:24,006] Trial 309 finished with value: 76.87249927044388 and parameters: {'thres_for_max': 0.32999999999999996, 'thres_for_mean': 0.8500000000000001, 'thres_mean_max': 0.6, 'thres_mean_mean': 0.8200000000000001}. Best is trial 196 with value: 93.03102828318288.\n",
      "1869\n",
      "[I 2024-03-04 16:38:33,783] Trial 310 finished with value: 93.26528898685645 and parameters: {'thres_for_max': 0.33999999999999997, 'thres_for_mean': 0.8700000000000001, 'thres_mean_max': 0.5800000000000001, 'thres_mean_mean': 0.8500000000000001}. Best is trial 310 with value: 93.26528898685645.\n",
      "1853\n",
      "[I 2024-03-04 16:38:43,565] Trial 311 finished with value: 77.91572520395351 and parameters: {'thres_for_max': 0.35, 'thres_for_mean': 0.8700000000000001, 'thres_mean_max': 0.5800000000000001, 'thres_mean_mean': 0.8600000000000001}. Best is trial 310 with value: 93.26528898685645.\n",
      "1891\n",
      "[I 2024-03-04 16:38:53,335] Trial 312 finished with value: 83.99977481783519 and parameters: {'thres_for_max': 0.31, 'thres_for_mean': 0.8899999999999999, 'thres_mean_max': 0.5700000000000001, 'thres_mean_mean': 0.8799999999999999}. Best is trial 310 with value: 93.26528898685645.\n",
      "1877\n",
      "[I 2024-03-04 16:39:03,153] Trial 313 finished with value: 71.02878015453487 and parameters: {'thres_for_max': 0.32999999999999996, 'thres_for_mean': 0.8700000000000001, 'thres_mean_max': 0.55, 'thres_mean_mean': 0.8600000000000001}. Best is trial 310 with value: 93.26528898685645.\n",
      "1845\n",
      "[I 2024-03-04 16:39:13,046] Trial 314 finished with value: 57.20268365445088 and parameters: {'thres_for_max': 0.36, 'thres_for_mean': 0.8999999999999999, 'thres_mean_max': 0.53, 'thres_mean_mean': 0.8500000000000001}. Best is trial 310 with value: 93.26528898685645.\n",
      "1869\n",
      "[I 2024-03-04 16:39:23,014] Trial 315 finished with value: 91.57416580444253 and parameters: {'thres_for_max': 0.33999999999999997, 'thres_for_mean': 0.8799999999999999, 'thres_mean_max': 0.5800000000000001, 'thres_mean_mean': 0.8700000000000001}. Best is trial 310 with value: 93.26528898685645.\n",
      "1836\n",
      "[I 2024-03-04 16:39:33,001] Trial 316 finished with value: 77.98885213058155 and parameters: {'thres_for_max': 0.37, 'thres_for_mean': 0.8799999999999999, 'thres_mean_max': 0.56, 'thres_mean_mean': 0.8899999999999999}. Best is trial 310 with value: 93.26528898685645.\n",
      "1853\n",
      "[I 2024-03-04 16:39:42,706] Trial 317 finished with value: 71.33264764720553 and parameters: {'thres_for_max': 0.35, 'thres_for_mean': 0.8899999999999999, 'thres_mean_max': 0.59, 'thres_mean_mean': 0.8700000000000001}. Best is trial 310 with value: 93.26528898685645.\n",
      "1869\n",
      "[I 2024-03-04 16:39:52,448] Trial 318 finished with value: 63.00158126090644 and parameters: {'thres_for_max': 0.33999999999999997, 'thres_for_mean': 0.8999999999999999, 'thres_mean_max': 0.5700000000000001, 'thres_mean_mean': 0.37}. Best is trial 310 with value: 93.26528898685645.\n",
      "1853\n",
      "[I 2024-03-04 16:40:02,285] Trial 319 finished with value: 56.19615563935244 and parameters: {'thres_for_max': 0.35, 'thres_for_mean': 0.8799999999999999, 'thres_mean_max': 0.6, 'thres_mean_mean': 0.43}. Best is trial 310 with value: 93.26528898685645.\n",
      "1650\n",
      "[I 2024-03-04 16:40:12,290] Trial 320 finished with value: 54.741275752881826 and parameters: {'thres_for_max': 0.48, 'thres_for_mean': 0.52, 'thres_mean_max': 0.5800000000000001, 'thres_mean_mean': 0.8700000000000001}. Best is trial 310 with value: 93.26528898685645.\n",
      "1869\n",
      "[I 2024-03-04 16:40:22,237] Trial 321 finished with value: 89.5297219863841 and parameters: {'thres_for_max': 0.33999999999999997, 'thres_for_mean': 0.8700000000000001, 'thres_mean_max': 0.56, 'thres_mean_mean': 0.8799999999999999}. Best is trial 310 with value: 93.26528898685645.\n",
      "1808\n",
      "[I 2024-03-04 16:40:32,042] Trial 322 finished with value: 67.29620800243559 and parameters: {'thres_for_max': 0.39, 'thres_for_mean': 0.8799999999999999, 'thres_mean_max': 0.55, 'thres_mean_mean': 0.8799999999999999}. Best is trial 310 with value: 93.26528898685645.\n",
      "1877\n",
      "[I 2024-03-04 16:40:41,794] Trial 323 finished with value: 70.49351614377775 and parameters: {'thres_for_max': 0.32999999999999996, 'thres_for_mean': 0.8700000000000001, 'thres_mean_max': 0.54, 'thres_mean_mean': 0.8799999999999999}. Best is trial 310 with value: 93.26528898685645.\n",
      "1845\n",
      "[I 2024-03-04 16:40:51,691] Trial 324 finished with value: 67.30747265866917 and parameters: {'thres_for_max': 0.36, 'thres_for_mean': 0.8899999999999999, 'thres_mean_max': 0.56, 'thres_mean_mean': 0.8700000000000001}. Best is trial 310 with value: 93.26528898685645.\n",
      "1877\n",
      "[I 2024-03-04 16:41:01,627] Trial 325 finished with value: 63.7075887456967 and parameters: {'thres_for_max': 0.32999999999999996, 'thres_for_mean': 0.55, 'thres_mean_max': 0.56, 'thres_mean_mean': 0.8999999999999999}. Best is trial 310 with value: 93.26528898685645.\n",
      "1845\n",
      "[I 2024-03-04 16:41:11,623] Trial 326 finished with value: 69.41822357945966 and parameters: {'thres_for_max': 0.36, 'thres_for_mean': 0.8799999999999999, 'thres_mean_max': 0.5700000000000001, 'thres_mean_mean': 0.8899999999999999}. Best is trial 310 with value: 93.26528898685645.\n",
      "1869\n",
      "[I 2024-03-04 16:41:21,435] Trial 327 finished with value: 91.79960274155188 and parameters: {'thres_for_max': 0.33999999999999997, 'thres_for_mean': 0.8999999999999999, 'thres_mean_max': 0.5800000000000001, 'thres_mean_mean': 0.8600000000000001}. Best is trial 310 with value: 93.26528898685645.\n",
      "1836\n",
      "[I 2024-03-04 16:41:31,386] Trial 328 finished with value: 69.05435802249691 and parameters: {'thres_for_max': 0.37, 'thres_for_mean': 0.8999999999999999, 'thres_mean_max': 0.55, 'thres_mean_mean': 0.8600000000000001}. Best is trial 310 with value: 93.26528898685645.\n",
      "1853\n",
      "[I 2024-03-04 16:41:41,236] Trial 329 finished with value: 73.90128044065722 and parameters: {'thres_for_max': 0.35, 'thres_for_mean': 0.8999999999999999, 'thres_mean_max': 0.5700000000000001, 'thres_mean_mean': 0.8500000000000001}. Best is trial 310 with value: 93.26528898685645.\n",
      "1877\n",
      "[I 2024-03-04 16:41:51,114] Trial 330 finished with value: 63.89864437902937 and parameters: {'thres_for_max': 0.32999999999999996, 'thres_for_mean': 0.8899999999999999, 'thres_mean_max': 0.52, 'thres_mean_mean': 0.8500000000000001}. Best is trial 310 with value: 93.26528898685645.\n",
      "1885\n",
      "[I 2024-03-04 16:42:01,011] Trial 331 finished with value: 78.75036356062583 and parameters: {'thres_for_max': 0.32, 'thres_for_mean': 0.8999999999999999, 'thres_mean_max': 0.5800000000000001, 'thres_mean_mean': 0.8600000000000001}. Best is trial 310 with value: 93.26528898685645.\n",
      "1869\n",
      "[I 2024-03-04 16:42:11,051] Trial 332 finished with value: 87.85371389034792 and parameters: {'thres_for_max': 0.33999999999999997, 'thres_for_mean': 0.8799999999999999, 'thres_mean_max': 0.56, 'thres_mean_mean': 0.8700000000000001}. Best is trial 310 with value: 93.26528898685645.\n",
      "1869\n",
      "[I 2024-03-04 16:42:20,989] Trial 333 finished with value: 77.37697364069108 and parameters: {'thres_for_max': 0.33999999999999997, 'thres_for_mean': 0.8799999999999999, 'thres_mean_max': 0.54, 'thres_mean_mean': 0.8400000000000001}. Best is trial 310 with value: 93.26528898685645.\n",
      "1693\n",
      "[I 2024-03-04 16:42:30,817] Trial 334 finished with value: 70.4072491217702 and parameters: {'thres_for_max': 0.45999999999999996, 'thres_for_mean': 0.8899999999999999, 'thres_mean_max': 0.56, 'thres_mean_mean': 0.8600000000000001}. Best is trial 310 with value: 93.26528898685645.\n",
      "1853\n",
      "[I 2024-03-04 16:42:40,640] Trial 335 finished with value: 63.7405237372142 and parameters: {'thres_for_max': 0.35, 'thres_for_mean': 0.8700000000000001, 'thres_mean_max': 0.53, 'thres_mean_mean': 0.8500000000000001}. Best is trial 310 with value: 93.26528898685645.\n",
      "1869\n",
      "[I 2024-03-04 16:42:50,570] Trial 336 finished with value: 76.55691441470675 and parameters: {'thres_for_max': 0.33999999999999997, 'thres_for_mean': 0.8999999999999999, 'thres_mean_max': 0.55, 'thres_mean_mean': 0.8700000000000001}. Best is trial 310 with value: 93.26528898685645.\n",
      "1818\n",
      "[I 2024-03-04 16:43:00,442] Trial 337 finished with value: 83.30256061819613 and parameters: {'thres_for_max': 0.38, 'thres_for_mean': 0.8799999999999999, 'thres_mean_max': 0.56, 'thres_mean_mean': 0.8400000000000001}. Best is trial 310 with value: 93.26528898685645.\n",
      "1845\n",
      "[I 2024-03-04 16:43:10,360] Trial 338 finished with value: 70.68898697934353 and parameters: {'thres_for_max': 0.36, 'thres_for_mean': 0.8700000000000001, 'thres_mean_max': 0.5700000000000001, 'thres_mean_mean': 0.8500000000000001}. Best is trial 310 with value: 93.26528898685645.\n",
      "1382\n",
      "[I 2024-03-04 16:43:20,247] Trial 339 finished with value: 73.16398176177293 and parameters: {'thres_for_max': 0.5700000000000001, 'thres_for_mean': 0.8899999999999999, 'thres_mean_max': 0.5800000000000001, 'thres_mean_mean': 0.8700000000000001}. Best is trial 310 with value: 93.26528898685645.\n",
      "1836\n",
      "[I 2024-03-04 16:43:30,269] Trial 340 finished with value: 69.61842260802327 and parameters: {'thres_for_max': 0.37, 'thres_for_mean': 0.8500000000000001, 'thres_mean_max': 0.55, 'thres_mean_mean': 0.8400000000000001}. Best is trial 310 with value: 93.26528898685645.\n",
      "1869\n",
      "[I 2024-03-04 16:43:40,070] Trial 341 finished with value: 86.27197544784799 and parameters: {'thres_for_max': 0.33999999999999997, 'thres_for_mean': 0.8999999999999999, 'thres_mean_max': 0.59, 'thres_mean_mean': 0.8600000000000001}. Best is trial 310 with value: 93.26528898685645.\n",
      "1853\n",
      "[I 2024-03-04 16:43:49,861] Trial 342 finished with value: 75.36123421938487 and parameters: {'thres_for_max': 0.35, 'thres_for_mean': 0.8400000000000001, 'thres_mean_max': 0.5700000000000001, 'thres_mean_mean': 0.8799999999999999}. Best is trial 310 with value: 93.26528898685645.\n",
      "1877\n",
      "[I 2024-03-04 16:43:59,758] Trial 343 finished with value: 78.48149130408952 and parameters: {'thres_for_max': 0.32999999999999996, 'thres_for_mean': 0.8799999999999999, 'thres_mean_max': 0.56, 'thres_mean_mean': 0.8500000000000001}. Best is trial 310 with value: 93.26528898685645.\n",
      "1869\n",
      "[I 2024-03-04 16:44:09,752] Trial 344 finished with value: 87.95849566523887 and parameters: {'thres_for_max': 0.33999999999999997, 'thres_for_mean': 0.8700000000000001, 'thres_mean_max': 0.59, 'thres_mean_mean': 0.8300000000000001}. Best is trial 310 with value: 93.26528898685645.\n",
      "1845\n",
      "[I 2024-03-04 16:44:19,651] Trial 345 finished with value: 72.23893518004404 and parameters: {'thres_for_max': 0.36, 'thres_for_mean': 0.8600000000000001, 'thres_mean_max': 0.5800000000000001, 'thres_mean_mean': 0.8300000000000001}. Best is trial 310 with value: 93.26528898685645.\n",
      "1885\n",
      "[I 2024-03-04 16:44:29,490] Trial 346 finished with value: 72.30627531337227 and parameters: {'thres_for_max': 0.32, 'thres_for_mean': 0.8899999999999999, 'thres_mean_max': 0.6699999999999999, 'thres_mean_mean': 0.8300000000000001}. Best is trial 310 with value: 93.26528898685645.\n",
      "1853\n",
      "[I 2024-03-04 16:44:39,306] Trial 347 finished with value: 65.16628240549096 and parameters: {'thres_for_max': 0.35, 'thres_for_mean': 0.8400000000000001, 'thres_mean_max': 0.54, 'thres_mean_mean': 0.8799999999999999}. Best is trial 310 with value: 93.26528898685645.\n",
      "1877\n",
      "[I 2024-03-04 16:44:49,115] Trial 348 finished with value: 78.21013060398388 and parameters: {'thres_for_max': 0.32999999999999996, 'thres_for_mean': 0.8700000000000001, 'thres_mean_max': 0.6, 'thres_mean_mean': 0.8600000000000001}. Best is trial 310 with value: 93.26528898685645.\n",
      "1853\n",
      "[I 2024-03-04 16:44:58,998] Trial 349 finished with value: 74.82521668731178 and parameters: {'thres_for_max': 0.35, 'thres_for_mean': 0.8500000000000001, 'thres_mean_max': 0.5700000000000001, 'thres_mean_mean': 0.8300000000000001}. Best is trial 310 with value: 93.26528898685645.\n",
      "1885\n",
      "[I 2024-03-04 16:45:08,920] Trial 350 finished with value: 74.49892857087053 and parameters: {'thres_for_max': 0.32, 'thres_for_mean': 0.8799999999999999, 'thres_mean_max': 0.64, 'thres_mean_mean': 0.8700000000000001}. Best is trial 310 with value: 93.26528898685645.\n",
      "1818\n",
      "[I 2024-03-04 16:45:18,797] Trial 351 finished with value: 83.99630984295466 and parameters: {'thres_for_max': 0.38, 'thres_for_mean': 0.8899999999999999, 'thres_mean_max': 0.61, 'thres_mean_mean': 0.8500000000000001}. Best is trial 310 with value: 93.26528898685645.\n",
      "1869\n",
      "[I 2024-03-04 16:45:28,727] Trial 352 finished with value: 63.849321752364204 and parameters: {'thres_for_max': 0.33999999999999997, 'thres_for_mean': 0.43, 'thres_mean_max': 0.59, 'thres_mean_mean': 0.6699999999999999}. Best is trial 310 with value: 93.26528898685645.\n",
      "1845\n",
      "[I 2024-03-04 16:45:38,622] Trial 353 finished with value: 68.51187233525958 and parameters: {'thres_for_max': 0.36, 'thres_for_mean': 0.8600000000000001, 'thres_mean_max': 0.62, 'thres_mean_mean': 0.8600000000000001}. Best is trial 310 with value: 93.26528898685645.\n",
      "864\n",
      "[I 2024-03-04 16:45:48,345] Trial 354 finished with value: 30.256301584105227 and parameters: {'thres_for_max': 0.8999999999999999, 'thres_for_mean': 0.8300000000000001, 'thres_mean_max': 0.5700000000000001, 'thres_mean_mean': 0.8300000000000001}. Best is trial 310 with value: 93.26528898685645.\n",
      "1877\n",
      "[I 2024-03-04 16:45:58,174] Trial 355 finished with value: 68.4231465537799 and parameters: {'thres_for_max': 0.32999999999999996, 'thres_for_mean': 0.8999999999999999, 'thres_mean_max': 0.55, 'thres_mean_mean': 0.81}. Best is trial 310 with value: 93.26528898685645.\n",
      "1869\n",
      "[I 2024-03-04 16:46:08,088] Trial 356 finished with value: 93.03102828318288 and parameters: {'thres_for_max': 0.33999999999999997, 'thres_for_mean': 0.8700000000000001, 'thres_mean_max': 0.5800000000000001, 'thres_mean_mean': 0.8400000000000001}. Best is trial 310 with value: 93.26528898685645.\n",
      "812\n",
      "[I 2024-03-04 16:46:17,991] Trial 357 finished with value: 21.42184122898841 and parameters: {'thres_for_max': 0.79, 'thres_for_mean': 0.8700000000000001, 'thres_mean_max': 0.6, 'thres_mean_mean': 0.8400000000000001}. Best is trial 310 with value: 93.26528898685645.\n",
      "1869\n",
      "[I 2024-03-04 16:46:27,921] Trial 358 finished with value: 87.44016972153999 and parameters: {'thres_for_max': 0.33999999999999997, 'thres_for_mean': 0.8700000000000001, 'thres_mean_max': 0.59, 'thres_mean_mean': 0.8400000000000001}. Best is trial 310 with value: 93.26528898685645.\n",
      "1172\n",
      "[I 2024-03-04 16:46:37,650] Trial 359 finished with value: 37.23033232632297 and parameters: {'thres_for_max': 0.64, 'thres_for_mean': 0.8799999999999999, 'thres_mean_max': 0.56, 'thres_mean_mean': 0.71}. Best is trial 310 with value: 93.26528898685645.\n",
      "1836\n",
      "[I 2024-03-04 16:46:47,481] Trial 360 finished with value: 82.54404766481512 and parameters: {'thres_for_max': 0.37, 'thres_for_mean': 0.8600000000000001, 'thres_mean_max': 0.5800000000000001, 'thres_mean_mean': 0.8500000000000001}. Best is trial 310 with value: 93.26528898685645.\n",
      "1853\n",
      "[I 2024-03-04 16:46:57,396] Trial 361 finished with value: 61.30356711429077 and parameters: {'thres_for_max': 0.35, 'thres_for_mean': 0.64, 'thres_mean_max': 0.62, 'thres_mean_mean': 0.8200000000000001}. Best is trial 310 with value: 93.26528898685645.\n",
      "1885\n",
      "[I 2024-03-04 16:47:07,312] Trial 362 finished with value: 78.23051249296871 and parameters: {'thres_for_max': 0.32, 'thres_for_mean': 0.8899999999999999, 'thres_mean_max': 0.5800000000000001, 'thres_mean_mean': 0.8300000000000001}. Best is trial 310 with value: 93.26528898685645.\n",
      "1877\n",
      "[I 2024-03-04 16:47:17,243] Trial 363 finished with value: 76.1689095203478 and parameters: {'thres_for_max': 0.32999999999999996, 'thres_for_mean': 0.8500000000000001, 'thres_mean_max': 0.6, 'thres_mean_mean': 0.81}. Best is trial 310 with value: 93.26528898685645.\n",
      "1845\n",
      "[I 2024-03-04 16:47:27,202] Trial 364 finished with value: 58.145056009643895 and parameters: {'thres_for_max': 0.36, 'thres_for_mean': 0.8799999999999999, 'thres_mean_max': 0.53, 'thres_mean_mean': 0.8400000000000001}. Best is trial 310 with value: 93.26528898685645.\n",
      "1885\n",
      "[I 2024-03-04 16:47:37,411] Trial 365 finished with value: 74.94498793845227 and parameters: {'thres_for_max': 0.32, 'thres_for_mean': 0.8600000000000001, 'thres_mean_max': 0.59, 'thres_mean_mean': 0.8600000000000001}. Best is trial 310 with value: 93.26528898685645.\n",
      "1869\n",
      "[I 2024-03-04 16:47:47,335] Trial 366 finished with value: 90.5298342642646 and parameters: {'thres_for_max': 0.33999999999999997, 'thres_for_mean': 0.8999999999999999, 'thres_mean_max': 0.5800000000000001, 'thres_mean_mean': 0.8500000000000001}. Best is trial 310 with value: 93.26528898685645.\n",
      "1853\n",
      "[I 2024-03-04 16:47:57,131] Trial 367 finished with value: 73.20764707724243 and parameters: {'thres_for_max': 0.35, 'thres_for_mean': 0.8999999999999999, 'thres_mean_max': 0.56, 'thres_mean_mean': 0.8300000000000001}. Best is trial 310 with value: 93.26528898685645.\n",
      "1869\n",
      "[I 2024-03-04 16:48:07,031] Trial 368 finished with value: 88.40419436325499 and parameters: {'thres_for_max': 0.33999999999999997, 'thres_for_mean': 0.8999999999999999, 'thres_mean_max': 0.61, 'thres_mean_mean': 0.8}. Best is trial 310 with value: 93.26528898685645.\n",
      "1869\n",
      "[I 2024-03-04 16:48:17,003] Trial 369 finished with value: 87.34000500977393 and parameters: {'thres_for_max': 0.33999999999999997, 'thres_for_mean': 0.8999999999999999, 'thres_mean_max': 0.5700000000000001, 'thres_mean_mean': 0.78}. Best is trial 310 with value: 93.26528898685645.\n",
      "1845\n",
      "[I 2024-03-04 16:48:27,031] Trial 370 finished with value: 65.32203210566787 and parameters: {'thres_for_max': 0.36, 'thres_for_mean': 0.8999999999999999, 'thres_mean_max': 0.6, 'thres_mean_mean': 0.81}. Best is trial 310 with value: 93.26528898685645.\n",
      "1877\n",
      "[I 2024-03-04 16:48:36,896] Trial 371 finished with value: 80.81181104661142 and parameters: {'thres_for_max': 0.32999999999999996, 'thres_for_mean': 0.8899999999999999, 'thres_mean_max': 0.5800000000000001, 'thres_mean_mean': 0.8200000000000001}. Best is trial 310 with value: 93.26528898685645.\n",
      "1869\n",
      "[I 2024-03-04 16:48:46,731] Trial 372 finished with value: 75.5083438986927 and parameters: {'thres_for_max': 0.33999999999999997, 'thres_for_mean': 0.8999999999999999, 'thres_mean_max': 0.55, 'thres_mean_mean': 0.79}. Best is trial 310 with value: 93.26528898685645.\n",
      "1808\n",
      "[I 2024-03-04 16:48:56,548] Trial 373 finished with value: 76.21911307982498 and parameters: {'thres_for_max': 0.39, 'thres_for_mean': 0.8899999999999999, 'thres_mean_max': 0.61, 'thres_mean_mean': 0.8}. Best is trial 310 with value: 93.26528898685645.\n",
      "1836\n",
      "[I 2024-03-04 16:49:06,502] Trial 374 finished with value: 76.31353761823378 and parameters: {'thres_for_max': 0.37, 'thres_for_mean': 0.8799999999999999, 'thres_mean_max': 0.59, 'thres_mean_mean': 0.8500000000000001}. Best is trial 310 with value: 93.26528898685645.\n",
      "1853\n",
      "[I 2024-03-04 16:49:16,388] Trial 375 finished with value: 73.46907733578692 and parameters: {'thres_for_max': 0.35, 'thres_for_mean': 0.8999999999999999, 'thres_mean_max': 0.5700000000000001, 'thres_mean_mean': 0.8}. Best is trial 310 with value: 93.26528898685645.\n",
      "1877\n",
      "[I 2024-03-04 16:49:26,329] Trial 376 finished with value: 77.75909831710935 and parameters: {'thres_for_max': 0.32999999999999996, 'thres_for_mean': 0.8799999999999999, 'thres_mean_max': 0.8999999999999999, 'thres_mean_mean': 0.8200000000000001}. Best is trial 310 with value: 93.26528898685645.\n",
      "1853\n",
      "[I 2024-03-04 16:49:36,063] Trial 377 finished with value: 70.47411025338832 and parameters: {'thres_for_max': 0.35, 'thres_for_mean': 0.8899999999999999, 'thres_mean_max': 0.6, 'thres_mean_mean': 0.8500000000000001}. Best is trial 310 with value: 93.26528898685645.\n",
      "1885\n",
      "[I 2024-03-04 16:49:45,842] Trial 378 finished with value: 63.5424889121027 and parameters: {'thres_for_max': 0.32, 'thres_for_mean': 0.61, 'thres_mean_max': 0.56, 'thres_mean_mean': 0.8700000000000001}. Best is trial 310 with value: 93.26528898685645.\n",
      "1845\n",
      "[I 2024-03-04 16:49:55,589] Trial 379 finished with value: 71.75530956445127 and parameters: {'thres_for_max': 0.36, 'thres_for_mean': 0.8799999999999999, 'thres_mean_max': 0.5800000000000001, 'thres_mean_mean': 0.8300000000000001}. Best is trial 310 with value: 93.26528898685645.\n",
      "1869\n",
      "[I 2024-03-04 16:50:05,342] Trial 380 finished with value: 76.11674706064619 and parameters: {'thres_for_max': 0.33999999999999997, 'thres_for_mean': 0.8999999999999999, 'thres_mean_max': 0.54, 'thres_mean_mean': 0.8500000000000001}. Best is trial 310 with value: 93.26528898685645.\n",
      "1869\n",
      "[I 2024-03-04 16:50:15,061] Trial 381 finished with value: 93.03102828318288 and parameters: {'thres_for_max': 0.33999999999999997, 'thres_for_mean': 0.8700000000000001, 'thres_mean_max': 0.5800000000000001, 'thres_mean_mean': 0.8400000000000001}. Best is trial 310 with value: 93.26528898685645.\n",
      "1877\n",
      "[I 2024-03-04 16:50:25,028] Trial 382 finished with value: 78.12612812580106 and parameters: {'thres_for_max': 0.32999999999999996, 'thres_for_mean': 0.8700000000000001, 'thres_mean_max': 0.59, 'thres_mean_mean': 0.8200000000000001}. Best is trial 310 with value: 93.26528898685645.\n",
      "1853\n",
      "[I 2024-03-04 16:50:34,847] Trial 383 finished with value: 76.30015713070372 and parameters: {'thres_for_max': 0.35, 'thres_for_mean': 0.8700000000000001, 'thres_mean_max': 0.61, 'thres_mean_mean': 0.8400000000000001}. Best is trial 310 with value: 93.26528898685645.\n",
      "1845\n",
      "[I 2024-03-04 16:50:44,477] Trial 384 finished with value: 70.70519775424316 and parameters: {'thres_for_max': 0.36, 'thres_for_mean': 0.8899999999999999, 'thres_mean_max': 0.5800000000000001, 'thres_mean_mean': 0.8300000000000001}. Best is trial 310 with value: 93.26528898685645.\n",
      "1885\n",
      "[I 2024-03-04 16:50:54,201] Trial 385 finished with value: 73.78864698675787 and parameters: {'thres_for_max': 0.32, 'thres_for_mean': 0.8600000000000001, 'thres_mean_max': 0.63, 'thres_mean_mean': 0.81}. Best is trial 310 with value: 93.26528898685645.\n",
      "1869\n",
      "[I 2024-03-04 16:51:04,079] Trial 386 finished with value: 78.09346667587803 and parameters: {'thres_for_max': 0.33999999999999997, 'thres_for_mean': 0.8999999999999999, 'thres_mean_max': 0.44999999999999996, 'thres_mean_mean': 0.8400000000000001}. Best is trial 310 with value: 93.26528898685645.\n",
      "1836\n",
      "[I 2024-03-04 16:51:13,900] Trial 387 finished with value: 76.30940981848745 and parameters: {'thres_for_max': 0.37, 'thres_for_mean': 0.8500000000000001, 'thres_mean_max': 0.6, 'thres_mean_mean': 0.8300000000000001}. Best is trial 310 with value: 93.26528898685645.\n",
      "1877\n",
      "[I 2024-03-04 16:51:23,692] Trial 388 finished with value: 76.9562924602589 and parameters: {'thres_for_max': 0.32999999999999996, 'thres_for_mean': 0.8799999999999999, 'thres_mean_max': 0.59, 'thres_mean_mean': 0.8600000000000001}. Best is trial 310 with value: 93.26528898685645.\n",
      "1853\n",
      "[I 2024-03-04 16:51:33,498] Trial 389 finished with value: 67.75123487342665 and parameters: {'thres_for_max': 0.35, 'thres_for_mean': 0.8700000000000001, 'thres_mean_max': 0.74, 'thres_mean_mean': 0.8500000000000001}. Best is trial 310 with value: 93.26528898685645.\n",
      "1891\n",
      "[I 2024-03-04 16:51:43,254] Trial 390 finished with value: 83.02232806087136 and parameters: {'thres_for_max': 0.31, 'thres_for_mean': 0.8899999999999999, 'thres_mean_max': 0.5700000000000001, 'thres_mean_mean': 0.8200000000000001}. Best is trial 310 with value: 93.26528898685645.\n",
      "1869\n",
      "[I 2024-03-04 16:51:52,905] Trial 391 finished with value: 92.09209396989496 and parameters: {'thres_for_max': 0.33999999999999997, 'thres_for_mean': 0.8600000000000001, 'thres_mean_max': 0.5800000000000001, 'thres_mean_mean': 0.8}. Best is trial 310 with value: 93.26528898685645.\n",
      "1836\n",
      "[I 2024-03-04 16:52:02,790] Trial 392 finished with value: 77.51693068918851 and parameters: {'thres_for_max': 0.37, 'thres_for_mean': 0.8500000000000001, 'thres_mean_max': 0.5800000000000001, 'thres_mean_mean': 0.76}. Best is trial 310 with value: 93.26528898685645.\n",
      "1877\n",
      "[I 2024-03-04 16:52:12,551] Trial 393 finished with value: 77.33099288315009 and parameters: {'thres_for_max': 0.32999999999999996, 'thres_for_mean': 0.8600000000000001, 'thres_mean_max': 0.39, 'thres_mean_mean': 0.78}. Best is trial 310 with value: 93.26528898685645.\n",
      "1853\n",
      "[I 2024-03-04 16:52:22,317] Trial 394 finished with value: 74.91000117210402 and parameters: {'thres_for_max': 0.35, 'thres_for_mean': 0.8400000000000001, 'thres_mean_max': 0.5700000000000001, 'thres_mean_mean': 0.81}. Best is trial 310 with value: 93.26528898685645.\n",
      "1885\n",
      "[I 2024-03-04 16:52:32,187] Trial 395 finished with value: 75.81189397384925 and parameters: {'thres_for_max': 0.32, 'thres_for_mean': 0.8999999999999999, 'thres_mean_max': 0.61, 'thres_mean_mean': 0.8}. Best is trial 310 with value: 93.26528898685645.\n",
      "1845\n",
      "[I 2024-03-04 16:52:41,941] Trial 396 finished with value: 60.16348380000726 and parameters: {'thres_for_max': 0.36, 'thres_for_mean': 0.8600000000000001, 'thres_mean_max': 0.55, 'thres_mean_mean': 0.79}. Best is trial 310 with value: 93.26528898685645.\n",
      "1869\n",
      "[I 2024-03-04 16:52:51,732] Trial 397 finished with value: 88.75427947990244 and parameters: {'thres_for_max': 0.33999999999999997, 'thres_for_mean': 0.8799999999999999, 'thres_mean_max': 0.5700000000000001, 'thres_mean_mean': 0.8}. Best is trial 310 with value: 93.26528898685645.\n",
      "1869\n",
      "[I 2024-03-04 16:53:01,597] Trial 398 finished with value: 87.0760972202437 and parameters: {'thres_for_max': 0.33999999999999997, 'thres_for_mean': 0.8799999999999999, 'thres_mean_max': 0.56, 'thres_mean_mean': 0.8}. Best is trial 310 with value: 93.26528898685645.\n",
      "1756\n",
      "[I 2024-03-04 16:53:11,519] Trial 399 finished with value: 64.14713609158186 and parameters: {'thres_for_max': 0.42, 'thres_for_mean': 0.8899999999999999, 'thres_mean_max': 0.5700000000000001, 'thres_mean_mean': 0.8}. Best is trial 310 with value: 93.26528898685645.\n"
     ]
    }
   ],
   "source": [
    "for rtn_n in ['rtn_3']:#, 'rtn_4', 'rtn_5']:\n",
    "    for tf in [False]:\n",
    "\n",
    "        type_str = 'fixed' if tf else 'float'\n",
    "\n",
    "        df_with_proba = (\n",
    "            pd.read_pickle(f\"df_oos_with_proba_{type_str}_{rtn_n}.pkl\")\n",
    "            .merge(\n",
    "                df_with_feats_ml[['code','date','weighted_price_change_p_short', 'weighted_price_change_p_mid']]\n",
    "            )\n",
    "            .dropna(subset=['weighted_price_change_p_short', 'weighted_price_change_p_mid'])\n",
    "        )\n",
    "        \n",
    "        run_optuna(f\"best_combi_of_thres_{type_str}_{rtn_n}\", df_with_proba, rtn_n)"
   ]
  },
  {
   "cell_type": "code",
   "execution_count": 18,
   "metadata": {},
   "outputs": [],
   "source": [
    "def get_df_rtn_result(df_with_proba, thres_01, thres_02, thres_03, thres_04, rtn):\n",
    "    l_rtn_p = []\n",
    "\n",
    "    n = int(rtn.split('_')[1])+1\n",
    "\n",
    "    for date in dates:\n",
    "\n",
    "        df_ = df_with_proba.loc[lambda df : df.date >= date[2]].loc[lambda df : df.date < date[3]]\n",
    "        df_ = df_.loc[lambda df : df['weighted_price_change_p_short'] >= df['weighted_price_change_p_mid']]\n",
    "\n",
    "        df1 = (\n",
    "            df_\n",
    "            .loc[lambda df : df['proba_max'] > thres_01]\n",
    "            .sort_values('proba_max', ascending=False)\n",
    "            .groupby('date')\n",
    "            .head(3)\n",
    "            .reset_index()\n",
    "        )\n",
    "\n",
    "        df2 = (\n",
    "            df_\n",
    "            .loc[lambda df : df['proba_max'] > thres_02]\n",
    "            .sort_values('proba_mean', ascending=False)\n",
    "            .groupby('date')\n",
    "            .head(3)\n",
    "            .reset_index()\n",
    "        )\n",
    "\n",
    "        df3 = (\n",
    "            df_\n",
    "            .loc[lambda df : df['proba_mean'] > thres_03]\n",
    "            .sort_values('proba_max', ascending=False)\n",
    "            .groupby('date')\n",
    "            .head(3)\n",
    "            .reset_index()\n",
    "        )\n",
    "\n",
    "        df4 = (\n",
    "            df_\n",
    "            .loc[lambda df : df['proba_mean'] > thres_04]\n",
    "            .sort_values('proba_mean', ascending=False)\n",
    "            .groupby('date')\n",
    "            .head(3)\n",
    "            .reset_index()\n",
    "        )\n",
    "\n",
    "        sr = (\n",
    "            pd.concat([df1, df2, df3, df4]).drop_duplicates(subset=['date','code']) #df1, df2, \n",
    "            .groupby('date')[rtn]\n",
    "            .mean()\n",
    "            -0.0023\n",
    "        )\n",
    "\n",
    "        l_rtn_p.append(\n",
    "            {\n",
    "                'date' : date[3],\n",
    "                'rtn_p' : (sr/n).sum(),\n",
    "                'days' : pd.concat([df1, df2, df3, df4]).drop_duplicates(subset=['date','code'])['date'].unique().__len__()\n",
    "            }        \n",
    "        )\n",
    "\n",
    "    return (\n",
    "        pd.DataFrame(l_rtn_p)\n",
    "        .set_index('date')\n",
    "        ['rtn_p']\n",
    "    )"
   ]
  },
  {
   "cell_type": "code",
   "execution_count": 19,
   "metadata": {},
   "outputs": [],
   "source": [
    "from scipy import stats"
   ]
  },
  {
   "cell_type": "code",
   "execution_count": 25,
   "metadata": {},
   "outputs": [],
   "source": [
    "def get_rsquare(df_with_proba, rtn, row):\n",
    "    \n",
    "    sr_final = get_df_rtn_result(df_with_proba, row.thres_for_max, row.thres_for_mean, row.thres_mean_max, row.thres_mean_mean, rtn)\n",
    "    #  'thres_for_max', 'thres_for_mean', 'thres_mean_max', 'thres_mean_mean',\n",
    "\n",
    "    x = sr_final.cumsum()\n",
    "    y = range(0, len(x))\n",
    "\n",
    "    slope, intercept, r_value, p_value, std_err = stats.linregress(x, y)\n",
    "\n",
    "    print(f\"R-squared: {r_value**2}\")\n",
    "    return r_value**2"
   ]
  },
  {
   "cell_type": "markdown",
   "metadata": {},
   "source": [
    "#### Add R-Squared of Cumsum Series"
   ]
  },
  {
   "cell_type": "code",
   "execution_count": 27,
   "metadata": {},
   "outputs": [
    {
     "name": "stdout",
     "output_type": "stream",
     "text": [
      "R-squared: 0.9660677112234342\n",
      "R-squared: 0.9660677112234342\n",
      "R-squared: 0.9661230405072893\n",
      "R-squared: 0.9661230405072893\n",
      "R-squared: 0.9661230405072893\n",
      "R-squared: 0.9661230405072893\n",
      "R-squared: 0.965628905788972\n",
      "R-squared: 0.9656916183288693\n",
      "R-squared: 0.9656916183288693\n",
      "R-squared: 0.9657815670544935\n",
      "R-squared: 0.9657815670544935\n",
      "R-squared: 0.9658192765303161\n",
      "R-squared: 0.9658192765303161\n",
      "R-squared: 0.9658192765303161\n",
      "R-squared: 0.9658192765303161\n",
      "R-squared: 0.9653846818189821\n",
      "R-squared: 0.9653846818189821\n",
      "R-squared: 0.9659415827738057\n",
      "R-squared: 0.9653699681628315\n",
      "R-squared: 0.9655955333007891\n",
      "R-squared: 0.9655955333007891\n",
      "R-squared: 0.9652092801781328\n",
      "R-squared: 0.9650972797014882\n",
      "R-squared: 0.9649936392395431\n",
      "R-squared: 0.9649936392395431\n",
      "R-squared: 0.9639908761133945\n",
      "R-squared: 0.9642056527287035\n",
      "R-squared: 0.9636457408770827\n",
      "R-squared: 0.9642598494230092\n",
      "R-squared: 0.9644473789420402\n",
      "R-squared: 0.963747564151217\n",
      "R-squared: 0.9634465265638502\n",
      "R-squared: 0.9648036153817274\n",
      "R-squared: 0.9641895158874406\n",
      "R-squared: 0.9650198965991286\n",
      "R-squared: 0.9642544953674088\n",
      "R-squared: 0.9645361267053643\n",
      "R-squared: 0.964519091960315\n",
      "R-squared: 0.9645031611257876\n",
      "R-squared: 0.9647253388562131\n",
      "R-squared: 0.9647253388562131\n",
      "R-squared: 0.9643612651070638\n",
      "R-squared: 0.9638953351583108\n",
      "R-squared: 0.9649466717096631\n",
      "R-squared: 0.9639641487365117\n",
      "R-squared: 0.9647486458909891\n",
      "R-squared: 0.9640913789194139\n",
      "R-squared: 0.9640913789194139\n",
      "R-squared: 0.9642659510816379\n",
      "R-squared: 0.9643840689947895\n",
      "R-squared: 0.9916482647782344\n",
      "R-squared: 0.9916482647782344\n",
      "R-squared: 0.9916482647782344\n",
      "R-squared: 0.9915139387983881\n",
      "R-squared: 0.9915139387983881\n",
      "R-squared: 0.9916370646914234\n",
      "R-squared: 0.9916370646914234\n",
      "R-squared: 0.9916370646914234\n",
      "R-squared: 0.9915863204521091\n",
      "R-squared: 0.9915863204521091\n",
      "R-squared: 0.9915863204521091\n",
      "R-squared: 0.9915863204521091\n",
      "R-squared: 0.9915863204521091\n",
      "R-squared: 0.9915863204521091\n",
      "R-squared: 0.9916692309087133\n",
      "R-squared: 0.991672998516228\n",
      "R-squared: 0.9915807651556886\n",
      "R-squared: 0.9916128801019862\n",
      "R-squared: 0.991692032058045\n",
      "R-squared: 0.9915969978098869\n",
      "R-squared: 0.9915969978098869\n",
      "R-squared: 0.9915969978098869\n",
      "R-squared: 0.9915969978098869\n",
      "R-squared: 0.9916049712020566\n",
      "R-squared: 0.9916049712020566\n",
      "R-squared: 0.9916362987035157\n",
      "R-squared: 0.9916362987035157\n",
      "R-squared: 0.9916362987035157\n",
      "R-squared: 0.9914207262150507\n",
      "R-squared: 0.9914207262150507\n",
      "R-squared: 0.9913933852522007\n",
      "R-squared: 0.9913933852522007\n",
      "R-squared: 0.9913933852522007\n",
      "R-squared: 0.9915632870842096\n",
      "R-squared: 0.9915632870842096\n",
      "R-squared: 0.9915632870842096\n",
      "R-squared: 0.9914792429337153\n",
      "R-squared: 0.9914807911827709\n",
      "R-squared: 0.9914807911827709\n",
      "R-squared: 0.9914807911827709\n",
      "R-squared: 0.9914658285180931\n",
      "R-squared: 0.9914658285180931\n",
      "R-squared: 0.9914658285180931\n",
      "R-squared: 0.9914458236948774\n",
      "R-squared: 0.991414694692753\n",
      "R-squared: 0.991414694692753\n",
      "R-squared: 0.9916250511779799\n",
      "R-squared: 0.9916250511779799\n",
      "R-squared: 0.9916250511779799\n",
      "R-squared: 0.9913513052428478\n",
      "R-squared: 0.9898371593225443\n",
      "R-squared: 0.9898371593225443\n",
      "R-squared: 0.9898371593225443\n",
      "R-squared: 0.9898371593225443\n",
      "R-squared: 0.9898371593225443\n",
      "R-squared: 0.989756878689505\n",
      "R-squared: 0.989756878689505\n",
      "R-squared: 0.989756878689505\n",
      "R-squared: 0.989756878689505\n",
      "R-squared: 0.989756878689505\n",
      "R-squared: 0.989756878689505\n",
      "R-squared: 0.989756878689505\n",
      "R-squared: 0.9898243857613916\n",
      "R-squared: 0.9898243857613916\n",
      "R-squared: 0.9898243857613916\n",
      "R-squared: 0.9897441578847469\n",
      "R-squared: 0.9897441578847469\n",
      "R-squared: 0.9899858309666058\n",
      "R-squared: 0.989973301205693\n",
      "R-squared: 0.989973301205693\n",
      "R-squared: 0.989973301205693\n",
      "R-squared: 0.9898768662189286\n",
      "R-squared: 0.9898768662189286\n",
      "R-squared: 0.9898768662189286\n",
      "R-squared: 0.9898768662189286\n",
      "R-squared: 0.9898768662189286\n",
      "R-squared: 0.9899479990960937\n",
      "R-squared: 0.9899479990960937\n",
      "R-squared: 0.9898740695854493\n",
      "R-squared: 0.9901724995716598\n",
      "R-squared: 0.9902871234046902\n",
      "R-squared: 0.9902871234046902\n",
      "R-squared: 0.9902746668647606\n",
      "R-squared: 0.9902746668647606\n",
      "R-squared: 0.9902746668647606\n",
      "R-squared: 0.9900373164195729\n",
      "R-squared: 0.9900373164195729\n",
      "R-squared: 0.9900373164195729\n",
      "R-squared: 0.9900373164195729\n",
      "R-squared: 0.9900373164195729\n",
      "R-squared: 0.9900235566430945\n",
      "R-squared: 0.9900235566430945\n",
      "R-squared: 0.9903264670125811\n",
      "R-squared: 0.9900244926472549\n",
      "R-squared: 0.9900244926472549\n",
      "R-squared: 0.9900244926472549\n",
      "R-squared: 0.9898782596057855\n",
      "R-squared: 0.9898030099253579\n",
      "R-squared: 0.9898030099253579\n",
      "R-squared: 0.990230440638989\n",
      "R-squared: 0.9961363154493736\n",
      "R-squared: 0.9961363154493736\n",
      "R-squared: 0.996186967807224\n",
      "R-squared: 0.996186967807224\n",
      "R-squared: 0.9961883256151889\n",
      "R-squared: 0.9961883256151889\n",
      "R-squared: 0.9961883256151889\n",
      "R-squared: 0.9961883256151889\n",
      "R-squared: 0.9962849832275322\n",
      "R-squared: 0.9961485419573626\n",
      "R-squared: 0.9961485419573626\n",
      "R-squared: 0.9961485419573626\n",
      "R-squared: 0.9961647386718623\n",
      "R-squared: 0.9961647386718623\n",
      "R-squared: 0.9946575913002386\n",
      "R-squared: 0.996236335597331\n",
      "R-squared: 0.9961275626662089\n",
      "R-squared: 0.9961275626662089\n",
      "R-squared: 0.9961275626662089\n",
      "R-squared: 0.9961275626662089\n",
      "R-squared: 0.9962379833824767\n",
      "R-squared: 0.9962379833824767\n",
      "R-squared: 0.9937505336038905\n",
      "R-squared: 0.9964055734296168\n",
      "R-squared: 0.9964055734296168\n",
      "R-squared: 0.9964055734296168\n",
      "R-squared: 0.9961961718620557\n",
      "R-squared: 0.9961961718620557\n",
      "R-squared: 0.9961961718620557\n",
      "R-squared: 0.9961961718620557\n",
      "R-squared: 0.9963328247455847\n",
      "R-squared: 0.9963304718679239\n",
      "R-squared: 0.9962066489476186\n",
      "R-squared: 0.9962066489476186\n",
      "R-squared: 0.996199530738943\n",
      "R-squared: 0.9963712621799882\n",
      "R-squared: 0.9963712621799882\n",
      "R-squared: 0.9963751143885368\n",
      "R-squared: 0.9962562289305028\n",
      "R-squared: 0.9962562289305028\n",
      "R-squared: 0.9960998459179866\n",
      "R-squared: 0.9961333042551759\n",
      "R-squared: 0.9961333042551759\n",
      "R-squared: 0.9964545847376487\n",
      "R-squared: 0.9962049645203312\n",
      "R-squared: 0.996354713195076\n",
      "R-squared: 0.996170605443768\n",
      "R-squared: 0.9961474116855533\n",
      "R-squared: 0.9961474116855533\n",
      "R-squared: 0.9955264467082854\n",
      "R-squared: 0.9904825105898607\n",
      "R-squared: 0.9899756543842553\n",
      "R-squared: 0.9882109213144146\n",
      "R-squared: 0.9886283084085045\n",
      "R-squared: 0.9885097487670419\n",
      "R-squared: 0.9885715849351848\n",
      "R-squared: 0.9877785195921787\n",
      "R-squared: 0.9885875059331791\n",
      "R-squared: 0.9883858710890137\n",
      "R-squared: 0.9898089158063632\n",
      "R-squared: 0.9883836178099134\n",
      "R-squared: 0.9870769009666207\n",
      "R-squared: 0.9883660328624525\n",
      "R-squared: 0.9888526541001034\n",
      "R-squared: 0.9880169001041498\n",
      "R-squared: 0.9887595882885543\n",
      "R-squared: 0.9883079187323961\n",
      "R-squared: 0.988574926490944\n",
      "R-squared: 0.9886465733371352\n",
      "R-squared: 0.9883485410944741\n",
      "R-squared: 0.9952000029566895\n",
      "R-squared: 0.9882240613390059\n",
      "R-squared: 0.9886568039602914\n",
      "R-squared: 0.9877286136669134\n",
      "R-squared: 0.987976240698645\n",
      "R-squared: 0.9951910011182885\n",
      "R-squared: 0.9878848947902021\n",
      "R-squared: 0.988290394426668\n",
      "R-squared: 0.9872584660334371\n",
      "R-squared: 0.9898837751800347\n",
      "R-squared: 0.9876319692843277\n",
      "R-squared: 0.9886454748581871\n",
      "R-squared: 0.9887708348071025\n",
      "R-squared: 0.9879386601313689\n",
      "R-squared: 0.9876880600308227\n",
      "R-squared: 0.9885280717194506\n",
      "R-squared: 0.9951842746377098\n",
      "R-squared: 0.986796561639954\n",
      "R-squared: 0.9880163034097511\n",
      "R-squared: 0.9879390985764033\n",
      "R-squared: 0.9877458428433366\n",
      "R-squared: 0.9876968038817527\n",
      "R-squared: 0.9885143960609881\n",
      "R-squared: 0.987740619723559\n",
      "R-squared: 0.9871421348931702\n",
      "R-squared: 0.9880013562620219\n",
      "R-squared: 0.995140445481169\n",
      "R-squared: 0.987200875720401\n",
      "R-squared: 0.9879548955697501\n",
      "R-squared: 0.987815311431231\n",
      "R-squared: 0.9878226285582872\n",
      "R-squared: 0.9878226285582872\n",
      "R-squared: 0.9878226285582872\n",
      "R-squared: 0.9878226285582872\n",
      "R-squared: 0.9878226285582872\n",
      "R-squared: 0.9878226285582872\n",
      "R-squared: 0.9890494380580355\n",
      "R-squared: 0.9878822534203313\n",
      "R-squared: 0.9880548873849795\n",
      "R-squared: 0.9880548873849795\n",
      "R-squared: 0.9876869628894649\n",
      "R-squared: 0.9878945344047739\n",
      "R-squared: 0.9878074122400393\n",
      "R-squared: 0.9891199580930996\n",
      "R-squared: 0.9880088790108109\n",
      "R-squared: 0.9880088790108109\n",
      "R-squared: 0.9880824773693736\n",
      "R-squared: 0.9878788442287298\n",
      "R-squared: 0.9879284646455472\n",
      "R-squared: 0.9879284646455472\n",
      "R-squared: 0.9879284646455472\n",
      "R-squared: 0.9879284646455472\n",
      "R-squared: 0.9890946016262406\n",
      "R-squared: 0.9890946016262406\n",
      "R-squared: 0.9890946016262406\n",
      "R-squared: 0.9890946016262406\n",
      "R-squared: 0.9879188920965065\n",
      "R-squared: 0.9879188920965065\n",
      "R-squared: 0.9879188920965065\n",
      "R-squared: 0.9879253484913914\n",
      "R-squared: 0.9879728667023906\n",
      "R-squared: 0.9879728667023906\n",
      "R-squared: 0.9879728667023906\n",
      "R-squared: 0.9879728667023906\n",
      "R-squared: 0.988116708426462\n",
      "R-squared: 0.988116708426462\n",
      "R-squared: 0.9880984574277459\n",
      "R-squared: 0.9891405082293321\n",
      "R-squared: 0.9892004464741501\n",
      "R-squared: 0.9893184137550785\n",
      "R-squared: 0.9893184137550785\n",
      "R-squared: 0.9875554731711766\n",
      "R-squared: 0.9880017460705208\n",
      "R-squared: 0.9891140281851419\n",
      "R-squared: 0.9877830995278878\n",
      "R-squared: 0.9881861724844745\n",
      "R-squared: 0.9891530014715904\n",
      "R-squared: 0.9880789202220254\n",
      "R-squared: 0.9892572154088526\n",
      "R-squared: 0.9878075478313187\n"
     ]
    }
   ],
   "source": [
    "typeStr = None\n",
    "\n",
    "for useFixed in [True, False]: #, False\n",
    "    if useFixed:\n",
    "        typeStr = 'fixed'\n",
    "    else :\n",
    "        typeStr = 'float'\n",
    "\n",
    "    for rtn in ['rtn_3', 'rtn_4','rtn_5']:\n",
    "        df_with_proba = (\n",
    "            pd.read_pickle(f\"df_oos_with_proba_{typeStr}_{rtn}.pkl\")\n",
    "            .merge(\n",
    "                df_with_feats_ml[['code','date','weighted_price_change_p_short', 'weighted_price_change_p_mid']]\n",
    "            )\n",
    "            .dropna(subset=['weighted_price_change_p_short', 'weighted_price_change_p_mid'])\n",
    "        )\n",
    "        df_study_result = pd.read_pickle(f\"study_result_20240217_best_combi_of_thres_{typeStr}_{rtn}.pkl\")\n",
    "        # print(df_study_result.columns)\n",
    "\n",
    "        df_study_result = df_study_result.drop_duplicates(subset=['thres_for_max', 'thres_for_mean', 'thres_mean_max', 'thres_mean_mean']).sort_values(\"value\", ascending=False).head(50)\n",
    "\n",
    "        df_study_result['r_square'] = df_study_result.apply(lambda row : get_rsquare(df_with_proba, rtn, row), axis=1 )\n",
    "\n",
    "        \n",
    "        df_study_result.to_pickle(f\"study_result_add_r2_{typeStr}_{rtn}.pkl\")\n",
    "        "
   ]
  },
  {
   "cell_type": "markdown",
   "metadata": {},
   "source": [
    "#### Get Bset R2 Results"
   ]
  },
  {
   "cell_type": "code",
   "execution_count": 80,
   "metadata": {},
   "outputs": [
    {
     "name": "stdout",
     "output_type": "stream",
     "text": [
      "rtn_3_fixed\n",
      "     number       value             datetime_start          datetime_complete  \\\n",
      "144     144  132.612399 2024-02-17 17:41:17.311245 2024-02-17 17:41:26.919777   \n",
      "\n",
      "                  duration  thres_for_max  thres_for_mean  thres_mean_max  \\\n",
      "144 0 days 00:00:09.608532           0.86            0.51            0.88   \n",
      "\n",
      "     thres_mean_mean     state  r_square  \n",
      "144             0.53  COMPLETE  0.966123  \n",
      "\n",
      "\n",
      "rtn_4_fixed\n",
      "     number      value             datetime_start          datetime_complete  \\\n",
      "288     288  85.112958 2024-02-17 20:18:43.150731 2024-02-17 20:18:52.493840   \n",
      "\n",
      "                  duration  thres_for_max  thres_for_mean  thres_mean_max  \\\n",
      "288 0 days 00:00:09.343109           0.89             0.3            0.67   \n",
      "\n",
      "     thres_mean_mean     state  r_square  \n",
      "288              0.7  COMPLETE  0.991692  \n",
      "\n",
      "\n",
      "rtn_5_fixed\n",
      "     number      value             datetime_start          datetime_complete  \\\n",
      "140     140  60.045734 2024-02-17 22:04:29.963007 2024-02-17 22:04:39.535849   \n",
      "\n",
      "                  duration  thres_for_max  thres_for_mean  thres_mean_max  \\\n",
      "140 0 days 00:00:09.572842           0.85             0.3            0.83   \n",
      "\n",
      "     thres_mean_mean     state  r_square  \n",
      "140             0.34  COMPLETE  0.990326  \n",
      "\n",
      "\n",
      "rtn_3_float\n",
      "     number       value             datetime_start          datetime_complete  \\\n",
      "379     379  121.006597 2024-02-17 19:24:45.215560 2024-02-17 19:24:55.007103   \n",
      "\n",
      "                  duration  thres_for_max  thres_for_mean  thres_mean_max  \\\n",
      "379 0 days 00:00:09.791543           0.86             0.3            0.55   \n",
      "\n",
      "     thres_mean_mean     state  r_square  \n",
      "379             0.57  COMPLETE  0.996455  \n",
      "\n",
      "\n",
      "rtn_4_float\n",
      "     number       value             datetime_start          datetime_complete  \\\n",
      "225     225  134.125601 2024-02-17 21:13:10.039117 2024-02-17 21:13:19.773068   \n",
      "\n",
      "                  duration  thres_for_max  thres_for_mean  thres_mean_max  \\\n",
      "225 0 days 00:00:09.733951           0.86             0.9            0.75   \n",
      "\n",
      "     thres_mean_mean     state  r_square  \n",
      "225             0.43  COMPLETE    0.9952  \n",
      "\n",
      "\n",
      "rtn_5_float\n",
      "     number      value             datetime_start          datetime_complete  \\\n",
      "104     104  82.589792 2024-02-18 03:26:30.265811 2024-02-18 03:26:43.579467   \n",
      "\n",
      "                  duration  thres_for_max  thres_for_mean  thres_mean_max  \\\n",
      "104 0 days 00:00:13.313656            0.9            0.35            0.79   \n",
      "\n",
      "     thres_mean_mean     state  r_square  \n",
      "104             0.54  COMPLETE  0.989318  \n",
      "\n",
      "\n"
     ]
    }
   ],
   "source": [
    "l_result = []\n",
    "l_best_combi = []\n",
    "\n",
    "for typeStr in ['fixed', 'float']:\n",
    "\n",
    "    for rtn in ['rtn_3', 'rtn_4', 'rtn_5']:\n",
    "\n",
    "        print(f\"{rtn}_{typeStr}\")\n",
    "        df_with_proba = (\n",
    "            pd.read_pickle(f\"df_oos_with_proba_{typeStr}_{rtn}.pkl\")\n",
    "            .merge(\n",
    "                df_with_feats_ml[['code','date','weighted_price_change_p_short', 'weighted_price_change_p_mid']]\n",
    "            )\n",
    "        )\n",
    "        df_study_result_with_rs = pd.read_pickle(f\"study_result_add_r2_{typeStr}_{rtn}.pkl\")\n",
    "\n",
    "        pecentile_09 = df_study_result_with_rs['r_square'].quantile(0.9)\n",
    "        \n",
    "        max_row = (\n",
    "            df_study_result_with_rs.loc[lambda df : df['r_square'] >= pecentile_09]\n",
    "            .sort_values('r_square', ascending=False).head(1)\n",
    "        )\n",
    "        max_row['case'] = f\"{rtn}_{typeStr}\"\n",
    "\n",
    "        l_best_combi.append(\n",
    "            max_row\n",
    "        )\n",
    "\n",
    "        max_row = df_study_result_with_rs.sort_values('r_square', ascending=False).head(1)\n",
    "        print(max_row)\n",
    "        thres_for_max = max_row['thres_for_max'].iloc[0]\n",
    "        thres_for_mean = max_row['thres_for_mean'].iloc[0]\n",
    "        thres_mean_max = max_row['thres_mean_max'].iloc[0]\n",
    "        thres_mean_mean = max_row['thres_mean_mean'].iloc[0]\n",
    "\n",
    "        # 'thres_for_max', 'thres_for_mean', 'thres_mean_max', 'thres_mean_mean',\n",
    "\n",
    "\n",
    "        sr_final = get_df_rtn_result(df_with_proba, thres_for_max, thres_for_mean, thres_mean_max, thres_mean_mean, rtn)\n",
    "        sr_final.name = f\"{rtn}_{typeStr}\"\n",
    "        \n",
    "        l_result.append(\n",
    "            sr_final.rename({'rtn_p': f\"{rtn}_{typeStr}\"})\n",
    "        )\n",
    "        print('\\n')"
   ]
  },
  {
   "cell_type": "code",
   "execution_count": 81,
   "metadata": {},
   "outputs": [
    {
     "data": {
      "text/html": [
       "<div>\n",
       "<style scoped>\n",
       "    .dataframe tbody tr th:only-of-type {\n",
       "        vertical-align: middle;\n",
       "    }\n",
       "\n",
       "    .dataframe tbody tr th {\n",
       "        vertical-align: top;\n",
       "    }\n",
       "\n",
       "    .dataframe thead th {\n",
       "        text-align: right;\n",
       "    }\n",
       "</style>\n",
       "<table border=\"1\" class=\"dataframe\">\n",
       "  <thead>\n",
       "    <tr style=\"text-align: right;\">\n",
       "      <th></th>\n",
       "      <th>number</th>\n",
       "      <th>value</th>\n",
       "      <th>datetime_start</th>\n",
       "      <th>datetime_complete</th>\n",
       "      <th>duration</th>\n",
       "      <th>thres_for_max</th>\n",
       "      <th>thres_for_mean</th>\n",
       "      <th>thres_mean_max</th>\n",
       "      <th>thres_mean_mean</th>\n",
       "      <th>state</th>\n",
       "      <th>r_square</th>\n",
       "      <th>case</th>\n",
       "    </tr>\n",
       "  </thead>\n",
       "  <tbody>\n",
       "    <tr>\n",
       "      <th>144</th>\n",
       "      <td>144</td>\n",
       "      <td>132.612399</td>\n",
       "      <td>2024-02-17 17:41:17.311245</td>\n",
       "      <td>2024-02-17 17:41:26.919777</td>\n",
       "      <td>0 days 00:00:09.608532</td>\n",
       "      <td>0.86</td>\n",
       "      <td>0.51</td>\n",
       "      <td>0.88</td>\n",
       "      <td>0.53</td>\n",
       "      <td>COMPLETE</td>\n",
       "      <td>0.966123</td>\n",
       "      <td>rtn_3_fixed</td>\n",
       "    </tr>\n",
       "    <tr>\n",
       "      <th>288</th>\n",
       "      <td>288</td>\n",
       "      <td>85.112958</td>\n",
       "      <td>2024-02-17 20:18:43.150731</td>\n",
       "      <td>2024-02-17 20:18:52.493840</td>\n",
       "      <td>0 days 00:00:09.343109</td>\n",
       "      <td>0.89</td>\n",
       "      <td>0.30</td>\n",
       "      <td>0.67</td>\n",
       "      <td>0.70</td>\n",
       "      <td>COMPLETE</td>\n",
       "      <td>0.991692</td>\n",
       "      <td>rtn_4_fixed</td>\n",
       "    </tr>\n",
       "    <tr>\n",
       "      <th>140</th>\n",
       "      <td>140</td>\n",
       "      <td>60.045734</td>\n",
       "      <td>2024-02-17 22:04:29.963007</td>\n",
       "      <td>2024-02-17 22:04:39.535849</td>\n",
       "      <td>0 days 00:00:09.572842</td>\n",
       "      <td>0.85</td>\n",
       "      <td>0.30</td>\n",
       "      <td>0.83</td>\n",
       "      <td>0.34</td>\n",
       "      <td>COMPLETE</td>\n",
       "      <td>0.990326</td>\n",
       "      <td>rtn_5_fixed</td>\n",
       "    </tr>\n",
       "    <tr>\n",
       "      <th>379</th>\n",
       "      <td>379</td>\n",
       "      <td>121.006597</td>\n",
       "      <td>2024-02-17 19:24:45.215560</td>\n",
       "      <td>2024-02-17 19:24:55.007103</td>\n",
       "      <td>0 days 00:00:09.791543</td>\n",
       "      <td>0.86</td>\n",
       "      <td>0.30</td>\n",
       "      <td>0.55</td>\n",
       "      <td>0.57</td>\n",
       "      <td>COMPLETE</td>\n",
       "      <td>0.996455</td>\n",
       "      <td>rtn_3_float</td>\n",
       "    </tr>\n",
       "    <tr>\n",
       "      <th>225</th>\n",
       "      <td>225</td>\n",
       "      <td>134.125601</td>\n",
       "      <td>2024-02-17 21:13:10.039117</td>\n",
       "      <td>2024-02-17 21:13:19.773068</td>\n",
       "      <td>0 days 00:00:09.733951</td>\n",
       "      <td>0.86</td>\n",
       "      <td>0.90</td>\n",
       "      <td>0.75</td>\n",
       "      <td>0.43</td>\n",
       "      <td>COMPLETE</td>\n",
       "      <td>0.995200</td>\n",
       "      <td>rtn_4_float</td>\n",
       "    </tr>\n",
       "    <tr>\n",
       "      <th>224</th>\n",
       "      <td>224</td>\n",
       "      <td>82.589792</td>\n",
       "      <td>2024-02-18 05:50:58.912852</td>\n",
       "      <td>2024-02-18 05:51:12.680491</td>\n",
       "      <td>0 days 00:00:13.767639</td>\n",
       "      <td>0.90</td>\n",
       "      <td>0.35</td>\n",
       "      <td>0.79</td>\n",
       "      <td>0.64</td>\n",
       "      <td>COMPLETE</td>\n",
       "      <td>0.989318</td>\n",
       "      <td>rtn_5_float</td>\n",
       "    </tr>\n",
       "  </tbody>\n",
       "</table>\n",
       "</div>"
      ],
      "text/plain": [
       "     number       value             datetime_start          datetime_complete  \\\n",
       "144     144  132.612399 2024-02-17 17:41:17.311245 2024-02-17 17:41:26.919777   \n",
       "288     288   85.112958 2024-02-17 20:18:43.150731 2024-02-17 20:18:52.493840   \n",
       "140     140   60.045734 2024-02-17 22:04:29.963007 2024-02-17 22:04:39.535849   \n",
       "379     379  121.006597 2024-02-17 19:24:45.215560 2024-02-17 19:24:55.007103   \n",
       "225     225  134.125601 2024-02-17 21:13:10.039117 2024-02-17 21:13:19.773068   \n",
       "224     224   82.589792 2024-02-18 05:50:58.912852 2024-02-18 05:51:12.680491   \n",
       "\n",
       "                  duration  thres_for_max  thres_for_mean  thres_mean_max  \\\n",
       "144 0 days 00:00:09.608532           0.86            0.51            0.88   \n",
       "288 0 days 00:00:09.343109           0.89            0.30            0.67   \n",
       "140 0 days 00:00:09.572842           0.85            0.30            0.83   \n",
       "379 0 days 00:00:09.791543           0.86            0.30            0.55   \n",
       "225 0 days 00:00:09.733951           0.86            0.90            0.75   \n",
       "224 0 days 00:00:13.767639           0.90            0.35            0.79   \n",
       "\n",
       "     thres_mean_mean     state  r_square         case  \n",
       "144             0.53  COMPLETE  0.966123  rtn_3_fixed  \n",
       "288             0.70  COMPLETE  0.991692  rtn_4_fixed  \n",
       "140             0.34  COMPLETE  0.990326  rtn_5_fixed  \n",
       "379             0.57  COMPLETE  0.996455  rtn_3_float  \n",
       "225             0.43  COMPLETE  0.995200  rtn_4_float  \n",
       "224             0.64  COMPLETE  0.989318  rtn_5_float  "
      ]
     },
     "execution_count": 81,
     "metadata": {},
     "output_type": "execute_result"
    }
   ],
   "source": [
    "pd.concat(l_best_combi)"
   ]
  },
  {
   "cell_type": "code",
   "execution_count": 43,
   "metadata": {},
   "outputs": [],
   "source": [
    "df_result_opt = pd.concat(l_result, axis=1)"
   ]
  },
  {
   "cell_type": "code",
   "execution_count": 44,
   "metadata": {},
   "outputs": [],
   "source": [
    "df_result_opt.to_pickle(\"df_oos_opt_result_applied.pkl\")"
   ]
  },
  {
   "cell_type": "code",
   "execution_count": 65,
   "metadata": {},
   "outputs": [
    {
     "data": {
      "application/vnd.plotly.v1+json": {
       "config": {
        "plotlyServerURL": "https://plot.ly"
       },
       "data": [
        {
         "hovertemplate": "variable=rtn_3_fixed<br>date=%{x}<br>value=%{y}<extra></extra>",
         "legendgroup": "rtn_3_fixed",
         "marker": {
          "color": "#636efa",
          "symbol": "circle"
         },
         "mode": "markers",
         "name": "rtn_3_fixed",
         "orientation": "v",
         "showlegend": true,
         "type": "scatter",
         "x": [
          "2015-11-26",
          "2015-12-23",
          "2016-01-22",
          "2016-02-23",
          "2016-03-22",
          "2016-04-19",
          "2016-05-18",
          "2016-06-15",
          "2016-07-12",
          "2016-08-08",
          "2016-09-05",
          "2016-10-06",
          "2016-11-02",
          "2016-11-29",
          "2016-12-26",
          "2017-01-23",
          "2017-02-21",
          "2017-03-21",
          "2017-04-17",
          "2017-05-18",
          "2017-06-15",
          "2017-07-12",
          "2017-08-08",
          "2017-09-05",
          "2017-10-10",
          "2017-11-06",
          "2017-12-01",
          "2018-01-02",
          "2018-01-29",
          "2018-02-27",
          "2018-03-27",
          "2018-04-23",
          "2018-05-23",
          "2018-06-21",
          "2018-07-18",
          "2018-08-14",
          "2018-09-11",
          "2018-10-15",
          "2018-11-09",
          "2018-12-06",
          "2019-01-07",
          "2019-02-01",
          "2019-03-06",
          "2019-04-02",
          "2019-04-29",
          "2019-05-28",
          "2019-06-25",
          "2019-07-22",
          "2019-08-19",
          "2019-09-17",
          "2019-10-16",
          "2019-11-12",
          "2019-12-09",
          "2020-01-08",
          "2020-02-06",
          "2020-03-04",
          "2020-03-31",
          "2020-04-28",
          "2020-05-28",
          "2020-06-24",
          "2020-07-21",
          "2020-08-18",
          "2020-09-14",
          "2020-10-15",
          "2020-11-11",
          "2020-12-08",
          "2021-01-07",
          "2021-02-03",
          "2021-03-05",
          "2021-04-01",
          "2021-04-28",
          "2021-05-27",
          "2021-06-23",
          "2021-07-20",
          "2021-08-17",
          "2021-09-13",
          "2021-10-15",
          "2021-11-11",
          "2021-12-08",
          "2022-01-05",
          "2022-02-04",
          "2022-03-04",
          "2022-04-01",
          "2022-04-28",
          "2022-05-26",
          "2022-06-24",
          "2022-07-21",
          "2022-08-18",
          "2022-09-16",
          "2022-10-17",
          "2022-11-11",
          "2022-12-08",
          "2023-01-05",
          "2023-02-03",
          "2023-03-03",
          "2023-03-30",
          "2023-04-26",
          "2023-05-25",
          "2023-06-23",
          "2023-07-20",
          "2023-08-17",
          "2023-09-13",
          "2023-09-19"
         ],
         "xaxis": "x",
         "y": [
          -0.042858770566167194,
          0.15937064606495174,
          0.20417016749999323,
          0.3251020174148695,
          0.36361175568782533,
          0.35535354055780166,
          0.4023476989412249,
          0.6019171636892686,
          0.6500156303697581,
          0.699755990639724,
          0.6865178017232485,
          0.8401518344395336,
          0.75106651381365,
          0.7236486100621,
          0.7752305892733506,
          1.00380952668286,
          0.9834474905101634,
          1.056208344579733,
          1.1434621473181756,
          1.122903160972595,
          1.1817891938675444,
          1.228597882157506,
          1.2930155268012529,
          1.2603956983389926,
          1.269795244368858,
          1.3202818505659115,
          1.3418053619747912,
          1.4516179112272625,
          1.5905435144349231,
          1.6450144673119707,
          1.6784030012648954,
          1.7905381214684029,
          1.7907072532395996,
          1.797649512255114,
          1.8661805310889286,
          1.8183824977965493,
          1.9652316928627933,
          1.9466377684375005,
          1.9239133882537887,
          2.0206466282545463,
          2.0108439797681776,
          2.1963774901595703,
          2.1967227355583434,
          2.1627871900241016,
          2.169998111547524,
          2.152569723928035,
          2.175536062605231,
          2.1567575680201254,
          2.141574899447357,
          2.196145937113817,
          2.30345236716338,
          2.393252260610567,
          2.6555557143848367,
          2.698516537267266,
          2.6565986959731203,
          2.6165107279978934,
          2.5581366911732677,
          2.6728530566220896,
          2.6917267072061515,
          2.65581976994608,
          2.705321747480348,
          2.631228080971654,
          2.758613536977189,
          2.762976046297657,
          2.7523279721059617,
          2.7452173169375587,
          2.8336880067159345,
          2.9100530219106853,
          2.9740740659674096,
          3.0965033944177964,
          3.0301283964346375,
          3.0452317626991854,
          3.178651393967904,
          3.1913499304264463,
          3.0629208422571295,
          3.135115978084181,
          3.187255048724462,
          3.2260094570271223,
          3.3117824792054513,
          3.9705088590262276,
          4.012752465857713,
          4.095682019492171,
          4.230936618195346,
          4.181152253769965,
          4.304814521304657,
          4.2063476775784,
          4.336940714187698,
          4.414478762881659,
          4.428513528364095,
          4.719742154187964,
          4.897411245834424,
          4.939127301795642,
          5.028269855344856,
          5.028269855344856,
          5.028269855344856,
          5.029659982905791,
          5.075875886829077,
          5.051264207330824,
          5.133887627332704,
          5.343727716593647,
          5.322415160121673,
          5.42485781357831,
          5.42485781357831
         ],
         "yaxis": "y"
        }
       ],
       "layout": {
        "legend": {
         "title": {
          "text": "variable"
         },
         "tracegroupgap": 0
        },
        "margin": {
         "t": 60
        },
        "template": {
         "data": {
          "bar": [
           {
            "error_x": {
             "color": "#2a3f5f"
            },
            "error_y": {
             "color": "#2a3f5f"
            },
            "marker": {
             "line": {
              "color": "#E5ECF6",
              "width": 0.5
             },
             "pattern": {
              "fillmode": "overlay",
              "size": 10,
              "solidity": 0.2
             }
            },
            "type": "bar"
           }
          ],
          "barpolar": [
           {
            "marker": {
             "line": {
              "color": "#E5ECF6",
              "width": 0.5
             },
             "pattern": {
              "fillmode": "overlay",
              "size": 10,
              "solidity": 0.2
             }
            },
            "type": "barpolar"
           }
          ],
          "carpet": [
           {
            "aaxis": {
             "endlinecolor": "#2a3f5f",
             "gridcolor": "white",
             "linecolor": "white",
             "minorgridcolor": "white",
             "startlinecolor": "#2a3f5f"
            },
            "baxis": {
             "endlinecolor": "#2a3f5f",
             "gridcolor": "white",
             "linecolor": "white",
             "minorgridcolor": "white",
             "startlinecolor": "#2a3f5f"
            },
            "type": "carpet"
           }
          ],
          "choropleth": [
           {
            "colorbar": {
             "outlinewidth": 0,
             "ticks": ""
            },
            "type": "choropleth"
           }
          ],
          "contour": [
           {
            "colorbar": {
             "outlinewidth": 0,
             "ticks": ""
            },
            "colorscale": [
             [
              0,
              "#0d0887"
             ],
             [
              0.1111111111111111,
              "#46039f"
             ],
             [
              0.2222222222222222,
              "#7201a8"
             ],
             [
              0.3333333333333333,
              "#9c179e"
             ],
             [
              0.4444444444444444,
              "#bd3786"
             ],
             [
              0.5555555555555556,
              "#d8576b"
             ],
             [
              0.6666666666666666,
              "#ed7953"
             ],
             [
              0.7777777777777778,
              "#fb9f3a"
             ],
             [
              0.8888888888888888,
              "#fdca26"
             ],
             [
              1,
              "#f0f921"
             ]
            ],
            "type": "contour"
           }
          ],
          "contourcarpet": [
           {
            "colorbar": {
             "outlinewidth": 0,
             "ticks": ""
            },
            "type": "contourcarpet"
           }
          ],
          "heatmap": [
           {
            "colorbar": {
             "outlinewidth": 0,
             "ticks": ""
            },
            "colorscale": [
             [
              0,
              "#0d0887"
             ],
             [
              0.1111111111111111,
              "#46039f"
             ],
             [
              0.2222222222222222,
              "#7201a8"
             ],
             [
              0.3333333333333333,
              "#9c179e"
             ],
             [
              0.4444444444444444,
              "#bd3786"
             ],
             [
              0.5555555555555556,
              "#d8576b"
             ],
             [
              0.6666666666666666,
              "#ed7953"
             ],
             [
              0.7777777777777778,
              "#fb9f3a"
             ],
             [
              0.8888888888888888,
              "#fdca26"
             ],
             [
              1,
              "#f0f921"
             ]
            ],
            "type": "heatmap"
           }
          ],
          "heatmapgl": [
           {
            "colorbar": {
             "outlinewidth": 0,
             "ticks": ""
            },
            "colorscale": [
             [
              0,
              "#0d0887"
             ],
             [
              0.1111111111111111,
              "#46039f"
             ],
             [
              0.2222222222222222,
              "#7201a8"
             ],
             [
              0.3333333333333333,
              "#9c179e"
             ],
             [
              0.4444444444444444,
              "#bd3786"
             ],
             [
              0.5555555555555556,
              "#d8576b"
             ],
             [
              0.6666666666666666,
              "#ed7953"
             ],
             [
              0.7777777777777778,
              "#fb9f3a"
             ],
             [
              0.8888888888888888,
              "#fdca26"
             ],
             [
              1,
              "#f0f921"
             ]
            ],
            "type": "heatmapgl"
           }
          ],
          "histogram": [
           {
            "marker": {
             "pattern": {
              "fillmode": "overlay",
              "size": 10,
              "solidity": 0.2
             }
            },
            "type": "histogram"
           }
          ],
          "histogram2d": [
           {
            "colorbar": {
             "outlinewidth": 0,
             "ticks": ""
            },
            "colorscale": [
             [
              0,
              "#0d0887"
             ],
             [
              0.1111111111111111,
              "#46039f"
             ],
             [
              0.2222222222222222,
              "#7201a8"
             ],
             [
              0.3333333333333333,
              "#9c179e"
             ],
             [
              0.4444444444444444,
              "#bd3786"
             ],
             [
              0.5555555555555556,
              "#d8576b"
             ],
             [
              0.6666666666666666,
              "#ed7953"
             ],
             [
              0.7777777777777778,
              "#fb9f3a"
             ],
             [
              0.8888888888888888,
              "#fdca26"
             ],
             [
              1,
              "#f0f921"
             ]
            ],
            "type": "histogram2d"
           }
          ],
          "histogram2dcontour": [
           {
            "colorbar": {
             "outlinewidth": 0,
             "ticks": ""
            },
            "colorscale": [
             [
              0,
              "#0d0887"
             ],
             [
              0.1111111111111111,
              "#46039f"
             ],
             [
              0.2222222222222222,
              "#7201a8"
             ],
             [
              0.3333333333333333,
              "#9c179e"
             ],
             [
              0.4444444444444444,
              "#bd3786"
             ],
             [
              0.5555555555555556,
              "#d8576b"
             ],
             [
              0.6666666666666666,
              "#ed7953"
             ],
             [
              0.7777777777777778,
              "#fb9f3a"
             ],
             [
              0.8888888888888888,
              "#fdca26"
             ],
             [
              1,
              "#f0f921"
             ]
            ],
            "type": "histogram2dcontour"
           }
          ],
          "mesh3d": [
           {
            "colorbar": {
             "outlinewidth": 0,
             "ticks": ""
            },
            "type": "mesh3d"
           }
          ],
          "parcoords": [
           {
            "line": {
             "colorbar": {
              "outlinewidth": 0,
              "ticks": ""
             }
            },
            "type": "parcoords"
           }
          ],
          "pie": [
           {
            "automargin": true,
            "type": "pie"
           }
          ],
          "scatter": [
           {
            "fillpattern": {
             "fillmode": "overlay",
             "size": 10,
             "solidity": 0.2
            },
            "type": "scatter"
           }
          ],
          "scatter3d": [
           {
            "line": {
             "colorbar": {
              "outlinewidth": 0,
              "ticks": ""
             }
            },
            "marker": {
             "colorbar": {
              "outlinewidth": 0,
              "ticks": ""
             }
            },
            "type": "scatter3d"
           }
          ],
          "scattercarpet": [
           {
            "marker": {
             "colorbar": {
              "outlinewidth": 0,
              "ticks": ""
             }
            },
            "type": "scattercarpet"
           }
          ],
          "scattergeo": [
           {
            "marker": {
             "colorbar": {
              "outlinewidth": 0,
              "ticks": ""
             }
            },
            "type": "scattergeo"
           }
          ],
          "scattergl": [
           {
            "marker": {
             "colorbar": {
              "outlinewidth": 0,
              "ticks": ""
             }
            },
            "type": "scattergl"
           }
          ],
          "scattermapbox": [
           {
            "marker": {
             "colorbar": {
              "outlinewidth": 0,
              "ticks": ""
             }
            },
            "type": "scattermapbox"
           }
          ],
          "scatterpolar": [
           {
            "marker": {
             "colorbar": {
              "outlinewidth": 0,
              "ticks": ""
             }
            },
            "type": "scatterpolar"
           }
          ],
          "scatterpolargl": [
           {
            "marker": {
             "colorbar": {
              "outlinewidth": 0,
              "ticks": ""
             }
            },
            "type": "scatterpolargl"
           }
          ],
          "scatterternary": [
           {
            "marker": {
             "colorbar": {
              "outlinewidth": 0,
              "ticks": ""
             }
            },
            "type": "scatterternary"
           }
          ],
          "surface": [
           {
            "colorbar": {
             "outlinewidth": 0,
             "ticks": ""
            },
            "colorscale": [
             [
              0,
              "#0d0887"
             ],
             [
              0.1111111111111111,
              "#46039f"
             ],
             [
              0.2222222222222222,
              "#7201a8"
             ],
             [
              0.3333333333333333,
              "#9c179e"
             ],
             [
              0.4444444444444444,
              "#bd3786"
             ],
             [
              0.5555555555555556,
              "#d8576b"
             ],
             [
              0.6666666666666666,
              "#ed7953"
             ],
             [
              0.7777777777777778,
              "#fb9f3a"
             ],
             [
              0.8888888888888888,
              "#fdca26"
             ],
             [
              1,
              "#f0f921"
             ]
            ],
            "type": "surface"
           }
          ],
          "table": [
           {
            "cells": {
             "fill": {
              "color": "#EBF0F8"
             },
             "line": {
              "color": "white"
             }
            },
            "header": {
             "fill": {
              "color": "#C8D4E3"
             },
             "line": {
              "color": "white"
             }
            },
            "type": "table"
           }
          ]
         },
         "layout": {
          "annotationdefaults": {
           "arrowcolor": "#2a3f5f",
           "arrowhead": 0,
           "arrowwidth": 1
          },
          "autotypenumbers": "strict",
          "coloraxis": {
           "colorbar": {
            "outlinewidth": 0,
            "ticks": ""
           }
          },
          "colorscale": {
           "diverging": [
            [
             0,
             "#8e0152"
            ],
            [
             0.1,
             "#c51b7d"
            ],
            [
             0.2,
             "#de77ae"
            ],
            [
             0.3,
             "#f1b6da"
            ],
            [
             0.4,
             "#fde0ef"
            ],
            [
             0.5,
             "#f7f7f7"
            ],
            [
             0.6,
             "#e6f5d0"
            ],
            [
             0.7,
             "#b8e186"
            ],
            [
             0.8,
             "#7fbc41"
            ],
            [
             0.9,
             "#4d9221"
            ],
            [
             1,
             "#276419"
            ]
           ],
           "sequential": [
            [
             0,
             "#0d0887"
            ],
            [
             0.1111111111111111,
             "#46039f"
            ],
            [
             0.2222222222222222,
             "#7201a8"
            ],
            [
             0.3333333333333333,
             "#9c179e"
            ],
            [
             0.4444444444444444,
             "#bd3786"
            ],
            [
             0.5555555555555556,
             "#d8576b"
            ],
            [
             0.6666666666666666,
             "#ed7953"
            ],
            [
             0.7777777777777778,
             "#fb9f3a"
            ],
            [
             0.8888888888888888,
             "#fdca26"
            ],
            [
             1,
             "#f0f921"
            ]
           ],
           "sequentialminus": [
            [
             0,
             "#0d0887"
            ],
            [
             0.1111111111111111,
             "#46039f"
            ],
            [
             0.2222222222222222,
             "#7201a8"
            ],
            [
             0.3333333333333333,
             "#9c179e"
            ],
            [
             0.4444444444444444,
             "#bd3786"
            ],
            [
             0.5555555555555556,
             "#d8576b"
            ],
            [
             0.6666666666666666,
             "#ed7953"
            ],
            [
             0.7777777777777778,
             "#fb9f3a"
            ],
            [
             0.8888888888888888,
             "#fdca26"
            ],
            [
             1,
             "#f0f921"
            ]
           ]
          },
          "colorway": [
           "#636efa",
           "#EF553B",
           "#00cc96",
           "#ab63fa",
           "#FFA15A",
           "#19d3f3",
           "#FF6692",
           "#B6E880",
           "#FF97FF",
           "#FECB52"
          ],
          "font": {
           "color": "#2a3f5f"
          },
          "geo": {
           "bgcolor": "white",
           "lakecolor": "white",
           "landcolor": "#E5ECF6",
           "showlakes": true,
           "showland": true,
           "subunitcolor": "white"
          },
          "hoverlabel": {
           "align": "left"
          },
          "hovermode": "closest",
          "mapbox": {
           "style": "light"
          },
          "paper_bgcolor": "white",
          "plot_bgcolor": "#E5ECF6",
          "polar": {
           "angularaxis": {
            "gridcolor": "white",
            "linecolor": "white",
            "ticks": ""
           },
           "bgcolor": "#E5ECF6",
           "radialaxis": {
            "gridcolor": "white",
            "linecolor": "white",
            "ticks": ""
           }
          },
          "scene": {
           "xaxis": {
            "backgroundcolor": "#E5ECF6",
            "gridcolor": "white",
            "gridwidth": 2,
            "linecolor": "white",
            "showbackground": true,
            "ticks": "",
            "zerolinecolor": "white"
           },
           "yaxis": {
            "backgroundcolor": "#E5ECF6",
            "gridcolor": "white",
            "gridwidth": 2,
            "linecolor": "white",
            "showbackground": true,
            "ticks": "",
            "zerolinecolor": "white"
           },
           "zaxis": {
            "backgroundcolor": "#E5ECF6",
            "gridcolor": "white",
            "gridwidth": 2,
            "linecolor": "white",
            "showbackground": true,
            "ticks": "",
            "zerolinecolor": "white"
           }
          },
          "shapedefaults": {
           "line": {
            "color": "#2a3f5f"
           }
          },
          "ternary": {
           "aaxis": {
            "gridcolor": "white",
            "linecolor": "white",
            "ticks": ""
           },
           "baxis": {
            "gridcolor": "white",
            "linecolor": "white",
            "ticks": ""
           },
           "bgcolor": "#E5ECF6",
           "caxis": {
            "gridcolor": "white",
            "linecolor": "white",
            "ticks": ""
           }
          },
          "title": {
           "x": 0.05
          },
          "xaxis": {
           "automargin": true,
           "gridcolor": "white",
           "linecolor": "white",
           "ticks": "",
           "title": {
            "standoff": 15
           },
           "zerolinecolor": "white",
           "zerolinewidth": 2
          },
          "yaxis": {
           "automargin": true,
           "gridcolor": "white",
           "linecolor": "white",
           "ticks": "",
           "title": {
            "standoff": 15
           },
           "zerolinecolor": "white",
           "zerolinewidth": 2
          }
         }
        },
        "xaxis": {
         "anchor": "y",
         "domain": [
          0,
          1
         ],
         "title": {
          "text": "date"
         }
        },
        "yaxis": {
         "anchor": "x",
         "domain": [
          0,
          1
         ],
         "title": {
          "text": "value"
         }
        }
       }
      }
     },
     "metadata": {},
     "output_type": "display_data"
    }
   ],
   "source": [
    "(\n",
    "    df_result_opt['rtn_3_fixed']\n",
    "    # + 1\n",
    ").cumsum().plot(kind='scatter')"
   ]
  },
  {
   "cell_type": "code",
   "execution_count": 68,
   "metadata": {},
   "outputs": [
    {
     "data": {
      "application/vnd.plotly.v1+json": {
       "config": {
        "plotlyServerURL": "https://plot.ly"
       },
       "data": [
        {
         "hovertemplate": "variable=rtn_3_float<br>date=%{x}<br>value=%{y}<extra></extra>",
         "legendgroup": "rtn_3_float",
         "marker": {
          "color": "#636efa",
          "symbol": "circle"
         },
         "mode": "markers",
         "name": "rtn_3_float",
         "orientation": "v",
         "showlegend": true,
         "type": "scatter",
         "x": [
          "2015-11-26",
          "2015-12-23",
          "2016-01-22",
          "2016-02-23",
          "2016-03-22",
          "2016-04-19",
          "2016-05-18",
          "2016-06-15",
          "2016-07-12",
          "2016-08-08",
          "2016-09-05",
          "2016-10-06",
          "2016-11-02",
          "2016-11-29",
          "2016-12-26",
          "2017-01-23",
          "2017-02-21",
          "2017-03-21",
          "2017-04-17",
          "2017-05-18",
          "2017-06-15",
          "2017-07-12",
          "2017-08-08",
          "2017-09-05",
          "2017-10-10",
          "2017-11-06",
          "2017-12-01",
          "2018-01-02",
          "2018-01-29",
          "2018-02-27",
          "2018-03-27",
          "2018-04-23",
          "2018-05-23",
          "2018-06-21",
          "2018-07-18",
          "2018-08-14",
          "2018-09-11",
          "2018-10-15",
          "2018-11-09",
          "2018-12-06",
          "2019-01-07",
          "2019-02-01",
          "2019-03-06",
          "2019-04-02",
          "2019-04-29",
          "2019-05-28",
          "2019-06-25",
          "2019-07-22",
          "2019-08-19",
          "2019-09-17",
          "2019-10-16",
          "2019-11-12",
          "2019-12-09",
          "2020-01-08",
          "2020-02-06",
          "2020-03-04",
          "2020-03-31",
          "2020-04-28",
          "2020-05-28",
          "2020-06-24",
          "2020-07-21",
          "2020-08-18",
          "2020-09-14",
          "2020-10-15",
          "2020-11-11",
          "2020-12-08",
          "2021-01-07",
          "2021-02-03",
          "2021-03-05",
          "2021-04-01",
          "2021-04-28",
          "2021-05-27",
          "2021-06-23",
          "2021-07-20",
          "2021-08-17",
          "2021-09-13",
          "2021-10-15",
          "2021-11-11",
          "2021-12-08",
          "2022-01-05",
          "2022-02-04",
          "2022-03-04",
          "2022-04-01",
          "2022-04-28",
          "2022-05-26",
          "2022-06-24",
          "2022-07-21",
          "2022-08-18",
          "2022-09-16",
          "2022-10-17",
          "2022-11-11",
          "2022-12-08",
          "2023-01-05",
          "2023-02-03",
          "2023-03-03",
          "2023-03-30",
          "2023-04-26",
          "2023-05-25",
          "2023-06-23",
          "2023-07-20",
          "2023-08-17",
          "2023-09-13",
          "2023-09-19"
         ],
         "xaxis": "x",
         "y": [
          1.0114765341478584,
          1.2243532612730486,
          1.2681469889677421,
          1.3711063327301578,
          1.518339902492029,
          1.7921738621616021,
          1.6752509528667707,
          1.8525335482227174,
          1.924850193833865,
          1.9678842638542116,
          1.9559550701180042,
          2.21043417896617,
          2.067875504745054,
          2.1789126838297364,
          2.3689239393216055,
          2.6493294147073083,
          2.5069338457466075,
          2.6013864873306494,
          2.8731789149808495,
          2.8390850569944175,
          3.0345600167586606,
          3.1282393483671793,
          3.344781401950728,
          3.3592423709810544,
          3.416778612865433,
          3.680064354916912,
          4.111066525816651,
          4.047014409637918,
          4.390853356657501,
          4.666187342341745,
          4.536325984797078,
          5.257784139678525,
          6.137572500209807,
          6.109412728816644,
          6.482322135338172,
          6.3750593982362105,
          7.0783533150253755,
          6.559861962936988,
          6.834490473578718,
          7.360297744596331,
          7.857671838307364,
          9.39204341693741,
          10.2020139568403,
          10.37929097650305,
          10.09042105435831,
          9.688024428987978,
          9.971944529555381,
          10.217533215992527,
          9.596172624331029,
          10.513935962615601,
          11.87987386795096,
          12.670883753328322,
          15.167631232253413,
          16.758158775940807,
          16.957595276899216,
          16.27415725594316,
          14.828967234582718,
          17.80938336108471,
          18.11162495183344,
          17.180176952848747,
          17.977894251599487,
          18.524212027175384,
          22.10754039167273,
          23.1546661365987,
          23.223127797220048,
          22.892495036722554,
          25.124203959019443,
          26.19957922856793,
          26.76600512456175,
          28.956538346000794,
          28.2529276670099,
          29.809738402194778,
          35.05142467973223,
          33.87397015716278,
          31.34834931250444,
          32.960355492410564,
          33.5544694392678,
          36.399591794068016,
          38.79074812891593,
          48.5996748886784,
          54.04087074352716,
          57.58752907276755,
          64.5796800626013,
          59.78606180392388,
          66.29725030010746,
          59.77362609398624,
          65.68432587000288,
          66.66464659688543,
          65.69228258110962,
          74.94617042518023,
          83.7537419787082,
          83.86341744971189,
          93.03861217257824,
          93.03861217257824,
          93.03861217257824,
          92.94747007122862,
          99.93598400258333,
          98.53420528932108,
          100.35067074128344,
          108.66179032790761,
          114.88666978277737,
          121.00659690942217,
          121.00659690942217
         ],
         "yaxis": "y"
        }
       ],
       "layout": {
        "legend": {
         "title": {
          "text": "variable"
         },
         "tracegroupgap": 0
        },
        "margin": {
         "t": 60
        },
        "template": {
         "data": {
          "bar": [
           {
            "error_x": {
             "color": "#2a3f5f"
            },
            "error_y": {
             "color": "#2a3f5f"
            },
            "marker": {
             "line": {
              "color": "#E5ECF6",
              "width": 0.5
             },
             "pattern": {
              "fillmode": "overlay",
              "size": 10,
              "solidity": 0.2
             }
            },
            "type": "bar"
           }
          ],
          "barpolar": [
           {
            "marker": {
             "line": {
              "color": "#E5ECF6",
              "width": 0.5
             },
             "pattern": {
              "fillmode": "overlay",
              "size": 10,
              "solidity": 0.2
             }
            },
            "type": "barpolar"
           }
          ],
          "carpet": [
           {
            "aaxis": {
             "endlinecolor": "#2a3f5f",
             "gridcolor": "white",
             "linecolor": "white",
             "minorgridcolor": "white",
             "startlinecolor": "#2a3f5f"
            },
            "baxis": {
             "endlinecolor": "#2a3f5f",
             "gridcolor": "white",
             "linecolor": "white",
             "minorgridcolor": "white",
             "startlinecolor": "#2a3f5f"
            },
            "type": "carpet"
           }
          ],
          "choropleth": [
           {
            "colorbar": {
             "outlinewidth": 0,
             "ticks": ""
            },
            "type": "choropleth"
           }
          ],
          "contour": [
           {
            "colorbar": {
             "outlinewidth": 0,
             "ticks": ""
            },
            "colorscale": [
             [
              0,
              "#0d0887"
             ],
             [
              0.1111111111111111,
              "#46039f"
             ],
             [
              0.2222222222222222,
              "#7201a8"
             ],
             [
              0.3333333333333333,
              "#9c179e"
             ],
             [
              0.4444444444444444,
              "#bd3786"
             ],
             [
              0.5555555555555556,
              "#d8576b"
             ],
             [
              0.6666666666666666,
              "#ed7953"
             ],
             [
              0.7777777777777778,
              "#fb9f3a"
             ],
             [
              0.8888888888888888,
              "#fdca26"
             ],
             [
              1,
              "#f0f921"
             ]
            ],
            "type": "contour"
           }
          ],
          "contourcarpet": [
           {
            "colorbar": {
             "outlinewidth": 0,
             "ticks": ""
            },
            "type": "contourcarpet"
           }
          ],
          "heatmap": [
           {
            "colorbar": {
             "outlinewidth": 0,
             "ticks": ""
            },
            "colorscale": [
             [
              0,
              "#0d0887"
             ],
             [
              0.1111111111111111,
              "#46039f"
             ],
             [
              0.2222222222222222,
              "#7201a8"
             ],
             [
              0.3333333333333333,
              "#9c179e"
             ],
             [
              0.4444444444444444,
              "#bd3786"
             ],
             [
              0.5555555555555556,
              "#d8576b"
             ],
             [
              0.6666666666666666,
              "#ed7953"
             ],
             [
              0.7777777777777778,
              "#fb9f3a"
             ],
             [
              0.8888888888888888,
              "#fdca26"
             ],
             [
              1,
              "#f0f921"
             ]
            ],
            "type": "heatmap"
           }
          ],
          "heatmapgl": [
           {
            "colorbar": {
             "outlinewidth": 0,
             "ticks": ""
            },
            "colorscale": [
             [
              0,
              "#0d0887"
             ],
             [
              0.1111111111111111,
              "#46039f"
             ],
             [
              0.2222222222222222,
              "#7201a8"
             ],
             [
              0.3333333333333333,
              "#9c179e"
             ],
             [
              0.4444444444444444,
              "#bd3786"
             ],
             [
              0.5555555555555556,
              "#d8576b"
             ],
             [
              0.6666666666666666,
              "#ed7953"
             ],
             [
              0.7777777777777778,
              "#fb9f3a"
             ],
             [
              0.8888888888888888,
              "#fdca26"
             ],
             [
              1,
              "#f0f921"
             ]
            ],
            "type": "heatmapgl"
           }
          ],
          "histogram": [
           {
            "marker": {
             "pattern": {
              "fillmode": "overlay",
              "size": 10,
              "solidity": 0.2
             }
            },
            "type": "histogram"
           }
          ],
          "histogram2d": [
           {
            "colorbar": {
             "outlinewidth": 0,
             "ticks": ""
            },
            "colorscale": [
             [
              0,
              "#0d0887"
             ],
             [
              0.1111111111111111,
              "#46039f"
             ],
             [
              0.2222222222222222,
              "#7201a8"
             ],
             [
              0.3333333333333333,
              "#9c179e"
             ],
             [
              0.4444444444444444,
              "#bd3786"
             ],
             [
              0.5555555555555556,
              "#d8576b"
             ],
             [
              0.6666666666666666,
              "#ed7953"
             ],
             [
              0.7777777777777778,
              "#fb9f3a"
             ],
             [
              0.8888888888888888,
              "#fdca26"
             ],
             [
              1,
              "#f0f921"
             ]
            ],
            "type": "histogram2d"
           }
          ],
          "histogram2dcontour": [
           {
            "colorbar": {
             "outlinewidth": 0,
             "ticks": ""
            },
            "colorscale": [
             [
              0,
              "#0d0887"
             ],
             [
              0.1111111111111111,
              "#46039f"
             ],
             [
              0.2222222222222222,
              "#7201a8"
             ],
             [
              0.3333333333333333,
              "#9c179e"
             ],
             [
              0.4444444444444444,
              "#bd3786"
             ],
             [
              0.5555555555555556,
              "#d8576b"
             ],
             [
              0.6666666666666666,
              "#ed7953"
             ],
             [
              0.7777777777777778,
              "#fb9f3a"
             ],
             [
              0.8888888888888888,
              "#fdca26"
             ],
             [
              1,
              "#f0f921"
             ]
            ],
            "type": "histogram2dcontour"
           }
          ],
          "mesh3d": [
           {
            "colorbar": {
             "outlinewidth": 0,
             "ticks": ""
            },
            "type": "mesh3d"
           }
          ],
          "parcoords": [
           {
            "line": {
             "colorbar": {
              "outlinewidth": 0,
              "ticks": ""
             }
            },
            "type": "parcoords"
           }
          ],
          "pie": [
           {
            "automargin": true,
            "type": "pie"
           }
          ],
          "scatter": [
           {
            "fillpattern": {
             "fillmode": "overlay",
             "size": 10,
             "solidity": 0.2
            },
            "type": "scatter"
           }
          ],
          "scatter3d": [
           {
            "line": {
             "colorbar": {
              "outlinewidth": 0,
              "ticks": ""
             }
            },
            "marker": {
             "colorbar": {
              "outlinewidth": 0,
              "ticks": ""
             }
            },
            "type": "scatter3d"
           }
          ],
          "scattercarpet": [
           {
            "marker": {
             "colorbar": {
              "outlinewidth": 0,
              "ticks": ""
             }
            },
            "type": "scattercarpet"
           }
          ],
          "scattergeo": [
           {
            "marker": {
             "colorbar": {
              "outlinewidth": 0,
              "ticks": ""
             }
            },
            "type": "scattergeo"
           }
          ],
          "scattergl": [
           {
            "marker": {
             "colorbar": {
              "outlinewidth": 0,
              "ticks": ""
             }
            },
            "type": "scattergl"
           }
          ],
          "scattermapbox": [
           {
            "marker": {
             "colorbar": {
              "outlinewidth": 0,
              "ticks": ""
             }
            },
            "type": "scattermapbox"
           }
          ],
          "scatterpolar": [
           {
            "marker": {
             "colorbar": {
              "outlinewidth": 0,
              "ticks": ""
             }
            },
            "type": "scatterpolar"
           }
          ],
          "scatterpolargl": [
           {
            "marker": {
             "colorbar": {
              "outlinewidth": 0,
              "ticks": ""
             }
            },
            "type": "scatterpolargl"
           }
          ],
          "scatterternary": [
           {
            "marker": {
             "colorbar": {
              "outlinewidth": 0,
              "ticks": ""
             }
            },
            "type": "scatterternary"
           }
          ],
          "surface": [
           {
            "colorbar": {
             "outlinewidth": 0,
             "ticks": ""
            },
            "colorscale": [
             [
              0,
              "#0d0887"
             ],
             [
              0.1111111111111111,
              "#46039f"
             ],
             [
              0.2222222222222222,
              "#7201a8"
             ],
             [
              0.3333333333333333,
              "#9c179e"
             ],
             [
              0.4444444444444444,
              "#bd3786"
             ],
             [
              0.5555555555555556,
              "#d8576b"
             ],
             [
              0.6666666666666666,
              "#ed7953"
             ],
             [
              0.7777777777777778,
              "#fb9f3a"
             ],
             [
              0.8888888888888888,
              "#fdca26"
             ],
             [
              1,
              "#f0f921"
             ]
            ],
            "type": "surface"
           }
          ],
          "table": [
           {
            "cells": {
             "fill": {
              "color": "#EBF0F8"
             },
             "line": {
              "color": "white"
             }
            },
            "header": {
             "fill": {
              "color": "#C8D4E3"
             },
             "line": {
              "color": "white"
             }
            },
            "type": "table"
           }
          ]
         },
         "layout": {
          "annotationdefaults": {
           "arrowcolor": "#2a3f5f",
           "arrowhead": 0,
           "arrowwidth": 1
          },
          "autotypenumbers": "strict",
          "coloraxis": {
           "colorbar": {
            "outlinewidth": 0,
            "ticks": ""
           }
          },
          "colorscale": {
           "diverging": [
            [
             0,
             "#8e0152"
            ],
            [
             0.1,
             "#c51b7d"
            ],
            [
             0.2,
             "#de77ae"
            ],
            [
             0.3,
             "#f1b6da"
            ],
            [
             0.4,
             "#fde0ef"
            ],
            [
             0.5,
             "#f7f7f7"
            ],
            [
             0.6,
             "#e6f5d0"
            ],
            [
             0.7,
             "#b8e186"
            ],
            [
             0.8,
             "#7fbc41"
            ],
            [
             0.9,
             "#4d9221"
            ],
            [
             1,
             "#276419"
            ]
           ],
           "sequential": [
            [
             0,
             "#0d0887"
            ],
            [
             0.1111111111111111,
             "#46039f"
            ],
            [
             0.2222222222222222,
             "#7201a8"
            ],
            [
             0.3333333333333333,
             "#9c179e"
            ],
            [
             0.4444444444444444,
             "#bd3786"
            ],
            [
             0.5555555555555556,
             "#d8576b"
            ],
            [
             0.6666666666666666,
             "#ed7953"
            ],
            [
             0.7777777777777778,
             "#fb9f3a"
            ],
            [
             0.8888888888888888,
             "#fdca26"
            ],
            [
             1,
             "#f0f921"
            ]
           ],
           "sequentialminus": [
            [
             0,
             "#0d0887"
            ],
            [
             0.1111111111111111,
             "#46039f"
            ],
            [
             0.2222222222222222,
             "#7201a8"
            ],
            [
             0.3333333333333333,
             "#9c179e"
            ],
            [
             0.4444444444444444,
             "#bd3786"
            ],
            [
             0.5555555555555556,
             "#d8576b"
            ],
            [
             0.6666666666666666,
             "#ed7953"
            ],
            [
             0.7777777777777778,
             "#fb9f3a"
            ],
            [
             0.8888888888888888,
             "#fdca26"
            ],
            [
             1,
             "#f0f921"
            ]
           ]
          },
          "colorway": [
           "#636efa",
           "#EF553B",
           "#00cc96",
           "#ab63fa",
           "#FFA15A",
           "#19d3f3",
           "#FF6692",
           "#B6E880",
           "#FF97FF",
           "#FECB52"
          ],
          "font": {
           "color": "#2a3f5f"
          },
          "geo": {
           "bgcolor": "white",
           "lakecolor": "white",
           "landcolor": "#E5ECF6",
           "showlakes": true,
           "showland": true,
           "subunitcolor": "white"
          },
          "hoverlabel": {
           "align": "left"
          },
          "hovermode": "closest",
          "mapbox": {
           "style": "light"
          },
          "paper_bgcolor": "white",
          "plot_bgcolor": "#E5ECF6",
          "polar": {
           "angularaxis": {
            "gridcolor": "white",
            "linecolor": "white",
            "ticks": ""
           },
           "bgcolor": "#E5ECF6",
           "radialaxis": {
            "gridcolor": "white",
            "linecolor": "white",
            "ticks": ""
           }
          },
          "scene": {
           "xaxis": {
            "backgroundcolor": "#E5ECF6",
            "gridcolor": "white",
            "gridwidth": 2,
            "linecolor": "white",
            "showbackground": true,
            "ticks": "",
            "zerolinecolor": "white"
           },
           "yaxis": {
            "backgroundcolor": "#E5ECF6",
            "gridcolor": "white",
            "gridwidth": 2,
            "linecolor": "white",
            "showbackground": true,
            "ticks": "",
            "zerolinecolor": "white"
           },
           "zaxis": {
            "backgroundcolor": "#E5ECF6",
            "gridcolor": "white",
            "gridwidth": 2,
            "linecolor": "white",
            "showbackground": true,
            "ticks": "",
            "zerolinecolor": "white"
           }
          },
          "shapedefaults": {
           "line": {
            "color": "#2a3f5f"
           }
          },
          "ternary": {
           "aaxis": {
            "gridcolor": "white",
            "linecolor": "white",
            "ticks": ""
           },
           "baxis": {
            "gridcolor": "white",
            "linecolor": "white",
            "ticks": ""
           },
           "bgcolor": "#E5ECF6",
           "caxis": {
            "gridcolor": "white",
            "linecolor": "white",
            "ticks": ""
           }
          },
          "title": {
           "x": 0.05
          },
          "xaxis": {
           "automargin": true,
           "gridcolor": "white",
           "linecolor": "white",
           "ticks": "",
           "title": {
            "standoff": 15
           },
           "zerolinecolor": "white",
           "zerolinewidth": 2
          },
          "yaxis": {
           "automargin": true,
           "gridcolor": "white",
           "linecolor": "white",
           "ticks": "",
           "title": {
            "standoff": 15
           },
           "zerolinecolor": "white",
           "zerolinewidth": 2
          }
         }
        },
        "xaxis": {
         "anchor": "y",
         "domain": [
          0,
          1
         ],
         "title": {
          "text": "date"
         }
        },
        "yaxis": {
         "anchor": "x",
         "domain": [
          0,
          1
         ],
         "title": {
          "text": "value"
         }
        }
       }
      }
     },
     "metadata": {},
     "output_type": "display_data"
    }
   ],
   "source": [
    "(\n",
    "    df_result_opt['rtn_3_float']\n",
    "    + 1\n",
    ").cumprod().plot(kind='scatter')"
   ]
  },
  {
   "cell_type": "code",
   "execution_count": 49,
   "metadata": {},
   "outputs": [
    {
     "data": {
      "application/vnd.plotly.v1+json": {
       "config": {
        "plotlyServerURL": "https://plot.ly"
       },
       "data": [
        {
         "mode": "markers",
         "name": "Simple",
         "type": "scatter",
         "x": [
          "2015-11-26",
          "2015-12-23",
          "2016-01-22",
          "2016-02-23",
          "2016-03-22",
          "2016-04-19",
          "2016-05-18",
          "2016-06-15",
          "2016-07-12",
          "2016-08-08",
          "2016-09-05",
          "2016-10-06",
          "2016-11-02",
          "2016-11-29",
          "2016-12-26",
          "2017-01-23",
          "2017-02-21",
          "2017-03-21",
          "2017-04-17",
          "2017-05-18",
          "2017-06-15",
          "2017-07-12",
          "2017-08-08",
          "2017-09-05",
          "2017-10-10",
          "2017-11-06",
          "2017-12-01",
          "2018-01-02",
          "2018-01-29",
          "2018-02-27",
          "2018-03-27",
          "2018-04-23",
          "2018-05-23",
          "2018-06-21",
          "2018-07-18",
          "2018-08-14",
          "2018-09-11",
          "2018-10-15",
          "2018-11-09",
          "2018-12-06",
          "2019-01-07",
          "2019-02-01",
          "2019-03-06",
          "2019-04-02",
          "2019-04-29",
          "2019-05-28",
          "2019-06-25",
          "2019-07-22",
          "2019-08-19",
          "2019-09-17",
          "2019-10-16",
          "2019-11-12",
          "2019-12-09",
          "2020-01-08",
          "2020-02-06",
          "2020-03-04",
          "2020-03-31",
          "2020-04-28",
          "2020-05-28",
          "2020-06-24",
          "2020-07-21",
          "2020-08-18",
          "2020-09-14",
          "2020-10-15",
          "2020-11-11",
          "2020-12-08",
          "2021-01-07",
          "2021-02-03",
          "2021-03-05",
          "2021-04-01",
          "2021-04-28",
          "2021-05-27",
          "2021-06-23",
          "2021-07-20",
          "2021-08-17",
          "2021-09-13",
          "2021-10-15",
          "2021-11-11",
          "2021-12-08",
          "2022-01-05",
          "2022-02-04",
          "2022-03-04",
          "2022-04-01",
          "2022-04-28",
          "2022-05-26",
          "2022-06-24",
          "2022-07-21",
          "2022-08-18",
          "2022-09-16",
          "2022-10-17",
          "2022-11-11",
          "2022-12-08",
          "2023-01-05",
          "2023-02-03",
          "2023-03-03",
          "2023-03-30",
          "2023-04-26",
          "2023-05-25",
          "2023-06-23",
          "2023-07-20",
          "2023-08-17",
          "2023-09-13",
          "2023-09-19"
         ],
         "xaxis": "x",
         "y": [
          0.0339623783342982,
          0.23617428470337298,
          0.26228538166916,
          0.36535473345781855,
          0.4616332848246354,
          0.5743678477538552,
          0.5153109361409756,
          0.6461097939269654,
          0.6806661235207898,
          0.7242154285614478,
          0.7172306389952788,
          0.8402471226640937,
          0.7721140281924922,
          0.8022339892917634,
          0.891682531242292,
          0.9993872896703073,
          0.9812600679046429,
          1.034103231974074,
          1.133380986623742,
          1.1441885422733122,
          1.2423620366193706,
          1.2612502348687125,
          1.3607373889396277,
          1.341249788912964,
          1.3573453414488033,
          1.4222588788300927,
          1.5120245209816536,
          1.5391164606459258,
          1.624877810023322,
          1.677862898207018,
          1.6875691869034275,
          1.833838540069412,
          1.921072458620722,
          1.9211782943552138,
          2.0019548750632903,
          1.9919909987663118,
          2.0813054796290973,
          1.996144312308446,
          2.0519236615122805,
          2.1213520504029395,
          2.1819588407267845,
          2.356495149173948,
          2.4045464775939998,
          2.4132348120940663,
          2.4034732590370487,
          2.3939999239188205,
          2.4230053651427603,
          2.4799412669335648,
          2.4699427352978485,
          2.5702038450878755,
          2.694038124240688,
          2.7724405129249963,
          2.9414965763759717,
          3.0541900977095864,
          3.0224354531682422,
          2.964562788786733,
          2.9168006345091015,
          3.106409856472643,
          3.1148953156438224,
          3.097791679331216,
          3.123162177267469,
          3.1357081901413157,
          3.270548953510324,
          3.2819859675099843,
          3.276374517291504,
          3.273406914394149,
          3.4071019618834724,
          3.4444884274226277,
          3.486522541150038,
          3.52688535039041,
          3.502549630218258,
          3.599838805352846,
          3.8037499336553133,
          3.7977745360750723,
          3.721329123996493,
          3.7678017206434165,
          3.8315186430996553,
          3.9133291243112405,
          3.9579478141506046,
          4.234930236066397,
          4.333674816515284,
          4.396484671017625,
          4.507995423934177,
          4.463239038076283,
          4.544418606656928,
          4.4376625271651555,
          4.522677822655902,
          4.532059855689146,
          4.533497838133821,
          4.666474368663355,
          4.787419834942633,
          4.78275374229345,
          4.880657889755697,
          4.880657889755697,
          4.880657889755697,
          4.886346809627732,
          4.998805586909504,
          4.990441089647774,
          5.036104902810403,
          5.102397700594313,
          5.143413162118521,
          5.207264516572468,
          5.207264516572468
         ],
         "yaxis": "y"
        },
        {
         "mode": "markers",
         "name": "Complex",
         "type": "scatter",
         "x": [
          "2015-11-26",
          "2015-12-23",
          "2016-01-22",
          "2016-02-23",
          "2016-03-22",
          "2016-04-19",
          "2016-05-18",
          "2016-06-15",
          "2016-07-12",
          "2016-08-08",
          "2016-09-05",
          "2016-10-06",
          "2016-11-02",
          "2016-11-29",
          "2016-12-26",
          "2017-01-23",
          "2017-02-21",
          "2017-03-21",
          "2017-04-17",
          "2017-05-18",
          "2017-06-15",
          "2017-07-12",
          "2017-08-08",
          "2017-09-05",
          "2017-10-10",
          "2017-11-06",
          "2017-12-01",
          "2018-01-02",
          "2018-01-29",
          "2018-02-27",
          "2018-03-27",
          "2018-04-23",
          "2018-05-23",
          "2018-06-21",
          "2018-07-18",
          "2018-08-14",
          "2018-09-11",
          "2018-10-15",
          "2018-11-09",
          "2018-12-06",
          "2019-01-07",
          "2019-02-01",
          "2019-03-06",
          "2019-04-02",
          "2019-04-29",
          "2019-05-28",
          "2019-06-25",
          "2019-07-22",
          "2019-08-19",
          "2019-09-17",
          "2019-10-16",
          "2019-11-12",
          "2019-12-09",
          "2020-01-08",
          "2020-02-06",
          "2020-03-04",
          "2020-03-31",
          "2020-04-28",
          "2020-05-28",
          "2020-06-24",
          "2020-07-21",
          "2020-08-18",
          "2020-09-14",
          "2020-10-15",
          "2020-11-11",
          "2020-12-08",
          "2021-01-07",
          "2021-02-03",
          "2021-03-05",
          "2021-04-01",
          "2021-04-28",
          "2021-05-27",
          "2021-06-23",
          "2021-07-20",
          "2021-08-17",
          "2021-09-13",
          "2021-10-15",
          "2021-11-11",
          "2021-12-08",
          "2022-01-05",
          "2022-02-04",
          "2022-03-04",
          "2022-04-01",
          "2022-04-28",
          "2022-05-26",
          "2022-06-24",
          "2022-07-21",
          "2022-08-18",
          "2022-09-16",
          "2022-10-17",
          "2022-11-11",
          "2022-12-08",
          "2023-01-05",
          "2023-02-03",
          "2023-03-03",
          "2023-03-30",
          "2023-04-26",
          "2023-05-25",
          "2023-06-23",
          "2023-07-20",
          "2023-08-17",
          "2023-09-13",
          "2023-09-19"
         ],
         "xaxis": "x2",
         "y": [
          1.0339623783342982,
          1.2430418819711793,
          1.275499069083863,
          1.4069639313413742,
          1.5424243804762834,
          1.7163089188606497,
          1.6149490147390995,
          1.8261825012495836,
          1.8892886656612387,
          1.971565874071978,
          1.9577949013257452,
          2.1986359458315725,
          2.0488360752255708,
          2.1105469381101485,
          2.299332284442254,
          2.5469813126838434,
          2.5008116175958204,
          2.6329624162111758,
          2.894357012969586,
          2.9256379374569788,
          3.2128580369685253,
          3.273543136517778,
          3.5992186268983093,
          3.529078493888797,
          3.5858809621902847,
          3.818653180074278,
          4.161437034937745,
          4.274178436004946,
          4.6407377461565,
          4.886627644874008,
          4.9340586635470105,
          5.6557602327470535,
          6.149134360236248,
          6.149785158387752,
          6.646543775571591,
          6.580318435589343,
          7.168036160575823,
          6.557597833744547,
          6.923376373251291,
          7.404055240529782,
          7.8527912640387365,
          9.223388462270194,
          9.666584530416456,
          9.750571050289883,
          9.65539033364626,
          9.563921585318328,
          9.841327350731646,
          10.401652198264058,
          10.297650949695996,
          11.330104862142841,
          12.733160230472075,
          13.73147040804112,
          16.052858740618117,
          17.86191191956947,
          17.294713255734745,
          16.293822119911173,
          15.51559407404769,
          18.45749379473001,
          18.614114104727488,
          18.29574506679888,
          18.759917229258313,
          18.99527939232889,
          21.556617365998104,
          21.803160700598355,
          21.680813349721422,
          21.61647330520778,
          24.50648873029923,
          25.42269972670026,
          26.491320378270174,
          27.56058448922388,
          26.889877817313177,
          29.50597184962942,
          35.522567861148204,
          35.31030639510676,
          32.61099547211193,
          34.12651311094204,
          36.300949500533754,
          39.27074764760987,
          41.02295695665852,
          52.38559492866108,
          57.558388521457054,
          61.17362252987898,
          67.99513923681874,
          64.95192254867447,
          70.22469159965932,
          62.727778840960895,
          68.0605994946034,
          68.6991462873241,
          68.79793445364942,
          77.94644508489404,
          87.37371423049868,
          86.96602038479598,
          95.48035446875382,
          95.48035446875382,
          95.48035446875382,
          96.02353455468,
          106.8222238409733,
          105.92870964216362,
          110.76581844782174,
          118.10879445155244,
          122.95308116605068,
          130.80380193278907,
          130.80380193278907
         ],
         "yaxis": "y2"
        }
       ],
       "layout": {
        "height": 400,
        "template": {
         "data": {
          "bar": [
           {
            "error_x": {
             "color": "#2a3f5f"
            },
            "error_y": {
             "color": "#2a3f5f"
            },
            "marker": {
             "line": {
              "color": "#E5ECF6",
              "width": 0.5
             },
             "pattern": {
              "fillmode": "overlay",
              "size": 10,
              "solidity": 0.2
             }
            },
            "type": "bar"
           }
          ],
          "barpolar": [
           {
            "marker": {
             "line": {
              "color": "#E5ECF6",
              "width": 0.5
             },
             "pattern": {
              "fillmode": "overlay",
              "size": 10,
              "solidity": 0.2
             }
            },
            "type": "barpolar"
           }
          ],
          "carpet": [
           {
            "aaxis": {
             "endlinecolor": "#2a3f5f",
             "gridcolor": "white",
             "linecolor": "white",
             "minorgridcolor": "white",
             "startlinecolor": "#2a3f5f"
            },
            "baxis": {
             "endlinecolor": "#2a3f5f",
             "gridcolor": "white",
             "linecolor": "white",
             "minorgridcolor": "white",
             "startlinecolor": "#2a3f5f"
            },
            "type": "carpet"
           }
          ],
          "choropleth": [
           {
            "colorbar": {
             "outlinewidth": 0,
             "ticks": ""
            },
            "type": "choropleth"
           }
          ],
          "contour": [
           {
            "colorbar": {
             "outlinewidth": 0,
             "ticks": ""
            },
            "colorscale": [
             [
              0,
              "#0d0887"
             ],
             [
              0.1111111111111111,
              "#46039f"
             ],
             [
              0.2222222222222222,
              "#7201a8"
             ],
             [
              0.3333333333333333,
              "#9c179e"
             ],
             [
              0.4444444444444444,
              "#bd3786"
             ],
             [
              0.5555555555555556,
              "#d8576b"
             ],
             [
              0.6666666666666666,
              "#ed7953"
             ],
             [
              0.7777777777777778,
              "#fb9f3a"
             ],
             [
              0.8888888888888888,
              "#fdca26"
             ],
             [
              1,
              "#f0f921"
             ]
            ],
            "type": "contour"
           }
          ],
          "contourcarpet": [
           {
            "colorbar": {
             "outlinewidth": 0,
             "ticks": ""
            },
            "type": "contourcarpet"
           }
          ],
          "heatmap": [
           {
            "colorbar": {
             "outlinewidth": 0,
             "ticks": ""
            },
            "colorscale": [
             [
              0,
              "#0d0887"
             ],
             [
              0.1111111111111111,
              "#46039f"
             ],
             [
              0.2222222222222222,
              "#7201a8"
             ],
             [
              0.3333333333333333,
              "#9c179e"
             ],
             [
              0.4444444444444444,
              "#bd3786"
             ],
             [
              0.5555555555555556,
              "#d8576b"
             ],
             [
              0.6666666666666666,
              "#ed7953"
             ],
             [
              0.7777777777777778,
              "#fb9f3a"
             ],
             [
              0.8888888888888888,
              "#fdca26"
             ],
             [
              1,
              "#f0f921"
             ]
            ],
            "type": "heatmap"
           }
          ],
          "heatmapgl": [
           {
            "colorbar": {
             "outlinewidth": 0,
             "ticks": ""
            },
            "colorscale": [
             [
              0,
              "#0d0887"
             ],
             [
              0.1111111111111111,
              "#46039f"
             ],
             [
              0.2222222222222222,
              "#7201a8"
             ],
             [
              0.3333333333333333,
              "#9c179e"
             ],
             [
              0.4444444444444444,
              "#bd3786"
             ],
             [
              0.5555555555555556,
              "#d8576b"
             ],
             [
              0.6666666666666666,
              "#ed7953"
             ],
             [
              0.7777777777777778,
              "#fb9f3a"
             ],
             [
              0.8888888888888888,
              "#fdca26"
             ],
             [
              1,
              "#f0f921"
             ]
            ],
            "type": "heatmapgl"
           }
          ],
          "histogram": [
           {
            "marker": {
             "pattern": {
              "fillmode": "overlay",
              "size": 10,
              "solidity": 0.2
             }
            },
            "type": "histogram"
           }
          ],
          "histogram2d": [
           {
            "colorbar": {
             "outlinewidth": 0,
             "ticks": ""
            },
            "colorscale": [
             [
              0,
              "#0d0887"
             ],
             [
              0.1111111111111111,
              "#46039f"
             ],
             [
              0.2222222222222222,
              "#7201a8"
             ],
             [
              0.3333333333333333,
              "#9c179e"
             ],
             [
              0.4444444444444444,
              "#bd3786"
             ],
             [
              0.5555555555555556,
              "#d8576b"
             ],
             [
              0.6666666666666666,
              "#ed7953"
             ],
             [
              0.7777777777777778,
              "#fb9f3a"
             ],
             [
              0.8888888888888888,
              "#fdca26"
             ],
             [
              1,
              "#f0f921"
             ]
            ],
            "type": "histogram2d"
           }
          ],
          "histogram2dcontour": [
           {
            "colorbar": {
             "outlinewidth": 0,
             "ticks": ""
            },
            "colorscale": [
             [
              0,
              "#0d0887"
             ],
             [
              0.1111111111111111,
              "#46039f"
             ],
             [
              0.2222222222222222,
              "#7201a8"
             ],
             [
              0.3333333333333333,
              "#9c179e"
             ],
             [
              0.4444444444444444,
              "#bd3786"
             ],
             [
              0.5555555555555556,
              "#d8576b"
             ],
             [
              0.6666666666666666,
              "#ed7953"
             ],
             [
              0.7777777777777778,
              "#fb9f3a"
             ],
             [
              0.8888888888888888,
              "#fdca26"
             ],
             [
              1,
              "#f0f921"
             ]
            ],
            "type": "histogram2dcontour"
           }
          ],
          "mesh3d": [
           {
            "colorbar": {
             "outlinewidth": 0,
             "ticks": ""
            },
            "type": "mesh3d"
           }
          ],
          "parcoords": [
           {
            "line": {
             "colorbar": {
              "outlinewidth": 0,
              "ticks": ""
             }
            },
            "type": "parcoords"
           }
          ],
          "pie": [
           {
            "automargin": true,
            "type": "pie"
           }
          ],
          "scatter": [
           {
            "fillpattern": {
             "fillmode": "overlay",
             "size": 10,
             "solidity": 0.2
            },
            "type": "scatter"
           }
          ],
          "scatter3d": [
           {
            "line": {
             "colorbar": {
              "outlinewidth": 0,
              "ticks": ""
             }
            },
            "marker": {
             "colorbar": {
              "outlinewidth": 0,
              "ticks": ""
             }
            },
            "type": "scatter3d"
           }
          ],
          "scattercarpet": [
           {
            "marker": {
             "colorbar": {
              "outlinewidth": 0,
              "ticks": ""
             }
            },
            "type": "scattercarpet"
           }
          ],
          "scattergeo": [
           {
            "marker": {
             "colorbar": {
              "outlinewidth": 0,
              "ticks": ""
             }
            },
            "type": "scattergeo"
           }
          ],
          "scattergl": [
           {
            "marker": {
             "colorbar": {
              "outlinewidth": 0,
              "ticks": ""
             }
            },
            "type": "scattergl"
           }
          ],
          "scattermapbox": [
           {
            "marker": {
             "colorbar": {
              "outlinewidth": 0,
              "ticks": ""
             }
            },
            "type": "scattermapbox"
           }
          ],
          "scatterpolar": [
           {
            "marker": {
             "colorbar": {
              "outlinewidth": 0,
              "ticks": ""
             }
            },
            "type": "scatterpolar"
           }
          ],
          "scatterpolargl": [
           {
            "marker": {
             "colorbar": {
              "outlinewidth": 0,
              "ticks": ""
             }
            },
            "type": "scatterpolargl"
           }
          ],
          "scatterternary": [
           {
            "marker": {
             "colorbar": {
              "outlinewidth": 0,
              "ticks": ""
             }
            },
            "type": "scatterternary"
           }
          ],
          "surface": [
           {
            "colorbar": {
             "outlinewidth": 0,
             "ticks": ""
            },
            "colorscale": [
             [
              0,
              "#0d0887"
             ],
             [
              0.1111111111111111,
              "#46039f"
             ],
             [
              0.2222222222222222,
              "#7201a8"
             ],
             [
              0.3333333333333333,
              "#9c179e"
             ],
             [
              0.4444444444444444,
              "#bd3786"
             ],
             [
              0.5555555555555556,
              "#d8576b"
             ],
             [
              0.6666666666666666,
              "#ed7953"
             ],
             [
              0.7777777777777778,
              "#fb9f3a"
             ],
             [
              0.8888888888888888,
              "#fdca26"
             ],
             [
              1,
              "#f0f921"
             ]
            ],
            "type": "surface"
           }
          ],
          "table": [
           {
            "cells": {
             "fill": {
              "color": "#EBF0F8"
             },
             "line": {
              "color": "white"
             }
            },
            "header": {
             "fill": {
              "color": "#C8D4E3"
             },
             "line": {
              "color": "white"
             }
            },
            "type": "table"
           }
          ]
         },
         "layout": {
          "annotationdefaults": {
           "arrowcolor": "#2a3f5f",
           "arrowhead": 0,
           "arrowwidth": 1
          },
          "autotypenumbers": "strict",
          "coloraxis": {
           "colorbar": {
            "outlinewidth": 0,
            "ticks": ""
           }
          },
          "colorscale": {
           "diverging": [
            [
             0,
             "#8e0152"
            ],
            [
             0.1,
             "#c51b7d"
            ],
            [
             0.2,
             "#de77ae"
            ],
            [
             0.3,
             "#f1b6da"
            ],
            [
             0.4,
             "#fde0ef"
            ],
            [
             0.5,
             "#f7f7f7"
            ],
            [
             0.6,
             "#e6f5d0"
            ],
            [
             0.7,
             "#b8e186"
            ],
            [
             0.8,
             "#7fbc41"
            ],
            [
             0.9,
             "#4d9221"
            ],
            [
             1,
             "#276419"
            ]
           ],
           "sequential": [
            [
             0,
             "#0d0887"
            ],
            [
             0.1111111111111111,
             "#46039f"
            ],
            [
             0.2222222222222222,
             "#7201a8"
            ],
            [
             0.3333333333333333,
             "#9c179e"
            ],
            [
             0.4444444444444444,
             "#bd3786"
            ],
            [
             0.5555555555555556,
             "#d8576b"
            ],
            [
             0.6666666666666666,
             "#ed7953"
            ],
            [
             0.7777777777777778,
             "#fb9f3a"
            ],
            [
             0.8888888888888888,
             "#fdca26"
            ],
            [
             1,
             "#f0f921"
            ]
           ],
           "sequentialminus": [
            [
             0,
             "#0d0887"
            ],
            [
             0.1111111111111111,
             "#46039f"
            ],
            [
             0.2222222222222222,
             "#7201a8"
            ],
            [
             0.3333333333333333,
             "#9c179e"
            ],
            [
             0.4444444444444444,
             "#bd3786"
            ],
            [
             0.5555555555555556,
             "#d8576b"
            ],
            [
             0.6666666666666666,
             "#ed7953"
            ],
            [
             0.7777777777777778,
             "#fb9f3a"
            ],
            [
             0.8888888888888888,
             "#fdca26"
            ],
            [
             1,
             "#f0f921"
            ]
           ]
          },
          "colorway": [
           "#636efa",
           "#EF553B",
           "#00cc96",
           "#ab63fa",
           "#FFA15A",
           "#19d3f3",
           "#FF6692",
           "#B6E880",
           "#FF97FF",
           "#FECB52"
          ],
          "font": {
           "color": "#2a3f5f"
          },
          "geo": {
           "bgcolor": "white",
           "lakecolor": "white",
           "landcolor": "#E5ECF6",
           "showlakes": true,
           "showland": true,
           "subunitcolor": "white"
          },
          "hoverlabel": {
           "align": "left"
          },
          "hovermode": "closest",
          "mapbox": {
           "style": "light"
          },
          "paper_bgcolor": "white",
          "plot_bgcolor": "#E5ECF6",
          "polar": {
           "angularaxis": {
            "gridcolor": "white",
            "linecolor": "white",
            "ticks": ""
           },
           "bgcolor": "#E5ECF6",
           "radialaxis": {
            "gridcolor": "white",
            "linecolor": "white",
            "ticks": ""
           }
          },
          "scene": {
           "xaxis": {
            "backgroundcolor": "#E5ECF6",
            "gridcolor": "white",
            "gridwidth": 2,
            "linecolor": "white",
            "showbackground": true,
            "ticks": "",
            "zerolinecolor": "white"
           },
           "yaxis": {
            "backgroundcolor": "#E5ECF6",
            "gridcolor": "white",
            "gridwidth": 2,
            "linecolor": "white",
            "showbackground": true,
            "ticks": "",
            "zerolinecolor": "white"
           },
           "zaxis": {
            "backgroundcolor": "#E5ECF6",
            "gridcolor": "white",
            "gridwidth": 2,
            "linecolor": "white",
            "showbackground": true,
            "ticks": "",
            "zerolinecolor": "white"
           }
          },
          "shapedefaults": {
           "line": {
            "color": "#2a3f5f"
           }
          },
          "ternary": {
           "aaxis": {
            "gridcolor": "white",
            "linecolor": "white",
            "ticks": ""
           },
           "baxis": {
            "gridcolor": "white",
            "linecolor": "white",
            "ticks": ""
           },
           "bgcolor": "#E5ECF6",
           "caxis": {
            "gridcolor": "white",
            "linecolor": "white",
            "ticks": ""
           }
          },
          "title": {
           "x": 0.05
          },
          "xaxis": {
           "automargin": true,
           "gridcolor": "white",
           "linecolor": "white",
           "ticks": "",
           "title": {
            "standoff": 15
           },
           "zerolinecolor": "white",
           "zerolinewidth": 2
          },
          "yaxis": {
           "automargin": true,
           "gridcolor": "white",
           "linecolor": "white",
           "ticks": "",
           "title": {
            "standoff": 15
           },
           "zerolinecolor": "white",
           "zerolinewidth": 2
          }
         }
        },
        "width": 800,
        "xaxis": {
         "anchor": "y",
         "domain": [
          0,
          0.45
         ]
        },
        "xaxis2": {
         "anchor": "y2",
         "domain": [
          0.55,
          1
         ]
        },
        "yaxis": {
         "anchor": "x",
         "domain": [
          0,
          1
         ]
        },
        "yaxis2": {
         "anchor": "x2",
         "domain": [
          0,
          1
         ]
        }
       }
      }
     },
     "metadata": {},
     "output_type": "display_data"
    }
   ],
   "source": [
    "import plotly.graph_objects as go\n",
    "from plotly.subplots import make_subplots\n",
    "\n",
    "x = df_result_opt.index\n",
    "y1 = df_result_opt[['rtn_3_float', 'rtn_4_float']].mean(axis=1).cumsum()\n",
    "y2 = (df_result_opt[['rtn_3_float', 'rtn_4_float']].mean(axis=1)+1).cumprod()\n",
    "\n",
    "# Create a subplot with 1 row and 2 columns\n",
    "fig = make_subplots(rows=1, cols=2)\n",
    "\n",
    "# First plot (e.g., a scatter plot)\n",
    "fig.add_trace(\n",
    "    go.Scatter(x=x, y=y1, mode='markers', name='Simple'),\n",
    "    row=1, col=1\n",
    ")\n",
    "\n",
    "# Second plot (e.g., a bar plot)\n",
    "fig.add_trace(\n",
    "    go.Scatter(x=x, y=y2, mode='markers', name='Complex'),\n",
    "    row=1, col=2\n",
    ")\n",
    "\n",
    "# Optionally adjust layout\n",
    "fig.update_layout(height=400, width=800,)\n",
    "\n",
    "# Show the plot\n",
    "fig.show()\n"
   ]
  },
  {
   "cell_type": "code",
   "execution_count": 62,
   "metadata": {},
   "outputs": [
    {
     "name": "stdout",
     "output_type": "stream",
     "text": [
      "rtn_3_float\n",
      "0.050166712534576836\n",
      "0.00   -0.098400\n",
      "0.05   -0.065166\n",
      "0.50    0.047365\n",
      "0.95    0.192131\n",
      "1.00    0.252868\n",
      "Name: rtn_3_float, dtype: float64\n",
      "rtn_4_float\n",
      "0.050945219826053614\n",
      "0.00   -0.115113\n",
      "0.05   -0.069883\n",
      "0.50    0.047243\n",
      "0.95    0.155576\n",
      "1.00    0.301097\n",
      "Name: rtn_4_float, dtype: float64\n",
      "rtn_5_float\n",
      "0.046362357982864096\n",
      "0.00   -0.162534\n",
      "0.05   -0.067549\n",
      "0.50    0.044283\n",
      "0.95    0.178135\n",
      "1.00    0.233305\n",
      "Name: rtn_5_float, dtype: float64\n"
     ]
    }
   ],
   "source": [
    "# Check VaR\n",
    "for rtn in ['rtn_3', 'rtn_4', 'rtn_5']:\n",
    "\n",
    "    for typeStr in ['float']:\n",
    "\n",
    "        print(f\"{rtn}_{typeStr}\")\n",
    "        print(\n",
    "            df_result_opt[f'{rtn}_{typeStr}'].mean()\n",
    "        )\n",
    "        print(\n",
    "            df_result_opt[f'{rtn}_{typeStr}'].quantile([0, 0.05, 0.5, 0.95, 1])\n",
    "        )\n",
    "        \n",
    "        # print(df_result_opt[f'{rtn}_{typeStr}'].cumsum()[-1])"
   ]
  },
  {
   "cell_type": "code",
   "execution_count": 3,
   "metadata": {},
   "outputs": [],
   "source": [
    "df_result_opt = pd.read_pickle(\"df_oos_opt_result_applied.pkl\")"
   ]
  },
  {
   "cell_type": "code",
   "execution_count": 5,
   "metadata": {},
   "outputs": [
    {
     "data": {
      "text/html": [
       "<div>\n",
       "<style scoped>\n",
       "    .dataframe tbody tr th:only-of-type {\n",
       "        vertical-align: middle;\n",
       "    }\n",
       "\n",
       "    .dataframe tbody tr th {\n",
       "        vertical-align: top;\n",
       "    }\n",
       "\n",
       "    .dataframe thead th {\n",
       "        text-align: right;\n",
       "    }\n",
       "</style>\n",
       "<table border=\"1\" class=\"dataframe\">\n",
       "  <thead>\n",
       "    <tr style=\"text-align: right;\">\n",
       "      <th></th>\n",
       "      <th>rtn_3_fixed</th>\n",
       "      <th>rtn_4_fixed</th>\n",
       "      <th>rtn_5_fixed</th>\n",
       "      <th>rtn_3_float</th>\n",
       "      <th>rtn_4_float</th>\n",
       "      <th>rtn_5_float</th>\n",
       "    </tr>\n",
       "    <tr>\n",
       "      <th>date</th>\n",
       "      <th></th>\n",
       "      <th></th>\n",
       "      <th></th>\n",
       "      <th></th>\n",
       "      <th></th>\n",
       "      <th></th>\n",
       "    </tr>\n",
       "  </thead>\n",
       "  <tbody>\n",
       "    <tr>\n",
       "      <th>2015-11-26</th>\n",
       "      <td>-0.042859</td>\n",
       "      <td>0.015303</td>\n",
       "      <td>0.008373</td>\n",
       "      <td>0.011477</td>\n",
       "      <td>0.056448</td>\n",
       "      <td>-0.006817</td>\n",
       "    </tr>\n",
       "    <tr>\n",
       "      <th>2015-12-23</th>\n",
       "      <td>0.202229</td>\n",
       "      <td>0.058554</td>\n",
       "      <td>0.145738</td>\n",
       "      <td>0.210461</td>\n",
       "      <td>0.193962</td>\n",
       "      <td>0.118650</td>\n",
       "    </tr>\n",
       "    <tr>\n",
       "      <th>2016-01-22</th>\n",
       "      <td>0.044800</td>\n",
       "      <td>-0.018662</td>\n",
       "      <td>-0.021817</td>\n",
       "      <td>0.035769</td>\n",
       "      <td>0.016453</td>\n",
       "      <td>-0.030784</td>\n",
       "    </tr>\n",
       "    <tr>\n",
       "      <th>2016-02-23</th>\n",
       "      <td>0.120932</td>\n",
       "      <td>0.100118</td>\n",
       "      <td>0.105240</td>\n",
       "      <td>0.081189</td>\n",
       "      <td>0.124950</td>\n",
       "      <td>0.124872</td>\n",
       "    </tr>\n",
       "    <tr>\n",
       "      <th>2016-03-22</th>\n",
       "      <td>0.038510</td>\n",
       "      <td>0.153385</td>\n",
       "      <td>0.101362</td>\n",
       "      <td>0.107383</td>\n",
       "      <td>0.085174</td>\n",
       "      <td>0.137864</td>\n",
       "    </tr>\n",
       "    <tr>\n",
       "      <th>2016-04-19</th>\n",
       "      <td>-0.008258</td>\n",
       "      <td>0.219760</td>\n",
       "      <td>0.188984</td>\n",
       "      <td>0.180351</td>\n",
       "      <td>0.045118</td>\n",
       "      <td>0.191306</td>\n",
       "    </tr>\n",
       "    <tr>\n",
       "      <th>2016-05-18</th>\n",
       "      <td>0.046994</td>\n",
       "      <td>-0.047090</td>\n",
       "      <td>-0.070235</td>\n",
       "      <td>-0.065241</td>\n",
       "      <td>-0.052873</td>\n",
       "      <td>-0.082141</td>\n",
       "    </tr>\n",
       "    <tr>\n",
       "      <th>2016-06-15</th>\n",
       "      <td>0.199569</td>\n",
       "      <td>0.193908</td>\n",
       "      <td>0.196229</td>\n",
       "      <td>0.105825</td>\n",
       "      <td>0.155773</td>\n",
       "      <td>0.203059</td>\n",
       "    </tr>\n",
       "    <tr>\n",
       "      <th>2016-07-12</th>\n",
       "      <td>0.048098</td>\n",
       "      <td>0.095044</td>\n",
       "      <td>0.020315</td>\n",
       "      <td>0.039037</td>\n",
       "      <td>0.030076</td>\n",
       "      <td>0.020315</td>\n",
       "    </tr>\n",
       "    <tr>\n",
       "      <th>2016-08-08</th>\n",
       "      <td>0.049740</td>\n",
       "      <td>0.037977</td>\n",
       "      <td>-0.004322</td>\n",
       "      <td>0.022357</td>\n",
       "      <td>0.064742</td>\n",
       "      <td>0.013883</td>\n",
       "    </tr>\n",
       "  </tbody>\n",
       "</table>\n",
       "</div>"
      ],
      "text/plain": [
       "            rtn_3_fixed  rtn_4_fixed  rtn_5_fixed  rtn_3_float  rtn_4_float  \\\n",
       "date                                                                          \n",
       "2015-11-26    -0.042859     0.015303     0.008373     0.011477     0.056448   \n",
       "2015-12-23     0.202229     0.058554     0.145738     0.210461     0.193962   \n",
       "2016-01-22     0.044800    -0.018662    -0.021817     0.035769     0.016453   \n",
       "2016-02-23     0.120932     0.100118     0.105240     0.081189     0.124950   \n",
       "2016-03-22     0.038510     0.153385     0.101362     0.107383     0.085174   \n",
       "2016-04-19    -0.008258     0.219760     0.188984     0.180351     0.045118   \n",
       "2016-05-18     0.046994    -0.047090    -0.070235    -0.065241    -0.052873   \n",
       "2016-06-15     0.199569     0.193908     0.196229     0.105825     0.155773   \n",
       "2016-07-12     0.048098     0.095044     0.020315     0.039037     0.030076   \n",
       "2016-08-08     0.049740     0.037977    -0.004322     0.022357     0.064742   \n",
       "\n",
       "            rtn_5_float  \n",
       "date                     \n",
       "2015-11-26    -0.006817  \n",
       "2015-12-23     0.118650  \n",
       "2016-01-22    -0.030784  \n",
       "2016-02-23     0.124872  \n",
       "2016-03-22     0.137864  \n",
       "2016-04-19     0.191306  \n",
       "2016-05-18    -0.082141  \n",
       "2016-06-15     0.203059  \n",
       "2016-07-12     0.020315  \n",
       "2016-08-08     0.013883  "
      ]
     },
     "execution_count": 5,
     "metadata": {},
     "output_type": "execute_result"
    }
   ],
   "source": [
    "df_result_opt.head(10)"
   ]
  },
  {
   "cell_type": "code",
   "execution_count": 11,
   "metadata": {},
   "outputs": [
    {
     "data": {
      "application/vnd.plotly.v1+json": {
       "config": {
        "plotlyServerURL": "https://plot.ly"
       },
       "data": [
        {
         "hovertemplate": "variable=0<br>date=%{x}<br>value=%{y}<extra></extra>",
         "legendgroup": "0",
         "marker": {
          "color": "#636efa",
          "symbol": "circle"
         },
         "mode": "markers",
         "name": "0",
         "orientation": "v",
         "showlegend": true,
         "type": "scatter",
         "x": [
          "2015-11-26",
          "2015-12-23",
          "2016-01-22",
          "2016-02-23",
          "2016-03-22",
          "2016-04-19",
          "2016-05-18",
          "2016-06-15",
          "2016-07-12",
          "2016-08-08",
          "2016-09-05",
          "2016-10-06",
          "2016-11-02",
          "2016-11-29",
          "2016-12-26",
          "2017-01-23",
          "2017-02-21",
          "2017-03-21",
          "2017-04-17",
          "2017-05-18",
          "2017-06-15",
          "2017-07-12",
          "2017-08-08",
          "2017-09-05",
          "2017-10-10",
          "2017-11-06",
          "2017-12-01",
          "2018-01-02",
          "2018-01-29",
          "2018-02-27",
          "2018-03-27",
          "2018-04-23",
          "2018-05-23",
          "2018-06-21",
          "2018-07-18",
          "2018-08-14",
          "2018-09-11",
          "2018-10-15",
          "2018-11-09",
          "2018-12-06",
          "2019-01-07",
          "2019-02-01",
          "2019-03-06",
          "2019-04-02",
          "2019-04-29",
          "2019-05-28",
          "2019-06-25",
          "2019-07-22",
          "2019-08-19",
          "2019-09-17",
          "2019-10-16",
          "2019-11-12",
          "2019-12-09",
          "2020-01-08",
          "2020-02-06",
          "2020-03-04",
          "2020-03-31",
          "2020-04-28",
          "2020-05-28",
          "2020-06-24",
          "2020-07-21",
          "2020-08-18",
          "2020-09-14",
          "2020-10-15",
          "2020-11-11",
          "2020-12-08",
          "2021-01-07",
          "2021-02-03",
          "2021-03-05",
          "2021-04-01",
          "2021-04-28",
          "2021-05-27",
          "2021-06-23",
          "2021-07-20",
          "2021-08-17",
          "2021-09-13",
          "2021-10-15",
          "2021-11-11",
          "2021-12-08",
          "2022-01-05",
          "2022-02-04",
          "2022-03-04",
          "2022-04-01",
          "2022-04-28",
          "2022-05-26",
          "2022-06-24",
          "2022-07-21",
          "2022-08-18",
          "2022-09-16",
          "2022-10-17",
          "2022-11-11",
          "2022-12-08",
          "2023-01-05",
          "2023-02-03",
          "2023-03-03",
          "2023-03-30",
          "2023-04-26",
          "2023-05-25",
          "2023-06-23",
          "2023-07-20",
          "2023-08-17",
          "2023-09-13",
          "2023-09-19"
         ],
         "xaxis": "x",
         "y": [
          1.020369380963358,
          1.1982787950475928,
          1.2068419452718426,
          1.3400013329691514,
          1.4875896377016156,
          1.694253301039929,
          1.5811589798294987,
          1.826057917543703,
          1.8804913775627643,
          1.9437900211923753,
          1.942268630844672,
          2.1901599010437405,
          2.0244430100182687,
          2.0386905547255805,
          2.2575792474131804,
          2.5567408197019743,
          2.510611874230425,
          2.621637073433259,
          2.8385008702076626,
          2.8571478023896657,
          3.162173629146365,
          3.2033575864940738,
          3.4650060089753483,
          3.447768533919777,
          3.5282143292201558,
          3.8172415184133937,
          4.224738688114205,
          4.428137465025144,
          4.7855583880835955,
          5.049474807904897,
          5.085698111185418,
          5.977125181314985,
          6.426150491029232,
          6.432519241759418,
          6.843278696272934,
          6.736978866297575,
          7.303409467780868,
          6.690236494261613,
          7.0130955037592,
          7.533446278957468,
          7.94903159533612,
          9.34979391445781,
          9.631023202706745,
          9.728636082627046,
          9.845459971346449,
          9.714493883101339,
          10.095085652127334,
          10.672007648618882,
          10.631110022151399,
          11.741124391911244,
          13.10185010430626,
          14.164818679095418,
          16.307535495563688,
          17.94514300570742,
          17.47790114260119,
          15.856653276441335,
          14.99142834455637,
          17.816725152197325,
          18.10542573157669,
          17.52514813810594,
          18.090261243600395,
          18.496288453394797,
          21.026254904250646,
          21.561261041427606,
          21.64230958265476,
          21.36794679247235,
          24.24409670602771,
          25.09767695862897,
          25.96349570763837,
          27.871530938486124,
          28.19615202362301,
          30.847806128062874,
          36.53624488437637,
          36.1163160441224,
          34.0560050050183,
          35.933068400274315,
          38.42742560587872,
          41.93480042322656,
          45.49027464142708,
          55.48524742083251,
          59.637090866457505,
          63.017630529651754,
          68.85215202995433,
          65.86940768301463,
          70.87329202235145,
          62.68744450520609,
          68.77260930038118,
          69.12661315866833,
          68.57621834562673,
          76.39280207494457,
          85.31121452061159,
          84.49834038232913,
          91.17072300724946,
          91.17072300724946,
          91.17072300724946,
          93.49812812376905,
          102.11994799589795,
          100.5766622723626,
          103.24151750193371,
          106.55832156240422,
          109.19836929100681,
          114.69477523016646,
          114.69477523016646
         ],
         "yaxis": "y"
        }
       ],
       "layout": {
        "legend": {
         "title": {
          "text": "variable"
         },
         "tracegroupgap": 0
        },
        "margin": {
         "t": 60
        },
        "template": {
         "data": {
          "bar": [
           {
            "error_x": {
             "color": "#2a3f5f"
            },
            "error_y": {
             "color": "#2a3f5f"
            },
            "marker": {
             "line": {
              "color": "#E5ECF6",
              "width": 0.5
             },
             "pattern": {
              "fillmode": "overlay",
              "size": 10,
              "solidity": 0.2
             }
            },
            "type": "bar"
           }
          ],
          "barpolar": [
           {
            "marker": {
             "line": {
              "color": "#E5ECF6",
              "width": 0.5
             },
             "pattern": {
              "fillmode": "overlay",
              "size": 10,
              "solidity": 0.2
             }
            },
            "type": "barpolar"
           }
          ],
          "carpet": [
           {
            "aaxis": {
             "endlinecolor": "#2a3f5f",
             "gridcolor": "white",
             "linecolor": "white",
             "minorgridcolor": "white",
             "startlinecolor": "#2a3f5f"
            },
            "baxis": {
             "endlinecolor": "#2a3f5f",
             "gridcolor": "white",
             "linecolor": "white",
             "minorgridcolor": "white",
             "startlinecolor": "#2a3f5f"
            },
            "type": "carpet"
           }
          ],
          "choropleth": [
           {
            "colorbar": {
             "outlinewidth": 0,
             "ticks": ""
            },
            "type": "choropleth"
           }
          ],
          "contour": [
           {
            "colorbar": {
             "outlinewidth": 0,
             "ticks": ""
            },
            "colorscale": [
             [
              0,
              "#0d0887"
             ],
             [
              0.1111111111111111,
              "#46039f"
             ],
             [
              0.2222222222222222,
              "#7201a8"
             ],
             [
              0.3333333333333333,
              "#9c179e"
             ],
             [
              0.4444444444444444,
              "#bd3786"
             ],
             [
              0.5555555555555556,
              "#d8576b"
             ],
             [
              0.6666666666666666,
              "#ed7953"
             ],
             [
              0.7777777777777778,
              "#fb9f3a"
             ],
             [
              0.8888888888888888,
              "#fdca26"
             ],
             [
              1,
              "#f0f921"
             ]
            ],
            "type": "contour"
           }
          ],
          "contourcarpet": [
           {
            "colorbar": {
             "outlinewidth": 0,
             "ticks": ""
            },
            "type": "contourcarpet"
           }
          ],
          "heatmap": [
           {
            "colorbar": {
             "outlinewidth": 0,
             "ticks": ""
            },
            "colorscale": [
             [
              0,
              "#0d0887"
             ],
             [
              0.1111111111111111,
              "#46039f"
             ],
             [
              0.2222222222222222,
              "#7201a8"
             ],
             [
              0.3333333333333333,
              "#9c179e"
             ],
             [
              0.4444444444444444,
              "#bd3786"
             ],
             [
              0.5555555555555556,
              "#d8576b"
             ],
             [
              0.6666666666666666,
              "#ed7953"
             ],
             [
              0.7777777777777778,
              "#fb9f3a"
             ],
             [
              0.8888888888888888,
              "#fdca26"
             ],
             [
              1,
              "#f0f921"
             ]
            ],
            "type": "heatmap"
           }
          ],
          "heatmapgl": [
           {
            "colorbar": {
             "outlinewidth": 0,
             "ticks": ""
            },
            "colorscale": [
             [
              0,
              "#0d0887"
             ],
             [
              0.1111111111111111,
              "#46039f"
             ],
             [
              0.2222222222222222,
              "#7201a8"
             ],
             [
              0.3333333333333333,
              "#9c179e"
             ],
             [
              0.4444444444444444,
              "#bd3786"
             ],
             [
              0.5555555555555556,
              "#d8576b"
             ],
             [
              0.6666666666666666,
              "#ed7953"
             ],
             [
              0.7777777777777778,
              "#fb9f3a"
             ],
             [
              0.8888888888888888,
              "#fdca26"
             ],
             [
              1,
              "#f0f921"
             ]
            ],
            "type": "heatmapgl"
           }
          ],
          "histogram": [
           {
            "marker": {
             "pattern": {
              "fillmode": "overlay",
              "size": 10,
              "solidity": 0.2
             }
            },
            "type": "histogram"
           }
          ],
          "histogram2d": [
           {
            "colorbar": {
             "outlinewidth": 0,
             "ticks": ""
            },
            "colorscale": [
             [
              0,
              "#0d0887"
             ],
             [
              0.1111111111111111,
              "#46039f"
             ],
             [
              0.2222222222222222,
              "#7201a8"
             ],
             [
              0.3333333333333333,
              "#9c179e"
             ],
             [
              0.4444444444444444,
              "#bd3786"
             ],
             [
              0.5555555555555556,
              "#d8576b"
             ],
             [
              0.6666666666666666,
              "#ed7953"
             ],
             [
              0.7777777777777778,
              "#fb9f3a"
             ],
             [
              0.8888888888888888,
              "#fdca26"
             ],
             [
              1,
              "#f0f921"
             ]
            ],
            "type": "histogram2d"
           }
          ],
          "histogram2dcontour": [
           {
            "colorbar": {
             "outlinewidth": 0,
             "ticks": ""
            },
            "colorscale": [
             [
              0,
              "#0d0887"
             ],
             [
              0.1111111111111111,
              "#46039f"
             ],
             [
              0.2222222222222222,
              "#7201a8"
             ],
             [
              0.3333333333333333,
              "#9c179e"
             ],
             [
              0.4444444444444444,
              "#bd3786"
             ],
             [
              0.5555555555555556,
              "#d8576b"
             ],
             [
              0.6666666666666666,
              "#ed7953"
             ],
             [
              0.7777777777777778,
              "#fb9f3a"
             ],
             [
              0.8888888888888888,
              "#fdca26"
             ],
             [
              1,
              "#f0f921"
             ]
            ],
            "type": "histogram2dcontour"
           }
          ],
          "mesh3d": [
           {
            "colorbar": {
             "outlinewidth": 0,
             "ticks": ""
            },
            "type": "mesh3d"
           }
          ],
          "parcoords": [
           {
            "line": {
             "colorbar": {
              "outlinewidth": 0,
              "ticks": ""
             }
            },
            "type": "parcoords"
           }
          ],
          "pie": [
           {
            "automargin": true,
            "type": "pie"
           }
          ],
          "scatter": [
           {
            "fillpattern": {
             "fillmode": "overlay",
             "size": 10,
             "solidity": 0.2
            },
            "type": "scatter"
           }
          ],
          "scatter3d": [
           {
            "line": {
             "colorbar": {
              "outlinewidth": 0,
              "ticks": ""
             }
            },
            "marker": {
             "colorbar": {
              "outlinewidth": 0,
              "ticks": ""
             }
            },
            "type": "scatter3d"
           }
          ],
          "scattercarpet": [
           {
            "marker": {
             "colorbar": {
              "outlinewidth": 0,
              "ticks": ""
             }
            },
            "type": "scattercarpet"
           }
          ],
          "scattergeo": [
           {
            "marker": {
             "colorbar": {
              "outlinewidth": 0,
              "ticks": ""
             }
            },
            "type": "scattergeo"
           }
          ],
          "scattergl": [
           {
            "marker": {
             "colorbar": {
              "outlinewidth": 0,
              "ticks": ""
             }
            },
            "type": "scattergl"
           }
          ],
          "scattermapbox": [
           {
            "marker": {
             "colorbar": {
              "outlinewidth": 0,
              "ticks": ""
             }
            },
            "type": "scattermapbox"
           }
          ],
          "scatterpolar": [
           {
            "marker": {
             "colorbar": {
              "outlinewidth": 0,
              "ticks": ""
             }
            },
            "type": "scatterpolar"
           }
          ],
          "scatterpolargl": [
           {
            "marker": {
             "colorbar": {
              "outlinewidth": 0,
              "ticks": ""
             }
            },
            "type": "scatterpolargl"
           }
          ],
          "scatterternary": [
           {
            "marker": {
             "colorbar": {
              "outlinewidth": 0,
              "ticks": ""
             }
            },
            "type": "scatterternary"
           }
          ],
          "surface": [
           {
            "colorbar": {
             "outlinewidth": 0,
             "ticks": ""
            },
            "colorscale": [
             [
              0,
              "#0d0887"
             ],
             [
              0.1111111111111111,
              "#46039f"
             ],
             [
              0.2222222222222222,
              "#7201a8"
             ],
             [
              0.3333333333333333,
              "#9c179e"
             ],
             [
              0.4444444444444444,
              "#bd3786"
             ],
             [
              0.5555555555555556,
              "#d8576b"
             ],
             [
              0.6666666666666666,
              "#ed7953"
             ],
             [
              0.7777777777777778,
              "#fb9f3a"
             ],
             [
              0.8888888888888888,
              "#fdca26"
             ],
             [
              1,
              "#f0f921"
             ]
            ],
            "type": "surface"
           }
          ],
          "table": [
           {
            "cells": {
             "fill": {
              "color": "#EBF0F8"
             },
             "line": {
              "color": "white"
             }
            },
            "header": {
             "fill": {
              "color": "#C8D4E3"
             },
             "line": {
              "color": "white"
             }
            },
            "type": "table"
           }
          ]
         },
         "layout": {
          "annotationdefaults": {
           "arrowcolor": "#2a3f5f",
           "arrowhead": 0,
           "arrowwidth": 1
          },
          "autotypenumbers": "strict",
          "coloraxis": {
           "colorbar": {
            "outlinewidth": 0,
            "ticks": ""
           }
          },
          "colorscale": {
           "diverging": [
            [
             0,
             "#8e0152"
            ],
            [
             0.1,
             "#c51b7d"
            ],
            [
             0.2,
             "#de77ae"
            ],
            [
             0.3,
             "#f1b6da"
            ],
            [
             0.4,
             "#fde0ef"
            ],
            [
             0.5,
             "#f7f7f7"
            ],
            [
             0.6,
             "#e6f5d0"
            ],
            [
             0.7,
             "#b8e186"
            ],
            [
             0.8,
             "#7fbc41"
            ],
            [
             0.9,
             "#4d9221"
            ],
            [
             1,
             "#276419"
            ]
           ],
           "sequential": [
            [
             0,
             "#0d0887"
            ],
            [
             0.1111111111111111,
             "#46039f"
            ],
            [
             0.2222222222222222,
             "#7201a8"
            ],
            [
             0.3333333333333333,
             "#9c179e"
            ],
            [
             0.4444444444444444,
             "#bd3786"
            ],
            [
             0.5555555555555556,
             "#d8576b"
            ],
            [
             0.6666666666666666,
             "#ed7953"
            ],
            [
             0.7777777777777778,
             "#fb9f3a"
            ],
            [
             0.8888888888888888,
             "#fdca26"
            ],
            [
             1,
             "#f0f921"
            ]
           ],
           "sequentialminus": [
            [
             0,
             "#0d0887"
            ],
            [
             0.1111111111111111,
             "#46039f"
            ],
            [
             0.2222222222222222,
             "#7201a8"
            ],
            [
             0.3333333333333333,
             "#9c179e"
            ],
            [
             0.4444444444444444,
             "#bd3786"
            ],
            [
             0.5555555555555556,
             "#d8576b"
            ],
            [
             0.6666666666666666,
             "#ed7953"
            ],
            [
             0.7777777777777778,
             "#fb9f3a"
            ],
            [
             0.8888888888888888,
             "#fdca26"
            ],
            [
             1,
             "#f0f921"
            ]
           ]
          },
          "colorway": [
           "#636efa",
           "#EF553B",
           "#00cc96",
           "#ab63fa",
           "#FFA15A",
           "#19d3f3",
           "#FF6692",
           "#B6E880",
           "#FF97FF",
           "#FECB52"
          ],
          "font": {
           "color": "#2a3f5f"
          },
          "geo": {
           "bgcolor": "white",
           "lakecolor": "white",
           "landcolor": "#E5ECF6",
           "showlakes": true,
           "showland": true,
           "subunitcolor": "white"
          },
          "hoverlabel": {
           "align": "left"
          },
          "hovermode": "closest",
          "mapbox": {
           "style": "light"
          },
          "paper_bgcolor": "white",
          "plot_bgcolor": "#E5ECF6",
          "polar": {
           "angularaxis": {
            "gridcolor": "white",
            "linecolor": "white",
            "ticks": ""
           },
           "bgcolor": "#E5ECF6",
           "radialaxis": {
            "gridcolor": "white",
            "linecolor": "white",
            "ticks": ""
           }
          },
          "scene": {
           "xaxis": {
            "backgroundcolor": "#E5ECF6",
            "gridcolor": "white",
            "gridwidth": 2,
            "linecolor": "white",
            "showbackground": true,
            "ticks": "",
            "zerolinecolor": "white"
           },
           "yaxis": {
            "backgroundcolor": "#E5ECF6",
            "gridcolor": "white",
            "gridwidth": 2,
            "linecolor": "white",
            "showbackground": true,
            "ticks": "",
            "zerolinecolor": "white"
           },
           "zaxis": {
            "backgroundcolor": "#E5ECF6",
            "gridcolor": "white",
            "gridwidth": 2,
            "linecolor": "white",
            "showbackground": true,
            "ticks": "",
            "zerolinecolor": "white"
           }
          },
          "shapedefaults": {
           "line": {
            "color": "#2a3f5f"
           }
          },
          "ternary": {
           "aaxis": {
            "gridcolor": "white",
            "linecolor": "white",
            "ticks": ""
           },
           "baxis": {
            "gridcolor": "white",
            "linecolor": "white",
            "ticks": ""
           },
           "bgcolor": "#E5ECF6",
           "caxis": {
            "gridcolor": "white",
            "linecolor": "white",
            "ticks": ""
           }
          },
          "title": {
           "x": 0.05
          },
          "xaxis": {
           "automargin": true,
           "gridcolor": "white",
           "linecolor": "white",
           "ticks": "",
           "title": {
            "standoff": 15
           },
           "zerolinecolor": "white",
           "zerolinewidth": 2
          },
          "yaxis": {
           "automargin": true,
           "gridcolor": "white",
           "linecolor": "white",
           "ticks": "",
           "title": {
            "standoff": 15
           },
           "zerolinecolor": "white",
           "zerolinewidth": 2
          }
         }
        },
        "xaxis": {
         "anchor": "y",
         "domain": [
          0,
          1
         ],
         "title": {
          "text": "date"
         }
        },
        "yaxis": {
         "anchor": "x",
         "domain": [
          0,
          1
         ],
         "title": {
          "text": "value"
         }
        }
       }
      }
     },
     "metadata": {},
     "output_type": "display_data"
    }
   ],
   "source": [
    "(\n",
    "    df_result_opt[['rtn_3_float', 'rtn_4_float', 'rtn_5_float']].mean(axis=1)\n",
    "    +1\n",
    ").cumprod().plot(kind=\"scatter\")"
   ]
  },
  {
   "cell_type": "code",
   "execution_count": 12,
   "metadata": {},
   "outputs": [
    {
     "data": {
      "text/plain": [
       "1.73450270996002"
      ]
     },
     "execution_count": 12,
     "metadata": {},
     "output_type": "execute_result"
    }
   ],
   "source": [
    "114**(1/8.6)"
   ]
  },
  {
   "cell_type": "code",
   "execution_count": 13,
   "metadata": {},
   "outputs": [
    {
     "data": {
      "application/vnd.plotly.v1+json": {
       "config": {
        "plotlyServerURL": "https://plot.ly"
       },
       "data": [
        {
         "hovertemplate": "variable=rtn_3_float<br>date=%{x}<br>value=%{y}<extra></extra>",
         "legendgroup": "rtn_3_float",
         "marker": {
          "color": "#636efa",
          "symbol": "circle"
         },
         "mode": "markers",
         "name": "rtn_3_float",
         "orientation": "v",
         "showlegend": true,
         "type": "scatter",
         "x": [
          "2015-11-26",
          "2015-12-23",
          "2016-01-22",
          "2016-02-23",
          "2016-03-22",
          "2016-04-19",
          "2016-05-18",
          "2016-06-15",
          "2016-07-12",
          "2016-08-08",
          "2016-09-05",
          "2016-10-06",
          "2016-11-02",
          "2016-11-29",
          "2016-12-26",
          "2017-01-23",
          "2017-02-21",
          "2017-03-21",
          "2017-04-17",
          "2017-05-18",
          "2017-06-15",
          "2017-07-12",
          "2017-08-08",
          "2017-09-05",
          "2017-10-10",
          "2017-11-06",
          "2017-12-01",
          "2018-01-02",
          "2018-01-29",
          "2018-02-27",
          "2018-03-27",
          "2018-04-23",
          "2018-05-23",
          "2018-06-21",
          "2018-07-18",
          "2018-08-14",
          "2018-09-11",
          "2018-10-15",
          "2018-11-09",
          "2018-12-06",
          "2019-01-07",
          "2019-02-01",
          "2019-03-06",
          "2019-04-02",
          "2019-04-29",
          "2019-05-28",
          "2019-06-25",
          "2019-07-22",
          "2019-08-19",
          "2019-09-17",
          "2019-10-16",
          "2019-11-12",
          "2019-12-09",
          "2020-01-08",
          "2020-02-06",
          "2020-03-04",
          "2020-03-31",
          "2020-04-28",
          "2020-05-28",
          "2020-06-24",
          "2020-07-21",
          "2020-08-18",
          "2020-09-14",
          "2020-10-15",
          "2020-11-11",
          "2020-12-08",
          "2021-01-07",
          "2021-02-03",
          "2021-03-05",
          "2021-04-01",
          "2021-04-28",
          "2021-05-27",
          "2021-06-23",
          "2021-07-20",
          "2021-08-17",
          "2021-09-13",
          "2021-10-15",
          "2021-11-11",
          "2021-12-08",
          "2022-01-05",
          "2022-02-04",
          "2022-03-04",
          "2022-04-01",
          "2022-04-28",
          "2022-05-26",
          "2022-06-24",
          "2022-07-21",
          "2022-08-18",
          "2022-09-16",
          "2022-10-17",
          "2022-11-11",
          "2022-12-08",
          "2023-01-05",
          "2023-02-03",
          "2023-03-03",
          "2023-03-30",
          "2023-04-26",
          "2023-05-25",
          "2023-06-23",
          "2023-07-20",
          "2023-08-17",
          "2023-09-13",
          "2023-09-19"
         ],
         "xaxis": "x",
         "y": [
          1.0114765341478584,
          1.2243532612730486,
          1.2681469889677421,
          1.3711063327301578,
          1.518339902492029,
          1.7921738621616021,
          1.6752509528667707,
          1.8525335482227174,
          1.924850193833865,
          1.9678842638542116,
          1.9559550701180042,
          2.21043417896617,
          2.067875504745054,
          2.1789126838297364,
          2.3689239393216055,
          2.6493294147073083,
          2.5069338457466075,
          2.6013864873306494,
          2.8731789149808495,
          2.8390850569944175,
          3.0345600167586606,
          3.1282393483671793,
          3.344781401950728,
          3.3592423709810544,
          3.416778612865433,
          3.680064354916912,
          4.111066525816651,
          4.047014409637918,
          4.390853356657501,
          4.666187342341745,
          4.536325984797078,
          5.257784139678525,
          6.137572500209807,
          6.109412728816644,
          6.482322135338172,
          6.3750593982362105,
          7.0783533150253755,
          6.559861962936988,
          6.834490473578718,
          7.360297744596331,
          7.857671838307364,
          9.39204341693741,
          10.2020139568403,
          10.37929097650305,
          10.09042105435831,
          9.688024428987978,
          9.971944529555381,
          10.217533215992527,
          9.596172624331029,
          10.513935962615601,
          11.87987386795096,
          12.670883753328322,
          15.167631232253413,
          16.758158775940807,
          16.957595276899216,
          16.27415725594316,
          14.828967234582718,
          17.80938336108471,
          18.11162495183344,
          17.180176952848747,
          17.977894251599487,
          18.524212027175384,
          22.10754039167273,
          23.1546661365987,
          23.223127797220048,
          22.892495036722554,
          25.124203959019443,
          26.19957922856793,
          26.76600512456175,
          28.956538346000794,
          28.2529276670099,
          29.809738402194778,
          35.05142467973223,
          33.87397015716278,
          31.34834931250444,
          32.960355492410564,
          33.5544694392678,
          36.399591794068016,
          38.79074812891593,
          48.5996748886784,
          54.04087074352716,
          57.58752907276755,
          64.5796800626013,
          59.78606180392388,
          66.29725030010746,
          59.77362609398624,
          65.68432587000288,
          66.66464659688543,
          65.69228258110962,
          74.94617042518023,
          83.7537419787082,
          83.86341744971189,
          93.03861217257824,
          93.03861217257824,
          93.03861217257824,
          92.94747007122862,
          99.93598400258333,
          98.53420528932108,
          100.35067074128344,
          108.66179032790761,
          114.88666978277737,
          121.00659690942217,
          121.00659690942217
         ],
         "yaxis": "y"
        }
       ],
       "layout": {
        "legend": {
         "title": {
          "text": "variable"
         },
         "tracegroupgap": 0
        },
        "margin": {
         "t": 60
        },
        "template": {
         "data": {
          "bar": [
           {
            "error_x": {
             "color": "#2a3f5f"
            },
            "error_y": {
             "color": "#2a3f5f"
            },
            "marker": {
             "line": {
              "color": "#E5ECF6",
              "width": 0.5
             },
             "pattern": {
              "fillmode": "overlay",
              "size": 10,
              "solidity": 0.2
             }
            },
            "type": "bar"
           }
          ],
          "barpolar": [
           {
            "marker": {
             "line": {
              "color": "#E5ECF6",
              "width": 0.5
             },
             "pattern": {
              "fillmode": "overlay",
              "size": 10,
              "solidity": 0.2
             }
            },
            "type": "barpolar"
           }
          ],
          "carpet": [
           {
            "aaxis": {
             "endlinecolor": "#2a3f5f",
             "gridcolor": "white",
             "linecolor": "white",
             "minorgridcolor": "white",
             "startlinecolor": "#2a3f5f"
            },
            "baxis": {
             "endlinecolor": "#2a3f5f",
             "gridcolor": "white",
             "linecolor": "white",
             "minorgridcolor": "white",
             "startlinecolor": "#2a3f5f"
            },
            "type": "carpet"
           }
          ],
          "choropleth": [
           {
            "colorbar": {
             "outlinewidth": 0,
             "ticks": ""
            },
            "type": "choropleth"
           }
          ],
          "contour": [
           {
            "colorbar": {
             "outlinewidth": 0,
             "ticks": ""
            },
            "colorscale": [
             [
              0,
              "#0d0887"
             ],
             [
              0.1111111111111111,
              "#46039f"
             ],
             [
              0.2222222222222222,
              "#7201a8"
             ],
             [
              0.3333333333333333,
              "#9c179e"
             ],
             [
              0.4444444444444444,
              "#bd3786"
             ],
             [
              0.5555555555555556,
              "#d8576b"
             ],
             [
              0.6666666666666666,
              "#ed7953"
             ],
             [
              0.7777777777777778,
              "#fb9f3a"
             ],
             [
              0.8888888888888888,
              "#fdca26"
             ],
             [
              1,
              "#f0f921"
             ]
            ],
            "type": "contour"
           }
          ],
          "contourcarpet": [
           {
            "colorbar": {
             "outlinewidth": 0,
             "ticks": ""
            },
            "type": "contourcarpet"
           }
          ],
          "heatmap": [
           {
            "colorbar": {
             "outlinewidth": 0,
             "ticks": ""
            },
            "colorscale": [
             [
              0,
              "#0d0887"
             ],
             [
              0.1111111111111111,
              "#46039f"
             ],
             [
              0.2222222222222222,
              "#7201a8"
             ],
             [
              0.3333333333333333,
              "#9c179e"
             ],
             [
              0.4444444444444444,
              "#bd3786"
             ],
             [
              0.5555555555555556,
              "#d8576b"
             ],
             [
              0.6666666666666666,
              "#ed7953"
             ],
             [
              0.7777777777777778,
              "#fb9f3a"
             ],
             [
              0.8888888888888888,
              "#fdca26"
             ],
             [
              1,
              "#f0f921"
             ]
            ],
            "type": "heatmap"
           }
          ],
          "heatmapgl": [
           {
            "colorbar": {
             "outlinewidth": 0,
             "ticks": ""
            },
            "colorscale": [
             [
              0,
              "#0d0887"
             ],
             [
              0.1111111111111111,
              "#46039f"
             ],
             [
              0.2222222222222222,
              "#7201a8"
             ],
             [
              0.3333333333333333,
              "#9c179e"
             ],
             [
              0.4444444444444444,
              "#bd3786"
             ],
             [
              0.5555555555555556,
              "#d8576b"
             ],
             [
              0.6666666666666666,
              "#ed7953"
             ],
             [
              0.7777777777777778,
              "#fb9f3a"
             ],
             [
              0.8888888888888888,
              "#fdca26"
             ],
             [
              1,
              "#f0f921"
             ]
            ],
            "type": "heatmapgl"
           }
          ],
          "histogram": [
           {
            "marker": {
             "pattern": {
              "fillmode": "overlay",
              "size": 10,
              "solidity": 0.2
             }
            },
            "type": "histogram"
           }
          ],
          "histogram2d": [
           {
            "colorbar": {
             "outlinewidth": 0,
             "ticks": ""
            },
            "colorscale": [
             [
              0,
              "#0d0887"
             ],
             [
              0.1111111111111111,
              "#46039f"
             ],
             [
              0.2222222222222222,
              "#7201a8"
             ],
             [
              0.3333333333333333,
              "#9c179e"
             ],
             [
              0.4444444444444444,
              "#bd3786"
             ],
             [
              0.5555555555555556,
              "#d8576b"
             ],
             [
              0.6666666666666666,
              "#ed7953"
             ],
             [
              0.7777777777777778,
              "#fb9f3a"
             ],
             [
              0.8888888888888888,
              "#fdca26"
             ],
             [
              1,
              "#f0f921"
             ]
            ],
            "type": "histogram2d"
           }
          ],
          "histogram2dcontour": [
           {
            "colorbar": {
             "outlinewidth": 0,
             "ticks": ""
            },
            "colorscale": [
             [
              0,
              "#0d0887"
             ],
             [
              0.1111111111111111,
              "#46039f"
             ],
             [
              0.2222222222222222,
              "#7201a8"
             ],
             [
              0.3333333333333333,
              "#9c179e"
             ],
             [
              0.4444444444444444,
              "#bd3786"
             ],
             [
              0.5555555555555556,
              "#d8576b"
             ],
             [
              0.6666666666666666,
              "#ed7953"
             ],
             [
              0.7777777777777778,
              "#fb9f3a"
             ],
             [
              0.8888888888888888,
              "#fdca26"
             ],
             [
              1,
              "#f0f921"
             ]
            ],
            "type": "histogram2dcontour"
           }
          ],
          "mesh3d": [
           {
            "colorbar": {
             "outlinewidth": 0,
             "ticks": ""
            },
            "type": "mesh3d"
           }
          ],
          "parcoords": [
           {
            "line": {
             "colorbar": {
              "outlinewidth": 0,
              "ticks": ""
             }
            },
            "type": "parcoords"
           }
          ],
          "pie": [
           {
            "automargin": true,
            "type": "pie"
           }
          ],
          "scatter": [
           {
            "fillpattern": {
             "fillmode": "overlay",
             "size": 10,
             "solidity": 0.2
            },
            "type": "scatter"
           }
          ],
          "scatter3d": [
           {
            "line": {
             "colorbar": {
              "outlinewidth": 0,
              "ticks": ""
             }
            },
            "marker": {
             "colorbar": {
              "outlinewidth": 0,
              "ticks": ""
             }
            },
            "type": "scatter3d"
           }
          ],
          "scattercarpet": [
           {
            "marker": {
             "colorbar": {
              "outlinewidth": 0,
              "ticks": ""
             }
            },
            "type": "scattercarpet"
           }
          ],
          "scattergeo": [
           {
            "marker": {
             "colorbar": {
              "outlinewidth": 0,
              "ticks": ""
             }
            },
            "type": "scattergeo"
           }
          ],
          "scattergl": [
           {
            "marker": {
             "colorbar": {
              "outlinewidth": 0,
              "ticks": ""
             }
            },
            "type": "scattergl"
           }
          ],
          "scattermapbox": [
           {
            "marker": {
             "colorbar": {
              "outlinewidth": 0,
              "ticks": ""
             }
            },
            "type": "scattermapbox"
           }
          ],
          "scatterpolar": [
           {
            "marker": {
             "colorbar": {
              "outlinewidth": 0,
              "ticks": ""
             }
            },
            "type": "scatterpolar"
           }
          ],
          "scatterpolargl": [
           {
            "marker": {
             "colorbar": {
              "outlinewidth": 0,
              "ticks": ""
             }
            },
            "type": "scatterpolargl"
           }
          ],
          "scatterternary": [
           {
            "marker": {
             "colorbar": {
              "outlinewidth": 0,
              "ticks": ""
             }
            },
            "type": "scatterternary"
           }
          ],
          "surface": [
           {
            "colorbar": {
             "outlinewidth": 0,
             "ticks": ""
            },
            "colorscale": [
             [
              0,
              "#0d0887"
             ],
             [
              0.1111111111111111,
              "#46039f"
             ],
             [
              0.2222222222222222,
              "#7201a8"
             ],
             [
              0.3333333333333333,
              "#9c179e"
             ],
             [
              0.4444444444444444,
              "#bd3786"
             ],
             [
              0.5555555555555556,
              "#d8576b"
             ],
             [
              0.6666666666666666,
              "#ed7953"
             ],
             [
              0.7777777777777778,
              "#fb9f3a"
             ],
             [
              0.8888888888888888,
              "#fdca26"
             ],
             [
              1,
              "#f0f921"
             ]
            ],
            "type": "surface"
           }
          ],
          "table": [
           {
            "cells": {
             "fill": {
              "color": "#EBF0F8"
             },
             "line": {
              "color": "white"
             }
            },
            "header": {
             "fill": {
              "color": "#C8D4E3"
             },
             "line": {
              "color": "white"
             }
            },
            "type": "table"
           }
          ]
         },
         "layout": {
          "annotationdefaults": {
           "arrowcolor": "#2a3f5f",
           "arrowhead": 0,
           "arrowwidth": 1
          },
          "autotypenumbers": "strict",
          "coloraxis": {
           "colorbar": {
            "outlinewidth": 0,
            "ticks": ""
           }
          },
          "colorscale": {
           "diverging": [
            [
             0,
             "#8e0152"
            ],
            [
             0.1,
             "#c51b7d"
            ],
            [
             0.2,
             "#de77ae"
            ],
            [
             0.3,
             "#f1b6da"
            ],
            [
             0.4,
             "#fde0ef"
            ],
            [
             0.5,
             "#f7f7f7"
            ],
            [
             0.6,
             "#e6f5d0"
            ],
            [
             0.7,
             "#b8e186"
            ],
            [
             0.8,
             "#7fbc41"
            ],
            [
             0.9,
             "#4d9221"
            ],
            [
             1,
             "#276419"
            ]
           ],
           "sequential": [
            [
             0,
             "#0d0887"
            ],
            [
             0.1111111111111111,
             "#46039f"
            ],
            [
             0.2222222222222222,
             "#7201a8"
            ],
            [
             0.3333333333333333,
             "#9c179e"
            ],
            [
             0.4444444444444444,
             "#bd3786"
            ],
            [
             0.5555555555555556,
             "#d8576b"
            ],
            [
             0.6666666666666666,
             "#ed7953"
            ],
            [
             0.7777777777777778,
             "#fb9f3a"
            ],
            [
             0.8888888888888888,
             "#fdca26"
            ],
            [
             1,
             "#f0f921"
            ]
           ],
           "sequentialminus": [
            [
             0,
             "#0d0887"
            ],
            [
             0.1111111111111111,
             "#46039f"
            ],
            [
             0.2222222222222222,
             "#7201a8"
            ],
            [
             0.3333333333333333,
             "#9c179e"
            ],
            [
             0.4444444444444444,
             "#bd3786"
            ],
            [
             0.5555555555555556,
             "#d8576b"
            ],
            [
             0.6666666666666666,
             "#ed7953"
            ],
            [
             0.7777777777777778,
             "#fb9f3a"
            ],
            [
             0.8888888888888888,
             "#fdca26"
            ],
            [
             1,
             "#f0f921"
            ]
           ]
          },
          "colorway": [
           "#636efa",
           "#EF553B",
           "#00cc96",
           "#ab63fa",
           "#FFA15A",
           "#19d3f3",
           "#FF6692",
           "#B6E880",
           "#FF97FF",
           "#FECB52"
          ],
          "font": {
           "color": "#2a3f5f"
          },
          "geo": {
           "bgcolor": "white",
           "lakecolor": "white",
           "landcolor": "#E5ECF6",
           "showlakes": true,
           "showland": true,
           "subunitcolor": "white"
          },
          "hoverlabel": {
           "align": "left"
          },
          "hovermode": "closest",
          "mapbox": {
           "style": "light"
          },
          "paper_bgcolor": "white",
          "plot_bgcolor": "#E5ECF6",
          "polar": {
           "angularaxis": {
            "gridcolor": "white",
            "linecolor": "white",
            "ticks": ""
           },
           "bgcolor": "#E5ECF6",
           "radialaxis": {
            "gridcolor": "white",
            "linecolor": "white",
            "ticks": ""
           }
          },
          "scene": {
           "xaxis": {
            "backgroundcolor": "#E5ECF6",
            "gridcolor": "white",
            "gridwidth": 2,
            "linecolor": "white",
            "showbackground": true,
            "ticks": "",
            "zerolinecolor": "white"
           },
           "yaxis": {
            "backgroundcolor": "#E5ECF6",
            "gridcolor": "white",
            "gridwidth": 2,
            "linecolor": "white",
            "showbackground": true,
            "ticks": "",
            "zerolinecolor": "white"
           },
           "zaxis": {
            "backgroundcolor": "#E5ECF6",
            "gridcolor": "white",
            "gridwidth": 2,
            "linecolor": "white",
            "showbackground": true,
            "ticks": "",
            "zerolinecolor": "white"
           }
          },
          "shapedefaults": {
           "line": {
            "color": "#2a3f5f"
           }
          },
          "ternary": {
           "aaxis": {
            "gridcolor": "white",
            "linecolor": "white",
            "ticks": ""
           },
           "baxis": {
            "gridcolor": "white",
            "linecolor": "white",
            "ticks": ""
           },
           "bgcolor": "#E5ECF6",
           "caxis": {
            "gridcolor": "white",
            "linecolor": "white",
            "ticks": ""
           }
          },
          "title": {
           "x": 0.05
          },
          "xaxis": {
           "automargin": true,
           "gridcolor": "white",
           "linecolor": "white",
           "ticks": "",
           "title": {
            "standoff": 15
           },
           "zerolinecolor": "white",
           "zerolinewidth": 2
          },
          "yaxis": {
           "automargin": true,
           "gridcolor": "white",
           "linecolor": "white",
           "ticks": "",
           "title": {
            "standoff": 15
           },
           "zerolinecolor": "white",
           "zerolinewidth": 2
          }
         }
        },
        "xaxis": {
         "anchor": "y",
         "domain": [
          0,
          1
         ],
         "title": {
          "text": "date"
         }
        },
        "yaxis": {
         "anchor": "x",
         "domain": [
          0,
          1
         ],
         "title": {
          "text": "value"
         }
        }
       }
      }
     },
     "metadata": {},
     "output_type": "display_data"
    }
   ],
   "source": [
    "(\n",
    "    df_result_opt['rtn_3_float']\n",
    "    +1\n",
    ").cumprod().plot(kind=\"scatter\")"
   ]
  },
  {
   "cell_type": "code",
   "execution_count": 14,
   "metadata": {},
   "outputs": [
    {
     "data": {
      "text/html": [
       "<div>\n",
       "<style scoped>\n",
       "    .dataframe tbody tr th:only-of-type {\n",
       "        vertical-align: middle;\n",
       "    }\n",
       "\n",
       "    .dataframe tbody tr th {\n",
       "        vertical-align: top;\n",
       "    }\n",
       "\n",
       "    .dataframe thead th {\n",
       "        text-align: right;\n",
       "    }\n",
       "</style>\n",
       "<table border=\"1\" class=\"dataframe\">\n",
       "  <thead>\n",
       "    <tr style=\"text-align: right;\">\n",
       "      <th></th>\n",
       "      <th>rtn_3_fixed</th>\n",
       "      <th>rtn_4_fixed</th>\n",
       "      <th>rtn_5_fixed</th>\n",
       "      <th>rtn_3_float</th>\n",
       "      <th>rtn_4_float</th>\n",
       "      <th>rtn_5_float</th>\n",
       "    </tr>\n",
       "  </thead>\n",
       "  <tbody>\n",
       "    <tr>\n",
       "      <th>rtn_3_fixed</th>\n",
       "      <td>1.000000</td>\n",
       "      <td>0.625138</td>\n",
       "      <td>0.523552</td>\n",
       "      <td>0.718497</td>\n",
       "      <td>0.740857</td>\n",
       "      <td>0.525048</td>\n",
       "    </tr>\n",
       "    <tr>\n",
       "      <th>rtn_4_fixed</th>\n",
       "      <td>0.625138</td>\n",
       "      <td>1.000000</td>\n",
       "      <td>0.824556</td>\n",
       "      <td>0.834940</td>\n",
       "      <td>0.753842</td>\n",
       "      <td>0.841853</td>\n",
       "    </tr>\n",
       "    <tr>\n",
       "      <th>rtn_5_fixed</th>\n",
       "      <td>0.523552</td>\n",
       "      <td>0.824556</td>\n",
       "      <td>1.000000</td>\n",
       "      <td>0.800415</td>\n",
       "      <td>0.691340</td>\n",
       "      <td>0.902927</td>\n",
       "    </tr>\n",
       "    <tr>\n",
       "      <th>rtn_3_float</th>\n",
       "      <td>0.718497</td>\n",
       "      <td>0.834940</td>\n",
       "      <td>0.800415</td>\n",
       "      <td>1.000000</td>\n",
       "      <td>0.774585</td>\n",
       "      <td>0.771783</td>\n",
       "    </tr>\n",
       "    <tr>\n",
       "      <th>rtn_4_float</th>\n",
       "      <td>0.740857</td>\n",
       "      <td>0.753842</td>\n",
       "      <td>0.691340</td>\n",
       "      <td>0.774585</td>\n",
       "      <td>1.000000</td>\n",
       "      <td>0.700850</td>\n",
       "    </tr>\n",
       "    <tr>\n",
       "      <th>rtn_5_float</th>\n",
       "      <td>0.525048</td>\n",
       "      <td>0.841853</td>\n",
       "      <td>0.902927</td>\n",
       "      <td>0.771783</td>\n",
       "      <td>0.700850</td>\n",
       "      <td>1.000000</td>\n",
       "    </tr>\n",
       "  </tbody>\n",
       "</table>\n",
       "</div>"
      ],
      "text/plain": [
       "             rtn_3_fixed  rtn_4_fixed  rtn_5_fixed  rtn_3_float  rtn_4_float  \\\n",
       "rtn_3_fixed     1.000000     0.625138     0.523552     0.718497     0.740857   \n",
       "rtn_4_fixed     0.625138     1.000000     0.824556     0.834940     0.753842   \n",
       "rtn_5_fixed     0.523552     0.824556     1.000000     0.800415     0.691340   \n",
       "rtn_3_float     0.718497     0.834940     0.800415     1.000000     0.774585   \n",
       "rtn_4_float     0.740857     0.753842     0.691340     0.774585     1.000000   \n",
       "rtn_5_float     0.525048     0.841853     0.902927     0.771783     0.700850   \n",
       "\n",
       "             rtn_5_float  \n",
       "rtn_3_fixed     0.525048  \n",
       "rtn_4_fixed     0.841853  \n",
       "rtn_5_fixed     0.902927  \n",
       "rtn_3_float     0.771783  \n",
       "rtn_4_float     0.700850  \n",
       "rtn_5_float     1.000000  "
      ]
     },
     "execution_count": 14,
     "metadata": {},
     "output_type": "execute_result"
    }
   ],
   "source": [
    "df_result_opt.corr()"
   ]
  },
  {
   "cell_type": "code",
   "execution_count": 17,
   "metadata": {},
   "outputs": [
    {
     "data": {
      "text/plain": [
       "0.09857133659198757"
      ]
     },
     "execution_count": 17,
     "metadata": {},
     "output_type": "execute_result"
    }
   ],
   "source": [
    "df_result_opt['rtn_3_fixed'].std()"
   ]
  },
  {
   "cell_type": "code",
   "execution_count": 16,
   "metadata": {},
   "outputs": [
    {
     "data": {
      "text/plain": [
       "0.07543192507564465"
      ]
     },
     "execution_count": 16,
     "metadata": {},
     "output_type": "execute_result"
    }
   ],
   "source": [
    "\n",
    "df_result_opt[['rtn_3_fixed', 'rtn_5_float']].mean(axis=1).std()"
   ]
  },
  {
   "cell_type": "code",
   "execution_count": 18,
   "metadata": {},
   "outputs": [
    {
     "data": {
      "text/plain": [
       "0.07363327236866406"
      ]
     },
     "execution_count": 18,
     "metadata": {},
     "output_type": "execute_result"
    }
   ],
   "source": [
    "df_result_opt['rtn_5_float'].std()"
   ]
  },
  {
   "cell_type": "code",
   "execution_count": 19,
   "metadata": {},
   "outputs": [
    {
     "data": {
      "application/vnd.plotly.v1+json": {
       "config": {
        "plotlyServerURL": "https://plot.ly"
       },
       "data": [
        {
         "hovertemplate": "variable=0<br>date=%{x}<br>value=%{y}<extra></extra>",
         "legendgroup": "0",
         "marker": {
          "color": "#636efa",
          "symbol": "circle"
         },
         "mode": "markers",
         "name": "0",
         "orientation": "v",
         "showlegend": true,
         "type": "scatter",
         "x": [
          "2015-11-26",
          "2015-12-23",
          "2016-01-22",
          "2016-02-23",
          "2016-03-22",
          "2016-04-19",
          "2016-05-18",
          "2016-06-15",
          "2016-07-12",
          "2016-08-08",
          "2016-09-05",
          "2016-10-06",
          "2016-11-02",
          "2016-11-29",
          "2016-12-26",
          "2017-01-23",
          "2017-02-21",
          "2017-03-21",
          "2017-04-17",
          "2017-05-18",
          "2017-06-15",
          "2017-07-12",
          "2017-08-08",
          "2017-09-05",
          "2017-10-10",
          "2017-11-06",
          "2017-12-01",
          "2018-01-02",
          "2018-01-29",
          "2018-02-27",
          "2018-03-27",
          "2018-04-23",
          "2018-05-23",
          "2018-06-21",
          "2018-07-18",
          "2018-08-14",
          "2018-09-11",
          "2018-10-15",
          "2018-11-09",
          "2018-12-06",
          "2019-01-07",
          "2019-02-01",
          "2019-03-06",
          "2019-04-02",
          "2019-04-29",
          "2019-05-28",
          "2019-06-25",
          "2019-07-22",
          "2019-08-19",
          "2019-09-17",
          "2019-10-16",
          "2019-11-12",
          "2019-12-09",
          "2020-01-08",
          "2020-02-06",
          "2020-03-04",
          "2020-03-31",
          "2020-04-28",
          "2020-05-28",
          "2020-06-24",
          "2020-07-21",
          "2020-08-18",
          "2020-09-14",
          "2020-10-15",
          "2020-11-11",
          "2020-12-08",
          "2021-01-07",
          "2021-02-03",
          "2021-03-05",
          "2021-04-01",
          "2021-04-28",
          "2021-05-27",
          "2021-06-23",
          "2021-07-20",
          "2021-08-17",
          "2021-09-13",
          "2021-10-15",
          "2021-11-11",
          "2021-12-08",
          "2022-01-05",
          "2022-02-04",
          "2022-03-04",
          "2022-04-01",
          "2022-04-28",
          "2022-05-26",
          "2022-06-24",
          "2022-07-21",
          "2022-08-18",
          "2022-09-16",
          "2022-10-17",
          "2022-11-11",
          "2022-12-08",
          "2023-01-05",
          "2023-02-03",
          "2023-03-03",
          "2023-03-30",
          "2023-04-26",
          "2023-05-25",
          "2023-06-23",
          "2023-07-20",
          "2023-08-17",
          "2023-09-13",
          "2023-09-19"
         ],
         "xaxis": "x",
         "y": [
          0.9751623078276553,
          1.1316169396964373,
          1.1395472847798713,
          1.2796001048398458,
          1.3924441254594748,
          1.5198863273914556,
          1.4931764704589248,
          1.7937744640234852,
          1.8551337736547076,
          1.9141491318299833,
          1.9126018408453853,
          2.19039801219461,
          1.9934680909780493,
          1.927140877476315,
          2.114831664363271,
          2.5491254288602936,
          2.500393976854055,
          2.6250906577257402,
          2.8047263424940527,
          2.7732205275058868,
          3.0267145258650294,
          3.0995132295651886,
          3.270732862108358,
          3.2567196960402067,
          3.333588997684812,
          3.610970305815895,
          3.9039056564333037,
          4.294418746275083,
          4.7443675097223865,
          5.014669094684615,
          5.103671920883547,
          5.985177872953596,
          6.138018885428034,
          6.167799911330605,
          6.471711957226057,
          6.230735576232352,
          6.917530056928202,
          6.571159481794389,
          6.605630563677986,
          7.201681436765285,
          7.32583794560001,
          8.663224035776254,
          8.639307359262666,
          8.548998742783757,
          8.817261091068634,
          8.648021436873321,
          9.004703161335938,
          9.179376805689058,
          9.148707102643149,
          9.913925597487328,
          10.941602289195723,
          11.906589570360927,
          14.15694881801979,
          14.998116935059103,
          14.57426827483855,
          13.097732730206731,
          12.268999981260638,
          14.114750591548418,
          14.47125007204187,
          13.763248148903958,
          14.420432916583092,
          14.19077212385301,
          16.092698053986606,
          16.55795802350088,
          16.656078768894712,
          16.3295621837884,
          18.165690839208494,
          19.13951132183027,
          19.938075925629978,
          22.55167017242756,
          22.746038385638002,
          23.91352856939429,
          27.247163187559195,
          27.11322801145335,
          25.12477236189344,
          26.941303658770146,
          28.732301008170808,
          30.872161253620384,
          34.74496495853721,
          48.01600618759667,
          49.67827438168615,
          52.84192118460049,
          57.86163208768021,
          55.2510713463058,
          60.477915467844404,
          53.478989708994554,
          60.211378724047,
          62.445712961281245,
          62.04832162620237,
          73.44123787068864,
          83.94372402774597,
          84.88654742719173,
          90.41386006283103,
          90.41386006283103,
          90.41386006283103,
          93.42447214960863,
          97.9994601176501,
          95.3916882855568,
          98.76774691256627,
          107.34248825334099,
          105.78512904360741,
          112.43596507407953,
          112.43596507407953
         ],
         "yaxis": "y"
        }
       ],
       "layout": {
        "legend": {
         "title": {
          "text": "variable"
         },
         "tracegroupgap": 0
        },
        "margin": {
         "t": 60
        },
        "template": {
         "data": {
          "bar": [
           {
            "error_x": {
             "color": "#2a3f5f"
            },
            "error_y": {
             "color": "#2a3f5f"
            },
            "marker": {
             "line": {
              "color": "#E5ECF6",
              "width": 0.5
             },
             "pattern": {
              "fillmode": "overlay",
              "size": 10,
              "solidity": 0.2
             }
            },
            "type": "bar"
           }
          ],
          "barpolar": [
           {
            "marker": {
             "line": {
              "color": "#E5ECF6",
              "width": 0.5
             },
             "pattern": {
              "fillmode": "overlay",
              "size": 10,
              "solidity": 0.2
             }
            },
            "type": "barpolar"
           }
          ],
          "carpet": [
           {
            "aaxis": {
             "endlinecolor": "#2a3f5f",
             "gridcolor": "white",
             "linecolor": "white",
             "minorgridcolor": "white",
             "startlinecolor": "#2a3f5f"
            },
            "baxis": {
             "endlinecolor": "#2a3f5f",
             "gridcolor": "white",
             "linecolor": "white",
             "minorgridcolor": "white",
             "startlinecolor": "#2a3f5f"
            },
            "type": "carpet"
           }
          ],
          "choropleth": [
           {
            "colorbar": {
             "outlinewidth": 0,
             "ticks": ""
            },
            "type": "choropleth"
           }
          ],
          "contour": [
           {
            "colorbar": {
             "outlinewidth": 0,
             "ticks": ""
            },
            "colorscale": [
             [
              0,
              "#0d0887"
             ],
             [
              0.1111111111111111,
              "#46039f"
             ],
             [
              0.2222222222222222,
              "#7201a8"
             ],
             [
              0.3333333333333333,
              "#9c179e"
             ],
             [
              0.4444444444444444,
              "#bd3786"
             ],
             [
              0.5555555555555556,
              "#d8576b"
             ],
             [
              0.6666666666666666,
              "#ed7953"
             ],
             [
              0.7777777777777778,
              "#fb9f3a"
             ],
             [
              0.8888888888888888,
              "#fdca26"
             ],
             [
              1,
              "#f0f921"
             ]
            ],
            "type": "contour"
           }
          ],
          "contourcarpet": [
           {
            "colorbar": {
             "outlinewidth": 0,
             "ticks": ""
            },
            "type": "contourcarpet"
           }
          ],
          "heatmap": [
           {
            "colorbar": {
             "outlinewidth": 0,
             "ticks": ""
            },
            "colorscale": [
             [
              0,
              "#0d0887"
             ],
             [
              0.1111111111111111,
              "#46039f"
             ],
             [
              0.2222222222222222,
              "#7201a8"
             ],
             [
              0.3333333333333333,
              "#9c179e"
             ],
             [
              0.4444444444444444,
              "#bd3786"
             ],
             [
              0.5555555555555556,
              "#d8576b"
             ],
             [
              0.6666666666666666,
              "#ed7953"
             ],
             [
              0.7777777777777778,
              "#fb9f3a"
             ],
             [
              0.8888888888888888,
              "#fdca26"
             ],
             [
              1,
              "#f0f921"
             ]
            ],
            "type": "heatmap"
           }
          ],
          "heatmapgl": [
           {
            "colorbar": {
             "outlinewidth": 0,
             "ticks": ""
            },
            "colorscale": [
             [
              0,
              "#0d0887"
             ],
             [
              0.1111111111111111,
              "#46039f"
             ],
             [
              0.2222222222222222,
              "#7201a8"
             ],
             [
              0.3333333333333333,
              "#9c179e"
             ],
             [
              0.4444444444444444,
              "#bd3786"
             ],
             [
              0.5555555555555556,
              "#d8576b"
             ],
             [
              0.6666666666666666,
              "#ed7953"
             ],
             [
              0.7777777777777778,
              "#fb9f3a"
             ],
             [
              0.8888888888888888,
              "#fdca26"
             ],
             [
              1,
              "#f0f921"
             ]
            ],
            "type": "heatmapgl"
           }
          ],
          "histogram": [
           {
            "marker": {
             "pattern": {
              "fillmode": "overlay",
              "size": 10,
              "solidity": 0.2
             }
            },
            "type": "histogram"
           }
          ],
          "histogram2d": [
           {
            "colorbar": {
             "outlinewidth": 0,
             "ticks": ""
            },
            "colorscale": [
             [
              0,
              "#0d0887"
             ],
             [
              0.1111111111111111,
              "#46039f"
             ],
             [
              0.2222222222222222,
              "#7201a8"
             ],
             [
              0.3333333333333333,
              "#9c179e"
             ],
             [
              0.4444444444444444,
              "#bd3786"
             ],
             [
              0.5555555555555556,
              "#d8576b"
             ],
             [
              0.6666666666666666,
              "#ed7953"
             ],
             [
              0.7777777777777778,
              "#fb9f3a"
             ],
             [
              0.8888888888888888,
              "#fdca26"
             ],
             [
              1,
              "#f0f921"
             ]
            ],
            "type": "histogram2d"
           }
          ],
          "histogram2dcontour": [
           {
            "colorbar": {
             "outlinewidth": 0,
             "ticks": ""
            },
            "colorscale": [
             [
              0,
              "#0d0887"
             ],
             [
              0.1111111111111111,
              "#46039f"
             ],
             [
              0.2222222222222222,
              "#7201a8"
             ],
             [
              0.3333333333333333,
              "#9c179e"
             ],
             [
              0.4444444444444444,
              "#bd3786"
             ],
             [
              0.5555555555555556,
              "#d8576b"
             ],
             [
              0.6666666666666666,
              "#ed7953"
             ],
             [
              0.7777777777777778,
              "#fb9f3a"
             ],
             [
              0.8888888888888888,
              "#fdca26"
             ],
             [
              1,
              "#f0f921"
             ]
            ],
            "type": "histogram2dcontour"
           }
          ],
          "mesh3d": [
           {
            "colorbar": {
             "outlinewidth": 0,
             "ticks": ""
            },
            "type": "mesh3d"
           }
          ],
          "parcoords": [
           {
            "line": {
             "colorbar": {
              "outlinewidth": 0,
              "ticks": ""
             }
            },
            "type": "parcoords"
           }
          ],
          "pie": [
           {
            "automargin": true,
            "type": "pie"
           }
          ],
          "scatter": [
           {
            "fillpattern": {
             "fillmode": "overlay",
             "size": 10,
             "solidity": 0.2
            },
            "type": "scatter"
           }
          ],
          "scatter3d": [
           {
            "line": {
             "colorbar": {
              "outlinewidth": 0,
              "ticks": ""
             }
            },
            "marker": {
             "colorbar": {
              "outlinewidth": 0,
              "ticks": ""
             }
            },
            "type": "scatter3d"
           }
          ],
          "scattercarpet": [
           {
            "marker": {
             "colorbar": {
              "outlinewidth": 0,
              "ticks": ""
             }
            },
            "type": "scattercarpet"
           }
          ],
          "scattergeo": [
           {
            "marker": {
             "colorbar": {
              "outlinewidth": 0,
              "ticks": ""
             }
            },
            "type": "scattergeo"
           }
          ],
          "scattergl": [
           {
            "marker": {
             "colorbar": {
              "outlinewidth": 0,
              "ticks": ""
             }
            },
            "type": "scattergl"
           }
          ],
          "scattermapbox": [
           {
            "marker": {
             "colorbar": {
              "outlinewidth": 0,
              "ticks": ""
             }
            },
            "type": "scattermapbox"
           }
          ],
          "scatterpolar": [
           {
            "marker": {
             "colorbar": {
              "outlinewidth": 0,
              "ticks": ""
             }
            },
            "type": "scatterpolar"
           }
          ],
          "scatterpolargl": [
           {
            "marker": {
             "colorbar": {
              "outlinewidth": 0,
              "ticks": ""
             }
            },
            "type": "scatterpolargl"
           }
          ],
          "scatterternary": [
           {
            "marker": {
             "colorbar": {
              "outlinewidth": 0,
              "ticks": ""
             }
            },
            "type": "scatterternary"
           }
          ],
          "surface": [
           {
            "colorbar": {
             "outlinewidth": 0,
             "ticks": ""
            },
            "colorscale": [
             [
              0,
              "#0d0887"
             ],
             [
              0.1111111111111111,
              "#46039f"
             ],
             [
              0.2222222222222222,
              "#7201a8"
             ],
             [
              0.3333333333333333,
              "#9c179e"
             ],
             [
              0.4444444444444444,
              "#bd3786"
             ],
             [
              0.5555555555555556,
              "#d8576b"
             ],
             [
              0.6666666666666666,
              "#ed7953"
             ],
             [
              0.7777777777777778,
              "#fb9f3a"
             ],
             [
              0.8888888888888888,
              "#fdca26"
             ],
             [
              1,
              "#f0f921"
             ]
            ],
            "type": "surface"
           }
          ],
          "table": [
           {
            "cells": {
             "fill": {
              "color": "#EBF0F8"
             },
             "line": {
              "color": "white"
             }
            },
            "header": {
             "fill": {
              "color": "#C8D4E3"
             },
             "line": {
              "color": "white"
             }
            },
            "type": "table"
           }
          ]
         },
         "layout": {
          "annotationdefaults": {
           "arrowcolor": "#2a3f5f",
           "arrowhead": 0,
           "arrowwidth": 1
          },
          "autotypenumbers": "strict",
          "coloraxis": {
           "colorbar": {
            "outlinewidth": 0,
            "ticks": ""
           }
          },
          "colorscale": {
           "diverging": [
            [
             0,
             "#8e0152"
            ],
            [
             0.1,
             "#c51b7d"
            ],
            [
             0.2,
             "#de77ae"
            ],
            [
             0.3,
             "#f1b6da"
            ],
            [
             0.4,
             "#fde0ef"
            ],
            [
             0.5,
             "#f7f7f7"
            ],
            [
             0.6,
             "#e6f5d0"
            ],
            [
             0.7,
             "#b8e186"
            ],
            [
             0.8,
             "#7fbc41"
            ],
            [
             0.9,
             "#4d9221"
            ],
            [
             1,
             "#276419"
            ]
           ],
           "sequential": [
            [
             0,
             "#0d0887"
            ],
            [
             0.1111111111111111,
             "#46039f"
            ],
            [
             0.2222222222222222,
             "#7201a8"
            ],
            [
             0.3333333333333333,
             "#9c179e"
            ],
            [
             0.4444444444444444,
             "#bd3786"
            ],
            [
             0.5555555555555556,
             "#d8576b"
            ],
            [
             0.6666666666666666,
             "#ed7953"
            ],
            [
             0.7777777777777778,
             "#fb9f3a"
            ],
            [
             0.8888888888888888,
             "#fdca26"
            ],
            [
             1,
             "#f0f921"
            ]
           ],
           "sequentialminus": [
            [
             0,
             "#0d0887"
            ],
            [
             0.1111111111111111,
             "#46039f"
            ],
            [
             0.2222222222222222,
             "#7201a8"
            ],
            [
             0.3333333333333333,
             "#9c179e"
            ],
            [
             0.4444444444444444,
             "#bd3786"
            ],
            [
             0.5555555555555556,
             "#d8576b"
            ],
            [
             0.6666666666666666,
             "#ed7953"
            ],
            [
             0.7777777777777778,
             "#fb9f3a"
            ],
            [
             0.8888888888888888,
             "#fdca26"
            ],
            [
             1,
             "#f0f921"
            ]
           ]
          },
          "colorway": [
           "#636efa",
           "#EF553B",
           "#00cc96",
           "#ab63fa",
           "#FFA15A",
           "#19d3f3",
           "#FF6692",
           "#B6E880",
           "#FF97FF",
           "#FECB52"
          ],
          "font": {
           "color": "#2a3f5f"
          },
          "geo": {
           "bgcolor": "white",
           "lakecolor": "white",
           "landcolor": "#E5ECF6",
           "showlakes": true,
           "showland": true,
           "subunitcolor": "white"
          },
          "hoverlabel": {
           "align": "left"
          },
          "hovermode": "closest",
          "mapbox": {
           "style": "light"
          },
          "paper_bgcolor": "white",
          "plot_bgcolor": "#E5ECF6",
          "polar": {
           "angularaxis": {
            "gridcolor": "white",
            "linecolor": "white",
            "ticks": ""
           },
           "bgcolor": "#E5ECF6",
           "radialaxis": {
            "gridcolor": "white",
            "linecolor": "white",
            "ticks": ""
           }
          },
          "scene": {
           "xaxis": {
            "backgroundcolor": "#E5ECF6",
            "gridcolor": "white",
            "gridwidth": 2,
            "linecolor": "white",
            "showbackground": true,
            "ticks": "",
            "zerolinecolor": "white"
           },
           "yaxis": {
            "backgroundcolor": "#E5ECF6",
            "gridcolor": "white",
            "gridwidth": 2,
            "linecolor": "white",
            "showbackground": true,
            "ticks": "",
            "zerolinecolor": "white"
           },
           "zaxis": {
            "backgroundcolor": "#E5ECF6",
            "gridcolor": "white",
            "gridwidth": 2,
            "linecolor": "white",
            "showbackground": true,
            "ticks": "",
            "zerolinecolor": "white"
           }
          },
          "shapedefaults": {
           "line": {
            "color": "#2a3f5f"
           }
          },
          "ternary": {
           "aaxis": {
            "gridcolor": "white",
            "linecolor": "white",
            "ticks": ""
           },
           "baxis": {
            "gridcolor": "white",
            "linecolor": "white",
            "ticks": ""
           },
           "bgcolor": "#E5ECF6",
           "caxis": {
            "gridcolor": "white",
            "linecolor": "white",
            "ticks": ""
           }
          },
          "title": {
           "x": 0.05
          },
          "xaxis": {
           "automargin": true,
           "gridcolor": "white",
           "linecolor": "white",
           "ticks": "",
           "title": {
            "standoff": 15
           },
           "zerolinecolor": "white",
           "zerolinewidth": 2
          },
          "yaxis": {
           "automargin": true,
           "gridcolor": "white",
           "linecolor": "white",
           "ticks": "",
           "title": {
            "standoff": 15
           },
           "zerolinecolor": "white",
           "zerolinewidth": 2
          }
         }
        },
        "xaxis": {
         "anchor": "y",
         "domain": [
          0,
          1
         ],
         "title": {
          "text": "date"
         }
        },
        "yaxis": {
         "anchor": "x",
         "domain": [
          0,
          1
         ],
         "title": {
          "text": "value"
         }
        }
       }
      }
     },
     "metadata": {},
     "output_type": "display_data"
    }
   ],
   "source": [
    "(\n",
    "    df_result_opt[['rtn_3_fixed', 'rtn_5_float']].mean(axis=1)\n",
    "    +1\n",
    ").cumprod().plot(kind='scatter')"
   ]
  },
  {
   "cell_type": "code",
   "execution_count": 5,
   "metadata": {},
   "outputs": [
    {
     "name": "stdout",
     "output_type": "stream",
     "text": [
      "combi : rtn_3_fixed / rtn_4_fixed / rtn_5_fixed\n",
      "mean : 0.04757255694481994\n",
      "std : 0.07278096966336152\n",
      "sharpe : 0.65364005405342\n",
      "\n",
      "\n",
      "combi : rtn_3_fixed / rtn_4_fixed / rtn_5_float\n",
      "mean : 0.048608249007069865\n",
      "std : 0.07229897812108596\n",
      "sharpe : 0.6723227667984604\n",
      "\n",
      "\n",
      "combi : rtn_3_fixed / rtn_4_fixed / \n",
      "mean : 0.049731194519172746\n",
      "std : 0.07852646327625361\n",
      "sharpe : 0.6333049069613639\n",
      "\n",
      "\n",
      "combi : rtn_3_fixed / rtn_4_float / rtn_5_fixed\n",
      "mean : 0.0489563413613644\n",
      "std : 0.0711077930673679\n",
      "sharpe : 0.6884806748956882\n",
      "\n",
      "\n",
      "combi : rtn_3_fixed / rtn_4_float / rtn_5_float\n",
      "mean : 0.04999203342361436\n",
      "std : 0.07058969331485399\n",
      "sharpe : 0.7082058453014227\n",
      "\n",
      "\n",
      "combi : rtn_3_fixed / rtn_4_float / \n",
      "mean : 0.051806871143989484\n",
      "std : 0.07849748970949326\n",
      "sharpe : 0.659981246989152\n",
      "\n",
      "\n",
      "combi : rtn_3_fixed /  / rtn_5_fixed\n",
      "mean : 0.04796190212901982\n",
      "std : 0.07632717670222296\n",
      "sharpe : 0.6283725430607074\n",
      "\n",
      "\n",
      "combi : rtn_3_fixed /  / rtn_5_float\n",
      "mean : 0.049515440222394715\n",
      "std : 0.07543192507564465\n",
      "sharpe : 0.6564255144322465\n",
      "\n",
      "\n",
      "combi : rtn_3_fixed /  / \n",
      "mean : 0.05266852246192532\n",
      "std : 0.09857133659198757\n",
      "sharpe : 0.5343188424027773\n",
      "\n",
      "\n",
      "combi : rtn_3_float / rtn_4_fixed / rtn_5_fixed\n",
      "mean : 0.04673862030237042\n",
      "std : 0.07016181483409216\n",
      "sharpe : 0.6661546656524023\n",
      "\n",
      "\n",
      "combi : rtn_3_float / rtn_4_fixed / rtn_5_float\n",
      "mean : 0.04777431236462038\n",
      "std : 0.06937264640229183\n",
      "sharpe : 0.6886621001536721\n",
      "\n",
      "\n",
      "combi : rtn_3_float / rtn_4_fixed / \n",
      "mean : 0.048480289555498504\n",
      "std : 0.07112497228328456\n",
      "sharpe : 0.681621208404915\n",
      "\n",
      "\n",
      "combi : rtn_3_float / rtn_4_float / rtn_5_fixed\n",
      "mean : 0.04812240471891492\n",
      "std : 0.06662421296970815\n",
      "sharpe : 0.7222960328371099\n",
      "\n",
      "\n",
      "combi : rtn_3_float / rtn_4_float / rtn_5_float\n",
      "mean : 0.04915809678116485\n",
      "std : 0.06576612682100424\n",
      "sharpe : 0.7474683268935467\n",
      "\n",
      "\n",
      "combi : rtn_3_float / rtn_4_float / \n",
      "mean : 0.05055596618031523\n",
      "std : 0.06713523624460727\n",
      "sharpe : 0.7530466712906847\n",
      "\n",
      "\n",
      "combi : rtn_3_float /  / rtn_5_fixed\n",
      "mean : 0.046710997165345554\n",
      "std : 0.07072500116020838\n",
      "sharpe : 0.6604594754199354\n",
      "\n",
      "\n",
      "combi : rtn_3_float /  / rtn_5_float\n",
      "mean : 0.04826453525872047\n",
      "std : 0.06910671614983573\n",
      "sharpe : 0.6984058561554903\n",
      "\n",
      "\n",
      "combi : rtn_3_float /  / \n",
      "mean : 0.050166712534576836\n",
      "std : 0.0732119422639745\n",
      "sharpe : 0.6852258112985815\n",
      "\n",
      "\n",
      "combi :  / rtn_4_fixed / rtn_5_fixed\n",
      "mean : 0.04502457418626722\n",
      "std : 0.07219207996431591\n",
      "sharpe : 0.6236774755419512\n",
      "\n",
      "\n",
      "combi :  / rtn_4_fixed / rtn_5_float\n",
      "mean : 0.04657811227964214\n",
      "std : 0.07146073552913434\n",
      "sharpe : 0.6518000680338978\n",
      "\n",
      "\n",
      "combi :  / rtn_4_fixed / \n",
      "mean : 0.046793866576420186\n",
      "std : 0.07529689619904167\n",
      "sharpe : 0.6214581070210932\n",
      "\n",
      "\n",
      "combi :  / rtn_4_float / rtn_5_fixed\n",
      "mean : 0.04710025081108395\n",
      "std : 0.06677296899994344\n",
      "sharpe : 0.7053790106461172\n",
      "\n",
      "\n",
      "combi :  / rtn_4_float / rtn_5_float\n",
      "mean : 0.04865378890445886\n",
      "std : 0.06592212011887041\n",
      "sharpe : 0.7380495168651525\n",
      "\n",
      "\n",
      "combi :  / rtn_4_float / \n",
      "mean : 0.050945219826053614\n",
      "std : 0.06932472943539533\n",
      "sharpe : 0.7348780188681466\n",
      "\n",
      "\n",
      "combi :  /  / rtn_5_fixed\n",
      "mean : 0.043255281796114285\n",
      "std : 0.0758696389166372\n",
      "sharpe : 0.570126369569804\n",
      "\n",
      "\n",
      "combi :  /  / rtn_5_float\n",
      "mean : 0.046362357982864096\n",
      "std : 0.07363327236866406\n",
      "sharpe : 0.6296387012482474\n",
      "\n",
      "\n",
      "combi :  /  / \n",
      "mean : nan\n",
      "std : nan\n",
      "sharpe : nan\n",
      "\n",
      "\n"
     ]
    }
   ],
   "source": [
    "for rtn3 in ['rtn_3_fixed', 'rtn_3_float', '']:\n",
    "    for rtn4 in ['rtn_4_fixed', 'rtn_4_float', '']:\n",
    "        for rtn5 in ['rtn_5_fixed', 'rtn_5_float', '']:\n",
    "\n",
    "            cols = []\n",
    "            if rtn3 != '':\n",
    "                cols.append(rtn3)\n",
    "            if rtn4 != '':\n",
    "                cols.append(rtn4)\n",
    "            if rtn5 != '':\n",
    "                cols.append(rtn5)\n",
    "\n",
    "            sr = df_result_opt[cols].mean(axis=1)\n",
    "\n",
    "            print( f\"combi : {rtn3} / {rtn4} / {rtn5}\")\n",
    "            print(f\"mean : {sr.mean()}\")\n",
    "            print(f\"std : {sr.std()}\")\n",
    "            # print((sr+1).cumprod().iloc[-1])\n",
    "            \n",
    "            print(f\"sharpe : {sr.mean()/sr.std()}\")\n",
    "            print('\\n')\n",
    "\n",
    "            "
   ]
  },
  {
   "cell_type": "code",
   "execution_count": null,
   "metadata": {},
   "outputs": [],
   "source": []
  },
  {
   "cell_type": "code",
   "execution_count": 10,
   "metadata": {},
   "outputs": [
    {
     "data": {
      "text/plain": [
       "0.06713523624460727"
      ]
     },
     "execution_count": 10,
     "metadata": {},
     "output_type": "execute_result"
    }
   ],
   "source": [
    "(df_result_opt[['rtn_3_float', 'rtn_4_float']]).mean(axis=1).std()"
   ]
  },
  {
   "cell_type": "code",
   "execution_count": 32,
   "metadata": {},
   "outputs": [
    {
     "data": {
      "application/vnd.plotly.v1+json": {
       "config": {
        "plotlyServerURL": "https://plot.ly"
       },
       "data": [
        {
         "alignmentgroup": "True",
         "bingroup": "x",
         "histnorm": "probability density",
         "hovertemplate": "variable=0<br>value=%{x}<br>probability density=%{y}<extra></extra>",
         "legendgroup": "0",
         "marker": {
          "color": "#636efa",
          "pattern": {
           "shape": ""
          }
         },
         "name": "0",
         "nbinsx": 30,
         "offsetgroup": "0",
         "orientation": "v",
         "showlegend": true,
         "type": "histogram",
         "x": [
          0.0339623783342982,
          0.20221190636907477,
          0.026111096965787027,
          0.10306935178865854,
          0.09627855136681686,
          0.11273456292921981,
          -0.05905691161287965,
          0.1307988577859899,
          0.034556329593824354,
          0.04354930504065803,
          -0.006984789566168943,
          0.12301648366881487,
          -0.06813309447160154,
          0.03011996109927123,
          0.08944854195052862,
          0.10770475842801527,
          -0.018127221765664385,
          0.05284316406943112,
          0.0992777546496682,
          0.010807555649570057,
          0.09817349434605842,
          0.01888819824934178,
          0.0994871540709152,
          -0.019487600026663728,
          0.01609555253583927,
          0.06491353738128942,
          0.08976564215156098,
          0.027091939664272226,
          0.0857613493773964,
          0.05298508818369603,
          0.009706288696409455,
          0.14626935316598447,
          0.08723391855130992,
          0.00010583573449174941,
          0.08077658070807647,
          -0.00996387629697849,
          0.0893144808627854,
          -0.08516116732065127,
          0.05577934920383437,
          0.06942838889065911,
          0.060606790323844945,
          0.1745363084471635,
          0.048051328420051845,
          0.008688334500066454,
          -0.009761553057017446,
          -0.009473335118228133,
          0.029005441223939638,
          0.056935901790804225,
          -0.009998531635716387,
          0.10026110979002707,
          0.12383427915281245,
          0.07840238868430817,
          0.16905606345097568,
          0.1126935213336147,
          -0.03175464454134398,
          -0.05787266438150904,
          -0.047762154277631544,
          0.18960922196354144,
          0.008485459171179426,
          -0.017103636312606058,
          0.025370497936252925,
          0.012546012873846761,
          0.13484076336900816,
          0.011437013999660583,
          -0.005611450218480181,
          -0.0029676028973549106,
          0.1336950474893234,
          0.03738646553915545,
          0.042034113727410116,
          0.04036280924037221,
          -0.024335720172151982,
          0.09728917513458762,
          0.2039111283024676,
          -0.005975397580240932,
          -0.07644541207857919,
          0.04647259664692362,
          0.06371692245623886,
          0.08181048121158524,
          0.044618689839364054,
          0.27698242191579203,
          0.09874458044888682,
          0.06280985450234089,
          0.11151075291655227,
          -0.04475638585789364,
          0.08117956858064489,
          -0.10675607949177236,
          0.08501529549074674,
          0.009382033033243302,
          0.0014379824446749548,
          0.13297653052953445,
          0.12094546627927787,
          -0.00466609264918255,
          0.0979041474622469,
          0,
          0,
          0.005688919872034406,
          0.11245877728177206,
          -0.008364497261729399,
          0.0456638131626288,
          0.06629279778390958,
          0.04101546152420806,
          0.06385135445394668,
          0
         ],
         "xaxis": "x",
         "yaxis": "y"
        },
        {
         "alignmentgroup": "True",
         "hovertemplate": "variable=0<br>value=%{x}<extra></extra>",
         "legendgroup": "0",
         "marker": {
          "color": "#636efa"
         },
         "name": "0",
         "offsetgroup": "0",
         "scalegroup": "x",
         "showlegend": false,
         "type": "violin",
         "x": [
          0.0339623783342982,
          0.20221190636907477,
          0.026111096965787027,
          0.10306935178865854,
          0.09627855136681686,
          0.11273456292921981,
          -0.05905691161287965,
          0.1307988577859899,
          0.034556329593824354,
          0.04354930504065803,
          -0.006984789566168943,
          0.12301648366881487,
          -0.06813309447160154,
          0.03011996109927123,
          0.08944854195052862,
          0.10770475842801527,
          -0.018127221765664385,
          0.05284316406943112,
          0.0992777546496682,
          0.010807555649570057,
          0.09817349434605842,
          0.01888819824934178,
          0.0994871540709152,
          -0.019487600026663728,
          0.01609555253583927,
          0.06491353738128942,
          0.08976564215156098,
          0.027091939664272226,
          0.0857613493773964,
          0.05298508818369603,
          0.009706288696409455,
          0.14626935316598447,
          0.08723391855130992,
          0.00010583573449174941,
          0.08077658070807647,
          -0.00996387629697849,
          0.0893144808627854,
          -0.08516116732065127,
          0.05577934920383437,
          0.06942838889065911,
          0.060606790323844945,
          0.1745363084471635,
          0.048051328420051845,
          0.008688334500066454,
          -0.009761553057017446,
          -0.009473335118228133,
          0.029005441223939638,
          0.056935901790804225,
          -0.009998531635716387,
          0.10026110979002707,
          0.12383427915281245,
          0.07840238868430817,
          0.16905606345097568,
          0.1126935213336147,
          -0.03175464454134398,
          -0.05787266438150904,
          -0.047762154277631544,
          0.18960922196354144,
          0.008485459171179426,
          -0.017103636312606058,
          0.025370497936252925,
          0.012546012873846761,
          0.13484076336900816,
          0.011437013999660583,
          -0.005611450218480181,
          -0.0029676028973549106,
          0.1336950474893234,
          0.03738646553915545,
          0.042034113727410116,
          0.04036280924037221,
          -0.024335720172151982,
          0.09728917513458762,
          0.2039111283024676,
          -0.005975397580240932,
          -0.07644541207857919,
          0.04647259664692362,
          0.06371692245623886,
          0.08181048121158524,
          0.044618689839364054,
          0.27698242191579203,
          0.09874458044888682,
          0.06280985450234089,
          0.11151075291655227,
          -0.04475638585789364,
          0.08117956858064489,
          -0.10675607949177236,
          0.08501529549074674,
          0.009382033033243302,
          0.0014379824446749548,
          0.13297653052953445,
          0.12094546627927787,
          -0.00466609264918255,
          0.0979041474622469,
          0,
          0,
          0.005688919872034406,
          0.11245877728177206,
          -0.008364497261729399,
          0.0456638131626288,
          0.06629279778390958,
          0.04101546152420806,
          0.06385135445394668,
          0
         ],
         "xaxis": "x2",
         "yaxis": "y2"
        }
       ],
       "layout": {
        "barmode": "relative",
        "legend": {
         "title": {
          "text": "variable"
         },
         "tracegroupgap": 0
        },
        "margin": {
         "t": 60
        },
        "template": {
         "data": {
          "bar": [
           {
            "error_x": {
             "color": "#2a3f5f"
            },
            "error_y": {
             "color": "#2a3f5f"
            },
            "marker": {
             "line": {
              "color": "#E5ECF6",
              "width": 0.5
             },
             "pattern": {
              "fillmode": "overlay",
              "size": 10,
              "solidity": 0.2
             }
            },
            "type": "bar"
           }
          ],
          "barpolar": [
           {
            "marker": {
             "line": {
              "color": "#E5ECF6",
              "width": 0.5
             },
             "pattern": {
              "fillmode": "overlay",
              "size": 10,
              "solidity": 0.2
             }
            },
            "type": "barpolar"
           }
          ],
          "carpet": [
           {
            "aaxis": {
             "endlinecolor": "#2a3f5f",
             "gridcolor": "white",
             "linecolor": "white",
             "minorgridcolor": "white",
             "startlinecolor": "#2a3f5f"
            },
            "baxis": {
             "endlinecolor": "#2a3f5f",
             "gridcolor": "white",
             "linecolor": "white",
             "minorgridcolor": "white",
             "startlinecolor": "#2a3f5f"
            },
            "type": "carpet"
           }
          ],
          "choropleth": [
           {
            "colorbar": {
             "outlinewidth": 0,
             "ticks": ""
            },
            "type": "choropleth"
           }
          ],
          "contour": [
           {
            "colorbar": {
             "outlinewidth": 0,
             "ticks": ""
            },
            "colorscale": [
             [
              0,
              "#0d0887"
             ],
             [
              0.1111111111111111,
              "#46039f"
             ],
             [
              0.2222222222222222,
              "#7201a8"
             ],
             [
              0.3333333333333333,
              "#9c179e"
             ],
             [
              0.4444444444444444,
              "#bd3786"
             ],
             [
              0.5555555555555556,
              "#d8576b"
             ],
             [
              0.6666666666666666,
              "#ed7953"
             ],
             [
              0.7777777777777778,
              "#fb9f3a"
             ],
             [
              0.8888888888888888,
              "#fdca26"
             ],
             [
              1,
              "#f0f921"
             ]
            ],
            "type": "contour"
           }
          ],
          "contourcarpet": [
           {
            "colorbar": {
             "outlinewidth": 0,
             "ticks": ""
            },
            "type": "contourcarpet"
           }
          ],
          "heatmap": [
           {
            "colorbar": {
             "outlinewidth": 0,
             "ticks": ""
            },
            "colorscale": [
             [
              0,
              "#0d0887"
             ],
             [
              0.1111111111111111,
              "#46039f"
             ],
             [
              0.2222222222222222,
              "#7201a8"
             ],
             [
              0.3333333333333333,
              "#9c179e"
             ],
             [
              0.4444444444444444,
              "#bd3786"
             ],
             [
              0.5555555555555556,
              "#d8576b"
             ],
             [
              0.6666666666666666,
              "#ed7953"
             ],
             [
              0.7777777777777778,
              "#fb9f3a"
             ],
             [
              0.8888888888888888,
              "#fdca26"
             ],
             [
              1,
              "#f0f921"
             ]
            ],
            "type": "heatmap"
           }
          ],
          "heatmapgl": [
           {
            "colorbar": {
             "outlinewidth": 0,
             "ticks": ""
            },
            "colorscale": [
             [
              0,
              "#0d0887"
             ],
             [
              0.1111111111111111,
              "#46039f"
             ],
             [
              0.2222222222222222,
              "#7201a8"
             ],
             [
              0.3333333333333333,
              "#9c179e"
             ],
             [
              0.4444444444444444,
              "#bd3786"
             ],
             [
              0.5555555555555556,
              "#d8576b"
             ],
             [
              0.6666666666666666,
              "#ed7953"
             ],
             [
              0.7777777777777778,
              "#fb9f3a"
             ],
             [
              0.8888888888888888,
              "#fdca26"
             ],
             [
              1,
              "#f0f921"
             ]
            ],
            "type": "heatmapgl"
           }
          ],
          "histogram": [
           {
            "marker": {
             "pattern": {
              "fillmode": "overlay",
              "size": 10,
              "solidity": 0.2
             }
            },
            "type": "histogram"
           }
          ],
          "histogram2d": [
           {
            "colorbar": {
             "outlinewidth": 0,
             "ticks": ""
            },
            "colorscale": [
             [
              0,
              "#0d0887"
             ],
             [
              0.1111111111111111,
              "#46039f"
             ],
             [
              0.2222222222222222,
              "#7201a8"
             ],
             [
              0.3333333333333333,
              "#9c179e"
             ],
             [
              0.4444444444444444,
              "#bd3786"
             ],
             [
              0.5555555555555556,
              "#d8576b"
             ],
             [
              0.6666666666666666,
              "#ed7953"
             ],
             [
              0.7777777777777778,
              "#fb9f3a"
             ],
             [
              0.8888888888888888,
              "#fdca26"
             ],
             [
              1,
              "#f0f921"
             ]
            ],
            "type": "histogram2d"
           }
          ],
          "histogram2dcontour": [
           {
            "colorbar": {
             "outlinewidth": 0,
             "ticks": ""
            },
            "colorscale": [
             [
              0,
              "#0d0887"
             ],
             [
              0.1111111111111111,
              "#46039f"
             ],
             [
              0.2222222222222222,
              "#7201a8"
             ],
             [
              0.3333333333333333,
              "#9c179e"
             ],
             [
              0.4444444444444444,
              "#bd3786"
             ],
             [
              0.5555555555555556,
              "#d8576b"
             ],
             [
              0.6666666666666666,
              "#ed7953"
             ],
             [
              0.7777777777777778,
              "#fb9f3a"
             ],
             [
              0.8888888888888888,
              "#fdca26"
             ],
             [
              1,
              "#f0f921"
             ]
            ],
            "type": "histogram2dcontour"
           }
          ],
          "mesh3d": [
           {
            "colorbar": {
             "outlinewidth": 0,
             "ticks": ""
            },
            "type": "mesh3d"
           }
          ],
          "parcoords": [
           {
            "line": {
             "colorbar": {
              "outlinewidth": 0,
              "ticks": ""
             }
            },
            "type": "parcoords"
           }
          ],
          "pie": [
           {
            "automargin": true,
            "type": "pie"
           }
          ],
          "scatter": [
           {
            "fillpattern": {
             "fillmode": "overlay",
             "size": 10,
             "solidity": 0.2
            },
            "type": "scatter"
           }
          ],
          "scatter3d": [
           {
            "line": {
             "colorbar": {
              "outlinewidth": 0,
              "ticks": ""
             }
            },
            "marker": {
             "colorbar": {
              "outlinewidth": 0,
              "ticks": ""
             }
            },
            "type": "scatter3d"
           }
          ],
          "scattercarpet": [
           {
            "marker": {
             "colorbar": {
              "outlinewidth": 0,
              "ticks": ""
             }
            },
            "type": "scattercarpet"
           }
          ],
          "scattergeo": [
           {
            "marker": {
             "colorbar": {
              "outlinewidth": 0,
              "ticks": ""
             }
            },
            "type": "scattergeo"
           }
          ],
          "scattergl": [
           {
            "marker": {
             "colorbar": {
              "outlinewidth": 0,
              "ticks": ""
             }
            },
            "type": "scattergl"
           }
          ],
          "scattermapbox": [
           {
            "marker": {
             "colorbar": {
              "outlinewidth": 0,
              "ticks": ""
             }
            },
            "type": "scattermapbox"
           }
          ],
          "scatterpolar": [
           {
            "marker": {
             "colorbar": {
              "outlinewidth": 0,
              "ticks": ""
             }
            },
            "type": "scatterpolar"
           }
          ],
          "scatterpolargl": [
           {
            "marker": {
             "colorbar": {
              "outlinewidth": 0,
              "ticks": ""
             }
            },
            "type": "scatterpolargl"
           }
          ],
          "scatterternary": [
           {
            "marker": {
             "colorbar": {
              "outlinewidth": 0,
              "ticks": ""
             }
            },
            "type": "scatterternary"
           }
          ],
          "surface": [
           {
            "colorbar": {
             "outlinewidth": 0,
             "ticks": ""
            },
            "colorscale": [
             [
              0,
              "#0d0887"
             ],
             [
              0.1111111111111111,
              "#46039f"
             ],
             [
              0.2222222222222222,
              "#7201a8"
             ],
             [
              0.3333333333333333,
              "#9c179e"
             ],
             [
              0.4444444444444444,
              "#bd3786"
             ],
             [
              0.5555555555555556,
              "#d8576b"
             ],
             [
              0.6666666666666666,
              "#ed7953"
             ],
             [
              0.7777777777777778,
              "#fb9f3a"
             ],
             [
              0.8888888888888888,
              "#fdca26"
             ],
             [
              1,
              "#f0f921"
             ]
            ],
            "type": "surface"
           }
          ],
          "table": [
           {
            "cells": {
             "fill": {
              "color": "#EBF0F8"
             },
             "line": {
              "color": "white"
             }
            },
            "header": {
             "fill": {
              "color": "#C8D4E3"
             },
             "line": {
              "color": "white"
             }
            },
            "type": "table"
           }
          ]
         },
         "layout": {
          "annotationdefaults": {
           "arrowcolor": "#2a3f5f",
           "arrowhead": 0,
           "arrowwidth": 1
          },
          "autotypenumbers": "strict",
          "coloraxis": {
           "colorbar": {
            "outlinewidth": 0,
            "ticks": ""
           }
          },
          "colorscale": {
           "diverging": [
            [
             0,
             "#8e0152"
            ],
            [
             0.1,
             "#c51b7d"
            ],
            [
             0.2,
             "#de77ae"
            ],
            [
             0.3,
             "#f1b6da"
            ],
            [
             0.4,
             "#fde0ef"
            ],
            [
             0.5,
             "#f7f7f7"
            ],
            [
             0.6,
             "#e6f5d0"
            ],
            [
             0.7,
             "#b8e186"
            ],
            [
             0.8,
             "#7fbc41"
            ],
            [
             0.9,
             "#4d9221"
            ],
            [
             1,
             "#276419"
            ]
           ],
           "sequential": [
            [
             0,
             "#0d0887"
            ],
            [
             0.1111111111111111,
             "#46039f"
            ],
            [
             0.2222222222222222,
             "#7201a8"
            ],
            [
             0.3333333333333333,
             "#9c179e"
            ],
            [
             0.4444444444444444,
             "#bd3786"
            ],
            [
             0.5555555555555556,
             "#d8576b"
            ],
            [
             0.6666666666666666,
             "#ed7953"
            ],
            [
             0.7777777777777778,
             "#fb9f3a"
            ],
            [
             0.8888888888888888,
             "#fdca26"
            ],
            [
             1,
             "#f0f921"
            ]
           ],
           "sequentialminus": [
            [
             0,
             "#0d0887"
            ],
            [
             0.1111111111111111,
             "#46039f"
            ],
            [
             0.2222222222222222,
             "#7201a8"
            ],
            [
             0.3333333333333333,
             "#9c179e"
            ],
            [
             0.4444444444444444,
             "#bd3786"
            ],
            [
             0.5555555555555556,
             "#d8576b"
            ],
            [
             0.6666666666666666,
             "#ed7953"
            ],
            [
             0.7777777777777778,
             "#fb9f3a"
            ],
            [
             0.8888888888888888,
             "#fdca26"
            ],
            [
             1,
             "#f0f921"
            ]
           ]
          },
          "colorway": [
           "#636efa",
           "#EF553B",
           "#00cc96",
           "#ab63fa",
           "#FFA15A",
           "#19d3f3",
           "#FF6692",
           "#B6E880",
           "#FF97FF",
           "#FECB52"
          ],
          "font": {
           "color": "#2a3f5f"
          },
          "geo": {
           "bgcolor": "white",
           "lakecolor": "white",
           "landcolor": "#E5ECF6",
           "showlakes": true,
           "showland": true,
           "subunitcolor": "white"
          },
          "hoverlabel": {
           "align": "left"
          },
          "hovermode": "closest",
          "mapbox": {
           "style": "light"
          },
          "paper_bgcolor": "white",
          "plot_bgcolor": "#E5ECF6",
          "polar": {
           "angularaxis": {
            "gridcolor": "white",
            "linecolor": "white",
            "ticks": ""
           },
           "bgcolor": "#E5ECF6",
           "radialaxis": {
            "gridcolor": "white",
            "linecolor": "white",
            "ticks": ""
           }
          },
          "scene": {
           "xaxis": {
            "backgroundcolor": "#E5ECF6",
            "gridcolor": "white",
            "gridwidth": 2,
            "linecolor": "white",
            "showbackground": true,
            "ticks": "",
            "zerolinecolor": "white"
           },
           "yaxis": {
            "backgroundcolor": "#E5ECF6",
            "gridcolor": "white",
            "gridwidth": 2,
            "linecolor": "white",
            "showbackground": true,
            "ticks": "",
            "zerolinecolor": "white"
           },
           "zaxis": {
            "backgroundcolor": "#E5ECF6",
            "gridcolor": "white",
            "gridwidth": 2,
            "linecolor": "white",
            "showbackground": true,
            "ticks": "",
            "zerolinecolor": "white"
           }
          },
          "shapedefaults": {
           "line": {
            "color": "#2a3f5f"
           }
          },
          "ternary": {
           "aaxis": {
            "gridcolor": "white",
            "linecolor": "white",
            "ticks": ""
           },
           "baxis": {
            "gridcolor": "white",
            "linecolor": "white",
            "ticks": ""
           },
           "bgcolor": "#E5ECF6",
           "caxis": {
            "gridcolor": "white",
            "linecolor": "white",
            "ticks": ""
           }
          },
          "title": {
           "x": 0.05
          },
          "xaxis": {
           "automargin": true,
           "gridcolor": "white",
           "linecolor": "white",
           "ticks": "",
           "title": {
            "standoff": 15
           },
           "zerolinecolor": "white",
           "zerolinewidth": 2
          },
          "yaxis": {
           "automargin": true,
           "gridcolor": "white",
           "linecolor": "white",
           "ticks": "",
           "title": {
            "standoff": 15
           },
           "zerolinecolor": "white",
           "zerolinewidth": 2
          }
         }
        },
        "xaxis": {
         "anchor": "y",
         "domain": [
          0,
          1
         ],
         "title": {
          "text": "value"
         }
        },
        "xaxis2": {
         "anchor": "y2",
         "domain": [
          0,
          1
         ],
         "matches": "x",
         "showgrid": true,
         "showticklabels": false
        },
        "yaxis": {
         "anchor": "x",
         "domain": [
          0,
          0.7326
         ],
         "title": {
          "text": "probability density"
         }
        },
        "yaxis2": {
         "anchor": "x2",
         "domain": [
          0.7426,
          1
         ],
         "matches": "y2",
         "showgrid": false,
         "showline": false,
         "showticklabels": false,
         "ticks": ""
        }
       }
      }
     },
     "metadata": {},
     "output_type": "display_data"
    }
   ],
   "source": [
    "data = df_result_opt[['rtn_3_float','rtn_4_float']].mean(axis=1)\n",
    "fig = px.histogram(data, nbins=30, marginal=\"violin\", histnorm='probability density')\n",
    "fig.show()"
   ]
  },
  {
   "cell_type": "code",
   "execution_count": 41,
   "metadata": {},
   "outputs": [
    {
     "data": {
      "text/plain": [
       "1.7624574763697665"
      ]
     },
     "execution_count": 41,
     "metadata": {},
     "output_type": "execute_result"
    }
   ],
   "source": [
    "(130.80380193278907)**(1/8.6)"
   ]
  },
  {
   "cell_type": "code",
   "execution_count": 43,
   "metadata": {},
   "outputs": [
    {
     "data": {
      "text/plain": [
       "0.6046511627906977"
      ]
     },
     "execution_count": 43,
     "metadata": {},
     "output_type": "execute_result"
    }
   ],
   "source": [
    "5.2/8.6"
   ]
  },
  {
   "cell_type": "code",
   "execution_count": 50,
   "metadata": {},
   "outputs": [
    {
     "data": {
      "text/plain": [
       "(103, 6)"
      ]
     },
     "execution_count": 50,
     "metadata": {},
     "output_type": "execute_result"
    }
   ],
   "source": [
    "df_result_opt.shape"
   ]
  },
  {
   "cell_type": "code",
   "execution_count": 51,
   "metadata": {},
   "outputs": [
    {
     "data": {
      "text/plain": [
       "152.2291436143277"
      ]
     },
     "execution_count": 51,
     "metadata": {},
     "output_type": "execute_result"
    }
   ],
   "source": [
    "1.05**103"
   ]
  },
  {
   "cell_type": "code",
   "execution_count": null,
   "metadata": {},
   "outputs": [],
   "source": []
  }
 ],
 "metadata": {
  "kernelspec": {
   "display_name": "venv",
   "language": "python",
   "name": "python3"
  },
  "language_info": {
   "codemirror_mode": {
    "name": "ipython",
    "version": 3
   },
   "file_extension": ".py",
   "mimetype": "text/x-python",
   "name": "python",
   "nbconvert_exporter": "python",
   "pygments_lexer": "ipython3",
   "version": "3.11.3"
  }
 },
 "nbformat": 4,
 "nbformat_minor": 2
}
