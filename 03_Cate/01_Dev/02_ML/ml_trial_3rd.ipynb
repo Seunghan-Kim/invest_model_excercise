{
 "cells": [
  {
   "cell_type": "markdown",
   "metadata": {},
   "source": [
    "#### This Code is the base of the current running Cate ML Model"
   ]
  },
  {
   "cell_type": "code",
   "execution_count": 1,
   "metadata": {},
   "outputs": [
    {
     "name": "stderr",
     "output_type": "stream",
     "text": [
      "C:\\Users\\stop2\\AppData\\Local\\Temp\\ipykernel_23496\\236577770.py:1: DeprecationWarning: \n",
      "Pyarrow will become a required dependency of pandas in the next major release of pandas (pandas 3.0),\n",
      "(to allow more performant data types, such as the Arrow string type, and better interoperability with other libraries)\n",
      "but was not found to be installed on your system.\n",
      "If this would cause problems for you,\n",
      "please provide us feedback at https://github.com/pandas-dev/pandas/issues/54466\n",
      "        \n",
      "  import pandas as pd\n"
     ]
    }
   ],
   "source": [
    "import pandas as pd\n",
    "pd.options.plotting.backend = \"plotly\"\n",
    "\n",
    "import plotly.express as px\n",
    "import plotly.graph_objects as go\n",
    "\n",
    "import numpy as np\n",
    "\n",
    "from make_new_features import get_df_with_features\n",
    "from get_krx_value import get_krx_mean\n",
    "\n",
    "from sklearn.metrics import accuracy_score, precision_score, recall_score, f1_score\n",
    "\n",
    "import warnings\n",
    "warnings.filterwarnings(action='ignore', category=FutureWarning)\n",
    "\n",
    "from xgboost import plot_importance\n",
    "import matplotlib.pyplot as plt"
   ]
  },
  {
   "cell_type": "markdown",
   "metadata": {},
   "source": [
    "#### Preparing Price Dataset"
   ]
  },
  {
   "cell_type": "code",
   "execution_count": 2,
   "metadata": {},
   "outputs": [],
   "source": [
    "SHORT_PERIOD=5\n",
    "MID_PERIOD=20\n",
    "LONG_PERIOD=60\n",
    "\n",
    "try :\n",
    "    df_with_feats = pd.read_pickle(f\"./df_with_feats_f_20130101_t_20230919_{SHORT_PERIOD}_{MID_PERIOD}_{LONG_PERIOD}_with_min_max_ratio.pkl\")\n",
    "    # df_with_feats['date'] = df_with_feats['date'].dt.strftime(\"%Y-%m-%d\")\n",
    "except :\n",
    "    # filtering : Normal Stocks, Not SPAC\n",
    "    df_price = (\n",
    "        pd.read_pickle(\"./df_price_price_only_f_20130101_t_20230919.pkl\")\n",
    "        .loc[lambda df : df[\"code\"].str[5]== \"0\"]\n",
    "        # .loc[lambda df : ~df[\"name\"].str.contains(\"스펙\")]\n",
    "        # .loc[lambda df : ~df[\"name\"].str.contains(\"스팩\")]    \n",
    "    )\n",
    "\n",
    "    df_price['date'] = df_price['date'].dt.strftime(\"%Y-%m-%d\")\n",
    "\n",
    "    try:\n",
    "        df_krx = pd.read_pickle(\"./df_krx.pkl\")\n",
    "    except :\n",
    "        df_krx = get_krx_mean()\n",
    "        df_krx.to_pickle(\"./df_krx.pkl\")\n",
    "\n",
    "    df_price = df_price.merge(\n",
    "        df_krx,\n",
    "        on='date'\n",
    "    )\n",
    "    \n",
    "    df_with_feats = get_df_with_features(\n",
    "        df_price, SHORT_PERIOD=SHORT_PERIOD, MID_PERIOD=MID_PERIOD, LONG_PERIOD=LONG_PERIOD)\n",
    "    df_with_feats.to_pickle(f\"./df_with_feats_f_20130101_t_20230919_{SHORT_PERIOD}_{MID_PERIOD}_{LONG_PERIOD}_with_min_max_ratio.pkl\")"
   ]
  },
  {
   "cell_type": "code",
   "execution_count": 3,
   "metadata": {},
   "outputs": [
    {
     "data": {
      "text/plain": [
       "Index(['date', 'open', 'high', 'low', 'close', 'volume', 'change', 'code',\n",
       "       'name', 'marcap', 'kospi', 'kosdaq', 'weighted_price', 'vol_x_price',\n",
       "       'vol_x_price_sma_long', 'vol_x_price_sma_mid', 'vol_x_price_sma_short',\n",
       "       'change_high', 'change_low', 'change_open', 'close_std_short',\n",
       "       'close_std_mid', 'close_std_long', 'close_mean_short', 'close_mean_mid',\n",
       "       'close_mean_long', 'close_min_ratio_short', 'close_min_ratio_mid',\n",
       "       'close_min_ratio_long', 'close_max_ratio_short', 'close_max_ratio_mid',\n",
       "       'close_max_ratio_long', 'open_std_short', 'open_std_mid',\n",
       "       'open_std_long', 'high_std_short', 'high_std_mid', 'high_std_long',\n",
       "       'low_std_short', 'low_std_mid', 'low_std_long', 'vol_zero_count_short',\n",
       "       'vol_zero_count_mid', 'vol_zero_count_long', 'close_change_p_short',\n",
       "       'close_change_p_mid', 'close_change_p_long', 'w_price_vol_corr_long',\n",
       "       'w_price_vol_corr_mid', 'w_price_vol_corr_short', 'krx_corr_short',\n",
       "       'krx_corr_mid', 'krx_corr_long', 'krx_change_std_short',\n",
       "       'krx_change_std_mid', 'krx_change_std_long', 'rtn_6', 'rtn_7', 'rtn_3',\n",
       "       'rtn_4', 'rtn_5', 'rtn_8', 'rtn_10'],\n",
       "      dtype='object')"
      ]
     },
     "execution_count": 3,
     "metadata": {},
     "output_type": "execute_result"
    }
   ],
   "source": [
    "df_with_feats.columns"
   ]
  },
  {
   "cell_type": "code",
   "execution_count": 4,
   "metadata": {},
   "outputs": [
    {
     "data": {
      "text/plain": [
       "(5129630, 63)"
      ]
     },
     "execution_count": 4,
     "metadata": {},
     "output_type": "execute_result"
    }
   ],
   "source": [
    "df_with_feats.shape"
   ]
  },
  {
   "cell_type": "markdown",
   "metadata": {},
   "source": [
    "## ML"
   ]
  },
  {
   "cell_type": "code",
   "execution_count": 5,
   "metadata": {},
   "outputs": [],
   "source": [
    "import xgboost as xgb\n",
    "from sklearn.model_selection import train_test_split"
   ]
  },
  {
   "cell_type": "code",
   "execution_count": 6,
   "metadata": {},
   "outputs": [],
   "source": [
    "df_with_feats_ml = (\n",
    "    df_with_feats\n",
    "    .assign(\n",
    "        vol_x_price_sma_long_to_mid = lambda df : df.vol_x_price_sma_long / df.vol_x_price_sma_mid,\n",
    "        vol_x_price_sma_mid_to_short = lambda df : df.vol_x_price_sma_mid / df.vol_x_price_sma_short,\n",
    "    )\n",
    "    .loc[lambda df : df.code.str[5] == '0']\n",
    "    .loc[lambda df : ~df.name.str.contains(\"스펙\")]\n",
    "    .loc[lambda df : ~df.name.str.contains(\"스팩\")]\n",
    "\n",
    "    .loc[lambda df : df.marcap > 500_00_000_000]\n",
    "    \n",
    "    .loc[lambda df : df[\"vol_x_price_sma_mid\"] >  0.75e+08]  # 0.75e+08\n",
    "    .loc[lambda df : df[\"vol_x_price_sma_mid\"] <  3.5e+08]  # 3.5e+08\n",
    "    .loc[lambda df : df[\"vol_zero_count_mid\"] == 0]\n",
    "    .loc[lambda df : df[\"change\"] < 0.29]\n",
    "    .loc[lambda df : df[\"volume\"] > 0]\n",
    "\n",
    "    # .loc[lambda df : df.close > 1000]\n",
    ")"
   ]
  },
  {
   "cell_type": "code",
   "execution_count": 2,
   "metadata": {},
   "outputs": [],
   "source": [
    "# For fixed length train dataset\n",
    "\n",
    "import exchange_calendars as xcals\n",
    "krx_cal = xcals.get_calendar(\"XKRX\")\n",
    "\n",
    "max_date = '2023-09-19'\n",
    "# max_date = '2024-01-19'\n",
    "start_date = '2015-01-02'\n",
    "\n",
    "finish = False\n",
    "dates = []\n",
    "\n",
    "len_of_train = 200\n",
    "gap_from_last_train_date = 7 # This number depends on the target ( rtn_5 -> 7, rnt_20 -> 22)\n",
    "len_of_pred = 20 # The length of pred for 1 model update\n",
    "\n",
    "while not finish :\n",
    "    train_end = krx_cal.sessions_window(start_date, len_of_train)[-1].strftime(\"%Y-%m-%d\")\n",
    "    oos_start = krx_cal.sessions_window(train_end, gap_from_last_train_date)[-1].strftime(\"%Y-%m-%d\")\n",
    "    oos_end = krx_cal.sessions_window(oos_start, len_of_pred)[-1].strftime(\"%Y-%m-%d\")\n",
    "\n",
    "    if oos_end > max_date :\n",
    "        dates.append(\n",
    "            (start_date, train_end, oos_start, max_date)\n",
    "        )\n",
    "        finish = True\n",
    "\n",
    "    else :\n",
    "        dates.append(\n",
    "            (start_date, train_end, oos_start, oos_end)\n",
    "        )\n",
    "\n",
    "        start_date = krx_cal.sessions_window(start_date, len_of_pred)[-1].strftime(\"%Y-%m-%d\")"
   ]
  },
  {
   "cell_type": "markdown",
   "metadata": {},
   "source": [
    "### Feats"
   ]
  },
  {
   "cell_type": "code",
   "execution_count": 9,
   "metadata": {},
   "outputs": [],
   "source": [
    "feats_rtn_5 = [\n",
    "    'vol_x_price_sma_short',\n",
    "    'close_std_mid',\n",
    "    'close_std_long',\n",
    "    'open_std_short',\n",
    "    'open_std_mid',\n",
    "    'open_std_long',\n",
    "    'high_std_short',\n",
    "    'high_std_mid',\n",
    "    'low_std_short',\n",
    "    'close_change_p_long',\n",
    "    'krx_corr_mid',\n",
    "    'krx_corr_long',\n",
    "    'krx_change_std_short',\n",
    "    'krx_change_std_mid',\n",
    "    'krx_change_std_long',\n",
    "    'w_price_vol_corr_long',\n",
    "    'w_price_vol_corr_mid',\n",
    "\n",
    "    'close_mean_short',\n",
    "    'close_mean_mid',\n",
    "    'close_mean_long',\n",
    "    'close_min_ratio_short',\n",
    "    'close_min_ratio_mid',\n",
    "    'close_min_ratio_long',\n",
    "    'close_max_ratio_short',\n",
    "    'close_max_ratio_mid',\n",
    "    'close_max_ratio_long',       \n",
    "]\n",
    "\n",
    "target_rtn_5 = 'rtn_5'"
   ]
  },
  {
   "cell_type": "code",
   "execution_count": 10,
   "metadata": {},
   "outputs": [],
   "source": [
    "feats_rtn_4 = [\n",
    "    'vol_x_price_sma_short',\n",
    "    'vol_x_price_sma_mid_to_short',\n",
    "    'change_high',\n",
    "    'change_low',\n",
    "    'change_open',\n",
    "    'close_std_short',\n",
    "    'close_std_mid',\n",
    "    'close_std_long',\n",
    "    'open_std_short',\n",
    "    'open_std_mid',\n",
    "    'high_std_short',\n",
    "    'high_std_long',\n",
    "    'close_change_p_long',\n",
    "    'krx_corr_mid',\n",
    "    'krx_corr_long',\n",
    "    'krx_change_std_short',\n",
    "    'krx_change_std_mid',\n",
    "    'w_price_vol_corr_long',\n",
    "    'w_price_vol_corr_mid',\n",
    "\n",
    "    'close_mean_short',\n",
    "    'close_mean_mid',\n",
    "    'close_mean_long',\n",
    "    'close_min_ratio_short',\n",
    "    'close_min_ratio_mid',\n",
    "    'close_min_ratio_long',\n",
    "    'close_max_ratio_short',\n",
    "    'close_max_ratio_mid',\n",
    "    'close_max_ratio_long',\n",
    "]\n",
    "\n",
    "target_rtn_4 = 'rtn_4'"
   ]
  },
  {
   "cell_type": "code",
   "execution_count": 11,
   "metadata": {},
   "outputs": [],
   "source": [
    "feats_rtn_3 = [\n",
    "    'w_price_vol_corr_long',\n",
    "    'vol_x_price_sma_mid_to_short',\n",
    "    'w_price_vol_corr_short',\n",
    "    'vol_x_price_sma_short',\n",
    "    'w_price_vol_corr_mid',\n",
    "    'close_change_p_long',\n",
    "    'high_std_long',\n",
    "    'krx_corr_mid',\n",
    "    'krx_corr_long',\n",
    "    'change_low',\n",
    "    'open_std_short',\n",
    "    'close_std_long',\n",
    "    'high_std_short',\n",
    "    'open_std_mid',\n",
    "    'close_std_short',\n",
    "    'change_high',\n",
    "    'krx_change_std_short',\n",
    "    'krx_change_std_mid',\n",
    "    'close_std_mid',\n",
    "\n",
    "    'close_mean_short',\n",
    "    'close_mean_mid',\n",
    "    'close_mean_long',\n",
    "    'close_min_ratio_short',\n",
    "    'close_min_ratio_mid',\n",
    "    'close_min_ratio_long',\n",
    "    'close_max_ratio_short',\n",
    "    'close_max_ratio_mid',\n",
    "    'close_max_ratio_long',\n",
    "]\n",
    "\n",
    "target_rtn_3 = 'rtn_3'"
   ]
  },
  {
   "cell_type": "markdown",
   "metadata": {},
   "source": [
    "#### Create df_oos_with_proba"
   ]
  },
  {
   "cell_type": "code",
   "execution_count": 13,
   "metadata": {},
   "outputs": [],
   "source": [
    "def run_ml_multi_seed(features, idx0, idx1, fixed, target):\n",
    "\n",
    "    feats = features\n",
    "    \n",
    "    THRES_OF_PROBA = 0.5\n",
    "\n",
    "    rtn_in_period = []\n",
    "    l_df = []\n",
    "\n",
    "    if fixed:\n",
    "        print(\"fixed\")\n",
    "    else :\n",
    "        print(\"float\")\n",
    "\n",
    "    for train_start, train_end, oos_start, oos_end in dates[idx0 : idx1]:\n",
    "\n",
    "        df_train_set = df_with_feats_ml.loc[lambda df : df.date >= train_start].loc[lambda df : df.date < train_end]\n",
    "        df_oos_set = df_with_feats_ml.loc[lambda df : df.date >= oos_start].loc[lambda df : df.date < oos_end]\n",
    "\n",
    "        df_train_set_ = (\n",
    "            df_train_set\n",
    "            .replace([-np.inf, np.inf], np.nan)\n",
    "            .dropna(subset=feats)\n",
    "            .reset_index(drop=True)\n",
    "        )\n",
    "\n",
    "        if fixed:\n",
    "            THRES_OF_TRUE = 0.03\n",
    "        else :\n",
    "            THRES_OF_TRUE = df_train_set_[target].quantile(0.75)\n",
    "        \n",
    "        # print(THRES_OF_TRUE)\n",
    "\n",
    "        df_oos_set_ = (\n",
    "            df_oos_set      \n",
    "            .replace([-np.inf, np.inf], np.nan)\n",
    "            .dropna(subset=feats)\n",
    "            .reset_index(drop=True)\n",
    "        )\n",
    "\n",
    "        df_train_set_[\"target\"] = (\n",
    "                df_train_set_[target].apply(lambda x : 1 if x > THRES_OF_TRUE else 0)\n",
    "            )\n",
    "\n",
    "        feature_df = df_train_set_[feats]\n",
    "        target_df = df_train_set_[\"target\"]\n",
    "\n",
    "        feature_df_oos = df_oos_set_[feats]\n",
    "\n",
    "        doos = xgb.DMatrix(feature_df_oos)        \n",
    "\n",
    "        if df_oos_set_.shape[0] > 0:\n",
    "            \n",
    "            col_list = []\n",
    "            for id, seed in enumerate([6, 13, 5, 2]):\n",
    "\n",
    "                X_train, X_valid, y_train, y_valid = train_test_split(\n",
    "                    feature_df, target_df, test_size=0.25, random_state=seed\n",
    "                )\n",
    "\n",
    "                # Create DMatrix for training and validation data\n",
    "                dtrain = xgb.DMatrix(X_train, label=y_train)\n",
    "                dvalid = xgb.DMatrix(X_valid, label=y_valid)\n",
    "\n",
    "                evals = [(dtrain, 'train'), (dvalid, 'eval')]\n",
    "\n",
    "                params = {\n",
    "                    'max_depth': 5, # Adjust based on your dataset : originally 5 --> try 8\n",
    "                    'eta': 0.05,     # Learning rate : originally 0.05\n",
    "                    'objective': 'binary:logistic',\n",
    "                    'eval_metric': 'logloss',  # Or use 'auc', 'error', etc. based on your problem\n",
    "                    'random_state': 42,\n",
    "                }\n",
    "\n",
    "                model = xgb.train(\n",
    "                    params, dtrain,\n",
    "                    1000,\n",
    "                    evals=evals,\n",
    "                    early_stopping_rounds=50,\n",
    "                    verbose_eval=False\n",
    "                )\n",
    "\n",
    "                df_oos_set_[f\"pred_proba_{id}\"] = model.predict(doos)\n",
    "                col_list.append(f\"pred_proba_{id}\")\n",
    "            \n",
    "            df_oos_set_[\"proba_mean\"] = df_oos_set_[col_list].mean(axis=1)\n",
    "            df_oos_set_[\"proba_max\"] = df_oos_set_[col_list].max(axis=1)\n",
    "\n",
    "            l_df.append(df_oos_set_)\n",
    "\n",
    "            sr_selected_mean_mean = (\n",
    "                df_oos_set_\n",
    "                .loc[lambda df : df['proba_mean'] > THRES_OF_PROBA]\n",
    "                .sort_values('proba_mean', ascending=False)\n",
    "                .groupby('date')\n",
    "                .head(5)\n",
    "                .reset_index()\n",
    "                .groupby('date')[target]\n",
    "                .mean()\n",
    "                -0.0023\n",
    "            )       \n",
    "\n",
    "            sr_selected_mean_max = (\n",
    "                df_oos_set_\n",
    "                .loc[lambda df : df['proba_mean'] > THRES_OF_PROBA]\n",
    "                .sort_values('proba_max', ascending=False)\n",
    "                .groupby('date')\n",
    "                .head(5)\n",
    "                .reset_index()\n",
    "                .groupby('date')[target]\n",
    "                .mean()\n",
    "                -0.0023\n",
    "            )      \n",
    "\n",
    "            sr_selected_max_mean = (\n",
    "                df_oos_set_\n",
    "                .loc[lambda df : df['proba_max'] > THRES_OF_PROBA]\n",
    "                .sort_values('proba_mean', ascending=False)\n",
    "                .groupby('date')\n",
    "                .head(5)\n",
    "                .reset_index()\n",
    "                .groupby('date')[target]\n",
    "                .mean()\n",
    "                -0.0023\n",
    "            )    \n",
    "\n",
    "            sr_selected_max_max = (\n",
    "                df_oos_set_\n",
    "                .loc[lambda df : df['proba_max'] > THRES_OF_PROBA]\n",
    "                .sort_values('proba_max', ascending=False)\n",
    "                .groupby('date')\n",
    "                .head(5)\n",
    "                .reset_index()\n",
    "                .groupby('date')[target]\n",
    "                .mean()\n",
    "                -0.0023\n",
    "            )     \n",
    "\n",
    "            rtn_in_period.append(\n",
    "                {\n",
    "                    'date' : oos_end,\n",
    "                    \"return_mean_mean\" : sr_selected_mean_mean.sum()/(int(target.split('_')[-1]) + 1),\n",
    "                    'return_mean_max' : sr_selected_mean_max.sum()/(int(target.split('_')[-1]) + 1),\n",
    "                    'return_max_mean' : sr_selected_max_mean.sum()/(int(target.split('_')[-1]) + 1),\n",
    "                    'return_max_max' : sr_selected_max_max.sum()/(int(target.split('_')[-1]) + 1),\n",
    "                    'date_n' : sr_selected_mean_max.shape[0]\n",
    "                }\n",
    "            )\n",
    "\n",
    "        else :\n",
    "\n",
    "        \n",
    "            # cumsum += 0\n",
    "            rtn_in_period.append(\n",
    "                {\n",
    "                    'date' : oos_end,\n",
    "                    \"return_mean_mean\" : 0,\n",
    "                    'return_mean_max' : 0,\n",
    "                    'return_max_mean' : 0,\n",
    "                    'return_max_max' : 0,\n",
    "                    'date_n' : 0\n",
    "                }\n",
    "            )\n",
    "        \n",
    "        \n",
    "    return rtn_in_period, l_df"
   ]
  },
  {
   "cell_type": "code",
   "execution_count": null,
   "metadata": {},
   "outputs": [],
   "source": [
    "for feat_var, target_var in [(feats_rtn_3, target_rtn_3), (feats_rtn_4, target_rtn_4), (feats_rtn_5, target_rtn_5)]: #\n",
    "\n",
    "    feats = feat_var\n",
    "    target = target_var\n",
    "\n",
    "    for tf in [True, False]:\n",
    "\n",
    "        print(target)\n",
    "\n",
    "        oos_test_result, dfs = run_ml_multi_seed(feats, 0, -1, tf, target)\n",
    "        df_oos_result = pd.DataFrame(oos_test_result)\n",
    "        df_oos_result = df_oos_result.set_index('date')\n",
    "\n",
    "        if tf:\n",
    "            df_oos_with_proba_fixed = pd.concat(dfs)\n",
    "            df_oos_with_proba_fixed.to_pickle(f\"df_oos_with_proba_fixed_{target}.pkl\")\n",
    "        else:\n",
    "            df_oos_with_proba_float = pd.concat(dfs)\n",
    "            df_oos_with_proba_float.to_pickle(f\"df_oos_with_proba_float_{target}.pkl\")\n",
    "\n",
    "        for col in df_oos_result.columns:\n",
    "            sr = (df_oos_result[col]+1)\n",
    "            sr_org = df_oos_result[col]\n",
    "\n",
    "            print(col)\n",
    "            print(f\"Prod : {round(sr.cumprod()[-1],2)}\")\n",
    "            print(f\"Prod Max : {round(sr.cumprod().max(),2)}\")\n",
    "            print(f\"Prod Min : {round(sr.cumprod().min(),2)}\")\n",
    "            print(f\"min : {round(sr_org.min(),3)}\")\n",
    "            print(f\"std : {round(sr_org.std(),3)}\")\n",
    "            print(f\"mean : {round(sr_org.mean(),3)}\")\n",
    "            print('\\n')\n"
   ]
  },
  {
   "cell_type": "markdown",
   "metadata": {},
   "source": [
    "#### Get Best Thresholds for Proba"
   ]
  },
  {
   "cell_type": "code",
   "execution_count": 4,
   "metadata": {},
   "outputs": [],
   "source": [
    "def objective(trial, df_proba, rtn_n):\n",
    "\n",
    "    thres01 = trial.suggest_float(\"thres_for_max\", 0.3, 0.9, step=0.01)\n",
    "    thres02 = trial.suggest_float(\"thres_for_mean\", 0.3, 0.9, step=0.01)\n",
    "    # thres03 = trial.suggest_float(\"thres_mean_max\", 0.3, 0.9, step=0.01)\n",
    "    # thres04 = trial.suggest_float(\"thres_mean_mean\", 0.3, 0.9, step=0.01)\n",
    "\n",
    "    l_rtn_p = []\n",
    "\n",
    "    for date in dates:\n",
    "\n",
    "        df_ = df_proba.loc[lambda df : df.date >= date[2]].loc[lambda df : df.date < date[3]]\n",
    "\n",
    "\n",
    "        df1 = (\n",
    "            df_\n",
    "            .loc[lambda df : df['proba_max'] > thres01]\n",
    "            .sort_values('proba_max', ascending=False)\n",
    "            .groupby('date')\n",
    "            .head(3)\n",
    "            .reset_index()\n",
    "        )\n",
    "\n",
    "        df2 = (\n",
    "            df_\n",
    "            .loc[lambda df : df['proba_max'] > thres01]\n",
    "            .sort_values('proba_mean', ascending=False)\n",
    "            .groupby('date')\n",
    "            .head(3)\n",
    "            .reset_index()\n",
    "        )\n",
    "\n",
    "        df3 = (\n",
    "            df_\n",
    "            .loc[lambda df : df['proba_mean'] > thres02]\n",
    "            .sort_values('proba_max', ascending=False)\n",
    "            .groupby('date')\n",
    "            .head(3)\n",
    "            .reset_index()\n",
    "        )\n",
    "\n",
    "        df4 = (\n",
    "            df_\n",
    "            .loc[lambda df : df['proba_mean'] > thres02]\n",
    "            .sort_values('proba_mean', ascending=False)\n",
    "            .groupby('date')\n",
    "            .head(3)\n",
    "            .reset_index()\n",
    "        )\n",
    "\n",
    "        sr = (\n",
    "            pd.concat([df1, df2, df3, df4]).drop_duplicates(subset=['date','code']) #df1, df2, \n",
    "            .groupby('date')[rtn_n]\n",
    "            .mean()\n",
    "            -0.0023\n",
    "        )\n",
    "\n",
    "        n = int(rtn_n.split('_')[1]) + 1\n",
    "\n",
    "        l_rtn_p.append(\n",
    "            {\n",
    "                'date' : date[3],\n",
    "                'rtn_p' : (sr/n).sum(),\n",
    "                'days' : pd.concat([df1, df2, df3, df4]).drop_duplicates(subset=['date','code'])['date'].unique().__len__()\n",
    "            }        \n",
    "        )\n",
    "\n",
    "    sr_final = (\n",
    "        pd.DataFrame(l_rtn_p)\n",
    "        .set_index('date')\n",
    "        ['rtn_p']\n",
    "        # +1\n",
    "    )\n",
    "\n",
    "    print(\n",
    "        pd.DataFrame(l_rtn_p)['days'].sum()\n",
    "    )\n",
    "\n",
    "    return (sr_final+1).cumprod()[-1]\n"
   ]
  },
  {
   "cell_type": "code",
   "execution_count": 6,
   "metadata": {},
   "outputs": [],
   "source": [
    "import optuna"
   ]
  },
  {
   "cell_type": "code",
   "execution_count": 7,
   "metadata": {},
   "outputs": [],
   "source": [
    "# Optuna Strudy Run\n",
    "def run_optuna(name, df_, rtn_n):\n",
    "\n",
    "    study = optuna.create_study(\n",
    "            direction=\"maximize\",\n",
    "            # direction=\"minimize\",\n",
    "            study_name=name,\n",
    "        )\n",
    "\n",
    "    study.optimize(\n",
    "        lambda trial : objective(trial, df_, rtn_n),\n",
    "        n_trials=250,\n",
    "        show_progress_bar=True,\n",
    "    )\n",
    "\n",
    "    # Create study result df & Save to file\n",
    "    df_study_result = (\n",
    "        study.trials_dataframe()\n",
    "        .rename(columns = lambda x : x.replace(\"params_\", \"\"))\n",
    "    )    \n",
    "    df_study_result.to_pickle(f\"./study_result_20240214_{name}.pkl\")"
   ]
  },
  {
   "cell_type": "code",
   "execution_count": 8,
   "metadata": {},
   "outputs": [
    {
     "name": "stderr",
     "output_type": "stream",
     "text": [
      "[I 2024-02-15 04:50:54,995] A new study created in memory with name: best_combi_of_thres_fixed_rtn_3\n",
      "Best trial: 0. Best value: 6.10991:   0%|          | 1/250 [00:07<31:39,  7.63s/it]"
     ]
    },
    {
     "name": "stdout",
     "output_type": "stream",
     "text": [
      "686\n",
      "[I 2024-02-15 04:51:02,624] Trial 0 finished with value: 6.109908615495038 and parameters: {'thres_for_max': 0.75, 'thres_for_mean': 0.77}. Best is trial 0 with value: 6.109908615495038.\n"
     ]
    },
    {
     "name": "stderr",
     "output_type": "stream",
     "text": [
      "Best trial: 1. Best value: 11.6091:   1%|          | 2/250 [00:15<30:57,  7.49s/it]"
     ]
    },
    {
     "name": "stdout",
     "output_type": "stream",
     "text": [
      "902\n",
      "[I 2024-02-15 04:51:10,016] Trial 1 finished with value: 11.609112763434212 and parameters: {'thres_for_max': 0.69, 'thres_for_mean': 0.76}. Best is trial 1 with value: 11.609112763434212.\n"
     ]
    },
    {
     "name": "stderr",
     "output_type": "stream",
     "text": [
      "Best trial: 1. Best value: 11.6091:   1%|          | 3/250 [00:22<30:44,  7.47s/it]"
     ]
    },
    {
     "name": "stdout",
     "output_type": "stream",
     "text": [
      "983\n",
      "[I 2024-02-15 04:51:17,456] Trial 2 finished with value: 9.830609034364077 and parameters: {'thres_for_max': 0.6699999999999999, 'thres_for_mean': 0.6599999999999999}. Best is trial 1 with value: 11.609112763434212.\n"
     ]
    },
    {
     "name": "stderr",
     "output_type": "stream",
     "text": [
      "Best trial: 3. Best value: 14.6404:   2%|▏         | 4/250 [00:29<30:28,  7.43s/it]"
     ]
    },
    {
     "name": "stdout",
     "output_type": "stream",
     "text": [
      "1847\n",
      "[I 2024-02-15 04:51:24,837] Trial 3 finished with value: 14.640396795881042 and parameters: {'thres_for_max': 0.38, 'thres_for_mean': 0.8300000000000001}. Best is trial 3 with value: 14.640396795881042.\n"
     ]
    },
    {
     "name": "stderr",
     "output_type": "stream",
     "text": [
      "Best trial: 3. Best value: 14.6404:   2%|▏         | 5/250 [00:37<30:20,  7.43s/it]"
     ]
    },
    {
     "name": "stdout",
     "output_type": "stream",
     "text": [
      "1613\n",
      "[I 2024-02-15 04:51:32,269] Trial 4 finished with value: 12.683527177794598 and parameters: {'thres_for_max': 0.51, 'thres_for_mean': 0.63}. Best is trial 3 with value: 14.640396795881042.\n"
     ]
    },
    {
     "name": "stderr",
     "output_type": "stream",
     "text": [
      "Best trial: 3. Best value: 14.6404:   2%|▏         | 6/250 [00:45<30:48,  7.58s/it]"
     ]
    },
    {
     "name": "stdout",
     "output_type": "stream",
     "text": [
      "853\n",
      "[I 2024-02-15 04:51:40,124] Trial 5 finished with value: 11.512696297483426 and parameters: {'thres_for_max': 0.7, 'thres_for_mean': 0.74}. Best is trial 3 with value: 14.640396795881042.\n"
     ]
    },
    {
     "name": "stderr",
     "output_type": "stream",
     "text": [
      "Best trial: 3. Best value: 14.6404:   3%|▎         | 7/250 [00:52<30:49,  7.61s/it]"
     ]
    },
    {
     "name": "stdout",
     "output_type": "stream",
     "text": [
      "1613\n",
      "[I 2024-02-15 04:51:47,804] Trial 6 finished with value: 12.644062770769557 and parameters: {'thres_for_max': 0.51, 'thres_for_mean': 0.56}. Best is trial 3 with value: 14.640396795881042.\n"
     ]
    },
    {
     "name": "stderr",
     "output_type": "stream",
     "text": [
      "Best trial: 3. Best value: 14.6404:   3%|▎         | 8/250 [01:00<30:39,  7.60s/it]"
     ]
    },
    {
     "name": "stdout",
     "output_type": "stream",
     "text": [
      "1869\n",
      "[I 2024-02-15 04:51:55,382] Trial 7 finished with value: 12.572357590662014 and parameters: {'thres_for_max': 0.32999999999999996, 'thres_for_mean': 0.39}. Best is trial 3 with value: 14.640396795881042.\n"
     ]
    },
    {
     "name": "stderr",
     "output_type": "stream",
     "text": [
      "Best trial: 3. Best value: 14.6404:   4%|▎         | 9/250 [01:07<30:27,  7.58s/it]"
     ]
    },
    {
     "name": "stdout",
     "output_type": "stream",
     "text": [
      "1184\n",
      "[I 2024-02-15 04:52:02,927] Trial 8 finished with value: 8.962603223080837 and parameters: {'thres_for_max': 0.63, 'thres_for_mean': 0.51}. Best is trial 3 with value: 14.640396795881042.\n"
     ]
    },
    {
     "name": "stderr",
     "output_type": "stream",
     "text": [
      "Best trial: 3. Best value: 14.6404:   4%|▍         | 10/250 [01:15<30:17,  7.57s/it]"
     ]
    },
    {
     "name": "stdout",
     "output_type": "stream",
     "text": [
      "1273\n",
      "[I 2024-02-15 04:52:10,484] Trial 9 finished with value: 7.7808058603607 and parameters: {'thres_for_max': 0.63, 'thres_for_mean': 0.45999999999999996}. Best is trial 3 with value: 14.640396795881042.\n"
     ]
    },
    {
     "name": "stderr",
     "output_type": "stream",
     "text": [
      "Best trial: 3. Best value: 14.6404:   4%|▍         | 11/250 [01:22<29:55,  7.51s/it]"
     ]
    },
    {
     "name": "stdout",
     "output_type": "stream",
     "text": [
      "202\n",
      "[I 2024-02-15 04:52:17,849] Trial 10 finished with value: 2.05028011333935 and parameters: {'thres_for_max': 0.8999999999999999, 'thres_for_mean': 0.8999999999999999}. Best is trial 3 with value: 14.640396795881042.\n"
     ]
    },
    {
     "name": "stderr",
     "output_type": "stream",
     "text": [
      "Best trial: 3. Best value: 14.6404:   5%|▍         | 12/250 [01:30<29:51,  7.53s/it]"
     ]
    },
    {
     "name": "stdout",
     "output_type": "stream",
     "text": [
      "1817\n",
      "[I 2024-02-15 04:52:25,419] Trial 11 finished with value: 11.849220141460728 and parameters: {'thres_for_max': 0.42, 'thres_for_mean': 0.8700000000000001}. Best is trial 3 with value: 14.640396795881042.\n"
     ]
    },
    {
     "name": "stderr",
     "output_type": "stream",
     "text": [
      "Best trial: 3. Best value: 14.6404:   5%|▌         | 13/250 [01:38<29:48,  7.55s/it]"
     ]
    },
    {
     "name": "stdout",
     "output_type": "stream",
     "text": [
      "1676\n",
      "[I 2024-02-15 04:52:33,011] Trial 12 finished with value: 12.379123839649335 and parameters: {'thres_for_max': 0.49, 'thres_for_mean': 0.63}. Best is trial 3 with value: 14.640396795881042.\n"
     ]
    },
    {
     "name": "stderr",
     "output_type": "stream",
     "text": [
      "Best trial: 3. Best value: 14.6404:   6%|▌         | 14/250 [01:45<29:43,  7.56s/it]"
     ]
    },
    {
     "name": "stdout",
     "output_type": "stream",
     "text": [
      "1872\n",
      "[I 2024-02-15 04:52:40,586] Trial 13 finished with value: 12.631779646604596 and parameters: {'thres_for_max': 0.3, 'thres_for_mean': 0.3}. Best is trial 3 with value: 14.640396795881042.\n"
     ]
    },
    {
     "name": "stderr",
     "output_type": "stream",
     "text": [
      "Best trial: 3. Best value: 14.6404:   6%|▌         | 15/250 [01:52<29:22,  7.50s/it]"
     ]
    },
    {
     "name": "stdout",
     "output_type": "stream",
     "text": [
      "1784\n",
      "[I 2024-02-15 04:52:47,962] Trial 14 finished with value: 10.046097035872975 and parameters: {'thres_for_max': 0.44, 'thres_for_mean': 0.6799999999999999}. Best is trial 3 with value: 14.640396795881042.\n"
     ]
    },
    {
     "name": "stderr",
     "output_type": "stream",
     "text": [
      "Best trial: 3. Best value: 14.6404:   6%|▋         | 16/250 [02:00<29:24,  7.54s/it]"
     ]
    },
    {
     "name": "stdout",
     "output_type": "stream",
     "text": [
      "1847\n",
      "[I 2024-02-15 04:52:55,592] Trial 15 finished with value: 14.640396795881042 and parameters: {'thres_for_max': 0.38, 'thres_for_mean': 0.8300000000000001}. Best is trial 3 with value: 14.640396795881042.\n"
     ]
    },
    {
     "name": "stderr",
     "output_type": "stream",
     "text": [
      "Best trial: 3. Best value: 14.6404:   7%|▋         | 17/250 [02:08<29:20,  7.56s/it]"
     ]
    },
    {
     "name": "stdout",
     "output_type": "stream",
     "text": [
      "1855\n",
      "[I 2024-02-15 04:53:03,185] Trial 16 finished with value: 12.98301055904728 and parameters: {'thres_for_max': 0.37, 'thres_for_mean': 0.8200000000000001}. Best is trial 3 with value: 14.640396795881042.\n"
     ]
    },
    {
     "name": "stderr",
     "output_type": "stream",
     "text": [
      "Best trial: 3. Best value: 14.6404:   7%|▋         | 18/250 [02:15<29:20,  7.59s/it]"
     ]
    },
    {
     "name": "stdout",
     "output_type": "stream",
     "text": [
      "1847\n",
      "[I 2024-02-15 04:53:10,843] Trial 17 finished with value: 14.640396795881042 and parameters: {'thres_for_max': 0.38, 'thres_for_mean': 0.8300000000000001}. Best is trial 3 with value: 14.640396795881042.\n"
     ]
    },
    {
     "name": "stderr",
     "output_type": "stream",
     "text": [
      "Best trial: 18. Best value: 14.9185:   8%|▊         | 19/250 [02:23<29:06,  7.56s/it]"
     ]
    },
    {
     "name": "stdout",
     "output_type": "stream",
     "text": [
      "1435\n",
      "[I 2024-02-15 04:53:18,345] Trial 18 finished with value: 14.918530368527374 and parameters: {'thres_for_max': 0.56, 'thres_for_mean': 0.72}. Best is trial 18 with value: 14.918530368527374.\n"
     ]
    },
    {
     "name": "stderr",
     "output_type": "stream",
     "text": [
      "Best trial: 18. Best value: 14.9185:   8%|▊         | 20/250 [02:30<28:45,  7.50s/it]"
     ]
    },
    {
     "name": "stdout",
     "output_type": "stream",
     "text": [
      "1435\n",
      "[I 2024-02-15 04:53:25,715] Trial 19 finished with value: 14.893486192294922 and parameters: {'thres_for_max': 0.56, 'thres_for_mean': 0.73}. Best is trial 18 with value: 14.918530368527374.\n"
     ]
    },
    {
     "name": "stderr",
     "output_type": "stream",
     "text": [
      "Best trial: 18. Best value: 14.9185:   8%|▊         | 21/250 [02:38<28:40,  7.51s/it]"
     ]
    },
    {
     "name": "stdout",
     "output_type": "stream",
     "text": [
      "1409\n",
      "[I 2024-02-15 04:53:33,242] Trial 20 finished with value: 13.54697101300035 and parameters: {'thres_for_max': 0.5700000000000001, 'thres_for_mean': 0.71}. Best is trial 18 with value: 14.918530368527374.\n"
     ]
    },
    {
     "name": "stderr",
     "output_type": "stream",
     "text": [
      "Best trial: 18. Best value: 14.9185:   9%|▉         | 22/250 [02:45<28:25,  7.48s/it]"
     ]
    },
    {
     "name": "stdout",
     "output_type": "stream",
     "text": [
      "1409\n",
      "[I 2024-02-15 04:53:40,656] Trial 21 finished with value: 13.413344681343752 and parameters: {'thres_for_max': 0.5700000000000001, 'thres_for_mean': 0.78}. Best is trial 18 with value: 14.918530368527374.\n"
     ]
    },
    {
     "name": "stderr",
     "output_type": "stream",
     "text": [
      "Best trial: 18. Best value: 14.9185:   9%|▉         | 23/250 [02:52<28:07,  7.43s/it]"
     ]
    },
    {
     "name": "stdout",
     "output_type": "stream",
     "text": [
      "721\n",
      "[I 2024-02-15 04:53:47,981] Trial 22 finished with value: 9.111017864708012 and parameters: {'thres_for_max': 0.8200000000000001, 'thres_for_mean': 0.5700000000000001}. Best is trial 18 with value: 14.918530368527374.\n"
     ]
    },
    {
     "name": "stderr",
     "output_type": "stream",
     "text": [
      "Best trial: 18. Best value: 14.9185:  10%|▉         | 24/250 [03:00<28:00,  7.43s/it]"
     ]
    },
    {
     "name": "stdout",
     "output_type": "stream",
     "text": [
      "1743\n",
      "[I 2024-02-15 04:53:55,413] Trial 23 finished with value: 12.183567905377496 and parameters: {'thres_for_max': 0.45999999999999996, 'thres_for_mean': 0.7}. Best is trial 18 with value: 14.918530368527374.\n"
     ]
    },
    {
     "name": "stderr",
     "output_type": "stream",
     "text": [
      "Best trial: 18. Best value: 14.9185:  10%|█         | 25/250 [03:07<27:51,  7.43s/it]"
     ]
    },
    {
     "name": "stdout",
     "output_type": "stream",
     "text": [
      "1409\n",
      "[I 2024-02-15 04:54:02,826] Trial 24 finished with value: 13.485807061167721 and parameters: {'thres_for_max': 0.5700000000000001, 'thres_for_mean': 0.81}. Best is trial 18 with value: 14.918530368527374.\n"
     ]
    },
    {
     "name": "stderr",
     "output_type": "stream",
     "text": [
      "Best trial: 25. Best value: 15.517:  10%|█         | 26/250 [03:15<27:46,  7.44s/it] "
     ]
    },
    {
     "name": "stdout",
     "output_type": "stream",
     "text": [
      "1539\n",
      "[I 2024-02-15 04:54:10,298] Trial 25 finished with value: 15.517024132131226 and parameters: {'thres_for_max': 0.53, 'thres_for_mean': 0.72}. Best is trial 25 with value: 15.517024132131226.\n"
     ]
    },
    {
     "name": "stderr",
     "output_type": "stream",
     "text": [
      "Best trial: 25. Best value: 15.517:  11%|█         | 27/250 [03:22<27:45,  7.47s/it]"
     ]
    },
    {
     "name": "stdout",
     "output_type": "stream",
     "text": [
      "1478\n",
      "[I 2024-02-15 04:54:17,835] Trial 26 finished with value: 14.67310513175268 and parameters: {'thres_for_max': 0.55, 'thres_for_mean': 0.71}. Best is trial 25 with value: 15.517024132131226.\n"
     ]
    },
    {
     "name": "stderr",
     "output_type": "stream",
     "text": [
      "Best trial: 25. Best value: 15.517:  11%|█         | 28/250 [03:30<27:38,  7.47s/it]"
     ]
    },
    {
     "name": "stdout",
     "output_type": "stream",
     "text": [
      "1242\n",
      "[I 2024-02-15 04:54:25,303] Trial 27 finished with value: 6.753938131443351 and parameters: {'thres_for_max': 0.61, 'thres_for_mean': 0.63}. Best is trial 25 with value: 15.517024132131226.\n"
     ]
    },
    {
     "name": "stderr",
     "output_type": "stream",
     "text": [
      "Best trial: 25. Best value: 15.517:  12%|█▏        | 29/250 [03:37<27:22,  7.43s/it]"
     ]
    },
    {
     "name": "stdout",
     "output_type": "stream",
     "text": [
      "1539\n",
      "[I 2024-02-15 04:54:32,653] Trial 28 finished with value: 15.320342493038765 and parameters: {'thres_for_max': 0.53, 'thres_for_mean': 0.5800000000000001}. Best is trial 25 with value: 15.517024132131226.\n"
     ]
    },
    {
     "name": "stderr",
     "output_type": "stream",
     "text": [
      "Best trial: 25. Best value: 15.517:  12%|█▏        | 30/250 [03:45<27:11,  7.42s/it]"
     ]
    },
    {
     "name": "stdout",
     "output_type": "stream",
     "text": [
      "897\n",
      "[I 2024-02-15 04:54:40,029] Trial 29 finished with value: 10.72367909988312 and parameters: {'thres_for_max': 0.77, 'thres_for_mean': 0.53}. Best is trial 25 with value: 15.517024132131226.\n"
     ]
    },
    {
     "name": "stderr",
     "output_type": "stream",
     "text": [
      "Best trial: 25. Best value: 15.517:  12%|█▏        | 31/250 [03:52<27:04,  7.42s/it]"
     ]
    },
    {
     "name": "stdout",
     "output_type": "stream",
     "text": [
      "1702\n",
      "[I 2024-02-15 04:54:47,454] Trial 30 finished with value: 12.123547413763175 and parameters: {'thres_for_max': 0.48, 'thres_for_mean': 0.45999999999999996}. Best is trial 25 with value: 15.517024132131226.\n"
     ]
    },
    {
     "name": "stderr",
     "output_type": "stream",
     "text": [
      "Best trial: 25. Best value: 15.517:  13%|█▎        | 32/250 [03:59<26:58,  7.43s/it]"
     ]
    },
    {
     "name": "stdout",
     "output_type": "stream",
     "text": [
      "1539\n",
      "[I 2024-02-15 04:54:54,895] Trial 31 finished with value: 15.162022000221777 and parameters: {'thres_for_max': 0.53, 'thres_for_mean': 0.74}. Best is trial 25 with value: 15.517024132131226.\n"
     ]
    },
    {
     "name": "stderr",
     "output_type": "stream",
     "text": [
      "Best trial: 32. Best value: 15.7628:  13%|█▎        | 33/250 [04:07<27:15,  7.54s/it]"
     ]
    },
    {
     "name": "stdout",
     "output_type": "stream",
     "text": [
      "1574\n",
      "[I 2024-02-15 04:55:02,689] Trial 32 finished with value: 15.762755892310215 and parameters: {'thres_for_max': 0.52, 'thres_for_mean': 0.76}. Best is trial 32 with value: 15.762755892310215.\n"
     ]
    },
    {
     "name": "stderr",
     "output_type": "stream",
     "text": [
      "Best trial: 32. Best value: 15.7628:  14%|█▎        | 34/250 [04:15<27:18,  7.59s/it]"
     ]
    },
    {
     "name": "stdout",
     "output_type": "stream",
     "text": [
      "1574\n",
      "[I 2024-02-15 04:55:10,395] Trial 33 finished with value: 15.71839673189266 and parameters: {'thres_for_max': 0.52, 'thres_for_mean': 0.77}. Best is trial 32 with value: 15.762755892310215.\n"
     ]
    },
    {
     "name": "stderr",
     "output_type": "stream",
     "text": [
      "Best trial: 32. Best value: 15.7628:  14%|█▍        | 35/250 [04:23<27:28,  7.67s/it]"
     ]
    },
    {
     "name": "stdout",
     "output_type": "stream",
     "text": [
      "1032\n",
      "[I 2024-02-15 04:55:18,255] Trial 34 finished with value: 10.391576477372608 and parameters: {'thres_for_max': 0.6599999999999999, 'thres_for_mean': 0.78}. Best is trial 32 with value: 15.762755892310215.\n"
     ]
    },
    {
     "name": "stderr",
     "output_type": "stream",
     "text": [
      "Best trial: 32. Best value: 15.7628:  14%|█▍        | 36/250 [04:32<28:56,  8.12s/it]"
     ]
    },
    {
     "name": "stdout",
     "output_type": "stream",
     "text": [
      "1804\n",
      "[I 2024-02-15 04:55:27,412] Trial 35 finished with value: 11.943474992670357 and parameters: {'thres_for_max': 0.43, 'thres_for_mean': 0.5800000000000001}. Best is trial 32 with value: 15.762755892310215.\n"
     ]
    },
    {
     "name": "stderr",
     "output_type": "stream",
     "text": [
      "Best trial: 32. Best value: 15.7628:  15%|█▍        | 37/250 [04:40<29:01,  8.17s/it]"
     ]
    },
    {
     "name": "stdout",
     "output_type": "stream",
     "text": [
      "1574\n",
      "[I 2024-02-15 04:55:35,725] Trial 36 finished with value: 15.56710844112871 and parameters: {'thres_for_max': 0.52, 'thres_for_mean': 0.65}. Best is trial 32 with value: 15.762755892310215.\n"
     ]
    },
    {
     "name": "stderr",
     "output_type": "stream",
     "text": [
      "Best trial: 32. Best value: 15.7628:  15%|█▌        | 38/250 [04:48<28:23,  8.04s/it]"
     ]
    },
    {
     "name": "stdout",
     "output_type": "stream",
     "text": [
      "1702\n",
      "[I 2024-02-15 04:55:43,438] Trial 37 finished with value: 12.243049584339841 and parameters: {'thres_for_max': 0.48, 'thres_for_mean': 0.6599999999999999}. Best is trial 32 with value: 15.762755892310215.\n"
     ]
    },
    {
     "name": "stderr",
     "output_type": "stream",
     "text": [
      "Best trial: 32. Best value: 15.7628:  16%|█▌        | 39/250 [04:56<27:58,  7.95s/it]"
     ]
    },
    {
     "name": "stdout",
     "output_type": "stream",
     "text": [
      "1281\n",
      "[I 2024-02-15 04:55:51,201] Trial 38 finished with value: 7.939891745236249 and parameters: {'thres_for_max': 0.6, 'thres_for_mean': 0.77}. Best is trial 32 with value: 15.762755892310215.\n"
     ]
    },
    {
     "name": "stderr",
     "output_type": "stream",
     "text": [
      "Best trial: 32. Best value: 15.7628:  16%|█▌        | 40/250 [05:03<27:33,  7.88s/it]"
     ]
    },
    {
     "name": "stdout",
     "output_type": "stream",
     "text": [
      "820\n",
      "[I 2024-02-15 04:55:58,896] Trial 39 finished with value: 10.180920251969331 and parameters: {'thres_for_max': 0.71, 'thres_for_mean': 0.65}. Best is trial 32 with value: 15.762755892310215.\n"
     ]
    },
    {
     "name": "stderr",
     "output_type": "stream",
     "text": [
      "Best trial: 32. Best value: 15.7628:  16%|█▋        | 41/250 [05:11<27:27,  7.88s/it]"
     ]
    },
    {
     "name": "stdout",
     "output_type": "stream",
     "text": [
      "1574\n",
      "[I 2024-02-15 04:56:06,787] Trial 40 finished with value: 15.703928334123198 and parameters: {'thres_for_max': 0.52, 'thres_for_mean': 0.6799999999999999}. Best is trial 32 with value: 15.762755892310215.\n"
     ]
    },
    {
     "name": "stderr",
     "output_type": "stream",
     "text": [
      "Best trial: 32. Best value: 15.7628:  17%|█▋        | 42/250 [05:19<27:19,  7.88s/it]"
     ]
    },
    {
     "name": "stdout",
     "output_type": "stream",
     "text": [
      "1613\n",
      "[I 2024-02-15 04:56:14,673] Trial 41 finished with value: 12.828264260128364 and parameters: {'thres_for_max': 0.51, 'thres_for_mean': 0.6799999999999999}. Best is trial 32 with value: 15.762755892310215.\n"
     ]
    },
    {
     "name": "stderr",
     "output_type": "stream",
     "text": [
      "Best trial: 32. Best value: 15.7628:  17%|█▋        | 43/250 [05:27<27:05,  7.85s/it]"
     ]
    },
    {
     "name": "stdout",
     "output_type": "stream",
     "text": [
      "1574\n",
      "[I 2024-02-15 04:56:22,458] Trial 42 finished with value: 15.762755892310215 and parameters: {'thres_for_max': 0.52, 'thres_for_mean': 0.76}. Best is trial 32 with value: 15.762755892310215.\n"
     ]
    },
    {
     "name": "stderr",
     "output_type": "stream",
     "text": [
      "Best trial: 32. Best value: 15.7628:  18%|█▊        | 44/250 [05:35<26:54,  7.84s/it]"
     ]
    },
    {
     "name": "stdout",
     "output_type": "stream",
     "text": [
      "1281\n",
      "[I 2024-02-15 04:56:30,253] Trial 43 finished with value: 7.933582246723013 and parameters: {'thres_for_max': 0.6, 'thres_for_mean': 0.8700000000000001}. Best is trial 32 with value: 15.762755892310215.\n"
     ]
    },
    {
     "name": "stderr",
     "output_type": "stream",
     "text": [
      "Best trial: 32. Best value: 15.7628:  18%|█▊        | 45/250 [05:43<26:48,  7.85s/it]"
     ]
    },
    {
     "name": "stdout",
     "output_type": "stream",
     "text": [
      "1829\n",
      "[I 2024-02-15 04:56:38,132] Trial 44 finished with value: 11.986640844482622 and parameters: {'thres_for_max': 0.41, 'thres_for_mean': 0.76}. Best is trial 32 with value: 15.762755892310215.\n"
     ]
    },
    {
     "name": "stderr",
     "output_type": "stream",
     "text": [
      "Best trial: 32. Best value: 15.7628:  18%|█▊        | 46/250 [05:50<26:38,  7.84s/it]"
     ]
    },
    {
     "name": "stdout",
     "output_type": "stream",
     "text": [
      "1743\n",
      "[I 2024-02-15 04:56:45,945] Trial 45 finished with value: 12.057118929336982 and parameters: {'thres_for_max': 0.45999999999999996, 'thres_for_mean': 0.79}. Best is trial 32 with value: 15.762755892310215.\n"
     ]
    },
    {
     "name": "stderr",
     "output_type": "stream",
     "text": [
      "Best trial: 32. Best value: 15.7628:  19%|█▉        | 47/250 [05:58<26:27,  7.82s/it]"
     ]
    },
    {
     "name": "stdout",
     "output_type": "stream",
     "text": [
      "1643\n",
      "[I 2024-02-15 04:56:53,721] Trial 46 finished with value: 11.669258256674048 and parameters: {'thres_for_max': 0.5, 'thres_for_mean': 0.61}. Best is trial 32 with value: 15.762755892310215.\n"
     ]
    },
    {
     "name": "stderr",
     "output_type": "stream",
     "text": [
      "Best trial: 32. Best value: 15.7628:  19%|█▉        | 48/250 [06:06<26:23,  7.84s/it]"
     ]
    },
    {
     "name": "stdout",
     "output_type": "stream",
     "text": [
      "1743\n",
      "[I 2024-02-15 04:57:01,601] Trial 47 finished with value: 12.035362138685567 and parameters: {'thres_for_max': 0.45999999999999996, 'thres_for_mean': 0.6799999999999999}. Best is trial 32 with value: 15.762755892310215.\n"
     ]
    },
    {
     "name": "stderr",
     "output_type": "stream",
     "text": [
      "Best trial: 32. Best value: 15.7628:  20%|█▉        | 49/250 [06:14<26:08,  7.80s/it]"
     ]
    },
    {
     "name": "stdout",
     "output_type": "stream",
     "text": [
      "1066\n",
      "[I 2024-02-15 04:57:09,325] Trial 48 finished with value: 8.51127607650891 and parameters: {'thres_for_max': 0.65, 'thres_for_mean': 0.75}. Best is trial 32 with value: 15.762755892310215.\n"
     ]
    },
    {
     "name": "stderr",
     "output_type": "stream",
     "text": [
      "Best trial: 32. Best value: 15.7628:  20%|██        | 50/250 [06:22<25:57,  7.79s/it]"
     ]
    },
    {
     "name": "stdout",
     "output_type": "stream",
     "text": [
      "1539\n",
      "[I 2024-02-15 04:57:17,080] Trial 49 finished with value: 15.510416758959472 and parameters: {'thres_for_max': 0.53, 'thres_for_mean': 0.8500000000000001}. Best is trial 32 with value: 15.762755892310215.\n"
     ]
    },
    {
     "name": "stderr",
     "output_type": "stream",
     "text": [
      "Best trial: 32. Best value: 15.7628:  20%|██        | 51/250 [06:30<25:58,  7.83s/it]"
     ]
    },
    {
     "name": "stdout",
     "output_type": "stream",
     "text": [
      "1839\n",
      "[I 2024-02-15 04:57:25,008] Trial 50 finished with value: 12.723903208424668 and parameters: {'thres_for_max': 0.4, 'thres_for_mean': 0.6599999999999999}. Best is trial 32 with value: 15.762755892310215.\n"
     ]
    },
    {
     "name": "stderr",
     "output_type": "stream",
     "text": [
      "Best trial: 32. Best value: 15.7628:  21%|██        | 52/250 [06:38<26:01,  7.89s/it]"
     ]
    },
    {
     "name": "stdout",
     "output_type": "stream",
     "text": [
      "1539\n",
      "[I 2024-02-15 04:57:33,025] Trial 51 finished with value: 15.525631399020137 and parameters: {'thres_for_max': 0.53, 'thres_for_mean': 0.8}. Best is trial 32 with value: 15.762755892310215.\n"
     ]
    },
    {
     "name": "stderr",
     "output_type": "stream",
     "text": [
      "Best trial: 32. Best value: 15.7628:  21%|██        | 53/250 [06:45<25:38,  7.81s/it]"
     ]
    },
    {
     "name": "stdout",
     "output_type": "stream",
     "text": [
      "1613\n",
      "[I 2024-02-15 04:57:40,664] Trial 52 finished with value: 12.776703553637402 and parameters: {'thres_for_max': 0.51, 'thres_for_mean': 0.75}. Best is trial 32 with value: 15.762755892310215.\n"
     ]
    },
    {
     "name": "stderr",
     "output_type": "stream",
     "text": [
      "Best trial: 32. Best value: 15.7628:  22%|██▏       | 54/250 [06:53<25:21,  7.76s/it]"
     ]
    },
    {
     "name": "stdout",
     "output_type": "stream",
     "text": [
      "1281\n",
      "[I 2024-02-15 04:57:48,318] Trial 53 finished with value: 7.930759250317067 and parameters: {'thres_for_max': 0.6, 'thres_for_mean': 0.81}. Best is trial 32 with value: 15.762755892310215.\n"
     ]
    },
    {
     "name": "stderr",
     "output_type": "stream",
     "text": [
      "Best trial: 32. Best value: 15.7628:  22%|██▏       | 55/250 [07:00<25:05,  7.72s/it]"
     ]
    },
    {
     "name": "stdout",
     "output_type": "stream",
     "text": [
      "1764\n",
      "[I 2024-02-15 04:57:55,941] Trial 54 finished with value: 10.67337436605923 and parameters: {'thres_for_max': 0.44999999999999996, 'thres_for_mean': 0.8}. Best is trial 32 with value: 15.762755892310215.\n"
     ]
    },
    {
     "name": "stderr",
     "output_type": "stream",
     "text": [
      "Best trial: 32. Best value: 15.7628:  22%|██▏       | 56/250 [07:08<24:52,  7.69s/it]"
     ]
    },
    {
     "name": "stdout",
     "output_type": "stream",
     "text": [
      "1702\n",
      "[I 2024-02-15 04:58:03,565] Trial 55 finished with value: 12.275359636197601 and parameters: {'thres_for_max': 0.48, 'thres_for_mean': 0.8500000000000001}. Best is trial 32 with value: 15.762755892310215.\n"
     ]
    },
    {
     "name": "stderr",
     "output_type": "stream",
     "text": [
      "Best trial: 32. Best value: 15.7628:  23%|██▎       | 57/250 [07:16<24:54,  7.75s/it]"
     ]
    },
    {
     "name": "stdout",
     "output_type": "stream",
     "text": [
      "1506\n",
      "[I 2024-02-15 04:58:11,433] Trial 56 finished with value: 13.557708963408347 and parameters: {'thres_for_max': 0.54, 'thres_for_mean': 0.8799999999999999}. Best is trial 32 with value: 15.762755892310215.\n"
     ]
    },
    {
     "name": "stderr",
     "output_type": "stream",
     "text": [
      "Best trial: 32. Best value: 15.7628:  23%|██▎       | 58/250 [07:24<24:47,  7.75s/it]"
     ]
    },
    {
     "name": "stdout",
     "output_type": "stream",
     "text": [
      "1147\n",
      "[I 2024-02-15 04:58:19,180] Trial 57 finished with value: 7.471218191116952 and parameters: {'thres_for_max': 0.63, 'thres_for_mean': 0.69}. Best is trial 32 with value: 15.762755892310215.\n"
     ]
    },
    {
     "name": "stderr",
     "output_type": "stream",
     "text": [
      "Best trial: 32. Best value: 15.7628:  24%|██▎       | 59/250 [07:31<24:37,  7.73s/it]"
     ]
    },
    {
     "name": "stdout",
     "output_type": "stream",
     "text": [
      "1309\n",
      "[I 2024-02-15 04:58:26,888] Trial 58 finished with value: 7.792132692929843 and parameters: {'thres_for_max': 0.59, 'thres_for_mean': 0.61}. Best is trial 32 with value: 15.762755892310215.\n"
     ]
    },
    {
     "name": "stderr",
     "output_type": "stream",
     "text": [
      "Best trial: 32. Best value: 15.7628:  24%|██▍       | 60/250 [07:39<24:36,  7.77s/it]"
     ]
    },
    {
     "name": "stdout",
     "output_type": "stream",
     "text": [
      "1643\n",
      "[I 2024-02-15 04:58:34,752] Trial 59 finished with value: 11.889010814177395 and parameters: {'thres_for_max': 0.5, 'thres_for_mean': 0.8400000000000001}. Best is trial 32 with value: 15.762755892310215.\n"
     ]
    },
    {
     "name": "stderr",
     "output_type": "stream",
     "text": [
      "Best trial: 32. Best value: 15.7628:  24%|██▍       | 61/250 [07:47<24:30,  7.78s/it]"
     ]
    },
    {
     "name": "stdout",
     "output_type": "stream",
     "text": [
      "1865\n",
      "[I 2024-02-15 04:58:42,540] Trial 60 finished with value: 13.681326666160434 and parameters: {'thres_for_max': 0.35, 'thres_for_mean': 0.73}. Best is trial 32 with value: 15.762755892310215.\n"
     ]
    },
    {
     "name": "stderr",
     "output_type": "stream",
     "text": [
      "Best trial: 32. Best value: 15.7628:  25%|██▍       | 62/250 [07:55<24:20,  7.77s/it]"
     ]
    },
    {
     "name": "stdout",
     "output_type": "stream",
     "text": [
      "1539\n",
      "[I 2024-02-15 04:58:50,280] Trial 61 finished with value: 15.517024132131226 and parameters: {'thres_for_max': 0.53, 'thres_for_mean': 0.72}. Best is trial 32 with value: 15.762755892310215.\n"
     ]
    },
    {
     "name": "stderr",
     "output_type": "stream",
     "text": [
      "Best trial: 32. Best value: 15.7628:  25%|██▌       | 63/250 [08:02<24:08,  7.75s/it]"
     ]
    },
    {
     "name": "stdout",
     "output_type": "stream",
     "text": [
      "1354\n",
      "[I 2024-02-15 04:58:57,975] Trial 62 finished with value: 13.88192690299813 and parameters: {'thres_for_max': 0.5800000000000001, 'thres_for_mean': 0.77}. Best is trial 32 with value: 15.762755892310215.\n"
     ]
    },
    {
     "name": "stderr",
     "output_type": "stream",
     "text": [
      "Best trial: 32. Best value: 15.7628:  26%|██▌       | 64/250 [08:11<24:30,  7.91s/it]"
     ]
    },
    {
     "name": "stdout",
     "output_type": "stream",
     "text": [
      "1478\n",
      "[I 2024-02-15 04:59:06,255] Trial 63 finished with value: 14.794255770140508 and parameters: {'thres_for_max': 0.55, 'thres_for_mean': 0.7}. Best is trial 32 with value: 15.762755892310215.\n"
     ]
    },
    {
     "name": "stderr",
     "output_type": "stream",
     "text": [
      "Best trial: 32. Best value: 15.7628:  26%|██▌       | 65/250 [08:19<24:43,  8.02s/it]"
     ]
    },
    {
     "name": "stdout",
     "output_type": "stream",
     "text": [
      "1574\n",
      "[I 2024-02-15 04:59:14,534] Trial 64 finished with value: 15.496517225735273 and parameters: {'thres_for_max': 0.52, 'thres_for_mean': 0.64}. Best is trial 32 with value: 15.762755892310215.\n"
     ]
    },
    {
     "name": "stderr",
     "output_type": "stream",
     "text": [
      "Best trial: 32. Best value: 15.7628:  26%|██▋       | 66/250 [08:27<24:40,  8.05s/it]"
     ]
    },
    {
     "name": "stdout",
     "output_type": "stream",
     "text": [
      "1676\n",
      "[I 2024-02-15 04:59:22,654] Trial 65 finished with value: 12.245944447303366 and parameters: {'thres_for_max': 0.49, 'thres_for_mean': 0.74}. Best is trial 32 with value: 15.762755892310215.\n"
     ]
    },
    {
     "name": "stderr",
     "output_type": "stream",
     "text": [
      "Best trial: 32. Best value: 15.7628:  27%|██▋       | 67/250 [08:35<24:15,  7.95s/it]"
     ]
    },
    {
     "name": "stdout",
     "output_type": "stream",
     "text": [
      "1435\n",
      "[I 2024-02-15 04:59:30,386] Trial 66 finished with value: 14.902172183065364 and parameters: {'thres_for_max': 0.56, 'thres_for_mean': 0.6799999999999999}. Best is trial 32 with value: 15.762755892310215.\n"
     ]
    },
    {
     "name": "stderr",
     "output_type": "stream",
     "text": [
      "Best trial: 32. Best value: 15.7628:  27%|██▋       | 68/250 [08:43<23:54,  7.88s/it]"
     ]
    },
    {
     "name": "stdout",
     "output_type": "stream",
     "text": [
      "1723\n",
      "[I 2024-02-15 04:59:38,097] Trial 67 finished with value: 12.702002616004904 and parameters: {'thres_for_max': 0.47, 'thres_for_mean': 0.8}. Best is trial 32 with value: 15.762755892310215.\n"
     ]
    },
    {
     "name": "stderr",
     "output_type": "stream",
     "text": [
      "Best trial: 32. Best value: 15.7628:  28%|██▊       | 69/250 [08:50<23:36,  7.83s/it]"
     ]
    },
    {
     "name": "stdout",
     "output_type": "stream",
     "text": [
      "1809\n",
      "[I 2024-02-15 04:59:45,800] Trial 68 finished with value: 12.882786558471354 and parameters: {'thres_for_max': 0.44, 'thres_for_mean': 0.32}. Best is trial 32 with value: 15.762755892310215.\n"
     ]
    },
    {
     "name": "stderr",
     "output_type": "stream",
     "text": [
      "Best trial: 32. Best value: 15.7628:  28%|██▊       | 70/250 [08:58<23:14,  7.75s/it]"
     ]
    },
    {
     "name": "stdout",
     "output_type": "stream",
     "text": [
      "1478\n",
      "[I 2024-02-15 04:59:53,363] Trial 69 finished with value: 14.629755112718263 and parameters: {'thres_for_max': 0.55, 'thres_for_mean': 0.72}. Best is trial 32 with value: 15.762755892310215.\n"
     ]
    },
    {
     "name": "stderr",
     "output_type": "stream",
     "text": [
      "Best trial: 32. Best value: 15.7628:  28%|██▊       | 71/250 [09:06<23:04,  7.74s/it]"
     ]
    },
    {
     "name": "stdout",
     "output_type": "stream",
     "text": [
      "1613\n",
      "[I 2024-02-15 05:00:01,072] Trial 70 finished with value: 12.876385039406024 and parameters: {'thres_for_max': 0.51, 'thres_for_mean': 0.76}. Best is trial 32 with value: 15.762755892310215.\n"
     ]
    },
    {
     "name": "stderr",
     "output_type": "stream",
     "text": [
      "Best trial: 32. Best value: 15.7628:  29%|██▉       | 72/250 [09:13<22:50,  7.70s/it]"
     ]
    },
    {
     "name": "stdout",
     "output_type": "stream",
     "text": [
      "1539\n",
      "[I 2024-02-15 05:00:08,679] Trial 71 finished with value: 15.517024132131226 and parameters: {'thres_for_max': 0.53, 'thres_for_mean': 0.72}. Best is trial 32 with value: 15.762755892310215.\n"
     ]
    },
    {
     "name": "stderr",
     "output_type": "stream",
     "text": [
      "Best trial: 32. Best value: 15.7628:  29%|██▉       | 73/250 [09:21<22:38,  7.67s/it]"
     ]
    },
    {
     "name": "stdout",
     "output_type": "stream",
     "text": [
      "1199\n",
      "[I 2024-02-15 05:00:16,302] Trial 72 finished with value: 6.263359661594368 and parameters: {'thres_for_max': 0.62, 'thres_for_mean': 0.78}. Best is trial 32 with value: 15.762755892310215.\n"
     ]
    },
    {
     "name": "stderr",
     "output_type": "stream",
     "text": [
      "Best trial: 32. Best value: 15.7628:  30%|██▉       | 74/250 [09:29<22:32,  7.68s/it]"
     ]
    },
    {
     "name": "stdout",
     "output_type": "stream",
     "text": [
      "1354\n",
      "[I 2024-02-15 05:00:24,002] Trial 73 finished with value: 14.04254017737753 and parameters: {'thres_for_max': 0.5800000000000001, 'thres_for_mean': 0.7}. Best is trial 32 with value: 15.762755892310215.\n"
     ]
    },
    {
     "name": "stderr",
     "output_type": "stream",
     "text": [
      "Best trial: 32. Best value: 15.7628:  30%|███       | 75/250 [09:36<22:27,  7.70s/it]"
     ]
    },
    {
     "name": "stdout",
     "output_type": "stream",
     "text": [
      "1676\n",
      "[I 2024-02-15 05:00:31,736] Trial 74 finished with value: 12.245944447303366 and parameters: {'thres_for_max': 0.49, 'thres_for_mean': 0.74}. Best is trial 32 with value: 15.762755892310215.\n"
     ]
    },
    {
     "name": "stderr",
     "output_type": "stream",
     "text": [
      "Best trial: 32. Best value: 15.7628:  30%|███       | 76/250 [09:44<22:17,  7.69s/it]"
     ]
    },
    {
     "name": "stdout",
     "output_type": "stream",
     "text": [
      "1574\n",
      "[I 2024-02-15 05:00:39,396] Trial 75 finished with value: 15.453472044111288 and parameters: {'thres_for_max': 0.52, 'thres_for_mean': 0.8200000000000001}. Best is trial 32 with value: 15.762755892310215.\n"
     ]
    },
    {
     "name": "stderr",
     "output_type": "stream",
     "text": [
      "Best trial: 32. Best value: 15.7628:  31%|███       | 77/250 [09:52<22:12,  7.70s/it]"
     ]
    },
    {
     "name": "stdout",
     "output_type": "stream",
     "text": [
      "1409\n",
      "[I 2024-02-15 05:00:47,130] Trial 76 finished with value: 13.486825412383903 and parameters: {'thres_for_max': 0.5700000000000001, 'thres_for_mean': 0.6699999999999999}. Best is trial 32 with value: 15.762755892310215.\n"
     ]
    },
    {
     "name": "stderr",
     "output_type": "stream",
     "text": [
      "Best trial: 32. Best value: 15.7628:  31%|███       | 78/250 [09:59<21:59,  7.67s/it]"
     ]
    },
    {
     "name": "stdout",
     "output_type": "stream",
     "text": [
      "1506\n",
      "[I 2024-02-15 05:00:54,732] Trial 77 finished with value: 13.630665471244258 and parameters: {'thres_for_max': 0.54, 'thres_for_mean': 0.79}. Best is trial 32 with value: 15.762755892310215.\n"
     ]
    },
    {
     "name": "stderr",
     "output_type": "stream",
     "text": [
      "Best trial: 32. Best value: 15.7628:  32%|███▏      | 79/250 [10:07<22:00,  7.72s/it]"
     ]
    },
    {
     "name": "stdout",
     "output_type": "stream",
     "text": [
      "1643\n",
      "[I 2024-02-15 05:01:02,567] Trial 78 finished with value: 11.915011251122339 and parameters: {'thres_for_max': 0.5, 'thres_for_mean': 0.71}. Best is trial 32 with value: 15.762755892310215.\n"
     ]
    },
    {
     "name": "stderr",
     "output_type": "stream",
     "text": [
      "Best trial: 32. Best value: 15.7628:  32%|███▏      | 80/250 [10:15<22:02,  7.78s/it]"
     ]
    },
    {
     "name": "stdout",
     "output_type": "stream",
     "text": [
      "1723\n",
      "[I 2024-02-15 05:01:10,477] Trial 79 finished with value: 12.455151140026713 and parameters: {'thres_for_max': 0.47, 'thres_for_mean': 0.62}. Best is trial 32 with value: 15.762755892310215.\n"
     ]
    },
    {
     "name": "stderr",
     "output_type": "stream",
     "text": [
      "Best trial: 32. Best value: 15.7628:  32%|███▏      | 81/250 [10:23<21:57,  7.80s/it]"
     ]
    },
    {
     "name": "stdout",
     "output_type": "stream",
     "text": [
      "1506\n",
      "[I 2024-02-15 05:01:18,325] Trial 80 finished with value: 13.426670776694802 and parameters: {'thres_for_max': 0.54, 'thres_for_mean': 0.64}. Best is trial 32 with value: 15.762755892310215.\n"
     ]
    },
    {
     "name": "stderr",
     "output_type": "stream",
     "text": [
      "Best trial: 32. Best value: 15.7628:  33%|███▎      | 82/250 [10:31<21:49,  7.80s/it]"
     ]
    },
    {
     "name": "stdout",
     "output_type": "stream",
     "text": [
      "1574\n",
      "[I 2024-02-15 05:01:26,120] Trial 81 finished with value: 15.72053846015918 and parameters: {'thres_for_max': 0.52, 'thres_for_mean': 0.72}. Best is trial 32 with value: 15.762755892310215.\n"
     ]
    },
    {
     "name": "stderr",
     "output_type": "stream",
     "text": [
      "Best trial: 32. Best value: 15.7628:  33%|███▎      | 83/250 [10:38<21:35,  7.76s/it]"
     ]
    },
    {
     "name": "stdout",
     "output_type": "stream",
     "text": [
      "1574\n",
      "[I 2024-02-15 05:01:33,781] Trial 82 finished with value: 15.762755892310215 and parameters: {'thres_for_max': 0.52, 'thres_for_mean': 0.76}. Best is trial 32 with value: 15.762755892310215.\n"
     ]
    },
    {
     "name": "stderr",
     "output_type": "stream",
     "text": [
      "Best trial: 32. Best value: 15.7628:  34%|███▎      | 84/250 [10:46<21:40,  7.84s/it]"
     ]
    },
    {
     "name": "stdout",
     "output_type": "stream",
     "text": [
      "1435\n",
      "[I 2024-02-15 05:01:41,807] Trial 83 finished with value: 14.954712190304349 and parameters: {'thres_for_max': 0.56, 'thres_for_mean': 0.76}. Best is trial 32 with value: 15.762755892310215.\n"
     ]
    },
    {
     "name": "stderr",
     "output_type": "stream",
     "text": [
      "Best trial: 32. Best value: 15.7628:  34%|███▍      | 85/250 [10:54<21:25,  7.79s/it]"
     ]
    },
    {
     "name": "stdout",
     "output_type": "stream",
     "text": [
      "1574\n",
      "[I 2024-02-15 05:01:49,498] Trial 84 finished with value: 15.360548337291254 and parameters: {'thres_for_max': 0.52, 'thres_for_mean': 0.74}. Best is trial 32 with value: 15.762755892310215.\n"
     ]
    },
    {
     "name": "stderr",
     "output_type": "stream",
     "text": [
      "Best trial: 32. Best value: 15.7628:  34%|███▍      | 86/250 [11:02<21:11,  7.76s/it]"
     ]
    },
    {
     "name": "stdout",
     "output_type": "stream",
     "text": [
      "1784\n",
      "[I 2024-02-15 05:01:57,165] Trial 85 finished with value: 10.064198731005886 and parameters: {'thres_for_max': 0.44, 'thres_for_mean': 0.79}. Best is trial 32 with value: 15.762755892310215.\n"
     ]
    },
    {
     "name": "stderr",
     "output_type": "stream",
     "text": [
      "Best trial: 32. Best value: 15.7628:  35%|███▍      | 87/250 [11:09<20:57,  7.71s/it]"
     ]
    },
    {
     "name": "stdout",
     "output_type": "stream",
     "text": [
      "443\n",
      "[I 2024-02-15 05:02:04,785] Trial 86 finished with value: 4.102042491941634 and parameters: {'thres_for_max': 0.8799999999999999, 'thres_for_mean': 0.6599999999999999}. Best is trial 32 with value: 15.762755892310215.\n"
     ]
    },
    {
     "name": "stderr",
     "output_type": "stream",
     "text": [
      "Best trial: 32. Best value: 15.7628:  35%|███▌      | 88/250 [11:17<20:45,  7.69s/it]"
     ]
    },
    {
     "name": "stdout",
     "output_type": "stream",
     "text": [
      "1676\n",
      "[I 2024-02-15 05:02:12,413] Trial 87 finished with value: 12.531765370279858 and parameters: {'thres_for_max': 0.49, 'thres_for_mean': 0.77}. Best is trial 32 with value: 15.762755892310215.\n"
     ]
    },
    {
     "name": "stderr",
     "output_type": "stream",
     "text": [
      "Best trial: 32. Best value: 15.7628:  36%|███▌      | 89/250 [11:25<20:35,  7.67s/it]"
     ]
    },
    {
     "name": "stdout",
     "output_type": "stream",
     "text": [
      "1613\n",
      "[I 2024-02-15 05:02:20,048] Trial 88 finished with value: 12.623419246541397 and parameters: {'thres_for_max': 0.51, 'thres_for_mean': 0.8200000000000001}. Best is trial 32 with value: 15.762755892310215.\n"
     ]
    },
    {
     "name": "stderr",
     "output_type": "stream",
     "text": [
      "Best trial: 32. Best value: 15.7628:  36%|███▌      | 90/250 [11:32<20:19,  7.62s/it]"
     ]
    },
    {
     "name": "stdout",
     "output_type": "stream",
     "text": [
      "1354\n",
      "[I 2024-02-15 05:02:27,558] Trial 89 finished with value: 14.04254017737753 and parameters: {'thres_for_max': 0.5800000000000001, 'thres_for_mean': 0.7}. Best is trial 32 with value: 15.762755892310215.\n"
     ]
    },
    {
     "name": "stderr",
     "output_type": "stream",
     "text": [
      "Best trial: 32. Best value: 15.7628:  36%|███▋      | 91/250 [11:40<20:08,  7.60s/it]"
     ]
    },
    {
     "name": "stdout",
     "output_type": "stream",
     "text": [
      "1723\n",
      "[I 2024-02-15 05:02:35,094] Trial 90 finished with value: 12.629973020160794 and parameters: {'thres_for_max': 0.47, 'thres_for_mean': 0.75}. Best is trial 32 with value: 15.762755892310215.\n"
     ]
    },
    {
     "name": "stderr",
     "output_type": "stream",
     "text": [
      "Best trial: 32. Best value: 15.7628:  37%|███▋      | 92/250 [11:47<19:57,  7.58s/it]"
     ]
    },
    {
     "name": "stdout",
     "output_type": "stream",
     "text": [
      "1506\n",
      "[I 2024-02-15 05:02:42,621] Trial 91 finished with value: 13.620294041469338 and parameters: {'thres_for_max': 0.54, 'thres_for_mean': 0.72}. Best is trial 32 with value: 15.762755892310215.\n"
     ]
    },
    {
     "name": "stderr",
     "output_type": "stream",
     "text": [
      "Best trial: 92. Best value: 15.9359:  37%|███▋      | 93/250 [11:55<19:48,  7.57s/it]"
     ]
    },
    {
     "name": "stdout",
     "output_type": "stream",
     "text": [
      "1574\n",
      "[I 2024-02-15 05:02:50,183] Trial 92 finished with value: 15.935877899984703 and parameters: {'thres_for_max': 0.52, 'thres_for_mean': 0.69}. Best is trial 92 with value: 15.935877899984703.\n"
     ]
    },
    {
     "name": "stderr",
     "output_type": "stream",
     "text": [
      "Best trial: 92. Best value: 15.9359:  38%|███▊      | 94/250 [12:02<19:42,  7.58s/it]"
     ]
    },
    {
     "name": "stdout",
     "output_type": "stream",
     "text": [
      "1574\n",
      "[I 2024-02-15 05:02:57,790] Trial 93 finished with value: 15.697761508026245 and parameters: {'thres_for_max': 0.52, 'thres_for_mean': 0.6699999999999999}. Best is trial 92 with value: 15.935877899984703.\n"
     ]
    },
    {
     "name": "stderr",
     "output_type": "stream",
     "text": [
      "Best trial: 92. Best value: 15.9359:  38%|███▊      | 95/250 [12:10<19:41,  7.63s/it]"
     ]
    },
    {
     "name": "stdout",
     "output_type": "stream",
     "text": [
      "1643\n",
      "[I 2024-02-15 05:03:05,517] Trial 94 finished with value: 11.862276304676376 and parameters: {'thres_for_max': 0.5, 'thres_for_mean': 0.6699999999999999}. Best is trial 92 with value: 15.935877899984703.\n"
     ]
    },
    {
     "name": "stderr",
     "output_type": "stream",
     "text": [
      "Best trial: 92. Best value: 15.9359:  38%|███▊      | 96/250 [12:18<19:38,  7.65s/it]"
     ]
    },
    {
     "name": "stdout",
     "output_type": "stream",
     "text": [
      "1478\n",
      "[I 2024-02-15 05:03:13,225] Trial 95 finished with value: 14.794255770140508 and parameters: {'thres_for_max': 0.55, 'thres_for_mean': 0.7}. Best is trial 92 with value: 15.935877899984703.\n"
     ]
    },
    {
     "name": "stderr",
     "output_type": "stream",
     "text": [
      "Best trial: 92. Best value: 15.9359:  39%|███▉      | 97/250 [12:25<19:31,  7.65s/it]"
     ]
    },
    {
     "name": "stdout",
     "output_type": "stream",
     "text": [
      "1574\n",
      "[I 2024-02-15 05:03:20,891] Trial 96 finished with value: 15.378901336063596 and parameters: {'thres_for_max': 0.52, 'thres_for_mean': 0.59}. Best is trial 92 with value: 15.935877899984703.\n"
     ]
    },
    {
     "name": "stderr",
     "output_type": "stream",
     "text": [
      "Best trial: 92. Best value: 15.9359:  39%|███▉      | 98/250 [12:33<19:38,  7.75s/it]"
     ]
    },
    {
     "name": "stdout",
     "output_type": "stream",
     "text": [
      "1702\n",
      "[I 2024-02-15 05:03:28,867] Trial 97 finished with value: 12.10565739434008 and parameters: {'thres_for_max': 0.48, 'thres_for_mean': 0.64}. Best is trial 92 with value: 15.935877899984703.\n"
     ]
    },
    {
     "name": "stderr",
     "output_type": "stream",
     "text": [
      "Best trial: 92. Best value: 15.9359:  40%|███▉      | 99/250 [12:41<19:40,  7.82s/it]"
     ]
    },
    {
     "name": "stdout",
     "output_type": "stream",
     "text": [
      "1764\n",
      "[I 2024-02-15 05:03:36,837] Trial 98 finished with value: 10.813356323087115 and parameters: {'thres_for_max': 0.44999999999999996, 'thres_for_mean': 0.69}. Best is trial 92 with value: 15.935877899984703.\n"
     ]
    },
    {
     "name": "stderr",
     "output_type": "stream",
     "text": [
      "Best trial: 92. Best value: 15.9359:  40%|████      | 100/250 [12:49<19:46,  7.91s/it]"
     ]
    },
    {
     "name": "stdout",
     "output_type": "stream",
     "text": [
      "1643\n",
      "[I 2024-02-15 05:03:44,971] Trial 99 finished with value: 11.493617485022206 and parameters: {'thres_for_max': 0.5, 'thres_for_mean': 0.54}. Best is trial 92 with value: 15.935877899984703.\n"
     ]
    },
    {
     "name": "stderr",
     "output_type": "stream",
     "text": [
      "Best trial: 92. Best value: 15.9359:  40%|████      | 101/250 [12:57<19:34,  7.88s/it]"
     ]
    },
    {
     "name": "stdout",
     "output_type": "stream",
     "text": [
      "1435\n",
      "[I 2024-02-15 05:03:52,792] Trial 100 finished with value: 14.771766305821187 and parameters: {'thres_for_max': 0.56, 'thres_for_mean': 0.65}. Best is trial 92 with value: 15.935877899984703.\n"
     ]
    },
    {
     "name": "stderr",
     "output_type": "stream",
     "text": [
      "Best trial: 92. Best value: 15.9359:  41%|████      | 102/250 [13:05<19:24,  7.87s/it]"
     ]
    },
    {
     "name": "stdout",
     "output_type": "stream",
     "text": [
      "1539\n",
      "[I 2024-02-15 05:04:00,630] Trial 101 finished with value: 15.491317778835056 and parameters: {'thres_for_max': 0.53, 'thres_for_mean': 0.73}. Best is trial 92 with value: 15.935877899984703.\n"
     ]
    },
    {
     "name": "stderr",
     "output_type": "stream",
     "text": [
      "Best trial: 92. Best value: 15.9359:  41%|████      | 103/250 [13:13<19:15,  7.86s/it]"
     ]
    },
    {
     "name": "stdout",
     "output_type": "stream",
     "text": [
      "1574\n",
      "[I 2024-02-15 05:04:08,463] Trial 102 finished with value: 15.617805356802576 and parameters: {'thres_for_max': 0.52, 'thres_for_mean': 0.78}. Best is trial 92 with value: 15.935877899984703.\n"
     ]
    },
    {
     "name": "stderr",
     "output_type": "stream",
     "text": [
      "Best trial: 92. Best value: 15.9359:  42%|████▏     | 104/250 [13:21<19:10,  7.88s/it]"
     ]
    },
    {
     "name": "stdout",
     "output_type": "stream",
     "text": [
      "1676\n",
      "[I 2024-02-15 05:04:16,398] Trial 103 finished with value: 12.540477345120308 and parameters: {'thres_for_max': 0.49, 'thres_for_mean': 0.8}. Best is trial 92 with value: 15.935877899984703.\n"
     ]
    },
    {
     "name": "stderr",
     "output_type": "stream",
     "text": [
      "Best trial: 92. Best value: 15.9359:  42%|████▏     | 105/250 [13:29<19:00,  7.87s/it]"
     ]
    },
    {
     "name": "stdout",
     "output_type": "stream",
     "text": [
      "1613\n",
      "[I 2024-02-15 05:04:24,231] Trial 104 finished with value: 12.757759175330582 and parameters: {'thres_for_max': 0.51, 'thres_for_mean': 0.78}. Best is trial 92 with value: 15.935877899984703.\n"
     ]
    },
    {
     "name": "stderr",
     "output_type": "stream",
     "text": [
      "Best trial: 92. Best value: 15.9359:  42%|████▏     | 106/250 [13:36<18:45,  7.81s/it]"
     ]
    },
    {
     "name": "stdout",
     "output_type": "stream",
     "text": [
      "1574\n",
      "[I 2024-02-15 05:04:31,922] Trial 105 finished with value: 15.762755892310215 and parameters: {'thres_for_max': 0.52, 'thres_for_mean': 0.76}. Best is trial 92 with value: 15.935877899984703.\n"
     ]
    },
    {
     "name": "stderr",
     "output_type": "stream",
     "text": [
      "Best trial: 92. Best value: 15.9359:  43%|████▎     | 107/250 [13:44<18:32,  7.78s/it]"
     ]
    },
    {
     "name": "stdout",
     "output_type": "stream",
     "text": [
      "1478\n",
      "[I 2024-02-15 05:04:39,612] Trial 106 finished with value: 14.551185209207217 and parameters: {'thres_for_max': 0.55, 'thres_for_mean': 0.75}. Best is trial 92 with value: 15.935877899984703.\n"
     ]
    },
    {
     "name": "stderr",
     "output_type": "stream",
     "text": [
      "Best trial: 92. Best value: 15.9359:  43%|████▎     | 108/250 [13:52<18:16,  7.72s/it]"
     ]
    },
    {
     "name": "stdout",
     "output_type": "stream",
     "text": [
      "1817\n",
      "[I 2024-02-15 05:04:47,203] Trial 107 finished with value: 12.03196701271624 and parameters: {'thres_for_max': 0.42, 'thres_for_mean': 0.69}. Best is trial 92 with value: 15.935877899984703.\n"
     ]
    },
    {
     "name": "stderr",
     "output_type": "stream",
     "text": [
      "Best trial: 92. Best value: 15.9359:  44%|████▎     | 109/250 [13:59<18:04,  7.69s/it]"
     ]
    },
    {
     "name": "stdout",
     "output_type": "stream",
     "text": [
      "1309\n",
      "[I 2024-02-15 05:04:54,830] Trial 108 finished with value: 7.929201627714864 and parameters: {'thres_for_max': 0.59, 'thres_for_mean': 0.77}. Best is trial 92 with value: 15.935877899984703.\n"
     ]
    },
    {
     "name": "stderr",
     "output_type": "stream",
     "text": [
      "Best trial: 92. Best value: 15.9359:  44%|████▍     | 110/250 [14:07<17:55,  7.69s/it]"
     ]
    },
    {
     "name": "stdout",
     "output_type": "stream",
     "text": [
      "1574\n",
      "[I 2024-02-15 05:05:02,496] Trial 109 finished with value: 15.694157625348218 and parameters: {'thres_for_max': 0.52, 'thres_for_mean': 0.73}. Best is trial 92 with value: 15.935877899984703.\n"
     ]
    },
    {
     "name": "stderr",
     "output_type": "stream",
     "text": [
      "Best trial: 92. Best value: 15.9359:  44%|████▍     | 111/250 [14:15<18:07,  7.83s/it]"
     ]
    },
    {
     "name": "stdout",
     "output_type": "stream",
     "text": [
      "1702\n",
      "[I 2024-02-15 05:05:10,653] Trial 110 finished with value: 12.313664663814672 and parameters: {'thres_for_max': 0.48, 'thres_for_mean': 0.76}. Best is trial 92 with value: 15.935877899984703.\n"
     ]
    },
    {
     "name": "stderr",
     "output_type": "stream",
     "text": [
      "Best trial: 92. Best value: 15.9359:  45%|████▍     | 112/250 [14:23<18:05,  7.87s/it]"
     ]
    },
    {
     "name": "stdout",
     "output_type": "stream",
     "text": [
      "1574\n",
      "[I 2024-02-15 05:05:18,614] Trial 111 finished with value: 15.360548337291254 and parameters: {'thres_for_max': 0.52, 'thres_for_mean': 0.74}. Best is trial 92 with value: 15.935877899984703.\n"
     ]
    },
    {
     "name": "stderr",
     "output_type": "stream",
     "text": [
      "Best trial: 92. Best value: 15.9359:  45%|████▌     | 113/250 [14:31<17:53,  7.84s/it]"
     ]
    },
    {
     "name": "stdout",
     "output_type": "stream",
     "text": [
      "1506\n",
      "[I 2024-02-15 05:05:26,384] Trial 112 finished with value: 13.660618271701031 and parameters: {'thres_for_max': 0.54, 'thres_for_mean': 0.71}. Best is trial 92 with value: 15.935877899984703.\n"
     ]
    },
    {
     "name": "stderr",
     "output_type": "stream",
     "text": [
      "Best trial: 92. Best value: 15.9359:  46%|████▌     | 114/250 [14:39<17:46,  7.84s/it]"
     ]
    },
    {
     "name": "stdout",
     "output_type": "stream",
     "text": [
      "1409\n",
      "[I 2024-02-15 05:05:34,234] Trial 113 finished with value: 13.484328244865804 and parameters: {'thres_for_max': 0.5700000000000001, 'thres_for_mean': 0.73}. Best is trial 92 with value: 15.935877899984703.\n"
     ]
    },
    {
     "name": "stderr",
     "output_type": "stream",
     "text": [
      "Best trial: 92. Best value: 15.9359:  46%|████▌     | 115/250 [14:47<17:49,  7.92s/it]"
     ]
    },
    {
     "name": "stdout",
     "output_type": "stream",
     "text": [
      "1743\n",
      "[I 2024-02-15 05:05:42,352] Trial 114 finished with value: 12.03052770126366 and parameters: {'thres_for_max': 0.45999999999999996, 'thres_for_mean': 0.6699999999999999}. Best is trial 92 with value: 15.935877899984703.\n"
     ]
    },
    {
     "name": "stderr",
     "output_type": "stream",
     "text": [
      "Best trial: 92. Best value: 15.9359:  46%|████▋     | 116/250 [14:55<17:37,  7.89s/it]"
     ]
    },
    {
     "name": "stdout",
     "output_type": "stream",
     "text": [
      "1643\n",
      "[I 2024-02-15 05:05:50,157] Trial 115 finished with value: 11.801507052396829 and parameters: {'thres_for_max': 0.5, 'thres_for_mean': 0.78}. Best is trial 92 with value: 15.935877899984703.\n"
     ]
    },
    {
     "name": "stderr",
     "output_type": "stream",
     "text": [
      "Best trial: 92. Best value: 15.9359:  47%|████▋     | 117/250 [15:02<17:26,  7.87s/it]"
     ]
    },
    {
     "name": "stdout",
     "output_type": "stream",
     "text": [
      "1574\n",
      "[I 2024-02-15 05:05:57,980] Trial 116 finished with value: 15.694157625348218 and parameters: {'thres_for_max': 0.52, 'thres_for_mean': 0.73}. Best is trial 92 with value: 15.935877899984703.\n"
     ]
    },
    {
     "name": "stderr",
     "output_type": "stream",
     "text": [
      "Best trial: 92. Best value: 15.9359:  47%|████▋     | 118/250 [15:10<17:17,  7.86s/it]"
     ]
    },
    {
     "name": "stdout",
     "output_type": "stream",
     "text": [
      "1613\n",
      "[I 2024-02-15 05:06:05,808] Trial 117 finished with value: 12.876385039406024 and parameters: {'thres_for_max': 0.51, 'thres_for_mean': 0.76}. Best is trial 92 with value: 15.935877899984703.\n"
     ]
    },
    {
     "name": "stderr",
     "output_type": "stream",
     "text": [
      "Best trial: 92. Best value: 15.9359:  48%|████▊     | 119/250 [15:18<17:06,  7.84s/it]"
     ]
    },
    {
     "name": "stdout",
     "output_type": "stream",
     "text": [
      "1506\n",
      "[I 2024-02-15 05:06:13,594] Trial 118 finished with value: 13.597614855786 and parameters: {'thres_for_max': 0.54, 'thres_for_mean': 0.73}. Best is trial 92 with value: 15.935877899984703.\n"
     ]
    },
    {
     "name": "stderr",
     "output_type": "stream",
     "text": [
      "Best trial: 92. Best value: 15.9359:  48%|████▊     | 120/250 [15:26<16:56,  7.82s/it]"
     ]
    },
    {
     "name": "stdout",
     "output_type": "stream",
     "text": [
      "1574\n",
      "[I 2024-02-15 05:06:21,379] Trial 119 finished with value: 15.640819694019383 and parameters: {'thres_for_max': 0.52, 'thres_for_mean': 0.75}. Best is trial 92 with value: 15.935877899984703.\n"
     ]
    },
    {
     "name": "stderr",
     "output_type": "stream",
     "text": [
      "Best trial: 92. Best value: 15.9359:  48%|████▊     | 121/250 [15:34<16:44,  7.79s/it]"
     ]
    },
    {
     "name": "stdout",
     "output_type": "stream",
     "text": [
      "1702\n",
      "[I 2024-02-15 05:06:29,085] Trial 120 finished with value: 12.23208017890776 and parameters: {'thres_for_max': 0.48, 'thres_for_mean': 0.48}. Best is trial 92 with value: 15.935877899984703.\n"
     ]
    },
    {
     "name": "stderr",
     "output_type": "stream",
     "text": [
      "Best trial: 92. Best value: 15.9359:  49%|████▉     | 122/250 [15:41<16:32,  7.75s/it]"
     ]
    },
    {
     "name": "stdout",
     "output_type": "stream",
     "text": [
      "1574\n",
      "[I 2024-02-15 05:06:36,755] Trial 121 finished with value: 15.640819694019383 and parameters: {'thres_for_max': 0.52, 'thres_for_mean': 0.75}. Best is trial 92 with value: 15.935877899984703.\n"
     ]
    },
    {
     "name": "stderr",
     "output_type": "stream",
     "text": [
      "Best trial: 92. Best value: 15.9359:  49%|████▉     | 123/250 [15:49<16:18,  7.70s/it]"
     ]
    },
    {
     "name": "stdout",
     "output_type": "stream",
     "text": [
      "1478\n",
      "[I 2024-02-15 05:06:44,349] Trial 122 finished with value: 14.551185209207217 and parameters: {'thres_for_max': 0.55, 'thres_for_mean': 0.75}. Best is trial 92 with value: 15.935877899984703.\n"
     ]
    },
    {
     "name": "stderr",
     "output_type": "stream",
     "text": [
      "Best trial: 92. Best value: 15.9359:  50%|████▉     | 124/250 [15:56<16:06,  7.67s/it]"
     ]
    },
    {
     "name": "stdout",
     "output_type": "stream",
     "text": [
      "1539\n",
      "[I 2024-02-15 05:06:51,949] Trial 123 finished with value: 15.563061491732093 and parameters: {'thres_for_max': 0.53, 'thres_for_mean': 0.71}. Best is trial 92 with value: 15.935877899984703.\n"
     ]
    },
    {
     "name": "stderr",
     "output_type": "stream",
     "text": [
      "Best trial: 92. Best value: 15.9359:  50%|█████     | 125/250 [16:04<15:55,  7.64s/it]"
     ]
    },
    {
     "name": "stdout",
     "output_type": "stream",
     "text": [
      "1676\n",
      "[I 2024-02-15 05:06:59,528] Trial 124 finished with value: 12.245944447303366 and parameters: {'thres_for_max': 0.49, 'thres_for_mean': 0.74}. Best is trial 92 with value: 15.935877899984703.\n"
     ]
    },
    {
     "name": "stderr",
     "output_type": "stream",
     "text": [
      "Best trial: 92. Best value: 15.9359:  50%|█████     | 126/250 [16:12<15:50,  7.67s/it]"
     ]
    },
    {
     "name": "stdout",
     "output_type": "stream",
     "text": [
      "1613\n",
      "[I 2024-02-15 05:07:07,251] Trial 125 finished with value: 12.841773756278634 and parameters: {'thres_for_max': 0.51, 'thres_for_mean': 0.72}. Best is trial 92 with value: 15.935877899984703.\n"
     ]
    },
    {
     "name": "stderr",
     "output_type": "stream",
     "text": [
      "Best trial: 92. Best value: 15.9359:  51%|█████     | 127/250 [16:19<15:43,  7.67s/it]"
     ]
    },
    {
     "name": "stdout",
     "output_type": "stream",
     "text": [
      "1435\n",
      "[I 2024-02-15 05:07:14,932] Trial 126 finished with value: 14.912624932252918 and parameters: {'thres_for_max': 0.56, 'thres_for_mean': 0.77}. Best is trial 92 with value: 15.935877899984703.\n"
     ]
    },
    {
     "name": "stderr",
     "output_type": "stream",
     "text": [
      "Best trial: 92. Best value: 15.9359:  51%|█████     | 128/250 [16:27<15:36,  7.68s/it]"
     ]
    },
    {
     "name": "stdout",
     "output_type": "stream",
     "text": [
      "1643\n",
      "[I 2024-02-15 05:07:22,618] Trial 127 finished with value: 11.819059414953077 and parameters: {'thres_for_max': 0.5, 'thres_for_mean': 0.75}. Best is trial 92 with value: 15.935877899984703.\n"
     ]
    },
    {
     "name": "stderr",
     "output_type": "stream",
     "text": [
      "Best trial: 92. Best value: 15.9359:  52%|█████▏    | 129/250 [16:35<15:28,  7.67s/it]"
     ]
    },
    {
     "name": "stdout",
     "output_type": "stream",
     "text": [
      "1723\n",
      "[I 2024-02-15 05:07:30,280] Trial 128 finished with value: 12.679071092317717 and parameters: {'thres_for_max': 0.47, 'thres_for_mean': 0.81}. Best is trial 92 with value: 15.935877899984703.\n"
     ]
    },
    {
     "name": "stderr",
     "output_type": "stream",
     "text": [
      "Best trial: 92. Best value: 15.9359:  52%|█████▏    | 130/250 [16:42<15:20,  7.67s/it]"
     ]
    },
    {
     "name": "stdout",
     "output_type": "stream",
     "text": [
      "1539\n",
      "[I 2024-02-15 05:07:37,937] Trial 129 finished with value: 15.729464934975082 and parameters: {'thres_for_max': 0.53, 'thres_for_mean': 0.69}. Best is trial 92 with value: 15.935877899984703.\n"
     ]
    },
    {
     "name": "stderr",
     "output_type": "stream",
     "text": [
      "Best trial: 92. Best value: 15.9359:  52%|█████▏    | 131/250 [16:50<15:10,  7.65s/it]"
     ]
    },
    {
     "name": "stdout",
     "output_type": "stream",
     "text": [
      "1506\n",
      "[I 2024-02-15 05:07:45,561] Trial 130 finished with value: 13.806583565114895 and parameters: {'thres_for_max': 0.54, 'thres_for_mean': 0.69}. Best is trial 92 with value: 15.935877899984703.\n"
     ]
    },
    {
     "name": "stderr",
     "output_type": "stream",
     "text": [
      "Best trial: 92. Best value: 15.9359:  53%|█████▎    | 132/250 [16:58<15:02,  7.65s/it]"
     ]
    },
    {
     "name": "stdout",
     "output_type": "stream",
     "text": [
      "1574\n",
      "[I 2024-02-15 05:07:53,190] Trial 131 finished with value: 15.703928334123198 and parameters: {'thres_for_max': 0.52, 'thres_for_mean': 0.6799999999999999}. Best is trial 92 with value: 15.935877899984703.\n"
     ]
    },
    {
     "name": "stderr",
     "output_type": "stream",
     "text": [
      "Best trial: 92. Best value: 15.9359:  53%|█████▎    | 133/250 [17:05<15:00,  7.69s/it]"
     ]
    },
    {
     "name": "stdout",
     "output_type": "stream",
     "text": [
      "1539\n",
      "[I 2024-02-15 05:08:00,993] Trial 132 finished with value: 15.500897330945758 and parameters: {'thres_for_max': 0.53, 'thres_for_mean': 0.6799999999999999}. Best is trial 92 with value: 15.935877899984703.\n"
     ]
    },
    {
     "name": "stderr",
     "output_type": "stream",
     "text": [
      "Best trial: 92. Best value: 15.9359:  54%|█████▎    | 134/250 [17:13<14:56,  7.73s/it]"
     ]
    },
    {
     "name": "stdout",
     "output_type": "stream",
     "text": [
      "1613\n",
      "[I 2024-02-15 05:08:08,807] Trial 133 finished with value: 12.8204611068202 and parameters: {'thres_for_max': 0.51, 'thres_for_mean': 0.73}. Best is trial 92 with value: 15.935877899984703.\n"
     ]
    },
    {
     "name": "stderr",
     "output_type": "stream",
     "text": [
      "Best trial: 92. Best value: 15.9359:  54%|█████▍    | 135/250 [17:21<14:46,  7.71s/it]"
     ]
    },
    {
     "name": "stdout",
     "output_type": "stream",
     "text": [
      "1478\n",
      "[I 2024-02-15 05:08:16,461] Trial 134 finished with value: 14.67310513175268 and parameters: {'thres_for_max': 0.55, 'thres_for_mean': 0.71}. Best is trial 92 with value: 15.935877899984703.\n"
     ]
    },
    {
     "name": "stderr",
     "output_type": "stream",
     "text": [
      "Best trial: 92. Best value: 15.9359:  54%|█████▍    | 136/250 [17:29<14:41,  7.73s/it]"
     ]
    },
    {
     "name": "stdout",
     "output_type": "stream",
     "text": [
      "1676\n",
      "[I 2024-02-15 05:08:24,239] Trial 135 finished with value: 12.515260315629734 and parameters: {'thres_for_max': 0.49, 'thres_for_mean': 0.6699999999999999}. Best is trial 92 with value: 15.935877899984703.\n"
     ]
    },
    {
     "name": "stderr",
     "output_type": "stream",
     "text": [
      "Best trial: 92. Best value: 15.9359:  55%|█████▍    | 137/250 [17:36<14:27,  7.67s/it]"
     ]
    },
    {
     "name": "stdout",
     "output_type": "stream",
     "text": [
      "1409\n",
      "[I 2024-02-15 05:08:31,784] Trial 136 finished with value: 13.691708309498654 and parameters: {'thres_for_max': 0.5700000000000001, 'thres_for_mean': 0.69}. Best is trial 92 with value: 15.935877899984703.\n"
     ]
    },
    {
     "name": "stderr",
     "output_type": "stream",
     "text": [
      "Best trial: 92. Best value: 15.9359:  55%|█████▌    | 138/250 [17:44<14:15,  7.64s/it]"
     ]
    },
    {
     "name": "stdout",
     "output_type": "stream",
     "text": [
      "1574\n",
      "[I 2024-02-15 05:08:39,350] Trial 137 finished with value: 15.767290795170915 and parameters: {'thres_for_max': 0.52, 'thres_for_mean': 0.71}. Best is trial 92 with value: 15.935877899984703.\n"
     ]
    },
    {
     "name": "stderr",
     "output_type": "stream",
     "text": [
      "Best trial: 92. Best value: 15.9359:  56%|█████▌    | 139/250 [17:51<14:07,  7.64s/it]"
     ]
    },
    {
     "name": "stdout",
     "output_type": "stream",
     "text": [
      "1643\n",
      "[I 2024-02-15 05:08:46,984] Trial 138 finished with value: 11.763515845386804 and parameters: {'thres_for_max': 0.5, 'thres_for_mean': 0.65}. Best is trial 92 with value: 15.935877899984703.\n"
     ]
    },
    {
     "name": "stderr",
     "output_type": "stream",
     "text": [
      "Best trial: 92. Best value: 15.9359:  56%|█████▌    | 140/250 [17:59<13:53,  7.58s/it]"
     ]
    },
    {
     "name": "stdout",
     "output_type": "stream",
     "text": [
      "1539\n",
      "[I 2024-02-15 05:08:54,410] Trial 139 finished with value: 15.691685901343119 and parameters: {'thres_for_max': 0.53, 'thres_for_mean': 0.7}. Best is trial 92 with value: 15.935877899984703.\n"
     ]
    },
    {
     "name": "stderr",
     "output_type": "stream",
     "text": [
      "Best trial: 92. Best value: 15.9359:  56%|█████▋    | 141/250 [18:06<13:43,  7.55s/it]"
     ]
    },
    {
     "name": "stdout",
     "output_type": "stream",
     "text": [
      "792\n",
      "[I 2024-02-15 05:09:01,916] Trial 140 finished with value: 10.95369162395373 and parameters: {'thres_for_max': 0.72, 'thres_for_mean': 0.71}. Best is trial 92 with value: 15.935877899984703.\n"
     ]
    },
    {
     "name": "stderr",
     "output_type": "stream",
     "text": [
      "Best trial: 92. Best value: 15.9359:  57%|█████▋    | 142/250 [18:14<13:37,  7.57s/it]"
     ]
    },
    {
     "name": "stdout",
     "output_type": "stream",
     "text": [
      "1506\n",
      "[I 2024-02-15 05:09:09,535] Trial 141 finished with value: 13.773422908537874 and parameters: {'thres_for_max': 0.54, 'thres_for_mean': 0.7}. Best is trial 92 with value: 15.935877899984703.\n"
     ]
    },
    {
     "name": "stderr",
     "output_type": "stream",
     "text": [
      "Best trial: 92. Best value: 15.9359:  57%|█████▋    | 143/250 [18:22<13:32,  7.60s/it]"
     ]
    },
    {
     "name": "stdout",
     "output_type": "stream",
     "text": [
      "1539\n",
      "[I 2024-02-15 05:09:17,189] Trial 142 finished with value: 15.500897330945758 and parameters: {'thres_for_max': 0.53, 'thres_for_mean': 0.6799999999999999}. Best is trial 92 with value: 15.935877899984703.\n"
     ]
    },
    {
     "name": "stderr",
     "output_type": "stream",
     "text": [
      "Best trial: 92. Best value: 15.9359:  58%|█████▊    | 144/250 [18:29<13:25,  7.60s/it]"
     ]
    },
    {
     "name": "stdout",
     "output_type": "stream",
     "text": [
      "1613\n",
      "[I 2024-02-15 05:09:24,802] Trial 143 finished with value: 12.841773756278634 and parameters: {'thres_for_max': 0.51, 'thres_for_mean': 0.72}. Best is trial 92 with value: 15.935877899984703.\n"
     ]
    },
    {
     "name": "stderr",
     "output_type": "stream",
     "text": [
      "Best trial: 92. Best value: 15.9359:  58%|█████▊    | 145/250 [18:37<13:16,  7.59s/it]"
     ]
    },
    {
     "name": "stdout",
     "output_type": "stream",
     "text": [
      "1539\n",
      "[I 2024-02-15 05:09:32,364] Trial 144 finished with value: 15.471364576769028 and parameters: {'thres_for_max': 0.53, 'thres_for_mean': 0.6599999999999999}. Best is trial 92 with value: 15.935877899984703.\n"
     ]
    },
    {
     "name": "stderr",
     "output_type": "stream",
     "text": [
      "Best trial: 92. Best value: 15.9359:  58%|█████▊    | 146/250 [18:44<13:10,  7.60s/it]"
     ]
    },
    {
     "name": "stdout",
     "output_type": "stream",
     "text": [
      "1478\n",
      "[I 2024-02-15 05:09:39,989] Trial 145 finished with value: 14.794255770140508 and parameters: {'thres_for_max': 0.55, 'thres_for_mean': 0.7}. Best is trial 92 with value: 15.935877899984703.\n"
     ]
    },
    {
     "name": "stderr",
     "output_type": "stream",
     "text": [
      "Best trial: 92. Best value: 15.9359:  59%|█████▉    | 147/250 [18:52<13:02,  7.60s/it]"
     ]
    },
    {
     "name": "stdout",
     "output_type": "stream",
     "text": [
      "1676\n",
      "[I 2024-02-15 05:09:47,590] Trial 146 finished with value: 12.245944447303366 and parameters: {'thres_for_max': 0.49, 'thres_for_mean': 0.74}. Best is trial 92 with value: 15.935877899984703.\n"
     ]
    },
    {
     "name": "stderr",
     "output_type": "stream",
     "text": [
      "Best trial: 147. Best value: 15.9766:  59%|█████▉    | 148/250 [19:00<13:01,  7.66s/it]"
     ]
    },
    {
     "name": "stdout",
     "output_type": "stream",
     "text": [
      "1625\n",
      "[I 2024-02-15 05:09:55,395] Trial 147 finished with value: 15.976603497139703 and parameters: {'thres_for_max': 0.52, 'thres_for_mean': 0.39}. Best is trial 147 with value: 15.976603497139703.\n"
     ]
    },
    {
     "name": "stderr",
     "output_type": "stream",
     "text": [
      "Best trial: 147. Best value: 15.9766:  60%|█████▉    | 149/250 [19:08<13:01,  7.74s/it]"
     ]
    },
    {
     "name": "stdout",
     "output_type": "stream",
     "text": [
      "1872\n",
      "[I 2024-02-15 05:10:03,307] Trial 148 finished with value: 12.42806174070835 and parameters: {'thres_for_max': 0.3, 'thres_for_mean': 0.36}. Best is trial 147 with value: 15.976603497139703.\n"
     ]
    },
    {
     "name": "stderr",
     "output_type": "stream",
     "text": [
      "Best trial: 147. Best value: 15.9766:  60%|██████    | 150/250 [19:16<12:54,  7.74s/it]"
     ]
    },
    {
     "name": "stdout",
     "output_type": "stream",
     "text": [
      "1435\n",
      "[I 2024-02-15 05:10:11,060] Trial 149 finished with value: 14.893486192294922 and parameters: {'thres_for_max': 0.56, 'thres_for_mean': 0.73}. Best is trial 147 with value: 15.976603497139703.\n"
     ]
    },
    {
     "name": "stderr",
     "output_type": "stream",
     "text": [
      "Best trial: 147. Best value: 15.9766:  60%|██████    | 151/250 [19:23<12:50,  7.78s/it]"
     ]
    },
    {
     "name": "stdout",
     "output_type": "stream",
     "text": [
      "1629\n",
      "[I 2024-02-15 05:10:18,943] Trial 150 finished with value: 13.921128066550583 and parameters: {'thres_for_max': 0.51, 'thres_for_mean': 0.41}. Best is trial 147 with value: 15.976603497139703.\n"
     ]
    },
    {
     "name": "stderr",
     "output_type": "stream",
     "text": [
      "Best trial: 147. Best value: 15.9766:  61%|██████    | 152/250 [19:31<12:43,  7.80s/it]"
     ]
    },
    {
     "name": "stdout",
     "output_type": "stream",
     "text": [
      "1574\n",
      "[I 2024-02-15 05:10:26,765] Trial 151 finished with value: 15.703928334123198 and parameters: {'thres_for_max': 0.52, 'thres_for_mean': 0.6799999999999999}. Best is trial 147 with value: 15.976603497139703.\n"
     ]
    },
    {
     "name": "stderr",
     "output_type": "stream",
     "text": [
      "Best trial: 147. Best value: 15.9766:  61%|██████    | 153/250 [19:39<12:30,  7.73s/it]"
     ]
    },
    {
     "name": "stdout",
     "output_type": "stream",
     "text": [
      "1574\n",
      "[I 2024-02-15 05:10:34,358] Trial 152 finished with value: 15.526859542375359 and parameters: {'thres_for_max': 0.52, 'thres_for_mean': 0.63}. Best is trial 147 with value: 15.976603497139703.\n"
     ]
    },
    {
     "name": "stderr",
     "output_type": "stream",
     "text": [
      "Best trial: 147. Best value: 15.9766:  62%|██████▏   | 154/250 [19:46<12:19,  7.70s/it]"
     ]
    },
    {
     "name": "stdout",
     "output_type": "stream",
     "text": [
      "1643\n",
      "[I 2024-02-15 05:10:41,981] Trial 153 finished with value: 11.867043130696 and parameters: {'thres_for_max': 0.5, 'thres_for_mean': 0.6799999999999999}. Best is trial 147 with value: 15.976603497139703.\n"
     ]
    },
    {
     "name": "stderr",
     "output_type": "stream",
     "text": [
      "Best trial: 147. Best value: 15.9766:  62%|██████▏   | 155/250 [19:54<12:07,  7.66s/it]"
     ]
    },
    {
     "name": "stdout",
     "output_type": "stream",
     "text": [
      "1702\n",
      "[I 2024-02-15 05:10:49,553] Trial 154 finished with value: 12.243049584339841 and parameters: {'thres_for_max': 0.48, 'thres_for_mean': 0.6599999999999999}. Best is trial 147 with value: 15.976603497139703.\n"
     ]
    },
    {
     "name": "stderr",
     "output_type": "stream",
     "text": [
      "Best trial: 147. Best value: 15.9766:  62%|██████▏   | 156/250 [20:02<11:58,  7.65s/it]"
     ]
    },
    {
     "name": "stdout",
     "output_type": "stream",
     "text": [
      "1506\n",
      "[I 2024-02-15 05:10:57,162] Trial 155 finished with value: 13.656635086921675 and parameters: {'thres_for_max': 0.54, 'thres_for_mean': 0.76}. Best is trial 147 with value: 15.976603497139703.\n"
     ]
    },
    {
     "name": "stderr",
     "output_type": "stream",
     "text": [
      "Best trial: 147. Best value: 15.9766:  63%|██████▎   | 157/250 [20:09<11:51,  7.65s/it]"
     ]
    },
    {
     "name": "stdout",
     "output_type": "stream",
     "text": [
      "1574\n",
      "[I 2024-02-15 05:11:04,837] Trial 156 finished with value: 15.72053846015918 and parameters: {'thres_for_max': 0.52, 'thres_for_mean': 0.72}. Best is trial 147 with value: 15.976603497139703.\n"
     ]
    },
    {
     "name": "stderr",
     "output_type": "stream",
     "text": [
      "Best trial: 147. Best value: 15.9766:  63%|██████▎   | 158/250 [20:17<11:47,  7.69s/it]"
     ]
    },
    {
     "name": "stdout",
     "output_type": "stream",
     "text": [
      "1643\n",
      "[I 2024-02-15 05:11:12,592] Trial 157 finished with value: 11.888590263629021 and parameters: {'thres_for_max': 0.5, 'thres_for_mean': 0.79}. Best is trial 147 with value: 15.976603497139703.\n"
     ]
    },
    {
     "name": "stderr",
     "output_type": "stream",
     "text": [
      "Best trial: 147. Best value: 15.9766:  64%|██████▎   | 159/250 [20:25<11:36,  7.66s/it]"
     ]
    },
    {
     "name": "stdout",
     "output_type": "stream",
     "text": [
      "1613\n",
      "[I 2024-02-15 05:11:20,183] Trial 158 finished with value: 13.0177606868819 and parameters: {'thres_for_max': 0.51, 'thres_for_mean': 0.69}. Best is trial 147 with value: 15.976603497139703.\n"
     ]
    },
    {
     "name": "stderr",
     "output_type": "stream",
     "text": [
      "Best trial: 147. Best value: 15.9766:  64%|██████▍   | 160/250 [20:32<11:30,  7.68s/it]"
     ]
    },
    {
     "name": "stdout",
     "output_type": "stream",
     "text": [
      "1581\n",
      "[I 2024-02-15 05:11:27,906] Trial 159 finished with value: 15.930106568525963 and parameters: {'thres_for_max': 0.52, 'thres_for_mean': 0.44}. Best is trial 147 with value: 15.976603497139703.\n"
     ]
    },
    {
     "name": "stderr",
     "output_type": "stream",
     "text": [
      "Best trial: 147. Best value: 15.9766:  64%|██████▍   | 161/250 [20:40<11:19,  7.64s/it]"
     ]
    },
    {
     "name": "stdout",
     "output_type": "stream",
     "text": [
      "1570\n",
      "[I 2024-02-15 05:11:35,453] Trial 160 finished with value: 14.695085526582716 and parameters: {'thres_for_max': 0.56, 'thres_for_mean': 0.39}. Best is trial 147 with value: 15.976603497139703.\n"
     ]
    },
    {
     "name": "stderr",
     "output_type": "stream",
     "text": [
      "Best trial: 147. Best value: 15.9766:  65%|██████▍   | 162/250 [20:48<11:10,  7.62s/it]"
     ]
    },
    {
     "name": "stdout",
     "output_type": "stream",
     "text": [
      "1540\n",
      "[I 2024-02-15 05:11:43,021] Trial 161 finished with value: 13.665837263453177 and parameters: {'thres_for_max': 0.54, 'thres_for_mean': 0.42}. Best is trial 147 with value: 15.976603497139703.\n"
     ]
    },
    {
     "name": "stderr",
     "output_type": "stream",
     "text": [
      "Best trial: 147. Best value: 15.9766:  65%|██████▌   | 163/250 [20:55<11:00,  7.59s/it]"
     ]
    },
    {
     "name": "stdout",
     "output_type": "stream",
     "text": [
      "1577\n",
      "[I 2024-02-15 05:11:50,554] Trial 162 finished with value: 15.790382403695185 and parameters: {'thres_for_max': 0.52, 'thres_for_mean': 0.44999999999999996}. Best is trial 147 with value: 15.976603497139703.\n"
     ]
    },
    {
     "name": "stderr",
     "output_type": "stream",
     "text": [
      "Best trial: 147. Best value: 15.9766:  66%|██████▌   | 164/250 [21:03<10:56,  7.63s/it]"
     ]
    },
    {
     "name": "stdout",
     "output_type": "stream",
     "text": [
      "1543\n",
      "[I 2024-02-15 05:11:58,282] Trial 163 finished with value: 15.48312815245669 and parameters: {'thres_for_max': 0.53, 'thres_for_mean': 0.45999999999999996}. Best is trial 147 with value: 15.976603497139703.\n"
     ]
    },
    {
     "name": "stderr",
     "output_type": "stream",
     "text": [
      "Best trial: 147. Best value: 15.9766:  66%|██████▌   | 165/250 [21:11<10:53,  7.69s/it]"
     ]
    },
    {
     "name": "stdout",
     "output_type": "stream",
     "text": [
      "1734\n",
      "[I 2024-02-15 05:12:06,093] Trial 164 finished with value: 11.664179094991479 and parameters: {'thres_for_max': 0.49, 'thres_for_mean': 0.35}. Best is trial 147 with value: 15.976603497139703.\n"
     ]
    },
    {
     "name": "stderr",
     "output_type": "stream",
     "text": [
      "Best trial: 147. Best value: 15.9766:  66%|██████▋   | 166/250 [21:18<10:49,  7.73s/it]"
     ]
    },
    {
     "name": "stdout",
     "output_type": "stream",
     "text": [
      "1648\n",
      "[I 2024-02-15 05:12:13,928] Trial 165 finished with value: 13.499247077342394 and parameters: {'thres_for_max': 0.51, 'thres_for_mean': 0.39}. Best is trial 147 with value: 15.976603497139703.\n"
     ]
    },
    {
     "name": "stderr",
     "output_type": "stream",
     "text": [
      "Best trial: 147. Best value: 15.9766:  67%|██████▋   | 167/250 [21:26<10:44,  7.77s/it]"
     ]
    },
    {
     "name": "stdout",
     "output_type": "stream",
     "text": [
      "1554\n",
      "[I 2024-02-15 05:12:21,792] Trial 166 finished with value: 15.174021503727502 and parameters: {'thres_for_max': 0.53, 'thres_for_mean': 0.43}. Best is trial 147 with value: 15.976603497139703.\n"
     ]
    },
    {
     "name": "stderr",
     "output_type": "stream",
     "text": [
      "Best trial: 147. Best value: 15.9766:  67%|██████▋   | 168/250 [21:34<10:39,  7.80s/it]"
     ]
    },
    {
     "name": "stdout",
     "output_type": "stream",
     "text": [
      "1723\n",
      "[I 2024-02-15 05:12:29,664] Trial 167 finished with value: 12.588483612606634 and parameters: {'thres_for_max': 0.47, 'thres_for_mean': 0.44999999999999996}. Best is trial 147 with value: 15.976603497139703.\n"
     ]
    },
    {
     "name": "stderr",
     "output_type": "stream",
     "text": [
      "Best trial: 147. Best value: 15.9766:  68%|██████▊   | 169/250 [21:42<10:30,  7.79s/it]"
     ]
    },
    {
     "name": "stdout",
     "output_type": "stream",
     "text": [
      "1574\n",
      "[I 2024-02-15 05:12:37,418] Trial 168 finished with value: 15.772222140744368 and parameters: {'thres_for_max': 0.52, 'thres_for_mean': 0.48}. Best is trial 147 with value: 15.976603497139703.\n"
     ]
    },
    {
     "name": "stderr",
     "output_type": "stream",
     "text": [
      "Best trial: 147. Best value: 15.9766:  68%|██████▊   | 170/250 [21:50<10:22,  7.78s/it]"
     ]
    },
    {
     "name": "stdout",
     "output_type": "stream",
     "text": [
      "1479\n",
      "[I 2024-02-15 05:12:45,196] Trial 169 finished with value: 15.053854716988758 and parameters: {'thres_for_max': 0.55, 'thres_for_mean': 0.5}. Best is trial 147 with value: 15.976603497139703.\n"
     ]
    },
    {
     "name": "stderr",
     "output_type": "stream",
     "text": [
      "Best trial: 147. Best value: 15.9766:  68%|██████▊   | 171/250 [21:57<10:14,  7.78s/it]"
     ]
    },
    {
     "name": "stdout",
     "output_type": "stream",
     "text": [
      "1412\n",
      "[I 2024-02-15 05:12:52,978] Trial 170 finished with value: 13.575592750804319 and parameters: {'thres_for_max': 0.5800000000000001, 'thres_for_mean': 0.44999999999999996}. Best is trial 147 with value: 15.976603497139703.\n"
     ]
    },
    {
     "name": "stderr",
     "output_type": "stream",
     "text": [
      "Best trial: 171. Best value: 16.0665:  69%|██████▉   | 172/250 [22:05<10:08,  7.80s/it]"
     ]
    },
    {
     "name": "stdout",
     "output_type": "stream",
     "text": [
      "1574\n",
      "[I 2024-02-15 05:13:00,811] Trial 171 finished with value: 16.06653840161493 and parameters: {'thres_for_max': 0.52, 'thres_for_mean': 0.49}. Best is trial 171 with value: 16.06653840161493.\n"
     ]
    },
    {
     "name": "stderr",
     "output_type": "stream",
     "text": [
      "Best trial: 171. Best value: 16.0665:  69%|██████▉   | 173/250 [22:13<09:58,  7.77s/it]"
     ]
    },
    {
     "name": "stdout",
     "output_type": "stream",
     "text": [
      "1643\n",
      "[I 2024-02-15 05:13:08,508] Trial 172 finished with value: 11.842189996296643 and parameters: {'thres_for_max': 0.5, 'thres_for_mean': 0.48}. Best is trial 171 with value: 16.06653840161493.\n"
     ]
    },
    {
     "name": "stderr",
     "output_type": "stream",
     "text": [
      "Best trial: 171. Best value: 16.0665:  70%|██████▉   | 174/250 [22:21<09:49,  7.76s/it]"
     ]
    },
    {
     "name": "stdout",
     "output_type": "stream",
     "text": [
      "1575\n",
      "[I 2024-02-15 05:13:16,237] Trial 173 finished with value: 15.90186034737601 and parameters: {'thres_for_max': 0.52, 'thres_for_mean': 0.47}. Best is trial 171 with value: 16.06653840161493.\n"
     ]
    },
    {
     "name": "stderr",
     "output_type": "stream",
     "text": [
      "Best trial: 171. Best value: 16.0665:  70%|███████   | 175/250 [22:28<09:40,  7.74s/it]"
     ]
    },
    {
     "name": "stdout",
     "output_type": "stream",
     "text": [
      "1613\n",
      "[I 2024-02-15 05:13:23,942] Trial 174 finished with value: 12.976839195865347 and parameters: {'thres_for_max': 0.51, 'thres_for_mean': 0.5}. Best is trial 171 with value: 16.06653840161493.\n"
     ]
    },
    {
     "name": "stderr",
     "output_type": "stream",
     "text": [
      "Best trial: 171. Best value: 16.0665:  70%|███████   | 176/250 [22:36<09:29,  7.69s/it]"
     ]
    },
    {
     "name": "stdout",
     "output_type": "stream",
     "text": [
      "1507\n",
      "[I 2024-02-15 05:13:31,524] Trial 175 finished with value: 14.145774687868261 and parameters: {'thres_for_max': 0.54, 'thres_for_mean': 0.49}. Best is trial 171 with value: 16.06653840161493.\n"
     ]
    },
    {
     "name": "stderr",
     "output_type": "stream",
     "text": [
      "Best trial: 171. Best value: 16.0665:  71%|███████   | 177/250 [22:44<09:22,  7.71s/it]"
     ]
    },
    {
     "name": "stdout",
     "output_type": "stream",
     "text": [
      "1575\n",
      "[I 2024-02-15 05:13:39,264] Trial 176 finished with value: 15.919406228593472 and parameters: {'thres_for_max': 0.52, 'thres_for_mean': 0.45999999999999996}. Best is trial 171 with value: 16.06653840161493.\n"
     ]
    },
    {
     "name": "stderr",
     "output_type": "stream",
     "text": [
      "Best trial: 171. Best value: 16.0665:  71%|███████   | 178/250 [22:51<09:13,  7.69s/it]"
     ]
    },
    {
     "name": "stdout",
     "output_type": "stream",
     "text": [
      "1676\n",
      "[I 2024-02-15 05:13:46,899] Trial 177 finished with value: 12.12199128424501 and parameters: {'thres_for_max': 0.49, 'thres_for_mean': 0.53}. Best is trial 171 with value: 16.06653840161493.\n"
     ]
    },
    {
     "name": "stderr",
     "output_type": "stream",
     "text": [
      "Best trial: 171. Best value: 16.0665:  72%|███████▏  | 179/250 [22:59<09:03,  7.66s/it]"
     ]
    },
    {
     "name": "stdout",
     "output_type": "stream",
     "text": [
      "1542\n",
      "[I 2024-02-15 05:13:54,500] Trial 178 finished with value: 15.726585165889505 and parameters: {'thres_for_max': 0.53, 'thres_for_mean': 0.47}. Best is trial 171 with value: 16.06653840161493.\n"
     ]
    },
    {
     "name": "stderr",
     "output_type": "stream",
     "text": [
      "Best trial: 171. Best value: 16.0665:  72%|███████▏  | 180/250 [23:07<08:57,  7.68s/it]"
     ]
    },
    {
     "name": "stdout",
     "output_type": "stream",
     "text": [
      "1511\n",
      "[I 2024-02-15 05:14:02,240] Trial 179 finished with value: 13.800629705355878 and parameters: {'thres_for_max': 0.54, 'thres_for_mean': 0.47}. Best is trial 171 with value: 16.06653840161493.\n"
     ]
    },
    {
     "name": "stderr",
     "output_type": "stream",
     "text": [
      "Best trial: 171. Best value: 16.0665:  72%|███████▏  | 181/250 [23:15<08:52,  7.71s/it]"
     ]
    },
    {
     "name": "stdout",
     "output_type": "stream",
     "text": [
      "1509\n",
      "[I 2024-02-15 05:14:10,020] Trial 180 finished with value: 14.594238656046208 and parameters: {'thres_for_max': 0.55, 'thres_for_mean': 0.44}. Best is trial 171 with value: 16.06653840161493.\n"
     ]
    },
    {
     "name": "stderr",
     "output_type": "stream",
     "text": [
      "Best trial: 171. Best value: 16.0665:  73%|███████▎  | 182/250 [23:22<08:46,  7.75s/it]"
     ]
    },
    {
     "name": "stdout",
     "output_type": "stream",
     "text": [
      "1543\n",
      "[I 2024-02-15 05:14:17,857] Trial 181 finished with value: 15.48312815245669 and parameters: {'thres_for_max': 0.53, 'thres_for_mean': 0.45999999999999996}. Best is trial 171 with value: 16.06653840161493.\n"
     ]
    },
    {
     "name": "stderr",
     "output_type": "stream",
     "text": [
      "Best trial: 171. Best value: 16.0665:  73%|███████▎  | 183/250 [23:30<08:40,  7.78s/it]"
     ]
    },
    {
     "name": "stdout",
     "output_type": "stream",
     "text": [
      "1575\n",
      "[I 2024-02-15 05:14:25,693] Trial 182 finished with value: 15.90186034737601 and parameters: {'thres_for_max': 0.52, 'thres_for_mean': 0.47}. Best is trial 171 with value: 16.06653840161493.\n"
     ]
    },
    {
     "name": "stderr",
     "output_type": "stream",
     "text": [
      "Best trial: 171. Best value: 16.0665:  74%|███████▎  | 184/250 [23:38<08:32,  7.77s/it]"
     ]
    },
    {
     "name": "stdout",
     "output_type": "stream",
     "text": [
      "1613\n",
      "[I 2024-02-15 05:14:33,442] Trial 183 finished with value: 12.882119477780169 and parameters: {'thres_for_max': 0.51, 'thres_for_mean': 0.48}. Best is trial 171 with value: 16.06653840161493.\n"
     ]
    },
    {
     "name": "stderr",
     "output_type": "stream",
     "text": [
      "Best trial: 171. Best value: 16.0665:  74%|███████▍  | 185/250 [23:46<08:25,  7.77s/it]"
     ]
    },
    {
     "name": "stdout",
     "output_type": "stream",
     "text": [
      "1643\n",
      "[I 2024-02-15 05:14:41,214] Trial 184 finished with value: 11.852190653707932 and parameters: {'thres_for_max': 0.5, 'thres_for_mean': 0.47}. Best is trial 171 with value: 16.06653840161493.\n"
     ]
    },
    {
     "name": "stderr",
     "output_type": "stream",
     "text": [
      "Best trial: 171. Best value: 16.0665:  74%|███████▍  | 186/250 [23:54<08:23,  7.87s/it]"
     ]
    },
    {
     "name": "stdout",
     "output_type": "stream",
     "text": [
      "1547\n",
      "[I 2024-02-15 05:14:49,318] Trial 185 finished with value: 14.77642183046485 and parameters: {'thres_for_max': 0.53, 'thres_for_mean': 0.44999999999999996}. Best is trial 171 with value: 16.06653840161493.\n"
     ]
    },
    {
     "name": "stderr",
     "output_type": "stream",
     "text": [
      "Best trial: 171. Best value: 16.0665:  75%|███████▍  | 187/250 [24:02<08:19,  7.93s/it]"
     ]
    },
    {
     "name": "stdout",
     "output_type": "stream",
     "text": [
      "1613\n",
      "[I 2024-02-15 05:14:57,384] Trial 186 finished with value: 12.753333471225563 and parameters: {'thres_for_max': 0.51, 'thres_for_mean': 0.52}. Best is trial 171 with value: 16.06653840161493.\n"
     ]
    },
    {
     "name": "stderr",
     "output_type": "stream",
     "text": [
      "Best trial: 187. Best value: 16.7815:  75%|███████▌  | 188/250 [24:10<08:18,  8.04s/it]"
     ]
    },
    {
     "name": "stdout",
     "output_type": "stream",
     "text": [
      "1598\n",
      "[I 2024-02-15 05:15:05,689] Trial 187 finished with value: 16.78147613105836 and parameters: {'thres_for_max': 0.52, 'thres_for_mean': 0.41}. Best is trial 187 with value: 16.78147613105836.\n"
     ]
    },
    {
     "name": "stderr",
     "output_type": "stream",
     "text": [
      "Best trial: 187. Best value: 16.7815:  76%|███████▌  | 189/250 [24:18<08:09,  8.03s/it]"
     ]
    },
    {
     "name": "stdout",
     "output_type": "stream",
     "text": [
      "1609\n",
      "[I 2024-02-15 05:15:13,695] Trial 188 finished with value: 15.289134009996829 and parameters: {'thres_for_max': 0.52, 'thres_for_mean': 0.4}. Best is trial 187 with value: 16.78147613105836.\n"
     ]
    },
    {
     "name": "stderr",
     "output_type": "stream",
     "text": [
      "Best trial: 187. Best value: 16.7815:  76%|███████▌  | 190/250 [24:26<07:59,  7.99s/it]"
     ]
    },
    {
     "name": "stdout",
     "output_type": "stream",
     "text": [
      "1509\n",
      "[I 2024-02-15 05:15:21,592] Trial 189 finished with value: 14.594238656046208 and parameters: {'thres_for_max': 0.55, 'thres_for_mean': 0.44}. Best is trial 187 with value: 16.78147613105836.\n"
     ]
    },
    {
     "name": "stderr",
     "output_type": "stream",
     "text": [
      "Best trial: 187. Best value: 16.7815:  76%|███████▋  | 191/250 [24:34<07:47,  7.93s/it]"
     ]
    },
    {
     "name": "stdout",
     "output_type": "stream",
     "text": [
      "1702\n",
      "[I 2024-02-15 05:15:29,380] Trial 190 finished with value: 12.094393918905618 and parameters: {'thres_for_max': 0.48, 'thres_for_mean': 0.43}. Best is trial 187 with value: 16.78147613105836.\n"
     ]
    },
    {
     "name": "stderr",
     "output_type": "stream",
     "text": [
      "Best trial: 187. Best value: 16.7815:  77%|███████▋  | 192/250 [24:42<07:39,  7.92s/it]"
     ]
    },
    {
     "name": "stdout",
     "output_type": "stream",
     "text": [
      "1640\n",
      "[I 2024-02-15 05:15:37,285] Trial 191 finished with value: 13.795268264423976 and parameters: {'thres_for_max': 0.52, 'thres_for_mean': 0.38}. Best is trial 187 with value: 16.78147613105836.\n"
     ]
    },
    {
     "name": "stderr",
     "output_type": "stream",
     "text": [
      "Best trial: 187. Best value: 16.7815:  77%|███████▋  | 193/250 [24:49<07:27,  7.85s/it]"
     ]
    },
    {
     "name": "stdout",
     "output_type": "stream",
     "text": [
      "1511\n",
      "[I 2024-02-15 05:15:44,980] Trial 192 finished with value: 13.800629705355878 and parameters: {'thres_for_max': 0.54, 'thres_for_mean': 0.47}. Best is trial 187 with value: 16.78147613105836.\n"
     ]
    },
    {
     "name": "stderr",
     "output_type": "stream",
     "text": [
      "Best trial: 187. Best value: 16.7815:  78%|███████▊  | 194/250 [24:57<07:15,  7.78s/it]"
     ]
    },
    {
     "name": "stdout",
     "output_type": "stream",
     "text": [
      "1559\n",
      "[I 2024-02-15 05:15:52,575] Trial 193 finished with value: 14.706610386233322 and parameters: {'thres_for_max': 0.53, 'thres_for_mean': 0.42}. Best is trial 187 with value: 16.78147613105836.\n"
     ]
    },
    {
     "name": "stderr",
     "output_type": "stream",
     "text": [
      "Best trial: 187. Best value: 16.7815:  78%|███████▊  | 195/250 [25:05<07:07,  7.78s/it]"
     ]
    },
    {
     "name": "stdout",
     "output_type": "stream",
     "text": [
      "1689\n",
      "[I 2024-02-15 05:16:00,350] Trial 194 finished with value: 9.88810382488805 and parameters: {'thres_for_max': 0.5, 'thres_for_mean': 0.37}. Best is trial 187 with value: 16.78147613105836.\n"
     ]
    },
    {
     "name": "stderr",
     "output_type": "stream",
     "text": [
      "Best trial: 187. Best value: 16.7815:  78%|███████▊  | 196/250 [25:12<06:57,  7.73s/it]"
     ]
    },
    {
     "name": "stdout",
     "output_type": "stream",
     "text": [
      "1574\n",
      "[I 2024-02-15 05:16:07,975] Trial 195 finished with value: 16.06653840161493 and parameters: {'thres_for_max': 0.52, 'thres_for_mean': 0.49}. Best is trial 187 with value: 16.78147613105836.\n"
     ]
    },
    {
     "name": "stderr",
     "output_type": "stream",
     "text": [
      "Best trial: 187. Best value: 16.7815:  79%|███████▉  | 197/250 [25:20<06:47,  7.68s/it]"
     ]
    },
    {
     "name": "stdout",
     "output_type": "stream",
     "text": [
      "1574\n",
      "[I 2024-02-15 05:16:15,535] Trial 196 finished with value: 16.06653840161493 and parameters: {'thres_for_max': 0.52, 'thres_for_mean': 0.49}. Best is trial 187 with value: 16.78147613105836.\n"
     ]
    },
    {
     "name": "stderr",
     "output_type": "stream",
     "text": [
      "Best trial: 187. Best value: 16.7815:  79%|███████▉  | 198/250 [25:28<06:39,  7.68s/it]"
     ]
    },
    {
     "name": "stdout",
     "output_type": "stream",
     "text": [
      "1676\n",
      "[I 2024-02-15 05:16:23,207] Trial 197 finished with value: 12.531251009700428 and parameters: {'thres_for_max': 0.49, 'thres_for_mean': 0.51}. Best is trial 187 with value: 16.78147613105836.\n"
     ]
    },
    {
     "name": "stderr",
     "output_type": "stream",
     "text": [
      "Best trial: 187. Best value: 16.7815:  80%|███████▉  | 199/250 [25:35<06:29,  7.63s/it]"
     ]
    },
    {
     "name": "stdout",
     "output_type": "stream",
     "text": [
      "1613\n",
      "[I 2024-02-15 05:16:30,742] Trial 198 finished with value: 13.115599118916778 and parameters: {'thres_for_max': 0.51, 'thres_for_mean': 0.49}. Best is trial 187 with value: 16.78147613105836.\n"
     ]
    },
    {
     "name": "stderr",
     "output_type": "stream",
     "text": [
      "Best trial: 187. Best value: 16.7815:  80%|████████  | 200/250 [25:43<06:20,  7.61s/it]"
     ]
    },
    {
     "name": "stdout",
     "output_type": "stream",
     "text": [
      "1437\n",
      "[I 2024-02-15 05:16:38,298] Trial 199 finished with value: 14.964810894166977 and parameters: {'thres_for_max': 0.56, 'thres_for_mean': 0.5}. Best is trial 187 with value: 16.78147613105836.\n"
     ]
    },
    {
     "name": "stderr",
     "output_type": "stream",
     "text": [
      "Best trial: 187. Best value: 16.7815:  80%|████████  | 201/250 [25:50<06:13,  7.63s/it]"
     ]
    },
    {
     "name": "stdout",
     "output_type": "stream",
     "text": [
      "1539\n",
      "[I 2024-02-15 05:16:45,965] Trial 200 finished with value: 15.343720449396391 and parameters: {'thres_for_max': 0.53, 'thres_for_mean': 0.55}. Best is trial 187 with value: 16.78147613105836.\n"
     ]
    },
    {
     "name": "stderr",
     "output_type": "stream",
     "text": [
      "Best trial: 187. Best value: 16.7815:  81%|████████  | 202/250 [25:58<06:07,  7.66s/it]"
     ]
    },
    {
     "name": "stdout",
     "output_type": "stream",
     "text": [
      "1574\n",
      "[I 2024-02-15 05:16:53,689] Trial 201 finished with value: 15.772222140744368 and parameters: {'thres_for_max': 0.52, 'thres_for_mean': 0.48}. Best is trial 187 with value: 16.78147613105836.\n"
     ]
    },
    {
     "name": "stderr",
     "output_type": "stream",
     "text": [
      "Best trial: 187. Best value: 16.7815:  81%|████████  | 203/250 [26:06<06:03,  7.74s/it]"
     ]
    },
    {
     "name": "stdout",
     "output_type": "stream",
     "text": [
      "1643\n",
      "[I 2024-02-15 05:17:01,630] Trial 202 finished with value: 11.842189996296643 and parameters: {'thres_for_max': 0.5, 'thres_for_mean': 0.48}. Best is trial 187 with value: 16.78147613105836.\n"
     ]
    },
    {
     "name": "stderr",
     "output_type": "stream",
     "text": [
      "Best trial: 187. Best value: 16.7815:  82%|████████▏ | 204/250 [26:14<05:57,  7.77s/it]"
     ]
    },
    {
     "name": "stdout",
     "output_type": "stream",
     "text": [
      "1575\n",
      "[I 2024-02-15 05:17:09,450] Trial 203 finished with value: 15.919406228593472 and parameters: {'thres_for_max': 0.52, 'thres_for_mean': 0.45999999999999996}. Best is trial 187 with value: 16.78147613105836.\n"
     ]
    },
    {
     "name": "stderr",
     "output_type": "stream",
     "text": [
      "Best trial: 187. Best value: 16.7815:  82%|████████▏ | 205/250 [26:22<05:48,  7.75s/it]"
     ]
    },
    {
     "name": "stdout",
     "output_type": "stream",
     "text": [
      "1149\n",
      "[I 2024-02-15 05:17:17,155] Trial 204 finished with value: 11.584579614616109 and parameters: {'thres_for_max': 0.78, 'thres_for_mean': 0.47}. Best is trial 187 with value: 16.78147613105836.\n"
     ]
    },
    {
     "name": "stderr",
     "output_type": "stream",
     "text": [
      "Best trial: 187. Best value: 16.7815:  82%|████████▏ | 206/250 [26:29<05:40,  7.75s/it]"
     ]
    },
    {
     "name": "stdout",
     "output_type": "stream",
     "text": [
      "1528\n",
      "[I 2024-02-15 05:17:24,908] Trial 205 finished with value: 13.680532467501335 and parameters: {'thres_for_max': 0.54, 'thres_for_mean': 0.44}. Best is trial 187 with value: 16.78147613105836.\n"
     ]
    },
    {
     "name": "stderr",
     "output_type": "stream",
     "text": [
      "Best trial: 187. Best value: 16.7815:  83%|████████▎ | 207/250 [26:37<05:33,  7.76s/it]"
     ]
    },
    {
     "name": "stdout",
     "output_type": "stream",
     "text": [
      "1613\n",
      "[I 2024-02-15 05:17:32,689] Trial 206 finished with value: 13.115599118916778 and parameters: {'thres_for_max': 0.51, 'thres_for_mean': 0.49}. Best is trial 187 with value: 16.78147613105836.\n"
     ]
    },
    {
     "name": "stderr",
     "output_type": "stream",
     "text": [
      "Best trial: 187. Best value: 16.7815:  83%|████████▎ | 208/250 [26:45<05:24,  7.73s/it]"
     ]
    },
    {
     "name": "stdout",
     "output_type": "stream",
     "text": [
      "1575\n",
      "[I 2024-02-15 05:17:40,347] Trial 207 finished with value: 15.919406228593472 and parameters: {'thres_for_max': 0.52, 'thres_for_mean': 0.45999999999999996}. Best is trial 187 with value: 16.78147613105836.\n"
     ]
    },
    {
     "name": "stderr",
     "output_type": "stream",
     "text": [
      "Best trial: 187. Best value: 16.7815:  84%|████████▎ | 209/250 [26:53<05:17,  7.75s/it]"
     ]
    },
    {
     "name": "stdout",
     "output_type": "stream",
     "text": [
      "1615\n",
      "[I 2024-02-15 05:17:48,153] Trial 208 finished with value: 12.997704800439719 and parameters: {'thres_for_max': 0.51, 'thres_for_mean': 0.44999999999999996}. Best is trial 187 with value: 16.78147613105836.\n"
     ]
    },
    {
     "name": "stderr",
     "output_type": "stream",
     "text": [
      "Best trial: 187. Best value: 16.7815:  84%|████████▍ | 210/250 [27:00<05:10,  7.76s/it]"
     ]
    },
    {
     "name": "stdout",
     "output_type": "stream",
     "text": [
      "1575\n",
      "[I 2024-02-15 05:17:55,942] Trial 209 finished with value: 15.919406228593472 and parameters: {'thres_for_max': 0.52, 'thres_for_mean': 0.45999999999999996}. Best is trial 187 with value: 16.78147613105836.\n"
     ]
    },
    {
     "name": "stderr",
     "output_type": "stream",
     "text": [
      "Best trial: 187. Best value: 16.7815:  84%|████████▍ | 211/250 [27:08<05:02,  7.76s/it]"
     ]
    },
    {
     "name": "stdout",
     "output_type": "stream",
     "text": [
      "1575\n",
      "[I 2024-02-15 05:18:03,684] Trial 210 finished with value: 15.919406228593472 and parameters: {'thres_for_max': 0.52, 'thres_for_mean': 0.45999999999999996}. Best is trial 187 with value: 16.78147613105836.\n"
     ]
    },
    {
     "name": "stderr",
     "output_type": "stream",
     "text": [
      "Best trial: 187. Best value: 16.7815:  85%|████████▍ | 212/250 [27:16<04:55,  7.79s/it]"
     ]
    },
    {
     "name": "stdout",
     "output_type": "stream",
     "text": [
      "1575\n",
      "[I 2024-02-15 05:18:11,548] Trial 211 finished with value: 15.919406228593472 and parameters: {'thres_for_max': 0.52, 'thres_for_mean': 0.45999999999999996}. Best is trial 187 with value: 16.78147613105836.\n"
     ]
    },
    {
     "name": "stderr",
     "output_type": "stream",
     "text": [
      "Best trial: 187. Best value: 16.7815:  85%|████████▌ | 213/250 [27:24<04:52,  7.91s/it]"
     ]
    },
    {
     "name": "stdout",
     "output_type": "stream",
     "text": [
      "1575\n",
      "[I 2024-02-15 05:18:19,738] Trial 212 finished with value: 15.919406228593472 and parameters: {'thres_for_max': 0.52, 'thres_for_mean': 0.45999999999999996}. Best is trial 187 with value: 16.78147613105836.\n"
     ]
    },
    {
     "name": "stderr",
     "output_type": "stream",
     "text": [
      "Best trial: 187. Best value: 16.7815:  86%|████████▌ | 214/250 [27:32<04:48,  8.00s/it]"
     ]
    },
    {
     "name": "stdout",
     "output_type": "stream",
     "text": [
      "1643\n",
      "[I 2024-02-15 05:18:27,960] Trial 213 finished with value: 11.87003166473188 and parameters: {'thres_for_max': 0.5, 'thres_for_mean': 0.45999999999999996}. Best is trial 187 with value: 16.78147613105836.\n"
     ]
    },
    {
     "name": "stderr",
     "output_type": "stream",
     "text": [
      "Best trial: 187. Best value: 16.7815:  86%|████████▌ | 215/250 [27:41<04:43,  8.09s/it]"
     ]
    },
    {
     "name": "stdout",
     "output_type": "stream",
     "text": [
      "1575\n",
      "[I 2024-02-15 05:18:36,269] Trial 214 finished with value: 15.919406228593472 and parameters: {'thres_for_max': 0.52, 'thres_for_mean': 0.45999999999999996}. Best is trial 187 with value: 16.78147613105836.\n"
     ]
    },
    {
     "name": "stderr",
     "output_type": "stream",
     "text": [
      "Best trial: 187. Best value: 16.7815:  86%|████████▋ | 216/250 [27:49<04:38,  8.20s/it]"
     ]
    },
    {
     "name": "stdout",
     "output_type": "stream",
     "text": [
      "1584\n",
      "[I 2024-02-15 05:18:44,712] Trial 215 finished with value: 15.969681438877275 and parameters: {'thres_for_max': 0.52, 'thres_for_mean': 0.43}. Best is trial 187 with value: 16.78147613105836.\n"
     ]
    },
    {
     "name": "stderr",
     "output_type": "stream",
     "text": [
      "Best trial: 187. Best value: 16.7815:  87%|████████▋ | 217/250 [27:57<04:28,  8.13s/it]"
     ]
    },
    {
     "name": "stdout",
     "output_type": "stream",
     "text": [
      "1532\n",
      "[I 2024-02-15 05:18:52,696] Trial 216 finished with value: 13.994549219973086 and parameters: {'thres_for_max': 0.54, 'thres_for_mean': 0.43}. Best is trial 187 with value: 16.78147613105836.\n"
     ]
    },
    {
     "name": "stderr",
     "output_type": "stream",
     "text": [
      "Best trial: 187. Best value: 16.7815:  87%|████████▋ | 218/250 [28:05<04:17,  8.06s/it]"
     ]
    },
    {
     "name": "stdout",
     "output_type": "stream",
     "text": [
      "1577\n",
      "[I 2024-02-15 05:19:00,582] Trial 217 finished with value: 15.790382403695185 and parameters: {'thres_for_max': 0.52, 'thres_for_mean': 0.44999999999999996}. Best is trial 187 with value: 16.78147613105836.\n"
     ]
    },
    {
     "name": "stderr",
     "output_type": "stream",
     "text": [
      "Best trial: 187. Best value: 16.7815:  88%|████████▊ | 219/250 [28:13<04:07,  7.98s/it]"
     ]
    },
    {
     "name": "stdout",
     "output_type": "stream",
     "text": [
      "1547\n",
      "[I 2024-02-15 05:19:08,379] Trial 218 finished with value: 14.77642183046485 and parameters: {'thres_for_max': 0.53, 'thres_for_mean': 0.44999999999999996}. Best is trial 187 with value: 16.78147613105836.\n"
     ]
    },
    {
     "name": "stderr",
     "output_type": "stream",
     "text": [
      "Best trial: 187. Best value: 16.7815:  88%|████████▊ | 220/250 [28:21<03:58,  7.94s/it]"
     ]
    },
    {
     "name": "stdout",
     "output_type": "stream",
     "text": [
      "1629\n",
      "[I 2024-02-15 05:19:16,226] Trial 219 finished with value: 13.921128066550583 and parameters: {'thres_for_max': 0.51, 'thres_for_mean': 0.41}. Best is trial 187 with value: 16.78147613105836.\n"
     ]
    },
    {
     "name": "stderr",
     "output_type": "stream",
     "text": [
      "Best trial: 187. Best value: 16.7815:  88%|████████▊ | 221/250 [28:29<03:49,  7.90s/it]"
     ]
    },
    {
     "name": "stdout",
     "output_type": "stream",
     "text": [
      "1676\n",
      "[I 2024-02-15 05:19:24,024] Trial 220 finished with value: 12.4563671718381 and parameters: {'thres_for_max': 0.49, 'thres_for_mean': 0.45999999999999996}. Best is trial 187 with value: 16.78147613105836.\n"
     ]
    },
    {
     "name": "stderr",
     "output_type": "stream",
     "text": [
      "Best trial: 187. Best value: 16.7815:  89%|████████▉ | 222/250 [28:36<03:40,  7.87s/it]"
     ]
    },
    {
     "name": "stdout",
     "output_type": "stream",
     "text": [
      "1581\n",
      "[I 2024-02-15 05:19:31,816] Trial 221 finished with value: 15.930106568525963 and parameters: {'thres_for_max': 0.52, 'thres_for_mean': 0.44}. Best is trial 187 with value: 16.78147613105836.\n"
     ]
    },
    {
     "name": "stderr",
     "output_type": "stream",
     "text": [
      "Best trial: 187. Best value: 16.7815:  89%|████████▉ | 223/250 [28:44<03:30,  7.80s/it]"
     ]
    },
    {
     "name": "stdout",
     "output_type": "stream",
     "text": [
      "1581\n",
      "[I 2024-02-15 05:19:39,478] Trial 222 finished with value: 15.930106568525963 and parameters: {'thres_for_max': 0.52, 'thres_for_mean': 0.44}. Best is trial 187 with value: 16.78147613105836.\n"
     ]
    },
    {
     "name": "stderr",
     "output_type": "stream",
     "text": [
      "Best trial: 187. Best value: 16.7815:  90%|████████▉ | 224/250 [28:52<03:21,  7.76s/it]"
     ]
    },
    {
     "name": "stdout",
     "output_type": "stream",
     "text": [
      "1617\n",
      "[I 2024-02-15 05:19:47,128] Trial 223 finished with value: 12.77762604384397 and parameters: {'thres_for_max': 0.51, 'thres_for_mean': 0.44}. Best is trial 187 with value: 16.78147613105836.\n"
     ]
    },
    {
     "name": "stderr",
     "output_type": "stream",
     "text": [
      "Best trial: 187. Best value: 16.7815:  90%|█████████ | 225/250 [28:59<03:12,  7.71s/it]"
     ]
    },
    {
     "name": "stdout",
     "output_type": "stream",
     "text": [
      "1559\n",
      "[I 2024-02-15 05:19:54,733] Trial 224 finished with value: 14.706610386233322 and parameters: {'thres_for_max': 0.53, 'thres_for_mean': 0.42}. Best is trial 187 with value: 16.78147613105836.\n"
     ]
    },
    {
     "name": "stderr",
     "output_type": "stream",
     "text": [
      "Best trial: 187. Best value: 16.7815:  90%|█████████ | 226/250 [29:07<03:04,  7.70s/it]"
     ]
    },
    {
     "name": "stdout",
     "output_type": "stream",
     "text": [
      "1644\n",
      "[I 2024-02-15 05:20:02,397] Trial 225 finished with value: 11.830567261521402 and parameters: {'thres_for_max': 0.5, 'thres_for_mean': 0.44999999999999996}. Best is trial 187 with value: 16.78147613105836.\n"
     ]
    },
    {
     "name": "stderr",
     "output_type": "stream",
     "text": [
      "Best trial: 187. Best value: 16.7815:  91%|█████████ | 227/250 [29:15<02:56,  7.67s/it]"
     ]
    },
    {
     "name": "stdout",
     "output_type": "stream",
     "text": [
      "1513\n",
      "[I 2024-02-15 05:20:10,001] Trial 226 finished with value: 13.74886718338012 and parameters: {'thres_for_max': 0.54, 'thres_for_mean': 0.45999999999999996}. Best is trial 187 with value: 16.78147613105836.\n"
     ]
    },
    {
     "name": "stderr",
     "output_type": "stream",
     "text": [
      "Best trial: 187. Best value: 16.7815:  91%|█████████ | 228/250 [29:22<02:49,  7.71s/it]"
     ]
    },
    {
     "name": "stdout",
     "output_type": "stream",
     "text": [
      "1584\n",
      "[I 2024-02-15 05:20:17,804] Trial 227 finished with value: 15.969681438877275 and parameters: {'thres_for_max': 0.52, 'thres_for_mean': 0.43}. Best is trial 187 with value: 16.78147613105836.\n"
     ]
    },
    {
     "name": "stderr",
     "output_type": "stream",
     "text": [
      "Best trial: 187. Best value: 16.7815:  92%|█████████▏| 229/250 [29:30<02:41,  7.70s/it]"
     ]
    },
    {
     "name": "stdout",
     "output_type": "stream",
     "text": [
      "1617\n",
      "[I 2024-02-15 05:20:25,496] Trial 228 finished with value: 12.77762604384397 and parameters: {'thres_for_max': 0.51, 'thres_for_mean': 0.44}. Best is trial 187 with value: 16.78147613105836.\n"
     ]
    },
    {
     "name": "stderr",
     "output_type": "stream",
     "text": [
      "Best trial: 187. Best value: 16.7815:  92%|█████████▏| 230/250 [29:38<02:33,  7.68s/it]"
     ]
    },
    {
     "name": "stdout",
     "output_type": "stream",
     "text": [
      "1513\n",
      "[I 2024-02-15 05:20:33,135] Trial 229 finished with value: 15.037396554493599 and parameters: {'thres_for_max': 0.55, 'thres_for_mean': 0.43}. Best is trial 187 with value: 16.78147613105836.\n"
     ]
    },
    {
     "name": "stderr",
     "output_type": "stream",
     "text": [
      "Best trial: 187. Best value: 16.7815:  92%|█████████▏| 231/250 [29:45<02:26,  7.70s/it]"
     ]
    },
    {
     "name": "stdout",
     "output_type": "stream",
     "text": [
      "1589\n",
      "[I 2024-02-15 05:20:40,877] Trial 230 finished with value: 14.149910643892811 and parameters: {'thres_for_max': 0.53, 'thres_for_mean': 0.4}. Best is trial 187 with value: 16.78147613105836.\n"
     ]
    },
    {
     "name": "stderr",
     "output_type": "stream",
     "text": [
      "Best trial: 187. Best value: 16.7815:  93%|█████████▎| 232/250 [29:53<02:18,  7.71s/it]"
     ]
    },
    {
     "name": "stdout",
     "output_type": "stream",
     "text": [
      "1575\n",
      "[I 2024-02-15 05:20:48,613] Trial 231 finished with value: 15.90186034737601 and parameters: {'thres_for_max': 0.52, 'thres_for_mean': 0.47}. Best is trial 187 with value: 16.78147613105836.\n"
     ]
    },
    {
     "name": "stderr",
     "output_type": "stream",
     "text": [
      "Best trial: 187. Best value: 16.7815:  93%|█████████▎| 233/250 [30:01<02:11,  7.71s/it]"
     ]
    },
    {
     "name": "stdout",
     "output_type": "stream",
     "text": [
      "1575\n",
      "[I 2024-02-15 05:20:56,319] Trial 232 finished with value: 15.919406228593472 and parameters: {'thres_for_max': 0.52, 'thres_for_mean': 0.45999999999999996}. Best is trial 187 with value: 16.78147613105836.\n"
     ]
    },
    {
     "name": "stderr",
     "output_type": "stream",
     "text": [
      "Best trial: 187. Best value: 16.7815:  94%|█████████▎| 234/250 [30:09<02:04,  7.76s/it]"
     ]
    },
    {
     "name": "stdout",
     "output_type": "stream",
     "text": [
      "1575\n",
      "[I 2024-02-15 05:21:04,203] Trial 233 finished with value: 15.919406228593472 and parameters: {'thres_for_max': 0.52, 'thres_for_mean': 0.45999999999999996}. Best is trial 187 with value: 16.78147613105836.\n"
     ]
    },
    {
     "name": "stderr",
     "output_type": "stream",
     "text": [
      "Best trial: 187. Best value: 16.7815:  94%|█████████▍| 235/250 [30:17<01:56,  7.79s/it]"
     ]
    },
    {
     "name": "stdout",
     "output_type": "stream",
     "text": [
      "1643\n",
      "[I 2024-02-15 05:21:12,048] Trial 234 finished with value: 11.852190653707932 and parameters: {'thres_for_max': 0.5, 'thres_for_mean': 0.47}. Best is trial 187 with value: 16.78147613105836.\n"
     ]
    },
    {
     "name": "stderr",
     "output_type": "stream",
     "text": [
      "Best trial: 187. Best value: 16.7815:  94%|█████████▍| 236/250 [30:24<01:49,  7.80s/it]"
     ]
    },
    {
     "name": "stdout",
     "output_type": "stream",
     "text": [
      "1532\n",
      "[I 2024-02-15 05:21:19,879] Trial 235 finished with value: 13.994549219973086 and parameters: {'thres_for_max': 0.54, 'thres_for_mean': 0.43}. Best is trial 187 with value: 16.78147613105836.\n"
     ]
    },
    {
     "name": "stderr",
     "output_type": "stream",
     "text": [
      "Best trial: 187. Best value: 16.7815:  95%|█████████▍| 237/250 [30:32<01:41,  7.81s/it]"
     ]
    },
    {
     "name": "stdout",
     "output_type": "stream",
     "text": [
      "1613\n",
      "[I 2024-02-15 05:21:27,696] Trial 236 finished with value: 12.883915155641757 and parameters: {'thres_for_max': 0.51, 'thres_for_mean': 0.45999999999999996}. Best is trial 187 with value: 16.78147613105836.\n"
     ]
    },
    {
     "name": "stderr",
     "output_type": "stream",
     "text": [
      "Best trial: 187. Best value: 16.7815:  95%|█████████▌| 238/250 [30:40<01:33,  7.78s/it]"
     ]
    },
    {
     "name": "stdout",
     "output_type": "stream",
     "text": [
      "1573\n",
      "[I 2024-02-15 05:21:35,412] Trial 237 finished with value: 16.114234524312014 and parameters: {'thres_for_max': 0.53, 'thres_for_mean': 0.41}. Best is trial 187 with value: 16.78147613105836.\n"
     ]
    },
    {
     "name": "stderr",
     "output_type": "stream",
     "text": [
      "Best trial: 187. Best value: 16.7815:  96%|█████████▌| 239/250 [30:48<01:25,  7.77s/it]"
     ]
    },
    {
     "name": "stdout",
     "output_type": "stream",
     "text": [
      "1654\n",
      "[I 2024-02-15 05:21:43,175] Trial 238 finished with value: 10.749550781615469 and parameters: {'thres_for_max': 0.5, 'thres_for_mean': 0.4}. Best is trial 187 with value: 16.78147613105836.\n"
     ]
    },
    {
     "name": "stderr",
     "output_type": "stream",
     "text": [
      "Best trial: 187. Best value: 16.7815:  96%|█████████▌| 240/250 [30:55<01:17,  7.79s/it]"
     ]
    },
    {
     "name": "stdout",
     "output_type": "stream",
     "text": [
      "1540\n",
      "[I 2024-02-15 05:21:50,988] Trial 239 finished with value: 13.665837263453177 and parameters: {'thres_for_max': 0.54, 'thres_for_mean': 0.42}. Best is trial 187 with value: 16.78147613105836.\n"
     ]
    },
    {
     "name": "stderr",
     "output_type": "stream",
     "text": [
      "Best trial: 187. Best value: 16.7815:  96%|█████████▋| 241/250 [31:03<01:09,  7.77s/it]"
     ]
    },
    {
     "name": "stdout",
     "output_type": "stream",
     "text": [
      "1573\n",
      "[I 2024-02-15 05:21:58,737] Trial 240 finished with value: 16.114234524312014 and parameters: {'thres_for_max': 0.53, 'thres_for_mean': 0.41}. Best is trial 187 with value: 16.78147613105836.\n"
     ]
    },
    {
     "name": "stderr",
     "output_type": "stream",
     "text": [
      "Best trial: 187. Best value: 16.7815:  97%|█████████▋| 242/250 [31:11<01:02,  7.79s/it]"
     ]
    },
    {
     "name": "stdout",
     "output_type": "stream",
     "text": [
      "1559\n",
      "[I 2024-02-15 05:22:06,552] Trial 241 finished with value: 14.706610386233322 and parameters: {'thres_for_max': 0.53, 'thres_for_mean': 0.42}. Best is trial 187 with value: 16.78147613105836.\n"
     ]
    },
    {
     "name": "stderr",
     "output_type": "stream",
     "text": [
      "Best trial: 187. Best value: 16.7815:  97%|█████████▋| 243/250 [31:19<00:54,  7.79s/it]"
     ]
    },
    {
     "name": "stdout",
     "output_type": "stream",
     "text": [
      "1581\n",
      "[I 2024-02-15 05:22:14,344] Trial 242 finished with value: 15.930106568525963 and parameters: {'thres_for_max': 0.52, 'thres_for_mean': 0.44}. Best is trial 187 with value: 16.78147613105836.\n"
     ]
    },
    {
     "name": "stderr",
     "output_type": "stream",
     "text": [
      "Best trial: 187. Best value: 16.7815:  98%|█████████▊| 244/250 [31:27<00:46,  7.79s/it]"
     ]
    },
    {
     "name": "stdout",
     "output_type": "stream",
     "text": [
      "1573\n",
      "[I 2024-02-15 05:22:22,135] Trial 243 finished with value: 16.114234524312014 and parameters: {'thres_for_max': 0.53, 'thres_for_mean': 0.41}. Best is trial 187 with value: 16.78147613105836.\n"
     ]
    },
    {
     "name": "stderr",
     "output_type": "stream",
     "text": [
      "Best trial: 187. Best value: 16.7815:  98%|█████████▊| 245/250 [31:34<00:38,  7.74s/it]"
     ]
    },
    {
     "name": "stdout",
     "output_type": "stream",
     "text": [
      "1554\n",
      "[I 2024-02-15 05:22:29,767] Trial 244 finished with value: 14.975050727077374 and parameters: {'thres_for_max': 0.54, 'thres_for_mean': 0.41}. Best is trial 187 with value: 16.78147613105836.\n"
     ]
    },
    {
     "name": "stderr",
     "output_type": "stream",
     "text": [
      "Best trial: 187. Best value: 16.7815:  98%|█████████▊| 246/250 [31:42<00:30,  7.71s/it]"
     ]
    },
    {
     "name": "stdout",
     "output_type": "stream",
     "text": [
      "1554\n",
      "[I 2024-02-15 05:22:37,388] Trial 245 finished with value: 15.174021503727502 and parameters: {'thres_for_max': 0.53, 'thres_for_mean': 0.43}. Best is trial 187 with value: 16.78147613105836.\n"
     ]
    },
    {
     "name": "stderr",
     "output_type": "stream",
     "text": [
      "Best trial: 187. Best value: 16.7815:  99%|█████████▉| 247/250 [31:50<00:23,  7.68s/it]"
     ]
    },
    {
     "name": "stdout",
     "output_type": "stream",
     "text": [
      "1629\n",
      "[I 2024-02-15 05:22:45,020] Trial 246 finished with value: 13.921128066550583 and parameters: {'thres_for_max': 0.51, 'thres_for_mean': 0.41}. Best is trial 187 with value: 16.78147613105836.\n"
     ]
    },
    {
     "name": "stderr",
     "output_type": "stream",
     "text": [
      "Best trial: 187. Best value: 16.7815:  99%|█████████▉| 248/250 [31:57<00:15,  7.68s/it]"
     ]
    },
    {
     "name": "stdout",
     "output_type": "stream",
     "text": [
      "1509\n",
      "[I 2024-02-15 05:22:52,689] Trial 247 finished with value: 14.594238656046208 and parameters: {'thres_for_max': 0.55, 'thres_for_mean': 0.44}. Best is trial 187 with value: 16.78147613105836.\n"
     ]
    },
    {
     "name": "stderr",
     "output_type": "stream",
     "text": [
      "Best trial: 187. Best value: 16.7815: 100%|█████████▉| 249/250 [32:05<00:07,  7.73s/it]"
     ]
    },
    {
     "name": "stdout",
     "output_type": "stream",
     "text": [
      "1640\n",
      "[I 2024-02-15 05:23:00,523] Trial 248 finished with value: 13.795268264423976 and parameters: {'thres_for_max': 0.52, 'thres_for_mean': 0.38}. Best is trial 187 with value: 16.78147613105836.\n"
     ]
    },
    {
     "name": "stderr",
     "output_type": "stream",
     "text": [
      "Best trial: 187. Best value: 16.7815: 100%|██████████| 250/250 [32:13<00:00,  7.73s/it]"
     ]
    },
    {
     "name": "stdout",
     "output_type": "stream",
     "text": [
      "1870\n",
      "[I 2024-02-15 05:23:08,389] Trial 249 finished with value: 12.712661191211652 and parameters: {'thres_for_max': 0.32, 'thres_for_mean': 0.4}. Best is trial 187 with value: 16.78147613105836.\n"
     ]
    },
    {
     "name": "stderr",
     "output_type": "stream",
     "text": [
      "\n",
      "[I 2024-02-15 05:23:08,706] A new study created in memory with name: best_combi_of_thres_float_rtn_3\n",
      "Best trial: 0. Best value: 10.4978:   0%|          | 1/250 [00:08<33:43,  8.12s/it]"
     ]
    },
    {
     "name": "stdout",
     "output_type": "stream",
     "text": [
      "1845\n",
      "[I 2024-02-15 05:23:16,831] Trial 0 finished with value: 10.497767043385595 and parameters: {'thres_for_max': 0.44, 'thres_for_mean': 0.47}. Best is trial 0 with value: 10.497767043385595.\n"
     ]
    },
    {
     "name": "stderr",
     "output_type": "stream",
     "text": [
      "Best trial: 1. Best value: 10.9187:   1%|          | 2/250 [00:16<33:00,  7.99s/it]"
     ]
    },
    {
     "name": "stdout",
     "output_type": "stream",
     "text": [
      "1767\n",
      "[I 2024-02-15 05:23:24,723] Trial 1 finished with value: 10.918726949412102 and parameters: {'thres_for_max': 0.51, 'thres_for_mean': 0.59}. Best is trial 1 with value: 10.918726949412102.\n"
     ]
    },
    {
     "name": "stderr",
     "output_type": "stream",
     "text": [
      "Best trial: 1. Best value: 10.9187:   1%|          | 3/250 [00:23<32:23,  7.87s/it]"
     ]
    },
    {
     "name": "stdout",
     "output_type": "stream",
     "text": [
      "1731\n",
      "[I 2024-02-15 05:23:32,451] Trial 2 finished with value: 10.766869227959948 and parameters: {'thres_for_max': 0.69, 'thres_for_mean': 0.39}. Best is trial 1 with value: 10.918726949412102.\n"
     ]
    },
    {
     "name": "stderr",
     "output_type": "stream",
     "text": [
      "Best trial: 3. Best value: 15.1224:   2%|▏         | 4/250 [00:31<32:20,  7.89s/it]"
     ]
    },
    {
     "name": "stdout",
     "output_type": "stream",
     "text": [
      "1871\n",
      "[I 2024-02-15 05:23:40,366] Trial 3 finished with value: 15.122418761529628 and parameters: {'thres_for_max': 0.32, 'thres_for_mean': 0.74}. Best is trial 3 with value: 15.122418761529628.\n"
     ]
    },
    {
     "name": "stderr",
     "output_type": "stream",
     "text": [
      "Best trial: 3. Best value: 15.1224:   2%|▏         | 5/250 [00:39<31:56,  7.82s/it]"
     ]
    },
    {
     "name": "stdout",
     "output_type": "stream",
     "text": [
      "1373\n",
      "[I 2024-02-15 05:23:48,071] Trial 4 finished with value: 8.717330239496265 and parameters: {'thres_for_max': 0.6599999999999999, 'thres_for_mean': 0.77}. Best is trial 3 with value: 15.122418761529628.\n"
     ]
    },
    {
     "name": "stderr",
     "output_type": "stream",
     "text": [
      "Best trial: 3. Best value: 15.1224:   2%|▏         | 6/250 [00:47<31:38,  7.78s/it]"
     ]
    },
    {
     "name": "stdout",
     "output_type": "stream",
     "text": [
      "1868\n",
      "[I 2024-02-15 05:23:55,769] Trial 5 finished with value: 13.466718482178504 and parameters: {'thres_for_max': 0.36, 'thres_for_mean': 0.6599999999999999}. Best is trial 3 with value: 15.122418761529628.\n"
     ]
    },
    {
     "name": "stderr",
     "output_type": "stream",
     "text": [
      "Best trial: 3. Best value: 15.1224:   3%|▎         | 7/250 [00:54<31:27,  7.77s/it]"
     ]
    },
    {
     "name": "stdout",
     "output_type": "stream",
     "text": [
      "1330\n",
      "[I 2024-02-15 05:24:03,507] Trial 6 finished with value: 7.50276333485382 and parameters: {'thres_for_max': 0.8200000000000001, 'thres_for_mean': 0.52}. Best is trial 3 with value: 15.122418761529628.\n"
     ]
    },
    {
     "name": "stderr",
     "output_type": "stream",
     "text": [
      "Best trial: 3. Best value: 15.1224:   3%|▎         | 8/250 [01:02<31:15,  7.75s/it]"
     ]
    },
    {
     "name": "stdout",
     "output_type": "stream",
     "text": [
      "1707\n",
      "[I 2024-02-15 05:24:11,222] Trial 7 finished with value: 11.196037018066741 and parameters: {'thres_for_max': 0.8200000000000001, 'thres_for_mean': 0.4}. Best is trial 3 with value: 15.122418761529628.\n"
     ]
    },
    {
     "name": "stderr",
     "output_type": "stream",
     "text": [
      "Best trial: 3. Best value: 15.1224:   4%|▎         | 9/250 [01:10<30:54,  7.69s/it]"
     ]
    },
    {
     "name": "stdout",
     "output_type": "stream",
     "text": [
      "659\n",
      "[I 2024-02-15 05:24:18,792] Trial 8 finished with value: 6.298596657859129 and parameters: {'thres_for_max': 0.81, 'thres_for_mean': 0.8700000000000001}. Best is trial 3 with value: 15.122418761529628.\n"
     ]
    },
    {
     "name": "stderr",
     "output_type": "stream",
     "text": [
      "Best trial: 3. Best value: 15.1224:   4%|▍         | 10/250 [01:17<30:41,  7.67s/it]"
     ]
    },
    {
     "name": "stdout",
     "output_type": "stream",
     "text": [
      "1732\n",
      "[I 2024-02-15 05:24:26,421] Trial 9 finished with value: 11.225669614976947 and parameters: {'thres_for_max': 0.53, 'thres_for_mean': 0.75}. Best is trial 3 with value: 15.122418761529628.\n"
     ]
    },
    {
     "name": "stderr",
     "output_type": "stream",
     "text": [
      "Best trial: 3. Best value: 15.1224:   4%|▍         | 11/250 [01:25<30:41,  7.70s/it]"
     ]
    },
    {
     "name": "stdout",
     "output_type": "stream",
     "text": [
      "1871\n",
      "[I 2024-02-15 05:24:34,192] Trial 10 finished with value: 15.039654304090618 and parameters: {'thres_for_max': 0.32, 'thres_for_mean': 0.8999999999999999}. Best is trial 3 with value: 15.122418761529628.\n"
     ]
    },
    {
     "name": "stderr",
     "output_type": "stream",
     "text": [
      "Best trial: 3. Best value: 15.1224:   5%|▍         | 12/250 [01:33<30:36,  7.72s/it]"
     ]
    },
    {
     "name": "stdout",
     "output_type": "stream",
     "text": [
      "1872\n",
      "[I 2024-02-15 05:24:41,942] Trial 11 finished with value: 15.11733387612159 and parameters: {'thres_for_max': 0.31, 'thres_for_mean': 0.8899999999999999}. Best is trial 3 with value: 15.122418761529628.\n"
     ]
    },
    {
     "name": "stderr",
     "output_type": "stream",
     "text": [
      "Best trial: 3. Best value: 15.1224:   5%|▌         | 13/250 [01:41<30:36,  7.75s/it]"
     ]
    },
    {
     "name": "stdout",
     "output_type": "stream",
     "text": [
      "1872\n",
      "[I 2024-02-15 05:24:49,757] Trial 12 finished with value: 14.720716501696455 and parameters: {'thres_for_max': 0.3, 'thres_for_mean': 0.75}. Best is trial 3 with value: 15.122418761529628.\n"
     ]
    },
    {
     "name": "stderr",
     "output_type": "stream",
     "text": [
      "Best trial: 3. Best value: 15.1224:   6%|▌         | 14/250 [01:48<30:25,  7.74s/it]"
     ]
    },
    {
     "name": "stdout",
     "output_type": "stream",
     "text": [
      "1853\n",
      "[I 2024-02-15 05:24:57,467] Trial 13 finished with value: 10.690053824512313 and parameters: {'thres_for_max': 0.43, 'thres_for_mean': 0.8300000000000001}. Best is trial 3 with value: 15.122418761529628.\n"
     ]
    },
    {
     "name": "stderr",
     "output_type": "stream",
     "text": [
      "Best trial: 3. Best value: 15.1224:   6%|▌         | 15/250 [01:56<30:31,  7.79s/it]"
     ]
    },
    {
     "name": "stdout",
     "output_type": "stream",
     "text": [
      "1862\n",
      "[I 2024-02-15 05:25:05,392] Trial 14 finished with value: 10.420809316320877 and parameters: {'thres_for_max': 0.4, 'thres_for_mean': 0.6599999999999999}. Best is trial 3 with value: 15.122418761529628.\n"
     ]
    },
    {
     "name": "stderr",
     "output_type": "stream",
     "text": [
      "Best trial: 3. Best value: 15.1224:   6%|▋         | 16/250 [02:04<30:24,  7.80s/it]"
     ]
    },
    {
     "name": "stdout",
     "output_type": "stream",
     "text": [
      "1767\n",
      "[I 2024-02-15 05:25:13,202] Trial 15 finished with value: 10.736342805285027 and parameters: {'thres_for_max': 0.51, 'thres_for_mean': 0.81}. Best is trial 3 with value: 15.122418761529628.\n"
     ]
    },
    {
     "name": "stderr",
     "output_type": "stream",
     "text": [
      "Best trial: 3. Best value: 15.1224:   7%|▋         | 17/250 [02:12<30:43,  7.91s/it]"
     ]
    },
    {
     "name": "stdout",
     "output_type": "stream",
     "text": [
      "1505\n",
      "[I 2024-02-15 05:25:21,374] Trial 16 finished with value: 7.018703447256026 and parameters: {'thres_for_max': 0.62, 'thres_for_mean': 0.6799999999999999}. Best is trial 3 with value: 15.122418761529628.\n"
     ]
    },
    {
     "name": "stderr",
     "output_type": "stream",
     "text": [
      "Best trial: 3. Best value: 15.1224:   7%|▋         | 18/250 [02:20<31:02,  8.03s/it]"
     ]
    },
    {
     "name": "stdout",
     "output_type": "stream",
     "text": [
      "1867\n",
      "[I 2024-02-15 05:25:29,671] Trial 17 finished with value: 14.281310229488419 and parameters: {'thres_for_max': 0.37, 'thres_for_mean': 0.31}. Best is trial 3 with value: 15.122418761529628.\n"
     ]
    },
    {
     "name": "stderr",
     "output_type": "stream",
     "text": [
      "Best trial: 3. Best value: 15.1224:   8%|▊         | 19/250 [02:29<31:08,  8.09s/it]"
     ]
    },
    {
     "name": "stdout",
     "output_type": "stream",
     "text": [
      "1872\n",
      "[I 2024-02-15 05:25:37,913] Trial 18 finished with value: 14.619964845649152 and parameters: {'thres_for_max': 0.3, 'thres_for_mean': 0.8400000000000001}. Best is trial 3 with value: 15.122418761529628.\n"
     ]
    },
    {
     "name": "stderr",
     "output_type": "stream",
     "text": [
      "Best trial: 3. Best value: 15.1224:   8%|▊         | 20/250 [02:36<30:20,  7.91s/it]"
     ]
    },
    {
     "name": "stdout",
     "output_type": "stream",
     "text": [
      "531\n",
      "[I 2024-02-15 05:25:45,415] Trial 19 finished with value: 4.8771875005090255 and parameters: {'thres_for_max': 0.8999999999999999, 'thres_for_mean': 0.71}. Best is trial 3 with value: 15.122418761529628.\n"
     ]
    },
    {
     "name": "stderr",
     "output_type": "stream",
     "text": [
      "Best trial: 3. Best value: 15.1224:   8%|▊         | 21/250 [02:44<29:56,  7.85s/it]"
     ]
    },
    {
     "name": "stdout",
     "output_type": "stream",
     "text": [
      "1833\n",
      "[I 2024-02-15 05:25:53,103] Trial 20 finished with value: 9.248211602863838 and parameters: {'thres_for_max': 0.45999999999999996, 'thres_for_mean': 0.8999999999999999}. Best is trial 3 with value: 15.122418761529628.\n"
     ]
    },
    {
     "name": "stderr",
     "output_type": "stream",
     "text": [
      "Best trial: 21. Best value: 15.2437:   9%|▉         | 22/250 [02:52<30:10,  7.94s/it]"
     ]
    },
    {
     "name": "stdout",
     "output_type": "stream",
     "text": [
      "1871\n",
      "[I 2024-02-15 05:26:01,261] Trial 21 finished with value: 15.243662738779669 and parameters: {'thres_for_max': 0.33999999999999997, 'thres_for_mean': 0.8600000000000001}. Best is trial 21 with value: 15.243662738779669.\n"
     ]
    },
    {
     "name": "stderr",
     "output_type": "stream",
     "text": [
      "Best trial: 21. Best value: 15.2437:   9%|▉         | 23/250 [03:00<30:20,  8.02s/it]"
     ]
    },
    {
     "name": "stdout",
     "output_type": "stream",
     "text": [
      "1870\n",
      "[I 2024-02-15 05:26:09,469] Trial 22 finished with value: 13.908039386804601 and parameters: {'thres_for_max': 0.35, 'thres_for_mean': 0.81}. Best is trial 21 with value: 15.243662738779669.\n"
     ]
    },
    {
     "name": "stderr",
     "output_type": "stream",
     "text": [
      "Best trial: 21. Best value: 15.2437:  10%|▉         | 24/250 [03:09<30:31,  8.10s/it]"
     ]
    },
    {
     "name": "stdout",
     "output_type": "stream",
     "text": [
      "1862\n",
      "[I 2024-02-15 05:26:17,767] Trial 23 finished with value: 10.506911729940981 and parameters: {'thres_for_max': 0.4, 'thres_for_mean': 0.78}. Best is trial 21 with value: 15.243662738779669.\n"
     ]
    },
    {
     "name": "stderr",
     "output_type": "stream",
     "text": [
      "Best trial: 21. Best value: 15.2437:  10%|█         | 25/250 [03:17<30:25,  8.12s/it]"
     ]
    },
    {
     "name": "stdout",
     "output_type": "stream",
     "text": [
      "1867\n",
      "[I 2024-02-15 05:26:25,910] Trial 24 finished with value: 13.876929469315359 and parameters: {'thres_for_max': 0.37, 'thres_for_mean': 0.6}. Best is trial 21 with value: 15.243662738779669.\n"
     ]
    },
    {
     "name": "stderr",
     "output_type": "stream",
     "text": [
      "Best trial: 21. Best value: 15.2437:  10%|█         | 26/250 [03:25<30:22,  8.14s/it]"
     ]
    },
    {
     "name": "stdout",
     "output_type": "stream",
     "text": [
      "1648\n",
      "[I 2024-02-15 05:26:34,090] Trial 25 finished with value: 9.120519204716487 and parameters: {'thres_for_max': 0.5700000000000001, 'thres_for_mean': 0.8600000000000001}. Best is trial 21 with value: 15.243662738779669.\n"
     ]
    },
    {
     "name": "stderr",
     "output_type": "stream",
     "text": [
      "Best trial: 21. Best value: 15.2437:  11%|█         | 27/250 [03:33<30:08,  8.11s/it]"
     ]
    },
    {
     "name": "stdout",
     "output_type": "stream",
     "text": [
      "1840\n",
      "[I 2024-02-15 05:26:42,137] Trial 26 finished with value: 9.999058728289194 and parameters: {'thres_for_max': 0.44999999999999996, 'thres_for_mean': 0.8999999999999999}. Best is trial 21 with value: 15.243662738779669.\n"
     ]
    },
    {
     "name": "stderr",
     "output_type": "stream",
     "text": [
      "Best trial: 21. Best value: 15.2437:  11%|█         | 28/250 [03:41<30:07,  8.14s/it]"
     ]
    },
    {
     "name": "stdout",
     "output_type": "stream",
     "text": [
      "1871\n",
      "[I 2024-02-15 05:26:50,357] Trial 27 finished with value: 15.109338201517202 and parameters: {'thres_for_max': 0.32999999999999996, 'thres_for_mean': 0.72}. Best is trial 21 with value: 15.243662738779669.\n"
     ]
    },
    {
     "name": "stderr",
     "output_type": "stream",
     "text": [
      "Best trial: 21. Best value: 15.2437:  12%|█▏        | 29/250 [03:49<29:42,  8.07s/it]"
     ]
    },
    {
     "name": "stdout",
     "output_type": "stream",
     "text": [
      "1860\n",
      "[I 2024-02-15 05:26:58,253] Trial 28 finished with value: 10.83900234140446 and parameters: {'thres_for_max': 0.41, 'thres_for_mean': 0.8}. Best is trial 21 with value: 15.243662738779669.\n"
     ]
    },
    {
     "name": "stderr",
     "output_type": "stream",
     "text": [
      "Best trial: 21. Best value: 15.2437:  12%|█▏        | 30/250 [03:57<29:46,  8.12s/it]"
     ]
    },
    {
     "name": "stdout",
     "output_type": "stream",
     "text": [
      "1791\n",
      "[I 2024-02-15 05:27:06,503] Trial 29 finished with value: 11.652502524246275 and parameters: {'thres_for_max': 0.49, 'thres_for_mean': 0.56}. Best is trial 21 with value: 15.243662738779669.\n"
     ]
    },
    {
     "name": "stderr",
     "output_type": "stream",
     "text": [
      "Best trial: 21. Best value: 15.2437:  12%|█▏        | 31/250 [04:06<29:57,  8.21s/it]"
     ]
    },
    {
     "name": "stdout",
     "output_type": "stream",
     "text": [
      "1823\n",
      "[I 2024-02-15 05:27:14,908] Trial 30 finished with value: 10.078502425379046 and parameters: {'thres_for_max': 0.47, 'thres_for_mean': 0.8500000000000001}. Best is trial 21 with value: 15.243662738779669.\n"
     ]
    },
    {
     "name": "stderr",
     "output_type": "stream",
     "text": [
      "Best trial: 21. Best value: 15.2437:  13%|█▎        | 32/250 [04:14<29:34,  8.14s/it]"
     ]
    },
    {
     "name": "stdout",
     "output_type": "stream",
     "text": [
      "1871\n",
      "[I 2024-02-15 05:27:22,896] Trial 31 finished with value: 15.121635793885329 and parameters: {'thres_for_max': 0.32999999999999996, 'thres_for_mean': 0.71}. Best is trial 21 with value: 15.243662738779669.\n"
     ]
    },
    {
     "name": "stderr",
     "output_type": "stream",
     "text": [
      "Best trial: 21. Best value: 15.2437:  13%|█▎        | 33/250 [04:22<29:22,  8.12s/it]"
     ]
    },
    {
     "name": "stdout",
     "output_type": "stream",
     "text": [
      "1871\n",
      "[I 2024-02-15 05:27:30,966] Trial 32 finished with value: 14.984227111682195 and parameters: {'thres_for_max': 0.33999999999999997, 'thres_for_mean': 0.63}. Best is trial 21 with value: 15.243662738779669.\n"
     ]
    },
    {
     "name": "stderr",
     "output_type": "stream",
     "text": [
      "Best trial: 21. Best value: 15.2437:  14%|█▎        | 34/250 [04:30<29:24,  8.17s/it]"
     ]
    },
    {
     "name": "stdout",
     "output_type": "stream",
     "text": [
      "1872\n",
      "[I 2024-02-15 05:27:39,243] Trial 33 finished with value: 14.736821347138557 and parameters: {'thres_for_max': 0.3, 'thres_for_mean': 0.73}. Best is trial 21 with value: 15.243662738779669.\n"
     ]
    },
    {
     "name": "stderr",
     "output_type": "stream",
     "text": [
      "Best trial: 21. Best value: 15.2437:  14%|█▍        | 35/250 [04:38<29:01,  8.10s/it]"
     ]
    },
    {
     "name": "stdout",
     "output_type": "stream",
     "text": [
      "1867\n",
      "[I 2024-02-15 05:27:47,192] Trial 34 finished with value: 13.713415722756082 and parameters: {'thres_for_max': 0.37, 'thres_for_mean': 0.7}. Best is trial 21 with value: 15.243662738779669.\n"
     ]
    },
    {
     "name": "stderr",
     "output_type": "stream",
     "text": [
      "Best trial: 21. Best value: 15.2437:  14%|█▍        | 36/250 [04:46<28:35,  8.02s/it]"
     ]
    },
    {
     "name": "stdout",
     "output_type": "stream",
     "text": [
      "1862\n",
      "[I 2024-02-15 05:27:55,010] Trial 35 finished with value: 10.506911729940981 and parameters: {'thres_for_max': 0.4, 'thres_for_mean': 0.78}. Best is trial 21 with value: 15.243662738779669.\n"
     ]
    },
    {
     "name": "stderr",
     "output_type": "stream",
     "text": [
      "Best trial: 21. Best value: 15.2437:  15%|█▍        | 37/250 [04:54<28:19,  7.98s/it]"
     ]
    },
    {
     "name": "stdout",
     "output_type": "stream",
     "text": [
      "1341\n",
      "[I 2024-02-15 05:28:02,902] Trial 36 finished with value: 9.80672501193848 and parameters: {'thres_for_max': 0.72, 'thres_for_mean': 0.53}. Best is trial 21 with value: 15.243662738779669.\n"
     ]
    },
    {
     "name": "stderr",
     "output_type": "stream",
     "text": [
      "Best trial: 21. Best value: 15.2437:  15%|█▌        | 38/250 [05:02<28:04,  7.95s/it]"
     ]
    },
    {
     "name": "stdout",
     "output_type": "stream",
     "text": [
      "1853\n",
      "[I 2024-02-15 05:28:10,771] Trial 37 finished with value: 10.487382397081237 and parameters: {'thres_for_max': 0.43, 'thres_for_mean': 0.64}. Best is trial 21 with value: 15.243662738779669.\n"
     ]
    },
    {
     "name": "stderr",
     "output_type": "stream",
     "text": [
      "Best trial: 38. Best value: 15.2883:  16%|█▌        | 39/250 [05:10<28:00,  7.97s/it]"
     ]
    },
    {
     "name": "stdout",
     "output_type": "stream",
     "text": [
      "1871\n",
      "[I 2024-02-15 05:28:18,783] Trial 38 finished with value: 15.288327031134715 and parameters: {'thres_for_max': 0.33999999999999997, 'thres_for_mean': 0.8700000000000001}. Best is trial 38 with value: 15.288327031134715.\n"
     ]
    },
    {
     "name": "stderr",
     "output_type": "stream",
     "text": [
      "Best trial: 38. Best value: 15.2883:  16%|█▌        | 40/250 [05:18<27:50,  7.96s/it]"
     ]
    },
    {
     "name": "stdout",
     "output_type": "stream",
     "text": [
      "1717\n",
      "[I 2024-02-15 05:28:26,713] Trial 39 finished with value: 11.224302299507427 and parameters: {'thres_for_max': 0.54, 'thres_for_mean': 0.47}. Best is trial 38 with value: 15.288327031134715.\n"
     ]
    },
    {
     "name": "stderr",
     "output_type": "stream",
     "text": [
      "Best trial: 38. Best value: 15.2883:  16%|█▋        | 41/250 [05:25<27:31,  7.90s/it]"
     ]
    },
    {
     "name": "stdout",
     "output_type": "stream",
     "text": [
      "1870\n",
      "[I 2024-02-15 05:28:34,497] Trial 40 finished with value: 13.761316270012873 and parameters: {'thres_for_max': 0.35, 'thres_for_mean': 0.76}. Best is trial 38 with value: 15.288327031134715.\n"
     ]
    },
    {
     "name": "stderr",
     "output_type": "stream",
     "text": [
      "Best trial: 38. Best value: 15.2883:  17%|█▋        | 42/250 [05:33<27:18,  7.88s/it]"
     ]
    },
    {
     "name": "stdout",
     "output_type": "stream",
     "text": [
      "1871\n",
      "[I 2024-02-15 05:28:42,320] Trial 41 finished with value: 15.114714879292997 and parameters: {'thres_for_max': 0.32999999999999996, 'thres_for_mean': 0.8700000000000001}. Best is trial 38 with value: 15.288327031134715.\n"
     ]
    },
    {
     "name": "stderr",
     "output_type": "stream",
     "text": [
      "Best trial: 38. Best value: 15.2883:  17%|█▋        | 43/250 [05:44<30:40,  8.89s/it]"
     ]
    },
    {
     "name": "stdout",
     "output_type": "stream",
     "text": [
      "1864\n",
      "[I 2024-02-15 05:28:53,568] Trial 42 finished with value: 13.098240407020192 and parameters: {'thres_for_max': 0.38, 'thres_for_mean': 0.8700000000000001}. Best is trial 38 with value: 15.288327031134715.\n"
     ]
    },
    {
     "name": "stderr",
     "output_type": "stream",
     "text": [
      "Best trial: 38. Best value: 15.2883:  18%|█▊        | 44/250 [05:56<33:21,  9.72s/it]"
     ]
    },
    {
     "name": "stdout",
     "output_type": "stream",
     "text": [
      "1872\n",
      "[I 2024-02-15 05:29:05,217] Trial 43 finished with value: 14.910315929309347 and parameters: {'thres_for_max': 0.3, 'thres_for_mean': 0.8200000000000001}. Best is trial 38 with value: 15.288327031134715.\n"
     ]
    },
    {
     "name": "stderr",
     "output_type": "stream",
     "text": [
      "Best trial: 38. Best value: 15.2883:  18%|█▊        | 45/250 [06:06<33:51,  9.91s/it]"
     ]
    },
    {
     "name": "stdout",
     "output_type": "stream",
     "text": [
      "1871\n",
      "[I 2024-02-15 05:29:15,571] Trial 44 finished with value: 15.115489521283816 and parameters: {'thres_for_max': 0.32, 'thres_for_mean': 0.8799999999999999}. Best is trial 38 with value: 15.288327031134715.\n"
     ]
    },
    {
     "name": "stderr",
     "output_type": "stream",
     "text": [
      "Best trial: 38. Best value: 15.2883:  18%|█▊        | 46/250 [06:16<33:35,  9.88s/it]"
     ]
    },
    {
     "name": "stdout",
     "output_type": "stream",
     "text": [
      "1100\n",
      "[I 2024-02-15 05:29:25,386] Trial 45 finished with value: 7.395208972617195 and parameters: {'thres_for_max': 0.72, 'thres_for_mean': 0.8400000000000001}. Best is trial 38 with value: 15.288327031134715.\n"
     ]
    },
    {
     "name": "stderr",
     "output_type": "stream",
     "text": [
      "Best trial: 38. Best value: 15.2883:  19%|█▉        | 47/250 [06:24<31:46,  9.39s/it]"
     ]
    },
    {
     "name": "stdout",
     "output_type": "stream",
     "text": [
      "1856\n",
      "[I 2024-02-15 05:29:33,638] Trial 46 finished with value: 10.804271341779968 and parameters: {'thres_for_max': 0.42, 'thres_for_mean': 0.78}. Best is trial 38 with value: 15.288327031134715.\n"
     ]
    },
    {
     "name": "stderr",
     "output_type": "stream",
     "text": [
      "Best trial: 38. Best value: 15.2883:  19%|█▉        | 48/250 [06:32<29:42,  8.82s/it]"
     ]
    },
    {
     "name": "stdout",
     "output_type": "stream",
     "text": [
      "1864\n",
      "[I 2024-02-15 05:29:41,133] Trial 47 finished with value: 13.134958438574209 and parameters: {'thres_for_max': 0.38, 'thres_for_mean': 0.74}. Best is trial 38 with value: 15.288327031134715.\n"
     ]
    },
    {
     "name": "stderr",
     "output_type": "stream",
     "text": [
      "Best trial: 38. Best value: 15.2883:  20%|█▉        | 49/250 [06:40<28:21,  8.46s/it]"
     ]
    },
    {
     "name": "stdout",
     "output_type": "stream",
     "text": [
      "1871\n",
      "[I 2024-02-15 05:29:48,760] Trial 48 finished with value: 15.064192001994202 and parameters: {'thres_for_max': 0.32999999999999996, 'thres_for_mean': 0.69}. Best is trial 38 with value: 15.288327031134715.\n"
     ]
    },
    {
     "name": "stderr",
     "output_type": "stream",
     "text": [
      "Best trial: 38. Best value: 15.2883:  20%|██        | 50/250 [06:47<27:10,  8.15s/it]"
     ]
    },
    {
     "name": "stdout",
     "output_type": "stream",
     "text": [
      "1439\n",
      "[I 2024-02-15 05:29:56,191] Trial 49 finished with value: 8.19916108756487 and parameters: {'thres_for_max': 0.64, 'thres_for_mean': 0.79}. Best is trial 38 with value: 15.288327031134715.\n"
     ]
    },
    {
     "name": "stderr",
     "output_type": "stream",
     "text": [
      "Best trial: 38. Best value: 15.2883:  20%|██        | 51/250 [06:55<26:32,  8.00s/it]"
     ]
    },
    {
     "name": "stdout",
     "output_type": "stream",
     "text": [
      "1870\n",
      "[I 2024-02-15 05:30:03,835] Trial 50 finished with value: 13.684912275543391 and parameters: {'thres_for_max': 0.35, 'thres_for_mean': 0.6699999999999999}. Best is trial 38 with value: 15.288327031134715.\n"
     ]
    },
    {
     "name": "stderr",
     "output_type": "stream",
     "text": [
      "Best trial: 38. Best value: 15.2883:  21%|██        | 52/250 [07:03<26:18,  7.97s/it]"
     ]
    },
    {
     "name": "stdout",
     "output_type": "stream",
     "text": [
      "1872\n",
      "[I 2024-02-15 05:30:11,745] Trial 51 finished with value: 14.767346614201994 and parameters: {'thres_for_max': 0.3, 'thres_for_mean': 0.8899999999999999}. Best is trial 38 with value: 15.288327031134715.\n"
     ]
    },
    {
     "name": "stderr",
     "output_type": "stream",
     "text": [
      "Best trial: 38. Best value: 15.2883:  21%|██        | 53/250 [07:11<26:21,  8.03s/it]"
     ]
    },
    {
     "name": "stdout",
     "output_type": "stream",
     "text": [
      "1871\n",
      "[I 2024-02-15 05:30:19,901] Trial 52 finished with value: 15.115489521283816 and parameters: {'thres_for_max': 0.32, 'thres_for_mean': 0.8799999999999999}. Best is trial 38 with value: 15.288327031134715.\n"
     ]
    },
    {
     "name": "stderr",
     "output_type": "stream",
     "text": [
      "Best trial: 38. Best value: 15.2883:  22%|██▏       | 54/250 [07:19<26:30,  8.11s/it]"
     ]
    },
    {
     "name": "stdout",
     "output_type": "stream",
     "text": [
      "1871\n",
      "[I 2024-02-15 05:30:28,217] Trial 53 finished with value: 15.213207298917782 and parameters: {'thres_for_max': 0.32, 'thres_for_mean': 0.8300000000000001}. Best is trial 38 with value: 15.288327031134715.\n"
     ]
    },
    {
     "name": "stderr",
     "output_type": "stream",
     "text": [
      "Best trial: 38. Best value: 15.2883:  22%|██▏       | 55/250 [07:27<26:25,  8.13s/it]"
     ]
    },
    {
     "name": "stdout",
     "output_type": "stream",
     "text": [
      "1864\n",
      "[I 2024-02-15 05:30:36,377] Trial 54 finished with value: 13.238583559235396 and parameters: {'thres_for_max': 0.38, 'thres_for_mean': 0.8200000000000001}. Best is trial 38 with value: 15.288327031134715.\n"
     ]
    },
    {
     "name": "stderr",
     "output_type": "stream",
     "text": [
      "Best trial: 38. Best value: 15.2883:  22%|██▏       | 56/250 [07:35<26:04,  8.06s/it]"
     ]
    },
    {
     "name": "stdout",
     "output_type": "stream",
     "text": [
      "1870\n",
      "[I 2024-02-15 05:30:44,291] Trial 55 finished with value: 13.702967085425932 and parameters: {'thres_for_max': 0.35, 'thres_for_mean': 0.8400000000000001}. Best is trial 38 with value: 15.288327031134715.\n"
     ]
    },
    {
     "name": "stderr",
     "output_type": "stream",
     "text": [
      "Best trial: 38. Best value: 15.2883:  23%|██▎       | 57/250 [07:43<25:38,  7.97s/it]"
     ]
    },
    {
     "name": "stdout",
     "output_type": "stream",
     "text": [
      "1863\n",
      "[I 2024-02-15 05:30:52,040] Trial 56 finished with value: 12.065719289070152 and parameters: {'thres_for_max': 0.39, 'thres_for_mean': 0.76}. Best is trial 38 with value: 15.288327031134715.\n"
     ]
    },
    {
     "name": "stderr",
     "output_type": "stream",
     "text": [
      "Best trial: 38. Best value: 15.2883:  23%|██▎       | 58/250 [07:51<25:40,  8.02s/it]"
     ]
    },
    {
     "name": "stdout",
     "output_type": "stream",
     "text": [
      "1871\n",
      "[I 2024-02-15 05:31:00,185] Trial 57 finished with value: 15.074107202488713 and parameters: {'thres_for_max': 0.32, 'thres_for_mean': 0.8500000000000001}. Best is trial 38 with value: 15.288327031134715.\n"
     ]
    },
    {
     "name": "stderr",
     "output_type": "stream",
     "text": [
      "Best trial: 38. Best value: 15.2883:  24%|██▎       | 59/250 [07:59<25:14,  7.93s/it]"
     ]
    },
    {
     "name": "stdout",
     "output_type": "stream",
     "text": [
      "1845\n",
      "[I 2024-02-15 05:31:07,900] Trial 58 finished with value: 10.315010367649215 and parameters: {'thres_for_max': 0.44, 'thres_for_mean': 0.81}. Best is trial 38 with value: 15.288327031134715.\n"
     ]
    },
    {
     "name": "stderr",
     "output_type": "stream",
     "text": [
      "Best trial: 38. Best value: 15.2883:  24%|██▍       | 60/250 [08:07<25:14,  7.97s/it]"
     ]
    },
    {
     "name": "stdout",
     "output_type": "stream",
     "text": [
      "1868\n",
      "[I 2024-02-15 05:31:15,973] Trial 59 finished with value: 13.508165522588282 and parameters: {'thres_for_max': 0.36, 'thres_for_mean': 0.8999999999999999}. Best is trial 38 with value: 15.288327031134715.\n"
     ]
    },
    {
     "name": "stderr",
     "output_type": "stream",
     "text": [
      "Best trial: 38. Best value: 15.2883:  24%|██▍       | 61/250 [08:15<25:20,  8.04s/it]"
     ]
    },
    {
     "name": "stdout",
     "output_type": "stream",
     "text": [
      "1860\n",
      "[I 2024-02-15 05:31:24,180] Trial 60 finished with value: 10.814595154266541 and parameters: {'thres_for_max': 0.41, 'thres_for_mean': 0.8300000000000001}. Best is trial 38 with value: 15.288327031134715.\n"
     ]
    },
    {
     "name": "stderr",
     "output_type": "stream",
     "text": [
      "Best trial: 38. Best value: 15.2883:  25%|██▍       | 62/250 [08:24<26:00,  8.30s/it]"
     ]
    },
    {
     "name": "stdout",
     "output_type": "stream",
     "text": [
      "1871\n",
      "[I 2024-02-15 05:31:33,075] Trial 61 finished with value: 15.081647674971924 and parameters: {'thres_for_max': 0.32, 'thres_for_mean': 0.8700000000000001}. Best is trial 38 with value: 15.288327031134715.\n"
     ]
    },
    {
     "name": "stderr",
     "output_type": "stream",
     "text": [
      "Best trial: 38. Best value: 15.2883:  25%|██▌       | 63/250 [08:32<26:09,  8.39s/it]"
     ]
    },
    {
     "name": "stdout",
     "output_type": "stream",
     "text": [
      "1872\n",
      "[I 2024-02-15 05:31:41,683] Trial 62 finished with value: 14.785379543497747 and parameters: {'thres_for_max': 0.3, 'thres_for_mean': 0.8799999999999999}. Best is trial 38 with value: 15.288327031134715.\n"
     ]
    },
    {
     "name": "stderr",
     "output_type": "stream",
     "text": [
      "Best trial: 38. Best value: 15.2883:  26%|██▌       | 64/250 [08:40<25:39,  8.27s/it]"
     ]
    },
    {
     "name": "stdout",
     "output_type": "stream",
     "text": [
      "1871\n",
      "[I 2024-02-15 05:31:49,682] Trial 63 finished with value: 15.243662738779669 and parameters: {'thres_for_max': 0.33999999999999997, 'thres_for_mean': 0.8600000000000001}. Best is trial 38 with value: 15.288327031134715.\n"
     ]
    },
    {
     "name": "stderr",
     "output_type": "stream",
     "text": [
      "Best trial: 38. Best value: 15.2883:  26%|██▌       | 65/250 [08:49<25:24,  8.24s/it]"
     ]
    },
    {
     "name": "stdout",
     "output_type": "stream",
     "text": [
      "1868\n",
      "[I 2024-02-15 05:31:57,845] Trial 64 finished with value: 13.694934486893327 and parameters: {'thres_for_max': 0.36, 'thres_for_mean': 0.8}. Best is trial 38 with value: 15.288327031134715.\n"
     ]
    },
    {
     "name": "stderr",
     "output_type": "stream",
     "text": [
      "Best trial: 38. Best value: 15.2883:  26%|██▋       | 66/250 [08:57<25:06,  8.19s/it]"
     ]
    },
    {
     "name": "stdout",
     "output_type": "stream",
     "text": [
      "1871\n",
      "[I 2024-02-15 05:32:05,911] Trial 65 finished with value: 15.280683223788401 and parameters: {'thres_for_max': 0.33999999999999997, 'thres_for_mean': 0.8500000000000001}. Best is trial 38 with value: 15.288327031134715.\n"
     ]
    },
    {
     "name": "stderr",
     "output_type": "stream",
     "text": [
      "Best trial: 38. Best value: 15.2883:  27%|██▋       | 67/250 [09:04<24:36,  8.07s/it]"
     ]
    },
    {
     "name": "stdout",
     "output_type": "stream",
     "text": [
      "796\n",
      "[I 2024-02-15 05:32:13,702] Trial 66 finished with value: 4.925748115075547 and parameters: {'thres_for_max': 0.78, 'thres_for_mean': 0.8500000000000001}. Best is trial 38 with value: 15.288327031134715.\n"
     ]
    },
    {
     "name": "stderr",
     "output_type": "stream",
     "text": [
      "Best trial: 38. Best value: 15.2883:  27%|██▋       | 68/250 [09:13<24:47,  8.17s/it]"
     ]
    },
    {
     "name": "stdout",
     "output_type": "stream",
     "text": [
      "1871\n",
      "[I 2024-02-15 05:32:22,113] Trial 67 finished with value: 14.984227111682195 and parameters: {'thres_for_max': 0.33999999999999997, 'thres_for_mean': 0.63}. Best is trial 38 with value: 15.288327031134715.\n"
     ]
    },
    {
     "name": "stderr",
     "output_type": "stream",
     "text": [
      "Best trial: 38. Best value: 15.2883:  28%|██▊       | 69/250 [09:21<24:18,  8.06s/it]"
     ]
    },
    {
     "name": "stdout",
     "output_type": "stream",
     "text": [
      "1810\n",
      "[I 2024-02-15 05:32:29,903] Trial 68 finished with value: 9.979839034697529 and parameters: {'thres_for_max': 0.48, 'thres_for_mean': 0.74}. Best is trial 38 with value: 15.288327031134715.\n"
     ]
    },
    {
     "name": "stderr",
     "output_type": "stream",
     "text": [
      "Best trial: 38. Best value: 15.2883:  28%|██▊       | 70/250 [09:29<24:24,  8.13s/it]"
     ]
    },
    {
     "name": "stdout",
     "output_type": "stream",
     "text": [
      "1863\n",
      "[I 2024-02-15 05:32:38,217] Trial 69 finished with value: 12.102374022435113 and parameters: {'thres_for_max': 0.39, 'thres_for_mean': 0.77}. Best is trial 38 with value: 15.288327031134715.\n"
     ]
    },
    {
     "name": "stderr",
     "output_type": "stream",
     "text": [
      "Best trial: 38. Best value: 15.2883:  28%|██▊       | 71/250 [09:37<23:43,  7.95s/it]"
     ]
    },
    {
     "name": "stdout",
     "output_type": "stream",
     "text": [
      "1868\n",
      "[I 2024-02-15 05:32:45,746] Trial 70 finished with value: 13.691019570614957 and parameters: {'thres_for_max': 0.36, 'thres_for_mean': 0.8200000000000001}. Best is trial 38 with value: 15.288327031134715.\n"
     ]
    },
    {
     "name": "stderr",
     "output_type": "stream",
     "text": [
      "Best trial: 71. Best value: 15.4066:  29%|██▉       | 72/250 [09:44<23:27,  7.91s/it]"
     ]
    },
    {
     "name": "stdout",
     "output_type": "stream",
     "text": [
      "1871\n",
      "[I 2024-02-15 05:32:53,542] Trial 71 finished with value: 15.4066217514283 and parameters: {'thres_for_max': 0.32, 'thres_for_mean': 0.3}. Best is trial 71 with value: 15.4066217514283.\n"
     ]
    },
    {
     "name": "stderr",
     "output_type": "stream",
     "text": [
      "Best trial: 72. Best value: 15.658:  29%|██▉       | 73/250 [09:52<23:10,  7.85s/it] "
     ]
    },
    {
     "name": "stdout",
     "output_type": "stream",
     "text": [
      "1871\n",
      "[I 2024-02-15 05:33:01,278] Trial 72 finished with value: 15.657987935018898 and parameters: {'thres_for_max': 0.33999999999999997, 'thres_for_mean': 0.32}. Best is trial 72 with value: 15.657987935018898.\n"
     ]
    },
    {
     "name": "stderr",
     "output_type": "stream",
     "text": [
      "Best trial: 72. Best value: 15.658:  30%|██▉       | 74/250 [10:00<22:56,  7.82s/it]"
     ]
    },
    {
     "name": "stdout",
     "output_type": "stream",
     "text": [
      "1871\n",
      "[I 2024-02-15 05:33:09,023] Trial 73 finished with value: 15.36876536670926 and parameters: {'thres_for_max': 0.33999999999999997, 'thres_for_mean': 0.32999999999999996}. Best is trial 72 with value: 15.657987935018898.\n"
     ]
    },
    {
     "name": "stderr",
     "output_type": "stream",
     "text": [
      "Best trial: 72. Best value: 15.658:  30%|███       | 75/250 [10:08<22:58,  7.88s/it]"
     ]
    },
    {
     "name": "stdout",
     "output_type": "stream",
     "text": [
      "1871\n",
      "[I 2024-02-15 05:33:17,038] Trial 74 finished with value: 15.36876536670926 and parameters: {'thres_for_max': 0.33999999999999997, 'thres_for_mean': 0.32999999999999996}. Best is trial 72 with value: 15.657987935018898.\n"
     ]
    },
    {
     "name": "stderr",
     "output_type": "stream",
     "text": [
      "Best trial: 72. Best value: 15.658:  30%|███       | 76/250 [10:16<22:46,  7.86s/it]"
     ]
    },
    {
     "name": "stdout",
     "output_type": "stream",
     "text": [
      "1849\n",
      "[I 2024-02-15 05:33:24,837] Trial 75 finished with value: 14.0084525540074 and parameters: {'thres_for_max': 0.8899999999999999, 'thres_for_mean': 0.3}. Best is trial 72 with value: 15.657987935018898.\n"
     ]
    },
    {
     "name": "stderr",
     "output_type": "stream",
     "text": [
      "Best trial: 72. Best value: 15.658:  31%|███       | 77/250 [10:24<22:51,  7.93s/it]"
     ]
    },
    {
     "name": "stdout",
     "output_type": "stream",
     "text": [
      "1871\n",
      "[I 2024-02-15 05:33:32,933] Trial 76 finished with value: 15.36876536670926 and parameters: {'thres_for_max': 0.33999999999999997, 'thres_for_mean': 0.32999999999999996}. Best is trial 72 with value: 15.657987935018898.\n"
     ]
    },
    {
     "name": "stderr",
     "output_type": "stream",
     "text": [
      "Best trial: 72. Best value: 15.658:  31%|███       | 78/250 [10:32<22:47,  7.95s/it]"
     ]
    },
    {
     "name": "stdout",
     "output_type": "stream",
     "text": [
      "1858\n",
      "[I 2024-02-15 05:33:40,937] Trial 77 finished with value: 10.952062809503577 and parameters: {'thres_for_max': 0.42, 'thres_for_mean': 0.33999999999999997}. Best is trial 72 with value: 15.657987935018898.\n"
     ]
    },
    {
     "name": "stderr",
     "output_type": "stream",
     "text": [
      "Best trial: 72. Best value: 15.658:  32%|███▏      | 79/250 [10:40<22:40,  7.96s/it]"
     ]
    },
    {
     "name": "stdout",
     "output_type": "stream",
     "text": [
      "1867\n",
      "[I 2024-02-15 05:33:48,910] Trial 78 finished with value: 14.360725598919695 and parameters: {'thres_for_max': 0.37, 'thres_for_mean': 0.36}. Best is trial 72 with value: 15.657987935018898.\n"
     ]
    },
    {
     "name": "stderr",
     "output_type": "stream",
     "text": [
      "Best trial: 72. Best value: 15.658:  32%|███▏      | 80/250 [10:48<22:37,  7.98s/it]"
     ]
    },
    {
     "name": "stdout",
     "output_type": "stream",
     "text": [
      "1863\n",
      "[I 2024-02-15 05:33:56,955] Trial 79 finished with value: 12.319993893444883 and parameters: {'thres_for_max': 0.39, 'thres_for_mean': 0.41}. Best is trial 72 with value: 15.657987935018898.\n"
     ]
    },
    {
     "name": "stderr",
     "output_type": "stream",
     "text": [
      "Best trial: 72. Best value: 15.658:  32%|███▏      | 81/250 [10:56<22:25,  7.96s/it]"
     ]
    },
    {
     "name": "stdout",
     "output_type": "stream",
     "text": [
      "1827\n",
      "[I 2024-02-15 05:34:04,868] Trial 80 finished with value: 14.122178729210384 and parameters: {'thres_for_max': 0.6, 'thres_for_mean': 0.32999999999999996}. Best is trial 72 with value: 15.657987935018898.\n"
     ]
    },
    {
     "name": "stderr",
     "output_type": "stream",
     "text": [
      "Best trial: 72. Best value: 15.658:  33%|███▎      | 82/250 [11:04<22:19,  7.97s/it]"
     ]
    },
    {
     "name": "stdout",
     "output_type": "stream",
     "text": [
      "1871\n",
      "[I 2024-02-15 05:34:12,866] Trial 81 finished with value: 15.507453001662638 and parameters: {'thres_for_max': 0.33999999999999997, 'thres_for_mean': 0.37}. Best is trial 72 with value: 15.657987935018898.\n"
     ]
    },
    {
     "name": "stderr",
     "output_type": "stream",
     "text": [
      "Best trial: 72. Best value: 15.658:  33%|███▎      | 83/250 [11:12<22:18,  8.01s/it]"
     ]
    },
    {
     "name": "stdout",
     "output_type": "stream",
     "text": [
      "1871\n",
      "[I 2024-02-15 05:34:20,976] Trial 82 finished with value: 15.172941375019521 and parameters: {'thres_for_max': 0.33999999999999997, 'thres_for_mean': 0.38}. Best is trial 72 with value: 15.657987935018898.\n"
     ]
    },
    {
     "name": "stderr",
     "output_type": "stream",
     "text": [
      "Best trial: 72. Best value: 15.658:  34%|███▎      | 84/250 [11:20<22:17,  8.06s/it]"
     ]
    },
    {
     "name": "stdout",
     "output_type": "stream",
     "text": [
      "1872\n",
      "[I 2024-02-15 05:34:29,132] Trial 83 finished with value: 15.18209439827935 and parameters: {'thres_for_max': 0.31, 'thres_for_mean': 0.32999999999999996}. Best is trial 72 with value: 15.657987935018898.\n"
     ]
    },
    {
     "name": "stderr",
     "output_type": "stream",
     "text": [
      "Best trial: 72. Best value: 15.658:  34%|███▍      | 85/250 [11:28<22:03,  8.02s/it]"
     ]
    },
    {
     "name": "stdout",
     "output_type": "stream",
     "text": [
      "1867\n",
      "[I 2024-02-15 05:34:37,072] Trial 84 finished with value: 13.79844834810418 and parameters: {'thres_for_max': 0.37, 'thres_for_mean': 0.42}. Best is trial 72 with value: 15.657987935018898.\n"
     ]
    },
    {
     "name": "stderr",
     "output_type": "stream",
     "text": [
      "Best trial: 85. Best value: 15.7741:  34%|███▍      | 86/250 [11:36<21:51,  8.00s/it]"
     ]
    },
    {
     "name": "stdout",
     "output_type": "stream",
     "text": [
      "1871\n",
      "[I 2024-02-15 05:34:45,015] Trial 85 finished with value: 15.774055717471509 and parameters: {'thres_for_max': 0.33999999999999997, 'thres_for_mean': 0.31}. Best is trial 85 with value: 15.774055717471509.\n"
     ]
    },
    {
     "name": "stderr",
     "output_type": "stream",
     "text": [
      "Best trial: 85. Best value: 15.7741:  35%|███▍      | 87/250 [11:44<22:09,  8.15s/it]"
     ]
    },
    {
     "name": "stdout",
     "output_type": "stream",
     "text": [
      "1870\n",
      "[I 2024-02-15 05:34:53,534] Trial 86 finished with value: 14.282641573297186 and parameters: {'thres_for_max': 0.35, 'thres_for_mean': 0.31}. Best is trial 85 with value: 15.774055717471509.\n"
     ]
    },
    {
     "name": "stderr",
     "output_type": "stream",
     "text": [
      "Best trial: 87. Best value: 15.7753:  35%|███▌      | 88/250 [11:53<22:06,  8.19s/it]"
     ]
    },
    {
     "name": "stdout",
     "output_type": "stream",
     "text": [
      "1872\n",
      "[I 2024-02-15 05:35:01,805] Trial 87 finished with value: 15.775310826273003 and parameters: {'thres_for_max': 0.31, 'thres_for_mean': 0.36}. Best is trial 87 with value: 15.775310826273003.\n"
     ]
    },
    {
     "name": "stderr",
     "output_type": "stream",
     "text": [
      "Best trial: 87. Best value: 15.7753:  36%|███▌      | 89/250 [12:01<22:15,  8.29s/it]"
     ]
    },
    {
     "name": "stdout",
     "output_type": "stream",
     "text": [
      "1872\n",
      "[I 2024-02-15 05:35:10,344] Trial 88 finished with value: 15.775310826273003 and parameters: {'thres_for_max': 0.31, 'thres_for_mean': 0.36}. Best is trial 87 with value: 15.775310826273003.\n"
     ]
    },
    {
     "name": "stderr",
     "output_type": "stream",
     "text": [
      "Best trial: 87. Best value: 15.7753:  36%|███▌      | 90/250 [12:09<22:07,  8.30s/it]"
     ]
    },
    {
     "name": "stdout",
     "output_type": "stream",
     "text": [
      "1872\n",
      "[I 2024-02-15 05:35:18,642] Trial 89 finished with value: 15.775310826273003 and parameters: {'thres_for_max': 0.31, 'thres_for_mean': 0.36}. Best is trial 87 with value: 15.775310826273003.\n"
     ]
    },
    {
     "name": "stderr",
     "output_type": "stream",
     "text": [
      "Best trial: 87. Best value: 15.7753:  36%|███▋      | 91/250 [12:17<21:46,  8.22s/it]"
     ]
    },
    {
     "name": "stdout",
     "output_type": "stream",
     "text": [
      "1872\n",
      "[I 2024-02-15 05:35:26,674] Trial 90 finished with value: 15.318137655669856 and parameters: {'thres_for_max': 0.31, 'thres_for_mean': 0.37}. Best is trial 87 with value: 15.775310826273003.\n"
     ]
    },
    {
     "name": "stderr",
     "output_type": "stream",
     "text": [
      "Best trial: 87. Best value: 15.7753:  37%|███▋      | 92/250 [12:25<21:27,  8.15s/it]"
     ]
    },
    {
     "name": "stdout",
     "output_type": "stream",
     "text": [
      "1872\n",
      "[I 2024-02-15 05:35:34,663] Trial 91 finished with value: 15.352170487951012 and parameters: {'thres_for_max': 0.31, 'thres_for_mean': 0.35}. Best is trial 87 with value: 15.775310826273003.\n"
     ]
    },
    {
     "name": "stderr",
     "output_type": "stream",
     "text": [
      "Best trial: 87. Best value: 15.7753:  37%|███▋      | 93/250 [12:33<21:11,  8.10s/it]"
     ]
    },
    {
     "name": "stdout",
     "output_type": "stream",
     "text": [
      "1871\n",
      "[I 2024-02-15 05:35:42,646] Trial 92 finished with value: 15.179123989035777 and parameters: {'thres_for_max': 0.32999999999999996, 'thres_for_mean': 0.44}. Best is trial 87 with value: 15.775310826273003.\n"
     ]
    },
    {
     "name": "stderr",
     "output_type": "stream",
     "text": [
      "Best trial: 87. Best value: 15.7753:  38%|███▊      | 94/250 [12:42<21:01,  8.09s/it]"
     ]
    },
    {
     "name": "stdout",
     "output_type": "stream",
     "text": [
      "1872\n",
      "[I 2024-02-15 05:35:50,712] Trial 93 finished with value: 15.044748698288396 and parameters: {'thres_for_max': 0.3, 'thres_for_mean': 0.32}. Best is trial 87 with value: 15.775310826273003.\n"
     ]
    },
    {
     "name": "stderr",
     "output_type": "stream",
     "text": [
      "Best trial: 87. Best value: 15.7753:  38%|███▊      | 95/250 [12:49<20:45,  8.04s/it]"
     ]
    },
    {
     "name": "stdout",
     "output_type": "stream",
     "text": [
      "1868\n",
      "[I 2024-02-15 05:35:58,630] Trial 94 finished with value: 13.400486951649311 and parameters: {'thres_for_max': 0.36, 'thres_for_mean': 0.39}. Best is trial 87 with value: 15.775310826273003.\n"
     ]
    },
    {
     "name": "stderr",
     "output_type": "stream",
     "text": [
      "Best trial: 87. Best value: 15.7753:  38%|███▊      | 96/250 [12:57<20:39,  8.05s/it]"
     ]
    },
    {
     "name": "stdout",
     "output_type": "stream",
     "text": [
      "1871\n",
      "[I 2024-02-15 05:36:06,701] Trial 95 finished with value: 15.4066217514283 and parameters: {'thres_for_max': 0.32, 'thres_for_mean': 0.3}. Best is trial 87 with value: 15.775310826273003.\n"
     ]
    },
    {
     "name": "stderr",
     "output_type": "stream",
     "text": [
      "Best trial: 87. Best value: 15.7753:  39%|███▉      | 97/250 [13:06<20:32,  8.05s/it]"
     ]
    },
    {
     "name": "stdout",
     "output_type": "stream",
     "text": [
      "1871\n",
      "[I 2024-02-15 05:36:14,773] Trial 96 finished with value: 15.4066217514283 and parameters: {'thres_for_max': 0.32, 'thres_for_mean': 0.3}. Best is trial 87 with value: 15.775310826273003.\n"
     ]
    },
    {
     "name": "stderr",
     "output_type": "stream",
     "text": [
      "Best trial: 87. Best value: 15.7753:  39%|███▉      | 98/250 [13:14<20:25,  8.06s/it]"
     ]
    },
    {
     "name": "stdout",
     "output_type": "stream",
     "text": [
      "1871\n",
      "[I 2024-02-15 05:36:22,848] Trial 97 finished with value: 15.4066217514283 and parameters: {'thres_for_max': 0.32, 'thres_for_mean': 0.3}. Best is trial 87 with value: 15.775310826273003.\n"
     ]
    },
    {
     "name": "stderr",
     "output_type": "stream",
     "text": [
      "Best trial: 87. Best value: 15.7753:  40%|███▉      | 99/250 [13:22<20:21,  8.09s/it]"
     ]
    },
    {
     "name": "stdout",
     "output_type": "stream",
     "text": [
      "1872\n",
      "[I 2024-02-15 05:36:31,003] Trial 98 finished with value: 15.344289666727418 and parameters: {'thres_for_max': 0.31, 'thres_for_mean': 0.3}. Best is trial 87 with value: 15.775310826273003.\n"
     ]
    },
    {
     "name": "stderr",
     "output_type": "stream",
     "text": [
      "Best trial: 87. Best value: 15.7753:  40%|████      | 100/250 [13:30<20:07,  8.05s/it]"
     ]
    },
    {
     "name": "stdout",
     "output_type": "stream",
     "text": [
      "1871\n",
      "[I 2024-02-15 05:36:38,959] Trial 99 finished with value: 15.331494377501318 and parameters: {'thres_for_max': 0.32, 'thres_for_mean': 0.35}. Best is trial 87 with value: 15.775310826273003.\n"
     ]
    },
    {
     "name": "stderr",
     "output_type": "stream",
     "text": [
      "Best trial: 87. Best value: 15.7753:  40%|████      | 101/250 [13:38<20:03,  8.08s/it]"
     ]
    },
    {
     "name": "stdout",
     "output_type": "stream",
     "text": [
      "1872\n",
      "[I 2024-02-15 05:36:47,101] Trial 100 finished with value: 15.134537520226214 and parameters: {'thres_for_max': 0.3, 'thres_for_mean': 0.31}. Best is trial 87 with value: 15.775310826273003.\n"
     ]
    },
    {
     "name": "stderr",
     "output_type": "stream",
     "text": [
      "Best trial: 87. Best value: 15.7753:  41%|████      | 102/250 [13:46<19:59,  8.10s/it]"
     ]
    },
    {
     "name": "stdout",
     "output_type": "stream",
     "text": [
      "1871\n",
      "[I 2024-02-15 05:36:55,259] Trial 101 finished with value: 15.4066217514283 and parameters: {'thres_for_max': 0.32, 'thres_for_mean': 0.3}. Best is trial 87 with value: 15.775310826273003.\n"
     ]
    },
    {
     "name": "stderr",
     "output_type": "stream",
     "text": [
      "Best trial: 87. Best value: 15.7753:  41%|████      | 103/250 [13:54<19:51,  8.11s/it]"
     ]
    },
    {
     "name": "stdout",
     "output_type": "stream",
     "text": [
      "1871\n",
      "[I 2024-02-15 05:37:03,375] Trial 102 finished with value: 15.753871177941393 and parameters: {'thres_for_max': 0.32, 'thres_for_mean': 0.36}. Best is trial 87 with value: 15.775310826273003.\n"
     ]
    },
    {
     "name": "stderr",
     "output_type": "stream",
     "text": [
      "Best trial: 87. Best value: 15.7753:  42%|████▏     | 104/250 [14:02<19:41,  8.09s/it]"
     ]
    },
    {
     "name": "stdout",
     "output_type": "stream",
     "text": [
      "1868\n",
      "[I 2024-02-15 05:37:11,429] Trial 103 finished with value: 14.150198783650346 and parameters: {'thres_for_max': 0.36, 'thres_for_mean': 0.36}. Best is trial 87 with value: 15.775310826273003.\n"
     ]
    },
    {
     "name": "stderr",
     "output_type": "stream",
     "text": [
      "Best trial: 87. Best value: 15.7753:  42%|████▏     | 105/250 [14:10<19:33,  8.09s/it]"
     ]
    },
    {
     "name": "stdout",
     "output_type": "stream",
     "text": [
      "1871\n",
      "[I 2024-02-15 05:37:19,521] Trial 104 finished with value: 15.001170031657676 and parameters: {'thres_for_max': 0.32999999999999996, 'thres_for_mean': 0.38}. Best is trial 87 with value: 15.775310826273003.\n"
     ]
    },
    {
     "name": "stderr",
     "output_type": "stream",
     "text": [
      "Best trial: 87. Best value: 15.7753:  42%|████▏     | 106/250 [14:18<19:19,  8.06s/it]"
     ]
    },
    {
     "name": "stdout",
     "output_type": "stream",
     "text": [
      "1872\n",
      "[I 2024-02-15 05:37:27,493] Trial 105 finished with value: 15.352170487951012 and parameters: {'thres_for_max': 0.31, 'thres_for_mean': 0.35}. Best is trial 87 with value: 15.775310826273003.\n"
     ]
    },
    {
     "name": "stderr",
     "output_type": "stream",
     "text": [
      "Best trial: 87. Best value: 15.7753:  43%|████▎     | 107/250 [14:26<19:09,  8.04s/it]"
     ]
    },
    {
     "name": "stdout",
     "output_type": "stream",
     "text": [
      "1840\n",
      "[I 2024-02-15 05:37:35,485] Trial 106 finished with value: 14.335621644899792 and parameters: {'thres_for_max': 0.55, 'thres_for_mean': 0.32}. Best is trial 87 with value: 15.775310826273003.\n"
     ]
    },
    {
     "name": "stderr",
     "output_type": "stream",
     "text": [
      "Best trial: 87. Best value: 15.7753:  43%|████▎     | 108/250 [14:35<19:10,  8.10s/it]"
     ]
    },
    {
     "name": "stdout",
     "output_type": "stream",
     "text": [
      "1864\n",
      "[I 2024-02-15 05:37:43,745] Trial 107 finished with value: 13.285463782683628 and parameters: {'thres_for_max': 0.38, 'thres_for_mean': 0.37}. Best is trial 87 with value: 15.775310826273003.\n"
     ]
    },
    {
     "name": "stderr",
     "output_type": "stream",
     "text": [
      "Best trial: 87. Best value: 15.7753:  44%|████▎     | 109/250 [14:43<18:59,  8.08s/it]"
     ]
    },
    {
     "name": "stdout",
     "output_type": "stream",
     "text": [
      "1872\n",
      "[I 2024-02-15 05:37:51,780] Trial 108 finished with value: 15.044748698288396 and parameters: {'thres_for_max': 0.3, 'thres_for_mean': 0.32}. Best is trial 87 with value: 15.775310826273003.\n"
     ]
    },
    {
     "name": "stderr",
     "output_type": "stream",
     "text": [
      "Best trial: 87. Best value: 15.7753:  44%|████▍     | 110/250 [14:51<18:47,  8.05s/it]"
     ]
    },
    {
     "name": "stdout",
     "output_type": "stream",
     "text": [
      "1871\n",
      "[I 2024-02-15 05:37:59,754] Trial 109 finished with value: 15.229098716363586 and parameters: {'thres_for_max': 0.32, 'thres_for_mean': 0.4}. Best is trial 87 with value: 15.775310826273003.\n"
     ]
    },
    {
     "name": "stderr",
     "output_type": "stream",
     "text": [
      "Best trial: 87. Best value: 15.7753:  44%|████▍     | 111/250 [14:59<18:39,  8.06s/it]"
     ]
    },
    {
     "name": "stdout",
     "output_type": "stream",
     "text": [
      "1870\n",
      "[I 2024-02-15 05:38:07,828] Trial 110 finished with value: 14.108766343925977 and parameters: {'thres_for_max': 0.35, 'thres_for_mean': 0.43}. Best is trial 87 with value: 15.775310826273003.\n"
     ]
    },
    {
     "name": "stderr",
     "output_type": "stream",
     "text": [
      "Best trial: 87. Best value: 15.7753:  45%|████▍     | 112/250 [15:07<18:33,  8.07s/it]"
     ]
    },
    {
     "name": "stdout",
     "output_type": "stream",
     "text": [
      "1871\n",
      "[I 2024-02-15 05:38:15,934] Trial 111 finished with value: 15.4066217514283 and parameters: {'thres_for_max': 0.32, 'thres_for_mean': 0.3}. Best is trial 87 with value: 15.775310826273003.\n"
     ]
    },
    {
     "name": "stderr",
     "output_type": "stream",
     "text": [
      "Best trial: 87. Best value: 15.7753:  45%|████▌     | 113/250 [15:15<18:26,  8.07s/it]"
     ]
    },
    {
     "name": "stdout",
     "output_type": "stream",
     "text": [
      "1871\n",
      "[I 2024-02-15 05:38:24,014] Trial 112 finished with value: 15.506953556727906 and parameters: {'thres_for_max': 0.32999999999999996, 'thres_for_mean': 0.31}. Best is trial 87 with value: 15.775310826273003.\n"
     ]
    },
    {
     "name": "stderr",
     "output_type": "stream",
     "text": [
      "Best trial: 87. Best value: 15.7753:  46%|████▌     | 114/250 [15:23<18:18,  8.08s/it]"
     ]
    },
    {
     "name": "stdout",
     "output_type": "stream",
     "text": [
      "1871\n",
      "[I 2024-02-15 05:38:32,105] Trial 113 finished with value: 15.506953556727906 and parameters: {'thres_for_max': 0.32999999999999996, 'thres_for_mean': 0.31}. Best is trial 87 with value: 15.775310826273003.\n"
     ]
    },
    {
     "name": "stderr",
     "output_type": "stream",
     "text": [
      "Best trial: 87. Best value: 15.7753:  46%|████▌     | 115/250 [15:31<18:09,  8.07s/it]"
     ]
    },
    {
     "name": "stdout",
     "output_type": "stream",
     "text": [
      "1867\n",
      "[I 2024-02-15 05:38:40,144] Trial 114 finished with value: 14.180861660488354 and parameters: {'thres_for_max': 0.37, 'thres_for_mean': 0.33999999999999997}. Best is trial 87 with value: 15.775310826273003.\n"
     ]
    },
    {
     "name": "stderr",
     "output_type": "stream",
     "text": [
      "Best trial: 87. Best value: 15.7753:  46%|████▋     | 116/250 [15:39<17:58,  8.05s/it]"
     ]
    },
    {
     "name": "stdout",
     "output_type": "stream",
     "text": [
      "1871\n",
      "[I 2024-02-15 05:38:48,156] Trial 115 finished with value: 15.454783189487888 and parameters: {'thres_for_max': 0.32999999999999996, 'thres_for_mean': 0.33999999999999997}. Best is trial 87 with value: 15.775310826273003.\n"
     ]
    },
    {
     "name": "stderr",
     "output_type": "stream",
     "text": [
      "Best trial: 116. Best value: 15.7893:  47%|████▋     | 117/250 [15:47<17:49,  8.04s/it]"
     ]
    },
    {
     "name": "stdout",
     "output_type": "stream",
     "text": [
      "1871\n",
      "[I 2024-02-15 05:38:56,166] Trial 116 finished with value: 15.789327010715043 and parameters: {'thres_for_max': 0.32999999999999996, 'thres_for_mean': 0.36}. Best is trial 116 with value: 15.789327010715043.\n"
     ]
    },
    {
     "name": "stderr",
     "output_type": "stream",
     "text": [
      "Best trial: 116. Best value: 15.7893:  47%|████▋     | 118/250 [15:56<18:04,  8.21s/it]"
     ]
    },
    {
     "name": "stdout",
     "output_type": "stream",
     "text": [
      "1870\n",
      "[I 2024-02-15 05:39:04,792] Trial 117 finished with value: 14.445356665233161 and parameters: {'thres_for_max': 0.35, 'thres_for_mean': 0.36}. Best is trial 116 with value: 15.789327010715043.\n"
     ]
    },
    {
     "name": "stderr",
     "output_type": "stream",
     "text": [
      "Best trial: 116. Best value: 15.7893:  48%|████▊     | 119/250 [16:04<18:10,  8.32s/it]"
     ]
    },
    {
     "name": "stdout",
     "output_type": "stream",
     "text": [
      "1863\n",
      "[I 2024-02-15 05:39:13,373] Trial 118 finished with value: 12.636291006415378 and parameters: {'thres_for_max': 0.39, 'thres_for_mean': 0.33999999999999997}. Best is trial 116 with value: 15.789327010715043.\n"
     ]
    },
    {
     "name": "stderr",
     "output_type": "stream",
     "text": [
      "Best trial: 116. Best value: 15.7893:  48%|████▊     | 120/250 [16:13<18:33,  8.57s/it]"
     ]
    },
    {
     "name": "stdout",
     "output_type": "stream",
     "text": [
      "1871\n",
      "[I 2024-02-15 05:39:22,510] Trial 119 finished with value: 14.952579183569654 and parameters: {'thres_for_max': 0.32999999999999996, 'thres_for_mean': 0.39}. Best is trial 116 with value: 15.789327010715043.\n"
     ]
    },
    {
     "name": "stderr",
     "output_type": "stream",
     "text": [
      "Best trial: 116. Best value: 15.7893:  48%|████▊     | 121/250 [16:22<18:20,  8.53s/it]"
     ]
    },
    {
     "name": "stdout",
     "output_type": "stream",
     "text": [
      "1868\n",
      "[I 2024-02-15 05:39:30,954] Trial 120 finished with value: 13.711365344615778 and parameters: {'thres_for_max': 0.36, 'thres_for_mean': 0.45999999999999996}. Best is trial 116 with value: 15.789327010715043.\n"
     ]
    },
    {
     "name": "stderr",
     "output_type": "stream",
     "text": [
      "Best trial: 116. Best value: 15.7893:  49%|████▉     | 122/250 [16:30<18:08,  8.50s/it]"
     ]
    },
    {
     "name": "stdout",
     "output_type": "stream",
     "text": [
      "1871\n",
      "[I 2024-02-15 05:39:39,393] Trial 121 finished with value: 15.415529621411498 and parameters: {'thres_for_max': 0.32999999999999996, 'thres_for_mean': 0.32}. Best is trial 116 with value: 15.789327010715043.\n"
     ]
    },
    {
     "name": "stderr",
     "output_type": "stream",
     "text": [
      "Best trial: 116. Best value: 15.7893:  49%|████▉     | 123/250 [16:38<17:45,  8.39s/it]"
     ]
    },
    {
     "name": "stdout",
     "output_type": "stream",
     "text": [
      "1872\n",
      "[I 2024-02-15 05:39:47,510] Trial 122 finished with value: 14.963006012301063 and parameters: {'thres_for_max': 0.3, 'thres_for_mean': 0.37}. Best is trial 116 with value: 15.789327010715043.\n"
     ]
    },
    {
     "name": "stderr",
     "output_type": "stream",
     "text": [
      "Best trial: 116. Best value: 15.7893:  50%|████▉     | 124/250 [16:46<17:19,  8.25s/it]"
     ]
    },
    {
     "name": "stdout",
     "output_type": "stream",
     "text": [
      "1837\n",
      "[I 2024-02-15 05:39:55,426] Trial 123 finished with value: 14.891410544521616 and parameters: {'thres_for_max': 0.6799999999999999, 'thres_for_mean': 0.32}. Best is trial 116 with value: 15.789327010715043.\n"
     ]
    },
    {
     "name": "stderr",
     "output_type": "stream",
     "text": [
      "Best trial: 116. Best value: 15.7893:  50%|█████     | 125/250 [16:54<17:07,  8.22s/it]"
     ]
    },
    {
     "name": "stdout",
     "output_type": "stream",
     "text": [
      "1870\n",
      "[I 2024-02-15 05:40:03,579] Trial 124 finished with value: 14.056493805502873 and parameters: {'thres_for_max': 0.35, 'thres_for_mean': 0.35}. Best is trial 116 with value: 15.789327010715043.\n"
     ]
    },
    {
     "name": "stderr",
     "output_type": "stream",
     "text": [
      "Best trial: 116. Best value: 15.7893:  50%|█████     | 126/250 [17:03<17:07,  8.28s/it]"
     ]
    },
    {
     "name": "stdout",
     "output_type": "stream",
     "text": [
      "1871\n",
      "[I 2024-02-15 05:40:12,018] Trial 125 finished with value: 15.454783189487888 and parameters: {'thres_for_max': 0.32999999999999996, 'thres_for_mean': 0.33999999999999997}. Best is trial 116 with value: 15.789327010715043.\n"
     ]
    },
    {
     "name": "stderr",
     "output_type": "stream",
     "text": [
      "Best trial: 116. Best value: 15.7893:  51%|█████     | 127/250 [17:11<17:03,  8.32s/it]"
     ]
    },
    {
     "name": "stdout",
     "output_type": "stream",
     "text": [
      "1871\n",
      "[I 2024-02-15 05:40:20,420] Trial 126 finished with value: 15.001170031657676 and parameters: {'thres_for_max': 0.32999999999999996, 'thres_for_mean': 0.38}. Best is trial 116 with value: 15.789327010715043.\n"
     ]
    },
    {
     "name": "stderr",
     "output_type": "stream",
     "text": [
      "Best trial: 116. Best value: 15.7893:  51%|█████     | 128/250 [17:19<16:48,  8.26s/it]"
     ]
    },
    {
     "name": "stdout",
     "output_type": "stream",
     "text": [
      "1829\n",
      "[I 2024-02-15 05:40:28,558] Trial 127 finished with value: 11.715490547156788 and parameters: {'thres_for_max': 0.51, 'thres_for_mean': 0.33999999999999997}. Best is trial 116 with value: 15.789327010715043.\n"
     ]
    },
    {
     "name": "stderr",
     "output_type": "stream",
     "text": [
      "Best trial: 116. Best value: 15.7893:  52%|█████▏    | 129/250 [17:27<16:29,  8.18s/it]"
     ]
    },
    {
     "name": "stdout",
     "output_type": "stream",
     "text": [
      "1867\n",
      "[I 2024-02-15 05:40:36,542] Trial 128 finished with value: 14.360725598919695 and parameters: {'thres_for_max': 0.37, 'thres_for_mean': 0.36}. Best is trial 116 with value: 15.789327010715043.\n"
     ]
    },
    {
     "name": "stderr",
     "output_type": "stream",
     "text": [
      "Best trial: 116. Best value: 15.7893:  52%|█████▏    | 130/250 [17:35<16:14,  8.12s/it]"
     ]
    },
    {
     "name": "stdout",
     "output_type": "stream",
     "text": [
      "1871\n",
      "[I 2024-02-15 05:40:44,530] Trial 129 finished with value: 15.124039482962552 and parameters: {'thres_for_max': 0.33999999999999997, 'thres_for_mean': 0.39}. Best is trial 116 with value: 15.789327010715043.\n"
     ]
    },
    {
     "name": "stderr",
     "output_type": "stream",
     "text": [
      "Best trial: 116. Best value: 15.7893:  52%|█████▏    | 131/250 [17:43<15:57,  8.05s/it]"
     ]
    },
    {
     "name": "stdout",
     "output_type": "stream",
     "text": [
      "1864\n",
      "[I 2024-02-15 05:40:52,404] Trial 130 finished with value: 13.310722071394084 and parameters: {'thres_for_max': 0.38, 'thres_for_mean': 0.41}. Best is trial 116 with value: 15.789327010715043.\n"
     ]
    },
    {
     "name": "stderr",
     "output_type": "stream",
     "text": [
      "Best trial: 116. Best value: 15.7893:  53%|█████▎    | 132/250 [17:51<15:50,  8.06s/it]"
     ]
    },
    {
     "name": "stdout",
     "output_type": "stream",
     "text": [
      "1872\n",
      "[I 2024-02-15 05:41:00,481] Trial 131 finished with value: 15.401566682440672 and parameters: {'thres_for_max': 0.31, 'thres_for_mean': 0.32}. Best is trial 116 with value: 15.789327010715043.\n"
     ]
    },
    {
     "name": "stderr",
     "output_type": "stream",
     "text": [
      "Best trial: 116. Best value: 15.7893:  53%|█████▎    | 133/250 [17:59<15:37,  8.01s/it]"
     ]
    },
    {
     "name": "stdout",
     "output_type": "stream",
     "text": [
      "1871\n",
      "[I 2024-02-15 05:41:08,385] Trial 132 finished with value: 14.924169117086166 and parameters: {'thres_for_max': 0.32999999999999996, 'thres_for_mean': 0.52}. Best is trial 116 with value: 15.789327010715043.\n"
     ]
    },
    {
     "name": "stderr",
     "output_type": "stream",
     "text": [
      "Best trial: 116. Best value: 15.7893:  54%|█████▎    | 134/250 [18:07<15:31,  8.03s/it]"
     ]
    },
    {
     "name": "stdout",
     "output_type": "stream",
     "text": [
      "1872\n",
      "[I 2024-02-15 05:41:16,469] Trial 133 finished with value: 15.084946426688154 and parameters: {'thres_for_max': 0.3, 'thres_for_mean': 0.33999999999999997}. Best is trial 116 with value: 15.789327010715043.\n"
     ]
    },
    {
     "name": "stderr",
     "output_type": "stream",
     "text": [
      "Best trial: 116. Best value: 15.7893:  54%|█████▍    | 135/250 [18:15<15:27,  8.07s/it]"
     ]
    },
    {
     "name": "stdout",
     "output_type": "stream",
     "text": [
      "1870\n",
      "[I 2024-02-15 05:41:24,616] Trial 134 finished with value: 14.17799425886641 and parameters: {'thres_for_max': 0.35, 'thres_for_mean': 0.32}. Best is trial 116 with value: 15.789327010715043.\n"
     ]
    },
    {
     "name": "stderr",
     "output_type": "stream",
     "text": [
      "Best trial: 116. Best value: 15.7893:  54%|█████▍    | 136/250 [18:23<15:12,  8.01s/it]"
     ]
    },
    {
     "name": "stdout",
     "output_type": "stream",
     "text": [
      "1871\n",
      "[I 2024-02-15 05:41:32,487] Trial 135 finished with value: 15.331734137981163 and parameters: {'thres_for_max': 0.32999999999999996, 'thres_for_mean': 0.37}. Best is trial 116 with value: 15.789327010715043.\n"
     ]
    },
    {
     "name": "stderr",
     "output_type": "stream",
     "text": [
      "Best trial: 116. Best value: 15.7893:  55%|█████▍    | 137/250 [18:31<15:09,  8.05s/it]"
     ]
    },
    {
     "name": "stdout",
     "output_type": "stream",
     "text": [
      "1872\n",
      "[I 2024-02-15 05:41:40,625] Trial 136 finished with value: 15.352170487951012 and parameters: {'thres_for_max': 0.31, 'thres_for_mean': 0.35}. Best is trial 116 with value: 15.789327010715043.\n"
     ]
    },
    {
     "name": "stderr",
     "output_type": "stream",
     "text": [
      "Best trial: 116. Best value: 15.7893:  55%|█████▌    | 138/250 [18:39<15:00,  8.04s/it]"
     ]
    },
    {
     "name": "stdout",
     "output_type": "stream",
     "text": [
      "1871\n",
      "[I 2024-02-15 05:41:48,642] Trial 137 finished with value: 15.774055717471509 and parameters: {'thres_for_max': 0.33999999999999997, 'thres_for_mean': 0.31}. Best is trial 116 with value: 15.789327010715043.\n"
     ]
    },
    {
     "name": "stderr",
     "output_type": "stream",
     "text": [
      "Best trial: 116. Best value: 15.7893:  56%|█████▌    | 139/250 [18:47<14:46,  7.98s/it]"
     ]
    },
    {
     "name": "stdout",
     "output_type": "stream",
     "text": [
      "1871\n",
      "[I 2024-02-15 05:41:56,499] Trial 138 finished with value: 15.36876536670926 and parameters: {'thres_for_max': 0.33999999999999997, 'thres_for_mean': 0.32999999999999996}. Best is trial 116 with value: 15.789327010715043.\n"
     ]
    },
    {
     "name": "stderr",
     "output_type": "stream",
     "text": [
      "Best trial: 116. Best value: 15.7893:  56%|█████▌    | 140/250 [18:55<14:40,  8.00s/it]"
     ]
    },
    {
     "name": "stdout",
     "output_type": "stream",
     "text": [
      "1868\n",
      "[I 2024-02-15 05:42:04,547] Trial 139 finished with value: 14.10707166546486 and parameters: {'thres_for_max': 0.36, 'thres_for_mean': 0.31}. Best is trial 116 with value: 15.789327010715043.\n"
     ]
    },
    {
     "name": "stderr",
     "output_type": "stream",
     "text": [
      "Best trial: 116. Best value: 15.7893:  56%|█████▋    | 141/250 [19:03<14:34,  8.02s/it]"
     ]
    },
    {
     "name": "stdout",
     "output_type": "stream",
     "text": [
      "1862\n",
      "[I 2024-02-15 05:42:12,606] Trial 140 finished with value: 10.937372868007385 and parameters: {'thres_for_max': 0.4, 'thres_for_mean': 0.36}. Best is trial 116 with value: 15.789327010715043.\n"
     ]
    },
    {
     "name": "stderr",
     "output_type": "stream",
     "text": [
      "Best trial: 116. Best value: 15.7893:  57%|█████▋    | 142/250 [19:11<14:26,  8.02s/it]"
     ]
    },
    {
     "name": "stdout",
     "output_type": "stream",
     "text": [
      "1871\n",
      "[I 2024-02-15 05:42:20,632] Trial 141 finished with value: 15.506953556727906 and parameters: {'thres_for_max': 0.32999999999999996, 'thres_for_mean': 0.31}. Best is trial 116 with value: 15.789327010715043.\n"
     ]
    },
    {
     "name": "stderr",
     "output_type": "stream",
     "text": [
      "Best trial: 116. Best value: 15.7893:  57%|█████▋    | 143/250 [19:19<14:17,  8.02s/it]"
     ]
    },
    {
     "name": "stdout",
     "output_type": "stream",
     "text": [
      "1870\n",
      "[I 2024-02-15 05:42:28,641] Trial 142 finished with value: 14.136306624774896 and parameters: {'thres_for_max': 0.35, 'thres_for_mean': 0.33999999999999997}. Best is trial 116 with value: 15.789327010715043.\n"
     ]
    },
    {
     "name": "stderr",
     "output_type": "stream",
     "text": [
      "Best trial: 116. Best value: 15.7893:  58%|█████▊    | 144/250 [19:27<14:10,  8.02s/it]"
     ]
    },
    {
     "name": "stdout",
     "output_type": "stream",
     "text": [
      "1871\n",
      "[I 2024-02-15 05:42:36,677] Trial 143 finished with value: 15.415529621411498 and parameters: {'thres_for_max': 0.32999999999999996, 'thres_for_mean': 0.32}. Best is trial 116 with value: 15.789327010715043.\n"
     ]
    },
    {
     "name": "stderr",
     "output_type": "stream",
     "text": [
      "Best trial: 116. Best value: 15.7893:  58%|█████▊    | 145/250 [19:36<14:10,  8.10s/it]"
     ]
    },
    {
     "name": "stdout",
     "output_type": "stream",
     "text": [
      "1872\n",
      "[I 2024-02-15 05:42:44,961] Trial 144 finished with value: 15.493143064718423 and parameters: {'thres_for_max': 0.31, 'thres_for_mean': 0.31}. Best is trial 116 with value: 15.789327010715043.\n"
     ]
    },
    {
     "name": "stderr",
     "output_type": "stream",
     "text": [
      "Best trial: 116. Best value: 15.7893:  58%|█████▊    | 146/250 [19:44<14:12,  8.19s/it]"
     ]
    },
    {
     "name": "stdout",
     "output_type": "stream",
     "text": [
      "1872\n",
      "[I 2024-02-15 05:42:53,365] Trial 145 finished with value: 15.134537520226214 and parameters: {'thres_for_max': 0.3, 'thres_for_mean': 0.31}. Best is trial 116 with value: 15.789327010715043.\n"
     ]
    },
    {
     "name": "stderr",
     "output_type": "stream",
     "text": [
      "Best trial: 116. Best value: 15.7893:  59%|█████▉    | 147/250 [19:53<14:10,  8.26s/it]"
     ]
    },
    {
     "name": "stdout",
     "output_type": "stream",
     "text": [
      "1872\n",
      "[I 2024-02-15 05:43:01,769] Trial 146 finished with value: 15.442000986163926 and parameters: {'thres_for_max': 0.31, 'thres_for_mean': 0.33999999999999997}. Best is trial 116 with value: 15.789327010715043.\n"
     ]
    },
    {
     "name": "stderr",
     "output_type": "stream",
     "text": [
      "Best trial: 116. Best value: 15.7893:  59%|█████▉    | 148/250 [20:01<13:54,  8.18s/it]"
     ]
    },
    {
     "name": "stdout",
     "output_type": "stream",
     "text": [
      "1871\n",
      "[I 2024-02-15 05:43:09,761] Trial 147 finished with value: 15.36876536670926 and parameters: {'thres_for_max': 0.33999999999999997, 'thres_for_mean': 0.32999999999999996}. Best is trial 116 with value: 15.789327010715043.\n"
     ]
    },
    {
     "name": "stderr",
     "output_type": "stream",
     "text": [
      "Best trial: 116. Best value: 15.7893:  60%|█████▉    | 149/250 [20:09<13:42,  8.14s/it]"
     ]
    },
    {
     "name": "stdout",
     "output_type": "stream",
     "text": [
      "1868\n",
      "[I 2024-02-15 05:43:17,822] Trial 148 finished with value: 13.769381537411101 and parameters: {'thres_for_max': 0.36, 'thres_for_mean': 0.35}. Best is trial 116 with value: 15.789327010715043.\n"
     ]
    },
    {
     "name": "stderr",
     "output_type": "stream",
     "text": [
      "Best trial: 116. Best value: 15.7893:  60%|██████    | 150/250 [20:17<13:34,  8.15s/it]"
     ]
    },
    {
     "name": "stdout",
     "output_type": "stream",
     "text": [
      "1872\n",
      "[I 2024-02-15 05:43:25,980] Trial 149 finished with value: 15.318137655669856 and parameters: {'thres_for_max': 0.31, 'thres_for_mean': 0.37}. Best is trial 116 with value: 15.789327010715043.\n"
     ]
    },
    {
     "name": "stderr",
     "output_type": "stream",
     "text": [
      "Best trial: 116. Best value: 15.7893:  60%|██████    | 151/250 [20:25<13:28,  8.17s/it]"
     ]
    },
    {
     "name": "stdout",
     "output_type": "stream",
     "text": [
      "1867\n",
      "[I 2024-02-15 05:43:34,206] Trial 150 finished with value: 14.281310229488419 and parameters: {'thres_for_max': 0.37, 'thres_for_mean': 0.31}. Best is trial 116 with value: 15.789327010715043.\n"
     ]
    },
    {
     "name": "stderr",
     "output_type": "stream",
     "text": [
      "Best trial: 116. Best value: 15.7893:  61%|██████    | 152/250 [20:34<13:30,  8.27s/it]"
     ]
    },
    {
     "name": "stdout",
     "output_type": "stream",
     "text": [
      "1872\n",
      "[I 2024-02-15 05:43:42,711] Trial 151 finished with value: 15.442000986163926 and parameters: {'thres_for_max': 0.31, 'thres_for_mean': 0.33999999999999997}. Best is trial 116 with value: 15.789327010715043.\n"
     ]
    },
    {
     "name": "stderr",
     "output_type": "stream",
     "text": [
      "Best trial: 116. Best value: 15.7893:  61%|██████    | 153/250 [20:42<13:30,  8.35s/it]"
     ]
    },
    {
     "name": "stdout",
     "output_type": "stream",
     "text": [
      "1872\n",
      "[I 2024-02-15 05:43:51,252] Trial 152 finished with value: 14.830462967230696 and parameters: {'thres_for_max': 0.3, 'thres_for_mean': 0.32999999999999996}. Best is trial 116 with value: 15.789327010715043.\n"
     ]
    },
    {
     "name": "stderr",
     "output_type": "stream",
     "text": [
      "Best trial: 116. Best value: 15.7893:  62%|██████▏   | 154/250 [20:50<13:24,  8.38s/it]"
     ]
    },
    {
     "name": "stdout",
     "output_type": "stream",
     "text": [
      "1871\n",
      "[I 2024-02-15 05:43:59,694] Trial 153 finished with value: 15.789327010715043 and parameters: {'thres_for_max': 0.32999999999999996, 'thres_for_mean': 0.36}. Best is trial 116 with value: 15.789327010715043.\n"
     ]
    },
    {
     "name": "stderr",
     "output_type": "stream",
     "text": [
      "Best trial: 116. Best value: 15.7893:  62%|██████▏   | 155/250 [20:59<13:18,  8.40s/it]"
     ]
    },
    {
     "name": "stdout",
     "output_type": "stream",
     "text": [
      "1871\n",
      "[I 2024-02-15 05:44:08,148] Trial 154 finished with value: 15.001170031657676 and parameters: {'thres_for_max': 0.32999999999999996, 'thres_for_mean': 0.38}. Best is trial 116 with value: 15.789327010715043.\n"
     ]
    },
    {
     "name": "stderr",
     "output_type": "stream",
     "text": [
      "Best trial: 116. Best value: 15.7893:  62%|██████▏   | 156/250 [21:07<13:05,  8.36s/it]"
     ]
    },
    {
     "name": "stdout",
     "output_type": "stream",
     "text": [
      "1870\n",
      "[I 2024-02-15 05:44:16,406] Trial 155 finished with value: 14.445356665233161 and parameters: {'thres_for_max': 0.35, 'thres_for_mean': 0.36}. Best is trial 116 with value: 15.789327010715043.\n"
     ]
    },
    {
     "name": "stderr",
     "output_type": "stream",
     "text": [
      "Best trial: 116. Best value: 15.7893:  63%|██████▎   | 157/250 [21:15<12:51,  8.29s/it]"
     ]
    },
    {
     "name": "stdout",
     "output_type": "stream",
     "text": [
      "1871\n",
      "[I 2024-02-15 05:44:24,540] Trial 156 finished with value: 15.472281040464901 and parameters: {'thres_for_max': 0.32, 'thres_for_mean': 0.31}. Best is trial 116 with value: 15.789327010715043.\n"
     ]
    },
    {
     "name": "stderr",
     "output_type": "stream",
     "text": [
      "Best trial: 116. Best value: 15.7893:  63%|██████▎   | 158/250 [21:23<12:35,  8.22s/it]"
     ]
    },
    {
     "name": "stdout",
     "output_type": "stream",
     "text": [
      "1871\n",
      "[I 2024-02-15 05:44:32,578] Trial 157 finished with value: 15.774055717471509 and parameters: {'thres_for_max': 0.33999999999999997, 'thres_for_mean': 0.31}. Best is trial 116 with value: 15.789327010715043.\n"
     ]
    },
    {
     "name": "stderr",
     "output_type": "stream",
     "text": [
      "Best trial: 116. Best value: 15.7893:  64%|██████▎   | 159/250 [21:31<12:18,  8.11s/it]"
     ]
    },
    {
     "name": "stdout",
     "output_type": "stream",
     "text": [
      "1845\n",
      "[I 2024-02-15 05:44:40,446] Trial 158 finished with value: 13.424425917163228 and parameters: {'thres_for_max': 0.77, 'thres_for_mean': 0.31}. Best is trial 116 with value: 15.789327010715043.\n"
     ]
    },
    {
     "name": "stderr",
     "output_type": "stream",
     "text": [
      "Best trial: 116. Best value: 15.7893:  64%|██████▍   | 160/250 [21:39<12:04,  8.05s/it]"
     ]
    },
    {
     "name": "stdout",
     "output_type": "stream",
     "text": [
      "1871\n",
      "[I 2024-02-15 05:44:48,355] Trial 159 finished with value: 15.229098716363586 and parameters: {'thres_for_max': 0.32, 'thres_for_mean': 0.4}. Best is trial 116 with value: 15.789327010715043.\n"
     ]
    },
    {
     "name": "stderr",
     "output_type": "stream",
     "text": [
      "Best trial: 116. Best value: 15.7893:  64%|██████▍   | 161/250 [21:47<11:57,  8.06s/it]"
     ]
    },
    {
     "name": "stdout",
     "output_type": "stream",
     "text": [
      "1871\n",
      "[I 2024-02-15 05:44:56,434] Trial 160 finished with value: 15.774055717471509 and parameters: {'thres_for_max': 0.33999999999999997, 'thres_for_mean': 0.31}. Best is trial 116 with value: 15.789327010715043.\n"
     ]
    },
    {
     "name": "stderr",
     "output_type": "stream",
     "text": [
      "Best trial: 116. Best value: 15.7893:  65%|██████▍   | 162/250 [21:55<11:51,  8.09s/it]"
     ]
    },
    {
     "name": "stdout",
     "output_type": "stream",
     "text": [
      "1871\n",
      "[I 2024-02-15 05:45:04,585] Trial 161 finished with value: 15.774055717471509 and parameters: {'thres_for_max': 0.33999999999999997, 'thres_for_mean': 0.31}. Best is trial 116 with value: 15.789327010715043.\n"
     ]
    },
    {
     "name": "stderr",
     "output_type": "stream",
     "text": [
      "Best trial: 116. Best value: 15.7893:  65%|██████▌   | 163/250 [22:03<11:43,  8.09s/it]"
     ]
    },
    {
     "name": "stdout",
     "output_type": "stream",
     "text": [
      "1870\n",
      "[I 2024-02-15 05:45:12,683] Trial 162 finished with value: 14.65247633626823 and parameters: {'thres_for_max': 0.35, 'thres_for_mean': 0.3}. Best is trial 116 with value: 15.789327010715043.\n"
     ]
    },
    {
     "name": "stderr",
     "output_type": "stream",
     "text": [
      "Best trial: 116. Best value: 15.7893:  66%|██████▌   | 164/250 [22:11<11:30,  8.03s/it]"
     ]
    },
    {
     "name": "stdout",
     "output_type": "stream",
     "text": [
      "1871\n",
      "[I 2024-02-15 05:45:20,587] Trial 163 finished with value: 15.657987935018898 and parameters: {'thres_for_max': 0.33999999999999997, 'thres_for_mean': 0.32}. Best is trial 116 with value: 15.789327010715043.\n"
     ]
    },
    {
     "name": "stderr",
     "output_type": "stream",
     "text": [
      "Best trial: 116. Best value: 15.7893:  66%|██████▌   | 165/250 [22:20<11:25,  8.06s/it]"
     ]
    },
    {
     "name": "stdout",
     "output_type": "stream",
     "text": [
      "1871\n",
      "[I 2024-02-15 05:45:28,708] Trial 164 finished with value: 15.657987935018898 and parameters: {'thres_for_max': 0.33999999999999997, 'thres_for_mean': 0.32}. Best is trial 116 with value: 15.789327010715043.\n"
     ]
    },
    {
     "name": "stderr",
     "output_type": "stream",
     "text": [
      "Best trial: 116. Best value: 15.7893:  66%|██████▋   | 166/250 [22:28<11:20,  8.10s/it]"
     ]
    },
    {
     "name": "stdout",
     "output_type": "stream",
     "text": [
      "1868\n",
      "[I 2024-02-15 05:45:36,890] Trial 165 finished with value: 13.676331106881861 and parameters: {'thres_for_max': 0.36, 'thres_for_mean': 0.32999999999999996}. Best is trial 116 with value: 15.789327010715043.\n"
     ]
    },
    {
     "name": "stderr",
     "output_type": "stream",
     "text": [
      "Best trial: 116. Best value: 15.7893:  67%|██████▋   | 167/250 [22:36<11:19,  8.19s/it]"
     ]
    },
    {
     "name": "stdout",
     "output_type": "stream",
     "text": [
      "1864\n",
      "[I 2024-02-15 05:45:45,301] Trial 166 finished with value: 13.435383170823819 and parameters: {'thres_for_max': 0.38, 'thres_for_mean': 0.32}. Best is trial 116 with value: 15.789327010715043.\n"
     ]
    },
    {
     "name": "stderr",
     "output_type": "stream",
     "text": [
      "Best trial: 116. Best value: 15.7893:  67%|██████▋   | 168/250 [22:44<11:14,  8.23s/it]"
     ]
    },
    {
     "name": "stdout",
     "output_type": "stream",
     "text": [
      "1870\n",
      "[I 2024-02-15 05:45:53,623] Trial 167 finished with value: 14.056493805502873 and parameters: {'thres_for_max': 0.35, 'thres_for_mean': 0.35}. Best is trial 116 with value: 15.789327010715043.\n"
     ]
    },
    {
     "name": "stderr",
     "output_type": "stream",
     "text": [
      "Best trial: 116. Best value: 15.7893:  68%|██████▊   | 169/250 [22:53<11:03,  8.20s/it]"
     ]
    },
    {
     "name": "stdout",
     "output_type": "stream",
     "text": [
      "1871\n",
      "[I 2024-02-15 05:46:01,743] Trial 168 finished with value: 15.507453001662638 and parameters: {'thres_for_max': 0.33999999999999997, 'thres_for_mean': 0.37}. Best is trial 116 with value: 15.789327010715043.\n"
     ]
    },
    {
     "name": "stderr",
     "output_type": "stream",
     "text": [
      "Best trial: 116. Best value: 15.7893:  68%|██████▊   | 170/250 [23:01<10:51,  8.14s/it]"
     ]
    },
    {
     "name": "stdout",
     "output_type": "stream",
     "text": [
      "1871\n",
      "[I 2024-02-15 05:46:09,762] Trial 169 finished with value: 15.507453001662638 and parameters: {'thres_for_max': 0.33999999999999997, 'thres_for_mean': 0.37}. Best is trial 116 with value: 15.789327010715043.\n"
     ]
    },
    {
     "name": "stderr",
     "output_type": "stream",
     "text": [
      "Best trial: 116. Best value: 15.7893:  68%|██████▊   | 171/250 [23:09<10:42,  8.14s/it]"
     ]
    },
    {
     "name": "stdout",
     "output_type": "stream",
     "text": [
      "1867\n",
      "[I 2024-02-15 05:46:17,880] Trial 170 finished with value: 13.600357165955833 and parameters: {'thres_for_max': 0.37, 'thres_for_mean': 0.39}. Best is trial 116 with value: 15.789327010715043.\n"
     ]
    },
    {
     "name": "stderr",
     "output_type": "stream",
     "text": [
      "Best trial: 116. Best value: 15.7893:  69%|██████▉   | 172/250 [23:17<10:32,  8.11s/it]"
     ]
    },
    {
     "name": "stdout",
     "output_type": "stream",
     "text": [
      "1871\n",
      "[I 2024-02-15 05:46:25,938] Trial 171 finished with value: 15.507453001662638 and parameters: {'thres_for_max': 0.33999999999999997, 'thres_for_mean': 0.37}. Best is trial 116 with value: 15.789327010715043.\n"
     ]
    },
    {
     "name": "stderr",
     "output_type": "stream",
     "text": [
      "Best trial: 116. Best value: 15.7893:  69%|██████▉   | 173/250 [23:25<10:21,  8.07s/it]"
     ]
    },
    {
     "name": "stdout",
     "output_type": "stream",
     "text": [
      "1871\n",
      "[I 2024-02-15 05:46:33,918] Trial 172 finished with value: 15.507453001662638 and parameters: {'thres_for_max': 0.33999999999999997, 'thres_for_mean': 0.37}. Best is trial 116 with value: 15.789327010715043.\n"
     ]
    },
    {
     "name": "stderr",
     "output_type": "stream",
     "text": [
      "Best trial: 116. Best value: 15.7893:  70%|██████▉   | 174/250 [23:33<10:17,  8.12s/it]"
     ]
    },
    {
     "name": "stdout",
     "output_type": "stream",
     "text": [
      "1871\n",
      "[I 2024-02-15 05:46:42,151] Trial 173 finished with value: 15.534578800206967 and parameters: {'thres_for_max': 0.33999999999999997, 'thres_for_mean': 0.41}. Best is trial 116 with value: 15.789327010715043.\n"
     ]
    },
    {
     "name": "stderr",
     "output_type": "stream",
     "text": [
      "Best trial: 116. Best value: 15.7893:  70%|███████   | 175/250 [23:41<10:12,  8.17s/it]"
     ]
    },
    {
     "name": "stdout",
     "output_type": "stream",
     "text": [
      "1868\n",
      "[I 2024-02-15 05:46:50,423] Trial 174 finished with value: 13.680003852515725 and parameters: {'thres_for_max': 0.36, 'thres_for_mean': 0.4}. Best is trial 116 with value: 15.789327010715043.\n"
     ]
    },
    {
     "name": "stderr",
     "output_type": "stream",
     "text": [
      "Best trial: 116. Best value: 15.7893:  70%|███████   | 176/250 [23:50<10:12,  8.28s/it]"
     ]
    },
    {
     "name": "stdout",
     "output_type": "stream",
     "text": [
      "1871\n",
      "[I 2024-02-15 05:46:58,981] Trial 175 finished with value: 15.172941375019521 and parameters: {'thres_for_max': 0.33999999999999997, 'thres_for_mean': 0.38}. Best is trial 116 with value: 15.789327010715043.\n"
     ]
    },
    {
     "name": "stderr",
     "output_type": "stream",
     "text": [
      "Best trial: 116. Best value: 15.7893:  71%|███████   | 177/250 [23:58<10:00,  8.22s/it]"
     ]
    },
    {
     "name": "stdout",
     "output_type": "stream",
     "text": [
      "1868\n",
      "[I 2024-02-15 05:47:07,068] Trial 176 finished with value: 13.765080395564482 and parameters: {'thres_for_max': 0.36, 'thres_for_mean': 0.41}. Best is trial 116 with value: 15.789327010715043.\n"
     ]
    },
    {
     "name": "stderr",
     "output_type": "stream",
     "text": [
      "Best trial: 116. Best value: 15.7893:  71%|███████   | 178/250 [24:06<09:49,  8.19s/it]"
     ]
    },
    {
     "name": "stdout",
     "output_type": "stream",
     "text": [
      "1870\n",
      "[I 2024-02-15 05:47:15,174] Trial 177 finished with value: 14.445356665233161 and parameters: {'thres_for_max': 0.35, 'thres_for_mean': 0.36}. Best is trial 116 with value: 15.789327010715043.\n"
     ]
    },
    {
     "name": "stderr",
     "output_type": "stream",
     "text": [
      "Best trial: 116. Best value: 15.7893:  72%|███████▏  | 179/250 [24:14<09:39,  8.16s/it]"
     ]
    },
    {
     "name": "stdout",
     "output_type": "stream",
     "text": [
      "1871\n",
      "[I 2024-02-15 05:47:23,253] Trial 178 finished with value: 15.69645500485357 and parameters: {'thres_for_max': 0.33999999999999997, 'thres_for_mean': 0.55}. Best is trial 116 with value: 15.789327010715043.\n"
     ]
    },
    {
     "name": "stderr",
     "output_type": "stream",
     "text": [
      "Best trial: 116. Best value: 15.7893:  72%|███████▏  | 180/250 [24:23<09:37,  8.25s/it]"
     ]
    },
    {
     "name": "stdout",
     "output_type": "stream",
     "text": [
      "1871\n",
      "[I 2024-02-15 05:47:31,709] Trial 179 finished with value: 15.287169357372905 and parameters: {'thres_for_max': 0.32, 'thres_for_mean': 0.44999999999999996}. Best is trial 116 with value: 15.789327010715043.\n"
     ]
    },
    {
     "name": "stderr",
     "output_type": "stream",
     "text": [
      "Best trial: 116. Best value: 15.7893:  72%|███████▏  | 181/250 [24:31<09:27,  8.22s/it]"
     ]
    },
    {
     "name": "stdout",
     "output_type": "stream",
     "text": [
      "1864\n",
      "[I 2024-02-15 05:47:39,871] Trial 180 finished with value: 12.998827277045713 and parameters: {'thres_for_max': 0.38, 'thres_for_mean': 0.49}. Best is trial 116 with value: 15.789327010715043.\n"
     ]
    },
    {
     "name": "stderr",
     "output_type": "stream",
     "text": [
      "Best trial: 116. Best value: 15.7893:  73%|███████▎  | 182/250 [24:39<09:19,  8.23s/it]"
     ]
    },
    {
     "name": "stdout",
     "output_type": "stream",
     "text": [
      "1871\n",
      "[I 2024-02-15 05:47:48,127] Trial 181 finished with value: 15.647848206892263 and parameters: {'thres_for_max': 0.33999999999999997, 'thres_for_mean': 0.5700000000000001}. Best is trial 116 with value: 15.789327010715043.\n"
     ]
    },
    {
     "name": "stderr",
     "output_type": "stream",
     "text": [
      "Best trial: 116. Best value: 15.7893:  73%|███████▎  | 183/250 [24:47<09:04,  8.13s/it]"
     ]
    },
    {
     "name": "stdout",
     "output_type": "stream",
     "text": [
      "1871\n",
      "[I 2024-02-15 05:47:56,032] Trial 182 finished with value: 15.436319628424899 and parameters: {'thres_for_max': 0.32, 'thres_for_mean': 0.5700000000000001}. Best is trial 116 with value: 15.789327010715043.\n"
     ]
    },
    {
     "name": "stderr",
     "output_type": "stream",
     "text": [
      "Best trial: 116. Best value: 15.7893:  74%|███████▎  | 184/250 [24:55<08:59,  8.17s/it]"
     ]
    },
    {
     "name": "stdout",
     "output_type": "stream",
     "text": [
      "1871\n",
      "[I 2024-02-15 05:48:04,282] Trial 183 finished with value: 15.495700841704522 and parameters: {'thres_for_max': 0.33999999999999997, 'thres_for_mean': 0.54}. Best is trial 116 with value: 15.789327010715043.\n"
     ]
    },
    {
     "name": "stderr",
     "output_type": "stream",
     "text": [
      "Best trial: 116. Best value: 15.7893:  74%|███████▍  | 185/250 [25:03<08:49,  8.14s/it]"
     ]
    },
    {
     "name": "stdout",
     "output_type": "stream",
     "text": [
      "1005\n",
      "[I 2024-02-15 05:48:12,360] Trial 184 finished with value: 14.05358437163376 and parameters: {'thres_for_max': 0.8700000000000001, 'thres_for_mean': 0.59}. Best is trial 116 with value: 15.789327010715043.\n"
     ]
    },
    {
     "name": "stderr",
     "output_type": "stream",
     "text": [
      "Best trial: 116. Best value: 15.7893:  74%|███████▍  | 186/250 [25:11<08:41,  8.15s/it]"
     ]
    },
    {
     "name": "stdout",
     "output_type": "stream",
     "text": [
      "1870\n",
      "[I 2024-02-15 05:48:20,514] Trial 185 finished with value: 14.014589507499862 and parameters: {'thres_for_max': 0.35, 'thres_for_mean': 0.54}. Best is trial 116 with value: 15.789327010715043.\n"
     ]
    },
    {
     "name": "stderr",
     "output_type": "stream",
     "text": [
      "Best trial: 116. Best value: 15.7893:  75%|███████▍  | 187/250 [25:19<08:31,  8.11s/it]"
     ]
    },
    {
     "name": "stdout",
     "output_type": "stream",
     "text": [
      "1872\n",
      "[I 2024-02-15 05:48:28,557] Trial 186 finished with value: 15.097146085926552 and parameters: {'thres_for_max': 0.3, 'thres_for_mean': 0.56}. Best is trial 116 with value: 15.789327010715043.\n"
     ]
    },
    {
     "name": "stderr",
     "output_type": "stream",
     "text": [
      "Best trial: 116. Best value: 15.7893:  75%|███████▌  | 188/250 [25:27<08:20,  8.08s/it]"
     ]
    },
    {
     "name": "stdout",
     "output_type": "stream",
     "text": [
      "1871\n",
      "[I 2024-02-15 05:48:36,550] Trial 187 finished with value: 15.436319628424899 and parameters: {'thres_for_max': 0.32, 'thres_for_mean': 0.5700000000000001}. Best is trial 116 with value: 15.789327010715043.\n"
     ]
    },
    {
     "name": "stderr",
     "output_type": "stream",
     "text": [
      "Best trial: 116. Best value: 15.7893:  76%|███████▌  | 189/250 [25:35<08:11,  8.06s/it]"
     ]
    },
    {
     "name": "stdout",
     "output_type": "stream",
     "text": [
      "1867\n",
      "[I 2024-02-15 05:48:44,574] Trial 188 finished with value: 13.876929469315359 and parameters: {'thres_for_max': 0.37, 'thres_for_mean': 0.6}. Best is trial 116 with value: 15.789327010715043.\n"
     ]
    },
    {
     "name": "stderr",
     "output_type": "stream",
     "text": [
      "Best trial: 116. Best value: 15.7893:  76%|███████▌  | 190/250 [25:43<08:02,  8.04s/it]"
     ]
    },
    {
     "name": "stdout",
     "output_type": "stream",
     "text": [
      "1871\n",
      "[I 2024-02-15 05:48:52,571] Trial 189 finished with value: 15.541246048024822 and parameters: {'thres_for_max': 0.33999999999999997, 'thres_for_mean': 0.35}. Best is trial 116 with value: 15.789327010715043.\n"
     ]
    },
    {
     "name": "stderr",
     "output_type": "stream",
     "text": [
      "Best trial: 116. Best value: 15.7893:  76%|███████▋  | 191/250 [25:52<07:58,  8.11s/it]"
     ]
    },
    {
     "name": "stdout",
     "output_type": "stream",
     "text": [
      "1871\n",
      "[I 2024-02-15 05:49:00,854] Trial 190 finished with value: 15.365102480920253 and parameters: {'thres_for_max': 0.32999999999999996, 'thres_for_mean': 0.35}. Best is trial 116 with value: 15.789327010715043.\n"
     ]
    },
    {
     "name": "stderr",
     "output_type": "stream",
     "text": [
      "Best trial: 116. Best value: 15.7893:  77%|███████▋  | 192/250 [26:00<07:49,  8.10s/it]"
     ]
    },
    {
     "name": "stdout",
     "output_type": "stream",
     "text": [
      "1870\n",
      "[I 2024-02-15 05:49:08,914] Trial 191 finished with value: 13.89827875340746 and parameters: {'thres_for_max': 0.35, 'thres_for_mean': 0.32999999999999996}. Best is trial 116 with value: 15.789327010715043.\n"
     ]
    },
    {
     "name": "stderr",
     "output_type": "stream",
     "text": [
      "Best trial: 116. Best value: 15.7893:  77%|███████▋  | 193/250 [26:08<07:38,  8.04s/it]"
     ]
    },
    {
     "name": "stdout",
     "output_type": "stream",
     "text": [
      "1871\n",
      "[I 2024-02-15 05:49:16,830] Trial 192 finished with value: 15.121916177486996 and parameters: {'thres_for_max': 0.33999999999999997, 'thres_for_mean': 0.62}. Best is trial 116 with value: 15.789327010715043.\n"
     ]
    },
    {
     "name": "stderr",
     "output_type": "stream",
     "text": [
      "Best trial: 116. Best value: 15.7893:  78%|███████▊  | 194/250 [26:16<07:34,  8.11s/it]"
     ]
    },
    {
     "name": "stdout",
     "output_type": "stream",
     "text": [
      "1872\n",
      "[I 2024-02-15 05:49:25,089] Trial 193 finished with value: 15.352170487951012 and parameters: {'thres_for_max': 0.31, 'thres_for_mean': 0.35}. Best is trial 116 with value: 15.789327010715043.\n"
     ]
    },
    {
     "name": "stderr",
     "output_type": "stream",
     "text": [
      "Best trial: 116. Best value: 15.7893:  78%|███████▊  | 195/250 [26:24<07:28,  8.15s/it]"
     ]
    },
    {
     "name": "stdout",
     "output_type": "stream",
     "text": [
      "1868\n",
      "[I 2024-02-15 05:49:33,340] Trial 194 finished with value: 13.575153371038724 and parameters: {'thres_for_max': 0.36, 'thres_for_mean': 0.5}. Best is trial 116 with value: 15.789327010715043.\n"
     ]
    },
    {
     "name": "stderr",
     "output_type": "stream",
     "text": [
      "Best trial: 116. Best value: 15.7893:  78%|███████▊  | 196/250 [26:32<07:18,  8.12s/it]"
     ]
    },
    {
     "name": "stdout",
     "output_type": "stream",
     "text": [
      "1871\n",
      "[I 2024-02-15 05:49:41,373] Trial 195 finished with value: 15.194788809758395 and parameters: {'thres_for_max': 0.32999999999999996, 'thres_for_mean': 0.32999999999999996}. Best is trial 116 with value: 15.789327010715043.\n"
     ]
    },
    {
     "name": "stderr",
     "output_type": "stream",
     "text": [
      "Best trial: 116. Best value: 15.7893:  79%|███████▉  | 197/250 [26:40<07:07,  8.07s/it]"
     ]
    },
    {
     "name": "stdout",
     "output_type": "stream",
     "text": [
      "1871\n",
      "[I 2024-02-15 05:49:49,338] Trial 196 finished with value: 15.541246048024822 and parameters: {'thres_for_max': 0.33999999999999997, 'thres_for_mean': 0.35}. Best is trial 116 with value: 15.789327010715043.\n"
     ]
    },
    {
     "name": "stderr",
     "output_type": "stream",
     "text": [
      "Best trial: 116. Best value: 15.7893:  79%|███████▉  | 198/250 [26:48<06:55,  7.99s/it]"
     ]
    },
    {
     "name": "stdout",
     "output_type": "stream",
     "text": [
      "1871\n",
      "[I 2024-02-15 05:49:57,153] Trial 197 finished with value: 15.161723811984466 and parameters: {'thres_for_max': 0.32, 'thres_for_mean': 0.32999999999999996}. Best is trial 116 with value: 15.789327010715043.\n"
     ]
    },
    {
     "name": "stderr",
     "output_type": "stream",
     "text": [
      "Best trial: 116. Best value: 15.7893:  80%|███████▉  | 199/250 [26:56<06:54,  8.12s/it]"
     ]
    },
    {
     "name": "stdout",
     "output_type": "stream",
     "text": [
      "1870\n",
      "[I 2024-02-15 05:50:05,570] Trial 198 finished with value: 14.056493805502873 and parameters: {'thres_for_max': 0.35, 'thres_for_mean': 0.35}. Best is trial 116 with value: 15.789327010715043.\n"
     ]
    },
    {
     "name": "stderr",
     "output_type": "stream",
     "text": [
      "Best trial: 116. Best value: 15.7893:  80%|████████  | 200/250 [27:04<06:45,  8.11s/it]"
     ]
    },
    {
     "name": "stdout",
     "output_type": "stream",
     "text": [
      "1867\n",
      "[I 2024-02-15 05:50:13,647] Trial 199 finished with value: 14.100531798374385 and parameters: {'thres_for_max': 0.37, 'thres_for_mean': 0.32}. Best is trial 116 with value: 15.789327010715043.\n"
     ]
    },
    {
     "name": "stderr",
     "output_type": "stream",
     "text": [
      "Best trial: 116. Best value: 15.7893:  80%|████████  | 201/250 [27:12<06:35,  8.08s/it]"
     ]
    },
    {
     "name": "stdout",
     "output_type": "stream",
     "text": [
      "1872\n",
      "[I 2024-02-15 05:50:21,651] Trial 200 finished with value: 15.775310826273003 and parameters: {'thres_for_max': 0.31, 'thres_for_mean': 0.36}. Best is trial 116 with value: 15.789327010715043.\n"
     ]
    },
    {
     "name": "stderr",
     "output_type": "stream",
     "text": [
      "Best trial: 116. Best value: 15.7893:  81%|████████  | 202/250 [27:20<06:25,  8.03s/it]"
     ]
    },
    {
     "name": "stdout",
     "output_type": "stream",
     "text": [
      "1872\n",
      "[I 2024-02-15 05:50:29,581] Trial 201 finished with value: 15.775310826273003 and parameters: {'thres_for_max': 0.31, 'thres_for_mean': 0.36}. Best is trial 116 with value: 15.789327010715043.\n"
     ]
    },
    {
     "name": "stderr",
     "output_type": "stream",
     "text": [
      "Best trial: 116. Best value: 15.7893:  81%|████████  | 203/250 [27:28<06:16,  8.02s/it]"
     ]
    },
    {
     "name": "stdout",
     "output_type": "stream",
     "text": [
      "1872\n",
      "[I 2024-02-15 05:50:37,576] Trial 202 finished with value: 15.409690674371799 and parameters: {'thres_for_max': 0.3, 'thres_for_mean': 0.36}. Best is trial 116 with value: 15.789327010715043.\n"
     ]
    },
    {
     "name": "stderr",
     "output_type": "stream",
     "text": [
      "Best trial: 116. Best value: 15.7893:  82%|████████▏ | 204/250 [27:36<06:07,  7.98s/it]"
     ]
    },
    {
     "name": "stdout",
     "output_type": "stream",
     "text": [
      "1872\n",
      "[I 2024-02-15 05:50:45,468] Trial 203 finished with value: 15.442000986163926 and parameters: {'thres_for_max': 0.31, 'thres_for_mean': 0.33999999999999997}. Best is trial 116 with value: 15.789327010715043.\n"
     ]
    },
    {
     "name": "stderr",
     "output_type": "stream",
     "text": [
      "Best trial: 116. Best value: 15.7893:  82%|████████▏ | 205/250 [27:44<05:56,  7.92s/it]"
     ]
    },
    {
     "name": "stdout",
     "output_type": "stream",
     "text": [
      "1871\n",
      "[I 2024-02-15 05:50:53,237] Trial 204 finished with value: 14.919353842513397 and parameters: {'thres_for_max': 0.32, 'thres_for_mean': 0.39}. Best is trial 116 with value: 15.789327010715043.\n"
     ]
    },
    {
     "name": "stderr",
     "output_type": "stream",
     "text": [
      "Best trial: 116. Best value: 15.7893:  82%|████████▏ | 206/250 [27:52<05:50,  7.96s/it]"
     ]
    },
    {
     "name": "stdout",
     "output_type": "stream",
     "text": [
      "1872\n",
      "[I 2024-02-15 05:51:01,280] Trial 205 finished with value: 15.344289666727418 and parameters: {'thres_for_max': 0.31, 'thres_for_mean': 0.3}. Best is trial 116 with value: 15.789327010715043.\n"
     ]
    },
    {
     "name": "stderr",
     "output_type": "stream",
     "text": [
      "Best trial: 116. Best value: 15.7893:  83%|████████▎ | 207/250 [28:00<05:42,  7.97s/it]"
     ]
    },
    {
     "name": "stdout",
     "output_type": "stream",
     "text": [
      "1871\n",
      "[I 2024-02-15 05:51:09,286] Trial 206 finished with value: 15.415529621411498 and parameters: {'thres_for_max': 0.32999999999999996, 'thres_for_mean': 0.32}. Best is trial 116 with value: 15.789327010715043.\n"
     ]
    },
    {
     "name": "stderr",
     "output_type": "stream",
     "text": [
      "Best trial: 116. Best value: 15.7893:  83%|████████▎ | 208/250 [28:08<05:34,  7.98s/it]"
     ]
    },
    {
     "name": "stdout",
     "output_type": "stream",
     "text": [
      "1872\n",
      "[I 2024-02-15 05:51:17,272] Trial 207 finished with value: 15.409690674371799 and parameters: {'thres_for_max': 0.3, 'thres_for_mean': 0.36}. Best is trial 116 with value: 15.789327010715043.\n"
     ]
    },
    {
     "name": "stderr",
     "output_type": "stream",
     "text": [
      "Best trial: 116. Best value: 15.7893:  84%|████████▎ | 209/250 [28:16<05:27,  7.99s/it]"
     ]
    },
    {
     "name": "stdout",
     "output_type": "stream",
     "text": [
      "1871\n",
      "[I 2024-02-15 05:51:25,307] Trial 208 finished with value: 15.421274267969022 and parameters: {'thres_for_max': 0.32, 'thres_for_mean': 0.33999999999999997}. Best is trial 116 with value: 15.789327010715043.\n"
     ]
    },
    {
     "name": "stderr",
     "output_type": "stream",
     "text": [
      "Best trial: 116. Best value: 15.7893:  84%|████████▍ | 210/250 [28:24<05:18,  7.96s/it]"
     ]
    },
    {
     "name": "stdout",
     "output_type": "stream",
     "text": [
      "1871\n",
      "[I 2024-02-15 05:51:33,183] Trial 209 finished with value: 15.541246048024822 and parameters: {'thres_for_max': 0.33999999999999997, 'thres_for_mean': 0.35}. Best is trial 116 with value: 15.789327010715043.\n"
     ]
    },
    {
     "name": "stderr",
     "output_type": "stream",
     "text": [
      "Best trial: 116. Best value: 15.7893:  84%|████████▍ | 211/250 [28:32<05:09,  7.93s/it]"
     ]
    },
    {
     "name": "stdout",
     "output_type": "stream",
     "text": [
      "1871\n",
      "[I 2024-02-15 05:51:41,053] Trial 210 finished with value: 15.001170031657676 and parameters: {'thres_for_max': 0.32999999999999996, 'thres_for_mean': 0.38}. Best is trial 116 with value: 15.789327010715043.\n"
     ]
    },
    {
     "name": "stderr",
     "output_type": "stream",
     "text": [
      "Best trial: 116. Best value: 15.7893:  85%|████████▍ | 212/250 [28:40<05:00,  7.91s/it]"
     ]
    },
    {
     "name": "stdout",
     "output_type": "stream",
     "text": [
      "1871\n",
      "[I 2024-02-15 05:51:48,910] Trial 211 finished with value: 15.541246048024822 and parameters: {'thres_for_max': 0.33999999999999997, 'thres_for_mean': 0.35}. Best is trial 116 with value: 15.789327010715043.\n"
     ]
    },
    {
     "name": "stderr",
     "output_type": "stream",
     "text": [
      "Best trial: 116. Best value: 15.7893:  85%|████████▌ | 213/250 [28:48<04:52,  7.91s/it]"
     ]
    },
    {
     "name": "stdout",
     "output_type": "stream",
     "text": [
      "1871\n",
      "[I 2024-02-15 05:51:56,810] Trial 212 finished with value: 15.541246048024822 and parameters: {'thres_for_max': 0.33999999999999997, 'thres_for_mean': 0.35}. Best is trial 116 with value: 15.789327010715043.\n"
     ]
    },
    {
     "name": "stderr",
     "output_type": "stream",
     "text": [
      "Best trial: 116. Best value: 15.7893:  86%|████████▌ | 214/250 [28:56<04:45,  7.93s/it]"
     ]
    },
    {
     "name": "stdout",
     "output_type": "stream",
     "text": [
      "1871\n",
      "[I 2024-02-15 05:52:04,796] Trial 213 finished with value: 15.161723811984466 and parameters: {'thres_for_max': 0.32, 'thres_for_mean': 0.32999999999999996}. Best is trial 116 with value: 15.789327010715043.\n"
     ]
    },
    {
     "name": "stderr",
     "output_type": "stream",
     "text": [
      "Best trial: 116. Best value: 15.7893:  86%|████████▌ | 215/250 [29:03<04:37,  7.92s/it]"
     ]
    },
    {
     "name": "stdout",
     "output_type": "stream",
     "text": [
      "1870\n",
      "[I 2024-02-15 05:52:12,698] Trial 214 finished with value: 14.445356665233161 and parameters: {'thres_for_max': 0.35, 'thres_for_mean': 0.36}. Best is trial 116 with value: 15.789327010715043.\n"
     ]
    },
    {
     "name": "stderr",
     "output_type": "stream",
     "text": [
      "Best trial: 116. Best value: 15.7893:  86%|████████▋ | 216/250 [29:11<04:28,  7.89s/it]"
     ]
    },
    {
     "name": "stdout",
     "output_type": "stream",
     "text": [
      "1872\n",
      "[I 2024-02-15 05:52:20,510] Trial 215 finished with value: 15.352170487951012 and parameters: {'thres_for_max': 0.31, 'thres_for_mean': 0.35}. Best is trial 116 with value: 15.789327010715043.\n"
     ]
    },
    {
     "name": "stderr",
     "output_type": "stream",
     "text": [
      "Best trial: 116. Best value: 15.7893:  87%|████████▋ | 217/250 [29:19<04:20,  7.89s/it]"
     ]
    },
    {
     "name": "stdout",
     "output_type": "stream",
     "text": [
      "1871\n",
      "[I 2024-02-15 05:52:28,387] Trial 216 finished with value: 15.415529621411498 and parameters: {'thres_for_max': 0.32999999999999996, 'thres_for_mean': 0.32}. Best is trial 116 with value: 15.789327010715043.\n"
     ]
    },
    {
     "name": "stderr",
     "output_type": "stream",
     "text": [
      "Best trial: 116. Best value: 15.7893:  87%|████████▋ | 218/250 [29:27<04:12,  7.90s/it]"
     ]
    },
    {
     "name": "stdout",
     "output_type": "stream",
     "text": [
      "1868\n",
      "[I 2024-02-15 05:52:36,313] Trial 217 finished with value: 14.489746944761851 and parameters: {'thres_for_max': 0.36, 'thres_for_mean': 0.3}. Best is trial 116 with value: 15.789327010715043.\n"
     ]
    },
    {
     "name": "stderr",
     "output_type": "stream",
     "text": [
      "Best trial: 116. Best value: 15.7893:  88%|████████▊ | 219/250 [29:35<04:03,  7.86s/it]"
     ]
    },
    {
     "name": "stdout",
     "output_type": "stream",
     "text": [
      "1871\n",
      "[I 2024-02-15 05:52:44,087] Trial 218 finished with value: 15.421274267969022 and parameters: {'thres_for_max': 0.32, 'thres_for_mean': 0.33999999999999997}. Best is trial 116 with value: 15.789327010715043.\n"
     ]
    },
    {
     "name": "stderr",
     "output_type": "stream",
     "text": [
      "Best trial: 219. Best value: 15.9705:  88%|████████▊ | 220/250 [29:43<03:55,  7.84s/it]"
     ]
    },
    {
     "name": "stdout",
     "output_type": "stream",
     "text": [
      "1871\n",
      "[I 2024-02-15 05:52:51,870] Trial 219 finished with value: 15.970479374043691 and parameters: {'thres_for_max': 0.33999999999999997, 'thres_for_mean': 0.36}. Best is trial 219 with value: 15.970479374043691.\n"
     ]
    },
    {
     "name": "stderr",
     "output_type": "stream",
     "text": [
      "Best trial: 219. Best value: 15.9705:  88%|████████▊ | 221/250 [29:51<03:48,  7.87s/it]"
     ]
    },
    {
     "name": "stdout",
     "output_type": "stream",
     "text": [
      "1872\n",
      "[I 2024-02-15 05:52:59,809] Trial 220 finished with value: 14.988150270544645 and parameters: {'thres_for_max': 0.31, 'thres_for_mean': 0.38}. Best is trial 219 with value: 15.970479374043691.\n"
     ]
    },
    {
     "name": "stderr",
     "output_type": "stream",
     "text": [
      "Best trial: 219. Best value: 15.9705:  89%|████████▉ | 222/250 [29:58<03:40,  7.86s/it]"
     ]
    },
    {
     "name": "stdout",
     "output_type": "stream",
     "text": [
      "1798\n",
      "[I 2024-02-15 05:53:07,664] Trial 221 finished with value: 12.97970030228196 and parameters: {'thres_for_max': 0.5700000000000001, 'thres_for_mean': 0.36}. Best is trial 219 with value: 15.970479374043691.\n"
     ]
    },
    {
     "name": "stderr",
     "output_type": "stream",
     "text": [
      "Best trial: 219. Best value: 15.9705:  89%|████████▉ | 223/250 [30:06<03:32,  7.87s/it]"
     ]
    },
    {
     "name": "stdout",
     "output_type": "stream",
     "text": [
      "1871\n",
      "[I 2024-02-15 05:53:15,532] Trial 222 finished with value: 15.199460890651178 and parameters: {'thres_for_max': 0.33999999999999997, 'thres_for_mean': 0.6599999999999999}. Best is trial 219 with value: 15.970479374043691.\n"
     ]
    },
    {
     "name": "stderr",
     "output_type": "stream",
     "text": [
      "Best trial: 219. Best value: 15.9705:  90%|████████▉ | 224/250 [30:14<03:25,  7.92s/it]"
     ]
    },
    {
     "name": "stdout",
     "output_type": "stream",
     "text": [
      "1871\n",
      "[I 2024-02-15 05:53:23,563] Trial 223 finished with value: 15.331734137981163 and parameters: {'thres_for_max': 0.32999999999999996, 'thres_for_mean': 0.37}. Best is trial 219 with value: 15.970479374043691.\n"
     ]
    },
    {
     "name": "stderr",
     "output_type": "stream",
     "text": [
      "Best trial: 219. Best value: 15.9705:  90%|█████████ | 225/250 [30:22<03:17,  7.90s/it]"
     ]
    },
    {
     "name": "stdout",
     "output_type": "stream",
     "text": [
      "1870\n",
      "[I 2024-02-15 05:53:31,423] Trial 224 finished with value: 13.89827875340746 and parameters: {'thres_for_max': 0.35, 'thres_for_mean': 0.32999999999999996}. Best is trial 219 with value: 15.970479374043691.\n"
     ]
    },
    {
     "name": "stderr",
     "output_type": "stream",
     "text": [
      "Best trial: 219. Best value: 15.9705:  90%|█████████ | 226/250 [30:30<03:09,  7.88s/it]"
     ]
    },
    {
     "name": "stdout",
     "output_type": "stream",
     "text": [
      "1871\n",
      "[I 2024-02-15 05:53:39,263] Trial 225 finished with value: 15.541246048024822 and parameters: {'thres_for_max': 0.33999999999999997, 'thres_for_mean': 0.35}. Best is trial 219 with value: 15.970479374043691.\n"
     ]
    },
    {
     "name": "stderr",
     "output_type": "stream",
     "text": [
      "Best trial: 219. Best value: 15.9705:  91%|█████████ | 227/250 [30:38<03:01,  7.91s/it]"
     ]
    },
    {
     "name": "stdout",
     "output_type": "stream",
     "text": [
      "1868\n",
      "[I 2024-02-15 05:53:47,231] Trial 226 finished with value: 13.933218796906237 and parameters: {'thres_for_max': 0.36, 'thres_for_mean': 0.32}. Best is trial 219 with value: 15.970479374043691.\n"
     ]
    },
    {
     "name": "stderr",
     "output_type": "stream",
     "text": [
      "Best trial: 219. Best value: 15.9705:  91%|█████████ | 228/250 [30:46<02:53,  7.88s/it]"
     ]
    },
    {
     "name": "stdout",
     "output_type": "stream",
     "text": [
      "1871\n",
      "[I 2024-02-15 05:53:55,060] Trial 227 finished with value: 15.789327010715043 and parameters: {'thres_for_max': 0.32999999999999996, 'thres_for_mean': 0.36}. Best is trial 219 with value: 15.970479374043691.\n"
     ]
    },
    {
     "name": "stderr",
     "output_type": "stream",
     "text": [
      "Best trial: 219. Best value: 15.9705:  92%|█████████▏| 229/250 [30:54<02:45,  7.90s/it]"
     ]
    },
    {
     "name": "stdout",
     "output_type": "stream",
     "text": [
      "1871\n",
      "[I 2024-02-15 05:54:03,004] Trial 228 finished with value: 14.967692370393552 and parameters: {'thres_for_max': 0.32, 'thres_for_mean': 0.38}. Best is trial 219 with value: 15.970479374043691.\n"
     ]
    },
    {
     "name": "stderr",
     "output_type": "stream",
     "text": [
      "Best trial: 219. Best value: 15.9705:  92%|█████████▏| 230/250 [31:02<02:38,  7.94s/it]"
     ]
    },
    {
     "name": "stdout",
     "output_type": "stream",
     "text": [
      "1872\n",
      "[I 2024-02-15 05:54:11,043] Trial 229 finished with value: 15.409690674371799 and parameters: {'thres_for_max': 0.3, 'thres_for_mean': 0.36}. Best is trial 219 with value: 15.970479374043691.\n"
     ]
    },
    {
     "name": "stderr",
     "output_type": "stream",
     "text": [
      "Best trial: 219. Best value: 15.9705:  92%|█████████▏| 231/250 [31:10<02:31,  7.95s/it]"
     ]
    },
    {
     "name": "stdout",
     "output_type": "stream",
     "text": [
      "1871\n",
      "[I 2024-02-15 05:54:19,018] Trial 230 finished with value: 15.454783189487888 and parameters: {'thres_for_max': 0.32999999999999996, 'thres_for_mean': 0.33999999999999997}. Best is trial 219 with value: 15.970479374043691.\n"
     ]
    },
    {
     "name": "stderr",
     "output_type": "stream",
     "text": [
      "Best trial: 219. Best value: 15.9705:  93%|█████████▎| 232/250 [31:18<02:22,  7.93s/it]"
     ]
    },
    {
     "name": "stdout",
     "output_type": "stream",
     "text": [
      "1870\n",
      "[I 2024-02-15 05:54:26,901] Trial 231 finished with value: 14.445356665233161 and parameters: {'thres_for_max': 0.35, 'thres_for_mean': 0.36}. Best is trial 219 with value: 15.970479374043691.\n"
     ]
    },
    {
     "name": "stderr",
     "output_type": "stream",
     "text": [
      "Best trial: 219. Best value: 15.9705:  93%|█████████▎| 233/250 [31:25<02:13,  7.88s/it]"
     ]
    },
    {
     "name": "stdout",
     "output_type": "stream",
     "text": [
      "1871\n",
      "[I 2024-02-15 05:54:34,659] Trial 232 finished with value: 15.577189461219879 and parameters: {'thres_for_max': 0.32999999999999996, 'thres_for_mean': 0.5800000000000001}. Best is trial 219 with value: 15.970479374043691.\n"
     ]
    },
    {
     "name": "stderr",
     "output_type": "stream",
     "text": [
      "Best trial: 219. Best value: 15.9705:  94%|█████████▎| 234/250 [31:33<02:05,  7.85s/it]"
     ]
    },
    {
     "name": "stdout",
     "output_type": "stream",
     "text": [
      "1871\n",
      "[I 2024-02-15 05:54:42,439] Trial 233 finished with value: 15.543117951509771 and parameters: {'thres_for_max': 0.32, 'thres_for_mean': 0.5800000000000001}. Best is trial 219 with value: 15.970479374043691.\n"
     ]
    },
    {
     "name": "stderr",
     "output_type": "stream",
     "text": [
      "Best trial: 219. Best value: 15.9705:  94%|█████████▍| 235/250 [31:41<01:57,  7.84s/it]"
     ]
    },
    {
     "name": "stdout",
     "output_type": "stream",
     "text": [
      "1872\n",
      "[I 2024-02-15 05:54:50,247] Trial 234 finished with value: 15.56400655091543 and parameters: {'thres_for_max': 0.31, 'thres_for_mean': 0.5800000000000001}. Best is trial 219 with value: 15.970479374043691.\n"
     ]
    },
    {
     "name": "stderr",
     "output_type": "stream",
     "text": [
      "Best trial: 219. Best value: 15.9705:  94%|█████████▍| 236/250 [31:49<01:49,  7.85s/it]"
     ]
    },
    {
     "name": "stdout",
     "output_type": "stream",
     "text": [
      "1872\n",
      "[I 2024-02-15 05:54:58,143] Trial 235 finished with value: 15.56400655091543 and parameters: {'thres_for_max': 0.31, 'thres_for_mean': 0.5800000000000001}. Best is trial 219 with value: 15.970479374043691.\n"
     ]
    },
    {
     "name": "stderr",
     "output_type": "stream",
     "text": [
      "Best trial: 219. Best value: 15.9705:  95%|█████████▍| 237/250 [31:57<01:42,  7.88s/it]"
     ]
    },
    {
     "name": "stdout",
     "output_type": "stream",
     "text": [
      "1872\n",
      "[I 2024-02-15 05:55:06,086] Trial 236 finished with value: 15.56400655091543 and parameters: {'thres_for_max': 0.31, 'thres_for_mean': 0.5800000000000001}. Best is trial 219 with value: 15.970479374043691.\n"
     ]
    },
    {
     "name": "stderr",
     "output_type": "stream",
     "text": [
      "Best trial: 219. Best value: 15.9705:  95%|█████████▌| 238/250 [32:05<01:34,  7.88s/it]"
     ]
    },
    {
     "name": "stdout",
     "output_type": "stream",
     "text": [
      "1872\n",
      "[I 2024-02-15 05:55:13,963] Trial 237 finished with value: 15.012976986535074 and parameters: {'thres_for_max': 0.31, 'thres_for_mean': 0.61}. Best is trial 219 with value: 15.970479374043691.\n"
     ]
    },
    {
     "name": "stderr",
     "output_type": "stream",
     "text": [
      "Best trial: 219. Best value: 15.9705:  96%|█████████▌| 239/250 [32:13<01:27,  7.91s/it]"
     ]
    },
    {
     "name": "stdout",
     "output_type": "stream",
     "text": [
      "1872\n",
      "[I 2024-02-15 05:55:21,945] Trial 238 finished with value: 15.20367819659779 and parameters: {'thres_for_max': 0.3, 'thres_for_mean': 0.5800000000000001}. Best is trial 219 with value: 15.970479374043691.\n"
     ]
    },
    {
     "name": "stderr",
     "output_type": "stream",
     "text": [
      "Best trial: 219. Best value: 15.9705:  96%|█████████▌| 240/250 [32:20<01:18,  7.82s/it]"
     ]
    },
    {
     "name": "stdout",
     "output_type": "stream",
     "text": [
      "1441\n",
      "[I 2024-02-15 05:55:29,567] Trial 239 finished with value: 8.362310688392139 and parameters: {'thres_for_max': 0.64, 'thres_for_mean': 0.59}. Best is trial 219 with value: 15.970479374043691.\n"
     ]
    },
    {
     "name": "stderr",
     "output_type": "stream",
     "text": [
      "Best trial: 219. Best value: 15.9705:  96%|█████████▋| 241/250 [32:28<01:10,  7.82s/it]"
     ]
    },
    {
     "name": "stdout",
     "output_type": "stream",
     "text": [
      "1872\n",
      "[I 2024-02-15 05:55:37,390] Trial 240 finished with value: 15.146445385329212 and parameters: {'thres_for_max': 0.3, 'thres_for_mean': 0.55}. Best is trial 219 with value: 15.970479374043691.\n"
     ]
    },
    {
     "name": "stderr",
     "output_type": "stream",
     "text": [
      "Best trial: 219. Best value: 15.9705:  97%|█████████▋| 242/250 [32:36<01:02,  7.84s/it]"
     ]
    },
    {
     "name": "stdout",
     "output_type": "stream",
     "text": [
      "1872\n",
      "[I 2024-02-15 05:55:45,257] Trial 241 finished with value: 15.56400655091543 and parameters: {'thres_for_max': 0.31, 'thres_for_mean': 0.5800000000000001}. Best is trial 219 with value: 15.970479374043691.\n"
     ]
    },
    {
     "name": "stderr",
     "output_type": "stream",
     "text": [
      "Best trial: 219. Best value: 15.9705:  97%|█████████▋| 243/250 [32:44<00:54,  7.84s/it]"
     ]
    },
    {
     "name": "stdout",
     "output_type": "stream",
     "text": [
      "1872\n",
      "[I 2024-02-15 05:55:53,103] Trial 242 finished with value: 15.457069023968737 and parameters: {'thres_for_max': 0.31, 'thres_for_mean': 0.5700000000000001}. Best is trial 219 with value: 15.970479374043691.\n"
     ]
    },
    {
     "name": "stderr",
     "output_type": "stream",
     "text": [
      "Best trial: 219. Best value: 15.9705:  98%|█████████▊| 244/250 [32:52<00:46,  7.83s/it]"
     ]
    },
    {
     "name": "stdout",
     "output_type": "stream",
     "text": [
      "1872\n",
      "[I 2024-02-15 05:56:00,916] Trial 243 finished with value: 15.56400655091543 and parameters: {'thres_for_max': 0.31, 'thres_for_mean': 0.5800000000000001}. Best is trial 219 with value: 15.970479374043691.\n"
     ]
    },
    {
     "name": "stderr",
     "output_type": "stream",
     "text": [
      "Best trial: 219. Best value: 15.9705:  98%|█████████▊| 245/250 [33:00<00:39,  7.87s/it]"
     ]
    },
    {
     "name": "stdout",
     "output_type": "stream",
     "text": [
      "1871\n",
      "[I 2024-02-15 05:56:08,869] Trial 244 finished with value: 15.43419364897183 and parameters: {'thres_for_max': 0.32, 'thres_for_mean': 0.56}. Best is trial 219 with value: 15.970479374043691.\n"
     ]
    },
    {
     "name": "stderr",
     "output_type": "stream",
     "text": [
      "Best trial: 219. Best value: 15.9705:  98%|█████████▊| 246/250 [33:08<00:31,  7.88s/it]"
     ]
    },
    {
     "name": "stdout",
     "output_type": "stream",
     "text": [
      "1872\n",
      "[I 2024-02-15 05:56:16,771] Trial 245 finished with value: 14.89086716114801 and parameters: {'thres_for_max': 0.3, 'thres_for_mean': 0.6}. Best is trial 219 with value: 15.970479374043691.\n"
     ]
    },
    {
     "name": "stderr",
     "output_type": "stream",
     "text": [
      "Best trial: 219. Best value: 15.9705:  99%|█████████▉| 247/250 [33:15<00:23,  7.85s/it]"
     ]
    },
    {
     "name": "stdout",
     "output_type": "stream",
     "text": [
      "1871\n",
      "[I 2024-02-15 05:56:24,569] Trial 246 finished with value: 15.543117951509771 and parameters: {'thres_for_max': 0.32, 'thres_for_mean': 0.5800000000000001}. Best is trial 219 with value: 15.970479374043691.\n"
     ]
    },
    {
     "name": "stderr",
     "output_type": "stream",
     "text": [
      "Best trial: 219. Best value: 15.9705:  99%|█████████▉| 248/250 [33:23<00:15,  7.87s/it]"
     ]
    },
    {
     "name": "stdout",
     "output_type": "stream",
     "text": [
      "1871\n",
      "[I 2024-02-15 05:56:32,484] Trial 247 finished with value: 15.468012947081556 and parameters: {'thres_for_max': 0.32999999999999996, 'thres_for_mean': 0.56}. Best is trial 219 with value: 15.970479374043691.\n"
     ]
    },
    {
     "name": "stderr",
     "output_type": "stream",
     "text": [
      "Best trial: 219. Best value: 15.9705: 100%|█████████▉| 249/250 [33:31<00:07,  7.87s/it]"
     ]
    },
    {
     "name": "stdout",
     "output_type": "stream",
     "text": [
      "1872\n",
      "[I 2024-02-15 05:56:40,349] Trial 248 finished with value: 15.24374905269008 and parameters: {'thres_for_max': 0.31, 'thres_for_mean': 0.6}. Best is trial 219 with value: 15.970479374043691.\n"
     ]
    },
    {
     "name": "stderr",
     "output_type": "stream",
     "text": [
      "Best trial: 219. Best value: 15.9705: 100%|██████████| 250/250 [33:39<00:00,  8.08s/it]"
     ]
    },
    {
     "name": "stdout",
     "output_type": "stream",
     "text": [
      "1871\n",
      "[I 2024-02-15 05:56:48,245] Trial 249 finished with value: 15.436319628424899 and parameters: {'thres_for_max': 0.32, 'thres_for_mean': 0.5700000000000001}. Best is trial 219 with value: 15.970479374043691.\n"
     ]
    },
    {
     "name": "stderr",
     "output_type": "stream",
     "text": [
      "\n",
      "[I 2024-02-15 05:56:48,551] A new study created in memory with name: best_combi_of_thres_fixed_rtn_4\n",
      "Best trial: 0. Best value: 15.4396:   0%|          | 1/250 [00:07<32:07,  7.74s/it]"
     ]
    },
    {
     "name": "stdout",
     "output_type": "stream",
     "text": [
      "1620\n",
      "[I 2024-02-15 05:56:56,289] Trial 0 finished with value: 15.439612399718722 and parameters: {'thres_for_max': 0.55, 'thres_for_mean': 0.8999999999999999}. Best is trial 0 with value: 15.439612399718722.\n"
     ]
    },
    {
     "name": "stderr",
     "output_type": "stream",
     "text": [
      "Best trial: 1. Best value: 15.4699:   1%|          | 2/250 [00:15<31:35,  7.64s/it]"
     ]
    },
    {
     "name": "stdout",
     "output_type": "stream",
     "text": [
      "930\n",
      "[I 2024-02-15 05:57:03,865] Trial 1 finished with value: 15.469887707383462 and parameters: {'thres_for_max': 0.72, 'thres_for_mean': 0.71}. Best is trial 1 with value: 15.469887707383462.\n"
     ]
    },
    {
     "name": "stderr",
     "output_type": "stream",
     "text": [
      "Best trial: 1. Best value: 15.4699:   1%|          | 3/250 [00:23<32:30,  7.90s/it]"
     ]
    },
    {
     "name": "stdout",
     "output_type": "stream",
     "text": [
      "1023\n",
      "[I 2024-02-15 05:57:12,066] Trial 2 finished with value: 11.780150772789618 and parameters: {'thres_for_max': 0.7, 'thres_for_mean': 0.6699999999999999}. Best is trial 1 with value: 15.469887707383462.\n"
     ]
    },
    {
     "name": "stderr",
     "output_type": "stream",
     "text": [
      "Best trial: 1. Best value: 15.4699:   2%|▏         | 4/250 [00:31<32:58,  8.04s/it]"
     ]
    },
    {
     "name": "stdout",
     "output_type": "stream",
     "text": [
      "1485\n",
      "[I 2024-02-15 05:57:20,327] Trial 3 finished with value: 10.651211331488684 and parameters: {'thres_for_max': 0.71, 'thres_for_mean': 0.44}. Best is trial 1 with value: 15.469887707383462.\n"
     ]
    },
    {
     "name": "stderr",
     "output_type": "stream",
     "text": [
      "Best trial: 1. Best value: 15.4699:   2%|▏         | 5/250 [00:39<32:37,  7.99s/it]"
     ]
    },
    {
     "name": "stdout",
     "output_type": "stream",
     "text": [
      "1066\n",
      "[I 2024-02-15 05:57:28,230] Trial 4 finished with value: 12.509714041727396 and parameters: {'thres_for_max': 0.8200000000000001, 'thres_for_mean': 0.53}. Best is trial 1 with value: 15.469887707383462.\n"
     ]
    },
    {
     "name": "stderr",
     "output_type": "stream",
     "text": [
      "Best trial: 5. Best value: 18.4209:   2%|▏         | 6/250 [00:47<32:13,  7.93s/it]"
     ]
    },
    {
     "name": "stdout",
     "output_type": "stream",
     "text": [
      "1522\n",
      "[I 2024-02-15 05:57:36,028] Trial 5 finished with value: 18.42088691046537 and parameters: {'thres_for_max': 0.5800000000000001, 'thres_for_mean': 0.6799999999999999}. Best is trial 5 with value: 18.42088691046537.\n"
     ]
    },
    {
     "name": "stderr",
     "output_type": "stream",
     "text": [
      "Best trial: 5. Best value: 18.4209:   3%|▎         | 7/250 [00:55<31:51,  7.87s/it]"
     ]
    },
    {
     "name": "stdout",
     "output_type": "stream",
     "text": [
      "1562\n",
      "[I 2024-02-15 05:57:43,776] Trial 6 finished with value: 15.508261155523964 and parameters: {'thres_for_max': 0.5700000000000001, 'thres_for_mean': 0.49}. Best is trial 5 with value: 18.42088691046537.\n"
     ]
    },
    {
     "name": "stderr",
     "output_type": "stream",
     "text": [
      "Best trial: 7. Best value: 18.8132:   3%|▎         | 8/250 [01:02<31:28,  7.80s/it]"
     ]
    },
    {
     "name": "stdout",
     "output_type": "stream",
     "text": [
      "1749\n",
      "[I 2024-02-15 05:57:51,446] Trial 7 finished with value: 18.813226414005488 and parameters: {'thres_for_max': 0.71, 'thres_for_mean': 0.35}. Best is trial 7 with value: 18.813226414005488.\n"
     ]
    },
    {
     "name": "stderr",
     "output_type": "stream",
     "text": [
      "Best trial: 7. Best value: 18.8132:   4%|▎         | 9/250 [01:10<31:10,  7.76s/it]"
     ]
    },
    {
     "name": "stdout",
     "output_type": "stream",
     "text": [
      "1554\n",
      "[I 2024-02-15 05:57:59,115] Trial 8 finished with value: 14.96644991318327 and parameters: {'thres_for_max': 0.5700000000000001, 'thres_for_mean': 0.55}. Best is trial 7 with value: 18.813226414005488.\n"
     ]
    },
    {
     "name": "stderr",
     "output_type": "stream",
     "text": [
      "Best trial: 7. Best value: 18.8132:   4%|▍         | 10/250 [01:18<31:06,  7.78s/it]"
     ]
    },
    {
     "name": "stdout",
     "output_type": "stream",
     "text": [
      "1554\n",
      "[I 2024-02-15 05:58:06,927] Trial 9 finished with value: 15.578309303427334 and parameters: {'thres_for_max': 0.5700000000000001, 'thres_for_mean': 0.8500000000000001}. Best is trial 7 with value: 18.813226414005488.\n"
     ]
    },
    {
     "name": "stderr",
     "output_type": "stream",
     "text": [
      "Best trial: 7. Best value: 18.8132:   4%|▍         | 11/250 [01:26<31:12,  7.83s/it]"
     ]
    },
    {
     "name": "stdout",
     "output_type": "stream",
     "text": [
      "1865\n",
      "[I 2024-02-15 05:58:14,888] Trial 10 finished with value: 14.458825271301329 and parameters: {'thres_for_max': 0.36, 'thres_for_mean': 0.3}. Best is trial 7 with value: 18.813226414005488.\n"
     ]
    },
    {
     "name": "stderr",
     "output_type": "stream",
     "text": [
      "Best trial: 7. Best value: 18.8132:   5%|▍         | 12/250 [01:34<31:05,  7.84s/it]"
     ]
    },
    {
     "name": "stdout",
     "output_type": "stream",
     "text": [
      "1857\n",
      "[I 2024-02-15 05:58:22,740] Trial 11 finished with value: 16.7163396993568 and parameters: {'thres_for_max': 0.4, 'thres_for_mean': 0.3}. Best is trial 7 with value: 18.813226414005488.\n"
     ]
    },
    {
     "name": "stderr",
     "output_type": "stream",
     "text": [
      "Best trial: 7. Best value: 18.8132:   5%|▌         | 13/250 [01:41<30:35,  7.75s/it]"
     ]
    },
    {
     "name": "stdout",
     "output_type": "stream",
     "text": [
      "384\n",
      "[I 2024-02-15 05:58:30,272] Trial 12 finished with value: 5.3870982257420055 and parameters: {'thres_for_max': 0.8899999999999999, 'thres_for_mean': 0.75}. Best is trial 7 with value: 18.813226414005488.\n"
     ]
    },
    {
     "name": "stderr",
     "output_type": "stream",
     "text": [
      "Best trial: 7. Best value: 18.8132:   6%|▌         | 14/250 [01:49<30:23,  7.73s/it]"
     ]
    },
    {
     "name": "stdout",
     "output_type": "stream",
     "text": [
      "1801\n",
      "[I 2024-02-15 05:58:37,954] Trial 13 finished with value: 16.801280992583635 and parameters: {'thres_for_max': 0.45999999999999996, 'thres_for_mean': 0.41}. Best is trial 7 with value: 18.813226414005488.\n"
     ]
    },
    {
     "name": "stderr",
     "output_type": "stream",
     "text": [
      "Best trial: 7. Best value: 18.8132:   6%|▌         | 15/250 [01:57<30:09,  7.70s/it]"
     ]
    },
    {
     "name": "stdout",
     "output_type": "stream",
     "text": [
      "1171\n",
      "[I 2024-02-15 05:58:45,587] Trial 14 finished with value: 17.37894505747003 and parameters: {'thres_for_max': 0.6699999999999999, 'thres_for_mean': 0.6599999999999999}. Best is trial 7 with value: 18.813226414005488.\n"
     ]
    },
    {
     "name": "stderr",
     "output_type": "stream",
     "text": [
      "Best trial: 15. Best value: 19.0998:   6%|▋         | 16/250 [02:04<30:03,  7.71s/it]"
     ]
    },
    {
     "name": "stdout",
     "output_type": "stream",
     "text": [
      "1759\n",
      "[I 2024-02-15 05:58:53,316] Trial 15 finished with value: 19.099844089345183 and parameters: {'thres_for_max': 0.49, 'thres_for_mean': 0.79}. Best is trial 15 with value: 19.099844089345183.\n"
     ]
    },
    {
     "name": "stderr",
     "output_type": "stream",
     "text": [
      "Best trial: 15. Best value: 19.0998:   7%|▋         | 17/250 [02:12<29:59,  7.72s/it]"
     ]
    },
    {
     "name": "stdout",
     "output_type": "stream",
     "text": [
      "1809\n",
      "[I 2024-02-15 05:59:01,077] Trial 16 finished with value: 17.852997516371072 and parameters: {'thres_for_max': 0.44999999999999996, 'thres_for_mean': 0.79}. Best is trial 15 with value: 19.099844089345183.\n"
     ]
    },
    {
     "name": "stderr",
     "output_type": "stream",
     "text": [
      "Best trial: 15. Best value: 19.0998:   7%|▋         | 18/250 [02:20<29:48,  7.71s/it]"
     ]
    },
    {
     "name": "stdout",
     "output_type": "stream",
     "text": [
      "863\n",
      "[I 2024-02-15 05:59:08,756] Trial 17 finished with value: 12.13284523660088 and parameters: {'thres_for_max': 0.79, 'thres_for_mean': 0.59}. Best is trial 15 with value: 19.099844089345183.\n"
     ]
    },
    {
     "name": "stderr",
     "output_type": "stream",
     "text": [
      "Best trial: 15. Best value: 19.0998:   8%|▊         | 19/250 [02:28<29:58,  7.78s/it]"
     ]
    },
    {
     "name": "stdout",
     "output_type": "stream",
     "text": [
      "1874\n",
      "[I 2024-02-15 05:59:16,713] Trial 18 finished with value: 16.001179745919238 and parameters: {'thres_for_max': 0.3, 'thres_for_mean': 0.41}. Best is trial 15 with value: 19.099844089345183.\n"
     ]
    },
    {
     "name": "stderr",
     "output_type": "stream",
     "text": [
      "Best trial: 15. Best value: 19.0998:   8%|▊         | 20/250 [02:35<29:50,  7.78s/it]"
     ]
    },
    {
     "name": "stdout",
     "output_type": "stream",
     "text": [
      "1705\n",
      "[I 2024-02-15 05:59:24,497] Trial 19 finished with value: 17.5839598722931 and parameters: {'thres_for_max': 0.64, 'thres_for_mean': 0.37}. Best is trial 15 with value: 19.099844089345183.\n"
     ]
    },
    {
     "name": "stderr",
     "output_type": "stream",
     "text": [
      "Best trial: 15. Best value: 19.0998:   8%|▊         | 21/250 [02:43<29:27,  7.72s/it]"
     ]
    },
    {
     "name": "stdout",
     "output_type": "stream",
     "text": [
      "1729\n",
      "[I 2024-02-15 05:59:32,058] Trial 20 finished with value: 17.14777493014637 and parameters: {'thres_for_max': 0.51, 'thres_for_mean': 0.81}. Best is trial 15 with value: 19.099844089345183.\n"
     ]
    },
    {
     "name": "stderr",
     "output_type": "stream",
     "text": [
      "Best trial: 15. Best value: 19.0998:   9%|▉         | 22/250 [02:51<29:15,  7.70s/it]"
     ]
    },
    {
     "name": "stdout",
     "output_type": "stream",
     "text": [
      "1348\n",
      "[I 2024-02-15 05:59:39,722] Trial 21 finished with value: 14.307457018781296 and parameters: {'thres_for_max': 0.63, 'thres_for_mean': 0.64}. Best is trial 15 with value: 19.099844089345183.\n"
     ]
    },
    {
     "name": "stderr",
     "output_type": "stream",
     "text": [
      "Best trial: 15. Best value: 19.0998:   9%|▉         | 23/250 [02:58<28:59,  7.66s/it]"
     ]
    },
    {
     "name": "stdout",
     "output_type": "stream",
     "text": [
      "1706\n",
      "[I 2024-02-15 05:59:47,302] Trial 22 finished with value: 17.107299321309135 and parameters: {'thres_for_max': 0.52, 'thres_for_mean': 0.73}. Best is trial 15 with value: 19.099844089345183.\n"
     ]
    },
    {
     "name": "stderr",
     "output_type": "stream",
     "text": [
      "Best trial: 15. Best value: 19.0998:  10%|▉         | 24/250 [03:06<28:39,  7.61s/it]"
     ]
    },
    {
     "name": "stdout",
     "output_type": "stream",
     "text": [
      "630\n",
      "[I 2024-02-15 05:59:54,782] Trial 23 finished with value: 8.425337250307248 and parameters: {'thres_for_max': 0.79, 'thres_for_mean': 0.79}. Best is trial 15 with value: 19.099844089345183.\n"
     ]
    },
    {
     "name": "stderr",
     "output_type": "stream",
     "text": [
      "Best trial: 15. Best value: 19.0998:  10%|█         | 25/250 [03:14<28:47,  7.68s/it]"
     ]
    },
    {
     "name": "stdout",
     "output_type": "stream",
     "text": [
      "1759\n",
      "[I 2024-02-15 06:00:02,625] Trial 24 finished with value: 18.60983563931716 and parameters: {'thres_for_max': 0.49, 'thres_for_mean': 0.62}. Best is trial 15 with value: 19.099844089345183.\n"
     ]
    },
    {
     "name": "stderr",
     "output_type": "stream",
     "text": [
      "Best trial: 15. Best value: 19.0998:  10%|█         | 26/250 [03:21<28:47,  7.71s/it]"
     ]
    },
    {
     "name": "stdout",
     "output_type": "stream",
     "text": [
      "1787\n",
      "[I 2024-02-15 06:00:10,412] Trial 25 finished with value: 19.039014503548444 and parameters: {'thres_for_max': 0.47, 'thres_for_mean': 0.5700000000000001}. Best is trial 15 with value: 19.099844089345183.\n"
     ]
    },
    {
     "name": "stderr",
     "output_type": "stream",
     "text": [
      "Best trial: 15. Best value: 19.0998:  11%|█         | 27/250 [03:29<28:48,  7.75s/it]"
     ]
    },
    {
     "name": "stdout",
     "output_type": "stream",
     "text": [
      "1850\n",
      "[I 2024-02-15 06:00:18,256] Trial 26 finished with value: 17.76024707924988 and parameters: {'thres_for_max': 0.4, 'thres_for_mean': 0.51}. Best is trial 15 with value: 19.099844089345183.\n"
     ]
    },
    {
     "name": "stderr",
     "output_type": "stream",
     "text": [
      "Best trial: 15. Best value: 19.0998:  11%|█         | 28/250 [03:37<28:43,  7.76s/it]"
     ]
    },
    {
     "name": "stdout",
     "output_type": "stream",
     "text": [
      "1843\n",
      "[I 2024-02-15 06:00:26,053] Trial 27 finished with value: 17.896905722105352 and parameters: {'thres_for_max': 0.41, 'thres_for_mean': 0.5800000000000001}. Best is trial 15 with value: 19.099844089345183.\n"
     ]
    },
    {
     "name": "stderr",
     "output_type": "stream",
     "text": [
      "Best trial: 15. Best value: 19.0998:  12%|█▏        | 29/250 [03:45<28:30,  7.74s/it]"
     ]
    },
    {
     "name": "stdout",
     "output_type": "stream",
     "text": [
      "1871\n",
      "[I 2024-02-15 06:00:33,734] Trial 28 finished with value: 15.119122120006555 and parameters: {'thres_for_max': 0.32999999999999996, 'thres_for_mean': 0.47}. Best is trial 15 with value: 19.099844089345183.\n"
     ]
    },
    {
     "name": "stderr",
     "output_type": "stream",
     "text": [
      "Best trial: 15. Best value: 19.0998:  12%|█▏        | 30/250 [03:52<28:12,  7.69s/it]"
     ]
    },
    {
     "name": "stdout",
     "output_type": "stream",
     "text": [
      "1387\n",
      "[I 2024-02-15 06:00:41,323] Trial 29 finished with value: 13.315004068932883 and parameters: {'thres_for_max': 0.62, 'thres_for_mean': 0.8799999999999999}. Best is trial 15 with value: 19.099844089345183.\n"
     ]
    },
    {
     "name": "stderr",
     "output_type": "stream",
     "text": [
      "Best trial: 30. Best value: 22.5438:  12%|█▏        | 31/250 [04:00<28:05,  7.70s/it]"
     ]
    },
    {
     "name": "stdout",
     "output_type": "stream",
     "text": [
      "1770\n",
      "[I 2024-02-15 06:00:49,022] Trial 30 finished with value: 22.543771986886483 and parameters: {'thres_for_max': 0.53, 'thres_for_mean': 0.35}. Best is trial 30 with value: 22.543771986886483.\n"
     ]
    },
    {
     "name": "stderr",
     "output_type": "stream",
     "text": [
      "Best trial: 30. Best value: 22.5438:  13%|█▎        | 32/250 [04:08<27:54,  7.68s/it]"
     ]
    },
    {
     "name": "stdout",
     "output_type": "stream",
     "text": [
      "1732\n",
      "[I 2024-02-15 06:00:56,676] Trial 31 finished with value: 18.424435104567298 and parameters: {'thres_for_max': 0.53, 'thres_for_mean': 0.39}. Best is trial 30 with value: 22.543771986886483.\n"
     ]
    },
    {
     "name": "stderr",
     "output_type": "stream",
     "text": [
      "Best trial: 30. Best value: 22.5438:  13%|█▎        | 33/250 [04:15<27:55,  7.72s/it]"
     ]
    },
    {
     "name": "stdout",
     "output_type": "stream",
     "text": [
      "1804\n",
      "[I 2024-02-15 06:01:04,479] Trial 32 finished with value: 19.90242221102514 and parameters: {'thres_for_max': 0.47, 'thres_for_mean': 0.35}. Best is trial 30 with value: 22.543771986886483.\n"
     ]
    },
    {
     "name": "stderr",
     "output_type": "stream",
     "text": [
      "Best trial: 30. Best value: 22.5438:  14%|█▎        | 34/250 [04:23<27:56,  7.76s/it]"
     ]
    },
    {
     "name": "stdout",
     "output_type": "stream",
     "text": [
      "1819\n",
      "[I 2024-02-15 06:01:12,344] Trial 33 finished with value: 20.156777570895105 and parameters: {'thres_for_max': 0.44999999999999996, 'thres_for_mean': 0.33999999999999997}. Best is trial 30 with value: 22.543771986886483.\n"
     ]
    },
    {
     "name": "stderr",
     "output_type": "stream",
     "text": [
      "Best trial: 34. Best value: 22.574:  14%|█▍        | 35/250 [04:31<27:50,  7.77s/it] "
     ]
    },
    {
     "name": "stdout",
     "output_type": "stream",
     "text": [
      "1836\n",
      "[I 2024-02-15 06:01:20,123] Trial 34 finished with value: 22.574023398004247 and parameters: {'thres_for_max': 0.43, 'thres_for_mean': 0.33999999999999997}. Best is trial 34 with value: 22.574023398004247.\n"
     ]
    },
    {
     "name": "stderr",
     "output_type": "stream",
     "text": [
      "Best trial: 34. Best value: 22.574:  14%|█▍        | 36/250 [04:39<27:41,  7.76s/it]"
     ]
    },
    {
     "name": "stdout",
     "output_type": "stream",
     "text": [
      "1826\n",
      "[I 2024-02-15 06:01:27,879] Trial 35 finished with value: 22.456507896090457 and parameters: {'thres_for_max': 0.44, 'thres_for_mean': 0.32999999999999996}. Best is trial 34 with value: 22.574023398004247.\n"
     ]
    },
    {
     "name": "stderr",
     "output_type": "stream",
     "text": [
      "Best trial: 34. Best value: 22.574:  15%|█▍        | 37/250 [04:47<27:49,  7.84s/it]"
     ]
    },
    {
     "name": "stdout",
     "output_type": "stream",
     "text": [
      "1845\n",
      "[I 2024-02-15 06:01:35,892] Trial 36 finished with value: 20.597310462684494 and parameters: {'thres_for_max': 0.42, 'thres_for_mean': 0.32}. Best is trial 34 with value: 22.574023398004247.\n"
     ]
    },
    {
     "name": "stderr",
     "output_type": "stream",
     "text": [
      "Best trial: 34. Best value: 22.574:  15%|█▌        | 38/250 [04:55<27:34,  7.80s/it]"
     ]
    },
    {
     "name": "stdout",
     "output_type": "stream",
     "text": [
      "1864\n",
      "[I 2024-02-15 06:01:43,616] Trial 37 finished with value: 15.330847813181569 and parameters: {'thres_for_max': 0.37, 'thres_for_mean': 0.44999999999999996}. Best is trial 34 with value: 22.574023398004247.\n"
     ]
    },
    {
     "name": "stderr",
     "output_type": "stream",
     "text": [
      "Best trial: 34. Best value: 22.574:  16%|█▌        | 39/250 [05:02<27:30,  7.82s/it]"
     ]
    },
    {
     "name": "stdout",
     "output_type": "stream",
     "text": [
      "1845\n",
      "[I 2024-02-15 06:01:51,485] Trial 38 finished with value: 20.597310462684494 and parameters: {'thres_for_max': 0.42, 'thres_for_mean': 0.32}. Best is trial 34 with value: 22.574023398004247.\n"
     ]
    },
    {
     "name": "stderr",
     "output_type": "stream",
     "text": [
      "Best trial: 34. Best value: 22.574:  16%|█▌        | 40/250 [05:10<27:19,  7.81s/it]"
     ]
    },
    {
     "name": "stdout",
     "output_type": "stream",
     "text": [
      "1868\n",
      "[I 2024-02-15 06:01:59,257] Trial 39 finished with value: 16.15737346475472 and parameters: {'thres_for_max': 0.35, 'thres_for_mean': 0.43}. Best is trial 34 with value: 22.574023398004247.\n"
     ]
    },
    {
     "name": "stderr",
     "output_type": "stream",
     "text": [
      "Best trial: 34. Best value: 22.574:  16%|█▋        | 41/250 [05:18<27:10,  7.80s/it]"
     ]
    },
    {
     "name": "stdout",
     "output_type": "stream",
     "text": [
      "1712\n",
      "[I 2024-02-15 06:02:07,051] Trial 40 finished with value: 15.328184241352679 and parameters: {'thres_for_max': 0.55, 'thres_for_mean': 0.39}. Best is trial 34 with value: 22.574023398004247.\n"
     ]
    },
    {
     "name": "stderr",
     "output_type": "stream",
     "text": [
      "Best trial: 41. Best value: 24.1297:  17%|█▋        | 42/250 [05:26<27:06,  7.82s/it]"
     ]
    },
    {
     "name": "stdout",
     "output_type": "stream",
     "text": [
      "1843\n",
      "[I 2024-02-15 06:02:14,911] Trial 41 finished with value: 24.129746419913843 and parameters: {'thres_for_max': 0.43, 'thres_for_mean': 0.32}. Best is trial 41 with value: 24.129746419913843.\n"
     ]
    },
    {
     "name": "stderr",
     "output_type": "stream",
     "text": [
      "Best trial: 41. Best value: 24.1297:  17%|█▋        | 43/250 [05:34<26:51,  7.79s/it]"
     ]
    },
    {
     "name": "stdout",
     "output_type": "stream",
     "text": [
      "1836\n",
      "[I 2024-02-15 06:02:22,616] Trial 42 finished with value: 22.574023398004247 and parameters: {'thres_for_max': 0.43, 'thres_for_mean': 0.33999999999999997}. Best is trial 41 with value: 24.129746419913843.\n"
     ]
    },
    {
     "name": "stderr",
     "output_type": "stream",
     "text": [
      "Best trial: 41. Best value: 24.1297:  18%|█▊        | 44/250 [05:41<26:39,  7.76s/it]"
     ]
    },
    {
     "name": "stdout",
     "output_type": "stream",
     "text": [
      "1833\n",
      "[I 2024-02-15 06:02:30,324] Trial 43 finished with value: 21.890478629544422 and parameters: {'thres_for_max': 0.43, 'thres_for_mean': 0.37}. Best is trial 41 with value: 24.129746419913843.\n"
     ]
    },
    {
     "name": "stderr",
     "output_type": "stream",
     "text": [
      "Best trial: 41. Best value: 24.1297:  18%|█▊        | 45/250 [05:49<26:27,  7.75s/it]"
     ]
    },
    {
     "name": "stdout",
     "output_type": "stream",
     "text": [
      "1854\n",
      "[I 2024-02-15 06:02:38,031] Trial 44 finished with value: 18.229172075892844 and parameters: {'thres_for_max': 0.39, 'thres_for_mean': 0.32999999999999996}. Best is trial 41 with value: 24.129746419913843.\n"
     ]
    },
    {
     "name": "stderr",
     "output_type": "stream",
     "text": [
      "Best trial: 41. Best value: 24.1297:  18%|█▊        | 46/250 [05:57<26:15,  7.72s/it]"
     ]
    },
    {
     "name": "stdout",
     "output_type": "stream",
     "text": [
      "1773\n",
      "[I 2024-02-15 06:02:45,698] Trial 45 finished with value: 21.163381824314786 and parameters: {'thres_for_max': 0.5, 'thres_for_mean': 0.36}. Best is trial 41 with value: 24.129746419913843.\n"
     ]
    },
    {
     "name": "stderr",
     "output_type": "stream",
     "text": [
      "Best trial: 41. Best value: 24.1297:  19%|█▉        | 47/250 [06:04<26:00,  7.68s/it]"
     ]
    },
    {
     "name": "stdout",
     "output_type": "stream",
     "text": [
      "1829\n",
      "[I 2024-02-15 06:02:53,295] Trial 46 finished with value: 17.991653997023068 and parameters: {'thres_for_max': 0.54, 'thres_for_mean': 0.3}. Best is trial 41 with value: 24.129746419913843.\n"
     ]
    },
    {
     "name": "stderr",
     "output_type": "stream",
     "text": [
      "Best trial: 41. Best value: 24.1297:  19%|█▉        | 48/250 [06:12<26:02,  7.73s/it]"
     ]
    },
    {
     "name": "stdout",
     "output_type": "stream",
     "text": [
      "1873\n",
      "[I 2024-02-15 06:03:01,146] Trial 47 finished with value: 15.331403989523993 and parameters: {'thres_for_max': 0.31, 'thres_for_mean': 0.4}. Best is trial 41 with value: 24.129746419913843.\n"
     ]
    },
    {
     "name": "stderr",
     "output_type": "stream",
     "text": [
      "Best trial: 41. Best value: 24.1297:  20%|█▉        | 49/250 [06:20<25:56,  7.75s/it]"
     ]
    },
    {
     "name": "stdout",
     "output_type": "stream",
     "text": [
      "1857\n",
      "[I 2024-02-15 06:03:08,917] Trial 48 finished with value: 16.900655494300242 and parameters: {'thres_for_max': 0.38, 'thres_for_mean': 0.43}. Best is trial 41 with value: 24.129746419913843.\n"
     ]
    },
    {
     "name": "stderr",
     "output_type": "stream",
     "text": [
      "Best trial: 41. Best value: 24.1297:  20%|██        | 50/250 [06:28<25:47,  7.74s/it]"
     ]
    },
    {
     "name": "stdout",
     "output_type": "stream",
     "text": [
      "1820\n",
      "[I 2024-02-15 06:03:16,629] Trial 49 finished with value: 19.969377101453883 and parameters: {'thres_for_max': 0.44, 'thres_for_mean': 0.48}. Best is trial 41 with value: 24.129746419913843.\n"
     ]
    },
    {
     "name": "stderr",
     "output_type": "stream",
     "text": [
      "Best trial: 41. Best value: 24.1297:  20%|██        | 51/250 [06:36<25:54,  7.81s/it]"
     ]
    },
    {
     "name": "stdout",
     "output_type": "stream",
     "text": [
      "1868\n",
      "[I 2024-02-15 06:03:24,610] Trial 50 finished with value: 15.309815766783144 and parameters: {'thres_for_max': 0.35, 'thres_for_mean': 0.3}. Best is trial 41 with value: 24.129746419913843.\n"
     ]
    },
    {
     "name": "stderr",
     "output_type": "stream",
     "text": [
      "Best trial: 41. Best value: 24.1297:  21%|██        | 52/250 [06:43<25:36,  7.76s/it]"
     ]
    },
    {
     "name": "stdout",
     "output_type": "stream",
     "text": [
      "1722\n",
      "[I 2024-02-15 06:03:32,256] Trial 51 finished with value: 20.09256806496121 and parameters: {'thres_for_max': 0.59, 'thres_for_mean': 0.37}. Best is trial 41 with value: 24.129746419913843.\n"
     ]
    },
    {
     "name": "stderr",
     "output_type": "stream",
     "text": [
      "Best trial: 41. Best value: 24.1297:  21%|██        | 53/250 [06:51<25:27,  7.76s/it]"
     ]
    },
    {
     "name": "stdout",
     "output_type": "stream",
     "text": [
      "1821\n",
      "[I 2024-02-15 06:03:40,000] Trial 52 finished with value: 21.630399100733094 and parameters: {'thres_for_max': 0.44, 'thres_for_mean': 0.37}. Best is trial 41 with value: 24.129746419913843.\n"
     ]
    },
    {
     "name": "stderr",
     "output_type": "stream",
     "text": [
      "Best trial: 41. Best value: 24.1297:  22%|██▏       | 54/250 [06:59<25:17,  7.74s/it]"
     ]
    },
    {
     "name": "stdout",
     "output_type": "stream",
     "text": [
      "1805\n",
      "[I 2024-02-15 06:03:47,709] Trial 53 finished with value: 19.642665987461708 and parameters: {'thres_for_max': 0.48, 'thres_for_mean': 0.32999999999999996}. Best is trial 41 with value: 24.129746419913843.\n"
     ]
    },
    {
     "name": "stderr",
     "output_type": "stream",
     "text": [
      "Best trial: 41. Best value: 24.1297:  22%|██▏       | 55/250 [07:06<25:06,  7.72s/it]"
     ]
    },
    {
     "name": "stdout",
     "output_type": "stream",
     "text": [
      "1835\n",
      "[I 2024-02-15 06:03:55,396] Trial 54 finished with value: 21.958569914407796 and parameters: {'thres_for_max': 0.43, 'thres_for_mean': 0.35}. Best is trial 41 with value: 24.129746419913843.\n"
     ]
    },
    {
     "name": "stderr",
     "output_type": "stream",
     "text": [
      "Best trial: 41. Best value: 24.1297:  22%|██▏       | 56/250 [07:14<25:07,  7.77s/it]"
     ]
    },
    {
     "name": "stdout",
     "output_type": "stream",
     "text": [
      "1859\n",
      "[I 2024-02-15 06:04:03,273] Trial 55 finished with value: 16.796460764294437 and parameters: {'thres_for_max': 0.38, 'thres_for_mean': 0.32}. Best is trial 41 with value: 24.129746419913843.\n"
     ]
    },
    {
     "name": "stderr",
     "output_type": "stream",
     "text": [
      "Best trial: 41. Best value: 24.1297:  23%|██▎       | 57/250 [07:22<25:02,  7.78s/it]"
     ]
    },
    {
     "name": "stdout",
     "output_type": "stream",
     "text": [
      "1801\n",
      "[I 2024-02-15 06:04:11,090] Trial 56 finished with value: 16.942587398772854 and parameters: {'thres_for_max': 0.45999999999999996, 'thres_for_mean': 0.44999999999999996}. Best is trial 41 with value: 24.129746419913843.\n"
     ]
    },
    {
     "name": "stderr",
     "output_type": "stream",
     "text": [
      "Best trial: 41. Best value: 24.1297:  23%|██▎       | 58/250 [07:30<24:54,  7.78s/it]"
     ]
    },
    {
     "name": "stdout",
     "output_type": "stream",
     "text": [
      "1760\n",
      "[I 2024-02-15 06:04:18,866] Trial 57 finished with value: 19.31433900365007 and parameters: {'thres_for_max': 0.56, 'thres_for_mean': 0.35}. Best is trial 41 with value: 24.129746419913843.\n"
     ]
    },
    {
     "name": "stderr",
     "output_type": "stream",
     "text": [
      "Best trial: 41. Best value: 24.1297:  24%|██▎       | 59/250 [07:38<24:42,  7.76s/it]"
     ]
    },
    {
     "name": "stdout",
     "output_type": "stream",
     "text": [
      "1754\n",
      "[I 2024-02-15 06:04:26,573] Trial 58 finished with value: 17.404893012743543 and parameters: {'thres_for_max': 0.51, 'thres_for_mean': 0.39}. Best is trial 41 with value: 24.129746419913843.\n"
     ]
    },
    {
     "name": "stderr",
     "output_type": "stream",
     "text": [
      "Best trial: 41. Best value: 24.1297:  24%|██▍       | 60/250 [07:45<24:35,  7.77s/it]"
     ]
    },
    {
     "name": "stdout",
     "output_type": "stream",
     "text": [
      "1843\n",
      "[I 2024-02-15 06:04:34,351] Trial 59 finished with value: 18.718842981999394 and parameters: {'thres_for_max': 0.41, 'thres_for_mean': 0.42}. Best is trial 41 with value: 24.129746419913843.\n"
     ]
    },
    {
     "name": "stderr",
     "output_type": "stream",
     "text": [
      "Best trial: 41. Best value: 24.1297:  24%|██▍       | 61/250 [07:53<24:27,  7.77s/it]"
     ]
    },
    {
     "name": "stdout",
     "output_type": "stream",
     "text": [
      "1870\n",
      "[I 2024-02-15 06:04:42,121] Trial 60 finished with value: 15.706022170442441 and parameters: {'thres_for_max': 0.33999999999999997, 'thres_for_mean': 0.52}. Best is trial 41 with value: 24.129746419913843.\n"
     ]
    },
    {
     "name": "stderr",
     "output_type": "stream",
     "text": [
      "Best trial: 41. Best value: 24.1297:  25%|██▍       | 62/250 [08:01<24:17,  7.75s/it]"
     ]
    },
    {
     "name": "stdout",
     "output_type": "stream",
     "text": [
      "1821\n",
      "[I 2024-02-15 06:04:49,841] Trial 61 finished with value: 21.630399100733094 and parameters: {'thres_for_max': 0.44, 'thres_for_mean': 0.37}. Best is trial 41 with value: 24.129746419913843.\n"
     ]
    },
    {
     "name": "stderr",
     "output_type": "stream",
     "text": [
      "Best trial: 41. Best value: 24.1297:  25%|██▌       | 63/250 [08:09<24:14,  7.78s/it]"
     ]
    },
    {
     "name": "stdout",
     "output_type": "stream",
     "text": [
      "1836\n",
      "[I 2024-02-15 06:04:57,672] Trial 62 finished with value: 22.574023398004247 and parameters: {'thres_for_max': 0.43, 'thres_for_mean': 0.33999999999999997}. Best is trial 41 with value: 24.129746419913843.\n"
     ]
    },
    {
     "name": "stderr",
     "output_type": "stream",
     "text": [
      "Best trial: 41. Best value: 24.1297:  26%|██▌       | 64/250 [08:16<24:07,  7.78s/it]"
     ]
    },
    {
     "name": "stdout",
     "output_type": "stream",
     "text": [
      "1835\n",
      "[I 2024-02-15 06:05:05,464] Trial 63 finished with value: 17.120237307004537 and parameters: {'thres_for_max': 0.48, 'thres_for_mean': 0.3}. Best is trial 41 with value: 24.129746419913843.\n"
     ]
    },
    {
     "name": "stderr",
     "output_type": "stream",
     "text": [
      "Best trial: 41. Best value: 24.1297:  26%|██▌       | 65/250 [08:24<24:01,  7.79s/it]"
     ]
    },
    {
     "name": "stdout",
     "output_type": "stream",
     "text": [
      "1850\n",
      "[I 2024-02-15 06:05:13,287] Trial 64 finished with value: 18.603275437571707 and parameters: {'thres_for_max': 0.4, 'thres_for_mean': 0.33999999999999997}. Best is trial 41 with value: 24.129746419913843.\n"
     ]
    },
    {
     "name": "stderr",
     "output_type": "stream",
     "text": [
      "Best trial: 41. Best value: 24.1297:  26%|██▋       | 66/250 [08:32<23:51,  7.78s/it]"
     ]
    },
    {
     "name": "stdout",
     "output_type": "stream",
     "text": [
      "1829\n",
      "[I 2024-02-15 06:05:21,037] Trial 65 finished with value: 21.126691546159112 and parameters: {'thres_for_max': 0.45999999999999996, 'thres_for_mean': 0.32}. Best is trial 41 with value: 24.129746419913843.\n"
     ]
    },
    {
     "name": "stderr",
     "output_type": "stream",
     "text": [
      "Best trial: 41. Best value: 24.1297:  27%|██▋       | 67/250 [08:40<23:35,  7.74s/it]"
     ]
    },
    {
     "name": "stdout",
     "output_type": "stream",
     "text": [
      "1864\n",
      "[I 2024-02-15 06:05:28,674] Trial 66 finished with value: 14.750269315390776 and parameters: {'thres_for_max': 0.37, 'thres_for_mean': 0.4}. Best is trial 41 with value: 24.129746419913843.\n"
     ]
    },
    {
     "name": "stderr",
     "output_type": "stream",
     "text": [
      "Best trial: 41. Best value: 24.1297:  27%|██▋       | 68/250 [08:47<23:22,  7.71s/it]"
     ]
    },
    {
     "name": "stdout",
     "output_type": "stream",
     "text": [
      "1750\n",
      "[I 2024-02-15 06:05:36,310] Trial 67 finished with value: 18.59867303944355 and parameters: {'thres_for_max': 0.52, 'thres_for_mean': 0.38}. Best is trial 41 with value: 24.129746419913843.\n"
     ]
    },
    {
     "name": "stderr",
     "output_type": "stream",
     "text": [
      "Best trial: 41. Best value: 24.1297:  28%|██▊       | 69/250 [08:55<23:15,  7.71s/it]"
     ]
    },
    {
     "name": "stdout",
     "output_type": "stream",
     "text": [
      "1747\n",
      "[I 2024-02-15 06:05:44,033] Trial 68 finished with value: 19.42365719148501 and parameters: {'thres_for_max': 0.73, 'thres_for_mean': 0.35}. Best is trial 41 with value: 24.129746419913843.\n"
     ]
    },
    {
     "name": "stderr",
     "output_type": "stream",
     "text": [
      "Best trial: 41. Best value: 24.1297:  28%|██▊       | 70/250 [09:03<23:24,  7.80s/it]"
     ]
    },
    {
     "name": "stdout",
     "output_type": "stream",
     "text": [
      "1872\n",
      "[I 2024-02-15 06:05:52,049] Trial 69 finished with value: 15.571837408988573 and parameters: {'thres_for_max': 0.32, 'thres_for_mean': 0.41}. Best is trial 41 with value: 24.129746419913843.\n"
     ]
    },
    {
     "name": "stderr",
     "output_type": "stream",
     "text": [
      "Best trial: 41. Best value: 24.1297:  28%|██▊       | 71/250 [09:11<23:09,  7.76s/it]"
     ]
    },
    {
     "name": "stdout",
     "output_type": "stream",
     "text": [
      "1845\n",
      "[I 2024-02-15 06:05:59,723] Trial 70 finished with value: 20.597310462684494 and parameters: {'thres_for_max': 0.42, 'thres_for_mean': 0.32}. Best is trial 41 with value: 24.129746419913843.\n"
     ]
    },
    {
     "name": "stderr",
     "output_type": "stream",
     "text": [
      "Best trial: 41. Best value: 24.1297:  29%|██▉       | 72/250 [09:19<23:05,  7.79s/it]"
     ]
    },
    {
     "name": "stdout",
     "output_type": "stream",
     "text": [
      "1834\n",
      "[I 2024-02-15 06:06:07,558] Trial 71 finished with value: 20.982579355019045 and parameters: {'thres_for_max': 0.43, 'thres_for_mean': 0.36}. Best is trial 41 with value: 24.129746419913843.\n"
     ]
    },
    {
     "name": "stderr",
     "output_type": "stream",
     "text": [
      "Best trial: 41. Best value: 24.1297:  29%|██▉       | 73/250 [09:26<22:57,  7.78s/it]"
     ]
    },
    {
     "name": "stdout",
     "output_type": "stream",
     "text": [
      "1793\n",
      "[I 2024-02-15 06:06:15,326] Trial 72 finished with value: 22.27896011689489 and parameters: {'thres_for_max': 0.49, 'thres_for_mean': 0.33999999999999997}. Best is trial 41 with value: 24.129746419913843.\n"
     ]
    },
    {
     "name": "stderr",
     "output_type": "stream",
     "text": [
      "Best trial: 41. Best value: 24.1297:  30%|██▉       | 74/250 [09:34<22:47,  7.77s/it]"
     ]
    },
    {
     "name": "stdout",
     "output_type": "stream",
     "text": [
      "1788\n",
      "[I 2024-02-15 06:06:23,081] Trial 73 finished with value: 22.586148682405916 and parameters: {'thres_for_max': 0.5, 'thres_for_mean': 0.33999999999999997}. Best is trial 41 with value: 24.129746419913843.\n"
     ]
    },
    {
     "name": "stderr",
     "output_type": "stream",
     "text": [
      "Best trial: 41. Best value: 24.1297:  30%|███       | 75/250 [09:42<22:40,  7.77s/it]"
     ]
    },
    {
     "name": "stdout",
     "output_type": "stream",
     "text": [
      "1800\n",
      "[I 2024-02-15 06:06:30,859] Trial 74 finished with value: 21.616830552478127 and parameters: {'thres_for_max': 0.49, 'thres_for_mean': 0.32999999999999996}. Best is trial 41 with value: 24.129746419913843.\n"
     ]
    },
    {
     "name": "stderr",
     "output_type": "stream",
     "text": [
      "Best trial: 41. Best value: 24.1297:  30%|███       | 76/250 [09:50<22:30,  7.76s/it]"
     ]
    },
    {
     "name": "stdout",
     "output_type": "stream",
     "text": [
      "1824\n",
      "[I 2024-02-15 06:06:38,592] Trial 75 finished with value: 21.574529179279963 and parameters: {'thres_for_max': 0.5, 'thres_for_mean': 0.31}. Best is trial 41 with value: 24.129746419913843.\n"
     ]
    },
    {
     "name": "stderr",
     "output_type": "stream",
     "text": [
      "Best trial: 41. Best value: 24.1297:  31%|███       | 77/250 [09:57<22:20,  7.75s/it]"
     ]
    },
    {
     "name": "stdout",
     "output_type": "stream",
     "text": [
      "1770\n",
      "[I 2024-02-15 06:06:46,304] Trial 76 finished with value: 22.543771986886483 and parameters: {'thres_for_max': 0.53, 'thres_for_mean': 0.35}. Best is trial 41 with value: 24.129746419913843.\n"
     ]
    },
    {
     "name": "stderr",
     "output_type": "stream",
     "text": [
      "Best trial: 41. Best value: 24.1297:  31%|███       | 78/250 [10:05<22:08,  7.73s/it]"
     ]
    },
    {
     "name": "stdout",
     "output_type": "stream",
     "text": [
      "1696\n",
      "[I 2024-02-15 06:06:53,979] Trial 77 finished with value: 15.1158829676927 and parameters: {'thres_for_max': 0.61, 'thres_for_mean': 0.38}. Best is trial 41 with value: 24.129746419913843.\n"
     ]
    },
    {
     "name": "stderr",
     "output_type": "stream",
     "text": [
      "Best trial: 41. Best value: 24.1297:  32%|███▏      | 79/250 [10:13<21:59,  7.72s/it]"
     ]
    },
    {
     "name": "stdout",
     "output_type": "stream",
     "text": [
      "1522\n",
      "[I 2024-02-15 06:07:01,673] Trial 78 finished with value: 18.465387941372597 and parameters: {'thres_for_max': 0.5800000000000001, 'thres_for_mean': 0.55}. Best is trial 41 with value: 24.129746419913843.\n"
     ]
    },
    {
     "name": "stderr",
     "output_type": "stream",
     "text": [
      "Best trial: 41. Best value: 24.1297:  32%|███▏      | 80/250 [10:20<21:55,  7.74s/it]"
     ]
    },
    {
     "name": "stdout",
     "output_type": "stream",
     "text": [
      "1829\n",
      "[I 2024-02-15 06:07:09,464] Trial 79 finished with value: 17.942330962002483 and parameters: {'thres_for_max': 0.53, 'thres_for_mean': 0.3}. Best is trial 41 with value: 24.129746419913843.\n"
     ]
    },
    {
     "name": "stderr",
     "output_type": "stream",
     "text": [
      "Best trial: 41. Best value: 24.1297:  32%|███▏      | 81/250 [10:28<21:44,  7.72s/it]"
     ]
    },
    {
     "name": "stdout",
     "output_type": "stream",
     "text": [
      "1620\n",
      "[I 2024-02-15 06:07:17,145] Trial 80 finished with value: 15.272966250101039 and parameters: {'thres_for_max': 0.55, 'thres_for_mean': 0.69}. Best is trial 41 with value: 24.129746419913843.\n"
     ]
    },
    {
     "name": "stderr",
     "output_type": "stream",
     "text": [
      "Best trial: 41. Best value: 24.1297:  33%|███▎      | 82/250 [10:36<21:40,  7.74s/it]"
     ]
    },
    {
     "name": "stdout",
     "output_type": "stream",
     "text": [
      "1808\n",
      "[I 2024-02-15 06:07:24,942] Trial 81 finished with value: 20.478997966672313 and parameters: {'thres_for_max': 0.47, 'thres_for_mean': 0.33999999999999997}. Best is trial 41 with value: 24.129746419913843.\n"
     ]
    },
    {
     "name": "stderr",
     "output_type": "stream",
     "text": [
      "Best trial: 41. Best value: 24.1297:  33%|███▎      | 83/250 [10:44<21:29,  7.72s/it]"
     ]
    },
    {
     "name": "stdout",
     "output_type": "stream",
     "text": [
      "1819\n",
      "[I 2024-02-15 06:07:32,613] Trial 82 finished with value: 20.156777570895105 and parameters: {'thres_for_max': 0.44999999999999996, 'thres_for_mean': 0.33999999999999997}. Best is trial 41 with value: 24.129746419913843.\n"
     ]
    },
    {
     "name": "stderr",
     "output_type": "stream",
     "text": [
      "Best trial: 41. Best value: 24.1297:  34%|███▎      | 84/250 [10:51<21:19,  7.71s/it]"
     ]
    },
    {
     "name": "stdout",
     "output_type": "stream",
     "text": [
      "1773\n",
      "[I 2024-02-15 06:07:40,277] Trial 83 finished with value: 21.163381824314786 and parameters: {'thres_for_max': 0.5, 'thres_for_mean': 0.36}. Best is trial 41 with value: 24.129746419913843.\n"
     ]
    },
    {
     "name": "stderr",
     "output_type": "stream",
     "text": [
      "Best trial: 41. Best value: 24.1297:  34%|███▍      | 85/250 [10:59<21:02,  7.65s/it]"
     ]
    },
    {
     "name": "stdout",
     "output_type": "stream",
     "text": [
      "1651\n",
      "[I 2024-02-15 06:07:47,808] Trial 84 finished with value: 11.090807708141561 and parameters: {'thres_for_max': 0.8799999999999999, 'thres_for_mean': 0.39}. Best is trial 41 with value: 24.129746419913843.\n"
     ]
    },
    {
     "name": "stderr",
     "output_type": "stream",
     "text": [
      "Best trial: 41. Best value: 24.1297:  34%|███▍      | 86/250 [11:06<20:59,  7.68s/it]"
     ]
    },
    {
     "name": "stdout",
     "output_type": "stream",
     "text": [
      "1834\n",
      "[I 2024-02-15 06:07:55,543] Trial 85 finished with value: 19.588623632989048 and parameters: {'thres_for_max': 0.45999999999999996, 'thres_for_mean': 0.31}. Best is trial 41 with value: 24.129746419913843.\n"
     ]
    },
    {
     "name": "stderr",
     "output_type": "stream",
     "text": [
      "Best trial: 41. Best value: 24.1297:  35%|███▍      | 87/250 [11:14<20:59,  7.73s/it]"
     ]
    },
    {
     "name": "stdout",
     "output_type": "stream",
     "text": [
      "1791\n",
      "[I 2024-02-15 06:08:03,385] Trial 86 finished with value: 21.629906937244325 and parameters: {'thres_for_max': 0.52, 'thres_for_mean': 0.32999999999999996}. Best is trial 41 with value: 24.129746419913843.\n"
     ]
    },
    {
     "name": "stderr",
     "output_type": "stream",
     "text": [
      "Best trial: 41. Best value: 24.1297:  35%|███▌      | 88/250 [11:22<20:52,  7.73s/it]"
     ]
    },
    {
     "name": "stdout",
     "output_type": "stream",
     "text": [
      "1788\n",
      "[I 2024-02-15 06:08:11,132] Trial 87 finished with value: 19.7435730825818 and parameters: {'thres_for_max': 0.48, 'thres_for_mean': 0.36}. Best is trial 41 with value: 24.129746419913843.\n"
     ]
    },
    {
     "name": "stderr",
     "output_type": "stream",
     "text": [
      "Best trial: 41. Best value: 24.1297:  36%|███▌      | 89/250 [11:30<20:46,  7.74s/it]"
     ]
    },
    {
     "name": "stdout",
     "output_type": "stream",
     "text": [
      "1762\n",
      "[I 2024-02-15 06:08:18,895] Trial 88 finished with value: 20.273749754561678 and parameters: {'thres_for_max': 0.65, 'thres_for_mean': 0.33999999999999997}. Best is trial 41 with value: 24.129746419913843.\n"
     ]
    },
    {
     "name": "stderr",
     "output_type": "stream",
     "text": [
      "Best trial: 41. Best value: 24.1297:  36%|███▌      | 90/250 [11:38<20:42,  7.77s/it]"
     ]
    },
    {
     "name": "stdout",
     "output_type": "stream",
     "text": [
      "1850\n",
      "[I 2024-02-15 06:08:26,717] Trial 89 finished with value: 18.32241035911266 and parameters: {'thres_for_max': 0.4, 'thres_for_mean': 0.42}. Best is trial 41 with value: 24.129746419913843.\n"
     ]
    },
    {
     "name": "stderr",
     "output_type": "stream",
     "text": [
      "Best trial: 41. Best value: 24.1297:  36%|███▋      | 91/250 [11:45<20:32,  7.75s/it]"
     ]
    },
    {
     "name": "stdout",
     "output_type": "stream",
     "text": [
      "1733\n",
      "[I 2024-02-15 06:08:34,429] Trial 90 finished with value: 17.83619583454803 and parameters: {'thres_for_max': 0.54, 'thres_for_mean': 0.38}. Best is trial 41 with value: 24.129746419913843.\n"
     ]
    },
    {
     "name": "stderr",
     "output_type": "stream",
     "text": [
      "Best trial: 41. Best value: 24.1297:  37%|███▋      | 92/250 [11:53<20:38,  7.84s/it]"
     ]
    },
    {
     "name": "stdout",
     "output_type": "stream",
     "text": [
      "1844\n",
      "[I 2024-02-15 06:08:42,472] Trial 91 finished with value: 19.597634221426258 and parameters: {'thres_for_max': 0.41, 'thres_for_mean': 0.35}. Best is trial 41 with value: 24.129746419913843.\n"
     ]
    },
    {
     "name": "stderr",
     "output_type": "stream",
     "text": [
      "Best trial: 41. Best value: 24.1297:  37%|███▋      | 93/250 [12:02<20:42,  7.91s/it]"
     ]
    },
    {
     "name": "stdout",
     "output_type": "stream",
     "text": [
      "1843\n",
      "[I 2024-02-15 06:08:50,566] Trial 92 finished with value: 24.129746419913843 and parameters: {'thres_for_max': 0.43, 'thres_for_mean': 0.32}. Best is trial 41 with value: 24.129746419913843.\n"
     ]
    },
    {
     "name": "stderr",
     "output_type": "stream",
     "text": [
      "Best trial: 41. Best value: 24.1297:  38%|███▊      | 94/250 [12:09<20:35,  7.92s/it]"
     ]
    },
    {
     "name": "stdout",
     "output_type": "stream",
     "text": [
      "1836\n",
      "[I 2024-02-15 06:08:58,495] Trial 93 finished with value: 20.177909995807422 and parameters: {'thres_for_max': 0.44999999999999996, 'thres_for_mean': 0.31}. Best is trial 41 with value: 24.129746419913843.\n"
     ]
    },
    {
     "name": "stderr",
     "output_type": "stream",
     "text": [
      "Best trial: 41. Best value: 24.1297:  38%|███▊      | 95/250 [12:18<20:37,  7.99s/it]"
     ]
    },
    {
     "name": "stdout",
     "output_type": "stream",
     "text": [
      "1854\n",
      "[I 2024-02-15 06:09:06,636] Trial 94 finished with value: 18.229172075892844 and parameters: {'thres_for_max': 0.39, 'thres_for_mean': 0.32999999999999996}. Best is trial 41 with value: 24.129746419913843.\n"
     ]
    },
    {
     "name": "stderr",
     "output_type": "stream",
     "text": [
      "Best trial: 41. Best value: 24.1297:  38%|███▊      | 96/250 [12:26<20:34,  8.02s/it]"
     ]
    },
    {
     "name": "stdout",
     "output_type": "stream",
     "text": [
      "1817\n",
      "[I 2024-02-15 06:09:14,733] Trial 95 finished with value: 23.69547855667467 and parameters: {'thres_for_max': 0.49, 'thres_for_mean': 0.32}. Best is trial 41 with value: 24.129746419913843.\n"
     ]
    },
    {
     "name": "stderr",
     "output_type": "stream",
     "text": [
      "Best trial: 41. Best value: 24.1297:  39%|███▉      | 97/250 [12:34<20:36,  8.08s/it]"
     ]
    },
    {
     "name": "stdout",
     "output_type": "stream",
     "text": [
      "1832\n",
      "[I 2024-02-15 06:09:22,962] Trial 96 finished with value: 18.999832373124487 and parameters: {'thres_for_max': 0.47, 'thres_for_mean': 0.31}. Best is trial 41 with value: 24.129746419913843.\n"
     ]
    },
    {
     "name": "stderr",
     "output_type": "stream",
     "text": [
      "Best trial: 41. Best value: 24.1297:  39%|███▉      | 98/250 [12:42<20:40,  8.16s/it]"
     ]
    },
    {
     "name": "stdout",
     "output_type": "stream",
     "text": [
      "1843\n",
      "[I 2024-02-15 06:09:31,312] Trial 97 finished with value: 24.129746419913843 and parameters: {'thres_for_max': 0.43, 'thres_for_mean': 0.32}. Best is trial 41 with value: 24.129746419913843.\n"
     ]
    },
    {
     "name": "stderr",
     "output_type": "stream",
     "text": [
      "Best trial: 41. Best value: 24.1297:  40%|███▉      | 99/250 [12:51<20:44,  8.24s/it]"
     ]
    },
    {
     "name": "stdout",
     "output_type": "stream",
     "text": [
      "1834\n",
      "[I 2024-02-15 06:09:39,729] Trial 98 finished with value: 20.982579355019045 and parameters: {'thres_for_max': 0.43, 'thres_for_mean': 0.36}. Best is trial 41 with value: 24.129746419913843.\n"
     ]
    },
    {
     "name": "stderr",
     "output_type": "stream",
     "text": [
      "Best trial: 41. Best value: 24.1297:  40%|████      | 100/250 [12:59<20:58,  8.39s/it]"
     ]
    },
    {
     "name": "stdout",
     "output_type": "stream",
     "text": [
      "1865\n",
      "[I 2024-02-15 06:09:48,465] Trial 99 finished with value: 15.368240007883488 and parameters: {'thres_for_max': 0.36, 'thres_for_mean': 0.32}. Best is trial 41 with value: 24.129746419913843.\n"
     ]
    },
    {
     "name": "stderr",
     "output_type": "stream",
     "text": [
      "Best trial: 41. Best value: 24.1297:  40%|████      | 101/250 [13:07<20:19,  8.18s/it]"
     ]
    },
    {
     "name": "stdout",
     "output_type": "stream",
     "text": [
      "1685\n",
      "[I 2024-02-15 06:09:56,167] Trial 100 finished with value: 13.92972550075851 and parameters: {'thres_for_max': 0.56, 'thres_for_mean': 0.4}. Best is trial 41 with value: 24.129746419913843.\n"
     ]
    },
    {
     "name": "stderr",
     "output_type": "stream",
     "text": [
      "Best trial: 41. Best value: 24.1297:  41%|████      | 102/250 [13:15<19:57,  8.09s/it]"
     ]
    },
    {
     "name": "stdout",
     "output_type": "stream",
     "text": [
      "1845\n",
      "[I 2024-02-15 06:10:04,043] Trial 101 finished with value: 19.053795393014077 and parameters: {'thres_for_max': 0.44, 'thres_for_mean': 0.3}. Best is trial 41 with value: 24.129746419913843.\n"
     ]
    },
    {
     "name": "stderr",
     "output_type": "stream",
     "text": [
      "Best trial: 41. Best value: 24.1297:  41%|████      | 103/250 [13:23<19:59,  8.16s/it]"
     ]
    },
    {
     "name": "stdout",
     "output_type": "stream",
     "text": [
      "1840\n",
      "[I 2024-02-15 06:10:12,357] Trial 102 finished with value: 20.086779901600515 and parameters: {'thres_for_max': 0.42, 'thres_for_mean': 0.32999999999999996}. Best is trial 41 with value: 24.129746419913843.\n"
     ]
    },
    {
     "name": "stderr",
     "output_type": "stream",
     "text": [
      "Best trial: 41. Best value: 24.1297:  42%|████▏     | 104/250 [13:31<19:45,  8.12s/it]"
     ]
    },
    {
     "name": "stdout",
     "output_type": "stream",
     "text": [
      "1854\n",
      "[I 2024-02-15 06:10:20,383] Trial 103 finished with value: 17.326032665051432 and parameters: {'thres_for_max': 0.39, 'thres_for_mean': 0.37}. Best is trial 41 with value: 24.129746419913843.\n"
     ]
    },
    {
     "name": "stderr",
     "output_type": "stream",
     "text": [
      "Best trial: 41. Best value: 24.1297:  42%|████▏     | 105/250 [13:39<19:37,  8.12s/it]"
     ]
    },
    {
     "name": "stdout",
     "output_type": "stream",
     "text": [
      "1823\n",
      "[I 2024-02-15 06:10:28,501] Trial 104 finished with value: 21.640509072115726 and parameters: {'thres_for_max': 0.51, 'thres_for_mean': 0.31}. Best is trial 41 with value: 24.129746419913843.\n"
     ]
    },
    {
     "name": "stderr",
     "output_type": "stream",
     "text": [
      "Best trial: 41. Best value: 24.1297:  42%|████▏     | 106/250 [13:47<19:12,  8.00s/it]"
     ]
    },
    {
     "name": "stdout",
     "output_type": "stream",
     "text": [
      "1810\n",
      "[I 2024-02-15 06:10:36,234] Trial 105 finished with value: 19.075129280616252 and parameters: {'thres_for_max': 0.45999999999999996, 'thres_for_mean': 0.35}. Best is trial 41 with value: 24.129746419913843.\n"
     ]
    },
    {
     "name": "stderr",
     "output_type": "stream",
     "text": [
      "Best trial: 41. Best value: 24.1297:  43%|████▎     | 107/250 [13:55<18:48,  7.89s/it]"
     ]
    },
    {
     "name": "stdout",
     "output_type": "stream",
     "text": [
      "1843\n",
      "[I 2024-02-15 06:10:43,864] Trial 106 finished with value: 17.741409487766013 and parameters: {'thres_for_max': 0.41, 'thres_for_mean': 0.38}. Best is trial 41 with value: 24.129746419913843.\n"
     ]
    },
    {
     "name": "stderr",
     "output_type": "stream",
     "text": [
      "Best trial: 41. Best value: 24.1297:  43%|████▎     | 108/250 [14:03<18:37,  7.87s/it]"
     ]
    },
    {
     "name": "stdout",
     "output_type": "stream",
     "text": [
      "1821\n",
      "[I 2024-02-15 06:10:51,674] Trial 107 finished with value: 21.539388195905648 and parameters: {'thres_for_max': 0.48, 'thres_for_mean': 0.32}. Best is trial 41 with value: 24.129746419913843.\n"
     ]
    },
    {
     "name": "stderr",
     "output_type": "stream",
     "text": [
      "Best trial: 41. Best value: 24.1297:  44%|████▎     | 109/250 [14:10<18:20,  7.81s/it]"
     ]
    },
    {
     "name": "stdout",
     "output_type": "stream",
     "text": [
      "1820\n",
      "[I 2024-02-15 06:10:59,343] Trial 108 finished with value: 20.390674254801137 and parameters: {'thres_for_max': 0.44, 'thres_for_mean': 0.75}. Best is trial 41 with value: 24.129746419913843.\n"
     ]
    },
    {
     "name": "stderr",
     "output_type": "stream",
     "text": [
      "Best trial: 41. Best value: 24.1297:  44%|████▍     | 110/250 [14:18<18:15,  7.82s/it]"
     ]
    },
    {
     "name": "stdout",
     "output_type": "stream",
     "text": [
      "1819\n",
      "[I 2024-02-15 06:11:07,208] Trial 109 finished with value: 20.156777570895105 and parameters: {'thres_for_max': 0.44999999999999996, 'thres_for_mean': 0.33999999999999997}. Best is trial 41 with value: 24.129746419913843.\n"
     ]
    },
    {
     "name": "stderr",
     "output_type": "stream",
     "text": [
      "Best trial: 41. Best value: 24.1297:  44%|████▍     | 111/250 [14:26<18:07,  7.82s/it]"
     ]
    },
    {
     "name": "stdout",
     "output_type": "stream",
     "text": [
      "1857\n",
      "[I 2024-02-15 06:11:15,023] Trial 110 finished with value: 15.901024222153 and parameters: {'thres_for_max': 0.38, 'thres_for_mean': 0.61}. Best is trial 41 with value: 24.129746419913843.\n"
     ]
    },
    {
     "name": "stderr",
     "output_type": "stream",
     "text": [
      "Best trial: 41. Best value: 24.1297:  45%|████▍     | 112/250 [14:34<18:00,  7.83s/it]"
     ]
    },
    {
     "name": "stdout",
     "output_type": "stream",
     "text": [
      "1796\n",
      "[I 2024-02-15 06:11:22,879] Trial 111 finished with value: 20.833242813163718 and parameters: {'thres_for_max': 0.5, 'thres_for_mean': 0.32999999999999996}. Best is trial 41 with value: 24.129746419913843.\n"
     ]
    },
    {
     "name": "stderr",
     "output_type": "stream",
     "text": [
      "Best trial: 41. Best value: 24.1297:  45%|████▌     | 113/250 [14:42<17:49,  7.80s/it]"
     ]
    },
    {
     "name": "stdout",
     "output_type": "stream",
     "text": [
      "1793\n",
      "[I 2024-02-15 06:11:30,614] Trial 112 finished with value: 22.27896011689489 and parameters: {'thres_for_max': 0.49, 'thres_for_mean': 0.33999999999999997}. Best is trial 41 with value: 24.129746419913843.\n"
     ]
    },
    {
     "name": "stderr",
     "output_type": "stream",
     "text": [
      "Best trial: 41. Best value: 24.1297:  46%|████▌     | 114/250 [14:49<17:37,  7.78s/it]"
     ]
    },
    {
     "name": "stdout",
     "output_type": "stream",
     "text": [
      "1838\n",
      "[I 2024-02-15 06:11:38,337] Trial 113 finished with value: 18.57598180107112 and parameters: {'thres_for_max': 0.42, 'thres_for_mean': 0.36}. Best is trial 41 with value: 24.129746419913843.\n"
     ]
    },
    {
     "name": "stderr",
     "output_type": "stream",
     "text": [
      "Best trial: 41. Best value: 24.1297:  46%|████▌     | 115/250 [14:57<17:28,  7.77s/it]"
     ]
    },
    {
     "name": "stdout",
     "output_type": "stream",
     "text": [
      "1821\n",
      "[I 2024-02-15 06:11:46,076] Trial 114 finished with value: 22.309536723516192 and parameters: {'thres_for_max': 0.53, 'thres_for_mean': 0.31}. Best is trial 41 with value: 24.129746419913843.\n"
     ]
    },
    {
     "name": "stderr",
     "output_type": "stream",
     "text": [
      "Best trial: 41. Best value: 24.1297:  46%|████▋     | 116/250 [15:05<17:15,  7.73s/it]"
     ]
    },
    {
     "name": "stdout",
     "output_type": "stream",
     "text": [
      "1828\n",
      "[I 2024-02-15 06:11:53,724] Trial 115 finished with value: 18.586958729396184 and parameters: {'thres_for_max': 0.59, 'thres_for_mean': 0.3}. Best is trial 41 with value: 24.129746419913843.\n"
     ]
    },
    {
     "name": "stderr",
     "output_type": "stream",
     "text": [
      "Best trial: 41. Best value: 24.1297:  47%|████▋     | 117/250 [15:13<17:12,  7.76s/it]"
     ]
    },
    {
     "name": "stdout",
     "output_type": "stream",
     "text": [
      "1810\n",
      "[I 2024-02-15 06:12:01,566] Trial 116 finished with value: 24.01911107457002 and parameters: {'thres_for_max': 0.53, 'thres_for_mean': 0.32}. Best is trial 41 with value: 24.129746419913843.\n"
     ]
    },
    {
     "name": "stderr",
     "output_type": "stream",
     "text": [
      "Best trial: 41. Best value: 24.1297:  47%|████▋     | 118/250 [15:20<17:07,  7.78s/it]"
     ]
    },
    {
     "name": "stdout",
     "output_type": "stream",
     "text": [
      "1806\n",
      "[I 2024-02-15 06:12:09,392] Trial 117 finished with value: 23.41055106341182 and parameters: {'thres_for_max': 0.5700000000000001, 'thres_for_mean': 0.32}. Best is trial 41 with value: 24.129746419913843.\n"
     ]
    },
    {
     "name": "stderr",
     "output_type": "stream",
     "text": [
      "Best trial: 41. Best value: 24.1297:  48%|████▊     | 119/250 [15:28<16:54,  7.75s/it]"
     ]
    },
    {
     "name": "stdout",
     "output_type": "stream",
     "text": [
      "1582\n",
      "[I 2024-02-15 06:12:17,058] Trial 118 finished with value: 14.456160116328437 and parameters: {'thres_for_max': 0.56, 'thres_for_mean': 0.8999999999999999}. Best is trial 41 with value: 24.129746419913843.\n"
     ]
    },
    {
     "name": "stderr",
     "output_type": "stream",
     "text": [
      "Best trial: 41. Best value: 24.1297:  48%|████▊     | 120/250 [15:36<16:51,  7.78s/it]"
     ]
    },
    {
     "name": "stdout",
     "output_type": "stream",
     "text": [
      "1810\n",
      "[I 2024-02-15 06:12:24,910] Trial 119 finished with value: 24.01911107457002 and parameters: {'thres_for_max': 0.53, 'thres_for_mean': 0.32}. Best is trial 41 with value: 24.129746419913843.\n"
     ]
    },
    {
     "name": "stderr",
     "output_type": "stream",
     "text": [
      "Best trial: 41. Best value: 24.1297:  48%|████▊     | 121/250 [15:44<16:43,  7.78s/it]"
     ]
    },
    {
     "name": "stdout",
     "output_type": "stream",
     "text": [
      "1809\n",
      "[I 2024-02-15 06:12:32,686] Trial 120 finished with value: 22.673016968477405 and parameters: {'thres_for_max': 0.54, 'thres_for_mean': 0.32}. Best is trial 41 with value: 24.129746419913843.\n"
     ]
    },
    {
     "name": "stderr",
     "output_type": "stream",
     "text": [
      "Best trial: 41. Best value: 24.1297:  49%|████▉     | 122/250 [15:51<16:32,  7.76s/it]"
     ]
    },
    {
     "name": "stdout",
     "output_type": "stream",
     "text": [
      "1806\n",
      "[I 2024-02-15 06:12:40,392] Trial 121 finished with value: 23.41055106341182 and parameters: {'thres_for_max': 0.5700000000000001, 'thres_for_mean': 0.32}. Best is trial 41 with value: 24.129746419913843.\n"
     ]
    },
    {
     "name": "stderr",
     "output_type": "stream",
     "text": [
      "Best trial: 41. Best value: 24.1297:  49%|████▉     | 123/250 [15:59<16:22,  7.74s/it]"
     ]
    },
    {
     "name": "stdout",
     "output_type": "stream",
     "text": [
      "1806\n",
      "[I 2024-02-15 06:12:48,079] Trial 122 finished with value: 23.41055106341182 and parameters: {'thres_for_max': 0.5700000000000001, 'thres_for_mean': 0.32}. Best is trial 41 with value: 24.129746419913843.\n"
     ]
    },
    {
     "name": "stderr",
     "output_type": "stream",
     "text": [
      "Best trial: 41. Best value: 24.1297:  50%|████▉     | 124/250 [16:07<16:10,  7.70s/it]"
     ]
    },
    {
     "name": "stdout",
     "output_type": "stream",
     "text": [
      "1806\n",
      "[I 2024-02-15 06:12:55,699] Trial 123 finished with value: 23.9698805238877 and parameters: {'thres_for_max': 0.5800000000000001, 'thres_for_mean': 0.32}. Best is trial 41 with value: 24.129746419913843.\n"
     ]
    },
    {
     "name": "stderr",
     "output_type": "stream",
     "text": [
      "Best trial: 41. Best value: 24.1297:  50%|█████     | 125/250 [16:14<16:05,  7.72s/it]"
     ]
    },
    {
     "name": "stdout",
     "output_type": "stream",
     "text": [
      "1806\n",
      "[I 2024-02-15 06:13:03,465] Trial 124 finished with value: 23.9698805238877 and parameters: {'thres_for_max': 0.5800000000000001, 'thres_for_mean': 0.32}. Best is trial 41 with value: 24.129746419913843.\n"
     ]
    },
    {
     "name": "stderr",
     "output_type": "stream",
     "text": [
      "Best trial: 41. Best value: 24.1297:  50%|█████     | 126/250 [16:22<16:00,  7.75s/it]"
     ]
    },
    {
     "name": "stdout",
     "output_type": "stream",
     "text": [
      "1806\n",
      "[I 2024-02-15 06:13:11,272] Trial 125 finished with value: 23.9698805238877 and parameters: {'thres_for_max': 0.5800000000000001, 'thres_for_mean': 0.32}. Best is trial 41 with value: 24.129746419913843.\n"
     ]
    },
    {
     "name": "stderr",
     "output_type": "stream",
     "text": [
      "Best trial: 41. Best value: 24.1297:  51%|█████     | 127/250 [16:30<15:54,  7.76s/it]"
     ]
    },
    {
     "name": "stdout",
     "output_type": "stream",
     "text": [
      "1804\n",
      "[I 2024-02-15 06:13:19,074] Trial 126 finished with value: 23.83137345903553 and parameters: {'thres_for_max': 0.6, 'thres_for_mean': 0.32}. Best is trial 41 with value: 24.129746419913843.\n"
     ]
    },
    {
     "name": "stderr",
     "output_type": "stream",
     "text": [
      "Best trial: 41. Best value: 24.1297:  51%|█████     | 128/250 [16:38<15:44,  7.75s/it]"
     ]
    },
    {
     "name": "stdout",
     "output_type": "stream",
     "text": [
      "1828\n",
      "[I 2024-02-15 06:13:26,778] Trial 127 finished with value: 17.636390815516428 and parameters: {'thres_for_max': 0.61, 'thres_for_mean': 0.3}. Best is trial 41 with value: 24.129746419913843.\n"
     ]
    },
    {
     "name": "stderr",
     "output_type": "stream",
     "text": [
      "Best trial: 41. Best value: 24.1297:  52%|█████▏    | 129/250 [16:45<15:35,  7.73s/it]"
     ]
    },
    {
     "name": "stdout",
     "output_type": "stream",
     "text": [
      "1806\n",
      "[I 2024-02-15 06:13:34,487] Trial 128 finished with value: 23.9698805238877 and parameters: {'thres_for_max': 0.5800000000000001, 'thres_for_mean': 0.32}. Best is trial 41 with value: 24.129746419913843.\n"
     ]
    },
    {
     "name": "stderr",
     "output_type": "stream",
     "text": [
      "Best trial: 41. Best value: 24.1297:  52%|█████▏    | 130/250 [16:53<15:28,  7.74s/it]"
     ]
    },
    {
     "name": "stdout",
     "output_type": "stream",
     "text": [
      "1819\n",
      "[I 2024-02-15 06:13:42,240] Trial 129 finished with value: 21.813985408256727 and parameters: {'thres_for_max': 0.59, 'thres_for_mean': 0.31}. Best is trial 41 with value: 24.129746419913843.\n"
     ]
    },
    {
     "name": "stderr",
     "output_type": "stream",
     "text": [
      "Best trial: 41. Best value: 24.1297:  52%|█████▏    | 131/250 [17:01<15:21,  7.74s/it]"
     ]
    },
    {
     "name": "stdout",
     "output_type": "stream",
     "text": [
      "1828\n",
      "[I 2024-02-15 06:13:49,994] Trial 130 finished with value: 17.116508261304386 and parameters: {'thres_for_max': 0.63, 'thres_for_mean': 0.3}. Best is trial 41 with value: 24.129746419913843.\n"
     ]
    },
    {
     "name": "stderr",
     "output_type": "stream",
     "text": [
      "Best trial: 41. Best value: 24.1297:  53%|█████▎    | 132/250 [17:09<15:27,  7.86s/it]"
     ]
    },
    {
     "name": "stdout",
     "output_type": "stream",
     "text": [
      "1804\n",
      "[I 2024-02-15 06:13:58,111] Trial 131 finished with value: 23.83137345903553 and parameters: {'thres_for_max': 0.6, 'thres_for_mean': 0.32}. Best is trial 41 with value: 24.129746419913843.\n"
     ]
    },
    {
     "name": "stderr",
     "output_type": "stream",
     "text": [
      "Best trial: 41. Best value: 24.1297:  53%|█████▎    | 133/250 [17:17<15:17,  7.84s/it]"
     ]
    },
    {
     "name": "stdout",
     "output_type": "stream",
     "text": [
      "1806\n",
      "[I 2024-02-15 06:14:05,923] Trial 132 finished with value: 23.9698805238877 and parameters: {'thres_for_max': 0.5800000000000001, 'thres_for_mean': 0.32}. Best is trial 41 with value: 24.129746419913843.\n"
     ]
    },
    {
     "name": "stderr",
     "output_type": "stream",
     "text": [
      "Best trial: 41. Best value: 24.1297:  54%|█████▎    | 134/250 [17:25<15:07,  7.82s/it]"
     ]
    },
    {
     "name": "stdout",
     "output_type": "stream",
     "text": [
      "1802\n",
      "[I 2024-02-15 06:14:13,695] Trial 133 finished with value: 22.75585978010313 and parameters: {'thres_for_max': 0.61, 'thres_for_mean': 0.32}. Best is trial 41 with value: 24.129746419913843.\n"
     ]
    },
    {
     "name": "stderr",
     "output_type": "stream",
     "text": [
      "Best trial: 41. Best value: 24.1297:  54%|█████▍    | 135/250 [17:33<15:01,  7.84s/it]"
     ]
    },
    {
     "name": "stdout",
     "output_type": "stream",
     "text": [
      "1828\n",
      "[I 2024-02-15 06:14:21,580] Trial 134 finished with value: 18.486468626350334 and parameters: {'thres_for_max': 0.6, 'thres_for_mean': 0.3}. Best is trial 41 with value: 24.129746419913843.\n"
     ]
    },
    {
     "name": "stderr",
     "output_type": "stream",
     "text": [
      "Best trial: 41. Best value: 24.1297:  54%|█████▍    | 136/250 [17:40<14:49,  7.80s/it]"
     ]
    },
    {
     "name": "stdout",
     "output_type": "stream",
     "text": [
      "1784\n",
      "[I 2024-02-15 06:14:29,288] Trial 135 finished with value: 21.564324407770062 and parameters: {'thres_for_max': 0.5800000000000001, 'thres_for_mean': 0.32999999999999996}. Best is trial 41 with value: 24.129746419913843.\n"
     ]
    },
    {
     "name": "stderr",
     "output_type": "stream",
     "text": [
      "Best trial: 41. Best value: 24.1297:  55%|█████▍    | 137/250 [17:48<14:35,  7.74s/it]"
     ]
    },
    {
     "name": "stdout",
     "output_type": "stream",
     "text": [
      "1817\n",
      "[I 2024-02-15 06:14:36,901] Trial 136 finished with value: 19.668717233954553 and parameters: {'thres_for_max': 0.64, 'thres_for_mean': 0.31}. Best is trial 41 with value: 24.129746419913843.\n"
     ]
    },
    {
     "name": "stderr",
     "output_type": "stream",
     "text": [
      "Best trial: 41. Best value: 24.1297:  55%|█████▌    | 138/250 [17:55<14:22,  7.70s/it]"
     ]
    },
    {
     "name": "stdout",
     "output_type": "stream",
     "text": [
      "1171\n",
      "[I 2024-02-15 06:14:44,503] Trial 137 finished with value: 17.401691077825344 and parameters: {'thres_for_max': 0.6699999999999999, 'thres_for_mean': 0.64}. Best is trial 41 with value: 24.129746419913843.\n"
     ]
    },
    {
     "name": "stderr",
     "output_type": "stream",
     "text": [
      "Best trial: 41. Best value: 24.1297:  56%|█████▌    | 139/250 [18:03<14:14,  7.70s/it]"
     ]
    },
    {
     "name": "stdout",
     "output_type": "stream",
     "text": [
      "1759\n",
      "[I 2024-02-15 06:14:52,187] Trial 138 finished with value: 20.29967698563454 and parameters: {'thres_for_max': 0.5800000000000001, 'thres_for_mean': 0.35}. Best is trial 41 with value: 24.129746419913843.\n"
     ]
    },
    {
     "name": "stderr",
     "output_type": "stream",
     "text": [
      "Best trial: 41. Best value: 24.1297:  56%|█████▌    | 140/250 [18:11<14:07,  7.70s/it]"
     ]
    },
    {
     "name": "stdout",
     "output_type": "stream",
     "text": [
      "1780\n",
      "[I 2024-02-15 06:14:59,907] Trial 139 finished with value: 20.00795396531769 and parameters: {'thres_for_max': 0.62, 'thres_for_mean': 0.32999999999999996}. Best is trial 41 with value: 24.129746419913843.\n"
     ]
    },
    {
     "name": "stderr",
     "output_type": "stream",
     "text": [
      "Best trial: 41. Best value: 24.1297:  56%|█████▋    | 141/250 [18:19<14:03,  7.74s/it]"
     ]
    },
    {
     "name": "stdout",
     "output_type": "stream",
     "text": [
      "1736\n",
      "[I 2024-02-15 06:15:07,718] Trial 140 finished with value: 18.43814206753693 and parameters: {'thres_for_max': 0.6, 'thres_for_mean': 0.36}. Best is trial 41 with value: 24.129746419913843.\n"
     ]
    },
    {
     "name": "stderr",
     "output_type": "stream",
     "text": [
      "Best trial: 41. Best value: 24.1297:  57%|█████▋    | 142/250 [18:26<13:57,  7.76s/it]"
     ]
    },
    {
     "name": "stdout",
     "output_type": "stream",
     "text": [
      "1807\n",
      "[I 2024-02-15 06:15:15,530] Trial 141 finished with value: 22.888809509476268 and parameters: {'thres_for_max': 0.56, 'thres_for_mean': 0.32}. Best is trial 41 with value: 24.129746419913843.\n"
     ]
    },
    {
     "name": "stderr",
     "output_type": "stream",
     "text": [
      "Best trial: 41. Best value: 24.1297:  57%|█████▋    | 143/250 [18:34<13:53,  7.79s/it]"
     ]
    },
    {
     "name": "stdout",
     "output_type": "stream",
     "text": [
      "1819\n",
      "[I 2024-02-15 06:15:23,395] Trial 142 finished with value: 21.188560303146563 and parameters: {'thres_for_max': 0.5700000000000001, 'thres_for_mean': 0.31}. Best is trial 41 with value: 24.129746419913843.\n"
     ]
    },
    {
     "name": "stderr",
     "output_type": "stream",
     "text": [
      "Best trial: 41. Best value: 24.1297:  58%|█████▊    | 144/250 [18:42<13:41,  7.75s/it]"
     ]
    },
    {
     "name": "stdout",
     "output_type": "stream",
     "text": [
      "1782\n",
      "[I 2024-02-15 06:15:31,063] Trial 143 finished with value: 21.45432089921749 and parameters: {'thres_for_max': 0.6, 'thres_for_mean': 0.32999999999999996}. Best is trial 41 with value: 24.129746419913843.\n"
     ]
    },
    {
     "name": "stderr",
     "output_type": "stream",
     "text": [
      "Best trial: 41. Best value: 24.1297:  58%|█████▊    | 145/250 [18:50<13:32,  7.74s/it]"
     ]
    },
    {
     "name": "stdout",
     "output_type": "stream",
     "text": [
      "1808\n",
      "[I 2024-02-15 06:15:38,766] Trial 144 finished with value: 22.935448226097268 and parameters: {'thres_for_max': 0.55, 'thres_for_mean': 0.32}. Best is trial 41 with value: 24.129746419913843.\n"
     ]
    },
    {
     "name": "stderr",
     "output_type": "stream",
     "text": [
      "Best trial: 41. Best value: 24.1297:  58%|█████▊    | 146/250 [18:57<13:19,  7.69s/it]"
     ]
    },
    {
     "name": "stdout",
     "output_type": "stream",
     "text": [
      "1554\n",
      "[I 2024-02-15 06:15:46,348] Trial 145 finished with value: 15.501298658327071 and parameters: {'thres_for_max': 0.5700000000000001, 'thres_for_mean': 0.8400000000000001}. Best is trial 41 with value: 24.129746419913843.\n"
     ]
    },
    {
     "name": "stderr",
     "output_type": "stream",
     "text": [
      "Best trial: 41. Best value: 24.1297:  59%|█████▉    | 147/250 [19:05<13:12,  7.69s/it]"
     ]
    },
    {
     "name": "stdout",
     "output_type": "stream",
     "text": [
      "1828\n",
      "[I 2024-02-15 06:15:54,048] Trial 146 finished with value: 18.586958729396184 and parameters: {'thres_for_max': 0.59, 'thres_for_mean': 0.3}. Best is trial 41 with value: 24.129746419913843.\n"
     ]
    },
    {
     "name": "stderr",
     "output_type": "stream",
     "text": [
      "Best trial: 41. Best value: 24.1297:  59%|█████▉    | 148/250 [19:13<13:06,  7.71s/it]"
     ]
    },
    {
     "name": "stdout",
     "output_type": "stream",
     "text": [
      "1774\n",
      "[I 2024-02-15 06:16:01,799] Trial 147 finished with value: 20.804910346925357 and parameters: {'thres_for_max': 0.55, 'thres_for_mean': 0.33999999999999997}. Best is trial 41 with value: 24.129746419913843.\n"
     ]
    },
    {
     "name": "stderr",
     "output_type": "stream",
     "text": [
      "Best trial: 41. Best value: 24.1297:  60%|█████▉    | 149/250 [19:21<13:02,  7.74s/it]"
     ]
    },
    {
     "name": "stdout",
     "output_type": "stream",
     "text": [
      "1806\n",
      "[I 2024-02-15 06:16:09,615] Trial 148 finished with value: 23.9698805238877 and parameters: {'thres_for_max': 0.5800000000000001, 'thres_for_mean': 0.32}. Best is trial 41 with value: 24.129746419913843.\n"
     ]
    },
    {
     "name": "stderr",
     "output_type": "stream",
     "text": [
      "Best trial: 41. Best value: 24.1297:  60%|██████    | 150/250 [19:28<12:55,  7.76s/it]"
     ]
    },
    {
     "name": "stdout",
     "output_type": "stream",
     "text": [
      "1751\n",
      "[I 2024-02-15 06:16:17,410] Trial 149 finished with value: 18.937186045685216 and parameters: {'thres_for_max': 0.63, 'thres_for_mean': 0.35}. Best is trial 41 with value: 24.129746419913843.\n"
     ]
    },
    {
     "name": "stderr",
     "output_type": "stream",
     "text": [
      "Best trial: 41. Best value: 24.1297:  60%|██████    | 151/250 [19:36<12:46,  7.74s/it]"
     ]
    },
    {
     "name": "stdout",
     "output_type": "stream",
     "text": [
      "1722\n",
      "[I 2024-02-15 06:16:25,099] Trial 150 finished with value: 20.09256806496121 and parameters: {'thres_for_max': 0.59, 'thres_for_mean': 0.37}. Best is trial 41 with value: 24.129746419913843.\n"
     ]
    },
    {
     "name": "stderr",
     "output_type": "stream",
     "text": [
      "Best trial: 41. Best value: 24.1297:  61%|██████    | 152/250 [19:44<12:38,  7.74s/it]"
     ]
    },
    {
     "name": "stdout",
     "output_type": "stream",
     "text": [
      "1806\n",
      "[I 2024-02-15 06:16:32,850] Trial 151 finished with value: 23.41055106341182 and parameters: {'thres_for_max': 0.5700000000000001, 'thres_for_mean': 0.32}. Best is trial 41 with value: 24.129746419913843.\n"
     ]
    },
    {
     "name": "stderr",
     "output_type": "stream",
     "text": [
      "Best trial: 41. Best value: 24.1297:  61%|██████    | 153/250 [19:52<12:30,  7.74s/it]"
     ]
    },
    {
     "name": "stdout",
     "output_type": "stream",
     "text": [
      "1780\n",
      "[I 2024-02-15 06:16:40,594] Trial 152 finished with value: 20.493749127911485 and parameters: {'thres_for_max': 0.61, 'thres_for_mean': 0.32999999999999996}. Best is trial 41 with value: 24.129746419913843.\n"
     ]
    },
    {
     "name": "stderr",
     "output_type": "stream",
     "text": [
      "Best trial: 41. Best value: 24.1297:  62%|██████▏   | 154/250 [19:59<12:22,  7.73s/it]"
     ]
    },
    {
     "name": "stdout",
     "output_type": "stream",
     "text": [
      "1819\n",
      "[I 2024-02-15 06:16:48,294] Trial 153 finished with value: 21.564327843688385 and parameters: {'thres_for_max': 0.5800000000000001, 'thres_for_mean': 0.31}. Best is trial 41 with value: 24.129746419913843.\n"
     ]
    },
    {
     "name": "stderr",
     "output_type": "stream",
     "text": [
      "Best trial: 41. Best value: 24.1297:  62%|██████▏   | 155/250 [20:07<12:15,  7.74s/it]"
     ]
    },
    {
     "name": "stdout",
     "output_type": "stream",
     "text": [
      "1828\n",
      "[I 2024-02-15 06:16:56,066] Trial 154 finished with value: 17.998084289980866 and parameters: {'thres_for_max': 0.56, 'thres_for_mean': 0.3}. Best is trial 41 with value: 24.129746419913843.\n"
     ]
    },
    {
     "name": "stderr",
     "output_type": "stream",
     "text": [
      "Best trial: 41. Best value: 24.1297:  62%|██████▏   | 156/250 [20:15<12:06,  7.72s/it]"
     ]
    },
    {
     "name": "stdout",
     "output_type": "stream",
     "text": [
      "1780\n",
      "[I 2024-02-15 06:17:03,750] Trial 155 finished with value: 20.00795396531769 and parameters: {'thres_for_max': 0.62, 'thres_for_mean': 0.32999999999999996}. Best is trial 41 with value: 24.129746419913843.\n"
     ]
    },
    {
     "name": "stderr",
     "output_type": "stream",
     "text": [
      "Best trial: 41. Best value: 24.1297:  63%|██████▎   | 157/250 [20:22<11:54,  7.69s/it]"
     ]
    },
    {
     "name": "stdout",
     "output_type": "stream",
     "text": [
      "1808\n",
      "[I 2024-02-15 06:17:11,345] Trial 156 finished with value: 22.935448226097268 and parameters: {'thres_for_max': 0.55, 'thres_for_mean': 0.32}. Best is trial 41 with value: 24.129746419913843.\n"
     ]
    },
    {
     "name": "stderr",
     "output_type": "stream",
     "text": [
      "Best trial: 41. Best value: 24.1297:  63%|██████▎   | 158/250 [20:30<11:48,  7.70s/it]"
     ]
    },
    {
     "name": "stdout",
     "output_type": "stream",
     "text": [
      "1770\n",
      "[I 2024-02-15 06:17:19,080] Trial 157 finished with value: 21.615064604516864 and parameters: {'thres_for_max': 0.5800000000000001, 'thres_for_mean': 0.33999999999999997}. Best is trial 41 with value: 24.129746419913843.\n"
     ]
    },
    {
     "name": "stderr",
     "output_type": "stream",
     "text": [
      "Best trial: 41. Best value: 24.1297:  64%|██████▎   | 159/250 [20:38<11:41,  7.71s/it]"
     ]
    },
    {
     "name": "stdout",
     "output_type": "stream",
     "text": [
      "1818\n",
      "[I 2024-02-15 06:17:26,811] Trial 158 finished with value: 21.35251685915443 and parameters: {'thres_for_max': 0.6, 'thres_for_mean': 0.31}. Best is trial 41 with value: 24.129746419913843.\n"
     ]
    },
    {
     "name": "stderr",
     "output_type": "stream",
     "text": [
      "Best trial: 41. Best value: 24.1297:  64%|██████▍   | 160/250 [20:45<11:30,  7.67s/it]"
     ]
    },
    {
     "name": "stdout",
     "output_type": "stream",
     "text": [
      "1751\n",
      "[I 2024-02-15 06:17:34,394] Trial 159 finished with value: 19.20816039527841 and parameters: {'thres_for_max': 0.54, 'thres_for_mean': 0.36}. Best is trial 41 with value: 24.129746419913843.\n"
     ]
    },
    {
     "name": "stderr",
     "output_type": "stream",
     "text": [
      "Best trial: 41. Best value: 24.1297:  64%|██████▍   | 161/250 [20:53<11:22,  7.67s/it]"
     ]
    },
    {
     "name": "stdout",
     "output_type": "stream",
     "text": [
      "1774\n",
      "[I 2024-02-15 06:17:42,065] Trial 160 finished with value: 22.096796404606096 and parameters: {'thres_for_max': 0.52, 'thres_for_mean': 0.35}. Best is trial 41 with value: 24.129746419913843.\n"
     ]
    },
    {
     "name": "stderr",
     "output_type": "stream",
     "text": [
      "Best trial: 41. Best value: 24.1297:  65%|██████▍   | 162/250 [21:01<11:15,  7.68s/it]"
     ]
    },
    {
     "name": "stdout",
     "output_type": "stream",
     "text": [
      "1806\n",
      "[I 2024-02-15 06:17:49,766] Trial 161 finished with value: 23.41055106341182 and parameters: {'thres_for_max': 0.5700000000000001, 'thres_for_mean': 0.32}. Best is trial 41 with value: 24.129746419913843.\n"
     ]
    },
    {
     "name": "stderr",
     "output_type": "stream",
     "text": [
      "Best trial: 41. Best value: 24.1297:  65%|██████▌   | 163/250 [21:08<11:08,  7.68s/it]"
     ]
    },
    {
     "name": "stdout",
     "output_type": "stream",
     "text": [
      "1828\n",
      "[I 2024-02-15 06:17:57,456] Trial 162 finished with value: 18.37281847598291 and parameters: {'thres_for_max': 0.5800000000000001, 'thres_for_mean': 0.3}. Best is trial 41 with value: 24.129746419913843.\n"
     ]
    },
    {
     "name": "stderr",
     "output_type": "stream",
     "text": [
      "Best trial: 41. Best value: 24.1297:  66%|██████▌   | 164/250 [21:16<11:04,  7.72s/it]"
     ]
    },
    {
     "name": "stdout",
     "output_type": "stream",
     "text": [
      "1806\n",
      "[I 2024-02-15 06:18:05,278] Trial 163 finished with value: 23.41055106341182 and parameters: {'thres_for_max': 0.5700000000000001, 'thres_for_mean': 0.32}. Best is trial 41 with value: 24.129746419913843.\n"
     ]
    },
    {
     "name": "stderr",
     "output_type": "stream",
     "text": [
      "Best trial: 41. Best value: 24.1297:  66%|██████▌   | 165/250 [21:24<10:57,  7.74s/it]"
     ]
    },
    {
     "name": "stdout",
     "output_type": "stream",
     "text": [
      "1783\n",
      "[I 2024-02-15 06:18:13,050] Trial 164 finished with value: 22.148633687310337 and parameters: {'thres_for_max': 0.59, 'thres_for_mean': 0.32999999999999996}. Best is trial 41 with value: 24.129746419913843.\n"
     ]
    },
    {
     "name": "stderr",
     "output_type": "stream",
     "text": [
      "Best trial: 41. Best value: 24.1297:  66%|██████▋   | 166/250 [21:32<10:50,  7.75s/it]"
     ]
    },
    {
     "name": "stdout",
     "output_type": "stream",
     "text": [
      "1585\n",
      "[I 2024-02-15 06:18:20,814] Trial 165 finished with value: 14.331981789280427 and parameters: {'thres_for_max': 0.56, 'thres_for_mean': 0.5}. Best is trial 41 with value: 24.129746419913843.\n"
     ]
    },
    {
     "name": "stderr",
     "output_type": "stream",
     "text": [
      "Best trial: 41. Best value: 24.1297:  67%|██████▋   | 167/250 [21:40<10:45,  7.77s/it]"
     ]
    },
    {
     "name": "stdout",
     "output_type": "stream",
     "text": [
      "1817\n",
      "[I 2024-02-15 06:18:28,643] Trial 166 finished with value: 19.948555420768766 and parameters: {'thres_for_max': 0.62, 'thres_for_mean': 0.31}. Best is trial 41 with value: 24.129746419913843.\n"
     ]
    },
    {
     "name": "stderr",
     "output_type": "stream",
     "text": [
      "Best trial: 41. Best value: 24.1297:  67%|██████▋   | 168/250 [21:47<10:35,  7.75s/it]"
     ]
    },
    {
     "name": "stdout",
     "output_type": "stream",
     "text": [
      "1768\n",
      "[I 2024-02-15 06:18:36,349] Trial 167 finished with value: 21.699495319619665 and parameters: {'thres_for_max': 0.6, 'thres_for_mean': 0.33999999999999997}. Best is trial 41 with value: 24.129746419913843.\n"
     ]
    },
    {
     "name": "stderr",
     "output_type": "stream",
     "text": [
      "Best trial: 41. Best value: 24.1297:  68%|██████▊   | 169/250 [21:55<10:28,  7.76s/it]"
     ]
    },
    {
     "name": "stdout",
     "output_type": "stream",
     "text": [
      "1788\n",
      "[I 2024-02-15 06:18:44,127] Trial 168 finished with value: 19.832317843222235 and parameters: {'thres_for_max': 0.54, 'thres_for_mean': 0.32999999999999996}. Best is trial 41 with value: 24.129746419913843.\n"
     ]
    },
    {
     "name": "stderr",
     "output_type": "stream",
     "text": [
      "Best trial: 41. Best value: 24.1297:  68%|██████▊   | 170/250 [22:03<10:22,  7.78s/it]"
     ]
    },
    {
     "name": "stdout",
     "output_type": "stream",
     "text": [
      "1808\n",
      "[I 2024-02-15 06:18:51,947] Trial 169 finished with value: 22.935448226097268 and parameters: {'thres_for_max': 0.55, 'thres_for_mean': 0.32}. Best is trial 41 with value: 24.129746419913843.\n"
     ]
    },
    {
     "name": "stderr",
     "output_type": "stream",
     "text": [
      "Best trial: 41. Best value: 24.1297:  68%|██████▊   | 171/250 [22:11<10:14,  7.78s/it]"
     ]
    },
    {
     "name": "stdout",
     "output_type": "stream",
     "text": [
      "1828\n",
      "[I 2024-02-15 06:18:59,743] Trial 170 finished with value: 18.073807188926025 and parameters: {'thres_for_max': 0.5700000000000001, 'thres_for_mean': 0.3}. Best is trial 41 with value: 24.129746419913843.\n"
     ]
    },
    {
     "name": "stderr",
     "output_type": "stream",
     "text": [
      "Best trial: 171. Best value: 24.6491:  69%|██████▉   | 172/250 [22:19<10:11,  7.84s/it]"
     ]
    },
    {
     "name": "stdout",
     "output_type": "stream",
     "text": [
      "1805\n",
      "[I 2024-02-15 06:19:07,709] Trial 171 finished with value: 24.649122487843933 and parameters: {'thres_for_max': 0.59, 'thres_for_mean': 0.32}. Best is trial 171 with value: 24.649122487843933.\n"
     ]
    },
    {
     "name": "stderr",
     "output_type": "stream",
     "text": [
      "Best trial: 171. Best value: 24.6491:  69%|██████▉   | 173/250 [22:27<10:04,  7.86s/it]"
     ]
    },
    {
     "name": "stdout",
     "output_type": "stream",
     "text": [
      "1758\n",
      "[I 2024-02-15 06:19:15,611] Trial 172 finished with value: 21.05766951515544 and parameters: {'thres_for_max': 0.59, 'thres_for_mean': 0.35}. Best is trial 171 with value: 24.649122487843933.\n"
     ]
    },
    {
     "name": "stderr",
     "output_type": "stream",
     "text": [
      "Best trial: 171. Best value: 24.6491:  70%|██████▉   | 174/250 [22:34<09:56,  7.85s/it]"
     ]
    },
    {
     "name": "stdout",
     "output_type": "stream",
     "text": [
      "1819\n",
      "[I 2024-02-15 06:19:23,430] Trial 173 finished with value: 21.564327843688385 and parameters: {'thres_for_max': 0.5800000000000001, 'thres_for_mean': 0.31}. Best is trial 171 with value: 24.649122487843933.\n"
     ]
    },
    {
     "name": "stderr",
     "output_type": "stream",
     "text": [
      "Best trial: 171. Best value: 24.6491:  70%|███████   | 175/250 [22:42<09:46,  7.82s/it]"
     ]
    },
    {
     "name": "stdout",
     "output_type": "stream",
     "text": [
      "1766\n",
      "[I 2024-02-15 06:19:31,174] Trial 174 finished with value: 20.802433712743653 and parameters: {'thres_for_max': 0.61, 'thres_for_mean': 0.33999999999999997}. Best is trial 171 with value: 24.649122487843933.\n"
     ]
    },
    {
     "name": "stderr",
     "output_type": "stream",
     "text": [
      "Best trial: 171. Best value: 24.6491:  70%|███████   | 176/250 [22:50<09:36,  7.80s/it]"
     ]
    },
    {
     "name": "stdout",
     "output_type": "stream",
     "text": [
      "1785\n",
      "[I 2024-02-15 06:19:38,926] Trial 175 finished with value: 20.524737300066533 and parameters: {'thres_for_max': 0.56, 'thres_for_mean': 0.32999999999999996}. Best is trial 171 with value: 24.649122487843933.\n"
     ]
    },
    {
     "name": "stderr",
     "output_type": "stream",
     "text": [
      "Best trial: 171. Best value: 24.6491:  71%|███████   | 177/250 [22:58<09:25,  7.75s/it]"
     ]
    },
    {
     "name": "stdout",
     "output_type": "stream",
     "text": [
      "1801\n",
      "[I 2024-02-15 06:19:46,563] Trial 176 finished with value: 21.73948063744606 and parameters: {'thres_for_max': 0.65, 'thres_for_mean': 0.32}. Best is trial 171 with value: 24.649122487843933.\n"
     ]
    },
    {
     "name": "stderr",
     "output_type": "stream",
     "text": [
      "Best trial: 171. Best value: 24.6491:  71%|███████   | 178/250 [23:05<09:16,  7.73s/it]"
     ]
    },
    {
     "name": "stdout",
     "output_type": "stream",
     "text": [
      "1828\n",
      "[I 2024-02-15 06:19:54,252] Trial 177 finished with value: 18.486468626350334 and parameters: {'thres_for_max': 0.6, 'thres_for_mean': 0.3}. Best is trial 171 with value: 24.649122487843933.\n"
     ]
    },
    {
     "name": "stderr",
     "output_type": "stream",
     "text": [
      "Best trial: 171. Best value: 24.6491:  72%|███████▏  | 179/250 [23:13<09:12,  7.79s/it]"
     ]
    },
    {
     "name": "stdout",
     "output_type": "stream",
     "text": [
      "1821\n",
      "[I 2024-02-15 06:20:02,167] Trial 178 finished with value: 22.79167168742307 and parameters: {'thres_for_max': 0.52, 'thres_for_mean': 0.31}. Best is trial 171 with value: 24.649122487843933.\n"
     ]
    },
    {
     "name": "stderr",
     "output_type": "stream",
     "text": [
      "Best trial: 171. Best value: 24.6491:  72%|███████▏  | 180/250 [23:21<09:04,  7.77s/it]"
     ]
    },
    {
     "name": "stdout",
     "output_type": "stream",
     "text": [
      "1759\n",
      "[I 2024-02-15 06:20:09,913] Trial 179 finished with value: 20.29967698563454 and parameters: {'thres_for_max': 0.5800000000000001, 'thres_for_mean': 0.35}. Best is trial 171 with value: 24.649122487843933.\n"
     ]
    },
    {
     "name": "stderr",
     "output_type": "stream",
     "text": [
      "Best trial: 171. Best value: 24.6491:  72%|███████▏  | 181/250 [23:29<08:57,  7.79s/it]"
     ]
    },
    {
     "name": "stdout",
     "output_type": "stream",
     "text": [
      "1788\n",
      "[I 2024-02-15 06:20:17,752] Trial 180 finished with value: 19.832317843222235 and parameters: {'thres_for_max': 0.54, 'thres_for_mean': 0.32999999999999996}. Best is trial 171 with value: 24.649122487843933.\n"
     ]
    },
    {
     "name": "stderr",
     "output_type": "stream",
     "text": [
      "Best trial: 171. Best value: 24.6491:  73%|███████▎  | 182/250 [23:37<08:50,  7.81s/it]"
     ]
    },
    {
     "name": "stdout",
     "output_type": "stream",
     "text": [
      "1806\n",
      "[I 2024-02-15 06:20:25,597] Trial 181 finished with value: 23.41055106341182 and parameters: {'thres_for_max': 0.5700000000000001, 'thres_for_mean': 0.32}. Best is trial 171 with value: 24.649122487843933.\n"
     ]
    },
    {
     "name": "stderr",
     "output_type": "stream",
     "text": [
      "Best trial: 171. Best value: 24.6491:  73%|███████▎  | 183/250 [23:44<08:41,  7.79s/it]"
     ]
    },
    {
     "name": "stdout",
     "output_type": "stream",
     "text": [
      "1805\n",
      "[I 2024-02-15 06:20:33,343] Trial 182 finished with value: 24.649122487843933 and parameters: {'thres_for_max': 0.59, 'thres_for_mean': 0.32}. Best is trial 171 with value: 24.649122487843933.\n"
     ]
    },
    {
     "name": "stderr",
     "output_type": "stream",
     "text": [
      "Best trial: 171. Best value: 24.6491:  74%|███████▎  | 184/250 [23:52<08:32,  7.77s/it]"
     ]
    },
    {
     "name": "stdout",
     "output_type": "stream",
     "text": [
      "1769\n",
      "[I 2024-02-15 06:20:41,073] Trial 183 finished with value: 22.329001937323536 and parameters: {'thres_for_max': 0.59, 'thres_for_mean': 0.33999999999999997}. Best is trial 171 with value: 24.649122487843933.\n"
     ]
    },
    {
     "name": "stderr",
     "output_type": "stream",
     "text": [
      "Best trial: 171. Best value: 24.6491:  74%|███████▍  | 185/250 [24:00<08:25,  7.78s/it]"
     ]
    },
    {
     "name": "stdout",
     "output_type": "stream",
     "text": [
      "1817\n",
      "[I 2024-02-15 06:20:48,865] Trial 184 finished with value: 20.51202213276171 and parameters: {'thres_for_max': 0.61, 'thres_for_mean': 0.31}. Best is trial 171 with value: 24.649122487843933.\n"
     ]
    },
    {
     "name": "stderr",
     "output_type": "stream",
     "text": [
      "Best trial: 171. Best value: 24.6491:  74%|███████▍  | 186/250 [24:07<08:15,  7.74s/it]"
     ]
    },
    {
     "name": "stdout",
     "output_type": "stream",
     "text": [
      "1785\n",
      "[I 2024-02-15 06:20:56,514] Trial 185 finished with value: 20.524737300066533 and parameters: {'thres_for_max': 0.56, 'thres_for_mean': 0.32999999999999996}. Best is trial 171 with value: 24.649122487843933.\n"
     ]
    },
    {
     "name": "stderr",
     "output_type": "stream",
     "text": [
      "Best trial: 171. Best value: 24.6491:  75%|███████▍  | 187/250 [24:15<08:06,  7.73s/it]"
     ]
    },
    {
     "name": "stdout",
     "output_type": "stream",
     "text": [
      "1828\n",
      "[I 2024-02-15 06:21:04,223] Trial 186 finished with value: 18.586958729396184 and parameters: {'thres_for_max': 0.59, 'thres_for_mean': 0.3}. Best is trial 171 with value: 24.649122487843933.\n"
     ]
    },
    {
     "name": "stderr",
     "output_type": "stream",
     "text": [
      "Best trial: 171. Best value: 24.6491:  75%|███████▌  | 188/250 [24:23<08:01,  7.76s/it]"
     ]
    },
    {
     "name": "stdout",
     "output_type": "stream",
     "text": [
      "1802\n",
      "[I 2024-02-15 06:21:12,055] Trial 187 finished with value: 22.231661434583415 and parameters: {'thres_for_max': 0.62, 'thres_for_mean': 0.32}. Best is trial 171 with value: 24.649122487843933.\n"
     ]
    },
    {
     "name": "stderr",
     "output_type": "stream",
     "text": [
      "Best trial: 171. Best value: 24.6491:  76%|███████▌  | 189/250 [24:31<07:52,  7.75s/it]"
     ]
    },
    {
     "name": "stdout",
     "output_type": "stream",
     "text": [
      "1742\n",
      "[I 2024-02-15 06:21:19,772] Trial 188 finished with value: 18.11371321807354 and parameters: {'thres_for_max': 0.5800000000000001, 'thres_for_mean': 0.36}. Best is trial 171 with value: 24.649122487843933.\n"
     ]
    },
    {
     "name": "stderr",
     "output_type": "stream",
     "text": [
      "Best trial: 171. Best value: 24.6491:  76%|███████▌  | 190/250 [24:38<07:45,  7.76s/it]"
     ]
    },
    {
     "name": "stdout",
     "output_type": "stream",
     "text": [
      "1768\n",
      "[I 2024-02-15 06:21:27,545] Trial 189 finished with value: 21.699495319619665 and parameters: {'thres_for_max': 0.6, 'thres_for_mean': 0.33999999999999997}. Best is trial 171 with value: 24.649122487843933.\n"
     ]
    },
    {
     "name": "stderr",
     "output_type": "stream",
     "text": [
      "Best trial: 171. Best value: 24.6491:  76%|███████▋  | 191/250 [24:46<07:36,  7.74s/it]"
     ]
    },
    {
     "name": "stdout",
     "output_type": "stream",
     "text": [
      "1819\n",
      "[I 2024-02-15 06:21:35,261] Trial 190 finished with value: 21.188560303146563 and parameters: {'thres_for_max': 0.5700000000000001, 'thres_for_mean': 0.31}. Best is trial 171 with value: 24.649122487843933.\n"
     ]
    },
    {
     "name": "stderr",
     "output_type": "stream",
     "text": [
      "Best trial: 171. Best value: 24.6491:  77%|███████▋  | 192/250 [24:54<07:28,  7.74s/it]"
     ]
    },
    {
     "name": "stdout",
     "output_type": "stream",
     "text": [
      "1806\n",
      "[I 2024-02-15 06:21:42,976] Trial 191 finished with value: 23.41055106341182 and parameters: {'thres_for_max': 0.5700000000000001, 'thres_for_mean': 0.32}. Best is trial 171 with value: 24.649122487843933.\n"
     ]
    },
    {
     "name": "stderr",
     "output_type": "stream",
     "text": [
      "Best trial: 171. Best value: 24.6491:  77%|███████▋  | 193/250 [25:02<07:21,  7.74s/it]"
     ]
    },
    {
     "name": "stdout",
     "output_type": "stream",
     "text": [
      "1807\n",
      "[I 2024-02-15 06:21:50,730] Trial 192 finished with value: 22.888809509476268 and parameters: {'thres_for_max': 0.56, 'thres_for_mean': 0.32}. Best is trial 171 with value: 24.649122487843933.\n"
     ]
    },
    {
     "name": "stderr",
     "output_type": "stream",
     "text": [
      "Best trial: 171. Best value: 24.6491:  78%|███████▊  | 194/250 [25:09<07:12,  7.73s/it]"
     ]
    },
    {
     "name": "stdout",
     "output_type": "stream",
     "text": [
      "1782\n",
      "[I 2024-02-15 06:21:58,429] Trial 193 finished with value: 21.45432089921749 and parameters: {'thres_for_max': 0.6, 'thres_for_mean': 0.32999999999999996}. Best is trial 171 with value: 24.649122487843933.\n"
     ]
    },
    {
     "name": "stderr",
     "output_type": "stream",
     "text": [
      "Best trial: 171. Best value: 24.6491:  78%|███████▊  | 195/250 [25:17<07:06,  7.75s/it]"
     ]
    },
    {
     "name": "stdout",
     "output_type": "stream",
     "text": [
      "1828\n",
      "[I 2024-02-15 06:22:06,230] Trial 194 finished with value: 18.068455828454177 and parameters: {'thres_for_max': 0.55, 'thres_for_mean': 0.3}. Best is trial 171 with value: 24.649122487843933.\n"
     ]
    },
    {
     "name": "stderr",
     "output_type": "stream",
     "text": [
      "Best trial: 171. Best value: 24.6491:  78%|███████▊  | 196/250 [25:25<06:59,  7.76s/it]"
     ]
    },
    {
     "name": "stdout",
     "output_type": "stream",
     "text": [
      "1769\n",
      "[I 2024-02-15 06:22:14,011] Trial 195 finished with value: 22.329001937323536 and parameters: {'thres_for_max': 0.59, 'thres_for_mean': 0.33999999999999997}. Best is trial 171 with value: 24.649122487843933.\n"
     ]
    },
    {
     "name": "stderr",
     "output_type": "stream",
     "text": [
      "Best trial: 171. Best value: 24.6491:  79%|███████▉  | 197/250 [25:33<06:52,  7.79s/it]"
     ]
    },
    {
     "name": "stdout",
     "output_type": "stream",
     "text": [
      "1806\n",
      "[I 2024-02-15 06:22:21,871] Trial 196 finished with value: 23.9698805238877 and parameters: {'thres_for_max': 0.5800000000000001, 'thres_for_mean': 0.32}. Best is trial 171 with value: 24.649122487843933.\n"
     ]
    },
    {
     "name": "stderr",
     "output_type": "stream",
     "text": [
      "Best trial: 171. Best value: 24.6491:  79%|███████▉  | 198/250 [25:41<06:43,  7.77s/it]"
     ]
    },
    {
     "name": "stdout",
     "output_type": "stream",
     "text": [
      "1817\n",
      "[I 2024-02-15 06:22:29,579] Trial 197 finished with value: 19.702918416766053 and parameters: {'thres_for_max': 0.63, 'thres_for_mean': 0.31}. Best is trial 171 with value: 24.649122487843933.\n"
     ]
    },
    {
     "name": "stderr",
     "output_type": "stream",
     "text": [
      "Best trial: 171. Best value: 24.6491:  80%|███████▉  | 199/250 [25:48<06:35,  7.75s/it]"
     ]
    },
    {
     "name": "stdout",
     "output_type": "stream",
     "text": [
      "1759\n",
      "[I 2024-02-15 06:22:37,282] Trial 198 finished with value: 20.29967698563454 and parameters: {'thres_for_max': 0.5800000000000001, 'thres_for_mean': 0.35}. Best is trial 171 with value: 24.649122487843933.\n"
     ]
    },
    {
     "name": "stderr",
     "output_type": "stream",
     "text": [
      "Best trial: 171. Best value: 24.6491:  80%|████████  | 200/250 [25:56<06:27,  7.75s/it]"
     ]
    },
    {
     "name": "stdout",
     "output_type": "stream",
     "text": [
      "1780\n",
      "[I 2024-02-15 06:22:45,032] Trial 199 finished with value: 20.493749127911485 and parameters: {'thres_for_max': 0.61, 'thres_for_mean': 0.32999999999999996}. Best is trial 171 with value: 24.649122487843933.\n"
     ]
    },
    {
     "name": "stderr",
     "output_type": "stream",
     "text": [
      "Best trial: 171. Best value: 24.6491:  80%|████████  | 201/250 [26:04<06:19,  7.75s/it]"
     ]
    },
    {
     "name": "stdout",
     "output_type": "stream",
     "text": [
      "1829\n",
      "[I 2024-02-15 06:22:52,779] Trial 200 finished with value: 17.942330962002483 and parameters: {'thres_for_max': 0.53, 'thres_for_mean': 0.3}. Best is trial 171 with value: 24.649122487843933.\n"
     ]
    },
    {
     "name": "stderr",
     "output_type": "stream",
     "text": [
      "Best trial: 171. Best value: 24.6491:  81%|████████  | 202/250 [26:11<06:12,  7.75s/it]"
     ]
    },
    {
     "name": "stdout",
     "output_type": "stream",
     "text": [
      "1806\n",
      "[I 2024-02-15 06:23:00,542] Trial 201 finished with value: 23.41055106341182 and parameters: {'thres_for_max': 0.5700000000000001, 'thres_for_mean': 0.32}. Best is trial 171 with value: 24.649122487843933.\n"
     ]
    },
    {
     "name": "stderr",
     "output_type": "stream",
     "text": [
      "Best trial: 171. Best value: 24.6491:  81%|████████  | 203/250 [26:19<06:05,  7.77s/it]"
     ]
    },
    {
     "name": "stdout",
     "output_type": "stream",
     "text": [
      "1805\n",
      "[I 2024-02-15 06:23:08,370] Trial 202 finished with value: 24.649122487843933 and parameters: {'thres_for_max': 0.59, 'thres_for_mean': 0.32}. Best is trial 171 with value: 24.649122487843933.\n"
     ]
    },
    {
     "name": "stderr",
     "output_type": "stream",
     "text": [
      "Best trial: 171. Best value: 24.6491:  82%|████████▏ | 204/250 [26:27<05:57,  7.77s/it]"
     ]
    },
    {
     "name": "stdout",
     "output_type": "stream",
     "text": [
      "1805\n",
      "[I 2024-02-15 06:23:16,122] Trial 203 finished with value: 24.649122487843933 and parameters: {'thres_for_max': 0.59, 'thres_for_mean': 0.32}. Best is trial 171 with value: 24.649122487843933.\n"
     ]
    },
    {
     "name": "stderr",
     "output_type": "stream",
     "text": [
      "Best trial: 171. Best value: 24.6491:  82%|████████▏ | 205/250 [26:35<05:50,  7.78s/it]"
     ]
    },
    {
     "name": "stdout",
     "output_type": "stream",
     "text": [
      "1768\n",
      "[I 2024-02-15 06:23:23,940] Trial 204 finished with value: 21.699495319619665 and parameters: {'thres_for_max': 0.6, 'thres_for_mean': 0.33999999999999997}. Best is trial 171 with value: 24.649122487843933.\n"
     ]
    },
    {
     "name": "stderr",
     "output_type": "stream",
     "text": [
      "Best trial: 171. Best value: 24.6491:  82%|████████▏ | 206/250 [26:43<05:42,  7.78s/it]"
     ]
    },
    {
     "name": "stdout",
     "output_type": "stream",
     "text": [
      "1819\n",
      "[I 2024-02-15 06:23:31,719] Trial 205 finished with value: 21.813985408256727 and parameters: {'thres_for_max': 0.59, 'thres_for_mean': 0.31}. Best is trial 171 with value: 24.649122487843933.\n"
     ]
    },
    {
     "name": "stderr",
     "output_type": "stream",
     "text": [
      "Best trial: 171. Best value: 24.6491:  83%|████████▎ | 207/250 [26:50<05:33,  7.75s/it]"
     ]
    },
    {
     "name": "stdout",
     "output_type": "stream",
     "text": [
      "1780\n",
      "[I 2024-02-15 06:23:39,387] Trial 206 finished with value: 20.493749127911485 and parameters: {'thres_for_max': 0.61, 'thres_for_mean': 0.32999999999999996}. Best is trial 171 with value: 24.649122487843933.\n"
     ]
    },
    {
     "name": "stderr",
     "output_type": "stream",
     "text": [
      "Best trial: 171. Best value: 24.6491:  83%|████████▎ | 208/250 [26:58<05:25,  7.75s/it]"
     ]
    },
    {
     "name": "stdout",
     "output_type": "stream",
     "text": [
      "1805\n",
      "[I 2024-02-15 06:23:47,126] Trial 207 finished with value: 24.649122487843933 and parameters: {'thres_for_max': 0.59, 'thres_for_mean': 0.32}. Best is trial 171 with value: 24.649122487843933.\n"
     ]
    },
    {
     "name": "stderr",
     "output_type": "stream",
     "text": [
      "Best trial: 171. Best value: 24.6491:  84%|████████▎ | 209/250 [27:06<05:18,  7.76s/it]"
     ]
    },
    {
     "name": "stdout",
     "output_type": "stream",
     "text": [
      "1817\n",
      "[I 2024-02-15 06:23:54,922] Trial 208 finished with value: 19.948555420768766 and parameters: {'thres_for_max': 0.62, 'thres_for_mean': 0.31}. Best is trial 171 with value: 24.649122487843933.\n"
     ]
    },
    {
     "name": "stderr",
     "output_type": "stream",
     "text": [
      "Best trial: 171. Best value: 24.6491:  84%|████████▍ | 210/250 [27:14<05:10,  7.76s/it]"
     ]
    },
    {
     "name": "stdout",
     "output_type": "stream",
     "text": [
      "1783\n",
      "[I 2024-02-15 06:24:02,672] Trial 209 finished with value: 22.148633687310337 and parameters: {'thres_for_max': 0.59, 'thres_for_mean': 0.32999999999999996}. Best is trial 171 with value: 24.649122487843933.\n"
     ]
    },
    {
     "name": "stderr",
     "output_type": "stream",
     "text": [
      "Best trial: 171. Best value: 24.6491:  84%|████████▍ | 211/250 [27:21<05:02,  7.77s/it]"
     ]
    },
    {
     "name": "stdout",
     "output_type": "stream",
     "text": [
      "1828\n",
      "[I 2024-02-15 06:24:10,465] Trial 210 finished with value: 18.486468626350334 and parameters: {'thres_for_max': 0.6, 'thres_for_mean': 0.3}. Best is trial 171 with value: 24.649122487843933.\n"
     ]
    },
    {
     "name": "stderr",
     "output_type": "stream",
     "text": [
      "Best trial: 171. Best value: 24.6491:  85%|████████▍ | 212/250 [27:29<04:56,  7.80s/it]"
     ]
    },
    {
     "name": "stdout",
     "output_type": "stream",
     "text": [
      "1806\n",
      "[I 2024-02-15 06:24:18,348] Trial 211 finished with value: 23.9698805238877 and parameters: {'thres_for_max': 0.5800000000000001, 'thres_for_mean': 0.32}. Best is trial 171 with value: 24.649122487843933.\n"
     ]
    },
    {
     "name": "stderr",
     "output_type": "stream",
     "text": [
      "Best trial: 171. Best value: 24.6491:  85%|████████▌ | 213/250 [27:37<04:48,  7.81s/it]"
     ]
    },
    {
     "name": "stdout",
     "output_type": "stream",
     "text": [
      "1806\n",
      "[I 2024-02-15 06:24:26,160] Trial 212 finished with value: 23.9698805238877 and parameters: {'thres_for_max': 0.5800000000000001, 'thres_for_mean': 0.32}. Best is trial 171 with value: 24.649122487843933.\n"
     ]
    },
    {
     "name": "stderr",
     "output_type": "stream",
     "text": [
      "Best trial: 171. Best value: 24.6491:  86%|████████▌ | 214/250 [27:45<04:39,  7.76s/it]"
     ]
    },
    {
     "name": "stdout",
     "output_type": "stream",
     "text": [
      "1522\n",
      "[I 2024-02-15 06:24:33,810] Trial 213 finished with value: 18.502675273945815 and parameters: {'thres_for_max': 0.5800000000000001, 'thres_for_mean': 0.54}. Best is trial 171 with value: 24.649122487843933.\n"
     ]
    },
    {
     "name": "stderr",
     "output_type": "stream",
     "text": [
      "Best trial: 171. Best value: 24.6491:  86%|████████▌ | 215/250 [27:52<04:31,  7.75s/it]"
     ]
    },
    {
     "name": "stdout",
     "output_type": "stream",
     "text": [
      "1758\n",
      "[I 2024-02-15 06:24:41,540] Trial 214 finished with value: 21.05766951515544 and parameters: {'thres_for_max': 0.59, 'thres_for_mean': 0.35}. Best is trial 171 with value: 24.649122487843933.\n"
     ]
    },
    {
     "name": "stderr",
     "output_type": "stream",
     "text": [
      "Best trial: 171. Best value: 24.6491:  86%|████████▋ | 216/250 [28:00<04:23,  7.76s/it]"
     ]
    },
    {
     "name": "stdout",
     "output_type": "stream",
     "text": [
      "1770\n",
      "[I 2024-02-15 06:24:49,311] Trial 215 finished with value: 21.615064604516864 and parameters: {'thres_for_max': 0.5800000000000001, 'thres_for_mean': 0.33999999999999997}. Best is trial 171 with value: 24.649122487843933.\n"
     ]
    },
    {
     "name": "stderr",
     "output_type": "stream",
     "text": [
      "Best trial: 171. Best value: 24.6491:  87%|████████▋ | 217/250 [28:08<04:16,  7.77s/it]"
     ]
    },
    {
     "name": "stdout",
     "output_type": "stream",
     "text": [
      "1804\n",
      "[I 2024-02-15 06:24:57,106] Trial 216 finished with value: 23.83137345903553 and parameters: {'thres_for_max': 0.6, 'thres_for_mean': 0.32}. Best is trial 171 with value: 24.649122487843933.\n"
     ]
    },
    {
     "name": "stderr",
     "output_type": "stream",
     "text": [
      "Best trial: 171. Best value: 24.6491:  87%|████████▋ | 218/250 [28:16<04:09,  7.78s/it]"
     ]
    },
    {
     "name": "stdout",
     "output_type": "stream",
     "text": [
      "1801\n",
      "[I 2024-02-15 06:25:04,925] Trial 217 finished with value: 21.545213036477733 and parameters: {'thres_for_max': 0.63, 'thres_for_mean': 0.32}. Best is trial 171 with value: 24.649122487843933.\n"
     ]
    },
    {
     "name": "stderr",
     "output_type": "stream",
     "text": [
      "Best trial: 171. Best value: 24.6491:  88%|████████▊ | 219/250 [28:24<04:00,  7.76s/it]"
     ]
    },
    {
     "name": "stdout",
     "output_type": "stream",
     "text": [
      "1776\n",
      "[I 2024-02-15 06:25:12,637] Trial 218 finished with value: 19.397722307399746 and parameters: {'thres_for_max': 0.75, 'thres_for_mean': 0.32999999999999996}. Best is trial 171 with value: 24.649122487843933.\n"
     ]
    },
    {
     "name": "stderr",
     "output_type": "stream",
     "text": [
      "Best trial: 171. Best value: 24.6491:  88%|████████▊ | 220/250 [28:31<03:52,  7.74s/it]"
     ]
    },
    {
     "name": "stdout",
     "output_type": "stream",
     "text": [
      "1417\n",
      "[I 2024-02-15 06:25:20,338] Trial 219 finished with value: 14.802763290587412 and parameters: {'thres_for_max': 0.61, 'thres_for_mean': 0.5800000000000001}. Best is trial 171 with value: 24.649122487843933.\n"
     ]
    },
    {
     "name": "stderr",
     "output_type": "stream",
     "text": [
      "Best trial: 171. Best value: 24.6491:  88%|████████▊ | 221/250 [28:39<03:45,  7.76s/it]"
     ]
    },
    {
     "name": "stdout",
     "output_type": "stream",
     "text": [
      "1817\n",
      "[I 2024-02-15 06:25:28,145] Trial 220 finished with value: 19.93669004419972 and parameters: {'thres_for_max': 0.65, 'thres_for_mean': 0.31}. Best is trial 171 with value: 24.649122487843933.\n"
     ]
    },
    {
     "name": "stderr",
     "output_type": "stream",
     "text": [
      "Best trial: 171. Best value: 24.6491:  89%|████████▉ | 222/250 [28:47<03:36,  7.74s/it]"
     ]
    },
    {
     "name": "stdout",
     "output_type": "stream",
     "text": [
      "1804\n",
      "[I 2024-02-15 06:25:35,835] Trial 221 finished with value: 23.83137345903553 and parameters: {'thres_for_max': 0.6, 'thres_for_mean': 0.32}. Best is trial 171 with value: 24.649122487843933.\n"
     ]
    },
    {
     "name": "stderr",
     "output_type": "stream",
     "text": [
      "Best trial: 171. Best value: 24.6491:  89%|████████▉ | 223/250 [28:55<03:28,  7.73s/it]"
     ]
    },
    {
     "name": "stdout",
     "output_type": "stream",
     "text": [
      "1818\n",
      "[I 2024-02-15 06:25:43,551] Trial 222 finished with value: 21.35251685915443 and parameters: {'thres_for_max': 0.6, 'thres_for_mean': 0.31}. Best is trial 171 with value: 24.649122487843933.\n"
     ]
    },
    {
     "name": "stderr",
     "output_type": "stream",
     "text": [
      "Best trial: 171. Best value: 24.6491:  90%|████████▉ | 224/250 [29:02<03:20,  7.73s/it]"
     ]
    },
    {
     "name": "stdout",
     "output_type": "stream",
     "text": [
      "1783\n",
      "[I 2024-02-15 06:25:51,270] Trial 223 finished with value: 22.148633687310337 and parameters: {'thres_for_max': 0.59, 'thres_for_mean': 0.32999999999999996}. Best is trial 171 with value: 24.649122487843933.\n"
     ]
    },
    {
     "name": "stderr",
     "output_type": "stream",
     "text": [
      "Best trial: 171. Best value: 24.6491:  90%|█████████ | 225/250 [29:10<03:12,  7.72s/it]"
     ]
    },
    {
     "name": "stdout",
     "output_type": "stream",
     "text": [
      "1802\n",
      "[I 2024-02-15 06:25:58,965] Trial 224 finished with value: 22.75585978010313 and parameters: {'thres_for_max': 0.61, 'thres_for_mean': 0.32}. Best is trial 171 with value: 24.649122487843933.\n"
     ]
    },
    {
     "name": "stderr",
     "output_type": "stream",
     "text": [
      "Best trial: 171. Best value: 24.6491:  90%|█████████ | 226/250 [29:18<03:06,  7.75s/it]"
     ]
    },
    {
     "name": "stdout",
     "output_type": "stream",
     "text": [
      "1828\n",
      "[I 2024-02-15 06:26:06,797] Trial 225 finished with value: 18.486468626350334 and parameters: {'thres_for_max': 0.6, 'thres_for_mean': 0.3}. Best is trial 171 with value: 24.649122487843933.\n"
     ]
    },
    {
     "name": "stderr",
     "output_type": "stream",
     "text": [
      "Best trial: 171. Best value: 24.6491:  91%|█████████ | 227/250 [29:26<02:58,  7.77s/it]"
     ]
    },
    {
     "name": "stdout",
     "output_type": "stream",
     "text": [
      "1770\n",
      "[I 2024-02-15 06:26:14,621] Trial 226 finished with value: 21.615064604516864 and parameters: {'thres_for_max': 0.5800000000000001, 'thres_for_mean': 0.33999999999999997}. Best is trial 171 with value: 24.649122487843933.\n"
     ]
    },
    {
     "name": "stderr",
     "output_type": "stream",
     "text": [
      "Best trial: 171. Best value: 24.6491:  91%|█████████ | 228/250 [29:33<02:51,  7.78s/it]"
     ]
    },
    {
     "name": "stdout",
     "output_type": "stream",
     "text": [
      "1780\n",
      "[I 2024-02-15 06:26:22,402] Trial 227 finished with value: 20.00795396531769 and parameters: {'thres_for_max': 0.62, 'thres_for_mean': 0.32999999999999996}. Best is trial 171 with value: 24.649122487843933.\n"
     ]
    },
    {
     "name": "stderr",
     "output_type": "stream",
     "text": [
      "Best trial: 171. Best value: 24.6491:  92%|█████████▏| 229/250 [29:41<02:42,  7.75s/it]"
     ]
    },
    {
     "name": "stdout",
     "output_type": "stream",
     "text": [
      "1819\n",
      "[I 2024-02-15 06:26:30,106] Trial 228 finished with value: 21.813985408256727 and parameters: {'thres_for_max': 0.59, 'thres_for_mean': 0.31}. Best is trial 171 with value: 24.649122487843933.\n"
     ]
    },
    {
     "name": "stderr",
     "output_type": "stream",
     "text": [
      "Best trial: 171. Best value: 24.6491:  92%|█████████▏| 230/250 [29:49<02:35,  7.75s/it]"
     ]
    },
    {
     "name": "stdout",
     "output_type": "stream",
     "text": [
      "1807\n",
      "[I 2024-02-15 06:26:37,847] Trial 229 finished with value: 22.888809509476268 and parameters: {'thres_for_max': 0.56, 'thres_for_mean': 0.32}. Best is trial 171 with value: 24.649122487843933.\n"
     ]
    },
    {
     "name": "stderr",
     "output_type": "stream",
     "text": [
      "Best trial: 171. Best value: 24.6491:  92%|█████████▏| 231/250 [29:57<02:27,  7.74s/it]"
     ]
    },
    {
     "name": "stdout",
     "output_type": "stream",
     "text": [
      "1801\n",
      "[I 2024-02-15 06:26:45,574] Trial 230 finished with value: 21.472896802082598 and parameters: {'thres_for_max': 0.64, 'thres_for_mean': 0.32}. Best is trial 171 with value: 24.649122487843933.\n"
     ]
    },
    {
     "name": "stderr",
     "output_type": "stream",
     "text": [
      "Best trial: 171. Best value: 24.6491:  93%|█████████▎| 232/250 [30:04<02:19,  7.74s/it]"
     ]
    },
    {
     "name": "stdout",
     "output_type": "stream",
     "text": [
      "1828\n",
      "[I 2024-02-15 06:26:53,290] Trial 231 finished with value: 18.37281847598291 and parameters: {'thres_for_max': 0.5800000000000001, 'thres_for_mean': 0.3}. Best is trial 171 with value: 24.649122487843933.\n"
     ]
    },
    {
     "name": "stderr",
     "output_type": "stream",
     "text": [
      "Best trial: 171. Best value: 24.6491:  93%|█████████▎| 233/250 [30:12<02:11,  7.72s/it]"
     ]
    },
    {
     "name": "stdout",
     "output_type": "stream",
     "text": [
      "1454\n",
      "[I 2024-02-15 06:27:00,987] Trial 232 finished with value: 18.83241465057027 and parameters: {'thres_for_max': 0.6, 'thres_for_mean': 0.71}. Best is trial 171 with value: 24.649122487843933.\n"
     ]
    },
    {
     "name": "stderr",
     "output_type": "stream",
     "text": [
      "Best trial: 171. Best value: 24.6491:  94%|█████████▎| 234/250 [30:20<02:04,  7.76s/it]"
     ]
    },
    {
     "name": "stdout",
     "output_type": "stream",
     "text": [
      "1784\n",
      "[I 2024-02-15 06:27:08,817] Trial 233 finished with value: 21.564324407770062 and parameters: {'thres_for_max': 0.5800000000000001, 'thres_for_mean': 0.32999999999999996}. Best is trial 171 with value: 24.649122487843933.\n"
     ]
    },
    {
     "name": "stderr",
     "output_type": "stream",
     "text": [
      "Best trial: 171. Best value: 24.6491:  94%|█████████▍| 235/250 [30:27<01:56,  7.75s/it]"
     ]
    },
    {
     "name": "stdout",
     "output_type": "stream",
     "text": [
      "1819\n",
      "[I 2024-02-15 06:27:16,550] Trial 234 finished with value: 21.813985408256727 and parameters: {'thres_for_max': 0.59, 'thres_for_mean': 0.31}. Best is trial 171 with value: 24.649122487843933.\n"
     ]
    },
    {
     "name": "stderr",
     "output_type": "stream",
     "text": [
      "Best trial: 171. Best value: 24.6491:  94%|█████████▍| 236/250 [30:35<01:49,  7.79s/it]"
     ]
    },
    {
     "name": "stdout",
     "output_type": "stream",
     "text": [
      "1766\n",
      "[I 2024-02-15 06:27:24,441] Trial 235 finished with value: 20.802433712743653 and parameters: {'thres_for_max': 0.61, 'thres_for_mean': 0.33999999999999997}. Best is trial 171 with value: 24.649122487843933.\n"
     ]
    },
    {
     "name": "stderr",
     "output_type": "stream",
     "text": [
      "Best trial: 171. Best value: 24.6491:  95%|█████████▍| 237/250 [30:43<01:41,  7.78s/it]"
     ]
    },
    {
     "name": "stdout",
     "output_type": "stream",
     "text": [
      "1845\n",
      "[I 2024-02-15 06:27:32,211] Trial 236 finished with value: 20.597310462684494 and parameters: {'thres_for_max': 0.42, 'thres_for_mean': 0.32}. Best is trial 171 with value: 24.649122487843933.\n"
     ]
    },
    {
     "name": "stderr",
     "output_type": "stream",
     "text": [
      "Best trial: 171. Best value: 24.6491:  95%|█████████▌| 238/250 [30:51<01:33,  7.77s/it]"
     ]
    },
    {
     "name": "stdout",
     "output_type": "stream",
     "text": [
      "1760\n",
      "[I 2024-02-15 06:27:39,931] Trial 237 finished with value: 19.31433900365007 and parameters: {'thres_for_max': 0.56, 'thres_for_mean': 0.35}. Best is trial 171 with value: 24.649122487843933.\n"
     ]
    },
    {
     "name": "stderr",
     "output_type": "stream",
     "text": [
      "Best trial: 171. Best value: 24.6491:  96%|█████████▌| 239/250 [30:59<01:25,  7.79s/it]"
     ]
    },
    {
     "name": "stdout",
     "output_type": "stream",
     "text": [
      "1819\n",
      "[I 2024-02-15 06:27:47,777] Trial 238 finished with value: 21.188560303146563 and parameters: {'thres_for_max': 0.5700000000000001, 'thres_for_mean': 0.31}. Best is trial 171 with value: 24.649122487843933.\n"
     ]
    },
    {
     "name": "stderr",
     "output_type": "stream",
     "text": [
      "Best trial: 171. Best value: 24.6491:  96%|█████████▌| 240/250 [31:06<01:17,  7.78s/it]"
     ]
    },
    {
     "name": "stdout",
     "output_type": "stream",
     "text": [
      "1782\n",
      "[I 2024-02-15 06:27:55,523] Trial 239 finished with value: 21.45432089921749 and parameters: {'thres_for_max': 0.6, 'thres_for_mean': 0.32999999999999996}. Best is trial 171 with value: 24.649122487843933.\n"
     ]
    },
    {
     "name": "stderr",
     "output_type": "stream",
     "text": [
      "Best trial: 171. Best value: 24.6491:  96%|█████████▋| 241/250 [31:14<01:09,  7.78s/it]"
     ]
    },
    {
     "name": "stdout",
     "output_type": "stream",
     "text": [
      "1801\n",
      "[I 2024-02-15 06:28:03,299] Trial 240 finished with value: 21.105336593168236 and parameters: {'thres_for_max': 0.8500000000000001, 'thres_for_mean': 0.32}. Best is trial 171 with value: 24.649122487843933.\n"
     ]
    },
    {
     "name": "stderr",
     "output_type": "stream",
     "text": [
      "Best trial: 171. Best value: 24.6491:  97%|█████████▋| 242/250 [31:22<01:02,  7.81s/it]"
     ]
    },
    {
     "name": "stdout",
     "output_type": "stream",
     "text": [
      "1819\n",
      "[I 2024-02-15 06:28:11,203] Trial 241 finished with value: 21.564327843688385 and parameters: {'thres_for_max': 0.5800000000000001, 'thres_for_mean': 0.31}. Best is trial 171 with value: 24.649122487843933.\n"
     ]
    },
    {
     "name": "stderr",
     "output_type": "stream",
     "text": [
      "Best trial: 171. Best value: 24.6491:  97%|█████████▋| 243/250 [31:30<00:54,  7.83s/it]"
     ]
    },
    {
     "name": "stdout",
     "output_type": "stream",
     "text": [
      "1807\n",
      "[I 2024-02-15 06:28:19,069] Trial 242 finished with value: 22.888809509476268 and parameters: {'thres_for_max': 0.56, 'thres_for_mean': 0.32}. Best is trial 171 with value: 24.649122487843933.\n"
     ]
    },
    {
     "name": "stderr",
     "output_type": "stream",
     "text": [
      "Best trial: 171. Best value: 24.6491:  98%|█████████▊| 244/250 [31:38<00:46,  7.83s/it]"
     ]
    },
    {
     "name": "stdout",
     "output_type": "stream",
     "text": [
      "1783\n",
      "[I 2024-02-15 06:28:26,906] Trial 243 finished with value: 22.148633687310337 and parameters: {'thres_for_max': 0.59, 'thres_for_mean': 0.32999999999999996}. Best is trial 171 with value: 24.649122487843933.\n"
     ]
    },
    {
     "name": "stderr",
     "output_type": "stream",
     "text": [
      "Best trial: 171. Best value: 24.6491:  98%|█████████▊| 245/250 [31:46<00:39,  7.81s/it]"
     ]
    },
    {
     "name": "stdout",
     "output_type": "stream",
     "text": [
      "1580\n",
      "[I 2024-02-15 06:28:34,671] Trial 244 finished with value: 14.752503748916991 and parameters: {'thres_for_max': 0.5700000000000001, 'thres_for_mean': 0.45999999999999996}. Best is trial 171 with value: 24.649122487843933.\n"
     ]
    },
    {
     "name": "stderr",
     "output_type": "stream",
     "text": [
      "Best trial: 171. Best value: 24.6491:  98%|█████████▊| 246/250 [31:53<00:31,  7.81s/it]"
     ]
    },
    {
     "name": "stdout",
     "output_type": "stream",
     "text": [
      "1770\n",
      "[I 2024-02-15 06:28:42,478] Trial 245 finished with value: 21.615064604516864 and parameters: {'thres_for_max': 0.5800000000000001, 'thres_for_mean': 0.33999999999999997}. Best is trial 171 with value: 24.649122487843933.\n"
     ]
    },
    {
     "name": "stderr",
     "output_type": "stream",
     "text": [
      "Best trial: 171. Best value: 24.6491:  99%|█████████▉| 247/250 [32:01<00:23,  7.80s/it]"
     ]
    },
    {
     "name": "stdout",
     "output_type": "stream",
     "text": [
      "1828\n",
      "[I 2024-02-15 06:28:50,259] Trial 246 finished with value: 18.486468626350334 and parameters: {'thres_for_max': 0.6, 'thres_for_mean': 0.3}. Best is trial 171 with value: 24.649122487843933.\n"
     ]
    },
    {
     "name": "stderr",
     "output_type": "stream",
     "text": [
      "Best trial: 171. Best value: 24.6491:  99%|█████████▉| 248/250 [32:09<00:15,  7.82s/it]"
     ]
    },
    {
     "name": "stdout",
     "output_type": "stream",
     "text": [
      "1808\n",
      "[I 2024-02-15 06:28:58,124] Trial 247 finished with value: 22.935448226097268 and parameters: {'thres_for_max': 0.55, 'thres_for_mean': 0.32}. Best is trial 171 with value: 24.649122487843933.\n"
     ]
    },
    {
     "name": "stderr",
     "output_type": "stream",
     "text": [
      "Best trial: 171. Best value: 24.6491: 100%|█████████▉| 249/250 [32:17<00:07,  7.86s/it]"
     ]
    },
    {
     "name": "stdout",
     "output_type": "stream",
     "text": [
      "1842\n",
      "[I 2024-02-15 06:29:06,091] Trial 248 finished with value: 22.05913329204537 and parameters: {'thres_for_max': 0.44, 'thres_for_mean': 0.31}. Best is trial 171 with value: 24.649122487843933.\n"
     ]
    },
    {
     "name": "stderr",
     "output_type": "stream",
     "text": [
      "Best trial: 171. Best value: 24.6491: 100%|██████████| 250/250 [32:25<00:00,  7.78s/it]"
     ]
    },
    {
     "name": "stdout",
     "output_type": "stream",
     "text": [
      "1783\n",
      "[I 2024-02-15 06:29:13,999] Trial 249 finished with value: 22.148633687310337 and parameters: {'thres_for_max': 0.59, 'thres_for_mean': 0.32999999999999996}. Best is trial 171 with value: 24.649122487843933.\n"
     ]
    },
    {
     "name": "stderr",
     "output_type": "stream",
     "text": [
      "\n",
      "[I 2024-02-15 06:29:14,282] A new study created in memory with name: best_combi_of_thres_float_rtn_4\n",
      "Best trial: 0. Best value: 8.29035:   0%|          | 1/250 [00:08<33:19,  8.03s/it]"
     ]
    },
    {
     "name": "stdout",
     "output_type": "stream",
     "text": [
      "1848\n",
      "[I 2024-02-15 06:29:22,313] Trial 0 finished with value: 8.290353468556452 and parameters: {'thres_for_max': 0.42, 'thres_for_mean': 0.74}. Best is trial 0 with value: 8.290353468556452.\n"
     ]
    },
    {
     "name": "stderr",
     "output_type": "stream",
     "text": [
      "Best trial: 1. Best value: 9.73386:   1%|          | 2/250 [00:15<32:15,  7.81s/it]"
     ]
    },
    {
     "name": "stdout",
     "output_type": "stream",
     "text": [
      "1461\n",
      "[I 2024-02-15 06:29:29,961] Trial 1 finished with value: 9.733862544708536 and parameters: {'thres_for_max': 0.8400000000000001, 'thres_for_mean': 0.49}. Best is trial 1 with value: 9.733862544708536.\n"
     ]
    },
    {
     "name": "stderr",
     "output_type": "stream",
     "text": [
      "Best trial: 1. Best value: 9.73386:   1%|          | 3/250 [00:23<31:51,  7.74s/it]"
     ]
    },
    {
     "name": "stdout",
     "output_type": "stream",
     "text": [
      "1413\n",
      "[I 2024-02-15 06:29:37,625] Trial 2 finished with value: 7.995559254926144 and parameters: {'thres_for_max': 0.65, 'thres_for_mean': 0.76}. Best is trial 1 with value: 9.733862544708536.\n"
     ]
    },
    {
     "name": "stderr",
     "output_type": "stream",
     "text": [
      "Best trial: 1. Best value: 9.73386:   2%|▏         | 4/250 [00:30<31:30,  7.69s/it]"
     ]
    },
    {
     "name": "stdout",
     "output_type": "stream",
     "text": [
      "902\n",
      "[I 2024-02-15 06:29:45,228] Trial 3 finished with value: 4.6446300486541485 and parameters: {'thres_for_max': 0.77, 'thres_for_mean': 0.8500000000000001}. Best is trial 1 with value: 9.733862544708536.\n"
     ]
    },
    {
     "name": "stderr",
     "output_type": "stream",
     "text": [
      "Best trial: 4. Best value: 11.7565:   2%|▏         | 5/250 [00:38<31:28,  7.71s/it]"
     ]
    },
    {
     "name": "stdout",
     "output_type": "stream",
     "text": [
      "1873\n",
      "[I 2024-02-15 06:29:52,976] Trial 4 finished with value: 11.756462822649448 and parameters: {'thres_for_max': 0.3, 'thres_for_mean': 0.6799999999999999}. Best is trial 4 with value: 11.756462822649448.\n"
     ]
    },
    {
     "name": "stderr",
     "output_type": "stream",
     "text": [
      "Best trial: 5. Best value: 11.918:   2%|▏         | 6/250 [00:46<31:37,  7.78s/it] "
     ]
    },
    {
     "name": "stdout",
     "output_type": "stream",
     "text": [
      "1867\n",
      "[I 2024-02-15 06:30:00,880] Trial 5 finished with value: 11.917967375057605 and parameters: {'thres_for_max': 0.33999999999999997, 'thres_for_mean': 0.5700000000000001}. Best is trial 5 with value: 11.917967375057605.\n"
     ]
    },
    {
     "name": "stderr",
     "output_type": "stream",
     "text": [
      "Best trial: 5. Best value: 11.918:   3%|▎         | 7/250 [00:54<31:36,  7.81s/it]"
     ]
    },
    {
     "name": "stdout",
     "output_type": "stream",
     "text": [
      "1797\n",
      "[I 2024-02-15 06:30:08,752] Trial 6 finished with value: 10.016421285301753 and parameters: {'thres_for_max': 0.6, 'thres_for_mean': 0.35}. Best is trial 5 with value: 11.917967375057605.\n"
     ]
    },
    {
     "name": "stderr",
     "output_type": "stream",
     "text": [
      "Best trial: 5. Best value: 11.918:   3%|▎         | 8/250 [01:02<31:32,  7.82s/it]"
     ]
    },
    {
     "name": "stdout",
     "output_type": "stream",
     "text": [
      "1818\n",
      "[I 2024-02-15 06:30:16,602] Trial 7 finished with value: 7.443962619601885 and parameters: {'thres_for_max': 0.47, 'thres_for_mean': 0.5}. Best is trial 5 with value: 11.917967375057605.\n"
     ]
    },
    {
     "name": "stderr",
     "output_type": "stream",
     "text": [
      "Best trial: 5. Best value: 11.918:   4%|▎         | 9/250 [01:10<31:40,  7.89s/it]"
     ]
    },
    {
     "name": "stdout",
     "output_type": "stream",
     "text": [
      "1864\n",
      "[I 2024-02-15 06:30:24,630] Trial 8 finished with value: 11.437243354240909 and parameters: {'thres_for_max': 0.37, 'thres_for_mean': 0.44}. Best is trial 5 with value: 11.917967375057605.\n"
     ]
    },
    {
     "name": "stderr",
     "output_type": "stream",
     "text": [
      "Best trial: 5. Best value: 11.918:   4%|▍         | 10/250 [01:17<31:12,  7.80s/it]"
     ]
    },
    {
     "name": "stdout",
     "output_type": "stream",
     "text": [
      "1630\n",
      "[I 2024-02-15 06:30:32,249] Trial 9 finished with value: 8.556024804165746 and parameters: {'thres_for_max': 0.8899999999999999, 'thres_for_mean': 0.44}. Best is trial 5 with value: 11.917967375057605.\n"
     ]
    },
    {
     "name": "stderr",
     "output_type": "stream",
     "text": [
      "Best trial: 5. Best value: 11.918:   4%|▍         | 11/250 [01:25<30:59,  7.78s/it]"
     ]
    },
    {
     "name": "stdout",
     "output_type": "stream",
     "text": [
      "1726\n",
      "[I 2024-02-15 06:30:39,978] Trial 10 finished with value: 8.987578769817874 and parameters: {'thres_for_max': 0.54, 'thres_for_mean': 0.62}. Best is trial 5 with value: 11.917967375057605.\n"
     ]
    },
    {
     "name": "stderr",
     "output_type": "stream",
     "text": [
      "Best trial: 5. Best value: 11.918:   5%|▍         | 12/250 [01:33<31:00,  7.82s/it]"
     ]
    },
    {
     "name": "stdout",
     "output_type": "stream",
     "text": [
      "1869\n",
      "[I 2024-02-15 06:30:47,874] Trial 11 finished with value: 11.445418278108686 and parameters: {'thres_for_max': 0.32999999999999996, 'thres_for_mean': 0.62}. Best is trial 5 with value: 11.917967375057605.\n"
     ]
    },
    {
     "name": "stderr",
     "output_type": "stream",
     "text": [
      "Best trial: 5. Best value: 11.918:   5%|▌         | 13/250 [01:41<31:00,  7.85s/it]"
     ]
    },
    {
     "name": "stdout",
     "output_type": "stream",
     "text": [
      "1873\n",
      "[I 2024-02-15 06:30:55,806] Trial 12 finished with value: 11.789065175826204 and parameters: {'thres_for_max': 0.31, 'thres_for_mean': 0.69}. Best is trial 5 with value: 11.917967375057605.\n"
     ]
    },
    {
     "name": "stderr",
     "output_type": "stream",
     "text": [
      "Best trial: 5. Best value: 11.918:   6%|▌         | 14/250 [01:49<30:54,  7.86s/it]"
     ]
    },
    {
     "name": "stdout",
     "output_type": "stream",
     "text": [
      "1833\n",
      "[I 2024-02-15 06:31:03,677] Trial 13 finished with value: 8.781479565095923 and parameters: {'thres_for_max': 0.44999999999999996, 'thres_for_mean': 0.55}. Best is trial 5 with value: 11.917967375057605.\n"
     ]
    },
    {
     "name": "stderr",
     "output_type": "stream",
     "text": [
      "Best trial: 5. Best value: 11.918:   6%|▌         | 15/250 [01:57<30:55,  7.89s/it]"
     ]
    },
    {
     "name": "stdout",
     "output_type": "stream",
     "text": [
      "1873\n",
      "[I 2024-02-15 06:31:11,657] Trial 14 finished with value: 11.793007276335576 and parameters: {'thres_for_max': 0.3, 'thres_for_mean': 0.8999999999999999}. Best is trial 5 with value: 11.917967375057605.\n"
     ]
    },
    {
     "name": "stderr",
     "output_type": "stream",
     "text": [
      "Best trial: 5. Best value: 11.918:   6%|▋         | 16/250 [02:05<30:37,  7.85s/it]"
     ]
    },
    {
     "name": "stdout",
     "output_type": "stream",
     "text": [
      "1761\n",
      "[I 2024-02-15 06:31:19,411] Trial 15 finished with value: 7.00344362640556 and parameters: {'thres_for_max': 0.52, 'thres_for_mean': 0.79}. Best is trial 5 with value: 11.917967375057605.\n"
     ]
    },
    {
     "name": "stderr",
     "output_type": "stream",
     "text": [
      "Best trial: 5. Best value: 11.918:   7%|▋         | 17/250 [02:12<30:21,  7.82s/it]"
     ]
    },
    {
     "name": "stdout",
     "output_type": "stream",
     "text": [
      "1859\n",
      "[I 2024-02-15 06:31:27,146] Trial 16 finished with value: 8.83484862764907 and parameters: {'thres_for_max': 0.4, 'thres_for_mean': 0.8999999999999999}. Best is trial 5 with value: 11.917967375057605.\n"
     ]
    },
    {
     "name": "stderr",
     "output_type": "stream",
     "text": [
      "Best trial: 5. Best value: 11.918:   7%|▋         | 18/250 [02:20<30:20,  7.85s/it]"
     ]
    },
    {
     "name": "stdout",
     "output_type": "stream",
     "text": [
      "1367\n",
      "[I 2024-02-15 06:31:35,069] Trial 17 finished with value: 8.332319959837172 and parameters: {'thres_for_max': 0.6799999999999999, 'thres_for_mean': 0.56}. Best is trial 5 with value: 11.917967375057605.\n"
     ]
    },
    {
     "name": "stderr",
     "output_type": "stream",
     "text": [
      "Best trial: 5. Best value: 11.918:   8%|▊         | 19/250 [02:28<30:25,  7.90s/it]"
     ]
    },
    {
     "name": "stdout",
     "output_type": "stream",
     "text": [
      "1864\n",
      "[I 2024-02-15 06:31:43,091] Trial 18 finished with value: 11.076511393372565 and parameters: {'thres_for_max': 0.37, 'thres_for_mean': 0.32}. Best is trial 5 with value: 11.917967375057605.\n"
     ]
    },
    {
     "name": "stderr",
     "output_type": "stream",
     "text": [
      "Best trial: 5. Best value: 11.918:   8%|▊         | 20/250 [02:36<30:00,  7.83s/it]"
     ]
    },
    {
     "name": "stdout",
     "output_type": "stream",
     "text": [
      "1761\n",
      "[I 2024-02-15 06:31:50,755] Trial 19 finished with value: 6.9346624294624535 and parameters: {'thres_for_max': 0.52, 'thres_for_mean': 0.8200000000000001}. Best is trial 5 with value: 11.917967375057605.\n"
     ]
    },
    {
     "name": "stderr",
     "output_type": "stream",
     "text": [
      "Best trial: 5. Best value: 11.918:   8%|▊         | 21/250 [02:44<29:49,  7.82s/it]"
     ]
    },
    {
     "name": "stdout",
     "output_type": "stream",
     "text": [
      "1827\n",
      "[I 2024-02-15 06:31:58,541] Trial 20 finished with value: 8.259053507213745 and parameters: {'thres_for_max': 0.45999999999999996, 'thres_for_mean': 0.6599999999999999}. Best is trial 5 with value: 11.917967375057605.\n"
     ]
    },
    {
     "name": "stderr",
     "output_type": "stream",
     "text": [
      "Best trial: 5. Best value: 11.918:   9%|▉         | 22/250 [02:52<29:45,  7.83s/it]"
     ]
    },
    {
     "name": "stdout",
     "output_type": "stream",
     "text": [
      "1873\n",
      "[I 2024-02-15 06:32:06,403] Trial 21 finished with value: 11.700985936089472 and parameters: {'thres_for_max': 0.3, 'thres_for_mean': 0.71}. Best is trial 5 with value: 11.917967375057605.\n"
     ]
    },
    {
     "name": "stderr",
     "output_type": "stream",
     "text": [
      "Best trial: 22. Best value: 12.2049:   9%|▉         | 23/250 [02:59<29:35,  7.82s/it]"
     ]
    },
    {
     "name": "stdout",
     "output_type": "stream",
     "text": [
      "1867\n",
      "[I 2024-02-15 06:32:14,203] Trial 22 finished with value: 12.204891392871504 and parameters: {'thres_for_max': 0.35, 'thres_for_mean': 0.8600000000000001}. Best is trial 22 with value: 12.204891392871504.\n"
     ]
    },
    {
     "name": "stderr",
     "output_type": "stream",
     "text": [
      "Best trial: 22. Best value: 12.2049:  10%|▉         | 24/250 [03:07<29:30,  7.83s/it]"
     ]
    },
    {
     "name": "stdout",
     "output_type": "stream",
     "text": [
      "1863\n",
      "[I 2024-02-15 06:32:22,069] Trial 23 finished with value: 10.654150849014156 and parameters: {'thres_for_max': 0.38, 'thres_for_mean': 0.8799999999999999}. Best is trial 22 with value: 12.204891392871504.\n"
     ]
    },
    {
     "name": "stderr",
     "output_type": "stream",
     "text": [
      "Best trial: 22. Best value: 12.2049:  10%|█         | 25/250 [03:15<29:14,  7.80s/it]"
     ]
    },
    {
     "name": "stdout",
     "output_type": "stream",
     "text": [
      "1863\n",
      "[I 2024-02-15 06:32:29,785] Trial 24 finished with value: 10.560076607845927 and parameters: {'thres_for_max': 0.38, 'thres_for_mean': 0.8300000000000001}. Best is trial 22 with value: 12.204891392871504.\n"
     ]
    },
    {
     "name": "stderr",
     "output_type": "stream",
     "text": [
      "Best trial: 22. Best value: 12.2049:  10%|█         | 26/250 [03:23<29:03,  7.78s/it]"
     ]
    },
    {
     "name": "stdout",
     "output_type": "stream",
     "text": [
      "1867\n",
      "[I 2024-02-15 06:32:37,534] Trial 25 finished with value: 12.152144563604393 and parameters: {'thres_for_max': 0.33999999999999997, 'thres_for_mean': 0.8700000000000001}. Best is trial 22 with value: 12.204891392871504.\n"
     ]
    },
    {
     "name": "stderr",
     "output_type": "stream",
     "text": [
      "Best trial: 22. Best value: 12.2049:  11%|█         | 27/250 [03:31<28:59,  7.80s/it]"
     ]
    },
    {
     "name": "stdout",
     "output_type": "stream",
     "text": [
      "1867\n",
      "[I 2024-02-15 06:32:45,377] Trial 26 finished with value: 11.941926528860579 and parameters: {'thres_for_max': 0.33999999999999997, 'thres_for_mean': 0.79}. Best is trial 22 with value: 12.204891392871504.\n"
     ]
    },
    {
     "name": "stderr",
     "output_type": "stream",
     "text": [
      "Best trial: 22. Best value: 12.2049:  11%|█         | 28/250 [03:38<28:45,  7.77s/it]"
     ]
    },
    {
     "name": "stdout",
     "output_type": "stream",
     "text": [
      "1844\n",
      "[I 2024-02-15 06:32:53,079] Trial 27 finished with value: 7.806564240969393 and parameters: {'thres_for_max': 0.43, 'thres_for_mean': 0.79}. Best is trial 22 with value: 12.204891392871504.\n"
     ]
    },
    {
     "name": "stderr",
     "output_type": "stream",
     "text": [
      "Best trial: 22. Best value: 12.2049:  12%|█▏        | 29/250 [03:46<28:31,  7.74s/it]"
     ]
    },
    {
     "name": "stdout",
     "output_type": "stream",
     "text": [
      "1795\n",
      "[I 2024-02-15 06:33:00,758] Trial 28 finished with value: 7.377657280941138 and parameters: {'thres_for_max': 0.49, 'thres_for_mean': 0.8500000000000001}. Best is trial 22 with value: 12.204891392871504.\n"
     ]
    },
    {
     "name": "stderr",
     "output_type": "stream",
     "text": [
      "Best trial: 22. Best value: 12.2049:  12%|█▏        | 30/250 [03:54<28:23,  7.74s/it]"
     ]
    },
    {
     "name": "stdout",
     "output_type": "stream",
     "text": [
      "1617\n",
      "[I 2024-02-15 06:33:08,503] Trial 29 finished with value: 8.298759160934617 and parameters: {'thres_for_max': 0.59, 'thres_for_mean': 0.74}. Best is trial 22 with value: 12.204891392871504.\n"
     ]
    },
    {
     "name": "stderr",
     "output_type": "stream",
     "text": [
      "Best trial: 22. Best value: 12.2049:  12%|█▏        | 31/250 [04:01<28:14,  7.74s/it]"
     ]
    },
    {
     "name": "stdout",
     "output_type": "stream",
     "text": [
      "1844\n",
      "[I 2024-02-15 06:33:16,220] Trial 30 finished with value: 7.774916873480696 and parameters: {'thres_for_max': 0.43, 'thres_for_mean': 0.78}. Best is trial 22 with value: 12.204891392871504.\n"
     ]
    },
    {
     "name": "stderr",
     "output_type": "stream",
     "text": [
      "Best trial: 22. Best value: 12.2049:  13%|█▎        | 32/250 [04:09<28:12,  7.76s/it]"
     ]
    },
    {
     "name": "stdout",
     "output_type": "stream",
     "text": [
      "1867\n",
      "[I 2024-02-15 06:33:24,047] Trial 31 finished with value: 12.204891392871504 and parameters: {'thres_for_max': 0.35, 'thres_for_mean': 0.8600000000000001}. Best is trial 22 with value: 12.204891392871504.\n"
     ]
    },
    {
     "name": "stderr",
     "output_type": "stream",
     "text": [
      "Best trial: 22. Best value: 12.2049:  13%|█▎        | 33/250 [04:17<28:08,  7.78s/it]"
     ]
    },
    {
     "name": "stdout",
     "output_type": "stream",
     "text": [
      "1867\n",
      "[I 2024-02-15 06:33:31,875] Trial 32 finished with value: 12.204891392871504 and parameters: {'thres_for_max': 0.35, 'thres_for_mean': 0.8600000000000001}. Best is trial 22 with value: 12.204891392871504.\n"
     ]
    },
    {
     "name": "stderr",
     "output_type": "stream",
     "text": [
      "Best trial: 22. Best value: 12.2049:  14%|█▎        | 34/250 [04:25<27:57,  7.77s/it]"
     ]
    },
    {
     "name": "stdout",
     "output_type": "stream",
     "text": [
      "1867\n",
      "[I 2024-02-15 06:33:39,605] Trial 33 finished with value: 12.204891392871504 and parameters: {'thres_for_max': 0.35, 'thres_for_mean': 0.8600000000000001}. Best is trial 22 with value: 12.204891392871504.\n"
     ]
    },
    {
     "name": "stderr",
     "output_type": "stream",
     "text": [
      "Best trial: 22. Best value: 12.2049:  14%|█▍        | 35/250 [04:33<27:48,  7.76s/it]"
     ]
    },
    {
     "name": "stdout",
     "output_type": "stream",
     "text": [
      "1848\n",
      "[I 2024-02-15 06:33:47,343] Trial 34 finished with value: 8.290353468556452 and parameters: {'thres_for_max': 0.42, 'thres_for_mean': 0.74}. Best is trial 22 with value: 12.204891392871504.\n"
     ]
    },
    {
     "name": "stderr",
     "output_type": "stream",
     "text": [
      "Best trial: 22. Best value: 12.2049:  14%|█▍        | 36/250 [04:40<27:28,  7.70s/it]"
     ]
    },
    {
     "name": "stdout",
     "output_type": "stream",
     "text": [
      "1384\n",
      "[I 2024-02-15 06:33:54,914] Trial 35 finished with value: 8.270301227575303 and parameters: {'thres_for_max': 0.6599999999999999, 'thres_for_mean': 0.8300000000000001}. Best is trial 22 with value: 12.204891392871504.\n"
     ]
    },
    {
     "name": "stderr",
     "output_type": "stream",
     "text": [
      "Best trial: 22. Best value: 12.2049:  15%|█▍        | 37/250 [04:48<27:16,  7.68s/it]"
     ]
    },
    {
     "name": "stdout",
     "output_type": "stream",
     "text": [
      "1097\n",
      "[I 2024-02-15 06:34:02,547] Trial 36 finished with value: 9.83830792484982 and parameters: {'thres_for_max': 0.73, 'thres_for_mean': 0.8600000000000001}. Best is trial 22 with value: 12.204891392871504.\n"
     ]
    },
    {
     "name": "stderr",
     "output_type": "stream",
     "text": [
      "Best trial: 22. Best value: 12.2049:  15%|█▌        | 38/250 [04:56<27:22,  7.75s/it]"
     ]
    },
    {
     "name": "stdout",
     "output_type": "stream",
     "text": [
      "1859\n",
      "[I 2024-02-15 06:34:10,449] Trial 37 finished with value: 8.720667611814997 and parameters: {'thres_for_max': 0.4, 'thres_for_mean': 0.8200000000000001}. Best is trial 22 with value: 12.204891392871504.\n"
     ]
    },
    {
     "name": "stderr",
     "output_type": "stream",
     "text": [
      "Best trial: 22. Best value: 12.2049:  16%|█▌        | 39/250 [05:04<27:22,  7.78s/it]"
     ]
    },
    {
     "name": "stdout",
     "output_type": "stream",
     "text": [
      "1867\n",
      "[I 2024-02-15 06:34:18,317] Trial 38 finished with value: 12.039979470751275 and parameters: {'thres_for_max': 0.35, 'thres_for_mean': 0.76}. Best is trial 22 with value: 12.204891392871504.\n"
     ]
    },
    {
     "name": "stderr",
     "output_type": "stream",
     "text": [
      "Best trial: 22. Best value: 12.2049:  16%|█▌        | 40/250 [05:11<27:09,  7.76s/it]"
     ]
    },
    {
     "name": "stdout",
     "output_type": "stream",
     "text": [
      "1638\n",
      "[I 2024-02-15 06:34:26,026] Trial 39 finished with value: 7.633414687709454 and parameters: {'thres_for_max': 0.5800000000000001, 'thres_for_mean': 0.8899999999999999}. Best is trial 22 with value: 12.204891392871504.\n"
     ]
    },
    {
     "name": "stderr",
     "output_type": "stream",
     "text": [
      "Best trial: 22. Best value: 12.2049:  16%|█▋        | 41/250 [05:19<26:52,  7.71s/it]"
     ]
    },
    {
     "name": "stdout",
     "output_type": "stream",
     "text": [
      "1795\n",
      "[I 2024-02-15 06:34:33,630] Trial 40 finished with value: 7.377657280941138 and parameters: {'thres_for_max': 0.49, 'thres_for_mean': 0.8500000000000001}. Best is trial 22 with value: 12.204891392871504.\n"
     ]
    },
    {
     "name": "stderr",
     "output_type": "stream",
     "text": [
      "Best trial: 22. Best value: 12.2049:  17%|█▋        | 42/250 [05:27<26:50,  7.74s/it]"
     ]
    },
    {
     "name": "stdout",
     "output_type": "stream",
     "text": [
      "1867\n",
      "[I 2024-02-15 06:34:41,440] Trial 41 finished with value: 12.152144563604393 and parameters: {'thres_for_max': 0.33999999999999997, 'thres_for_mean': 0.8700000000000001}. Best is trial 22 with value: 12.204891392871504.\n"
     ]
    },
    {
     "name": "stderr",
     "output_type": "stream",
     "text": [
      "Best trial: 22. Best value: 12.2049:  17%|█▋        | 43/250 [05:34<26:43,  7.75s/it]"
     ]
    },
    {
     "name": "stdout",
     "output_type": "stream",
     "text": [
      "1859\n",
      "[I 2024-02-15 06:34:49,197] Trial 42 finished with value: 8.720667611814997 and parameters: {'thres_for_max': 0.4, 'thres_for_mean': 0.8200000000000001}. Best is trial 22 with value: 12.204891392871504.\n"
     ]
    },
    {
     "name": "stderr",
     "output_type": "stream",
     "text": [
      "Best trial: 22. Best value: 12.2049:  18%|█▊        | 44/250 [05:42<26:33,  7.74s/it]"
     ]
    },
    {
     "name": "stdout",
     "output_type": "stream",
     "text": [
      "1865\n",
      "[I 2024-02-15 06:34:56,908] Trial 43 finished with value: 11.380135575318759 and parameters: {'thres_for_max': 0.36, 'thres_for_mean': 0.8700000000000001}. Best is trial 22 with value: 12.204891392871504.\n"
     ]
    },
    {
     "name": "stderr",
     "output_type": "stream",
     "text": [
      "Best trial: 22. Best value: 12.2049:  18%|█▊        | 45/250 [05:50<26:33,  7.77s/it]"
     ]
    },
    {
     "name": "stdout",
     "output_type": "stream",
     "text": [
      "1869\n",
      "[I 2024-02-15 06:35:04,760] Trial 44 finished with value: 11.635712980261099 and parameters: {'thres_for_max': 0.32999999999999996, 'thres_for_mean': 0.8999999999999999}. Best is trial 22 with value: 12.204891392871504.\n"
     ]
    },
    {
     "name": "stderr",
     "output_type": "stream",
     "text": [
      "Best trial: 22. Best value: 12.2049:  18%|█▊        | 46/250 [05:58<26:32,  7.81s/it]"
     ]
    },
    {
     "name": "stdout",
     "output_type": "stream",
     "text": [
      "1871\n",
      "[I 2024-02-15 06:35:12,648] Trial 45 finished with value: 11.520736013595597 and parameters: {'thres_for_max': 0.32, 'thres_for_mean': 0.76}. Best is trial 22 with value: 12.204891392871504.\n"
     ]
    },
    {
     "name": "stderr",
     "output_type": "stream",
     "text": [
      "Best trial: 22. Best value: 12.2049:  19%|█▉        | 47/250 [06:06<26:23,  7.80s/it]"
     ]
    },
    {
     "name": "stdout",
     "output_type": "stream",
     "text": [
      "1853\n",
      "[I 2024-02-15 06:35:20,438] Trial 46 finished with value: 8.537979854291295 and parameters: {'thres_for_max': 0.41, 'thres_for_mean': 0.81}. Best is trial 22 with value: 12.204891392871504.\n"
     ]
    },
    {
     "name": "stderr",
     "output_type": "stream",
     "text": [
      "Best trial: 22. Best value: 12.2049:  19%|█▉        | 48/250 [06:13<26:07,  7.76s/it]"
     ]
    },
    {
     "name": "stdout",
     "output_type": "stream",
     "text": [
      "659\n",
      "[I 2024-02-15 06:35:28,094] Trial 47 finished with value: 4.439546057390089 and parameters: {'thres_for_max': 0.8200000000000001, 'thres_for_mean': 0.8500000000000001}. Best is trial 22 with value: 12.204891392871504.\n"
     ]
    },
    {
     "name": "stderr",
     "output_type": "stream",
     "text": [
      "Best trial: 22. Best value: 12.2049:  20%|█▉        | 49/250 [06:21<25:59,  7.76s/it]"
     ]
    },
    {
     "name": "stdout",
     "output_type": "stream",
     "text": [
      "1864\n",
      "[I 2024-02-15 06:35:35,855] Trial 48 finished with value: 11.689101370772882 and parameters: {'thres_for_max': 0.37, 'thres_for_mean': 0.43}. Best is trial 22 with value: 12.204891392871504.\n"
     ]
    },
    {
     "name": "stderr",
     "output_type": "stream",
     "text": [
      "Best trial: 22. Best value: 12.2049:  20%|██        | 50/250 [06:29<25:48,  7.74s/it]"
     ]
    },
    {
     "name": "stdout",
     "output_type": "stream",
     "text": [
      "1840\n",
      "[I 2024-02-15 06:35:43,563] Trial 49 finished with value: 8.90485521059854 and parameters: {'thres_for_max': 0.44, 'thres_for_mean': 0.6599999999999999}. Best is trial 22 with value: 12.204891392871504.\n"
     ]
    },
    {
     "name": "stderr",
     "output_type": "stream",
     "text": [
      "Best trial: 22. Best value: 12.2049:  20%|██        | 51/250 [06:37<25:42,  7.75s/it]"
     ]
    },
    {
     "name": "stdout",
     "output_type": "stream",
     "text": [
      "1873\n",
      "[I 2024-02-15 06:35:51,331] Trial 50 finished with value: 11.830244011235642 and parameters: {'thres_for_max': 0.3, 'thres_for_mean': 0.76}. Best is trial 22 with value: 12.204891392871504.\n"
     ]
    },
    {
     "name": "stderr",
     "output_type": "stream",
     "text": [
      "Best trial: 22. Best value: 12.2049:  21%|██        | 52/250 [06:44<25:38,  7.77s/it]"
     ]
    },
    {
     "name": "stdout",
     "output_type": "stream",
     "text": [
      "1867\n",
      "[I 2024-02-15 06:35:59,142] Trial 51 finished with value: 12.152144563604393 and parameters: {'thres_for_max': 0.33999999999999997, 'thres_for_mean': 0.8700000000000001}. Best is trial 22 with value: 12.204891392871504.\n"
     ]
    },
    {
     "name": "stderr",
     "output_type": "stream",
     "text": [
      "Best trial: 22. Best value: 12.2049:  21%|██        | 53/250 [06:52<25:28,  7.76s/it]"
     ]
    },
    {
     "name": "stdout",
     "output_type": "stream",
     "text": [
      "1867\n",
      "[I 2024-02-15 06:36:06,884] Trial 52 finished with value: 12.17244129209514 and parameters: {'thres_for_max': 0.35, 'thres_for_mean': 0.8700000000000001}. Best is trial 22 with value: 12.204891392871504.\n"
     ]
    },
    {
     "name": "stderr",
     "output_type": "stream",
     "text": [
      "Best trial: 22. Best value: 12.2049:  22%|██▏       | 54/250 [07:00<25:20,  7.76s/it]"
     ]
    },
    {
     "name": "stdout",
     "output_type": "stream",
     "text": [
      "1861\n",
      "[I 2024-02-15 06:36:14,641] Trial 53 finished with value: 10.00324811606958 and parameters: {'thres_for_max': 0.39, 'thres_for_mean': 0.8400000000000001}. Best is trial 22 with value: 12.204891392871504.\n"
     ]
    },
    {
     "name": "stderr",
     "output_type": "stream",
     "text": [
      "Best trial: 22. Best value: 12.2049:  22%|██▏       | 55/250 [07:08<25:18,  7.79s/it]"
     ]
    },
    {
     "name": "stdout",
     "output_type": "stream",
     "text": [
      "1865\n",
      "[I 2024-02-15 06:36:22,494] Trial 54 finished with value: 11.212266913763672 and parameters: {'thres_for_max': 0.36, 'thres_for_mean': 0.8}. Best is trial 22 with value: 12.204891392871504.\n"
     ]
    },
    {
     "name": "stderr",
     "output_type": "stream",
     "text": [
      "Best trial: 22. Best value: 12.2049:  22%|██▏       | 56/250 [07:15<25:09,  7.78s/it]"
     ]
    },
    {
     "name": "stdout",
     "output_type": "stream",
     "text": [
      "1818\n",
      "[I 2024-02-15 06:36:30,256] Trial 55 finished with value: 7.597900790714733 and parameters: {'thres_for_max': 0.47, 'thres_for_mean': 0.8999999999999999}. Best is trial 22 with value: 12.204891392871504.\n"
     ]
    },
    {
     "name": "stderr",
     "output_type": "stream",
     "text": [
      "Best trial: 22. Best value: 12.2049:  23%|██▎       | 57/250 [07:23<25:01,  7.78s/it]"
     ]
    },
    {
     "name": "stdout",
     "output_type": "stream",
     "text": [
      "1873\n",
      "[I 2024-02-15 06:36:38,031] Trial 56 finished with value: 11.72958328421168 and parameters: {'thres_for_max': 0.31, 'thres_for_mean': 0.8799999999999999}. Best is trial 22 with value: 12.204891392871504.\n"
     ]
    },
    {
     "name": "stderr",
     "output_type": "stream",
     "text": [
      "Best trial: 22. Best value: 12.2049:  23%|██▎       | 58/250 [07:31<24:53,  7.78s/it]"
     ]
    },
    {
     "name": "stdout",
     "output_type": "stream",
     "text": [
      "1871\n",
      "[I 2024-02-15 06:36:45,807] Trial 57 finished with value: 11.394814546608282 and parameters: {'thres_for_max': 0.32, 'thres_for_mean': 0.71}. Best is trial 22 with value: 12.204891392871504.\n"
     ]
    },
    {
     "name": "stderr",
     "output_type": "stream",
     "text": [
      "Best trial: 22. Best value: 12.2049:  24%|██▎       | 59/250 [07:39<24:44,  7.77s/it]"
     ]
    },
    {
     "name": "stdout",
     "output_type": "stream",
     "text": [
      "1865\n",
      "[I 2024-02-15 06:36:53,569] Trial 58 finished with value: 11.061169127567931 and parameters: {'thres_for_max': 0.36, 'thres_for_mean': 0.8400000000000001}. Best is trial 22 with value: 12.204891392871504.\n"
     ]
    },
    {
     "name": "stderr",
     "output_type": "stream",
     "text": [
      "Best trial: 22. Best value: 12.2049:  24%|██▍       | 60/250 [07:46<24:32,  7.75s/it]"
     ]
    },
    {
     "name": "stdout",
     "output_type": "stream",
     "text": [
      "1861\n",
      "[I 2024-02-15 06:37:01,257] Trial 59 finished with value: 10.069242505983537 and parameters: {'thres_for_max': 0.39, 'thres_for_mean': 0.81}. Best is trial 22 with value: 12.204891392871504.\n"
     ]
    },
    {
     "name": "stderr",
     "output_type": "stream",
     "text": [
      "Best trial: 22. Best value: 12.2049:  24%|██▍       | 61/250 [07:54<24:29,  7.77s/it]"
     ]
    },
    {
     "name": "stdout",
     "output_type": "stream",
     "text": [
      "1869\n",
      "[I 2024-02-15 06:37:09,092] Trial 60 finished with value: 11.549810659789989 and parameters: {'thres_for_max': 0.32999999999999996, 'thres_for_mean': 0.78}. Best is trial 22 with value: 12.204891392871504.\n"
     ]
    },
    {
     "name": "stderr",
     "output_type": "stream",
     "text": [
      "Best trial: 22. Best value: 12.2049:  25%|██▍       | 62/250 [08:02<24:26,  7.80s/it]"
     ]
    },
    {
     "name": "stdout",
     "output_type": "stream",
     "text": [
      "1867\n",
      "[I 2024-02-15 06:37:16,949] Trial 61 finished with value: 12.17244129209514 and parameters: {'thres_for_max': 0.35, 'thres_for_mean': 0.8700000000000001}. Best is trial 22 with value: 12.204891392871504.\n"
     ]
    },
    {
     "name": "stderr",
     "output_type": "stream",
     "text": [
      "Best trial: 22. Best value: 12.2049:  25%|██▌       | 63/250 [08:10<24:18,  7.80s/it]"
     ]
    },
    {
     "name": "stdout",
     "output_type": "stream",
     "text": [
      "1863\n",
      "[I 2024-02-15 06:37:24,746] Trial 62 finished with value: 10.841073287798636 and parameters: {'thres_for_max': 0.38, 'thres_for_mean': 0.8700000000000001}. Best is trial 22 with value: 12.204891392871504.\n"
     ]
    },
    {
     "name": "stderr",
     "output_type": "stream",
     "text": [
      "Best trial: 22. Best value: 12.2049:  26%|██▌       | 64/250 [08:18<24:00,  7.74s/it]"
     ]
    },
    {
     "name": "stdout",
     "output_type": "stream",
     "text": [
      "1867\n",
      "[I 2024-02-15 06:37:32,357] Trial 63 finished with value: 12.002031075779112 and parameters: {'thres_for_max': 0.35, 'thres_for_mean': 0.8999999999999999}. Best is trial 22 with value: 12.204891392871504.\n"
     ]
    },
    {
     "name": "stderr",
     "output_type": "stream",
     "text": [
      "Best trial: 22. Best value: 12.2049:  26%|██▌       | 65/250 [08:25<23:58,  7.78s/it]"
     ]
    },
    {
     "name": "stdout",
     "output_type": "stream",
     "text": [
      "1873\n",
      "[I 2024-02-15 06:37:40,215] Trial 64 finished with value: 11.856069805157933 and parameters: {'thres_for_max': 0.31, 'thres_for_mean': 0.8500000000000001}. Best is trial 22 with value: 12.204891392871504.\n"
     ]
    },
    {
     "name": "stderr",
     "output_type": "stream",
     "text": [
      "Best trial: 22. Best value: 12.2049:  26%|██▋       | 66/250 [08:33<23:32,  7.68s/it]"
     ]
    },
    {
     "name": "stdout",
     "output_type": "stream",
     "text": [
      "338\n",
      "[I 2024-02-15 06:37:47,654] Trial 65 finished with value: 4.118034661225445 and parameters: {'thres_for_max': 0.8999999999999999, 'thres_for_mean': 0.8799999999999999}. Best is trial 22 with value: 12.204891392871504.\n"
     ]
    },
    {
     "name": "stderr",
     "output_type": "stream",
     "text": [
      "Best trial: 22. Best value: 12.2049:  27%|██▋       | 67/250 [08:41<23:25,  7.68s/it]"
     ]
    },
    {
     "name": "stdout",
     "output_type": "stream",
     "text": [
      "1848\n",
      "[I 2024-02-15 06:37:55,340] Trial 66 finished with value: 8.181804006137442 and parameters: {'thres_for_max': 0.42, 'thres_for_mean': 0.8300000000000001}. Best is trial 22 with value: 12.204891392871504.\n"
     ]
    },
    {
     "name": "stderr",
     "output_type": "stream",
     "text": [
      "Best trial: 22. Best value: 12.2049:  27%|██▋       | 68/250 [08:48<23:21,  7.70s/it]"
     ]
    },
    {
     "name": "stdout",
     "output_type": "stream",
     "text": [
      "1525\n",
      "[I 2024-02-15 06:38:03,083] Trial 67 finished with value: 8.815551771513213 and parameters: {'thres_for_max': 0.62, 'thres_for_mean': 0.8600000000000001}. Best is trial 22 with value: 12.204891392871504.\n"
     ]
    },
    {
     "name": "stderr",
     "output_type": "stream",
     "text": [
      "Best trial: 22. Best value: 12.2049:  28%|██▊       | 69/250 [08:56<23:21,  7.74s/it]"
     ]
    },
    {
     "name": "stdout",
     "output_type": "stream",
     "text": [
      "1834\n",
      "[I 2024-02-15 06:38:10,936] Trial 68 finished with value: 8.414857701065472 and parameters: {'thres_for_max': 0.44999999999999996, 'thres_for_mean': 0.39}. Best is trial 22 with value: 12.204891392871504.\n"
     ]
    },
    {
     "name": "stderr",
     "output_type": "stream",
     "text": [
      "Best trial: 22. Best value: 12.2049:  28%|██▊       | 70/250 [09:04<23:18,  7.77s/it]"
     ]
    },
    {
     "name": "stdout",
     "output_type": "stream",
     "text": [
      "1864\n",
      "[I 2024-02-15 06:38:18,766] Trial 69 finished with value: 10.985178577191677 and parameters: {'thres_for_max': 0.37, 'thres_for_mean': 0.59}. Best is trial 22 with value: 12.204891392871504.\n"
     ]
    },
    {
     "name": "stderr",
     "output_type": "stream",
     "text": [
      "Best trial: 22. Best value: 12.2049:  28%|██▊       | 71/250 [09:12<23:21,  7.83s/it]"
     ]
    },
    {
     "name": "stdout",
     "output_type": "stream",
     "text": [
      "1869\n",
      "[I 2024-02-15 06:38:26,732] Trial 70 finished with value: 11.549810659789989 and parameters: {'thres_for_max': 0.32999999999999996, 'thres_for_mean': 0.78}. Best is trial 22 with value: 12.204891392871504.\n"
     ]
    },
    {
     "name": "stderr",
     "output_type": "stream",
     "text": [
      "Best trial: 22. Best value: 12.2049:  29%|██▉       | 72/250 [09:20<23:09,  7.81s/it]"
     ]
    },
    {
     "name": "stdout",
     "output_type": "stream",
     "text": [
      "1867\n",
      "[I 2024-02-15 06:38:34,493] Trial 71 finished with value: 12.095879393016542 and parameters: {'thres_for_max': 0.35, 'thres_for_mean': 0.53}. Best is trial 22 with value: 12.204891392871504.\n"
     ]
    },
    {
     "name": "stderr",
     "output_type": "stream",
     "text": [
      "Best trial: 22. Best value: 12.2049:  29%|██▉       | 73/250 [09:28<23:02,  7.81s/it]"
     ]
    },
    {
     "name": "stdout",
     "output_type": "stream",
     "text": [
      "1873\n",
      "[I 2024-02-15 06:38:42,306] Trial 72 finished with value: 11.754226885103002 and parameters: {'thres_for_max': 0.3, 'thres_for_mean': 0.8799999999999999}. Best is trial 22 with value: 12.204891392871504.\n"
     ]
    },
    {
     "name": "stderr",
     "output_type": "stream",
     "text": [
      "Best trial: 22. Best value: 12.2049:  30%|██▉       | 74/250 [09:35<22:54,  7.81s/it]"
     ]
    },
    {
     "name": "stdout",
     "output_type": "stream",
     "text": [
      "1867\n",
      "[I 2024-02-15 06:38:50,121] Trial 73 finished with value: 11.837165392628625 and parameters: {'thres_for_max': 0.33999999999999997, 'thres_for_mean': 0.8300000000000001}. Best is trial 22 with value: 12.204891392871504.\n"
     ]
    },
    {
     "name": "stderr",
     "output_type": "stream",
     "text": [
      "Best trial: 22. Best value: 12.2049:  30%|███       | 75/250 [09:43<22:45,  7.80s/it]"
     ]
    },
    {
     "name": "stdout",
     "output_type": "stream",
     "text": [
      "1853\n",
      "[I 2024-02-15 06:38:57,898] Trial 74 finished with value: 8.74993640694805 and parameters: {'thres_for_max': 0.41, 'thres_for_mean': 0.8600000000000001}. Best is trial 22 with value: 12.204891392871504.\n"
     ]
    },
    {
     "name": "stderr",
     "output_type": "stream",
     "text": [
      "Best trial: 22. Best value: 12.2049:  30%|███       | 76/250 [09:51<22:40,  7.82s/it]"
     ]
    },
    {
     "name": "stdout",
     "output_type": "stream",
     "text": [
      "1863\n",
      "[I 2024-02-15 06:39:05,749] Trial 75 finished with value: 10.681297109253643 and parameters: {'thres_for_max': 0.38, 'thres_for_mean': 0.8}. Best is trial 22 with value: 12.204891392871504.\n"
     ]
    },
    {
     "name": "stderr",
     "output_type": "stream",
     "text": [
      "Best trial: 22. Best value: 12.2049:  31%|███       | 77/250 [09:59<22:41,  7.87s/it]"
     ]
    },
    {
     "name": "stdout",
     "output_type": "stream",
     "text": [
      "1871\n",
      "[I 2024-02-15 06:39:13,747] Trial 76 finished with value: 11.359546096974944 and parameters: {'thres_for_max': 0.32, 'thres_for_mean': 0.8899999999999999}. Best is trial 22 with value: 12.204891392871504.\n"
     ]
    },
    {
     "name": "stderr",
     "output_type": "stream",
     "text": [
      "Best trial: 22. Best value: 12.2049:  31%|███       | 78/250 [10:07<22:47,  7.95s/it]"
     ]
    },
    {
     "name": "stdout",
     "output_type": "stream",
     "text": [
      "1187\n",
      "[I 2024-02-15 06:39:21,881] Trial 77 finished with value: 7.756716261206849 and parameters: {'thres_for_max': 0.71, 'thres_for_mean': 0.8400000000000001}. Best is trial 22 with value: 12.204891392871504.\n"
     ]
    },
    {
     "name": "stderr",
     "output_type": "stream",
     "text": [
      "Best trial: 22. Best value: 12.2049:  32%|███▏      | 79/250 [10:15<22:32,  7.91s/it]"
     ]
    },
    {
     "name": "stdout",
     "output_type": "stream",
     "text": [
      "1867\n",
      "[I 2024-02-15 06:39:29,699] Trial 78 finished with value: 12.17244129209514 and parameters: {'thres_for_max': 0.35, 'thres_for_mean': 0.8700000000000001}. Best is trial 22 with value: 12.204891392871504.\n"
     ]
    },
    {
     "name": "stderr",
     "output_type": "stream",
     "text": [
      "Best trial: 22. Best value: 12.2049:  32%|███▏      | 80/250 [10:23<22:13,  7.84s/it]"
     ]
    },
    {
     "name": "stdout",
     "output_type": "stream",
     "text": [
      "1709\n",
      "[I 2024-02-15 06:39:37,387] Trial 79 finished with value: 9.819812024315286 and parameters: {'thres_for_max': 0.55, 'thres_for_mean': 0.8200000000000001}. Best is trial 22 with value: 12.204891392871504.\n"
     ]
    },
    {
     "name": "stderr",
     "output_type": "stream",
     "text": [
      "Best trial: 22. Best value: 12.2049:  32%|███▏      | 81/250 [10:30<21:58,  7.80s/it]"
     ]
    },
    {
     "name": "stdout",
     "output_type": "stream",
     "text": [
      "1861\n",
      "[I 2024-02-15 06:39:45,089] Trial 80 finished with value: 10.037379408501863 and parameters: {'thres_for_max': 0.39, 'thres_for_mean': 0.8899999999999999}. Best is trial 22 with value: 12.204891392871504.\n"
     ]
    },
    {
     "name": "stderr",
     "output_type": "stream",
     "text": [
      "Best trial: 22. Best value: 12.2049:  33%|███▎      | 82/250 [10:38<21:51,  7.81s/it]"
     ]
    },
    {
     "name": "stdout",
     "output_type": "stream",
     "text": [
      "1867\n",
      "[I 2024-02-15 06:39:52,904] Trial 81 finished with value: 12.204891392871504 and parameters: {'thres_for_max': 0.35, 'thres_for_mean': 0.8600000000000001}. Best is trial 22 with value: 12.204891392871504.\n"
     ]
    },
    {
     "name": "stderr",
     "output_type": "stream",
     "text": [
      "Best trial: 22. Best value: 12.2049:  33%|███▎      | 83/250 [10:46<21:42,  7.80s/it]"
     ]
    },
    {
     "name": "stdout",
     "output_type": "stream",
     "text": [
      "1865\n",
      "[I 2024-02-15 06:40:00,683] Trial 82 finished with value: 11.410473495001938 and parameters: {'thres_for_max': 0.36, 'thres_for_mean': 0.8600000000000001}. Best is trial 22 with value: 12.204891392871504.\n"
     ]
    },
    {
     "name": "stderr",
     "output_type": "stream",
     "text": [
      "Best trial: 22. Best value: 12.2049:  34%|███▎      | 84/250 [10:54<21:37,  7.82s/it]"
     ]
    },
    {
     "name": "stdout",
     "output_type": "stream",
     "text": [
      "1867\n",
      "[I 2024-02-15 06:40:08,549] Trial 83 finished with value: 11.831231700057952 and parameters: {'thres_for_max': 0.35, 'thres_for_mean': 0.8400000000000001}. Best is trial 22 with value: 12.204891392871504.\n"
     ]
    },
    {
     "name": "stderr",
     "output_type": "stream",
     "text": [
      "Best trial: 22. Best value: 12.2049:  34%|███▍      | 85/250 [11:02<21:29,  7.81s/it]"
     ]
    },
    {
     "name": "stdout",
     "output_type": "stream",
     "text": [
      "1853\n",
      "[I 2024-02-15 06:40:16,348] Trial 84 finished with value: 8.537979854291295 and parameters: {'thres_for_max': 0.41, 'thres_for_mean': 0.81}. Best is trial 22 with value: 12.204891392871504.\n"
     ]
    },
    {
     "name": "stderr",
     "output_type": "stream",
     "text": [
      "Best trial: 22. Best value: 12.2049:  34%|███▍      | 86/250 [11:09<21:23,  7.83s/it]"
     ]
    },
    {
     "name": "stdout",
     "output_type": "stream",
     "text": [
      "1871\n",
      "[I 2024-02-15 06:40:24,204] Trial 85 finished with value: 11.44663082994161 and parameters: {'thres_for_max': 0.32, 'thres_for_mean': 0.8799999999999999}. Best is trial 22 with value: 12.204891392871504.\n"
     ]
    },
    {
     "name": "stderr",
     "output_type": "stream",
     "text": [
      "Best trial: 22. Best value: 12.2049:  35%|███▍      | 87/250 [11:17<21:10,  7.80s/it]"
     ]
    },
    {
     "name": "stdout",
     "output_type": "stream",
     "text": [
      "1864\n",
      "[I 2024-02-15 06:40:31,928] Trial 86 finished with value: 10.948778362811014 and parameters: {'thres_for_max': 0.37, 'thres_for_mean': 0.8500000000000001}. Best is trial 22 with value: 12.204891392871504.\n"
     ]
    },
    {
     "name": "stderr",
     "output_type": "stream",
     "text": [
      "Best trial: 22. Best value: 12.2049:  35%|███▌      | 88/250 [11:25<20:59,  7.77s/it]"
     ]
    },
    {
     "name": "stdout",
     "output_type": "stream",
     "text": [
      "1867\n",
      "[I 2024-02-15 06:40:39,649] Trial 87 finished with value: 12.152144563604393 and parameters: {'thres_for_max': 0.33999999999999997, 'thres_for_mean': 0.8700000000000001}. Best is trial 22 with value: 12.204891392871504.\n"
     ]
    },
    {
     "name": "stderr",
     "output_type": "stream",
     "text": [
      "Best trial: 22. Best value: 12.2049:  36%|███▌      | 89/250 [11:33<20:51,  7.77s/it]"
     ]
    },
    {
     "name": "stdout",
     "output_type": "stream",
     "text": [
      "1861\n",
      "[I 2024-02-15 06:40:47,415] Trial 88 finished with value: 10.147698045403516 and parameters: {'thres_for_max': 0.39, 'thres_for_mean': 0.8999999999999999}. Best is trial 22 with value: 12.204891392871504.\n"
     ]
    },
    {
     "name": "stderr",
     "output_type": "stream",
     "text": [
      "Best trial: 22. Best value: 12.2049:  36%|███▌      | 90/250 [11:40<20:47,  7.80s/it]"
     ]
    },
    {
     "name": "stdout",
     "output_type": "stream",
     "text": [
      "1857\n",
      "[I 2024-02-15 06:40:55,274] Trial 89 finished with value: 9.147706867555469 and parameters: {'thres_for_max': 0.43, 'thres_for_mean': 0.3}. Best is trial 22 with value: 12.204891392871504.\n"
     ]
    },
    {
     "name": "stderr",
     "output_type": "stream",
     "text": [
      "Best trial: 22. Best value: 12.2049:  36%|███▋      | 91/250 [11:48<20:29,  7.73s/it]"
     ]
    },
    {
     "name": "stdout",
     "output_type": "stream",
     "text": [
      "802\n",
      "[I 2024-02-15 06:41:02,848] Trial 90 finished with value: 3.4752485028398317 and parameters: {'thres_for_max': 0.79, 'thres_for_mean': 0.8300000000000001}. Best is trial 22 with value: 12.204891392871504.\n"
     ]
    },
    {
     "name": "stderr",
     "output_type": "stream",
     "text": [
      "Best trial: 22. Best value: 12.2049:  37%|███▋      | 92/250 [11:56<20:26,  7.76s/it]"
     ]
    },
    {
     "name": "stdout",
     "output_type": "stream",
     "text": [
      "1867\n",
      "[I 2024-02-15 06:41:10,681] Trial 91 finished with value: 12.204891392871504 and parameters: {'thres_for_max': 0.35, 'thres_for_mean': 0.8600000000000001}. Best is trial 22 with value: 12.204891392871504.\n"
     ]
    },
    {
     "name": "stderr",
     "output_type": "stream",
     "text": [
      "Best trial: 22. Best value: 12.2049:  37%|███▋      | 93/250 [12:04<20:21,  7.78s/it]"
     ]
    },
    {
     "name": "stdout",
     "output_type": "stream",
     "text": [
      "1865\n",
      "[I 2024-02-15 06:41:18,514] Trial 92 finished with value: 11.410473495001938 and parameters: {'thres_for_max': 0.36, 'thres_for_mean': 0.8600000000000001}. Best is trial 22 with value: 12.204891392871504.\n"
     ]
    },
    {
     "name": "stderr",
     "output_type": "stream",
     "text": [
      "Best trial: 22. Best value: 12.2049:  38%|███▊      | 94/250 [12:12<20:17,  7.80s/it]"
     ]
    },
    {
     "name": "stdout",
     "output_type": "stream",
     "text": [
      "1869\n",
      "[I 2024-02-15 06:41:26,370] Trial 93 finished with value: 11.597449839141037 and parameters: {'thres_for_max': 0.32999999999999996, 'thres_for_mean': 0.8799999999999999}. Best is trial 22 with value: 12.204891392871504.\n"
     ]
    },
    {
     "name": "stderr",
     "output_type": "stream",
     "text": [
      "Best trial: 22. Best value: 12.2049:  38%|███▊      | 95/250 [12:19<20:13,  7.83s/it]"
     ]
    },
    {
     "name": "stdout",
     "output_type": "stream",
     "text": [
      "1873\n",
      "[I 2024-02-15 06:41:34,248] Trial 94 finished with value: 11.701832196931592 and parameters: {'thres_for_max': 0.3, 'thres_for_mean': 0.81}. Best is trial 22 with value: 12.204891392871504.\n"
     ]
    },
    {
     "name": "stderr",
     "output_type": "stream",
     "text": [
      "Best trial: 22. Best value: 12.2049:  38%|███▊      | 96/250 [12:27<20:01,  7.80s/it]"
     ]
    },
    {
     "name": "stdout",
     "output_type": "stream",
     "text": [
      "1859\n",
      "[I 2024-02-15 06:41:41,991] Trial 95 finished with value: 8.709086779569837 and parameters: {'thres_for_max': 0.4, 'thres_for_mean': 0.8400000000000001}. Best is trial 22 with value: 12.204891392871504.\n"
     ]
    },
    {
     "name": "stderr",
     "output_type": "stream",
     "text": [
      "Best trial: 22. Best value: 12.2049:  39%|███▉      | 97/250 [12:35<19:48,  7.76s/it]"
     ]
    },
    {
     "name": "stdout",
     "output_type": "stream",
     "text": [
      "1863\n",
      "[I 2024-02-15 06:41:49,671] Trial 96 finished with value: 10.573235408370913 and parameters: {'thres_for_max': 0.38, 'thres_for_mean': 0.8899999999999999}. Best is trial 22 with value: 12.204891392871504.\n"
     ]
    },
    {
     "name": "stderr",
     "output_type": "stream",
     "text": [
      "Best trial: 22. Best value: 12.2049:  39%|███▉      | 98/250 [12:43<19:41,  7.77s/it]"
     ]
    },
    {
     "name": "stdout",
     "output_type": "stream",
     "text": [
      "1867\n",
      "[I 2024-02-15 06:41:57,458] Trial 97 finished with value: 12.204891392871504 and parameters: {'thres_for_max': 0.35, 'thres_for_mean': 0.8600000000000001}. Best is trial 22 with value: 12.204891392871504.\n"
     ]
    },
    {
     "name": "stderr",
     "output_type": "stream",
     "text": [
      "Best trial: 22. Best value: 12.2049:  40%|███▉      | 99/250 [12:51<19:36,  7.79s/it]"
     ]
    },
    {
     "name": "stdout",
     "output_type": "stream",
     "text": [
      "1871\n",
      "[I 2024-02-15 06:42:05,294] Trial 98 finished with value: 11.678507547831783 and parameters: {'thres_for_max': 0.32, 'thres_for_mean': 0.8600000000000001}. Best is trial 22 with value: 12.204891392871504.\n"
     ]
    },
    {
     "name": "stderr",
     "output_type": "stream",
     "text": [
      "Best trial: 22. Best value: 12.2049:  40%|████      | 100/250 [12:58<19:30,  7.80s/it]"
     ]
    },
    {
     "name": "stdout",
     "output_type": "stream",
     "text": [
      "1867\n",
      "[I 2024-02-15 06:42:13,125] Trial 99 finished with value: 11.961872147442064 and parameters: {'thres_for_max': 0.35, 'thres_for_mean': 0.79}. Best is trial 22 with value: 12.204891392871504.\n"
     ]
    },
    {
     "name": "stderr",
     "output_type": "stream",
     "text": [
      "Best trial: 22. Best value: 12.2049:  40%|████      | 101/250 [13:06<19:26,  7.83s/it]"
     ]
    },
    {
     "name": "stdout",
     "output_type": "stream",
     "text": [
      "1864\n",
      "[I 2024-02-15 06:42:21,020] Trial 100 finished with value: 10.727288458368523 and parameters: {'thres_for_max': 0.37, 'thres_for_mean': 0.8200000000000001}. Best is trial 22 with value: 12.204891392871504.\n"
     ]
    },
    {
     "name": "stderr",
     "output_type": "stream",
     "text": [
      "Best trial: 22. Best value: 12.2049:  41%|████      | 102/250 [13:14<19:16,  7.82s/it]"
     ]
    },
    {
     "name": "stdout",
     "output_type": "stream",
     "text": [
      "1873\n",
      "[I 2024-02-15 06:42:28,805] Trial 101 finished with value: 11.856069805157933 and parameters: {'thres_for_max': 0.31, 'thres_for_mean': 0.8500000000000001}. Best is trial 22 with value: 12.204891392871504.\n"
     ]
    },
    {
     "name": "stderr",
     "output_type": "stream",
     "text": [
      "Best trial: 22. Best value: 12.2049:  41%|████      | 103/250 [13:22<19:05,  7.79s/it]"
     ]
    },
    {
     "name": "stdout",
     "output_type": "stream",
     "text": [
      "1867\n",
      "[I 2024-02-15 06:42:36,531] Trial 102 finished with value: 12.152144563604393 and parameters: {'thres_for_max': 0.33999999999999997, 'thres_for_mean': 0.8700000000000001}. Best is trial 22 with value: 12.204891392871504.\n"
     ]
    },
    {
     "name": "stderr",
     "output_type": "stream",
     "text": [
      "Best trial: 22. Best value: 12.2049:  42%|████▏     | 104/250 [13:29<18:54,  7.77s/it]"
     ]
    },
    {
     "name": "stdout",
     "output_type": "stream",
     "text": [
      "1865\n",
      "[I 2024-02-15 06:42:44,264] Trial 103 finished with value: 11.220817381165283 and parameters: {'thres_for_max': 0.36, 'thres_for_mean': 0.8999999999999999}. Best is trial 22 with value: 12.204891392871504.\n"
     ]
    },
    {
     "name": "stderr",
     "output_type": "stream",
     "text": [
      "Best trial: 22. Best value: 12.2049:  42%|████▏     | 105/250 [13:37<18:46,  7.77s/it]"
     ]
    },
    {
     "name": "stdout",
     "output_type": "stream",
     "text": [
      "1869\n",
      "[I 2024-02-15 06:42:52,020] Trial 104 finished with value: 11.597449839141037 and parameters: {'thres_for_max': 0.32999999999999996, 'thres_for_mean': 0.8799999999999999}. Best is trial 22 with value: 12.204891392871504.\n"
     ]
    },
    {
     "name": "stderr",
     "output_type": "stream",
     "text": [
      "Best trial: 22. Best value: 12.2049:  42%|████▏     | 106/250 [13:45<18:39,  7.77s/it]"
     ]
    },
    {
     "name": "stdout",
     "output_type": "stream",
     "text": [
      "1863\n",
      "[I 2024-02-15 06:42:59,802] Trial 105 finished with value: 10.537290871476749 and parameters: {'thres_for_max': 0.38, 'thres_for_mean': 0.8400000000000001}. Best is trial 22 with value: 12.204891392871504.\n"
     ]
    },
    {
     "name": "stderr",
     "output_type": "stream",
     "text": [
      "Best trial: 22. Best value: 12.2049:  43%|████▎     | 107/250 [13:53<18:34,  7.80s/it]"
     ]
    },
    {
     "name": "stdout",
     "output_type": "stream",
     "text": [
      "1867\n",
      "[I 2024-02-15 06:43:07,656] Trial 106 finished with value: 12.204891392871504 and parameters: {'thres_for_max': 0.35, 'thres_for_mean': 0.8600000000000001}. Best is trial 22 with value: 12.204891392871504.\n"
     ]
    },
    {
     "name": "stderr",
     "output_type": "stream",
     "text": [
      "Best trial: 22. Best value: 12.2049:  43%|████▎     | 108/250 [14:01<18:28,  7.81s/it]"
     ]
    },
    {
     "name": "stdout",
     "output_type": "stream",
     "text": [
      "1859\n",
      "[I 2024-02-15 06:43:15,495] Trial 107 finished with value: 8.72792658873816 and parameters: {'thres_for_max': 0.4, 'thres_for_mean': 0.8300000000000001}. Best is trial 22 with value: 12.204891392871504.\n"
     ]
    },
    {
     "name": "stderr",
     "output_type": "stream",
     "text": [
      "Best trial: 22. Best value: 12.2049:  44%|████▎     | 109/250 [14:09<18:24,  7.83s/it]"
     ]
    },
    {
     "name": "stdout",
     "output_type": "stream",
     "text": [
      "1864\n",
      "[I 2024-02-15 06:43:23,378] Trial 108 finished with value: 10.73743661625823 and parameters: {'thres_for_max': 0.37, 'thres_for_mean': 0.63}. Best is trial 22 with value: 12.204891392871504.\n"
     ]
    },
    {
     "name": "stderr",
     "output_type": "stream",
     "text": [
      "Best trial: 22. Best value: 12.2049:  44%|████▍     | 110/250 [14:16<18:15,  7.83s/it]"
     ]
    },
    {
     "name": "stdout",
     "output_type": "stream",
     "text": [
      "1867\n",
      "[I 2024-02-15 06:43:31,200] Trial 109 finished with value: 11.992885309300563 and parameters: {'thres_for_max': 0.35, 'thres_for_mean': 0.8}. Best is trial 22 with value: 12.204891392871504.\n"
     ]
    },
    {
     "name": "stderr",
     "output_type": "stream",
     "text": [
      "Best trial: 22. Best value: 12.2049:  44%|████▍     | 111/250 [14:24<18:04,  7.80s/it]"
     ]
    },
    {
     "name": "stdout",
     "output_type": "stream",
     "text": [
      "1873\n",
      "[I 2024-02-15 06:43:38,933] Trial 110 finished with value: 11.967191827246731 and parameters: {'thres_for_max': 0.31, 'thres_for_mean': 0.8600000000000001}. Best is trial 22 with value: 12.204891392871504.\n"
     ]
    },
    {
     "name": "stderr",
     "output_type": "stream",
     "text": [
      "Best trial: 22. Best value: 12.2049:  45%|████▍     | 112/250 [14:32<17:53,  7.78s/it]"
     ]
    },
    {
     "name": "stdout",
     "output_type": "stream",
     "text": [
      "1867\n",
      "[I 2024-02-15 06:43:46,659] Trial 111 finished with value: 11.851758416016914 and parameters: {'thres_for_max': 0.33999999999999997, 'thres_for_mean': 0.8899999999999999}. Best is trial 22 with value: 12.204891392871504.\n"
     ]
    },
    {
     "name": "stderr",
     "output_type": "stream",
     "text": [
      "Best trial: 22. Best value: 12.2049:  45%|████▌     | 113/250 [14:40<17:46,  7.79s/it]"
     ]
    },
    {
     "name": "stdout",
     "output_type": "stream",
     "text": [
      "1869\n",
      "[I 2024-02-15 06:43:54,471] Trial 112 finished with value: 11.72251149277848 and parameters: {'thres_for_max': 0.32999999999999996, 'thres_for_mean': 0.8500000000000001}. Best is trial 22 with value: 12.204891392871504.\n"
     ]
    },
    {
     "name": "stderr",
     "output_type": "stream",
     "text": [
      "Best trial: 22. Best value: 12.2049:  46%|████▌     | 114/250 [14:48<17:40,  7.80s/it]"
     ]
    },
    {
     "name": "stdout",
     "output_type": "stream",
     "text": [
      "1867\n",
      "[I 2024-02-15 06:44:02,287] Trial 113 finished with value: 12.17244129209514 and parameters: {'thres_for_max': 0.35, 'thres_for_mean': 0.8700000000000001}. Best is trial 22 with value: 12.204891392871504.\n"
     ]
    },
    {
     "name": "stderr",
     "output_type": "stream",
     "text": [
      "Best trial: 22. Best value: 12.2049:  46%|████▌     | 115/250 [14:56<17:42,  7.87s/it]"
     ]
    },
    {
     "name": "stdout",
     "output_type": "stream",
     "text": [
      "1865\n",
      "[I 2024-02-15 06:44:10,338] Trial 114 finished with value: 11.334924258183202 and parameters: {'thres_for_max': 0.36, 'thres_for_mean': 0.49}. Best is trial 22 with value: 12.204891392871504.\n"
     ]
    },
    {
     "name": "stderr",
     "output_type": "stream",
     "text": [
      "Best trial: 22. Best value: 12.2049:  46%|████▋     | 116/250 [15:03<17:31,  7.85s/it]"
     ]
    },
    {
     "name": "stdout",
     "output_type": "stream",
     "text": [
      "1861\n",
      "[I 2024-02-15 06:44:18,136] Trial 115 finished with value: 10.291643151996714 and parameters: {'thres_for_max': 0.39, 'thres_for_mean': 0.8700000000000001}. Best is trial 22 with value: 12.204891392871504.\n"
     ]
    },
    {
     "name": "stderr",
     "output_type": "stream",
     "text": [
      "Best trial: 22. Best value: 12.2049:  47%|████▋     | 117/250 [15:11<17:27,  7.87s/it]"
     ]
    },
    {
     "name": "stdout",
     "output_type": "stream",
     "text": [
      "1867\n",
      "[I 2024-02-15 06:44:26,061] Trial 116 finished with value: 12.091562198309573 and parameters: {'thres_for_max': 0.35, 'thres_for_mean': 0.8500000000000001}. Best is trial 22 with value: 12.204891392871504.\n"
     ]
    },
    {
     "name": "stderr",
     "output_type": "stream",
     "text": [
      "Best trial: 22. Best value: 12.2049:  47%|████▋     | 118/250 [15:19<17:15,  7.85s/it]"
     ]
    },
    {
     "name": "stdout",
     "output_type": "stream",
     "text": [
      "1864\n",
      "[I 2024-02-15 06:44:33,849] Trial 117 finished with value: 10.727288458368523 and parameters: {'thres_for_max': 0.37, 'thres_for_mean': 0.8200000000000001}. Best is trial 22 with value: 12.204891392871504.\n"
     ]
    },
    {
     "name": "stderr",
     "output_type": "stream",
     "text": [
      "Best trial: 22. Best value: 12.2049:  48%|████▊     | 119/250 [15:27<17:04,  7.82s/it]"
     ]
    },
    {
     "name": "stdout",
     "output_type": "stream",
     "text": [
      "1871\n",
      "[I 2024-02-15 06:44:41,609] Trial 118 finished with value: 11.484396378132821 and parameters: {'thres_for_max': 0.32, 'thres_for_mean': 0.8999999999999999}. Best is trial 22 with value: 12.204891392871504.\n"
     ]
    },
    {
     "name": "stderr",
     "output_type": "stream",
     "text": [
      "Best trial: 22. Best value: 12.2049:  48%|████▊     | 120/250 [15:35<16:57,  7.83s/it]"
     ]
    },
    {
     "name": "stdout",
     "output_type": "stream",
     "text": [
      "1848\n",
      "[I 2024-02-15 06:44:49,444] Trial 119 finished with value: 8.511522980223708 and parameters: {'thres_for_max': 0.42, 'thres_for_mean': 0.45999999999999996}. Best is trial 22 with value: 12.204891392871504.\n"
     ]
    },
    {
     "name": "stderr",
     "output_type": "stream",
     "text": [
      "Best trial: 22. Best value: 12.2049:  48%|████▊     | 121/250 [15:42<16:49,  7.83s/it]"
     ]
    },
    {
     "name": "stdout",
     "output_type": "stream",
     "text": [
      "1863\n",
      "[I 2024-02-15 06:44:57,273] Trial 120 finished with value: 10.841073287798636 and parameters: {'thres_for_max': 0.38, 'thres_for_mean': 0.8700000000000001}. Best is trial 22 with value: 12.204891392871504.\n"
     ]
    },
    {
     "name": "stderr",
     "output_type": "stream",
     "text": [
      "Best trial: 22. Best value: 12.2049:  49%|████▉     | 122/250 [15:50<16:39,  7.81s/it]"
     ]
    },
    {
     "name": "stdout",
     "output_type": "stream",
     "text": [
      "1867\n",
      "[I 2024-02-15 06:45:05,051] Trial 121 finished with value: 11.942616554892641 and parameters: {'thres_for_max': 0.33999999999999997, 'thres_for_mean': 0.8799999999999999}. Best is trial 22 with value: 12.204891392871504.\n"
     ]
    },
    {
     "name": "stderr",
     "output_type": "stream",
     "text": [
      "Best trial: 22. Best value: 12.2049:  49%|████▉     | 123/250 [15:58<16:31,  7.81s/it]"
     ]
    },
    {
     "name": "stdout",
     "output_type": "stream",
     "text": [
      "1867\n",
      "[I 2024-02-15 06:45:12,848] Trial 122 finished with value: 11.831231700057952 and parameters: {'thres_for_max': 0.35, 'thres_for_mean': 0.8400000000000001}. Best is trial 22 with value: 12.204891392871504.\n"
     ]
    },
    {
     "name": "stderr",
     "output_type": "stream",
     "text": [
      "Best trial: 22. Best value: 12.2049:  50%|████▉     | 124/250 [16:06<16:24,  7.82s/it]"
     ]
    },
    {
     "name": "stdout",
     "output_type": "stream",
     "text": [
      "1871\n",
      "[I 2024-02-15 06:45:20,687] Trial 123 finished with value: 11.678507547831783 and parameters: {'thres_for_max': 0.32, 'thres_for_mean': 0.8600000000000001}. Best is trial 22 with value: 12.204891392871504.\n"
     ]
    },
    {
     "name": "stderr",
     "output_type": "stream",
     "text": [
      "Best trial: 22. Best value: 12.2049:  50%|█████     | 125/250 [16:14<16:14,  7.79s/it]"
     ]
    },
    {
     "name": "stdout",
     "output_type": "stream",
     "text": [
      "1869\n",
      "[I 2024-02-15 06:45:28,424] Trial 124 finished with value: 11.597449839141037 and parameters: {'thres_for_max': 0.32999999999999996, 'thres_for_mean': 0.8799999999999999}. Best is trial 22 with value: 12.204891392871504.\n"
     ]
    },
    {
     "name": "stderr",
     "output_type": "stream",
     "text": [
      "Best trial: 22. Best value: 12.2049:  50%|█████     | 126/250 [16:21<16:04,  7.78s/it]"
     ]
    },
    {
     "name": "stdout",
     "output_type": "stream",
     "text": [
      "1865\n",
      "[I 2024-02-15 06:45:36,172] Trial 125 finished with value: 11.0851665967698 and parameters: {'thres_for_max': 0.36, 'thres_for_mean': 0.8300000000000001}. Best is trial 22 with value: 12.204891392871504.\n"
     ]
    },
    {
     "name": "stderr",
     "output_type": "stream",
     "text": [
      "Best trial: 22. Best value: 12.2049:  51%|█████     | 127/250 [16:29<15:54,  7.76s/it]"
     ]
    },
    {
     "name": "stdout",
     "output_type": "stream",
     "text": [
      "1863\n",
      "[I 2024-02-15 06:45:43,898] Trial 126 finished with value: 10.573235408370913 and parameters: {'thres_for_max': 0.38, 'thres_for_mean': 0.8899999999999999}. Best is trial 22 with value: 12.204891392871504.\n"
     ]
    },
    {
     "name": "stderr",
     "output_type": "stream",
     "text": [
      "Best trial: 22. Best value: 12.2049:  51%|█████     | 128/250 [16:37<15:47,  7.76s/it]"
     ]
    },
    {
     "name": "stdout",
     "output_type": "stream",
     "text": [
      "1873\n",
      "[I 2024-02-15 06:45:51,661] Trial 127 finished with value: 11.856069805157933 and parameters: {'thres_for_max': 0.31, 'thres_for_mean': 0.8500000000000001}. Best is trial 22 with value: 12.204891392871504.\n"
     ]
    },
    {
     "name": "stderr",
     "output_type": "stream",
     "text": [
      "Best trial: 22. Best value: 12.2049:  52%|█████▏    | 129/250 [16:45<15:40,  7.77s/it]"
     ]
    },
    {
     "name": "stdout",
     "output_type": "stream",
     "text": [
      "1873\n",
      "[I 2024-02-15 06:45:59,442] Trial 128 finished with value: 11.960449679066251 and parameters: {'thres_for_max': 0.3, 'thres_for_mean': 0.8700000000000001}. Best is trial 22 with value: 12.204891392871504.\n"
     ]
    },
    {
     "name": "stderr",
     "output_type": "stream",
     "text": [
      "Best trial: 22. Best value: 12.2049:  52%|█████▏    | 130/250 [16:52<15:34,  7.79s/it]"
     ]
    },
    {
     "name": "stdout",
     "output_type": "stream",
     "text": [
      "1867\n",
      "[I 2024-02-15 06:46:07,271] Trial 129 finished with value: 12.184540556016689 and parameters: {'thres_for_max': 0.33999999999999997, 'thres_for_mean': 0.8600000000000001}. Best is trial 22 with value: 12.204891392871504.\n"
     ]
    },
    {
     "name": "stderr",
     "output_type": "stream",
     "text": [
      "Best trial: 22. Best value: 12.2049:  52%|█████▏    | 131/250 [17:00<15:23,  7.76s/it]"
     ]
    },
    {
     "name": "stdout",
     "output_type": "stream",
     "text": [
      "1867\n",
      "[I 2024-02-15 06:46:14,975] Trial 130 finished with value: 11.909239974179497 and parameters: {'thres_for_max': 0.35, 'thres_for_mean': 0.81}. Best is trial 22 with value: 12.204891392871504.\n"
     ]
    },
    {
     "name": "stderr",
     "output_type": "stream",
     "text": [
      "Best trial: 22. Best value: 12.2049:  53%|█████▎    | 132/250 [17:08<15:17,  7.77s/it]"
     ]
    },
    {
     "name": "stdout",
     "output_type": "stream",
     "text": [
      "1867\n",
      "[I 2024-02-15 06:46:22,771] Trial 131 finished with value: 12.184540556016689 and parameters: {'thres_for_max': 0.33999999999999997, 'thres_for_mean': 0.8600000000000001}. Best is trial 22 with value: 12.204891392871504.\n"
     ]
    },
    {
     "name": "stderr",
     "output_type": "stream",
     "text": [
      "Best trial: 22. Best value: 12.2049:  53%|█████▎    | 133/250 [17:16<15:09,  7.77s/it]"
     ]
    },
    {
     "name": "stdout",
     "output_type": "stream",
     "text": [
      "1869\n",
      "[I 2024-02-15 06:46:30,544] Trial 132 finished with value: 11.470122784693583 and parameters: {'thres_for_max': 0.32999999999999996, 'thres_for_mean': 0.8400000000000001}. Best is trial 22 with value: 12.204891392871504.\n"
     ]
    },
    {
     "name": "stderr",
     "output_type": "stream",
     "text": [
      "Best trial: 22. Best value: 12.2049:  54%|█████▎    | 134/250 [17:23<14:59,  7.75s/it]"
     ]
    },
    {
     "name": "stdout",
     "output_type": "stream",
     "text": [
      "1865\n",
      "[I 2024-02-15 06:46:38,245] Trial 133 finished with value: 11.410473495001938 and parameters: {'thres_for_max': 0.36, 'thres_for_mean': 0.8600000000000001}. Best is trial 22 with value: 12.204891392871504.\n"
     ]
    },
    {
     "name": "stderr",
     "output_type": "stream",
     "text": [
      "Best trial: 22. Best value: 12.2049:  54%|█████▍    | 135/250 [17:31<14:51,  7.76s/it]"
     ]
    },
    {
     "name": "stdout",
     "output_type": "stream",
     "text": [
      "1867\n",
      "[I 2024-02-15 06:46:46,011] Trial 134 finished with value: 11.851758416016914 and parameters: {'thres_for_max': 0.33999999999999997, 'thres_for_mean': 0.8899999999999999}. Best is trial 22 with value: 12.204891392871504.\n"
     ]
    },
    {
     "name": "stderr",
     "output_type": "stream",
     "text": [
      "Best trial: 22. Best value: 12.2049:  54%|█████▍    | 136/250 [17:39<14:47,  7.78s/it]"
     ]
    },
    {
     "name": "stdout",
     "output_type": "stream",
     "text": [
      "1864\n",
      "[I 2024-02-15 06:46:53,854] Trial 135 finished with value: 10.948778362811014 and parameters: {'thres_for_max': 0.37, 'thres_for_mean': 0.8500000000000001}. Best is trial 22 with value: 12.204891392871504.\n"
     ]
    },
    {
     "name": "stderr",
     "output_type": "stream",
     "text": [
      "Best trial: 22. Best value: 12.2049:  55%|█████▍    | 137/250 [17:47<14:37,  7.76s/it]"
     ]
    },
    {
     "name": "stdout",
     "output_type": "stream",
     "text": [
      "1861\n",
      "[I 2024-02-15 06:47:01,575] Trial 136 finished with value: 10.291643151996714 and parameters: {'thres_for_max': 0.39, 'thres_for_mean': 0.8700000000000001}. Best is trial 22 with value: 12.204891392871504.\n"
     ]
    },
    {
     "name": "stderr",
     "output_type": "stream",
     "text": [
      "Best trial: 22. Best value: 12.2049:  55%|█████▌    | 138/250 [17:55<14:35,  7.81s/it]"
     ]
    },
    {
     "name": "stdout",
     "output_type": "stream",
     "text": [
      "1871\n",
      "[I 2024-02-15 06:47:09,510] Trial 137 finished with value: 11.345559132673559 and parameters: {'thres_for_max': 0.32, 'thres_for_mean': 0.8300000000000001}. Best is trial 22 with value: 12.204891392871504.\n"
     ]
    },
    {
     "name": "stderr",
     "output_type": "stream",
     "text": [
      "Best trial: 22. Best value: 12.2049:  56%|█████▌    | 139/250 [18:03<14:28,  7.83s/it]"
     ]
    },
    {
     "name": "stdout",
     "output_type": "stream",
     "text": [
      "1865\n",
      "[I 2024-02-15 06:47:17,369] Trial 138 finished with value: 11.220817381165283 and parameters: {'thres_for_max': 0.36, 'thres_for_mean': 0.8999999999999999}. Best is trial 22 with value: 12.204891392871504.\n"
     ]
    },
    {
     "name": "stderr",
     "output_type": "stream",
     "text": [
      "Best trial: 22. Best value: 12.2049:  56%|█████▌    | 140/250 [18:11<14:24,  7.86s/it]"
     ]
    },
    {
     "name": "stdout",
     "output_type": "stream",
     "text": [
      "1853\n",
      "[I 2024-02-15 06:47:25,288] Trial 139 finished with value: 8.74993640694805 and parameters: {'thres_for_max': 0.41, 'thres_for_mean': 0.8600000000000001}. Best is trial 22 with value: 12.204891392871504.\n"
     ]
    },
    {
     "name": "stderr",
     "output_type": "stream",
     "text": [
      "Best trial: 22. Best value: 12.2049:  56%|█████▋    | 141/250 [18:18<14:16,  7.86s/it]"
     ]
    },
    {
     "name": "stdout",
     "output_type": "stream",
     "text": [
      "1867\n",
      "[I 2024-02-15 06:47:33,155] Trial 140 finished with value: 11.942616554892641 and parameters: {'thres_for_max': 0.33999999999999997, 'thres_for_mean': 0.8799999999999999}. Best is trial 22 with value: 12.204891392871504.\n"
     ]
    },
    {
     "name": "stderr",
     "output_type": "stream",
     "text": [
      "Best trial: 22. Best value: 12.2049:  57%|█████▋    | 142/250 [18:26<14:08,  7.85s/it]"
     ]
    },
    {
     "name": "stdout",
     "output_type": "stream",
     "text": [
      "1867\n",
      "[I 2024-02-15 06:47:40,994] Trial 141 finished with value: 12.152144563604393 and parameters: {'thres_for_max': 0.33999999999999997, 'thres_for_mean': 0.8700000000000001}. Best is trial 22 with value: 12.204891392871504.\n"
     ]
    },
    {
     "name": "stderr",
     "output_type": "stream",
     "text": [
      "Best trial: 22. Best value: 12.2049:  57%|█████▋    | 143/250 [18:34<13:56,  7.82s/it]"
     ]
    },
    {
     "name": "stdout",
     "output_type": "stream",
     "text": [
      "1864\n",
      "[I 2024-02-15 06:47:48,739] Trial 142 finished with value: 10.713051921538154 and parameters: {'thres_for_max': 0.37, 'thres_for_mean': 0.8400000000000001}. Best is trial 22 with value: 12.204891392871504.\n"
     ]
    },
    {
     "name": "stderr",
     "output_type": "stream",
     "text": [
      "Best trial: 22. Best value: 12.2049:  58%|█████▊    | 144/250 [18:42<13:52,  7.85s/it]"
     ]
    },
    {
     "name": "stdout",
     "output_type": "stream",
     "text": [
      "1873\n",
      "[I 2024-02-15 06:47:56,657] Trial 143 finished with value: 11.856069805157933 and parameters: {'thres_for_max': 0.31, 'thres_for_mean': 0.8500000000000001}. Best is trial 22 with value: 12.204891392871504.\n"
     ]
    },
    {
     "name": "stderr",
     "output_type": "stream",
     "text": [
      "Best trial: 22. Best value: 12.2049:  58%|█████▊    | 145/250 [18:50<13:49,  7.90s/it]"
     ]
    },
    {
     "name": "stdout",
     "output_type": "stream",
     "text": [
      "1867\n",
      "[I 2024-02-15 06:48:04,665] Trial 144 finished with value: 11.87155343420887 and parameters: {'thres_for_max': 0.35, 'thres_for_mean': 0.8899999999999999}. Best is trial 22 with value: 12.204891392871504.\n"
     ]
    },
    {
     "name": "stderr",
     "output_type": "stream",
     "text": [
      "Best trial: 22. Best value: 12.2049:  58%|█████▊    | 146/250 [18:58<13:39,  7.88s/it]"
     ]
    },
    {
     "name": "stdout",
     "output_type": "stream",
     "text": [
      "1869\n",
      "[I 2024-02-15 06:48:12,505] Trial 145 finished with value: 11.485486059131656 and parameters: {'thres_for_max': 0.32999999999999996, 'thres_for_mean': 0.8200000000000001}. Best is trial 22 with value: 12.204891392871504.\n"
     ]
    },
    {
     "name": "stderr",
     "output_type": "stream",
     "text": [
      "Best trial: 22. Best value: 12.2049:  59%|█████▉    | 147/250 [19:06<13:34,  7.91s/it]"
     ]
    },
    {
     "name": "stdout",
     "output_type": "stream",
     "text": [
      "1867\n",
      "[I 2024-02-15 06:48:20,486] Trial 146 finished with value: 11.962563325967913 and parameters: {'thres_for_max': 0.35, 'thres_for_mean': 0.8799999999999999}. Best is trial 22 with value: 12.204891392871504.\n"
     ]
    },
    {
     "name": "stderr",
     "output_type": "stream",
     "text": [
      "Best trial: 22. Best value: 12.2049:  59%|█████▉    | 148/250 [19:14<13:31,  7.96s/it]"
     ]
    },
    {
     "name": "stdout",
     "output_type": "stream",
     "text": [
      "1869\n",
      "[I 2024-02-15 06:48:28,560] Trial 147 finished with value: 11.832381728231207 and parameters: {'thres_for_max': 0.32999999999999996, 'thres_for_mean': 0.8600000000000001}. Best is trial 22 with value: 12.204891392871504.\n"
     ]
    },
    {
     "name": "stderr",
     "output_type": "stream",
     "text": [
      "Best trial: 22. Best value: 12.2049:  60%|█████▉    | 149/250 [19:22<13:19,  7.92s/it]"
     ]
    },
    {
     "name": "stdout",
     "output_type": "stream",
     "text": [
      "1863\n",
      "[I 2024-02-15 06:48:36,384] Trial 148 finished with value: 10.537290871476749 and parameters: {'thres_for_max': 0.38, 'thres_for_mean': 0.8400000000000001}. Best is trial 22 with value: 12.204891392871504.\n"
     ]
    },
    {
     "name": "stderr",
     "output_type": "stream",
     "text": [
      "Best trial: 22. Best value: 12.2049:  60%|██████    | 150/250 [19:30<13:13,  7.94s/it]"
     ]
    },
    {
     "name": "stdout",
     "output_type": "stream",
     "text": [
      "1873\n",
      "[I 2024-02-15 06:48:44,360] Trial 149 finished with value: 11.793007276335576 and parameters: {'thres_for_max': 0.3, 'thres_for_mean': 0.8999999999999999}. Best is trial 22 with value: 12.204891392871504.\n"
     ]
    },
    {
     "name": "stderr",
     "output_type": "stream",
     "text": [
      "Best trial: 22. Best value: 12.2049:  60%|██████    | 151/250 [19:38<13:07,  7.96s/it]"
     ]
    },
    {
     "name": "stdout",
     "output_type": "stream",
     "text": [
      "1864\n",
      "[I 2024-02-15 06:48:52,375] Trial 150 finished with value: 11.051284316117279 and parameters: {'thres_for_max': 0.37, 'thres_for_mean': 0.8600000000000001}. Best is trial 22 with value: 12.204891392871504.\n"
     ]
    },
    {
     "name": "stderr",
     "output_type": "stream",
     "text": [
      "Best trial: 22. Best value: 12.2049:  61%|██████    | 152/250 [19:46<12:58,  7.95s/it]"
     ]
    },
    {
     "name": "stdout",
     "output_type": "stream",
     "text": [
      "1867\n",
      "[I 2024-02-15 06:49:00,294] Trial 151 finished with value: 12.152144563604393 and parameters: {'thres_for_max': 0.33999999999999997, 'thres_for_mean': 0.8700000000000001}. Best is trial 22 with value: 12.204891392871504.\n"
     ]
    },
    {
     "name": "stderr",
     "output_type": "stream",
     "text": [
      "Best trial: 22. Best value: 12.2049:  61%|██████    | 153/250 [19:54<12:59,  8.03s/it]"
     ]
    },
    {
     "name": "stdout",
     "output_type": "stream",
     "text": [
      "1871\n",
      "[I 2024-02-15 06:49:08,532] Trial 152 finished with value: 11.44663082994161 and parameters: {'thres_for_max': 0.32, 'thres_for_mean': 0.8799999999999999}. Best is trial 22 with value: 12.204891392871504.\n"
     ]
    },
    {
     "name": "stderr",
     "output_type": "stream",
     "text": [
      "Best trial: 22. Best value: 12.2049:  62%|██████▏   | 154/250 [20:02<12:52,  8.04s/it]"
     ]
    },
    {
     "name": "stdout",
     "output_type": "stream",
     "text": [
      "482\n",
      "[I 2024-02-15 06:49:16,600] Trial 153 finished with value: 3.2162054363779498 and parameters: {'thres_for_max': 0.8600000000000001, 'thres_for_mean': 0.8500000000000001}. Best is trial 22 with value: 12.204891392871504.\n"
     ]
    },
    {
     "name": "stderr",
     "output_type": "stream",
     "text": [
      "Best trial: 22. Best value: 12.2049:  62%|██████▏   | 155/250 [20:10<12:38,  7.99s/it]"
     ]
    },
    {
     "name": "stdout",
     "output_type": "stream",
     "text": [
      "1865\n",
      "[I 2024-02-15 06:49:24,457] Trial 154 finished with value: 11.380135575318759 and parameters: {'thres_for_max': 0.36, 'thres_for_mean': 0.8700000000000001}. Best is trial 22 with value: 12.204891392871504.\n"
     ]
    },
    {
     "name": "stderr",
     "output_type": "stream",
     "text": [
      "Best trial: 22. Best value: 12.2049:  62%|██████▏   | 156/250 [20:17<12:23,  7.91s/it]"
     ]
    },
    {
     "name": "stdout",
     "output_type": "stream",
     "text": [
      "1773\n",
      "[I 2024-02-15 06:49:32,196] Trial 155 finished with value: 7.2569007335785445 and parameters: {'thres_for_max': 0.51, 'thres_for_mean': 0.8300000000000001}. Best is trial 22 with value: 12.204891392871504.\n"
     ]
    },
    {
     "name": "stderr",
     "output_type": "stream",
     "text": [
      "Best trial: 22. Best value: 12.2049:  63%|██████▎   | 157/250 [20:25<12:13,  7.89s/it]"
     ]
    },
    {
     "name": "stdout",
     "output_type": "stream",
     "text": [
      "1867\n",
      "[I 2024-02-15 06:49:40,017] Trial 156 finished with value: 11.962563325967913 and parameters: {'thres_for_max': 0.35, 'thres_for_mean': 0.8799999999999999}. Best is trial 22 with value: 12.204891392871504.\n"
     ]
    },
    {
     "name": "stderr",
     "output_type": "stream",
     "text": [
      "Best trial: 22. Best value: 12.2049:  63%|██████▎   | 158/250 [20:33<11:59,  7.83s/it]"
     ]
    },
    {
     "name": "stdout",
     "output_type": "stream",
     "text": [
      "1553\n",
      "[I 2024-02-15 06:49:47,703] Trial 157 finished with value: 7.433801104469947 and parameters: {'thres_for_max': 0.61, 'thres_for_mean': 0.7}. Best is trial 22 with value: 12.204891392871504.\n"
     ]
    },
    {
     "name": "stderr",
     "output_type": "stream",
     "text": [
      "Best trial: 22. Best value: 12.2049:  64%|██████▎   | 159/250 [20:41<11:52,  7.84s/it]"
     ]
    },
    {
     "name": "stdout",
     "output_type": "stream",
     "text": [
      "1859\n",
      "[I 2024-02-15 06:49:55,560] Trial 158 finished with value: 8.662107930483845 and parameters: {'thres_for_max': 0.4, 'thres_for_mean': 0.38}. Best is trial 22 with value: 12.204891392871504.\n"
     ]
    },
    {
     "name": "stderr",
     "output_type": "stream",
     "text": [
      "Best trial: 22. Best value: 12.2049:  64%|██████▍   | 160/250 [20:49<11:45,  7.83s/it]"
     ]
    },
    {
     "name": "stdout",
     "output_type": "stream",
     "text": [
      "1448\n",
      "[I 2024-02-15 06:50:03,395] Trial 159 finished with value: 7.940914587644762 and parameters: {'thres_for_max': 0.64, 'thres_for_mean': 0.8600000000000001}. Best is trial 22 with value: 12.204891392871504.\n"
     ]
    },
    {
     "name": "stderr",
     "output_type": "stream",
     "text": [
      "Best trial: 22. Best value: 12.2049:  64%|██████▍   | 161/250 [20:57<11:39,  7.86s/it]"
     ]
    },
    {
     "name": "stdout",
     "output_type": "stream",
     "text": [
      "1869\n",
      "[I 2024-02-15 06:50:11,312] Trial 160 finished with value: 11.509217691416481 and parameters: {'thres_for_max': 0.32999999999999996, 'thres_for_mean': 0.8899999999999999}. Best is trial 22 with value: 12.204891392871504.\n"
     ]
    },
    {
     "name": "stderr",
     "output_type": "stream",
     "text": [
      "Best trial: 22. Best value: 12.2049:  65%|██████▍   | 162/250 [21:04<11:33,  7.88s/it]"
     ]
    },
    {
     "name": "stdout",
     "output_type": "stream",
     "text": [
      "1867\n",
      "[I 2024-02-15 06:50:19,242] Trial 161 finished with value: 12.152144563604393 and parameters: {'thres_for_max': 0.33999999999999997, 'thres_for_mean': 0.8700000000000001}. Best is trial 22 with value: 12.204891392871504.\n"
     ]
    },
    {
     "name": "stderr",
     "output_type": "stream",
     "text": [
      "Best trial: 22. Best value: 12.2049:  65%|██████▌   | 163/250 [21:12<11:25,  7.88s/it]"
     ]
    },
    {
     "name": "stdout",
     "output_type": "stream",
     "text": [
      "1865\n",
      "[I 2024-02-15 06:50:27,110] Trial 162 finished with value: 11.061169127567931 and parameters: {'thres_for_max': 0.36, 'thres_for_mean': 0.8400000000000001}. Best is trial 22 with value: 12.204891392871504.\n"
     ]
    },
    {
     "name": "stderr",
     "output_type": "stream",
     "text": [
      "Best trial: 22. Best value: 12.2049:  66%|██████▌   | 164/250 [21:20<11:16,  7.87s/it]"
     ]
    },
    {
     "name": "stdout",
     "output_type": "stream",
     "text": [
      "1871\n",
      "[I 2024-02-15 06:50:34,959] Trial 163 finished with value: 11.678507547831783 and parameters: {'thres_for_max': 0.32, 'thres_for_mean': 0.8600000000000001}. Best is trial 22 with value: 12.204891392871504.\n"
     ]
    },
    {
     "name": "stderr",
     "output_type": "stream",
     "text": [
      "Best trial: 22. Best value: 12.2049:  66%|██████▌   | 165/250 [21:28<11:06,  7.85s/it]"
     ]
    },
    {
     "name": "stdout",
     "output_type": "stream",
     "text": [
      "1867\n",
      "[I 2024-02-15 06:50:42,751] Trial 164 finished with value: 12.091562198309573 and parameters: {'thres_for_max': 0.35, 'thres_for_mean': 0.8500000000000001}. Best is trial 22 with value: 12.204891392871504.\n"
     ]
    },
    {
     "name": "stderr",
     "output_type": "stream",
     "text": [
      "Best trial: 22. Best value: 12.2049:  66%|██████▋   | 166/250 [21:36<11:06,  7.94s/it]"
     ]
    },
    {
     "name": "stdout",
     "output_type": "stream",
     "text": [
      "1864\n",
      "[I 2024-02-15 06:50:50,908] Trial 165 finished with value: 11.02190140083991 and parameters: {'thres_for_max': 0.37, 'thres_for_mean': 0.8700000000000001}. Best is trial 22 with value: 12.204891392871504.\n"
     ]
    },
    {
     "name": "stderr",
     "output_type": "stream",
     "text": [
      "Best trial: 22. Best value: 12.2049:  67%|██████▋   | 167/250 [21:44<10:57,  7.92s/it]"
     ]
    },
    {
     "name": "stdout",
     "output_type": "stream",
     "text": [
      "1867\n",
      "[I 2024-02-15 06:50:58,784] Trial 166 finished with value: 11.982018494881242 and parameters: {'thres_for_max': 0.33999999999999997, 'thres_for_mean': 0.8999999999999999}. Best is trial 22 with value: 12.204891392871504.\n"
     ]
    },
    {
     "name": "stderr",
     "output_type": "stream",
     "text": [
      "Best trial: 22. Best value: 12.2049:  67%|██████▋   | 168/250 [21:52<10:51,  7.94s/it]"
     ]
    },
    {
     "name": "stdout",
     "output_type": "stream",
     "text": [
      "1871\n",
      "[I 2024-02-15 06:51:06,768] Trial 167 finished with value: 11.359546096974944 and parameters: {'thres_for_max': 0.32, 'thres_for_mean': 0.8899999999999999}. Best is trial 22 with value: 12.204891392871504.\n"
     ]
    },
    {
     "name": "stderr",
     "output_type": "stream",
     "text": [
      "Best trial: 22. Best value: 12.2049:  68%|██████▊   | 169/250 [22:00<10:40,  7.91s/it]"
     ]
    },
    {
     "name": "stdout",
     "output_type": "stream",
     "text": [
      "1863\n",
      "[I 2024-02-15 06:51:14,609] Trial 168 finished with value: 10.707670681166178 and parameters: {'thres_for_max': 0.38, 'thres_for_mean': 0.52}. Best is trial 22 with value: 12.204891392871504.\n"
     ]
    },
    {
     "name": "stderr",
     "output_type": "stream",
     "text": [
      "Best trial: 22. Best value: 12.2049:  68%|██████▊   | 170/250 [22:08<10:31,  7.90s/it]"
     ]
    },
    {
     "name": "stdout",
     "output_type": "stream",
     "text": [
      "1867\n",
      "[I 2024-02-15 06:51:22,484] Trial 169 finished with value: 11.847074677415478 and parameters: {'thres_for_max': 0.35, 'thres_for_mean': 0.8200000000000001}. Best is trial 22 with value: 12.204891392871504.\n"
     ]
    },
    {
     "name": "stderr",
     "output_type": "stream",
     "text": [
      "Best trial: 22. Best value: 12.2049:  68%|██████▊   | 171/250 [22:16<10:23,  7.89s/it]"
     ]
    },
    {
     "name": "stdout",
     "output_type": "stream",
     "text": [
      "1873\n",
      "[I 2024-02-15 06:51:30,339] Trial 170 finished with value: 11.600814914906385 and parameters: {'thres_for_max': 0.31, 'thres_for_mean': 0.8400000000000001}. Best is trial 22 with value: 12.204891392871504.\n"
     ]
    },
    {
     "name": "stderr",
     "output_type": "stream",
     "text": [
      "Best trial: 22. Best value: 12.2049:  69%|██████▉   | 172/250 [22:23<10:12,  7.85s/it]"
     ]
    },
    {
     "name": "stdout",
     "output_type": "stream",
     "text": [
      "1867\n",
      "[I 2024-02-15 06:51:38,103] Trial 171 finished with value: 12.152144563604393 and parameters: {'thres_for_max': 0.33999999999999997, 'thres_for_mean': 0.8700000000000001}. Best is trial 22 with value: 12.204891392871504.\n"
     ]
    },
    {
     "name": "stderr",
     "output_type": "stream",
     "text": [
      "Best trial: 22. Best value: 12.2049:  69%|██████▉   | 173/250 [22:31<10:03,  7.83s/it]"
     ]
    },
    {
     "name": "stdout",
     "output_type": "stream",
     "text": [
      "1865\n",
      "[I 2024-02-15 06:51:45,894] Trial 172 finished with value: 11.183918592095267 and parameters: {'thres_for_max': 0.36, 'thres_for_mean': 0.8799999999999999}. Best is trial 22 with value: 12.204891392871504.\n"
     ]
    },
    {
     "name": "stderr",
     "output_type": "stream",
     "text": [
      "Best trial: 22. Best value: 12.2049:  70%|██████▉   | 174/250 [22:39<10:02,  7.93s/it]"
     ]
    },
    {
     "name": "stdout",
     "output_type": "stream",
     "text": [
      "1869\n",
      "[I 2024-02-15 06:51:54,064] Trial 173 finished with value: 11.832381728231207 and parameters: {'thres_for_max': 0.32999999999999996, 'thres_for_mean': 0.8600000000000001}. Best is trial 22 with value: 12.204891392871504.\n"
     ]
    },
    {
     "name": "stderr",
     "output_type": "stream",
     "text": [
      "Best trial: 22. Best value: 12.2049:  70%|███████   | 175/250 [22:48<10:02,  8.03s/it]"
     ]
    },
    {
     "name": "stdout",
     "output_type": "stream",
     "text": [
      "1867\n",
      "[I 2024-02-15 06:52:02,322] Trial 174 finished with value: 12.071400330276777 and parameters: {'thres_for_max': 0.33999999999999997, 'thres_for_mean': 0.8500000000000001}. Best is trial 22 with value: 12.204891392871504.\n"
     ]
    },
    {
     "name": "stderr",
     "output_type": "stream",
     "text": [
      "Best trial: 22. Best value: 12.2049:  70%|███████   | 176/250 [22:56<09:56,  8.06s/it]"
     ]
    },
    {
     "name": "stdout",
     "output_type": "stream",
     "text": [
      "1867\n",
      "[I 2024-02-15 06:52:10,437] Trial 175 finished with value: 12.17244129209514 and parameters: {'thres_for_max': 0.35, 'thres_for_mean': 0.8700000000000001}. Best is trial 22 with value: 12.204891392871504.\n"
     ]
    },
    {
     "name": "stderr",
     "output_type": "stream",
     "text": [
      "Best trial: 22. Best value: 12.2049:  71%|███████   | 177/250 [23:03<09:41,  7.97s/it]"
     ]
    },
    {
     "name": "stdout",
     "output_type": "stream",
     "text": [
      "1709\n",
      "[I 2024-02-15 06:52:18,201] Trial 176 finished with value: 9.915555424872244 and parameters: {'thres_for_max': 0.55, 'thres_for_mean': 0.8799999999999999}. Best is trial 22 with value: 12.204891392871504.\n"
     ]
    },
    {
     "name": "stderr",
     "output_type": "stream",
     "text": [
      "Best trial: 22. Best value: 12.2049:  71%|███████   | 178/250 [23:12<09:41,  8.07s/it]"
     ]
    },
    {
     "name": "stdout",
     "output_type": "stream",
     "text": [
      "1864\n",
      "[I 2024-02-15 06:52:26,522] Trial 177 finished with value: 11.051284316117279 and parameters: {'thres_for_max': 0.37, 'thres_for_mean': 0.8600000000000001}. Best is trial 22 with value: 12.204891392871504.\n"
     ]
    },
    {
     "name": "stderr",
     "output_type": "stream",
     "text": [
      "Best trial: 22. Best value: 12.2049:  72%|███████▏  | 179/250 [23:20<09:38,  8.14s/it]"
     ]
    },
    {
     "name": "stdout",
     "output_type": "stream",
     "text": [
      "1865\n",
      "[I 2024-02-15 06:52:34,825] Trial 178 finished with value: 11.061169127567931 and parameters: {'thres_for_max': 0.36, 'thres_for_mean': 0.8400000000000001}. Best is trial 22 with value: 12.204891392871504.\n"
     ]
    },
    {
     "name": "stderr",
     "output_type": "stream",
     "text": [
      "Best trial: 22. Best value: 12.2049:  72%|███████▏  | 180/250 [23:28<09:25,  8.07s/it]"
     ]
    },
    {
     "name": "stdout",
     "output_type": "stream",
     "text": [
      "1861\n",
      "[I 2024-02-15 06:52:42,735] Trial 179 finished with value: 10.22333610031511 and parameters: {'thres_for_max': 0.39, 'thres_for_mean': 0.8500000000000001}. Best is trial 22 with value: 12.204891392871504.\n"
     ]
    },
    {
     "name": "stderr",
     "output_type": "stream",
     "text": [
      "Best trial: 22. Best value: 12.2049:  72%|███████▏  | 181/250 [23:36<09:08,  7.95s/it]"
     ]
    },
    {
     "name": "stdout",
     "output_type": "stream",
     "text": [
      "1867\n",
      "[I 2024-02-15 06:52:50,383] Trial 180 finished with value: 11.87155343420887 and parameters: {'thres_for_max': 0.35, 'thres_for_mean': 0.8899999999999999}. Best is trial 22 with value: 12.204891392871504.\n"
     ]
    },
    {
     "name": "stderr",
     "output_type": "stream",
     "text": [
      "Best trial: 22. Best value: 12.2049:  73%|███████▎  | 182/250 [23:43<08:58,  7.93s/it]"
     ]
    },
    {
     "name": "stdout",
     "output_type": "stream",
     "text": [
      "1869\n",
      "[I 2024-02-15 06:52:58,260] Trial 181 finished with value: 11.800922048079544 and parameters: {'thres_for_max': 0.32999999999999996, 'thres_for_mean': 0.8700000000000001}. Best is trial 22 with value: 12.204891392871504.\n"
     ]
    },
    {
     "name": "stderr",
     "output_type": "stream",
     "text": [
      "Best trial: 22. Best value: 12.2049:  73%|███████▎  | 183/250 [23:52<08:53,  7.96s/it]"
     ]
    },
    {
     "name": "stdout",
     "output_type": "stream",
     "text": [
      "1867\n",
      "[I 2024-02-15 06:53:06,313] Trial 182 finished with value: 12.152144563604393 and parameters: {'thres_for_max': 0.33999999999999997, 'thres_for_mean': 0.8700000000000001}. Best is trial 22 with value: 12.204891392871504.\n"
     ]
    },
    {
     "name": "stderr",
     "output_type": "stream",
     "text": [
      "Best trial: 22. Best value: 12.2049:  74%|███████▎  | 184/250 [24:00<08:48,  8.00s/it]"
     ]
    },
    {
     "name": "stdout",
     "output_type": "stream",
     "text": [
      "1865\n",
      "[I 2024-02-15 06:53:14,402] Trial 183 finished with value: 11.183918592095267 and parameters: {'thres_for_max': 0.36, 'thres_for_mean': 0.8799999999999999}. Best is trial 22 with value: 12.204891392871504.\n"
     ]
    },
    {
     "name": "stderr",
     "output_type": "stream",
     "text": [
      "Best trial: 22. Best value: 12.2049:  74%|███████▍  | 185/250 [24:08<08:38,  7.98s/it]"
     ]
    },
    {
     "name": "stdout",
     "output_type": "stream",
     "text": [
      "1867\n",
      "[I 2024-02-15 06:53:22,349] Trial 184 finished with value: 11.856936037292751 and parameters: {'thres_for_max': 0.35, 'thres_for_mean': 0.8300000000000001}. Best is trial 22 with value: 12.204891392871504.\n"
     ]
    },
    {
     "name": "stderr",
     "output_type": "stream",
     "text": [
      "Best trial: 22. Best value: 12.2049:  74%|███████▍  | 186/250 [24:15<08:27,  7.94s/it]"
     ]
    },
    {
     "name": "stdout",
     "output_type": "stream",
     "text": [
      "1869\n",
      "[I 2024-02-15 06:53:30,168] Trial 185 finished with value: 11.832381728231207 and parameters: {'thres_for_max': 0.32999999999999996, 'thres_for_mean': 0.8600000000000001}. Best is trial 22 with value: 12.204891392871504.\n"
     ]
    },
    {
     "name": "stderr",
     "output_type": "stream",
     "text": [
      "Best trial: 22. Best value: 12.2049:  75%|███████▍  | 187/250 [24:23<08:18,  7.91s/it]"
     ]
    },
    {
     "name": "stdout",
     "output_type": "stream",
     "text": [
      "1871\n",
      "[I 2024-02-15 06:53:38,018] Trial 186 finished with value: 11.420999735837482 and parameters: {'thres_for_max': 0.32, 'thres_for_mean': 0.6699999999999999}. Best is trial 22 with value: 12.204891392871504.\n"
     ]
    },
    {
     "name": "stderr",
     "output_type": "stream",
     "text": [
      "Best trial: 22. Best value: 12.2049:  75%|███████▌  | 188/250 [24:31<08:09,  7.90s/it]"
     ]
    },
    {
     "name": "stdout",
     "output_type": "stream",
     "text": [
      "1864\n",
      "[I 2024-02-15 06:53:45,904] Trial 187 finished with value: 10.867598368534406 and parameters: {'thres_for_max': 0.37, 'thres_for_mean': 0.8999999999999999}. Best is trial 22 with value: 12.204891392871504.\n"
     ]
    },
    {
     "name": "stderr",
     "output_type": "stream",
     "text": [
      "Best trial: 22. Best value: 12.2049:  76%|███████▌  | 189/250 [24:40<08:11,  8.06s/it]"
     ]
    },
    {
     "name": "stdout",
     "output_type": "stream",
     "text": [
      "1873\n",
      "[I 2024-02-15 06:53:54,320] Trial 188 finished with value: 11.93537371692491 and parameters: {'thres_for_max': 0.31, 'thres_for_mean': 0.8700000000000001}. Best is trial 22 with value: 12.204891392871504.\n"
     ]
    },
    {
     "name": "stderr",
     "output_type": "stream",
     "text": [
      "Best trial: 22. Best value: 12.2049:  76%|███████▌  | 190/250 [24:47<08:01,  8.02s/it]"
     ]
    },
    {
     "name": "stdout",
     "output_type": "stream",
     "text": [
      "1867\n",
      "[I 2024-02-15 06:54:02,246] Trial 189 finished with value: 12.071400330276777 and parameters: {'thres_for_max': 0.33999999999999997, 'thres_for_mean': 0.8500000000000001}. Best is trial 22 with value: 12.204891392871504.\n"
     ]
    },
    {
     "name": "stderr",
     "output_type": "stream",
     "text": [
      "Best trial: 22. Best value: 12.2049:  76%|███████▋  | 191/250 [24:55<07:49,  7.96s/it]"
     ]
    },
    {
     "name": "stdout",
     "output_type": "stream",
     "text": [
      "1863\n",
      "[I 2024-02-15 06:54:10,055] Trial 190 finished with value: 10.573235408370913 and parameters: {'thres_for_max': 0.38, 'thres_for_mean': 0.8899999999999999}. Best is trial 22 with value: 12.204891392871504.\n"
     ]
    },
    {
     "name": "stderr",
     "output_type": "stream",
     "text": [
      "Best trial: 22. Best value: 12.2049:  77%|███████▋  | 192/250 [25:03<07:41,  7.95s/it]"
     ]
    },
    {
     "name": "stdout",
     "output_type": "stream",
     "text": [
      "1867\n",
      "[I 2024-02-15 06:54:18,008] Trial 191 finished with value: 12.152144563604393 and parameters: {'thres_for_max': 0.33999999999999997, 'thres_for_mean': 0.8700000000000001}. Best is trial 22 with value: 12.204891392871504.\n"
     ]
    },
    {
     "name": "stderr",
     "output_type": "stream",
     "text": [
      "Best trial: 22. Best value: 12.2049:  77%|███████▋  | 193/250 [25:11<07:33,  7.96s/it]"
     ]
    },
    {
     "name": "stdout",
     "output_type": "stream",
     "text": [
      "1865\n",
      "[I 2024-02-15 06:54:25,969] Trial 192 finished with value: 11.410473495001938 and parameters: {'thres_for_max': 0.36, 'thres_for_mean': 0.8600000000000001}. Best is trial 22 with value: 12.204891392871504.\n"
     ]
    },
    {
     "name": "stderr",
     "output_type": "stream",
     "text": [
      "Best trial: 22. Best value: 12.2049:  78%|███████▊  | 194/250 [25:19<07:30,  8.04s/it]"
     ]
    },
    {
     "name": "stdout",
     "output_type": "stream",
     "text": [
      "1867\n",
      "[I 2024-02-15 06:54:34,197] Trial 193 finished with value: 11.962563325967913 and parameters: {'thres_for_max': 0.35, 'thres_for_mean': 0.8799999999999999}. Best is trial 22 with value: 12.204891392871504.\n"
     ]
    },
    {
     "name": "stderr",
     "output_type": "stream",
     "text": [
      "Best trial: 22. Best value: 12.2049:  78%|███████▊  | 195/250 [25:27<07:20,  8.01s/it]"
     ]
    },
    {
     "name": "stdout",
     "output_type": "stream",
     "text": [
      "1869\n",
      "[I 2024-02-15 06:54:42,138] Trial 194 finished with value: 11.470122784693583 and parameters: {'thres_for_max': 0.32999999999999996, 'thres_for_mean': 0.8400000000000001}. Best is trial 22 with value: 12.204891392871504.\n"
     ]
    },
    {
     "name": "stderr",
     "output_type": "stream",
     "text": [
      "Best trial: 22. Best value: 12.2049:  78%|███████▊  | 196/250 [25:35<07:05,  7.88s/it]"
     ]
    },
    {
     "name": "stdout",
     "output_type": "stream",
     "text": [
      "959\n",
      "[I 2024-02-15 06:54:49,706] Trial 195 finished with value: 5.388227728957592 and parameters: {'thres_for_max': 0.76, 'thres_for_mean': 0.8500000000000001}. Best is trial 22 with value: 12.204891392871504.\n"
     ]
    },
    {
     "name": "stderr",
     "output_type": "stream",
     "text": [
      "Best trial: 22. Best value: 12.2049:  79%|███████▉  | 197/250 [25:43<06:55,  7.84s/it]"
     ]
    },
    {
     "name": "stdout",
     "output_type": "stream",
     "text": [
      "1867\n",
      "[I 2024-02-15 06:54:57,448] Trial 196 finished with value: 12.204891392871504 and parameters: {'thres_for_max': 0.35, 'thres_for_mean': 0.8600000000000001}. Best is trial 22 with value: 12.204891392871504.\n"
     ]
    },
    {
     "name": "stderr",
     "output_type": "stream",
     "text": [
      "Best trial: 22. Best value: 12.2049:  79%|███████▉  | 198/250 [25:51<06:47,  7.84s/it]"
     ]
    },
    {
     "name": "stdout",
     "output_type": "stream",
     "text": [
      "1865\n",
      "[I 2024-02-15 06:55:05,298] Trial 197 finished with value: 11.304555424381897 and parameters: {'thres_for_max': 0.36, 'thres_for_mean': 0.8500000000000001}. Best is trial 22 with value: 12.204891392871504.\n"
     ]
    },
    {
     "name": "stderr",
     "output_type": "stream",
     "text": [
      "Best trial: 22. Best value: 12.2049:  80%|███████▉  | 199/250 [25:58<06:40,  7.86s/it]"
     ]
    },
    {
     "name": "stdout",
     "output_type": "stream",
     "text": [
      "1864\n",
      "[I 2024-02-15 06:55:13,203] Trial 198 finished with value: 10.736217721910446 and parameters: {'thres_for_max': 0.37, 'thres_for_mean': 0.8300000000000001}. Best is trial 22 with value: 12.204891392871504.\n"
     ]
    },
    {
     "name": "stderr",
     "output_type": "stream",
     "text": [
      "Best trial: 22. Best value: 12.2049:  80%|████████  | 200/250 [26:06<06:32,  7.86s/it]"
     ]
    },
    {
     "name": "stdout",
     "output_type": "stream",
     "text": [
      "1867\n",
      "[I 2024-02-15 06:55:21,057] Trial 199 finished with value: 11.962563325967913 and parameters: {'thres_for_max': 0.35, 'thres_for_mean': 0.8799999999999999}. Best is trial 22 with value: 12.204891392871504.\n"
     ]
    },
    {
     "name": "stderr",
     "output_type": "stream",
     "text": [
      "Best trial: 22. Best value: 12.2049:  80%|████████  | 201/250 [26:14<06:25,  7.86s/it]"
     ]
    },
    {
     "name": "stdout",
     "output_type": "stream",
     "text": [
      "1867\n",
      "[I 2024-02-15 06:55:28,918] Trial 200 finished with value: 12.01292140203633 and parameters: {'thres_for_max': 0.33999999999999997, 'thres_for_mean': 0.5800000000000001}. Best is trial 22 with value: 12.204891392871504.\n"
     ]
    },
    {
     "name": "stderr",
     "output_type": "stream",
     "text": [
      "Best trial: 22. Best value: 12.2049:  81%|████████  | 202/250 [26:22<06:16,  7.84s/it]"
     ]
    },
    {
     "name": "stdout",
     "output_type": "stream",
     "text": [
      "1871\n",
      "[I 2024-02-15 06:55:36,730] Trial 201 finished with value: 11.678507547831783 and parameters: {'thres_for_max': 0.32, 'thres_for_mean': 0.8600000000000001}. Best is trial 22 with value: 12.204891392871504.\n"
     ]
    },
    {
     "name": "stderr",
     "output_type": "stream",
     "text": [
      "Best trial: 22. Best value: 12.2049:  81%|████████  | 203/250 [26:30<06:09,  7.87s/it]"
     ]
    },
    {
     "name": "stdout",
     "output_type": "stream",
     "text": [
      "1867\n",
      "[I 2024-02-15 06:55:44,648] Trial 202 finished with value: 12.152144563604393 and parameters: {'thres_for_max': 0.33999999999999997, 'thres_for_mean': 0.8700000000000001}. Best is trial 22 with value: 12.204891392871504.\n"
     ]
    },
    {
     "name": "stderr",
     "output_type": "stream",
     "text": [
      "Best trial: 22. Best value: 12.2049:  82%|████████▏ | 204/250 [26:38<06:07,  7.99s/it]"
     ]
    },
    {
     "name": "stdout",
     "output_type": "stream",
     "text": [
      "1867\n",
      "[I 2024-02-15 06:55:52,937] Trial 203 finished with value: 12.17244129209514 and parameters: {'thres_for_max': 0.35, 'thres_for_mean': 0.8700000000000001}. Best is trial 22 with value: 12.204891392871504.\n"
     ]
    },
    {
     "name": "stderr",
     "output_type": "stream",
     "text": [
      "Best trial: 22. Best value: 12.2049:  82%|████████▏ | 205/250 [26:46<06:00,  8.00s/it]"
     ]
    },
    {
     "name": "stdout",
     "output_type": "stream",
     "text": [
      "1865\n",
      "[I 2024-02-15 06:56:00,959] Trial 204 finished with value: 11.410473495001938 and parameters: {'thres_for_max': 0.36, 'thres_for_mean': 0.8600000000000001}. Best is trial 22 with value: 12.204891392871504.\n"
     ]
    },
    {
     "name": "stderr",
     "output_type": "stream",
     "text": [
      "Best trial: 22. Best value: 12.2049:  82%|████████▏ | 206/250 [26:54<05:50,  7.97s/it]"
     ]
    },
    {
     "name": "stdout",
     "output_type": "stream",
     "text": [
      "1867\n",
      "[I 2024-02-15 06:56:08,870] Trial 205 finished with value: 11.805783472736115 and parameters: {'thres_for_max': 0.35, 'thres_for_mean': 0.62}. Best is trial 22 with value: 12.204891392871504.\n"
     ]
    },
    {
     "name": "stderr",
     "output_type": "stream",
     "text": [
      "Best trial: 22. Best value: 12.2049:  83%|████████▎ | 207/250 [27:02<05:42,  7.97s/it]"
     ]
    },
    {
     "name": "stdout",
     "output_type": "stream",
     "text": [
      "1869\n",
      "[I 2024-02-15 06:56:16,839] Trial 206 finished with value: 11.509217691416481 and parameters: {'thres_for_max': 0.32999999999999996, 'thres_for_mean': 0.8899999999999999}. Best is trial 22 with value: 12.204891392871504.\n"
     ]
    },
    {
     "name": "stderr",
     "output_type": "stream",
     "text": [
      "Best trial: 22. Best value: 12.2049:  83%|████████▎ | 208/250 [27:10<05:36,  8.01s/it]"
     ]
    },
    {
     "name": "stdout",
     "output_type": "stream",
     "text": [
      "1864\n",
      "[I 2024-02-15 06:56:24,937] Trial 207 finished with value: 10.831861112835778 and parameters: {'thres_for_max': 0.37, 'thres_for_mean': 0.8799999999999999}. Best is trial 22 with value: 12.204891392871504.\n"
     ]
    },
    {
     "name": "stderr",
     "output_type": "stream",
     "text": [
      "Best trial: 22. Best value: 12.2049:  84%|████████▎ | 209/250 [27:18<05:28,  8.02s/it]"
     ]
    },
    {
     "name": "stdout",
     "output_type": "stream",
     "text": [
      "1867\n",
      "[I 2024-02-15 06:56:32,975] Trial 208 finished with value: 12.091562198309573 and parameters: {'thres_for_max': 0.35, 'thres_for_mean': 0.8500000000000001}. Best is trial 22 with value: 12.204891392871504.\n"
     ]
    },
    {
     "name": "stderr",
     "output_type": "stream",
     "text": [
      "Best trial: 22. Best value: 12.2049:  84%|████████▍ | 210/250 [27:26<05:20,  8.01s/it]"
     ]
    },
    {
     "name": "stdout",
     "output_type": "stream",
     "text": [
      "1863\n",
      "[I 2024-02-15 06:56:40,974] Trial 209 finished with value: 10.841073287798636 and parameters: {'thres_for_max': 0.38, 'thres_for_mean': 0.8700000000000001}. Best is trial 22 with value: 12.204891392871504.\n"
     ]
    },
    {
     "name": "stderr",
     "output_type": "stream",
     "text": [
      "Best trial: 22. Best value: 12.2049:  84%|████████▍ | 211/250 [27:34<05:13,  8.05s/it]"
     ]
    },
    {
     "name": "stdout",
     "output_type": "stream",
     "text": [
      "1873\n",
      "[I 2024-02-15 06:56:49,097] Trial 210 finished with value: 11.600814914906385 and parameters: {'thres_for_max': 0.31, 'thres_for_mean': 0.8400000000000001}. Best is trial 22 with value: 12.204891392871504.\n"
     ]
    },
    {
     "name": "stderr",
     "output_type": "stream",
     "text": [
      "Best trial: 22. Best value: 12.2049:  85%|████████▍ | 212/250 [27:42<05:04,  8.02s/it]"
     ]
    },
    {
     "name": "stdout",
     "output_type": "stream",
     "text": [
      "1867\n",
      "[I 2024-02-15 06:56:57,062] Trial 211 finished with value: 12.152144563604393 and parameters: {'thres_for_max': 0.33999999999999997, 'thres_for_mean': 0.8700000000000001}. Best is trial 22 with value: 12.204891392871504.\n"
     ]
    },
    {
     "name": "stderr",
     "output_type": "stream",
     "text": [
      "Best trial: 22. Best value: 12.2049:  85%|████████▌ | 213/250 [27:50<04:55,  7.99s/it]"
     ]
    },
    {
     "name": "stdout",
     "output_type": "stream",
     "text": [
      "1869\n",
      "[I 2024-02-15 06:57:04,991] Trial 212 finished with value: 11.832381728231207 and parameters: {'thres_for_max': 0.32999999999999996, 'thres_for_mean': 0.8600000000000001}. Best is trial 22 with value: 12.204891392871504.\n"
     ]
    },
    {
     "name": "stderr",
     "output_type": "stream",
     "text": [
      "Best trial: 22. Best value: 12.2049:  86%|████████▌ | 214/250 [27:58<04:50,  8.08s/it]"
     ]
    },
    {
     "name": "stdout",
     "output_type": "stream",
     "text": [
      "1865\n",
      "[I 2024-02-15 06:57:13,275] Trial 213 finished with value: 11.183918592095267 and parameters: {'thres_for_max': 0.36, 'thres_for_mean': 0.8799999999999999}. Best is trial 22 with value: 12.204891392871504.\n"
     ]
    },
    {
     "name": "stderr",
     "output_type": "stream",
     "text": [
      "Best trial: 22. Best value: 12.2049:  86%|████████▌ | 215/250 [28:07<04:45,  8.15s/it]"
     ]
    },
    {
     "name": "stdout",
     "output_type": "stream",
     "text": [
      "1867\n",
      "[I 2024-02-15 06:57:21,580] Trial 214 finished with value: 12.204891392871504 and parameters: {'thres_for_max': 0.35, 'thres_for_mean': 0.8600000000000001}. Best is trial 22 with value: 12.204891392871504.\n"
     ]
    },
    {
     "name": "stderr",
     "output_type": "stream",
     "text": [
      "Best trial: 22. Best value: 12.2049:  86%|████████▋ | 216/250 [28:15<04:35,  8.12s/it]"
     ]
    },
    {
     "name": "stdout",
     "output_type": "stream",
     "text": [
      "1867\n",
      "[I 2024-02-15 06:57:29,620] Trial 215 finished with value: 12.204891392871504 and parameters: {'thres_for_max': 0.35, 'thres_for_mean': 0.8600000000000001}. Best is trial 22 with value: 12.204891392871504.\n"
     ]
    },
    {
     "name": "stderr",
     "output_type": "stream",
     "text": [
      "Best trial: 22. Best value: 12.2049:  87%|████████▋ | 217/250 [28:23<04:27,  8.09s/it]"
     ]
    },
    {
     "name": "stdout",
     "output_type": "stream",
     "text": [
      "1865\n",
      "[I 2024-02-15 06:57:37,663] Trial 216 finished with value: 11.304555424381897 and parameters: {'thres_for_max': 0.36, 'thres_for_mean': 0.8500000000000001}. Best is trial 22 with value: 12.204891392871504.\n"
     ]
    },
    {
     "name": "stderr",
     "output_type": "stream",
     "text": [
      "Best trial: 22. Best value: 12.2049:  87%|████████▋ | 218/250 [28:31<04:16,  8.01s/it]"
     ]
    },
    {
     "name": "stdout",
     "output_type": "stream",
     "text": [
      "1867\n",
      "[I 2024-02-15 06:57:45,469] Trial 217 finished with value: 12.204891392871504 and parameters: {'thres_for_max': 0.35, 'thres_for_mean': 0.8600000000000001}. Best is trial 22 with value: 12.204891392871504.\n"
     ]
    },
    {
     "name": "stderr",
     "output_type": "stream",
     "text": [
      "Best trial: 22. Best value: 12.2049:  88%|████████▊ | 219/250 [28:39<04:07,  7.98s/it]"
     ]
    },
    {
     "name": "stdout",
     "output_type": "stream",
     "text": [
      "1863\n",
      "[I 2024-02-15 06:57:53,373] Trial 218 finished with value: 10.560076607845927 and parameters: {'thres_for_max': 0.38, 'thres_for_mean': 0.8300000000000001}. Best is trial 22 with value: 12.204891392871504.\n"
     ]
    },
    {
     "name": "stderr",
     "output_type": "stream",
     "text": [
      "Best trial: 22. Best value: 12.2049:  88%|████████▊ | 220/250 [28:47<04:00,  8.02s/it]"
     ]
    },
    {
     "name": "stdout",
     "output_type": "stream",
     "text": [
      "1867\n",
      "[I 2024-02-15 06:58:01,494] Trial 219 finished with value: 12.091562198309573 and parameters: {'thres_for_max': 0.35, 'thres_for_mean': 0.8500000000000001}. Best is trial 22 with value: 12.204891392871504.\n"
     ]
    },
    {
     "name": "stderr",
     "output_type": "stream",
     "text": [
      "Best trial: 22. Best value: 12.2049:  88%|████████▊ | 221/250 [28:55<03:52,  8.02s/it]"
     ]
    },
    {
     "name": "stdout",
     "output_type": "stream",
     "text": [
      "1864\n",
      "[I 2024-02-15 06:58:09,526] Trial 220 finished with value: 11.051284316117279 and parameters: {'thres_for_max': 0.37, 'thres_for_mean': 0.8600000000000001}. Best is trial 22 with value: 12.204891392871504.\n"
     ]
    },
    {
     "name": "stderr",
     "output_type": "stream",
     "text": [
      "Best trial: 22. Best value: 12.2049:  89%|████████▉ | 222/250 [29:03<03:44,  8.02s/it]"
     ]
    },
    {
     "name": "stdout",
     "output_type": "stream",
     "text": [
      "1867\n",
      "[I 2024-02-15 06:58:17,530] Trial 221 finished with value: 12.152144563604393 and parameters: {'thres_for_max': 0.33999999999999997, 'thres_for_mean': 0.8700000000000001}. Best is trial 22 with value: 12.204891392871504.\n"
     ]
    },
    {
     "name": "stderr",
     "output_type": "stream",
     "text": [
      "Best trial: 22. Best value: 12.2049:  89%|████████▉ | 223/250 [29:11<03:35,  7.98s/it]"
     ]
    },
    {
     "name": "stdout",
     "output_type": "stream",
     "text": [
      "1867\n",
      "[I 2024-02-15 06:58:25,423] Trial 222 finished with value: 11.87155343420887 and parameters: {'thres_for_max': 0.35, 'thres_for_mean': 0.8899999999999999}. Best is trial 22 with value: 12.204891392871504.\n"
     ]
    },
    {
     "name": "stderr",
     "output_type": "stream",
     "text": [
      "Best trial: 22. Best value: 12.2049:  90%|████████▉ | 224/250 [29:18<03:26,  7.94s/it]"
     ]
    },
    {
     "name": "stdout",
     "output_type": "stream",
     "text": [
      "1869\n",
      "[I 2024-02-15 06:58:33,272] Trial 223 finished with value: 11.832381728231207 and parameters: {'thres_for_max': 0.32999999999999996, 'thres_for_mean': 0.8600000000000001}. Best is trial 22 with value: 12.204891392871504.\n"
     ]
    },
    {
     "name": "stderr",
     "output_type": "stream",
     "text": [
      "Best trial: 22. Best value: 12.2049:  90%|█████████ | 225/250 [29:26<03:17,  7.91s/it]"
     ]
    },
    {
     "name": "stdout",
     "output_type": "stream",
     "text": [
      "1865\n",
      "[I 2024-02-15 06:58:41,101] Trial 224 finished with value: 11.061169127567931 and parameters: {'thres_for_max': 0.36, 'thres_for_mean': 0.8400000000000001}. Best is trial 22 with value: 12.204891392871504.\n"
     ]
    },
    {
     "name": "stderr",
     "output_type": "stream",
     "text": [
      "Best trial: 22. Best value: 12.2049:  90%|█████████ | 226/250 [29:34<03:10,  7.94s/it]"
     ]
    },
    {
     "name": "stdout",
     "output_type": "stream",
     "text": [
      "1871\n",
      "[I 2024-02-15 06:58:49,105] Trial 225 finished with value: 11.44663082994161 and parameters: {'thres_for_max': 0.32, 'thres_for_mean': 0.8799999999999999}. Best is trial 22 with value: 12.204891392871504.\n"
     ]
    },
    {
     "name": "stderr",
     "output_type": "stream",
     "text": [
      "Best trial: 22. Best value: 12.2049:  91%|█████████ | 227/250 [29:42<03:02,  7.92s/it]"
     ]
    },
    {
     "name": "stdout",
     "output_type": "stream",
     "text": [
      "1867\n",
      "[I 2024-02-15 06:58:57,001] Trial 226 finished with value: 12.204891392871504 and parameters: {'thres_for_max': 0.35, 'thres_for_mean': 0.8600000000000001}. Best is trial 22 with value: 12.204891392871504.\n"
     ]
    },
    {
     "name": "stderr",
     "output_type": "stream",
     "text": [
      "Best trial: 22. Best value: 12.2049:  91%|█████████ | 228/250 [29:50<02:54,  7.92s/it]"
     ]
    },
    {
     "name": "stdout",
     "output_type": "stream",
     "text": [
      "1867\n",
      "[I 2024-02-15 06:59:04,895] Trial 227 finished with value: 12.204891392871504 and parameters: {'thres_for_max': 0.35, 'thres_for_mean': 0.8600000000000001}. Best is trial 22 with value: 12.204891392871504.\n"
     ]
    },
    {
     "name": "stderr",
     "output_type": "stream",
     "text": [
      "Best trial: 22. Best value: 12.2049:  92%|█████████▏| 229/250 [29:58<02:46,  7.92s/it]"
     ]
    },
    {
     "name": "stdout",
     "output_type": "stream",
     "text": [
      "1867\n",
      "[I 2024-02-15 06:59:12,836] Trial 228 finished with value: 12.091562198309573 and parameters: {'thres_for_max': 0.35, 'thres_for_mean': 0.8500000000000001}. Best is trial 22 with value: 12.204891392871504.\n"
     ]
    },
    {
     "name": "stderr",
     "output_type": "stream",
     "text": [
      "Best trial: 22. Best value: 12.2049:  92%|█████████▏| 230/250 [30:06<02:38,  7.93s/it]"
     ]
    },
    {
     "name": "stdout",
     "output_type": "stream",
     "text": [
      "1638\n",
      "[I 2024-02-15 06:59:20,791] Trial 229 finished with value: 7.84797345644466 and parameters: {'thres_for_max': 0.5800000000000001, 'thres_for_mean': 0.8600000000000001}. Best is trial 22 with value: 12.204891392871504.\n"
     ]
    },
    {
     "name": "stderr",
     "output_type": "stream",
     "text": [
      "Best trial: 22. Best value: 12.2049:  92%|█████████▏| 231/250 [30:14<02:29,  7.88s/it]"
     ]
    },
    {
     "name": "stdout",
     "output_type": "stream",
     "text": [
      "1863\n",
      "[I 2024-02-15 06:59:28,559] Trial 230 finished with value: 10.537290871476749 and parameters: {'thres_for_max': 0.38, 'thres_for_mean': 0.8400000000000001}. Best is trial 22 with value: 12.204891392871504.\n"
     ]
    },
    {
     "name": "stderr",
     "output_type": "stream",
     "text": [
      "Best trial: 22. Best value: 12.2049:  93%|█████████▎| 232/250 [30:22<02:21,  7.86s/it]"
     ]
    },
    {
     "name": "stdout",
     "output_type": "stream",
     "text": [
      "1865\n",
      "[I 2024-02-15 06:59:36,361] Trial 231 finished with value: 10.969574250359495 and parameters: {'thres_for_max': 0.36, 'thres_for_mean': 0.64}. Best is trial 22 with value: 12.204891392871504.\n"
     ]
    },
    {
     "name": "stderr",
     "output_type": "stream",
     "text": [
      "Best trial: 22. Best value: 12.2049:  93%|█████████▎| 233/250 [30:29<02:13,  7.86s/it]"
     ]
    },
    {
     "name": "stdout",
     "output_type": "stream",
     "text": [
      "1867\n",
      "[I 2024-02-15 06:59:44,230] Trial 232 finished with value: 12.184540556016689 and parameters: {'thres_for_max': 0.33999999999999997, 'thres_for_mean': 0.8600000000000001}. Best is trial 22 with value: 12.204891392871504.\n"
     ]
    },
    {
     "name": "stderr",
     "output_type": "stream",
     "text": [
      "Best trial: 22. Best value: 12.2049:  94%|█████████▎| 234/250 [30:37<02:05,  7.85s/it]"
     ]
    },
    {
     "name": "stdout",
     "output_type": "stream",
     "text": [
      "1867\n",
      "[I 2024-02-15 06:59:52,053] Trial 233 finished with value: 12.184540556016689 and parameters: {'thres_for_max': 0.33999999999999997, 'thres_for_mean': 0.8600000000000001}. Best is trial 22 with value: 12.204891392871504.\n"
     ]
    },
    {
     "name": "stderr",
     "output_type": "stream",
     "text": [
      "Best trial: 22. Best value: 12.2049:  94%|█████████▍| 235/250 [30:45<01:57,  7.85s/it]"
     ]
    },
    {
     "name": "stdout",
     "output_type": "stream",
     "text": [
      "1867\n",
      "[I 2024-02-15 06:59:59,916] Trial 234 finished with value: 12.204891392871504 and parameters: {'thres_for_max': 0.35, 'thres_for_mean': 0.8600000000000001}. Best is trial 22 with value: 12.204891392871504.\n"
     ]
    },
    {
     "name": "stderr",
     "output_type": "stream",
     "text": [
      "Best trial: 22. Best value: 12.2049:  94%|█████████▍| 236/250 [30:53<01:50,  7.87s/it]"
     ]
    },
    {
     "name": "stdout",
     "output_type": "stream",
     "text": [
      "1864\n",
      "[I 2024-02-15 07:00:07,838] Trial 235 finished with value: 10.948778362811014 and parameters: {'thres_for_max': 0.37, 'thres_for_mean': 0.8500000000000001}. Best is trial 22 with value: 12.204891392871504.\n"
     ]
    },
    {
     "name": "stderr",
     "output_type": "stream",
     "text": [
      "Best trial: 22. Best value: 12.2049:  95%|█████████▍| 237/250 [31:01<01:42,  7.87s/it]"
     ]
    },
    {
     "name": "stdout",
     "output_type": "stream",
     "text": [
      "1869\n",
      "[I 2024-02-15 07:00:15,700] Trial 236 finished with value: 11.832381728231207 and parameters: {'thres_for_max': 0.32999999999999996, 'thres_for_mean': 0.8600000000000001}. Best is trial 22 with value: 12.204891392871504.\n"
     ]
    },
    {
     "name": "stderr",
     "output_type": "stream",
     "text": [
      "Best trial: 22. Best value: 12.2049:  95%|█████████▌| 238/250 [31:09<01:34,  7.87s/it]"
     ]
    },
    {
     "name": "stdout",
     "output_type": "stream",
     "text": [
      "1867\n",
      "[I 2024-02-15 07:00:23,565] Trial 237 finished with value: 11.811503915650148 and parameters: {'thres_for_max': 0.33999999999999997, 'thres_for_mean': 0.8400000000000001}. Best is trial 22 with value: 12.204891392871504.\n"
     ]
    },
    {
     "name": "stderr",
     "output_type": "stream",
     "text": [
      "Best trial: 22. Best value: 12.2049:  96%|█████████▌| 239/250 [31:17<01:26,  7.90s/it]"
     ]
    },
    {
     "name": "stdout",
     "output_type": "stream",
     "text": [
      "1867\n",
      "[I 2024-02-15 07:00:31,544] Trial 238 finished with value: 12.091562198309573 and parameters: {'thres_for_max': 0.35, 'thres_for_mean': 0.8500000000000001}. Best is trial 22 with value: 12.204891392871504.\n"
     ]
    },
    {
     "name": "stderr",
     "output_type": "stream",
     "text": [
      "Best trial: 22. Best value: 12.2049:  96%|█████████▌| 240/250 [31:25<01:18,  7.88s/it]"
     ]
    },
    {
     "name": "stdout",
     "output_type": "stream",
     "text": [
      "1865\n",
      "[I 2024-02-15 07:00:39,378] Trial 239 finished with value: 11.075947114032726 and parameters: {'thres_for_max': 0.36, 'thres_for_mean': 0.8200000000000001}. Best is trial 22 with value: 12.204891392871504.\n"
     ]
    },
    {
     "name": "stderr",
     "output_type": "stream",
     "text": [
      "Best trial: 22. Best value: 12.2049:  96%|█████████▋| 241/250 [31:32<01:10,  7.85s/it]"
     ]
    },
    {
     "name": "stdout",
     "output_type": "stream",
     "text": [
      "1867\n",
      "[I 2024-02-15 07:00:47,152] Trial 240 finished with value: 12.184540556016689 and parameters: {'thres_for_max': 0.33999999999999997, 'thres_for_mean': 0.8600000000000001}. Best is trial 22 with value: 12.204891392871504.\n"
     ]
    },
    {
     "name": "stderr",
     "output_type": "stream",
     "text": [
      "Best trial: 22. Best value: 12.2049:  97%|█████████▋| 242/250 [31:40<01:02,  7.86s/it]"
     ]
    },
    {
     "name": "stdout",
     "output_type": "stream",
     "text": [
      "1867\n",
      "[I 2024-02-15 07:00:55,044] Trial 241 finished with value: 12.184540556016689 and parameters: {'thres_for_max': 0.33999999999999997, 'thres_for_mean': 0.8600000000000001}. Best is trial 22 with value: 12.204891392871504.\n"
     ]
    },
    {
     "name": "stderr",
     "output_type": "stream",
     "text": [
      "Best trial: 22. Best value: 12.2049:  97%|█████████▋| 243/250 [31:48<00:55,  7.86s/it]"
     ]
    },
    {
     "name": "stdout",
     "output_type": "stream",
     "text": [
      "1867\n",
      "[I 2024-02-15 07:01:02,902] Trial 242 finished with value: 12.184540556016689 and parameters: {'thres_for_max': 0.33999999999999997, 'thres_for_mean': 0.8600000000000001}. Best is trial 22 with value: 12.204891392871504.\n"
     ]
    },
    {
     "name": "stderr",
     "output_type": "stream",
     "text": [
      "Best trial: 22. Best value: 12.2049:  98%|█████████▊| 244/250 [31:56<00:47,  7.90s/it]"
     ]
    },
    {
     "name": "stdout",
     "output_type": "stream",
     "text": [
      "1869\n",
      "[I 2024-02-15 07:01:10,901] Trial 243 finished with value: 11.832381728231207 and parameters: {'thres_for_max': 0.32999999999999996, 'thres_for_mean': 0.8600000000000001}. Best is trial 22 with value: 12.204891392871504.\n"
     ]
    },
    {
     "name": "stderr",
     "output_type": "stream",
     "text": [
      "Best trial: 22. Best value: 12.2049:  98%|█████████▊| 245/250 [32:04<00:39,  7.90s/it]"
     ]
    },
    {
     "name": "stdout",
     "output_type": "stream",
     "text": [
      "1867\n",
      "[I 2024-02-15 07:01:18,809] Trial 244 finished with value: 12.054127389164337 and parameters: {'thres_for_max': 0.33999999999999997, 'thres_for_mean': 0.72}. Best is trial 22 with value: 12.204891392871504.\n"
     ]
    },
    {
     "name": "stderr",
     "output_type": "stream",
     "text": [
      "Best trial: 22. Best value: 12.2049:  98%|█████████▊| 246/250 [32:12<00:31,  7.89s/it]"
     ]
    },
    {
     "name": "stdout",
     "output_type": "stream",
     "text": [
      "1867\n",
      "[I 2024-02-15 07:01:26,651] Trial 245 finished with value: 11.811503915650148 and parameters: {'thres_for_max': 0.33999999999999997, 'thres_for_mean': 0.8400000000000001}. Best is trial 22 with value: 12.204891392871504.\n"
     ]
    },
    {
     "name": "stderr",
     "output_type": "stream",
     "text": [
      "Best trial: 22. Best value: 12.2049:  99%|█████████▉| 247/250 [32:20<00:23,  7.84s/it]"
     ]
    },
    {
     "name": "stdout",
     "output_type": "stream",
     "text": [
      "1871\n",
      "[I 2024-02-15 07:01:34,382] Trial 246 finished with value: 11.678507547831783 and parameters: {'thres_for_max': 0.32, 'thres_for_mean': 0.8600000000000001}. Best is trial 22 with value: 12.204891392871504.\n"
     ]
    },
    {
     "name": "stderr",
     "output_type": "stream",
     "text": [
      "Best trial: 22. Best value: 12.2049:  99%|█████████▉| 248/250 [32:28<00:15,  7.86s/it]"
     ]
    },
    {
     "name": "stdout",
     "output_type": "stream",
     "text": [
      "1865\n",
      "[I 2024-02-15 07:01:42,292] Trial 247 finished with value: 11.304555424381897 and parameters: {'thres_for_max': 0.36, 'thres_for_mean': 0.8500000000000001}. Best is trial 22 with value: 12.204891392871504.\n"
     ]
    },
    {
     "name": "stderr",
     "output_type": "stream",
     "text": [
      "Best trial: 22. Best value: 12.2049: 100%|█████████▉| 249/250 [32:35<00:07,  7.77s/it]"
     ]
    },
    {
     "name": "stdout",
     "output_type": "stream",
     "text": [
      "1277\n",
      "[I 2024-02-15 07:01:49,862] Trial 248 finished with value: 6.934136341836101 and parameters: {'thres_for_max': 0.69, 'thres_for_mean': 0.8300000000000001}. Best is trial 22 with value: 12.204891392871504.\n"
     ]
    },
    {
     "name": "stderr",
     "output_type": "stream",
     "text": [
      "Best trial: 22. Best value: 12.2049: 100%|██████████| 250/250 [32:43<00:00,  7.85s/it]"
     ]
    },
    {
     "name": "stdout",
     "output_type": "stream",
     "text": [
      "1867\n",
      "[I 2024-02-15 07:01:57,603] Trial 249 finished with value: 12.152144563604393 and parameters: {'thres_for_max': 0.33999999999999997, 'thres_for_mean': 0.8700000000000001}. Best is trial 22 with value: 12.204891392871504.\n"
     ]
    },
    {
     "name": "stderr",
     "output_type": "stream",
     "text": [
      "\n",
      "[I 2024-02-15 07:01:58,079] A new study created in memory with name: best_combi_of_thres_fixed_rtn_5\n",
      "Best trial: 0. Best value: 14.6216:   0%|          | 1/250 [00:07<32:01,  7.72s/it]"
     ]
    },
    {
     "name": "stdout",
     "output_type": "stream",
     "text": [
      "1716\n",
      "[I 2024-02-15 07:02:05,794] Trial 0 finished with value: 14.621645573504978 and parameters: {'thres_for_max': 0.51, 'thres_for_mean': 0.69}. Best is trial 0 with value: 14.621645573504978.\n"
     ]
    },
    {
     "name": "stderr",
     "output_type": "stream",
     "text": [
      "Best trial: 1. Best value: 22.7873:   1%|          | 2/250 [00:15<31:50,  7.70s/it]"
     ]
    },
    {
     "name": "stdout",
     "output_type": "stream",
     "text": [
      "1858\n",
      "[I 2024-02-15 07:02:13,487] Trial 1 finished with value: 22.787280152901907 and parameters: {'thres_for_max': 0.31, 'thres_for_mean': 0.8200000000000001}. Best is trial 1 with value: 22.787280152901907.\n"
     ]
    },
    {
     "name": "stderr",
     "output_type": "stream",
     "text": [
      "Best trial: 1. Best value: 22.7873:   1%|          | 3/250 [00:22<31:27,  7.64s/it]"
     ]
    },
    {
     "name": "stdout",
     "output_type": "stream",
     "text": [
      "1493\n",
      "[I 2024-02-15 07:02:21,057] Trial 2 finished with value: 16.607604887201155 and parameters: {'thres_for_max': 0.62, 'thres_for_mean': 0.53}. Best is trial 1 with value: 22.787280152901907.\n"
     ]
    },
    {
     "name": "stderr",
     "output_type": "stream",
     "text": [
      "Best trial: 1. Best value: 22.7873:   2%|▏         | 4/250 [00:30<31:16,  7.63s/it]"
     ]
    },
    {
     "name": "stdout",
     "output_type": "stream",
     "text": [
      "1511\n",
      "[I 2024-02-15 07:02:28,669] Trial 3 finished with value: 18.36614710654725 and parameters: {'thres_for_max': 0.61, 'thres_for_mean': 0.59}. Best is trial 1 with value: 22.787280152901907.\n"
     ]
    },
    {
     "name": "stderr",
     "output_type": "stream",
     "text": [
      "Best trial: 1. Best value: 22.7873:   2%|▏         | 5/250 [00:38<31:07,  7.62s/it]"
     ]
    },
    {
     "name": "stdout",
     "output_type": "stream",
     "text": [
      "1780\n",
      "[I 2024-02-15 07:02:36,274] Trial 4 finished with value: 16.271548833078853 and parameters: {'thres_for_max': 0.45999999999999996, 'thres_for_mean': 0.8700000000000001}. Best is trial 1 with value: 22.787280152901907.\n"
     ]
    },
    {
     "name": "stderr",
     "output_type": "stream",
     "text": [
      "Best trial: 1. Best value: 22.7873:   2%|▏         | 6/250 [00:45<31:01,  7.63s/it]"
     ]
    },
    {
     "name": "stdout",
     "output_type": "stream",
     "text": [
      "1458\n",
      "[I 2024-02-15 07:02:43,920] Trial 5 finished with value: 17.406710762363673 and parameters: {'thres_for_max': 0.63, 'thres_for_mean': 0.59}. Best is trial 1 with value: 22.787280152901907.\n"
     ]
    },
    {
     "name": "stderr",
     "output_type": "stream",
     "text": [
      "Best trial: 1. Best value: 22.7873:   3%|▎         | 7/250 [00:53<31:07,  7.68s/it]"
     ]
    },
    {
     "name": "stdout",
     "output_type": "stream",
     "text": [
      "1858\n",
      "[I 2024-02-15 07:02:51,717] Trial 6 finished with value: 22.618411648134323 and parameters: {'thres_for_max': 0.31, 'thres_for_mean': 0.43}. Best is trial 1 with value: 22.787280152901907.\n"
     ]
    },
    {
     "name": "stderr",
     "output_type": "stream",
     "text": [
      "Best trial: 1. Best value: 22.7873:   3%|▎         | 8/250 [01:01<30:57,  7.68s/it]"
     ]
    },
    {
     "name": "stdout",
     "output_type": "stream",
     "text": [
      "1427\n",
      "[I 2024-02-15 07:02:59,374] Trial 7 finished with value: 15.813331893329721 and parameters: {'thres_for_max': 0.64, 'thres_for_mean': 0.8500000000000001}. Best is trial 1 with value: 22.787280152901907.\n"
     ]
    },
    {
     "name": "stderr",
     "output_type": "stream",
     "text": [
      "Best trial: 1. Best value: 22.7873:   4%|▎         | 9/250 [01:09<30:55,  7.70s/it]"
     ]
    },
    {
     "name": "stdout",
     "output_type": "stream",
     "text": [
      "1729\n",
      "[I 2024-02-15 07:03:07,130] Trial 8 finished with value: 14.849144131993484 and parameters: {'thres_for_max': 0.5, 'thres_for_mean': 0.79}. Best is trial 1 with value: 22.787280152901907.\n"
     ]
    },
    {
     "name": "stderr",
     "output_type": "stream",
     "text": [
      "Best trial: 1. Best value: 22.7873:   4%|▍         | 10/250 [01:16<30:55,  7.73s/it]"
     ]
    },
    {
     "name": "stdout",
     "output_type": "stream",
     "text": [
      "1700\n",
      "[I 2024-02-15 07:03:14,924] Trial 9 finished with value: 12.829742735336284 and parameters: {'thres_for_max': 0.52, 'thres_for_mean': 0.77}. Best is trial 1 with value: 22.787280152901907.\n"
     ]
    },
    {
     "name": "stderr",
     "output_type": "stream",
     "text": [
      "Best trial: 1. Best value: 22.7873:   4%|▍         | 11/250 [01:24<30:50,  7.74s/it]"
     ]
    },
    {
     "name": "stdout",
     "output_type": "stream",
     "text": [
      "1774\n",
      "[I 2024-02-15 07:03:22,689] Trial 10 finished with value: 21.32290613864064 and parameters: {'thres_for_max': 0.8799999999999999, 'thres_for_mean': 0.31}. Best is trial 1 with value: 22.787280152901907.\n"
     ]
    },
    {
     "name": "stderr",
     "output_type": "stream",
     "text": [
      "Best trial: 1. Best value: 22.7873:   5%|▍         | 12/250 [01:32<30:49,  7.77s/it]"
     ]
    },
    {
     "name": "stdout",
     "output_type": "stream",
     "text": [
      "1861\n",
      "[I 2024-02-15 07:03:30,535] Trial 11 finished with value: 22.138789927533914 and parameters: {'thres_for_max': 0.3, 'thres_for_mean': 0.41}. Best is trial 1 with value: 22.787280152901907.\n"
     ]
    },
    {
     "name": "stderr",
     "output_type": "stream",
     "text": [
      "Best trial: 1. Best value: 22.7873:   5%|▌         | 13/250 [01:40<30:44,  7.78s/it]"
     ]
    },
    {
     "name": "stdout",
     "output_type": "stream",
     "text": [
      "1861\n",
      "[I 2024-02-15 07:03:38,341] Trial 12 finished with value: 22.395589973331795 and parameters: {'thres_for_max': 0.3, 'thres_for_mean': 0.47}. Best is trial 1 with value: 22.787280152901907.\n"
     ]
    },
    {
     "name": "stderr",
     "output_type": "stream",
     "text": [
      "Best trial: 1. Best value: 22.7873:   6%|▌         | 14/250 [01:48<30:33,  7.77s/it]"
     ]
    },
    {
     "name": "stdout",
     "output_type": "stream",
     "text": [
      "1840\n",
      "[I 2024-02-15 07:03:46,084] Trial 13 finished with value: 22.33193801040055 and parameters: {'thres_for_max': 0.37, 'thres_for_mean': 0.69}. Best is trial 1 with value: 22.787280152901907.\n"
     ]
    },
    {
     "name": "stderr",
     "output_type": "stream",
     "text": [
      "Best trial: 1. Best value: 22.7873:   6%|▌         | 15/250 [01:55<30:30,  7.79s/it]"
     ]
    },
    {
     "name": "stdout",
     "output_type": "stream",
     "text": [
      "1825\n",
      "[I 2024-02-15 07:03:53,918] Trial 14 finished with value: 17.709464887418893 and parameters: {'thres_for_max': 0.4, 'thres_for_mean': 0.36}. Best is trial 1 with value: 22.787280152901907.\n"
     ]
    },
    {
     "name": "stderr",
     "output_type": "stream",
     "text": [
      "Best trial: 1. Best value: 22.7873:   6%|▋         | 16/250 [02:03<30:21,  7.78s/it]"
     ]
    },
    {
     "name": "stdout",
     "output_type": "stream",
     "text": [
      "1433\n",
      "[I 2024-02-15 07:04:01,689] Trial 15 finished with value: 17.270546025789834 and parameters: {'thres_for_max': 0.75, 'thres_for_mean': 0.47}. Best is trial 1 with value: 22.787280152901907.\n"
     ]
    },
    {
     "name": "stderr",
     "output_type": "stream",
     "text": [
      "Best trial: 1. Best value: 22.7873:   7%|▋         | 17/250 [02:11<30:12,  7.78s/it]"
     ]
    },
    {
     "name": "stdout",
     "output_type": "stream",
     "text": [
      "1829\n",
      "[I 2024-02-15 07:04:09,458] Trial 16 finished with value: 19.34058050815083 and parameters: {'thres_for_max': 0.39, 'thres_for_mean': 0.6799999999999999}. Best is trial 1 with value: 22.787280152901907.\n"
     ]
    },
    {
     "name": "stderr",
     "output_type": "stream",
     "text": [
      "Best trial: 1. Best value: 22.7873:   7%|▋         | 18/250 [02:19<30:14,  7.82s/it]"
     ]
    },
    {
     "name": "stdout",
     "output_type": "stream",
     "text": [
      "1844\n",
      "[I 2024-02-15 07:04:17,379] Trial 17 finished with value: 22.319443328864832 and parameters: {'thres_for_max': 0.35, 'thres_for_mean': 0.51}. Best is trial 1 with value: 22.787280152901907.\n"
     ]
    },
    {
     "name": "stderr",
     "output_type": "stream",
     "text": [
      "Best trial: 18. Best value: 24.8575:   8%|▊         | 19/250 [02:27<29:59,  7.79s/it]"
     ]
    },
    {
     "name": "stdout",
     "output_type": "stream",
     "text": [
      "1095\n",
      "[I 2024-02-15 07:04:25,098] Trial 18 finished with value: 24.85751516205821 and parameters: {'thres_for_max': 0.73, 'thres_for_mean': 0.77}. Best is trial 18 with value: 24.85751516205821.\n"
     ]
    },
    {
     "name": "stderr",
     "output_type": "stream",
     "text": [
      "Best trial: 18. Best value: 24.8575:   8%|▊         | 20/250 [02:34<29:43,  7.76s/it]"
     ]
    },
    {
     "name": "stdout",
     "output_type": "stream",
     "text": [
      "1170\n",
      "[I 2024-02-15 07:04:32,770] Trial 19 finished with value: 18.567688568448197 and parameters: {'thres_for_max': 0.71, 'thres_for_mean': 0.78}. Best is trial 18 with value: 24.85751516205821.\n"
     ]
    },
    {
     "name": "stderr",
     "output_type": "stream",
     "text": [
      "Best trial: 18. Best value: 24.8575:   8%|▊         | 21/250 [02:42<29:21,  7.69s/it]"
     ]
    },
    {
     "name": "stdout",
     "output_type": "stream",
     "text": [
      "785\n",
      "[I 2024-02-15 07:04:40,318] Trial 20 finished with value: 13.807006845122263 and parameters: {'thres_for_max': 0.81, 'thres_for_mean': 0.8300000000000001}. Best is trial 18 with value: 24.85751516205821.\n"
     ]
    },
    {
     "name": "stderr",
     "output_type": "stream",
     "text": [
      "Best trial: 18. Best value: 24.8575:   9%|▉         | 22/250 [02:49<29:13,  7.69s/it]"
     ]
    },
    {
     "name": "stdout",
     "output_type": "stream",
     "text": [
      "1137\n",
      "[I 2024-02-15 07:04:48,009] Trial 21 finished with value: 19.193479637637925 and parameters: {'thres_for_max': 0.72, 'thres_for_mean': 0.73}. Best is trial 18 with value: 24.85751516205821.\n"
     ]
    },
    {
     "name": "stderr",
     "output_type": "stream",
     "text": [
      "Best trial: 18. Best value: 24.8575:   9%|▉         | 23/250 [02:57<29:03,  7.68s/it]"
     ]
    },
    {
     "name": "stdout",
     "output_type": "stream",
     "text": [
      "1780\n",
      "[I 2024-02-15 07:04:55,665] Trial 22 finished with value: 16.402036213339418 and parameters: {'thres_for_max': 0.45999999999999996, 'thres_for_mean': 0.8899999999999999}. Best is trial 18 with value: 24.85751516205821.\n"
     ]
    },
    {
     "name": "stderr",
     "output_type": "stream",
     "text": [
      "Best trial: 18. Best value: 24.8575:  10%|▉         | 24/250 [03:05<28:58,  7.69s/it]"
     ]
    },
    {
     "name": "stdout",
     "output_type": "stream",
     "text": [
      "922\n",
      "[I 2024-02-15 07:05:03,383] Trial 23 finished with value: 19.58689195088276 and parameters: {'thres_for_max': 0.8, 'thres_for_mean': 0.65}. Best is trial 18 with value: 24.85751516205821.\n"
     ]
    },
    {
     "name": "stderr",
     "output_type": "stream",
     "text": [
      "Best trial: 18. Best value: 24.8575:  10%|█         | 25/250 [03:13<28:53,  7.71s/it]"
     ]
    },
    {
     "name": "stdout",
     "output_type": "stream",
     "text": [
      "1799\n",
      "[I 2024-02-15 07:05:11,122] Trial 24 finished with value: 17.77660936218008 and parameters: {'thres_for_max': 0.44, 'thres_for_mean': 0.8200000000000001}. Best is trial 18 with value: 24.85751516205821.\n"
     ]
    },
    {
     "name": "stderr",
     "output_type": "stream",
     "text": [
      "Best trial: 18. Best value: 24.8575:  10%|█         | 26/250 [03:20<28:39,  7.68s/it]"
     ]
    },
    {
     "name": "stdout",
     "output_type": "stream",
     "text": [
      "888\n",
      "[I 2024-02-15 07:05:18,736] Trial 25 finished with value: 15.148576242936185 and parameters: {'thres_for_max': 0.8999999999999999, 'thres_for_mean': 0.63}. Best is trial 18 with value: 24.85751516205821.\n"
     ]
    },
    {
     "name": "stderr",
     "output_type": "stream",
     "text": [
      "Best trial: 18. Best value: 24.8575:  11%|█         | 27/250 [03:28<28:37,  7.70s/it]"
     ]
    },
    {
     "name": "stdout",
     "output_type": "stream",
     "text": [
      "1678\n",
      "[I 2024-02-15 07:05:26,495] Trial 26 finished with value: 16.951465583824902 and parameters: {'thres_for_max': 0.56, 'thres_for_mean': 0.4}. Best is trial 18 with value: 24.85751516205821.\n"
     ]
    },
    {
     "name": "stderr",
     "output_type": "stream",
     "text": [
      "Best trial: 18. Best value: 24.8575:  11%|█         | 28/250 [03:36<28:29,  7.70s/it]"
     ]
    },
    {
     "name": "stdout",
     "output_type": "stream",
     "text": [
      "1326\n",
      "[I 2024-02-15 07:05:34,186] Trial 27 finished with value: 11.391823126615531 and parameters: {'thres_for_max': 0.6699999999999999, 'thres_for_mean': 0.74}. Best is trial 18 with value: 24.85751516205821.\n"
     ]
    },
    {
     "name": "stderr",
     "output_type": "stream",
     "text": [
      "Best trial: 18. Best value: 24.8575:  12%|█▏        | 29/250 [03:43<28:27,  7.72s/it]"
     ]
    },
    {
     "name": "stdout",
     "output_type": "stream",
     "text": [
      "1848\n",
      "[I 2024-02-15 07:05:41,970] Trial 28 finished with value: 21.908651298853208 and parameters: {'thres_for_max': 0.33999999999999997, 'thres_for_mean': 0.53}. Best is trial 18 with value: 24.85751516205821.\n"
     ]
    },
    {
     "name": "stderr",
     "output_type": "stream",
     "text": [
      "Best trial: 18. Best value: 24.8575:  12%|█▏        | 30/250 [03:51<28:15,  7.71s/it]"
     ]
    },
    {
     "name": "stdout",
     "output_type": "stream",
     "text": [
      "1652\n",
      "[I 2024-02-15 07:05:49,635] Trial 29 finished with value: 13.818771921553132 and parameters: {'thres_for_max': 0.55, 'thres_for_mean': 0.74}. Best is trial 18 with value: 24.85751516205821.\n"
     ]
    },
    {
     "name": "stderr",
     "output_type": "stream",
     "text": [
      "Best trial: 18. Best value: 24.8575:  12%|█▏        | 31/250 [03:59<27:59,  7.67s/it]"
     ]
    },
    {
     "name": "stdout",
     "output_type": "stream",
     "text": [
      "660\n",
      "[I 2024-02-15 07:05:57,220] Trial 30 finished with value: 15.072820607339807 and parameters: {'thres_for_max': 0.8400000000000001, 'thres_for_mean': 0.8899999999999999}. Best is trial 18 with value: 24.85751516205821.\n"
     ]
    },
    {
     "name": "stderr",
     "output_type": "stream",
     "text": [
      "Best trial: 18. Best value: 24.8575:  13%|█▎        | 32/250 [04:07<28:07,  7.74s/it]"
     ]
    },
    {
     "name": "stdout",
     "output_type": "stream",
     "text": [
      "1858\n",
      "[I 2024-02-15 07:06:05,130] Trial 31 finished with value: 23.06972129593255 and parameters: {'thres_for_max': 0.31, 'thres_for_mean': 0.45999999999999996}. Best is trial 18 with value: 24.85751516205821.\n"
     ]
    },
    {
     "name": "stderr",
     "output_type": "stream",
     "text": [
      "Best trial: 18. Best value: 24.8575:  13%|█▎        | 33/250 [04:14<28:08,  7.78s/it]"
     ]
    },
    {
     "name": "stdout",
     "output_type": "stream",
     "text": [
      "1852\n",
      "[I 2024-02-15 07:06:13,007] Trial 32 finished with value: 22.729277123482618 and parameters: {'thres_for_max': 0.32999999999999996, 'thres_for_mean': 0.43}. Best is trial 18 with value: 24.85751516205821.\n"
     ]
    },
    {
     "name": "stderr",
     "output_type": "stream",
     "text": [
      "Best trial: 18. Best value: 24.8575:  14%|█▎        | 34/250 [04:22<28:05,  7.80s/it]"
     ]
    },
    {
     "name": "stdout",
     "output_type": "stream",
     "text": [
      "1822\n",
      "[I 2024-02-15 07:06:20,861] Trial 33 finished with value: 20.692629433802487 and parameters: {'thres_for_max': 0.41, 'thres_for_mean': 0.55}. Best is trial 18 with value: 24.85751516205821.\n"
     ]
    },
    {
     "name": "stderr",
     "output_type": "stream",
     "text": [
      "Best trial: 18. Best value: 24.8575:  14%|█▍        | 35/250 [04:30<28:01,  7.82s/it]"
     ]
    },
    {
     "name": "stdout",
     "output_type": "stream",
     "text": [
      "1852\n",
      "[I 2024-02-15 07:06:28,715] Trial 34 finished with value: 22.277538489545012 and parameters: {'thres_for_max': 0.32999999999999996, 'thres_for_mean': 0.35}. Best is trial 18 with value: 24.85751516205821.\n"
     ]
    },
    {
     "name": "stderr",
     "output_type": "stream",
     "text": [
      "Best trial: 18. Best value: 24.8575:  14%|█▍        | 36/250 [04:38<27:50,  7.81s/it]"
     ]
    },
    {
     "name": "stdout",
     "output_type": "stream",
     "text": [
      "1841\n",
      "[I 2024-02-15 07:06:36,493] Trial 35 finished with value: 22.64011662430445 and parameters: {'thres_for_max': 0.36, 'thres_for_mean': 0.44999999999999996}. Best is trial 18 with value: 24.85751516205821.\n"
     ]
    },
    {
     "name": "stderr",
     "output_type": "stream",
     "text": [
      "Best trial: 18. Best value: 24.8575:  15%|█▍        | 37/250 [04:46<27:39,  7.79s/it]"
     ]
    },
    {
     "name": "stdout",
     "output_type": "stream",
     "text": [
      "1810\n",
      "[I 2024-02-15 07:06:44,247] Trial 36 finished with value: 22.78324738424624 and parameters: {'thres_for_max': 0.43, 'thres_for_mean': 0.5700000000000001}. Best is trial 18 with value: 24.85751516205821.\n"
     ]
    },
    {
     "name": "stderr",
     "output_type": "stream",
     "text": [
      "Best trial: 18. Best value: 24.8575:  15%|█▌        | 38/250 [04:53<27:28,  7.77s/it]"
     ]
    },
    {
     "name": "stdout",
     "output_type": "stream",
     "text": [
      "1810\n",
      "[I 2024-02-15 07:06:51,983] Trial 37 finished with value: 22.89354181980854 and parameters: {'thres_for_max': 0.43, 'thres_for_mean': 0.5800000000000001}. Best is trial 18 with value: 24.85751516205821.\n"
     ]
    },
    {
     "name": "stderr",
     "output_type": "stream",
     "text": [
      "Best trial: 18. Best value: 24.8575:  16%|█▌        | 39/250 [05:01<27:18,  7.76s/it]"
     ]
    },
    {
     "name": "stdout",
     "output_type": "stream",
     "text": [
      "1742\n",
      "[I 2024-02-15 07:06:59,721] Trial 38 finished with value: 15.014801609654384 and parameters: {'thres_for_max': 0.49, 'thres_for_mean': 0.62}. Best is trial 18 with value: 24.85751516205821.\n"
     ]
    },
    {
     "name": "stderr",
     "output_type": "stream",
     "text": [
      "Best trial: 18. Best value: 24.8575:  16%|█▌        | 40/250 [05:09<27:14,  7.78s/it]"
     ]
    },
    {
     "name": "stdout",
     "output_type": "stream",
     "text": [
      "1574\n",
      "[I 2024-02-15 07:07:07,543] Trial 39 finished with value: 14.135175320904802 and parameters: {'thres_for_max': 0.5800000000000001, 'thres_for_mean': 0.6699999999999999}. Best is trial 18 with value: 24.85751516205821.\n"
     ]
    },
    {
     "name": "stderr",
     "output_type": "stream",
     "text": [
      "Best trial: 18. Best value: 24.8575:  16%|█▋        | 41/250 [05:17<27:07,  7.79s/it]"
     ]
    },
    {
     "name": "stdout",
     "output_type": "stream",
     "text": [
      "1764\n",
      "[I 2024-02-15 07:07:15,351] Trial 40 finished with value: 15.73429285495571 and parameters: {'thres_for_max': 0.47, 'thres_for_mean': 0.49}. Best is trial 18 with value: 24.85751516205821.\n"
     ]
    },
    {
     "name": "stderr",
     "output_type": "stream",
     "text": [
      "Best trial: 18. Best value: 24.8575:  17%|█▋        | 42/250 [05:25<27:02,  7.80s/it]"
     ]
    },
    {
     "name": "stdout",
     "output_type": "stream",
     "text": [
      "1817\n",
      "[I 2024-02-15 07:07:23,174] Trial 41 finished with value: 23.613059031762695 and parameters: {'thres_for_max': 0.42, 'thres_for_mean': 0.5800000000000001}. Best is trial 18 with value: 24.85751516205821.\n"
     ]
    },
    {
     "name": "stderr",
     "output_type": "stream",
     "text": [
      "Best trial: 18. Best value: 24.8575:  17%|█▋        | 43/250 [05:32<26:51,  7.78s/it]"
     ]
    },
    {
     "name": "stdout",
     "output_type": "stream",
     "text": [
      "1686\n",
      "[I 2024-02-15 07:07:30,924] Trial 42 finished with value: 13.181511882908785 and parameters: {'thres_for_max': 0.53, 'thres_for_mean': 0.6}. Best is trial 18 with value: 24.85751516205821.\n"
     ]
    },
    {
     "name": "stderr",
     "output_type": "stream",
     "text": [
      "Best trial: 18. Best value: 24.8575:  18%|█▊        | 44/250 [05:40<26:43,  7.78s/it]"
     ]
    },
    {
     "name": "stdout",
     "output_type": "stream",
     "text": [
      "1840\n",
      "[I 2024-02-15 07:07:38,700] Trial 43 finished with value: 23.903507169579445 and parameters: {'thres_for_max': 0.37, 'thres_for_mean': 0.55}. Best is trial 18 with value: 24.85751516205821.\n"
     ]
    },
    {
     "name": "stderr",
     "output_type": "stream",
     "text": [
      "Best trial: 18. Best value: 24.8575:  18%|█▊        | 45/250 [05:48<26:36,  7.79s/it]"
     ]
    },
    {
     "name": "stdout",
     "output_type": "stream",
     "text": [
      "1836\n",
      "[I 2024-02-15 07:07:46,501] Trial 44 finished with value: 21.03956315159801 and parameters: {'thres_for_max': 0.38, 'thres_for_mean': 0.56}. Best is trial 18 with value: 24.85751516205821.\n"
     ]
    },
    {
     "name": "stderr",
     "output_type": "stream",
     "text": [
      "Best trial: 18. Best value: 24.8575:  18%|█▊        | 46/250 [05:56<26:32,  7.80s/it]"
     ]
    },
    {
     "name": "stdout",
     "output_type": "stream",
     "text": [
      "1817\n",
      "[I 2024-02-15 07:07:54,345] Trial 45 finished with value: 22.817274026426176 and parameters: {'thres_for_max': 0.42, 'thres_for_mean': 0.51}. Best is trial 18 with value: 24.85751516205821.\n"
     ]
    },
    {
     "name": "stderr",
     "output_type": "stream",
     "text": [
      "Best trial: 18. Best value: 24.8575:  19%|█▉        | 47/250 [06:04<26:24,  7.81s/it]"
     ]
    },
    {
     "name": "stdout",
     "output_type": "stream",
     "text": [
      "1530\n",
      "[I 2024-02-15 07:08:02,161] Trial 46 finished with value: 17.87250578128443 and parameters: {'thres_for_max': 0.6, 'thres_for_mean': 0.6}. Best is trial 18 with value: 24.85751516205821.\n"
     ]
    },
    {
     "name": "stderr",
     "output_type": "stream",
     "text": [
      "Best trial: 18. Best value: 24.8575:  19%|█▉        | 48/250 [06:11<26:14,  7.79s/it]"
     ]
    },
    {
     "name": "stdout",
     "output_type": "stream",
     "text": [
      "1751\n",
      "[I 2024-02-15 07:08:09,924] Trial 47 finished with value: 16.67175460782103 and parameters: {'thres_for_max': 0.48, 'thres_for_mean': 0.5700000000000001}. Best is trial 18 with value: 24.85751516205821.\n"
     ]
    },
    {
     "name": "stderr",
     "output_type": "stream",
     "text": [
      "Best trial: 18. Best value: 24.8575:  20%|█▉        | 49/250 [06:19<26:10,  7.81s/it]"
     ]
    },
    {
     "name": "stdout",
     "output_type": "stream",
     "text": [
      "1799\n",
      "[I 2024-02-15 07:08:17,787] Trial 48 finished with value: 17.884304708859595 and parameters: {'thres_for_max': 0.44, 'thres_for_mean': 0.52}. Best is trial 18 with value: 24.85751516205821.\n"
     ]
    },
    {
     "name": "stderr",
     "output_type": "stream",
     "text": [
      "Best trial: 18. Best value: 24.8575:  20%|██        | 50/250 [06:27<26:10,  7.85s/it]"
     ]
    },
    {
     "name": "stdout",
     "output_type": "stream",
     "text": [
      "1853\n",
      "[I 2024-02-15 07:08:25,726] Trial 49 finished with value: 23.008478456413105 and parameters: {'thres_for_max': 0.32, 'thres_for_mean': 0.63}. Best is trial 18 with value: 24.85751516205821.\n"
     ]
    },
    {
     "name": "stderr",
     "output_type": "stream",
     "text": [
      "Best trial: 18. Best value: 24.8575:  20%|██        | 51/250 [06:35<26:02,  7.85s/it]"
     ]
    },
    {
     "name": "stdout",
     "output_type": "stream",
     "text": [
      "1861\n",
      "[I 2024-02-15 07:08:33,578] Trial 50 finished with value: 22.560924958291693 and parameters: {'thres_for_max': 0.3, 'thres_for_mean': 0.65}. Best is trial 18 with value: 24.85751516205821.\n"
     ]
    },
    {
     "name": "stderr",
     "output_type": "stream",
     "text": [
      "Best trial: 18. Best value: 24.8575:  21%|██        | 52/250 [06:43<25:58,  7.87s/it]"
     ]
    },
    {
     "name": "stdout",
     "output_type": "stream",
     "text": [
      "1841\n",
      "[I 2024-02-15 07:08:41,487] Trial 51 finished with value: 22.475486191247292 and parameters: {'thres_for_max': 0.36, 'thres_for_mean': 0.54}. Best is trial 18 with value: 24.85751516205821.\n"
     ]
    },
    {
     "name": "stderr",
     "output_type": "stream",
     "text": [
      "Best trial: 18. Best value: 24.8575:  21%|██        | 53/250 [06:51<25:51,  7.87s/it]"
     ]
    },
    {
     "name": "stdout",
     "output_type": "stream",
     "text": [
      "1853\n",
      "[I 2024-02-15 07:08:49,372] Trial 52 finished with value: 21.964328194745 and parameters: {'thres_for_max': 0.32, 'thres_for_mean': 0.71}. Best is trial 18 with value: 24.85751516205821.\n"
     ]
    },
    {
     "name": "stderr",
     "output_type": "stream",
     "text": [
      "Best trial: 18. Best value: 24.8575:  22%|██▏       | 54/250 [06:59<25:42,  7.87s/it]"
     ]
    },
    {
     "name": "stdout",
     "output_type": "stream",
     "text": [
      "1829\n",
      "[I 2024-02-15 07:08:57,228] Trial 53 finished with value: 20.544846684518205 and parameters: {'thres_for_max': 0.39, 'thres_for_mean': 0.49}. Best is trial 18 with value: 24.85751516205821.\n"
     ]
    },
    {
     "name": "stderr",
     "output_type": "stream",
     "text": [
      "Best trial: 18. Best value: 24.8575:  22%|██▏       | 55/250 [07:07<25:37,  7.88s/it]"
     ]
    },
    {
     "name": "stdout",
     "output_type": "stream",
     "text": [
      "1840\n",
      "[I 2024-02-15 07:09:05,149] Trial 54 finished with value: 23.947209127836274 and parameters: {'thres_for_max': 0.37, 'thres_for_mean': 0.5800000000000001}. Best is trial 18 with value: 24.85751516205821.\n"
     ]
    },
    {
     "name": "stderr",
     "output_type": "stream",
     "text": [
      "Best trial: 18. Best value: 24.8575:  22%|██▏       | 56/250 [07:14<25:23,  7.85s/it]"
     ]
    },
    {
     "name": "stdout",
     "output_type": "stream",
     "text": [
      "1401\n",
      "[I 2024-02-15 07:09:12,933] Trial 55 finished with value: 15.847920511050905 and parameters: {'thres_for_max': 0.65, 'thres_for_mean': 0.65}. Best is trial 18 with value: 24.85751516205821.\n"
     ]
    },
    {
     "name": "stderr",
     "output_type": "stream",
     "text": [
      "Best trial: 18. Best value: 24.8575:  23%|██▎       | 57/250 [07:22<25:19,  7.87s/it]"
     ]
    },
    {
     "name": "stdout",
     "output_type": "stream",
     "text": [
      "1840\n",
      "[I 2024-02-15 07:09:20,851] Trial 56 finished with value: 22.951040346392688 and parameters: {'thres_for_max': 0.37, 'thres_for_mean': 0.62}. Best is trial 18 with value: 24.85751516205821.\n"
     ]
    },
    {
     "name": "stderr",
     "output_type": "stream",
     "text": [
      "Best trial: 18. Best value: 24.8575:  23%|██▎       | 58/250 [07:30<25:17,  7.90s/it]"
     ]
    },
    {
     "name": "stdout",
     "output_type": "stream",
     "text": [
      "1848\n",
      "[I 2024-02-15 07:09:28,819] Trial 57 finished with value: 22.587590520123136 and parameters: {'thres_for_max': 0.33999999999999997, 'thres_for_mean': 0.49}. Best is trial 18 with value: 24.85751516205821.\n"
     ]
    },
    {
     "name": "stderr",
     "output_type": "stream",
     "text": [
      "Best trial: 18. Best value: 24.8575:  24%|██▎       | 59/250 [07:38<25:04,  7.88s/it]"
     ]
    },
    {
     "name": "stdout",
     "output_type": "stream",
     "text": [
      "1858\n",
      "[I 2024-02-15 07:09:36,643] Trial 58 finished with value: 22.663068675674236 and parameters: {'thres_for_max': 0.31, 'thres_for_mean': 0.8}. Best is trial 18 with value: 24.85751516205821.\n"
     ]
    },
    {
     "name": "stderr",
     "output_type": "stream",
     "text": [
      "Best trial: 18. Best value: 24.8575:  24%|██▍       | 60/250 [07:46<24:57,  7.88s/it]"
     ]
    },
    {
     "name": "stdout",
     "output_type": "stream",
     "text": [
      "1829\n",
      "[I 2024-02-15 07:09:44,525] Trial 59 finished with value: 19.937872803567966 and parameters: {'thres_for_max': 0.39, 'thres_for_mean': 0.45999999999999996}. Best is trial 18 with value: 24.85751516205821.\n"
     ]
    },
    {
     "name": "stderr",
     "output_type": "stream",
     "text": [
      "Best trial: 18. Best value: 24.8575:  24%|██▍       | 61/250 [07:54<24:43,  7.85s/it]"
     ]
    },
    {
     "name": "stdout",
     "output_type": "stream",
     "text": [
      "1844\n",
      "[I 2024-02-15 07:09:52,295] Trial 60 finished with value: 21.329093839645793 and parameters: {'thres_for_max': 0.35, 'thres_for_mean': 0.7}. Best is trial 18 with value: 24.85751516205821.\n"
     ]
    },
    {
     "name": "stderr",
     "output_type": "stream",
     "text": [
      "Best trial: 18. Best value: 24.8575:  25%|██▍       | 62/250 [08:02<24:38,  7.86s/it]"
     ]
    },
    {
     "name": "stdout",
     "output_type": "stream",
     "text": [
      "1840\n",
      "[I 2024-02-15 07:10:00,201] Trial 61 finished with value: 22.951040346392688 and parameters: {'thres_for_max': 0.37, 'thres_for_mean': 0.62}. Best is trial 18 with value: 24.85751516205821.\n"
     ]
    },
    {
     "name": "stderr",
     "output_type": "stream",
     "text": [
      "Best trial: 18. Best value: 24.8575:  25%|██▌       | 63/250 [08:09<24:31,  7.87s/it]"
     ]
    },
    {
     "name": "stdout",
     "output_type": "stream",
     "text": [
      "1822\n",
      "[I 2024-02-15 07:10:08,076] Trial 62 finished with value: 19.842827166284795 and parameters: {'thres_for_max': 0.41, 'thres_for_mean': 0.63}. Best is trial 18 with value: 24.85751516205821.\n"
     ]
    },
    {
     "name": "stderr",
     "output_type": "stream",
     "text": [
      "Best trial: 18. Best value: 24.8575:  26%|██▌       | 64/250 [08:17<24:21,  7.86s/it]"
     ]
    },
    {
     "name": "stdout",
     "output_type": "stream",
     "text": [
      "1111\n",
      "[I 2024-02-15 07:10:15,908] Trial 63 finished with value: 14.207512883204695 and parameters: {'thres_for_max': 0.76, 'thres_for_mean': 0.59}. Best is trial 18 with value: 24.85751516205821.\n"
     ]
    },
    {
     "name": "stderr",
     "output_type": "stream",
     "text": [
      "Best trial: 18. Best value: 24.8575:  26%|██▌       | 65/250 [08:25<24:13,  7.86s/it]"
     ]
    },
    {
     "name": "stdout",
     "output_type": "stream",
     "text": [
      "1840\n",
      "[I 2024-02-15 07:10:23,771] Trial 64 finished with value: 23.023449909477364 and parameters: {'thres_for_max': 0.37, 'thres_for_mean': 0.6599999999999999}. Best is trial 18 with value: 24.85751516205821.\n"
     ]
    },
    {
     "name": "stderr",
     "output_type": "stream",
     "text": [
      "Best trial: 18. Best value: 24.8575:  26%|██▋       | 66/250 [08:33<24:09,  7.88s/it]"
     ]
    },
    {
     "name": "stdout",
     "output_type": "stream",
     "text": [
      "1853\n",
      "[I 2024-02-15 07:10:31,686] Trial 65 finished with value: 22.85006514942663 and parameters: {'thres_for_max': 0.32, 'thres_for_mean': 0.6699999999999999}. Best is trial 18 with value: 24.85751516205821.\n"
     ]
    },
    {
     "name": "stderr",
     "output_type": "stream",
     "text": [
      "Best trial: 18. Best value: 24.8575:  27%|██▋       | 67/250 [08:41<23:55,  7.84s/it]"
     ]
    },
    {
     "name": "stdout",
     "output_type": "stream",
     "text": [
      "1861\n",
      "[I 2024-02-15 07:10:39,454] Trial 66 finished with value: 22.0885566555409 and parameters: {'thres_for_max': 0.3, 'thres_for_mean': 0.8600000000000001}. Best is trial 18 with value: 24.85751516205821.\n"
     ]
    },
    {
     "name": "stderr",
     "output_type": "stream",
     "text": [
      "Best trial: 18. Best value: 24.8575:  27%|██▋       | 68/250 [08:49<23:39,  7.80s/it]"
     ]
    },
    {
     "name": "stdout",
     "output_type": "stream",
     "text": [
      "1848\n",
      "[I 2024-02-15 07:10:47,155] Trial 67 finished with value: 22.53994212603599 and parameters: {'thres_for_max': 0.33999999999999997, 'thres_for_mean': 0.39}. Best is trial 18 with value: 24.85751516205821.\n"
     ]
    },
    {
     "name": "stderr",
     "output_type": "stream",
     "text": [
      "Best trial: 18. Best value: 24.8575:  28%|██▊       | 69/250 [08:56<23:24,  7.76s/it]"
     ]
    },
    {
     "name": "stdout",
     "output_type": "stream",
     "text": [
      "1341\n",
      "[I 2024-02-15 07:10:54,823] Trial 68 finished with value: 17.642582031035744 and parameters: {'thres_for_max': 0.6799999999999999, 'thres_for_mean': 0.55}. Best is trial 18 with value: 24.85751516205821.\n"
     ]
    },
    {
     "name": "stderr",
     "output_type": "stream",
     "text": [
      "Best trial: 18. Best value: 24.8575:  28%|██▊       | 70/250 [09:04<23:19,  7.78s/it]"
     ]
    },
    {
     "name": "stdout",
     "output_type": "stream",
     "text": [
      "1794\n",
      "[I 2024-02-15 07:11:02,637] Trial 69 finished with value: 17.36300264195019 and parameters: {'thres_for_max': 0.44999999999999996, 'thres_for_mean': 0.64}. Best is trial 18 with value: 24.85751516205821.\n"
     ]
    },
    {
     "name": "stderr",
     "output_type": "stream",
     "text": [
      "Best trial: 18. Best value: 24.8575:  28%|██▊       | 71/250 [09:12<23:13,  7.78s/it]"
     ]
    },
    {
     "name": "stdout",
     "output_type": "stream",
     "text": [
      "1825\n",
      "[I 2024-02-15 07:11:10,438] Trial 70 finished with value: 17.69403816225363 and parameters: {'thres_for_max': 0.4, 'thres_for_mean': 0.71}. Best is trial 18 with value: 24.85751516205821.\n"
     ]
    },
    {
     "name": "stderr",
     "output_type": "stream",
     "text": [
      "Best trial: 18. Best value: 24.8575:  29%|██▉       | 72/250 [09:20<23:10,  7.81s/it]"
     ]
    },
    {
     "name": "stdout",
     "output_type": "stream",
     "text": [
      "1840\n",
      "[I 2024-02-15 07:11:18,308] Trial 71 finished with value: 22.792100925748226 and parameters: {'thres_for_max': 0.37, 'thres_for_mean': 0.61}. Best is trial 18 with value: 24.85751516205821.\n"
     ]
    },
    {
     "name": "stderr",
     "output_type": "stream",
     "text": [
      "Best trial: 18. Best value: 24.8575:  29%|██▉       | 73/250 [09:28<23:02,  7.81s/it]"
     ]
    },
    {
     "name": "stdout",
     "output_type": "stream",
     "text": [
      "1841\n",
      "[I 2024-02-15 07:11:26,123] Trial 72 finished with value: 22.59305267811912 and parameters: {'thres_for_max': 0.36, 'thres_for_mean': 0.5800000000000001}. Best is trial 18 with value: 24.85751516205821.\n"
     ]
    },
    {
     "name": "stderr",
     "output_type": "stream",
     "text": [
      "Best trial: 18. Best value: 24.8575:  30%|██▉       | 74/250 [09:35<22:53,  7.80s/it]"
     ]
    },
    {
     "name": "stdout",
     "output_type": "stream",
     "text": [
      "1853\n",
      "[I 2024-02-15 07:11:33,907] Trial 73 finished with value: 22.5406199130311 and parameters: {'thres_for_max': 0.32, 'thres_for_mean': 0.77}. Best is trial 18 with value: 24.85751516205821.\n"
     ]
    },
    {
     "name": "stderr",
     "output_type": "stream",
     "text": [
      "Best trial: 18. Best value: 24.8575:  30%|███       | 75/250 [09:43<22:46,  7.81s/it]"
     ]
    },
    {
     "name": "stdout",
     "output_type": "stream",
     "text": [
      "1829\n",
      "[I 2024-02-15 07:11:41,724] Trial 74 finished with value: 20.050179624188374 and parameters: {'thres_for_max': 0.39, 'thres_for_mean': 0.6599999999999999}. Best is trial 18 with value: 24.85751516205821.\n"
     ]
    },
    {
     "name": "stderr",
     "output_type": "stream",
     "text": [
      "Best trial: 18. Best value: 24.8575:  30%|███       | 76/250 [09:51<22:33,  7.78s/it]"
     ]
    },
    {
     "name": "stdout",
     "output_type": "stream",
     "text": [
      "1848\n",
      "[I 2024-02-15 07:11:49,443] Trial 75 finished with value: 21.262763853783028 and parameters: {'thres_for_max': 0.33999999999999997, 'thres_for_mean': 0.6799999999999999}. Best is trial 18 with value: 24.85751516205821.\n"
     ]
    },
    {
     "name": "stderr",
     "output_type": "stream",
     "text": [
      "Best trial: 18. Best value: 24.8575:  31%|███       | 77/250 [09:59<22:25,  7.78s/it]"
     ]
    },
    {
     "name": "stdout",
     "output_type": "stream",
     "text": [
      "1822\n",
      "[I 2024-02-15 07:11:57,221] Trial 76 finished with value: 21.018738082880795 and parameters: {'thres_for_max': 0.41, 'thres_for_mean': 0.3}. Best is trial 18 with value: 24.85751516205821.\n"
     ]
    },
    {
     "name": "stderr",
     "output_type": "stream",
     "text": [
      "Best trial: 18. Best value: 24.8575:  31%|███       | 78/250 [10:07<22:26,  7.83s/it]"
     ]
    },
    {
     "name": "stdout",
     "output_type": "stream",
     "text": [
      "1836\n",
      "[I 2024-02-15 07:12:05,166] Trial 77 finished with value: 20.30544625426235 and parameters: {'thres_for_max': 0.38, 'thres_for_mean': 0.53}. Best is trial 18 with value: 24.85751516205821.\n"
     ]
    },
    {
     "name": "stderr",
     "output_type": "stream",
     "text": [
      "Best trial: 18. Best value: 24.8575:  32%|███▏      | 79/250 [10:14<22:19,  7.83s/it]"
     ]
    },
    {
     "name": "stdout",
     "output_type": "stream",
     "text": [
      "1841\n",
      "[I 2024-02-15 07:12:13,009] Trial 78 finished with value: 21.580781939560588 and parameters: {'thres_for_max': 0.36, 'thres_for_mean': 0.6}. Best is trial 18 with value: 24.85751516205821.\n"
     ]
    },
    {
     "name": "stderr",
     "output_type": "stream",
     "text": [
      "Best trial: 18. Best value: 24.8575:  32%|███▏      | 80/250 [10:22<22:01,  7.77s/it]"
     ]
    },
    {
     "name": "stdout",
     "output_type": "stream",
     "text": [
      "1484\n",
      "[I 2024-02-15 07:12:20,642] Trial 79 finished with value: 18.11466540204261 and parameters: {'thres_for_max': 0.62, 'thres_for_mean': 0.73}. Best is trial 18 with value: 24.85751516205821.\n"
     ]
    },
    {
     "name": "stderr",
     "output_type": "stream",
     "text": [
      "Best trial: 18. Best value: 24.8575:  32%|███▏      | 81/250 [10:30<21:54,  7.78s/it]"
     ]
    },
    {
     "name": "stdout",
     "output_type": "stream",
     "text": [
      "1853\n",
      "[I 2024-02-15 07:12:28,426] Trial 80 finished with value: 23.0372712404497 and parameters: {'thres_for_max': 0.32, 'thres_for_mean': 0.62}. Best is trial 18 with value: 24.85751516205821.\n"
     ]
    },
    {
     "name": "stderr",
     "output_type": "stream",
     "text": [
      "Best trial: 18. Best value: 24.8575:  33%|███▎      | 82/250 [10:38<21:50,  7.80s/it]"
     ]
    },
    {
     "name": "stdout",
     "output_type": "stream",
     "text": [
      "1852\n",
      "[I 2024-02-15 07:12:36,274] Trial 81 finished with value: 23.21184131525771 and parameters: {'thres_for_max': 0.32999999999999996, 'thres_for_mean': 0.63}. Best is trial 18 with value: 24.85751516205821.\n"
     ]
    },
    {
     "name": "stderr",
     "output_type": "stream",
     "text": [
      "Best trial: 18. Best value: 24.8575:  33%|███▎      | 83/250 [10:45<21:41,  7.79s/it]"
     ]
    },
    {
     "name": "stdout",
     "output_type": "stream",
     "text": [
      "1853\n",
      "[I 2024-02-15 07:12:44,050] Trial 82 finished with value: 24.03703760611258 and parameters: {'thres_for_max': 0.32, 'thres_for_mean': 0.5800000000000001}. Best is trial 18 with value: 24.85751516205821.\n"
     ]
    },
    {
     "name": "stderr",
     "output_type": "stream",
     "text": [
      "Best trial: 18. Best value: 24.8575:  34%|███▎      | 84/250 [10:53<21:34,  7.80s/it]"
     ]
    },
    {
     "name": "stdout",
     "output_type": "stream",
     "text": [
      "1852\n",
      "[I 2024-02-15 07:12:51,871] Trial 83 finished with value: 24.008753848459968 and parameters: {'thres_for_max': 0.32999999999999996, 'thres_for_mean': 0.56}. Best is trial 18 with value: 24.85751516205821.\n"
     ]
    },
    {
     "name": "stderr",
     "output_type": "stream",
     "text": [
      "Best trial: 18. Best value: 24.8575:  34%|███▍      | 85/250 [11:01<21:29,  7.81s/it]"
     ]
    },
    {
     "name": "stdout",
     "output_type": "stream",
     "text": [
      "1852\n",
      "[I 2024-02-15 07:12:59,715] Trial 84 finished with value: 24.008753848459968 and parameters: {'thres_for_max': 0.32999999999999996, 'thres_for_mean': 0.56}. Best is trial 18 with value: 24.85751516205821.\n"
     ]
    },
    {
     "name": "stderr",
     "output_type": "stream",
     "text": [
      "Best trial: 18. Best value: 24.8575:  34%|███▍      | 86/250 [11:09<21:22,  7.82s/it]"
     ]
    },
    {
     "name": "stdout",
     "output_type": "stream",
     "text": [
      "1848\n",
      "[I 2024-02-15 07:13:07,549] Trial 85 finished with value: 22.700494756975548 and parameters: {'thres_for_max': 0.33999999999999997, 'thres_for_mean': 0.56}. Best is trial 18 with value: 24.85751516205821.\n"
     ]
    },
    {
     "name": "stderr",
     "output_type": "stream",
     "text": [
      "Best trial: 18. Best value: 24.8575:  35%|███▍      | 87/250 [11:17<21:21,  7.86s/it]"
     ]
    },
    {
     "name": "stdout",
     "output_type": "stream",
     "text": [
      "1861\n",
      "[I 2024-02-15 07:13:15,505] Trial 86 finished with value: 22.114081940276847 and parameters: {'thres_for_max': 0.3, 'thres_for_mean': 0.52}. Best is trial 18 with value: 24.85751516205821.\n"
     ]
    },
    {
     "name": "stderr",
     "output_type": "stream",
     "text": [
      "Best trial: 18. Best value: 24.8575:  35%|███▌      | 88/250 [11:25<21:03,  7.80s/it]"
     ]
    },
    {
     "name": "stdout",
     "output_type": "stream",
     "text": [
      "1073\n",
      "[I 2024-02-15 07:13:23,164] Trial 87 finished with value: 12.474519549487185 and parameters: {'thres_for_max': 0.8500000000000001, 'thres_for_mean': 0.5800000000000001}. Best is trial 18 with value: 24.85751516205821.\n"
     ]
    },
    {
     "name": "stderr",
     "output_type": "stream",
     "text": [
      "Best trial: 18. Best value: 24.8575:  36%|███▌      | 89/250 [11:32<20:56,  7.80s/it]"
     ]
    },
    {
     "name": "stdout",
     "output_type": "stream",
     "text": [
      "1844\n",
      "[I 2024-02-15 07:13:30,973] Trial 88 finished with value: 22.324195149700895 and parameters: {'thres_for_max': 0.35, 'thres_for_mean': 0.5}. Best is trial 18 with value: 24.85751516205821.\n"
     ]
    },
    {
     "name": "stderr",
     "output_type": "stream",
     "text": [
      "Best trial: 18. Best value: 24.8575:  36%|███▌      | 90/250 [11:40<20:48,  7.80s/it]"
     ]
    },
    {
     "name": "stdout",
     "output_type": "stream",
     "text": [
      "1852\n",
      "[I 2024-02-15 07:13:38,778] Trial 89 finished with value: 24.12356814393974 and parameters: {'thres_for_max': 0.32999999999999996, 'thres_for_mean': 0.54}. Best is trial 18 with value: 24.85751516205821.\n"
     ]
    },
    {
     "name": "stderr",
     "output_type": "stream",
     "text": [
      "Best trial: 18. Best value: 24.8575:  36%|███▋      | 91/250 [11:48<20:41,  7.81s/it]"
     ]
    },
    {
     "name": "stdout",
     "output_type": "stream",
     "text": [
      "1852\n",
      "[I 2024-02-15 07:13:46,594] Trial 90 finished with value: 24.12356814393974 and parameters: {'thres_for_max': 0.32999999999999996, 'thres_for_mean': 0.54}. Best is trial 18 with value: 24.85751516205821.\n"
     ]
    },
    {
     "name": "stderr",
     "output_type": "stream",
     "text": [
      "Best trial: 18. Best value: 24.8575:  37%|███▋      | 92/250 [11:56<20:43,  7.87s/it]"
     ]
    },
    {
     "name": "stdout",
     "output_type": "stream",
     "text": [
      "1852\n",
      "[I 2024-02-15 07:13:54,619] Trial 91 finished with value: 24.12356814393974 and parameters: {'thres_for_max': 0.32999999999999996, 'thres_for_mean': 0.54}. Best is trial 18 with value: 24.85751516205821.\n"
     ]
    },
    {
     "name": "stderr",
     "output_type": "stream",
     "text": [
      "Best trial: 18. Best value: 24.8575:  37%|███▋      | 93/250 [12:04<20:36,  7.88s/it]"
     ]
    },
    {
     "name": "stdout",
     "output_type": "stream",
     "text": [
      "1844\n",
      "[I 2024-02-15 07:14:02,512] Trial 92 finished with value: 22.979939317999666 and parameters: {'thres_for_max': 0.35, 'thres_for_mean': 0.54}. Best is trial 18 with value: 24.85751516205821.\n"
     ]
    },
    {
     "name": "stderr",
     "output_type": "stream",
     "text": [
      "Best trial: 18. Best value: 24.8575:  38%|███▊      | 94/250 [12:12<20:30,  7.89s/it]"
     ]
    },
    {
     "name": "stdout",
     "output_type": "stream",
     "text": [
      "1852\n",
      "[I 2024-02-15 07:14:10,412] Trial 93 finished with value: 24.008753848459968 and parameters: {'thres_for_max': 0.32999999999999996, 'thres_for_mean': 0.56}. Best is trial 18 with value: 24.85751516205821.\n"
     ]
    },
    {
     "name": "stderr",
     "output_type": "stream",
     "text": [
      "Best trial: 18. Best value: 24.8575:  38%|███▊      | 95/250 [12:20<20:22,  7.88s/it]"
     ]
    },
    {
     "name": "stdout",
     "output_type": "stream",
     "text": [
      "1852\n",
      "[I 2024-02-15 07:14:18,296] Trial 94 finished with value: 24.008753848459968 and parameters: {'thres_for_max': 0.32999999999999996, 'thres_for_mean': 0.56}. Best is trial 18 with value: 24.85751516205821.\n"
     ]
    },
    {
     "name": "stderr",
     "output_type": "stream",
     "text": [
      "Best trial: 18. Best value: 24.8575:  38%|███▊      | 96/250 [12:28<20:15,  7.89s/it]"
     ]
    },
    {
     "name": "stdout",
     "output_type": "stream",
     "text": [
      "1852\n",
      "[I 2024-02-15 07:14:26,207] Trial 95 finished with value: 24.008753848459968 and parameters: {'thres_for_max': 0.32999999999999996, 'thres_for_mean': 0.56}. Best is trial 18 with value: 24.85751516205821.\n"
     ]
    },
    {
     "name": "stderr",
     "output_type": "stream",
     "text": [
      "Best trial: 18. Best value: 24.8575:  39%|███▉      | 97/250 [12:35<20:05,  7.88s/it]"
     ]
    },
    {
     "name": "stdout",
     "output_type": "stream",
     "text": [
      "1861\n",
      "[I 2024-02-15 07:14:34,062] Trial 96 finished with value: 22.242216078790157 and parameters: {'thres_for_max': 0.3, 'thres_for_mean': 0.53}. Best is trial 18 with value: 24.85751516205821.\n"
     ]
    },
    {
     "name": "stderr",
     "output_type": "stream",
     "text": [
      "Best trial: 18. Best value: 24.8575:  39%|███▉      | 98/250 [12:43<19:52,  7.84s/it]"
     ]
    },
    {
     "name": "stdout",
     "output_type": "stream",
     "text": [
      "1852\n",
      "[I 2024-02-15 07:14:41,812] Trial 97 finished with value: 24.008753848459968 and parameters: {'thres_for_max': 0.32999999999999996, 'thres_for_mean': 0.56}. Best is trial 18 with value: 24.85751516205821.\n"
     ]
    },
    {
     "name": "stderr",
     "output_type": "stream",
     "text": [
      "Best trial: 18. Best value: 24.8575:  40%|███▉      | 99/250 [12:51<19:47,  7.86s/it]"
     ]
    },
    {
     "name": "stdout",
     "output_type": "stream",
     "text": [
      "1858\n",
      "[I 2024-02-15 07:14:49,728] Trial 98 finished with value: 23.31558172770141 and parameters: {'thres_for_max': 0.31, 'thres_for_mean': 0.51}. Best is trial 18 with value: 24.85751516205821.\n"
     ]
    },
    {
     "name": "stderr",
     "output_type": "stream",
     "text": [
      "Best trial: 18. Best value: 24.8575:  40%|████      | 100/250 [12:59<19:26,  7.78s/it]"
     ]
    },
    {
     "name": "stdout",
     "output_type": "stream",
     "text": [
      "1238\n",
      "[I 2024-02-15 07:14:57,306] Trial 99 finished with value: 14.067716335905146 and parameters: {'thres_for_max': 0.77, 'thres_for_mean': 0.54}. Best is trial 18 with value: 24.85751516205821.\n"
     ]
    },
    {
     "name": "stderr",
     "output_type": "stream",
     "text": [
      "Best trial: 18. Best value: 24.8575:  40%|████      | 101/250 [13:07<19:24,  7.81s/it]"
     ]
    },
    {
     "name": "stdout",
     "output_type": "stream",
     "text": [
      "1852\n",
      "[I 2024-02-15 07:15:05,204] Trial 100 finished with value: 24.132006063746672 and parameters: {'thres_for_max': 0.32999999999999996, 'thres_for_mean': 0.5700000000000001}. Best is trial 18 with value: 24.85751516205821.\n"
     ]
    },
    {
     "name": "stderr",
     "output_type": "stream",
     "text": [
      "Best trial: 18. Best value: 24.8575:  41%|████      | 102/250 [13:14<19:13,  7.79s/it]"
     ]
    },
    {
     "name": "stdout",
     "output_type": "stream",
     "text": [
      "1226\n",
      "[I 2024-02-15 07:15:12,949] Trial 101 finished with value: 19.165504480930597 and parameters: {'thres_for_max': 0.73, 'thres_for_mean': 0.56}. Best is trial 18 with value: 24.85751516205821.\n"
     ]
    },
    {
     "name": "stderr",
     "output_type": "stream",
     "text": [
      "Best trial: 18. Best value: 24.8575:  41%|████      | 103/250 [13:22<19:11,  7.83s/it]"
     ]
    },
    {
     "name": "stdout",
     "output_type": "stream",
     "text": [
      "1852\n",
      "[I 2024-02-15 07:15:20,877] Trial 102 finished with value: 24.132006063746672 and parameters: {'thres_for_max': 0.32999999999999996, 'thres_for_mean': 0.5700000000000001}. Best is trial 18 with value: 24.85751516205821.\n"
     ]
    },
    {
     "name": "stderr",
     "output_type": "stream",
     "text": [
      "Best trial: 18. Best value: 24.8575:  42%|████▏     | 104/250 [13:30<19:02,  7.83s/it]"
     ]
    },
    {
     "name": "stdout",
     "output_type": "stream",
     "text": [
      "1858\n",
      "[I 2024-02-15 07:15:28,693] Trial 103 finished with value: 22.89464197978592 and parameters: {'thres_for_max': 0.31, 'thres_for_mean': 0.59}. Best is trial 18 with value: 24.85751516205821.\n"
     ]
    },
    {
     "name": "stderr",
     "output_type": "stream",
     "text": [
      "Best trial: 18. Best value: 24.8575:  42%|████▏     | 105/250 [13:38<18:55,  7.83s/it]"
     ]
    },
    {
     "name": "stdout",
     "output_type": "stream",
     "text": [
      "1852\n",
      "[I 2024-02-15 07:15:36,538] Trial 104 finished with value: 23.03779105180732 and parameters: {'thres_for_max': 0.32999999999999996, 'thres_for_mean': 0.52}. Best is trial 18 with value: 24.85751516205821.\n"
     ]
    },
    {
     "name": "stderr",
     "output_type": "stream",
     "text": [
      "Best trial: 18. Best value: 24.8575:  42%|████▏     | 106/250 [13:46<18:44,  7.81s/it]"
     ]
    },
    {
     "name": "stdout",
     "output_type": "stream",
     "text": [
      "1853\n",
      "[I 2024-02-15 07:15:44,281] Trial 105 finished with value: 23.92056576341231 and parameters: {'thres_for_max': 0.32, 'thres_for_mean': 0.5700000000000001}. Best is trial 18 with value: 24.85751516205821.\n"
     ]
    },
    {
     "name": "stderr",
     "output_type": "stream",
     "text": [
      "Best trial: 18. Best value: 24.8575:  43%|████▎     | 107/250 [13:54<18:37,  7.82s/it]"
     ]
    },
    {
     "name": "stdout",
     "output_type": "stream",
     "text": [
      "1844\n",
      "[I 2024-02-15 07:15:52,124] Trial 106 finished with value: 22.785743830336074 and parameters: {'thres_for_max': 0.35, 'thres_for_mean': 0.48}. Best is trial 18 with value: 24.85751516205821.\n"
     ]
    },
    {
     "name": "stderr",
     "output_type": "stream",
     "text": [
      "Best trial: 18. Best value: 24.8575:  43%|████▎     | 108/250 [14:01<18:29,  7.81s/it]"
     ]
    },
    {
     "name": "stdout",
     "output_type": "stream",
     "text": [
      "1836\n",
      "[I 2024-02-15 07:15:59,928] Trial 107 finished with value: 21.139959174770443 and parameters: {'thres_for_max': 0.38, 'thres_for_mean': 0.54}. Best is trial 18 with value: 24.85751516205821.\n"
     ]
    },
    {
     "name": "stderr",
     "output_type": "stream",
     "text": [
      "Best trial: 18. Best value: 24.8575:  44%|████▎     | 109/250 [14:09<18:25,  7.84s/it]"
     ]
    },
    {
     "name": "stdout",
     "output_type": "stream",
     "text": [
      "1861\n",
      "[I 2024-02-15 07:16:07,830] Trial 108 finished with value: 22.234260897128458 and parameters: {'thres_for_max': 0.3, 'thres_for_mean': 0.6}. Best is trial 18 with value: 24.85751516205821.\n"
     ]
    },
    {
     "name": "stderr",
     "output_type": "stream",
     "text": [
      "Best trial: 18. Best value: 24.8575:  44%|████▍     | 110/250 [14:17<18:18,  7.85s/it]"
     ]
    },
    {
     "name": "stdout",
     "output_type": "stream",
     "text": [
      "1844\n",
      "[I 2024-02-15 07:16:15,698] Trial 109 finished with value: 22.324195149700895 and parameters: {'thres_for_max': 0.35, 'thres_for_mean': 0.5}. Best is trial 18 with value: 24.85751516205821.\n"
     ]
    },
    {
     "name": "stderr",
     "output_type": "stream",
     "text": [
      "Best trial: 18. Best value: 24.8575:  44%|████▍     | 111/250 [14:25<18:12,  7.86s/it]"
     ]
    },
    {
     "name": "stdout",
     "output_type": "stream",
     "text": [
      "1848\n",
      "[I 2024-02-15 07:16:23,587] Trial 110 finished with value: 22.886445537292158 and parameters: {'thres_for_max': 0.33999999999999997, 'thres_for_mean': 0.55}. Best is trial 18 with value: 24.85751516205821.\n"
     ]
    },
    {
     "name": "stderr",
     "output_type": "stream",
     "text": [
      "Best trial: 18. Best value: 24.8575:  45%|████▍     | 112/250 [14:33<18:01,  7.84s/it]"
     ]
    },
    {
     "name": "stdout",
     "output_type": "stream",
     "text": [
      "1852\n",
      "[I 2024-02-15 07:16:31,366] Trial 111 finished with value: 24.132006063746672 and parameters: {'thres_for_max': 0.32999999999999996, 'thres_for_mean': 0.5700000000000001}. Best is trial 18 with value: 24.85751516205821.\n"
     ]
    },
    {
     "name": "stderr",
     "output_type": "stream",
     "text": [
      "Best trial: 18. Best value: 24.8575:  45%|████▌     | 113/250 [14:41<17:56,  7.86s/it]"
     ]
    },
    {
     "name": "stdout",
     "output_type": "stream",
     "text": [
      "1858\n",
      "[I 2024-02-15 07:16:39,267] Trial 112 finished with value: 24.014100359627797 and parameters: {'thres_for_max': 0.31, 'thres_for_mean': 0.5700000000000001}. Best is trial 18 with value: 24.85751516205821.\n"
     ]
    },
    {
     "name": "stderr",
     "output_type": "stream",
     "text": [
      "Best trial: 18. Best value: 24.8575:  46%|████▌     | 114/250 [14:49<17:50,  7.87s/it]"
     ]
    },
    {
     "name": "stdout",
     "output_type": "stream",
     "text": [
      "1858\n",
      "[I 2024-02-15 07:16:47,162] Trial 113 finished with value: 22.89464197978592 and parameters: {'thres_for_max': 0.31, 'thres_for_mean': 0.59}. Best is trial 18 with value: 24.85751516205821.\n"
     ]
    },
    {
     "name": "stderr",
     "output_type": "stream",
     "text": [
      "Best trial: 18. Best value: 24.8575:  46%|████▌     | 115/250 [14:56<17:41,  7.86s/it]"
     ]
    },
    {
     "name": "stdout",
     "output_type": "stream",
     "text": [
      "1841\n",
      "[I 2024-02-15 07:16:55,008] Trial 114 finished with value: 22.48377010301163 and parameters: {'thres_for_max': 0.36, 'thres_for_mean': 0.5700000000000001}. Best is trial 18 with value: 24.85751516205821.\n"
     ]
    },
    {
     "name": "stderr",
     "output_type": "stream",
     "text": [
      "Best trial: 18. Best value: 24.8575:  46%|████▋     | 116/250 [15:04<17:32,  7.85s/it]"
     ]
    },
    {
     "name": "stdout",
     "output_type": "stream",
     "text": [
      "1853\n",
      "[I 2024-02-15 07:17:02,843] Trial 115 finished with value: 22.877816888652518 and parameters: {'thres_for_max': 0.32, 'thres_for_mean': 0.61}. Best is trial 18 with value: 24.85751516205821.\n"
     ]
    },
    {
     "name": "stderr",
     "output_type": "stream",
     "text": [
      "Best trial: 18. Best value: 24.8575:  47%|████▋     | 117/250 [15:12<17:25,  7.86s/it]"
     ]
    },
    {
     "name": "stdout",
     "output_type": "stream",
     "text": [
      "1716\n",
      "[I 2024-02-15 07:17:10,719] Trial 116 finished with value: 14.982028421003244 and parameters: {'thres_for_max': 0.51, 'thres_for_mean': 0.53}. Best is trial 18 with value: 24.85751516205821.\n"
     ]
    },
    {
     "name": "stderr",
     "output_type": "stream",
     "text": [
      "Best trial: 18. Best value: 24.8575:  47%|████▋     | 118/250 [15:20<17:08,  7.80s/it]"
     ]
    },
    {
     "name": "stdout",
     "output_type": "stream",
     "text": [
      "1250\n",
      "[I 2024-02-15 07:17:18,363] Trial 117 finished with value: 18.438009633647024 and parameters: {'thres_for_max': 0.7, 'thres_for_mean': 0.5800000000000001}. Best is trial 18 with value: 24.85751516205821.\n"
     ]
    },
    {
     "name": "stderr",
     "output_type": "stream",
     "text": [
      "Best trial: 18. Best value: 24.8575:  48%|████▊     | 119/250 [15:28<17:03,  7.82s/it]"
     ]
    },
    {
     "name": "stdout",
     "output_type": "stream",
     "text": [
      "1861\n",
      "[I 2024-02-15 07:17:26,227] Trial 118 finished with value: 22.114081940276847 and parameters: {'thres_for_max': 0.3, 'thres_for_mean': 0.52}. Best is trial 18 with value: 24.85751516205821.\n"
     ]
    },
    {
     "name": "stderr",
     "output_type": "stream",
     "text": [
      "Best trial: 18. Best value: 24.8575:  48%|████▊     | 120/250 [15:35<16:53,  7.79s/it]"
     ]
    },
    {
     "name": "stdout",
     "output_type": "stream",
     "text": [
      "1848\n",
      "[I 2024-02-15 07:17:33,969] Trial 119 finished with value: 22.886445537292158 and parameters: {'thres_for_max': 0.33999999999999997, 'thres_for_mean': 0.55}. Best is trial 18 with value: 24.85751516205821.\n"
     ]
    },
    {
     "name": "stderr",
     "output_type": "stream",
     "text": [
      "Best trial: 18. Best value: 24.8575:  48%|████▊     | 121/250 [15:43<16:37,  7.74s/it]"
     ]
    },
    {
     "name": "stdout",
     "output_type": "stream",
     "text": [
      "1029\n",
      "[I 2024-02-15 07:17:41,569] Trial 120 finished with value: 19.576401213708106 and parameters: {'thres_for_max': 0.79, 'thres_for_mean': 0.61}. Best is trial 18 with value: 24.85751516205821.\n"
     ]
    },
    {
     "name": "stderr",
     "output_type": "stream",
     "text": [
      "Best trial: 18. Best value: 24.8575:  49%|████▉     | 122/250 [15:51<16:30,  7.73s/it]"
     ]
    },
    {
     "name": "stdout",
     "output_type": "stream",
     "text": [
      "1852\n",
      "[I 2024-02-15 07:17:49,302] Trial 121 finished with value: 24.008753848459968 and parameters: {'thres_for_max': 0.32999999999999996, 'thres_for_mean': 0.56}. Best is trial 18 with value: 24.85751516205821.\n"
     ]
    },
    {
     "name": "stderr",
     "output_type": "stream",
     "text": [
      "Best trial: 18. Best value: 24.8575:  49%|████▉     | 123/250 [15:59<16:27,  7.78s/it]"
     ]
    },
    {
     "name": "stdout",
     "output_type": "stream",
     "text": [
      "1853\n",
      "[I 2024-02-15 07:17:57,175] Trial 122 finished with value: 23.92056576341231 and parameters: {'thres_for_max': 0.32, 'thres_for_mean': 0.5700000000000001}. Best is trial 18 with value: 24.85751516205821.\n"
     ]
    },
    {
     "name": "stderr",
     "output_type": "stream",
     "text": [
      "Best trial: 18. Best value: 24.8575:  50%|████▉     | 124/250 [16:06<16:20,  7.78s/it]"
     ]
    },
    {
     "name": "stdout",
     "output_type": "stream",
     "text": [
      "1841\n",
      "[I 2024-02-15 07:18:04,958] Trial 123 finished with value: 22.475486191247292 and parameters: {'thres_for_max': 0.36, 'thres_for_mean': 0.54}. Best is trial 18 with value: 24.85751516205821.\n"
     ]
    },
    {
     "name": "stderr",
     "output_type": "stream",
     "text": [
      "Best trial: 18. Best value: 24.8575:  50%|█████     | 125/250 [16:14<16:10,  7.77s/it]"
     ]
    },
    {
     "name": "stdout",
     "output_type": "stream",
     "text": [
      "1574\n",
      "[I 2024-02-15 07:18:12,699] Trial 124 finished with value: 14.870896756410621 and parameters: {'thres_for_max': 0.5800000000000001, 'thres_for_mean': 0.5800000000000001}. Best is trial 18 with value: 24.85751516205821.\n"
     ]
    },
    {
     "name": "stderr",
     "output_type": "stream",
     "text": [
      "Best trial: 18. Best value: 24.8575:  50%|█████     | 126/250 [16:22<16:09,  7.81s/it]"
     ]
    },
    {
     "name": "stdout",
     "output_type": "stream",
     "text": [
      "1858\n",
      "[I 2024-02-15 07:18:20,626] Trial 125 finished with value: 22.89464197978592 and parameters: {'thres_for_max': 0.31, 'thres_for_mean': 0.59}. Best is trial 18 with value: 24.85751516205821.\n"
     ]
    },
    {
     "name": "stderr",
     "output_type": "stream",
     "text": [
      "Best trial: 18. Best value: 24.8575:  51%|█████     | 127/250 [16:30<15:59,  7.80s/it]"
     ]
    },
    {
     "name": "stdout",
     "output_type": "stream",
     "text": [
      "1844\n",
      "[I 2024-02-15 07:18:28,392] Trial 126 finished with value: 22.319443328864832 and parameters: {'thres_for_max': 0.35, 'thres_for_mean': 0.51}. Best is trial 18 with value: 24.85751516205821.\n"
     ]
    },
    {
     "name": "stderr",
     "output_type": "stream",
     "text": [
      "Best trial: 18. Best value: 24.8575:  51%|█████     | 128/250 [16:38<15:49,  7.78s/it]"
     ]
    },
    {
     "name": "stdout",
     "output_type": "stream",
     "text": [
      "1852\n",
      "[I 2024-02-15 07:18:36,128] Trial 127 finished with value: 24.205421214539264 and parameters: {'thres_for_max': 0.32999999999999996, 'thres_for_mean': 0.55}. Best is trial 18 with value: 24.85751516205821.\n"
     ]
    },
    {
     "name": "stderr",
     "output_type": "stream",
     "text": [
      "Best trial: 18. Best value: 24.8575:  52%|█████▏    | 129/250 [16:45<15:41,  7.78s/it]"
     ]
    },
    {
     "name": "stdout",
     "output_type": "stream",
     "text": [
      "1852\n",
      "[I 2024-02-15 07:18:43,913] Trial 128 finished with value: 24.205421214539264 and parameters: {'thres_for_max': 0.32999999999999996, 'thres_for_mean': 0.55}. Best is trial 18 with value: 24.85751516205821.\n"
     ]
    },
    {
     "name": "stderr",
     "output_type": "stream",
     "text": [
      "Best trial: 18. Best value: 24.8575:  52%|█████▏    | 130/250 [16:53<15:30,  7.75s/it]"
     ]
    },
    {
     "name": "stdout",
     "output_type": "stream",
     "text": [
      "1836\n",
      "[I 2024-02-15 07:18:51,590] Trial 129 finished with value: 21.139959174770443 and parameters: {'thres_for_max': 0.38, 'thres_for_mean': 0.54}. Best is trial 18 with value: 24.85751516205821.\n"
     ]
    },
    {
     "name": "stderr",
     "output_type": "stream",
     "text": [
      "Best trial: 18. Best value: 24.8575:  52%|█████▏    | 131/250 [17:01<15:23,  7.76s/it]"
     ]
    },
    {
     "name": "stdout",
     "output_type": "stream",
     "text": [
      "1848\n",
      "[I 2024-02-15 07:18:59,380] Trial 130 finished with value: 21.908651298853208 and parameters: {'thres_for_max': 0.33999999999999997, 'thres_for_mean': 0.53}. Best is trial 18 with value: 24.85751516205821.\n"
     ]
    },
    {
     "name": "stderr",
     "output_type": "stream",
     "text": [
      "Best trial: 18. Best value: 24.8575:  53%|█████▎    | 132/250 [17:09<15:20,  7.80s/it]"
     ]
    },
    {
     "name": "stdout",
     "output_type": "stream",
     "text": [
      "1858\n",
      "[I 2024-02-15 07:19:07,278] Trial 131 finished with value: 24.087182379938493 and parameters: {'thres_for_max': 0.31, 'thres_for_mean': 0.55}. Best is trial 18 with value: 24.85751516205821.\n"
     ]
    },
    {
     "name": "stderr",
     "output_type": "stream",
     "text": [
      "Best trial: 18. Best value: 24.8575:  53%|█████▎    | 133/250 [17:17<15:20,  7.87s/it]"
     ]
    },
    {
     "name": "stdout",
     "output_type": "stream",
     "text": [
      "1858\n",
      "[I 2024-02-15 07:19:15,293] Trial 132 finished with value: 24.087182379938493 and parameters: {'thres_for_max': 0.31, 'thres_for_mean': 0.55}. Best is trial 18 with value: 24.85751516205821.\n"
     ]
    },
    {
     "name": "stderr",
     "output_type": "stream",
     "text": [
      "Best trial: 18. Best value: 24.8575:  54%|█████▎    | 134/250 [17:25<15:13,  7.88s/it]"
     ]
    },
    {
     "name": "stdout",
     "output_type": "stream",
     "text": [
      "1858\n",
      "[I 2024-02-15 07:19:23,198] Trial 133 finished with value: 23.320524374653118 and parameters: {'thres_for_max': 0.31, 'thres_for_mean': 0.5}. Best is trial 18 with value: 24.85751516205821.\n"
     ]
    },
    {
     "name": "stderr",
     "output_type": "stream",
     "text": [
      "Best trial: 18. Best value: 24.8575:  54%|█████▍    | 135/250 [17:32<15:04,  7.86s/it]"
     ]
    },
    {
     "name": "stdout",
     "output_type": "stream",
     "text": [
      "1861\n",
      "[I 2024-02-15 07:19:31,024] Trial 134 finished with value: 23.23489748282958 and parameters: {'thres_for_max': 0.3, 'thres_for_mean': 0.55}. Best is trial 18 with value: 24.85751516205821.\n"
     ]
    },
    {
     "name": "stderr",
     "output_type": "stream",
     "text": [
      "Best trial: 18. Best value: 24.8575:  54%|█████▍    | 136/250 [17:40<14:50,  7.81s/it]"
     ]
    },
    {
     "name": "stdout",
     "output_type": "stream",
     "text": [
      "1841\n",
      "[I 2024-02-15 07:19:38,711] Trial 135 finished with value: 21.3813530935839 and parameters: {'thres_for_max': 0.36, 'thres_for_mean': 0.8999999999999999}. Best is trial 18 with value: 24.85751516205821.\n"
     ]
    },
    {
     "name": "stderr",
     "output_type": "stream",
     "text": [
      "Best trial: 18. Best value: 24.8575:  55%|█████▍    | 137/250 [17:48<14:40,  7.79s/it]"
     ]
    },
    {
     "name": "stdout",
     "output_type": "stream",
     "text": [
      "1853\n",
      "[I 2024-02-15 07:19:46,452] Trial 136 finished with value: 22.960234635587067 and parameters: {'thres_for_max': 0.32, 'thres_for_mean': 0.6}. Best is trial 18 with value: 24.85751516205821.\n"
     ]
    },
    {
     "name": "stderr",
     "output_type": "stream",
     "text": [
      "Best trial: 18. Best value: 24.8575:  55%|█████▌    | 138/250 [17:56<14:32,  7.79s/it]"
     ]
    },
    {
     "name": "stdout",
     "output_type": "stream",
     "text": [
      "1844\n",
      "[I 2024-02-15 07:19:54,245] Trial 137 finished with value: 21.945759610605432 and parameters: {'thres_for_max': 0.35, 'thres_for_mean': 0.52}. Best is trial 18 with value: 24.85751516205821.\n"
     ]
    },
    {
     "name": "stderr",
     "output_type": "stream",
     "text": [
      "Best trial: 18. Best value: 24.8575:  56%|█████▌    | 139/250 [18:04<14:27,  7.81s/it]"
     ]
    },
    {
     "name": "stdout",
     "output_type": "stream",
     "text": [
      "1858\n",
      "[I 2024-02-15 07:20:02,112] Trial 138 finished with value: 24.014100359627797 and parameters: {'thres_for_max': 0.31, 'thres_for_mean': 0.5700000000000001}. Best is trial 18 with value: 24.85751516205821.\n"
     ]
    },
    {
     "name": "stderr",
     "output_type": "stream",
     "text": [
      "Best trial: 18. Best value: 24.8575:  56%|█████▌    | 140/250 [18:11<14:16,  7.78s/it]"
     ]
    },
    {
     "name": "stdout",
     "output_type": "stream",
     "text": [
      "1858\n",
      "[I 2024-02-15 07:20:09,822] Trial 139 finished with value: 22.63687010643927 and parameters: {'thres_for_max': 0.31, 'thres_for_mean': 0.8400000000000001}. Best is trial 18 with value: 24.85751516205821.\n"
     ]
    },
    {
     "name": "stderr",
     "output_type": "stream",
     "text": [
      "Best trial: 18. Best value: 24.8575:  56%|█████▋    | 141/250 [18:19<14:13,  7.83s/it]"
     ]
    },
    {
     "name": "stdout",
     "output_type": "stream",
     "text": [
      "1858\n",
      "[I 2024-02-15 07:20:17,750] Trial 140 finished with value: 24.13101232128665 and parameters: {'thres_for_max': 0.31, 'thres_for_mean': 0.5800000000000001}. Best is trial 18 with value: 24.85751516205821.\n"
     ]
    },
    {
     "name": "stderr",
     "output_type": "stream",
     "text": [
      "Best trial: 18. Best value: 24.8575:  57%|█████▋    | 142/250 [18:27<14:06,  7.84s/it]"
     ]
    },
    {
     "name": "stdout",
     "output_type": "stream",
     "text": [
      "1861\n",
      "[I 2024-02-15 07:20:25,629] Trial 141 finished with value: 23.276381332625927 and parameters: {'thres_for_max': 0.3, 'thres_for_mean': 0.5800000000000001}. Best is trial 18 with value: 24.85751516205821.\n"
     ]
    },
    {
     "name": "stderr",
     "output_type": "stream",
     "text": [
      "Best trial: 18. Best value: 24.8575:  57%|█████▋    | 143/250 [18:35<13:55,  7.81s/it]"
     ]
    },
    {
     "name": "stdout",
     "output_type": "stream",
     "text": [
      "1853\n",
      "[I 2024-02-15 07:20:33,368] Trial 142 finished with value: 22.805644234512105 and parameters: {'thres_for_max': 0.32, 'thres_for_mean': 0.59}. Best is trial 18 with value: 24.85751516205821.\n"
     ]
    },
    {
     "name": "stderr",
     "output_type": "stream",
     "text": [
      "Best trial: 18. Best value: 24.8575:  58%|█████▊    | 144/250 [18:43<13:47,  7.81s/it]"
     ]
    },
    {
     "name": "stdout",
     "output_type": "stream",
     "text": [
      "1848\n",
      "[I 2024-02-15 07:20:41,163] Trial 143 finished with value: 22.81704704825564 and parameters: {'thres_for_max': 0.33999999999999997, 'thres_for_mean': 0.5700000000000001}. Best is trial 18 with value: 24.85751516205821.\n"
     ]
    },
    {
     "name": "stderr",
     "output_type": "stream",
     "text": [
      "Best trial: 18. Best value: 24.8575:  58%|█████▊    | 145/250 [18:50<13:36,  7.78s/it]"
     ]
    },
    {
     "name": "stdout",
     "output_type": "stream",
     "text": [
      "1861\n",
      "[I 2024-02-15 07:20:48,878] Trial 144 finished with value: 23.23489748282958 and parameters: {'thres_for_max': 0.3, 'thres_for_mean': 0.55}. Best is trial 18 with value: 24.85751516205821.\n"
     ]
    },
    {
     "name": "stderr",
     "output_type": "stream",
     "text": [
      "Best trial: 18. Best value: 24.8575:  58%|█████▊    | 146/250 [18:58<13:30,  7.79s/it]"
     ]
    },
    {
     "name": "stdout",
     "output_type": "stream",
     "text": [
      "1853\n",
      "[I 2024-02-15 07:20:56,710] Trial 145 finished with value: 23.91222715541999 and parameters: {'thres_for_max': 0.32, 'thres_for_mean': 0.54}. Best is trial 18 with value: 24.85751516205821.\n"
     ]
    },
    {
     "name": "stderr",
     "output_type": "stream",
     "text": [
      "Best trial: 18. Best value: 24.8575:  59%|█████▉    | 147/250 [19:06<13:20,  7.77s/it]"
     ]
    },
    {
     "name": "stdout",
     "output_type": "stream",
     "text": [
      "1432\n",
      "[I 2024-02-15 07:21:04,436] Trial 146 finished with value: 18.939226829332178 and parameters: {'thres_for_max': 0.64, 'thres_for_mean': 0.5700000000000001}. Best is trial 18 with value: 24.85751516205821.\n"
     ]
    },
    {
     "name": "stderr",
     "output_type": "stream",
     "text": [
      "Best trial: 18. Best value: 24.8575:  59%|█████▉    | 148/250 [19:14<13:15,  7.80s/it]"
     ]
    },
    {
     "name": "stdout",
     "output_type": "stream",
     "text": [
      "1858\n",
      "[I 2024-02-15 07:21:12,304] Trial 147 finished with value: 23.058088189101582 and parameters: {'thres_for_max': 0.31, 'thres_for_mean': 0.53}. Best is trial 18 with value: 24.85751516205821.\n"
     ]
    },
    {
     "name": "stderr",
     "output_type": "stream",
     "text": [
      "Best trial: 18. Best value: 24.8575:  60%|█████▉    | 149/250 [19:22<13:09,  7.82s/it]"
     ]
    },
    {
     "name": "stdout",
     "output_type": "stream",
     "text": [
      "1848\n",
      "[I 2024-02-15 07:21:20,163] Trial 148 finished with value: 21.901003790039066 and parameters: {'thres_for_max': 0.33999999999999997, 'thres_for_mean': 0.6}. Best is trial 18 with value: 24.85751516205821.\n"
     ]
    },
    {
     "name": "stderr",
     "output_type": "stream",
     "text": [
      "Best trial: 18. Best value: 24.8575:  60%|██████    | 150/250 [19:29<13:03,  7.83s/it]"
     ]
    },
    {
     "name": "stdout",
     "output_type": "stream",
     "text": [
      "1852\n",
      "[I 2024-02-15 07:21:28,032] Trial 149 finished with value: 24.205421214539264 and parameters: {'thres_for_max': 0.32999999999999996, 'thres_for_mean': 0.55}. Best is trial 18 with value: 24.85751516205821.\n"
     ]
    },
    {
     "name": "stderr",
     "output_type": "stream",
     "text": [
      "Best trial: 18. Best value: 24.8575:  60%|██████    | 151/250 [19:37<12:51,  7.79s/it]"
     ]
    },
    {
     "name": "stdout",
     "output_type": "stream",
     "text": [
      "1664\n",
      "[I 2024-02-15 07:21:35,728] Trial 150 finished with value: 12.616058472622784 and parameters: {'thres_for_max': 0.54, 'thres_for_mean': 0.55}. Best is trial 18 with value: 24.85751516205821.\n"
     ]
    },
    {
     "name": "stderr",
     "output_type": "stream",
     "text": [
      "Best trial: 18. Best value: 24.8575:  61%|██████    | 152/250 [19:45<12:43,  7.79s/it]"
     ]
    },
    {
     "name": "stdout",
     "output_type": "stream",
     "text": [
      "1852\n",
      "[I 2024-02-15 07:21:43,516] Trial 151 finished with value: 24.132006063746672 and parameters: {'thres_for_max': 0.32999999999999996, 'thres_for_mean': 0.5700000000000001}. Best is trial 18 with value: 24.85751516205821.\n"
     ]
    },
    {
     "name": "stderr",
     "output_type": "stream",
     "text": [
      "Best trial: 18. Best value: 24.8575:  61%|██████    | 153/250 [19:53<12:36,  7.80s/it]"
     ]
    },
    {
     "name": "stdout",
     "output_type": "stream",
     "text": [
      "1852\n",
      "[I 2024-02-15 07:21:51,328] Trial 152 finished with value: 24.12356814393974 and parameters: {'thres_for_max': 0.32999999999999996, 'thres_for_mean': 0.54}. Best is trial 18 with value: 24.85751516205821.\n"
     ]
    },
    {
     "name": "stderr",
     "output_type": "stream",
     "text": [
      "Best trial: 18. Best value: 24.8575:  62%|██████▏   | 154/250 [20:00<12:26,  7.78s/it]"
     ]
    },
    {
     "name": "stdout",
     "output_type": "stream",
     "text": [
      "1841\n",
      "[I 2024-02-15 07:21:59,052] Trial 153 finished with value: 21.829320502982778 and parameters: {'thres_for_max': 0.36, 'thres_for_mean': 0.51}. Best is trial 18 with value: 24.85751516205821.\n"
     ]
    },
    {
     "name": "stderr",
     "output_type": "stream",
     "text": [
      "Best trial: 18. Best value: 24.8575:  62%|██████▏   | 155/250 [20:08<12:22,  7.81s/it]"
     ]
    },
    {
     "name": "stdout",
     "output_type": "stream",
     "text": [
      "1848\n",
      "[I 2024-02-15 07:22:06,956] Trial 154 finished with value: 21.908651298853208 and parameters: {'thres_for_max': 0.33999999999999997, 'thres_for_mean': 0.53}. Best is trial 18 with value: 24.85751516205821.\n"
     ]
    },
    {
     "name": "stderr",
     "output_type": "stream",
     "text": [
      "Best trial: 18. Best value: 24.8575:  62%|██████▏   | 156/250 [20:16<12:15,  7.82s/it]"
     ]
    },
    {
     "name": "stdout",
     "output_type": "stream",
     "text": [
      "1852\n",
      "[I 2024-02-15 07:22:14,792] Trial 155 finished with value: 24.205421214539264 and parameters: {'thres_for_max': 0.32999999999999996, 'thres_for_mean': 0.55}. Best is trial 18 with value: 24.85751516205821.\n"
     ]
    },
    {
     "name": "stderr",
     "output_type": "stream",
     "text": [
      "Best trial: 18. Best value: 24.8575:  63%|██████▎   | 157/250 [20:24<12:02,  7.77s/it]"
     ]
    },
    {
     "name": "stdout",
     "output_type": "stream",
     "text": [
      "1207\n",
      "[I 2024-02-15 07:22:22,442] Trial 156 finished with value: 12.883276072239228 and parameters: {'thres_for_max': 0.8999999999999999, 'thres_for_mean': 0.54}. Best is trial 18 with value: 24.85751516205821.\n"
     ]
    },
    {
     "name": "stderr",
     "output_type": "stream",
     "text": [
      "Best trial: 18. Best value: 24.8575:  63%|██████▎   | 158/250 [20:32<11:55,  7.77s/it]"
     ]
    },
    {
     "name": "stdout",
     "output_type": "stream",
     "text": [
      "1844\n",
      "[I 2024-02-15 07:22:30,227] Trial 157 finished with value: 23.057999799965195 and parameters: {'thres_for_max': 0.35, 'thres_for_mean': 0.55}. Best is trial 18 with value: 24.85751516205821.\n"
     ]
    },
    {
     "name": "stderr",
     "output_type": "stream",
     "text": [
      "Best trial: 18. Best value: 24.8575:  64%|██████▎   | 159/250 [20:40<11:49,  7.80s/it]"
     ]
    },
    {
     "name": "stdout",
     "output_type": "stream",
     "text": [
      "1840\n",
      "[I 2024-02-15 07:22:38,079] Trial 158 finished with value: 22.75049379142647 and parameters: {'thres_for_max': 0.37, 'thres_for_mean': 0.52}. Best is trial 18 with value: 24.85751516205821.\n"
     ]
    },
    {
     "name": "stderr",
     "output_type": "stream",
     "text": [
      "Best trial: 18. Best value: 24.8575:  64%|██████▍   | 160/250 [20:47<11:41,  7.80s/it]"
     ]
    },
    {
     "name": "stdout",
     "output_type": "stream",
     "text": [
      "1852\n",
      "[I 2024-02-15 07:22:45,870] Trial 159 finished with value: 23.919590538967586 and parameters: {'thres_for_max': 0.32999999999999996, 'thres_for_mean': 0.48}. Best is trial 18 with value: 24.85751516205821.\n"
     ]
    },
    {
     "name": "stderr",
     "output_type": "stream",
     "text": [
      "Best trial: 18. Best value: 24.8575:  64%|██████▍   | 161/250 [20:55<11:34,  7.80s/it]"
     ]
    },
    {
     "name": "stdout",
     "output_type": "stream",
     "text": [
      "1852\n",
      "[I 2024-02-15 07:22:53,685] Trial 160 finished with value: 24.205421214539264 and parameters: {'thres_for_max': 0.32999999999999996, 'thres_for_mean': 0.55}. Best is trial 18 with value: 24.85751516205821.\n"
     ]
    },
    {
     "name": "stderr",
     "output_type": "stream",
     "text": [
      "Best trial: 18. Best value: 24.8575:  65%|██████▍   | 162/250 [21:03<11:28,  7.82s/it]"
     ]
    },
    {
     "name": "stdout",
     "output_type": "stream",
     "text": [
      "1848\n",
      "[I 2024-02-15 07:23:01,551] Trial 161 finished with value: 22.886445537292158 and parameters: {'thres_for_max': 0.33999999999999997, 'thres_for_mean': 0.55}. Best is trial 18 with value: 24.85751516205821.\n"
     ]
    },
    {
     "name": "stderr",
     "output_type": "stream",
     "text": [
      "Best trial: 18. Best value: 24.8575:  65%|██████▌   | 163/250 [21:11<11:22,  7.85s/it]"
     ]
    },
    {
     "name": "stdout",
     "output_type": "stream",
     "text": [
      "1852\n",
      "[I 2024-02-15 07:23:09,470] Trial 162 finished with value: 23.1712754200777 and parameters: {'thres_for_max': 0.32999999999999996, 'thres_for_mean': 0.53}. Best is trial 18 with value: 24.85751516205821.\n"
     ]
    },
    {
     "name": "stderr",
     "output_type": "stream",
     "text": [
      "Best trial: 18. Best value: 24.8575:  66%|██████▌   | 164/250 [21:19<11:10,  7.79s/it]"
     ]
    },
    {
     "name": "stdout",
     "output_type": "stream",
     "text": [
      "1215\n",
      "[I 2024-02-15 07:23:17,131] Trial 163 finished with value: 12.78460694030331 and parameters: {'thres_for_max': 0.8400000000000001, 'thres_for_mean': 0.54}. Best is trial 18 with value: 24.85751516205821.\n"
     ]
    },
    {
     "name": "stderr",
     "output_type": "stream",
     "text": [
      "Best trial: 18. Best value: 24.8575:  66%|██████▌   | 165/250 [21:26<11:06,  7.84s/it]"
     ]
    },
    {
     "name": "stdout",
     "output_type": "stream",
     "text": [
      "1853\n",
      "[I 2024-02-15 07:23:25,069] Trial 164 finished with value: 23.79841872136826 and parameters: {'thres_for_max': 0.32, 'thres_for_mean': 0.56}. Best is trial 18 with value: 24.85751516205821.\n"
     ]
    },
    {
     "name": "stderr",
     "output_type": "stream",
     "text": [
      "Best trial: 18. Best value: 24.8575:  66%|██████▋   | 166/250 [21:34<10:55,  7.80s/it]"
     ]
    },
    {
     "name": "stdout",
     "output_type": "stream",
     "text": [
      "1844\n",
      "[I 2024-02-15 07:23:32,776] Trial 165 finished with value: 21.916789444681292 and parameters: {'thres_for_max': 0.35, 'thres_for_mean': 0.59}. Best is trial 18 with value: 24.85751516205821.\n"
     ]
    },
    {
     "name": "stderr",
     "output_type": "stream",
     "text": [
      "Best trial: 18. Best value: 24.8575:  67%|██████▋   | 167/250 [21:42<10:48,  7.81s/it]"
     ]
    },
    {
     "name": "stdout",
     "output_type": "stream",
     "text": [
      "1852\n",
      "[I 2024-02-15 07:23:40,614] Trial 166 finished with value: 23.03779105180732 and parameters: {'thres_for_max': 0.32999999999999996, 'thres_for_mean': 0.52}. Best is trial 18 with value: 24.85751516205821.\n"
     ]
    },
    {
     "name": "stderr",
     "output_type": "stream",
     "text": [
      "Best trial: 18. Best value: 24.8575:  67%|██████▋   | 168/250 [21:50<10:41,  7.82s/it]"
     ]
    },
    {
     "name": "stdout",
     "output_type": "stream",
     "text": [
      "1840\n",
      "[I 2024-02-15 07:23:48,455] Trial 167 finished with value: 23.831325896791117 and parameters: {'thres_for_max': 0.37, 'thres_for_mean': 0.5700000000000001}. Best is trial 18 with value: 24.85751516205821.\n"
     ]
    },
    {
     "name": "stderr",
     "output_type": "stream",
     "text": [
      "Best trial: 18. Best value: 24.8575:  68%|██████▊   | 169/250 [21:58<10:32,  7.81s/it]"
     ]
    },
    {
     "name": "stdout",
     "output_type": "stream",
     "text": [
      "1861\n",
      "[I 2024-02-15 07:23:56,259] Trial 168 finished with value: 23.23489748282958 and parameters: {'thres_for_max': 0.3, 'thres_for_mean': 0.55}. Best is trial 18 with value: 24.85751516205821.\n"
     ]
    },
    {
     "name": "stderr",
     "output_type": "stream",
     "text": [
      "Best trial: 18. Best value: 24.8575:  68%|██████▊   | 170/250 [22:05<10:25,  7.82s/it]"
     ]
    },
    {
     "name": "stdout",
     "output_type": "stream",
     "text": [
      "1853\n",
      "[I 2024-02-15 07:24:04,076] Trial 169 finished with value: 23.224717366372655 and parameters: {'thres_for_max': 0.32, 'thres_for_mean': 0.51}. Best is trial 18 with value: 24.85751516205821.\n"
     ]
    },
    {
     "name": "stderr",
     "output_type": "stream",
     "text": [
      "Best trial: 18. Best value: 24.8575:  68%|██████▊   | 171/250 [22:13<10:16,  7.81s/it]"
     ]
    },
    {
     "name": "stdout",
     "output_type": "stream",
     "text": [
      "1848\n",
      "[I 2024-02-15 07:24:11,859] Trial 170 finished with value: 22.928110966020743 and parameters: {'thres_for_max': 0.33999999999999997, 'thres_for_mean': 0.5800000000000001}. Best is trial 18 with value: 24.85751516205821.\n"
     ]
    },
    {
     "name": "stderr",
     "output_type": "stream",
     "text": [
      "Best trial: 18. Best value: 24.8575:  69%|██████▉   | 172/250 [22:21<10:09,  7.81s/it]"
     ]
    },
    {
     "name": "stdout",
     "output_type": "stream",
     "text": [
      "1853\n",
      "[I 2024-02-15 07:24:19,681] Trial 171 finished with value: 24.03703760611258 and parameters: {'thres_for_max': 0.32, 'thres_for_mean': 0.5800000000000001}. Best is trial 18 with value: 24.85751516205821.\n"
     ]
    },
    {
     "name": "stderr",
     "output_type": "stream",
     "text": [
      "Best trial: 18. Best value: 24.8575:  69%|██████▉   | 173/250 [22:29<10:03,  7.84s/it]"
     ]
    },
    {
     "name": "stdout",
     "output_type": "stream",
     "text": [
      "1844\n",
      "[I 2024-02-15 07:24:27,587] Trial 172 finished with value: 22.870849216747022 and parameters: {'thres_for_max': 0.35, 'thres_for_mean': 0.56}. Best is trial 18 with value: 24.85751516205821.\n"
     ]
    },
    {
     "name": "stderr",
     "output_type": "stream",
     "text": [
      "Best trial: 18. Best value: 24.8575:  70%|██████▉   | 174/250 [22:37<09:56,  7.84s/it]"
     ]
    },
    {
     "name": "stdout",
     "output_type": "stream",
     "text": [
      "1852\n",
      "[I 2024-02-15 07:24:35,445] Trial 173 finished with value: 24.12356814393974 and parameters: {'thres_for_max': 0.32999999999999996, 'thres_for_mean': 0.54}. Best is trial 18 with value: 24.85751516205821.\n"
     ]
    },
    {
     "name": "stderr",
     "output_type": "stream",
     "text": [
      "Best trial: 18. Best value: 24.8575:  70%|███████   | 175/250 [22:45<09:46,  7.82s/it]"
     ]
    },
    {
     "name": "stdout",
     "output_type": "stream",
     "text": [
      "1841\n",
      "[I 2024-02-15 07:24:43,222] Trial 174 finished with value: 22.475486191247292 and parameters: {'thres_for_max': 0.36, 'thres_for_mean': 0.54}. Best is trial 18 with value: 24.85751516205821.\n"
     ]
    },
    {
     "name": "stderr",
     "output_type": "stream",
     "text": [
      "Best trial: 18. Best value: 24.8575:  70%|███████   | 176/250 [22:53<09:40,  7.85s/it]"
     ]
    },
    {
     "name": "stdout",
     "output_type": "stream",
     "text": [
      "1852\n",
      "[I 2024-02-15 07:24:51,123] Trial 175 finished with value: 23.1712754200777 and parameters: {'thres_for_max': 0.32999999999999996, 'thres_for_mean': 0.53}. Best is trial 18 with value: 24.85751516205821.\n"
     ]
    },
    {
     "name": "stderr",
     "output_type": "stream",
     "text": [
      "Best trial: 18. Best value: 24.8575:  71%|███████   | 177/250 [23:00<09:32,  7.85s/it]"
     ]
    },
    {
     "name": "stdout",
     "output_type": "stream",
     "text": [
      "1858\n",
      "[I 2024-02-15 07:24:58,964] Trial 176 finished with value: 23.320524374653118 and parameters: {'thres_for_max': 0.31, 'thres_for_mean': 0.5}. Best is trial 18 with value: 24.85751516205821.\n"
     ]
    },
    {
     "name": "stderr",
     "output_type": "stream",
     "text": [
      "Best trial: 18. Best value: 24.8575:  71%|███████   | 178/250 [23:08<09:22,  7.81s/it]"
     ]
    },
    {
     "name": "stdout",
     "output_type": "stream",
     "text": [
      "1360\n",
      "[I 2024-02-15 07:25:06,687] Trial 177 finished with value: 16.595748940867985 and parameters: {'thres_for_max': 0.6699999999999999, 'thres_for_mean': 0.55}. Best is trial 18 with value: 24.85751516205821.\n"
     ]
    },
    {
     "name": "stderr",
     "output_type": "stream",
     "text": [
      "Best trial: 18. Best value: 24.8575:  72%|███████▏  | 179/250 [23:16<09:13,  7.80s/it]"
     ]
    },
    {
     "name": "stdout",
     "output_type": "stream",
     "text": [
      "1848\n",
      "[I 2024-02-15 07:25:14,471] Trial 178 finished with value: 22.700494756975548 and parameters: {'thres_for_max': 0.33999999999999997, 'thres_for_mean': 0.56}. Best is trial 18 with value: 24.85751516205821.\n"
     ]
    },
    {
     "name": "stderr",
     "output_type": "stream",
     "text": [
      "Best trial: 18. Best value: 24.8575:  72%|███████▏  | 180/250 [23:24<09:08,  7.83s/it]"
     ]
    },
    {
     "name": "stdout",
     "output_type": "stream",
     "text": [
      "1861\n",
      "[I 2024-02-15 07:25:22,377] Trial 179 finished with value: 23.156326336011755 and parameters: {'thres_for_max': 0.3, 'thres_for_mean': 0.54}. Best is trial 18 with value: 24.85751516205821.\n"
     ]
    },
    {
     "name": "stderr",
     "output_type": "stream",
     "text": [
      "Best trial: 18. Best value: 24.8575:  72%|███████▏  | 181/250 [23:32<08:59,  7.81s/it]"
     ]
    },
    {
     "name": "stdout",
     "output_type": "stream",
     "text": [
      "1853\n",
      "[I 2024-02-15 07:25:30,147] Trial 180 finished with value: 23.92056576341231 and parameters: {'thres_for_max': 0.32, 'thres_for_mean': 0.5700000000000001}. Best is trial 18 with value: 24.85751516205821.\n"
     ]
    },
    {
     "name": "stderr",
     "output_type": "stream",
     "text": [
      "Best trial: 18. Best value: 24.8575:  73%|███████▎  | 182/250 [23:39<08:51,  7.82s/it]"
     ]
    },
    {
     "name": "stdout",
     "output_type": "stream",
     "text": [
      "1852\n",
      "[I 2024-02-15 07:25:37,984] Trial 181 finished with value: 23.00721046694029 and parameters: {'thres_for_max': 0.32999999999999996, 'thres_for_mean': 0.59}. Best is trial 18 with value: 24.85751516205821.\n"
     ]
    },
    {
     "name": "stderr",
     "output_type": "stream",
     "text": [
      "Best trial: 18. Best value: 24.8575:  73%|███████▎  | 183/250 [23:47<08:40,  7.77s/it]"
     ]
    },
    {
     "name": "stdout",
     "output_type": "stream",
     "text": [
      "1853\n",
      "[I 2024-02-15 07:25:45,620] Trial 182 finished with value: 23.92056576341231 and parameters: {'thres_for_max': 0.32, 'thres_for_mean': 0.5700000000000001}. Best is trial 18 with value: 24.85751516205821.\n"
     ]
    },
    {
     "name": "stderr",
     "output_type": "stream",
     "text": [
      "Best trial: 18. Best value: 24.8575:  74%|███████▎  | 184/250 [23:55<08:33,  7.78s/it]"
     ]
    },
    {
     "name": "stdout",
     "output_type": "stream",
     "text": [
      "1858\n",
      "[I 2024-02-15 07:25:53,432] Trial 183 finished with value: 24.087182379938493 and parameters: {'thres_for_max': 0.31, 'thres_for_mean': 0.55}. Best is trial 18 with value: 24.85751516205821.\n"
     ]
    },
    {
     "name": "stderr",
     "output_type": "stream",
     "text": [
      "Best trial: 18. Best value: 24.8575:  74%|███████▍  | 185/250 [24:03<08:28,  7.82s/it]"
     ]
    },
    {
     "name": "stdout",
     "output_type": "stream",
     "text": [
      "1844\n",
      "[I 2024-02-15 07:26:01,359] Trial 184 finished with value: 22.072792047050832 and parameters: {'thres_for_max': 0.35, 'thres_for_mean': 0.53}. Best is trial 18 with value: 24.85751516205821.\n"
     ]
    },
    {
     "name": "stderr",
     "output_type": "stream",
     "text": [
      "Best trial: 18. Best value: 24.8575:  74%|███████▍  | 186/250 [24:11<08:23,  7.86s/it]"
     ]
    },
    {
     "name": "stdout",
     "output_type": "stream",
     "text": [
      "1858\n",
      "[I 2024-02-15 07:26:09,313] Trial 185 finished with value: 24.087182379938493 and parameters: {'thres_for_max': 0.31, 'thres_for_mean': 0.55}. Best is trial 18 with value: 24.85751516205821.\n"
     ]
    },
    {
     "name": "stderr",
     "output_type": "stream",
     "text": [
      "Best trial: 18. Best value: 24.8575:  75%|███████▍  | 187/250 [24:19<08:15,  7.87s/it]"
     ]
    },
    {
     "name": "stdout",
     "output_type": "stream",
     "text": [
      "1852\n",
      "[I 2024-02-15 07:26:17,192] Trial 186 finished with value: 23.03779105180732 and parameters: {'thres_for_max': 0.32999999999999996, 'thres_for_mean': 0.52}. Best is trial 18 with value: 24.85751516205821.\n"
     ]
    },
    {
     "name": "stderr",
     "output_type": "stream",
     "text": [
      "Best trial: 18. Best value: 24.8575:  75%|███████▌  | 188/250 [24:27<08:10,  7.90s/it]"
     ]
    },
    {
     "name": "stdout",
     "output_type": "stream",
     "text": [
      "1861\n",
      "[I 2024-02-15 07:26:25,184] Trial 187 finished with value: 23.156326336011755 and parameters: {'thres_for_max': 0.3, 'thres_for_mean': 0.54}. Best is trial 18 with value: 24.85751516205821.\n"
     ]
    },
    {
     "name": "stderr",
     "output_type": "stream",
     "text": [
      "Best trial: 18. Best value: 24.8575:  76%|███████▌  | 189/250 [24:34<07:59,  7.87s/it]"
     ]
    },
    {
     "name": "stdout",
     "output_type": "stream",
     "text": [
      "1848\n",
      "[I 2024-02-15 07:26:32,966] Trial 188 finished with value: 22.700494756975548 and parameters: {'thres_for_max': 0.33999999999999997, 'thres_for_mean': 0.56}. Best is trial 18 with value: 24.85751516205821.\n"
     ]
    },
    {
     "name": "stderr",
     "output_type": "stream",
     "text": [
      "Best trial: 18. Best value: 24.8575:  76%|███████▌  | 190/250 [24:42<07:50,  7.84s/it]"
     ]
    },
    {
     "name": "stdout",
     "output_type": "stream",
     "text": [
      "1853\n",
      "[I 2024-02-15 07:26:40,732] Trial 189 finished with value: 23.99336313024201 and parameters: {'thres_for_max': 0.32, 'thres_for_mean': 0.55}. Best is trial 18 with value: 24.85751516205821.\n"
     ]
    },
    {
     "name": "stderr",
     "output_type": "stream",
     "text": [
      "Best trial: 18. Best value: 24.8575:  76%|███████▋  | 191/250 [24:50<07:41,  7.82s/it]"
     ]
    },
    {
     "name": "stdout",
     "output_type": "stream",
     "text": [
      "1848\n",
      "[I 2024-02-15 07:26:48,522] Trial 190 finished with value: 21.822388243785806 and parameters: {'thres_for_max': 0.33999999999999997, 'thres_for_mean': 0.61}. Best is trial 18 with value: 24.85751516205821.\n"
     ]
    },
    {
     "name": "stderr",
     "output_type": "stream",
     "text": [
      "Best trial: 18. Best value: 24.8575:  77%|███████▋  | 192/250 [24:58<07:32,  7.81s/it]"
     ]
    },
    {
     "name": "stdout",
     "output_type": "stream",
     "text": [
      "1858\n",
      "[I 2024-02-15 07:26:56,298] Trial 191 finished with value: 24.087182379938493 and parameters: {'thres_for_max': 0.31, 'thres_for_mean': 0.55}. Best is trial 18 with value: 24.85751516205821.\n"
     ]
    },
    {
     "name": "stderr",
     "output_type": "stream",
     "text": [
      "Best trial: 18. Best value: 24.8575:  77%|███████▋  | 193/250 [25:06<07:27,  7.85s/it]"
     ]
    },
    {
     "name": "stdout",
     "output_type": "stream",
     "text": [
      "1858\n",
      "[I 2024-02-15 07:27:04,259] Trial 192 finished with value: 23.058088189101582 and parameters: {'thres_for_max': 0.31, 'thres_for_mean': 0.53}. Best is trial 18 with value: 24.85751516205821.\n"
     ]
    },
    {
     "name": "stderr",
     "output_type": "stream",
     "text": [
      "Best trial: 18. Best value: 24.8575:  78%|███████▊  | 194/250 [25:14<07:23,  7.92s/it]"
     ]
    },
    {
     "name": "stdout",
     "output_type": "stream",
     "text": [
      "1861\n",
      "[I 2024-02-15 07:27:12,329] Trial 193 finished with value: 23.16360963756199 and parameters: {'thres_for_max': 0.3, 'thres_for_mean': 0.5700000000000001}. Best is trial 18 with value: 24.85751516205821.\n"
     ]
    },
    {
     "name": "stderr",
     "output_type": "stream",
     "text": [
      "Best trial: 18. Best value: 24.8575:  78%|███████▊  | 195/250 [25:22<07:15,  7.92s/it]"
     ]
    },
    {
     "name": "stdout",
     "output_type": "stream",
     "text": [
      "1852\n",
      "[I 2024-02-15 07:27:20,255] Trial 194 finished with value: 24.008753848459968 and parameters: {'thres_for_max': 0.32999999999999996, 'thres_for_mean': 0.56}. Best is trial 18 with value: 24.85751516205821.\n"
     ]
    },
    {
     "name": "stderr",
     "output_type": "stream",
     "text": [
      "Best trial: 18. Best value: 24.8575:  78%|███████▊  | 196/250 [25:29<07:04,  7.86s/it]"
     ]
    },
    {
     "name": "stdout",
     "output_type": "stream",
     "text": [
      "1259\n",
      "[I 2024-02-15 07:27:27,972] Trial 195 finished with value: 16.944586857186906 and parameters: {'thres_for_max': 0.74, 'thres_for_mean': 0.54}. Best is trial 18 with value: 24.85751516205821.\n"
     ]
    },
    {
     "name": "stderr",
     "output_type": "stream",
     "text": [
      "Best trial: 18. Best value: 24.8575:  79%|███████▉  | 197/250 [25:37<06:55,  7.84s/it]"
     ]
    },
    {
     "name": "stdout",
     "output_type": "stream",
     "text": [
      "1858\n",
      "[I 2024-02-15 07:27:35,756] Trial 196 finished with value: 22.92525586633794 and parameters: {'thres_for_max': 0.31, 'thres_for_mean': 0.52}. Best is trial 18 with value: 24.85751516205821.\n"
     ]
    },
    {
     "name": "stderr",
     "output_type": "stream",
     "text": [
      "Best trial: 18. Best value: 24.8575:  79%|███████▉  | 198/250 [25:45<06:46,  7.82s/it]"
     ]
    },
    {
     "name": "stdout",
     "output_type": "stream",
     "text": [
      "1841\n",
      "[I 2024-02-15 07:27:43,547] Trial 197 finished with value: 22.59305267811912 and parameters: {'thres_for_max': 0.36, 'thres_for_mean': 0.5800000000000001}. Best is trial 18 with value: 24.85751516205821.\n"
     ]
    },
    {
     "name": "stderr",
     "output_type": "stream",
     "text": [
      "Best trial: 18. Best value: 24.8575:  80%|███████▉  | 199/250 [25:53<06:39,  7.83s/it]"
     ]
    },
    {
     "name": "stdout",
     "output_type": "stream",
     "text": [
      "1853\n",
      "[I 2024-02-15 07:27:51,379] Trial 198 finished with value: 23.79841872136826 and parameters: {'thres_for_max': 0.32, 'thres_for_mean': 0.56}. Best is trial 18 with value: 24.85751516205821.\n"
     ]
    },
    {
     "name": "stderr",
     "output_type": "stream",
     "text": [
      "Best trial: 18. Best value: 24.8575:  80%|████████  | 200/250 [26:01<06:32,  7.85s/it]"
     ]
    },
    {
     "name": "stdout",
     "output_type": "stream",
     "text": [
      "1844\n",
      "[I 2024-02-15 07:27:59,273] Trial 199 finished with value: 21.12975301101797 and parameters: {'thres_for_max': 0.35, 'thres_for_mean': 0.75}. Best is trial 18 with value: 24.85751516205821.\n"
     ]
    },
    {
     "name": "stderr",
     "output_type": "stream",
     "text": [
      "Best trial: 18. Best value: 24.8575:  80%|████████  | 201/250 [26:09<06:25,  7.87s/it]"
     ]
    },
    {
     "name": "stdout",
     "output_type": "stream",
     "text": [
      "1852\n",
      "[I 2024-02-15 07:28:07,209] Trial 200 finished with value: 24.205421214539264 and parameters: {'thres_for_max': 0.32999999999999996, 'thres_for_mean': 0.55}. Best is trial 18 with value: 24.85751516205821.\n"
     ]
    },
    {
     "name": "stderr",
     "output_type": "stream",
     "text": [
      "Best trial: 18. Best value: 24.8575:  81%|████████  | 202/250 [26:17<06:24,  8.02s/it]"
     ]
    },
    {
     "name": "stdout",
     "output_type": "stream",
     "text": [
      "1852\n",
      "[I 2024-02-15 07:28:15,560] Trial 201 finished with value: 24.12356814393974 and parameters: {'thres_for_max': 0.32999999999999996, 'thres_for_mean': 0.54}. Best is trial 18 with value: 24.85751516205821.\n"
     ]
    },
    {
     "name": "stderr",
     "output_type": "stream",
     "text": [
      "Best trial: 18. Best value: 24.8575:  81%|████████  | 203/250 [26:26<06:27,  8.24s/it]"
     ]
    },
    {
     "name": "stdout",
     "output_type": "stream",
     "text": [
      "1852\n",
      "[I 2024-02-15 07:28:24,324] Trial 202 finished with value: 24.12356814393974 and parameters: {'thres_for_max': 0.32999999999999996, 'thres_for_mean': 0.54}. Best is trial 18 with value: 24.85751516205821.\n"
     ]
    },
    {
     "name": "stderr",
     "output_type": "stream",
     "text": [
      "Best trial: 18. Best value: 24.8575:  82%|████████▏ | 204/250 [26:34<06:25,  8.38s/it]"
     ]
    },
    {
     "name": "stdout",
     "output_type": "stream",
     "text": [
      "1848\n",
      "[I 2024-02-15 07:28:33,021] Trial 203 finished with value: 21.533898688652613 and parameters: {'thres_for_max': 0.33999999999999997, 'thres_for_mean': 0.8}. Best is trial 18 with value: 24.85751516205821.\n"
     ]
    },
    {
     "name": "stderr",
     "output_type": "stream",
     "text": [
      "Best trial: 18. Best value: 24.8575:  82%|████████▏ | 205/250 [26:43<06:23,  8.52s/it]"
     ]
    },
    {
     "name": "stdout",
     "output_type": "stream",
     "text": [
      "1852\n",
      "[I 2024-02-15 07:28:41,864] Trial 204 finished with value: 24.12356814393974 and parameters: {'thres_for_max': 0.32999999999999996, 'thres_for_mean': 0.54}. Best is trial 18 with value: 24.85751516205821.\n"
     ]
    },
    {
     "name": "stderr",
     "output_type": "stream",
     "text": [
      "Best trial: 18. Best value: 24.8575:  82%|████████▏ | 206/250 [26:52<06:19,  8.63s/it]"
     ]
    },
    {
     "name": "stdout",
     "output_type": "stream",
     "text": [
      "1844\n",
      "[I 2024-02-15 07:28:50,750] Trial 205 finished with value: 22.319443328864832 and parameters: {'thres_for_max': 0.35, 'thres_for_mean': 0.51}. Best is trial 18 with value: 24.85751516205821.\n"
     ]
    },
    {
     "name": "stderr",
     "output_type": "stream",
     "text": [
      "Best trial: 18. Best value: 24.8575:  83%|████████▎ | 207/250 [27:01<06:12,  8.67s/it]"
     ]
    },
    {
     "name": "stdout",
     "output_type": "stream",
     "text": [
      "1852\n",
      "[I 2024-02-15 07:28:59,525] Trial 206 finished with value: 23.1712754200777 and parameters: {'thres_for_max': 0.32999999999999996, 'thres_for_mean': 0.53}. Best is trial 18 with value: 24.85751516205821.\n"
     ]
    },
    {
     "name": "stderr",
     "output_type": "stream",
     "text": [
      "Best trial: 18. Best value: 24.8575:  83%|████████▎ | 208/250 [27:10<06:04,  8.69s/it]"
     ]
    },
    {
     "name": "stdout",
     "output_type": "stream",
     "text": [
      "1852\n",
      "[I 2024-02-15 07:29:08,241] Trial 207 finished with value: 24.12356814393974 and parameters: {'thres_for_max': 0.32999999999999996, 'thres_for_mean': 0.54}. Best is trial 18 with value: 24.85751516205821.\n"
     ]
    },
    {
     "name": "stderr",
     "output_type": "stream",
     "text": [
      "Best trial: 18. Best value: 24.8575:  84%|████████▎ | 209/250 [27:19<05:58,  8.75s/it]"
     ]
    },
    {
     "name": "stdout",
     "output_type": "stream",
     "text": [
      "1841\n",
      "[I 2024-02-15 07:29:17,139] Trial 208 finished with value: 22.475486191247292 and parameters: {'thres_for_max': 0.36, 'thres_for_mean': 0.54}. Best is trial 18 with value: 24.85751516205821.\n"
     ]
    },
    {
     "name": "stderr",
     "output_type": "stream",
     "text": [
      "Best trial: 18. Best value: 24.8575:  84%|████████▍ | 210/250 [27:27<05:49,  8.74s/it]"
     ]
    },
    {
     "name": "stdout",
     "output_type": "stream",
     "text": [
      "1852\n",
      "[I 2024-02-15 07:29:25,853] Trial 209 finished with value: 23.1712754200777 and parameters: {'thres_for_max': 0.32999999999999996, 'thres_for_mean': 0.53}. Best is trial 18 with value: 24.85751516205821.\n"
     ]
    },
    {
     "name": "stderr",
     "output_type": "stream",
     "text": [
      "Best trial: 18. Best value: 24.8575:  84%|████████▍ | 211/250 [27:36<05:40,  8.74s/it]"
     ]
    },
    {
     "name": "stdout",
     "output_type": "stream",
     "text": [
      "1844\n",
      "[I 2024-02-15 07:29:34,588] Trial 210 finished with value: 21.945759610605432 and parameters: {'thres_for_max': 0.35, 'thres_for_mean': 0.52}. Best is trial 18 with value: 24.85751516205821.\n"
     ]
    },
    {
     "name": "stderr",
     "output_type": "stream",
     "text": [
      "Best trial: 18. Best value: 24.8575:  85%|████████▍ | 212/250 [27:45<05:33,  8.78s/it]"
     ]
    },
    {
     "name": "stdout",
     "output_type": "stream",
     "text": [
      "1848\n",
      "[I 2024-02-15 07:29:43,466] Trial 211 finished with value: 22.80905271583567 and parameters: {'thres_for_max': 0.33999999999999997, 'thres_for_mean': 0.54}. Best is trial 18 with value: 24.85751516205821.\n"
     ]
    },
    {
     "name": "stderr",
     "output_type": "stream",
     "text": [
      "Best trial: 18. Best value: 24.8575:  85%|████████▌ | 213/250 [27:54<05:25,  8.80s/it]"
     ]
    },
    {
     "name": "stdout",
     "output_type": "stream",
     "text": [
      "1852\n",
      "[I 2024-02-15 07:29:52,308] Trial 212 finished with value: 24.008753848459968 and parameters: {'thres_for_max': 0.32999999999999996, 'thres_for_mean': 0.56}. Best is trial 18 with value: 24.85751516205821.\n"
     ]
    },
    {
     "name": "stderr",
     "output_type": "stream",
     "text": [
      "Best trial: 18. Best value: 24.8575:  86%|████████▌ | 214/250 [28:03<05:16,  8.80s/it]"
     ]
    },
    {
     "name": "stdout",
     "output_type": "stream",
     "text": [
      "1853\n",
      "[I 2024-02-15 07:30:01,124] Trial 213 finished with value: 23.92056576341231 and parameters: {'thres_for_max': 0.32, 'thres_for_mean': 0.5700000000000001}. Best is trial 18 with value: 24.85751516205821.\n"
     ]
    },
    {
     "name": "stderr",
     "output_type": "stream",
     "text": [
      "Best trial: 18. Best value: 24.8575:  86%|████████▌ | 215/250 [28:11<05:08,  8.81s/it]"
     ]
    },
    {
     "name": "stdout",
     "output_type": "stream",
     "text": [
      "1848\n",
      "[I 2024-02-15 07:30:09,954] Trial 214 finished with value: 22.80905271583567 and parameters: {'thres_for_max': 0.33999999999999997, 'thres_for_mean': 0.54}. Best is trial 18 with value: 24.85751516205821.\n"
     ]
    },
    {
     "name": "stderr",
     "output_type": "stream",
     "text": [
      "Best trial: 18. Best value: 24.8575:  86%|████████▋ | 216/250 [28:20<04:58,  8.78s/it]"
     ]
    },
    {
     "name": "stdout",
     "output_type": "stream",
     "text": [
      "1852\n",
      "[I 2024-02-15 07:30:18,656] Trial 215 finished with value: 24.249486922574036 and parameters: {'thres_for_max': 0.32999999999999996, 'thres_for_mean': 0.5800000000000001}. Best is trial 18 with value: 24.85751516205821.\n"
     ]
    },
    {
     "name": "stderr",
     "output_type": "stream",
     "text": [
      "Best trial: 18. Best value: 24.8575:  87%|████████▋ | 217/250 [28:29<04:49,  8.77s/it]"
     ]
    },
    {
     "name": "stdout",
     "output_type": "stream",
     "text": [
      "1852\n",
      "[I 2024-02-15 07:30:27,407] Trial 216 finished with value: 24.249486922574036 and parameters: {'thres_for_max': 0.32999999999999996, 'thres_for_mean': 0.5800000000000001}. Best is trial 18 with value: 24.85751516205821.\n"
     ]
    },
    {
     "name": "stderr",
     "output_type": "stream",
     "text": [
      "Best trial: 18. Best value: 24.8575:  87%|████████▋ | 218/250 [28:38<04:40,  8.75s/it]"
     ]
    },
    {
     "name": "stdout",
     "output_type": "stream",
     "text": [
      "1841\n",
      "[I 2024-02-15 07:30:36,120] Trial 217 finished with value: 21.43564310123719 and parameters: {'thres_for_max': 0.36, 'thres_for_mean': 0.59}. Best is trial 18 with value: 24.85751516205821.\n"
     ]
    },
    {
     "name": "stderr",
     "output_type": "stream",
     "text": [
      "Best trial: 18. Best value: 24.8575:  88%|████████▊ | 219/250 [28:46<04:25,  8.58s/it]"
     ]
    },
    {
     "name": "stdout",
     "output_type": "stream",
     "text": [
      "1836\n",
      "[I 2024-02-15 07:30:44,286] Trial 218 finished with value: 21.250457898424568 and parameters: {'thres_for_max': 0.38, 'thres_for_mean': 0.5800000000000001}. Best is trial 18 with value: 24.85751516205821.\n"
     ]
    },
    {
     "name": "stderr",
     "output_type": "stream",
     "text": [
      "Best trial: 18. Best value: 24.8575:  88%|████████▊ | 220/250 [28:54<04:14,  8.50s/it]"
     ]
    },
    {
     "name": "stdout",
     "output_type": "stream",
     "text": [
      "1844\n",
      "[I 2024-02-15 07:30:52,595] Trial 219 finished with value: 23.100178339428965 and parameters: {'thres_for_max': 0.35, 'thres_for_mean': 0.5800000000000001}. Best is trial 18 with value: 24.85751516205821.\n"
     ]
    },
    {
     "name": "stderr",
     "output_type": "stream",
     "text": [
      "Best trial: 18. Best value: 24.8575:  88%|████████▊ | 221/250 [29:02<04:02,  8.36s/it]"
     ]
    },
    {
     "name": "stdout",
     "output_type": "stream",
     "text": [
      "1026\n",
      "[I 2024-02-15 07:31:00,649] Trial 220 finished with value: 13.242367232455315 and parameters: {'thres_for_max': 0.8200000000000001, 'thres_for_mean': 0.6}. Best is trial 18 with value: 24.85751516205821.\n"
     ]
    },
    {
     "name": "stderr",
     "output_type": "stream",
     "text": [
      "Best trial: 18. Best value: 24.8575:  89%|████████▉ | 222/250 [29:11<03:56,  8.45s/it]"
     ]
    },
    {
     "name": "stdout",
     "output_type": "stream",
     "text": [
      "1852\n",
      "[I 2024-02-15 07:31:09,313] Trial 221 finished with value: 24.008753848459968 and parameters: {'thres_for_max': 0.32999999999999996, 'thres_for_mean': 0.56}. Best is trial 18 with value: 24.85751516205821.\n"
     ]
    },
    {
     "name": "stderr",
     "output_type": "stream",
     "text": [
      "Best trial: 18. Best value: 24.8575:  89%|████████▉ | 223/250 [29:19<03:48,  8.47s/it]"
     ]
    },
    {
     "name": "stdout",
     "output_type": "stream",
     "text": [
      "1852\n",
      "[I 2024-02-15 07:31:17,806] Trial 222 finished with value: 24.132006063746672 and parameters: {'thres_for_max': 0.32999999999999996, 'thres_for_mean': 0.5700000000000001}. Best is trial 18 with value: 24.85751516205821.\n"
     ]
    },
    {
     "name": "stderr",
     "output_type": "stream",
     "text": [
      "Best trial: 18. Best value: 24.8575:  90%|████████▉ | 224/250 [29:27<03:37,  8.36s/it]"
     ]
    },
    {
     "name": "stdout",
     "output_type": "stream",
     "text": [
      "1848\n",
      "[I 2024-02-15 07:31:25,918] Trial 223 finished with value: 22.81704704825564 and parameters: {'thres_for_max': 0.33999999999999997, 'thres_for_mean': 0.5700000000000001}. Best is trial 18 with value: 24.85751516205821.\n"
     ]
    },
    {
     "name": "stderr",
     "output_type": "stream",
     "text": [
      "Best trial: 18. Best value: 24.8575:  90%|█████████ | 225/250 [29:35<03:24,  8.19s/it]"
     ]
    },
    {
     "name": "stdout",
     "output_type": "stream",
     "text": [
      "1853\n",
      "[I 2024-02-15 07:31:33,698] Trial 224 finished with value: 22.805644234512105 and parameters: {'thres_for_max': 0.32, 'thres_for_mean': 0.59}. Best is trial 18 with value: 24.85751516205821.\n"
     ]
    },
    {
     "name": "stderr",
     "output_type": "stream",
     "text": [
      "Best trial: 18. Best value: 24.8575:  90%|█████████ | 226/250 [29:43<03:15,  8.14s/it]"
     ]
    },
    {
     "name": "stdout",
     "output_type": "stream",
     "text": [
      "1848\n",
      "[I 2024-02-15 07:31:41,716] Trial 225 finished with value: 22.700494756975548 and parameters: {'thres_for_max': 0.33999999999999997, 'thres_for_mean': 0.56}. Best is trial 18 with value: 24.85751516205821.\n"
     ]
    },
    {
     "name": "stderr",
     "output_type": "stream",
     "text": [
      "Best trial: 18. Best value: 24.8575:  91%|█████████ | 227/250 [29:51<03:05,  8.07s/it]"
     ]
    },
    {
     "name": "stdout",
     "output_type": "stream",
     "text": [
      "1852\n",
      "[I 2024-02-15 07:31:49,636] Trial 226 finished with value: 22.755084967403945 and parameters: {'thres_for_max': 0.32999999999999996, 'thres_for_mean': 0.8700000000000001}. Best is trial 18 with value: 24.85751516205821.\n"
     ]
    },
    {
     "name": "stderr",
     "output_type": "stream",
     "text": [
      "Best trial: 18. Best value: 24.8575:  91%|█████████ | 228/250 [29:59<02:55,  7.99s/it]"
     ]
    },
    {
     "name": "stdout",
     "output_type": "stream",
     "text": [
      "1853\n",
      "[I 2024-02-15 07:31:57,450] Trial 227 finished with value: 23.92056576341231 and parameters: {'thres_for_max': 0.32, 'thres_for_mean': 0.5700000000000001}. Best is trial 18 with value: 24.85751516205821.\n"
     ]
    },
    {
     "name": "stderr",
     "output_type": "stream",
     "text": [
      "Best trial: 18. Best value: 24.8575:  92%|█████████▏| 229/250 [30:07<02:47,  7.98s/it]"
     ]
    },
    {
     "name": "stdout",
     "output_type": "stream",
     "text": [
      "1844\n",
      "[I 2024-02-15 07:32:05,403] Trial 228 finished with value: 21.220716264359982 and parameters: {'thres_for_max': 0.35, 'thres_for_mean': 0.35}. Best is trial 18 with value: 24.85751516205821.\n"
     ]
    },
    {
     "name": "stderr",
     "output_type": "stream",
     "text": [
      "Best trial: 18. Best value: 24.8575:  92%|█████████▏| 230/250 [30:15<02:39,  7.97s/it]"
     ]
    },
    {
     "name": "stdout",
     "output_type": "stream",
     "text": [
      "1853\n",
      "[I 2024-02-15 07:32:13,341] Trial 229 finished with value: 22.960234635587067 and parameters: {'thres_for_max': 0.32, 'thres_for_mean': 0.6}. Best is trial 18 with value: 24.85751516205821.\n"
     ]
    },
    {
     "name": "stderr",
     "output_type": "stream",
     "text": [
      "Best trial: 18. Best value: 24.8575:  92%|█████████▏| 231/250 [30:23<02:30,  7.93s/it]"
     ]
    },
    {
     "name": "stdout",
     "output_type": "stream",
     "text": [
      "1603\n",
      "[I 2024-02-15 07:32:21,181] Trial 230 finished with value: 13.561782148759162 and parameters: {'thres_for_max': 0.5700000000000001, 'thres_for_mean': 0.55}. Best is trial 18 with value: 24.85751516205821.\n"
     ]
    },
    {
     "name": "stderr",
     "output_type": "stream",
     "text": [
      "Best trial: 18. Best value: 24.8575:  93%|█████████▎| 232/250 [30:30<02:22,  7.92s/it]"
     ]
    },
    {
     "name": "stdout",
     "output_type": "stream",
     "text": [
      "1852\n",
      "[I 2024-02-15 07:32:29,065] Trial 231 finished with value: 24.12356814393974 and parameters: {'thres_for_max': 0.32999999999999996, 'thres_for_mean': 0.54}. Best is trial 18 with value: 24.85751516205821.\n"
     ]
    },
    {
     "name": "stderr",
     "output_type": "stream",
     "text": [
      "Best trial: 18. Best value: 24.8575:  93%|█████████▎| 233/250 [30:38<02:14,  7.91s/it]"
     ]
    },
    {
     "name": "stdout",
     "output_type": "stream",
     "text": [
      "1848\n",
      "[I 2024-02-15 07:32:36,952] Trial 232 finished with value: 22.886445537292158 and parameters: {'thres_for_max': 0.33999999999999997, 'thres_for_mean': 0.55}. Best is trial 18 with value: 24.85751516205821.\n"
     ]
    },
    {
     "name": "stderr",
     "output_type": "stream",
     "text": [
      "Best trial: 18. Best value: 24.8575:  94%|█████████▎| 234/250 [30:46<02:05,  7.87s/it]"
     ]
    },
    {
     "name": "stdout",
     "output_type": "stream",
     "text": [
      "1852\n",
      "[I 2024-02-15 07:32:44,741] Trial 233 finished with value: 23.1712754200777 and parameters: {'thres_for_max': 0.32999999999999996, 'thres_for_mean': 0.53}. Best is trial 18 with value: 24.85751516205821.\n"
     ]
    },
    {
     "name": "stderr",
     "output_type": "stream",
     "text": [
      "Best trial: 18. Best value: 24.8575:  94%|█████████▍| 235/250 [30:54<01:57,  7.83s/it]"
     ]
    },
    {
     "name": "stdout",
     "output_type": "stream",
     "text": [
      "1852\n",
      "[I 2024-02-15 07:32:52,470] Trial 234 finished with value: 24.132006063746672 and parameters: {'thres_for_max': 0.32999999999999996, 'thres_for_mean': 0.5700000000000001}. Best is trial 18 with value: 24.85751516205821.\n"
     ]
    },
    {
     "name": "stderr",
     "output_type": "stream",
     "text": [
      "Best trial: 18. Best value: 24.8575:  94%|█████████▍| 236/250 [31:02<01:49,  7.83s/it]"
     ]
    },
    {
     "name": "stdout",
     "output_type": "stream",
     "text": [
      "1853\n",
      "[I 2024-02-15 07:33:00,304] Trial 235 finished with value: 24.03703760611258 and parameters: {'thres_for_max': 0.32, 'thres_for_mean': 0.5800000000000001}. Best is trial 18 with value: 24.85751516205821.\n"
     ]
    },
    {
     "name": "stderr",
     "output_type": "stream",
     "text": [
      "Best trial: 18. Best value: 24.8575:  95%|█████████▍| 237/250 [31:10<01:41,  7.82s/it]"
     ]
    },
    {
     "name": "stdout",
     "output_type": "stream",
     "text": [
      "1841\n",
      "[I 2024-02-15 07:33:08,107] Trial 236 finished with value: 22.48377010301163 and parameters: {'thres_for_max': 0.36, 'thres_for_mean': 0.5700000000000001}. Best is trial 18 with value: 24.85751516205821.\n"
     ]
    },
    {
     "name": "stderr",
     "output_type": "stream",
     "text": [
      "Best trial: 18. Best value: 24.8575:  95%|█████████▌| 238/250 [31:17<01:33,  7.81s/it]"
     ]
    },
    {
     "name": "stdout",
     "output_type": "stream",
     "text": [
      "1848\n",
      "[I 2024-02-15 07:33:15,900] Trial 237 finished with value: 22.928110966020743 and parameters: {'thres_for_max': 0.33999999999999997, 'thres_for_mean': 0.5800000000000001}. Best is trial 18 with value: 24.85751516205821.\n"
     ]
    },
    {
     "name": "stderr",
     "output_type": "stream",
     "text": [
      "Best trial: 18. Best value: 24.8575:  96%|█████████▌| 239/250 [31:25<01:25,  7.82s/it]"
     ]
    },
    {
     "name": "stdout",
     "output_type": "stream",
     "text": [
      "1844\n",
      "[I 2024-02-15 07:33:23,719] Trial 238 finished with value: 22.870849216747022 and parameters: {'thres_for_max': 0.35, 'thres_for_mean': 0.56}. Best is trial 18 with value: 24.85751516205821.\n"
     ]
    },
    {
     "name": "stderr",
     "output_type": "stream",
     "text": [
      "Best trial: 18. Best value: 24.8575:  96%|█████████▌| 240/250 [31:33<01:18,  7.80s/it]"
     ]
    },
    {
     "name": "stdout",
     "output_type": "stream",
     "text": [
      "1852\n",
      "[I 2024-02-15 07:33:31,487] Trial 239 finished with value: 24.008753848459968 and parameters: {'thres_for_max': 0.32999999999999996, 'thres_for_mean': 0.56}. Best is trial 18 with value: 24.85751516205821.\n"
     ]
    },
    {
     "name": "stderr",
     "output_type": "stream",
     "text": [
      "Best trial: 18. Best value: 24.8575:  96%|█████████▋| 241/250 [31:41<01:10,  7.81s/it]"
     ]
    },
    {
     "name": "stdout",
     "output_type": "stream",
     "text": [
      "1853\n",
      "[I 2024-02-15 07:33:39,308] Trial 240 finished with value: 23.92056576341231 and parameters: {'thres_for_max': 0.32, 'thres_for_mean': 0.5700000000000001}. Best is trial 18 with value: 24.85751516205821.\n"
     ]
    },
    {
     "name": "stderr",
     "output_type": "stream",
     "text": [
      "Best trial: 18. Best value: 24.8575:  97%|█████████▋| 242/250 [31:49<01:02,  7.86s/it]"
     ]
    },
    {
     "name": "stdout",
     "output_type": "stream",
     "text": [
      "1852\n",
      "[I 2024-02-15 07:33:47,298] Trial 241 finished with value: 24.12356814393974 and parameters: {'thres_for_max': 0.32999999999999996, 'thres_for_mean': 0.54}. Best is trial 18 with value: 24.85751516205821.\n"
     ]
    },
    {
     "name": "stderr",
     "output_type": "stream",
     "text": [
      "Best trial: 18. Best value: 24.8575:  97%|█████████▋| 243/250 [31:56<00:54,  7.83s/it]"
     ]
    },
    {
     "name": "stdout",
     "output_type": "stream",
     "text": [
      "1848\n",
      "[I 2024-02-15 07:33:55,057] Trial 242 finished with value: 22.886445537292158 and parameters: {'thres_for_max': 0.33999999999999997, 'thres_for_mean': 0.55}. Best is trial 18 with value: 24.85751516205821.\n"
     ]
    },
    {
     "name": "stderr",
     "output_type": "stream",
     "text": [
      "Best trial: 18. Best value: 24.8575:  98%|█████████▊| 244/250 [32:04<00:47,  7.85s/it]"
     ]
    },
    {
     "name": "stdout",
     "output_type": "stream",
     "text": [
      "1853\n",
      "[I 2024-02-15 07:34:02,942] Trial 243 finished with value: 22.968277247364462 and parameters: {'thres_for_max': 0.32, 'thres_for_mean': 0.53}. Best is trial 18 with value: 24.85751516205821.\n"
     ]
    },
    {
     "name": "stderr",
     "output_type": "stream",
     "text": [
      "Best trial: 18. Best value: 24.8575:  98%|█████████▊| 245/250 [32:12<00:39,  7.84s/it]"
     ]
    },
    {
     "name": "stdout",
     "output_type": "stream",
     "text": [
      "1852\n",
      "[I 2024-02-15 07:34:10,772] Trial 244 finished with value: 24.205421214539264 and parameters: {'thres_for_max': 0.32999999999999996, 'thres_for_mean': 0.55}. Best is trial 18 with value: 24.85751516205821.\n"
     ]
    },
    {
     "name": "stderr",
     "output_type": "stream",
     "text": [
      "Best trial: 18. Best value: 24.8575:  98%|█████████▊| 246/250 [32:20<00:31,  7.88s/it]"
     ]
    },
    {
     "name": "stdout",
     "output_type": "stream",
     "text": [
      "1858\n",
      "[I 2024-02-15 07:34:18,738] Trial 245 finished with value: 23.891475696177576 and parameters: {'thres_for_max': 0.31, 'thres_for_mean': 0.56}. Best is trial 18 with value: 24.85751516205821.\n"
     ]
    },
    {
     "name": "stderr",
     "output_type": "stream",
     "text": [
      "Best trial: 18. Best value: 24.8575:  99%|█████████▉| 247/250 [32:28<00:23,  7.88s/it]"
     ]
    },
    {
     "name": "stdout",
     "output_type": "stream",
     "text": [
      "1848\n",
      "[I 2024-02-15 07:34:26,606] Trial 246 finished with value: 22.886445537292158 and parameters: {'thres_for_max': 0.33999999999999997, 'thres_for_mean': 0.55}. Best is trial 18 with value: 24.85751516205821.\n"
     ]
    },
    {
     "name": "stderr",
     "output_type": "stream",
     "text": [
      "Best trial: 18. Best value: 24.8575:  99%|█████████▉| 248/250 [32:36<00:15,  7.85s/it]"
     ]
    },
    {
     "name": "stdout",
     "output_type": "stream",
     "text": [
      "1844\n",
      "[I 2024-02-15 07:34:34,387] Trial 247 finished with value: 21.916789444681292 and parameters: {'thres_for_max': 0.35, 'thres_for_mean': 0.59}. Best is trial 18 with value: 24.85751516205821.\n"
     ]
    },
    {
     "name": "stderr",
     "output_type": "stream",
     "text": [
      "Best trial: 18. Best value: 24.8575: 100%|█████████▉| 249/250 [32:44<00:07,  7.82s/it]"
     ]
    },
    {
     "name": "stdout",
     "output_type": "stream",
     "text": [
      "1853\n",
      "[I 2024-02-15 07:34:42,131] Trial 248 finished with value: 22.835962304702 and parameters: {'thres_for_max': 0.32, 'thres_for_mean': 0.52}. Best is trial 18 with value: 24.85751516205821.\n"
     ]
    },
    {
     "name": "stderr",
     "output_type": "stream",
     "text": [
      "Best trial: 18. Best value: 24.8575: 100%|██████████| 250/250 [32:51<00:00,  7.89s/it]"
     ]
    },
    {
     "name": "stdout",
     "output_type": "stream",
     "text": [
      "1858\n",
      "[I 2024-02-15 07:34:49,888] Trial 249 finished with value: 24.014100359627797 and parameters: {'thres_for_max': 0.31, 'thres_for_mean': 0.5700000000000001}. Best is trial 18 with value: 24.85751516205821.\n"
     ]
    },
    {
     "name": "stderr",
     "output_type": "stream",
     "text": [
      "\n",
      "[I 2024-02-15 07:34:50,185] A new study created in memory with name: best_combi_of_thres_float_rtn_5\n",
      "Best trial: 0. Best value: 16.8927:   0%|          | 1/250 [00:07<32:35,  7.85s/it]"
     ]
    },
    {
     "name": "stdout",
     "output_type": "stream",
     "text": [
      "1728\n",
      "[I 2024-02-15 07:34:58,038] Trial 0 finished with value: 16.89274737913556 and parameters: {'thres_for_max': 0.64, 'thres_for_mean': 0.37}. Best is trial 0 with value: 16.89274737913556.\n"
     ]
    },
    {
     "name": "stderr",
     "output_type": "stream",
     "text": [
      "Best trial: 0. Best value: 16.8927:   1%|          | 2/250 [00:15<32:16,  7.81s/it]"
     ]
    },
    {
     "name": "stdout",
     "output_type": "stream",
     "text": [
      "1329\n",
      "[I 2024-02-15 07:35:05,816] Trial 1 finished with value: 12.096266843111904 and parameters: {'thres_for_max': 0.75, 'thres_for_mean': 0.54}. Best is trial 0 with value: 16.89274737913556.\n"
     ]
    },
    {
     "name": "stderr",
     "output_type": "stream",
     "text": [
      "Best trial: 0. Best value: 16.8927:   1%|          | 3/250 [00:23<31:55,  7.75s/it]"
     ]
    },
    {
     "name": "stdout",
     "output_type": "stream",
     "text": [
      "1422\n",
      "[I 2024-02-15 07:35:13,506] Trial 2 finished with value: 11.914449982889415 and parameters: {'thres_for_max': 0.6599999999999999, 'thres_for_mean': 0.74}. Best is trial 0 with value: 16.89274737913556.\n"
     ]
    },
    {
     "name": "stderr",
     "output_type": "stream",
     "text": [
      "Best trial: 3. Best value: 19.9911:   2%|▏         | 4/250 [00:31<31:58,  7.80s/it]"
     ]
    },
    {
     "name": "stdout",
     "output_type": "stream",
     "text": [
      "1814\n",
      "[I 2024-02-15 07:35:21,370] Trial 3 finished with value: 19.99113158084035 and parameters: {'thres_for_max': 0.43, 'thres_for_mean': 0.8899999999999999}. Best is trial 3 with value: 19.99113158084035.\n"
     ]
    },
    {
     "name": "stderr",
     "output_type": "stream",
     "text": [
      "Best trial: 3. Best value: 19.9911:   2%|▏         | 5/250 [00:38<31:41,  7.76s/it]"
     ]
    },
    {
     "name": "stdout",
     "output_type": "stream",
     "text": [
      "1698\n",
      "[I 2024-02-15 07:35:29,061] Trial 4 finished with value: 18.38758596110614 and parameters: {'thres_for_max': 0.54, 'thres_for_mean': 0.81}. Best is trial 3 with value: 19.99113158084035.\n"
     ]
    },
    {
     "name": "stderr",
     "output_type": "stream",
     "text": [
      "Best trial: 3. Best value: 19.9911:   2%|▏         | 6/250 [00:46<31:21,  7.71s/it]"
     ]
    },
    {
     "name": "stdout",
     "output_type": "stream",
     "text": [
      "1607\n",
      "[I 2024-02-15 07:35:36,678] Trial 5 finished with value: 15.972666107051788 and parameters: {'thres_for_max': 0.59, 'thres_for_mean': 0.8300000000000001}. Best is trial 3 with value: 19.99113158084035.\n"
     ]
    },
    {
     "name": "stderr",
     "output_type": "stream",
     "text": [
      "Best trial: 3. Best value: 19.9911:   3%|▎         | 7/250 [00:54<31:05,  7.68s/it]"
     ]
    },
    {
     "name": "stdout",
     "output_type": "stream",
     "text": [
      "959\n",
      "[I 2024-02-15 07:35:44,289] Trial 6 finished with value: 11.597465723498132 and parameters: {'thres_for_max': 0.79, 'thres_for_mean': 0.8600000000000001}. Best is trial 3 with value: 19.99113158084035.\n"
     ]
    },
    {
     "name": "stderr",
     "output_type": "stream",
     "text": [
      "Best trial: 3. Best value: 19.9911:   3%|▎         | 8/250 [01:01<31:00,  7.69s/it]"
     ]
    },
    {
     "name": "stdout",
     "output_type": "stream",
     "text": [
      "1654\n",
      "[I 2024-02-15 07:35:51,998] Trial 7 finished with value: 17.069040012547497 and parameters: {'thres_for_max': 0.6, 'thres_for_mean': 0.43}. Best is trial 3 with value: 19.99113158084035.\n"
     ]
    },
    {
     "name": "stderr",
     "output_type": "stream",
     "text": [
      "Best trial: 3. Best value: 19.9911:   4%|▎         | 9/250 [01:09<30:55,  7.70s/it]"
     ]
    },
    {
     "name": "stdout",
     "output_type": "stream",
     "text": [
      "1583\n",
      "[I 2024-02-15 07:35:59,724] Trial 8 finished with value: 16.153203494531304 and parameters: {'thres_for_max': 0.8300000000000001, 'thres_for_mean': 0.44}. Best is trial 3 with value: 19.99113158084035.\n"
     ]
    },
    {
     "name": "stderr",
     "output_type": "stream",
     "text": [
      "Best trial: 3. Best value: 19.9911:   4%|▍         | 10/250 [01:17<30:49,  7.71s/it]"
     ]
    },
    {
     "name": "stdout",
     "output_type": "stream",
     "text": [
      "1149\n",
      "[I 2024-02-15 07:36:07,445] Trial 9 finished with value: 13.449953563306472 and parameters: {'thres_for_max': 0.74, 'thres_for_mean': 0.76}. Best is trial 3 with value: 19.99113158084035.\n"
     ]
    },
    {
     "name": "stderr",
     "output_type": "stream",
     "text": [
      "Best trial: 3. Best value: 19.9911:   4%|▍         | 11/250 [01:25<30:51,  7.75s/it]"
     ]
    },
    {
     "name": "stdout",
     "output_type": "stream",
     "text": [
      "1852\n",
      "[I 2024-02-15 07:36:15,288] Trial 10 finished with value: 18.446658661634412 and parameters: {'thres_for_max': 0.33999999999999997, 'thres_for_mean': 0.65}. Best is trial 3 with value: 19.99113158084035.\n"
     ]
    },
    {
     "name": "stderr",
     "output_type": "stream",
     "text": [
      "Best trial: 3. Best value: 19.9911:   5%|▍         | 12/250 [01:32<30:52,  7.78s/it]"
     ]
    },
    {
     "name": "stdout",
     "output_type": "stream",
     "text": [
      "1852\n",
      "[I 2024-02-15 07:36:23,150] Trial 11 finished with value: 18.446658661634412 and parameters: {'thres_for_max': 0.33999999999999997, 'thres_for_mean': 0.65}. Best is trial 3 with value: 19.99113158084035.\n"
     ]
    },
    {
     "name": "stderr",
     "output_type": "stream",
     "text": [
      "Best trial: 3. Best value: 19.9911:   5%|▌         | 13/250 [01:40<30:53,  7.82s/it]"
     ]
    },
    {
     "name": "stdout",
     "output_type": "stream",
     "text": [
      "1852\n",
      "[I 2024-02-15 07:36:31,064] Trial 12 finished with value: 18.818719552551045 and parameters: {'thres_for_max': 0.33999999999999997, 'thres_for_mean': 0.61}. Best is trial 3 with value: 19.99113158084035.\n"
     ]
    },
    {
     "name": "stderr",
     "output_type": "stream",
     "text": [
      "Best trial: 3. Best value: 19.9911:   6%|▌         | 14/250 [01:48<30:42,  7.81s/it]"
     ]
    },
    {
     "name": "stdout",
     "output_type": "stream",
     "text": [
      "1801\n",
      "[I 2024-02-15 07:36:38,831] Trial 13 finished with value: 17.887259863271893 and parameters: {'thres_for_max': 0.44999999999999996, 'thres_for_mean': 0.55}. Best is trial 3 with value: 19.99113158084035.\n"
     ]
    },
    {
     "name": "stderr",
     "output_type": "stream",
     "text": [
      "Best trial: 3. Best value: 19.9911:   6%|▌         | 15/250 [01:56<30:42,  7.84s/it]"
     ]
    },
    {
     "name": "stdout",
     "output_type": "stream",
     "text": [
      "1814\n",
      "[I 2024-02-15 07:36:46,759] Trial 14 finished with value: 18.731314858577043 and parameters: {'thres_for_max': 0.44, 'thres_for_mean': 0.32}. Best is trial 3 with value: 19.99113158084035.\n"
     ]
    },
    {
     "name": "stderr",
     "output_type": "stream",
     "text": [
      "Best trial: 3. Best value: 19.9911:   6%|▋         | 16/250 [02:04<30:29,  7.82s/it]"
     ]
    },
    {
     "name": "stdout",
     "output_type": "stream",
     "text": [
      "1810\n",
      "[I 2024-02-15 07:36:54,521] Trial 15 finished with value: 18.310850197397613 and parameters: {'thres_for_max': 0.44, 'thres_for_mean': 0.71}. Best is trial 3 with value: 19.99113158084035.\n"
     ]
    },
    {
     "name": "stderr",
     "output_type": "stream",
     "text": [
      "Best trial: 3. Best value: 19.9911:   7%|▋         | 17/250 [02:12<30:25,  7.83s/it]"
     ]
    },
    {
     "name": "stdout",
     "output_type": "stream",
     "text": [
      "1859\n",
      "[I 2024-02-15 07:37:02,394] Trial 16 finished with value: 17.7020543076062 and parameters: {'thres_for_max': 0.31, 'thres_for_mean': 0.52}. Best is trial 3 with value: 19.99113158084035.\n"
     ]
    },
    {
     "name": "stderr",
     "output_type": "stream",
     "text": [
      "Best trial: 17. Best value: 20.3454:   7%|▋         | 18/250 [02:19<30:11,  7.81s/it]"
     ]
    },
    {
     "name": "stdout",
     "output_type": "stream",
     "text": [
      "1739\n",
      "[I 2024-02-15 07:37:10,143] Trial 17 finished with value: 20.345378790908132 and parameters: {'thres_for_max': 0.51, 'thres_for_mean': 0.8899999999999999}. Best is trial 17 with value: 20.345378790908132.\n"
     ]
    },
    {
     "name": "stderr",
     "output_type": "stream",
     "text": [
      "Best trial: 17. Best value: 20.3454:   8%|▊         | 19/250 [02:27<29:54,  7.77s/it]"
     ]
    },
    {
     "name": "stdout",
     "output_type": "stream",
     "text": [
      "1748\n",
      "[I 2024-02-15 07:37:17,814] Trial 18 finished with value: 18.035756935179396 and parameters: {'thres_for_max': 0.5, 'thres_for_mean': 0.8899999999999999}. Best is trial 17 with value: 20.345378790908132.\n"
     ]
    },
    {
     "name": "stderr",
     "output_type": "stream",
     "text": [
      "Best trial: 17. Best value: 20.3454:   8%|▊         | 20/250 [02:35<29:41,  7.74s/it]"
     ]
    },
    {
     "name": "stdout",
     "output_type": "stream",
     "text": [
      "1827\n",
      "[I 2024-02-15 07:37:25,501] Trial 19 finished with value: 17.739223271002665 and parameters: {'thres_for_max': 0.4, 'thres_for_mean': 0.8899999999999999}. Best is trial 17 with value: 20.345378790908132.\n"
     ]
    },
    {
     "name": "stderr",
     "output_type": "stream",
     "text": [
      "Best trial: 17. Best value: 20.3454:   8%|▊         | 21/250 [02:42<29:23,  7.70s/it]"
     ]
    },
    {
     "name": "stdout",
     "output_type": "stream",
     "text": [
      "1726\n",
      "[I 2024-02-15 07:37:33,108] Trial 20 finished with value: 18.790579046574507 and parameters: {'thres_for_max': 0.52, 'thres_for_mean': 0.79}. Best is trial 17 with value: 20.345378790908132.\n"
     ]
    },
    {
     "name": "stderr",
     "output_type": "stream",
     "text": [
      "Best trial: 17. Best value: 20.3454:   9%|▉         | 22/250 [02:50<29:26,  7.75s/it]"
     ]
    },
    {
     "name": "stdout",
     "output_type": "stream",
     "text": [
      "1841\n",
      "[I 2024-02-15 07:37:40,960] Trial 21 finished with value: 16.905523450350255 and parameters: {'thres_for_max': 0.37, 'thres_for_mean': 0.7}. Best is trial 17 with value: 20.345378790908132.\n"
     ]
    },
    {
     "name": "stderr",
     "output_type": "stream",
     "text": [
      "Best trial: 17. Best value: 20.3454:   9%|▉         | 23/250 [02:58<29:18,  7.75s/it]"
     ]
    },
    {
     "name": "stdout",
     "output_type": "stream",
     "text": [
      "1771\n",
      "[I 2024-02-15 07:37:48,709] Trial 22 finished with value: 17.860344826641786 and parameters: {'thres_for_max': 0.48, 'thres_for_mean': 0.64}. Best is trial 17 with value: 20.345378790908132.\n"
     ]
    },
    {
     "name": "stderr",
     "output_type": "stream",
     "text": [
      "Best trial: 17. Best value: 20.3454:  10%|▉         | 24/250 [03:06<29:11,  7.75s/it]"
     ]
    },
    {
     "name": "stdout",
     "output_type": "stream",
     "text": [
      "1835\n",
      "[I 2024-02-15 07:37:56,470] Trial 23 finished with value: 16.23998795204874 and parameters: {'thres_for_max': 0.39, 'thres_for_mean': 0.8999999999999999}. Best is trial 17 with value: 20.345378790908132.\n"
     ]
    },
    {
     "name": "stderr",
     "output_type": "stream",
     "text": [
      "Best trial: 17. Best value: 20.3454:  10%|█         | 25/250 [03:14<29:10,  7.78s/it]"
     ]
    },
    {
     "name": "stdout",
     "output_type": "stream",
     "text": [
      "1861\n",
      "[I 2024-02-15 07:38:04,322] Trial 24 finished with value: 18.060438551183065 and parameters: {'thres_for_max': 0.3, 'thres_for_mean': 0.8400000000000001}. Best is trial 17 with value: 20.345378790908132.\n"
     ]
    },
    {
     "name": "stderr",
     "output_type": "stream",
     "text": [
      "Best trial: 17. Best value: 20.3454:  10%|█         | 26/250 [03:21<29:07,  7.80s/it]"
     ]
    },
    {
     "name": "stdout",
     "output_type": "stream",
     "text": [
      "1647\n",
      "[I 2024-02-15 07:38:12,163] Trial 25 finished with value: 13.165753402007647 and parameters: {'thres_for_max': 0.5700000000000001, 'thres_for_mean': 0.59}. Best is trial 17 with value: 20.345378790908132.\n"
     ]
    },
    {
     "name": "stderr",
     "output_type": "stream",
     "text": [
      "Best trial: 17. Best value: 20.3454:  11%|█         | 27/250 [03:29<29:04,  7.82s/it]"
     ]
    },
    {
     "name": "stdout",
     "output_type": "stream",
     "text": [
      "1824\n",
      "[I 2024-02-15 07:38:20,036] Trial 26 finished with value: 17.91623148788649 and parameters: {'thres_for_max': 0.41, 'thres_for_mean': 0.78}. Best is trial 17 with value: 20.345378790908132.\n"
     ]
    },
    {
     "name": "stderr",
     "output_type": "stream",
     "text": [
      "Best trial: 17. Best value: 20.3454:  11%|█         | 28/250 [03:37<28:52,  7.81s/it]"
     ]
    },
    {
     "name": "stdout",
     "output_type": "stream",
     "text": [
      "1771\n",
      "[I 2024-02-15 07:38:27,805] Trial 27 finished with value: 18.245318722429992 and parameters: {'thres_for_max': 0.48, 'thres_for_mean': 0.7}. Best is trial 17 with value: 20.345378790908132.\n"
     ]
    },
    {
     "name": "stderr",
     "output_type": "stream",
     "text": [
      "Best trial: 17. Best value: 20.3454:  12%|█▏        | 29/250 [03:45<28:50,  7.83s/it]"
     ]
    },
    {
     "name": "stdout",
     "output_type": "stream",
     "text": [
      "1851\n",
      "[I 2024-02-15 07:38:35,695] Trial 28 finished with value: 18.65283797707181 and parameters: {'thres_for_max': 0.35, 'thres_for_mean': 0.45999999999999996}. Best is trial 17 with value: 20.345378790908132.\n"
     ]
    },
    {
     "name": "stderr",
     "output_type": "stream",
     "text": [
      "Best trial: 17. Best value: 20.3454:  12%|█▏        | 30/250 [03:53<28:45,  7.84s/it]"
     ]
    },
    {
     "name": "stdout",
     "output_type": "stream",
     "text": [
      "1677\n",
      "[I 2024-02-15 07:38:43,565] Trial 29 finished with value: 14.169515917450054 and parameters: {'thres_for_max': 0.6599999999999999, 'thres_for_mean': 0.4}. Best is trial 17 with value: 20.345378790908132.\n"
     ]
    },
    {
     "name": "stderr",
     "output_type": "stream",
     "text": [
      "Best trial: 17. Best value: 20.3454:  12%|█▏        | 31/250 [04:01<28:32,  7.82s/it]"
     ]
    },
    {
     "name": "stdout",
     "output_type": "stream",
     "text": [
      "1747\n",
      "[I 2024-02-15 07:38:51,325] Trial 30 finished with value: 15.749771434588771 and parameters: {'thres_for_max': 0.8999999999999999, 'thres_for_mean': 0.35}. Best is trial 17 with value: 20.345378790908132.\n"
     ]
    },
    {
     "name": "stderr",
     "output_type": "stream",
     "text": [
      "Best trial: 17. Best value: 20.3454:  13%|█▎        | 32/250 [04:08<28:11,  7.76s/it]"
     ]
    },
    {
     "name": "stdout",
     "output_type": "stream",
     "text": [
      "1710\n",
      "[I 2024-02-15 07:38:58,947] Trial 31 finished with value: 17.8200206072453 and parameters: {'thres_for_max': 0.53, 'thres_for_mean': 0.79}. Best is trial 17 with value: 20.345378790908132.\n"
     ]
    },
    {
     "name": "stderr",
     "output_type": "stream",
     "text": [
      "Best trial: 17. Best value: 20.3454:  13%|█▎        | 33/250 [04:16<28:01,  7.75s/it]"
     ]
    },
    {
     "name": "stdout",
     "output_type": "stream",
     "text": [
      "1698\n",
      "[I 2024-02-15 07:39:06,667] Trial 32 finished with value: 18.515870344366252 and parameters: {'thres_for_max': 0.54, 'thres_for_mean': 0.8600000000000001}. Best is trial 17 with value: 20.345378790908132.\n"
     ]
    },
    {
     "name": "stderr",
     "output_type": "stream",
     "text": [
      "Best trial: 17. Best value: 20.3454:  14%|█▎        | 34/250 [04:24<27:56,  7.76s/it]"
     ]
    },
    {
     "name": "stdout",
     "output_type": "stream",
     "text": [
      "1758\n",
      "[I 2024-02-15 07:39:14,468] Trial 33 finished with value: 18.226752171728737 and parameters: {'thres_for_max': 0.49, 'thres_for_mean': 0.74}. Best is trial 17 with value: 20.345378790908132.\n"
     ]
    },
    {
     "name": "stderr",
     "output_type": "stream",
     "text": [
      "Best trial: 17. Best value: 20.3454:  14%|█▍        | 35/250 [04:32<27:48,  7.76s/it]"
     ]
    },
    {
     "name": "stdout",
     "output_type": "stream",
     "text": [
      "1502\n",
      "[I 2024-02-15 07:39:22,216] Trial 34 finished with value: 15.955285339996717 and parameters: {'thres_for_max': 0.63, 'thres_for_mean': 0.8}. Best is trial 17 with value: 20.345378790908132.\n"
     ]
    },
    {
     "name": "stderr",
     "output_type": "stream",
     "text": [
      "Best trial: 17. Best value: 20.3454:  14%|█▍        | 36/250 [04:39<27:40,  7.76s/it]"
     ]
    },
    {
     "name": "stdout",
     "output_type": "stream",
     "text": [
      "1814\n",
      "[I 2024-02-15 07:39:29,978] Trial 35 finished with value: 19.772396431182294 and parameters: {'thres_for_max': 0.43, 'thres_for_mean': 0.8300000000000001}. Best is trial 17 with value: 20.345378790908132.\n"
     ]
    },
    {
     "name": "stderr",
     "output_type": "stream",
     "text": [
      "Best trial: 17. Best value: 20.3454:  15%|█▍        | 37/250 [04:47<27:25,  7.73s/it]"
     ]
    },
    {
     "name": "stdout",
     "output_type": "stream",
     "text": [
      "1814\n",
      "[I 2024-02-15 07:39:37,625] Trial 36 finished with value: 19.382265574008365 and parameters: {'thres_for_max': 0.43, 'thres_for_mean': 0.8500000000000001}. Best is trial 17 with value: 20.345378790908132.\n"
     ]
    },
    {
     "name": "stderr",
     "output_type": "stream",
     "text": [
      "Best trial: 17. Best value: 20.3454:  15%|█▌        | 38/250 [04:55<27:18,  7.73s/it]"
     ]
    },
    {
     "name": "stdout",
     "output_type": "stream",
     "text": [
      "1814\n",
      "[I 2024-02-15 07:39:45,360] Trial 37 finished with value: 19.521311074464 and parameters: {'thres_for_max': 0.43, 'thres_for_mean': 0.8400000000000001}. Best is trial 17 with value: 20.345378790908132.\n"
     ]
    },
    {
     "name": "stderr",
     "output_type": "stream",
     "text": [
      "Best trial: 17. Best value: 20.3454:  16%|█▌        | 39/250 [05:02<27:10,  7.73s/it]"
     ]
    },
    {
     "name": "stdout",
     "output_type": "stream",
     "text": [
      "1647\n",
      "[I 2024-02-15 07:39:53,080] Trial 38 finished with value: 13.211968728621931 and parameters: {'thres_for_max': 0.5700000000000001, 'thres_for_mean': 0.8200000000000001}. Best is trial 17 with value: 20.345378790908132.\n"
     ]
    },
    {
     "name": "stderr",
     "output_type": "stream",
     "text": [
      "Best trial: 17. Best value: 20.3454:  16%|█▌        | 40/250 [05:10<26:58,  7.71s/it]"
     ]
    },
    {
     "name": "stdout",
     "output_type": "stream",
     "text": [
      "1248\n",
      "[I 2024-02-15 07:40:00,740] Trial 39 finished with value: 16.244898579315567 and parameters: {'thres_for_max': 0.71, 'thres_for_mean': 0.8700000000000001}. Best is trial 17 with value: 20.345378790908132.\n"
     ]
    },
    {
     "name": "stderr",
     "output_type": "stream",
     "text": [
      "Best trial: 17. Best value: 20.3454:  16%|█▋        | 41/250 [05:18<26:53,  7.72s/it]"
     ]
    },
    {
     "name": "stdout",
     "output_type": "stream",
     "text": [
      "1780\n",
      "[I 2024-02-15 07:40:08,487] Trial 40 finished with value: 17.963023642187974 and parameters: {'thres_for_max': 0.47, 'thres_for_mean': 0.75}. Best is trial 17 with value: 20.345378790908132.\n"
     ]
    },
    {
     "name": "stderr",
     "output_type": "stream",
     "text": [
      "Best trial: 17. Best value: 20.3454:  17%|█▋        | 42/250 [05:26<26:55,  7.77s/it]"
     ]
    },
    {
     "name": "stdout",
     "output_type": "stream",
     "text": [
      "1819\n",
      "[I 2024-02-15 07:40:16,371] Trial 41 finished with value: 19.195978388532076 and parameters: {'thres_for_max': 0.42, 'thres_for_mean': 0.8400000000000001}. Best is trial 17 with value: 20.345378790908132.\n"
     ]
    },
    {
     "name": "stderr",
     "output_type": "stream",
     "text": [
      "Best trial: 17. Best value: 20.3454:  17%|█▋        | 43/250 [05:33<26:46,  7.76s/it]"
     ]
    },
    {
     "name": "stdout",
     "output_type": "stream",
     "text": [
      "1810\n",
      "[I 2024-02-15 07:40:24,110] Trial 42 finished with value: 17.972529409724686 and parameters: {'thres_for_max': 0.44, 'thres_for_mean': 0.8500000000000001}. Best is trial 17 with value: 20.345378790908132.\n"
     ]
    },
    {
     "name": "stderr",
     "output_type": "stream",
     "text": [
      "Best trial: 17. Best value: 20.3454:  18%|█▊        | 44/250 [05:41<26:37,  7.75s/it]"
     ]
    },
    {
     "name": "stdout",
     "output_type": "stream",
     "text": [
      "1835\n",
      "[I 2024-02-15 07:40:31,850] Trial 43 finished with value: 16.23998795204874 and parameters: {'thres_for_max': 0.39, 'thres_for_mean': 0.8999999999999999}. Best is trial 17 with value: 20.345378790908132.\n"
     ]
    },
    {
     "name": "stderr",
     "output_type": "stream",
     "text": [
      "Best trial: 17. Best value: 20.3454:  18%|█▊        | 45/250 [05:49<26:30,  7.76s/it]"
     ]
    },
    {
     "name": "stdout",
     "output_type": "stream",
     "text": [
      "1739\n",
      "[I 2024-02-15 07:40:39,619] Trial 44 finished with value: 19.990135719068938 and parameters: {'thres_for_max': 0.51, 'thres_for_mean': 0.8700000000000001}. Best is trial 17 with value: 20.345378790908132.\n"
     ]
    },
    {
     "name": "stderr",
     "output_type": "stream",
     "text": [
      "Best trial: 17. Best value: 20.3454:  18%|█▊        | 46/250 [05:57<26:20,  7.75s/it]"
     ]
    },
    {
     "name": "stdout",
     "output_type": "stream",
     "text": [
      "1739\n",
      "[I 2024-02-15 07:40:47,334] Trial 45 finished with value: 19.963960976441935 and parameters: {'thres_for_max': 0.51, 'thres_for_mean': 0.8200000000000001}. Best is trial 17 with value: 20.345378790908132.\n"
     ]
    },
    {
     "name": "stderr",
     "output_type": "stream",
     "text": [
      "Best trial: 17. Best value: 20.3454:  19%|█▉        | 47/250 [06:04<26:11,  7.74s/it]"
     ]
    },
    {
     "name": "stdout",
     "output_type": "stream",
     "text": [
      "1577\n",
      "[I 2024-02-15 07:40:55,063] Trial 46 finished with value: 18.518237616188536 and parameters: {'thres_for_max': 0.6, 'thres_for_mean': 0.8700000000000001}. Best is trial 17 with value: 20.345378790908132.\n"
     ]
    },
    {
     "name": "stderr",
     "output_type": "stream",
     "text": [
      "Best trial: 17. Best value: 20.3454:  19%|█▉        | 48/250 [06:12<26:09,  7.77s/it]"
     ]
    },
    {
     "name": "stdout",
     "output_type": "stream",
     "text": [
      "1739\n",
      "[I 2024-02-15 07:41:02,897] Trial 47 finished with value: 19.963960976441935 and parameters: {'thres_for_max': 0.51, 'thres_for_mean': 0.8200000000000001}. Best is trial 17 with value: 20.345378790908132.\n"
     ]
    },
    {
     "name": "stderr",
     "output_type": "stream",
     "text": [
      "Best trial: 17. Best value: 20.3454:  20%|█▉        | 49/250 [06:20<26:01,  7.77s/it]"
     ]
    },
    {
     "name": "stdout",
     "output_type": "stream",
     "text": [
      "1647\n",
      "[I 2024-02-15 07:41:10,669] Trial 48 finished with value: 12.885612708517689 and parameters: {'thres_for_max': 0.5700000000000001, 'thres_for_mean': 0.77}. Best is trial 17 with value: 20.345378790908132.\n"
     ]
    },
    {
     "name": "stderr",
     "output_type": "stream",
     "text": [
      "Best trial: 17. Best value: 20.3454:  20%|██        | 50/250 [06:28<25:52,  7.76s/it]"
     ]
    },
    {
     "name": "stdout",
     "output_type": "stream",
     "text": [
      "1726\n",
      "[I 2024-02-15 07:41:18,420] Trial 49 finished with value: 19.251611654806847 and parameters: {'thres_for_max': 0.52, 'thres_for_mean': 0.73}. Best is trial 17 with value: 20.345378790908132.\n"
     ]
    },
    {
     "name": "stderr",
     "output_type": "stream",
     "text": [
      "Best trial: 17. Best value: 20.3454:  20%|██        | 51/250 [06:35<25:44,  7.76s/it]"
     ]
    },
    {
     "name": "stdout",
     "output_type": "stream",
     "text": [
      "1526\n",
      "[I 2024-02-15 07:41:26,177] Trial 50 finished with value: 17.365479738687544 and parameters: {'thres_for_max': 0.62, 'thres_for_mean': 0.8200000000000001}. Best is trial 17 with value: 20.345378790908132.\n"
     ]
    },
    {
     "name": "stderr",
     "output_type": "stream",
     "text": [
      "Best trial: 17. Best value: 20.3454:  21%|██        | 52/250 [06:43<25:35,  7.76s/it]"
     ]
    },
    {
     "name": "stdout",
     "output_type": "stream",
     "text": [
      "1791\n",
      "[I 2024-02-15 07:41:33,923] Trial 51 finished with value: 19.53138212775171 and parameters: {'thres_for_max': 0.45999999999999996, 'thres_for_mean': 0.81}. Best is trial 17 with value: 20.345378790908132.\n"
     ]
    },
    {
     "name": "stderr",
     "output_type": "stream",
     "text": [
      "Best trial: 17. Best value: 20.3454:  21%|██        | 53/250 [06:51<25:22,  7.73s/it]"
     ]
    },
    {
     "name": "stdout",
     "output_type": "stream",
     "text": [
      "1680\n",
      "[I 2024-02-15 07:41:41,584] Trial 52 finished with value: 18.877464896810963 and parameters: {'thres_for_max': 0.55, 'thres_for_mean': 0.8700000000000001}. Best is trial 17 with value: 20.345378790908132.\n"
     ]
    },
    {
     "name": "stderr",
     "output_type": "stream",
     "text": [
      "Best trial: 17. Best value: 20.3454:  22%|██▏       | 54/250 [06:59<25:15,  7.73s/it]"
     ]
    },
    {
     "name": "stdout",
     "output_type": "stream",
     "text": [
      "1748\n",
      "[I 2024-02-15 07:41:49,331] Trial 53 finished with value: 17.66071553034382 and parameters: {'thres_for_max': 0.5, 'thres_for_mean': 0.8799999999999999}. Best is trial 17 with value: 20.345378790908132.\n"
     ]
    },
    {
     "name": "stderr",
     "output_type": "stream",
     "text": [
      "Best trial: 17. Best value: 20.3454:  22%|██▏       | 55/250 [07:06<25:09,  7.74s/it]"
     ]
    },
    {
     "name": "stdout",
     "output_type": "stream",
     "text": [
      "1739\n",
      "[I 2024-02-15 07:41:57,088] Trial 54 finished with value: 19.963960976441935 and parameters: {'thres_for_max': 0.51, 'thres_for_mean': 0.8200000000000001}. Best is trial 17 with value: 20.345378790908132.\n"
     ]
    },
    {
     "name": "stderr",
     "output_type": "stream",
     "text": [
      "Best trial: 17. Best value: 20.3454:  22%|██▏       | 56/250 [07:14<24:59,  7.73s/it]"
     ]
    },
    {
     "name": "stdout",
     "output_type": "stream",
     "text": [
      "1739\n",
      "[I 2024-02-15 07:42:04,788] Trial 55 finished with value: 19.97058381364566 and parameters: {'thres_for_max': 0.51, 'thres_for_mean': 0.8999999999999999}. Best is trial 17 with value: 20.345378790908132.\n"
     ]
    },
    {
     "name": "stderr",
     "output_type": "stream",
     "text": [
      "Best trial: 17. Best value: 20.3454:  23%|██▎       | 57/250 [07:22<24:52,  7.73s/it]"
     ]
    },
    {
     "name": "stdout",
     "output_type": "stream",
     "text": [
      "1665\n",
      "[I 2024-02-15 07:42:12,534] Trial 56 finished with value: 16.836742270081377 and parameters: {'thres_for_max': 0.56, 'thres_for_mean': 0.8999999999999999}. Best is trial 17 with value: 20.345378790908132.\n"
     ]
    },
    {
     "name": "stderr",
     "output_type": "stream",
     "text": [
      "Best trial: 17. Best value: 20.3454:  23%|██▎       | 58/250 [07:30<24:47,  7.75s/it]"
     ]
    },
    {
     "name": "stdout",
     "output_type": "stream",
     "text": [
      "1791\n",
      "[I 2024-02-15 07:42:20,308] Trial 57 finished with value: 19.63925648357982 and parameters: {'thres_for_max': 0.45999999999999996, 'thres_for_mean': 0.8799999999999999}. Best is trial 17 with value: 20.345378790908132.\n"
     ]
    },
    {
     "name": "stderr",
     "output_type": "stream",
     "text": [
      "Best trial: 17. Best value: 20.3454:  24%|██▎       | 59/250 [07:37<24:40,  7.75s/it]"
     ]
    },
    {
     "name": "stdout",
     "output_type": "stream",
     "text": [
      "1698\n",
      "[I 2024-02-15 07:42:28,066] Trial 58 finished with value: 18.53553485898586 and parameters: {'thres_for_max': 0.54, 'thres_for_mean': 0.8999999999999999}. Best is trial 17 with value: 20.345378790908132.\n"
     ]
    },
    {
     "name": "stderr",
     "output_type": "stream",
     "text": [
      "Best trial: 17. Best value: 20.3454:  24%|██▍       | 60/250 [07:45<24:21,  7.69s/it]"
     ]
    },
    {
     "name": "stdout",
     "output_type": "stream",
     "text": [
      "1577\n",
      "[I 2024-02-15 07:42:35,626] Trial 59 finished with value: 18.042642421090267 and parameters: {'thres_for_max': 0.6, 'thres_for_mean': 0.77}. Best is trial 17 with value: 20.345378790908132.\n"
     ]
    },
    {
     "name": "stderr",
     "output_type": "stream",
     "text": [
      "Best trial: 17. Best value: 20.3454:  24%|██▍       | 61/250 [07:53<24:09,  7.67s/it]"
     ]
    },
    {
     "name": "stdout",
     "output_type": "stream",
     "text": [
      "1360\n",
      "[I 2024-02-15 07:42:43,246] Trial 60 finished with value: 10.99237437975349 and parameters: {'thres_for_max': 0.6799999999999999, 'thres_for_mean': 0.8600000000000001}. Best is trial 17 with value: 20.345378790908132.\n"
     ]
    },
    {
     "name": "stderr",
     "output_type": "stream",
     "text": [
      "Best trial: 17. Best value: 20.3454:  25%|██▍       | 62/250 [08:00<24:05,  7.69s/it]"
     ]
    },
    {
     "name": "stdout",
     "output_type": "stream",
     "text": [
      "1739\n",
      "[I 2024-02-15 07:42:50,972] Trial 61 finished with value: 19.811639139504408 and parameters: {'thres_for_max': 0.51, 'thres_for_mean': 0.81}. Best is trial 17 with value: 20.345378790908132.\n"
     ]
    },
    {
     "name": "stderr",
     "output_type": "stream",
     "text": [
      "Best trial: 17. Best value: 20.3454:  25%|██▌       | 63/250 [08:08<24:03,  7.72s/it]"
     ]
    },
    {
     "name": "stdout",
     "output_type": "stream",
     "text": [
      "1748\n",
      "[I 2024-02-15 07:42:58,757] Trial 62 finished with value: 17.838790273309794 and parameters: {'thres_for_max': 0.5, 'thres_for_mean': 0.8300000000000001}. Best is trial 17 with value: 20.345378790908132.\n"
     ]
    },
    {
     "name": "stderr",
     "output_type": "stream",
     "text": [
      "Best trial: 17. Best value: 20.3454:  26%|██▌       | 64/250 [08:16<24:00,  7.74s/it]"
     ]
    },
    {
     "name": "stdout",
     "output_type": "stream",
     "text": [
      "1771\n",
      "[I 2024-02-15 07:43:06,567] Trial 63 finished with value: 17.422691425866937 and parameters: {'thres_for_max': 0.48, 'thres_for_mean': 0.79}. Best is trial 17 with value: 20.345378790908132.\n"
     ]
    },
    {
     "name": "stderr",
     "output_type": "stream",
     "text": [
      "Best trial: 17. Best value: 20.3454:  26%|██▌       | 65/250 [08:24<23:58,  7.77s/it]"
     ]
    },
    {
     "name": "stdout",
     "output_type": "stream",
     "text": [
      "1726\n",
      "[I 2024-02-15 07:43:14,412] Trial 64 finished with value: 19.364533244670813 and parameters: {'thres_for_max': 0.52, 'thres_for_mean': 0.8799999999999999}. Best is trial 17 with value: 20.345378790908132.\n"
     ]
    },
    {
     "name": "stderr",
     "output_type": "stream",
     "text": [
      "Best trial: 17. Best value: 20.3454:  26%|██▋       | 66/250 [08:31<23:48,  7.77s/it]"
     ]
    },
    {
     "name": "stdout",
     "output_type": "stream",
     "text": [
      "1607\n",
      "[I 2024-02-15 07:43:22,158] Trial 65 finished with value: 15.692416031157904 and parameters: {'thres_for_max': 0.59, 'thres_for_mean': 0.6699999999999999}. Best is trial 17 with value: 20.345378790908132.\n"
     ]
    },
    {
     "name": "stderr",
     "output_type": "stream",
     "text": [
      "Best trial: 17. Best value: 20.3454:  27%|██▋       | 67/250 [08:39<23:39,  7.76s/it]"
     ]
    },
    {
     "name": "stdout",
     "output_type": "stream",
     "text": [
      "1791\n",
      "[I 2024-02-15 07:43:29,890] Trial 66 finished with value: 19.664912316859937 and parameters: {'thres_for_max': 0.45999999999999996, 'thres_for_mean': 0.8600000000000001}. Best is trial 17 with value: 20.345378790908132.\n"
     ]
    },
    {
     "name": "stderr",
     "output_type": "stream",
     "text": [
      "Best trial: 17. Best value: 20.3454:  27%|██▋       | 68/250 [08:47<23:33,  7.76s/it]"
     ]
    },
    {
     "name": "stdout",
     "output_type": "stream",
     "text": [
      "1837\n",
      "[I 2024-02-15 07:43:37,675] Trial 67 finished with value: 16.683262806747077 and parameters: {'thres_for_max': 0.38, 'thres_for_mean': 0.72}. Best is trial 17 with value: 20.345378790908132.\n"
     ]
    },
    {
     "name": "stderr",
     "output_type": "stream",
     "text": [
      "Best trial: 17. Best value: 20.3454:  28%|██▊       | 69/250 [08:55<23:28,  7.78s/it]"
     ]
    },
    {
     "name": "stdout",
     "output_type": "stream",
     "text": [
      "1698\n",
      "[I 2024-02-15 07:43:45,504] Trial 68 finished with value: 18.38758596110614 and parameters: {'thres_for_max': 0.54, 'thres_for_mean': 0.81}. Best is trial 17 with value: 20.345378790908132.\n"
     ]
    },
    {
     "name": "stderr",
     "output_type": "stream",
     "text": [
      "Best trial: 17. Best value: 20.3454:  28%|██▊       | 70/250 [09:03<23:24,  7.80s/it]"
     ]
    },
    {
     "name": "stdout",
     "output_type": "stream",
     "text": [
      "1846\n",
      "[I 2024-02-15 07:43:53,346] Trial 69 finished with value: 17.870041750068452 and parameters: {'thres_for_max': 0.36, 'thres_for_mean': 0.8400000000000001}. Best is trial 17 with value: 20.345378790908132.\n"
     ]
    },
    {
     "name": "stderr",
     "output_type": "stream",
     "text": [
      "Best trial: 17. Best value: 20.3454:  28%|██▊       | 71/250 [09:11<23:29,  7.87s/it]"
     ]
    },
    {
     "name": "stdout",
     "output_type": "stream",
     "text": [
      "1758\n",
      "[I 2024-02-15 07:44:01,388] Trial 70 finished with value: 18.635813791124452 and parameters: {'thres_for_max': 0.49, 'thres_for_mean': 0.51}. Best is trial 17 with value: 20.345378790908132.\n"
     ]
    },
    {
     "name": "stderr",
     "output_type": "stream",
     "text": [
      "Best trial: 17. Best value: 20.3454:  29%|██▉       | 72/250 [09:18<23:13,  7.83s/it]"
     ]
    },
    {
     "name": "stdout",
     "output_type": "stream",
     "text": [
      "1710\n",
      "[I 2024-02-15 07:44:09,107] Trial 71 finished with value: 18.234118005075505 and parameters: {'thres_for_max': 0.53, 'thres_for_mean': 0.8}. Best is trial 17 with value: 20.345378790908132.\n"
     ]
    },
    {
     "name": "stderr",
     "output_type": "stream",
     "text": [
      "Best trial: 17. Best value: 20.3454:  29%|██▉       | 73/250 [09:26<23:04,  7.82s/it]"
     ]
    },
    {
     "name": "stdout",
     "output_type": "stream",
     "text": [
      "1739\n",
      "[I 2024-02-15 07:44:16,916] Trial 72 finished with value: 19.77046903477335 and parameters: {'thres_for_max': 0.51, 'thres_for_mean': 0.76}. Best is trial 17 with value: 20.345378790908132.\n"
     ]
    },
    {
     "name": "stderr",
     "output_type": "stream",
     "text": [
      "Best trial: 17. Best value: 20.3454:  30%|██▉       | 74/250 [09:34<22:58,  7.83s/it]"
     ]
    },
    {
     "name": "stdout",
     "output_type": "stream",
     "text": [
      "1739\n",
      "[I 2024-02-15 07:44:24,781] Trial 73 finished with value: 19.963960976441935 and parameters: {'thres_for_max': 0.51, 'thres_for_mean': 0.8200000000000001}. Best is trial 17 with value: 20.345378790908132.\n"
     ]
    },
    {
     "name": "stderr",
     "output_type": "stream",
     "text": [
      "Best trial: 17. Best value: 20.3454:  30%|███       | 75/250 [09:42<22:42,  7.79s/it]"
     ]
    },
    {
     "name": "stdout",
     "output_type": "stream",
     "text": [
      "1628\n",
      "[I 2024-02-15 07:44:32,461] Trial 74 finished with value: 13.471300567598494 and parameters: {'thres_for_max': 0.5800000000000001, 'thres_for_mean': 0.8899999999999999}. Best is trial 17 with value: 20.345378790908132.\n"
     ]
    },
    {
     "name": "stderr",
     "output_type": "stream",
     "text": [
      "Best trial: 17. Best value: 20.3454:  30%|███       | 76/250 [09:49<22:29,  7.76s/it]"
     ]
    },
    {
     "name": "stdout",
     "output_type": "stream",
     "text": [
      "1680\n",
      "[I 2024-02-15 07:44:40,145] Trial 75 finished with value: 18.628843140701708 and parameters: {'thres_for_max': 0.55, 'thres_for_mean': 0.8500000000000001}. Best is trial 17 with value: 20.345378790908132.\n"
     ]
    },
    {
     "name": "stderr",
     "output_type": "stream",
     "text": [
      "Best trial: 17. Best value: 20.3454:  31%|███       | 77/250 [09:57<22:26,  7.78s/it]"
     ]
    },
    {
     "name": "stdout",
     "output_type": "stream",
     "text": [
      "1824\n",
      "[I 2024-02-15 07:44:47,986] Trial 76 finished with value: 18.517872535951515 and parameters: {'thres_for_max': 0.41, 'thres_for_mean': 0.8300000000000001}. Best is trial 17 with value: 20.345378790908132.\n"
     ]
    },
    {
     "name": "stderr",
     "output_type": "stream",
     "text": [
      "Best trial: 17. Best value: 20.3454:  31%|███       | 78/250 [10:05<22:18,  7.78s/it]"
     ]
    },
    {
     "name": "stdout",
     "output_type": "stream",
     "text": [
      "1771\n",
      "[I 2024-02-15 07:44:55,771] Trial 77 finished with value: 17.95148649729199 and parameters: {'thres_for_max': 0.48, 'thres_for_mean': 0.8799999999999999}. Best is trial 17 with value: 20.345378790908132.\n"
     ]
    },
    {
     "name": "stderr",
     "output_type": "stream",
     "text": [
      "Best trial: 17. Best value: 20.3454:  32%|███▏      | 79/250 [10:13<22:12,  7.79s/it]"
     ]
    },
    {
     "name": "stdout",
     "output_type": "stream",
     "text": [
      "1801\n",
      "[I 2024-02-15 07:45:03,589] Trial 78 finished with value: 17.54504040776179 and parameters: {'thres_for_max': 0.44999999999999996, 'thres_for_mean': 0.8600000000000001}. Best is trial 17 with value: 20.345378790908132.\n"
     ]
    },
    {
     "name": "stderr",
     "output_type": "stream",
     "text": [
      "Best trial: 17. Best value: 20.3454:  32%|███▏      | 80/250 [10:21<22:07,  7.81s/it]"
     ]
    },
    {
     "name": "stdout",
     "output_type": "stream",
     "text": [
      "1748\n",
      "[I 2024-02-15 07:45:11,430] Trial 79 finished with value: 17.137679371167568 and parameters: {'thres_for_max': 0.5, 'thres_for_mean': 0.79}. Best is trial 17 with value: 20.345378790908132.\n"
     ]
    },
    {
     "name": "stderr",
     "output_type": "stream",
     "text": [
      "Best trial: 17. Best value: 20.3454:  32%|███▏      | 81/250 [10:29<21:57,  7.80s/it]"
     ]
    },
    {
     "name": "stdout",
     "output_type": "stream",
     "text": [
      "1726\n",
      "[I 2024-02-15 07:45:19,207] Trial 80 finished with value: 19.337439940112606 and parameters: {'thres_for_max': 0.52, 'thres_for_mean': 0.59}. Best is trial 17 with value: 20.345378790908132.\n"
     ]
    },
    {
     "name": "stderr",
     "output_type": "stream",
     "text": [
      "Best trial: 17. Best value: 20.3454:  33%|███▎      | 82/250 [10:36<21:46,  7.78s/it]"
     ]
    },
    {
     "name": "stdout",
     "output_type": "stream",
     "text": [
      "1739\n",
      "[I 2024-02-15 07:45:26,938] Trial 81 finished with value: 19.811639139504408 and parameters: {'thres_for_max': 0.51, 'thres_for_mean': 0.81}. Best is trial 17 with value: 20.345378790908132.\n"
     ]
    },
    {
     "name": "stderr",
     "output_type": "stream",
     "text": [
      "Best trial: 17. Best value: 20.3454:  33%|███▎      | 83/250 [10:44<21:40,  7.79s/it]"
     ]
    },
    {
     "name": "stdout",
     "output_type": "stream",
     "text": [
      "1857\n",
      "[I 2024-02-15 07:45:34,749] Trial 82 finished with value: 18.041089212576725 and parameters: {'thres_for_max': 0.32, 'thres_for_mean': 0.8200000000000001}. Best is trial 17 with value: 20.345378790908132.\n"
     ]
    },
    {
     "name": "stderr",
     "output_type": "stream",
     "text": [
      "Best trial: 17. Best value: 20.3454:  34%|███▎      | 84/250 [10:52<21:27,  7.76s/it]"
     ]
    },
    {
     "name": "stdout",
     "output_type": "stream",
     "text": [
      "1780\n",
      "[I 2024-02-15 07:45:42,435] Trial 83 finished with value: 17.935280600218967 and parameters: {'thres_for_max': 0.47, 'thres_for_mean': 0.8500000000000001}. Best is trial 17 with value: 20.345378790908132.\n"
     ]
    },
    {
     "name": "stderr",
     "output_type": "stream",
     "text": [
      "Best trial: 17. Best value: 20.3454:  34%|███▍      | 85/250 [10:59<21:11,  7.70s/it]"
     ]
    },
    {
     "name": "stdout",
     "output_type": "stream",
     "text": [
      "985\n",
      "[I 2024-02-15 07:45:50,011] Trial 84 finished with value: 11.276298516431545 and parameters: {'thres_for_max': 0.78, 'thres_for_mean': 0.8999999999999999}. Best is trial 17 with value: 20.345378790908132.\n"
     ]
    },
    {
     "name": "stderr",
     "output_type": "stream",
     "text": [
      "Best trial: 17. Best value: 20.3454:  34%|███▍      | 86/250 [11:07<21:05,  7.72s/it]"
     ]
    },
    {
     "name": "stdout",
     "output_type": "stream",
     "text": [
      "1680\n",
      "[I 2024-02-15 07:45:57,755] Trial 85 finished with value: 18.387205486102697 and parameters: {'thres_for_max': 0.55, 'thres_for_mean': 0.77}. Best is trial 17 with value: 20.345378790908132.\n"
     ]
    },
    {
     "name": "stderr",
     "output_type": "stream",
     "text": [
      "Best trial: 17. Best value: 20.3454:  35%|███▍      | 87/250 [11:15<20:56,  7.71s/it]"
     ]
    },
    {
     "name": "stdout",
     "output_type": "stream",
     "text": [
      "1758\n",
      "[I 2024-02-15 07:46:05,445] Trial 86 finished with value: 18.490354886928678 and parameters: {'thres_for_max': 0.49, 'thres_for_mean': 0.8700000000000001}. Best is trial 17 with value: 20.345378790908132.\n"
     ]
    },
    {
     "name": "stderr",
     "output_type": "stream",
     "text": [
      "Best trial: 17. Best value: 20.3454:  35%|███▌      | 88/250 [11:23<20:50,  7.72s/it]"
     ]
    },
    {
     "name": "stdout",
     "output_type": "stream",
     "text": [
      "1710\n",
      "[I 2024-02-15 07:46:13,185] Trial 87 finished with value: 18.55004653703665 and parameters: {'thres_for_max': 0.53, 'thres_for_mean': 0.8300000000000001}. Best is trial 17 with value: 20.345378790908132.\n"
     ]
    },
    {
     "name": "stderr",
     "output_type": "stream",
     "text": [
      "Best trial: 17. Best value: 20.3454:  36%|███▌      | 89/250 [11:30<20:45,  7.74s/it]"
     ]
    },
    {
     "name": "stdout",
     "output_type": "stream",
     "text": [
      "1526\n",
      "[I 2024-02-15 07:46:20,963] Trial 88 finished with value: 17.20477480093331 and parameters: {'thres_for_max': 0.62, 'thres_for_mean': 0.8}. Best is trial 17 with value: 20.345378790908132.\n"
     ]
    },
    {
     "name": "stderr",
     "output_type": "stream",
     "text": [
      "Best trial: 17. Best value: 20.3454:  36%|███▌      | 90/250 [11:38<20:43,  7.77s/it]"
     ]
    },
    {
     "name": "stdout",
     "output_type": "stream",
     "text": [
      "1815\n",
      "[I 2024-02-15 07:46:28,824] Trial 89 finished with value: 16.629260519107667 and parameters: {'thres_for_max': 0.44999999999999996, 'thres_for_mean': 0.3}. Best is trial 17 with value: 20.345378790908132.\n"
     ]
    },
    {
     "name": "stderr",
     "output_type": "stream",
     "text": [
      "Best trial: 17. Best value: 20.3454:  36%|███▋      | 91/250 [11:46<20:29,  7.73s/it]"
     ]
    },
    {
     "name": "stdout",
     "output_type": "stream",
     "text": [
      "1647\n",
      "[I 2024-02-15 07:46:36,460] Trial 90 finished with value: 13.46455330187121 and parameters: {'thres_for_max': 0.5700000000000001, 'thres_for_mean': 0.8899999999999999}. Best is trial 17 with value: 20.345378790908132.\n"
     ]
    },
    {
     "name": "stderr",
     "output_type": "stream",
     "text": [
      "Best trial: 17. Best value: 20.3454:  37%|███▋      | 92/250 [11:54<20:29,  7.78s/it]"
     ]
    },
    {
     "name": "stdout",
     "output_type": "stream",
     "text": [
      "1739\n",
      "[I 2024-02-15 07:46:44,348] Trial 91 finished with value: 19.811639139504408 and parameters: {'thres_for_max': 0.51, 'thres_for_mean': 0.81}. Best is trial 17 with value: 20.345378790908132.\n"
     ]
    },
    {
     "name": "stderr",
     "output_type": "stream",
     "text": [
      "Best trial: 17. Best value: 20.3454:  37%|███▋      | 93/250 [12:01<20:17,  7.76s/it]"
     ]
    },
    {
     "name": "stdout",
     "output_type": "stream",
     "text": [
      "1739\n",
      "[I 2024-02-15 07:46:52,051] Trial 92 finished with value: 19.7269429274714 and parameters: {'thres_for_max': 0.51, 'thres_for_mean': 0.8500000000000001}. Best is trial 17 with value: 20.345378790908132.\n"
     ]
    },
    {
     "name": "stderr",
     "output_type": "stream",
     "text": [
      "Best trial: 17. Best value: 20.3454:  38%|███▊      | 94/250 [12:09<20:15,  7.79s/it]"
     ]
    },
    {
     "name": "stdout",
     "output_type": "stream",
     "text": [
      "1780\n",
      "[I 2024-02-15 07:46:59,921] Trial 93 finished with value: 17.963023642187974 and parameters: {'thres_for_max': 0.47, 'thres_for_mean': 0.75}. Best is trial 17 with value: 20.345378790908132.\n"
     ]
    },
    {
     "name": "stderr",
     "output_type": "stream",
     "text": [
      "Best trial: 17. Best value: 20.3454:  38%|███▊      | 95/250 [12:17<20:08,  7.80s/it]"
     ]
    },
    {
     "name": "stdout",
     "output_type": "stream",
     "text": [
      "1710\n",
      "[I 2024-02-15 07:47:07,741] Trial 94 finished with value: 17.94480265154559 and parameters: {'thres_for_max': 0.53, 'thres_for_mean': 0.78}. Best is trial 17 with value: 20.345378790908132.\n"
     ]
    },
    {
     "name": "stderr",
     "output_type": "stream",
     "text": [
      "Best trial: 17. Best value: 20.3454:  38%|███▊      | 96/250 [12:25<19:57,  7.78s/it]"
     ]
    },
    {
     "name": "stdout",
     "output_type": "stream",
     "text": [
      "1758\n",
      "[I 2024-02-15 07:47:15,461] Trial 95 finished with value: 18.468131211368643 and parameters: {'thres_for_max': 0.49, 'thres_for_mean': 0.8200000000000001}. Best is trial 17 with value: 20.345378790908132.\n"
     ]
    },
    {
     "name": "stderr",
     "output_type": "stream",
     "text": [
      "Best trial: 17. Best value: 20.3454:  39%|███▉      | 97/250 [12:33<19:51,  7.79s/it]"
     ]
    },
    {
     "name": "stdout",
     "output_type": "stream",
     "text": [
      "1739\n",
      "[I 2024-02-15 07:47:23,273] Trial 96 finished with value: 19.990135719068938 and parameters: {'thres_for_max': 0.51, 'thres_for_mean': 0.8700000000000001}. Best is trial 17 with value: 20.345378790908132.\n"
     ]
    },
    {
     "name": "stderr",
     "output_type": "stream",
     "text": [
      "Best trial: 17. Best value: 20.3454:  39%|███▉      | 98/250 [12:40<19:40,  7.76s/it]"
     ]
    },
    {
     "name": "stdout",
     "output_type": "stream",
     "text": [
      "1665\n",
      "[I 2024-02-15 07:47:30,987] Trial 97 finished with value: 16.853602706818336 and parameters: {'thres_for_max': 0.56, 'thres_for_mean': 0.8700000000000001}. Best is trial 17 with value: 20.345378790908132.\n"
     ]
    },
    {
     "name": "stderr",
     "output_type": "stream",
     "text": [
      "Best trial: 17. Best value: 20.3454:  40%|███▉      | 99/250 [12:48<19:31,  7.76s/it]"
     ]
    },
    {
     "name": "stdout",
     "output_type": "stream",
     "text": [
      "1810\n",
      "[I 2024-02-15 07:47:38,725] Trial 98 finished with value: 18.101461671883957 and parameters: {'thres_for_max': 0.44, 'thres_for_mean': 0.8400000000000001}. Best is trial 17 with value: 20.345378790908132.\n"
     ]
    },
    {
     "name": "stderr",
     "output_type": "stream",
     "text": [
      "Best trial: 17. Best value: 20.3454:  40%|████      | 100/250 [12:56<19:21,  7.75s/it]"
     ]
    },
    {
     "name": "stdout",
     "output_type": "stream",
     "text": [
      "1771\n",
      "[I 2024-02-15 07:47:46,444] Trial 99 finished with value: 17.996266348644205 and parameters: {'thres_for_max': 0.48, 'thres_for_mean': 0.8999999999999999}. Best is trial 17 with value: 20.345378790908132.\n"
     ]
    },
    {
     "name": "stderr",
     "output_type": "stream",
     "text": [
      "Best trial: 17. Best value: 20.3454:  40%|████      | 101/250 [13:03<19:07,  7.70s/it]"
     ]
    },
    {
     "name": "stdout",
     "output_type": "stream",
     "text": [
      "471\n",
      "[I 2024-02-15 07:47:54,033] Trial 100 finished with value: 7.946817957446614 and parameters: {'thres_for_max': 0.8899999999999999, 'thres_for_mean': 0.8799999999999999}. Best is trial 17 with value: 20.345378790908132.\n"
     ]
    },
    {
     "name": "stderr",
     "output_type": "stream",
     "text": [
      "Best trial: 17. Best value: 20.3454:  41%|████      | 102/250 [13:11<19:06,  7.75s/it]"
     ]
    },
    {
     "name": "stdout",
     "output_type": "stream",
     "text": [
      "1739\n",
      "[I 2024-02-15 07:48:01,896] Trial 101 finished with value: 19.94904793435343 and parameters: {'thres_for_max': 0.51, 'thres_for_mean': 0.8600000000000001}. Best is trial 17 with value: 20.345378790908132.\n"
     ]
    },
    {
     "name": "stderr",
     "output_type": "stream",
     "text": [
      "Best trial: 17. Best value: 20.3454:  41%|████      | 103/250 [13:19<18:59,  7.75s/it]"
     ]
    },
    {
     "name": "stdout",
     "output_type": "stream",
     "text": [
      "1698\n",
      "[I 2024-02-15 07:48:09,659] Trial 102 finished with value: 18.515870344366252 and parameters: {'thres_for_max': 0.54, 'thres_for_mean': 0.8600000000000001}. Best is trial 17 with value: 20.345378790908132.\n"
     ]
    },
    {
     "name": "stderr",
     "output_type": "stream",
     "text": [
      "Best trial: 17. Best value: 20.3454:  42%|████▏     | 104/250 [13:27<18:55,  7.77s/it]"
     ]
    },
    {
     "name": "stdout",
     "output_type": "stream",
     "text": [
      "1748\n",
      "[I 2024-02-15 07:48:17,487] Trial 103 finished with value: 18.035756935179396 and parameters: {'thres_for_max': 0.5, 'thres_for_mean': 0.8899999999999999}. Best is trial 17 with value: 20.345378790908132.\n"
     ]
    },
    {
     "name": "stderr",
     "output_type": "stream",
     "text": [
      "Best trial: 17. Best value: 20.3454:  42%|████▏     | 105/250 [13:35<18:47,  7.77s/it]"
     ]
    },
    {
     "name": "stdout",
     "output_type": "stream",
     "text": [
      "1726\n",
      "[I 2024-02-15 07:48:25,261] Trial 104 finished with value: 19.312092307522708 and parameters: {'thres_for_max': 0.52, 'thres_for_mean': 0.8400000000000001}. Best is trial 17 with value: 20.345378790908132.\n"
     ]
    },
    {
     "name": "stderr",
     "output_type": "stream",
     "text": [
      "Best trial: 17. Best value: 20.3454:  42%|████▏     | 106/250 [13:42<18:37,  7.76s/it]"
     ]
    },
    {
     "name": "stdout",
     "output_type": "stream",
     "text": [
      "1665\n",
      "[I 2024-02-15 07:48:32,999] Trial 105 finished with value: 16.796355169021293 and parameters: {'thres_for_max': 0.56, 'thres_for_mean': 0.8799999999999999}. Best is trial 17 with value: 20.345378790908132.\n"
     ]
    },
    {
     "name": "stderr",
     "output_type": "stream",
     "text": [
      "Best trial: 17. Best value: 20.3454:  43%|████▎     | 107/250 [13:50<18:28,  7.75s/it]"
     ]
    },
    {
     "name": "stdout",
     "output_type": "stream",
     "text": [
      "1628\n",
      "[I 2024-02-15 07:48:40,714] Trial 106 finished with value: 13.061906432941012 and parameters: {'thres_for_max': 0.5800000000000001, 'thres_for_mean': 0.8500000000000001}. Best is trial 17 with value: 20.345378790908132.\n"
     ]
    },
    {
     "name": "stderr",
     "output_type": "stream",
     "text": [
      "Best trial: 17. Best value: 20.3454:  43%|████▎     | 108/250 [13:58<18:18,  7.74s/it]"
     ]
    },
    {
     "name": "stdout",
     "output_type": "stream",
     "text": [
      "1791\n",
      "[I 2024-02-15 07:48:48,419] Trial 107 finished with value: 19.83796090571244 and parameters: {'thres_for_max': 0.45999999999999996, 'thres_for_mean': 0.8300000000000001}. Best is trial 17 with value: 20.345378790908132.\n"
     ]
    },
    {
     "name": "stderr",
     "output_type": "stream",
     "text": [
      "Best trial: 17. Best value: 20.3454:  44%|████▎     | 109/250 [14:06<18:12,  7.75s/it]"
     ]
    },
    {
     "name": "stdout",
     "output_type": "stream",
     "text": [
      "1780\n",
      "[I 2024-02-15 07:48:56,202] Trial 108 finished with value: 18.174547743291377 and parameters: {'thres_for_max': 0.47, 'thres_for_mean': 0.8700000000000001}. Best is trial 17 with value: 20.345378790908132.\n"
     ]
    },
    {
     "name": "stderr",
     "output_type": "stream",
     "text": [
      "Best trial: 17. Best value: 20.3454:  44%|████▍     | 110/250 [14:13<18:13,  7.81s/it]"
     ]
    },
    {
     "name": "stdout",
     "output_type": "stream",
     "text": [
      "1819\n",
      "[I 2024-02-15 07:49:04,161] Trial 109 finished with value: 19.442870795957543 and parameters: {'thres_for_max': 0.42, 'thres_for_mean': 0.8300000000000001}. Best is trial 17 with value: 20.345378790908132.\n"
     ]
    },
    {
     "name": "stderr",
     "output_type": "stream",
     "text": [
      "Best trial: 17. Best value: 20.3454:  44%|████▍     | 111/250 [14:21<18:05,  7.81s/it]"
     ]
    },
    {
     "name": "stdout",
     "output_type": "stream",
     "text": [
      "1791\n",
      "[I 2024-02-15 07:49:11,956] Trial 110 finished with value: 20.05770535377304 and parameters: {'thres_for_max': 0.45999999999999996, 'thres_for_mean': 0.8899999999999999}. Best is trial 17 with value: 20.345378790908132.\n"
     ]
    },
    {
     "name": "stderr",
     "output_type": "stream",
     "text": [
      "Best trial: 17. Best value: 20.3454:  45%|████▍     | 112/250 [14:29<17:55,  7.79s/it]"
     ]
    },
    {
     "name": "stdout",
     "output_type": "stream",
     "text": [
      "1791\n",
      "[I 2024-02-15 07:49:19,718] Trial 111 finished with value: 20.05770535377304 and parameters: {'thres_for_max': 0.45999999999999996, 'thres_for_mean': 0.8899999999999999}. Best is trial 17 with value: 20.345378790908132.\n"
     ]
    },
    {
     "name": "stderr",
     "output_type": "stream",
     "text": [
      "Best trial: 17. Best value: 20.3454:  45%|████▌     | 113/250 [14:37<17:56,  7.86s/it]"
     ]
    },
    {
     "name": "stdout",
     "output_type": "stream",
     "text": [
      "1824\n",
      "[I 2024-02-15 07:49:27,730] Trial 112 finished with value: 18.72267824144057 and parameters: {'thres_for_max': 0.41, 'thres_for_mean': 0.8899999999999999}. Best is trial 17 with value: 20.345378790908132.\n"
     ]
    },
    {
     "name": "stderr",
     "output_type": "stream",
     "text": [
      "Best trial: 17. Best value: 20.3454:  46%|████▌     | 114/250 [14:45<17:42,  7.81s/it]"
     ]
    },
    {
     "name": "stdout",
     "output_type": "stream",
     "text": [
      "1758\n",
      "[I 2024-02-15 07:49:35,430] Trial 113 finished with value: 18.452349756218986 and parameters: {'thres_for_max': 0.49, 'thres_for_mean': 0.8600000000000001}. Best is trial 17 with value: 20.345378790908132.\n"
     ]
    },
    {
     "name": "stderr",
     "output_type": "stream",
     "text": [
      "Best trial: 17. Best value: 20.3454:  46%|████▌     | 115/250 [14:52<17:30,  7.78s/it]"
     ]
    },
    {
     "name": "stdout",
     "output_type": "stream",
     "text": [
      "1801\n",
      "[I 2024-02-15 07:49:43,144] Trial 114 finished with value: 17.565829408559523 and parameters: {'thres_for_max': 0.44999999999999996, 'thres_for_mean': 0.8999999999999999}. Best is trial 17 with value: 20.345378790908132.\n"
     ]
    },
    {
     "name": "stderr",
     "output_type": "stream",
     "text": [
      "Best trial: 17. Best value: 20.3454:  46%|████▋     | 116/250 [15:00<17:24,  7.80s/it]"
     ]
    },
    {
     "name": "stdout",
     "output_type": "stream",
     "text": [
      "1814\n",
      "[I 2024-02-15 07:49:50,975] Trial 115 finished with value: 19.574551042894903 and parameters: {'thres_for_max': 0.43, 'thres_for_mean': 0.8799999999999999}. Best is trial 17 with value: 20.345378790908132.\n"
     ]
    },
    {
     "name": "stderr",
     "output_type": "stream",
     "text": [
      "Best trial: 17. Best value: 20.3454:  47%|████▋     | 117/250 [15:08<17:16,  7.79s/it]"
     ]
    },
    {
     "name": "stdout",
     "output_type": "stream",
     "text": [
      "1710\n",
      "[I 2024-02-15 07:49:58,751] Trial 116 finished with value: 18.427814239069043 and parameters: {'thres_for_max': 0.53, 'thres_for_mean': 0.8700000000000001}. Best is trial 17 with value: 20.345378790908132.\n"
     ]
    },
    {
     "name": "stderr",
     "output_type": "stream",
     "text": [
      "Best trial: 17. Best value: 20.3454:  47%|████▋     | 118/250 [15:16<17:09,  7.80s/it]"
     ]
    },
    {
     "name": "stdout",
     "output_type": "stream",
     "text": [
      "1771\n",
      "[I 2024-02-15 07:50:06,560] Trial 117 finished with value: 18.333976192134493 and parameters: {'thres_for_max': 0.48, 'thres_for_mean': 0.8899999999999999}. Best is trial 17 with value: 20.345378790908132.\n"
     ]
    },
    {
     "name": "stderr",
     "output_type": "stream",
     "text": [
      "Best trial: 17. Best value: 20.3454:  48%|████▊     | 119/250 [15:24<17:04,  7.82s/it]"
     ]
    },
    {
     "name": "stdout",
     "output_type": "stream",
     "text": [
      "1748\n",
      "[I 2024-02-15 07:50:14,442] Trial 118 finished with value: 17.68441783905374 and parameters: {'thres_for_max': 0.5, 'thres_for_mean': 0.8600000000000001}. Best is trial 17 with value: 20.345378790908132.\n"
     ]
    },
    {
     "name": "stderr",
     "output_type": "stream",
     "text": [
      "Best trial: 17. Best value: 20.3454:  48%|████▊     | 120/250 [15:32<16:55,  7.81s/it]"
     ]
    },
    {
     "name": "stdout",
     "output_type": "stream",
     "text": [
      "1726\n",
      "[I 2024-02-15 07:50:22,227] Trial 119 finished with value: 19.41157437445356 and parameters: {'thres_for_max': 0.52, 'thres_for_mean': 0.8999999999999999}. Best is trial 17 with value: 20.345378790908132.\n"
     ]
    },
    {
     "name": "stderr",
     "output_type": "stream",
     "text": [
      "Best trial: 17. Best value: 20.3454:  48%|████▊     | 121/250 [15:39<16:48,  7.82s/it]"
     ]
    },
    {
     "name": "stdout",
     "output_type": "stream",
     "text": [
      "1835\n",
      "[I 2024-02-15 07:50:30,053] Trial 120 finished with value: 16.040949611105837 and parameters: {'thres_for_max': 0.39, 'thres_for_mean': 0.8500000000000001}. Best is trial 17 with value: 20.345378790908132.\n"
     ]
    },
    {
     "name": "stderr",
     "output_type": "stream",
     "text": [
      "Best trial: 17. Best value: 20.3454:  49%|████▉     | 122/250 [15:47<16:40,  7.82s/it]"
     ]
    },
    {
     "name": "stdout",
     "output_type": "stream",
     "text": [
      "1791\n",
      "[I 2024-02-15 07:50:37,871] Trial 121 finished with value: 19.681823792849617 and parameters: {'thres_for_max': 0.45999999999999996, 'thres_for_mean': 0.8200000000000001}. Best is trial 17 with value: 20.345378790908132.\n"
     ]
    },
    {
     "name": "stderr",
     "output_type": "stream",
     "text": [
      "Best trial: 17. Best value: 20.3454:  49%|████▉     | 123/250 [15:55<16:28,  7.78s/it]"
     ]
    },
    {
     "name": "stdout",
     "output_type": "stream",
     "text": [
      "1801\n",
      "[I 2024-02-15 07:50:45,581] Trial 122 finished with value: 17.4742731741539 and parameters: {'thres_for_max': 0.44999999999999996, 'thres_for_mean': 0.8400000000000001}. Best is trial 17 with value: 20.345378790908132.\n"
     ]
    },
    {
     "name": "stderr",
     "output_type": "stream",
     "text": [
      "Best trial: 17. Best value: 20.3454:  50%|████▉     | 124/250 [16:03<16:20,  7.78s/it]"
     ]
    },
    {
     "name": "stdout",
     "output_type": "stream",
     "text": [
      "1780\n",
      "[I 2024-02-15 07:50:53,344] Trial 123 finished with value: 18.174547743291377 and parameters: {'thres_for_max': 0.47, 'thres_for_mean': 0.8700000000000001}. Best is trial 17 with value: 20.345378790908132.\n"
     ]
    },
    {
     "name": "stderr",
     "output_type": "stream",
     "text": [
      "Best trial: 17. Best value: 20.3454:  50%|█████     | 125/250 [16:10<16:13,  7.79s/it]"
     ]
    },
    {
     "name": "stdout",
     "output_type": "stream",
     "text": [
      "1758\n",
      "[I 2024-02-15 07:51:01,158] Trial 124 finished with value: 18.40771482135772 and parameters: {'thres_for_max': 0.49, 'thres_for_mean': 0.6799999999999999}. Best is trial 17 with value: 20.345378790908132.\n"
     ]
    },
    {
     "name": "stderr",
     "output_type": "stream",
     "text": [
      "Best trial: 17. Best value: 20.3454:  50%|█████     | 126/250 [16:18<16:05,  7.79s/it]"
     ]
    },
    {
     "name": "stdout",
     "output_type": "stream",
     "text": [
      "1814\n",
      "[I 2024-02-15 07:51:08,950] Trial 125 finished with value: 19.436547122951456 and parameters: {'thres_for_max': 0.43, 'thres_for_mean': 0.8}. Best is trial 17 with value: 20.345378790908132.\n"
     ]
    },
    {
     "name": "stderr",
     "output_type": "stream",
     "text": [
      "Best trial: 17. Best value: 20.3454:  51%|█████     | 127/250 [16:26<15:57,  7.79s/it]"
     ]
    },
    {
     "name": "stdout",
     "output_type": "stream",
     "text": [
      "1680\n",
      "[I 2024-02-15 07:51:16,733] Trial 126 finished with value: 18.813342797578425 and parameters: {'thres_for_max': 0.55, 'thres_for_mean': 0.8799999999999999}. Best is trial 17 with value: 20.345378790908132.\n"
     ]
    },
    {
     "name": "stderr",
     "output_type": "stream",
     "text": [
      "Best trial: 17. Best value: 20.3454:  51%|█████     | 128/250 [16:34<15:48,  7.78s/it]"
     ]
    },
    {
     "name": "stdout",
     "output_type": "stream",
     "text": [
      "1810\n",
      "[I 2024-02-15 07:51:24,480] Trial 127 finished with value: 18.334284761668783 and parameters: {'thres_for_max': 0.44, 'thres_for_mean': 0.8300000000000001}. Best is trial 17 with value: 20.345378790908132.\n"
     ]
    },
    {
     "name": "stderr",
     "output_type": "stream",
     "text": [
      "Best trial: 17. Best value: 20.3454:  52%|█████▏    | 129/250 [16:41<15:36,  7.74s/it]"
     ]
    },
    {
     "name": "stdout",
     "output_type": "stream",
     "text": [
      "1791\n",
      "[I 2024-02-15 07:51:32,146] Trial 128 finished with value: 19.664912316859937 and parameters: {'thres_for_max': 0.45999999999999996, 'thres_for_mean': 0.8600000000000001}. Best is trial 17 with value: 20.345378790908132.\n"
     ]
    },
    {
     "name": "stderr",
     "output_type": "stream",
     "text": [
      "Best trial: 17. Best value: 20.3454:  52%|█████▏    | 130/250 [16:49<15:29,  7.75s/it]"
     ]
    },
    {
     "name": "stdout",
     "output_type": "stream",
     "text": [
      "1748\n",
      "[I 2024-02-15 07:51:39,907] Trial 129 finished with value: 17.86682356653633 and parameters: {'thres_for_max': 0.5, 'thres_for_mean': 0.62}. Best is trial 17 with value: 20.345378790908132.\n"
     ]
    },
    {
     "name": "stderr",
     "output_type": "stream",
     "text": [
      "Best trial: 17. Best value: 20.3454:  52%|█████▏    | 131/250 [16:57<15:25,  7.78s/it]"
     ]
    },
    {
     "name": "stdout",
     "output_type": "stream",
     "text": [
      "1827\n",
      "[I 2024-02-15 07:51:47,751] Trial 130 finished with value: 17.554042584031418 and parameters: {'thres_for_max': 0.4, 'thres_for_mean': 0.47}. Best is trial 17 with value: 20.345378790908132.\n"
     ]
    },
    {
     "name": "stderr",
     "output_type": "stream",
     "text": [
      "Best trial: 17. Best value: 20.3454:  53%|█████▎    | 132/250 [17:05<15:14,  7.75s/it]"
     ]
    },
    {
     "name": "stdout",
     "output_type": "stream",
     "text": [
      "1739\n",
      "[I 2024-02-15 07:51:55,434] Trial 131 finished with value: 19.811639139504408 and parameters: {'thres_for_max': 0.51, 'thres_for_mean': 0.81}. Best is trial 17 with value: 20.345378790908132.\n"
     ]
    },
    {
     "name": "stderr",
     "output_type": "stream",
     "text": [
      "Best trial: 17. Best value: 20.3454:  53%|█████▎    | 133/250 [17:13<15:09,  7.77s/it]"
     ]
    },
    {
     "name": "stdout",
     "output_type": "stream",
     "text": [
      "1726\n",
      "[I 2024-02-15 07:52:03,255] Trial 132 finished with value: 19.55964494218456 and parameters: {'thres_for_max': 0.52, 'thres_for_mean': 0.8300000000000001}. Best is trial 17 with value: 20.345378790908132.\n"
     ]
    },
    {
     "name": "stderr",
     "output_type": "stream",
     "text": [
      "Best trial: 17. Best value: 20.3454:  54%|█████▎    | 134/250 [17:20<15:01,  7.77s/it]"
     ]
    },
    {
     "name": "stdout",
     "output_type": "stream",
     "text": [
      "1698\n",
      "[I 2024-02-15 07:52:11,019] Trial 133 finished with value: 17.942365831289596 and parameters: {'thres_for_max': 0.54, 'thres_for_mean': 0.79}. Best is trial 17 with value: 20.345378790908132.\n"
     ]
    },
    {
     "name": "stderr",
     "output_type": "stream",
     "text": [
      "Best trial: 17. Best value: 20.3454:  54%|█████▍    | 135/250 [17:28<14:53,  7.77s/it]"
     ]
    },
    {
     "name": "stdout",
     "output_type": "stream",
     "text": [
      "1739\n",
      "[I 2024-02-15 07:52:18,792] Trial 134 finished with value: 19.7269429274714 and parameters: {'thres_for_max': 0.51, 'thres_for_mean': 0.8500000000000001}. Best is trial 17 with value: 20.345378790908132.\n"
     ]
    },
    {
     "name": "stderr",
     "output_type": "stream",
     "text": [
      "Best trial: 17. Best value: 20.3454:  54%|█████▍    | 136/250 [17:36<14:48,  7.79s/it]"
     ]
    },
    {
     "name": "stdout",
     "output_type": "stream",
     "text": [
      "1771\n",
      "[I 2024-02-15 07:52:26,644] Trial 135 finished with value: 17.996266348644205 and parameters: {'thres_for_max': 0.48, 'thres_for_mean': 0.8999999999999999}. Best is trial 17 with value: 20.345378790908132.\n"
     ]
    },
    {
     "name": "stderr",
     "output_type": "stream",
     "text": [
      "Best trial: 17. Best value: 20.3454:  55%|█████▍    | 137/250 [17:44<14:39,  7.78s/it]"
     ]
    },
    {
     "name": "stdout",
     "output_type": "stream",
     "text": [
      "1748\n",
      "[I 2024-02-15 07:52:34,386] Trial 136 finished with value: 17.257667483098164 and parameters: {'thres_for_max': 0.5, 'thres_for_mean': 0.78}. Best is trial 17 with value: 20.345378790908132.\n"
     ]
    },
    {
     "name": "stderr",
     "output_type": "stream",
     "text": [
      "Best trial: 17. Best value: 20.3454:  55%|█████▌    | 138/250 [17:51<14:25,  7.73s/it]"
     ]
    },
    {
     "name": "stdout",
     "output_type": "stream",
     "text": [
      "1710\n",
      "[I 2024-02-15 07:52:42,000] Trial 137 finished with value: 18.31549477319591 and parameters: {'thres_for_max': 0.53, 'thres_for_mean': 0.8400000000000001}. Best is trial 17 with value: 20.345378790908132.\n"
     ]
    },
    {
     "name": "stderr",
     "output_type": "stream",
     "text": [
      "Best trial: 17. Best value: 20.3454:  56%|█████▌    | 139/250 [17:59<14:19,  7.74s/it]"
     ]
    },
    {
     "name": "stdout",
     "output_type": "stream",
     "text": [
      "1771\n",
      "[I 2024-02-15 07:52:49,778] Trial 138 finished with value: 17.95148649729199 and parameters: {'thres_for_max': 0.48, 'thres_for_mean': 0.8799999999999999}. Best is trial 17 with value: 20.345378790908132.\n"
     ]
    },
    {
     "name": "stderr",
     "output_type": "stream",
     "text": [
      "Best trial: 17. Best value: 20.3454:  56%|█████▌    | 140/250 [18:07<14:10,  7.73s/it]"
     ]
    },
    {
     "name": "stdout",
     "output_type": "stream",
     "text": [
      "1780\n",
      "[I 2024-02-15 07:52:57,468] Trial 139 finished with value: 17.98621666343268 and parameters: {'thres_for_max': 0.47, 'thres_for_mean': 0.8}. Best is trial 17 with value: 20.345378790908132.\n"
     ]
    },
    {
     "name": "stderr",
     "output_type": "stream",
     "text": [
      "Best trial: 17. Best value: 20.3454:  56%|█████▋    | 141/250 [18:15<14:04,  7.74s/it]"
     ]
    },
    {
     "name": "stdout",
     "output_type": "stream",
     "text": [
      "1680\n",
      "[I 2024-02-15 07:53:05,251] Trial 140 finished with value: 18.85234366353636 and parameters: {'thres_for_max': 0.55, 'thres_for_mean': 0.8200000000000001}. Best is trial 17 with value: 20.345378790908132.\n"
     ]
    },
    {
     "name": "stderr",
     "output_type": "stream",
     "text": [
      "Best trial: 17. Best value: 20.3454:  57%|█████▋    | 142/250 [18:22<13:59,  7.77s/it]"
     ]
    },
    {
     "name": "stdout",
     "output_type": "stream",
     "text": [
      "1726\n",
      "[I 2024-02-15 07:53:13,086] Trial 141 finished with value: 19.256554371737103 and parameters: {'thres_for_max': 0.52, 'thres_for_mean': 0.81}. Best is trial 17 with value: 20.345378790908132.\n"
     ]
    },
    {
     "name": "stderr",
     "output_type": "stream",
     "text": [
      "Best trial: 17. Best value: 20.3454:  57%|█████▋    | 143/250 [18:30<13:49,  7.75s/it]"
     ]
    },
    {
     "name": "stdout",
     "output_type": "stream",
     "text": [
      "1739\n",
      "[I 2024-02-15 07:53:20,800] Trial 142 finished with value: 19.94904793435343 and parameters: {'thres_for_max': 0.51, 'thres_for_mean': 0.8600000000000001}. Best is trial 17 with value: 20.345378790908132.\n"
     ]
    },
    {
     "name": "stderr",
     "output_type": "stream",
     "text": [
      "Best trial: 17. Best value: 20.3454:  58%|█████▊    | 144/250 [18:38<13:39,  7.73s/it]"
     ]
    },
    {
     "name": "stdout",
     "output_type": "stream",
     "text": [
      "1739\n",
      "[I 2024-02-15 07:53:28,462] Trial 143 finished with value: 19.990135719068938 and parameters: {'thres_for_max': 0.51, 'thres_for_mean': 0.8700000000000001}. Best is trial 17 with value: 20.345378790908132.\n"
     ]
    },
    {
     "name": "stderr",
     "output_type": "stream",
     "text": [
      "Best trial: 17. Best value: 20.3454:  58%|█████▊    | 145/250 [18:45<13:30,  7.72s/it]"
     ]
    },
    {
     "name": "stdout",
     "output_type": "stream",
     "text": [
      "1758\n",
      "[I 2024-02-15 07:53:36,178] Trial 144 finished with value: 18.490354886928678 and parameters: {'thres_for_max': 0.49, 'thres_for_mean': 0.8700000000000001}. Best is trial 17 with value: 20.345378790908132.\n"
     ]
    },
    {
     "name": "stderr",
     "output_type": "stream",
     "text": [
      "Best trial: 17. Best value: 20.3454:  58%|█████▊    | 146/250 [18:53<13:23,  7.73s/it]"
     ]
    },
    {
     "name": "stdout",
     "output_type": "stream",
     "text": [
      "1739\n",
      "[I 2024-02-15 07:53:43,907] Trial 145 finished with value: 20.345378790908132 and parameters: {'thres_for_max': 0.51, 'thres_for_mean': 0.8899999999999999}. Best is trial 17 with value: 20.345378790908132.\n"
     ]
    },
    {
     "name": "stderr",
     "output_type": "stream",
     "text": [
      "Best trial: 17. Best value: 20.3454:  59%|█████▉    | 147/250 [19:01<13:12,  7.70s/it]"
     ]
    },
    {
     "name": "stdout",
     "output_type": "stream",
     "text": [
      "1698\n",
      "[I 2024-02-15 07:53:51,544] Trial 146 finished with value: 18.88329715259618 and parameters: {'thres_for_max': 0.54, 'thres_for_mean': 0.8899999999999999}. Best is trial 17 with value: 20.345378790908132.\n"
     ]
    },
    {
     "name": "stderr",
     "output_type": "stream",
     "text": [
      "Best trial: 17. Best value: 20.3454:  59%|█████▉    | 148/250 [19:09<13:07,  7.73s/it]"
     ]
    },
    {
     "name": "stdout",
     "output_type": "stream",
     "text": [
      "1739\n",
      "[I 2024-02-15 07:53:59,331] Trial 147 finished with value: 19.97058381364566 and parameters: {'thres_for_max': 0.51, 'thres_for_mean': 0.8999999999999999}. Best is trial 17 with value: 20.345378790908132.\n"
     ]
    },
    {
     "name": "stderr",
     "output_type": "stream",
     "text": [
      "Best trial: 17. Best value: 20.3454:  60%|█████▉    | 149/250 [19:16<12:59,  7.72s/it]"
     ]
    },
    {
     "name": "stdout",
     "output_type": "stream",
     "text": [
      "1710\n",
      "[I 2024-02-15 07:54:07,041] Trial 148 finished with value: 18.409475004293814 and parameters: {'thres_for_max': 0.53, 'thres_for_mean': 0.8999999999999999}. Best is trial 17 with value: 20.345378790908132.\n"
     ]
    },
    {
     "name": "stderr",
     "output_type": "stream",
     "text": [
      "Best trial: 17. Best value: 20.3454:  60%|██████    | 150/250 [19:24<12:54,  7.75s/it]"
     ]
    },
    {
     "name": "stdout",
     "output_type": "stream",
     "text": [
      "1748\n",
      "[I 2024-02-15 07:54:14,853] Trial 149 finished with value: 17.66071553034382 and parameters: {'thres_for_max': 0.5, 'thres_for_mean': 0.8799999999999999}. Best is trial 17 with value: 20.345378790908132.\n"
     ]
    },
    {
     "name": "stderr",
     "output_type": "stream",
     "text": [
      "Best trial: 17. Best value: 20.3454:  60%|██████    | 151/250 [19:32<12:46,  7.74s/it]"
     ]
    },
    {
     "name": "stdout",
     "output_type": "stream",
     "text": [
      "1758\n",
      "[I 2024-02-15 07:54:22,582] Trial 150 finished with value: 18.82093737915345 and parameters: {'thres_for_max': 0.49, 'thres_for_mean': 0.8899999999999999}. Best is trial 17 with value: 20.345378790908132.\n"
     ]
    },
    {
     "name": "stderr",
     "output_type": "stream",
     "text": [
      "Best trial: 17. Best value: 20.3454:  61%|██████    | 152/250 [19:40<12:37,  7.73s/it]"
     ]
    },
    {
     "name": "stdout",
     "output_type": "stream",
     "text": [
      "1739\n",
      "[I 2024-02-15 07:54:30,269] Trial 151 finished with value: 19.94904793435343 and parameters: {'thres_for_max': 0.51, 'thres_for_mean': 0.8600000000000001}. Best is trial 17 with value: 20.345378790908132.\n"
     ]
    },
    {
     "name": "stderr",
     "output_type": "stream",
     "text": [
      "Best trial: 17. Best value: 20.3454:  61%|██████    | 153/250 [19:47<12:29,  7.72s/it]"
     ]
    },
    {
     "name": "stdout",
     "output_type": "stream",
     "text": [
      "1726\n",
      "[I 2024-02-15 07:54:37,982] Trial 152 finished with value: 19.430511783575522 and parameters: {'thres_for_max': 0.52, 'thres_for_mean': 0.8700000000000001}. Best is trial 17 with value: 20.345378790908132.\n"
     ]
    },
    {
     "name": "stderr",
     "output_type": "stream",
     "text": [
      "Best trial: 17. Best value: 20.3454:  62%|██████▏   | 154/250 [19:55<12:20,  7.72s/it]"
     ]
    },
    {
     "name": "stdout",
     "output_type": "stream",
     "text": [
      "1739\n",
      "[I 2024-02-15 07:54:45,687] Trial 153 finished with value: 19.97058381364566 and parameters: {'thres_for_max': 0.51, 'thres_for_mean': 0.8999999999999999}. Best is trial 17 with value: 20.345378790908132.\n"
     ]
    },
    {
     "name": "stderr",
     "output_type": "stream",
     "text": [
      "Best trial: 17. Best value: 20.3454:  62%|██████▏   | 155/250 [20:03<12:10,  7.69s/it]"
     ]
    },
    {
     "name": "stdout",
     "output_type": "stream",
     "text": [
      "1665\n",
      "[I 2024-02-15 07:54:53,314] Trial 154 finished with value: 17.152811331428982 and parameters: {'thres_for_max': 0.56, 'thres_for_mean': 0.8899999999999999}. Best is trial 17 with value: 20.345378790908132.\n"
     ]
    },
    {
     "name": "stderr",
     "output_type": "stream",
     "text": [
      "Best trial: 17. Best value: 20.3454:  62%|██████▏   | 156/250 [20:10<12:04,  7.70s/it]"
     ]
    },
    {
     "name": "stdout",
     "output_type": "stream",
     "text": [
      "1710\n",
      "[I 2024-02-15 07:55:01,049] Trial 155 finished with value: 18.409475004293814 and parameters: {'thres_for_max': 0.53, 'thres_for_mean': 0.8999999999999999}. Best is trial 17 with value: 20.345378790908132.\n"
     ]
    },
    {
     "name": "stderr",
     "output_type": "stream",
     "text": [
      "Best trial: 17. Best value: 20.3454:  63%|██████▎   | 157/250 [20:18<11:58,  7.72s/it]"
     ]
    },
    {
     "name": "stdout",
     "output_type": "stream",
     "text": [
      "1758\n",
      "[I 2024-02-15 07:55:08,820] Trial 156 finished with value: 18.42828557417828 and parameters: {'thres_for_max': 0.49, 'thres_for_mean': 0.8799999999999999}. Best is trial 17 with value: 20.345378790908132.\n"
     ]
    },
    {
     "name": "stderr",
     "output_type": "stream",
     "text": [
      "Best trial: 17. Best value: 20.3454:  63%|██████▎   | 158/250 [20:26<11:49,  7.72s/it]"
     ]
    },
    {
     "name": "stdout",
     "output_type": "stream",
     "text": [
      "1726\n",
      "[I 2024-02-15 07:55:16,521] Trial 157 finished with value: 19.41157437445356 and parameters: {'thres_for_max': 0.52, 'thres_for_mean': 0.8999999999999999}. Best is trial 17 with value: 20.345378790908132.\n"
     ]
    },
    {
     "name": "stderr",
     "output_type": "stream",
     "text": [
      "Best trial: 17. Best value: 20.3454:  64%|██████▎   | 159/250 [20:34<11:43,  7.73s/it]"
     ]
    },
    {
     "name": "stdout",
     "output_type": "stream",
     "text": [
      "1771\n",
      "[I 2024-02-15 07:55:24,289] Trial 158 finished with value: 17.95148649729199 and parameters: {'thres_for_max': 0.48, 'thres_for_mean': 0.8799999999999999}. Best is trial 17 with value: 20.345378790908132.\n"
     ]
    },
    {
     "name": "stderr",
     "output_type": "stream",
     "text": [
      "Best trial: 17. Best value: 20.3454:  64%|██████▍   | 160/250 [20:41<11:36,  7.74s/it]"
     ]
    },
    {
     "name": "stdout",
     "output_type": "stream",
     "text": [
      "1698\n",
      "[I 2024-02-15 07:55:32,036] Trial 159 finished with value: 18.309567560706764 and parameters: {'thres_for_max': 0.54, 'thres_for_mean': 0.8500000000000001}. Best is trial 17 with value: 20.345378790908132.\n"
     ]
    },
    {
     "name": "stderr",
     "output_type": "stream",
     "text": [
      "Best trial: 17. Best value: 20.3454:  64%|██████▍   | 161/250 [20:49<11:26,  7.71s/it]"
     ]
    },
    {
     "name": "stdout",
     "output_type": "stream",
     "text": [
      "1748\n",
      "[I 2024-02-15 07:55:39,693] Trial 160 finished with value: 17.720841309255484 and parameters: {'thres_for_max': 0.5, 'thres_for_mean': 0.8700000000000001}. Best is trial 17 with value: 20.345378790908132.\n"
     ]
    },
    {
     "name": "stderr",
     "output_type": "stream",
     "text": [
      "Best trial: 17. Best value: 20.3454:  65%|██████▍   | 162/250 [20:57<11:17,  7.70s/it]"
     ]
    },
    {
     "name": "stdout",
     "output_type": "stream",
     "text": [
      "1739\n",
      "[I 2024-02-15 07:55:47,369] Trial 161 finished with value: 19.94904793435343 and parameters: {'thres_for_max': 0.51, 'thres_for_mean': 0.8600000000000001}. Best is trial 17 with value: 20.345378790908132.\n"
     ]
    },
    {
     "name": "stderr",
     "output_type": "stream",
     "text": [
      "Best trial: 17. Best value: 20.3454:  65%|██████▌   | 163/250 [21:04<11:09,  7.69s/it]"
     ]
    },
    {
     "name": "stdout",
     "output_type": "stream",
     "text": [
      "1739\n",
      "[I 2024-02-15 07:55:55,038] Trial 162 finished with value: 20.345378790908132 and parameters: {'thres_for_max': 0.51, 'thres_for_mean': 0.8899999999999999}. Best is trial 17 with value: 20.345378790908132.\n"
     ]
    },
    {
     "name": "stderr",
     "output_type": "stream",
     "text": [
      "Best trial: 17. Best value: 20.3454:  66%|██████▌   | 164/250 [21:12<11:02,  7.70s/it]"
     ]
    },
    {
     "name": "stdout",
     "output_type": "stream",
     "text": [
      "1748\n",
      "[I 2024-02-15 07:56:02,773] Trial 163 finished with value: 18.035756935179396 and parameters: {'thres_for_max': 0.5, 'thres_for_mean': 0.8899999999999999}. Best is trial 17 with value: 20.345378790908132.\n"
     ]
    },
    {
     "name": "stderr",
     "output_type": "stream",
     "text": [
      "Best trial: 17. Best value: 20.3454:  66%|██████▌   | 165/250 [21:20<10:55,  7.72s/it]"
     ]
    },
    {
     "name": "stdout",
     "output_type": "stream",
     "text": [
      "1710\n",
      "[I 2024-02-15 07:56:10,513] Trial 164 finished with value: 18.409475004293814 and parameters: {'thres_for_max': 0.53, 'thres_for_mean': 0.8999999999999999}. Best is trial 17 with value: 20.345378790908132.\n"
     ]
    },
    {
     "name": "stderr",
     "output_type": "stream",
     "text": [
      "Best trial: 17. Best value: 20.3454:  66%|██████▋   | 166/250 [21:28<10:50,  7.75s/it]"
     ]
    },
    {
     "name": "stdout",
     "output_type": "stream",
     "text": [
      "1680\n",
      "[I 2024-02-15 07:56:18,334] Trial 165 finished with value: 19.21260217096701 and parameters: {'thres_for_max': 0.55, 'thres_for_mean': 0.8899999999999999}. Best is trial 17 with value: 20.345378790908132.\n"
     ]
    },
    {
     "name": "stderr",
     "output_type": "stream",
     "text": [
      "Best trial: 17. Best value: 20.3454:  67%|██████▋   | 167/250 [21:35<10:41,  7.73s/it]"
     ]
    },
    {
     "name": "stdout",
     "output_type": "stream",
     "text": [
      "1780\n",
      "[I 2024-02-15 07:56:26,039] Trial 166 finished with value: 18.174547743291377 and parameters: {'thres_for_max': 0.47, 'thres_for_mean': 0.8700000000000001}. Best is trial 17 with value: 20.345378790908132.\n"
     ]
    },
    {
     "name": "stderr",
     "output_type": "stream",
     "text": [
      "Best trial: 17. Best value: 20.3454:  67%|██████▋   | 168/250 [21:43<10:33,  7.73s/it]"
     ]
    },
    {
     "name": "stdout",
     "output_type": "stream",
     "text": [
      "1739\n",
      "[I 2024-02-15 07:56:33,748] Trial 167 finished with value: 19.922310356848058 and parameters: {'thres_for_max': 0.51, 'thres_for_mean': 0.8799999999999999}. Best is trial 17 with value: 20.345378790908132.\n"
     ]
    },
    {
     "name": "stderr",
     "output_type": "stream",
     "text": [
      "Best trial: 17. Best value: 20.3454:  68%|██████▊   | 169/250 [21:51<10:28,  7.76s/it]"
     ]
    },
    {
     "name": "stdout",
     "output_type": "stream",
     "text": [
      "1810\n",
      "[I 2024-02-15 07:56:41,592] Trial 168 finished with value: 18.1956270645771 and parameters: {'thres_for_max': 0.44, 'thres_for_mean': 0.8999999999999999}. Best is trial 17 with value: 20.345378790908132.\n"
     ]
    },
    {
     "name": "stderr",
     "output_type": "stream",
     "text": [
      "Best trial: 17. Best value: 20.3454:  68%|██████▊   | 170/250 [21:59<10:20,  7.75s/it]"
     ]
    },
    {
     "name": "stdout",
     "output_type": "stream",
     "text": [
      "1758\n",
      "[I 2024-02-15 07:56:49,324] Trial 169 finished with value: 18.42828557417828 and parameters: {'thres_for_max': 0.49, 'thres_for_mean': 0.8799999999999999}. Best is trial 17 with value: 20.345378790908132.\n"
     ]
    },
    {
     "name": "stderr",
     "output_type": "stream",
     "text": [
      "Best trial: 17. Best value: 20.3454:  68%|██████▊   | 171/250 [22:06<10:13,  7.76s/it]"
     ]
    },
    {
     "name": "stdout",
     "output_type": "stream",
     "text": [
      "1726\n",
      "[I 2024-02-15 07:56:57,100] Trial 170 finished with value: 19.17453702091815 and parameters: {'thres_for_max': 0.52, 'thres_for_mean': 0.8500000000000001}. Best is trial 17 with value: 20.345378790908132.\n"
     ]
    },
    {
     "name": "stderr",
     "output_type": "stream",
     "text": [
      "Best trial: 17. Best value: 20.3454:  69%|██████▉   | 172/250 [22:14<10:08,  7.80s/it]"
     ]
    },
    {
     "name": "stdout",
     "output_type": "stream",
     "text": [
      "1752\n",
      "[I 2024-02-15 07:57:04,980] Trial 171 finished with value: 19.307602969265268 and parameters: {'thres_for_max': 0.51, 'thres_for_mean': 0.4}. Best is trial 17 with value: 20.345378790908132.\n"
     ]
    },
    {
     "name": "stderr",
     "output_type": "stream",
     "text": [
      "Best trial: 17. Best value: 20.3454:  69%|██████▉   | 173/250 [22:22<09:58,  7.77s/it]"
     ]
    },
    {
     "name": "stdout",
     "output_type": "stream",
     "text": [
      "1748\n",
      "[I 2024-02-15 07:57:12,703] Trial 172 finished with value: 17.68441783905374 and parameters: {'thres_for_max': 0.5, 'thres_for_mean': 0.8600000000000001}. Best is trial 17 with value: 20.345378790908132.\n"
     ]
    },
    {
     "name": "stderr",
     "output_type": "stream",
     "text": [
      "Best trial: 17. Best value: 20.3454:  70%|██████▉   | 174/250 [22:30<09:49,  7.76s/it]"
     ]
    },
    {
     "name": "stdout",
     "output_type": "stream",
     "text": [
      "1698\n",
      "[I 2024-02-15 07:57:20,415] Trial 173 finished with value: 18.55400630438965 and parameters: {'thres_for_max': 0.54, 'thres_for_mean': 0.8700000000000001}. Best is trial 17 with value: 20.345378790908132.\n"
     ]
    },
    {
     "name": "stderr",
     "output_type": "stream",
     "text": [
      "Best trial: 17. Best value: 20.3454:  70%|███████   | 175/250 [22:37<09:41,  7.75s/it]"
     ]
    },
    {
     "name": "stdout",
     "output_type": "stream",
     "text": [
      "1726\n",
      "[I 2024-02-15 07:57:28,147] Trial 174 finished with value: 19.775764822308265 and parameters: {'thres_for_max': 0.52, 'thres_for_mean': 0.8899999999999999}. Best is trial 17 with value: 20.345378790908132.\n"
     ]
    },
    {
     "name": "stderr",
     "output_type": "stream",
     "text": [
      "Best trial: 17. Best value: 20.3454:  70%|███████   | 176/250 [22:45<09:33,  7.75s/it]"
     ]
    },
    {
     "name": "stdout",
     "output_type": "stream",
     "text": [
      "1771\n",
      "[I 2024-02-15 07:57:35,898] Trial 175 finished with value: 17.902417666774515 and parameters: {'thres_for_max': 0.48, 'thres_for_mean': 0.8400000000000001}. Best is trial 17 with value: 20.345378790908132.\n"
     ]
    },
    {
     "name": "stderr",
     "output_type": "stream",
     "text": [
      "Best trial: 17. Best value: 20.3454:  71%|███████   | 177/250 [22:53<09:27,  7.77s/it]"
     ]
    },
    {
     "name": "stdout",
     "output_type": "stream",
     "text": [
      "1791\n",
      "[I 2024-02-15 07:57:43,713] Trial 176 finished with value: 19.664912316859937 and parameters: {'thres_for_max': 0.45999999999999996, 'thres_for_mean': 0.8600000000000001}. Best is trial 17 with value: 20.345378790908132.\n"
     ]
    },
    {
     "name": "stderr",
     "output_type": "stream",
     "text": [
      "Best trial: 17. Best value: 20.3454:  71%|███████   | 178/250 [23:01<09:18,  7.76s/it]"
     ]
    },
    {
     "name": "stdout",
     "output_type": "stream",
     "text": [
      "1710\n",
      "[I 2024-02-15 07:57:51,464] Trial 177 finished with value: 18.754856805604202 and parameters: {'thres_for_max': 0.53, 'thres_for_mean': 0.8899999999999999}. Best is trial 17 with value: 20.345378790908132.\n"
     ]
    },
    {
     "name": "stderr",
     "output_type": "stream",
     "text": [
      "Best trial: 17. Best value: 20.3454:  72%|███████▏  | 179/250 [23:09<09:11,  7.77s/it]"
     ]
    },
    {
     "name": "stdout",
     "output_type": "stream",
     "text": [
      "1739\n",
      "[I 2024-02-15 07:57:59,245] Trial 178 finished with value: 19.922310356848058 and parameters: {'thres_for_max': 0.51, 'thres_for_mean': 0.8799999999999999}. Best is trial 17 with value: 20.345378790908132.\n"
     ]
    },
    {
     "name": "stderr",
     "output_type": "stream",
     "text": [
      "Best trial: 17. Best value: 20.3454:  72%|███████▏  | 180/250 [23:16<09:06,  7.81s/it]"
     ]
    },
    {
     "name": "stdout",
     "output_type": "stream",
     "text": [
      "1758\n",
      "[I 2024-02-15 07:58:07,144] Trial 179 finished with value: 18.246899260946716 and parameters: {'thres_for_max': 0.49, 'thres_for_mean': 0.8500000000000001}. Best is trial 17 with value: 20.345378790908132.\n"
     ]
    },
    {
     "name": "stderr",
     "output_type": "stream",
     "text": [
      "Best trial: 17. Best value: 20.3454:  72%|███████▏  | 181/250 [23:24<08:59,  7.82s/it]"
     ]
    },
    {
     "name": "stdout",
     "output_type": "stream",
     "text": [
      "1748\n",
      "[I 2024-02-15 07:58:14,992] Trial 180 finished with value: 17.70350895002749 and parameters: {'thres_for_max': 0.5, 'thres_for_mean': 0.8999999999999999}. Best is trial 17 with value: 20.345378790908132.\n"
     ]
    },
    {
     "name": "stderr",
     "output_type": "stream",
     "text": [
      "Best trial: 17. Best value: 20.3454:  73%|███████▎  | 182/250 [23:32<08:51,  7.82s/it]"
     ]
    },
    {
     "name": "stdout",
     "output_type": "stream",
     "text": [
      "1739\n",
      "[I 2024-02-15 07:58:22,797] Trial 181 finished with value: 19.94904793435343 and parameters: {'thres_for_max': 0.51, 'thres_for_mean': 0.8600000000000001}. Best is trial 17 with value: 20.345378790908132.\n"
     ]
    },
    {
     "name": "stderr",
     "output_type": "stream",
     "text": [
      "Best trial: 17. Best value: 20.3454:  73%|███████▎  | 183/250 [23:40<08:42,  7.80s/it]"
     ]
    },
    {
     "name": "stdout",
     "output_type": "stream",
     "text": [
      "1739\n",
      "[I 2024-02-15 07:58:30,563] Trial 182 finished with value: 19.990135719068938 and parameters: {'thres_for_max': 0.51, 'thres_for_mean': 0.8700000000000001}. Best is trial 17 with value: 20.345378790908132.\n"
     ]
    },
    {
     "name": "stderr",
     "output_type": "stream",
     "text": [
      "Best trial: 17. Best value: 20.3454:  74%|███████▎  | 184/250 [23:48<08:32,  7.77s/it]"
     ]
    },
    {
     "name": "stdout",
     "output_type": "stream",
     "text": [
      "1710\n",
      "[I 2024-02-15 07:58:38,266] Trial 183 finished with value: 18.427814239069043 and parameters: {'thres_for_max': 0.53, 'thres_for_mean': 0.8700000000000001}. Best is trial 17 with value: 20.345378790908132.\n"
     ]
    },
    {
     "name": "stderr",
     "output_type": "stream",
     "text": [
      "Best trial: 17. Best value: 20.3454:  74%|███████▍  | 185/250 [23:55<08:26,  7.80s/it]"
     ]
    },
    {
     "name": "stdout",
     "output_type": "stream",
     "text": [
      "1758\n",
      "[I 2024-02-15 07:58:46,126] Trial 184 finished with value: 18.42828557417828 and parameters: {'thres_for_max': 0.49, 'thres_for_mean': 0.8799999999999999}. Best is trial 17 with value: 20.345378790908132.\n"
     ]
    },
    {
     "name": "stderr",
     "output_type": "stream",
     "text": [
      "Best trial: 17. Best value: 20.3454:  74%|███████▍  | 186/250 [24:03<08:19,  7.81s/it]"
     ]
    },
    {
     "name": "stdout",
     "output_type": "stream",
     "text": [
      "1819\n",
      "[I 2024-02-15 07:58:53,949] Trial 185 finished with value: 19.295738482153563 and parameters: {'thres_for_max': 0.42, 'thres_for_mean': 0.8999999999999999}. Best is trial 17 with value: 20.345378790908132.\n"
     ]
    },
    {
     "name": "stderr",
     "output_type": "stream",
     "text": [
      "Best trial: 17. Best value: 20.3454:  75%|███████▍  | 187/250 [24:11<08:11,  7.81s/it]"
     ]
    },
    {
     "name": "stdout",
     "output_type": "stream",
     "text": [
      "1726\n",
      "[I 2024-02-15 07:59:01,754] Trial 186 finished with value: 19.364533244670813 and parameters: {'thres_for_max': 0.52, 'thres_for_mean': 0.8799999999999999}. Best is trial 17 with value: 20.345378790908132.\n"
     ]
    },
    {
     "name": "stderr",
     "output_type": "stream",
     "text": [
      "Best trial: 17. Best value: 20.3454:  75%|███████▌  | 188/250 [24:19<08:02,  7.79s/it]"
     ]
    },
    {
     "name": "stdout",
     "output_type": "stream",
     "text": [
      "1698\n",
      "[I 2024-02-15 07:59:09,498] Trial 187 finished with value: 18.440917684606564 and parameters: {'thres_for_max': 0.54, 'thres_for_mean': 0.8400000000000001}. Best is trial 17 with value: 20.345378790908132.\n"
     ]
    },
    {
     "name": "stderr",
     "output_type": "stream",
     "text": [
      "Best trial: 17. Best value: 20.3454:  76%|███████▌  | 189/250 [24:27<07:55,  7.80s/it]"
     ]
    },
    {
     "name": "stdout",
     "output_type": "stream",
     "text": [
      "1780\n",
      "[I 2024-02-15 07:59:17,332] Trial 188 finished with value: 18.49947441378156 and parameters: {'thres_for_max': 0.47, 'thres_for_mean': 0.8899999999999999}. Best is trial 17 with value: 20.345378790908132.\n"
     ]
    },
    {
     "name": "stderr",
     "output_type": "stream",
     "text": [
      "Best trial: 17. Best value: 20.3454:  76%|███████▌  | 190/250 [24:34<07:47,  7.80s/it]"
     ]
    },
    {
     "name": "stdout",
     "output_type": "stream",
     "text": [
      "1739\n",
      "[I 2024-02-15 07:59:25,126] Trial 189 finished with value: 19.990135719068938 and parameters: {'thres_for_max': 0.51, 'thres_for_mean': 0.8700000000000001}. Best is trial 17 with value: 20.345378790908132.\n"
     ]
    },
    {
     "name": "stderr",
     "output_type": "stream",
     "text": [
      "Best trial: 17. Best value: 20.3454:  76%|███████▋  | 191/250 [24:42<07:40,  7.80s/it]"
     ]
    },
    {
     "name": "stdout",
     "output_type": "stream",
     "text": [
      "1771\n",
      "[I 2024-02-15 07:59:32,927] Trial 190 finished with value: 18.140622344304216 and parameters: {'thres_for_max': 0.48, 'thres_for_mean': 0.56}. Best is trial 17 with value: 20.345378790908132.\n"
     ]
    },
    {
     "name": "stderr",
     "output_type": "stream",
     "text": [
      "Best trial: 17. Best value: 20.3454:  77%|███████▋  | 192/250 [24:50<07:32,  7.81s/it]"
     ]
    },
    {
     "name": "stdout",
     "output_type": "stream",
     "text": [
      "1748\n",
      "[I 2024-02-15 07:59:40,756] Trial 191 finished with value: 17.720841309255484 and parameters: {'thres_for_max': 0.5, 'thres_for_mean': 0.8700000000000001}. Best is trial 17 with value: 20.345378790908132.\n"
     ]
    },
    {
     "name": "stderr",
     "output_type": "stream",
     "text": [
      "Best trial: 17. Best value: 20.3454:  77%|███████▋  | 193/250 [24:58<07:22,  7.76s/it]"
     ]
    },
    {
     "name": "stdout",
     "output_type": "stream",
     "text": [
      "1739\n",
      "[I 2024-02-15 07:59:48,397] Trial 192 finished with value: 19.94904793435343 and parameters: {'thres_for_max': 0.51, 'thres_for_mean': 0.8600000000000001}. Best is trial 17 with value: 20.345378790908132.\n"
     ]
    },
    {
     "name": "stderr",
     "output_type": "stream",
     "text": [
      "Best trial: 17. Best value: 20.3454:  78%|███████▊  | 194/250 [25:05<07:11,  7.71s/it]"
     ]
    },
    {
     "name": "stdout",
     "output_type": "stream",
     "text": [
      "1710\n",
      "[I 2024-02-15 07:59:55,994] Trial 193 finished with value: 18.754856805604202 and parameters: {'thres_for_max': 0.53, 'thres_for_mean': 0.8899999999999999}. Best is trial 17 with value: 20.345378790908132.\n"
     ]
    },
    {
     "name": "stderr",
     "output_type": "stream",
     "text": [
      "Best trial: 17. Best value: 20.3454:  78%|███████▊  | 195/250 [25:13<07:05,  7.74s/it]"
     ]
    },
    {
     "name": "stdout",
     "output_type": "stream",
     "text": [
      "1726\n",
      "[I 2024-02-15 08:00:03,804] Trial 194 finished with value: 19.41157437445356 and parameters: {'thres_for_max': 0.52, 'thres_for_mean': 0.8999999999999999}. Best is trial 17 with value: 20.345378790908132.\n"
     ]
    },
    {
     "name": "stderr",
     "output_type": "stream",
     "text": [
      "Best trial: 17. Best value: 20.3454:  78%|███████▊  | 196/250 [25:21<06:57,  7.74s/it]"
     ]
    },
    {
     "name": "stdout",
     "output_type": "stream",
     "text": [
      "1739\n",
      "[I 2024-02-15 08:00:11,533] Trial 195 finished with value: 19.990135719068938 and parameters: {'thres_for_max': 0.51, 'thres_for_mean': 0.8700000000000001}. Best is trial 17 with value: 20.345378790908132.\n"
     ]
    },
    {
     "name": "stderr",
     "output_type": "stream",
     "text": [
      "Best trial: 17. Best value: 20.3454:  79%|███████▉  | 197/250 [25:29<06:49,  7.73s/it]"
     ]
    },
    {
     "name": "stdout",
     "output_type": "stream",
     "text": [
      "1449\n",
      "[I 2024-02-15 08:00:19,258] Trial 196 finished with value: 11.291215598651961 and parameters: {'thres_for_max': 0.65, 'thres_for_mean': 0.8799999999999999}. Best is trial 17 with value: 20.345378790908132.\n"
     ]
    },
    {
     "name": "stderr",
     "output_type": "stream",
     "text": [
      "Best trial: 17. Best value: 20.3454:  79%|███████▉  | 198/250 [25:36<06:42,  7.74s/it]"
     ]
    },
    {
     "name": "stdout",
     "output_type": "stream",
     "text": [
      "1748\n",
      "[I 2024-02-15 08:00:27,026] Trial 197 finished with value: 17.720841309255484 and parameters: {'thres_for_max': 0.5, 'thres_for_mean': 0.8700000000000001}. Best is trial 17 with value: 20.345378790908132.\n"
     ]
    },
    {
     "name": "stderr",
     "output_type": "stream",
     "text": [
      "Best trial: 17. Best value: 20.3454:  80%|███████▉  | 199/250 [25:44<06:33,  7.72s/it]"
     ]
    },
    {
     "name": "stdout",
     "output_type": "stream",
     "text": [
      "1680\n",
      "[I 2024-02-15 08:00:34,678] Trial 198 finished with value: 18.762483700290453 and parameters: {'thres_for_max': 0.55, 'thres_for_mean': 0.8400000000000001}. Best is trial 17 with value: 20.345378790908132.\n"
     ]
    },
    {
     "name": "stderr",
     "output_type": "stream",
     "text": [
      "Best trial: 17. Best value: 20.3454:  80%|████████  | 200/250 [25:52<06:25,  7.72s/it]"
     ]
    },
    {
     "name": "stdout",
     "output_type": "stream",
     "text": [
      "1758\n",
      "[I 2024-02-15 08:00:42,395] Trial 199 finished with value: 18.82093737915345 and parameters: {'thres_for_max': 0.49, 'thres_for_mean': 0.8899999999999999}. Best is trial 17 with value: 20.345378790908132.\n"
     ]
    },
    {
     "name": "stderr",
     "output_type": "stream",
     "text": [
      "Best trial: 17. Best value: 20.3454:  80%|████████  | 201/250 [25:59<06:18,  7.73s/it]"
     ]
    },
    {
     "name": "stdout",
     "output_type": "stream",
     "text": [
      "1726\n",
      "[I 2024-02-15 08:00:50,156] Trial 200 finished with value: 19.17453702091815 and parameters: {'thres_for_max': 0.52, 'thres_for_mean': 0.8500000000000001}. Best is trial 17 with value: 20.345378790908132.\n"
     ]
    },
    {
     "name": "stderr",
     "output_type": "stream",
     "text": [
      "Best trial: 17. Best value: 20.3454:  81%|████████  | 202/250 [26:07<06:10,  7.72s/it]"
     ]
    },
    {
     "name": "stdout",
     "output_type": "stream",
     "text": [
      "1739\n",
      "[I 2024-02-15 08:00:57,847] Trial 201 finished with value: 19.94904793435343 and parameters: {'thres_for_max': 0.51, 'thres_for_mean': 0.8600000000000001}. Best is trial 17 with value: 20.345378790908132.\n"
     ]
    },
    {
     "name": "stderr",
     "output_type": "stream",
     "text": [
      "Best trial: 17. Best value: 20.3454:  81%|████████  | 203/250 [26:15<06:03,  7.73s/it]"
     ]
    },
    {
     "name": "stdout",
     "output_type": "stream",
     "text": [
      "1748\n",
      "[I 2024-02-15 08:01:05,589] Trial 202 finished with value: 17.70350895002749 and parameters: {'thres_for_max': 0.5, 'thres_for_mean': 0.8999999999999999}. Best is trial 17 with value: 20.345378790908132.\n"
     ]
    },
    {
     "name": "stderr",
     "output_type": "stream",
     "text": [
      "Best trial: 17. Best value: 20.3454:  82%|████████▏ | 204/250 [26:23<05:55,  7.73s/it]"
     ]
    },
    {
     "name": "stdout",
     "output_type": "stream",
     "text": [
      "1284\n",
      "[I 2024-02-15 08:01:13,317] Trial 203 finished with value: 13.710902330691571 and parameters: {'thres_for_max': 0.7, 'thres_for_mean': 0.8799999999999999}. Best is trial 17 with value: 20.345378790908132.\n"
     ]
    },
    {
     "name": "stderr",
     "output_type": "stream",
     "text": [
      "Best trial: 17. Best value: 20.3454:  82%|████████▏ | 205/250 [26:30<05:48,  7.74s/it]"
     ]
    },
    {
     "name": "stdout",
     "output_type": "stream",
     "text": [
      "1710\n",
      "[I 2024-02-15 08:01:21,083] Trial 204 finished with value: 18.427814239069043 and parameters: {'thres_for_max': 0.53, 'thres_for_mean': 0.8700000000000001}. Best is trial 17 with value: 20.345378790908132.\n"
     ]
    },
    {
     "name": "stderr",
     "output_type": "stream",
     "text": [
      "Best trial: 17. Best value: 20.3454:  82%|████████▏ | 206/250 [26:38<05:41,  7.75s/it]"
     ]
    },
    {
     "name": "stdout",
     "output_type": "stream",
     "text": [
      "1739\n",
      "[I 2024-02-15 08:01:28,876] Trial 205 finished with value: 19.97058381364566 and parameters: {'thres_for_max': 0.51, 'thres_for_mean': 0.8999999999999999}. Best is trial 17 with value: 20.345378790908132.\n"
     ]
    },
    {
     "name": "stderr",
     "output_type": "stream",
     "text": [
      "Best trial: 17. Best value: 20.3454:  83%|████████▎ | 207/250 [26:46<05:33,  7.75s/it]"
     ]
    },
    {
     "name": "stdout",
     "output_type": "stream",
     "text": [
      "1771\n",
      "[I 2024-02-15 08:01:36,621] Trial 206 finished with value: 17.996266348644205 and parameters: {'thres_for_max': 0.48, 'thres_for_mean': 0.8999999999999999}. Best is trial 17 with value: 20.345378790908132.\n"
     ]
    },
    {
     "name": "stderr",
     "output_type": "stream",
     "text": [
      "Best trial: 17. Best value: 20.3454:  83%|████████▎ | 208/250 [26:54<05:24,  7.74s/it]"
     ]
    },
    {
     "name": "stdout",
     "output_type": "stream",
     "text": [
      "1726\n",
      "[I 2024-02-15 08:01:44,326] Trial 207 finished with value: 19.775764822308265 and parameters: {'thres_for_max': 0.52, 'thres_for_mean': 0.8899999999999999}. Best is trial 17 with value: 20.345378790908132.\n"
     ]
    },
    {
     "name": "stderr",
     "output_type": "stream",
     "text": [
      "Best trial: 17. Best value: 20.3454:  84%|████████▎ | 209/250 [27:01<05:16,  7.73s/it]"
     ]
    },
    {
     "name": "stdout",
     "output_type": "stream",
     "text": [
      "1698\n",
      "[I 2024-02-15 08:01:52,031] Trial 208 finished with value: 18.490877059716585 and parameters: {'thres_for_max': 0.54, 'thres_for_mean': 0.8799999999999999}. Best is trial 17 with value: 20.345378790908132.\n"
     ]
    },
    {
     "name": "stderr",
     "output_type": "stream",
     "text": [
      "Best trial: 17. Best value: 20.3454:  84%|████████▍ | 210/250 [27:09<05:11,  7.78s/it]"
     ]
    },
    {
     "name": "stdout",
     "output_type": "stream",
     "text": [
      "1748\n",
      "[I 2024-02-15 08:01:59,936] Trial 209 finished with value: 17.70350895002749 and parameters: {'thres_for_max': 0.5, 'thres_for_mean': 0.8999999999999999}. Best is trial 17 with value: 20.345378790908132.\n"
     ]
    },
    {
     "name": "stderr",
     "output_type": "stream",
     "text": [
      "Best trial: 17. Best value: 20.3454:  84%|████████▍ | 211/250 [27:17<05:04,  7.80s/it]"
     ]
    },
    {
     "name": "stdout",
     "output_type": "stream",
     "text": [
      "1758\n",
      "[I 2024-02-15 08:02:07,793] Trial 210 finished with value: 18.42828557417828 and parameters: {'thres_for_max': 0.49, 'thres_for_mean': 0.8799999999999999}. Best is trial 17 with value: 20.345378790908132.\n"
     ]
    },
    {
     "name": "stderr",
     "output_type": "stream",
     "text": [
      "Best trial: 17. Best value: 20.3454:  85%|████████▍ | 212/250 [27:25<04:55,  7.78s/it]"
     ]
    },
    {
     "name": "stdout",
     "output_type": "stream",
     "text": [
      "1739\n",
      "[I 2024-02-15 08:02:15,534] Trial 211 finished with value: 19.990135719068938 and parameters: {'thres_for_max': 0.51, 'thres_for_mean': 0.8700000000000001}. Best is trial 17 with value: 20.345378790908132.\n"
     ]
    },
    {
     "name": "stderr",
     "output_type": "stream",
     "text": [
      "Best trial: 17. Best value: 20.3454:  85%|████████▌ | 213/250 [27:33<04:48,  7.79s/it]"
     ]
    },
    {
     "name": "stdout",
     "output_type": "stream",
     "text": [
      "1739\n",
      "[I 2024-02-15 08:02:23,320] Trial 212 finished with value: 19.990135719068938 and parameters: {'thres_for_max': 0.51, 'thres_for_mean': 0.8700000000000001}. Best is trial 17 with value: 20.345378790908132.\n"
     ]
    },
    {
     "name": "stderr",
     "output_type": "stream",
     "text": [
      "Best trial: 17. Best value: 20.3454:  86%|████████▌ | 214/250 [27:40<04:39,  7.75s/it]"
     ]
    },
    {
     "name": "stdout",
     "output_type": "stream",
     "text": [
      "1726\n",
      "[I 2024-02-15 08:02:30,992] Trial 213 finished with value: 19.775764822308265 and parameters: {'thres_for_max': 0.52, 'thres_for_mean': 0.8899999999999999}. Best is trial 17 with value: 20.345378790908132.\n"
     ]
    },
    {
     "name": "stderr",
     "output_type": "stream",
     "text": [
      "Best trial: 17. Best value: 20.3454:  86%|████████▌ | 215/250 [27:48<04:31,  7.74s/it]"
     ]
    },
    {
     "name": "stdout",
     "output_type": "stream",
     "text": [
      "1739\n",
      "[I 2024-02-15 08:02:38,718] Trial 214 finished with value: 19.990135719068938 and parameters: {'thres_for_max': 0.51, 'thres_for_mean': 0.8700000000000001}. Best is trial 17 with value: 20.345378790908132.\n"
     ]
    },
    {
     "name": "stderr",
     "output_type": "stream",
     "text": [
      "Best trial: 17. Best value: 20.3454:  86%|████████▋ | 216/250 [27:56<04:23,  7.76s/it]"
     ]
    },
    {
     "name": "stdout",
     "output_type": "stream",
     "text": [
      "1739\n",
      "[I 2024-02-15 08:02:46,523] Trial 215 finished with value: 19.990135719068938 and parameters: {'thres_for_max': 0.51, 'thres_for_mean': 0.8700000000000001}. Best is trial 17 with value: 20.345378790908132.\n"
     ]
    },
    {
     "name": "stderr",
     "output_type": "stream",
     "text": [
      "Best trial: 17. Best value: 20.3454:  87%|████████▋ | 217/250 [28:03<04:14,  7.72s/it]"
     ]
    },
    {
     "name": "stdout",
     "output_type": "stream",
     "text": [
      "1710\n",
      "[I 2024-02-15 08:02:54,149] Trial 216 finished with value: 18.427814239069043 and parameters: {'thres_for_max': 0.53, 'thres_for_mean': 0.8700000000000001}. Best is trial 17 with value: 20.345378790908132.\n"
     ]
    },
    {
     "name": "stderr",
     "output_type": "stream",
     "text": [
      "Best trial: 17. Best value: 20.3454:  87%|████████▋ | 218/250 [28:11<04:07,  7.73s/it]"
     ]
    },
    {
     "name": "stdout",
     "output_type": "stream",
     "text": [
      "1748\n",
      "[I 2024-02-15 08:03:01,894] Trial 217 finished with value: 17.66071553034382 and parameters: {'thres_for_max': 0.5, 'thres_for_mean': 0.8799999999999999}. Best is trial 17 with value: 20.345378790908132.\n"
     ]
    },
    {
     "name": "stderr",
     "output_type": "stream",
     "text": [
      "Best trial: 17. Best value: 20.3454:  88%|████████▊ | 219/250 [28:19<04:00,  7.75s/it]"
     ]
    },
    {
     "name": "stdout",
     "output_type": "stream",
     "text": [
      "1758\n",
      "[I 2024-02-15 08:03:09,690] Trial 218 finished with value: 18.490354886928678 and parameters: {'thres_for_max': 0.49, 'thres_for_mean': 0.8700000000000001}. Best is trial 17 with value: 20.345378790908132.\n"
     ]
    },
    {
     "name": "stderr",
     "output_type": "stream",
     "text": [
      "Best trial: 17. Best value: 20.3454:  88%|████████▊ | 220/250 [28:27<03:53,  7.78s/it]"
     ]
    },
    {
     "name": "stdout",
     "output_type": "stream",
     "text": [
      "1739\n",
      "[I 2024-02-15 08:03:17,552] Trial 219 finished with value: 19.97058381364566 and parameters: {'thres_for_max': 0.51, 'thres_for_mean': 0.8999999999999999}. Best is trial 17 with value: 20.345378790908132.\n"
     ]
    },
    {
     "name": "stderr",
     "output_type": "stream",
     "text": [
      "Best trial: 17. Best value: 20.3454:  88%|████████▊ | 221/250 [28:35<03:45,  7.78s/it]"
     ]
    },
    {
     "name": "stdout",
     "output_type": "stream",
     "text": [
      "1739\n",
      "[I 2024-02-15 08:03:25,334] Trial 220 finished with value: 19.97058381364566 and parameters: {'thres_for_max': 0.51, 'thres_for_mean': 0.8999999999999999}. Best is trial 17 with value: 20.345378790908132.\n"
     ]
    },
    {
     "name": "stderr",
     "output_type": "stream",
     "text": [
      "Best trial: 17. Best value: 20.3454:  89%|████████▉ | 222/250 [28:42<03:38,  7.80s/it]"
     ]
    },
    {
     "name": "stdout",
     "output_type": "stream",
     "text": [
      "1739\n",
      "[I 2024-02-15 08:03:33,175] Trial 221 finished with value: 19.97058381364566 and parameters: {'thres_for_max': 0.51, 'thres_for_mean': 0.8999999999999999}. Best is trial 17 with value: 20.345378790908132.\n"
     ]
    },
    {
     "name": "stderr",
     "output_type": "stream",
     "text": [
      "Best trial: 17. Best value: 20.3454:  89%|████████▉ | 223/250 [28:50<03:30,  7.78s/it]"
     ]
    },
    {
     "name": "stdout",
     "output_type": "stream",
     "text": [
      "1739\n",
      "[I 2024-02-15 08:03:40,901] Trial 222 finished with value: 19.97058381364566 and parameters: {'thres_for_max': 0.51, 'thres_for_mean': 0.8999999999999999}. Best is trial 17 with value: 20.345378790908132.\n"
     ]
    },
    {
     "name": "stderr",
     "output_type": "stream",
     "text": [
      "Best trial: 17. Best value: 20.3454:  90%|████████▉ | 224/250 [28:58<03:21,  7.75s/it]"
     ]
    },
    {
     "name": "stdout",
     "output_type": "stream",
     "text": [
      "1726\n",
      "[I 2024-02-15 08:03:48,570] Trial 223 finished with value: 19.41157437445356 and parameters: {'thres_for_max': 0.52, 'thres_for_mean': 0.8999999999999999}. Best is trial 17 with value: 20.345378790908132.\n"
     ]
    },
    {
     "name": "stderr",
     "output_type": "stream",
     "text": [
      "Best trial: 17. Best value: 20.3454:  90%|█████████ | 225/250 [29:06<03:13,  7.75s/it]"
     ]
    },
    {
     "name": "stdout",
     "output_type": "stream",
     "text": [
      "1748\n",
      "[I 2024-02-15 08:03:56,326] Trial 224 finished with value: 18.035756935179396 and parameters: {'thres_for_max': 0.5, 'thres_for_mean': 0.8899999999999999}. Best is trial 17 with value: 20.345378790908132.\n"
     ]
    },
    {
     "name": "stderr",
     "output_type": "stream",
     "text": [
      "Best trial: 17. Best value: 20.3454:  90%|█████████ | 226/250 [29:14<03:07,  7.80s/it]"
     ]
    },
    {
     "name": "stdout",
     "output_type": "stream",
     "text": [
      "1710\n",
      "[I 2024-02-15 08:04:04,259] Trial 225 finished with value: 18.754856805604202 and parameters: {'thres_for_max': 0.53, 'thres_for_mean': 0.8899999999999999}. Best is trial 17 with value: 20.345378790908132.\n"
     ]
    },
    {
     "name": "stderr",
     "output_type": "stream",
     "text": [
      "Best trial: 17. Best value: 20.3454:  91%|█████████ | 227/250 [29:21<02:59,  7.80s/it]"
     ]
    },
    {
     "name": "stdout",
     "output_type": "stream",
     "text": [
      "1771\n",
      "[I 2024-02-15 08:04:12,064] Trial 226 finished with value: 17.996266348644205 and parameters: {'thres_for_max': 0.48, 'thres_for_mean': 0.8999999999999999}. Best is trial 17 with value: 20.345378790908132.\n"
     ]
    },
    {
     "name": "stderr",
     "output_type": "stream",
     "text": [
      "Best trial: 17. Best value: 20.3454:  91%|█████████ | 228/250 [29:29<02:51,  7.82s/it]"
     ]
    },
    {
     "name": "stdout",
     "output_type": "stream",
     "text": [
      "1739\n",
      "[I 2024-02-15 08:04:19,914] Trial 227 finished with value: 19.922310356848058 and parameters: {'thres_for_max': 0.51, 'thres_for_mean': 0.8799999999999999}. Best is trial 17 with value: 20.345378790908132.\n"
     ]
    },
    {
     "name": "stderr",
     "output_type": "stream",
     "text": [
      "Best trial: 17. Best value: 20.3454:  92%|█████████▏| 229/250 [29:37<02:43,  7.81s/it]"
     ]
    },
    {
     "name": "stdout",
     "output_type": "stream",
     "text": [
      "1726\n",
      "[I 2024-02-15 08:04:27,697] Trial 228 finished with value: 19.364533244670813 and parameters: {'thres_for_max': 0.52, 'thres_for_mean': 0.8799999999999999}. Best is trial 17 with value: 20.345378790908132.\n"
     ]
    },
    {
     "name": "stderr",
     "output_type": "stream",
     "text": [
      "Best trial: 17. Best value: 20.3454:  92%|█████████▏| 230/250 [29:45<02:35,  7.78s/it]"
     ]
    },
    {
     "name": "stdout",
     "output_type": "stream",
     "text": [
      "1748\n",
      "[I 2024-02-15 08:04:35,421] Trial 229 finished with value: 17.70350895002749 and parameters: {'thres_for_max': 0.5, 'thres_for_mean': 0.8999999999999999}. Best is trial 17 with value: 20.345378790908132.\n"
     ]
    },
    {
     "name": "stderr",
     "output_type": "stream",
     "text": [
      "Best trial: 17. Best value: 20.3454:  92%|█████████▏| 231/250 [29:52<02:27,  7.76s/it]"
     ]
    },
    {
     "name": "stdout",
     "output_type": "stream",
     "text": [
      "1758\n",
      "[I 2024-02-15 08:04:43,118] Trial 230 finished with value: 18.490354886928678 and parameters: {'thres_for_max': 0.49, 'thres_for_mean': 0.8700000000000001}. Best is trial 17 with value: 20.345378790908132.\n"
     ]
    },
    {
     "name": "stderr",
     "output_type": "stream",
     "text": [
      "Best trial: 17. Best value: 20.3454:  93%|█████████▎| 232/250 [30:00<02:19,  7.72s/it]"
     ]
    },
    {
     "name": "stdout",
     "output_type": "stream",
     "text": [
      "1739\n",
      "[I 2024-02-15 08:04:50,760] Trial 231 finished with value: 20.345378790908132 and parameters: {'thres_for_max': 0.51, 'thres_for_mean': 0.8899999999999999}. Best is trial 17 with value: 20.345378790908132.\n"
     ]
    },
    {
     "name": "stderr",
     "output_type": "stream",
     "text": [
      "Best trial: 17. Best value: 20.3454:  93%|█████████▎| 233/250 [30:08<02:11,  7.76s/it]"
     ]
    },
    {
     "name": "stdout",
     "output_type": "stream",
     "text": [
      "1739\n",
      "[I 2024-02-15 08:04:58,604] Trial 232 finished with value: 20.345378790908132 and parameters: {'thres_for_max': 0.51, 'thres_for_mean': 0.8899999999999999}. Best is trial 17 with value: 20.345378790908132.\n"
     ]
    },
    {
     "name": "stderr",
     "output_type": "stream",
     "text": [
      "Best trial: 17. Best value: 20.3454:  94%|█████████▎| 234/250 [30:16<02:03,  7.75s/it]"
     ]
    },
    {
     "name": "stdout",
     "output_type": "stream",
     "text": [
      "1726\n",
      "[I 2024-02-15 08:05:06,321] Trial 233 finished with value: 19.775764822308265 and parameters: {'thres_for_max': 0.52, 'thres_for_mean': 0.8899999999999999}. Best is trial 17 with value: 20.345378790908132.\n"
     ]
    },
    {
     "name": "stderr",
     "output_type": "stream",
     "text": [
      "Best trial: 17. Best value: 20.3454:  94%|█████████▍| 235/250 [30:23<01:56,  7.74s/it]"
     ]
    },
    {
     "name": "stdout",
     "output_type": "stream",
     "text": [
      "1698\n",
      "[I 2024-02-15 08:05:14,046] Trial 234 finished with value: 18.55400630438965 and parameters: {'thres_for_max': 0.54, 'thres_for_mean': 0.8700000000000001}. Best is trial 17 with value: 20.345378790908132.\n"
     ]
    },
    {
     "name": "stderr",
     "output_type": "stream",
     "text": [
      "Best trial: 17. Best value: 20.3454:  94%|█████████▍| 236/250 [30:31<01:48,  7.77s/it]"
     ]
    },
    {
     "name": "stdout",
     "output_type": "stream",
     "text": [
      "1748\n",
      "[I 2024-02-15 08:05:21,881] Trial 235 finished with value: 17.66071553034382 and parameters: {'thres_for_max': 0.5, 'thres_for_mean': 0.8799999999999999}. Best is trial 17 with value: 20.345378790908132.\n"
     ]
    },
    {
     "name": "stderr",
     "output_type": "stream",
     "text": [
      "Best trial: 17. Best value: 20.3454:  95%|█████████▍| 237/250 [30:39<01:40,  7.75s/it]"
     ]
    },
    {
     "name": "stdout",
     "output_type": "stream",
     "text": [
      "1710\n",
      "[I 2024-02-15 08:05:29,574] Trial 236 finished with value: 18.754856805604202 and parameters: {'thres_for_max': 0.53, 'thres_for_mean': 0.8899999999999999}. Best is trial 17 with value: 20.345378790908132.\n"
     ]
    },
    {
     "name": "stderr",
     "output_type": "stream",
     "text": [
      "Best trial: 17. Best value: 20.3454:  95%|█████████▌| 238/250 [30:47<01:32,  7.74s/it]"
     ]
    },
    {
     "name": "stdout",
     "output_type": "stream",
     "text": [
      "1739\n",
      "[I 2024-02-15 08:05:37,296] Trial 237 finished with value: 19.94904793435343 and parameters: {'thres_for_max': 0.51, 'thres_for_mean': 0.8600000000000001}. Best is trial 17 with value: 20.345378790908132.\n"
     ]
    },
    {
     "name": "stderr",
     "output_type": "stream",
     "text": [
      "Best trial: 17. Best value: 20.3454:  96%|█████████▌| 239/250 [30:54<01:25,  7.75s/it]"
     ]
    },
    {
     "name": "stdout",
     "output_type": "stream",
     "text": [
      "1771\n",
      "[I 2024-02-15 08:05:45,086] Trial 238 finished with value: 17.95148649729199 and parameters: {'thres_for_max': 0.48, 'thres_for_mean': 0.8799999999999999}. Best is trial 17 with value: 20.345378790908132.\n"
     ]
    },
    {
     "name": "stderr",
     "output_type": "stream",
     "text": [
      "Best trial: 17. Best value: 20.3454:  96%|█████████▌| 240/250 [31:02<01:17,  7.73s/it]"
     ]
    },
    {
     "name": "stdout",
     "output_type": "stream",
     "text": [
      "1726\n",
      "[I 2024-02-15 08:05:52,773] Trial 239 finished with value: 19.775764822308265 and parameters: {'thres_for_max': 0.52, 'thres_for_mean': 0.8899999999999999}. Best is trial 17 with value: 20.345378790908132.\n"
     ]
    },
    {
     "name": "stderr",
     "output_type": "stream",
     "text": [
      "Best trial: 17. Best value: 20.3454:  96%|█████████▋| 241/250 [31:10<01:09,  7.73s/it]"
     ]
    },
    {
     "name": "stdout",
     "output_type": "stream",
     "text": [
      "1758\n",
      "[I 2024-02-15 08:06:00,494] Trial 240 finished with value: 18.490354886928678 and parameters: {'thres_for_max': 0.49, 'thres_for_mean': 0.8700000000000001}. Best is trial 17 with value: 20.345378790908132.\n"
     ]
    },
    {
     "name": "stderr",
     "output_type": "stream",
     "text": [
      "Best trial: 17. Best value: 20.3454:  97%|█████████▋| 242/250 [31:18<01:02,  7.76s/it]"
     ]
    },
    {
     "name": "stdout",
     "output_type": "stream",
     "text": [
      "1739\n",
      "[I 2024-02-15 08:06:08,324] Trial 241 finished with value: 19.97058381364566 and parameters: {'thres_for_max': 0.51, 'thres_for_mean': 0.8999999999999999}. Best is trial 17 with value: 20.345378790908132.\n"
     ]
    },
    {
     "name": "stderr",
     "output_type": "stream",
     "text": [
      "Best trial: 17. Best value: 20.3454:  97%|█████████▋| 243/250 [31:25<00:54,  7.76s/it]"
     ]
    },
    {
     "name": "stdout",
     "output_type": "stream",
     "text": [
      "1739\n",
      "[I 2024-02-15 08:06:16,077] Trial 242 finished with value: 19.97058381364566 and parameters: {'thres_for_max': 0.51, 'thres_for_mean': 0.8999999999999999}. Best is trial 17 with value: 20.345378790908132.\n"
     ]
    },
    {
     "name": "stderr",
     "output_type": "stream",
     "text": [
      "Best trial: 17. Best value: 20.3454:  98%|█████████▊| 244/250 [31:33<00:46,  7.71s/it]"
     ]
    },
    {
     "name": "stdout",
     "output_type": "stream",
     "text": [
      "779\n",
      "[I 2024-02-15 08:06:23,678] Trial 243 finished with value: 12.901325872458608 and parameters: {'thres_for_max': 0.8300000000000001, 'thres_for_mean': 0.8899999999999999}. Best is trial 17 with value: 20.345378790908132.\n"
     ]
    },
    {
     "name": "stderr",
     "output_type": "stream",
     "text": [
      "Best trial: 17. Best value: 20.3454:  98%|█████████▊| 245/250 [31:41<00:38,  7.73s/it]"
     ]
    },
    {
     "name": "stdout",
     "output_type": "stream",
     "text": [
      "1748\n",
      "[I 2024-02-15 08:06:31,441] Trial 244 finished with value: 17.70350895002749 and parameters: {'thres_for_max': 0.5, 'thres_for_mean': 0.8999999999999999}. Best is trial 17 with value: 20.345378790908132.\n"
     ]
    },
    {
     "name": "stderr",
     "output_type": "stream",
     "text": [
      "Best trial: 17. Best value: 20.3454:  98%|█████████▊| 246/250 [31:48<00:30,  7.72s/it]"
     ]
    },
    {
     "name": "stdout",
     "output_type": "stream",
     "text": [
      "1726\n",
      "[I 2024-02-15 08:06:39,145] Trial 245 finished with value: 19.364533244670813 and parameters: {'thres_for_max': 0.52, 'thres_for_mean': 0.8799999999999999}. Best is trial 17 with value: 20.345378790908132.\n"
     ]
    },
    {
     "name": "stderr",
     "output_type": "stream",
     "text": [
      "Best trial: 17. Best value: 20.3454:  99%|█████████▉| 247/250 [31:56<00:23,  7.72s/it]"
     ]
    },
    {
     "name": "stdout",
     "output_type": "stream",
     "text": [
      "1748\n",
      "[I 2024-02-15 08:06:46,861] Trial 246 finished with value: 17.720841309255484 and parameters: {'thres_for_max': 0.5, 'thres_for_mean': 0.8700000000000001}. Best is trial 17 with value: 20.345378790908132.\n"
     ]
    },
    {
     "name": "stderr",
     "output_type": "stream",
     "text": [
      "Best trial: 17. Best value: 20.3454:  99%|█████████▉| 248/250 [32:04<00:15,  7.73s/it]"
     ]
    },
    {
     "name": "stdout",
     "output_type": "stream",
     "text": [
      "1710\n",
      "[I 2024-02-15 08:06:54,608] Trial 247 finished with value: 18.754856805604202 and parameters: {'thres_for_max': 0.53, 'thres_for_mean': 0.8899999999999999}. Best is trial 17 with value: 20.345378790908132.\n"
     ]
    },
    {
     "name": "stderr",
     "output_type": "stream",
     "text": [
      "Best trial: 17. Best value: 20.3454: 100%|█████████▉| 249/250 [32:12<00:07,  7.74s/it]"
     ]
    },
    {
     "name": "stdout",
     "output_type": "stream",
     "text": [
      "1739\n",
      "[I 2024-02-15 08:07:02,378] Trial 248 finished with value: 19.97058381364566 and parameters: {'thres_for_max': 0.51, 'thres_for_mean': 0.8999999999999999}. Best is trial 17 with value: 20.345378790908132.\n"
     ]
    },
    {
     "name": "stderr",
     "output_type": "stream",
     "text": [
      "Best trial: 17. Best value: 20.3454: 100%|██████████| 250/250 [32:20<00:00,  7.76s/it]"
     ]
    },
    {
     "name": "stdout",
     "output_type": "stream",
     "text": [
      "1698\n",
      "[I 2024-02-15 08:07:10,196] Trial 249 finished with value: 18.515870344366252 and parameters: {'thres_for_max': 0.54, 'thres_for_mean': 0.8600000000000001}. Best is trial 17 with value: 20.345378790908132.\n"
     ]
    },
    {
     "name": "stderr",
     "output_type": "stream",
     "text": [
      "\n"
     ]
    }
   ],
   "source": [
    "for rtn_n in ['rtn_3', 'rtn_4', 'rtn_5']:\n",
    "    for tf in [True, False]:\n",
    "\n",
    "        type_str = 'fixed' if tf else 'float'\n",
    "\n",
    "        df_with_proba = pd.read_pickle(f\"df_oos_with_proba_{type_str}_{rtn_n}.pkl\")\n",
    "        run_optuna(f\"best_combi_of_thres_{type_str}_{rtn_n}\", df_with_proba, rtn_n)"
   ]
  },
  {
   "cell_type": "code",
   "execution_count": 9,
   "metadata": {},
   "outputs": [],
   "source": [
    "def get_df_rtn_result(df_with_proba, thres_for_max, thres_for_mean, rtn):\n",
    "    l_rtn_p = []\n",
    "\n",
    "    n = int(rtn.split('_')[1])+1\n",
    "\n",
    "    for date in dates:\n",
    "\n",
    "        df_ = df_with_proba.loc[lambda df : df.date >= date[2]].loc[lambda df : df.date < date[3]]\n",
    "\n",
    "\n",
    "        df1 = (\n",
    "            df_\n",
    "            .loc[lambda df : df['proba_max'] > thres_for_max]\n",
    "            .sort_values('proba_max', ascending=False)\n",
    "            .groupby('date')\n",
    "            .head(3)\n",
    "            .reset_index()\n",
    "        )\n",
    "\n",
    "        df2 = (\n",
    "            df_\n",
    "            .loc[lambda df : df['proba_max'] > thres_for_max]\n",
    "            .sort_values('proba_mean', ascending=False)\n",
    "            .groupby('date')\n",
    "            .head(3)\n",
    "            .reset_index()\n",
    "        )\n",
    "\n",
    "        df3 = (\n",
    "            df_\n",
    "            .loc[lambda df : df['proba_mean'] > thres_for_mean]\n",
    "            .sort_values('proba_max', ascending=False)\n",
    "            .groupby('date')\n",
    "            .head(3)\n",
    "            .reset_index()\n",
    "        )\n",
    "\n",
    "        df4 = (\n",
    "            df_\n",
    "            .loc[lambda df : df['proba_mean'] > thres_for_mean]\n",
    "            .sort_values('proba_mean', ascending=False)\n",
    "            .groupby('date')\n",
    "            .head(3)\n",
    "            .reset_index()\n",
    "        )\n",
    "\n",
    "        sr = (\n",
    "            pd.concat([df1, df2, df3, df4]).drop_duplicates(subset=['date','code']) #df1, df2, \n",
    "            .groupby('date')[rtn]\n",
    "            .mean()\n",
    "            -0.0023\n",
    "        )\n",
    "\n",
    "        l_rtn_p.append(\n",
    "            {\n",
    "                'date' : date[3],\n",
    "                'rtn_p' : (sr/n).sum(),\n",
    "                'days' : pd.concat([df1, df2, df3, df4]).drop_duplicates(subset=['date','code'])['date'].unique().__len__()\n",
    "            }        \n",
    "        )\n",
    "\n",
    "    return (\n",
    "        pd.DataFrame(l_rtn_p)\n",
    "        .set_index('date')\n",
    "        ['rtn_p']\n",
    "    )"
   ]
  },
  {
   "cell_type": "code",
   "execution_count": 10,
   "metadata": {},
   "outputs": [],
   "source": [
    "from scipy import stats"
   ]
  },
  {
   "cell_type": "code",
   "execution_count": 11,
   "metadata": {},
   "outputs": [],
   "source": [
    "def get_rsquare(df_with_proba, rtn, row):\n",
    "    \n",
    "    sr_final = get_df_rtn_result(df_with_proba, row.thres_for_max, row.thres_for_mean, rtn)\n",
    "\n",
    "    x = sr_final.cumsum()\n",
    "    y = range(0, len(x))\n",
    "\n",
    "    slope, intercept, r_value, p_value, std_err = stats.linregress(x, y)\n",
    "\n",
    "    print(f\"R-squared: {r_value**2}\")\n",
    "    return r_value**2"
   ]
  },
  {
   "cell_type": "markdown",
   "metadata": {},
   "source": [
    "#### Add R-Squared"
   ]
  },
  {
   "cell_type": "code",
   "execution_count": 14,
   "metadata": {},
   "outputs": [
    {
     "name": "stdout",
     "output_type": "stream",
     "text": [
      "R-squared: 0.985067427504975\n",
      "R-squared: 0.984798108413385\n",
      "R-squared: 0.984981256311024\n",
      "R-squared: 0.9847080912539343\n",
      "R-squared: 0.9845946094907247\n",
      "R-squared: 0.9848633217506\n",
      "R-squared: 0.984588497016251\n",
      "R-squared: 0.9843805015635497\n",
      "R-squared: 0.9844302897037166\n",
      "R-squared: 0.9840598945765093\n",
      "R-squared: 0.9844495445629887\n",
      "R-squared: 0.9844650896764864\n",
      "R-squared: 0.9841427640142376\n",
      "R-squared: 0.9857310239214223\n",
      "R-squared: 0.9844345291740302\n",
      "R-squared: 0.9842557188027857\n",
      "R-squared: 0.9858814133649335\n",
      "R-squared: 0.9841305280902346\n",
      "R-squared: 0.9839403194542802\n",
      "R-squared: 0.9856464709550237\n",
      "R-squared: 0.9840914407504221\n",
      "R-squared: 0.9844106371429298\n",
      "R-squared: 0.9842697556161553\n",
      "R-squared: 0.9842807826288955\n",
      "R-squared: 0.9855298451287708\n",
      "R-squared: 0.9839615697341503\n",
      "R-squared: 0.9843042020905451\n",
      "R-squared: 0.9839738880292385\n",
      "R-squared: 0.9850518260299128\n",
      "R-squared: 0.984354653564354\n",
      "R-squared: 0.9854024132344584\n",
      "R-squared: 0.9840566608957383\n",
      "R-squared: 0.9839467443899118\n",
      "R-squared: 0.9849616783508386\n",
      "R-squared: 0.9853539346193715\n",
      "R-squared: 0.9848851347626083\n",
      "R-squared: 0.9848980433149231\n",
      "R-squared: 0.985362836972771\n",
      "R-squared: 0.9851417031684907\n",
      "R-squared: 0.9848411809090788\n",
      "R-squared: 0.9853404315867876\n",
      "R-squared: 0.9853843757858194\n",
      "R-squared: 0.984061745356982\n",
      "R-squared: 0.9855882649945226\n",
      "R-squared: 0.9843843248672896\n",
      "R-squared: 0.985051373580233\n",
      "R-squared: 0.9843831423823896\n",
      "R-squared: 0.9841561290246646\n",
      "R-squared: 0.9849955533534509\n",
      "R-squared: 0.9842192043256092\n",
      "R-squared: 0.984252251457958\n",
      "R-squared: 0.9849391710930737\n",
      "R-squared: 0.984304607434987\n",
      "R-squared: 0.9849525260713023\n",
      "R-squared: 0.9838184810398178\n",
      "R-squared: 0.9837304665817747\n",
      "R-squared: 0.9843252968420706\n",
      "R-squared: 0.9846531351197699\n",
      "R-squared: 0.9849793183881101\n",
      "R-squared: 0.9845637881035848\n",
      "R-squared: 0.9848002656142306\n",
      "R-squared: 0.9847923609145995\n",
      "R-squared: 0.9828868584466117\n",
      "R-squared: 0.9844448779765784\n",
      "R-squared: 0.9839961345770565\n",
      "R-squared: 0.9840313757571831\n",
      "R-squared: 0.9839902829660349\n",
      "R-squared: 0.9838285063914283\n",
      "R-squared: 0.9842021150467909\n",
      "R-squared: 0.9838565974564952\n",
      "R-squared: 0.9839108206526866\n",
      "R-squared: 0.9844635612710331\n",
      "R-squared: 0.984371117722145\n",
      "R-squared: 0.983963280481537\n",
      "R-squared: 0.9832532082887143\n",
      "R-squared: 0.9842493601666648\n",
      "R-squared: 0.9837873098165797\n",
      "R-squared: 0.9840315949954481\n",
      "R-squared: 0.983789735785928\n",
      "R-squared: 0.9831263584615486\n",
      "R-squared: 0.9836220392980001\n",
      "R-squared: 0.983650924254738\n",
      "R-squared: 0.98370687760692\n",
      "R-squared: 0.983766821133864\n",
      "R-squared: 0.9834333361640258\n",
      "R-squared: 0.9833785979072172\n",
      "R-squared: 0.9832054026594078\n",
      "R-squared: 0.9832036226252318\n",
      "R-squared: 0.9833082467184688\n",
      "R-squared: 0.9863236821161686\n",
      "R-squared: 0.9862116836160489\n",
      "R-squared: 0.9857450109586012\n",
      "R-squared: 0.9857376426742099\n",
      "R-squared: 0.9856156527793434\n",
      "R-squared: 0.9744373781432362\n",
      "R-squared: 0.98568738548785\n",
      "R-squared: 0.9768384389066705\n",
      "R-squared: 0.9689542648194928\n",
      "R-squared: 0.9767354048922062\n",
      "R-squared: 0.9582477227524934\n",
      "R-squared: 0.9915603349760184\n",
      "R-squared: 0.9895860430674335\n",
      "R-squared: 0.9813827181390903\n",
      "R-squared: 0.9918966471829028\n",
      "R-squared: 0.9917528624632431\n",
      "R-squared: 0.9917040473110782\n",
      "R-squared: 0.9918870987528714\n",
      "R-squared: 0.9918447636240265\n",
      "R-squared: 0.9901446228401937\n",
      "R-squared: 0.991724404909925\n",
      "R-squared: 0.9913533689812593\n",
      "R-squared: 0.9824645313507184\n",
      "R-squared: 0.9915896005874799\n",
      "R-squared: 0.9918124811687901\n",
      "R-squared: 0.9897441190419864\n",
      "R-squared: 0.9899230621594083\n",
      "R-squared: 0.9898945200079184\n",
      "R-squared: 0.9819991955428495\n",
      "R-squared: 0.9917629466202277\n",
      "R-squared: 0.9897754223806258\n",
      "R-squared: 0.981861882112965\n",
      "R-squared: 0.982137685602233\n",
      "R-squared: 0.9820080944563259\n",
      "R-squared: 0.9916247447454966\n",
      "R-squared: 0.9914963392459237\n",
      "R-squared: 0.9816784635185308\n",
      "R-squared: 0.9915527671305506\n",
      "R-squared: 0.9916775601095411\n",
      "R-squared: 0.9916766918316506\n",
      "R-squared: 0.9910962546098425\n",
      "R-squared: 0.9814133486768755\n",
      "R-squared: 0.9913839845696414\n",
      "R-squared: 0.9914869617906421\n",
      "R-squared: 0.9885995111261314\n",
      "R-squared: 0.981532454101486\n",
      "R-squared: 0.9915741391029258\n",
      "R-squared: 0.9896073115689016\n",
      "R-squared: 0.9889712300481965\n",
      "R-squared: 0.9887314252086877\n",
      "R-squared: 0.9918070739465896\n",
      "R-squared: 0.983563888617435\n",
      "R-squared: 0.9888716913857809\n",
      "R-squared: 0.9909541918845659\n",
      "R-squared: 0.9890620427180579\n",
      "R-squared: 0.989618945364153\n",
      "R-squared: 0.9819390437206788\n",
      "R-squared: 0.9841130954538695\n",
      "R-squared: 0.9847368743900815\n",
      "R-squared: 0.9919750763446107\n",
      "R-squared: 0.9889344050318083\n",
      "R-squared: 0.9898562060038332\n",
      "R-squared: 0.9900103225988655\n",
      "R-squared: 0.9897311536196345\n",
      "R-squared: 0.9886761128180748\n",
      "R-squared: 0.9851631295381656\n",
      "R-squared: 0.9898813061858396\n",
      "R-squared: 0.9904356512063369\n",
      "R-squared: 0.9897718473829528\n",
      "R-squared: 0.9921128801444364\n",
      "R-squared: 0.991919586889235\n",
      "R-squared: 0.9921102000888882\n",
      "R-squared: 0.9845274213718432\n",
      "R-squared: 0.9899261440957994\n",
      "R-squared: 0.9920568309713784\n",
      "R-squared: 0.9898690302751298\n",
      "R-squared: 0.9897386923289072\n",
      "R-squared: 0.9924225755208091\n",
      "R-squared: 0.98956894558265\n",
      "R-squared: 0.9883038870526192\n",
      "R-squared: 0.984747499190613\n",
      "R-squared: 0.9905030925533382\n",
      "R-squared: 0.9899515813554997\n",
      "R-squared: 0.9852603737552421\n",
      "R-squared: 0.9898229381346942\n",
      "R-squared: 0.9920429659959817\n",
      "R-squared: 0.9911269733254727\n",
      "R-squared: 0.9896101525336086\n",
      "R-squared: 0.9920171333587253\n",
      "R-squared: 0.9840582397858091\n",
      "R-squared: 0.9907613304801521\n",
      "R-squared: 0.9908278287011386\n",
      "R-squared: 0.9841991887078483\n",
      "R-squared: 0.983015911655055\n",
      "R-squared: 0.9884055038155058\n",
      "R-squared: 0.9822260244263764\n",
      "R-squared: 0.9900878972077651\n",
      "R-squared: 0.9907012112180481\n",
      "R-squared: 0.9906368311163187\n",
      "R-squared: 0.9840299511033799\n",
      "R-squared: 0.9906479472545171\n",
      "R-squared: 0.9908077453432867\n",
      "R-squared: 0.9891897859297253\n",
      "R-squared: 0.9890896521911213\n",
      "R-squared: 0.9906748135355642\n",
      "R-squared: 0.9844322646602148\n",
      "R-squared: 0.9908771940107535\n",
      "R-squared: 0.987978950337182\n",
      "R-squared: 0.9828050004806357\n",
      "R-squared: 0.9901502126258975\n",
      "R-squared: 0.9909955768204401\n"
     ]
    }
   ],
   "source": [
    "typeStr = None\n",
    "\n",
    "for useFixed in [False]: #, False\n",
    "    if useFixed:\n",
    "        typeStr = 'fixed'\n",
    "    else :\n",
    "        typeStr = 'float'\n",
    "\n",
    "    for rtn in ['rtn_4','rtn_5']:\n",
    "        df_with_proba = pd.read_pickle(f\"df_oos_with_proba_{typeStr}_{rtn}.pkl\")\n",
    "        df_study_result = pd.read_pickle(f\"study_result_20240214_best_combi_of_thres_{typeStr}_{rtn}.pkl\")\n",
    "\n",
    "        df_study_result = df_study_result.drop_duplicates(subset=['thres_for_max','thres_for_mean']).sort_values(\"value\", ascending=False).head(100)\n",
    "\n",
    "        df_study_result['r_square'] = df_study_result.apply(lambda row : get_rsquare(df_with_proba, rtn, row), axis=1 )\n",
    "\n",
    "        \n",
    "        df_study_result.to_pickle(f\"study_result_add_r2_{typeStr}_{rtn}.pkl\")\n",
    "        "
   ]
  },
  {
   "cell_type": "markdown",
   "metadata": {},
   "source": [
    "#### Get Bset R2 Results"
   ]
  },
  {
   "cell_type": "code",
   "execution_count": 25,
   "metadata": {},
   "outputs": [
    {
     "name": "stdout",
     "output_type": "stream",
     "text": [
      "rtn_3_fixed\n",
      "     number      value             datetime_start          datetime_complete  \\\n",
      "230     230  14.149911 2024-02-15 05:20:33.137309 2024-02-15 05:20:40.877201   \n",
      "\n",
      "                  duration  thres_for_max  thres_for_mean     state  r_square  \n",
      "230 0 days 00:00:07.739892           0.53             0.4  COMPLETE  0.986495  \n",
      "\n",
      "\n",
      "rtn_4_fixed\n",
      "    number      value             datetime_start          datetime_complete  \\\n",
      "30      30  22.543772 2024-02-15 06:00:41.326107 2024-02-15 06:00:49.022705   \n",
      "\n",
      "                 duration  thres_for_max  thres_for_mean     state  r_square  \n",
      "30 0 days 00:00:07.696598           0.53            0.35  COMPLETE  0.987656  \n",
      "\n",
      "\n",
      "rtn_5_fixed\n",
      "     number      value             datetime_start          datetime_complete  \\\n",
      "106     106  22.785744 2024-02-15 07:15:44.283836 2024-02-15 07:15:52.124981   \n",
      "\n",
      "                  duration  thres_for_max  thres_for_mean     state  r_square  \n",
      "106 0 days 00:00:07.841145           0.35            0.48  COMPLETE  0.990058  \n",
      "\n",
      "\n",
      "rtn_3_float\n",
      "     number      value             datetime_start          datetime_complete  \\\n",
      "202     202  15.409691 2024-02-15 05:50:29.584151 2024-02-15 05:50:37.576046   \n",
      "\n",
      "                  duration  thres_for_max  thres_for_mean     state  r_square  \n",
      "202 0 days 00:00:07.991895            0.3            0.36  COMPLETE  0.990575  \n",
      "\n",
      "\n",
      "rtn_4_float\n",
      "     number      value             datetime_start          datetime_complete  \\\n",
      "115     115  10.291643 2024-02-15 06:44:10.341033 2024-02-15 06:44:18.136670   \n",
      "\n",
      "                  duration  thres_for_max  thres_for_mean     state  r_square  \n",
      "115 0 days 00:00:07.795637           0.39            0.87  COMPLETE  0.986324  \n",
      "\n",
      "\n",
      "rtn_5_float\n",
      "     number      value             datetime_start          datetime_complete  \\\n",
      "124     124  18.407715 2024-02-15 07:50:53.348107 2024-02-15 07:51:01.158774   \n",
      "\n",
      "                  duration  thres_for_max  thres_for_mean     state  r_square  \n",
      "124 0 days 00:00:07.810667           0.49            0.68  COMPLETE  0.992423  \n",
      "\n",
      "\n"
     ]
    }
   ],
   "source": [
    "l_result = []\n",
    "\n",
    "for typeStr in ['fixed', 'float']:\n",
    "\n",
    "    for rtn in ['rtn_3', 'rtn_4', 'rtn_5']:\n",
    "\n",
    "        print(f\"{rtn}_{typeStr}\")\n",
    "        df_with_proba = pd.read_pickle(f\"df_oos_with_proba_{typeStr}_{rtn}.pkl\")\n",
    "        df_study_result_with_rs = pd.read_pickle(f\"study_result_add_r2_{typeStr}_{rtn}.pkl\")\n",
    "\n",
    "        max_row = df_study_result_with_rs.sort_values('r_square', ascending=False).head(1)\n",
    "        print(max_row)\n",
    "        thres_for_max = max_row['thres_for_max'].iloc[0]\n",
    "        thres_for_mean = max_row['thres_for_mean'].iloc[0]\n",
    "\n",
    "        sr_final = get_df_rtn_result(df_with_proba, thres_for_max, thres_for_mean, rtn)\n",
    "        sr_final.name = f\"{rtn}_{typeStr}\"\n",
    "        \n",
    "        l_result.append(\n",
    "            sr_final.rename({'rtn_p': f\"{rtn}_{typeStr}\"})\n",
    "        )\n",
    "        print('\\n')"
   ]
  },
  {
   "cell_type": "code",
   "execution_count": 16,
   "metadata": {},
   "outputs": [],
   "source": [
    "df_result_opt = pd.concat(l_result, axis=1)"
   ]
  },
  {
   "cell_type": "markdown",
   "metadata": {},
   "source": [
    "#### Final Result Summary\n",
    "- Set All to 'fixed'\n",
    "- rtn_3 : thres_for_max 0.53 / thres_for_mean 0.4 / value 14.149\n",
    "- rtn_4 : thres_for_max 0.53 / thres_for_mean 0.35 / value 22.543\n",
    "- rtn_5 : thres_for_max 0.35 / thres_for_mean 0.48 / value 22.785"
   ]
  },
  {
   "cell_type": "code",
   "execution_count": 17,
   "metadata": {},
   "outputs": [
    {
     "data": {
      "text/html": [
       "<div>\n",
       "<style scoped>\n",
       "    .dataframe tbody tr th:only-of-type {\n",
       "        vertical-align: middle;\n",
       "    }\n",
       "\n",
       "    .dataframe tbody tr th {\n",
       "        vertical-align: top;\n",
       "    }\n",
       "\n",
       "    .dataframe thead th {\n",
       "        text-align: right;\n",
       "    }\n",
       "</style>\n",
       "<table border=\"1\" class=\"dataframe\">\n",
       "  <thead>\n",
       "    <tr style=\"text-align: right;\">\n",
       "      <th></th>\n",
       "      <th>rtn_3_fixed</th>\n",
       "      <th>rtn_4_fixed</th>\n",
       "      <th>rtn_5_fixed</th>\n",
       "      <th>rtn_3_float</th>\n",
       "      <th>rtn_4_float</th>\n",
       "      <th>rtn_5_float</th>\n",
       "    </tr>\n",
       "    <tr>\n",
       "      <th>date</th>\n",
       "      <th></th>\n",
       "      <th></th>\n",
       "      <th></th>\n",
       "      <th></th>\n",
       "      <th></th>\n",
       "      <th></th>\n",
       "    </tr>\n",
       "  </thead>\n",
       "  <tbody>\n",
       "    <tr>\n",
       "      <th>2015-11-26</th>\n",
       "      <td>0.005756</td>\n",
       "      <td>0.030931</td>\n",
       "      <td>-0.015691</td>\n",
       "      <td>0.020728</td>\n",
       "      <td>0.025248</td>\n",
       "      <td>-0.003739</td>\n",
       "    </tr>\n",
       "    <tr>\n",
       "      <th>2015-12-23</th>\n",
       "      <td>0.009926</td>\n",
       "      <td>-0.001050</td>\n",
       "      <td>0.052341</td>\n",
       "      <td>-0.018486</td>\n",
       "      <td>-0.012281</td>\n",
       "      <td>0.009028</td>\n",
       "    </tr>\n",
       "    <tr>\n",
       "      <th>2016-01-22</th>\n",
       "      <td>-0.024512</td>\n",
       "      <td>0.012826</td>\n",
       "      <td>-0.073652</td>\n",
       "      <td>0.046095</td>\n",
       "      <td>0.004734</td>\n",
       "      <td>-0.092696</td>\n",
       "    </tr>\n",
       "    <tr>\n",
       "      <th>2016-02-23</th>\n",
       "      <td>0.084539</td>\n",
       "      <td>0.148932</td>\n",
       "      <td>0.159276</td>\n",
       "      <td>0.115318</td>\n",
       "      <td>0.126354</td>\n",
       "      <td>0.101664</td>\n",
       "    </tr>\n",
       "    <tr>\n",
       "      <th>2016-03-22</th>\n",
       "      <td>0.068666</td>\n",
       "      <td>0.063661</td>\n",
       "      <td>0.042678</td>\n",
       "      <td>0.081200</td>\n",
       "      <td>0.037448</td>\n",
       "      <td>0.067132</td>\n",
       "    </tr>\n",
       "  </tbody>\n",
       "</table>\n",
       "</div>"
      ],
      "text/plain": [
       "            rtn_3_fixed  rtn_4_fixed  rtn_5_fixed  rtn_3_float  rtn_4_float  \\\n",
       "date                                                                          \n",
       "2015-11-26     0.005756     0.030931    -0.015691     0.020728     0.025248   \n",
       "2015-12-23     0.009926    -0.001050     0.052341    -0.018486    -0.012281   \n",
       "2016-01-22    -0.024512     0.012826    -0.073652     0.046095     0.004734   \n",
       "2016-02-23     0.084539     0.148932     0.159276     0.115318     0.126354   \n",
       "2016-03-22     0.068666     0.063661     0.042678     0.081200     0.037448   \n",
       "\n",
       "            rtn_5_float  \n",
       "date                     \n",
       "2015-11-26    -0.003739  \n",
       "2015-12-23     0.009028  \n",
       "2016-01-22    -0.092696  \n",
       "2016-02-23     0.101664  \n",
       "2016-03-22     0.067132  "
      ]
     },
     "execution_count": 17,
     "metadata": {},
     "output_type": "execute_result"
    }
   ],
   "source": [
    "df_result_opt.head()"
   ]
  },
  {
   "cell_type": "code",
   "execution_count": 20,
   "metadata": {},
   "outputs": [],
   "source": [
    "df_result_opt.to_pickle(\"df_oos_opt_result_applied.pkl\")"
   ]
  },
  {
   "cell_type": "code",
   "execution_count": 28,
   "metadata": {},
   "outputs": [
    {
     "ename": "ValueError",
     "evalue": "Mime type rendering requires nbformat>=4.2.0 but it is not installed",
     "output_type": "error",
     "traceback": [
      "\u001b[1;31m---------------------------------------------------------------------------\u001b[0m",
      "\u001b[1;31mValueError\u001b[0m                                Traceback (most recent call last)",
      "File \u001b[1;32mc:\\Users\\stop2\\Documents\\Codes\\01_Axolotls_Investment\\invest-models\\venv\\Lib\\site-packages\\IPython\\core\\formatters.py:922\u001b[0m, in \u001b[0;36mIPythonDisplayFormatter.__call__\u001b[1;34m(self, obj)\u001b[0m\n\u001b[0;32m    920\u001b[0m method \u001b[38;5;241m=\u001b[39m get_real_method(obj, \u001b[38;5;28mself\u001b[39m\u001b[38;5;241m.\u001b[39mprint_method)\n\u001b[0;32m    921\u001b[0m \u001b[38;5;28;01mif\u001b[39;00m method \u001b[38;5;129;01mis\u001b[39;00m \u001b[38;5;129;01mnot\u001b[39;00m \u001b[38;5;28;01mNone\u001b[39;00m:\n\u001b[1;32m--> 922\u001b[0m     \u001b[43mmethod\u001b[49m\u001b[43m(\u001b[49m\u001b[43m)\u001b[49m\n\u001b[0;32m    923\u001b[0m     \u001b[38;5;28;01mreturn\u001b[39;00m \u001b[38;5;28;01mTrue\u001b[39;00m\n",
      "File \u001b[1;32mc:\\Users\\stop2\\Documents\\Codes\\01_Axolotls_Investment\\invest-models\\venv\\Lib\\site-packages\\plotly\\basedatatypes.py:832\u001b[0m, in \u001b[0;36mBaseFigure._ipython_display_\u001b[1;34m(self)\u001b[0m\n\u001b[0;32m    829\u001b[0m \u001b[38;5;28;01mimport\u001b[39;00m \u001b[38;5;21;01mplotly\u001b[39;00m\u001b[38;5;21;01m.\u001b[39;00m\u001b[38;5;21;01mio\u001b[39;00m \u001b[38;5;28;01mas\u001b[39;00m \u001b[38;5;21;01mpio\u001b[39;00m\n\u001b[0;32m    831\u001b[0m \u001b[38;5;28;01mif\u001b[39;00m pio\u001b[38;5;241m.\u001b[39mrenderers\u001b[38;5;241m.\u001b[39mrender_on_display \u001b[38;5;129;01mand\u001b[39;00m pio\u001b[38;5;241m.\u001b[39mrenderers\u001b[38;5;241m.\u001b[39mdefault:\n\u001b[1;32m--> 832\u001b[0m     \u001b[43mpio\u001b[49m\u001b[38;5;241;43m.\u001b[39;49m\u001b[43mshow\u001b[49m\u001b[43m(\u001b[49m\u001b[38;5;28;43mself\u001b[39;49m\u001b[43m)\u001b[49m\n\u001b[0;32m    833\u001b[0m \u001b[38;5;28;01melse\u001b[39;00m:\n\u001b[0;32m    834\u001b[0m     \u001b[38;5;28mprint\u001b[39m(\u001b[38;5;28mrepr\u001b[39m(\u001b[38;5;28mself\u001b[39m))\n",
      "File \u001b[1;32mc:\\Users\\stop2\\Documents\\Codes\\01_Axolotls_Investment\\invest-models\\venv\\Lib\\site-packages\\plotly\\io\\_renderers.py:394\u001b[0m, in \u001b[0;36mshow\u001b[1;34m(fig, renderer, validate, **kwargs)\u001b[0m\n\u001b[0;32m    389\u001b[0m         \u001b[38;5;28;01mraise\u001b[39;00m \u001b[38;5;167;01mValueError\u001b[39;00m(\n\u001b[0;32m    390\u001b[0m             \u001b[38;5;124m\"\u001b[39m\u001b[38;5;124mMime type rendering requires ipython but it is not installed\u001b[39m\u001b[38;5;124m\"\u001b[39m\n\u001b[0;32m    391\u001b[0m         )\n\u001b[0;32m    393\u001b[0m     \u001b[38;5;28;01mif\u001b[39;00m \u001b[38;5;129;01mnot\u001b[39;00m nbformat \u001b[38;5;129;01mor\u001b[39;00m Version(nbformat\u001b[38;5;241m.\u001b[39m__version__) \u001b[38;5;241m<\u001b[39m Version(\u001b[38;5;124m\"\u001b[39m\u001b[38;5;124m4.2.0\u001b[39m\u001b[38;5;124m\"\u001b[39m):\n\u001b[1;32m--> 394\u001b[0m         \u001b[38;5;28;01mraise\u001b[39;00m \u001b[38;5;167;01mValueError\u001b[39;00m(\n\u001b[0;32m    395\u001b[0m             \u001b[38;5;124m\"\u001b[39m\u001b[38;5;124mMime type rendering requires nbformat>=4.2.0 but it is not installed\u001b[39m\u001b[38;5;124m\"\u001b[39m\n\u001b[0;32m    396\u001b[0m         )\n\u001b[0;32m    398\u001b[0m     ipython_display\u001b[38;5;241m.\u001b[39mdisplay(bundle, raw\u001b[38;5;241m=\u001b[39m\u001b[38;5;28;01mTrue\u001b[39;00m)\n\u001b[0;32m    400\u001b[0m \u001b[38;5;66;03m# external renderers\u001b[39;00m\n",
      "\u001b[1;31mValueError\u001b[0m: Mime type rendering requires nbformat>=4.2.0 but it is not installed"
     ]
    },
    {
     "data": {
      "application/vnd.plotly.v1+json": {
       "config": {
        "plotlyServerURL": "https://plot.ly"
       },
       "data": [
        {
         "hovertemplate": "variable=rtn_5_fixed<br>date=%{x}<br>value=%{y}<extra></extra>",
         "legendgroup": "rtn_5_fixed",
         "marker": {
          "color": "#636efa",
          "symbol": "circle"
         },
         "mode": "markers",
         "name": "rtn_5_fixed",
         "orientation": "v",
         "showlegend": true,
         "type": "scatter",
         "x": [
          "2015-11-26",
          "2015-12-23",
          "2016-01-22",
          "2016-02-23",
          "2016-03-22",
          "2016-04-19",
          "2016-05-18",
          "2016-06-15",
          "2016-07-12",
          "2016-08-08",
          "2016-09-05",
          "2016-10-06",
          "2016-11-02",
          "2016-11-29",
          "2016-12-26",
          "2017-01-23",
          "2017-02-21",
          "2017-03-21",
          "2017-04-17",
          "2017-05-18",
          "2017-06-15",
          "2017-07-12",
          "2017-08-08",
          "2017-09-05",
          "2017-10-10",
          "2017-11-06",
          "2017-12-01",
          "2018-01-02",
          "2018-01-29",
          "2018-02-27",
          "2018-03-27",
          "2018-04-23",
          "2018-05-23",
          "2018-06-21",
          "2018-07-18",
          "2018-08-14",
          "2018-09-11",
          "2018-10-15",
          "2018-11-09",
          "2018-12-06",
          "2019-01-07",
          "2019-02-01",
          "2019-03-06",
          "2019-04-02",
          "2019-04-29",
          "2019-05-28",
          "2019-06-25",
          "2019-07-22",
          "2019-08-19",
          "2019-09-17",
          "2019-10-16",
          "2019-11-12",
          "2019-12-09",
          "2020-01-08",
          "2020-02-06",
          "2020-03-04",
          "2020-03-31",
          "2020-04-28",
          "2020-05-28",
          "2020-06-24",
          "2020-07-21",
          "2020-08-18",
          "2020-09-14",
          "2020-10-15",
          "2020-11-11",
          "2020-12-08",
          "2021-01-07",
          "2021-02-03",
          "2021-03-05",
          "2021-04-01",
          "2021-04-28",
          "2021-05-27",
          "2021-06-23",
          "2021-07-20",
          "2021-08-17",
          "2021-09-13",
          "2021-10-15",
          "2021-11-11",
          "2021-12-08",
          "2022-01-05",
          "2022-02-04",
          "2022-03-04",
          "2022-04-01",
          "2022-04-28",
          "2022-05-26",
          "2022-06-24",
          "2022-07-21",
          "2022-08-18",
          "2022-09-16",
          "2022-10-17",
          "2022-11-11",
          "2022-12-08",
          "2023-01-05",
          "2023-02-03",
          "2023-03-03",
          "2023-03-30",
          "2023-04-26",
          "2023-05-25",
          "2023-06-23",
          "2023-07-20",
          "2023-08-17",
          "2023-09-13",
          "2023-09-19"
         ],
         "xaxis": "x",
         "y": [
          0.984308956478253,
          1.0358288838040042,
          0.9595383480060233,
          1.1123700728156733,
          1.159843910699649,
          1.2507461674904945,
          1.1386462497900984,
          1.2675517601733963,
          1.3172027881753832,
          1.3601689153699463,
          1.3733288162792778,
          1.4534493087712228,
          1.3339917689095966,
          1.418350289344172,
          1.5078051435014932,
          1.5459449621753558,
          1.5192344372580515,
          1.5845772250748698,
          1.6996410325121152,
          1.5942184242218003,
          1.6836262785521596,
          1.7357357172466048,
          1.7302249600625892,
          1.7797188018823176,
          1.7599497765831325,
          1.897187664193035,
          2.078327282130246,
          2.049873484208973,
          2.1440258017539735,
          2.0950283163973626,
          1.9572045805551763,
          2.256371435485191,
          2.5021103769912463,
          2.4268345418170636,
          2.467901992201945,
          2.5845293947237864,
          2.8726865636050536,
          2.460702163342728,
          2.6410071915602393,
          3.037070241644494,
          3.2385627304944427,
          3.5291530402011904,
          3.5801452904830144,
          3.6550021796493244,
          3.7667832519428357,
          3.755781041340117,
          3.9340608423139467,
          3.8287867945655547,
          3.831814756241914,
          4.307594475406866,
          4.585363693177757,
          4.968276820041791,
          5.178703214528293,
          5.398345436657939,
          4.99000227812271,
          4.643132662054629,
          4.146901295531485,
          4.592073549586027,
          4.855773828425266,
          4.789734200622544,
          5.0926697553209,
          5.57367325227925,
          5.749904183309494,
          5.439520251824264,
          5.706222541085224,
          6.076534224279554,
          6.726216987458291,
          6.90224983502081,
          6.44904129157883,
          7.392143601912022,
          8.402920102419888,
          8.974474834880434,
          10.230062737750107,
          10.669770468208512,
          9.904853459486851,
          10.669341514579795,
          10.872660576048311,
          10.226128368240289,
          11.222167860827803,
          11.403907685113397,
          12.071586318299392,
          12.58377678218767,
          12.857048397434813,
          13.138895747783398,
          13.028084867667962,
          11.543528664781176,
          13.057018535912198,
          14.077036445568874,
          13.663017285362185,
          12.244714891368968,
          13.844852561232857,
          13.842068994629464,
          13.867689811435673,
          13.867689811435673,
          13.867689811435673,
          15.17815098220299,
          18.245817834419345,
          19.00550935928884,
          20.95449611156064,
          21.354638033574098,
          22.062334706400144,
          22.785743830336074,
          22.785743830336074
         ],
         "yaxis": "y"
        }
       ],
       "layout": {
        "legend": {
         "title": {
          "text": "variable"
         },
         "tracegroupgap": 0
        },
        "margin": {
         "t": 60
        },
        "template": {
         "data": {
          "bar": [
           {
            "error_x": {
             "color": "#2a3f5f"
            },
            "error_y": {
             "color": "#2a3f5f"
            },
            "marker": {
             "line": {
              "color": "#E5ECF6",
              "width": 0.5
             },
             "pattern": {
              "fillmode": "overlay",
              "size": 10,
              "solidity": 0.2
             }
            },
            "type": "bar"
           }
          ],
          "barpolar": [
           {
            "marker": {
             "line": {
              "color": "#E5ECF6",
              "width": 0.5
             },
             "pattern": {
              "fillmode": "overlay",
              "size": 10,
              "solidity": 0.2
             }
            },
            "type": "barpolar"
           }
          ],
          "carpet": [
           {
            "aaxis": {
             "endlinecolor": "#2a3f5f",
             "gridcolor": "white",
             "linecolor": "white",
             "minorgridcolor": "white",
             "startlinecolor": "#2a3f5f"
            },
            "baxis": {
             "endlinecolor": "#2a3f5f",
             "gridcolor": "white",
             "linecolor": "white",
             "minorgridcolor": "white",
             "startlinecolor": "#2a3f5f"
            },
            "type": "carpet"
           }
          ],
          "choropleth": [
           {
            "colorbar": {
             "outlinewidth": 0,
             "ticks": ""
            },
            "type": "choropleth"
           }
          ],
          "contour": [
           {
            "colorbar": {
             "outlinewidth": 0,
             "ticks": ""
            },
            "colorscale": [
             [
              0,
              "#0d0887"
             ],
             [
              0.1111111111111111,
              "#46039f"
             ],
             [
              0.2222222222222222,
              "#7201a8"
             ],
             [
              0.3333333333333333,
              "#9c179e"
             ],
             [
              0.4444444444444444,
              "#bd3786"
             ],
             [
              0.5555555555555556,
              "#d8576b"
             ],
             [
              0.6666666666666666,
              "#ed7953"
             ],
             [
              0.7777777777777778,
              "#fb9f3a"
             ],
             [
              0.8888888888888888,
              "#fdca26"
             ],
             [
              1,
              "#f0f921"
             ]
            ],
            "type": "contour"
           }
          ],
          "contourcarpet": [
           {
            "colorbar": {
             "outlinewidth": 0,
             "ticks": ""
            },
            "type": "contourcarpet"
           }
          ],
          "heatmap": [
           {
            "colorbar": {
             "outlinewidth": 0,
             "ticks": ""
            },
            "colorscale": [
             [
              0,
              "#0d0887"
             ],
             [
              0.1111111111111111,
              "#46039f"
             ],
             [
              0.2222222222222222,
              "#7201a8"
             ],
             [
              0.3333333333333333,
              "#9c179e"
             ],
             [
              0.4444444444444444,
              "#bd3786"
             ],
             [
              0.5555555555555556,
              "#d8576b"
             ],
             [
              0.6666666666666666,
              "#ed7953"
             ],
             [
              0.7777777777777778,
              "#fb9f3a"
             ],
             [
              0.8888888888888888,
              "#fdca26"
             ],
             [
              1,
              "#f0f921"
             ]
            ],
            "type": "heatmap"
           }
          ],
          "heatmapgl": [
           {
            "colorbar": {
             "outlinewidth": 0,
             "ticks": ""
            },
            "colorscale": [
             [
              0,
              "#0d0887"
             ],
             [
              0.1111111111111111,
              "#46039f"
             ],
             [
              0.2222222222222222,
              "#7201a8"
             ],
             [
              0.3333333333333333,
              "#9c179e"
             ],
             [
              0.4444444444444444,
              "#bd3786"
             ],
             [
              0.5555555555555556,
              "#d8576b"
             ],
             [
              0.6666666666666666,
              "#ed7953"
             ],
             [
              0.7777777777777778,
              "#fb9f3a"
             ],
             [
              0.8888888888888888,
              "#fdca26"
             ],
             [
              1,
              "#f0f921"
             ]
            ],
            "type": "heatmapgl"
           }
          ],
          "histogram": [
           {
            "marker": {
             "pattern": {
              "fillmode": "overlay",
              "size": 10,
              "solidity": 0.2
             }
            },
            "type": "histogram"
           }
          ],
          "histogram2d": [
           {
            "colorbar": {
             "outlinewidth": 0,
             "ticks": ""
            },
            "colorscale": [
             [
              0,
              "#0d0887"
             ],
             [
              0.1111111111111111,
              "#46039f"
             ],
             [
              0.2222222222222222,
              "#7201a8"
             ],
             [
              0.3333333333333333,
              "#9c179e"
             ],
             [
              0.4444444444444444,
              "#bd3786"
             ],
             [
              0.5555555555555556,
              "#d8576b"
             ],
             [
              0.6666666666666666,
              "#ed7953"
             ],
             [
              0.7777777777777778,
              "#fb9f3a"
             ],
             [
              0.8888888888888888,
              "#fdca26"
             ],
             [
              1,
              "#f0f921"
             ]
            ],
            "type": "histogram2d"
           }
          ],
          "histogram2dcontour": [
           {
            "colorbar": {
             "outlinewidth": 0,
             "ticks": ""
            },
            "colorscale": [
             [
              0,
              "#0d0887"
             ],
             [
              0.1111111111111111,
              "#46039f"
             ],
             [
              0.2222222222222222,
              "#7201a8"
             ],
             [
              0.3333333333333333,
              "#9c179e"
             ],
             [
              0.4444444444444444,
              "#bd3786"
             ],
             [
              0.5555555555555556,
              "#d8576b"
             ],
             [
              0.6666666666666666,
              "#ed7953"
             ],
             [
              0.7777777777777778,
              "#fb9f3a"
             ],
             [
              0.8888888888888888,
              "#fdca26"
             ],
             [
              1,
              "#f0f921"
             ]
            ],
            "type": "histogram2dcontour"
           }
          ],
          "mesh3d": [
           {
            "colorbar": {
             "outlinewidth": 0,
             "ticks": ""
            },
            "type": "mesh3d"
           }
          ],
          "parcoords": [
           {
            "line": {
             "colorbar": {
              "outlinewidth": 0,
              "ticks": ""
             }
            },
            "type": "parcoords"
           }
          ],
          "pie": [
           {
            "automargin": true,
            "type": "pie"
           }
          ],
          "scatter": [
           {
            "fillpattern": {
             "fillmode": "overlay",
             "size": 10,
             "solidity": 0.2
            },
            "type": "scatter"
           }
          ],
          "scatter3d": [
           {
            "line": {
             "colorbar": {
              "outlinewidth": 0,
              "ticks": ""
             }
            },
            "marker": {
             "colorbar": {
              "outlinewidth": 0,
              "ticks": ""
             }
            },
            "type": "scatter3d"
           }
          ],
          "scattercarpet": [
           {
            "marker": {
             "colorbar": {
              "outlinewidth": 0,
              "ticks": ""
             }
            },
            "type": "scattercarpet"
           }
          ],
          "scattergeo": [
           {
            "marker": {
             "colorbar": {
              "outlinewidth": 0,
              "ticks": ""
             }
            },
            "type": "scattergeo"
           }
          ],
          "scattergl": [
           {
            "marker": {
             "colorbar": {
              "outlinewidth": 0,
              "ticks": ""
             }
            },
            "type": "scattergl"
           }
          ],
          "scattermapbox": [
           {
            "marker": {
             "colorbar": {
              "outlinewidth": 0,
              "ticks": ""
             }
            },
            "type": "scattermapbox"
           }
          ],
          "scatterpolar": [
           {
            "marker": {
             "colorbar": {
              "outlinewidth": 0,
              "ticks": ""
             }
            },
            "type": "scatterpolar"
           }
          ],
          "scatterpolargl": [
           {
            "marker": {
             "colorbar": {
              "outlinewidth": 0,
              "ticks": ""
             }
            },
            "type": "scatterpolargl"
           }
          ],
          "scatterternary": [
           {
            "marker": {
             "colorbar": {
              "outlinewidth": 0,
              "ticks": ""
             }
            },
            "type": "scatterternary"
           }
          ],
          "surface": [
           {
            "colorbar": {
             "outlinewidth": 0,
             "ticks": ""
            },
            "colorscale": [
             [
              0,
              "#0d0887"
             ],
             [
              0.1111111111111111,
              "#46039f"
             ],
             [
              0.2222222222222222,
              "#7201a8"
             ],
             [
              0.3333333333333333,
              "#9c179e"
             ],
             [
              0.4444444444444444,
              "#bd3786"
             ],
             [
              0.5555555555555556,
              "#d8576b"
             ],
             [
              0.6666666666666666,
              "#ed7953"
             ],
             [
              0.7777777777777778,
              "#fb9f3a"
             ],
             [
              0.8888888888888888,
              "#fdca26"
             ],
             [
              1,
              "#f0f921"
             ]
            ],
            "type": "surface"
           }
          ],
          "table": [
           {
            "cells": {
             "fill": {
              "color": "#EBF0F8"
             },
             "line": {
              "color": "white"
             }
            },
            "header": {
             "fill": {
              "color": "#C8D4E3"
             },
             "line": {
              "color": "white"
             }
            },
            "type": "table"
           }
          ]
         },
         "layout": {
          "annotationdefaults": {
           "arrowcolor": "#2a3f5f",
           "arrowhead": 0,
           "arrowwidth": 1
          },
          "autotypenumbers": "strict",
          "coloraxis": {
           "colorbar": {
            "outlinewidth": 0,
            "ticks": ""
           }
          },
          "colorscale": {
           "diverging": [
            [
             0,
             "#8e0152"
            ],
            [
             0.1,
             "#c51b7d"
            ],
            [
             0.2,
             "#de77ae"
            ],
            [
             0.3,
             "#f1b6da"
            ],
            [
             0.4,
             "#fde0ef"
            ],
            [
             0.5,
             "#f7f7f7"
            ],
            [
             0.6,
             "#e6f5d0"
            ],
            [
             0.7,
             "#b8e186"
            ],
            [
             0.8,
             "#7fbc41"
            ],
            [
             0.9,
             "#4d9221"
            ],
            [
             1,
             "#276419"
            ]
           ],
           "sequential": [
            [
             0,
             "#0d0887"
            ],
            [
             0.1111111111111111,
             "#46039f"
            ],
            [
             0.2222222222222222,
             "#7201a8"
            ],
            [
             0.3333333333333333,
             "#9c179e"
            ],
            [
             0.4444444444444444,
             "#bd3786"
            ],
            [
             0.5555555555555556,
             "#d8576b"
            ],
            [
             0.6666666666666666,
             "#ed7953"
            ],
            [
             0.7777777777777778,
             "#fb9f3a"
            ],
            [
             0.8888888888888888,
             "#fdca26"
            ],
            [
             1,
             "#f0f921"
            ]
           ],
           "sequentialminus": [
            [
             0,
             "#0d0887"
            ],
            [
             0.1111111111111111,
             "#46039f"
            ],
            [
             0.2222222222222222,
             "#7201a8"
            ],
            [
             0.3333333333333333,
             "#9c179e"
            ],
            [
             0.4444444444444444,
             "#bd3786"
            ],
            [
             0.5555555555555556,
             "#d8576b"
            ],
            [
             0.6666666666666666,
             "#ed7953"
            ],
            [
             0.7777777777777778,
             "#fb9f3a"
            ],
            [
             0.8888888888888888,
             "#fdca26"
            ],
            [
             1,
             "#f0f921"
            ]
           ]
          },
          "colorway": [
           "#636efa",
           "#EF553B",
           "#00cc96",
           "#ab63fa",
           "#FFA15A",
           "#19d3f3",
           "#FF6692",
           "#B6E880",
           "#FF97FF",
           "#FECB52"
          ],
          "font": {
           "color": "#2a3f5f"
          },
          "geo": {
           "bgcolor": "white",
           "lakecolor": "white",
           "landcolor": "#E5ECF6",
           "showlakes": true,
           "showland": true,
           "subunitcolor": "white"
          },
          "hoverlabel": {
           "align": "left"
          },
          "hovermode": "closest",
          "mapbox": {
           "style": "light"
          },
          "paper_bgcolor": "white",
          "plot_bgcolor": "#E5ECF6",
          "polar": {
           "angularaxis": {
            "gridcolor": "white",
            "linecolor": "white",
            "ticks": ""
           },
           "bgcolor": "#E5ECF6",
           "radialaxis": {
            "gridcolor": "white",
            "linecolor": "white",
            "ticks": ""
           }
          },
          "scene": {
           "xaxis": {
            "backgroundcolor": "#E5ECF6",
            "gridcolor": "white",
            "gridwidth": 2,
            "linecolor": "white",
            "showbackground": true,
            "ticks": "",
            "zerolinecolor": "white"
           },
           "yaxis": {
            "backgroundcolor": "#E5ECF6",
            "gridcolor": "white",
            "gridwidth": 2,
            "linecolor": "white",
            "showbackground": true,
            "ticks": "",
            "zerolinecolor": "white"
           },
           "zaxis": {
            "backgroundcolor": "#E5ECF6",
            "gridcolor": "white",
            "gridwidth": 2,
            "linecolor": "white",
            "showbackground": true,
            "ticks": "",
            "zerolinecolor": "white"
           }
          },
          "shapedefaults": {
           "line": {
            "color": "#2a3f5f"
           }
          },
          "ternary": {
           "aaxis": {
            "gridcolor": "white",
            "linecolor": "white",
            "ticks": ""
           },
           "baxis": {
            "gridcolor": "white",
            "linecolor": "white",
            "ticks": ""
           },
           "bgcolor": "#E5ECF6",
           "caxis": {
            "gridcolor": "white",
            "linecolor": "white",
            "ticks": ""
           }
          },
          "title": {
           "x": 0.05
          },
          "xaxis": {
           "automargin": true,
           "gridcolor": "white",
           "linecolor": "white",
           "ticks": "",
           "title": {
            "standoff": 15
           },
           "zerolinecolor": "white",
           "zerolinewidth": 2
          },
          "yaxis": {
           "automargin": true,
           "gridcolor": "white",
           "linecolor": "white",
           "ticks": "",
           "title": {
            "standoff": 15
           },
           "zerolinecolor": "white",
           "zerolinewidth": 2
          }
         }
        },
        "xaxis": {
         "anchor": "y",
         "domain": [
          0,
          1
         ],
         "title": {
          "text": "date"
         }
        },
        "yaxis": {
         "anchor": "x",
         "domain": [
          0,
          1
         ],
         "title": {
          "text": "value"
         }
        }
       }
      },
      "text/html": [
       "<div>                        <script type=\"text/javascript\">window.PlotlyConfig = {MathJaxConfig: 'local'};</script>\n",
       "        <script charset=\"utf-8\" src=\"https://cdn.plot.ly/plotly-2.27.0.min.js\"></script>                <div id=\"d437475d-2256-46c7-aaac-637bc9eea534\" class=\"plotly-graph-div\" style=\"height:100%; width:100%;\"></div>            <script type=\"text/javascript\">                                    window.PLOTLYENV=window.PLOTLYENV || {};                                    if (document.getElementById(\"d437475d-2256-46c7-aaac-637bc9eea534\")) {                    Plotly.newPlot(                        \"d437475d-2256-46c7-aaac-637bc9eea534\",                        [{\"hovertemplate\":\"variable=rtn_5_fixed\\u003cbr\\u003edate=%{x}\\u003cbr\\u003evalue=%{y}\\u003cextra\\u003e\\u003c\\u002fextra\\u003e\",\"legendgroup\":\"rtn_5_fixed\",\"marker\":{\"color\":\"#636efa\",\"symbol\":\"circle\"},\"mode\":\"markers\",\"name\":\"rtn_5_fixed\",\"orientation\":\"v\",\"showlegend\":true,\"x\":[\"2015-11-26\",\"2015-12-23\",\"2016-01-22\",\"2016-02-23\",\"2016-03-22\",\"2016-04-19\",\"2016-05-18\",\"2016-06-15\",\"2016-07-12\",\"2016-08-08\",\"2016-09-05\",\"2016-10-06\",\"2016-11-02\",\"2016-11-29\",\"2016-12-26\",\"2017-01-23\",\"2017-02-21\",\"2017-03-21\",\"2017-04-17\",\"2017-05-18\",\"2017-06-15\",\"2017-07-12\",\"2017-08-08\",\"2017-09-05\",\"2017-10-10\",\"2017-11-06\",\"2017-12-01\",\"2018-01-02\",\"2018-01-29\",\"2018-02-27\",\"2018-03-27\",\"2018-04-23\",\"2018-05-23\",\"2018-06-21\",\"2018-07-18\",\"2018-08-14\",\"2018-09-11\",\"2018-10-15\",\"2018-11-09\",\"2018-12-06\",\"2019-01-07\",\"2019-02-01\",\"2019-03-06\",\"2019-04-02\",\"2019-04-29\",\"2019-05-28\",\"2019-06-25\",\"2019-07-22\",\"2019-08-19\",\"2019-09-17\",\"2019-10-16\",\"2019-11-12\",\"2019-12-09\",\"2020-01-08\",\"2020-02-06\",\"2020-03-04\",\"2020-03-31\",\"2020-04-28\",\"2020-05-28\",\"2020-06-24\",\"2020-07-21\",\"2020-08-18\",\"2020-09-14\",\"2020-10-15\",\"2020-11-11\",\"2020-12-08\",\"2021-01-07\",\"2021-02-03\",\"2021-03-05\",\"2021-04-01\",\"2021-04-28\",\"2021-05-27\",\"2021-06-23\",\"2021-07-20\",\"2021-08-17\",\"2021-09-13\",\"2021-10-15\",\"2021-11-11\",\"2021-12-08\",\"2022-01-05\",\"2022-02-04\",\"2022-03-04\",\"2022-04-01\",\"2022-04-28\",\"2022-05-26\",\"2022-06-24\",\"2022-07-21\",\"2022-08-18\",\"2022-09-16\",\"2022-10-17\",\"2022-11-11\",\"2022-12-08\",\"2023-01-05\",\"2023-02-03\",\"2023-03-03\",\"2023-03-30\",\"2023-04-26\",\"2023-05-25\",\"2023-06-23\",\"2023-07-20\",\"2023-08-17\",\"2023-09-13\",\"2023-09-19\"],\"xaxis\":\"x\",\"y\":[0.984308956478253,1.0358288838040042,0.9595383480060233,1.1123700728156733,1.159843910699649,1.2507461674904945,1.1386462497900984,1.2675517601733963,1.3172027881753832,1.3601689153699463,1.3733288162792778,1.4534493087712228,1.3339917689095966,1.418350289344172,1.5078051435014932,1.5459449621753558,1.5192344372580515,1.5845772250748698,1.6996410325121152,1.5942184242218003,1.6836262785521596,1.7357357172466048,1.7302249600625892,1.7797188018823176,1.7599497765831325,1.897187664193035,2.078327282130246,2.049873484208973,2.1440258017539735,2.0950283163973626,1.9572045805551763,2.256371435485191,2.5021103769912463,2.4268345418170636,2.467901992201945,2.5845293947237864,2.8726865636050536,2.460702163342728,2.6410071915602393,3.037070241644494,3.2385627304944427,3.5291530402011904,3.5801452904830144,3.6550021796493244,3.7667832519428357,3.755781041340117,3.9340608423139467,3.8287867945655547,3.831814756241914,4.307594475406866,4.585363693177757,4.968276820041791,5.178703214528293,5.398345436657939,4.99000227812271,4.643132662054629,4.146901295531485,4.592073549586027,4.855773828425266,4.789734200622544,5.0926697553209,5.57367325227925,5.749904183309494,5.439520251824264,5.706222541085224,6.076534224279554,6.726216987458291,6.90224983502081,6.44904129157883,7.392143601912022,8.402920102419888,8.974474834880434,10.230062737750107,10.669770468208512,9.904853459486851,10.669341514579795,10.872660576048311,10.226128368240289,11.222167860827803,11.403907685113397,12.071586318299392,12.58377678218767,12.857048397434813,13.138895747783398,13.028084867667962,11.543528664781176,13.057018535912198,14.077036445568874,13.663017285362185,12.244714891368968,13.844852561232857,13.842068994629464,13.867689811435673,13.867689811435673,13.867689811435673,15.17815098220299,18.245817834419345,19.00550935928884,20.95449611156064,21.354638033574098,22.062334706400144,22.785743830336074,22.785743830336074],\"yaxis\":\"y\",\"type\":\"scatter\"}],                        {\"template\":{\"data\":{\"histogram2dcontour\":[{\"type\":\"histogram2dcontour\",\"colorbar\":{\"outlinewidth\":0,\"ticks\":\"\"},\"colorscale\":[[0.0,\"#0d0887\"],[0.1111111111111111,\"#46039f\"],[0.2222222222222222,\"#7201a8\"],[0.3333333333333333,\"#9c179e\"],[0.4444444444444444,\"#bd3786\"],[0.5555555555555556,\"#d8576b\"],[0.6666666666666666,\"#ed7953\"],[0.7777777777777778,\"#fb9f3a\"],[0.8888888888888888,\"#fdca26\"],[1.0,\"#f0f921\"]]}],\"choropleth\":[{\"type\":\"choropleth\",\"colorbar\":{\"outlinewidth\":0,\"ticks\":\"\"}}],\"histogram2d\":[{\"type\":\"histogram2d\",\"colorbar\":{\"outlinewidth\":0,\"ticks\":\"\"},\"colorscale\":[[0.0,\"#0d0887\"],[0.1111111111111111,\"#46039f\"],[0.2222222222222222,\"#7201a8\"],[0.3333333333333333,\"#9c179e\"],[0.4444444444444444,\"#bd3786\"],[0.5555555555555556,\"#d8576b\"],[0.6666666666666666,\"#ed7953\"],[0.7777777777777778,\"#fb9f3a\"],[0.8888888888888888,\"#fdca26\"],[1.0,\"#f0f921\"]]}],\"heatmap\":[{\"type\":\"heatmap\",\"colorbar\":{\"outlinewidth\":0,\"ticks\":\"\"},\"colorscale\":[[0.0,\"#0d0887\"],[0.1111111111111111,\"#46039f\"],[0.2222222222222222,\"#7201a8\"],[0.3333333333333333,\"#9c179e\"],[0.4444444444444444,\"#bd3786\"],[0.5555555555555556,\"#d8576b\"],[0.6666666666666666,\"#ed7953\"],[0.7777777777777778,\"#fb9f3a\"],[0.8888888888888888,\"#fdca26\"],[1.0,\"#f0f921\"]]}],\"heatmapgl\":[{\"type\":\"heatmapgl\",\"colorbar\":{\"outlinewidth\":0,\"ticks\":\"\"},\"colorscale\":[[0.0,\"#0d0887\"],[0.1111111111111111,\"#46039f\"],[0.2222222222222222,\"#7201a8\"],[0.3333333333333333,\"#9c179e\"],[0.4444444444444444,\"#bd3786\"],[0.5555555555555556,\"#d8576b\"],[0.6666666666666666,\"#ed7953\"],[0.7777777777777778,\"#fb9f3a\"],[0.8888888888888888,\"#fdca26\"],[1.0,\"#f0f921\"]]}],\"contourcarpet\":[{\"type\":\"contourcarpet\",\"colorbar\":{\"outlinewidth\":0,\"ticks\":\"\"}}],\"contour\":[{\"type\":\"contour\",\"colorbar\":{\"outlinewidth\":0,\"ticks\":\"\"},\"colorscale\":[[0.0,\"#0d0887\"],[0.1111111111111111,\"#46039f\"],[0.2222222222222222,\"#7201a8\"],[0.3333333333333333,\"#9c179e\"],[0.4444444444444444,\"#bd3786\"],[0.5555555555555556,\"#d8576b\"],[0.6666666666666666,\"#ed7953\"],[0.7777777777777778,\"#fb9f3a\"],[0.8888888888888888,\"#fdca26\"],[1.0,\"#f0f921\"]]}],\"surface\":[{\"type\":\"surface\",\"colorbar\":{\"outlinewidth\":0,\"ticks\":\"\"},\"colorscale\":[[0.0,\"#0d0887\"],[0.1111111111111111,\"#46039f\"],[0.2222222222222222,\"#7201a8\"],[0.3333333333333333,\"#9c179e\"],[0.4444444444444444,\"#bd3786\"],[0.5555555555555556,\"#d8576b\"],[0.6666666666666666,\"#ed7953\"],[0.7777777777777778,\"#fb9f3a\"],[0.8888888888888888,\"#fdca26\"],[1.0,\"#f0f921\"]]}],\"mesh3d\":[{\"type\":\"mesh3d\",\"colorbar\":{\"outlinewidth\":0,\"ticks\":\"\"}}],\"scatter\":[{\"fillpattern\":{\"fillmode\":\"overlay\",\"size\":10,\"solidity\":0.2},\"type\":\"scatter\"}],\"parcoords\":[{\"type\":\"parcoords\",\"line\":{\"colorbar\":{\"outlinewidth\":0,\"ticks\":\"\"}}}],\"scatterpolargl\":[{\"type\":\"scatterpolargl\",\"marker\":{\"colorbar\":{\"outlinewidth\":0,\"ticks\":\"\"}}}],\"bar\":[{\"error_x\":{\"color\":\"#2a3f5f\"},\"error_y\":{\"color\":\"#2a3f5f\"},\"marker\":{\"line\":{\"color\":\"#E5ECF6\",\"width\":0.5},\"pattern\":{\"fillmode\":\"overlay\",\"size\":10,\"solidity\":0.2}},\"type\":\"bar\"}],\"scattergeo\":[{\"type\":\"scattergeo\",\"marker\":{\"colorbar\":{\"outlinewidth\":0,\"ticks\":\"\"}}}],\"scatterpolar\":[{\"type\":\"scatterpolar\",\"marker\":{\"colorbar\":{\"outlinewidth\":0,\"ticks\":\"\"}}}],\"histogram\":[{\"marker\":{\"pattern\":{\"fillmode\":\"overlay\",\"size\":10,\"solidity\":0.2}},\"type\":\"histogram\"}],\"scattergl\":[{\"type\":\"scattergl\",\"marker\":{\"colorbar\":{\"outlinewidth\":0,\"ticks\":\"\"}}}],\"scatter3d\":[{\"type\":\"scatter3d\",\"line\":{\"colorbar\":{\"outlinewidth\":0,\"ticks\":\"\"}},\"marker\":{\"colorbar\":{\"outlinewidth\":0,\"ticks\":\"\"}}}],\"scattermapbox\":[{\"type\":\"scattermapbox\",\"marker\":{\"colorbar\":{\"outlinewidth\":0,\"ticks\":\"\"}}}],\"scatterternary\":[{\"type\":\"scatterternary\",\"marker\":{\"colorbar\":{\"outlinewidth\":0,\"ticks\":\"\"}}}],\"scattercarpet\":[{\"type\":\"scattercarpet\",\"marker\":{\"colorbar\":{\"outlinewidth\":0,\"ticks\":\"\"}}}],\"carpet\":[{\"aaxis\":{\"endlinecolor\":\"#2a3f5f\",\"gridcolor\":\"white\",\"linecolor\":\"white\",\"minorgridcolor\":\"white\",\"startlinecolor\":\"#2a3f5f\"},\"baxis\":{\"endlinecolor\":\"#2a3f5f\",\"gridcolor\":\"white\",\"linecolor\":\"white\",\"minorgridcolor\":\"white\",\"startlinecolor\":\"#2a3f5f\"},\"type\":\"carpet\"}],\"table\":[{\"cells\":{\"fill\":{\"color\":\"#EBF0F8\"},\"line\":{\"color\":\"white\"}},\"header\":{\"fill\":{\"color\":\"#C8D4E3\"},\"line\":{\"color\":\"white\"}},\"type\":\"table\"}],\"barpolar\":[{\"marker\":{\"line\":{\"color\":\"#E5ECF6\",\"width\":0.5},\"pattern\":{\"fillmode\":\"overlay\",\"size\":10,\"solidity\":0.2}},\"type\":\"barpolar\"}],\"pie\":[{\"automargin\":true,\"type\":\"pie\"}]},\"layout\":{\"autotypenumbers\":\"strict\",\"colorway\":[\"#636efa\",\"#EF553B\",\"#00cc96\",\"#ab63fa\",\"#FFA15A\",\"#19d3f3\",\"#FF6692\",\"#B6E880\",\"#FF97FF\",\"#FECB52\"],\"font\":{\"color\":\"#2a3f5f\"},\"hovermode\":\"closest\",\"hoverlabel\":{\"align\":\"left\"},\"paper_bgcolor\":\"white\",\"plot_bgcolor\":\"#E5ECF6\",\"polar\":{\"bgcolor\":\"#E5ECF6\",\"angularaxis\":{\"gridcolor\":\"white\",\"linecolor\":\"white\",\"ticks\":\"\"},\"radialaxis\":{\"gridcolor\":\"white\",\"linecolor\":\"white\",\"ticks\":\"\"}},\"ternary\":{\"bgcolor\":\"#E5ECF6\",\"aaxis\":{\"gridcolor\":\"white\",\"linecolor\":\"white\",\"ticks\":\"\"},\"baxis\":{\"gridcolor\":\"white\",\"linecolor\":\"white\",\"ticks\":\"\"},\"caxis\":{\"gridcolor\":\"white\",\"linecolor\":\"white\",\"ticks\":\"\"}},\"coloraxis\":{\"colorbar\":{\"outlinewidth\":0,\"ticks\":\"\"}},\"colorscale\":{\"sequential\":[[0.0,\"#0d0887\"],[0.1111111111111111,\"#46039f\"],[0.2222222222222222,\"#7201a8\"],[0.3333333333333333,\"#9c179e\"],[0.4444444444444444,\"#bd3786\"],[0.5555555555555556,\"#d8576b\"],[0.6666666666666666,\"#ed7953\"],[0.7777777777777778,\"#fb9f3a\"],[0.8888888888888888,\"#fdca26\"],[1.0,\"#f0f921\"]],\"sequentialminus\":[[0.0,\"#0d0887\"],[0.1111111111111111,\"#46039f\"],[0.2222222222222222,\"#7201a8\"],[0.3333333333333333,\"#9c179e\"],[0.4444444444444444,\"#bd3786\"],[0.5555555555555556,\"#d8576b\"],[0.6666666666666666,\"#ed7953\"],[0.7777777777777778,\"#fb9f3a\"],[0.8888888888888888,\"#fdca26\"],[1.0,\"#f0f921\"]],\"diverging\":[[0,\"#8e0152\"],[0.1,\"#c51b7d\"],[0.2,\"#de77ae\"],[0.3,\"#f1b6da\"],[0.4,\"#fde0ef\"],[0.5,\"#f7f7f7\"],[0.6,\"#e6f5d0\"],[0.7,\"#b8e186\"],[0.8,\"#7fbc41\"],[0.9,\"#4d9221\"],[1,\"#276419\"]]},\"xaxis\":{\"gridcolor\":\"white\",\"linecolor\":\"white\",\"ticks\":\"\",\"title\":{\"standoff\":15},\"zerolinecolor\":\"white\",\"automargin\":true,\"zerolinewidth\":2},\"yaxis\":{\"gridcolor\":\"white\",\"linecolor\":\"white\",\"ticks\":\"\",\"title\":{\"standoff\":15},\"zerolinecolor\":\"white\",\"automargin\":true,\"zerolinewidth\":2},\"scene\":{\"xaxis\":{\"backgroundcolor\":\"#E5ECF6\",\"gridcolor\":\"white\",\"linecolor\":\"white\",\"showbackground\":true,\"ticks\":\"\",\"zerolinecolor\":\"white\",\"gridwidth\":2},\"yaxis\":{\"backgroundcolor\":\"#E5ECF6\",\"gridcolor\":\"white\",\"linecolor\":\"white\",\"showbackground\":true,\"ticks\":\"\",\"zerolinecolor\":\"white\",\"gridwidth\":2},\"zaxis\":{\"backgroundcolor\":\"#E5ECF6\",\"gridcolor\":\"white\",\"linecolor\":\"white\",\"showbackground\":true,\"ticks\":\"\",\"zerolinecolor\":\"white\",\"gridwidth\":2}},\"shapedefaults\":{\"line\":{\"color\":\"#2a3f5f\"}},\"annotationdefaults\":{\"arrowcolor\":\"#2a3f5f\",\"arrowhead\":0,\"arrowwidth\":1},\"geo\":{\"bgcolor\":\"white\",\"landcolor\":\"#E5ECF6\",\"subunitcolor\":\"white\",\"showland\":true,\"showlakes\":true,\"lakecolor\":\"white\"},\"title\":{\"x\":0.05},\"mapbox\":{\"style\":\"light\"}}},\"xaxis\":{\"anchor\":\"y\",\"domain\":[0.0,1.0],\"title\":{\"text\":\"date\"}},\"yaxis\":{\"anchor\":\"x\",\"domain\":[0.0,1.0],\"title\":{\"text\":\"value\"}},\"legend\":{\"title\":{\"text\":\"variable\"},\"tracegroupgap\":0},\"margin\":{\"t\":60}},                        {\"responsive\": true}                    )                };                            </script>        </div>"
      ],
      "text/plain": [
       "Figure({\n",
       "    'data': [{'hovertemplate': 'variable=rtn_5_fixed<br>date=%{x}<br>value=%{y}<extra></extra>',\n",
       "              'legendgroup': 'rtn_5_fixed',\n",
       "              'marker': {'color': '#636efa', 'symbol': 'circle'},\n",
       "              'mode': 'markers',\n",
       "              'name': 'rtn_5_fixed',\n",
       "              'orientation': 'v',\n",
       "              'showlegend': True,\n",
       "              'type': 'scatter',\n",
       "              'x': array(['2015-11-26', '2015-12-23', '2016-01-22', '2016-02-23', '2016-03-22',\n",
       "                          '2016-04-19', '2016-05-18', '2016-06-15', '2016-07-12', '2016-08-08',\n",
       "                          '2016-09-05', '2016-10-06', '2016-11-02', '2016-11-29', '2016-12-26',\n",
       "                          '2017-01-23', '2017-02-21', '2017-03-21', '2017-04-17', '2017-05-18',\n",
       "                          '2017-06-15', '2017-07-12', '2017-08-08', '2017-09-05', '2017-10-10',\n",
       "                          '2017-11-06', '2017-12-01', '2018-01-02', '2018-01-29', '2018-02-27',\n",
       "                          '2018-03-27', '2018-04-23', '2018-05-23', '2018-06-21', '2018-07-18',\n",
       "                          '2018-08-14', '2018-09-11', '2018-10-15', '2018-11-09', '2018-12-06',\n",
       "                          '2019-01-07', '2019-02-01', '2019-03-06', '2019-04-02', '2019-04-29',\n",
       "                          '2019-05-28', '2019-06-25', '2019-07-22', '2019-08-19', '2019-09-17',\n",
       "                          '2019-10-16', '2019-11-12', '2019-12-09', '2020-01-08', '2020-02-06',\n",
       "                          '2020-03-04', '2020-03-31', '2020-04-28', '2020-05-28', '2020-06-24',\n",
       "                          '2020-07-21', '2020-08-18', '2020-09-14', '2020-10-15', '2020-11-11',\n",
       "                          '2020-12-08', '2021-01-07', '2021-02-03', '2021-03-05', '2021-04-01',\n",
       "                          '2021-04-28', '2021-05-27', '2021-06-23', '2021-07-20', '2021-08-17',\n",
       "                          '2021-09-13', '2021-10-15', '2021-11-11', '2021-12-08', '2022-01-05',\n",
       "                          '2022-02-04', '2022-03-04', '2022-04-01', '2022-04-28', '2022-05-26',\n",
       "                          '2022-06-24', '2022-07-21', '2022-08-18', '2022-09-16', '2022-10-17',\n",
       "                          '2022-11-11', '2022-12-08', '2023-01-05', '2023-02-03', '2023-03-03',\n",
       "                          '2023-03-30', '2023-04-26', '2023-05-25', '2023-06-23', '2023-07-20',\n",
       "                          '2023-08-17', '2023-09-13', '2023-09-19'], dtype=object),\n",
       "              'xaxis': 'x',\n",
       "              'y': array([ 0.98430896,  1.03582888,  0.95953835,  1.11237007,  1.15984391,\n",
       "                           1.25074617,  1.13864625,  1.26755176,  1.31720279,  1.36016892,\n",
       "                           1.37332882,  1.45344931,  1.33399177,  1.41835029,  1.50780514,\n",
       "                           1.54594496,  1.51923444,  1.58457723,  1.69964103,  1.59421842,\n",
       "                           1.68362628,  1.73573572,  1.73022496,  1.7797188 ,  1.75994978,\n",
       "                           1.89718766,  2.07832728,  2.04987348,  2.1440258 ,  2.09502832,\n",
       "                           1.95720458,  2.25637144,  2.50211038,  2.42683454,  2.46790199,\n",
       "                           2.58452939,  2.87268656,  2.46070216,  2.64100719,  3.03707024,\n",
       "                           3.23856273,  3.52915304,  3.58014529,  3.65500218,  3.76678325,\n",
       "                           3.75578104,  3.93406084,  3.82878679,  3.83181476,  4.30759448,\n",
       "                           4.58536369,  4.96827682,  5.17870321,  5.39834544,  4.99000228,\n",
       "                           4.64313266,  4.1469013 ,  4.59207355,  4.85577383,  4.7897342 ,\n",
       "                           5.09266976,  5.57367325,  5.74990418,  5.43952025,  5.70622254,\n",
       "                           6.07653422,  6.72621699,  6.90224984,  6.44904129,  7.3921436 ,\n",
       "                           8.4029201 ,  8.97447483, 10.23006274, 10.66977047,  9.90485346,\n",
       "                          10.66934151, 10.87266058, 10.22612837, 11.22216786, 11.40390769,\n",
       "                          12.07158632, 12.58377678, 12.8570484 , 13.13889575, 13.02808487,\n",
       "                          11.54352866, 13.05701854, 14.07703645, 13.66301729, 12.24471489,\n",
       "                          13.84485256, 13.84206899, 13.86768981, 13.86768981, 13.86768981,\n",
       "                          15.17815098, 18.24581783, 19.00550936, 20.95449611, 21.35463803,\n",
       "                          22.06233471, 22.78574383, 22.78574383]),\n",
       "              'yaxis': 'y'}],\n",
       "    'layout': {'legend': {'title': {'text': 'variable'}, 'tracegroupgap': 0},\n",
       "               'margin': {'t': 60},\n",
       "               'template': '...',\n",
       "               'xaxis': {'anchor': 'y', 'domain': [0.0, 1.0], 'title': {'text': 'date'}},\n",
       "               'yaxis': {'anchor': 'x', 'domain': [0.0, 1.0], 'title': {'text': 'value'}}}\n",
       "})"
      ]
     },
     "execution_count": 28,
     "metadata": {},
     "output_type": "execute_result"
    }
   ],
   "source": [
    "(\n",
    "    df_result_opt['rtn_5_fixed']\n",
    "    + 1\n",
    ").cumprod().plot(kind='scatter')"
   ]
  },
  {
   "cell_type": "code",
   "execution_count": 34,
   "metadata": {},
   "outputs": [
    {
     "name": "stdout",
     "output_type": "stream",
     "text": [
      "rtn_3\n",
      "0.00   -0.141324\n",
      "0.05   -0.091209\n",
      "0.50    0.030010\n",
      "0.95    0.130708\n",
      "1.00    0.257797\n",
      "Name: rtn_3_fixed, dtype: float64\n",
      "rtn_4\n",
      "0.00   -0.188093\n",
      "0.05   -0.074883\n",
      "0.50    0.034096\n",
      "0.95    0.134820\n",
      "1.00    0.234454\n",
      "Name: rtn_4_fixed, dtype: float64\n",
      "rtn_5\n",
      "0.00   -0.143414\n",
      "0.05   -0.081534\n",
      "0.50    0.039171\n",
      "0.95    0.139590\n",
      "1.00    0.202111\n",
      "Name: rtn_5_fixed, dtype: float64\n"
     ]
    }
   ],
   "source": [
    "# Check VaR\n",
    "for rtn in ['rtn_3', 'rtn_4', 'rtn_5']:\n",
    "\n",
    "    print(rtn)\n",
    "    print(\n",
    "        df_result_opt[f'{rtn}_fixed'].quantile([0, 0.05, 0.5, 0.95, 1])\n",
    "    )"
   ]
  },
  {
   "cell_type": "code",
   "execution_count": null,
   "metadata": {},
   "outputs": [],
   "source": []
  }
 ],
 "metadata": {
  "kernelspec": {
   "display_name": "venv",
   "language": "python",
   "name": "python3"
  },
  "language_info": {
   "codemirror_mode": {
    "name": "ipython",
    "version": 3
   },
   "file_extension": ".py",
   "mimetype": "text/x-python",
   "name": "python",
   "nbconvert_exporter": "python",
   "pygments_lexer": "ipython3",
   "version": "3.11.3"
  }
 },
 "nbformat": 4,
 "nbformat_minor": 2
}
