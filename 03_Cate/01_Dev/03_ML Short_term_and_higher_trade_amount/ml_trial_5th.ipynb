{
 "cells": [
  {
   "cell_type": "markdown",
   "metadata": {},
   "source": [
    "#### This Code is the base of the current running Cate ML Model"
   ]
  },
  {
   "cell_type": "code",
   "execution_count": 1,
   "metadata": {},
   "outputs": [],
   "source": [
    "import pandas as pd\n",
    "pd.options.plotting.backend = \"plotly\"\n",
    "\n",
    "import plotly.express as px\n",
    "import plotly.graph_objects as go\n",
    "\n",
    "import numpy as np\n",
    "\n",
    "from make_new_features import get_df_with_features\n",
    "from get_krx_value import get_krx_mean\n",
    "\n",
    "from sklearn.metrics import accuracy_score, precision_score, recall_score, f1_score\n",
    "\n",
    "import warnings\n",
    "warnings.filterwarnings(action='ignore', category=FutureWarning)\n",
    "\n",
    "from xgboost import plot_importance\n",
    "import matplotlib.pyplot as plt"
   ]
  },
  {
   "cell_type": "markdown",
   "metadata": {},
   "source": [
    "#### Preparing Price Dataset"
   ]
  },
  {
   "cell_type": "code",
   "execution_count": 2,
   "metadata": {},
   "outputs": [],
   "source": [
    "SHORT_PERIOD=5\n",
    "MID_PERIOD=10\n",
    "LONG_PERIOD=20\n",
    "\n",
    "try :\n",
    "    df_with_feats = pd.read_pickle(f\"./df_with_feats_f_20130101_t_20230919_{SHORT_PERIOD}_{MID_PERIOD}_{LONG_PERIOD}_with_min_max_ratio.pkl\")\n",
    "    # df_with_feats['date'] = df_with_feats['date'].dt.strftime(\"%Y-%m-%d\")\n",
    "except :\n",
    "    # filtering : Normal Stocks, Not SPAC\n",
    "    df_price = (\n",
    "        pd.read_pickle(\"./df_price_price_only_f_20130101_t_20230919.pkl\")\n",
    "        .loc[lambda df : df[\"code\"].str[5]== \"0\"]\n",
    "        # .loc[lambda df : ~df[\"name\"].str.contains(\"스펙\")]\n",
    "        # .loc[lambda df : ~df[\"name\"].str.contains(\"스팩\")]    \n",
    "    )\n",
    "\n",
    "    df_price['date'] = df_price['date'].dt.strftime(\"%Y-%m-%d\")\n",
    "\n",
    "    try:\n",
    "        df_krx = pd.read_pickle(\"./df_krx.pkl\")\n",
    "    except :\n",
    "        df_krx = get_krx_mean()\n",
    "        df_krx.to_pickle(\"./df_krx.pkl\")\n",
    "\n",
    "    df_price = df_price.merge(\n",
    "        df_krx,\n",
    "        on='date'\n",
    "    )\n",
    "    \n",
    "    df_with_feats = get_df_with_features(\n",
    "        df_price, SHORT_PERIOD=SHORT_PERIOD, MID_PERIOD=MID_PERIOD, LONG_PERIOD=LONG_PERIOD)\n",
    "    df_with_feats.to_pickle(f\"./df_with_feats_f_20130101_t_20230919_{SHORT_PERIOD}_{MID_PERIOD}_{LONG_PERIOD}_with_min_max_ratio.pkl\")"
   ]
  },
  {
   "cell_type": "markdown",
   "metadata": {},
   "source": [
    "## ML"
   ]
  },
  {
   "cell_type": "code",
   "execution_count": 3,
   "metadata": {},
   "outputs": [],
   "source": [
    "import xgboost as xgb\n",
    "from sklearn.model_selection import train_test_split"
   ]
  },
  {
   "cell_type": "code",
   "execution_count": 4,
   "metadata": {},
   "outputs": [
    {
     "data": {
      "text/plain": [
       "count    5.136201e+06\n",
       "mean     6.584938e+09\n",
       "std      4.550187e+10\n",
       "min      0.000000e+00\n",
       "25%      2.354808e+08\n",
       "50%      9.026849e+08\n",
       "75%      3.611053e+09\n",
       "max      1.792124e+13\n",
       "Name: vol_x_price_sma_mid, dtype: float64"
      ]
     },
     "execution_count": 4,
     "metadata": {},
     "output_type": "execute_result"
    }
   ],
   "source": [
    "df_with_feats['vol_x_price_sma_mid'].describe()"
   ]
  },
  {
   "cell_type": "code",
   "execution_count": 5,
   "metadata": {},
   "outputs": [],
   "source": [
    "df_with_feats_ml = (\n",
    "    df_with_feats\n",
    "    .assign(\n",
    "        vol_x_price_sma_long_to_mid = lambda df : df.vol_x_price_sma_long / df.vol_x_price_sma_mid,\n",
    "        vol_x_price_sma_mid_to_short = lambda df : df.vol_x_price_sma_mid / df.vol_x_price_sma_short,\n",
    "    )\n",
    "    .loc[lambda df : df.code.str[5] == '0']\n",
    "    .loc[lambda df : ~df.name.str.contains(\"스펙\")]\n",
    "    .loc[lambda df : ~df.name.str.contains(\"스팩\")]\n",
    "    \n",
    "    .loc[lambda df : df[\"vol_x_price_sma_long\"] >  3.5e+08]  # 0.75e+08\n",
    "    .loc[lambda df : df[\"vol_x_price_sma_long\"] <  9.0e+08]  # 3.5e+08\n",
    "    .loc[lambda df : df[\"vol_zero_count_long\"] == 0]\n",
    "    .loc[lambda df : df[\"change\"] < 0.29]\n",
    "    .loc[lambda df : df[\"volume\"] > 0]\n",
    "\n",
    "    # .loc[lambda df : df.close > 1000]\n",
    ")"
   ]
  },
  {
   "cell_type": "code",
   "execution_count": null,
   "metadata": {},
   "outputs": [],
   "source": [
    "# # All Available Features\n",
    "# for col in df_with_feats_ml.columns:\n",
    "#     print(f\"'{col}',\")"
   ]
  },
  {
   "cell_type": "markdown",
   "metadata": {},
   "source": [
    "#### EDA & Selecting Features"
   ]
  },
  {
   "cell_type": "code",
   "execution_count": 97,
   "metadata": {},
   "outputs": [],
   "source": [
    "feats = [\n",
    "        'change_high',\n",
    "        'change_low',\n",
    "        'change_open',\n",
    "        'close_std_short',\n",
    "        # 'close_std_mid',\n",
    "        # 'close_std_long',\n",
    "        # 'close_mean_short',\n",
    "        # 'close_mean_mid',\n",
    "        # 'close_mean_long',\n",
    "        'close_min_ratio_short',\n",
    "        # 'close_min_ratio_mid',\n",
    "        # 'close_min_ratio_long',\n",
    "        'close_max_ratio_short',\n",
    "        # 'close_max_ratio_mid',\n",
    "        # 'close_max_ratio_long',\n",
    "        # 'open_std_short',\n",
    "        'open_std_mid',\n",
    "        # 'open_std_long',\n",
    "        # 'high_std_short',\n",
    "        'high_std_mid',\n",
    "        # 'high_std_long',\n",
    "        # 'low_std_short',\n",
    "        # 'low_std_mid',\n",
    "        # 'low_std_long',\n",
    "        # 'vol_zero_count_short',\n",
    "        # 'vol_zero_count_mid',\n",
    "        # 'vol_zero_count_long',\n",
    "        'close_change_p_short',\n",
    "        'close_change_p_mid',\n",
    "        'close_change_p_long',\n",
    "        'w_price_vol_corr_long',\n",
    "        'w_price_vol_corr_mid',\n",
    "        'w_price_vol_corr_short',\n",
    "        'krx_corr_short',\n",
    "        'krx_corr_mid',\n",
    "        'krx_corr_long',\n",
    "        # 'krx_change_std_short',\n",
    "        'krx_change_std_mid',\n",
    "        # 'krx_change_std_long',\n",
    "        'vol_x_price_sma_long_to_mid',\n",
    "        'vol_x_price_sma_mid_to_short'\n",
    "    ]"
   ]
  },
  {
   "cell_type": "code",
   "execution_count": 58,
   "metadata": {},
   "outputs": [],
   "source": [
    "# feats = [\n",
    "#         'change_high',\n",
    "#         'change_low',\n",
    "#         'change_open',\n",
    "#         'close_std_short',\n",
    "#         # 'close_std_mid',\n",
    "#         'close_std_long',\n",
    "#         # 'close_mean_short',\n",
    "#         # 'close_mean_mid',\n",
    "#         # 'close_mean_long',\n",
    "#         # 'close_min_ratio_short',\n",
    "#         'close_min_ratio_mid',\n",
    "#         'close_min_ratio_long',\n",
    "#         # 'close_max_ratio_short',\n",
    "#         'close_max_ratio_mid',\n",
    "#         'close_max_ratio_long',\n",
    "#         'open_std_short',\n",
    "#         # 'open_std_mid',\n",
    "#         'open_std_long',\n",
    "#         'high_std_short',\n",
    "#         'high_std_mid',\n",
    "#         'high_std_long',\n",
    "#         'low_std_short',\n",
    "#         # 'low_std_mid',\n",
    "#         'low_std_long',\n",
    "#         # 'vol_zero_count_short',\n",
    "#         # 'vol_zero_count_mid',\n",
    "#         # 'vol_zero_count_long',\n",
    "#         # 'close_change_p_short',\n",
    "#         'close_change_p_mid',\n",
    "#         'close_change_p_long',\n",
    "#         'w_price_vol_corr_long',\n",
    "#         'w_price_vol_corr_mid',\n",
    "#         'w_price_vol_corr_short',\n",
    "#         'krx_corr_short',\n",
    "#         'krx_corr_mid',\n",
    "#         'krx_corr_long',\n",
    "#         # 'krx_change_std_short',\n",
    "#         # 'krx_change_std_mid',\n",
    "#         # 'krx_change_std_long',\n",
    "#         'vol_x_price_sma_long_to_mid',\n",
    "#         'vol_x_price_sma_mid_to_short'\n",
    "#     ]"
   ]
  },
  {
   "cell_type": "code",
   "execution_count": 98,
   "metadata": {},
   "outputs": [],
   "source": [
    "corr_matrix = df_with_feats_ml[feats].corr()\n",
    "\n",
    "upper = corr_matrix.where(~np.tril(np.ones(corr_matrix.shape)).astype(bool))\n",
    "\n",
    "# Find the pairs where the absolute value of correlation is greater than 0.75\n",
    "high_corr_pairs = [(column, index) for column, rowIndex in zip(upper.columns, upper.index) \n",
    "                   for index, value in upper[column].items() if abs(value) > 0.8]\n",
    "\n",
    "# Print the high correlation pairs\n",
    "for pair in high_corr_pairs:\n",
    "    print(pair)"
   ]
  },
  {
   "cell_type": "code",
   "execution_count": 100,
   "metadata": {},
   "outputs": [],
   "source": [
    "# For fixed length train dataset\n",
    "\n",
    "import exchange_calendars as xcals\n",
    "krx_cal = xcals.get_calendar(\"XKRX\")\n",
    "\n",
    "max_date = '2023-09-19'\n",
    "# max_date = '2024-01-19'\n",
    "start_date = '2015-01-02'\n",
    "\n",
    "finish = False\n",
    "dates = []\n",
    "\n",
    "len_of_train = 100\n",
    "gap_from_last_train_date = 7 # This number depends on the target ( rtn_5 -> 7, rnt_20 -> 22)\n",
    "len_of_pred = 10 # The length of pred for 1 model update\n",
    "\n",
    "while not finish :\n",
    "    train_end = krx_cal.sessions_window(start_date, len_of_train)[-1].strftime(\"%Y-%m-%d\")\n",
    "    oos_start = krx_cal.sessions_window(train_end, gap_from_last_train_date)[-1].strftime(\"%Y-%m-%d\")\n",
    "    oos_end = krx_cal.sessions_window(oos_start, len_of_pred)[-1].strftime(\"%Y-%m-%d\")\n",
    "\n",
    "    if oos_end > max_date :\n",
    "        dates.append(\n",
    "            (start_date, train_end, oos_start, max_date)\n",
    "        )\n",
    "        finish = True\n",
    "\n",
    "    else :\n",
    "        dates.append(\n",
    "            (start_date, train_end, oos_start, oos_end)\n",
    "        )\n",
    "\n",
    "        start_date = krx_cal.sessions_window(start_date, len_of_pred)[-1].strftime(\"%Y-%m-%d\")"
   ]
  },
  {
   "cell_type": "markdown",
   "metadata": {},
   "source": [
    "#### Create df_oos_with_proba"
   ]
  },
  {
   "cell_type": "code",
   "execution_count": 101,
   "metadata": {},
   "outputs": [],
   "source": [
    "def run_ml_multi_seed(features, idx0, idx1, fixed, target):\n",
    "\n",
    "    feats = features\n",
    "    \n",
    "    THRES_OF_PROBA = 0.5\n",
    "\n",
    "    rtn_in_period = []\n",
    "    l_df = []\n",
    "\n",
    "    if fixed:\n",
    "        print(\"fixed\")\n",
    "    else :\n",
    "        print(\"float\")\n",
    "\n",
    "    for train_start, train_end, oos_start, oos_end in dates[idx0 : idx1]:\n",
    "\n",
    "        df_train_set = df_with_feats_ml.loc[lambda df : df.date >= train_start].loc[lambda df : df.date < train_end]\n",
    "        df_oos_set = df_with_feats_ml.loc[lambda df : df.date >= oos_start].loc[lambda df : df.date < oos_end]\n",
    "\n",
    "        df_train_set_ = (\n",
    "            df_train_set\n",
    "            .replace([-np.inf, np.inf], np.nan)\n",
    "            .dropna(subset=feats)\n",
    "            .reset_index(drop=True)\n",
    "        )\n",
    "\n",
    "        if fixed:\n",
    "            THRES_OF_TRUE = 0.05\n",
    "        else :\n",
    "            THRES_OF_TRUE = df_train_set_[target].quantile(0.8)\n",
    "        \n",
    "        # print(df_train_set_[target].quantile([0.7, 0.8, 0.85,0.9]))\n",
    "\n",
    "        df_oos_set_ = (\n",
    "            df_oos_set      \n",
    "            .replace([-np.inf, np.inf], np.nan)\n",
    "            .dropna(subset=feats)\n",
    "            .reset_index(drop=True)\n",
    "        )\n",
    "\n",
    "        df_train_set_[\"target\"] = (\n",
    "                df_train_set_[target].apply(lambda x : 1 if x > THRES_OF_TRUE else 0)\n",
    "            )\n",
    "\n",
    "        feature_df = df_train_set_[feats]\n",
    "        target_df = df_train_set_[\"target\"]\n",
    "\n",
    "        feature_df_oos = df_oos_set_[feats]\n",
    "\n",
    "        doos = xgb.DMatrix(feature_df_oos)        \n",
    "\n",
    "        if df_oos_set_.shape[0] > 0:\n",
    "            \n",
    "            col_list = []\n",
    "            for id, seed in enumerate([6, 13]): #, 5, 2\n",
    "\n",
    "                X_train, X_valid, y_train, y_valid = train_test_split(\n",
    "                    feature_df, target_df, test_size=0.3, random_state=seed\n",
    "                )\n",
    "\n",
    "                # Create DMatrix for training and validation data\n",
    "                dtrain = xgb.DMatrix(X_train, label=y_train)\n",
    "                dvalid = xgb.DMatrix(X_valid, label=y_valid)\n",
    "\n",
    "                evals = [(dtrain, 'train'), (dvalid, 'eval')]\n",
    "\n",
    "                params = {\n",
    "                    'max_depth': 5, # Adjust based on your dataset : originally 5 --> try 8\n",
    "                    'eta': 0.05,     # Learning rate : originally 0.05\n",
    "                    'objective': 'binary:logistic',\n",
    "                    'eval_metric': 'logloss',  # Or use 'auc', 'error', etc. based on your problem\n",
    "                    'random_state': 42,\n",
    "                }\n",
    "\n",
    "                model = xgb.train(\n",
    "                    params, dtrain,\n",
    "                    1000,\n",
    "                    evals=evals,\n",
    "                    early_stopping_rounds=50,\n",
    "                    verbose_eval=False\n",
    "                )\n",
    "\n",
    "                df_oos_set_[f\"pred_proba_{id}\"] = model.predict(doos)\n",
    "                col_list.append(f\"pred_proba_{id}\")\n",
    "            \n",
    "            df_oos_set_[\"proba_mean\"] = df_oos_set_[col_list].mean(axis=1)\n",
    "            df_oos_set_[\"proba_max\"] = df_oos_set_[col_list].max(axis=1)\n",
    "\n",
    "            l_df.append(df_oos_set_)\n",
    "\n",
    "            sr_selected_mean_mean = (\n",
    "                df_oos_set_\n",
    "                .loc[lambda df : df['proba_mean'] > THRES_OF_PROBA]\n",
    "                .sort_values('proba_mean', ascending=False)\n",
    "                .groupby('date')\n",
    "                .head(5)\n",
    "                .reset_index()\n",
    "                .groupby('date')[target]\n",
    "                .mean()\n",
    "                -0.0023\n",
    "            )       \n",
    "\n",
    "            sr_selected_mean_max = (\n",
    "                df_oos_set_\n",
    "                .loc[lambda df : df['proba_mean'] > THRES_OF_PROBA]\n",
    "                .sort_values('proba_max', ascending=False)\n",
    "                .groupby('date')\n",
    "                .head(5)\n",
    "                .reset_index()\n",
    "                .groupby('date')[target]\n",
    "                .mean()\n",
    "                -0.0023\n",
    "            )      \n",
    "\n",
    "            sr_selected_max_mean = (\n",
    "                df_oos_set_\n",
    "                .loc[lambda df : df['proba_max'] > THRES_OF_PROBA]\n",
    "                .sort_values('proba_mean', ascending=False)\n",
    "                .groupby('date')\n",
    "                .head(5)\n",
    "                .reset_index()\n",
    "                .groupby('date')[target]\n",
    "                .mean()\n",
    "                -0.0023\n",
    "            )    \n",
    "\n",
    "            sr_selected_max_max = (\n",
    "                df_oos_set_\n",
    "                .loc[lambda df : df['proba_max'] > THRES_OF_PROBA]\n",
    "                .sort_values('proba_max', ascending=False)\n",
    "                .groupby('date')\n",
    "                .head(5)\n",
    "                .reset_index()\n",
    "                .groupby('date')[target]\n",
    "                .mean()\n",
    "                -0.0023\n",
    "            )     \n",
    "\n",
    "            rtn_in_period.append(\n",
    "                {\n",
    "                    'date' : oos_end,\n",
    "                    \"return_mean_mean\" : sr_selected_mean_mean.sum()/(int(target.split('_')[-1]) + 1),\n",
    "                    'return_mean_max' : sr_selected_mean_max.sum()/(int(target.split('_')[-1]) + 1),\n",
    "                    'return_max_mean' : sr_selected_max_mean.sum()/(int(target.split('_')[-1]) + 1),\n",
    "                    'return_max_max' : sr_selected_max_max.sum()/(int(target.split('_')[-1]) + 1),\n",
    "                    'date_n' : sr_selected_mean_max.shape[0]\n",
    "                }\n",
    "            )\n",
    "\n",
    "        else :\n",
    "\n",
    "        \n",
    "            # cumsum += 0\n",
    "            rtn_in_period.append(\n",
    "                {\n",
    "                    'date' : oos_end,\n",
    "                    \"return_mean_mean\" : 0,\n",
    "                    'return_mean_max' : 0,\n",
    "                    'return_max_mean' : 0,\n",
    "                    'return_max_max' : 0,\n",
    "                    'date_n' : 0\n",
    "                }\n",
    "            )\n",
    "        \n",
    "        # plot_importance(model)\n",
    "        # plt.show()\n",
    "        \n",
    "    return rtn_in_period, l_df"
   ]
  },
  {
   "cell_type": "code",
   "execution_count": 119,
   "metadata": {},
   "outputs": [
    {
     "name": "stdout",
     "output_type": "stream",
     "text": [
      "rtn_5\n",
      "fixed\n",
      "return_mean_mean\n",
      "Cumsum : 1.79\n",
      "\n",
      "\n",
      "return_mean_max\n",
      "Cumsum : 1.7\n",
      "\n",
      "\n",
      "return_max_mean\n",
      "Cumsum : 2.25\n",
      "\n",
      "\n",
      "return_max_max\n",
      "Cumsum : 2.25\n",
      "\n",
      "\n",
      "date_n\n",
      "Cumsum : 1053\n",
      "\n",
      "\n"
     ]
    }
   ],
   "source": [
    "for feat_var, target_var in [(feats, 'rtn_5')]: # , (feats, 'rtn_4'), (feats, 'rtn_5')\n",
    "\n",
    "    feats = feat_var\n",
    "    target = target_var\n",
    "\n",
    "    for tf in [True] : #, False]:\n",
    "\n",
    "        print(target)\n",
    "\n",
    "        oos_test_result, dfs = run_ml_multi_seed(feats, 0, -1, tf, target)\n",
    "        df_oos_result = pd.DataFrame(oos_test_result)\n",
    "        df_oos_result = df_oos_result.set_index('date')\n",
    "\n",
    "        if tf:\n",
    "            df_oos_with_proba_fixed = pd.concat(dfs)\n",
    "            df_oos_with_proba_fixed.to_pickle(f\"df_oos_with_proba_fixed_{target}.pkl\")\n",
    "        else:\n",
    "            df_oos_with_proba_float = pd.concat(dfs)\n",
    "            df_oos_with_proba_float.to_pickle(f\"df_oos_with_proba_float_{target}.pkl\")\n",
    "\n",
    "        for col in df_oos_result.columns:\n",
    "            sr = (df_oos_result[col]+1)\n",
    "            sr_org = df_oos_result[col]\n",
    "\n",
    "            print(col)\n",
    "            print(f\"Cumsum : {round(sr_org.cumsum().iloc[-1],2)}\")\n",
    "            # print(f\"Prod : {round(sr.cumprod()[-1],2)}\")\n",
    "            # print(f\"Prod Max : {round(sr.cumprod().max(),2)}\")\n",
    "            # print(f\"Prod Min : {round(sr.cumprod().min(),2)}\")\n",
    "            # print(f\"min : {round(sr_org.min(),3)}\")\n",
    "            # print(f\"std : {round(sr_org.std(),3)}\")\n",
    "            # print(f\"mean : {round(sr_org.mean(),3)}\")\n",
    "            print('\\n')\n"
   ]
  },
  {
   "cell_type": "code",
   "execution_count": 120,
   "metadata": {},
   "outputs": [
    {
     "data": {
      "text/html": [
       "<div>\n",
       "<style scoped>\n",
       "    .dataframe tbody tr th:only-of-type {\n",
       "        vertical-align: middle;\n",
       "    }\n",
       "\n",
       "    .dataframe tbody tr th {\n",
       "        vertical-align: top;\n",
       "    }\n",
       "\n",
       "    .dataframe thead th {\n",
       "        text-align: right;\n",
       "    }\n",
       "</style>\n",
       "<table border=\"1\" class=\"dataframe\">\n",
       "  <thead>\n",
       "    <tr style=\"text-align: right;\">\n",
       "      <th></th>\n",
       "      <th>return_mean_mean</th>\n",
       "      <th>return_mean_max</th>\n",
       "      <th>return_max_mean</th>\n",
       "      <th>return_max_max</th>\n",
       "      <th>date_n</th>\n",
       "    </tr>\n",
       "    <tr>\n",
       "      <th>date</th>\n",
       "      <th></th>\n",
       "      <th></th>\n",
       "      <th></th>\n",
       "      <th></th>\n",
       "      <th></th>\n",
       "    </tr>\n",
       "  </thead>\n",
       "  <tbody>\n",
       "    <tr>\n",
       "      <th>2015-06-19</th>\n",
       "      <td>-0.025599</td>\n",
       "      <td>-0.040014</td>\n",
       "      <td>-0.016572</td>\n",
       "      <td>-0.022543</td>\n",
       "      <td>9</td>\n",
       "    </tr>\n",
       "    <tr>\n",
       "      <th>2015-07-02</th>\n",
       "      <td>-0.051401</td>\n",
       "      <td>-0.049586</td>\n",
       "      <td>-0.046874</td>\n",
       "      <td>-0.050684</td>\n",
       "      <td>9</td>\n",
       "    </tr>\n",
       "    <tr>\n",
       "      <th>2015-07-15</th>\n",
       "      <td>0.099078</td>\n",
       "      <td>0.089589</td>\n",
       "      <td>0.090184</td>\n",
       "      <td>0.064137</td>\n",
       "      <td>9</td>\n",
       "    </tr>\n",
       "    <tr>\n",
       "      <th>2015-07-28</th>\n",
       "      <td>0.025418</td>\n",
       "      <td>0.022438</td>\n",
       "      <td>-0.030678</td>\n",
       "      <td>-0.039572</td>\n",
       "      <td>9</td>\n",
       "    </tr>\n",
       "    <tr>\n",
       "      <th>2015-08-10</th>\n",
       "      <td>0.003500</td>\n",
       "      <td>0.009718</td>\n",
       "      <td>-0.000479</td>\n",
       "      <td>0.005386</td>\n",
       "      <td>8</td>\n",
       "    </tr>\n",
       "  </tbody>\n",
       "</table>\n",
       "</div>"
      ],
      "text/plain": [
       "            return_mean_mean  return_mean_max  return_max_mean  \\\n",
       "date                                                             \n",
       "2015-06-19         -0.025599        -0.040014        -0.016572   \n",
       "2015-07-02         -0.051401        -0.049586        -0.046874   \n",
       "2015-07-15          0.099078         0.089589         0.090184   \n",
       "2015-07-28          0.025418         0.022438        -0.030678   \n",
       "2015-08-10          0.003500         0.009718        -0.000479   \n",
       "\n",
       "            return_max_max  date_n  \n",
       "date                                \n",
       "2015-06-19       -0.022543       9  \n",
       "2015-07-02       -0.050684       9  \n",
       "2015-07-15        0.064137       9  \n",
       "2015-07-28       -0.039572       9  \n",
       "2015-08-10        0.005386       8  "
      ]
     },
     "execution_count": 120,
     "metadata": {},
     "output_type": "execute_result"
    }
   ],
   "source": [
    "df_oos_result.head()"
   ]
  },
  {
   "cell_type": "code",
   "execution_count": 121,
   "metadata": {},
   "outputs": [
    {
     "data": {
      "application/vnd.plotly.v1+json": {
       "config": {
        "plotlyServerURL": "https://plot.ly"
       },
       "data": [
        {
         "hovertemplate": "variable=return_max_mean<br>date=%{x}<br>value=%{y}<extra></extra>",
         "legendgroup": "return_max_mean",
         "line": {
          "color": "#636efa",
          "dash": "solid"
         },
         "marker": {
          "symbol": "circle"
         },
         "mode": "lines",
         "name": "return_max_mean",
         "orientation": "v",
         "showlegend": true,
         "type": "scatter",
         "x": [
          "2015-06-19",
          "2015-07-02",
          "2015-07-15",
          "2015-07-28",
          "2015-08-10",
          "2015-08-24",
          "2015-09-04",
          "2015-09-17",
          "2015-10-02",
          "2015-10-16",
          "2015-10-29",
          "2015-11-11",
          "2015-11-24",
          "2015-12-07",
          "2015-12-18",
          "2016-01-05",
          "2016-01-18",
          "2016-01-29",
          "2016-02-16",
          "2016-02-29",
          "2016-03-14",
          "2016-03-25",
          "2016-04-07",
          "2016-04-21",
          "2016-05-04",
          "2016-05-19",
          "2016-06-01",
          "2016-06-15",
          "2016-06-28",
          "2016-07-11",
          "2016-07-22",
          "2016-08-04",
          "2016-08-18",
          "2016-08-31",
          "2016-09-13",
          "2016-09-29",
          "2016-10-13",
          "2016-10-26",
          "2016-11-08",
          "2016-11-21",
          "2016-12-02",
          "2016-12-15",
          "2016-12-28",
          "2017-01-11",
          "2017-01-24",
          "2017-02-08",
          "2017-02-21",
          "2017-03-07",
          "2017-03-20",
          "2017-03-31",
          "2017-04-13",
          "2017-04-26",
          "2017-05-15",
          "2017-05-26",
          "2017-06-09",
          "2017-06-22",
          "2017-07-05",
          "2017-07-18",
          "2017-07-31",
          "2017-08-11",
          "2017-08-25",
          "2017-09-07",
          "2017-09-20",
          "2017-10-11",
          "2017-10-24",
          "2017-11-06",
          "2017-11-17",
          "2017-11-30",
          "2017-12-13",
          "2017-12-27",
          "2018-01-11",
          "2018-01-24",
          "2018-02-06",
          "2018-02-21",
          "2018-03-07",
          "2018-03-20",
          "2018-04-02",
          "2018-04-13",
          "2018-04-26",
          "2018-05-11",
          "2018-05-25",
          "2018-06-08",
          "2018-06-22",
          "2018-07-05",
          "2018-07-18",
          "2018-07-31",
          "2018-08-13",
          "2018-08-27",
          "2018-09-07",
          "2018-09-20",
          "2018-10-10",
          "2018-10-23",
          "2018-11-05",
          "2018-11-16",
          "2018-11-29",
          "2018-12-12",
          "2018-12-26",
          "2019-01-10",
          "2019-01-23",
          "2019-02-08",
          "2019-02-21",
          "2019-03-07",
          "2019-03-20",
          "2019-04-02",
          "2019-04-15",
          "2019-04-26",
          "2019-05-13",
          "2019-05-24",
          "2019-06-07",
          "2019-06-20",
          "2019-07-03",
          "2019-07-16",
          "2019-07-29",
          "2019-08-09",
          "2019-08-23",
          "2019-09-05",
          "2019-09-20",
          "2019-10-04",
          "2019-10-18",
          "2019-10-31",
          "2019-11-13",
          "2019-11-26",
          "2019-12-09",
          "2019-12-20",
          "2020-01-07",
          "2020-01-20",
          "2020-02-04",
          "2020-02-17",
          "2020-02-28",
          "2020-03-12",
          "2020-03-25",
          "2020-04-07",
          "2020-04-21",
          "2020-05-07",
          "2020-05-20",
          "2020-06-02",
          "2020-06-15",
          "2020-06-26",
          "2020-07-09",
          "2020-07-22",
          "2020-08-04",
          "2020-08-18",
          "2020-08-31",
          "2020-09-11",
          "2020-09-24",
          "2020-10-13",
          "2020-10-26",
          "2020-11-06",
          "2020-11-19",
          "2020-12-02",
          "2020-12-15",
          "2020-12-29",
          "2021-01-13",
          "2021-01-26",
          "2021-02-08",
          "2021-02-23",
          "2021-03-09",
          "2021-03-22",
          "2021-04-02",
          "2021-04-15",
          "2021-04-28",
          "2021-05-12",
          "2021-05-26",
          "2021-06-08",
          "2021-06-21",
          "2021-07-02",
          "2021-07-15",
          "2021-07-28",
          "2021-08-10",
          "2021-08-24",
          "2021-09-06",
          "2021-09-17",
          "2021-10-06",
          "2021-10-20",
          "2021-11-02",
          "2021-11-15",
          "2021-11-26",
          "2021-12-09",
          "2021-12-22",
          "2022-01-05",
          "2022-01-18",
          "2022-02-03",
          "2022-02-16",
          "2022-03-02",
          "2022-03-16",
          "2022-03-29",
          "2022-04-11",
          "2022-04-22",
          "2022-05-06",
          "2022-05-19",
          "2022-06-02",
          "2022-06-16",
          "2022-06-29",
          "2022-07-12",
          "2022-07-25",
          "2022-08-05",
          "2022-08-19",
          "2022-09-01",
          "2022-09-16",
          "2022-09-29",
          "2022-10-14",
          "2022-10-27",
          "2022-11-09",
          "2022-11-22",
          "2022-12-05",
          "2022-12-16",
          "2022-12-29",
          "2023-01-12",
          "2023-01-27",
          "2023-02-09",
          "2023-02-22",
          "2023-03-08",
          "2023-03-21",
          "2023-04-03",
          "2023-04-14",
          "2023-04-27",
          "2023-05-12",
          "2023-05-25",
          "2023-06-09",
          "2023-06-22",
          "2023-07-05",
          "2023-07-18",
          "2023-07-31",
          "2023-08-11",
          "2023-08-25",
          "2023-09-07"
         ],
         "xaxis": "x",
         "y": [
          -0.01657177879426017,
          -0.06344580439431147,
          0.02673776733337367,
          -0.0039404374288555255,
          -0.004419469900956673,
          -0.049161921164803876,
          0.0014906954778900958,
          0.07011729337703512,
          0.0836187659573374,
          0.11975688584708367,
          0.1889213994681015,
          0.18410883833535835,
          0.22384374452245673,
          0.19937332832785953,
          0.2511354744897503,
          0.24082939020888222,
          0.23216338879906637,
          0.2745415315050789,
          0.2748679751162221,
          0.3838585983657312,
          0.40393855976549886,
          0.44218486559887643,
          0.5085966872236138,
          0.4691006910287052,
          0.4415652013819584,
          0.4402407030744387,
          0.48154630086778066,
          0.4563827758181802,
          0.45307898698429305,
          0.5145493834398804,
          0.5354739630937589,
          0.5145035046887724,
          0.5056687239968394,
          0.5022838269983291,
          0.5242391868839845,
          0.5462065070456964,
          0.5193378271782009,
          0.46170823108795384,
          0.44201217863868014,
          0.45176203844449214,
          0.4609384250277528,
          0.5198834225648489,
          0.5391660987263833,
          0.5140448128494096,
          0.5122283517717382,
          0.5283402792049858,
          0.5352789306622209,
          0.5045564925447695,
          0.49188903324531746,
          0.45718699340677493,
          0.4519864047338286,
          0.4825470994852547,
          0.4719311032078338,
          0.49046315409999464,
          0.47951203115581026,
          0.4886324580189943,
          0.469829544279999,
          0.47863966253945356,
          0.4246837048005768,
          0.4181524557685333,
          0.41755468670147916,
          0.47147174776057466,
          0.4194220787906636,
          0.45869575051069783,
          0.45001521987934473,
          0.4756335983834775,
          0.4740631719277622,
          0.4903540604085219,
          0.47966405141213725,
          0.492723704330282,
          0.5244303402469191,
          0.5468889347744244,
          0.6074754181219284,
          0.6470177860234887,
          0.6916413915469236,
          0.7081665743539878,
          0.7235454854842535,
          0.7235513001337255,
          0.7668222920659536,
          0.7508582225513363,
          0.7424721278928014,
          0.7653474343614907,
          0.8016421381495816,
          0.7960943819671115,
          0.7672418923125733,
          0.7739971374641341,
          0.7662483062340792,
          0.7848661099325739,
          0.8224252656651263,
          0.7964934654744784,
          0.7241637871128759,
          0.7529105221881559,
          0.8402286181422808,
          0.8458067570986898,
          0.8652861530367614,
          0.8616478113305648,
          0.8500897125583625,
          0.8513802782483112,
          0.8492673541104971,
          0.9004784283566843,
          0.8573771824195768,
          0.8626787561247254,
          0.8564169524257383,
          0.9279051648817602,
          0.9528252228333745,
          0.9334699318522403,
          0.9229911386849546,
          0.9073120734242802,
          1.0193874559514178,
          1.0359559077887643,
          1.0513608549162774,
          1.0324236592785365,
          0.9457633978286646,
          0.947403181086542,
          0.9242449014055072,
          0.9193235445305001,
          0.9292820609763814,
          0.922893921931255,
          0.8857682229667146,
          0.883509214771774,
          1.0483809795046684,
          1.0517960739468826,
          1.0860317444655385,
          1.0966029462795974,
          1.1264263111279715,
          1.0746920126882777,
          1.0721344128505046,
          1.0799022847256088,
          1.0090179239575594,
          0.8089069202489634,
          0.848885065721464,
          0.8957908514177695,
          0.9370831184940488,
          1.0315841122446643,
          1.0696440721022669,
          1.0634598788121288,
          1.0043092244247862,
          1.0759192422784964,
          1.066424629319461,
          1.1047945497116665,
          1.1107661348905933,
          1.0703617926567903,
          1.1815475075592579,
          1.2546596633615117,
          1.2548695579186577,
          1.351438821627251,
          1.2774909457900137,
          1.3235110336654192,
          1.3504131785131714,
          1.4449386163888294,
          1.4535915073004708,
          1.4543108854411184,
          1.4614364919867513,
          1.4810375967808764,
          1.503443939891872,
          1.5372742156927792,
          1.561305301765442,
          1.624268649642132,
          1.6270300719206352,
          1.6372247421548438,
          1.663099113084238,
          1.696990259547306,
          1.6927241553809966,
          1.7219689054781475,
          1.734375907805636,
          1.7473418000666223,
          1.745805547644245,
          1.7327556311612102,
          1.6978423243743388,
          1.6672342840267962,
          1.673006394806237,
          1.6751823434125603,
          1.6345992894132253,
          1.6912944288237806,
          1.6990070044793786,
          1.6923142946459095,
          1.6676382147414275,
          1.731204882376154,
          1.6950217193731227,
          1.7627639621480646,
          1.7140724935103806,
          1.7429678345223434,
          1.7270132825787199,
          1.7291583851270722,
          1.7850859577047522,
          1.9530826277565365,
          1.9264840917597372,
          1.9393396332510284,
          1.9358315421738046,
          1.9270815174802576,
          1.980754400070996,
          1.9797634864721885,
          1.9483801518142556,
          2.0097095774644633,
          2.043388583761158,
          2.0774297596977895,
          2.0609623116920184,
          2.0240351553540825,
          1.9750927691186506,
          1.9023729104704732,
          2.0148465832894713,
          2.0220477638874,
          2.0368172454424567,
          2.0210124235386817,
          2.016935157448957,
          1.9914635562509726,
          1.9690000549790676,
          1.9690000549790676,
          1.9767055268272191,
          2.007320199591072,
          1.9984004853623585,
          1.9809068858693293,
          2.0579040359103282,
          2.1426400698440187,
          2.2634968696684203,
          2.2393480334464675,
          2.2130725697515845,
          2.274156757241559,
          2.292865475345246,
          2.3016873291691904,
          2.2626101145802013,
          2.222831808939191,
          2.1937318982645495,
          2.224860197759357,
          2.2657068599863535,
          2.253121681856988
         ],
         "yaxis": "y"
        }
       ],
       "layout": {
        "legend": {
         "title": {
          "text": "variable"
         },
         "tracegroupgap": 0
        },
        "margin": {
         "t": 60
        },
        "template": {
         "data": {
          "bar": [
           {
            "error_x": {
             "color": "#2a3f5f"
            },
            "error_y": {
             "color": "#2a3f5f"
            },
            "marker": {
             "line": {
              "color": "#E5ECF6",
              "width": 0.5
             },
             "pattern": {
              "fillmode": "overlay",
              "size": 10,
              "solidity": 0.2
             }
            },
            "type": "bar"
           }
          ],
          "barpolar": [
           {
            "marker": {
             "line": {
              "color": "#E5ECF6",
              "width": 0.5
             },
             "pattern": {
              "fillmode": "overlay",
              "size": 10,
              "solidity": 0.2
             }
            },
            "type": "barpolar"
           }
          ],
          "carpet": [
           {
            "aaxis": {
             "endlinecolor": "#2a3f5f",
             "gridcolor": "white",
             "linecolor": "white",
             "minorgridcolor": "white",
             "startlinecolor": "#2a3f5f"
            },
            "baxis": {
             "endlinecolor": "#2a3f5f",
             "gridcolor": "white",
             "linecolor": "white",
             "minorgridcolor": "white",
             "startlinecolor": "#2a3f5f"
            },
            "type": "carpet"
           }
          ],
          "choropleth": [
           {
            "colorbar": {
             "outlinewidth": 0,
             "ticks": ""
            },
            "type": "choropleth"
           }
          ],
          "contour": [
           {
            "colorbar": {
             "outlinewidth": 0,
             "ticks": ""
            },
            "colorscale": [
             [
              0,
              "#0d0887"
             ],
             [
              0.1111111111111111,
              "#46039f"
             ],
             [
              0.2222222222222222,
              "#7201a8"
             ],
             [
              0.3333333333333333,
              "#9c179e"
             ],
             [
              0.4444444444444444,
              "#bd3786"
             ],
             [
              0.5555555555555556,
              "#d8576b"
             ],
             [
              0.6666666666666666,
              "#ed7953"
             ],
             [
              0.7777777777777778,
              "#fb9f3a"
             ],
             [
              0.8888888888888888,
              "#fdca26"
             ],
             [
              1,
              "#f0f921"
             ]
            ],
            "type": "contour"
           }
          ],
          "contourcarpet": [
           {
            "colorbar": {
             "outlinewidth": 0,
             "ticks": ""
            },
            "type": "contourcarpet"
           }
          ],
          "heatmap": [
           {
            "colorbar": {
             "outlinewidth": 0,
             "ticks": ""
            },
            "colorscale": [
             [
              0,
              "#0d0887"
             ],
             [
              0.1111111111111111,
              "#46039f"
             ],
             [
              0.2222222222222222,
              "#7201a8"
             ],
             [
              0.3333333333333333,
              "#9c179e"
             ],
             [
              0.4444444444444444,
              "#bd3786"
             ],
             [
              0.5555555555555556,
              "#d8576b"
             ],
             [
              0.6666666666666666,
              "#ed7953"
             ],
             [
              0.7777777777777778,
              "#fb9f3a"
             ],
             [
              0.8888888888888888,
              "#fdca26"
             ],
             [
              1,
              "#f0f921"
             ]
            ],
            "type": "heatmap"
           }
          ],
          "heatmapgl": [
           {
            "colorbar": {
             "outlinewidth": 0,
             "ticks": ""
            },
            "colorscale": [
             [
              0,
              "#0d0887"
             ],
             [
              0.1111111111111111,
              "#46039f"
             ],
             [
              0.2222222222222222,
              "#7201a8"
             ],
             [
              0.3333333333333333,
              "#9c179e"
             ],
             [
              0.4444444444444444,
              "#bd3786"
             ],
             [
              0.5555555555555556,
              "#d8576b"
             ],
             [
              0.6666666666666666,
              "#ed7953"
             ],
             [
              0.7777777777777778,
              "#fb9f3a"
             ],
             [
              0.8888888888888888,
              "#fdca26"
             ],
             [
              1,
              "#f0f921"
             ]
            ],
            "type": "heatmapgl"
           }
          ],
          "histogram": [
           {
            "marker": {
             "pattern": {
              "fillmode": "overlay",
              "size": 10,
              "solidity": 0.2
             }
            },
            "type": "histogram"
           }
          ],
          "histogram2d": [
           {
            "colorbar": {
             "outlinewidth": 0,
             "ticks": ""
            },
            "colorscale": [
             [
              0,
              "#0d0887"
             ],
             [
              0.1111111111111111,
              "#46039f"
             ],
             [
              0.2222222222222222,
              "#7201a8"
             ],
             [
              0.3333333333333333,
              "#9c179e"
             ],
             [
              0.4444444444444444,
              "#bd3786"
             ],
             [
              0.5555555555555556,
              "#d8576b"
             ],
             [
              0.6666666666666666,
              "#ed7953"
             ],
             [
              0.7777777777777778,
              "#fb9f3a"
             ],
             [
              0.8888888888888888,
              "#fdca26"
             ],
             [
              1,
              "#f0f921"
             ]
            ],
            "type": "histogram2d"
           }
          ],
          "histogram2dcontour": [
           {
            "colorbar": {
             "outlinewidth": 0,
             "ticks": ""
            },
            "colorscale": [
             [
              0,
              "#0d0887"
             ],
             [
              0.1111111111111111,
              "#46039f"
             ],
             [
              0.2222222222222222,
              "#7201a8"
             ],
             [
              0.3333333333333333,
              "#9c179e"
             ],
             [
              0.4444444444444444,
              "#bd3786"
             ],
             [
              0.5555555555555556,
              "#d8576b"
             ],
             [
              0.6666666666666666,
              "#ed7953"
             ],
             [
              0.7777777777777778,
              "#fb9f3a"
             ],
             [
              0.8888888888888888,
              "#fdca26"
             ],
             [
              1,
              "#f0f921"
             ]
            ],
            "type": "histogram2dcontour"
           }
          ],
          "mesh3d": [
           {
            "colorbar": {
             "outlinewidth": 0,
             "ticks": ""
            },
            "type": "mesh3d"
           }
          ],
          "parcoords": [
           {
            "line": {
             "colorbar": {
              "outlinewidth": 0,
              "ticks": ""
             }
            },
            "type": "parcoords"
           }
          ],
          "pie": [
           {
            "automargin": true,
            "type": "pie"
           }
          ],
          "scatter": [
           {
            "fillpattern": {
             "fillmode": "overlay",
             "size": 10,
             "solidity": 0.2
            },
            "type": "scatter"
           }
          ],
          "scatter3d": [
           {
            "line": {
             "colorbar": {
              "outlinewidth": 0,
              "ticks": ""
             }
            },
            "marker": {
             "colorbar": {
              "outlinewidth": 0,
              "ticks": ""
             }
            },
            "type": "scatter3d"
           }
          ],
          "scattercarpet": [
           {
            "marker": {
             "colorbar": {
              "outlinewidth": 0,
              "ticks": ""
             }
            },
            "type": "scattercarpet"
           }
          ],
          "scattergeo": [
           {
            "marker": {
             "colorbar": {
              "outlinewidth": 0,
              "ticks": ""
             }
            },
            "type": "scattergeo"
           }
          ],
          "scattergl": [
           {
            "marker": {
             "colorbar": {
              "outlinewidth": 0,
              "ticks": ""
             }
            },
            "type": "scattergl"
           }
          ],
          "scattermapbox": [
           {
            "marker": {
             "colorbar": {
              "outlinewidth": 0,
              "ticks": ""
             }
            },
            "type": "scattermapbox"
           }
          ],
          "scatterpolar": [
           {
            "marker": {
             "colorbar": {
              "outlinewidth": 0,
              "ticks": ""
             }
            },
            "type": "scatterpolar"
           }
          ],
          "scatterpolargl": [
           {
            "marker": {
             "colorbar": {
              "outlinewidth": 0,
              "ticks": ""
             }
            },
            "type": "scatterpolargl"
           }
          ],
          "scatterternary": [
           {
            "marker": {
             "colorbar": {
              "outlinewidth": 0,
              "ticks": ""
             }
            },
            "type": "scatterternary"
           }
          ],
          "surface": [
           {
            "colorbar": {
             "outlinewidth": 0,
             "ticks": ""
            },
            "colorscale": [
             [
              0,
              "#0d0887"
             ],
             [
              0.1111111111111111,
              "#46039f"
             ],
             [
              0.2222222222222222,
              "#7201a8"
             ],
             [
              0.3333333333333333,
              "#9c179e"
             ],
             [
              0.4444444444444444,
              "#bd3786"
             ],
             [
              0.5555555555555556,
              "#d8576b"
             ],
             [
              0.6666666666666666,
              "#ed7953"
             ],
             [
              0.7777777777777778,
              "#fb9f3a"
             ],
             [
              0.8888888888888888,
              "#fdca26"
             ],
             [
              1,
              "#f0f921"
             ]
            ],
            "type": "surface"
           }
          ],
          "table": [
           {
            "cells": {
             "fill": {
              "color": "#EBF0F8"
             },
             "line": {
              "color": "white"
             }
            },
            "header": {
             "fill": {
              "color": "#C8D4E3"
             },
             "line": {
              "color": "white"
             }
            },
            "type": "table"
           }
          ]
         },
         "layout": {
          "annotationdefaults": {
           "arrowcolor": "#2a3f5f",
           "arrowhead": 0,
           "arrowwidth": 1
          },
          "autotypenumbers": "strict",
          "coloraxis": {
           "colorbar": {
            "outlinewidth": 0,
            "ticks": ""
           }
          },
          "colorscale": {
           "diverging": [
            [
             0,
             "#8e0152"
            ],
            [
             0.1,
             "#c51b7d"
            ],
            [
             0.2,
             "#de77ae"
            ],
            [
             0.3,
             "#f1b6da"
            ],
            [
             0.4,
             "#fde0ef"
            ],
            [
             0.5,
             "#f7f7f7"
            ],
            [
             0.6,
             "#e6f5d0"
            ],
            [
             0.7,
             "#b8e186"
            ],
            [
             0.8,
             "#7fbc41"
            ],
            [
             0.9,
             "#4d9221"
            ],
            [
             1,
             "#276419"
            ]
           ],
           "sequential": [
            [
             0,
             "#0d0887"
            ],
            [
             0.1111111111111111,
             "#46039f"
            ],
            [
             0.2222222222222222,
             "#7201a8"
            ],
            [
             0.3333333333333333,
             "#9c179e"
            ],
            [
             0.4444444444444444,
             "#bd3786"
            ],
            [
             0.5555555555555556,
             "#d8576b"
            ],
            [
             0.6666666666666666,
             "#ed7953"
            ],
            [
             0.7777777777777778,
             "#fb9f3a"
            ],
            [
             0.8888888888888888,
             "#fdca26"
            ],
            [
             1,
             "#f0f921"
            ]
           ],
           "sequentialminus": [
            [
             0,
             "#0d0887"
            ],
            [
             0.1111111111111111,
             "#46039f"
            ],
            [
             0.2222222222222222,
             "#7201a8"
            ],
            [
             0.3333333333333333,
             "#9c179e"
            ],
            [
             0.4444444444444444,
             "#bd3786"
            ],
            [
             0.5555555555555556,
             "#d8576b"
            ],
            [
             0.6666666666666666,
             "#ed7953"
            ],
            [
             0.7777777777777778,
             "#fb9f3a"
            ],
            [
             0.8888888888888888,
             "#fdca26"
            ],
            [
             1,
             "#f0f921"
            ]
           ]
          },
          "colorway": [
           "#636efa",
           "#EF553B",
           "#00cc96",
           "#ab63fa",
           "#FFA15A",
           "#19d3f3",
           "#FF6692",
           "#B6E880",
           "#FF97FF",
           "#FECB52"
          ],
          "font": {
           "color": "#2a3f5f"
          },
          "geo": {
           "bgcolor": "white",
           "lakecolor": "white",
           "landcolor": "#E5ECF6",
           "showlakes": true,
           "showland": true,
           "subunitcolor": "white"
          },
          "hoverlabel": {
           "align": "left"
          },
          "hovermode": "closest",
          "mapbox": {
           "style": "light"
          },
          "paper_bgcolor": "white",
          "plot_bgcolor": "#E5ECF6",
          "polar": {
           "angularaxis": {
            "gridcolor": "white",
            "linecolor": "white",
            "ticks": ""
           },
           "bgcolor": "#E5ECF6",
           "radialaxis": {
            "gridcolor": "white",
            "linecolor": "white",
            "ticks": ""
           }
          },
          "scene": {
           "xaxis": {
            "backgroundcolor": "#E5ECF6",
            "gridcolor": "white",
            "gridwidth": 2,
            "linecolor": "white",
            "showbackground": true,
            "ticks": "",
            "zerolinecolor": "white"
           },
           "yaxis": {
            "backgroundcolor": "#E5ECF6",
            "gridcolor": "white",
            "gridwidth": 2,
            "linecolor": "white",
            "showbackground": true,
            "ticks": "",
            "zerolinecolor": "white"
           },
           "zaxis": {
            "backgroundcolor": "#E5ECF6",
            "gridcolor": "white",
            "gridwidth": 2,
            "linecolor": "white",
            "showbackground": true,
            "ticks": "",
            "zerolinecolor": "white"
           }
          },
          "shapedefaults": {
           "line": {
            "color": "#2a3f5f"
           }
          },
          "ternary": {
           "aaxis": {
            "gridcolor": "white",
            "linecolor": "white",
            "ticks": ""
           },
           "baxis": {
            "gridcolor": "white",
            "linecolor": "white",
            "ticks": ""
           },
           "bgcolor": "#E5ECF6",
           "caxis": {
            "gridcolor": "white",
            "linecolor": "white",
            "ticks": ""
           }
          },
          "title": {
           "x": 0.05
          },
          "xaxis": {
           "automargin": true,
           "gridcolor": "white",
           "linecolor": "white",
           "ticks": "",
           "title": {
            "standoff": 15
           },
           "zerolinecolor": "white",
           "zerolinewidth": 2
          },
          "yaxis": {
           "automargin": true,
           "gridcolor": "white",
           "linecolor": "white",
           "ticks": "",
           "title": {
            "standoff": 15
           },
           "zerolinecolor": "white",
           "zerolinewidth": 2
          }
         }
        },
        "xaxis": {
         "anchor": "y",
         "domain": [
          0,
          1
         ],
         "title": {
          "text": "date"
         }
        },
        "yaxis": {
         "anchor": "x",
         "domain": [
          0,
          1
         ],
         "title": {
          "text": "value"
         }
        }
       }
      }
     },
     "metadata": {},
     "output_type": "display_data"
    }
   ],
   "source": [
    "df_oos_result['return_max_mean'].cumsum().plot()"
   ]
  },
  {
   "cell_type": "markdown",
   "metadata": {},
   "source": [
    "#### Get Best Thresholds for Proba"
   ]
  },
  {
   "cell_type": "code",
   "execution_count": 122,
   "metadata": {},
   "outputs": [],
   "source": [
    "def objective(trial, df_proba, rtn_n):\n",
    "\n",
    "    thres01 = trial.suggest_float(\"thres_for_max\", 0.3, 0.9, step=0.01)\n",
    "    thres02 = trial.suggest_float(\"thres_for_mean\", 0.3, 0.9, step=0.01)\n",
    "    thres03 = trial.suggest_float(\"thres_mean_max\", 0.3, 0.9, step=0.01)\n",
    "    thres04 = trial.suggest_float(\"thres_mean_mean\", 0.3, 0.9, step=0.01)\n",
    "\n",
    "    l_rtn_p = []\n",
    "\n",
    "    for date in dates:\n",
    "\n",
    "        df_ = df_proba.loc[lambda df : df.date >= date[2]].loc[lambda df : df.date < date[3]]\n",
    "        df_ = df_.loc[lambda df : df['weighted_price_change_p_short'] >= df['weighted_price_change_p_mid']]\n",
    "\n",
    "\n",
    "        df1 = (\n",
    "            df_\n",
    "            .loc[lambda df : df['proba_max'] > thres01]\n",
    "            .sort_values('proba_max', ascending=False)\n",
    "            .groupby('date')\n",
    "            .head(3)\n",
    "            .reset_index()\n",
    "        )\n",
    "\n",
    "        df2 = (\n",
    "            df_\n",
    "            .loc[lambda df : df['proba_max'] > thres02]\n",
    "            .sort_values('proba_mean', ascending=False)\n",
    "            .groupby('date')\n",
    "            .head(3)\n",
    "            .reset_index()\n",
    "        )\n",
    "\n",
    "        df3 = (\n",
    "            df_\n",
    "            .loc[lambda df : df['proba_mean'] > thres03]\n",
    "            .sort_values('proba_max', ascending=False)\n",
    "            .groupby('date')\n",
    "            .head(3)\n",
    "            .reset_index()\n",
    "        )\n",
    "\n",
    "        df4 = (\n",
    "            df_\n",
    "            .loc[lambda df : df['proba_mean'] > thres04]\n",
    "            .sort_values('proba_mean', ascending=False)\n",
    "            .groupby('date')\n",
    "            .head(3)\n",
    "            .reset_index()\n",
    "        )\n",
    "\n",
    "        sr = (\n",
    "            pd.concat([df1, df2, df3, df4]).drop_duplicates(subset=['date','code']) #df1, df2, \n",
    "            .groupby('date')[rtn_n]\n",
    "            .mean()\n",
    "            -0.0023\n",
    "        )\n",
    "\n",
    "        n = int(rtn_n.split('_')[1]) + 1\n",
    "\n",
    "        l_rtn_p.append(\n",
    "            {\n",
    "                'date' : date[3],\n",
    "                'rtn_p' : (sr/n).sum(),\n",
    "                'days' : pd.concat([df1, df2, df3, df4]).drop_duplicates(subset=['date','code'])['date'].unique().__len__()\n",
    "            }        \n",
    "        )\n",
    "\n",
    "    sr_final = (\n",
    "        pd.DataFrame(l_rtn_p)\n",
    "        .set_index('date')\n",
    "        ['rtn_p']\n",
    "        # +1\n",
    "    )\n",
    "\n",
    "    print(\n",
    "        pd.DataFrame(l_rtn_p)['days'].sum()\n",
    "    )\n",
    "\n",
    "    return (sr_final+1).cumprod()[-1]\n"
   ]
  },
  {
   "cell_type": "code",
   "execution_count": 123,
   "metadata": {},
   "outputs": [],
   "source": [
    "import optuna"
   ]
  },
  {
   "cell_type": "code",
   "execution_count": 124,
   "metadata": {},
   "outputs": [],
   "source": [
    "# Optuna Strudy Run\n",
    "def run_optuna(name, df_, rtn_n):\n",
    "\n",
    "    study = optuna.create_study(\n",
    "            direction=\"maximize\",\n",
    "            # direction=\"minimize\",\n",
    "            study_name=name,\n",
    "        )\n",
    "\n",
    "    study.optimize(\n",
    "        lambda trial : objective(trial, df_, rtn_n),\n",
    "        n_trials=300,\n",
    "        show_progress_bar=True,\n",
    "    )\n",
    "\n",
    "    # Create study result df & Save to file\n",
    "    df_study_result = (\n",
    "        study.trials_dataframe()\n",
    "        .rename(columns = lambda x : x.replace(\"params_\", \"\"))\n",
    "    )    \n",
    "    df_study_result.to_pickle(f\"./study_result_20240217_{name}.pkl\")"
   ]
  },
  {
   "cell_type": "code",
   "execution_count": 125,
   "metadata": {},
   "outputs": [
    {
     "name": "stderr",
     "output_type": "stream",
     "text": [
      "[I 2024-02-23 21:46:39,975] A new study created in memory with name: best_combi_of_thres_fixed_rtn_5\n"
     ]
    },
    {
     "data": {
      "application/vnd.jupyter.widget-view+json": {
       "model_id": "649d76e57d15402188562a9d841c0968",
       "version_major": 2,
       "version_minor": 0
      },
      "text/plain": [
       "  0%|          | 0/300 [00:00<?, ?it/s]"
      ]
     },
     "metadata": {},
     "output_type": "display_data"
    },
    {
     "name": "stdout",
     "output_type": "stream",
     "text": [
      "1653\n",
      "[I 2024-02-23 21:47:05,274] Trial 0 finished with value: 4.578170539284666 and parameters: {'thres_for_max': 0.4, 'thres_for_mean': 0.64, 'thres_mean_max': 0.55, 'thres_mean_mean': 0.6599999999999999}. Best is trial 0 with value: 4.578170539284666.\n",
      "1661\n",
      "[I 2024-02-23 21:47:29,720] Trial 1 finished with value: 4.148382302873166 and parameters: {'thres_for_max': 0.81, 'thres_for_mean': 0.8600000000000001, 'thres_mean_max': 0.78, 'thres_mean_mean': 0.32}. Best is trial 0 with value: 4.578170539284666.\n",
      "1762\n",
      "[I 2024-02-23 21:47:54,872] Trial 2 finished with value: 4.333217916555996 and parameters: {'thres_for_max': 0.43, 'thres_for_mean': 0.38, 'thres_mean_max': 0.5800000000000001, 'thres_mean_mean': 0.32}. Best is trial 0 with value: 4.578170539284666.\n",
      "1125\n",
      "[I 2024-02-23 21:48:20,331] Trial 3 finished with value: 8.592879764855763 and parameters: {'thres_for_max': 0.53, 'thres_for_mean': 0.8999999999999999, 'thres_mean_max': 0.8700000000000001, 'thres_mean_mean': 0.65}. Best is trial 3 with value: 8.592879764855763.\n",
      "1431\n",
      "[I 2024-02-23 21:48:45,087] Trial 4 finished with value: 6.033585906090731 and parameters: {'thres_for_max': 0.77, 'thres_for_mean': 0.52, 'thres_mean_max': 0.38, 'thres_mean_mean': 0.4}. Best is trial 3 with value: 8.592879764855763.\n",
      "1428\n",
      "[I 2024-02-23 21:49:10,081] Trial 5 finished with value: 10.595551093277825 and parameters: {'thres_for_max': 0.59, 'thres_for_mean': 0.45999999999999996, 'thres_mean_max': 0.75, 'thres_mean_mean': 0.77}. Best is trial 5 with value: 10.595551093277825.\n",
      "1819\n",
      "[I 2024-02-23 21:49:34,970] Trial 6 finished with value: 3.4868503737369014 and parameters: {'thres_for_max': 0.35, 'thres_for_mean': 0.8999999999999999, 'thres_mean_max': 0.77, 'thres_mean_mean': 0.8400000000000001}. Best is trial 5 with value: 10.595551093277825.\n",
      "1575\n",
      "[I 2024-02-23 21:50:00,174] Trial 7 finished with value: 5.91100369759126 and parameters: {'thres_for_max': 0.42, 'thres_for_mean': 0.8999999999999999, 'thres_mean_max': 0.79, 'thres_mean_mean': 0.8300000000000001}. Best is trial 5 with value: 10.595551093277825.\n",
      "1293\n",
      "[I 2024-02-23 21:50:25,435] Trial 8 finished with value: 6.465024162183765 and parameters: {'thres_for_max': 0.76, 'thres_for_mean': 0.8200000000000001, 'thres_mean_max': 0.4, 'thres_mean_mean': 0.5}. Best is trial 5 with value: 10.595551093277825.\n",
      "1428\n",
      "[I 2024-02-23 21:50:51,300] Trial 9 finished with value: 10.36093633773014 and parameters: {'thres_for_max': 0.6799999999999999, 'thres_for_mean': 0.45999999999999996, 'thres_mean_max': 0.55, 'thres_mean_mean': 0.5800000000000001}. Best is trial 5 with value: 10.595551093277825.\n",
      "1929\n",
      "[I 2024-02-23 21:51:17,447] Trial 10 finished with value: 9.473362850057278 and parameters: {'thres_for_max': 0.5800000000000001, 'thres_for_mean': 0.3, 'thres_mean_max': 0.6799999999999999, 'thres_mean_mean': 0.75}. Best is trial 5 with value: 10.595551093277825.\n",
      "1262\n",
      "[I 2024-02-23 21:51:42,495] Trial 11 finished with value: 9.533590068095327 and parameters: {'thres_for_max': 0.6599999999999999, 'thres_for_mean': 0.5, 'thres_mean_max': 0.48, 'thres_mean_mean': 0.53}. Best is trial 5 with value: 10.595551093277825.\n",
      "1466\n",
      "[I 2024-02-23 21:52:07,253] Trial 12 finished with value: 9.05163924662474 and parameters: {'thres_for_max': 0.6599999999999999, 'thres_for_mean': 0.44999999999999996, 'thres_mean_max': 0.6699999999999999, 'thres_mean_mean': 0.7}. Best is trial 5 with value: 10.595551093277825.\n",
      "809\n",
      "[I 2024-02-23 21:52:32,132] Trial 13 finished with value: 4.730821942378231 and parameters: {'thres_for_max': 0.8999999999999999, 'thres_for_mean': 0.6, 'thres_mean_max': 0.6599999999999999, 'thres_mean_mean': 0.55}. Best is trial 5 with value: 10.595551093277825.\n",
      "1721\n",
      "[I 2024-02-23 21:52:57,436] Trial 14 finished with value: 3.0540767639054596 and parameters: {'thres_for_max': 0.53, 'thres_for_mean': 0.65, 'thres_mean_max': 0.31, 'thres_mean_mean': 0.8999999999999999}. Best is trial 5 with value: 10.595551093277825.\n",
      "1699\n",
      "[I 2024-02-23 21:53:22,468] Trial 15 finished with value: 4.936999164682586 and parameters: {'thres_for_max': 0.6599999999999999, 'thres_for_mean': 0.39, 'thres_mean_max': 0.49, 'thres_mean_mean': 0.6}. Best is trial 5 with value: 10.595551093277825.\n",
      "1210\n",
      "[I 2024-02-23 21:53:47,647] Trial 16 finished with value: 9.066191128476698 and parameters: {'thres_for_max': 0.51, 'thres_for_mean': 0.56, 'thres_mean_max': 0.8600000000000001, 'thres_mean_mean': 0.77}. Best is trial 5 with value: 10.595551093277825.\n",
      "524\n",
      "[I 2024-02-23 21:54:12,444] Trial 17 finished with value: 5.2393592242132 and parameters: {'thres_for_max': 0.72, 'thres_for_mean': 0.72, 'thres_mean_max': 0.71, 'thres_mean_mean': 0.59}. Best is trial 5 with value: 10.595551093277825.\n",
      "1504\n",
      "[I 2024-02-23 21:54:37,415] Trial 18 finished with value: 9.52528805887158 and parameters: {'thres_for_max': 0.62, 'thres_for_mean': 0.44, 'thres_mean_max': 0.61, 'thres_mean_mean': 0.44999999999999996}. Best is trial 5 with value: 10.595551093277825.\n",
      "1929\n",
      "[I 2024-02-23 21:55:02,649] Trial 19 finished with value: 9.104661500375789 and parameters: {'thres_for_max': 0.8500000000000001, 'thres_for_mean': 0.3, 'thres_mean_max': 0.51, 'thres_mean_mean': 0.73}. Best is trial 5 with value: 10.595551093277825.\n",
      "1762\n",
      "[I 2024-02-23 21:55:27,473] Trial 20 finished with value: 4.651130497769456 and parameters: {'thres_for_max': 0.71, 'thres_for_mean': 0.37, 'thres_mean_max': 0.73, 'thres_mean_mean': 0.8}. Best is trial 5 with value: 10.595551093277825.\n",
      "1300\n",
      "[I 2024-02-23 21:55:52,660] Trial 21 finished with value: 9.021508331954927 and parameters: {'thres_for_max': 0.59, 'thres_for_mean': 0.5, 'thres_mean_max': 0.44, 'thres_mean_mean': 0.49}. Best is trial 5 with value: 10.595551093277825.\n",
      "1390\n",
      "[I 2024-02-23 21:56:18,154] Trial 22 finished with value: 11.183736179791735 and parameters: {'thres_for_max': 0.6599999999999999, 'thres_for_mean': 0.47, 'thres_mean_max': 0.49, 'thres_mean_mean': 0.59}. Best is trial 22 with value: 11.183736179791735.\n",
      "1504\n",
      "[I 2024-02-23 21:56:43,314] Trial 23 finished with value: 8.815037742730997 and parameters: {'thres_for_max': 0.48, 'thres_for_mean': 0.44, 'thres_mean_max': 0.62, 'thres_mean_mean': 0.63}. Best is trial 22 with value: 11.183736179791735.\n",
      "945\n",
      "[I 2024-02-23 21:57:07,947] Trial 24 finished with value: 5.196261933660841 and parameters: {'thres_for_max': 0.7, 'thres_for_mean': 0.5700000000000001, 'thres_mean_max': 0.54, 'thres_mean_mean': 0.69}. Best is trial 22 with value: 11.183736179791735.\n",
      "1417\n",
      "[I 2024-02-23 21:57:32,901] Trial 25 finished with value: 10.05843283617411 and parameters: {'thres_for_max': 0.62, 'thres_for_mean': 0.47, 'thres_mean_max': 0.42, 'thres_mean_mean': 0.56}. Best is trial 22 with value: 11.183736179791735.\n",
      "1656\n",
      "[I 2024-02-23 21:57:58,111] Trial 26 finished with value: 5.0520207706634706 and parameters: {'thres_for_max': 0.5800000000000001, 'thres_for_mean': 0.41, 'thres_mean_max': 0.33999999999999997, 'thres_mean_mean': 0.41}. Best is trial 22 with value: 11.183736179791735.\n",
      "1843\n",
      "[I 2024-02-23 21:58:22,925] Trial 27 finished with value: 5.782071253157576 and parameters: {'thres_for_max': 0.75, 'thres_for_mean': 0.33999999999999997, 'thres_mean_max': 0.45999999999999996, 'thres_mean_mean': 0.61}. Best is trial 22 with value: 11.183736179791735.\n",
      "1082\n",
      "[I 2024-02-23 21:58:47,901] Trial 28 finished with value: 5.701875866732517 and parameters: {'thres_for_max': 0.6799999999999999, 'thres_for_mean': 0.54, 'thres_mean_max': 0.5700000000000001, 'thres_mean_mean': 0.7}. Best is trial 22 with value: 11.183736179791735.\n",
      "1340\n",
      "[I 2024-02-23 21:59:12,558] Trial 29 finished with value: 10.718540614129212 and parameters: {'thres_for_max': 0.48, 'thres_for_mean': 0.6799999999999999, 'thres_mean_max': 0.53, 'thres_mean_mean': 0.8999999999999999}. Best is trial 22 with value: 11.183736179791735.\n",
      "1869\n",
      "[I 2024-02-23 21:59:37,451] Trial 30 finished with value: 5.1819740203239215 and parameters: {'thres_for_max': 0.32999999999999996, 'thres_for_mean': 0.6599999999999999, 'thres_mean_max': 0.52, 'thres_mean_mean': 0.8999999999999999}. Best is trial 22 with value: 11.183736179791735.\n",
      "1390\n",
      "[I 2024-02-23 22:00:02,533] Trial 31 finished with value: 12.606391603664324 and parameters: {'thres_for_max': 0.47, 'thres_for_mean': 0.75, 'thres_mean_max': 0.55, 'thres_mean_mean': 0.8600000000000001}. Best is trial 31 with value: 12.606391603664324.\n",
      "1303\n",
      "[I 2024-02-23 22:00:27,540] Trial 32 finished with value: 12.240629892475175 and parameters: {'thres_for_max': 0.49, 'thres_for_mean': 0.74, 'thres_mean_max': 0.61, 'thres_mean_mean': 0.8500000000000001}. Best is trial 31 with value: 12.606391603664324.\n",
      "1428\n",
      "[I 2024-02-23 22:00:52,431] Trial 33 finished with value: 10.357049721120301 and parameters: {'thres_for_max': 0.45999999999999996, 'thres_for_mean': 0.74, 'thres_mean_max': 0.62, 'thres_mean_mean': 0.8500000000000001}. Best is trial 31 with value: 12.606391603664324.\n",
      "1699\n",
      "[I 2024-02-23 22:01:17,408] Trial 34 finished with value: 3.8483530290616583 and parameters: {'thres_for_max': 0.39, 'thres_for_mean': 0.76, 'thres_mean_max': 0.5700000000000001, 'thres_mean_mean': 0.8899999999999999}. Best is trial 31 with value: 12.606391603664324.\n",
      "1699\n",
      "[I 2024-02-23 22:01:42,347] Trial 35 finished with value: 3.7493933293648483 and parameters: {'thres_for_max': 0.39, 'thres_for_mean': 0.6799999999999999, 'thres_mean_max': 0.64, 'thres_mean_mean': 0.81}. Best is trial 31 with value: 12.606391603664324.\n",
      "1082\n",
      "[I 2024-02-23 22:02:07,272] Trial 36 finished with value: 5.706224706783128 and parameters: {'thres_for_max': 0.54, 'thres_for_mean': 0.8, 'thres_mean_max': 0.5800000000000001, 'thres_mean_mean': 0.8700000000000001}. Best is trial 31 with value: 12.606391603664324.\n",
      "1340\n",
      "[I 2024-02-23 22:02:32,063] Trial 37 finished with value: 10.319096152115142 and parameters: {'thres_for_max': 0.48, 'thres_for_mean': 0.7, 'thres_mean_max': 0.52, 'thres_mean_mean': 0.8}. Best is trial 31 with value: 12.606391603664324.\n",
      "1929\n",
      "[I 2024-02-23 22:02:57,165] Trial 38 finished with value: 6.981614323951403 and parameters: {'thres_for_max': 0.3, 'thres_for_mean': 0.61, 'thres_mean_max': 0.45999999999999996, 'thres_mean_mean': 0.8600000000000001}. Best is trial 31 with value: 12.606391603664324.\n",
      "1538\n",
      "[I 2024-02-23 22:03:22,326] Trial 39 finished with value: 6.336586265387572 and parameters: {'thres_for_max': 0.44, 'thres_for_mean': 0.77, 'thres_mean_max': 0.38, 'thres_mean_mean': 0.6599999999999999}. Best is trial 31 with value: 12.606391603664324.\n",
      "1664\n",
      "[I 2024-02-23 22:03:47,400] Trial 40 finished with value: 4.779803235814954 and parameters: {'thres_for_max': 0.55, 'thres_for_mean': 0.79, 'thres_mean_max': 0.54, 'thres_mean_mean': 0.32}. Best is trial 31 with value: 12.606391603664324.\n",
      "1575\n",
      "[I 2024-02-23 22:04:12,554] Trial 41 finished with value: 5.816683345980823 and parameters: {'thres_for_max': 0.42, 'thres_for_mean': 0.8400000000000001, 'thres_mean_max': 0.8300000000000001, 'thres_mean_mean': 0.8200000000000001}. Best is trial 31 with value: 12.606391603664324.\n",
      "1210\n",
      "[I 2024-02-23 22:04:37,326] Trial 42 finished with value: 9.192720179847273 and parameters: {'thres_for_max': 0.51, 'thres_for_mean': 0.71, 'thres_mean_max': 0.74, 'thres_mean_mean': 0.76}. Best is trial 31 with value: 12.606391603664324.\n",
      "901\n",
      "[I 2024-02-23 22:05:02,310] Trial 43 finished with value: 4.482599341615484 and parameters: {'thres_for_max': 0.62, 'thres_for_mean': 0.6799999999999999, 'thres_mean_max': 0.49, 'thres_mean_mean': 0.8700000000000001}. Best is trial 31 with value: 12.606391603664324.\n",
      "1340\n",
      "[I 2024-02-23 22:05:27,044] Trial 44 finished with value: 10.606745753628202 and parameters: {'thres_for_max': 0.48, 'thres_for_mean': 0.63, 'thres_mean_max': 0.79, 'thres_mean_mean': 0.78}. Best is trial 31 with value: 12.606391603664324.\n",
      "1762\n",
      "[I 2024-02-23 22:05:52,112] Trial 45 finished with value: 3.6466068649151313 and parameters: {'thres_for_max': 0.37, 'thres_for_mean': 0.64, 'thres_mean_max': 0.8899999999999999, 'thres_mean_mean': 0.8300000000000001}. Best is trial 31 with value: 12.606391603664324.\n",
      "1428\n",
      "[I 2024-02-23 22:06:16,909] Trial 46 finished with value: 9.828473857631327 and parameters: {'thres_for_max': 0.45999999999999996, 'thres_for_mean': 0.62, 'thres_mean_max': 0.8, 'thres_mean_mean': 0.79}. Best is trial 31 with value: 12.606391603664324.\n",
      "1210\n",
      "[I 2024-02-23 22:06:41,761] Trial 47 finished with value: 9.363132528396491 and parameters: {'thres_for_max': 0.51, 'thres_for_mean': 0.74, 'thres_mean_max': 0.5800000000000001, 'thres_mean_mean': 0.73}. Best is trial 31 with value: 12.606391603664324.\n",
      "1340\n",
      "[I 2024-02-23 22:07:06,830] Trial 48 finished with value: 10.208685290329784 and parameters: {'thres_for_max': 0.48, 'thres_for_mean': 0.8500000000000001, 'thres_mean_max': 0.7, 'thres_mean_mean': 0.8400000000000001}. Best is trial 31 with value: 12.606391603664324.\n",
      "987\n",
      "[I 2024-02-23 22:07:31,601] Trial 49 finished with value: 6.045097679419107 and parameters: {'thres_for_max': 0.56, 'thres_for_mean': 0.6799999999999999, 'thres_mean_max': 0.65, 'thres_mean_mean': 0.8700000000000001}. Best is trial 31 with value: 12.606391603664324.\n",
      "1534\n",
      "[I 2024-02-23 22:07:56,865] Trial 50 finished with value: 8.55540247290579 and parameters: {'thres_for_max': 0.43, 'thres_for_mean': 0.74, 'thres_mean_max': 0.77, 'thres_mean_mean': 0.8999999999999999}. Best is trial 31 with value: 12.606391603664324.\n",
      "1171\n",
      "[I 2024-02-23 22:08:21,538] Trial 51 finished with value: 8.645562168281428 and parameters: {'thres_for_max': 0.52, 'thres_for_mean': 0.5700000000000001, 'thres_mean_max': 0.81, 'thres_mean_mean': 0.78}. Best is trial 31 with value: 12.606391603664324.\n",
      "1303\n",
      "[I 2024-02-23 22:08:46,335] Trial 52 finished with value: 10.986849974334861 and parameters: {'thres_for_max': 0.49, 'thres_for_mean': 0.49, 'thres_mean_max': 0.74, 'thres_mean_mean': 0.74}. Best is trial 31 with value: 12.606391603664324.\n",
      "1428\n",
      "[I 2024-02-23 22:09:11,297] Trial 53 finished with value: 9.121690267228686 and parameters: {'thres_for_max': 0.45999999999999996, 'thres_for_mean': 0.49, 'thres_mean_max': 0.8200000000000001, 'thres_mean_mean': 0.74}. Best is trial 31 with value: 12.606391603664324.\n",
      "1255\n",
      "[I 2024-02-23 22:09:36,134] Trial 54 finished with value: 10.426752135213832 and parameters: {'thres_for_max': 0.5, 'thres_for_mean': 0.62, 'thres_mean_max': 0.8500000000000001, 'thres_mean_mean': 0.65}. Best is trial 31 with value: 12.606391603664324.\n",
      "1171\n",
      "[I 2024-02-23 22:10:01,075] Trial 55 finished with value: 8.309478468111166 and parameters: {'thres_for_max': 0.5700000000000001, 'thres_for_mean': 0.52, 'thres_mean_max': 0.77, 'thres_mean_mean': 0.8300000000000001}. Best is trial 31 with value: 12.606391603664324.\n",
      "1606\n",
      "[I 2024-02-23 22:10:25,967] Trial 56 finished with value: 5.090807825900031 and parameters: {'thres_for_max': 0.41, 'thres_for_mean': 0.59, 'thres_mean_max': 0.7, 'thres_mean_mean': 0.52}. Best is trial 31 with value: 12.606391603664324.\n",
      "1504\n",
      "[I 2024-02-23 22:10:51,368] Trial 57 finished with value: 7.702618092528711 and parameters: {'thres_for_max': 0.44, 'thres_for_mean': 0.8799999999999999, 'thres_mean_max': 0.47, 'thres_mean_mean': 0.6799999999999999}. Best is trial 31 with value: 12.606391603664324.\n",
      "1125\n",
      "[I 2024-02-23 22:11:16,538] Trial 58 finished with value: 8.371838909433595 and parameters: {'thres_for_max': 0.64, 'thres_for_mean': 0.53, 'thres_mean_max': 0.6, 'thres_mean_mean': 0.8500000000000001}. Best is trial 31 with value: 12.606391603664324.\n",
      "1575\n",
      "[I 2024-02-23 22:11:41,800] Trial 59 finished with value: 7.009045649155954 and parameters: {'thres_for_max': 0.54, 'thres_for_mean': 0.42, 'thres_mean_max': 0.55, 'thres_mean_mean': 0.63}. Best is trial 31 with value: 12.606391603664324.\n",
      "811\n",
      "[I 2024-02-23 22:12:06,861] Trial 60 finished with value: 5.042045549489994 and parameters: {'thres_for_max': 0.8, 'thres_for_mean': 0.81, 'thres_mean_max': 0.5, 'thres_mean_mean': 0.8799999999999999}. Best is trial 31 with value: 12.606391603664324.\n",
      "1390\n",
      "[I 2024-02-23 22:12:31,575] Trial 61 finished with value: 11.197723561812506 and parameters: {'thres_for_max': 0.6, 'thres_for_mean': 0.47, 'thres_mean_max': 0.73, 'thres_mean_mean': 0.72}. Best is trial 31 with value: 12.606391603664324.\n",
      "1303\n",
      "[I 2024-02-23 22:12:56,707] Trial 62 finished with value: 11.87293639649104 and parameters: {'thres_for_max': 0.49, 'thres_for_mean': 0.64, 'thres_mean_max': 0.6799999999999999, 'thres_mean_mean': 0.72}. Best is trial 31 with value: 12.606391603664324.\n",
      "1340\n",
      "[I 2024-02-23 22:13:21,245] Trial 63 finished with value: 9.093984167010001 and parameters: {'thres_for_max': 0.6, 'thres_for_mean': 0.48, 'thres_mean_max': 0.72, 'thres_mean_mean': 0.72}. Best is trial 31 with value: 12.606391603664324.\n",
      "581\n",
      "[I 2024-02-23 22:13:46,075] Trial 64 finished with value: 3.96800634678945 and parameters: {'thres_for_max': 0.74, 'thres_for_mean': 0.6599999999999999, 'thres_mean_max': 0.6799999999999999, 'thres_mean_mean': 0.71}. Best is trial 31 with value: 12.606391603664324.\n",
      "1303\n",
      "[I 2024-02-23 22:14:11,103] Trial 65 finished with value: 12.405878538177777 and parameters: {'thres_for_max': 0.49, 'thres_for_mean': 0.55, 'thres_mean_max': 0.75, 'thres_mean_mean': 0.76}. Best is trial 31 with value: 12.606391603664324.\n",
      "1210\n",
      "[I 2024-02-23 22:14:35,919] Trial 66 finished with value: 8.151925434582473 and parameters: {'thres_for_max': 0.6, 'thres_for_mean': 0.51, 'thres_mean_max': 0.75, 'thres_mean_mean': 0.75}. Best is trial 31 with value: 12.606391603664324.\n",
      "1255\n",
      "[I 2024-02-23 22:15:01,142] Trial 67 finished with value: 10.90969357470376 and parameters: {'thres_for_max': 0.5, 'thres_for_mean': 0.55, 'thres_mean_max': 0.64, 'thres_mean_mean': 0.5700000000000001}. Best is trial 31 with value: 12.606391603664324.\n",
      "1762\n",
      "[I 2024-02-23 22:15:25,905] Trial 68 finished with value: 4.677174073157855 and parameters: {'thres_for_max': 0.6799999999999999, 'thres_for_mean': 0.37, 'thres_mean_max': 0.6699999999999999, 'thres_mean_mean': 0.69}. Best is trial 31 with value: 12.606391603664324.\n",
      "1428\n",
      "[I 2024-02-23 22:15:50,860] Trial 69 finished with value: 10.432191291829609 and parameters: {'thres_for_max': 0.53, 'thres_for_mean': 0.45999999999999996, 'thres_mean_max': 0.76, 'thres_mean_mean': 0.62}. Best is trial 31 with value: 12.606391603664324.\n",
      "1575\n",
      "[I 2024-02-23 22:16:15,795] Trial 70 finished with value: 7.042253907791553 and parameters: {'thres_for_max': 0.64, 'thres_for_mean': 0.42, 'thres_mean_max': 0.73, 'thres_mean_mean': 0.76}. Best is trial 31 with value: 12.606391603664324.\n",
      "1466\n",
      "[I 2024-02-23 22:16:40,680] Trial 71 finished with value: 9.124710568860829 and parameters: {'thres_for_max': 0.44999999999999996, 'thres_for_mean': 0.55, 'thres_mean_max': 0.64, 'thres_mean_mean': 0.55}. Best is trial 31 with value: 12.606391603664324.\n",
      "1255\n",
      "[I 2024-02-23 22:17:05,457] Trial 72 finished with value: 10.70605326224492 and parameters: {'thres_for_max': 0.5, 'thres_for_mean': 0.5800000000000001, 'thres_mean_max': 0.6, 'thres_mean_mean': 0.56}. Best is trial 31 with value: 12.606391603664324.\n",
      "1255\n",
      "[I 2024-02-23 22:17:30,285] Trial 73 finished with value: 11.277556210507726 and parameters: {'thres_for_max': 0.5, 'thres_for_mean': 0.54, 'thres_mean_max': 0.63, 'thres_mean_mean': 0.59}. Best is trial 31 with value: 12.606391603664324.\n",
      "1340\n",
      "[I 2024-02-23 22:17:55,658] Trial 74 finished with value: 9.130717364996483 and parameters: {'thres_for_max': 0.56, 'thres_for_mean': 0.48, 'thres_mean_max': 0.7, 'thres_mean_mean': 0.6}. Best is trial 31 with value: 12.606391603664324.\n",
      "1390\n",
      "[I 2024-02-23 22:18:20,554] Trial 75 finished with value: 11.122039526583787 and parameters: {'thres_for_max': 0.47, 'thres_for_mean': 0.5, 'thres_mean_max': 0.6799999999999999, 'thres_mean_mean': 0.6699999999999999}. Best is trial 31 with value: 12.606391603664324.\n",
      "1653\n",
      "[I 2024-02-23 22:18:45,665] Trial 76 finished with value: 4.68546808157365 and parameters: {'thres_for_max': 0.4, 'thres_for_mean': 0.53, 'thres_mean_max': 0.62, 'thres_mean_mean': 0.63}. Best is trial 31 with value: 12.606391603664324.\n",
      "1428\n",
      "[I 2024-02-23 22:19:10,823] Trial 77 finished with value: 9.181076165520109 and parameters: {'thres_for_max': 0.45999999999999996, 'thres_for_mean': 0.51, 'thres_mean_max': 0.6699999999999999, 'thres_mean_mean': 0.6699999999999999}. Best is trial 31 with value: 12.606391603664324.\n",
      "1534\n",
      "[I 2024-02-23 22:19:35,599] Trial 78 finished with value: 8.867268671674536 and parameters: {'thres_for_max': 0.43, 'thres_for_mean': 0.44, 'thres_mean_max': 0.63, 'thres_mean_mean': 0.5800000000000001}. Best is trial 31 with value: 12.606391603664324.\n",
      "1653\n",
      "[I 2024-02-23 22:20:00,690] Trial 79 finished with value: 5.77525043902956 and parameters: {'thres_for_max': 0.52, 'thres_for_mean': 0.4, 'thres_mean_max': 0.69, 'thres_mean_mean': 0.65}. Best is trial 31 with value: 12.606391603664324.\n",
      "1390\n",
      "[I 2024-02-23 22:20:25,482] Trial 80 finished with value: 11.795623472996349 and parameters: {'thres_for_max': 0.47, 'thres_for_mean': 0.6, 'thres_mean_max': 0.6599999999999999, 'thres_mean_mean': 0.71}. Best is trial 31 with value: 12.606391603664324.\n",
      "1390\n",
      "[I 2024-02-23 22:20:50,416] Trial 81 finished with value: 11.977153738248273 and parameters: {'thres_for_max': 0.47, 'thres_for_mean': 0.59, 'thres_mean_max': 0.6599999999999999, 'thres_mean_mean': 0.69}. Best is trial 31 with value: 12.606391603664324.\n",
      "1125\n",
      "[I 2024-02-23 22:21:15,172] Trial 82 finished with value: 8.68302742099684 and parameters: {'thres_for_max': 0.53, 'thres_for_mean': 0.59, 'thres_mean_max': 0.6599999999999999, 'thres_mean_mean': 0.71}. Best is trial 31 with value: 12.606391603664324.\n",
      "1796\n",
      "[I 2024-02-23 22:21:39,651] Trial 83 finished with value: 3.572359816825092 and parameters: {'thres_for_max': 0.36, 'thres_for_mean': 0.6, 'thres_mean_max': 0.59, 'thres_mean_mean': 0.8}. Best is trial 31 with value: 12.606391603664324.\n",
      "1466\n",
      "[I 2024-02-23 22:22:04,874] Trial 84 finished with value: 8.984498516194511 and parameters: {'thres_for_max': 0.44999999999999996, 'thres_for_mean': 0.77, 'thres_mean_max': 0.61, 'thres_mean_mean': 0.7}. Best is trial 31 with value: 12.606391603664324.\n",
      "1575\n",
      "[I 2024-02-23 22:22:29,796] Trial 85 finished with value: 5.902491527852118 and parameters: {'thres_for_max': 0.42, 'thres_for_mean': 0.56, 'thres_mean_max': 0.56, 'thres_mean_mean': 0.72}. Best is trial 31 with value: 12.606391603664324.\n",
      "1303\n",
      "[I 2024-02-23 22:22:55,037] Trial 86 finished with value: 12.115289297339773 and parameters: {'thres_for_max': 0.49, 'thres_for_mean': 0.72, 'thres_mean_max': 0.72, 'thres_mean_mean': 0.77}. Best is trial 31 with value: 12.606391603664324.\n",
      "1303\n",
      "[I 2024-02-23 22:23:19,792] Trial 87 finished with value: 12.115289297339773 and parameters: {'thres_for_max': 0.49, 'thres_for_mean': 0.72, 'thres_mean_max': 0.72, 'thres_mean_mean': 0.8200000000000001}. Best is trial 31 with value: 12.606391603664324.\n",
      "1390\n",
      "[I 2024-02-23 22:23:44,698] Trial 88 finished with value: 11.866429068767504 and parameters: {'thres_for_max': 0.47, 'thres_for_mean': 0.7, 'thres_mean_max': 0.6599999999999999, 'thres_mean_mean': 0.81}. Best is trial 31 with value: 12.606391603664324.\n",
      "1390\n",
      "[I 2024-02-23 22:24:09,784] Trial 89 finished with value: 12.022276716912113 and parameters: {'thres_for_max': 0.47, 'thres_for_mean': 0.72, 'thres_mean_max': 0.71, 'thres_mean_mean': 0.8200000000000001}. Best is trial 31 with value: 12.606391603664324.\n",
      "1303\n",
      "[I 2024-02-23 22:24:34,535] Trial 90 finished with value: 12.135537044813464 and parameters: {'thres_for_max': 0.49, 'thres_for_mean': 0.72, 'thres_mean_max': 0.71, 'thres_mean_mean': 0.81}. Best is trial 31 with value: 12.606391603664324.\n",
      "1303\n",
      "[I 2024-02-23 22:24:59,203] Trial 91 finished with value: 12.135537044813464 and parameters: {'thres_for_max': 0.49, 'thres_for_mean': 0.72, 'thres_mean_max': 0.71, 'thres_mean_mean': 0.81}. Best is trial 31 with value: 12.606391603664324.\n",
      "1303\n",
      "[I 2024-02-23 22:25:23,611] Trial 92 finished with value: 12.115289297339773 and parameters: {'thres_for_max': 0.49, 'thres_for_mean': 0.72, 'thres_mean_max': 0.72, 'thres_mean_mean': 0.78}. Best is trial 31 with value: 12.606391603664324.\n",
      "1504\n",
      "[I 2024-02-23 22:25:48,326] Trial 93 finished with value: 8.548433493567769 and parameters: {'thres_for_max': 0.44, 'thres_for_mean': 0.72, 'thres_mean_max': 0.71, 'thres_mean_mean': 0.8200000000000001}. Best is trial 31 with value: 12.606391603664324.\n",
      "1171\n",
      "[I 2024-02-23 22:26:14,106] Trial 94 finished with value: 8.946075706807171 and parameters: {'thres_for_max': 0.52, 'thres_for_mean': 0.75, 'thres_mean_max': 0.72, 'thres_mean_mean': 0.77}. Best is trial 31 with value: 12.606391603664324.\n",
      "1303\n",
      "[I 2024-02-23 22:26:39,131] Trial 95 finished with value: 12.258811258171383 and parameters: {'thres_for_max': 0.49, 'thres_for_mean': 0.73, 'thres_mean_max': 0.75, 'thres_mean_mean': 0.8500000000000001}. Best is trial 31 with value: 12.606391603664324.\n",
      "1303\n",
      "[I 2024-02-23 22:27:04,123] Trial 96 finished with value: 12.374480472971198 and parameters: {'thres_for_max': 0.49, 'thres_for_mean': 0.78, 'thres_mean_max': 0.79, 'thres_mean_mean': 0.8500000000000001}. Best is trial 31 with value: 12.606391603664324.\n",
      "1031\n",
      "[I 2024-02-23 22:27:28,909] Trial 97 finished with value: 6.143183230103198 and parameters: {'thres_for_max': 0.55, 'thres_for_mean': 0.77, 'thres_mean_max': 0.78, 'thres_mean_mean': 0.8600000000000001}. Best is trial 31 with value: 12.606391603664324.\n",
      "1303\n",
      "[I 2024-02-23 22:27:53,599] Trial 98 finished with value: 12.230668475980927 and parameters: {'thres_for_max': 0.49, 'thres_for_mean': 0.79, 'thres_mean_max': 0.78, 'thres_mean_mean': 0.8500000000000001}. Best is trial 31 with value: 12.606391603664324.\n",
      "1171\n",
      "[I 2024-02-23 22:28:18,774] Trial 99 finished with value: 8.61425129689919 and parameters: {'thres_for_max': 0.52, 'thres_for_mean': 0.8300000000000001, 'thres_mean_max': 0.79, 'thres_mean_mean': 0.8400000000000001}. Best is trial 31 with value: 12.606391603664324.\n",
      "1082\n",
      "[I 2024-02-23 22:28:43,654] Trial 100 finished with value: 5.666532083746331 and parameters: {'thres_for_max': 0.54, 'thres_for_mean': 0.79, 'thres_mean_max': 0.8300000000000001, 'thres_mean_mean': 0.8799999999999999}. Best is trial 31 with value: 12.606391603664324.\n",
      "1303\n",
      "[I 2024-02-23 22:29:08,878] Trial 101 finished with value: 11.825834301100752 and parameters: {'thres_for_max': 0.49, 'thres_for_mean': 0.7, 'thres_mean_max': 0.76, 'thres_mean_mean': 0.79}. Best is trial 31 with value: 12.606391603664324.\n",
      "1303\n",
      "[I 2024-02-23 22:29:33,775] Trial 102 finished with value: 12.258811258171383 and parameters: {'thres_for_max': 0.49, 'thres_for_mean': 0.73, 'thres_mean_max': 0.75, 'thres_mean_mean': 0.8500000000000001}. Best is trial 31 with value: 12.606391603664324.\n",
      "1466\n",
      "[I 2024-02-23 22:29:58,798] Trial 103 finished with value: 9.088020189212003 and parameters: {'thres_for_max': 0.44999999999999996, 'thres_for_mean': 0.75, 'thres_mean_max': 0.75, 'thres_mean_mean': 0.8500000000000001}. Best is trial 31 with value: 12.606391603664324.\n",
      "1210\n",
      "[I 2024-02-23 22:30:23,232] Trial 104 finished with value: 9.435669017050555 and parameters: {'thres_for_max': 0.51, 'thres_for_mean': 0.79, 'thres_mean_max': 0.8, 'thres_mean_mean': 0.8400000000000001}. Best is trial 31 with value: 12.606391603664324.\n",
      "1303\n",
      "[I 2024-02-23 22:30:48,317] Trial 105 finished with value: 12.197166340148895 and parameters: {'thres_for_max': 0.49, 'thres_for_mean': 0.73, 'thres_mean_max': 0.78, 'thres_mean_mean': 0.8600000000000001}. Best is trial 31 with value: 12.606391603664324.\n",
      "1210\n",
      "[I 2024-02-23 22:31:13,466] Trial 106 finished with value: 9.441958984646755 and parameters: {'thres_for_max': 0.51, 'thres_for_mean': 0.76, 'thres_mean_max': 0.78, 'thres_mean_mean': 0.8799999999999999}. Best is trial 31 with value: 12.606391603664324.\n",
      "1340\n",
      "[I 2024-02-23 22:31:38,745] Trial 107 finished with value: 10.592268446367276 and parameters: {'thres_for_max': 0.48, 'thres_for_mean': 0.81, 'thres_mean_max': 0.8500000000000001, 'thres_mean_mean': 0.8600000000000001}. Best is trial 31 with value: 12.606391603664324.\n",
      "1466\n",
      "[I 2024-02-23 22:32:04,103] Trial 108 finished with value: 8.942886784272973 and parameters: {'thres_for_max': 0.44999999999999996, 'thres_for_mean': 0.74, 'thres_mean_max': 0.74, 'thres_mean_mean': 0.8500000000000001}. Best is trial 31 with value: 12.606391603664324.\n",
      "1534\n",
      "[I 2024-02-23 22:32:28,729] Trial 109 finished with value: 8.564861102196511 and parameters: {'thres_for_max': 0.43, 'thres_for_mean': 0.78, 'thres_mean_max': 0.76, 'thres_mean_mean': 0.8899999999999999}. Best is trial 31 with value: 12.606391603664324.\n",
      "1031\n",
      "[I 2024-02-23 22:32:53,811] Trial 110 finished with value: 6.040392275674364 and parameters: {'thres_for_max': 0.55, 'thres_for_mean': 0.73, 'thres_mean_max': 0.81, 'thres_mean_mean': 0.81}. Best is trial 31 with value: 12.606391603664324.\n",
      "1303\n",
      "[I 2024-02-23 22:33:18,850] Trial 111 finished with value: 11.793987597657646 and parameters: {'thres_for_max': 0.49, 'thres_for_mean': 0.7, 'thres_mean_max': 0.78, 'thres_mean_mean': 0.8300000000000001}. Best is trial 31 with value: 12.606391603664324.\n",
      "1255\n",
      "[I 2024-02-23 22:33:44,242] Trial 112 finished with value: 10.63778845314217 and parameters: {'thres_for_max': 0.5, 'thres_for_mean': 0.6699999999999999, 'thres_mean_max': 0.75, 'thres_mean_mean': 0.8}. Best is trial 31 with value: 12.606391603664324.\n",
      "1340\n",
      "[I 2024-02-23 22:34:09,629] Trial 113 finished with value: 10.148580139434396 and parameters: {'thres_for_max': 0.48, 'thres_for_mean': 0.69, 'thres_mean_max': 0.77, 'thres_mean_mean': 0.8700000000000001}. Best is trial 31 with value: 12.606391603664324.\n",
      "1171\n",
      "[I 2024-02-23 22:34:34,983] Trial 114 finished with value: 8.95439353311626 and parameters: {'thres_for_max': 0.52, 'thres_for_mean': 0.75, 'thres_mean_max': 0.73, 'thres_mean_mean': 0.8300000000000001}. Best is trial 31 with value: 12.606391603664324.\n",
      "1428\n",
      "[I 2024-02-23 22:35:00,182] Trial 115 finished with value: 10.025385685420158 and parameters: {'thres_for_max': 0.45999999999999996, 'thres_for_mean': 0.71, 'thres_mean_max': 0.8, 'thres_mean_mean': 0.8600000000000001}. Best is trial 31 with value: 12.606391603664324.\n",
      "1125\n",
      "[I 2024-02-23 22:35:24,780] Trial 116 finished with value: 8.775311915775358 and parameters: {'thres_for_max': 0.53, 'thres_for_mean': 0.73, 'thres_mean_max': 0.76, 'thres_mean_mean': 0.8899999999999999}. Best is trial 31 with value: 12.606391603664324.\n",
      "1303\n",
      "[I 2024-02-23 22:35:50,069] Trial 117 finished with value: 12.480701452903839 and parameters: {'thres_for_max': 0.49, 'thres_for_mean': 0.77, 'thres_mean_max': 0.74, 'thres_mean_mean': 0.8200000000000001}. Best is trial 31 with value: 12.606391603664324.\n",
      "1210\n",
      "[I 2024-02-23 22:36:15,298] Trial 118 finished with value: 9.50761672330885 and parameters: {'thres_for_max': 0.51, 'thres_for_mean': 0.76, 'thres_mean_max': 0.8300000000000001, 'thres_mean_mean': 0.8400000000000001}. Best is trial 31 with value: 12.606391603664324.\n",
      "1504\n",
      "[I 2024-02-23 22:36:40,752] Trial 119 finished with value: 8.662742918381449 and parameters: {'thres_for_max': 0.44, 'thres_for_mean': 0.8, 'thres_mean_max': 0.75, 'thres_mean_mean': 0.79}. Best is trial 31 with value: 12.606391603664324.\n",
      "935\n",
      "[I 2024-02-23 22:37:06,574] Trial 120 finished with value: 5.94248839621558 and parameters: {'thres_for_max': 0.5700000000000001, 'thres_for_mean': 0.78, 'thres_mean_max': 0.74, 'thres_mean_mean': 0.81}. Best is trial 31 with value: 12.606391603664324.\n",
      "1303\n",
      "[I 2024-02-23 22:37:31,487] Trial 121 finished with value: 12.177448971782301 and parameters: {'thres_for_max': 0.49, 'thres_for_mean': 0.73, 'thres_mean_max': 0.7, 'thres_mean_mean': 0.8200000000000001}. Best is trial 31 with value: 12.606391603664324.\n",
      "1255\n",
      "[I 2024-02-23 22:37:56,284] Trial 122 finished with value: 10.659095187618815 and parameters: {'thres_for_max': 0.5, 'thres_for_mean': 0.73, 'thres_mean_max': 0.69, 'thres_mean_mean': 0.8500000000000001}. Best is trial 31 with value: 12.606391603664324.\n",
      "316\n",
      "[I 2024-02-23 22:38:20,766] Trial 123 finished with value: 3.843425505536853 and parameters: {'thres_for_max': 0.8899999999999999, 'thres_for_mean': 0.75, 'thres_mean_max': 0.79, 'thres_mean_mean': 0.8400000000000001}. Best is trial 31 with value: 12.606391603664324.\n",
      "1428\n",
      "[I 2024-02-23 22:38:45,902] Trial 124 finished with value: 9.799864093026342 and parameters: {'thres_for_max': 0.45999999999999996, 'thres_for_mean': 0.8200000000000001, 'thres_mean_max': 0.7, 'thres_mean_mean': 0.77}. Best is trial 31 with value: 12.606391603664324.\n",
      "1340\n",
      "[I 2024-02-23 22:39:11,237] Trial 125 finished with value: 10.93839309183779 and parameters: {'thres_for_max': 0.48, 'thres_for_mean': 0.77, 'thres_mean_max': 0.77, 'thres_mean_mean': 0.8200000000000001}. Best is trial 31 with value: 12.606391603664324.\n",
      "1210\n",
      "[I 2024-02-23 22:39:36,788] Trial 126 finished with value: 9.345383188218777 and parameters: {'thres_for_max': 0.51, 'thres_for_mean': 0.74, 'thres_mean_max': 0.74, 'thres_mean_mean': 0.8700000000000001}. Best is trial 31 with value: 12.606391603664324.\n",
      "1082\n",
      "[I 2024-02-23 22:40:01,678] Trial 127 finished with value: 5.528885317251692 and parameters: {'thres_for_max': 0.54, 'thres_for_mean': 0.71, 'thres_mean_max': 0.73, 'thres_mean_mean': 0.79}. Best is trial 31 with value: 12.606391603664324.\n",
      "1390\n",
      "[I 2024-02-23 22:40:26,250] Trial 128 finished with value: 11.448967826473872 and parameters: {'thres_for_max': 0.47, 'thres_for_mean': 0.8700000000000001, 'thres_mean_max': 0.69, 'thres_mean_mean': 0.8600000000000001}. Best is trial 31 with value: 12.606391603664324.\n",
      "1303\n",
      "[I 2024-02-23 22:40:51,351] Trial 129 finished with value: 11.694245518955384 and parameters: {'thres_for_max': 0.49, 'thres_for_mean': 0.69, 'thres_mean_max': 0.81, 'thres_mean_mean': 0.8300000000000001}. Best is trial 31 with value: 12.606391603664324.\n",
      "1255\n",
      "[I 2024-02-23 22:41:16,514] Trial 130 finished with value: 10.580552301819047 and parameters: {'thres_for_max': 0.5, 'thres_for_mean': 0.78, 'thres_mean_max': 0.71, 'thres_mean_mean': 0.81}. Best is trial 31 with value: 12.606391603664324.\n",
      "1303\n",
      "[I 2024-02-23 22:41:41,762] Trial 131 finished with value: 12.181848833227663 and parameters: {'thres_for_max': 0.49, 'thres_for_mean': 0.73, 'thres_mean_max': 0.73, 'thres_mean_mean': 0.8200000000000001}. Best is trial 31 with value: 12.606391603664324.\n",
      "1390\n",
      "[I 2024-02-23 22:42:07,396] Trial 132 finished with value: 12.067852790710305 and parameters: {'thres_for_max': 0.47, 'thres_for_mean': 0.73, 'thres_mean_max': 0.73, 'thres_mean_mean': 0.8799999999999999}. Best is trial 31 with value: 12.606391603664324.\n",
      "1303\n",
      "[I 2024-02-23 22:42:32,244] Trial 133 finished with value: 12.357220368740533 and parameters: {'thres_for_max': 0.49, 'thres_for_mean': 0.76, 'thres_mean_max': 0.78, 'thres_mean_mean': 0.8}. Best is trial 31 with value: 12.606391603664324.\n",
      "1764\n",
      "[I 2024-02-23 22:42:57,311] Trial 134 finished with value: 6.622222896602689 and parameters: {'thres_for_max': 0.53, 'thres_for_mean': 0.76, 'thres_mean_max': 0.79, 'thres_mean_mean': 0.3}. Best is trial 31 with value: 12.606391603664324.\n",
      "1466\n",
      "[I 2024-02-23 22:43:21,829] Trial 135 finished with value: 8.986809298763982 and parameters: {'thres_for_max': 0.44999999999999996, 'thres_for_mean': 0.8, 'thres_mean_max': 0.78, 'thres_mean_mean': 0.8300000000000001}. Best is trial 31 with value: 12.606391603664324.\n",
      "1340\n",
      "[I 2024-02-23 22:43:46,894] Trial 136 finished with value: 10.77860383948194 and parameters: {'thres_for_max': 0.48, 'thres_for_mean': 0.76, 'thres_mean_max': 0.76, 'thres_mean_mean': 0.8500000000000001}. Best is trial 31 with value: 12.606391603664324.\n",
      "1210\n",
      "[I 2024-02-23 22:44:12,530] Trial 137 finished with value: 9.411169752356285 and parameters: {'thres_for_max': 0.51, 'thres_for_mean': 0.74, 'thres_mean_max': 0.8200000000000001, 'thres_mean_mean': 0.8999999999999999}. Best is trial 31 with value: 12.606391603664324.\n",
      "1606\n",
      "[I 2024-02-23 22:44:38,084] Trial 138 finished with value: 5.2016940322992715 and parameters: {'thres_for_max': 0.41, 'thres_for_mean': 0.78, 'thres_mean_max': 0.75, 'thres_mean_mean': 0.8}. Best is trial 31 with value: 12.606391603664324.\n",
      "1428\n",
      "[I 2024-02-23 22:45:03,339] Trial 139 finished with value: 10.552715650102225 and parameters: {'thres_for_max': 0.45999999999999996, 'thres_for_mean': 0.75, 'thres_mean_max': 0.53, 'thres_mean_mean': 0.8200000000000001}. Best is trial 31 with value: 12.606391603664324.\n",
      "1171\n",
      "[I 2024-02-23 22:45:27,890] Trial 140 finished with value: 8.741856601543189 and parameters: {'thres_for_max': 0.52, 'thres_for_mean': 0.71, 'thres_mean_max': 0.78, 'thres_mean_mean': 0.8400000000000001}. Best is trial 31 with value: 12.606391603664324.\n",
      "1303\n",
      "[I 2024-02-23 22:45:52,501] Trial 141 finished with value: 12.115289297339773 and parameters: {'thres_for_max': 0.49, 'thres_for_mean': 0.72, 'thres_mean_max': 0.72, 'thres_mean_mean': 0.75}. Best is trial 31 with value: 12.606391603664324.\n",
      "1340\n",
      "[I 2024-02-23 22:46:17,336] Trial 142 finished with value: 10.64076104986156 and parameters: {'thres_for_max': 0.48, 'thres_for_mean': 0.74, 'thres_mean_max': 0.74, 'thres_mean_mean': 0.79}. Best is trial 31 with value: 12.606391603664324.\n",
      "1255\n",
      "[I 2024-02-23 22:46:42,503] Trial 143 finished with value: 10.571404947656564 and parameters: {'thres_for_max': 0.5, 'thres_for_mean': 0.6699999999999999, 'thres_mean_max': 0.71, 'thres_mean_mean': 0.78}. Best is trial 31 with value: 12.606391603664324.\n",
      "1340\n",
      "[I 2024-02-23 22:47:08,074] Trial 144 finished with value: 10.90586803273158 and parameters: {'thres_for_max': 0.48, 'thres_for_mean': 0.77, 'thres_mean_max': 0.76, 'thres_mean_mean': 0.8600000000000001}. Best is trial 31 with value: 12.606391603664324.\n",
      "1255\n",
      "[I 2024-02-23 22:47:33,262] Trial 145 finished with value: 10.190395343509682 and parameters: {'thres_for_max': 0.5, 'thres_for_mean': 0.69, 'thres_mean_max': 0.75, 'thres_mean_mean': 0.81}. Best is trial 31 with value: 12.606391603664324.\n",
      "1770\n",
      "[I 2024-02-23 22:47:58,658] Trial 146 finished with value: 4.643016349026053 and parameters: {'thres_for_max': 0.45999999999999996, 'thres_for_mean': 0.73, 'thres_mean_max': 0.3, 'thres_mean_mean': 0.48}. Best is trial 31 with value: 12.606391603664324.\n",
      "1171\n",
      "[I 2024-02-23 22:48:23,752] Trial 147 finished with value: 8.629133036542042 and parameters: {'thres_for_max': 0.52, 'thres_for_mean': 0.81, 'thres_mean_max': 0.69, 'thres_mean_mean': 0.8300000000000001}. Best is trial 31 with value: 12.606391603664324.\n",
      "1504\n",
      "[I 2024-02-23 22:48:49,266] Trial 148 finished with value: 8.530648129477516 and parameters: {'thres_for_max': 0.44, 'thres_for_mean': 0.71, 'thres_mean_max': 0.77, 'thres_mean_mean': 0.8500000000000001}. Best is trial 31 with value: 12.606391603664324.\n",
      "1303\n",
      "[I 2024-02-23 22:49:14,681] Trial 149 finished with value: 12.481910378402715 and parameters: {'thres_for_max': 0.49, 'thres_for_mean': 0.75, 'thres_mean_max': 0.8, 'thres_mean_mean': 0.8700000000000001}. Best is trial 31 with value: 12.606391603664324.\n",
      "1210\n",
      "[I 2024-02-23 22:49:39,960] Trial 150 finished with value: 9.435669017050555 and parameters: {'thres_for_max': 0.51, 'thres_for_mean': 0.79, 'thres_mean_max': 0.8, 'thres_mean_mean': 0.8700000000000001}. Best is trial 31 with value: 12.606391603664324.\n",
      "1303\n",
      "[I 2024-02-23 22:50:05,094] Trial 151 finished with value: 12.436303476500141 and parameters: {'thres_for_max': 0.49, 'thres_for_mean': 0.76, 'thres_mean_max': 0.8200000000000001, 'thres_mean_mean': 0.8200000000000001}. Best is trial 31 with value: 12.606391603664324.\n",
      "1390\n",
      "[I 2024-02-23 22:50:29,724] Trial 152 finished with value: 12.327736449193639 and parameters: {'thres_for_max': 0.47, 'thres_for_mean': 0.76, 'thres_mean_max': 0.8300000000000001, 'thres_mean_mean': 0.8799999999999999}. Best is trial 31 with value: 12.606391603664324.\n",
      "1390\n",
      "[I 2024-02-23 22:50:55,071] Trial 153 finished with value: 12.32057360927869 and parameters: {'thres_for_max': 0.47, 'thres_for_mean': 0.76, 'thres_mean_max': 0.8200000000000001, 'thres_mean_mean': 0.8799999999999999}. Best is trial 31 with value: 12.606391603664324.\n",
      "1390\n",
      "[I 2024-02-23 22:51:20,502] Trial 154 finished with value: 12.373862757157184 and parameters: {'thres_for_max': 0.47, 'thres_for_mean': 0.76, 'thres_mean_max': 0.8799999999999999, 'thres_mean_mean': 0.8899999999999999}. Best is trial 31 with value: 12.606391603664324.\n",
      "1390\n",
      "[I 2024-02-23 22:51:45,837] Trial 155 finished with value: 12.344715948137008 and parameters: {'thres_for_max': 0.47, 'thres_for_mean': 0.76, 'thres_mean_max': 0.8600000000000001, 'thres_mean_mean': 0.8899999999999999}. Best is trial 31 with value: 12.606391603664324.\n",
      "1390\n",
      "[I 2024-02-23 22:52:11,202] Trial 156 finished with value: 12.373862757157184 and parameters: {'thres_for_max': 0.47, 'thres_for_mean': 0.76, 'thres_mean_max': 0.8799999999999999, 'thres_mean_mean': 0.8999999999999999}. Best is trial 31 with value: 12.606391603664324.\n",
      "1534\n",
      "[I 2024-02-23 22:52:35,932] Trial 157 finished with value: 8.779538727725452 and parameters: {'thres_for_max': 0.43, 'thres_for_mean': 0.77, 'thres_mean_max': 0.8899999999999999, 'thres_mean_mean': 0.8999999999999999}. Best is trial 31 with value: 12.606391603664324.\n",
      "1390\n",
      "[I 2024-02-23 22:53:01,092] Trial 158 finished with value: 12.372567422254292 and parameters: {'thres_for_max': 0.47, 'thres_for_mean': 0.76, 'thres_mean_max': 0.8500000000000001, 'thres_mean_mean': 0.8799999999999999}. Best is trial 31 with value: 12.606391603664324.\n",
      "1466\n",
      "[I 2024-02-23 22:53:26,197] Trial 159 finished with value: 9.133645025264313 and parameters: {'thres_for_max': 0.44999999999999996, 'thres_for_mean': 0.76, 'thres_mean_max': 0.8799999999999999, 'thres_mean_mean': 0.8899999999999999}. Best is trial 31 with value: 12.606391603664324.\n",
      "1390\n",
      "[I 2024-02-23 22:53:51,762] Trial 160 finished with value: 12.27897618441396 and parameters: {'thres_for_max': 0.47, 'thres_for_mean': 0.78, 'thres_mean_max': 0.8600000000000001, 'thres_mean_mean': 0.8799999999999999}. Best is trial 31 with value: 12.606391603664324.\n",
      "1390\n",
      "[I 2024-02-23 22:54:17,201] Trial 161 finished with value: 12.27897618441396 and parameters: {'thres_for_max': 0.47, 'thres_for_mean': 0.78, 'thres_mean_max': 0.8600000000000001, 'thres_mean_mean': 0.8799999999999999}. Best is trial 31 with value: 12.606391603664324.\n",
      "1390\n",
      "[I 2024-02-23 22:54:42,458] Trial 162 finished with value: 12.307140042504193 and parameters: {'thres_for_max': 0.47, 'thres_for_mean': 0.78, 'thres_mean_max': 0.8500000000000001, 'thres_mean_mean': 0.8799999999999999}. Best is trial 31 with value: 12.606391603664324.\n",
      "1428\n",
      "[I 2024-02-23 22:55:07,491] Trial 163 finished with value: 10.222417450997124 and parameters: {'thres_for_max': 0.45999999999999996, 'thres_for_mean': 0.78, 'thres_mean_max': 0.8600000000000001, 'thres_mean_mean': 0.8799999999999999}. Best is trial 31 with value: 12.606391603664324.\n",
      "1390\n",
      "[I 2024-02-23 22:55:32,371] Trial 164 finished with value: 12.193957749617098 and parameters: {'thres_for_max': 0.47, 'thres_for_mean': 0.8, 'thres_mean_max': 0.8999999999999999, 'thres_mean_mean': 0.8999999999999999}. Best is trial 31 with value: 12.606391603664324.\n",
      "1504\n",
      "[I 2024-02-23 22:55:57,822] Trial 165 finished with value: 8.42155187635104 and parameters: {'thres_for_max': 0.44, 'thres_for_mean': 0.8200000000000001, 'thres_mean_max': 0.8700000000000001, 'thres_mean_mean': 0.8899999999999999}. Best is trial 31 with value: 12.606391603664324.\n",
      "1575\n",
      "[I 2024-02-23 22:56:23,287] Trial 166 finished with value: 6.219256473109037 and parameters: {'thres_for_max': 0.42, 'thres_for_mean': 0.77, 'thres_mean_max': 0.8400000000000001, 'thres_mean_mean': 0.8799999999999999}. Best is trial 31 with value: 12.606391603664324.\n",
      "1390\n",
      "[I 2024-02-23 22:56:49,039] Trial 167 finished with value: 12.344715948137008 and parameters: {'thres_for_max': 0.47, 'thres_for_mean': 0.76, 'thres_mean_max': 0.8600000000000001, 'thres_mean_mean': 0.8700000000000001}. Best is trial 31 with value: 12.606391603664324.\n",
      "1390\n",
      "[I 2024-02-23 22:57:14,345] Trial 168 finished with value: 12.219768984621641 and parameters: {'thres_for_max': 0.47, 'thres_for_mean': 0.79, 'thres_mean_max': 0.8600000000000001, 'thres_mean_mean': 0.8700000000000001}. Best is trial 31 with value: 12.606391603664324.\n",
      "1466\n",
      "[I 2024-02-23 22:57:39,005] Trial 169 finished with value: 9.125484626396146 and parameters: {'thres_for_max': 0.44999999999999996, 'thres_for_mean': 0.76, 'thres_mean_max': 0.8400000000000001, 'thres_mean_mean': 0.8899999999999999}. Best is trial 31 with value: 12.606391603664324.\n",
      "1390\n",
      "[I 2024-02-23 22:58:04,200] Trial 170 finished with value: 12.364683303933552 and parameters: {'thres_for_max': 0.47, 'thres_for_mean': 0.75, 'thres_mean_max': 0.8700000000000001, 'thres_mean_mean': 0.8799999999999999}. Best is trial 31 with value: 12.606391603664324.\n",
      "1390\n",
      "[I 2024-02-23 22:58:29,314] Trial 171 finished with value: 12.382440682420373 and parameters: {'thres_for_max': 0.47, 'thres_for_mean': 0.75, 'thres_mean_max': 0.8799999999999999, 'thres_mean_mean': 0.8999999999999999}. Best is trial 31 with value: 12.606391603664324.\n",
      "1428\n",
      "[I 2024-02-23 22:58:54,896] Trial 172 finished with value: 10.309408863478689 and parameters: {'thres_for_max': 0.45999999999999996, 'thres_for_mean': 0.75, 'thres_mean_max': 0.8799999999999999, 'thres_mean_mean': 0.8999999999999999}. Best is trial 31 with value: 12.606391603664324.\n",
      "1390\n",
      "[I 2024-02-23 22:59:20,337] Trial 173 finished with value: 12.371373990029014 and parameters: {'thres_for_max': 0.47, 'thres_for_mean': 0.75, 'thres_mean_max': 0.8400000000000001, 'thres_mean_mean': 0.8899999999999999}. Best is trial 31 with value: 12.606391603664324.\n",
      "1504\n",
      "[I 2024-02-23 22:59:45,492] Trial 174 finished with value: 8.796940309824322 and parameters: {'thres_for_max': 0.44, 'thres_for_mean': 0.75, 'thres_mean_max': 0.8400000000000001, 'thres_mean_mean': 0.8999999999999999}. Best is trial 31 with value: 12.606391603664324.\n",
      "1428\n",
      "[I 2024-02-23 23:00:09,943] Trial 175 finished with value: 10.264951217084894 and parameters: {'thres_for_max': 0.45999999999999996, 'thres_for_mean': 0.76, 'thres_mean_max': 0.8999999999999999, 'thres_mean_mean': 0.8700000000000001}. Best is trial 31 with value: 12.606391603664324.\n",
      "1466\n",
      "[I 2024-02-23 23:00:34,804] Trial 176 finished with value: 9.202059617490436 and parameters: {'thres_for_max': 0.44999999999999996, 'thres_for_mean': 0.77, 'thres_mean_max': 0.8200000000000001, 'thres_mean_mean': 0.8899999999999999}. Best is trial 31 with value: 12.606391603664324.\n",
      "1340\n",
      "[I 2024-02-23 23:01:00,297] Trial 177 finished with value: 10.858319237459254 and parameters: {'thres_for_max': 0.48, 'thres_for_mean': 0.75, 'thres_mean_max': 0.8700000000000001, 'thres_mean_mean': 0.8700000000000001}. Best is trial 31 with value: 12.606391603664324.\n",
      "1390\n",
      "[I 2024-02-23 23:01:25,309] Trial 178 finished with value: 12.373862757157184 and parameters: {'thres_for_max': 0.47, 'thres_for_mean': 0.76, 'thres_mean_max': 0.8799999999999999, 'thres_mean_mean': 0.8899999999999999}. Best is trial 31 with value: 12.606391603664324.\n",
      "1534\n",
      "[I 2024-02-23 23:01:51,202] Trial 179 finished with value: 8.681615590006086 and parameters: {'thres_for_max': 0.43, 'thres_for_mean': 0.76, 'thres_mean_max': 0.8799999999999999, 'thres_mean_mean': 0.8899999999999999}. Best is trial 31 with value: 12.606391603664324.\n",
      "1466\n",
      "[I 2024-02-23 23:02:16,487] Trial 180 finished with value: 9.020261281628414 and parameters: {'thres_for_max': 0.44999999999999996, 'thres_for_mean': 0.8, 'thres_mean_max': 0.8700000000000001, 'thres_mean_mean': 0.8999999999999999}. Best is trial 31 with value: 12.606391603664324.\n",
      "1390\n",
      "[I 2024-02-23 23:02:41,839] Trial 181 finished with value: 12.381154012351999 and parameters: {'thres_for_max': 0.47, 'thres_for_mean': 0.75, 'thres_mean_max': 0.8500000000000001, 'thres_mean_mean': 0.8799999999999999}. Best is trial 31 with value: 12.606391603664324.\n",
      "1390\n",
      "[I 2024-02-23 23:03:07,435] Trial 182 finished with value: 12.336278731714172 and parameters: {'thres_for_max': 0.47, 'thres_for_mean': 0.75, 'thres_mean_max': 0.8300000000000001, 'thres_mean_mean': 0.8700000000000001}. Best is trial 31 with value: 12.606391603664324.\n",
      "1890\n",
      "[I 2024-02-23 23:03:32,745] Trial 183 finished with value: 6.383596915483719 and parameters: {'thres_for_max': 0.32, 'thres_for_mean': 0.75, 'thres_mean_max': 0.8400000000000001, 'thres_mean_mean': 0.8700000000000001}. Best is trial 31 with value: 12.606391603664324.\n",
      "1340\n",
      "[I 2024-02-23 23:03:57,832] Trial 184 finished with value: 10.757655072601896 and parameters: {'thres_for_max': 0.48, 'thres_for_mean': 0.74, 'thres_mean_max': 0.8899999999999999, 'thres_mean_mean': 0.8899999999999999}. Best is trial 31 with value: 12.606391603664324.\n",
      "1428\n",
      "[I 2024-02-23 23:04:23,088] Trial 185 finished with value: 10.42356127993726 and parameters: {'thres_for_max': 0.45999999999999996, 'thres_for_mean': 0.77, 'thres_mean_max': 0.8500000000000001, 'thres_mean_mean': 0.8600000000000001}. Best is trial 31 with value: 12.606391603664324.\n",
      "1340\n",
      "[I 2024-02-23 23:04:49,152] Trial 186 finished with value: 10.873913270859909 and parameters: {'thres_for_max': 0.48, 'thres_for_mean': 0.75, 'thres_mean_max': 0.8799999999999999, 'thres_mean_mean': 0.8999999999999999}. Best is trial 31 with value: 12.606391603664324.\n",
      "1428\n",
      "[I 2024-02-23 23:05:14,291] Trial 187 finished with value: 10.385792369169698 and parameters: {'thres_for_max': 0.45999999999999996, 'thres_for_mean': 0.77, 'thres_mean_max': 0.8300000000000001, 'thres_mean_mean': 0.8600000000000001}. Best is trial 31 with value: 12.606391603664324.\n",
      "1504\n",
      "[I 2024-02-23 23:05:39,238] Trial 188 finished with value: 8.709488443751127 and parameters: {'thres_for_max': 0.44, 'thres_for_mean': 0.79, 'thres_mean_max': 0.8500000000000001, 'thres_mean_mean': 0.8700000000000001}. Best is trial 31 with value: 12.606391603664324.\n",
      "1890\n",
      "[I 2024-02-23 23:06:04,583] Trial 189 finished with value: 7.83317868420039 and parameters: {'thres_for_max': 0.5, 'thres_for_mean': 0.32, 'thres_mean_max': 0.8700000000000001, 'thres_mean_mean': 0.38}. Best is trial 31 with value: 12.606391603664324.\n",
      "1340\n",
      "[I 2024-02-23 23:06:29,834] Trial 190 finished with value: 10.724223176801921 and parameters: {'thres_for_max': 0.48, 'thres_for_mean': 0.74, 'thres_mean_max': 0.8999999999999999, 'thres_mean_mean': 0.8799999999999999}. Best is trial 31 with value: 12.606391603664324.\n",
      "1390\n",
      "[I 2024-02-23 23:06:55,325] Trial 191 finished with value: 12.32057360927869 and parameters: {'thres_for_max': 0.47, 'thres_for_mean': 0.76, 'thres_mean_max': 0.8200000000000001, 'thres_mean_mean': 0.8799999999999999}. Best is trial 31 with value: 12.606391603664324.\n",
      "1390\n",
      "[I 2024-02-23 23:07:20,458] Trial 192 finished with value: 12.340752557074486 and parameters: {'thres_for_max': 0.47, 'thres_for_mean': 0.76, 'thres_mean_max': 0.81, 'thres_mean_mean': 0.8999999999999999}. Best is trial 31 with value: 12.606391603664324.\n",
      "1466\n",
      "[I 2024-02-23 23:07:45,576] Trial 193 finished with value: 9.105990090752218 and parameters: {'thres_for_max': 0.44999999999999996, 'thres_for_mean': 0.75, 'thres_mean_max': 0.8300000000000001, 'thres_mean_mean': 0.8999999999999999}. Best is trial 31 with value: 12.606391603664324.\n",
      "1340\n",
      "[I 2024-02-23 23:08:10,590] Trial 194 finished with value: 10.965486889356262 and parameters: {'thres_for_max': 0.48, 'thres_for_mean': 0.77, 'thres_mean_max': 0.81, 'thres_mean_mean': 0.8899999999999999}. Best is trial 31 with value: 12.606391603664324.\n",
      "1255\n",
      "[I 2024-02-23 23:08:35,511] Trial 195 finished with value: 10.787835833789469 and parameters: {'thres_for_max': 0.5, 'thres_for_mean': 0.74, 'thres_mean_max': 0.8600000000000001, 'thres_mean_mean': 0.8600000000000001}. Best is trial 31 with value: 12.606391603664324.\n",
      "1390\n",
      "[I 2024-02-23 23:09:01,225] Trial 196 finished with value: 12.376024350475381 and parameters: {'thres_for_max': 0.47, 'thres_for_mean': 0.75, 'thres_mean_max': 0.8899999999999999, 'thres_mean_mean': 0.8899999999999999}. Best is trial 31 with value: 12.606391603664324.\n",
      "1428\n",
      "[I 2024-02-23 23:09:26,764] Trial 197 finished with value: 10.304066734966138 and parameters: {'thres_for_max': 0.45999999999999996, 'thres_for_mean': 0.75, 'thres_mean_max': 0.8899999999999999, 'thres_mean_mean': 0.8999999999999999}. Best is trial 31 with value: 12.606391603664324.\n",
      "1340\n",
      "[I 2024-02-23 23:09:52,072] Trial 198 finished with value: 10.80860556714719 and parameters: {'thres_for_max': 0.48, 'thres_for_mean': 0.78, 'thres_mean_max': 0.8799999999999999, 'thres_mean_mean': 0.8700000000000001}. Best is trial 31 with value: 12.606391603664324.\n",
      "1210\n",
      "[I 2024-02-23 23:10:17,194] Trial 199 finished with value: 9.43735953502219 and parameters: {'thres_for_max': 0.51, 'thres_for_mean': 0.74, 'thres_mean_max': 0.8700000000000001, 'thres_mean_mean': 0.8899999999999999}. Best is trial 31 with value: 12.606391603664324.\n",
      "1255\n",
      "[I 2024-02-23 23:10:42,198] Trial 200 finished with value: 11.047488687567519 and parameters: {'thres_for_max': 0.5, 'thres_for_mean': 0.77, 'thres_mean_max': 0.8500000000000001, 'thres_mean_mean': 0.8600000000000001}. Best is trial 31 with value: 12.606391603664324.\n",
      "1390\n",
      "[I 2024-02-23 23:11:07,924] Trial 201 finished with value: 12.36280740572203 and parameters: {'thres_for_max': 0.47, 'thres_for_mean': 0.76, 'thres_mean_max': 0.8400000000000001, 'thres_mean_mean': 0.8799999999999999}. Best is trial 31 with value: 12.606391603664324.\n",
      "1428\n",
      "[I 2024-02-23 23:11:33,400] Trial 202 finished with value: 10.27471803031931 and parameters: {'thres_for_max': 0.45999999999999996, 'thres_for_mean': 0.76, 'thres_mean_max': 0.81, 'thres_mean_mean': 0.8999999999999999}. Best is trial 31 with value: 12.606391603664324.\n",
      "1340\n",
      "[I 2024-02-23 23:11:58,668] Trial 203 finished with value: 10.747435235934692 and parameters: {'thres_for_max': 0.48, 'thres_for_mean': 0.79, 'thres_mean_max': 0.8400000000000001, 'thres_mean_mean': 0.8799999999999999}. Best is trial 31 with value: 12.606391603664324.\n",
      "1390\n",
      "[I 2024-02-23 23:12:23,764] Trial 204 finished with value: 12.238947279890217 and parameters: {'thres_for_max': 0.47, 'thres_for_mean': 0.74, 'thres_mean_max': 0.8700000000000001, 'thres_mean_mean': 0.8700000000000001}. Best is trial 31 with value: 12.606391603664324.\n",
      "1466\n",
      "[I 2024-02-23 23:12:49,375] Trial 205 finished with value: 9.220091183919493 and parameters: {'thres_for_max': 0.44999999999999996, 'thres_for_mean': 0.77, 'thres_mean_max': 0.8600000000000001, 'thres_mean_mean': 0.8400000000000001}. Best is trial 31 with value: 12.606391603664324.\n",
      "1303\n",
      "[I 2024-02-23 23:13:14,659] Trial 206 finished with value: 12.492196811054868 and parameters: {'thres_for_max': 0.49, 'thres_for_mean': 0.75, 'thres_mean_max': 0.8899999999999999, 'thres_mean_mean': 0.8899999999999999}. Best is trial 31 with value: 12.606391603664324.\n",
      "1255\n",
      "[I 2024-02-23 23:13:39,685] Trial 207 finished with value: 10.8784852166645 and parameters: {'thres_for_max': 0.5, 'thres_for_mean': 0.76, 'thres_mean_max': 0.8999999999999999, 'thres_mean_mean': 0.8899999999999999}. Best is trial 31 with value: 12.606391603664324.\n",
      "1303\n",
      "[I 2024-02-23 23:14:04,850] Trial 208 finished with value: 12.41813170441495 and parameters: {'thres_for_max': 0.49, 'thres_for_mean': 0.78, 'thres_mean_max': 0.8899999999999999, 'thres_mean_mean': 0.8999999999999999}. Best is trial 31 with value: 12.606391603664324.\n",
      "1303\n",
      "[I 2024-02-23 23:14:29,903] Trial 209 finished with value: 12.16990832482733 and parameters: {'thres_for_max': 0.49, 'thres_for_mean': 0.81, 'thres_mean_max': 0.8899999999999999, 'thres_mean_mean': 0.8799999999999999}. Best is trial 31 with value: 12.606391603664324.\n",
      "1210\n",
      "[I 2024-02-23 23:14:56,731] Trial 210 finished with value: 9.446829684321095 and parameters: {'thres_for_max': 0.51, 'thres_for_mean': 0.79, 'thres_mean_max': 0.8799999999999999, 'thres_mean_mean': 0.8899999999999999}. Best is trial 31 with value: 12.606391603664324.\n",
      "1303\n",
      "[I 2024-02-23 23:15:23,812] Trial 211 finished with value: 12.41813170441495 and parameters: {'thres_for_max': 0.49, 'thres_for_mean': 0.78, 'thres_mean_max': 0.8899999999999999, 'thres_mean_mean': 0.8999999999999999}. Best is trial 31 with value: 12.606391603664324.\n",
      "1303\n",
      "[I 2024-02-23 23:15:50,104] Trial 212 finished with value: 12.41813170441495 and parameters: {'thres_for_max': 0.49, 'thres_for_mean': 0.78, 'thres_mean_max': 0.8899999999999999, 'thres_mean_mean': 0.8999999999999999}. Best is trial 31 with value: 12.606391603664324.\n",
      "1303\n",
      "[I 2024-02-23 23:16:15,135] Trial 213 finished with value: 12.41813170441495 and parameters: {'thres_for_max': 0.49, 'thres_for_mean': 0.78, 'thres_mean_max': 0.8899999999999999, 'thres_mean_mean': 0.8999999999999999}. Best is trial 31 with value: 12.606391603664324.\n",
      "1303\n",
      "[I 2024-02-23 23:16:40,093] Trial 214 finished with value: 12.308020430406211 and parameters: {'thres_for_max': 0.49, 'thres_for_mean': 0.8, 'thres_mean_max': 0.8999999999999999, 'thres_mean_mean': 0.8999999999999999}. Best is trial 31 with value: 12.606391603664324.\n",
      "1210\n",
      "[I 2024-02-23 23:17:05,055] Trial 215 finished with value: 9.48728442014729 and parameters: {'thres_for_max': 0.51, 'thres_for_mean': 0.78, 'thres_mean_max': 0.8899999999999999, 'thres_mean_mean': 0.8999999999999999}. Best is trial 31 with value: 12.606391603664324.\n",
      "1303\n",
      "[I 2024-02-23 23:17:30,078] Trial 216 finished with value: 12.424607763023182 and parameters: {'thres_for_max': 0.49, 'thres_for_mean': 0.78, 'thres_mean_max': 0.8799999999999999, 'thres_mean_mean': 0.8899999999999999}. Best is trial 31 with value: 12.606391603664324.\n",
      "1255\n",
      "[I 2024-02-23 23:17:54,952] Trial 217 finished with value: 10.43236535278073 and parameters: {'thres_for_max': 0.5, 'thres_for_mean': 0.8300000000000001, 'thres_mean_max': 0.8899999999999999, 'thres_mean_mean': 0.8899999999999999}. Best is trial 31 with value: 12.606391603664324.\n",
      "1303\n",
      "[I 2024-02-23 23:18:20,587] Trial 218 finished with value: 12.424607763023182 and parameters: {'thres_for_max': 0.49, 'thres_for_mean': 0.78, 'thres_mean_max': 0.8799999999999999, 'thres_mean_mean': 0.8799999999999999}. Best is trial 31 with value: 12.606391603664324.\n",
      "1171\n",
      "[I 2024-02-23 23:18:45,783] Trial 219 finished with value: 8.975833269888968 and parameters: {'thres_for_max': 0.52, 'thres_for_mean': 0.79, 'thres_mean_max': 0.8799999999999999, 'thres_mean_mean': 0.8999999999999999}. Best is trial 31 with value: 12.606391603664324.\n",
      "1255\n",
      "[I 2024-02-23 23:19:11,235] Trial 220 finished with value: 10.822621794777994 and parameters: {'thres_for_max': 0.5, 'thres_for_mean': 0.78, 'thres_mean_max': 0.8999999999999999, 'thres_mean_mean': 0.8799999999999999}. Best is trial 31 with value: 12.606391603664324.\n",
      "1340\n",
      "[I 2024-02-23 23:19:36,783] Trial 221 finished with value: 10.746636803944817 and parameters: {'thres_for_max': 0.48, 'thres_for_mean': 0.8, 'thres_mean_max': 0.8799999999999999, 'thres_mean_mean': 0.8799999999999999}. Best is trial 31 with value: 12.606391603664324.\n",
      "1303\n",
      "[I 2024-02-23 23:20:02,513] Trial 222 finished with value: 12.424607763023182 and parameters: {'thres_for_max': 0.49, 'thres_for_mean': 0.78, 'thres_mean_max': 0.8799999999999999, 'thres_mean_mean': 0.8899999999999999}. Best is trial 31 with value: 12.606391603664324.\n",
      "1303\n",
      "[I 2024-02-23 23:20:27,970] Trial 223 finished with value: 12.424607763023182 and parameters: {'thres_for_max': 0.49, 'thres_for_mean': 0.78, 'thres_mean_max': 0.8799999999999999, 'thres_mean_mean': 0.8999999999999999}. Best is trial 31 with value: 12.606391603664324.\n",
      "1303\n",
      "[I 2024-02-23 23:20:53,264] Trial 224 finished with value: 12.16990832482733 and parameters: {'thres_for_max': 0.49, 'thres_for_mean': 0.81, 'thres_mean_max': 0.8899999999999999, 'thres_mean_mean': 0.8999999999999999}. Best is trial 31 with value: 12.606391603664324.\n",
      "1210\n",
      "[I 2024-02-23 23:21:18,673] Trial 225 finished with value: 9.458528746706817 and parameters: {'thres_for_max': 0.51, 'thres_for_mean': 0.78, 'thres_mean_max': 0.8999999999999999, 'thres_mean_mean': 0.8999999999999999}. Best is trial 31 with value: 12.606391603664324.\n",
      "1303\n",
      "[I 2024-02-23 23:21:43,814] Trial 226 finished with value: 12.424607763023182 and parameters: {'thres_for_max': 0.49, 'thres_for_mean': 0.78, 'thres_mean_max': 0.8799999999999999, 'thres_mean_mean': 0.8899999999999999}. Best is trial 31 with value: 12.606391603664324.\n",
      "1303\n",
      "[I 2024-02-23 23:22:09,140] Trial 227 finished with value: 12.35284639051843 and parameters: {'thres_for_max': 0.49, 'thres_for_mean': 0.8, 'thres_mean_max': 0.8799999999999999, 'thres_mean_mean': 0.8899999999999999}. Best is trial 31 with value: 12.606391603664324.\n",
      "1171\n",
      "[I 2024-02-23 23:22:34,485] Trial 228 finished with value: 8.97069387520032 and parameters: {'thres_for_max': 0.52, 'thres_for_mean': 0.79, 'thres_mean_max': 0.8899999999999999, 'thres_mean_mean': 0.8600000000000001}. Best is trial 31 with value: 12.606391603664324.\n",
      "1255\n",
      "[I 2024-02-23 23:23:00,125] Trial 229 finished with value: 10.846287216051572 and parameters: {'thres_for_max': 0.5, 'thres_for_mean': 0.78, 'thres_mean_max': 0.8700000000000001, 'thres_mean_mean': 0.8999999999999999}. Best is trial 31 with value: 12.606391603664324.\n",
      "1303\n",
      "[I 2024-02-23 23:23:25,168] Trial 230 finished with value: 12.424607763023182 and parameters: {'thres_for_max': 0.49, 'thres_for_mean': 0.78, 'thres_mean_max': 0.8799999999999999, 'thres_mean_mean': 0.8799999999999999}. Best is trial 31 with value: 12.606391603664324.\n",
      "1303\n",
      "[I 2024-02-23 23:23:50,207] Trial 231 finished with value: 12.424607763023182 and parameters: {'thres_for_max': 0.49, 'thres_for_mean': 0.78, 'thres_mean_max': 0.8799999999999999, 'thres_mean_mean': 0.8799999999999999}. Best is trial 31 with value: 12.606391603664324.\n",
      "1303\n",
      "[I 2024-02-23 23:24:14,849] Trial 232 finished with value: 12.424607763023182 and parameters: {'thres_for_max': 0.49, 'thres_for_mean': 0.78, 'thres_mean_max': 0.8799999999999999, 'thres_mean_mean': 0.8700000000000001}. Best is trial 31 with value: 12.606391603664324.\n",
      "1255\n",
      "[I 2024-02-23 23:24:39,980] Trial 233 finished with value: 10.43188520049826 and parameters: {'thres_for_max': 0.5, 'thres_for_mean': 0.8200000000000001, 'thres_mean_max': 0.8999999999999999, 'thres_mean_mean': 0.8700000000000001}. Best is trial 31 with value: 12.606391603664324.\n",
      "1303\n",
      "[I 2024-02-23 23:25:05,431] Trial 234 finished with value: 12.424607763023182 and parameters: {'thres_for_max': 0.49, 'thres_for_mean': 0.78, 'thres_mean_max': 0.8799999999999999, 'thres_mean_mean': 0.8500000000000001}. Best is trial 31 with value: 12.606391603664324.\n",
      "1210\n",
      "[I 2024-02-23 23:25:30,632] Trial 235 finished with value: 9.441806392049147 and parameters: {'thres_for_max': 0.51, 'thres_for_mean': 0.79, 'thres_mean_max': 0.8899999999999999, 'thres_mean_mean': 0.8500000000000001}. Best is trial 31 with value: 12.606391603664324.\n",
      "1303\n",
      "[I 2024-02-23 23:25:56,260] Trial 236 finished with value: 12.406797834442548 and parameters: {'thres_for_max': 0.49, 'thres_for_mean': 0.78, 'thres_mean_max': 0.8700000000000001, 'thres_mean_mean': 0.8600000000000001}. Best is trial 31 with value: 12.606391603664324.\n",
      "1303\n",
      "[I 2024-02-23 23:26:21,353] Trial 237 finished with value: 12.158737987525644 and parameters: {'thres_for_max': 0.49, 'thres_for_mean': 0.81, 'thres_mean_max': 0.8700000000000001, 'thres_mean_mean': 0.8500000000000001}. Best is trial 31 with value: 12.606391603664324.\n",
      "1171\n",
      "[I 2024-02-23 23:26:46,770] Trial 238 finished with value: 8.936802884559635 and parameters: {'thres_for_max': 0.52, 'thres_for_mean': 0.8, 'thres_mean_max': 0.8999999999999999, 'thres_mean_mean': 0.8600000000000001}. Best is trial 31 with value: 12.606391603664324.\n",
      "1303\n",
      "[I 2024-02-23 23:27:12,343] Trial 239 finished with value: 12.345705739160937 and parameters: {'thres_for_max': 0.49, 'thres_for_mean': 0.79, 'thres_mean_max': 0.8700000000000001, 'thres_mean_mean': 0.8400000000000001}. Best is trial 31 with value: 12.606391603664324.\n",
      "1125\n",
      "[I 2024-02-23 23:27:37,473] Trial 240 finished with value: 8.906190396150198 and parameters: {'thres_for_max': 0.53, 'thres_for_mean': 0.78, 'thres_mean_max': 0.8899999999999999, 'thres_mean_mean': 0.8700000000000001}. Best is trial 31 with value: 12.606391603664324.\n",
      "1303\n",
      "[I 2024-02-23 23:28:02,537] Trial 241 finished with value: 12.424607763023182 and parameters: {'thres_for_max': 0.49, 'thres_for_mean': 0.78, 'thres_mean_max': 0.8799999999999999, 'thres_mean_mean': 0.8600000000000001}. Best is trial 31 with value: 12.606391603664324.\n",
      "1255\n",
      "[I 2024-02-23 23:28:27,633] Trial 242 finished with value: 10.861857035376476 and parameters: {'thres_for_max': 0.5, 'thres_for_mean': 0.78, 'thres_mean_max': 0.8799999999999999, 'thres_mean_mean': 0.8600000000000001}. Best is trial 31 with value: 12.606391603664324.\n",
      "1303\n",
      "[I 2024-02-23 23:28:52,854] Trial 243 finished with value: 12.406797834442548 and parameters: {'thres_for_max': 0.49, 'thres_for_mean': 0.78, 'thres_mean_max': 0.8700000000000001, 'thres_mean_mean': 0.8700000000000001}. Best is trial 31 with value: 12.606391603664324.\n",
      "1303\n",
      "[I 2024-02-23 23:29:18,145] Trial 244 finished with value: 12.335133277739615 and parameters: {'thres_for_max': 0.49, 'thres_for_mean': 0.8, 'thres_mean_max': 0.8700000000000001, 'thres_mean_mean': 0.8700000000000001}. Best is trial 31 with value: 12.606391603664324.\n",
      "1255\n",
      "[I 2024-02-23 23:29:43,674] Trial 245 finished with value: 11.022620054021843 and parameters: {'thres_for_max': 0.5, 'thres_for_mean': 0.77, 'thres_mean_max': 0.8600000000000001, 'thres_mean_mean': 0.8799999999999999}. Best is trial 31 with value: 12.606391603664324.\n",
      "1210\n",
      "[I 2024-02-23 23:30:08,759] Trial 246 finished with value: 9.492374502136958 and parameters: {'thres_for_max': 0.51, 'thres_for_mean': 0.78, 'thres_mean_max': 0.8799999999999999, 'thres_mean_mean': 0.8799999999999999}. Best is trial 31 with value: 12.606391603664324.\n",
      "1303\n",
      "[I 2024-02-23 23:30:33,712] Trial 247 finished with value: 12.318569653364984 and parameters: {'thres_for_max': 0.49, 'thres_for_mean': 0.79, 'thres_mean_max': 0.8999999999999999, 'thres_mean_mean': 0.8600000000000001}. Best is trial 31 with value: 12.606391603664324.\n",
      "1340\n",
      "[I 2024-02-23 23:30:59,256] Trial 248 finished with value: 10.793112080601892 and parameters: {'thres_for_max': 0.48, 'thres_for_mean': 0.78, 'thres_mean_max': 0.8700000000000001, 'thres_mean_mean': 0.8700000000000001}. Best is trial 31 with value: 12.606391603664324.\n",
      "1340\n",
      "[I 2024-02-23 23:31:24,797] Trial 249 finished with value: 10.989214975318028 and parameters: {'thres_for_max': 0.48, 'thres_for_mean': 0.77, 'thres_mean_max': 0.8899999999999999, 'thres_mean_mean': 0.8899999999999999}. Best is trial 31 with value: 12.606391603664324.\n",
      "1210\n",
      "[I 2024-02-23 23:31:50,399] Trial 250 finished with value: 9.416534628446929 and parameters: {'thres_for_max': 0.51, 'thres_for_mean': 0.8, 'thres_mean_max': 0.8600000000000001, 'thres_mean_mean': 0.8700000000000001}. Best is trial 31 with value: 12.606391603664324.\n",
      "1303\n",
      "[I 2024-02-23 23:32:15,545] Trial 251 finished with value: 12.357047845346225 and parameters: {'thres_for_max': 0.49, 'thres_for_mean': 0.79, 'thres_mean_max': 0.8899999999999999, 'thres_mean_mean': 0.8799999999999999}. Best is trial 31 with value: 12.606391603664324.\n",
      "1255\n",
      "[I 2024-02-23 23:32:40,296] Trial 252 finished with value: 10.675827631887024 and parameters: {'thres_for_max': 0.5, 'thres_for_mean': 0.8999999999999999, 'thres_mean_max': 0.8799999999999999, 'thres_mean_mean': 0.8500000000000001}. Best is trial 31 with value: 12.606391603664324.\n",
      "1340\n",
      "[I 2024-02-23 23:33:05,868] Trial 253 finished with value: 10.577767829004879 and parameters: {'thres_for_max': 0.48, 'thres_for_mean': 0.81, 'thres_mean_max': 0.8700000000000001, 'thres_mean_mean': 0.8899999999999999}. Best is trial 31 with value: 12.606391603664324.\n",
      "1255\n",
      "[I 2024-02-23 23:33:31,403] Trial 254 finished with value: 11.008606754074336 and parameters: {'thres_for_max': 0.5, 'thres_for_mean': 0.77, 'thres_mean_max': 0.8999999999999999, 'thres_mean_mean': 0.8999999999999999}. Best is trial 31 with value: 12.606391603664324.\n",
      "1171\n",
      "[I 2024-02-23 23:33:56,853] Trial 255 finished with value: 8.996304497876142 and parameters: {'thres_for_max': 0.52, 'thres_for_mean': 0.78, 'thres_mean_max': 0.8600000000000001, 'thres_mean_mean': 0.8600000000000001}. Best is trial 31 with value: 12.606391603664324.\n",
      "1340\n",
      "[I 2024-02-23 23:34:21,648] Trial 256 finished with value: 10.994905298559752 and parameters: {'thres_for_max': 0.48, 'thres_for_mean': 0.77, 'thres_mean_max': 0.8799999999999999, 'thres_mean_mean': 0.8799999999999999}. Best is trial 31 with value: 12.606391603664324.\n",
      "1303\n",
      "[I 2024-02-23 23:34:46,731] Trial 257 finished with value: 12.631158337311907 and parameters: {'thres_for_max': 0.49, 'thres_for_mean': 0.77, 'thres_mean_max': 0.8899999999999999, 'thres_mean_mean': 0.8400000000000001}. Best is trial 257 with value: 12.631158337311907.\n",
      "1303\n",
      "[I 2024-02-23 23:35:12,037] Trial 258 finished with value: 12.335133277739615 and parameters: {'thres_for_max': 0.49, 'thres_for_mean': 0.8, 'thres_mean_max': 0.8700000000000001, 'thres_mean_mean': 0.8400000000000001}. Best is trial 257 with value: 12.631158337311907.\n",
      "1210\n",
      "[I 2024-02-23 23:35:37,933] Trial 259 finished with value: 9.441806392049147 and parameters: {'thres_for_max': 0.51, 'thres_for_mean': 0.79, 'thres_mean_max': 0.8899999999999999, 'thres_mean_mean': 0.8400000000000001}. Best is trial 257 with value: 12.631158337311907.\n",
      "1125\n",
      "[I 2024-02-23 23:36:03,632] Trial 260 finished with value: 9.068286674187707 and parameters: {'thres_for_max': 0.53, 'thres_for_mean': 0.77, 'thres_mean_max': 0.8500000000000001, 'thres_mean_mean': 0.8600000000000001}. Best is trial 257 with value: 12.631158337311907.\n",
      "1323\n",
      "[I 2024-02-23 23:36:29,043] Trial 261 finished with value: 8.850254572156848 and parameters: {'thres_for_max': 0.5, 'thres_for_mean': 0.8200000000000001, 'thres_mean_max': 0.43, 'thres_mean_mean': 0.8500000000000001}. Best is trial 257 with value: 12.631158337311907.\n",
      "1340\n",
      "[I 2024-02-23 23:36:54,276] Trial 262 finished with value: 11.022560250637445 and parameters: {'thres_for_max': 0.48, 'thres_for_mean': 0.78, 'thres_mean_max': 0.56, 'thres_mean_mean': 0.8300000000000001}. Best is trial 257 with value: 12.631158337311907.\n",
      "1303\n",
      "[I 2024-02-23 23:37:19,337] Trial 263 finished with value: 12.637698874922481 and parameters: {'thres_for_max': 0.49, 'thres_for_mean': 0.77, 'thres_mean_max': 0.8799999999999999, 'thres_mean_mean': 0.8700000000000001}. Best is trial 263 with value: 12.637698874922481.\n",
      "1255\n",
      "[I 2024-02-23 23:37:44,736] Trial 264 finished with value: 10.769036495477206 and parameters: {'thres_for_max': 0.5, 'thres_for_mean': 0.79, 'thres_mean_max': 0.8999999999999999, 'thres_mean_mean': 0.8600000000000001}. Best is trial 263 with value: 12.637698874922481.\n",
      "1210\n",
      "[I 2024-02-23 23:38:10,282] Trial 265 finished with value: 9.656550318184033 and parameters: {'thres_for_max': 0.51, 'thres_for_mean': 0.77, 'thres_mean_max': 0.8799999999999999, 'thres_mean_mean': 0.8700000000000001}. Best is trial 263 with value: 12.637698874922481.\n",
      "1303\n",
      "[I 2024-02-23 23:38:35,331] Trial 266 finished with value: 12.176197798649827 and parameters: {'thres_for_max': 0.49, 'thres_for_mean': 0.81, 'thres_mean_max': 0.8799999999999999, 'thres_mean_mean': 0.8400000000000001}. Best is trial 263 with value: 12.637698874922481.\n",
      "1303\n",
      "[I 2024-02-23 23:39:00,437] Trial 267 finished with value: 12.37972754840275 and parameters: {'thres_for_max': 0.49, 'thres_for_mean': 0.78, 'thres_mean_max': 0.8999999999999999, 'thres_mean_mean': 0.8999999999999999}. Best is trial 263 with value: 12.637698874922481.\n",
      "1210\n",
      "[I 2024-02-23 23:39:25,646] Trial 268 finished with value: 9.433283595078935 and parameters: {'thres_for_max': 0.51, 'thres_for_mean': 0.79, 'thres_mean_max': 0.8700000000000001, 'thres_mean_mean': 0.8700000000000001}. Best is trial 263 with value: 12.637698874922481.\n",
      "1340\n",
      "[I 2024-02-23 23:39:51,021] Trial 269 finished with value: 10.989214975318028 and parameters: {'thres_for_max': 0.48, 'thres_for_mean': 0.77, 'thres_mean_max': 0.8899999999999999, 'thres_mean_mean': 0.8500000000000001}. Best is trial 263 with value: 12.637698874922481.\n",
      "1127\n",
      "[I 2024-02-23 23:40:16,131] Trial 270 finished with value: 8.595657976490072 and parameters: {'thres_for_max': 0.53, 'thres_for_mean': 0.8500000000000001, 'thres_mean_max': 0.51, 'thres_mean_mean': 0.8899999999999999}. Best is trial 263 with value: 12.637698874922481.\n",
      "1303\n",
      "[I 2024-02-23 23:40:41,389] Trial 271 finished with value: 12.323661905540352 and parameters: {'thres_for_max': 0.49, 'thres_for_mean': 0.8, 'thres_mean_max': 0.8600000000000001, 'thres_mean_mean': 0.8999999999999999}. Best is trial 263 with value: 12.637698874922481.\n",
      "1255\n",
      "[I 2024-02-23 23:41:06,307] Trial 272 finished with value: 11.048643327525895 and parameters: {'thres_for_max': 0.5, 'thres_for_mean': 0.77, 'thres_mean_max': 0.8799999999999999, 'thres_mean_mean': 0.8799999999999999}. Best is trial 263 with value: 12.637698874922481.\n",
      "243\n",
      "[I 2024-02-23 23:41:31,121] Trial 273 finished with value: 2.8780077237856827 and parameters: {'thres_for_max': 0.79, 'thres_for_mean': 0.78, 'thres_mean_max': 0.8999999999999999, 'thres_mean_mean': 0.8600000000000001}. Best is trial 263 with value: 12.637698874922481.\n",
      "1397\n",
      "[I 2024-02-23 23:41:58,628] Trial 274 finished with value: 7.508761395211566 and parameters: {'thres_for_max': 0.52, 'thres_for_mean': 0.77, 'thres_mean_max': 0.39, 'thres_mean_mean': 0.8700000000000001}. Best is trial 263 with value: 12.637698874922481.\n",
      "1626\n",
      "[I 2024-02-23 23:42:25,088] Trial 275 finished with value: 3.216524904074204 and parameters: {'thres_for_max': 0.48, 'thres_for_mean': 0.5700000000000001, 'thres_mean_max': 0.32999999999999996, 'thres_mean_mean': 0.8300000000000001}. Best is trial 263 with value: 12.637698874922481.\n",
      "1255\n",
      "[I 2024-02-23 23:42:50,174] Trial 276 finished with value: 10.792759176478631 and parameters: {'thres_for_max': 0.5, 'thres_for_mean': 0.79, 'thres_mean_max': 0.8700000000000001, 'thres_mean_mean': 0.8899999999999999}. Best is trial 263 with value: 12.637698874922481.\n",
      "1340\n",
      "[I 2024-02-23 23:43:15,583] Trial 277 finished with value: 10.802971814801754 and parameters: {'thres_for_max': 0.48, 'thres_for_mean': 0.78, 'thres_mean_max': 0.8899999999999999, 'thres_mean_mean': 0.8500000000000001}. Best is trial 263 with value: 12.637698874922481.\n",
      "1210\n",
      "[I 2024-02-23 23:43:41,483] Trial 278 finished with value: 9.101725210282554 and parameters: {'thres_for_max': 0.51, 'thres_for_mean': 0.8300000000000001, 'thres_mean_max': 0.8600000000000001, 'thres_mean_mean': 0.8799999999999999}. Best is trial 263 with value: 12.637698874922481.\n",
      "1303\n",
      "[I 2024-02-23 23:44:07,900] Trial 279 finished with value: 12.35284639051843 and parameters: {'thres_for_max': 0.49, 'thres_for_mean': 0.8, 'thres_mean_max': 0.8799999999999999, 'thres_mean_mean': 0.8999999999999999}. Best is trial 263 with value: 12.637698874922481.\n",
      "1340\n",
      "[I 2024-02-23 23:44:32,768] Trial 280 finished with value: 10.989214975318028 and parameters: {'thres_for_max': 0.48, 'thres_for_mean': 0.77, 'thres_mean_max': 0.8899999999999999, 'thres_mean_mean': 0.8700000000000001}. Best is trial 263 with value: 12.637698874922481.\n",
      "1171\n",
      "[I 2024-02-23 23:44:58,128] Trial 281 finished with value: 8.962962556373476 and parameters: {'thres_for_max': 0.52, 'thres_for_mean': 0.79, 'thres_mean_max': 0.8700000000000001, 'thres_mean_mean': 0.8899999999999999}. Best is trial 263 with value: 12.637698874922481.\n",
      "1255\n",
      "[I 2024-02-23 23:45:23,422] Trial 282 finished with value: 10.605322207449154 and parameters: {'thres_for_max': 0.5, 'thres_for_mean': 0.81, 'thres_mean_max': 0.8999999999999999, 'thres_mean_mean': 0.8799999999999999}. Best is trial 263 with value: 12.637698874922481.\n",
      "1303\n",
      "[I 2024-02-23 23:45:49,144] Trial 283 finished with value: 12.637698874922481 and parameters: {'thres_for_max': 0.49, 'thres_for_mean': 0.77, 'thres_mean_max': 0.8799999999999999, 'thres_mean_mean': 0.8600000000000001}. Best is trial 263 with value: 12.637698874922481.\n",
      "1303\n",
      "[I 2024-02-23 23:46:14,283] Trial 284 finished with value: 11.904104667594652 and parameters: {'thres_for_max': 0.49, 'thres_for_mean': 0.62, 'thres_mean_max': 0.8600000000000001, 'thres_mean_mean': 0.8500000000000001}. Best is trial 263 with value: 12.637698874922481.\n",
      "1082\n",
      "[I 2024-02-23 23:46:39,403] Trial 285 finished with value: 5.738753015338631 and parameters: {'thres_for_max': 0.54, 'thres_for_mean': 0.55, 'thres_mean_max': 0.8799999999999999, 'thres_mean_mean': 0.8600000000000001}. Best is trial 263 with value: 12.637698874922481.\n",
      "1303\n",
      "[I 2024-02-23 23:47:05,262] Trial 286 finished with value: 12.631158337311907 and parameters: {'thres_for_max': 0.49, 'thres_for_mean': 0.77, 'thres_mean_max': 0.8899999999999999, 'thres_mean_mean': 0.8300000000000001}. Best is trial 263 with value: 12.637698874922481.\n",
      "1210\n",
      "[I 2024-02-23 23:47:30,523] Trial 287 finished with value: 9.622012892830508 and parameters: {'thres_for_max': 0.51, 'thres_for_mean': 0.77, 'thres_mean_max': 0.8999999999999999, 'thres_mean_mean': 0.8300000000000001}. Best is trial 263 with value: 12.637698874922481.\n",
      "1723\n",
      "[I 2024-02-23 23:47:55,938] Trial 288 finished with value: 4.09430517194205 and parameters: {'thres_for_max': 0.38, 'thres_for_mean': 0.78, 'thres_mean_max': 0.8899999999999999, 'thres_mean_mean': 0.8400000000000001}. Best is trial 263 with value: 12.637698874922481.\n",
      "1255\n",
      "[I 2024-02-23 23:48:21,289] Trial 289 finished with value: 10.792759176478631 and parameters: {'thres_for_max': 0.5, 'thres_for_mean': 0.79, 'thres_mean_max': 0.8700000000000001, 'thres_mean_mean': 0.8500000000000001}. Best is trial 263 with value: 12.637698874922481.\n",
      "1340\n",
      "[I 2024-02-23 23:48:46,826] Trial 290 finished with value: 10.860972348792565 and parameters: {'thres_for_max': 0.48, 'thres_for_mean': 0.76, 'thres_mean_max': 0.8899999999999999, 'thres_mean_mean': 0.8600000000000001}. Best is trial 263 with value: 12.637698874922481.\n",
      "1303\n",
      "[I 2024-02-23 23:49:12,302] Trial 291 finished with value: 12.636378170500176 and parameters: {'thres_for_max': 0.49, 'thres_for_mean': 0.77, 'thres_mean_max': 0.8500000000000001, 'thres_mean_mean': 0.8300000000000001}. Best is trial 263 with value: 12.637698874922481.\n",
      "1210\n",
      "[I 2024-02-23 23:49:37,279] Trial 292 finished with value: 9.655941188631145 and parameters: {'thres_for_max': 0.51, 'thres_for_mean': 0.77, 'thres_mean_max': 0.8500000000000001, 'thres_mean_mean': 0.8300000000000001}. Best is trial 263 with value: 12.637698874922481.\n",
      "1171\n",
      "[I 2024-02-23 23:50:02,542] Trial 293 finished with value: 9.067030252528983 and parameters: {'thres_for_max': 0.52, 'thres_for_mean': 0.76, 'thres_mean_max': 0.8500000000000001, 'thres_mean_mean': 0.8200000000000001}. Best is trial 263 with value: 12.637698874922481.\n",
      "1255\n",
      "[I 2024-02-23 23:50:28,171] Trial 294 finished with value: 10.798658263244372 and parameters: {'thres_for_max': 0.5, 'thres_for_mean': 0.8, 'thres_mean_max': 0.8799999999999999, 'thres_mean_mean': 0.8400000000000001}. Best is trial 263 with value: 12.637698874922481.\n",
      "1340\n",
      "[I 2024-02-23 23:50:53,866] Trial 295 finished with value: 10.71764524699149 and parameters: {'thres_for_max': 0.48, 'thres_for_mean': 0.79, 'thres_mean_max': 0.8999999999999999, 'thres_mean_mean': 0.8300000000000001}. Best is trial 263 with value: 12.637698874922481.\n",
      "1428\n",
      "[I 2024-02-23 23:51:19,122] Trial 296 finished with value: 10.400097148581958 and parameters: {'thres_for_max': 0.45999999999999996, 'thres_for_mean': 0.77, 'thres_mean_max': 0.8600000000000001, 'thres_mean_mean': 0.81}. Best is trial 263 with value: 12.637698874922481.\n",
      "1347\n",
      "[I 2024-02-23 23:51:44,271] Trial 297 finished with value: 9.213784800942896 and parameters: {'thres_for_max': 0.49, 'thres_for_mean': 0.75, 'thres_mean_max': 0.59, 'thres_mean_mean': 0.43}. Best is trial 263 with value: 12.637698874922481.\n",
      "1340\n",
      "[I 2024-02-23 23:52:09,663] Trial 298 finished with value: 10.80860556714719 and parameters: {'thres_for_max': 0.48, 'thres_for_mean': 0.78, 'thres_mean_max': 0.8799999999999999, 'thres_mean_mean': 0.8500000000000001}. Best is trial 263 with value: 12.637698874922481.\n",
      "1255\n",
      "[I 2024-02-23 23:52:35,049] Trial 299 finished with value: 10.912398011859942 and parameters: {'thres_for_max': 0.5, 'thres_for_mean': 0.76, 'thres_mean_max': 0.8899999999999999, 'thres_mean_mean': 0.8200000000000001}. Best is trial 263 with value: 12.637698874922481.\n"
     ]
    }
   ],
   "source": [
    "for rtn_n in ['rtn_5'] : #, 'rtn_4', 'rtn_5']:\n",
    "    for tf in [True]: #, False\n",
    "\n",
    "        type_str = 'fixed' if tf else 'float'\n",
    "\n",
    "        df_with_proba = (\n",
    "            pd.read_pickle(f\"df_oos_with_proba_{type_str}_{rtn_n}.pkl\")\n",
    "            .merge(\n",
    "                df_with_feats_ml[['code','date','weighted_price_change_p_short', 'weighted_price_change_p_mid']]\n",
    "            )\n",
    "            .dropna(subset=['weighted_price_change_p_short', 'weighted_price_change_p_mid'])\n",
    "        )\n",
    "        \n",
    "        run_optuna(f\"best_combi_of_thres_{type_str}_{rtn_n}\", df_with_proba, rtn_n)"
   ]
  },
  {
   "cell_type": "code",
   "execution_count": 126,
   "metadata": {},
   "outputs": [],
   "source": [
    "def get_df_rtn_result(df_with_proba, thres_01, thres_02, thres_03, thres_04, rtn):\n",
    "    l_rtn_p = []\n",
    "\n",
    "    n = int(rtn.split('_')[1])+1\n",
    "\n",
    "    for date in dates:\n",
    "\n",
    "        df_ = df_with_proba.loc[lambda df : df.date >= date[2]].loc[lambda df : df.date < date[3]]\n",
    "        df_ = df_.loc[lambda df : df['weighted_price_change_p_short'] >= df['weighted_price_change_p_mid']]\n",
    "\n",
    "        df1 = (\n",
    "            df_\n",
    "            .loc[lambda df : df['proba_max'] > thres_01]\n",
    "            .sort_values('proba_max', ascending=False)\n",
    "            .groupby('date')\n",
    "            .head(3)\n",
    "            .reset_index()\n",
    "        )\n",
    "\n",
    "        df2 = (\n",
    "            df_\n",
    "            .loc[lambda df : df['proba_max'] > thres_02]\n",
    "            .sort_values('proba_mean', ascending=False)\n",
    "            .groupby('date')\n",
    "            .head(3)\n",
    "            .reset_index()\n",
    "        )\n",
    "\n",
    "        df3 = (\n",
    "            df_\n",
    "            .loc[lambda df : df['proba_mean'] > thres_03]\n",
    "            .sort_values('proba_max', ascending=False)\n",
    "            .groupby('date')\n",
    "            .head(3)\n",
    "            .reset_index()\n",
    "        )\n",
    "\n",
    "        df4 = (\n",
    "            df_\n",
    "            .loc[lambda df : df['proba_mean'] > thres_04]\n",
    "            .sort_values('proba_mean', ascending=False)\n",
    "            .groupby('date')\n",
    "            .head(3)\n",
    "            .reset_index()\n",
    "        )\n",
    "\n",
    "        sr = (\n",
    "            pd.concat([df1, df2, df3, df4]).drop_duplicates(subset=['date','code']) #df1, df2, \n",
    "            .groupby('date')[rtn]\n",
    "            .mean()\n",
    "            -0.0023\n",
    "        )\n",
    "\n",
    "        l_rtn_p.append(\n",
    "            {\n",
    "                'date' : date[3],\n",
    "                'rtn_p' : (sr/n).sum(),\n",
    "                'days' : pd.concat([df1, df2, df3, df4]).drop_duplicates(subset=['date','code'])['date'].unique().__len__()\n",
    "            }        \n",
    "        )\n",
    "\n",
    "    return (\n",
    "        pd.DataFrame(l_rtn_p)\n",
    "        .set_index('date')\n",
    "        ['rtn_p']\n",
    "    )"
   ]
  },
  {
   "cell_type": "code",
   "execution_count": 127,
   "metadata": {},
   "outputs": [],
   "source": [
    "from scipy import stats"
   ]
  },
  {
   "cell_type": "code",
   "execution_count": 128,
   "metadata": {},
   "outputs": [],
   "source": [
    "def get_rsquare(df_with_proba, rtn, row):\n",
    "    \n",
    "    sr_final = get_df_rtn_result(df_with_proba, row.thres_for_max, row.thres_for_mean, row.thres_mean_max, row.thres_mean_mean, rtn)\n",
    "    #  'thres_for_max', 'thres_for_mean', 'thres_mean_max', 'thres_mean_mean',\n",
    "\n",
    "    x = sr_final.cumsum()\n",
    "    y = range(0, len(x))\n",
    "\n",
    "    slope, intercept, r_value, p_value, std_err = stats.linregress(x, y)\n",
    "\n",
    "    print(f\"R-squared: {r_value**2}\")\n",
    "    return r_value**2"
   ]
  },
  {
   "cell_type": "markdown",
   "metadata": {},
   "source": [
    "#### Add R-Squared of Cumsum Series"
   ]
  },
  {
   "cell_type": "code",
   "execution_count": 129,
   "metadata": {},
   "outputs": [
    {
     "name": "stdout",
     "output_type": "stream",
     "text": [
      "R-squared: 0.9701227102749147\n",
      "R-squared: 0.9701227102749147\n",
      "R-squared: 0.9699886460863099\n",
      "R-squared: 0.9701072377649453\n",
      "R-squared: 0.9701072377649453\n",
      "R-squared: 0.9698224456127418\n",
      "R-squared: 0.9699282980153323\n",
      "R-squared: 0.9697754989091534\n",
      "R-squared: 0.9696584054001465\n",
      "R-squared: 0.9694590143729169\n",
      "R-squared: 0.9704176044271147\n",
      "R-squared: 0.9704176044271147\n",
      "R-squared: 0.9704176044271147\n",
      "R-squared: 0.9704176044271147\n",
      "R-squared: 0.9704176044271147\n",
      "R-squared: 0.9704176044271147\n",
      "R-squared: 0.97040006385207\n",
      "R-squared: 0.9703595337133984\n",
      "R-squared: 0.9703595337133984\n",
      "R-squared: 0.9701408078122722\n",
      "R-squared: 0.9672278084772971\n",
      "R-squared: 0.96706607411497\n",
      "R-squared: 0.9702775030460515\n",
      "R-squared: 0.9672275213670353\n",
      "R-squared: 0.9702910578134742\n",
      "R-squared: 0.9669315235868567\n",
      "R-squared: 0.9669315235868567\n",
      "R-squared: 0.9667682364992696\n",
      "R-squared: 0.9670945906089853\n",
      "R-squared: 0.9671749364660004\n",
      "R-squared: 0.9667964305381672\n",
      "R-squared: 0.9694996234033465\n",
      "R-squared: 0.97008919192533\n",
      "R-squared: 0.9703622634623901\n",
      "R-squared: 0.9703622634623901\n",
      "R-squared: 0.9700469605256832\n",
      "R-squared: 0.9667452446198707\n",
      "R-squared: 0.9667452446198707\n",
      "R-squared: 0.966770817336166\n",
      "R-squared: 0.9669157562924686\n",
      "R-squared: 0.970304315971275\n",
      "R-squared: 0.970304315971275\n",
      "R-squared: 0.9666166981088345\n",
      "R-squared: 0.9702173182638959\n",
      "R-squared: 0.9666597491256105\n",
      "R-squared: 0.9699594088190628\n",
      "R-squared: 0.9702189008686188\n",
      "R-squared: 0.9675929669741705\n",
      "R-squared: 0.9675675183639787\n",
      "R-squared: 0.9697833505430131\n"
     ]
    }
   ],
   "source": [
    "typeStr = None\n",
    "\n",
    "for useFixed in [True,]: #, False\n",
    "    if useFixed:\n",
    "        typeStr = 'fixed'\n",
    "    else :\n",
    "        typeStr = 'float'\n",
    "\n",
    "    for rtn in ['rtn_5',]: # 'rtn_4','rtn_5'\n",
    "        df_with_proba = (\n",
    "            pd.read_pickle(f\"df_oos_with_proba_{typeStr}_{rtn}.pkl\")\n",
    "            .merge(\n",
    "                df_with_feats_ml[['code','date','weighted_price_change_p_short', 'weighted_price_change_p_mid']]\n",
    "            )\n",
    "            .dropna(subset=['weighted_price_change_p_short', 'weighted_price_change_p_mid'])\n",
    "        )\n",
    "        df_study_result = pd.read_pickle(f\"study_result_20240217_best_combi_of_thres_{typeStr}_{rtn}.pkl\")\n",
    "        # print(df_study_result.columns)\n",
    "\n",
    "        df_study_result = df_study_result.drop_duplicates(subset=['thres_for_max', 'thres_for_mean', 'thres_mean_max', 'thres_mean_mean']).sort_values(\"value\", ascending=False).head(50)\n",
    "\n",
    "        df_study_result['r_square'] = df_study_result.apply(lambda row : get_rsquare(df_with_proba, rtn, row), axis=1 )\n",
    "\n",
    "        \n",
    "        df_study_result.to_pickle(f\"study_result_add_r2_{typeStr}_{rtn}.pkl\")\n",
    "        "
   ]
  },
  {
   "cell_type": "markdown",
   "metadata": {},
   "source": [
    "#### Get Bset R2 Results"
   ]
  },
  {
   "cell_type": "code",
   "execution_count": 130,
   "metadata": {},
   "outputs": [
    {
     "name": "stdout",
     "output_type": "stream",
     "text": [
      "rtn_5_fixed\n",
      "     number      value             datetime_start          datetime_complete  \\\n",
      "241     241  12.424608 2024-02-23 23:27:37.474785 2024-02-23 23:28:02.537902   \n",
      "\n",
      "                  duration  thres_for_max  thres_for_mean  thres_mean_max  \\\n",
      "241 0 days 00:00:25.063117           0.49            0.78            0.88   \n",
      "\n",
      "     thres_mean_mean     state  r_square  \n",
      "241             0.86  COMPLETE  0.970418  \n",
      "\n",
      "\n"
     ]
    }
   ],
   "source": [
    "l_result = []\n",
    "l_best_combi = []\n",
    "\n",
    "for typeStr in ['fixed']: #, 'float']:\n",
    "\n",
    "    for rtn in ['rtn_5']:#, 'rtn_4', 'rtn_5']:\n",
    "\n",
    "        print(f\"{rtn}_{typeStr}\")\n",
    "        df_with_proba = (\n",
    "            pd.read_pickle(f\"df_oos_with_proba_{typeStr}_{rtn}.pkl\")\n",
    "            .merge(\n",
    "                df_with_feats_ml[['code','date','weighted_price_change_p_short', 'weighted_price_change_p_mid']]\n",
    "            )\n",
    "        )\n",
    "        df_study_result_with_rs = pd.read_pickle(f\"study_result_add_r2_{typeStr}_{rtn}.pkl\")\n",
    "\n",
    "        pecentile_09 = df_study_result_with_rs['r_square'].quantile(0.9)\n",
    "        \n",
    "        max_row = (\n",
    "            df_study_result_with_rs.loc[lambda df : df['r_square'] >= pecentile_09]\n",
    "            .sort_values('r_square', ascending=False).head(1)\n",
    "        )\n",
    "        max_row['case'] = f\"{rtn}_{typeStr}\"\n",
    "\n",
    "        l_best_combi.append(\n",
    "            max_row\n",
    "        )\n",
    "\n",
    "        max_row = df_study_result_with_rs.sort_values('r_square', ascending=False).head(1)\n",
    "        print(max_row)\n",
    "        thres_for_max = max_row['thres_for_max'].iloc[0]\n",
    "        thres_for_mean = max_row['thres_for_mean'].iloc[0]\n",
    "        thres_mean_max = max_row['thres_mean_max'].iloc[0]\n",
    "        thres_mean_mean = max_row['thres_mean_mean'].iloc[0]\n",
    "\n",
    "        # 'thres_for_max', 'thres_for_mean', 'thres_mean_max', 'thres_mean_mean',\n",
    "\n",
    "\n",
    "        sr_final = get_df_rtn_result(df_with_proba, thres_for_max, thres_for_mean, thres_mean_max, thres_mean_mean, rtn)\n",
    "        sr_final.name = f\"{rtn}_{typeStr}\"\n",
    "        \n",
    "        l_result.append(\n",
    "            sr_final.rename({'rtn_p': f\"{rtn}_{typeStr}\"})\n",
    "        )\n",
    "        print('\\n')"
   ]
  },
  {
   "cell_type": "code",
   "execution_count": 131,
   "metadata": {},
   "outputs": [],
   "source": [
    "(pd.concat(l_best_combi)).to_pickle(\"best_r2_result.pkl\")"
   ]
  },
  {
   "cell_type": "code",
   "execution_count": 132,
   "metadata": {},
   "outputs": [],
   "source": [
    "df_result_opt = pd.concat(l_result, axis=1)"
   ]
  },
  {
   "cell_type": "code",
   "execution_count": 133,
   "metadata": {},
   "outputs": [],
   "source": [
    "df_result_opt.to_pickle(\"df_oos_opt_result_applied.pkl\")"
   ]
  },
  {
   "cell_type": "code",
   "execution_count": 136,
   "metadata": {},
   "outputs": [
    {
     "data": {
      "application/vnd.plotly.v1+json": {
       "config": {
        "plotlyServerURL": "https://plot.ly"
       },
       "data": [
        {
         "hovertemplate": "variable=rtn_5_fixed<br>date=%{x}<br>value=%{y}<extra></extra>",
         "legendgroup": "rtn_5_fixed",
         "marker": {
          "color": "#636efa",
          "symbol": "circle"
         },
         "mode": "markers",
         "name": "rtn_5_fixed",
         "orientation": "v",
         "showlegend": true,
         "type": "scatter",
         "x": [
          "2015-06-19",
          "2015-07-02",
          "2015-07-15",
          "2015-07-28",
          "2015-08-10",
          "2015-08-24",
          "2015-09-04",
          "2015-09-17",
          "2015-10-02",
          "2015-10-16",
          "2015-10-29",
          "2015-11-11",
          "2015-11-24",
          "2015-12-07",
          "2015-12-18",
          "2016-01-05",
          "2016-01-18",
          "2016-01-29",
          "2016-02-16",
          "2016-02-29",
          "2016-03-14",
          "2016-03-25",
          "2016-04-07",
          "2016-04-21",
          "2016-05-04",
          "2016-05-19",
          "2016-06-01",
          "2016-06-15",
          "2016-06-28",
          "2016-07-11",
          "2016-07-22",
          "2016-08-04",
          "2016-08-18",
          "2016-08-31",
          "2016-09-13",
          "2016-09-29",
          "2016-10-13",
          "2016-10-26",
          "2016-11-08",
          "2016-11-21",
          "2016-12-02",
          "2016-12-15",
          "2016-12-28",
          "2017-01-11",
          "2017-01-24",
          "2017-02-08",
          "2017-02-21",
          "2017-03-07",
          "2017-03-20",
          "2017-03-31",
          "2017-04-13",
          "2017-04-26",
          "2017-05-15",
          "2017-05-26",
          "2017-06-09",
          "2017-06-22",
          "2017-07-05",
          "2017-07-18",
          "2017-07-31",
          "2017-08-11",
          "2017-08-25",
          "2017-09-07",
          "2017-09-20",
          "2017-10-11",
          "2017-10-24",
          "2017-11-06",
          "2017-11-17",
          "2017-11-30",
          "2017-12-13",
          "2017-12-27",
          "2018-01-11",
          "2018-01-24",
          "2018-02-06",
          "2018-02-21",
          "2018-03-07",
          "2018-03-20",
          "2018-04-02",
          "2018-04-13",
          "2018-04-26",
          "2018-05-11",
          "2018-05-25",
          "2018-06-08",
          "2018-06-22",
          "2018-07-05",
          "2018-07-18",
          "2018-07-31",
          "2018-08-13",
          "2018-08-27",
          "2018-09-07",
          "2018-09-20",
          "2018-10-10",
          "2018-10-23",
          "2018-11-05",
          "2018-11-16",
          "2018-11-29",
          "2018-12-12",
          "2018-12-26",
          "2019-01-10",
          "2019-01-23",
          "2019-02-08",
          "2019-02-21",
          "2019-03-07",
          "2019-03-20",
          "2019-04-02",
          "2019-04-15",
          "2019-04-26",
          "2019-05-13",
          "2019-05-24",
          "2019-06-07",
          "2019-06-20",
          "2019-07-03",
          "2019-07-16",
          "2019-07-29",
          "2019-08-09",
          "2019-08-23",
          "2019-09-05",
          "2019-09-20",
          "2019-10-04",
          "2019-10-18",
          "2019-10-31",
          "2019-11-13",
          "2019-11-26",
          "2019-12-09",
          "2019-12-20",
          "2020-01-07",
          "2020-01-20",
          "2020-02-04",
          "2020-02-17",
          "2020-02-28",
          "2020-03-12",
          "2020-03-25",
          "2020-04-07",
          "2020-04-21",
          "2020-05-07",
          "2020-05-20",
          "2020-06-02",
          "2020-06-15",
          "2020-06-26",
          "2020-07-09",
          "2020-07-22",
          "2020-08-04",
          "2020-08-18",
          "2020-08-31",
          "2020-09-11",
          "2020-09-24",
          "2020-10-13",
          "2020-10-26",
          "2020-11-06",
          "2020-11-19",
          "2020-12-02",
          "2020-12-15",
          "2020-12-29",
          "2021-01-13",
          "2021-01-26",
          "2021-02-08",
          "2021-02-23",
          "2021-03-09",
          "2021-03-22",
          "2021-04-02",
          "2021-04-15",
          "2021-04-28",
          "2021-05-12",
          "2021-05-26",
          "2021-06-08",
          "2021-06-21",
          "2021-07-02",
          "2021-07-15",
          "2021-07-28",
          "2021-08-10",
          "2021-08-24",
          "2021-09-06",
          "2021-09-17",
          "2021-10-06",
          "2021-10-20",
          "2021-11-02",
          "2021-11-15",
          "2021-11-26",
          "2021-12-09",
          "2021-12-22",
          "2022-01-05",
          "2022-01-18",
          "2022-02-03",
          "2022-02-16",
          "2022-03-02",
          "2022-03-16",
          "2022-03-29",
          "2022-04-11",
          "2022-04-22",
          "2022-05-06",
          "2022-05-19",
          "2022-06-02",
          "2022-06-16",
          "2022-06-29",
          "2022-07-12",
          "2022-07-25",
          "2022-08-05",
          "2022-08-19",
          "2022-09-01",
          "2022-09-16",
          "2022-09-29",
          "2022-10-14",
          "2022-10-27",
          "2022-11-09",
          "2022-11-22",
          "2022-12-05",
          "2022-12-16",
          "2022-12-29",
          "2023-01-12",
          "2023-01-27",
          "2023-02-09",
          "2023-02-22",
          "2023-03-08",
          "2023-03-21",
          "2023-04-03",
          "2023-04-14",
          "2023-04-27",
          "2023-05-12",
          "2023-05-25",
          "2023-06-09",
          "2023-06-22",
          "2023-07-05",
          "2023-07-18",
          "2023-07-31",
          "2023-08-11",
          "2023-08-25",
          "2023-09-07",
          "2023-09-19"
         ],
         "xaxis": "x",
         "y": [
          -0.017017568490821946,
          -0.07848782393049406,
          -0.021025703386746364,
          -0.013413838051726216,
          0.0003217218412838955,
          -0.009831416793676334,
          0.10061067583715477,
          0.14312287246730016,
          0.14492246053109392,
          0.2334284690455296,
          0.22545334135016815,
          0.20405440706562789,
          0.20538504998486662,
          0.18091463379026945,
          0.2430854347969232,
          0.28018681640919474,
          0.2715208149993789,
          0.3237945285653372,
          0.32316546499277843,
          0.4835548420306264,
          0.4733500801258645,
          0.4780219800690236,
          0.4916810968375333,
          0.4717933206255312,
          0.47363896660050353,
          0.477025263316877,
          0.520060878960471,
          0.5271389106887273,
          0.5255961356125655,
          0.5651738562094741,
          0.5651738562094741,
          0.5487141041522418,
          0.5273021840299461,
          0.5228967348517937,
          0.5344065000937527,
          0.5918778624554689,
          0.5785939392314159,
          0.5493722899110361,
          0.502217095066013,
          0.5040290614294959,
          0.5152758136273499,
          0.5672794137141933,
          0.5687028705633359,
          0.5510056925400477,
          0.5418886805823021,
          0.5857434702506951,
          0.5883239493809459,
          0.5615284341898173,
          0.5590157938491283,
          0.565462892907841,
          0.5751215346984588,
          0.6001340537237501,
          0.5817914325263952,
          0.5931214661666666,
          0.5887569241383734,
          0.5887569241383734,
          0.5701123746112455,
          0.5717236408571528,
          0.5658581770280128,
          0.5603135987812742,
          0.566856835438337,
          0.6676279286501845,
          0.6153511104827614,
          0.6523598295900308,
          0.6386030164093839,
          0.6193757399211771,
          0.6133878988624394,
          0.6384323524729547,
          0.6205681738264575,
          0.6337021719957924,
          0.6542195597199004,
          0.800349889589127,
          0.8768144075339508,
          0.8932614369014943,
          1.0043437802887774,
          1.0011996011280657,
          1.019748092816224,
          1.000760425673564,
          1.0633102460197745,
          1.072620229035224,
          1.0633587745234931,
          1.0849149637242075,
          1.1027904766966683,
          1.0777236536413835,
          1.0488232109510032,
          1.0419110158666423,
          1.0268442700933642,
          1.079191089280527,
          1.1481276250668395,
          1.1339983855524807,
          1.0516317705996006,
          1.06609557331523,
          1.1617330532650012,
          1.150657904515272,
          1.1404385918541335,
          1.1420447005312995,
          1.1631840371802127,
          1.182042489565589,
          1.1828944997805768,
          1.224394913453969,
          1.2704575180400273,
          1.2269622502312785,
          1.218433512970796,
          1.21463902039285,
          1.2232749382892143,
          1.2095942836778182,
          1.2189892239606424,
          1.202884694696584,
          1.324427271037277,
          1.34767557184432,
          1.393996065134079,
          1.3744658522234194,
          1.2799391746834292,
          1.2400559507873168,
          1.2494601482524663,
          1.246896565664753,
          1.2669551028659898,
          1.243069460764617,
          1.243069460764617,
          1.243069460764617,
          1.2890837431303879,
          1.2763927989206751,
          1.3297336233935912,
          1.3293502900602578,
          1.3367164967901757,
          1.3401661948899455,
          1.34674280538053,
          1.3465174144582803,
          1.2955238262141036,
          1.0924357521994206,
          1.1652106428067182,
          1.186748650543662,
          1.223357183304907,
          1.2795293824930587,
          1.2878680756690588,
          1.278096663800751,
          1.238726789257348,
          1.3373211112537144,
          1.369030165249537,
          1.3698026934070016,
          1.3683652236024337,
          1.3037948448213503,
          1.3926698634156458,
          1.4884316108781526,
          1.511368340061526,
          1.6181910634836494,
          1.5951415384221679,
          1.6442519721570894,
          1.704970863973338,
          1.708188682964863,
          1.7401865384444641,
          1.7455597844636508,
          1.777505454655902,
          1.769138853305406,
          1.8020764091449464,
          1.8169425931981718,
          1.853560203892152,
          1.9374953005241298,
          1.9391471796423372,
          1.9679274246634304,
          1.994758920393263,
          1.998240663219733,
          2.042503841197365,
          2.0419809053201146,
          2.063846374668847,
          2.0484896189766606,
          2.0653347660642623,
          2.067976904629145,
          2.045726584672176,
          2.0324602408244745,
          2.049930259896308,
          2.049930259896308,
          2.014512298818418,
          2.0558316567779618,
          2.0862552524499756,
          2.0795625426165065,
          2.0499539756861958,
          2.120248373456416,
          2.086281754629279,
          2.182516953011652,
          2.155209736455914,
          2.1847518992172197,
          2.1626234220445193,
          2.1111508066493014,
          2.162912954309406,
          2.2990729718495144,
          2.2867223539118795,
          2.289915026131447,
          2.29401783578423,
          2.2635995435849954,
          2.316071232392945,
          2.2900598609845013,
          2.2670941576350883,
          2.3028442414342845,
          2.372605352713251,
          2.370221976311898,
          2.376622897975596,
          2.3443194441411843,
          2.2806612850229504,
          2.26332978859825,
          2.403493521326686,
          2.4047840876781916,
          2.4061304936246217,
          2.3982986383084763,
          2.37048467762447,
          2.3487484534947605,
          2.3097958530541347,
          2.3174446482348574,
          2.349305034579085,
          2.386355441693556,
          2.385762836161964,
          2.368269236668935,
          2.4414011516953114,
          2.584794135233284,
          2.819086080620768,
          2.788680352781514,
          2.774999811085795,
          2.7797448166358856,
          2.789723856255693,
          2.8239072079231655,
          2.7743870647229496,
          2.7172211478835684,
          2.68742416625792,
          2.750525291832607,
          2.7962426393938173,
          2.7708600657692792,
          2.7708600657692792
         ],
         "yaxis": "y"
        }
       ],
       "layout": {
        "legend": {
         "title": {
          "text": "variable"
         },
         "tracegroupgap": 0
        },
        "margin": {
         "t": 60
        },
        "template": {
         "data": {
          "bar": [
           {
            "error_x": {
             "color": "#2a3f5f"
            },
            "error_y": {
             "color": "#2a3f5f"
            },
            "marker": {
             "line": {
              "color": "#E5ECF6",
              "width": 0.5
             },
             "pattern": {
              "fillmode": "overlay",
              "size": 10,
              "solidity": 0.2
             }
            },
            "type": "bar"
           }
          ],
          "barpolar": [
           {
            "marker": {
             "line": {
              "color": "#E5ECF6",
              "width": 0.5
             },
             "pattern": {
              "fillmode": "overlay",
              "size": 10,
              "solidity": 0.2
             }
            },
            "type": "barpolar"
           }
          ],
          "carpet": [
           {
            "aaxis": {
             "endlinecolor": "#2a3f5f",
             "gridcolor": "white",
             "linecolor": "white",
             "minorgridcolor": "white",
             "startlinecolor": "#2a3f5f"
            },
            "baxis": {
             "endlinecolor": "#2a3f5f",
             "gridcolor": "white",
             "linecolor": "white",
             "minorgridcolor": "white",
             "startlinecolor": "#2a3f5f"
            },
            "type": "carpet"
           }
          ],
          "choropleth": [
           {
            "colorbar": {
             "outlinewidth": 0,
             "ticks": ""
            },
            "type": "choropleth"
           }
          ],
          "contour": [
           {
            "colorbar": {
             "outlinewidth": 0,
             "ticks": ""
            },
            "colorscale": [
             [
              0,
              "#0d0887"
             ],
             [
              0.1111111111111111,
              "#46039f"
             ],
             [
              0.2222222222222222,
              "#7201a8"
             ],
             [
              0.3333333333333333,
              "#9c179e"
             ],
             [
              0.4444444444444444,
              "#bd3786"
             ],
             [
              0.5555555555555556,
              "#d8576b"
             ],
             [
              0.6666666666666666,
              "#ed7953"
             ],
             [
              0.7777777777777778,
              "#fb9f3a"
             ],
             [
              0.8888888888888888,
              "#fdca26"
             ],
             [
              1,
              "#f0f921"
             ]
            ],
            "type": "contour"
           }
          ],
          "contourcarpet": [
           {
            "colorbar": {
             "outlinewidth": 0,
             "ticks": ""
            },
            "type": "contourcarpet"
           }
          ],
          "heatmap": [
           {
            "colorbar": {
             "outlinewidth": 0,
             "ticks": ""
            },
            "colorscale": [
             [
              0,
              "#0d0887"
             ],
             [
              0.1111111111111111,
              "#46039f"
             ],
             [
              0.2222222222222222,
              "#7201a8"
             ],
             [
              0.3333333333333333,
              "#9c179e"
             ],
             [
              0.4444444444444444,
              "#bd3786"
             ],
             [
              0.5555555555555556,
              "#d8576b"
             ],
             [
              0.6666666666666666,
              "#ed7953"
             ],
             [
              0.7777777777777778,
              "#fb9f3a"
             ],
             [
              0.8888888888888888,
              "#fdca26"
             ],
             [
              1,
              "#f0f921"
             ]
            ],
            "type": "heatmap"
           }
          ],
          "heatmapgl": [
           {
            "colorbar": {
             "outlinewidth": 0,
             "ticks": ""
            },
            "colorscale": [
             [
              0,
              "#0d0887"
             ],
             [
              0.1111111111111111,
              "#46039f"
             ],
             [
              0.2222222222222222,
              "#7201a8"
             ],
             [
              0.3333333333333333,
              "#9c179e"
             ],
             [
              0.4444444444444444,
              "#bd3786"
             ],
             [
              0.5555555555555556,
              "#d8576b"
             ],
             [
              0.6666666666666666,
              "#ed7953"
             ],
             [
              0.7777777777777778,
              "#fb9f3a"
             ],
             [
              0.8888888888888888,
              "#fdca26"
             ],
             [
              1,
              "#f0f921"
             ]
            ],
            "type": "heatmapgl"
           }
          ],
          "histogram": [
           {
            "marker": {
             "pattern": {
              "fillmode": "overlay",
              "size": 10,
              "solidity": 0.2
             }
            },
            "type": "histogram"
           }
          ],
          "histogram2d": [
           {
            "colorbar": {
             "outlinewidth": 0,
             "ticks": ""
            },
            "colorscale": [
             [
              0,
              "#0d0887"
             ],
             [
              0.1111111111111111,
              "#46039f"
             ],
             [
              0.2222222222222222,
              "#7201a8"
             ],
             [
              0.3333333333333333,
              "#9c179e"
             ],
             [
              0.4444444444444444,
              "#bd3786"
             ],
             [
              0.5555555555555556,
              "#d8576b"
             ],
             [
              0.6666666666666666,
              "#ed7953"
             ],
             [
              0.7777777777777778,
              "#fb9f3a"
             ],
             [
              0.8888888888888888,
              "#fdca26"
             ],
             [
              1,
              "#f0f921"
             ]
            ],
            "type": "histogram2d"
           }
          ],
          "histogram2dcontour": [
           {
            "colorbar": {
             "outlinewidth": 0,
             "ticks": ""
            },
            "colorscale": [
             [
              0,
              "#0d0887"
             ],
             [
              0.1111111111111111,
              "#46039f"
             ],
             [
              0.2222222222222222,
              "#7201a8"
             ],
             [
              0.3333333333333333,
              "#9c179e"
             ],
             [
              0.4444444444444444,
              "#bd3786"
             ],
             [
              0.5555555555555556,
              "#d8576b"
             ],
             [
              0.6666666666666666,
              "#ed7953"
             ],
             [
              0.7777777777777778,
              "#fb9f3a"
             ],
             [
              0.8888888888888888,
              "#fdca26"
             ],
             [
              1,
              "#f0f921"
             ]
            ],
            "type": "histogram2dcontour"
           }
          ],
          "mesh3d": [
           {
            "colorbar": {
             "outlinewidth": 0,
             "ticks": ""
            },
            "type": "mesh3d"
           }
          ],
          "parcoords": [
           {
            "line": {
             "colorbar": {
              "outlinewidth": 0,
              "ticks": ""
             }
            },
            "type": "parcoords"
           }
          ],
          "pie": [
           {
            "automargin": true,
            "type": "pie"
           }
          ],
          "scatter": [
           {
            "fillpattern": {
             "fillmode": "overlay",
             "size": 10,
             "solidity": 0.2
            },
            "type": "scatter"
           }
          ],
          "scatter3d": [
           {
            "line": {
             "colorbar": {
              "outlinewidth": 0,
              "ticks": ""
             }
            },
            "marker": {
             "colorbar": {
              "outlinewidth": 0,
              "ticks": ""
             }
            },
            "type": "scatter3d"
           }
          ],
          "scattercarpet": [
           {
            "marker": {
             "colorbar": {
              "outlinewidth": 0,
              "ticks": ""
             }
            },
            "type": "scattercarpet"
           }
          ],
          "scattergeo": [
           {
            "marker": {
             "colorbar": {
              "outlinewidth": 0,
              "ticks": ""
             }
            },
            "type": "scattergeo"
           }
          ],
          "scattergl": [
           {
            "marker": {
             "colorbar": {
              "outlinewidth": 0,
              "ticks": ""
             }
            },
            "type": "scattergl"
           }
          ],
          "scattermapbox": [
           {
            "marker": {
             "colorbar": {
              "outlinewidth": 0,
              "ticks": ""
             }
            },
            "type": "scattermapbox"
           }
          ],
          "scatterpolar": [
           {
            "marker": {
             "colorbar": {
              "outlinewidth": 0,
              "ticks": ""
             }
            },
            "type": "scatterpolar"
           }
          ],
          "scatterpolargl": [
           {
            "marker": {
             "colorbar": {
              "outlinewidth": 0,
              "ticks": ""
             }
            },
            "type": "scatterpolargl"
           }
          ],
          "scatterternary": [
           {
            "marker": {
             "colorbar": {
              "outlinewidth": 0,
              "ticks": ""
             }
            },
            "type": "scatterternary"
           }
          ],
          "surface": [
           {
            "colorbar": {
             "outlinewidth": 0,
             "ticks": ""
            },
            "colorscale": [
             [
              0,
              "#0d0887"
             ],
             [
              0.1111111111111111,
              "#46039f"
             ],
             [
              0.2222222222222222,
              "#7201a8"
             ],
             [
              0.3333333333333333,
              "#9c179e"
             ],
             [
              0.4444444444444444,
              "#bd3786"
             ],
             [
              0.5555555555555556,
              "#d8576b"
             ],
             [
              0.6666666666666666,
              "#ed7953"
             ],
             [
              0.7777777777777778,
              "#fb9f3a"
             ],
             [
              0.8888888888888888,
              "#fdca26"
             ],
             [
              1,
              "#f0f921"
             ]
            ],
            "type": "surface"
           }
          ],
          "table": [
           {
            "cells": {
             "fill": {
              "color": "#EBF0F8"
             },
             "line": {
              "color": "white"
             }
            },
            "header": {
             "fill": {
              "color": "#C8D4E3"
             },
             "line": {
              "color": "white"
             }
            },
            "type": "table"
           }
          ]
         },
         "layout": {
          "annotationdefaults": {
           "arrowcolor": "#2a3f5f",
           "arrowhead": 0,
           "arrowwidth": 1
          },
          "autotypenumbers": "strict",
          "coloraxis": {
           "colorbar": {
            "outlinewidth": 0,
            "ticks": ""
           }
          },
          "colorscale": {
           "diverging": [
            [
             0,
             "#8e0152"
            ],
            [
             0.1,
             "#c51b7d"
            ],
            [
             0.2,
             "#de77ae"
            ],
            [
             0.3,
             "#f1b6da"
            ],
            [
             0.4,
             "#fde0ef"
            ],
            [
             0.5,
             "#f7f7f7"
            ],
            [
             0.6,
             "#e6f5d0"
            ],
            [
             0.7,
             "#b8e186"
            ],
            [
             0.8,
             "#7fbc41"
            ],
            [
             0.9,
             "#4d9221"
            ],
            [
             1,
             "#276419"
            ]
           ],
           "sequential": [
            [
             0,
             "#0d0887"
            ],
            [
             0.1111111111111111,
             "#46039f"
            ],
            [
             0.2222222222222222,
             "#7201a8"
            ],
            [
             0.3333333333333333,
             "#9c179e"
            ],
            [
             0.4444444444444444,
             "#bd3786"
            ],
            [
             0.5555555555555556,
             "#d8576b"
            ],
            [
             0.6666666666666666,
             "#ed7953"
            ],
            [
             0.7777777777777778,
             "#fb9f3a"
            ],
            [
             0.8888888888888888,
             "#fdca26"
            ],
            [
             1,
             "#f0f921"
            ]
           ],
           "sequentialminus": [
            [
             0,
             "#0d0887"
            ],
            [
             0.1111111111111111,
             "#46039f"
            ],
            [
             0.2222222222222222,
             "#7201a8"
            ],
            [
             0.3333333333333333,
             "#9c179e"
            ],
            [
             0.4444444444444444,
             "#bd3786"
            ],
            [
             0.5555555555555556,
             "#d8576b"
            ],
            [
             0.6666666666666666,
             "#ed7953"
            ],
            [
             0.7777777777777778,
             "#fb9f3a"
            ],
            [
             0.8888888888888888,
             "#fdca26"
            ],
            [
             1,
             "#f0f921"
            ]
           ]
          },
          "colorway": [
           "#636efa",
           "#EF553B",
           "#00cc96",
           "#ab63fa",
           "#FFA15A",
           "#19d3f3",
           "#FF6692",
           "#B6E880",
           "#FF97FF",
           "#FECB52"
          ],
          "font": {
           "color": "#2a3f5f"
          },
          "geo": {
           "bgcolor": "white",
           "lakecolor": "white",
           "landcolor": "#E5ECF6",
           "showlakes": true,
           "showland": true,
           "subunitcolor": "white"
          },
          "hoverlabel": {
           "align": "left"
          },
          "hovermode": "closest",
          "mapbox": {
           "style": "light"
          },
          "paper_bgcolor": "white",
          "plot_bgcolor": "#E5ECF6",
          "polar": {
           "angularaxis": {
            "gridcolor": "white",
            "linecolor": "white",
            "ticks": ""
           },
           "bgcolor": "#E5ECF6",
           "radialaxis": {
            "gridcolor": "white",
            "linecolor": "white",
            "ticks": ""
           }
          },
          "scene": {
           "xaxis": {
            "backgroundcolor": "#E5ECF6",
            "gridcolor": "white",
            "gridwidth": 2,
            "linecolor": "white",
            "showbackground": true,
            "ticks": "",
            "zerolinecolor": "white"
           },
           "yaxis": {
            "backgroundcolor": "#E5ECF6",
            "gridcolor": "white",
            "gridwidth": 2,
            "linecolor": "white",
            "showbackground": true,
            "ticks": "",
            "zerolinecolor": "white"
           },
           "zaxis": {
            "backgroundcolor": "#E5ECF6",
            "gridcolor": "white",
            "gridwidth": 2,
            "linecolor": "white",
            "showbackground": true,
            "ticks": "",
            "zerolinecolor": "white"
           }
          },
          "shapedefaults": {
           "line": {
            "color": "#2a3f5f"
           }
          },
          "ternary": {
           "aaxis": {
            "gridcolor": "white",
            "linecolor": "white",
            "ticks": ""
           },
           "baxis": {
            "gridcolor": "white",
            "linecolor": "white",
            "ticks": ""
           },
           "bgcolor": "#E5ECF6",
           "caxis": {
            "gridcolor": "white",
            "linecolor": "white",
            "ticks": ""
           }
          },
          "title": {
           "x": 0.05
          },
          "xaxis": {
           "automargin": true,
           "gridcolor": "white",
           "linecolor": "white",
           "ticks": "",
           "title": {
            "standoff": 15
           },
           "zerolinecolor": "white",
           "zerolinewidth": 2
          },
          "yaxis": {
           "automargin": true,
           "gridcolor": "white",
           "linecolor": "white",
           "ticks": "",
           "title": {
            "standoff": 15
           },
           "zerolinecolor": "white",
           "zerolinewidth": 2
          }
         }
        },
        "xaxis": {
         "anchor": "y",
         "domain": [
          0,
          1
         ],
         "title": {
          "text": "date"
         }
        },
        "yaxis": {
         "anchor": "x",
         "domain": [
          0,
          1
         ],
         "title": {
          "text": "value"
         }
        }
       }
      }
     },
     "metadata": {},
     "output_type": "display_data"
    }
   ],
   "source": [
    "(\n",
    "    df_result_opt['rtn_5_fixed']\n",
    "    # + 1\n",
    ").cumsum().plot(kind='scatter')"
   ]
  },
  {
   "cell_type": "code",
   "execution_count": 137,
   "metadata": {},
   "outputs": [
    {
     "data": {
      "text/plain": [
       "0.26279359291637594"
      ]
     },
     "execution_count": 137,
     "metadata": {},
     "output_type": "execute_result"
    }
   ],
   "source": [
    "(df_result_opt['rtn_5_fixed'].mean()) / (df_result_opt['rtn_5_fixed'].std())"
   ]
  },
  {
   "cell_type": "code",
   "execution_count": null,
   "metadata": {},
   "outputs": [
    {
     "data": {
      "application/vnd.plotly.v1+json": {
       "config": {
        "plotlyServerURL": "https://plot.ly"
       },
       "data": [
        {
         "hovertemplate": "variable=rtn_3_float<br>date=%{x}<br>value=%{y}<extra></extra>",
         "legendgroup": "rtn_3_float",
         "marker": {
          "color": "#636efa",
          "symbol": "circle"
         },
         "mode": "markers",
         "name": "rtn_3_float",
         "orientation": "v",
         "showlegend": true,
         "type": "scatter",
         "x": [
          "2015-11-26",
          "2015-12-23",
          "2016-01-22",
          "2016-02-23",
          "2016-03-22",
          "2016-04-19",
          "2016-05-18",
          "2016-06-15",
          "2016-07-12",
          "2016-08-08",
          "2016-09-05",
          "2016-10-06",
          "2016-11-02",
          "2016-11-29",
          "2016-12-26",
          "2017-01-23",
          "2017-02-21",
          "2017-03-21",
          "2017-04-17",
          "2017-05-18",
          "2017-06-15",
          "2017-07-12",
          "2017-08-08",
          "2017-09-05",
          "2017-10-10",
          "2017-11-06",
          "2017-12-01",
          "2018-01-02",
          "2018-01-29",
          "2018-02-27",
          "2018-03-27",
          "2018-04-23",
          "2018-05-23",
          "2018-06-21",
          "2018-07-18",
          "2018-08-14",
          "2018-09-11",
          "2018-10-15",
          "2018-11-09",
          "2018-12-06",
          "2019-01-07",
          "2019-02-01",
          "2019-03-06",
          "2019-04-02",
          "2019-04-29",
          "2019-05-28",
          "2019-06-25",
          "2019-07-22",
          "2019-08-19",
          "2019-09-17",
          "2019-10-16",
          "2019-11-12",
          "2019-12-09",
          "2020-01-08",
          "2020-02-06",
          "2020-03-04",
          "2020-03-31",
          "2020-04-28",
          "2020-05-28",
          "2020-06-24",
          "2020-07-21",
          "2020-08-18",
          "2020-09-14",
          "2020-10-15",
          "2020-11-11",
          "2020-12-08",
          "2021-01-07",
          "2021-02-03",
          "2021-03-05",
          "2021-04-01",
          "2021-04-28",
          "2021-05-27",
          "2021-06-23",
          "2021-07-20",
          "2021-08-17",
          "2021-09-13",
          "2021-10-15",
          "2021-11-11",
          "2021-12-08",
          "2022-01-05",
          "2022-02-04",
          "2022-03-04",
          "2022-04-01",
          "2022-04-28",
          "2022-05-26",
          "2022-06-24",
          "2022-07-21",
          "2022-08-18",
          "2022-09-16",
          "2022-10-17",
          "2022-11-11",
          "2022-12-08",
          "2023-01-05",
          "2023-02-03",
          "2023-03-03",
          "2023-03-30",
          "2023-04-26",
          "2023-05-25",
          "2023-06-23",
          "2023-07-20",
          "2023-08-17",
          "2023-09-13",
          "2023-09-19"
         ],
         "xaxis": "x",
         "y": [
          0.9391752335442246,
          0.8466112294262063,
          0.9866979241864744,
          1.034641076013653,
          1.3191714221592177,
          1.3958044623380343,
          1.3835873787856856,
          1.6137755720497244,
          1.8799926698674259,
          1.9486272499387212,
          1.9413213182740148,
          2.044123924013394,
          1.91210203261797,
          2.095944604522219,
          2.5758624353930193,
          2.7145397555251587,
          2.8521550909727966,
          2.7581851301722486,
          2.5263130401971603,
          2.5198257241761284,
          2.6209713471268934,
          2.6112473839229033,
          2.6800580497858077,
          2.6095891426184457,
          2.7685109553190803,
          2.8643980774310145,
          3.3575823565162537,
          3.5107695347149455,
          4.141509002426161,
          4.240877484857915,
          4.285438694268996,
          4.409063718013116,
          4.485954765152285,
          4.393453844752925,
          4.374994393315875,
          4.143318802600584,
          4.391790222667848,
          4.227841629551241,
          4.364165528975112,
          4.440250505433519,
          4.880559388038065,
          5.0650891331180095,
          4.796707047252861,
          5.03534967363138,
          5.099574289281132,
          4.846285932078559,
          5.266870332036232,
          6.160128796429117,
          5.9571574845630835,
          6.557965742368985,
          6.822621602924969,
          6.822284199000432,
          6.975920767639268,
          8.907099320337064,
          9.05259515929756,
          8.499913988802962,
          7.021392619191847,
          8.407435022192221,
          8.44839746552006,
          9.15578674355812,
          9.868668592024799,
          10.016537505355098,
          10.840616205854603,
          10.561814718665781,
          10.602721655415746,
          10.12534518868885,
          10.255733470544477,
          10.524596841626451,
          10.705723156575996,
          11.504912150503436,
          12.477333181072343,
          12.865442587812709,
          13.457137375572794,
          14.414592611084503,
          13.929538485126804,
          14.677256762271304,
          14.375438805228127,
          14.136929805813777,
          14.278091567513945,
          15.019078491062809,
          14.872030557943418,
          15.331440883345804,
          19.474644741566042,
          18.60798628482397,
          18.68292767012205,
          17.557489138651317,
          19.367601231849214,
          19.439602503405673,
          19.55037988555554,
          20.84013223575549,
          21.00128983974264,
          21.245673560595606,
          22.67800926775282,
          24.292060893058004,
          24.8132863596516,
          25.164183267602716,
          31.907095326002924,
          32.62772157169253,
          32.80803091994799,
          31.747453425245453,
          33.273607678054624,
          34.261767685785564,
          34.261767685785564
         ],
         "yaxis": "y"
        }
       ],
       "layout": {
        "legend": {
         "title": {
          "text": "variable"
         },
         "tracegroupgap": 0
        },
        "margin": {
         "t": 60
        },
        "template": {
         "data": {
          "bar": [
           {
            "error_x": {
             "color": "#2a3f5f"
            },
            "error_y": {
             "color": "#2a3f5f"
            },
            "marker": {
             "line": {
              "color": "#E5ECF6",
              "width": 0.5
             },
             "pattern": {
              "fillmode": "overlay",
              "size": 10,
              "solidity": 0.2
             }
            },
            "type": "bar"
           }
          ],
          "barpolar": [
           {
            "marker": {
             "line": {
              "color": "#E5ECF6",
              "width": 0.5
             },
             "pattern": {
              "fillmode": "overlay",
              "size": 10,
              "solidity": 0.2
             }
            },
            "type": "barpolar"
           }
          ],
          "carpet": [
           {
            "aaxis": {
             "endlinecolor": "#2a3f5f",
             "gridcolor": "white",
             "linecolor": "white",
             "minorgridcolor": "white",
             "startlinecolor": "#2a3f5f"
            },
            "baxis": {
             "endlinecolor": "#2a3f5f",
             "gridcolor": "white",
             "linecolor": "white",
             "minorgridcolor": "white",
             "startlinecolor": "#2a3f5f"
            },
            "type": "carpet"
           }
          ],
          "choropleth": [
           {
            "colorbar": {
             "outlinewidth": 0,
             "ticks": ""
            },
            "type": "choropleth"
           }
          ],
          "contour": [
           {
            "colorbar": {
             "outlinewidth": 0,
             "ticks": ""
            },
            "colorscale": [
             [
              0,
              "#0d0887"
             ],
             [
              0.1111111111111111,
              "#46039f"
             ],
             [
              0.2222222222222222,
              "#7201a8"
             ],
             [
              0.3333333333333333,
              "#9c179e"
             ],
             [
              0.4444444444444444,
              "#bd3786"
             ],
             [
              0.5555555555555556,
              "#d8576b"
             ],
             [
              0.6666666666666666,
              "#ed7953"
             ],
             [
              0.7777777777777778,
              "#fb9f3a"
             ],
             [
              0.8888888888888888,
              "#fdca26"
             ],
             [
              1,
              "#f0f921"
             ]
            ],
            "type": "contour"
           }
          ],
          "contourcarpet": [
           {
            "colorbar": {
             "outlinewidth": 0,
             "ticks": ""
            },
            "type": "contourcarpet"
           }
          ],
          "heatmap": [
           {
            "colorbar": {
             "outlinewidth": 0,
             "ticks": ""
            },
            "colorscale": [
             [
              0,
              "#0d0887"
             ],
             [
              0.1111111111111111,
              "#46039f"
             ],
             [
              0.2222222222222222,
              "#7201a8"
             ],
             [
              0.3333333333333333,
              "#9c179e"
             ],
             [
              0.4444444444444444,
              "#bd3786"
             ],
             [
              0.5555555555555556,
              "#d8576b"
             ],
             [
              0.6666666666666666,
              "#ed7953"
             ],
             [
              0.7777777777777778,
              "#fb9f3a"
             ],
             [
              0.8888888888888888,
              "#fdca26"
             ],
             [
              1,
              "#f0f921"
             ]
            ],
            "type": "heatmap"
           }
          ],
          "heatmapgl": [
           {
            "colorbar": {
             "outlinewidth": 0,
             "ticks": ""
            },
            "colorscale": [
             [
              0,
              "#0d0887"
             ],
             [
              0.1111111111111111,
              "#46039f"
             ],
             [
              0.2222222222222222,
              "#7201a8"
             ],
             [
              0.3333333333333333,
              "#9c179e"
             ],
             [
              0.4444444444444444,
              "#bd3786"
             ],
             [
              0.5555555555555556,
              "#d8576b"
             ],
             [
              0.6666666666666666,
              "#ed7953"
             ],
             [
              0.7777777777777778,
              "#fb9f3a"
             ],
             [
              0.8888888888888888,
              "#fdca26"
             ],
             [
              1,
              "#f0f921"
             ]
            ],
            "type": "heatmapgl"
           }
          ],
          "histogram": [
           {
            "marker": {
             "pattern": {
              "fillmode": "overlay",
              "size": 10,
              "solidity": 0.2
             }
            },
            "type": "histogram"
           }
          ],
          "histogram2d": [
           {
            "colorbar": {
             "outlinewidth": 0,
             "ticks": ""
            },
            "colorscale": [
             [
              0,
              "#0d0887"
             ],
             [
              0.1111111111111111,
              "#46039f"
             ],
             [
              0.2222222222222222,
              "#7201a8"
             ],
             [
              0.3333333333333333,
              "#9c179e"
             ],
             [
              0.4444444444444444,
              "#bd3786"
             ],
             [
              0.5555555555555556,
              "#d8576b"
             ],
             [
              0.6666666666666666,
              "#ed7953"
             ],
             [
              0.7777777777777778,
              "#fb9f3a"
             ],
             [
              0.8888888888888888,
              "#fdca26"
             ],
             [
              1,
              "#f0f921"
             ]
            ],
            "type": "histogram2d"
           }
          ],
          "histogram2dcontour": [
           {
            "colorbar": {
             "outlinewidth": 0,
             "ticks": ""
            },
            "colorscale": [
             [
              0,
              "#0d0887"
             ],
             [
              0.1111111111111111,
              "#46039f"
             ],
             [
              0.2222222222222222,
              "#7201a8"
             ],
             [
              0.3333333333333333,
              "#9c179e"
             ],
             [
              0.4444444444444444,
              "#bd3786"
             ],
             [
              0.5555555555555556,
              "#d8576b"
             ],
             [
              0.6666666666666666,
              "#ed7953"
             ],
             [
              0.7777777777777778,
              "#fb9f3a"
             ],
             [
              0.8888888888888888,
              "#fdca26"
             ],
             [
              1,
              "#f0f921"
             ]
            ],
            "type": "histogram2dcontour"
           }
          ],
          "mesh3d": [
           {
            "colorbar": {
             "outlinewidth": 0,
             "ticks": ""
            },
            "type": "mesh3d"
           }
          ],
          "parcoords": [
           {
            "line": {
             "colorbar": {
              "outlinewidth": 0,
              "ticks": ""
             }
            },
            "type": "parcoords"
           }
          ],
          "pie": [
           {
            "automargin": true,
            "type": "pie"
           }
          ],
          "scatter": [
           {
            "fillpattern": {
             "fillmode": "overlay",
             "size": 10,
             "solidity": 0.2
            },
            "type": "scatter"
           }
          ],
          "scatter3d": [
           {
            "line": {
             "colorbar": {
              "outlinewidth": 0,
              "ticks": ""
             }
            },
            "marker": {
             "colorbar": {
              "outlinewidth": 0,
              "ticks": ""
             }
            },
            "type": "scatter3d"
           }
          ],
          "scattercarpet": [
           {
            "marker": {
             "colorbar": {
              "outlinewidth": 0,
              "ticks": ""
             }
            },
            "type": "scattercarpet"
           }
          ],
          "scattergeo": [
           {
            "marker": {
             "colorbar": {
              "outlinewidth": 0,
              "ticks": ""
             }
            },
            "type": "scattergeo"
           }
          ],
          "scattergl": [
           {
            "marker": {
             "colorbar": {
              "outlinewidth": 0,
              "ticks": ""
             }
            },
            "type": "scattergl"
           }
          ],
          "scattermapbox": [
           {
            "marker": {
             "colorbar": {
              "outlinewidth": 0,
              "ticks": ""
             }
            },
            "type": "scattermapbox"
           }
          ],
          "scatterpolar": [
           {
            "marker": {
             "colorbar": {
              "outlinewidth": 0,
              "ticks": ""
             }
            },
            "type": "scatterpolar"
           }
          ],
          "scatterpolargl": [
           {
            "marker": {
             "colorbar": {
              "outlinewidth": 0,
              "ticks": ""
             }
            },
            "type": "scatterpolargl"
           }
          ],
          "scatterternary": [
           {
            "marker": {
             "colorbar": {
              "outlinewidth": 0,
              "ticks": ""
             }
            },
            "type": "scatterternary"
           }
          ],
          "surface": [
           {
            "colorbar": {
             "outlinewidth": 0,
             "ticks": ""
            },
            "colorscale": [
             [
              0,
              "#0d0887"
             ],
             [
              0.1111111111111111,
              "#46039f"
             ],
             [
              0.2222222222222222,
              "#7201a8"
             ],
             [
              0.3333333333333333,
              "#9c179e"
             ],
             [
              0.4444444444444444,
              "#bd3786"
             ],
             [
              0.5555555555555556,
              "#d8576b"
             ],
             [
              0.6666666666666666,
              "#ed7953"
             ],
             [
              0.7777777777777778,
              "#fb9f3a"
             ],
             [
              0.8888888888888888,
              "#fdca26"
             ],
             [
              1,
              "#f0f921"
             ]
            ],
            "type": "surface"
           }
          ],
          "table": [
           {
            "cells": {
             "fill": {
              "color": "#EBF0F8"
             },
             "line": {
              "color": "white"
             }
            },
            "header": {
             "fill": {
              "color": "#C8D4E3"
             },
             "line": {
              "color": "white"
             }
            },
            "type": "table"
           }
          ]
         },
         "layout": {
          "annotationdefaults": {
           "arrowcolor": "#2a3f5f",
           "arrowhead": 0,
           "arrowwidth": 1
          },
          "autotypenumbers": "strict",
          "coloraxis": {
           "colorbar": {
            "outlinewidth": 0,
            "ticks": ""
           }
          },
          "colorscale": {
           "diverging": [
            [
             0,
             "#8e0152"
            ],
            [
             0.1,
             "#c51b7d"
            ],
            [
             0.2,
             "#de77ae"
            ],
            [
             0.3,
             "#f1b6da"
            ],
            [
             0.4,
             "#fde0ef"
            ],
            [
             0.5,
             "#f7f7f7"
            ],
            [
             0.6,
             "#e6f5d0"
            ],
            [
             0.7,
             "#b8e186"
            ],
            [
             0.8,
             "#7fbc41"
            ],
            [
             0.9,
             "#4d9221"
            ],
            [
             1,
             "#276419"
            ]
           ],
           "sequential": [
            [
             0,
             "#0d0887"
            ],
            [
             0.1111111111111111,
             "#46039f"
            ],
            [
             0.2222222222222222,
             "#7201a8"
            ],
            [
             0.3333333333333333,
             "#9c179e"
            ],
            [
             0.4444444444444444,
             "#bd3786"
            ],
            [
             0.5555555555555556,
             "#d8576b"
            ],
            [
             0.6666666666666666,
             "#ed7953"
            ],
            [
             0.7777777777777778,
             "#fb9f3a"
            ],
            [
             0.8888888888888888,
             "#fdca26"
            ],
            [
             1,
             "#f0f921"
            ]
           ],
           "sequentialminus": [
            [
             0,
             "#0d0887"
            ],
            [
             0.1111111111111111,
             "#46039f"
            ],
            [
             0.2222222222222222,
             "#7201a8"
            ],
            [
             0.3333333333333333,
             "#9c179e"
            ],
            [
             0.4444444444444444,
             "#bd3786"
            ],
            [
             0.5555555555555556,
             "#d8576b"
            ],
            [
             0.6666666666666666,
             "#ed7953"
            ],
            [
             0.7777777777777778,
             "#fb9f3a"
            ],
            [
             0.8888888888888888,
             "#fdca26"
            ],
            [
             1,
             "#f0f921"
            ]
           ]
          },
          "colorway": [
           "#636efa",
           "#EF553B",
           "#00cc96",
           "#ab63fa",
           "#FFA15A",
           "#19d3f3",
           "#FF6692",
           "#B6E880",
           "#FF97FF",
           "#FECB52"
          ],
          "font": {
           "color": "#2a3f5f"
          },
          "geo": {
           "bgcolor": "white",
           "lakecolor": "white",
           "landcolor": "#E5ECF6",
           "showlakes": true,
           "showland": true,
           "subunitcolor": "white"
          },
          "hoverlabel": {
           "align": "left"
          },
          "hovermode": "closest",
          "mapbox": {
           "style": "light"
          },
          "paper_bgcolor": "white",
          "plot_bgcolor": "#E5ECF6",
          "polar": {
           "angularaxis": {
            "gridcolor": "white",
            "linecolor": "white",
            "ticks": ""
           },
           "bgcolor": "#E5ECF6",
           "radialaxis": {
            "gridcolor": "white",
            "linecolor": "white",
            "ticks": ""
           }
          },
          "scene": {
           "xaxis": {
            "backgroundcolor": "#E5ECF6",
            "gridcolor": "white",
            "gridwidth": 2,
            "linecolor": "white",
            "showbackground": true,
            "ticks": "",
            "zerolinecolor": "white"
           },
           "yaxis": {
            "backgroundcolor": "#E5ECF6",
            "gridcolor": "white",
            "gridwidth": 2,
            "linecolor": "white",
            "showbackground": true,
            "ticks": "",
            "zerolinecolor": "white"
           },
           "zaxis": {
            "backgroundcolor": "#E5ECF6",
            "gridcolor": "white",
            "gridwidth": 2,
            "linecolor": "white",
            "showbackground": true,
            "ticks": "",
            "zerolinecolor": "white"
           }
          },
          "shapedefaults": {
           "line": {
            "color": "#2a3f5f"
           }
          },
          "ternary": {
           "aaxis": {
            "gridcolor": "white",
            "linecolor": "white",
            "ticks": ""
           },
           "baxis": {
            "gridcolor": "white",
            "linecolor": "white",
            "ticks": ""
           },
           "bgcolor": "#E5ECF6",
           "caxis": {
            "gridcolor": "white",
            "linecolor": "white",
            "ticks": ""
           }
          },
          "title": {
           "x": 0.05
          },
          "xaxis": {
           "automargin": true,
           "gridcolor": "white",
           "linecolor": "white",
           "ticks": "",
           "title": {
            "standoff": 15
           },
           "zerolinecolor": "white",
           "zerolinewidth": 2
          },
          "yaxis": {
           "automargin": true,
           "gridcolor": "white",
           "linecolor": "white",
           "ticks": "",
           "title": {
            "standoff": 15
           },
           "zerolinecolor": "white",
           "zerolinewidth": 2
          }
         }
        },
        "xaxis": {
         "anchor": "y",
         "domain": [
          0,
          1
         ],
         "title": {
          "text": "date"
         }
        },
        "yaxis": {
         "anchor": "x",
         "domain": [
          0,
          1
         ],
         "title": {
          "text": "value"
         }
        }
       }
      }
     },
     "metadata": {},
     "output_type": "display_data"
    }
   ],
   "source": [
    "(\n",
    "    df_result_opt['rtn_3_float']\n",
    "    + 1\n",
    ").cumprod().plot(kind='scatter')"
   ]
  },
  {
   "cell_type": "code",
   "execution_count": 56,
   "metadata": {},
   "outputs": [
    {
     "data": {
      "application/vnd.plotly.v1+json": {
       "config": {
        "plotlyServerURL": "https://plot.ly"
       },
       "data": [
        {
         "mode": "markers",
         "name": "Simple",
         "type": "scatter",
         "x": [
          "2015-11-26",
          "2015-12-23",
          "2016-01-22",
          "2016-02-23",
          "2016-03-22",
          "2016-04-19",
          "2016-05-18",
          "2016-06-15",
          "2016-07-12",
          "2016-08-08",
          "2016-09-05",
          "2016-10-06",
          "2016-11-02",
          "2016-11-29",
          "2016-12-26",
          "2017-01-23",
          "2017-02-21",
          "2017-03-21",
          "2017-04-17",
          "2017-05-18",
          "2017-06-15",
          "2017-07-12",
          "2017-08-08",
          "2017-09-05",
          "2017-10-10",
          "2017-11-06",
          "2017-12-01",
          "2018-01-02",
          "2018-01-29",
          "2018-02-27",
          "2018-03-27",
          "2018-04-23",
          "2018-05-23",
          "2018-06-21",
          "2018-07-18",
          "2018-08-14",
          "2018-09-11",
          "2018-10-15",
          "2018-11-09",
          "2018-12-06",
          "2019-01-07",
          "2019-02-01",
          "2019-03-06",
          "2019-04-02",
          "2019-04-29",
          "2019-05-28",
          "2019-06-25",
          "2019-07-22",
          "2019-08-19",
          "2019-09-17",
          "2019-10-16",
          "2019-11-12",
          "2019-12-09",
          "2020-01-08",
          "2020-02-06",
          "2020-03-04",
          "2020-03-31",
          "2020-04-28",
          "2020-05-28",
          "2020-06-24",
          "2020-07-21",
          "2020-08-18",
          "2020-09-14",
          "2020-10-15",
          "2020-11-11",
          "2020-12-08",
          "2021-01-07",
          "2021-02-03",
          "2021-03-05",
          "2021-04-01",
          "2021-04-28",
          "2021-05-27",
          "2021-06-23",
          "2021-07-20",
          "2021-08-17",
          "2021-09-13",
          "2021-10-15",
          "2021-11-11",
          "2021-12-08",
          "2022-01-05",
          "2022-02-04",
          "2022-03-04",
          "2022-04-01",
          "2022-04-28",
          "2022-05-26",
          "2022-06-24",
          "2022-07-21",
          "2022-08-18",
          "2022-09-16",
          "2022-10-17",
          "2022-11-11",
          "2022-12-08",
          "2023-01-05",
          "2023-02-03",
          "2023-03-03",
          "2023-03-30",
          "2023-04-26",
          "2023-05-25",
          "2023-06-23",
          "2023-07-20",
          "2023-08-17",
          "2023-09-13",
          "2023-09-19"
         ],
         "xaxis": "x",
         "y": [
          0.008790150443155665,
          0.018827662918450547,
          0.12436170687563936,
          0.22363302069041638,
          0.30315874741779336,
          0.34475048857070806,
          0.2892315663288226,
          0.45828104658571733,
          0.6331237352649971,
          0.7455533205345116,
          0.7692917327785337,
          0.8375384114398887,
          0.7784650848953077,
          0.759929216110406,
          0.872413288582169,
          0.9276986838536545,
          0.8860721230262496,
          0.9017313504566645,
          0.9288369372081288,
          0.9015037973777433,
          0.9384483174779547,
          0.8466036141798801,
          0.8930600610600029,
          0.8935628058026922,
          0.8976790394635866,
          0.9372680022028003,
          1.0904607975762204,
          1.1528035997551125,
          1.319160695402117,
          1.2915818807692794,
          1.3246376828878963,
          1.4852465094141811,
          1.5265293871467196,
          1.575637575536539,
          1.5716349294552225,
          1.5787791826244064,
          1.6819401943031995,
          1.6391227046898638,
          1.6122899946937863,
          1.5520228813088264,
          1.6690173349515836,
          1.744652188246515,
          1.7570017086952152,
          1.8436318243039391,
          1.8648996037541983,
          1.7712267525809322,
          1.9558061712497863,
          2.0523204301536437,
          2.1042869930050885,
          2.157990631144499,
          2.1113635832386533,
          2.129380779360087,
          2.166159394282316,
          2.3348243841873466,
          2.366647974732241,
          2.3753774207227987,
          2.33128431174424,
          2.5484369543584604,
          2.642930093045873,
          2.6717221853186857,
          2.7080604540949658,
          2.668453245084669,
          2.837470077683355,
          2.872002181760547,
          2.8859758090962315,
          2.8973337495613043,
          2.93002464056467,
          2.982054155600543,
          2.943343708760229,
          3.0458562393593946,
          3.1628990981089387,
          3.237473446106099,
          3.298911938501839,
          3.289869958189119,
          3.2082481241112566,
          3.3407015179463904,
          3.3336484851622177,
          3.289134223335633,
          3.284120809464925,
          3.3287150237194423,
          3.279537822427317,
          3.2450177014170944,
          3.302623109069318,
          3.291161132144228,
          3.215614917019158,
          3.1398360417115243,
          3.1983578436505646,
          3.202189968662131,
          3.168346682496957,
          3.1060577553345197,
          3.1411799812860677,
          3.1333381985214737,
          3.1240983846126746,
          3.1718079102958363,
          3.22112355221489,
          3.1878171603786996,
          3.3672840265805197,
          3.428079393686994,
          3.5407704078834743,
          3.4677921482941,
          3.5358105777005107,
          3.5121180968867827,
          3.5121180968867827
         ],
         "yaxis": "y"
        },
        {
         "mode": "markers",
         "name": "Complex",
         "type": "scatter",
         "x": [
          "2015-11-26",
          "2015-12-23",
          "2016-01-22",
          "2016-02-23",
          "2016-03-22",
          "2016-04-19",
          "2016-05-18",
          "2016-06-15",
          "2016-07-12",
          "2016-08-08",
          "2016-09-05",
          "2016-10-06",
          "2016-11-02",
          "2016-11-29",
          "2016-12-26",
          "2017-01-23",
          "2017-02-21",
          "2017-03-21",
          "2017-04-17",
          "2017-05-18",
          "2017-06-15",
          "2017-07-12",
          "2017-08-08",
          "2017-09-05",
          "2017-10-10",
          "2017-11-06",
          "2017-12-01",
          "2018-01-02",
          "2018-01-29",
          "2018-02-27",
          "2018-03-27",
          "2018-04-23",
          "2018-05-23",
          "2018-06-21",
          "2018-07-18",
          "2018-08-14",
          "2018-09-11",
          "2018-10-15",
          "2018-11-09",
          "2018-12-06",
          "2019-01-07",
          "2019-02-01",
          "2019-03-06",
          "2019-04-02",
          "2019-04-29",
          "2019-05-28",
          "2019-06-25",
          "2019-07-22",
          "2019-08-19",
          "2019-09-17",
          "2019-10-16",
          "2019-11-12",
          "2019-12-09",
          "2020-01-08",
          "2020-02-06",
          "2020-03-04",
          "2020-03-31",
          "2020-04-28",
          "2020-05-28",
          "2020-06-24",
          "2020-07-21",
          "2020-08-18",
          "2020-09-14",
          "2020-10-15",
          "2020-11-11",
          "2020-12-08",
          "2021-01-07",
          "2021-02-03",
          "2021-03-05",
          "2021-04-01",
          "2021-04-28",
          "2021-05-27",
          "2021-06-23",
          "2021-07-20",
          "2021-08-17",
          "2021-09-13",
          "2021-10-15",
          "2021-11-11",
          "2021-12-08",
          "2022-01-05",
          "2022-02-04",
          "2022-03-04",
          "2022-04-01",
          "2022-04-28",
          "2022-05-26",
          "2022-06-24",
          "2022-07-21",
          "2022-08-18",
          "2022-09-16",
          "2022-10-17",
          "2022-11-11",
          "2022-12-08",
          "2023-01-05",
          "2023-02-03",
          "2023-03-03",
          "2023-03-30",
          "2023-04-26",
          "2023-05-25",
          "2023-06-23",
          "2023-07-20",
          "2023-08-17",
          "2023-09-13",
          "2023-09-19"
         ],
         "xaxis": "x2",
         "y": [
          1.0087901504431556,
          1.0189158941631833,
          1.126446208926479,
          1.2382700040282855,
          1.336744325983347,
          1.3923418499772737,
          1.3150405310742626,
          1.5373474493691175,
          1.806141410851047,
          2.009205140611126,
          2.056900480521761,
          2.197277106654316,
          2.067476638623994,
          2.0291541629346095,
          2.257401686854526,
          2.3822030313987965,
          2.283040112009046,
          2.318790756355756,
          2.3816429403606505,
          2.3165451608457226,
          2.402128810103634,
          2.181506002255909,
          2.2828510199683794,
          2.2839987113170115,
          2.293400183693974,
          2.3841935181123404,
          2.749434787863159,
          2.9208422569466763,
          3.4067450916553668,
          3.312791100271274,
          3.422298067342157,
          3.9719493439611533,
          4.135922843087738,
          4.339030521231848,
          4.321662917719327,
          4.352537971715388,
          4.80155019224791,
          4.595959866763424,
          4.472637808504951,
          4.203084838569924,
          4.694822452872569,
          5.049914660341336,
          5.112278684703411,
          5.555155978183283,
          5.6733018103390735,
          5.14186745419816,
          6.0909503597663575,
          6.678813919759391,
          7.025888923093672,
          7.403204719427189,
          7.05801513831767,
          7.185180781292788,
          7.449441778394556,
          8.705901800745584,
          8.98295485497657,
          9.061371074218705,
          8.66182705194802,
          10.542765686145875,
          11.538984706275752,
          11.87121621867342,
          12.302595664328907,
          11.815324186482663,
          13.812312856608608,
          14.28928108171975,
          14.488954170450551,
          14.653518849319696,
          15.132555436838572,
          15.919894957470742,
          15.303628710016193,
          16.87244241642999,
          18.84724131093602,
          20.252762043244225,
          21.497061210030807,
          21.302685205788382,
          19.56392096850859,
          22.155228697509894,
          21.99896714316551,
          21.019699359840207,
          20.91431890751148,
          21.84697652586035,
          20.772603363623773,
          20.055530581814125,
          21.210837596661165,
          20.967719465566397,
          19.3836876201386,
          17.914813572969997,
          18.96322074466218,
          19.035890177177663,
          18.39165309850261,
          17.24605675825317,
          17.85177666048976,
          17.711786905956153,
          17.548133290952816,
          18.385346406889077,
          19.292031566848983,
          18.649483604167354,
          21.996447982889492,
          23.333730113047725,
          25.963231824474025,
          24.06848035260845,
          25.70558058439193,
          25.096551609590488,
          25.096551609590488
         ],
         "yaxis": "y2"
        }
       ],
       "layout": {
        "height": 400,
        "template": {
         "data": {
          "bar": [
           {
            "error_x": {
             "color": "#2a3f5f"
            },
            "error_y": {
             "color": "#2a3f5f"
            },
            "marker": {
             "line": {
              "color": "#E5ECF6",
              "width": 0.5
             },
             "pattern": {
              "fillmode": "overlay",
              "size": 10,
              "solidity": 0.2
             }
            },
            "type": "bar"
           }
          ],
          "barpolar": [
           {
            "marker": {
             "line": {
              "color": "#E5ECF6",
              "width": 0.5
             },
             "pattern": {
              "fillmode": "overlay",
              "size": 10,
              "solidity": 0.2
             }
            },
            "type": "barpolar"
           }
          ],
          "carpet": [
           {
            "aaxis": {
             "endlinecolor": "#2a3f5f",
             "gridcolor": "white",
             "linecolor": "white",
             "minorgridcolor": "white",
             "startlinecolor": "#2a3f5f"
            },
            "baxis": {
             "endlinecolor": "#2a3f5f",
             "gridcolor": "white",
             "linecolor": "white",
             "minorgridcolor": "white",
             "startlinecolor": "#2a3f5f"
            },
            "type": "carpet"
           }
          ],
          "choropleth": [
           {
            "colorbar": {
             "outlinewidth": 0,
             "ticks": ""
            },
            "type": "choropleth"
           }
          ],
          "contour": [
           {
            "colorbar": {
             "outlinewidth": 0,
             "ticks": ""
            },
            "colorscale": [
             [
              0,
              "#0d0887"
             ],
             [
              0.1111111111111111,
              "#46039f"
             ],
             [
              0.2222222222222222,
              "#7201a8"
             ],
             [
              0.3333333333333333,
              "#9c179e"
             ],
             [
              0.4444444444444444,
              "#bd3786"
             ],
             [
              0.5555555555555556,
              "#d8576b"
             ],
             [
              0.6666666666666666,
              "#ed7953"
             ],
             [
              0.7777777777777778,
              "#fb9f3a"
             ],
             [
              0.8888888888888888,
              "#fdca26"
             ],
             [
              1,
              "#f0f921"
             ]
            ],
            "type": "contour"
           }
          ],
          "contourcarpet": [
           {
            "colorbar": {
             "outlinewidth": 0,
             "ticks": ""
            },
            "type": "contourcarpet"
           }
          ],
          "heatmap": [
           {
            "colorbar": {
             "outlinewidth": 0,
             "ticks": ""
            },
            "colorscale": [
             [
              0,
              "#0d0887"
             ],
             [
              0.1111111111111111,
              "#46039f"
             ],
             [
              0.2222222222222222,
              "#7201a8"
             ],
             [
              0.3333333333333333,
              "#9c179e"
             ],
             [
              0.4444444444444444,
              "#bd3786"
             ],
             [
              0.5555555555555556,
              "#d8576b"
             ],
             [
              0.6666666666666666,
              "#ed7953"
             ],
             [
              0.7777777777777778,
              "#fb9f3a"
             ],
             [
              0.8888888888888888,
              "#fdca26"
             ],
             [
              1,
              "#f0f921"
             ]
            ],
            "type": "heatmap"
           }
          ],
          "heatmapgl": [
           {
            "colorbar": {
             "outlinewidth": 0,
             "ticks": ""
            },
            "colorscale": [
             [
              0,
              "#0d0887"
             ],
             [
              0.1111111111111111,
              "#46039f"
             ],
             [
              0.2222222222222222,
              "#7201a8"
             ],
             [
              0.3333333333333333,
              "#9c179e"
             ],
             [
              0.4444444444444444,
              "#bd3786"
             ],
             [
              0.5555555555555556,
              "#d8576b"
             ],
             [
              0.6666666666666666,
              "#ed7953"
             ],
             [
              0.7777777777777778,
              "#fb9f3a"
             ],
             [
              0.8888888888888888,
              "#fdca26"
             ],
             [
              1,
              "#f0f921"
             ]
            ],
            "type": "heatmapgl"
           }
          ],
          "histogram": [
           {
            "marker": {
             "pattern": {
              "fillmode": "overlay",
              "size": 10,
              "solidity": 0.2
             }
            },
            "type": "histogram"
           }
          ],
          "histogram2d": [
           {
            "colorbar": {
             "outlinewidth": 0,
             "ticks": ""
            },
            "colorscale": [
             [
              0,
              "#0d0887"
             ],
             [
              0.1111111111111111,
              "#46039f"
             ],
             [
              0.2222222222222222,
              "#7201a8"
             ],
             [
              0.3333333333333333,
              "#9c179e"
             ],
             [
              0.4444444444444444,
              "#bd3786"
             ],
             [
              0.5555555555555556,
              "#d8576b"
             ],
             [
              0.6666666666666666,
              "#ed7953"
             ],
             [
              0.7777777777777778,
              "#fb9f3a"
             ],
             [
              0.8888888888888888,
              "#fdca26"
             ],
             [
              1,
              "#f0f921"
             ]
            ],
            "type": "histogram2d"
           }
          ],
          "histogram2dcontour": [
           {
            "colorbar": {
             "outlinewidth": 0,
             "ticks": ""
            },
            "colorscale": [
             [
              0,
              "#0d0887"
             ],
             [
              0.1111111111111111,
              "#46039f"
             ],
             [
              0.2222222222222222,
              "#7201a8"
             ],
             [
              0.3333333333333333,
              "#9c179e"
             ],
             [
              0.4444444444444444,
              "#bd3786"
             ],
             [
              0.5555555555555556,
              "#d8576b"
             ],
             [
              0.6666666666666666,
              "#ed7953"
             ],
             [
              0.7777777777777778,
              "#fb9f3a"
             ],
             [
              0.8888888888888888,
              "#fdca26"
             ],
             [
              1,
              "#f0f921"
             ]
            ],
            "type": "histogram2dcontour"
           }
          ],
          "mesh3d": [
           {
            "colorbar": {
             "outlinewidth": 0,
             "ticks": ""
            },
            "type": "mesh3d"
           }
          ],
          "parcoords": [
           {
            "line": {
             "colorbar": {
              "outlinewidth": 0,
              "ticks": ""
             }
            },
            "type": "parcoords"
           }
          ],
          "pie": [
           {
            "automargin": true,
            "type": "pie"
           }
          ],
          "scatter": [
           {
            "fillpattern": {
             "fillmode": "overlay",
             "size": 10,
             "solidity": 0.2
            },
            "type": "scatter"
           }
          ],
          "scatter3d": [
           {
            "line": {
             "colorbar": {
              "outlinewidth": 0,
              "ticks": ""
             }
            },
            "marker": {
             "colorbar": {
              "outlinewidth": 0,
              "ticks": ""
             }
            },
            "type": "scatter3d"
           }
          ],
          "scattercarpet": [
           {
            "marker": {
             "colorbar": {
              "outlinewidth": 0,
              "ticks": ""
             }
            },
            "type": "scattercarpet"
           }
          ],
          "scattergeo": [
           {
            "marker": {
             "colorbar": {
              "outlinewidth": 0,
              "ticks": ""
             }
            },
            "type": "scattergeo"
           }
          ],
          "scattergl": [
           {
            "marker": {
             "colorbar": {
              "outlinewidth": 0,
              "ticks": ""
             }
            },
            "type": "scattergl"
           }
          ],
          "scattermapbox": [
           {
            "marker": {
             "colorbar": {
              "outlinewidth": 0,
              "ticks": ""
             }
            },
            "type": "scattermapbox"
           }
          ],
          "scatterpolar": [
           {
            "marker": {
             "colorbar": {
              "outlinewidth": 0,
              "ticks": ""
             }
            },
            "type": "scatterpolar"
           }
          ],
          "scatterpolargl": [
           {
            "marker": {
             "colorbar": {
              "outlinewidth": 0,
              "ticks": ""
             }
            },
            "type": "scatterpolargl"
           }
          ],
          "scatterternary": [
           {
            "marker": {
             "colorbar": {
              "outlinewidth": 0,
              "ticks": ""
             }
            },
            "type": "scatterternary"
           }
          ],
          "surface": [
           {
            "colorbar": {
             "outlinewidth": 0,
             "ticks": ""
            },
            "colorscale": [
             [
              0,
              "#0d0887"
             ],
             [
              0.1111111111111111,
              "#46039f"
             ],
             [
              0.2222222222222222,
              "#7201a8"
             ],
             [
              0.3333333333333333,
              "#9c179e"
             ],
             [
              0.4444444444444444,
              "#bd3786"
             ],
             [
              0.5555555555555556,
              "#d8576b"
             ],
             [
              0.6666666666666666,
              "#ed7953"
             ],
             [
              0.7777777777777778,
              "#fb9f3a"
             ],
             [
              0.8888888888888888,
              "#fdca26"
             ],
             [
              1,
              "#f0f921"
             ]
            ],
            "type": "surface"
           }
          ],
          "table": [
           {
            "cells": {
             "fill": {
              "color": "#EBF0F8"
             },
             "line": {
              "color": "white"
             }
            },
            "header": {
             "fill": {
              "color": "#C8D4E3"
             },
             "line": {
              "color": "white"
             }
            },
            "type": "table"
           }
          ]
         },
         "layout": {
          "annotationdefaults": {
           "arrowcolor": "#2a3f5f",
           "arrowhead": 0,
           "arrowwidth": 1
          },
          "autotypenumbers": "strict",
          "coloraxis": {
           "colorbar": {
            "outlinewidth": 0,
            "ticks": ""
           }
          },
          "colorscale": {
           "diverging": [
            [
             0,
             "#8e0152"
            ],
            [
             0.1,
             "#c51b7d"
            ],
            [
             0.2,
             "#de77ae"
            ],
            [
             0.3,
             "#f1b6da"
            ],
            [
             0.4,
             "#fde0ef"
            ],
            [
             0.5,
             "#f7f7f7"
            ],
            [
             0.6,
             "#e6f5d0"
            ],
            [
             0.7,
             "#b8e186"
            ],
            [
             0.8,
             "#7fbc41"
            ],
            [
             0.9,
             "#4d9221"
            ],
            [
             1,
             "#276419"
            ]
           ],
           "sequential": [
            [
             0,
             "#0d0887"
            ],
            [
             0.1111111111111111,
             "#46039f"
            ],
            [
             0.2222222222222222,
             "#7201a8"
            ],
            [
             0.3333333333333333,
             "#9c179e"
            ],
            [
             0.4444444444444444,
             "#bd3786"
            ],
            [
             0.5555555555555556,
             "#d8576b"
            ],
            [
             0.6666666666666666,
             "#ed7953"
            ],
            [
             0.7777777777777778,
             "#fb9f3a"
            ],
            [
             0.8888888888888888,
             "#fdca26"
            ],
            [
             1,
             "#f0f921"
            ]
           ],
           "sequentialminus": [
            [
             0,
             "#0d0887"
            ],
            [
             0.1111111111111111,
             "#46039f"
            ],
            [
             0.2222222222222222,
             "#7201a8"
            ],
            [
             0.3333333333333333,
             "#9c179e"
            ],
            [
             0.4444444444444444,
             "#bd3786"
            ],
            [
             0.5555555555555556,
             "#d8576b"
            ],
            [
             0.6666666666666666,
             "#ed7953"
            ],
            [
             0.7777777777777778,
             "#fb9f3a"
            ],
            [
             0.8888888888888888,
             "#fdca26"
            ],
            [
             1,
             "#f0f921"
            ]
           ]
          },
          "colorway": [
           "#636efa",
           "#EF553B",
           "#00cc96",
           "#ab63fa",
           "#FFA15A",
           "#19d3f3",
           "#FF6692",
           "#B6E880",
           "#FF97FF",
           "#FECB52"
          ],
          "font": {
           "color": "#2a3f5f"
          },
          "geo": {
           "bgcolor": "white",
           "lakecolor": "white",
           "landcolor": "#E5ECF6",
           "showlakes": true,
           "showland": true,
           "subunitcolor": "white"
          },
          "hoverlabel": {
           "align": "left"
          },
          "hovermode": "closest",
          "mapbox": {
           "style": "light"
          },
          "paper_bgcolor": "white",
          "plot_bgcolor": "#E5ECF6",
          "polar": {
           "angularaxis": {
            "gridcolor": "white",
            "linecolor": "white",
            "ticks": ""
           },
           "bgcolor": "#E5ECF6",
           "radialaxis": {
            "gridcolor": "white",
            "linecolor": "white",
            "ticks": ""
           }
          },
          "scene": {
           "xaxis": {
            "backgroundcolor": "#E5ECF6",
            "gridcolor": "white",
            "gridwidth": 2,
            "linecolor": "white",
            "showbackground": true,
            "ticks": "",
            "zerolinecolor": "white"
           },
           "yaxis": {
            "backgroundcolor": "#E5ECF6",
            "gridcolor": "white",
            "gridwidth": 2,
            "linecolor": "white",
            "showbackground": true,
            "ticks": "",
            "zerolinecolor": "white"
           },
           "zaxis": {
            "backgroundcolor": "#E5ECF6",
            "gridcolor": "white",
            "gridwidth": 2,
            "linecolor": "white",
            "showbackground": true,
            "ticks": "",
            "zerolinecolor": "white"
           }
          },
          "shapedefaults": {
           "line": {
            "color": "#2a3f5f"
           }
          },
          "ternary": {
           "aaxis": {
            "gridcolor": "white",
            "linecolor": "white",
            "ticks": ""
           },
           "baxis": {
            "gridcolor": "white",
            "linecolor": "white",
            "ticks": ""
           },
           "bgcolor": "#E5ECF6",
           "caxis": {
            "gridcolor": "white",
            "linecolor": "white",
            "ticks": ""
           }
          },
          "title": {
           "x": 0.05
          },
          "xaxis": {
           "automargin": true,
           "gridcolor": "white",
           "linecolor": "white",
           "ticks": "",
           "title": {
            "standoff": 15
           },
           "zerolinecolor": "white",
           "zerolinewidth": 2
          },
          "yaxis": {
           "automargin": true,
           "gridcolor": "white",
           "linecolor": "white",
           "ticks": "",
           "title": {
            "standoff": 15
           },
           "zerolinecolor": "white",
           "zerolinewidth": 2
          }
         }
        },
        "width": 800,
        "xaxis": {
         "anchor": "y",
         "domain": [
          0,
          0.45
         ]
        },
        "xaxis2": {
         "anchor": "y2",
         "domain": [
          0.55,
          1
         ]
        },
        "yaxis": {
         "anchor": "x",
         "domain": [
          0,
          1
         ]
        },
        "yaxis2": {
         "anchor": "x2",
         "domain": [
          0,
          1
         ]
        }
       }
      }
     },
     "metadata": {},
     "output_type": "display_data"
    }
   ],
   "source": [
    "import plotly.graph_objects as go\n",
    "from plotly.subplots import make_subplots\n",
    "\n",
    "col = 'rtn_5_float'\n",
    "x = df_result_opt.index\n",
    "y1 = df_result_opt[col].cumsum()\n",
    "y2 = (df_result_opt[col]+1).cumprod()\n",
    "\n",
    "# Create a subplot with 1 row and 2 columns\n",
    "fig = make_subplots(rows=1, cols=2)\n",
    "\n",
    "# First plot (e.g., a scatter plot)\n",
    "fig.add_trace(\n",
    "    go.Scatter(x=x, y=y1, mode='markers', name='Simple'),\n",
    "    row=1, col=1\n",
    ")\n",
    "\n",
    "# Second plot (e.g., a bar plot)\n",
    "fig.add_trace(\n",
    "    go.Scatter(x=x, y=y2, mode='markers', name='Complex'),\n",
    "    row=1, col=2\n",
    ")\n",
    "\n",
    "# Optionally adjust layout\n",
    "fig.update_layout(height=400, width=800,)\n",
    "\n",
    "# Show the plot\n",
    "fig.show()\n"
   ]
  },
  {
   "cell_type": "code",
   "execution_count": 50,
   "metadata": {},
   "outputs": [
    {
     "name": "stdout",
     "output_type": "stream",
     "text": [
      "rtn_3_fixed\n",
      "0.033933132943604304\n",
      "0.00   -0.183870\n",
      "0.05   -0.066981\n",
      "0.50    0.018598\n",
      "0.95    0.178004\n",
      "1.00    0.316937\n",
      "Name: rtn_3_fixed, dtype: float64\n",
      "rtn_4_fixed\n",
      "0.035740915824616505\n",
      "0.00   -0.165820\n",
      "0.05   -0.061477\n",
      "0.50    0.021731\n",
      "0.95    0.159689\n",
      "1.00    0.459247\n",
      "Name: rtn_4_fixed, dtype: float64\n",
      "rtn_5_fixed\n",
      "0.03210603745875421\n",
      "0.00   -0.121034\n",
      "0.05   -0.072264\n",
      "0.50    0.014780\n",
      "0.95    0.158073\n",
      "1.00    0.504571\n",
      "Name: rtn_5_fixed, dtype: float64\n"
     ]
    }
   ],
   "source": [
    "# Check VaR\n",
    "for rtn in ['rtn_3', 'rtn_4', 'rtn_5']:\n",
    "\n",
    "    for typeStr in ['fixed']:\n",
    "\n",
    "        print(f\"{rtn}_{typeStr}\")\n",
    "        print(\n",
    "            df_result_opt[f'{rtn}_{typeStr}'].mean()\n",
    "        )\n",
    "        print(\n",
    "            df_result_opt[f'{rtn}_{typeStr}'].quantile([0, 0.05, 0.5, 0.95, 1])\n",
    "        )\n",
    "        \n",
    "        # cumsum_final = (df_result_opt[f'{rtn}_{typeStr}']+0).cumsum()[-1]\n",
    "        # cumprod_final = (df_result_opt[f'{rtn}_{typeStr}']+1).cumprod()[-1]\n",
    "\n",
    "        # annual_cumsum = (cumsum_final / 8.6)*100\n",
    "        # annual_cumprod = ((cumprod_final)**(1/8.6) - 1)*100\n",
    "\n",
    "        # print(annual_cumsum)"
   ]
  },
  {
   "cell_type": "code",
   "execution_count": null,
   "metadata": {},
   "outputs": [],
   "source": []
  }
 ],
 "metadata": {
  "kernelspec": {
   "display_name": "venv",
   "language": "python",
   "name": "python3"
  },
  "language_info": {
   "codemirror_mode": {
    "name": "ipython",
    "version": 3
   },
   "file_extension": ".py",
   "mimetype": "text/x-python",
   "name": "python",
   "nbconvert_exporter": "python",
   "pygments_lexer": "ipython3",
   "version": "3.11.3"
  }
 },
 "nbformat": 4,
 "nbformat_minor": 2
}
