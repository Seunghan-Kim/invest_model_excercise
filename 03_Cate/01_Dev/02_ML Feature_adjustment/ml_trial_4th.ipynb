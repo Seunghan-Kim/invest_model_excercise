{
 "cells": [
  {
   "cell_type": "markdown",
   "metadata": {},
   "source": [
    "#### This Code is the base of the current running Cate ML Model"
   ]
  },
  {
   "cell_type": "code",
   "execution_count": 2,
   "metadata": {},
   "outputs": [],
   "source": [
    "import pandas as pd\n",
    "pd.options.plotting.backend = \"plotly\"\n",
    "\n",
    "import plotly.express as px\n",
    "import plotly.graph_objects as go\n",
    "\n",
    "import numpy as np\n",
    "\n",
    "from make_new_features import get_df_with_features\n",
    "from get_krx_value import get_krx_mean\n",
    "\n",
    "from sklearn.metrics import accuracy_score, precision_score, recall_score, f1_score\n",
    "\n",
    "import warnings\n",
    "warnings.filterwarnings(action='ignore', category=FutureWarning)\n",
    "\n",
    "from xgboost import plot_importance\n",
    "import matplotlib.pyplot as plt"
   ]
  },
  {
   "cell_type": "markdown",
   "metadata": {},
   "source": [
    "#### Preparing Price Dataset"
   ]
  },
  {
   "cell_type": "code",
   "execution_count": 2,
   "metadata": {},
   "outputs": [],
   "source": [
    "SHORT_PERIOD=5\n",
    "MID_PERIOD=20\n",
    "LONG_PERIOD=60\n",
    "\n",
    "try :\n",
    "    df_with_feats = pd.read_pickle(f\"./df_with_feats_f_20130101_t_20230919_{SHORT_PERIOD}_{MID_PERIOD}_{LONG_PERIOD}_with_min_max_ratio.pkl\")\n",
    "    # df_with_feats['date'] = df_with_feats['date'].dt.strftime(\"%Y-%m-%d\")\n",
    "except :\n",
    "    # filtering : Normal Stocks, Not SPAC\n",
    "    df_price = (\n",
    "        pd.read_pickle(\"./df_price_price_only_f_20130101_t_20230919.pkl\")\n",
    "        .loc[lambda df : df[\"code\"].str[5]== \"0\"]\n",
    "        # .loc[lambda df : ~df[\"name\"].str.contains(\"스펙\")]\n",
    "        # .loc[lambda df : ~df[\"name\"].str.contains(\"스팩\")]    \n",
    "    )\n",
    "\n",
    "    df_price['date'] = df_price['date'].dt.strftime(\"%Y-%m-%d\")\n",
    "\n",
    "    try:\n",
    "        df_krx = pd.read_pickle(\"./df_krx.pkl\")\n",
    "    except :\n",
    "        df_krx = get_krx_mean()\n",
    "        df_krx.to_pickle(\"./df_krx.pkl\")\n",
    "\n",
    "    df_price = df_price.merge(\n",
    "        df_krx,\n",
    "        on='date'\n",
    "    )\n",
    "    \n",
    "    df_with_feats = get_df_with_features(\n",
    "        df_price, SHORT_PERIOD=SHORT_PERIOD, MID_PERIOD=MID_PERIOD, LONG_PERIOD=LONG_PERIOD)\n",
    "    df_with_feats.to_pickle(f\"./df_with_feats_f_20130101_t_20230919_{SHORT_PERIOD}_{MID_PERIOD}_{LONG_PERIOD}_with_min_max_ratio.pkl\")"
   ]
  },
  {
   "cell_type": "markdown",
   "metadata": {},
   "source": [
    "## ML"
   ]
  },
  {
   "cell_type": "code",
   "execution_count": 2,
   "metadata": {},
   "outputs": [],
   "source": [
    "import xgboost as xgb\n",
    "from sklearn.model_selection import train_test_split"
   ]
  },
  {
   "cell_type": "code",
   "execution_count": 4,
   "metadata": {},
   "outputs": [],
   "source": [
    "df_with_feats_ml = (\n",
    "    df_with_feats\n",
    "    .assign(\n",
    "        vol_x_price_sma_long_to_mid = lambda df : df.vol_x_price_sma_long / df.vol_x_price_sma_mid,\n",
    "        vol_x_price_sma_mid_to_short = lambda df : df.vol_x_price_sma_mid / df.vol_x_price_sma_short,\n",
    "    )\n",
    "    .loc[lambda df : df.code.str[5] == '0']\n",
    "    .loc[lambda df : ~df.name.str.contains(\"스펙\")]\n",
    "    .loc[lambda df : ~df.name.str.contains(\"스팩\")]\n",
    "    \n",
    "    .loc[lambda df : df[\"vol_x_price_sma_mid\"] >  0.75e+08]  # 0.75e+08\n",
    "    .loc[lambda df : df[\"vol_x_price_sma_mid\"] <  3.5e+08]  # 3.5e+08\n",
    "    .loc[lambda df : df[\"vol_zero_count_mid\"] == 0]\n",
    "    .loc[lambda df : df[\"change\"] < 0.29]\n",
    "    .loc[lambda df : df[\"volume\"] > 0]\n",
    "\n",
    "    # .loc[lambda df : df.close > 1000]\n",
    ")"
   ]
  },
  {
   "cell_type": "code",
   "execution_count": 6,
   "metadata": {},
   "outputs": [],
   "source": [
    "# # All Available Features\n",
    "# for col in df_with_feats_ml.columns:\n",
    "#     print(f\"'{col}',\")"
   ]
  },
  {
   "cell_type": "markdown",
   "metadata": {},
   "source": [
    "#### EDA & Selecting Features"
   ]
  },
  {
   "cell_type": "code",
   "execution_count": null,
   "metadata": {},
   "outputs": [],
   "source": [
    "feats = [\n",
    "        'change_high',\n",
    "        'change_low',\n",
    "        'change_open',\n",
    "        'close_std_short',\n",
    "        # 'close_std_mid',\n",
    "        'close_std_long',\n",
    "        # 'close_mean_short',\n",
    "        # 'close_mean_mid',\n",
    "        # 'close_mean_long',\n",
    "        'close_min_ratio_short',\n",
    "        'close_min_ratio_mid',\n",
    "        'close_min_ratio_long',\n",
    "        'close_max_ratio_short',\n",
    "        'close_max_ratio_mid',\n",
    "        'close_max_ratio_long',\n",
    "        'open_std_short',\n",
    "        # 'open_std_mid',\n",
    "        # 'open_std_long',\n",
    "        'high_std_short',\n",
    "        'high_std_mid',\n",
    "        'high_std_long',\n",
    "        'low_std_short',\n",
    "        'low_std_mid',\n",
    "        # 'low_std_long',\n",
    "        # 'vol_zero_count_short',\n",
    "        # 'vol_zero_count_mid',\n",
    "        # 'vol_zero_count_long',\n",
    "        'close_change_p_short',\n",
    "        'close_change_p_mid',\n",
    "        'close_change_p_long',\n",
    "        'w_price_vol_corr_long',\n",
    "        'w_price_vol_corr_mid',\n",
    "        'w_price_vol_corr_short',\n",
    "        'krx_corr_short',\n",
    "        'krx_corr_mid',\n",
    "        'krx_corr_long',\n",
    "        'krx_change_std_short',\n",
    "        'krx_change_std_mid',\n",
    "        'krx_change_std_long',\n",
    "        'vol_x_price_sma_long_to_mid',\n",
    "        'vol_x_price_sma_mid_to_short'\n",
    "    ]"
   ]
  },
  {
   "cell_type": "code",
   "execution_count": null,
   "metadata": {},
   "outputs": [],
   "source": [
    "corr_matrix = df_with_feats_ml[feats].corr()\n",
    "\n",
    "upper = corr_matrix.where(~np.tril(np.ones(corr_matrix.shape)).astype(bool))\n",
    "\n",
    "# Find the pairs where the absolute value of correlation is greater than 0.75\n",
    "high_corr_pairs = [(column, index) for column, rowIndex in zip(upper.columns, upper.index) \n",
    "                   for index, value in upper[column].items() if abs(value) > 0.75]\n",
    "\n",
    "# Print the high correlation pairs\n",
    "for pair in high_corr_pairs:\n",
    "    print(pair)"
   ]
  },
  {
   "cell_type": "code",
   "execution_count": 3,
   "metadata": {},
   "outputs": [],
   "source": [
    "# For fixed length train dataset\n",
    "\n",
    "import exchange_calendars as xcals\n",
    "krx_cal = xcals.get_calendar(\"XKRX\")\n",
    "\n",
    "max_date = '2023-09-19'\n",
    "# max_date = '2024-01-19'\n",
    "start_date = '2015-01-02'\n",
    "\n",
    "finish = False\n",
    "dates = []\n",
    "\n",
    "len_of_train = 200\n",
    "gap_from_last_train_date = 7 # This number depends on the target ( rtn_5 -> 7, rnt_20 -> 22)\n",
    "len_of_pred = 20 # The length of pred for 1 model update\n",
    "\n",
    "while not finish :\n",
    "    train_end = krx_cal.sessions_window(start_date, len_of_train)[-1].strftime(\"%Y-%m-%d\")\n",
    "    oos_start = krx_cal.sessions_window(train_end, gap_from_last_train_date)[-1].strftime(\"%Y-%m-%d\")\n",
    "    oos_end = krx_cal.sessions_window(oos_start, len_of_pred)[-1].strftime(\"%Y-%m-%d\")\n",
    "\n",
    "    if oos_end > max_date :\n",
    "        dates.append(\n",
    "            (start_date, train_end, oos_start, max_date)\n",
    "        )\n",
    "        finish = True\n",
    "\n",
    "    else :\n",
    "        dates.append(\n",
    "            (start_date, train_end, oos_start, oos_end)\n",
    "        )\n",
    "\n",
    "        start_date = krx_cal.sessions_window(start_date, len_of_pred)[-1].strftime(\"%Y-%m-%d\")"
   ]
  },
  {
   "cell_type": "markdown",
   "metadata": {},
   "source": [
    "#### Create df_oos_with_proba"
   ]
  },
  {
   "cell_type": "code",
   "execution_count": null,
   "metadata": {},
   "outputs": [],
   "source": [
    "def run_ml_multi_seed(features, idx0, idx1, fixed, target):\n",
    "\n",
    "    feats = features\n",
    "    \n",
    "    THRES_OF_PROBA = 0.5\n",
    "\n",
    "    rtn_in_period = []\n",
    "    l_df = []\n",
    "\n",
    "    if fixed:\n",
    "        print(\"fixed\")\n",
    "    else :\n",
    "        print(\"float\")\n",
    "\n",
    "    for train_start, train_end, oos_start, oos_end in dates[idx0 : idx1]:\n",
    "\n",
    "        df_train_set = df_with_feats_ml.loc[lambda df : df.date >= train_start].loc[lambda df : df.date < train_end]\n",
    "        df_oos_set = df_with_feats_ml.loc[lambda df : df.date >= oos_start].loc[lambda df : df.date < oos_end]\n",
    "\n",
    "        df_train_set_ = (\n",
    "            df_train_set\n",
    "            .replace([-np.inf, np.inf], np.nan)\n",
    "            .dropna(subset=feats)\n",
    "            .reset_index(drop=True)\n",
    "        )\n",
    "\n",
    "        if fixed:\n",
    "            THRES_OF_TRUE = 0.03\n",
    "        else :\n",
    "            THRES_OF_TRUE = df_train_set_[target].quantile(0.75)\n",
    "        \n",
    "        # print(THRES_OF_TRUE)\n",
    "\n",
    "        df_oos_set_ = (\n",
    "            df_oos_set      \n",
    "            .replace([-np.inf, np.inf], np.nan)\n",
    "            .dropna(subset=feats)\n",
    "            .reset_index(drop=True)\n",
    "        )\n",
    "\n",
    "        df_train_set_[\"target\"] = (\n",
    "                df_train_set_[target].apply(lambda x : 1 if x > THRES_OF_TRUE else 0)\n",
    "            )\n",
    "\n",
    "        feature_df = df_train_set_[feats]\n",
    "        target_df = df_train_set_[\"target\"]\n",
    "\n",
    "        feature_df_oos = df_oos_set_[feats]\n",
    "\n",
    "        doos = xgb.DMatrix(feature_df_oos)        \n",
    "\n",
    "        if df_oos_set_.shape[0] > 0:\n",
    "            \n",
    "            col_list = []\n",
    "            for id, seed in enumerate([6, 13, 5, 2]):\n",
    "\n",
    "                X_train, X_valid, y_train, y_valid = train_test_split(\n",
    "                    feature_df, target_df, test_size=0.25, random_state=seed\n",
    "                )\n",
    "\n",
    "                # Create DMatrix for training and validation data\n",
    "                dtrain = xgb.DMatrix(X_train, label=y_train)\n",
    "                dvalid = xgb.DMatrix(X_valid, label=y_valid)\n",
    "\n",
    "                evals = [(dtrain, 'train'), (dvalid, 'eval')]\n",
    "\n",
    "                params = {\n",
    "                    'max_depth': 5, # Adjust based on your dataset : originally 5 --> try 8\n",
    "                    'eta': 0.05,     # Learning rate : originally 0.05\n",
    "                    'objective': 'binary:logistic',\n",
    "                    'eval_metric': 'logloss',  # Or use 'auc', 'error', etc. based on your problem\n",
    "                    'random_state': 42,\n",
    "                }\n",
    "\n",
    "                model = xgb.train(\n",
    "                    params, dtrain,\n",
    "                    1000,\n",
    "                    evals=evals,\n",
    "                    early_stopping_rounds=50,\n",
    "                    verbose_eval=False\n",
    "                )\n",
    "\n",
    "                df_oos_set_[f\"pred_proba_{id}\"] = model.predict(doos)\n",
    "                col_list.append(f\"pred_proba_{id}\")\n",
    "            \n",
    "            df_oos_set_[\"proba_mean\"] = df_oos_set_[col_list].mean(axis=1)\n",
    "            df_oos_set_[\"proba_max\"] = df_oos_set_[col_list].max(axis=1)\n",
    "\n",
    "            l_df.append(df_oos_set_)\n",
    "\n",
    "            sr_selected_mean_mean = (\n",
    "                df_oos_set_\n",
    "                .loc[lambda df : df['proba_mean'] > THRES_OF_PROBA]\n",
    "                .sort_values('proba_mean', ascending=False)\n",
    "                .groupby('date')\n",
    "                .head(5)\n",
    "                .reset_index()\n",
    "                .groupby('date')[target]\n",
    "                .mean()\n",
    "                -0.0023\n",
    "            )       \n",
    "\n",
    "            sr_selected_mean_max = (\n",
    "                df_oos_set_\n",
    "                .loc[lambda df : df['proba_mean'] > THRES_OF_PROBA]\n",
    "                .sort_values('proba_max', ascending=False)\n",
    "                .groupby('date')\n",
    "                .head(5)\n",
    "                .reset_index()\n",
    "                .groupby('date')[target]\n",
    "                .mean()\n",
    "                -0.0023\n",
    "            )      \n",
    "\n",
    "            sr_selected_max_mean = (\n",
    "                df_oos_set_\n",
    "                .loc[lambda df : df['proba_max'] > THRES_OF_PROBA]\n",
    "                .sort_values('proba_mean', ascending=False)\n",
    "                .groupby('date')\n",
    "                .head(5)\n",
    "                .reset_index()\n",
    "                .groupby('date')[target]\n",
    "                .mean()\n",
    "                -0.0023\n",
    "            )    \n",
    "\n",
    "            sr_selected_max_max = (\n",
    "                df_oos_set_\n",
    "                .loc[lambda df : df['proba_max'] > THRES_OF_PROBA]\n",
    "                .sort_values('proba_max', ascending=False)\n",
    "                .groupby('date')\n",
    "                .head(5)\n",
    "                .reset_index()\n",
    "                .groupby('date')[target]\n",
    "                .mean()\n",
    "                -0.0023\n",
    "            )     \n",
    "\n",
    "            rtn_in_period.append(\n",
    "                {\n",
    "                    'date' : oos_end,\n",
    "                    \"return_mean_mean\" : sr_selected_mean_mean.sum()/(int(target.split('_')[-1]) + 1),\n",
    "                    'return_mean_max' : sr_selected_mean_max.sum()/(int(target.split('_')[-1]) + 1),\n",
    "                    'return_max_mean' : sr_selected_max_mean.sum()/(int(target.split('_')[-1]) + 1),\n",
    "                    'return_max_max' : sr_selected_max_max.sum()/(int(target.split('_')[-1]) + 1),\n",
    "                    'date_n' : sr_selected_mean_max.shape[0]\n",
    "                }\n",
    "            )\n",
    "\n",
    "        else :\n",
    "\n",
    "        \n",
    "            # cumsum += 0\n",
    "            rtn_in_period.append(\n",
    "                {\n",
    "                    'date' : oos_end,\n",
    "                    \"return_mean_mean\" : 0,\n",
    "                    'return_mean_max' : 0,\n",
    "                    'return_max_mean' : 0,\n",
    "                    'return_max_max' : 0,\n",
    "                    'date_n' : 0\n",
    "                }\n",
    "            )\n",
    "        \n",
    "        \n",
    "    return rtn_in_period, l_df"
   ]
  },
  {
   "cell_type": "code",
   "execution_count": null,
   "metadata": {},
   "outputs": [],
   "source": [
    "for feat_var, target_var in [(feats, 'rtn_3'), (feats, 'rtn_4'), (feats, 'rtn_5')]:\n",
    "\n",
    "    feats = feat_var\n",
    "    target = target_var\n",
    "\n",
    "    for tf in [True, False]:\n",
    "\n",
    "        print(target)\n",
    "\n",
    "        oos_test_result, dfs = run_ml_multi_seed(feats, 0, -1, tf, target)\n",
    "        df_oos_result = pd.DataFrame(oos_test_result)\n",
    "        df_oos_result = df_oos_result.set_index('date')\n",
    "\n",
    "        if tf:\n",
    "            df_oos_with_proba_fixed = pd.concat(dfs)\n",
    "            df_oos_with_proba_fixed.to_pickle(f\"df_oos_with_proba_fixed_{target}.pkl\")\n",
    "        else:\n",
    "            df_oos_with_proba_float = pd.concat(dfs)\n",
    "            df_oos_with_proba_float.to_pickle(f\"df_oos_with_proba_float_{target}.pkl\")\n",
    "\n",
    "        for col in df_oos_result.columns:\n",
    "            sr = (df_oos_result[col]+1)\n",
    "            sr_org = df_oos_result[col]\n",
    "\n",
    "            print(col)\n",
    "            print(f\"Prod : {round(sr.cumprod()[-1],2)}\")\n",
    "            print(f\"Prod Max : {round(sr.cumprod().max(),2)}\")\n",
    "            print(f\"Prod Min : {round(sr.cumprod().min(),2)}\")\n",
    "            print(f\"min : {round(sr_org.min(),3)}\")\n",
    "            print(f\"std : {round(sr_org.std(),3)}\")\n",
    "            print(f\"mean : {round(sr_org.mean(),3)}\")\n",
    "            print('\\n')\n"
   ]
  },
  {
   "cell_type": "markdown",
   "metadata": {},
   "source": [
    "#### Get Best Thresholds for Proba"
   ]
  },
  {
   "cell_type": "code",
   "execution_count": 13,
   "metadata": {},
   "outputs": [],
   "source": [
    "def objective(trial, df_proba, rtn_n):\n",
    "\n",
    "    thres01 = trial.suggest_float(\"thres_for_max\", 0.3, 0.9, step=0.01)\n",
    "    thres02 = trial.suggest_float(\"thres_for_mean\", 0.3, 0.9, step=0.01)\n",
    "    thres03 = trial.suggest_float(\"thres_mean_max\", 0.3, 0.9, step=0.01)\n",
    "    thres04 = trial.suggest_float(\"thres_mean_mean\", 0.3, 0.9, step=0.01)\n",
    "\n",
    "    l_rtn_p = []\n",
    "\n",
    "    for date in dates:\n",
    "\n",
    "        df_ = df_proba.loc[lambda df : df.date >= date[2]].loc[lambda df : df.date < date[3]]\n",
    "        df_ = df_.loc[lambda df : df['weighted_price_change_p_short'] >= df['weighted_price_change_p_mid']]\n",
    "\n",
    "\n",
    "        df1 = (\n",
    "            df_\n",
    "            .loc[lambda df : df['proba_max'] > thres01]\n",
    "            .sort_values('proba_max', ascending=False)\n",
    "            .groupby('date')\n",
    "            .head(3)\n",
    "            .reset_index()\n",
    "        )\n",
    "\n",
    "        df2 = (\n",
    "            df_\n",
    "            .loc[lambda df : df['proba_max'] > thres02]\n",
    "            .sort_values('proba_mean', ascending=False)\n",
    "            .groupby('date')\n",
    "            .head(3)\n",
    "            .reset_index()\n",
    "        )\n",
    "\n",
    "        df3 = (\n",
    "            df_\n",
    "            .loc[lambda df : df['proba_mean'] > thres03]\n",
    "            .sort_values('proba_max', ascending=False)\n",
    "            .groupby('date')\n",
    "            .head(3)\n",
    "            .reset_index()\n",
    "        )\n",
    "\n",
    "        df4 = (\n",
    "            df_\n",
    "            .loc[lambda df : df['proba_mean'] > thres04]\n",
    "            .sort_values('proba_mean', ascending=False)\n",
    "            .groupby('date')\n",
    "            .head(3)\n",
    "            .reset_index()\n",
    "        )\n",
    "\n",
    "        sr = (\n",
    "            pd.concat([df1, df2, df3, df4]).drop_duplicates(subset=['date','code']) #df1, df2, \n",
    "            .groupby('date')[rtn_n]\n",
    "            .mean()\n",
    "            -0.0023\n",
    "        )\n",
    "\n",
    "        n = int(rtn_n.split('_')[1]) + 1\n",
    "\n",
    "        l_rtn_p.append(\n",
    "            {\n",
    "                'date' : date[3],\n",
    "                'rtn_p' : (sr/n).sum(),\n",
    "                'days' : pd.concat([df1, df2, df3, df4]).drop_duplicates(subset=['date','code'])['date'].unique().__len__()\n",
    "            }        \n",
    "        )\n",
    "\n",
    "    sr_final = (\n",
    "        pd.DataFrame(l_rtn_p)\n",
    "        .set_index('date')\n",
    "        ['rtn_p']\n",
    "        # +1\n",
    "    )\n",
    "\n",
    "    print(\n",
    "        pd.DataFrame(l_rtn_p)['days'].sum()\n",
    "    )\n",
    "\n",
    "    return (sr_final+1).cumprod()[-1]\n"
   ]
  },
  {
   "cell_type": "code",
   "execution_count": 14,
   "metadata": {},
   "outputs": [],
   "source": [
    "import optuna"
   ]
  },
  {
   "cell_type": "code",
   "execution_count": 15,
   "metadata": {},
   "outputs": [],
   "source": [
    "# Optuna Strudy Run\n",
    "def run_optuna(name, df_, rtn_n):\n",
    "\n",
    "    study = optuna.create_study(\n",
    "            direction=\"maximize\",\n",
    "            # direction=\"minimize\",\n",
    "            study_name=name,\n",
    "        )\n",
    "\n",
    "    study.optimize(\n",
    "        lambda trial : objective(trial, df_, rtn_n),\n",
    "        n_trials=400,\n",
    "        show_progress_bar=True,\n",
    "    )\n",
    "\n",
    "    # Create study result df & Save to file\n",
    "    df_study_result = (\n",
    "        study.trials_dataframe()\n",
    "        .rename(columns = lambda x : x.replace(\"params_\", \"\"))\n",
    "    )    \n",
    "    df_study_result.to_pickle(f\"./study_result_20240217_{name}.pkl\")"
   ]
  },
  {
   "cell_type": "code",
   "execution_count": null,
   "metadata": {},
   "outputs": [],
   "source": [
    "for rtn_n in ['rtn_3', 'rtn_4', 'rtn_5']:\n",
    "    for tf in [True, False]:\n",
    "\n",
    "        type_str = 'fixed' if tf else 'float'\n",
    "\n",
    "        df_with_proba = (\n",
    "            pd.read_pickle(f\"df_oos_with_proba_{type_str}_{rtn_n}.pkl\")\n",
    "            .merge(\n",
    "                df_with_feats_ml[['code','date','weighted_price_change_p_short', 'weighted_price_change_p_mid']]\n",
    "            )\n",
    "            .dropna(subset=['weighted_price_change_p_short', 'weighted_price_change_p_mid'])\n",
    "        )\n",
    "        \n",
    "        run_optuna(f\"best_combi_of_thres_{type_str}_{rtn_n}\", df_with_proba, rtn_n)"
   ]
  },
  {
   "cell_type": "code",
   "execution_count": 18,
   "metadata": {},
   "outputs": [],
   "source": [
    "def get_df_rtn_result(df_with_proba, thres_01, thres_02, thres_03, thres_04, rtn):\n",
    "    l_rtn_p = []\n",
    "\n",
    "    n = int(rtn.split('_')[1])+1\n",
    "\n",
    "    for date in dates:\n",
    "\n",
    "        df_ = df_with_proba.loc[lambda df : df.date >= date[2]].loc[lambda df : df.date < date[3]]\n",
    "        df_ = df_.loc[lambda df : df['weighted_price_change_p_short'] >= df['weighted_price_change_p_mid']]\n",
    "\n",
    "        df1 = (\n",
    "            df_\n",
    "            .loc[lambda df : df['proba_max'] > thres_01]\n",
    "            .sort_values('proba_max', ascending=False)\n",
    "            .groupby('date')\n",
    "            .head(3)\n",
    "            .reset_index()\n",
    "        )\n",
    "\n",
    "        df2 = (\n",
    "            df_\n",
    "            .loc[lambda df : df['proba_max'] > thres_02]\n",
    "            .sort_values('proba_mean', ascending=False)\n",
    "            .groupby('date')\n",
    "            .head(3)\n",
    "            .reset_index()\n",
    "        )\n",
    "\n",
    "        df3 = (\n",
    "            df_\n",
    "            .loc[lambda df : df['proba_mean'] > thres_03]\n",
    "            .sort_values('proba_max', ascending=False)\n",
    "            .groupby('date')\n",
    "            .head(3)\n",
    "            .reset_index()\n",
    "        )\n",
    "\n",
    "        df4 = (\n",
    "            df_\n",
    "            .loc[lambda df : df['proba_mean'] > thres_04]\n",
    "            .sort_values('proba_mean', ascending=False)\n",
    "            .groupby('date')\n",
    "            .head(3)\n",
    "            .reset_index()\n",
    "        )\n",
    "\n",
    "        sr = (\n",
    "            pd.concat([df1, df2, df3, df4]).drop_duplicates(subset=['date','code']) #df1, df2, \n",
    "            .groupby('date')[rtn]\n",
    "            .mean()\n",
    "            -0.0023\n",
    "        )\n",
    "\n",
    "        l_rtn_p.append(\n",
    "            {\n",
    "                'date' : date[3],\n",
    "                'rtn_p' : (sr/n).sum(),\n",
    "                'days' : pd.concat([df1, df2, df3, df4]).drop_duplicates(subset=['date','code'])['date'].unique().__len__()\n",
    "            }        \n",
    "        )\n",
    "\n",
    "    return (\n",
    "        pd.DataFrame(l_rtn_p)\n",
    "        .set_index('date')\n",
    "        ['rtn_p']\n",
    "    )"
   ]
  },
  {
   "cell_type": "code",
   "execution_count": 19,
   "metadata": {},
   "outputs": [],
   "source": [
    "from scipy import stats"
   ]
  },
  {
   "cell_type": "code",
   "execution_count": 25,
   "metadata": {},
   "outputs": [],
   "source": [
    "def get_rsquare(df_with_proba, rtn, row):\n",
    "    \n",
    "    sr_final = get_df_rtn_result(df_with_proba, row.thres_for_max, row.thres_for_mean, row.thres_mean_max, row.thres_mean_mean, rtn)\n",
    "    #  'thres_for_max', 'thres_for_mean', 'thres_mean_max', 'thres_mean_mean',\n",
    "\n",
    "    x = sr_final.cumsum()\n",
    "    y = range(0, len(x))\n",
    "\n",
    "    slope, intercept, r_value, p_value, std_err = stats.linregress(x, y)\n",
    "\n",
    "    print(f\"R-squared: {r_value**2}\")\n",
    "    return r_value**2"
   ]
  },
  {
   "cell_type": "markdown",
   "metadata": {},
   "source": [
    "#### Add R-Squared of Cumsum Series"
   ]
  },
  {
   "cell_type": "code",
   "execution_count": 27,
   "metadata": {},
   "outputs": [
    {
     "name": "stdout",
     "output_type": "stream",
     "text": [
      "R-squared: 0.9660677112234342\n",
      "R-squared: 0.9660677112234342\n",
      "R-squared: 0.9661230405072893\n",
      "R-squared: 0.9661230405072893\n",
      "R-squared: 0.9661230405072893\n",
      "R-squared: 0.9661230405072893\n",
      "R-squared: 0.965628905788972\n",
      "R-squared: 0.9656916183288693\n",
      "R-squared: 0.9656916183288693\n",
      "R-squared: 0.9657815670544935\n",
      "R-squared: 0.9657815670544935\n",
      "R-squared: 0.9658192765303161\n",
      "R-squared: 0.9658192765303161\n",
      "R-squared: 0.9658192765303161\n",
      "R-squared: 0.9658192765303161\n",
      "R-squared: 0.9653846818189821\n",
      "R-squared: 0.9653846818189821\n",
      "R-squared: 0.9659415827738057\n",
      "R-squared: 0.9653699681628315\n",
      "R-squared: 0.9655955333007891\n",
      "R-squared: 0.9655955333007891\n",
      "R-squared: 0.9652092801781328\n",
      "R-squared: 0.9650972797014882\n",
      "R-squared: 0.9649936392395431\n",
      "R-squared: 0.9649936392395431\n",
      "R-squared: 0.9639908761133945\n",
      "R-squared: 0.9642056527287035\n",
      "R-squared: 0.9636457408770827\n",
      "R-squared: 0.9642598494230092\n",
      "R-squared: 0.9644473789420402\n",
      "R-squared: 0.963747564151217\n",
      "R-squared: 0.9634465265638502\n",
      "R-squared: 0.9648036153817274\n",
      "R-squared: 0.9641895158874406\n",
      "R-squared: 0.9650198965991286\n",
      "R-squared: 0.9642544953674088\n",
      "R-squared: 0.9645361267053643\n",
      "R-squared: 0.964519091960315\n",
      "R-squared: 0.9645031611257876\n",
      "R-squared: 0.9647253388562131\n",
      "R-squared: 0.9647253388562131\n",
      "R-squared: 0.9643612651070638\n",
      "R-squared: 0.9638953351583108\n",
      "R-squared: 0.9649466717096631\n",
      "R-squared: 0.9639641487365117\n",
      "R-squared: 0.9647486458909891\n",
      "R-squared: 0.9640913789194139\n",
      "R-squared: 0.9640913789194139\n",
      "R-squared: 0.9642659510816379\n",
      "R-squared: 0.9643840689947895\n",
      "R-squared: 0.9916482647782344\n",
      "R-squared: 0.9916482647782344\n",
      "R-squared: 0.9916482647782344\n",
      "R-squared: 0.9915139387983881\n",
      "R-squared: 0.9915139387983881\n",
      "R-squared: 0.9916370646914234\n",
      "R-squared: 0.9916370646914234\n",
      "R-squared: 0.9916370646914234\n",
      "R-squared: 0.9915863204521091\n",
      "R-squared: 0.9915863204521091\n",
      "R-squared: 0.9915863204521091\n",
      "R-squared: 0.9915863204521091\n",
      "R-squared: 0.9915863204521091\n",
      "R-squared: 0.9915863204521091\n",
      "R-squared: 0.9916692309087133\n",
      "R-squared: 0.991672998516228\n",
      "R-squared: 0.9915807651556886\n",
      "R-squared: 0.9916128801019862\n",
      "R-squared: 0.991692032058045\n",
      "R-squared: 0.9915969978098869\n",
      "R-squared: 0.9915969978098869\n",
      "R-squared: 0.9915969978098869\n",
      "R-squared: 0.9915969978098869\n",
      "R-squared: 0.9916049712020566\n",
      "R-squared: 0.9916049712020566\n",
      "R-squared: 0.9916362987035157\n",
      "R-squared: 0.9916362987035157\n",
      "R-squared: 0.9916362987035157\n",
      "R-squared: 0.9914207262150507\n",
      "R-squared: 0.9914207262150507\n",
      "R-squared: 0.9913933852522007\n",
      "R-squared: 0.9913933852522007\n",
      "R-squared: 0.9913933852522007\n",
      "R-squared: 0.9915632870842096\n",
      "R-squared: 0.9915632870842096\n",
      "R-squared: 0.9915632870842096\n",
      "R-squared: 0.9914792429337153\n",
      "R-squared: 0.9914807911827709\n",
      "R-squared: 0.9914807911827709\n",
      "R-squared: 0.9914807911827709\n",
      "R-squared: 0.9914658285180931\n",
      "R-squared: 0.9914658285180931\n",
      "R-squared: 0.9914658285180931\n",
      "R-squared: 0.9914458236948774\n",
      "R-squared: 0.991414694692753\n",
      "R-squared: 0.991414694692753\n",
      "R-squared: 0.9916250511779799\n",
      "R-squared: 0.9916250511779799\n",
      "R-squared: 0.9916250511779799\n",
      "R-squared: 0.9913513052428478\n",
      "R-squared: 0.9898371593225443\n",
      "R-squared: 0.9898371593225443\n",
      "R-squared: 0.9898371593225443\n",
      "R-squared: 0.9898371593225443\n",
      "R-squared: 0.9898371593225443\n",
      "R-squared: 0.989756878689505\n",
      "R-squared: 0.989756878689505\n",
      "R-squared: 0.989756878689505\n",
      "R-squared: 0.989756878689505\n",
      "R-squared: 0.989756878689505\n",
      "R-squared: 0.989756878689505\n",
      "R-squared: 0.989756878689505\n",
      "R-squared: 0.9898243857613916\n",
      "R-squared: 0.9898243857613916\n",
      "R-squared: 0.9898243857613916\n",
      "R-squared: 0.9897441578847469\n",
      "R-squared: 0.9897441578847469\n",
      "R-squared: 0.9899858309666058\n",
      "R-squared: 0.989973301205693\n",
      "R-squared: 0.989973301205693\n",
      "R-squared: 0.989973301205693\n",
      "R-squared: 0.9898768662189286\n",
      "R-squared: 0.9898768662189286\n",
      "R-squared: 0.9898768662189286\n",
      "R-squared: 0.9898768662189286\n",
      "R-squared: 0.9898768662189286\n",
      "R-squared: 0.9899479990960937\n",
      "R-squared: 0.9899479990960937\n",
      "R-squared: 0.9898740695854493\n",
      "R-squared: 0.9901724995716598\n",
      "R-squared: 0.9902871234046902\n",
      "R-squared: 0.9902871234046902\n",
      "R-squared: 0.9902746668647606\n",
      "R-squared: 0.9902746668647606\n",
      "R-squared: 0.9902746668647606\n",
      "R-squared: 0.9900373164195729\n",
      "R-squared: 0.9900373164195729\n",
      "R-squared: 0.9900373164195729\n",
      "R-squared: 0.9900373164195729\n",
      "R-squared: 0.9900373164195729\n",
      "R-squared: 0.9900235566430945\n",
      "R-squared: 0.9900235566430945\n",
      "R-squared: 0.9903264670125811\n",
      "R-squared: 0.9900244926472549\n",
      "R-squared: 0.9900244926472549\n",
      "R-squared: 0.9900244926472549\n",
      "R-squared: 0.9898782596057855\n",
      "R-squared: 0.9898030099253579\n",
      "R-squared: 0.9898030099253579\n",
      "R-squared: 0.990230440638989\n",
      "R-squared: 0.9961363154493736\n",
      "R-squared: 0.9961363154493736\n",
      "R-squared: 0.996186967807224\n",
      "R-squared: 0.996186967807224\n",
      "R-squared: 0.9961883256151889\n",
      "R-squared: 0.9961883256151889\n",
      "R-squared: 0.9961883256151889\n",
      "R-squared: 0.9961883256151889\n",
      "R-squared: 0.9962849832275322\n",
      "R-squared: 0.9961485419573626\n",
      "R-squared: 0.9961485419573626\n",
      "R-squared: 0.9961485419573626\n",
      "R-squared: 0.9961647386718623\n",
      "R-squared: 0.9961647386718623\n",
      "R-squared: 0.9946575913002386\n",
      "R-squared: 0.996236335597331\n",
      "R-squared: 0.9961275626662089\n",
      "R-squared: 0.9961275626662089\n",
      "R-squared: 0.9961275626662089\n",
      "R-squared: 0.9961275626662089\n",
      "R-squared: 0.9962379833824767\n",
      "R-squared: 0.9962379833824767\n",
      "R-squared: 0.9937505336038905\n",
      "R-squared: 0.9964055734296168\n",
      "R-squared: 0.9964055734296168\n",
      "R-squared: 0.9964055734296168\n",
      "R-squared: 0.9961961718620557\n",
      "R-squared: 0.9961961718620557\n",
      "R-squared: 0.9961961718620557\n",
      "R-squared: 0.9961961718620557\n",
      "R-squared: 0.9963328247455847\n",
      "R-squared: 0.9963304718679239\n",
      "R-squared: 0.9962066489476186\n",
      "R-squared: 0.9962066489476186\n",
      "R-squared: 0.996199530738943\n",
      "R-squared: 0.9963712621799882\n",
      "R-squared: 0.9963712621799882\n",
      "R-squared: 0.9963751143885368\n",
      "R-squared: 0.9962562289305028\n",
      "R-squared: 0.9962562289305028\n",
      "R-squared: 0.9960998459179866\n",
      "R-squared: 0.9961333042551759\n",
      "R-squared: 0.9961333042551759\n",
      "R-squared: 0.9964545847376487\n",
      "R-squared: 0.9962049645203312\n",
      "R-squared: 0.996354713195076\n",
      "R-squared: 0.996170605443768\n",
      "R-squared: 0.9961474116855533\n",
      "R-squared: 0.9961474116855533\n",
      "R-squared: 0.9955264467082854\n",
      "R-squared: 0.9904825105898607\n",
      "R-squared: 0.9899756543842553\n",
      "R-squared: 0.9882109213144146\n",
      "R-squared: 0.9886283084085045\n",
      "R-squared: 0.9885097487670419\n",
      "R-squared: 0.9885715849351848\n",
      "R-squared: 0.9877785195921787\n",
      "R-squared: 0.9885875059331791\n",
      "R-squared: 0.9883858710890137\n",
      "R-squared: 0.9898089158063632\n",
      "R-squared: 0.9883836178099134\n",
      "R-squared: 0.9870769009666207\n",
      "R-squared: 0.9883660328624525\n",
      "R-squared: 0.9888526541001034\n",
      "R-squared: 0.9880169001041498\n",
      "R-squared: 0.9887595882885543\n",
      "R-squared: 0.9883079187323961\n",
      "R-squared: 0.988574926490944\n",
      "R-squared: 0.9886465733371352\n",
      "R-squared: 0.9883485410944741\n",
      "R-squared: 0.9952000029566895\n",
      "R-squared: 0.9882240613390059\n",
      "R-squared: 0.9886568039602914\n",
      "R-squared: 0.9877286136669134\n",
      "R-squared: 0.987976240698645\n",
      "R-squared: 0.9951910011182885\n",
      "R-squared: 0.9878848947902021\n",
      "R-squared: 0.988290394426668\n",
      "R-squared: 0.9872584660334371\n",
      "R-squared: 0.9898837751800347\n",
      "R-squared: 0.9876319692843277\n",
      "R-squared: 0.9886454748581871\n",
      "R-squared: 0.9887708348071025\n",
      "R-squared: 0.9879386601313689\n",
      "R-squared: 0.9876880600308227\n",
      "R-squared: 0.9885280717194506\n",
      "R-squared: 0.9951842746377098\n",
      "R-squared: 0.986796561639954\n",
      "R-squared: 0.9880163034097511\n",
      "R-squared: 0.9879390985764033\n",
      "R-squared: 0.9877458428433366\n",
      "R-squared: 0.9876968038817527\n",
      "R-squared: 0.9885143960609881\n",
      "R-squared: 0.987740619723559\n",
      "R-squared: 0.9871421348931702\n",
      "R-squared: 0.9880013562620219\n",
      "R-squared: 0.995140445481169\n",
      "R-squared: 0.987200875720401\n",
      "R-squared: 0.9879548955697501\n",
      "R-squared: 0.987815311431231\n",
      "R-squared: 0.9878226285582872\n",
      "R-squared: 0.9878226285582872\n",
      "R-squared: 0.9878226285582872\n",
      "R-squared: 0.9878226285582872\n",
      "R-squared: 0.9878226285582872\n",
      "R-squared: 0.9878226285582872\n",
      "R-squared: 0.9890494380580355\n",
      "R-squared: 0.9878822534203313\n",
      "R-squared: 0.9880548873849795\n",
      "R-squared: 0.9880548873849795\n",
      "R-squared: 0.9876869628894649\n",
      "R-squared: 0.9878945344047739\n",
      "R-squared: 0.9878074122400393\n",
      "R-squared: 0.9891199580930996\n",
      "R-squared: 0.9880088790108109\n",
      "R-squared: 0.9880088790108109\n",
      "R-squared: 0.9880824773693736\n",
      "R-squared: 0.9878788442287298\n",
      "R-squared: 0.9879284646455472\n",
      "R-squared: 0.9879284646455472\n",
      "R-squared: 0.9879284646455472\n",
      "R-squared: 0.9879284646455472\n",
      "R-squared: 0.9890946016262406\n",
      "R-squared: 0.9890946016262406\n",
      "R-squared: 0.9890946016262406\n",
      "R-squared: 0.9890946016262406\n",
      "R-squared: 0.9879188920965065\n",
      "R-squared: 0.9879188920965065\n",
      "R-squared: 0.9879188920965065\n",
      "R-squared: 0.9879253484913914\n",
      "R-squared: 0.9879728667023906\n",
      "R-squared: 0.9879728667023906\n",
      "R-squared: 0.9879728667023906\n",
      "R-squared: 0.9879728667023906\n",
      "R-squared: 0.988116708426462\n",
      "R-squared: 0.988116708426462\n",
      "R-squared: 0.9880984574277459\n",
      "R-squared: 0.9891405082293321\n",
      "R-squared: 0.9892004464741501\n",
      "R-squared: 0.9893184137550785\n",
      "R-squared: 0.9893184137550785\n",
      "R-squared: 0.9875554731711766\n",
      "R-squared: 0.9880017460705208\n",
      "R-squared: 0.9891140281851419\n",
      "R-squared: 0.9877830995278878\n",
      "R-squared: 0.9881861724844745\n",
      "R-squared: 0.9891530014715904\n",
      "R-squared: 0.9880789202220254\n",
      "R-squared: 0.9892572154088526\n",
      "R-squared: 0.9878075478313187\n"
     ]
    }
   ],
   "source": [
    "typeStr = None\n",
    "\n",
    "for useFixed in [True, False]: #, False\n",
    "    if useFixed:\n",
    "        typeStr = 'fixed'\n",
    "    else :\n",
    "        typeStr = 'float'\n",
    "\n",
    "    for rtn in ['rtn_3', 'rtn_4','rtn_5']:\n",
    "        df_with_proba = (\n",
    "            pd.read_pickle(f\"df_oos_with_proba_{typeStr}_{rtn}.pkl\")\n",
    "            .merge(\n",
    "                df_with_feats_ml[['code','date','weighted_price_change_p_short', 'weighted_price_change_p_mid']]\n",
    "            )\n",
    "            .dropna(subset=['weighted_price_change_p_short', 'weighted_price_change_p_mid'])\n",
    "        )\n",
    "        df_study_result = pd.read_pickle(f\"study_result_20240217_best_combi_of_thres_{typeStr}_{rtn}.pkl\")\n",
    "        # print(df_study_result.columns)\n",
    "\n",
    "        df_study_result = df_study_result.drop_duplicates(subset=['thres_for_max', 'thres_for_mean', 'thres_mean_max', 'thres_mean_mean']).sort_values(\"value\", ascending=False).head(50)\n",
    "\n",
    "        df_study_result['r_square'] = df_study_result.apply(lambda row : get_rsquare(df_with_proba, rtn, row), axis=1 )\n",
    "\n",
    "        \n",
    "        df_study_result.to_pickle(f\"study_result_add_r2_{typeStr}_{rtn}.pkl\")\n",
    "        "
   ]
  },
  {
   "cell_type": "markdown",
   "metadata": {},
   "source": [
    "#### Get Bset R2 Results"
   ]
  },
  {
   "cell_type": "code",
   "execution_count": 80,
   "metadata": {},
   "outputs": [
    {
     "name": "stdout",
     "output_type": "stream",
     "text": [
      "rtn_3_fixed\n",
      "     number       value             datetime_start          datetime_complete  \\\n",
      "144     144  132.612399 2024-02-17 17:41:17.311245 2024-02-17 17:41:26.919777   \n",
      "\n",
      "                  duration  thres_for_max  thres_for_mean  thres_mean_max  \\\n",
      "144 0 days 00:00:09.608532           0.86            0.51            0.88   \n",
      "\n",
      "     thres_mean_mean     state  r_square  \n",
      "144             0.53  COMPLETE  0.966123  \n",
      "\n",
      "\n",
      "rtn_4_fixed\n",
      "     number      value             datetime_start          datetime_complete  \\\n",
      "288     288  85.112958 2024-02-17 20:18:43.150731 2024-02-17 20:18:52.493840   \n",
      "\n",
      "                  duration  thres_for_max  thres_for_mean  thres_mean_max  \\\n",
      "288 0 days 00:00:09.343109           0.89             0.3            0.67   \n",
      "\n",
      "     thres_mean_mean     state  r_square  \n",
      "288              0.7  COMPLETE  0.991692  \n",
      "\n",
      "\n",
      "rtn_5_fixed\n",
      "     number      value             datetime_start          datetime_complete  \\\n",
      "140     140  60.045734 2024-02-17 22:04:29.963007 2024-02-17 22:04:39.535849   \n",
      "\n",
      "                  duration  thres_for_max  thres_for_mean  thres_mean_max  \\\n",
      "140 0 days 00:00:09.572842           0.85             0.3            0.83   \n",
      "\n",
      "     thres_mean_mean     state  r_square  \n",
      "140             0.34  COMPLETE  0.990326  \n",
      "\n",
      "\n",
      "rtn_3_float\n",
      "     number       value             datetime_start          datetime_complete  \\\n",
      "379     379  121.006597 2024-02-17 19:24:45.215560 2024-02-17 19:24:55.007103   \n",
      "\n",
      "                  duration  thres_for_max  thres_for_mean  thres_mean_max  \\\n",
      "379 0 days 00:00:09.791543           0.86             0.3            0.55   \n",
      "\n",
      "     thres_mean_mean     state  r_square  \n",
      "379             0.57  COMPLETE  0.996455  \n",
      "\n",
      "\n",
      "rtn_4_float\n",
      "     number       value             datetime_start          datetime_complete  \\\n",
      "225     225  134.125601 2024-02-17 21:13:10.039117 2024-02-17 21:13:19.773068   \n",
      "\n",
      "                  duration  thres_for_max  thres_for_mean  thres_mean_max  \\\n",
      "225 0 days 00:00:09.733951           0.86             0.9            0.75   \n",
      "\n",
      "     thres_mean_mean     state  r_square  \n",
      "225             0.43  COMPLETE    0.9952  \n",
      "\n",
      "\n",
      "rtn_5_float\n",
      "     number      value             datetime_start          datetime_complete  \\\n",
      "104     104  82.589792 2024-02-18 03:26:30.265811 2024-02-18 03:26:43.579467   \n",
      "\n",
      "                  duration  thres_for_max  thres_for_mean  thres_mean_max  \\\n",
      "104 0 days 00:00:13.313656            0.9            0.35            0.79   \n",
      "\n",
      "     thres_mean_mean     state  r_square  \n",
      "104             0.54  COMPLETE  0.989318  \n",
      "\n",
      "\n"
     ]
    }
   ],
   "source": [
    "l_result = []\n",
    "l_best_combi = []\n",
    "\n",
    "for typeStr in ['fixed', 'float']:\n",
    "\n",
    "    for rtn in ['rtn_3', 'rtn_4', 'rtn_5']:\n",
    "\n",
    "        print(f\"{rtn}_{typeStr}\")\n",
    "        df_with_proba = (\n",
    "            pd.read_pickle(f\"df_oos_with_proba_{typeStr}_{rtn}.pkl\")\n",
    "            .merge(\n",
    "                df_with_feats_ml[['code','date','weighted_price_change_p_short', 'weighted_price_change_p_mid']]\n",
    "            )\n",
    "        )\n",
    "        df_study_result_with_rs = pd.read_pickle(f\"study_result_add_r2_{typeStr}_{rtn}.pkl\")\n",
    "\n",
    "        pecentile_09 = df_study_result_with_rs['r_square'].quantile(0.9)\n",
    "        \n",
    "        max_row = (\n",
    "            df_study_result_with_rs.loc[lambda df : df['r_square'] >= pecentile_09]\n",
    "            .sort_values('r_square', ascending=False).head(1)\n",
    "        )\n",
    "        max_row['case'] = f\"{rtn}_{typeStr}\"\n",
    "\n",
    "        l_best_combi.append(\n",
    "            max_row\n",
    "        )\n",
    "\n",
    "        max_row = df_study_result_with_rs.sort_values('r_square', ascending=False).head(1)\n",
    "        print(max_row)\n",
    "        thres_for_max = max_row['thres_for_max'].iloc[0]\n",
    "        thres_for_mean = max_row['thres_for_mean'].iloc[0]\n",
    "        thres_mean_max = max_row['thres_mean_max'].iloc[0]\n",
    "        thres_mean_mean = max_row['thres_mean_mean'].iloc[0]\n",
    "\n",
    "        # 'thres_for_max', 'thres_for_mean', 'thres_mean_max', 'thres_mean_mean',\n",
    "\n",
    "\n",
    "        sr_final = get_df_rtn_result(df_with_proba, thres_for_max, thres_for_mean, thres_mean_max, thres_mean_mean, rtn)\n",
    "        sr_final.name = f\"{rtn}_{typeStr}\"\n",
    "        \n",
    "        l_result.append(\n",
    "            sr_final.rename({'rtn_p': f\"{rtn}_{typeStr}\"})\n",
    "        )\n",
    "        print('\\n')"
   ]
  },
  {
   "cell_type": "code",
   "execution_count": 81,
   "metadata": {},
   "outputs": [
    {
     "data": {
      "text/html": [
       "<div>\n",
       "<style scoped>\n",
       "    .dataframe tbody tr th:only-of-type {\n",
       "        vertical-align: middle;\n",
       "    }\n",
       "\n",
       "    .dataframe tbody tr th {\n",
       "        vertical-align: top;\n",
       "    }\n",
       "\n",
       "    .dataframe thead th {\n",
       "        text-align: right;\n",
       "    }\n",
       "</style>\n",
       "<table border=\"1\" class=\"dataframe\">\n",
       "  <thead>\n",
       "    <tr style=\"text-align: right;\">\n",
       "      <th></th>\n",
       "      <th>number</th>\n",
       "      <th>value</th>\n",
       "      <th>datetime_start</th>\n",
       "      <th>datetime_complete</th>\n",
       "      <th>duration</th>\n",
       "      <th>thres_for_max</th>\n",
       "      <th>thres_for_mean</th>\n",
       "      <th>thres_mean_max</th>\n",
       "      <th>thres_mean_mean</th>\n",
       "      <th>state</th>\n",
       "      <th>r_square</th>\n",
       "      <th>case</th>\n",
       "    </tr>\n",
       "  </thead>\n",
       "  <tbody>\n",
       "    <tr>\n",
       "      <th>144</th>\n",
       "      <td>144</td>\n",
       "      <td>132.612399</td>\n",
       "      <td>2024-02-17 17:41:17.311245</td>\n",
       "      <td>2024-02-17 17:41:26.919777</td>\n",
       "      <td>0 days 00:00:09.608532</td>\n",
       "      <td>0.86</td>\n",
       "      <td>0.51</td>\n",
       "      <td>0.88</td>\n",
       "      <td>0.53</td>\n",
       "      <td>COMPLETE</td>\n",
       "      <td>0.966123</td>\n",
       "      <td>rtn_3_fixed</td>\n",
       "    </tr>\n",
       "    <tr>\n",
       "      <th>288</th>\n",
       "      <td>288</td>\n",
       "      <td>85.112958</td>\n",
       "      <td>2024-02-17 20:18:43.150731</td>\n",
       "      <td>2024-02-17 20:18:52.493840</td>\n",
       "      <td>0 days 00:00:09.343109</td>\n",
       "      <td>0.89</td>\n",
       "      <td>0.30</td>\n",
       "      <td>0.67</td>\n",
       "      <td>0.70</td>\n",
       "      <td>COMPLETE</td>\n",
       "      <td>0.991692</td>\n",
       "      <td>rtn_4_fixed</td>\n",
       "    </tr>\n",
       "    <tr>\n",
       "      <th>140</th>\n",
       "      <td>140</td>\n",
       "      <td>60.045734</td>\n",
       "      <td>2024-02-17 22:04:29.963007</td>\n",
       "      <td>2024-02-17 22:04:39.535849</td>\n",
       "      <td>0 days 00:00:09.572842</td>\n",
       "      <td>0.85</td>\n",
       "      <td>0.30</td>\n",
       "      <td>0.83</td>\n",
       "      <td>0.34</td>\n",
       "      <td>COMPLETE</td>\n",
       "      <td>0.990326</td>\n",
       "      <td>rtn_5_fixed</td>\n",
       "    </tr>\n",
       "    <tr>\n",
       "      <th>379</th>\n",
       "      <td>379</td>\n",
       "      <td>121.006597</td>\n",
       "      <td>2024-02-17 19:24:45.215560</td>\n",
       "      <td>2024-02-17 19:24:55.007103</td>\n",
       "      <td>0 days 00:00:09.791543</td>\n",
       "      <td>0.86</td>\n",
       "      <td>0.30</td>\n",
       "      <td>0.55</td>\n",
       "      <td>0.57</td>\n",
       "      <td>COMPLETE</td>\n",
       "      <td>0.996455</td>\n",
       "      <td>rtn_3_float</td>\n",
       "    </tr>\n",
       "    <tr>\n",
       "      <th>225</th>\n",
       "      <td>225</td>\n",
       "      <td>134.125601</td>\n",
       "      <td>2024-02-17 21:13:10.039117</td>\n",
       "      <td>2024-02-17 21:13:19.773068</td>\n",
       "      <td>0 days 00:00:09.733951</td>\n",
       "      <td>0.86</td>\n",
       "      <td>0.90</td>\n",
       "      <td>0.75</td>\n",
       "      <td>0.43</td>\n",
       "      <td>COMPLETE</td>\n",
       "      <td>0.995200</td>\n",
       "      <td>rtn_4_float</td>\n",
       "    </tr>\n",
       "    <tr>\n",
       "      <th>224</th>\n",
       "      <td>224</td>\n",
       "      <td>82.589792</td>\n",
       "      <td>2024-02-18 05:50:58.912852</td>\n",
       "      <td>2024-02-18 05:51:12.680491</td>\n",
       "      <td>0 days 00:00:13.767639</td>\n",
       "      <td>0.90</td>\n",
       "      <td>0.35</td>\n",
       "      <td>0.79</td>\n",
       "      <td>0.64</td>\n",
       "      <td>COMPLETE</td>\n",
       "      <td>0.989318</td>\n",
       "      <td>rtn_5_float</td>\n",
       "    </tr>\n",
       "  </tbody>\n",
       "</table>\n",
       "</div>"
      ],
      "text/plain": [
       "     number       value             datetime_start          datetime_complete  \\\n",
       "144     144  132.612399 2024-02-17 17:41:17.311245 2024-02-17 17:41:26.919777   \n",
       "288     288   85.112958 2024-02-17 20:18:43.150731 2024-02-17 20:18:52.493840   \n",
       "140     140   60.045734 2024-02-17 22:04:29.963007 2024-02-17 22:04:39.535849   \n",
       "379     379  121.006597 2024-02-17 19:24:45.215560 2024-02-17 19:24:55.007103   \n",
       "225     225  134.125601 2024-02-17 21:13:10.039117 2024-02-17 21:13:19.773068   \n",
       "224     224   82.589792 2024-02-18 05:50:58.912852 2024-02-18 05:51:12.680491   \n",
       "\n",
       "                  duration  thres_for_max  thres_for_mean  thres_mean_max  \\\n",
       "144 0 days 00:00:09.608532           0.86            0.51            0.88   \n",
       "288 0 days 00:00:09.343109           0.89            0.30            0.67   \n",
       "140 0 days 00:00:09.572842           0.85            0.30            0.83   \n",
       "379 0 days 00:00:09.791543           0.86            0.30            0.55   \n",
       "225 0 days 00:00:09.733951           0.86            0.90            0.75   \n",
       "224 0 days 00:00:13.767639           0.90            0.35            0.79   \n",
       "\n",
       "     thres_mean_mean     state  r_square         case  \n",
       "144             0.53  COMPLETE  0.966123  rtn_3_fixed  \n",
       "288             0.70  COMPLETE  0.991692  rtn_4_fixed  \n",
       "140             0.34  COMPLETE  0.990326  rtn_5_fixed  \n",
       "379             0.57  COMPLETE  0.996455  rtn_3_float  \n",
       "225             0.43  COMPLETE  0.995200  rtn_4_float  \n",
       "224             0.64  COMPLETE  0.989318  rtn_5_float  "
      ]
     },
     "execution_count": 81,
     "metadata": {},
     "output_type": "execute_result"
    }
   ],
   "source": [
    "pd.concat(l_best_combi)"
   ]
  },
  {
   "cell_type": "code",
   "execution_count": 43,
   "metadata": {},
   "outputs": [],
   "source": [
    "df_result_opt = pd.concat(l_result, axis=1)"
   ]
  },
  {
   "cell_type": "code",
   "execution_count": 44,
   "metadata": {},
   "outputs": [],
   "source": [
    "df_result_opt.to_pickle(\"df_oos_opt_result_applied.pkl\")"
   ]
  },
  {
   "cell_type": "code",
   "execution_count": 65,
   "metadata": {},
   "outputs": [
    {
     "data": {
      "application/vnd.plotly.v1+json": {
       "config": {
        "plotlyServerURL": "https://plot.ly"
       },
       "data": [
        {
         "hovertemplate": "variable=rtn_3_fixed<br>date=%{x}<br>value=%{y}<extra></extra>",
         "legendgroup": "rtn_3_fixed",
         "marker": {
          "color": "#636efa",
          "symbol": "circle"
         },
         "mode": "markers",
         "name": "rtn_3_fixed",
         "orientation": "v",
         "showlegend": true,
         "type": "scatter",
         "x": [
          "2015-11-26",
          "2015-12-23",
          "2016-01-22",
          "2016-02-23",
          "2016-03-22",
          "2016-04-19",
          "2016-05-18",
          "2016-06-15",
          "2016-07-12",
          "2016-08-08",
          "2016-09-05",
          "2016-10-06",
          "2016-11-02",
          "2016-11-29",
          "2016-12-26",
          "2017-01-23",
          "2017-02-21",
          "2017-03-21",
          "2017-04-17",
          "2017-05-18",
          "2017-06-15",
          "2017-07-12",
          "2017-08-08",
          "2017-09-05",
          "2017-10-10",
          "2017-11-06",
          "2017-12-01",
          "2018-01-02",
          "2018-01-29",
          "2018-02-27",
          "2018-03-27",
          "2018-04-23",
          "2018-05-23",
          "2018-06-21",
          "2018-07-18",
          "2018-08-14",
          "2018-09-11",
          "2018-10-15",
          "2018-11-09",
          "2018-12-06",
          "2019-01-07",
          "2019-02-01",
          "2019-03-06",
          "2019-04-02",
          "2019-04-29",
          "2019-05-28",
          "2019-06-25",
          "2019-07-22",
          "2019-08-19",
          "2019-09-17",
          "2019-10-16",
          "2019-11-12",
          "2019-12-09",
          "2020-01-08",
          "2020-02-06",
          "2020-03-04",
          "2020-03-31",
          "2020-04-28",
          "2020-05-28",
          "2020-06-24",
          "2020-07-21",
          "2020-08-18",
          "2020-09-14",
          "2020-10-15",
          "2020-11-11",
          "2020-12-08",
          "2021-01-07",
          "2021-02-03",
          "2021-03-05",
          "2021-04-01",
          "2021-04-28",
          "2021-05-27",
          "2021-06-23",
          "2021-07-20",
          "2021-08-17",
          "2021-09-13",
          "2021-10-15",
          "2021-11-11",
          "2021-12-08",
          "2022-01-05",
          "2022-02-04",
          "2022-03-04",
          "2022-04-01",
          "2022-04-28",
          "2022-05-26",
          "2022-06-24",
          "2022-07-21",
          "2022-08-18",
          "2022-09-16",
          "2022-10-17",
          "2022-11-11",
          "2022-12-08",
          "2023-01-05",
          "2023-02-03",
          "2023-03-03",
          "2023-03-30",
          "2023-04-26",
          "2023-05-25",
          "2023-06-23",
          "2023-07-20",
          "2023-08-17",
          "2023-09-13",
          "2023-09-19"
         ],
         "xaxis": "x",
         "y": [
          -0.042858770566167194,
          0.15937064606495174,
          0.20417016749999323,
          0.3251020174148695,
          0.36361175568782533,
          0.35535354055780166,
          0.4023476989412249,
          0.6019171636892686,
          0.6500156303697581,
          0.699755990639724,
          0.6865178017232485,
          0.8401518344395336,
          0.75106651381365,
          0.7236486100621,
          0.7752305892733506,
          1.00380952668286,
          0.9834474905101634,
          1.056208344579733,
          1.1434621473181756,
          1.122903160972595,
          1.1817891938675444,
          1.228597882157506,
          1.2930155268012529,
          1.2603956983389926,
          1.269795244368858,
          1.3202818505659115,
          1.3418053619747912,
          1.4516179112272625,
          1.5905435144349231,
          1.6450144673119707,
          1.6784030012648954,
          1.7905381214684029,
          1.7907072532395996,
          1.797649512255114,
          1.8661805310889286,
          1.8183824977965493,
          1.9652316928627933,
          1.9466377684375005,
          1.9239133882537887,
          2.0206466282545463,
          2.0108439797681776,
          2.1963774901595703,
          2.1967227355583434,
          2.1627871900241016,
          2.169998111547524,
          2.152569723928035,
          2.175536062605231,
          2.1567575680201254,
          2.141574899447357,
          2.196145937113817,
          2.30345236716338,
          2.393252260610567,
          2.6555557143848367,
          2.698516537267266,
          2.6565986959731203,
          2.6165107279978934,
          2.5581366911732677,
          2.6728530566220896,
          2.6917267072061515,
          2.65581976994608,
          2.705321747480348,
          2.631228080971654,
          2.758613536977189,
          2.762976046297657,
          2.7523279721059617,
          2.7452173169375587,
          2.8336880067159345,
          2.9100530219106853,
          2.9740740659674096,
          3.0965033944177964,
          3.0301283964346375,
          3.0452317626991854,
          3.178651393967904,
          3.1913499304264463,
          3.0629208422571295,
          3.135115978084181,
          3.187255048724462,
          3.2260094570271223,
          3.3117824792054513,
          3.9705088590262276,
          4.012752465857713,
          4.095682019492171,
          4.230936618195346,
          4.181152253769965,
          4.304814521304657,
          4.2063476775784,
          4.336940714187698,
          4.414478762881659,
          4.428513528364095,
          4.719742154187964,
          4.897411245834424,
          4.939127301795642,
          5.028269855344856,
          5.028269855344856,
          5.028269855344856,
          5.029659982905791,
          5.075875886829077,
          5.051264207330824,
          5.133887627332704,
          5.343727716593647,
          5.322415160121673,
          5.42485781357831,
          5.42485781357831
         ],
         "yaxis": "y"
        }
       ],
       "layout": {
        "legend": {
         "title": {
          "text": "variable"
         },
         "tracegroupgap": 0
        },
        "margin": {
         "t": 60
        },
        "template": {
         "data": {
          "bar": [
           {
            "error_x": {
             "color": "#2a3f5f"
            },
            "error_y": {
             "color": "#2a3f5f"
            },
            "marker": {
             "line": {
              "color": "#E5ECF6",
              "width": 0.5
             },
             "pattern": {
              "fillmode": "overlay",
              "size": 10,
              "solidity": 0.2
             }
            },
            "type": "bar"
           }
          ],
          "barpolar": [
           {
            "marker": {
             "line": {
              "color": "#E5ECF6",
              "width": 0.5
             },
             "pattern": {
              "fillmode": "overlay",
              "size": 10,
              "solidity": 0.2
             }
            },
            "type": "barpolar"
           }
          ],
          "carpet": [
           {
            "aaxis": {
             "endlinecolor": "#2a3f5f",
             "gridcolor": "white",
             "linecolor": "white",
             "minorgridcolor": "white",
             "startlinecolor": "#2a3f5f"
            },
            "baxis": {
             "endlinecolor": "#2a3f5f",
             "gridcolor": "white",
             "linecolor": "white",
             "minorgridcolor": "white",
             "startlinecolor": "#2a3f5f"
            },
            "type": "carpet"
           }
          ],
          "choropleth": [
           {
            "colorbar": {
             "outlinewidth": 0,
             "ticks": ""
            },
            "type": "choropleth"
           }
          ],
          "contour": [
           {
            "colorbar": {
             "outlinewidth": 0,
             "ticks": ""
            },
            "colorscale": [
             [
              0,
              "#0d0887"
             ],
             [
              0.1111111111111111,
              "#46039f"
             ],
             [
              0.2222222222222222,
              "#7201a8"
             ],
             [
              0.3333333333333333,
              "#9c179e"
             ],
             [
              0.4444444444444444,
              "#bd3786"
             ],
             [
              0.5555555555555556,
              "#d8576b"
             ],
             [
              0.6666666666666666,
              "#ed7953"
             ],
             [
              0.7777777777777778,
              "#fb9f3a"
             ],
             [
              0.8888888888888888,
              "#fdca26"
             ],
             [
              1,
              "#f0f921"
             ]
            ],
            "type": "contour"
           }
          ],
          "contourcarpet": [
           {
            "colorbar": {
             "outlinewidth": 0,
             "ticks": ""
            },
            "type": "contourcarpet"
           }
          ],
          "heatmap": [
           {
            "colorbar": {
             "outlinewidth": 0,
             "ticks": ""
            },
            "colorscale": [
             [
              0,
              "#0d0887"
             ],
             [
              0.1111111111111111,
              "#46039f"
             ],
             [
              0.2222222222222222,
              "#7201a8"
             ],
             [
              0.3333333333333333,
              "#9c179e"
             ],
             [
              0.4444444444444444,
              "#bd3786"
             ],
             [
              0.5555555555555556,
              "#d8576b"
             ],
             [
              0.6666666666666666,
              "#ed7953"
             ],
             [
              0.7777777777777778,
              "#fb9f3a"
             ],
             [
              0.8888888888888888,
              "#fdca26"
             ],
             [
              1,
              "#f0f921"
             ]
            ],
            "type": "heatmap"
           }
          ],
          "heatmapgl": [
           {
            "colorbar": {
             "outlinewidth": 0,
             "ticks": ""
            },
            "colorscale": [
             [
              0,
              "#0d0887"
             ],
             [
              0.1111111111111111,
              "#46039f"
             ],
             [
              0.2222222222222222,
              "#7201a8"
             ],
             [
              0.3333333333333333,
              "#9c179e"
             ],
             [
              0.4444444444444444,
              "#bd3786"
             ],
             [
              0.5555555555555556,
              "#d8576b"
             ],
             [
              0.6666666666666666,
              "#ed7953"
             ],
             [
              0.7777777777777778,
              "#fb9f3a"
             ],
             [
              0.8888888888888888,
              "#fdca26"
             ],
             [
              1,
              "#f0f921"
             ]
            ],
            "type": "heatmapgl"
           }
          ],
          "histogram": [
           {
            "marker": {
             "pattern": {
              "fillmode": "overlay",
              "size": 10,
              "solidity": 0.2
             }
            },
            "type": "histogram"
           }
          ],
          "histogram2d": [
           {
            "colorbar": {
             "outlinewidth": 0,
             "ticks": ""
            },
            "colorscale": [
             [
              0,
              "#0d0887"
             ],
             [
              0.1111111111111111,
              "#46039f"
             ],
             [
              0.2222222222222222,
              "#7201a8"
             ],
             [
              0.3333333333333333,
              "#9c179e"
             ],
             [
              0.4444444444444444,
              "#bd3786"
             ],
             [
              0.5555555555555556,
              "#d8576b"
             ],
             [
              0.6666666666666666,
              "#ed7953"
             ],
             [
              0.7777777777777778,
              "#fb9f3a"
             ],
             [
              0.8888888888888888,
              "#fdca26"
             ],
             [
              1,
              "#f0f921"
             ]
            ],
            "type": "histogram2d"
           }
          ],
          "histogram2dcontour": [
           {
            "colorbar": {
             "outlinewidth": 0,
             "ticks": ""
            },
            "colorscale": [
             [
              0,
              "#0d0887"
             ],
             [
              0.1111111111111111,
              "#46039f"
             ],
             [
              0.2222222222222222,
              "#7201a8"
             ],
             [
              0.3333333333333333,
              "#9c179e"
             ],
             [
              0.4444444444444444,
              "#bd3786"
             ],
             [
              0.5555555555555556,
              "#d8576b"
             ],
             [
              0.6666666666666666,
              "#ed7953"
             ],
             [
              0.7777777777777778,
              "#fb9f3a"
             ],
             [
              0.8888888888888888,
              "#fdca26"
             ],
             [
              1,
              "#f0f921"
             ]
            ],
            "type": "histogram2dcontour"
           }
          ],
          "mesh3d": [
           {
            "colorbar": {
             "outlinewidth": 0,
             "ticks": ""
            },
            "type": "mesh3d"
           }
          ],
          "parcoords": [
           {
            "line": {
             "colorbar": {
              "outlinewidth": 0,
              "ticks": ""
             }
            },
            "type": "parcoords"
           }
          ],
          "pie": [
           {
            "automargin": true,
            "type": "pie"
           }
          ],
          "scatter": [
           {
            "fillpattern": {
             "fillmode": "overlay",
             "size": 10,
             "solidity": 0.2
            },
            "type": "scatter"
           }
          ],
          "scatter3d": [
           {
            "line": {
             "colorbar": {
              "outlinewidth": 0,
              "ticks": ""
             }
            },
            "marker": {
             "colorbar": {
              "outlinewidth": 0,
              "ticks": ""
             }
            },
            "type": "scatter3d"
           }
          ],
          "scattercarpet": [
           {
            "marker": {
             "colorbar": {
              "outlinewidth": 0,
              "ticks": ""
             }
            },
            "type": "scattercarpet"
           }
          ],
          "scattergeo": [
           {
            "marker": {
             "colorbar": {
              "outlinewidth": 0,
              "ticks": ""
             }
            },
            "type": "scattergeo"
           }
          ],
          "scattergl": [
           {
            "marker": {
             "colorbar": {
              "outlinewidth": 0,
              "ticks": ""
             }
            },
            "type": "scattergl"
           }
          ],
          "scattermapbox": [
           {
            "marker": {
             "colorbar": {
              "outlinewidth": 0,
              "ticks": ""
             }
            },
            "type": "scattermapbox"
           }
          ],
          "scatterpolar": [
           {
            "marker": {
             "colorbar": {
              "outlinewidth": 0,
              "ticks": ""
             }
            },
            "type": "scatterpolar"
           }
          ],
          "scatterpolargl": [
           {
            "marker": {
             "colorbar": {
              "outlinewidth": 0,
              "ticks": ""
             }
            },
            "type": "scatterpolargl"
           }
          ],
          "scatterternary": [
           {
            "marker": {
             "colorbar": {
              "outlinewidth": 0,
              "ticks": ""
             }
            },
            "type": "scatterternary"
           }
          ],
          "surface": [
           {
            "colorbar": {
             "outlinewidth": 0,
             "ticks": ""
            },
            "colorscale": [
             [
              0,
              "#0d0887"
             ],
             [
              0.1111111111111111,
              "#46039f"
             ],
             [
              0.2222222222222222,
              "#7201a8"
             ],
             [
              0.3333333333333333,
              "#9c179e"
             ],
             [
              0.4444444444444444,
              "#bd3786"
             ],
             [
              0.5555555555555556,
              "#d8576b"
             ],
             [
              0.6666666666666666,
              "#ed7953"
             ],
             [
              0.7777777777777778,
              "#fb9f3a"
             ],
             [
              0.8888888888888888,
              "#fdca26"
             ],
             [
              1,
              "#f0f921"
             ]
            ],
            "type": "surface"
           }
          ],
          "table": [
           {
            "cells": {
             "fill": {
              "color": "#EBF0F8"
             },
             "line": {
              "color": "white"
             }
            },
            "header": {
             "fill": {
              "color": "#C8D4E3"
             },
             "line": {
              "color": "white"
             }
            },
            "type": "table"
           }
          ]
         },
         "layout": {
          "annotationdefaults": {
           "arrowcolor": "#2a3f5f",
           "arrowhead": 0,
           "arrowwidth": 1
          },
          "autotypenumbers": "strict",
          "coloraxis": {
           "colorbar": {
            "outlinewidth": 0,
            "ticks": ""
           }
          },
          "colorscale": {
           "diverging": [
            [
             0,
             "#8e0152"
            ],
            [
             0.1,
             "#c51b7d"
            ],
            [
             0.2,
             "#de77ae"
            ],
            [
             0.3,
             "#f1b6da"
            ],
            [
             0.4,
             "#fde0ef"
            ],
            [
             0.5,
             "#f7f7f7"
            ],
            [
             0.6,
             "#e6f5d0"
            ],
            [
             0.7,
             "#b8e186"
            ],
            [
             0.8,
             "#7fbc41"
            ],
            [
             0.9,
             "#4d9221"
            ],
            [
             1,
             "#276419"
            ]
           ],
           "sequential": [
            [
             0,
             "#0d0887"
            ],
            [
             0.1111111111111111,
             "#46039f"
            ],
            [
             0.2222222222222222,
             "#7201a8"
            ],
            [
             0.3333333333333333,
             "#9c179e"
            ],
            [
             0.4444444444444444,
             "#bd3786"
            ],
            [
             0.5555555555555556,
             "#d8576b"
            ],
            [
             0.6666666666666666,
             "#ed7953"
            ],
            [
             0.7777777777777778,
             "#fb9f3a"
            ],
            [
             0.8888888888888888,
             "#fdca26"
            ],
            [
             1,
             "#f0f921"
            ]
           ],
           "sequentialminus": [
            [
             0,
             "#0d0887"
            ],
            [
             0.1111111111111111,
             "#46039f"
            ],
            [
             0.2222222222222222,
             "#7201a8"
            ],
            [
             0.3333333333333333,
             "#9c179e"
            ],
            [
             0.4444444444444444,
             "#bd3786"
            ],
            [
             0.5555555555555556,
             "#d8576b"
            ],
            [
             0.6666666666666666,
             "#ed7953"
            ],
            [
             0.7777777777777778,
             "#fb9f3a"
            ],
            [
             0.8888888888888888,
             "#fdca26"
            ],
            [
             1,
             "#f0f921"
            ]
           ]
          },
          "colorway": [
           "#636efa",
           "#EF553B",
           "#00cc96",
           "#ab63fa",
           "#FFA15A",
           "#19d3f3",
           "#FF6692",
           "#B6E880",
           "#FF97FF",
           "#FECB52"
          ],
          "font": {
           "color": "#2a3f5f"
          },
          "geo": {
           "bgcolor": "white",
           "lakecolor": "white",
           "landcolor": "#E5ECF6",
           "showlakes": true,
           "showland": true,
           "subunitcolor": "white"
          },
          "hoverlabel": {
           "align": "left"
          },
          "hovermode": "closest",
          "mapbox": {
           "style": "light"
          },
          "paper_bgcolor": "white",
          "plot_bgcolor": "#E5ECF6",
          "polar": {
           "angularaxis": {
            "gridcolor": "white",
            "linecolor": "white",
            "ticks": ""
           },
           "bgcolor": "#E5ECF6",
           "radialaxis": {
            "gridcolor": "white",
            "linecolor": "white",
            "ticks": ""
           }
          },
          "scene": {
           "xaxis": {
            "backgroundcolor": "#E5ECF6",
            "gridcolor": "white",
            "gridwidth": 2,
            "linecolor": "white",
            "showbackground": true,
            "ticks": "",
            "zerolinecolor": "white"
           },
           "yaxis": {
            "backgroundcolor": "#E5ECF6",
            "gridcolor": "white",
            "gridwidth": 2,
            "linecolor": "white",
            "showbackground": true,
            "ticks": "",
            "zerolinecolor": "white"
           },
           "zaxis": {
            "backgroundcolor": "#E5ECF6",
            "gridcolor": "white",
            "gridwidth": 2,
            "linecolor": "white",
            "showbackground": true,
            "ticks": "",
            "zerolinecolor": "white"
           }
          },
          "shapedefaults": {
           "line": {
            "color": "#2a3f5f"
           }
          },
          "ternary": {
           "aaxis": {
            "gridcolor": "white",
            "linecolor": "white",
            "ticks": ""
           },
           "baxis": {
            "gridcolor": "white",
            "linecolor": "white",
            "ticks": ""
           },
           "bgcolor": "#E5ECF6",
           "caxis": {
            "gridcolor": "white",
            "linecolor": "white",
            "ticks": ""
           }
          },
          "title": {
           "x": 0.05
          },
          "xaxis": {
           "automargin": true,
           "gridcolor": "white",
           "linecolor": "white",
           "ticks": "",
           "title": {
            "standoff": 15
           },
           "zerolinecolor": "white",
           "zerolinewidth": 2
          },
          "yaxis": {
           "automargin": true,
           "gridcolor": "white",
           "linecolor": "white",
           "ticks": "",
           "title": {
            "standoff": 15
           },
           "zerolinecolor": "white",
           "zerolinewidth": 2
          }
         }
        },
        "xaxis": {
         "anchor": "y",
         "domain": [
          0,
          1
         ],
         "title": {
          "text": "date"
         }
        },
        "yaxis": {
         "anchor": "x",
         "domain": [
          0,
          1
         ],
         "title": {
          "text": "value"
         }
        }
       }
      }
     },
     "metadata": {},
     "output_type": "display_data"
    }
   ],
   "source": [
    "(\n",
    "    df_result_opt['rtn_3_fixed']\n",
    "    # + 1\n",
    ").cumsum().plot(kind='scatter')"
   ]
  },
  {
   "cell_type": "code",
   "execution_count": 68,
   "metadata": {},
   "outputs": [
    {
     "data": {
      "application/vnd.plotly.v1+json": {
       "config": {
        "plotlyServerURL": "https://plot.ly"
       },
       "data": [
        {
         "hovertemplate": "variable=rtn_3_float<br>date=%{x}<br>value=%{y}<extra></extra>",
         "legendgroup": "rtn_3_float",
         "marker": {
          "color": "#636efa",
          "symbol": "circle"
         },
         "mode": "markers",
         "name": "rtn_3_float",
         "orientation": "v",
         "showlegend": true,
         "type": "scatter",
         "x": [
          "2015-11-26",
          "2015-12-23",
          "2016-01-22",
          "2016-02-23",
          "2016-03-22",
          "2016-04-19",
          "2016-05-18",
          "2016-06-15",
          "2016-07-12",
          "2016-08-08",
          "2016-09-05",
          "2016-10-06",
          "2016-11-02",
          "2016-11-29",
          "2016-12-26",
          "2017-01-23",
          "2017-02-21",
          "2017-03-21",
          "2017-04-17",
          "2017-05-18",
          "2017-06-15",
          "2017-07-12",
          "2017-08-08",
          "2017-09-05",
          "2017-10-10",
          "2017-11-06",
          "2017-12-01",
          "2018-01-02",
          "2018-01-29",
          "2018-02-27",
          "2018-03-27",
          "2018-04-23",
          "2018-05-23",
          "2018-06-21",
          "2018-07-18",
          "2018-08-14",
          "2018-09-11",
          "2018-10-15",
          "2018-11-09",
          "2018-12-06",
          "2019-01-07",
          "2019-02-01",
          "2019-03-06",
          "2019-04-02",
          "2019-04-29",
          "2019-05-28",
          "2019-06-25",
          "2019-07-22",
          "2019-08-19",
          "2019-09-17",
          "2019-10-16",
          "2019-11-12",
          "2019-12-09",
          "2020-01-08",
          "2020-02-06",
          "2020-03-04",
          "2020-03-31",
          "2020-04-28",
          "2020-05-28",
          "2020-06-24",
          "2020-07-21",
          "2020-08-18",
          "2020-09-14",
          "2020-10-15",
          "2020-11-11",
          "2020-12-08",
          "2021-01-07",
          "2021-02-03",
          "2021-03-05",
          "2021-04-01",
          "2021-04-28",
          "2021-05-27",
          "2021-06-23",
          "2021-07-20",
          "2021-08-17",
          "2021-09-13",
          "2021-10-15",
          "2021-11-11",
          "2021-12-08",
          "2022-01-05",
          "2022-02-04",
          "2022-03-04",
          "2022-04-01",
          "2022-04-28",
          "2022-05-26",
          "2022-06-24",
          "2022-07-21",
          "2022-08-18",
          "2022-09-16",
          "2022-10-17",
          "2022-11-11",
          "2022-12-08",
          "2023-01-05",
          "2023-02-03",
          "2023-03-03",
          "2023-03-30",
          "2023-04-26",
          "2023-05-25",
          "2023-06-23",
          "2023-07-20",
          "2023-08-17",
          "2023-09-13",
          "2023-09-19"
         ],
         "xaxis": "x",
         "y": [
          1.0114765341478584,
          1.2243532612730486,
          1.2681469889677421,
          1.3711063327301578,
          1.518339902492029,
          1.7921738621616021,
          1.6752509528667707,
          1.8525335482227174,
          1.924850193833865,
          1.9678842638542116,
          1.9559550701180042,
          2.21043417896617,
          2.067875504745054,
          2.1789126838297364,
          2.3689239393216055,
          2.6493294147073083,
          2.5069338457466075,
          2.6013864873306494,
          2.8731789149808495,
          2.8390850569944175,
          3.0345600167586606,
          3.1282393483671793,
          3.344781401950728,
          3.3592423709810544,
          3.416778612865433,
          3.680064354916912,
          4.111066525816651,
          4.047014409637918,
          4.390853356657501,
          4.666187342341745,
          4.536325984797078,
          5.257784139678525,
          6.137572500209807,
          6.109412728816644,
          6.482322135338172,
          6.3750593982362105,
          7.0783533150253755,
          6.559861962936988,
          6.834490473578718,
          7.360297744596331,
          7.857671838307364,
          9.39204341693741,
          10.2020139568403,
          10.37929097650305,
          10.09042105435831,
          9.688024428987978,
          9.971944529555381,
          10.217533215992527,
          9.596172624331029,
          10.513935962615601,
          11.87987386795096,
          12.670883753328322,
          15.167631232253413,
          16.758158775940807,
          16.957595276899216,
          16.27415725594316,
          14.828967234582718,
          17.80938336108471,
          18.11162495183344,
          17.180176952848747,
          17.977894251599487,
          18.524212027175384,
          22.10754039167273,
          23.1546661365987,
          23.223127797220048,
          22.892495036722554,
          25.124203959019443,
          26.19957922856793,
          26.76600512456175,
          28.956538346000794,
          28.2529276670099,
          29.809738402194778,
          35.05142467973223,
          33.87397015716278,
          31.34834931250444,
          32.960355492410564,
          33.5544694392678,
          36.399591794068016,
          38.79074812891593,
          48.5996748886784,
          54.04087074352716,
          57.58752907276755,
          64.5796800626013,
          59.78606180392388,
          66.29725030010746,
          59.77362609398624,
          65.68432587000288,
          66.66464659688543,
          65.69228258110962,
          74.94617042518023,
          83.7537419787082,
          83.86341744971189,
          93.03861217257824,
          93.03861217257824,
          93.03861217257824,
          92.94747007122862,
          99.93598400258333,
          98.53420528932108,
          100.35067074128344,
          108.66179032790761,
          114.88666978277737,
          121.00659690942217,
          121.00659690942217
         ],
         "yaxis": "y"
        }
       ],
       "layout": {
        "legend": {
         "title": {
          "text": "variable"
         },
         "tracegroupgap": 0
        },
        "margin": {
         "t": 60
        },
        "template": {
         "data": {
          "bar": [
           {
            "error_x": {
             "color": "#2a3f5f"
            },
            "error_y": {
             "color": "#2a3f5f"
            },
            "marker": {
             "line": {
              "color": "#E5ECF6",
              "width": 0.5
             },
             "pattern": {
              "fillmode": "overlay",
              "size": 10,
              "solidity": 0.2
             }
            },
            "type": "bar"
           }
          ],
          "barpolar": [
           {
            "marker": {
             "line": {
              "color": "#E5ECF6",
              "width": 0.5
             },
             "pattern": {
              "fillmode": "overlay",
              "size": 10,
              "solidity": 0.2
             }
            },
            "type": "barpolar"
           }
          ],
          "carpet": [
           {
            "aaxis": {
             "endlinecolor": "#2a3f5f",
             "gridcolor": "white",
             "linecolor": "white",
             "minorgridcolor": "white",
             "startlinecolor": "#2a3f5f"
            },
            "baxis": {
             "endlinecolor": "#2a3f5f",
             "gridcolor": "white",
             "linecolor": "white",
             "minorgridcolor": "white",
             "startlinecolor": "#2a3f5f"
            },
            "type": "carpet"
           }
          ],
          "choropleth": [
           {
            "colorbar": {
             "outlinewidth": 0,
             "ticks": ""
            },
            "type": "choropleth"
           }
          ],
          "contour": [
           {
            "colorbar": {
             "outlinewidth": 0,
             "ticks": ""
            },
            "colorscale": [
             [
              0,
              "#0d0887"
             ],
             [
              0.1111111111111111,
              "#46039f"
             ],
             [
              0.2222222222222222,
              "#7201a8"
             ],
             [
              0.3333333333333333,
              "#9c179e"
             ],
             [
              0.4444444444444444,
              "#bd3786"
             ],
             [
              0.5555555555555556,
              "#d8576b"
             ],
             [
              0.6666666666666666,
              "#ed7953"
             ],
             [
              0.7777777777777778,
              "#fb9f3a"
             ],
             [
              0.8888888888888888,
              "#fdca26"
             ],
             [
              1,
              "#f0f921"
             ]
            ],
            "type": "contour"
           }
          ],
          "contourcarpet": [
           {
            "colorbar": {
             "outlinewidth": 0,
             "ticks": ""
            },
            "type": "contourcarpet"
           }
          ],
          "heatmap": [
           {
            "colorbar": {
             "outlinewidth": 0,
             "ticks": ""
            },
            "colorscale": [
             [
              0,
              "#0d0887"
             ],
             [
              0.1111111111111111,
              "#46039f"
             ],
             [
              0.2222222222222222,
              "#7201a8"
             ],
             [
              0.3333333333333333,
              "#9c179e"
             ],
             [
              0.4444444444444444,
              "#bd3786"
             ],
             [
              0.5555555555555556,
              "#d8576b"
             ],
             [
              0.6666666666666666,
              "#ed7953"
             ],
             [
              0.7777777777777778,
              "#fb9f3a"
             ],
             [
              0.8888888888888888,
              "#fdca26"
             ],
             [
              1,
              "#f0f921"
             ]
            ],
            "type": "heatmap"
           }
          ],
          "heatmapgl": [
           {
            "colorbar": {
             "outlinewidth": 0,
             "ticks": ""
            },
            "colorscale": [
             [
              0,
              "#0d0887"
             ],
             [
              0.1111111111111111,
              "#46039f"
             ],
             [
              0.2222222222222222,
              "#7201a8"
             ],
             [
              0.3333333333333333,
              "#9c179e"
             ],
             [
              0.4444444444444444,
              "#bd3786"
             ],
             [
              0.5555555555555556,
              "#d8576b"
             ],
             [
              0.6666666666666666,
              "#ed7953"
             ],
             [
              0.7777777777777778,
              "#fb9f3a"
             ],
             [
              0.8888888888888888,
              "#fdca26"
             ],
             [
              1,
              "#f0f921"
             ]
            ],
            "type": "heatmapgl"
           }
          ],
          "histogram": [
           {
            "marker": {
             "pattern": {
              "fillmode": "overlay",
              "size": 10,
              "solidity": 0.2
             }
            },
            "type": "histogram"
           }
          ],
          "histogram2d": [
           {
            "colorbar": {
             "outlinewidth": 0,
             "ticks": ""
            },
            "colorscale": [
             [
              0,
              "#0d0887"
             ],
             [
              0.1111111111111111,
              "#46039f"
             ],
             [
              0.2222222222222222,
              "#7201a8"
             ],
             [
              0.3333333333333333,
              "#9c179e"
             ],
             [
              0.4444444444444444,
              "#bd3786"
             ],
             [
              0.5555555555555556,
              "#d8576b"
             ],
             [
              0.6666666666666666,
              "#ed7953"
             ],
             [
              0.7777777777777778,
              "#fb9f3a"
             ],
             [
              0.8888888888888888,
              "#fdca26"
             ],
             [
              1,
              "#f0f921"
             ]
            ],
            "type": "histogram2d"
           }
          ],
          "histogram2dcontour": [
           {
            "colorbar": {
             "outlinewidth": 0,
             "ticks": ""
            },
            "colorscale": [
             [
              0,
              "#0d0887"
             ],
             [
              0.1111111111111111,
              "#46039f"
             ],
             [
              0.2222222222222222,
              "#7201a8"
             ],
             [
              0.3333333333333333,
              "#9c179e"
             ],
             [
              0.4444444444444444,
              "#bd3786"
             ],
             [
              0.5555555555555556,
              "#d8576b"
             ],
             [
              0.6666666666666666,
              "#ed7953"
             ],
             [
              0.7777777777777778,
              "#fb9f3a"
             ],
             [
              0.8888888888888888,
              "#fdca26"
             ],
             [
              1,
              "#f0f921"
             ]
            ],
            "type": "histogram2dcontour"
           }
          ],
          "mesh3d": [
           {
            "colorbar": {
             "outlinewidth": 0,
             "ticks": ""
            },
            "type": "mesh3d"
           }
          ],
          "parcoords": [
           {
            "line": {
             "colorbar": {
              "outlinewidth": 0,
              "ticks": ""
             }
            },
            "type": "parcoords"
           }
          ],
          "pie": [
           {
            "automargin": true,
            "type": "pie"
           }
          ],
          "scatter": [
           {
            "fillpattern": {
             "fillmode": "overlay",
             "size": 10,
             "solidity": 0.2
            },
            "type": "scatter"
           }
          ],
          "scatter3d": [
           {
            "line": {
             "colorbar": {
              "outlinewidth": 0,
              "ticks": ""
             }
            },
            "marker": {
             "colorbar": {
              "outlinewidth": 0,
              "ticks": ""
             }
            },
            "type": "scatter3d"
           }
          ],
          "scattercarpet": [
           {
            "marker": {
             "colorbar": {
              "outlinewidth": 0,
              "ticks": ""
             }
            },
            "type": "scattercarpet"
           }
          ],
          "scattergeo": [
           {
            "marker": {
             "colorbar": {
              "outlinewidth": 0,
              "ticks": ""
             }
            },
            "type": "scattergeo"
           }
          ],
          "scattergl": [
           {
            "marker": {
             "colorbar": {
              "outlinewidth": 0,
              "ticks": ""
             }
            },
            "type": "scattergl"
           }
          ],
          "scattermapbox": [
           {
            "marker": {
             "colorbar": {
              "outlinewidth": 0,
              "ticks": ""
             }
            },
            "type": "scattermapbox"
           }
          ],
          "scatterpolar": [
           {
            "marker": {
             "colorbar": {
              "outlinewidth": 0,
              "ticks": ""
             }
            },
            "type": "scatterpolar"
           }
          ],
          "scatterpolargl": [
           {
            "marker": {
             "colorbar": {
              "outlinewidth": 0,
              "ticks": ""
             }
            },
            "type": "scatterpolargl"
           }
          ],
          "scatterternary": [
           {
            "marker": {
             "colorbar": {
              "outlinewidth": 0,
              "ticks": ""
             }
            },
            "type": "scatterternary"
           }
          ],
          "surface": [
           {
            "colorbar": {
             "outlinewidth": 0,
             "ticks": ""
            },
            "colorscale": [
             [
              0,
              "#0d0887"
             ],
             [
              0.1111111111111111,
              "#46039f"
             ],
             [
              0.2222222222222222,
              "#7201a8"
             ],
             [
              0.3333333333333333,
              "#9c179e"
             ],
             [
              0.4444444444444444,
              "#bd3786"
             ],
             [
              0.5555555555555556,
              "#d8576b"
             ],
             [
              0.6666666666666666,
              "#ed7953"
             ],
             [
              0.7777777777777778,
              "#fb9f3a"
             ],
             [
              0.8888888888888888,
              "#fdca26"
             ],
             [
              1,
              "#f0f921"
             ]
            ],
            "type": "surface"
           }
          ],
          "table": [
           {
            "cells": {
             "fill": {
              "color": "#EBF0F8"
             },
             "line": {
              "color": "white"
             }
            },
            "header": {
             "fill": {
              "color": "#C8D4E3"
             },
             "line": {
              "color": "white"
             }
            },
            "type": "table"
           }
          ]
         },
         "layout": {
          "annotationdefaults": {
           "arrowcolor": "#2a3f5f",
           "arrowhead": 0,
           "arrowwidth": 1
          },
          "autotypenumbers": "strict",
          "coloraxis": {
           "colorbar": {
            "outlinewidth": 0,
            "ticks": ""
           }
          },
          "colorscale": {
           "diverging": [
            [
             0,
             "#8e0152"
            ],
            [
             0.1,
             "#c51b7d"
            ],
            [
             0.2,
             "#de77ae"
            ],
            [
             0.3,
             "#f1b6da"
            ],
            [
             0.4,
             "#fde0ef"
            ],
            [
             0.5,
             "#f7f7f7"
            ],
            [
             0.6,
             "#e6f5d0"
            ],
            [
             0.7,
             "#b8e186"
            ],
            [
             0.8,
             "#7fbc41"
            ],
            [
             0.9,
             "#4d9221"
            ],
            [
             1,
             "#276419"
            ]
           ],
           "sequential": [
            [
             0,
             "#0d0887"
            ],
            [
             0.1111111111111111,
             "#46039f"
            ],
            [
             0.2222222222222222,
             "#7201a8"
            ],
            [
             0.3333333333333333,
             "#9c179e"
            ],
            [
             0.4444444444444444,
             "#bd3786"
            ],
            [
             0.5555555555555556,
             "#d8576b"
            ],
            [
             0.6666666666666666,
             "#ed7953"
            ],
            [
             0.7777777777777778,
             "#fb9f3a"
            ],
            [
             0.8888888888888888,
             "#fdca26"
            ],
            [
             1,
             "#f0f921"
            ]
           ],
           "sequentialminus": [
            [
             0,
             "#0d0887"
            ],
            [
             0.1111111111111111,
             "#46039f"
            ],
            [
             0.2222222222222222,
             "#7201a8"
            ],
            [
             0.3333333333333333,
             "#9c179e"
            ],
            [
             0.4444444444444444,
             "#bd3786"
            ],
            [
             0.5555555555555556,
             "#d8576b"
            ],
            [
             0.6666666666666666,
             "#ed7953"
            ],
            [
             0.7777777777777778,
             "#fb9f3a"
            ],
            [
             0.8888888888888888,
             "#fdca26"
            ],
            [
             1,
             "#f0f921"
            ]
           ]
          },
          "colorway": [
           "#636efa",
           "#EF553B",
           "#00cc96",
           "#ab63fa",
           "#FFA15A",
           "#19d3f3",
           "#FF6692",
           "#B6E880",
           "#FF97FF",
           "#FECB52"
          ],
          "font": {
           "color": "#2a3f5f"
          },
          "geo": {
           "bgcolor": "white",
           "lakecolor": "white",
           "landcolor": "#E5ECF6",
           "showlakes": true,
           "showland": true,
           "subunitcolor": "white"
          },
          "hoverlabel": {
           "align": "left"
          },
          "hovermode": "closest",
          "mapbox": {
           "style": "light"
          },
          "paper_bgcolor": "white",
          "plot_bgcolor": "#E5ECF6",
          "polar": {
           "angularaxis": {
            "gridcolor": "white",
            "linecolor": "white",
            "ticks": ""
           },
           "bgcolor": "#E5ECF6",
           "radialaxis": {
            "gridcolor": "white",
            "linecolor": "white",
            "ticks": ""
           }
          },
          "scene": {
           "xaxis": {
            "backgroundcolor": "#E5ECF6",
            "gridcolor": "white",
            "gridwidth": 2,
            "linecolor": "white",
            "showbackground": true,
            "ticks": "",
            "zerolinecolor": "white"
           },
           "yaxis": {
            "backgroundcolor": "#E5ECF6",
            "gridcolor": "white",
            "gridwidth": 2,
            "linecolor": "white",
            "showbackground": true,
            "ticks": "",
            "zerolinecolor": "white"
           },
           "zaxis": {
            "backgroundcolor": "#E5ECF6",
            "gridcolor": "white",
            "gridwidth": 2,
            "linecolor": "white",
            "showbackground": true,
            "ticks": "",
            "zerolinecolor": "white"
           }
          },
          "shapedefaults": {
           "line": {
            "color": "#2a3f5f"
           }
          },
          "ternary": {
           "aaxis": {
            "gridcolor": "white",
            "linecolor": "white",
            "ticks": ""
           },
           "baxis": {
            "gridcolor": "white",
            "linecolor": "white",
            "ticks": ""
           },
           "bgcolor": "#E5ECF6",
           "caxis": {
            "gridcolor": "white",
            "linecolor": "white",
            "ticks": ""
           }
          },
          "title": {
           "x": 0.05
          },
          "xaxis": {
           "automargin": true,
           "gridcolor": "white",
           "linecolor": "white",
           "ticks": "",
           "title": {
            "standoff": 15
           },
           "zerolinecolor": "white",
           "zerolinewidth": 2
          },
          "yaxis": {
           "automargin": true,
           "gridcolor": "white",
           "linecolor": "white",
           "ticks": "",
           "title": {
            "standoff": 15
           },
           "zerolinecolor": "white",
           "zerolinewidth": 2
          }
         }
        },
        "xaxis": {
         "anchor": "y",
         "domain": [
          0,
          1
         ],
         "title": {
          "text": "date"
         }
        },
        "yaxis": {
         "anchor": "x",
         "domain": [
          0,
          1
         ],
         "title": {
          "text": "value"
         }
        }
       }
      }
     },
     "metadata": {},
     "output_type": "display_data"
    }
   ],
   "source": [
    "(\n",
    "    df_result_opt['rtn_3_float']\n",
    "    + 1\n",
    ").cumprod().plot(kind='scatter')"
   ]
  },
  {
   "cell_type": "code",
   "execution_count": 49,
   "metadata": {},
   "outputs": [
    {
     "data": {
      "application/vnd.plotly.v1+json": {
       "config": {
        "plotlyServerURL": "https://plot.ly"
       },
       "data": [
        {
         "mode": "markers",
         "name": "Simple",
         "type": "scatter",
         "x": [
          "2015-11-26",
          "2015-12-23",
          "2016-01-22",
          "2016-02-23",
          "2016-03-22",
          "2016-04-19",
          "2016-05-18",
          "2016-06-15",
          "2016-07-12",
          "2016-08-08",
          "2016-09-05",
          "2016-10-06",
          "2016-11-02",
          "2016-11-29",
          "2016-12-26",
          "2017-01-23",
          "2017-02-21",
          "2017-03-21",
          "2017-04-17",
          "2017-05-18",
          "2017-06-15",
          "2017-07-12",
          "2017-08-08",
          "2017-09-05",
          "2017-10-10",
          "2017-11-06",
          "2017-12-01",
          "2018-01-02",
          "2018-01-29",
          "2018-02-27",
          "2018-03-27",
          "2018-04-23",
          "2018-05-23",
          "2018-06-21",
          "2018-07-18",
          "2018-08-14",
          "2018-09-11",
          "2018-10-15",
          "2018-11-09",
          "2018-12-06",
          "2019-01-07",
          "2019-02-01",
          "2019-03-06",
          "2019-04-02",
          "2019-04-29",
          "2019-05-28",
          "2019-06-25",
          "2019-07-22",
          "2019-08-19",
          "2019-09-17",
          "2019-10-16",
          "2019-11-12",
          "2019-12-09",
          "2020-01-08",
          "2020-02-06",
          "2020-03-04",
          "2020-03-31",
          "2020-04-28",
          "2020-05-28",
          "2020-06-24",
          "2020-07-21",
          "2020-08-18",
          "2020-09-14",
          "2020-10-15",
          "2020-11-11",
          "2020-12-08",
          "2021-01-07",
          "2021-02-03",
          "2021-03-05",
          "2021-04-01",
          "2021-04-28",
          "2021-05-27",
          "2021-06-23",
          "2021-07-20",
          "2021-08-17",
          "2021-09-13",
          "2021-10-15",
          "2021-11-11",
          "2021-12-08",
          "2022-01-05",
          "2022-02-04",
          "2022-03-04",
          "2022-04-01",
          "2022-04-28",
          "2022-05-26",
          "2022-06-24",
          "2022-07-21",
          "2022-08-18",
          "2022-09-16",
          "2022-10-17",
          "2022-11-11",
          "2022-12-08",
          "2023-01-05",
          "2023-02-03",
          "2023-03-03",
          "2023-03-30",
          "2023-04-26",
          "2023-05-25",
          "2023-06-23",
          "2023-07-20",
          "2023-08-17",
          "2023-09-13",
          "2023-09-19"
         ],
         "xaxis": "x",
         "y": [
          0.0339623783342982,
          0.23617428470337298,
          0.26228538166916,
          0.36535473345781855,
          0.4616332848246354,
          0.5743678477538552,
          0.5153109361409756,
          0.6461097939269654,
          0.6806661235207898,
          0.7242154285614478,
          0.7172306389952788,
          0.8402471226640937,
          0.7721140281924922,
          0.8022339892917634,
          0.891682531242292,
          0.9993872896703073,
          0.9812600679046429,
          1.034103231974074,
          1.133380986623742,
          1.1441885422733122,
          1.2423620366193706,
          1.2612502348687125,
          1.3607373889396277,
          1.341249788912964,
          1.3573453414488033,
          1.4222588788300927,
          1.5120245209816536,
          1.5391164606459258,
          1.624877810023322,
          1.677862898207018,
          1.6875691869034275,
          1.833838540069412,
          1.921072458620722,
          1.9211782943552138,
          2.0019548750632903,
          1.9919909987663118,
          2.0813054796290973,
          1.996144312308446,
          2.0519236615122805,
          2.1213520504029395,
          2.1819588407267845,
          2.356495149173948,
          2.4045464775939998,
          2.4132348120940663,
          2.4034732590370487,
          2.3939999239188205,
          2.4230053651427603,
          2.4799412669335648,
          2.4699427352978485,
          2.5702038450878755,
          2.694038124240688,
          2.7724405129249963,
          2.9414965763759717,
          3.0541900977095864,
          3.0224354531682422,
          2.964562788786733,
          2.9168006345091015,
          3.106409856472643,
          3.1148953156438224,
          3.097791679331216,
          3.123162177267469,
          3.1357081901413157,
          3.270548953510324,
          3.2819859675099843,
          3.276374517291504,
          3.273406914394149,
          3.4071019618834724,
          3.4444884274226277,
          3.486522541150038,
          3.52688535039041,
          3.502549630218258,
          3.599838805352846,
          3.8037499336553133,
          3.7977745360750723,
          3.721329123996493,
          3.7678017206434165,
          3.8315186430996553,
          3.9133291243112405,
          3.9579478141506046,
          4.234930236066397,
          4.333674816515284,
          4.396484671017625,
          4.507995423934177,
          4.463239038076283,
          4.544418606656928,
          4.4376625271651555,
          4.522677822655902,
          4.532059855689146,
          4.533497838133821,
          4.666474368663355,
          4.787419834942633,
          4.78275374229345,
          4.880657889755697,
          4.880657889755697,
          4.880657889755697,
          4.886346809627732,
          4.998805586909504,
          4.990441089647774,
          5.036104902810403,
          5.102397700594313,
          5.143413162118521,
          5.207264516572468,
          5.207264516572468
         ],
         "yaxis": "y"
        },
        {
         "mode": "markers",
         "name": "Complex",
         "type": "scatter",
         "x": [
          "2015-11-26",
          "2015-12-23",
          "2016-01-22",
          "2016-02-23",
          "2016-03-22",
          "2016-04-19",
          "2016-05-18",
          "2016-06-15",
          "2016-07-12",
          "2016-08-08",
          "2016-09-05",
          "2016-10-06",
          "2016-11-02",
          "2016-11-29",
          "2016-12-26",
          "2017-01-23",
          "2017-02-21",
          "2017-03-21",
          "2017-04-17",
          "2017-05-18",
          "2017-06-15",
          "2017-07-12",
          "2017-08-08",
          "2017-09-05",
          "2017-10-10",
          "2017-11-06",
          "2017-12-01",
          "2018-01-02",
          "2018-01-29",
          "2018-02-27",
          "2018-03-27",
          "2018-04-23",
          "2018-05-23",
          "2018-06-21",
          "2018-07-18",
          "2018-08-14",
          "2018-09-11",
          "2018-10-15",
          "2018-11-09",
          "2018-12-06",
          "2019-01-07",
          "2019-02-01",
          "2019-03-06",
          "2019-04-02",
          "2019-04-29",
          "2019-05-28",
          "2019-06-25",
          "2019-07-22",
          "2019-08-19",
          "2019-09-17",
          "2019-10-16",
          "2019-11-12",
          "2019-12-09",
          "2020-01-08",
          "2020-02-06",
          "2020-03-04",
          "2020-03-31",
          "2020-04-28",
          "2020-05-28",
          "2020-06-24",
          "2020-07-21",
          "2020-08-18",
          "2020-09-14",
          "2020-10-15",
          "2020-11-11",
          "2020-12-08",
          "2021-01-07",
          "2021-02-03",
          "2021-03-05",
          "2021-04-01",
          "2021-04-28",
          "2021-05-27",
          "2021-06-23",
          "2021-07-20",
          "2021-08-17",
          "2021-09-13",
          "2021-10-15",
          "2021-11-11",
          "2021-12-08",
          "2022-01-05",
          "2022-02-04",
          "2022-03-04",
          "2022-04-01",
          "2022-04-28",
          "2022-05-26",
          "2022-06-24",
          "2022-07-21",
          "2022-08-18",
          "2022-09-16",
          "2022-10-17",
          "2022-11-11",
          "2022-12-08",
          "2023-01-05",
          "2023-02-03",
          "2023-03-03",
          "2023-03-30",
          "2023-04-26",
          "2023-05-25",
          "2023-06-23",
          "2023-07-20",
          "2023-08-17",
          "2023-09-13",
          "2023-09-19"
         ],
         "xaxis": "x2",
         "y": [
          1.0339623783342982,
          1.2430418819711793,
          1.275499069083863,
          1.4069639313413742,
          1.5424243804762834,
          1.7163089188606497,
          1.6149490147390995,
          1.8261825012495836,
          1.8892886656612387,
          1.971565874071978,
          1.9577949013257452,
          2.1986359458315725,
          2.0488360752255708,
          2.1105469381101485,
          2.299332284442254,
          2.5469813126838434,
          2.5008116175958204,
          2.6329624162111758,
          2.894357012969586,
          2.9256379374569788,
          3.2128580369685253,
          3.273543136517778,
          3.5992186268983093,
          3.529078493888797,
          3.5858809621902847,
          3.818653180074278,
          4.161437034937745,
          4.274178436004946,
          4.6407377461565,
          4.886627644874008,
          4.9340586635470105,
          5.6557602327470535,
          6.149134360236248,
          6.149785158387752,
          6.646543775571591,
          6.580318435589343,
          7.168036160575823,
          6.557597833744547,
          6.923376373251291,
          7.404055240529782,
          7.8527912640387365,
          9.223388462270194,
          9.666584530416456,
          9.750571050289883,
          9.65539033364626,
          9.563921585318328,
          9.841327350731646,
          10.401652198264058,
          10.297650949695996,
          11.330104862142841,
          12.733160230472075,
          13.73147040804112,
          16.052858740618117,
          17.86191191956947,
          17.294713255734745,
          16.293822119911173,
          15.51559407404769,
          18.45749379473001,
          18.614114104727488,
          18.29574506679888,
          18.759917229258313,
          18.99527939232889,
          21.556617365998104,
          21.803160700598355,
          21.680813349721422,
          21.61647330520778,
          24.50648873029923,
          25.42269972670026,
          26.491320378270174,
          27.56058448922388,
          26.889877817313177,
          29.50597184962942,
          35.522567861148204,
          35.31030639510676,
          32.61099547211193,
          34.12651311094204,
          36.300949500533754,
          39.27074764760987,
          41.02295695665852,
          52.38559492866108,
          57.558388521457054,
          61.17362252987898,
          67.99513923681874,
          64.95192254867447,
          70.22469159965932,
          62.727778840960895,
          68.0605994946034,
          68.6991462873241,
          68.79793445364942,
          77.94644508489404,
          87.37371423049868,
          86.96602038479598,
          95.48035446875382,
          95.48035446875382,
          95.48035446875382,
          96.02353455468,
          106.8222238409733,
          105.92870964216362,
          110.76581844782174,
          118.10879445155244,
          122.95308116605068,
          130.80380193278907,
          130.80380193278907
         ],
         "yaxis": "y2"
        }
       ],
       "layout": {
        "height": 400,
        "template": {
         "data": {
          "bar": [
           {
            "error_x": {
             "color": "#2a3f5f"
            },
            "error_y": {
             "color": "#2a3f5f"
            },
            "marker": {
             "line": {
              "color": "#E5ECF6",
              "width": 0.5
             },
             "pattern": {
              "fillmode": "overlay",
              "size": 10,
              "solidity": 0.2
             }
            },
            "type": "bar"
           }
          ],
          "barpolar": [
           {
            "marker": {
             "line": {
              "color": "#E5ECF6",
              "width": 0.5
             },
             "pattern": {
              "fillmode": "overlay",
              "size": 10,
              "solidity": 0.2
             }
            },
            "type": "barpolar"
           }
          ],
          "carpet": [
           {
            "aaxis": {
             "endlinecolor": "#2a3f5f",
             "gridcolor": "white",
             "linecolor": "white",
             "minorgridcolor": "white",
             "startlinecolor": "#2a3f5f"
            },
            "baxis": {
             "endlinecolor": "#2a3f5f",
             "gridcolor": "white",
             "linecolor": "white",
             "minorgridcolor": "white",
             "startlinecolor": "#2a3f5f"
            },
            "type": "carpet"
           }
          ],
          "choropleth": [
           {
            "colorbar": {
             "outlinewidth": 0,
             "ticks": ""
            },
            "type": "choropleth"
           }
          ],
          "contour": [
           {
            "colorbar": {
             "outlinewidth": 0,
             "ticks": ""
            },
            "colorscale": [
             [
              0,
              "#0d0887"
             ],
             [
              0.1111111111111111,
              "#46039f"
             ],
             [
              0.2222222222222222,
              "#7201a8"
             ],
             [
              0.3333333333333333,
              "#9c179e"
             ],
             [
              0.4444444444444444,
              "#bd3786"
             ],
             [
              0.5555555555555556,
              "#d8576b"
             ],
             [
              0.6666666666666666,
              "#ed7953"
             ],
             [
              0.7777777777777778,
              "#fb9f3a"
             ],
             [
              0.8888888888888888,
              "#fdca26"
             ],
             [
              1,
              "#f0f921"
             ]
            ],
            "type": "contour"
           }
          ],
          "contourcarpet": [
           {
            "colorbar": {
             "outlinewidth": 0,
             "ticks": ""
            },
            "type": "contourcarpet"
           }
          ],
          "heatmap": [
           {
            "colorbar": {
             "outlinewidth": 0,
             "ticks": ""
            },
            "colorscale": [
             [
              0,
              "#0d0887"
             ],
             [
              0.1111111111111111,
              "#46039f"
             ],
             [
              0.2222222222222222,
              "#7201a8"
             ],
             [
              0.3333333333333333,
              "#9c179e"
             ],
             [
              0.4444444444444444,
              "#bd3786"
             ],
             [
              0.5555555555555556,
              "#d8576b"
             ],
             [
              0.6666666666666666,
              "#ed7953"
             ],
             [
              0.7777777777777778,
              "#fb9f3a"
             ],
             [
              0.8888888888888888,
              "#fdca26"
             ],
             [
              1,
              "#f0f921"
             ]
            ],
            "type": "heatmap"
           }
          ],
          "heatmapgl": [
           {
            "colorbar": {
             "outlinewidth": 0,
             "ticks": ""
            },
            "colorscale": [
             [
              0,
              "#0d0887"
             ],
             [
              0.1111111111111111,
              "#46039f"
             ],
             [
              0.2222222222222222,
              "#7201a8"
             ],
             [
              0.3333333333333333,
              "#9c179e"
             ],
             [
              0.4444444444444444,
              "#bd3786"
             ],
             [
              0.5555555555555556,
              "#d8576b"
             ],
             [
              0.6666666666666666,
              "#ed7953"
             ],
             [
              0.7777777777777778,
              "#fb9f3a"
             ],
             [
              0.8888888888888888,
              "#fdca26"
             ],
             [
              1,
              "#f0f921"
             ]
            ],
            "type": "heatmapgl"
           }
          ],
          "histogram": [
           {
            "marker": {
             "pattern": {
              "fillmode": "overlay",
              "size": 10,
              "solidity": 0.2
             }
            },
            "type": "histogram"
           }
          ],
          "histogram2d": [
           {
            "colorbar": {
             "outlinewidth": 0,
             "ticks": ""
            },
            "colorscale": [
             [
              0,
              "#0d0887"
             ],
             [
              0.1111111111111111,
              "#46039f"
             ],
             [
              0.2222222222222222,
              "#7201a8"
             ],
             [
              0.3333333333333333,
              "#9c179e"
             ],
             [
              0.4444444444444444,
              "#bd3786"
             ],
             [
              0.5555555555555556,
              "#d8576b"
             ],
             [
              0.6666666666666666,
              "#ed7953"
             ],
             [
              0.7777777777777778,
              "#fb9f3a"
             ],
             [
              0.8888888888888888,
              "#fdca26"
             ],
             [
              1,
              "#f0f921"
             ]
            ],
            "type": "histogram2d"
           }
          ],
          "histogram2dcontour": [
           {
            "colorbar": {
             "outlinewidth": 0,
             "ticks": ""
            },
            "colorscale": [
             [
              0,
              "#0d0887"
             ],
             [
              0.1111111111111111,
              "#46039f"
             ],
             [
              0.2222222222222222,
              "#7201a8"
             ],
             [
              0.3333333333333333,
              "#9c179e"
             ],
             [
              0.4444444444444444,
              "#bd3786"
             ],
             [
              0.5555555555555556,
              "#d8576b"
             ],
             [
              0.6666666666666666,
              "#ed7953"
             ],
             [
              0.7777777777777778,
              "#fb9f3a"
             ],
             [
              0.8888888888888888,
              "#fdca26"
             ],
             [
              1,
              "#f0f921"
             ]
            ],
            "type": "histogram2dcontour"
           }
          ],
          "mesh3d": [
           {
            "colorbar": {
             "outlinewidth": 0,
             "ticks": ""
            },
            "type": "mesh3d"
           }
          ],
          "parcoords": [
           {
            "line": {
             "colorbar": {
              "outlinewidth": 0,
              "ticks": ""
             }
            },
            "type": "parcoords"
           }
          ],
          "pie": [
           {
            "automargin": true,
            "type": "pie"
           }
          ],
          "scatter": [
           {
            "fillpattern": {
             "fillmode": "overlay",
             "size": 10,
             "solidity": 0.2
            },
            "type": "scatter"
           }
          ],
          "scatter3d": [
           {
            "line": {
             "colorbar": {
              "outlinewidth": 0,
              "ticks": ""
             }
            },
            "marker": {
             "colorbar": {
              "outlinewidth": 0,
              "ticks": ""
             }
            },
            "type": "scatter3d"
           }
          ],
          "scattercarpet": [
           {
            "marker": {
             "colorbar": {
              "outlinewidth": 0,
              "ticks": ""
             }
            },
            "type": "scattercarpet"
           }
          ],
          "scattergeo": [
           {
            "marker": {
             "colorbar": {
              "outlinewidth": 0,
              "ticks": ""
             }
            },
            "type": "scattergeo"
           }
          ],
          "scattergl": [
           {
            "marker": {
             "colorbar": {
              "outlinewidth": 0,
              "ticks": ""
             }
            },
            "type": "scattergl"
           }
          ],
          "scattermapbox": [
           {
            "marker": {
             "colorbar": {
              "outlinewidth": 0,
              "ticks": ""
             }
            },
            "type": "scattermapbox"
           }
          ],
          "scatterpolar": [
           {
            "marker": {
             "colorbar": {
              "outlinewidth": 0,
              "ticks": ""
             }
            },
            "type": "scatterpolar"
           }
          ],
          "scatterpolargl": [
           {
            "marker": {
             "colorbar": {
              "outlinewidth": 0,
              "ticks": ""
             }
            },
            "type": "scatterpolargl"
           }
          ],
          "scatterternary": [
           {
            "marker": {
             "colorbar": {
              "outlinewidth": 0,
              "ticks": ""
             }
            },
            "type": "scatterternary"
           }
          ],
          "surface": [
           {
            "colorbar": {
             "outlinewidth": 0,
             "ticks": ""
            },
            "colorscale": [
             [
              0,
              "#0d0887"
             ],
             [
              0.1111111111111111,
              "#46039f"
             ],
             [
              0.2222222222222222,
              "#7201a8"
             ],
             [
              0.3333333333333333,
              "#9c179e"
             ],
             [
              0.4444444444444444,
              "#bd3786"
             ],
             [
              0.5555555555555556,
              "#d8576b"
             ],
             [
              0.6666666666666666,
              "#ed7953"
             ],
             [
              0.7777777777777778,
              "#fb9f3a"
             ],
             [
              0.8888888888888888,
              "#fdca26"
             ],
             [
              1,
              "#f0f921"
             ]
            ],
            "type": "surface"
           }
          ],
          "table": [
           {
            "cells": {
             "fill": {
              "color": "#EBF0F8"
             },
             "line": {
              "color": "white"
             }
            },
            "header": {
             "fill": {
              "color": "#C8D4E3"
             },
             "line": {
              "color": "white"
             }
            },
            "type": "table"
           }
          ]
         },
         "layout": {
          "annotationdefaults": {
           "arrowcolor": "#2a3f5f",
           "arrowhead": 0,
           "arrowwidth": 1
          },
          "autotypenumbers": "strict",
          "coloraxis": {
           "colorbar": {
            "outlinewidth": 0,
            "ticks": ""
           }
          },
          "colorscale": {
           "diverging": [
            [
             0,
             "#8e0152"
            ],
            [
             0.1,
             "#c51b7d"
            ],
            [
             0.2,
             "#de77ae"
            ],
            [
             0.3,
             "#f1b6da"
            ],
            [
             0.4,
             "#fde0ef"
            ],
            [
             0.5,
             "#f7f7f7"
            ],
            [
             0.6,
             "#e6f5d0"
            ],
            [
             0.7,
             "#b8e186"
            ],
            [
             0.8,
             "#7fbc41"
            ],
            [
             0.9,
             "#4d9221"
            ],
            [
             1,
             "#276419"
            ]
           ],
           "sequential": [
            [
             0,
             "#0d0887"
            ],
            [
             0.1111111111111111,
             "#46039f"
            ],
            [
             0.2222222222222222,
             "#7201a8"
            ],
            [
             0.3333333333333333,
             "#9c179e"
            ],
            [
             0.4444444444444444,
             "#bd3786"
            ],
            [
             0.5555555555555556,
             "#d8576b"
            ],
            [
             0.6666666666666666,
             "#ed7953"
            ],
            [
             0.7777777777777778,
             "#fb9f3a"
            ],
            [
             0.8888888888888888,
             "#fdca26"
            ],
            [
             1,
             "#f0f921"
            ]
           ],
           "sequentialminus": [
            [
             0,
             "#0d0887"
            ],
            [
             0.1111111111111111,
             "#46039f"
            ],
            [
             0.2222222222222222,
             "#7201a8"
            ],
            [
             0.3333333333333333,
             "#9c179e"
            ],
            [
             0.4444444444444444,
             "#bd3786"
            ],
            [
             0.5555555555555556,
             "#d8576b"
            ],
            [
             0.6666666666666666,
             "#ed7953"
            ],
            [
             0.7777777777777778,
             "#fb9f3a"
            ],
            [
             0.8888888888888888,
             "#fdca26"
            ],
            [
             1,
             "#f0f921"
            ]
           ]
          },
          "colorway": [
           "#636efa",
           "#EF553B",
           "#00cc96",
           "#ab63fa",
           "#FFA15A",
           "#19d3f3",
           "#FF6692",
           "#B6E880",
           "#FF97FF",
           "#FECB52"
          ],
          "font": {
           "color": "#2a3f5f"
          },
          "geo": {
           "bgcolor": "white",
           "lakecolor": "white",
           "landcolor": "#E5ECF6",
           "showlakes": true,
           "showland": true,
           "subunitcolor": "white"
          },
          "hoverlabel": {
           "align": "left"
          },
          "hovermode": "closest",
          "mapbox": {
           "style": "light"
          },
          "paper_bgcolor": "white",
          "plot_bgcolor": "#E5ECF6",
          "polar": {
           "angularaxis": {
            "gridcolor": "white",
            "linecolor": "white",
            "ticks": ""
           },
           "bgcolor": "#E5ECF6",
           "radialaxis": {
            "gridcolor": "white",
            "linecolor": "white",
            "ticks": ""
           }
          },
          "scene": {
           "xaxis": {
            "backgroundcolor": "#E5ECF6",
            "gridcolor": "white",
            "gridwidth": 2,
            "linecolor": "white",
            "showbackground": true,
            "ticks": "",
            "zerolinecolor": "white"
           },
           "yaxis": {
            "backgroundcolor": "#E5ECF6",
            "gridcolor": "white",
            "gridwidth": 2,
            "linecolor": "white",
            "showbackground": true,
            "ticks": "",
            "zerolinecolor": "white"
           },
           "zaxis": {
            "backgroundcolor": "#E5ECF6",
            "gridcolor": "white",
            "gridwidth": 2,
            "linecolor": "white",
            "showbackground": true,
            "ticks": "",
            "zerolinecolor": "white"
           }
          },
          "shapedefaults": {
           "line": {
            "color": "#2a3f5f"
           }
          },
          "ternary": {
           "aaxis": {
            "gridcolor": "white",
            "linecolor": "white",
            "ticks": ""
           },
           "baxis": {
            "gridcolor": "white",
            "linecolor": "white",
            "ticks": ""
           },
           "bgcolor": "#E5ECF6",
           "caxis": {
            "gridcolor": "white",
            "linecolor": "white",
            "ticks": ""
           }
          },
          "title": {
           "x": 0.05
          },
          "xaxis": {
           "automargin": true,
           "gridcolor": "white",
           "linecolor": "white",
           "ticks": "",
           "title": {
            "standoff": 15
           },
           "zerolinecolor": "white",
           "zerolinewidth": 2
          },
          "yaxis": {
           "automargin": true,
           "gridcolor": "white",
           "linecolor": "white",
           "ticks": "",
           "title": {
            "standoff": 15
           },
           "zerolinecolor": "white",
           "zerolinewidth": 2
          }
         }
        },
        "width": 800,
        "xaxis": {
         "anchor": "y",
         "domain": [
          0,
          0.45
         ]
        },
        "xaxis2": {
         "anchor": "y2",
         "domain": [
          0.55,
          1
         ]
        },
        "yaxis": {
         "anchor": "x",
         "domain": [
          0,
          1
         ]
        },
        "yaxis2": {
         "anchor": "x2",
         "domain": [
          0,
          1
         ]
        }
       }
      }
     },
     "metadata": {},
     "output_type": "display_data"
    }
   ],
   "source": [
    "import plotly.graph_objects as go\n",
    "from plotly.subplots import make_subplots\n",
    "\n",
    "x = df_result_opt.index\n",
    "y1 = df_result_opt[['rtn_3_float', 'rtn_4_float']].mean(axis=1).cumsum()\n",
    "y2 = (df_result_opt[['rtn_3_float', 'rtn_4_float']].mean(axis=1)+1).cumprod()\n",
    "\n",
    "# Create a subplot with 1 row and 2 columns\n",
    "fig = make_subplots(rows=1, cols=2)\n",
    "\n",
    "# First plot (e.g., a scatter plot)\n",
    "fig.add_trace(\n",
    "    go.Scatter(x=x, y=y1, mode='markers', name='Simple'),\n",
    "    row=1, col=1\n",
    ")\n",
    "\n",
    "# Second plot (e.g., a bar plot)\n",
    "fig.add_trace(\n",
    "    go.Scatter(x=x, y=y2, mode='markers', name='Complex'),\n",
    "    row=1, col=2\n",
    ")\n",
    "\n",
    "# Optionally adjust layout\n",
    "fig.update_layout(height=400, width=800,)\n",
    "\n",
    "# Show the plot\n",
    "fig.show()\n"
   ]
  },
  {
   "cell_type": "code",
   "execution_count": 62,
   "metadata": {},
   "outputs": [
    {
     "name": "stdout",
     "output_type": "stream",
     "text": [
      "rtn_3_float\n",
      "0.050166712534576836\n",
      "0.00   -0.098400\n",
      "0.05   -0.065166\n",
      "0.50    0.047365\n",
      "0.95    0.192131\n",
      "1.00    0.252868\n",
      "Name: rtn_3_float, dtype: float64\n",
      "rtn_4_float\n",
      "0.050945219826053614\n",
      "0.00   -0.115113\n",
      "0.05   -0.069883\n",
      "0.50    0.047243\n",
      "0.95    0.155576\n",
      "1.00    0.301097\n",
      "Name: rtn_4_float, dtype: float64\n",
      "rtn_5_float\n",
      "0.046362357982864096\n",
      "0.00   -0.162534\n",
      "0.05   -0.067549\n",
      "0.50    0.044283\n",
      "0.95    0.178135\n",
      "1.00    0.233305\n",
      "Name: rtn_5_float, dtype: float64\n"
     ]
    }
   ],
   "source": [
    "# Check VaR\n",
    "for rtn in ['rtn_3', 'rtn_4', 'rtn_5']:\n",
    "\n",
    "    for typeStr in ['float']:\n",
    "\n",
    "        print(f\"{rtn}_{typeStr}\")\n",
    "        print(\n",
    "            df_result_opt[f'{rtn}_{typeStr}'].mean()\n",
    "        )\n",
    "        print(\n",
    "            df_result_opt[f'{rtn}_{typeStr}'].quantile([0, 0.05, 0.5, 0.95, 1])\n",
    "        )\n",
    "        \n",
    "        # print(df_result_opt[f'{rtn}_{typeStr}'].cumsum()[-1])"
   ]
  },
  {
   "cell_type": "code",
   "execution_count": 3,
   "metadata": {},
   "outputs": [],
   "source": [
    "df_result_opt = pd.read_pickle(\"df_oos_opt_result_applied.pkl\")"
   ]
  },
  {
   "cell_type": "code",
   "execution_count": 5,
   "metadata": {},
   "outputs": [
    {
     "data": {
      "text/html": [
       "<div>\n",
       "<style scoped>\n",
       "    .dataframe tbody tr th:only-of-type {\n",
       "        vertical-align: middle;\n",
       "    }\n",
       "\n",
       "    .dataframe tbody tr th {\n",
       "        vertical-align: top;\n",
       "    }\n",
       "\n",
       "    .dataframe thead th {\n",
       "        text-align: right;\n",
       "    }\n",
       "</style>\n",
       "<table border=\"1\" class=\"dataframe\">\n",
       "  <thead>\n",
       "    <tr style=\"text-align: right;\">\n",
       "      <th></th>\n",
       "      <th>rtn_3_fixed</th>\n",
       "      <th>rtn_4_fixed</th>\n",
       "      <th>rtn_5_fixed</th>\n",
       "      <th>rtn_3_float</th>\n",
       "      <th>rtn_4_float</th>\n",
       "      <th>rtn_5_float</th>\n",
       "    </tr>\n",
       "    <tr>\n",
       "      <th>date</th>\n",
       "      <th></th>\n",
       "      <th></th>\n",
       "      <th></th>\n",
       "      <th></th>\n",
       "      <th></th>\n",
       "      <th></th>\n",
       "    </tr>\n",
       "  </thead>\n",
       "  <tbody>\n",
       "    <tr>\n",
       "      <th>2015-11-26</th>\n",
       "      <td>-0.042859</td>\n",
       "      <td>0.015303</td>\n",
       "      <td>0.008373</td>\n",
       "      <td>0.011477</td>\n",
       "      <td>0.056448</td>\n",
       "      <td>-0.006817</td>\n",
       "    </tr>\n",
       "    <tr>\n",
       "      <th>2015-12-23</th>\n",
       "      <td>0.202229</td>\n",
       "      <td>0.058554</td>\n",
       "      <td>0.145738</td>\n",
       "      <td>0.210461</td>\n",
       "      <td>0.193962</td>\n",
       "      <td>0.118650</td>\n",
       "    </tr>\n",
       "    <tr>\n",
       "      <th>2016-01-22</th>\n",
       "      <td>0.044800</td>\n",
       "      <td>-0.018662</td>\n",
       "      <td>-0.021817</td>\n",
       "      <td>0.035769</td>\n",
       "      <td>0.016453</td>\n",
       "      <td>-0.030784</td>\n",
       "    </tr>\n",
       "    <tr>\n",
       "      <th>2016-02-23</th>\n",
       "      <td>0.120932</td>\n",
       "      <td>0.100118</td>\n",
       "      <td>0.105240</td>\n",
       "      <td>0.081189</td>\n",
       "      <td>0.124950</td>\n",
       "      <td>0.124872</td>\n",
       "    </tr>\n",
       "    <tr>\n",
       "      <th>2016-03-22</th>\n",
       "      <td>0.038510</td>\n",
       "      <td>0.153385</td>\n",
       "      <td>0.101362</td>\n",
       "      <td>0.107383</td>\n",
       "      <td>0.085174</td>\n",
       "      <td>0.137864</td>\n",
       "    </tr>\n",
       "    <tr>\n",
       "      <th>2016-04-19</th>\n",
       "      <td>-0.008258</td>\n",
       "      <td>0.219760</td>\n",
       "      <td>0.188984</td>\n",
       "      <td>0.180351</td>\n",
       "      <td>0.045118</td>\n",
       "      <td>0.191306</td>\n",
       "    </tr>\n",
       "    <tr>\n",
       "      <th>2016-05-18</th>\n",
       "      <td>0.046994</td>\n",
       "      <td>-0.047090</td>\n",
       "      <td>-0.070235</td>\n",
       "      <td>-0.065241</td>\n",
       "      <td>-0.052873</td>\n",
       "      <td>-0.082141</td>\n",
       "    </tr>\n",
       "    <tr>\n",
       "      <th>2016-06-15</th>\n",
       "      <td>0.199569</td>\n",
       "      <td>0.193908</td>\n",
       "      <td>0.196229</td>\n",
       "      <td>0.105825</td>\n",
       "      <td>0.155773</td>\n",
       "      <td>0.203059</td>\n",
       "    </tr>\n",
       "    <tr>\n",
       "      <th>2016-07-12</th>\n",
       "      <td>0.048098</td>\n",
       "      <td>0.095044</td>\n",
       "      <td>0.020315</td>\n",
       "      <td>0.039037</td>\n",
       "      <td>0.030076</td>\n",
       "      <td>0.020315</td>\n",
       "    </tr>\n",
       "    <tr>\n",
       "      <th>2016-08-08</th>\n",
       "      <td>0.049740</td>\n",
       "      <td>0.037977</td>\n",
       "      <td>-0.004322</td>\n",
       "      <td>0.022357</td>\n",
       "      <td>0.064742</td>\n",
       "      <td>0.013883</td>\n",
       "    </tr>\n",
       "  </tbody>\n",
       "</table>\n",
       "</div>"
      ],
      "text/plain": [
       "            rtn_3_fixed  rtn_4_fixed  rtn_5_fixed  rtn_3_float  rtn_4_float  \\\n",
       "date                                                                          \n",
       "2015-11-26    -0.042859     0.015303     0.008373     0.011477     0.056448   \n",
       "2015-12-23     0.202229     0.058554     0.145738     0.210461     0.193962   \n",
       "2016-01-22     0.044800    -0.018662    -0.021817     0.035769     0.016453   \n",
       "2016-02-23     0.120932     0.100118     0.105240     0.081189     0.124950   \n",
       "2016-03-22     0.038510     0.153385     0.101362     0.107383     0.085174   \n",
       "2016-04-19    -0.008258     0.219760     0.188984     0.180351     0.045118   \n",
       "2016-05-18     0.046994    -0.047090    -0.070235    -0.065241    -0.052873   \n",
       "2016-06-15     0.199569     0.193908     0.196229     0.105825     0.155773   \n",
       "2016-07-12     0.048098     0.095044     0.020315     0.039037     0.030076   \n",
       "2016-08-08     0.049740     0.037977    -0.004322     0.022357     0.064742   \n",
       "\n",
       "            rtn_5_float  \n",
       "date                     \n",
       "2015-11-26    -0.006817  \n",
       "2015-12-23     0.118650  \n",
       "2016-01-22    -0.030784  \n",
       "2016-02-23     0.124872  \n",
       "2016-03-22     0.137864  \n",
       "2016-04-19     0.191306  \n",
       "2016-05-18    -0.082141  \n",
       "2016-06-15     0.203059  \n",
       "2016-07-12     0.020315  \n",
       "2016-08-08     0.013883  "
      ]
     },
     "execution_count": 5,
     "metadata": {},
     "output_type": "execute_result"
    }
   ],
   "source": [
    "df_result_opt.head(10)"
   ]
  },
  {
   "cell_type": "code",
   "execution_count": 11,
   "metadata": {},
   "outputs": [
    {
     "data": {
      "application/vnd.plotly.v1+json": {
       "config": {
        "plotlyServerURL": "https://plot.ly"
       },
       "data": [
        {
         "hovertemplate": "variable=0<br>date=%{x}<br>value=%{y}<extra></extra>",
         "legendgroup": "0",
         "marker": {
          "color": "#636efa",
          "symbol": "circle"
         },
         "mode": "markers",
         "name": "0",
         "orientation": "v",
         "showlegend": true,
         "type": "scatter",
         "x": [
          "2015-11-26",
          "2015-12-23",
          "2016-01-22",
          "2016-02-23",
          "2016-03-22",
          "2016-04-19",
          "2016-05-18",
          "2016-06-15",
          "2016-07-12",
          "2016-08-08",
          "2016-09-05",
          "2016-10-06",
          "2016-11-02",
          "2016-11-29",
          "2016-12-26",
          "2017-01-23",
          "2017-02-21",
          "2017-03-21",
          "2017-04-17",
          "2017-05-18",
          "2017-06-15",
          "2017-07-12",
          "2017-08-08",
          "2017-09-05",
          "2017-10-10",
          "2017-11-06",
          "2017-12-01",
          "2018-01-02",
          "2018-01-29",
          "2018-02-27",
          "2018-03-27",
          "2018-04-23",
          "2018-05-23",
          "2018-06-21",
          "2018-07-18",
          "2018-08-14",
          "2018-09-11",
          "2018-10-15",
          "2018-11-09",
          "2018-12-06",
          "2019-01-07",
          "2019-02-01",
          "2019-03-06",
          "2019-04-02",
          "2019-04-29",
          "2019-05-28",
          "2019-06-25",
          "2019-07-22",
          "2019-08-19",
          "2019-09-17",
          "2019-10-16",
          "2019-11-12",
          "2019-12-09",
          "2020-01-08",
          "2020-02-06",
          "2020-03-04",
          "2020-03-31",
          "2020-04-28",
          "2020-05-28",
          "2020-06-24",
          "2020-07-21",
          "2020-08-18",
          "2020-09-14",
          "2020-10-15",
          "2020-11-11",
          "2020-12-08",
          "2021-01-07",
          "2021-02-03",
          "2021-03-05",
          "2021-04-01",
          "2021-04-28",
          "2021-05-27",
          "2021-06-23",
          "2021-07-20",
          "2021-08-17",
          "2021-09-13",
          "2021-10-15",
          "2021-11-11",
          "2021-12-08",
          "2022-01-05",
          "2022-02-04",
          "2022-03-04",
          "2022-04-01",
          "2022-04-28",
          "2022-05-26",
          "2022-06-24",
          "2022-07-21",
          "2022-08-18",
          "2022-09-16",
          "2022-10-17",
          "2022-11-11",
          "2022-12-08",
          "2023-01-05",
          "2023-02-03",
          "2023-03-03",
          "2023-03-30",
          "2023-04-26",
          "2023-05-25",
          "2023-06-23",
          "2023-07-20",
          "2023-08-17",
          "2023-09-13",
          "2023-09-19"
         ],
         "xaxis": "x",
         "y": [
          1.020369380963358,
          1.1982787950475928,
          1.2068419452718426,
          1.3400013329691514,
          1.4875896377016156,
          1.694253301039929,
          1.5811589798294987,
          1.826057917543703,
          1.8804913775627643,
          1.9437900211923753,
          1.942268630844672,
          2.1901599010437405,
          2.0244430100182687,
          2.0386905547255805,
          2.2575792474131804,
          2.5567408197019743,
          2.510611874230425,
          2.621637073433259,
          2.8385008702076626,
          2.8571478023896657,
          3.162173629146365,
          3.2033575864940738,
          3.4650060089753483,
          3.447768533919777,
          3.5282143292201558,
          3.8172415184133937,
          4.224738688114205,
          4.428137465025144,
          4.7855583880835955,
          5.049474807904897,
          5.085698111185418,
          5.977125181314985,
          6.426150491029232,
          6.432519241759418,
          6.843278696272934,
          6.736978866297575,
          7.303409467780868,
          6.690236494261613,
          7.0130955037592,
          7.533446278957468,
          7.94903159533612,
          9.34979391445781,
          9.631023202706745,
          9.728636082627046,
          9.845459971346449,
          9.714493883101339,
          10.095085652127334,
          10.672007648618882,
          10.631110022151399,
          11.741124391911244,
          13.10185010430626,
          14.164818679095418,
          16.307535495563688,
          17.94514300570742,
          17.47790114260119,
          15.856653276441335,
          14.99142834455637,
          17.816725152197325,
          18.10542573157669,
          17.52514813810594,
          18.090261243600395,
          18.496288453394797,
          21.026254904250646,
          21.561261041427606,
          21.64230958265476,
          21.36794679247235,
          24.24409670602771,
          25.09767695862897,
          25.96349570763837,
          27.871530938486124,
          28.19615202362301,
          30.847806128062874,
          36.53624488437637,
          36.1163160441224,
          34.0560050050183,
          35.933068400274315,
          38.42742560587872,
          41.93480042322656,
          45.49027464142708,
          55.48524742083251,
          59.637090866457505,
          63.017630529651754,
          68.85215202995433,
          65.86940768301463,
          70.87329202235145,
          62.68744450520609,
          68.77260930038118,
          69.12661315866833,
          68.57621834562673,
          76.39280207494457,
          85.31121452061159,
          84.49834038232913,
          91.17072300724946,
          91.17072300724946,
          91.17072300724946,
          93.49812812376905,
          102.11994799589795,
          100.5766622723626,
          103.24151750193371,
          106.55832156240422,
          109.19836929100681,
          114.69477523016646,
          114.69477523016646
         ],
         "yaxis": "y"
        }
       ],
       "layout": {
        "legend": {
         "title": {
          "text": "variable"
         },
         "tracegroupgap": 0
        },
        "margin": {
         "t": 60
        },
        "template": {
         "data": {
          "bar": [
           {
            "error_x": {
             "color": "#2a3f5f"
            },
            "error_y": {
             "color": "#2a3f5f"
            },
            "marker": {
             "line": {
              "color": "#E5ECF6",
              "width": 0.5
             },
             "pattern": {
              "fillmode": "overlay",
              "size": 10,
              "solidity": 0.2
             }
            },
            "type": "bar"
           }
          ],
          "barpolar": [
           {
            "marker": {
             "line": {
              "color": "#E5ECF6",
              "width": 0.5
             },
             "pattern": {
              "fillmode": "overlay",
              "size": 10,
              "solidity": 0.2
             }
            },
            "type": "barpolar"
           }
          ],
          "carpet": [
           {
            "aaxis": {
             "endlinecolor": "#2a3f5f",
             "gridcolor": "white",
             "linecolor": "white",
             "minorgridcolor": "white",
             "startlinecolor": "#2a3f5f"
            },
            "baxis": {
             "endlinecolor": "#2a3f5f",
             "gridcolor": "white",
             "linecolor": "white",
             "minorgridcolor": "white",
             "startlinecolor": "#2a3f5f"
            },
            "type": "carpet"
           }
          ],
          "choropleth": [
           {
            "colorbar": {
             "outlinewidth": 0,
             "ticks": ""
            },
            "type": "choropleth"
           }
          ],
          "contour": [
           {
            "colorbar": {
             "outlinewidth": 0,
             "ticks": ""
            },
            "colorscale": [
             [
              0,
              "#0d0887"
             ],
             [
              0.1111111111111111,
              "#46039f"
             ],
             [
              0.2222222222222222,
              "#7201a8"
             ],
             [
              0.3333333333333333,
              "#9c179e"
             ],
             [
              0.4444444444444444,
              "#bd3786"
             ],
             [
              0.5555555555555556,
              "#d8576b"
             ],
             [
              0.6666666666666666,
              "#ed7953"
             ],
             [
              0.7777777777777778,
              "#fb9f3a"
             ],
             [
              0.8888888888888888,
              "#fdca26"
             ],
             [
              1,
              "#f0f921"
             ]
            ],
            "type": "contour"
           }
          ],
          "contourcarpet": [
           {
            "colorbar": {
             "outlinewidth": 0,
             "ticks": ""
            },
            "type": "contourcarpet"
           }
          ],
          "heatmap": [
           {
            "colorbar": {
             "outlinewidth": 0,
             "ticks": ""
            },
            "colorscale": [
             [
              0,
              "#0d0887"
             ],
             [
              0.1111111111111111,
              "#46039f"
             ],
             [
              0.2222222222222222,
              "#7201a8"
             ],
             [
              0.3333333333333333,
              "#9c179e"
             ],
             [
              0.4444444444444444,
              "#bd3786"
             ],
             [
              0.5555555555555556,
              "#d8576b"
             ],
             [
              0.6666666666666666,
              "#ed7953"
             ],
             [
              0.7777777777777778,
              "#fb9f3a"
             ],
             [
              0.8888888888888888,
              "#fdca26"
             ],
             [
              1,
              "#f0f921"
             ]
            ],
            "type": "heatmap"
           }
          ],
          "heatmapgl": [
           {
            "colorbar": {
             "outlinewidth": 0,
             "ticks": ""
            },
            "colorscale": [
             [
              0,
              "#0d0887"
             ],
             [
              0.1111111111111111,
              "#46039f"
             ],
             [
              0.2222222222222222,
              "#7201a8"
             ],
             [
              0.3333333333333333,
              "#9c179e"
             ],
             [
              0.4444444444444444,
              "#bd3786"
             ],
             [
              0.5555555555555556,
              "#d8576b"
             ],
             [
              0.6666666666666666,
              "#ed7953"
             ],
             [
              0.7777777777777778,
              "#fb9f3a"
             ],
             [
              0.8888888888888888,
              "#fdca26"
             ],
             [
              1,
              "#f0f921"
             ]
            ],
            "type": "heatmapgl"
           }
          ],
          "histogram": [
           {
            "marker": {
             "pattern": {
              "fillmode": "overlay",
              "size": 10,
              "solidity": 0.2
             }
            },
            "type": "histogram"
           }
          ],
          "histogram2d": [
           {
            "colorbar": {
             "outlinewidth": 0,
             "ticks": ""
            },
            "colorscale": [
             [
              0,
              "#0d0887"
             ],
             [
              0.1111111111111111,
              "#46039f"
             ],
             [
              0.2222222222222222,
              "#7201a8"
             ],
             [
              0.3333333333333333,
              "#9c179e"
             ],
             [
              0.4444444444444444,
              "#bd3786"
             ],
             [
              0.5555555555555556,
              "#d8576b"
             ],
             [
              0.6666666666666666,
              "#ed7953"
             ],
             [
              0.7777777777777778,
              "#fb9f3a"
             ],
             [
              0.8888888888888888,
              "#fdca26"
             ],
             [
              1,
              "#f0f921"
             ]
            ],
            "type": "histogram2d"
           }
          ],
          "histogram2dcontour": [
           {
            "colorbar": {
             "outlinewidth": 0,
             "ticks": ""
            },
            "colorscale": [
             [
              0,
              "#0d0887"
             ],
             [
              0.1111111111111111,
              "#46039f"
             ],
             [
              0.2222222222222222,
              "#7201a8"
             ],
             [
              0.3333333333333333,
              "#9c179e"
             ],
             [
              0.4444444444444444,
              "#bd3786"
             ],
             [
              0.5555555555555556,
              "#d8576b"
             ],
             [
              0.6666666666666666,
              "#ed7953"
             ],
             [
              0.7777777777777778,
              "#fb9f3a"
             ],
             [
              0.8888888888888888,
              "#fdca26"
             ],
             [
              1,
              "#f0f921"
             ]
            ],
            "type": "histogram2dcontour"
           }
          ],
          "mesh3d": [
           {
            "colorbar": {
             "outlinewidth": 0,
             "ticks": ""
            },
            "type": "mesh3d"
           }
          ],
          "parcoords": [
           {
            "line": {
             "colorbar": {
              "outlinewidth": 0,
              "ticks": ""
             }
            },
            "type": "parcoords"
           }
          ],
          "pie": [
           {
            "automargin": true,
            "type": "pie"
           }
          ],
          "scatter": [
           {
            "fillpattern": {
             "fillmode": "overlay",
             "size": 10,
             "solidity": 0.2
            },
            "type": "scatter"
           }
          ],
          "scatter3d": [
           {
            "line": {
             "colorbar": {
              "outlinewidth": 0,
              "ticks": ""
             }
            },
            "marker": {
             "colorbar": {
              "outlinewidth": 0,
              "ticks": ""
             }
            },
            "type": "scatter3d"
           }
          ],
          "scattercarpet": [
           {
            "marker": {
             "colorbar": {
              "outlinewidth": 0,
              "ticks": ""
             }
            },
            "type": "scattercarpet"
           }
          ],
          "scattergeo": [
           {
            "marker": {
             "colorbar": {
              "outlinewidth": 0,
              "ticks": ""
             }
            },
            "type": "scattergeo"
           }
          ],
          "scattergl": [
           {
            "marker": {
             "colorbar": {
              "outlinewidth": 0,
              "ticks": ""
             }
            },
            "type": "scattergl"
           }
          ],
          "scattermapbox": [
           {
            "marker": {
             "colorbar": {
              "outlinewidth": 0,
              "ticks": ""
             }
            },
            "type": "scattermapbox"
           }
          ],
          "scatterpolar": [
           {
            "marker": {
             "colorbar": {
              "outlinewidth": 0,
              "ticks": ""
             }
            },
            "type": "scatterpolar"
           }
          ],
          "scatterpolargl": [
           {
            "marker": {
             "colorbar": {
              "outlinewidth": 0,
              "ticks": ""
             }
            },
            "type": "scatterpolargl"
           }
          ],
          "scatterternary": [
           {
            "marker": {
             "colorbar": {
              "outlinewidth": 0,
              "ticks": ""
             }
            },
            "type": "scatterternary"
           }
          ],
          "surface": [
           {
            "colorbar": {
             "outlinewidth": 0,
             "ticks": ""
            },
            "colorscale": [
             [
              0,
              "#0d0887"
             ],
             [
              0.1111111111111111,
              "#46039f"
             ],
             [
              0.2222222222222222,
              "#7201a8"
             ],
             [
              0.3333333333333333,
              "#9c179e"
             ],
             [
              0.4444444444444444,
              "#bd3786"
             ],
             [
              0.5555555555555556,
              "#d8576b"
             ],
             [
              0.6666666666666666,
              "#ed7953"
             ],
             [
              0.7777777777777778,
              "#fb9f3a"
             ],
             [
              0.8888888888888888,
              "#fdca26"
             ],
             [
              1,
              "#f0f921"
             ]
            ],
            "type": "surface"
           }
          ],
          "table": [
           {
            "cells": {
             "fill": {
              "color": "#EBF0F8"
             },
             "line": {
              "color": "white"
             }
            },
            "header": {
             "fill": {
              "color": "#C8D4E3"
             },
             "line": {
              "color": "white"
             }
            },
            "type": "table"
           }
          ]
         },
         "layout": {
          "annotationdefaults": {
           "arrowcolor": "#2a3f5f",
           "arrowhead": 0,
           "arrowwidth": 1
          },
          "autotypenumbers": "strict",
          "coloraxis": {
           "colorbar": {
            "outlinewidth": 0,
            "ticks": ""
           }
          },
          "colorscale": {
           "diverging": [
            [
             0,
             "#8e0152"
            ],
            [
             0.1,
             "#c51b7d"
            ],
            [
             0.2,
             "#de77ae"
            ],
            [
             0.3,
             "#f1b6da"
            ],
            [
             0.4,
             "#fde0ef"
            ],
            [
             0.5,
             "#f7f7f7"
            ],
            [
             0.6,
             "#e6f5d0"
            ],
            [
             0.7,
             "#b8e186"
            ],
            [
             0.8,
             "#7fbc41"
            ],
            [
             0.9,
             "#4d9221"
            ],
            [
             1,
             "#276419"
            ]
           ],
           "sequential": [
            [
             0,
             "#0d0887"
            ],
            [
             0.1111111111111111,
             "#46039f"
            ],
            [
             0.2222222222222222,
             "#7201a8"
            ],
            [
             0.3333333333333333,
             "#9c179e"
            ],
            [
             0.4444444444444444,
             "#bd3786"
            ],
            [
             0.5555555555555556,
             "#d8576b"
            ],
            [
             0.6666666666666666,
             "#ed7953"
            ],
            [
             0.7777777777777778,
             "#fb9f3a"
            ],
            [
             0.8888888888888888,
             "#fdca26"
            ],
            [
             1,
             "#f0f921"
            ]
           ],
           "sequentialminus": [
            [
             0,
             "#0d0887"
            ],
            [
             0.1111111111111111,
             "#46039f"
            ],
            [
             0.2222222222222222,
             "#7201a8"
            ],
            [
             0.3333333333333333,
             "#9c179e"
            ],
            [
             0.4444444444444444,
             "#bd3786"
            ],
            [
             0.5555555555555556,
             "#d8576b"
            ],
            [
             0.6666666666666666,
             "#ed7953"
            ],
            [
             0.7777777777777778,
             "#fb9f3a"
            ],
            [
             0.8888888888888888,
             "#fdca26"
            ],
            [
             1,
             "#f0f921"
            ]
           ]
          },
          "colorway": [
           "#636efa",
           "#EF553B",
           "#00cc96",
           "#ab63fa",
           "#FFA15A",
           "#19d3f3",
           "#FF6692",
           "#B6E880",
           "#FF97FF",
           "#FECB52"
          ],
          "font": {
           "color": "#2a3f5f"
          },
          "geo": {
           "bgcolor": "white",
           "lakecolor": "white",
           "landcolor": "#E5ECF6",
           "showlakes": true,
           "showland": true,
           "subunitcolor": "white"
          },
          "hoverlabel": {
           "align": "left"
          },
          "hovermode": "closest",
          "mapbox": {
           "style": "light"
          },
          "paper_bgcolor": "white",
          "plot_bgcolor": "#E5ECF6",
          "polar": {
           "angularaxis": {
            "gridcolor": "white",
            "linecolor": "white",
            "ticks": ""
           },
           "bgcolor": "#E5ECF6",
           "radialaxis": {
            "gridcolor": "white",
            "linecolor": "white",
            "ticks": ""
           }
          },
          "scene": {
           "xaxis": {
            "backgroundcolor": "#E5ECF6",
            "gridcolor": "white",
            "gridwidth": 2,
            "linecolor": "white",
            "showbackground": true,
            "ticks": "",
            "zerolinecolor": "white"
           },
           "yaxis": {
            "backgroundcolor": "#E5ECF6",
            "gridcolor": "white",
            "gridwidth": 2,
            "linecolor": "white",
            "showbackground": true,
            "ticks": "",
            "zerolinecolor": "white"
           },
           "zaxis": {
            "backgroundcolor": "#E5ECF6",
            "gridcolor": "white",
            "gridwidth": 2,
            "linecolor": "white",
            "showbackground": true,
            "ticks": "",
            "zerolinecolor": "white"
           }
          },
          "shapedefaults": {
           "line": {
            "color": "#2a3f5f"
           }
          },
          "ternary": {
           "aaxis": {
            "gridcolor": "white",
            "linecolor": "white",
            "ticks": ""
           },
           "baxis": {
            "gridcolor": "white",
            "linecolor": "white",
            "ticks": ""
           },
           "bgcolor": "#E5ECF6",
           "caxis": {
            "gridcolor": "white",
            "linecolor": "white",
            "ticks": ""
           }
          },
          "title": {
           "x": 0.05
          },
          "xaxis": {
           "automargin": true,
           "gridcolor": "white",
           "linecolor": "white",
           "ticks": "",
           "title": {
            "standoff": 15
           },
           "zerolinecolor": "white",
           "zerolinewidth": 2
          },
          "yaxis": {
           "automargin": true,
           "gridcolor": "white",
           "linecolor": "white",
           "ticks": "",
           "title": {
            "standoff": 15
           },
           "zerolinecolor": "white",
           "zerolinewidth": 2
          }
         }
        },
        "xaxis": {
         "anchor": "y",
         "domain": [
          0,
          1
         ],
         "title": {
          "text": "date"
         }
        },
        "yaxis": {
         "anchor": "x",
         "domain": [
          0,
          1
         ],
         "title": {
          "text": "value"
         }
        }
       }
      }
     },
     "metadata": {},
     "output_type": "display_data"
    }
   ],
   "source": [
    "(\n",
    "    df_result_opt[['rtn_3_float', 'rtn_4_float', 'rtn_5_float']].mean(axis=1)\n",
    "    +1\n",
    ").cumprod().plot(kind=\"scatter\")"
   ]
  },
  {
   "cell_type": "code",
   "execution_count": 12,
   "metadata": {},
   "outputs": [
    {
     "data": {
      "text/plain": [
       "1.73450270996002"
      ]
     },
     "execution_count": 12,
     "metadata": {},
     "output_type": "execute_result"
    }
   ],
   "source": [
    "114**(1/8.6)"
   ]
  },
  {
   "cell_type": "code",
   "execution_count": 13,
   "metadata": {},
   "outputs": [
    {
     "data": {
      "application/vnd.plotly.v1+json": {
       "config": {
        "plotlyServerURL": "https://plot.ly"
       },
       "data": [
        {
         "hovertemplate": "variable=rtn_3_float<br>date=%{x}<br>value=%{y}<extra></extra>",
         "legendgroup": "rtn_3_float",
         "marker": {
          "color": "#636efa",
          "symbol": "circle"
         },
         "mode": "markers",
         "name": "rtn_3_float",
         "orientation": "v",
         "showlegend": true,
         "type": "scatter",
         "x": [
          "2015-11-26",
          "2015-12-23",
          "2016-01-22",
          "2016-02-23",
          "2016-03-22",
          "2016-04-19",
          "2016-05-18",
          "2016-06-15",
          "2016-07-12",
          "2016-08-08",
          "2016-09-05",
          "2016-10-06",
          "2016-11-02",
          "2016-11-29",
          "2016-12-26",
          "2017-01-23",
          "2017-02-21",
          "2017-03-21",
          "2017-04-17",
          "2017-05-18",
          "2017-06-15",
          "2017-07-12",
          "2017-08-08",
          "2017-09-05",
          "2017-10-10",
          "2017-11-06",
          "2017-12-01",
          "2018-01-02",
          "2018-01-29",
          "2018-02-27",
          "2018-03-27",
          "2018-04-23",
          "2018-05-23",
          "2018-06-21",
          "2018-07-18",
          "2018-08-14",
          "2018-09-11",
          "2018-10-15",
          "2018-11-09",
          "2018-12-06",
          "2019-01-07",
          "2019-02-01",
          "2019-03-06",
          "2019-04-02",
          "2019-04-29",
          "2019-05-28",
          "2019-06-25",
          "2019-07-22",
          "2019-08-19",
          "2019-09-17",
          "2019-10-16",
          "2019-11-12",
          "2019-12-09",
          "2020-01-08",
          "2020-02-06",
          "2020-03-04",
          "2020-03-31",
          "2020-04-28",
          "2020-05-28",
          "2020-06-24",
          "2020-07-21",
          "2020-08-18",
          "2020-09-14",
          "2020-10-15",
          "2020-11-11",
          "2020-12-08",
          "2021-01-07",
          "2021-02-03",
          "2021-03-05",
          "2021-04-01",
          "2021-04-28",
          "2021-05-27",
          "2021-06-23",
          "2021-07-20",
          "2021-08-17",
          "2021-09-13",
          "2021-10-15",
          "2021-11-11",
          "2021-12-08",
          "2022-01-05",
          "2022-02-04",
          "2022-03-04",
          "2022-04-01",
          "2022-04-28",
          "2022-05-26",
          "2022-06-24",
          "2022-07-21",
          "2022-08-18",
          "2022-09-16",
          "2022-10-17",
          "2022-11-11",
          "2022-12-08",
          "2023-01-05",
          "2023-02-03",
          "2023-03-03",
          "2023-03-30",
          "2023-04-26",
          "2023-05-25",
          "2023-06-23",
          "2023-07-20",
          "2023-08-17",
          "2023-09-13",
          "2023-09-19"
         ],
         "xaxis": "x",
         "y": [
          1.0114765341478584,
          1.2243532612730486,
          1.2681469889677421,
          1.3711063327301578,
          1.518339902492029,
          1.7921738621616021,
          1.6752509528667707,
          1.8525335482227174,
          1.924850193833865,
          1.9678842638542116,
          1.9559550701180042,
          2.21043417896617,
          2.067875504745054,
          2.1789126838297364,
          2.3689239393216055,
          2.6493294147073083,
          2.5069338457466075,
          2.6013864873306494,
          2.8731789149808495,
          2.8390850569944175,
          3.0345600167586606,
          3.1282393483671793,
          3.344781401950728,
          3.3592423709810544,
          3.416778612865433,
          3.680064354916912,
          4.111066525816651,
          4.047014409637918,
          4.390853356657501,
          4.666187342341745,
          4.536325984797078,
          5.257784139678525,
          6.137572500209807,
          6.109412728816644,
          6.482322135338172,
          6.3750593982362105,
          7.0783533150253755,
          6.559861962936988,
          6.834490473578718,
          7.360297744596331,
          7.857671838307364,
          9.39204341693741,
          10.2020139568403,
          10.37929097650305,
          10.09042105435831,
          9.688024428987978,
          9.971944529555381,
          10.217533215992527,
          9.596172624331029,
          10.513935962615601,
          11.87987386795096,
          12.670883753328322,
          15.167631232253413,
          16.758158775940807,
          16.957595276899216,
          16.27415725594316,
          14.828967234582718,
          17.80938336108471,
          18.11162495183344,
          17.180176952848747,
          17.977894251599487,
          18.524212027175384,
          22.10754039167273,
          23.1546661365987,
          23.223127797220048,
          22.892495036722554,
          25.124203959019443,
          26.19957922856793,
          26.76600512456175,
          28.956538346000794,
          28.2529276670099,
          29.809738402194778,
          35.05142467973223,
          33.87397015716278,
          31.34834931250444,
          32.960355492410564,
          33.5544694392678,
          36.399591794068016,
          38.79074812891593,
          48.5996748886784,
          54.04087074352716,
          57.58752907276755,
          64.5796800626013,
          59.78606180392388,
          66.29725030010746,
          59.77362609398624,
          65.68432587000288,
          66.66464659688543,
          65.69228258110962,
          74.94617042518023,
          83.7537419787082,
          83.86341744971189,
          93.03861217257824,
          93.03861217257824,
          93.03861217257824,
          92.94747007122862,
          99.93598400258333,
          98.53420528932108,
          100.35067074128344,
          108.66179032790761,
          114.88666978277737,
          121.00659690942217,
          121.00659690942217
         ],
         "yaxis": "y"
        }
       ],
       "layout": {
        "legend": {
         "title": {
          "text": "variable"
         },
         "tracegroupgap": 0
        },
        "margin": {
         "t": 60
        },
        "template": {
         "data": {
          "bar": [
           {
            "error_x": {
             "color": "#2a3f5f"
            },
            "error_y": {
             "color": "#2a3f5f"
            },
            "marker": {
             "line": {
              "color": "#E5ECF6",
              "width": 0.5
             },
             "pattern": {
              "fillmode": "overlay",
              "size": 10,
              "solidity": 0.2
             }
            },
            "type": "bar"
           }
          ],
          "barpolar": [
           {
            "marker": {
             "line": {
              "color": "#E5ECF6",
              "width": 0.5
             },
             "pattern": {
              "fillmode": "overlay",
              "size": 10,
              "solidity": 0.2
             }
            },
            "type": "barpolar"
           }
          ],
          "carpet": [
           {
            "aaxis": {
             "endlinecolor": "#2a3f5f",
             "gridcolor": "white",
             "linecolor": "white",
             "minorgridcolor": "white",
             "startlinecolor": "#2a3f5f"
            },
            "baxis": {
             "endlinecolor": "#2a3f5f",
             "gridcolor": "white",
             "linecolor": "white",
             "minorgridcolor": "white",
             "startlinecolor": "#2a3f5f"
            },
            "type": "carpet"
           }
          ],
          "choropleth": [
           {
            "colorbar": {
             "outlinewidth": 0,
             "ticks": ""
            },
            "type": "choropleth"
           }
          ],
          "contour": [
           {
            "colorbar": {
             "outlinewidth": 0,
             "ticks": ""
            },
            "colorscale": [
             [
              0,
              "#0d0887"
             ],
             [
              0.1111111111111111,
              "#46039f"
             ],
             [
              0.2222222222222222,
              "#7201a8"
             ],
             [
              0.3333333333333333,
              "#9c179e"
             ],
             [
              0.4444444444444444,
              "#bd3786"
             ],
             [
              0.5555555555555556,
              "#d8576b"
             ],
             [
              0.6666666666666666,
              "#ed7953"
             ],
             [
              0.7777777777777778,
              "#fb9f3a"
             ],
             [
              0.8888888888888888,
              "#fdca26"
             ],
             [
              1,
              "#f0f921"
             ]
            ],
            "type": "contour"
           }
          ],
          "contourcarpet": [
           {
            "colorbar": {
             "outlinewidth": 0,
             "ticks": ""
            },
            "type": "contourcarpet"
           }
          ],
          "heatmap": [
           {
            "colorbar": {
             "outlinewidth": 0,
             "ticks": ""
            },
            "colorscale": [
             [
              0,
              "#0d0887"
             ],
             [
              0.1111111111111111,
              "#46039f"
             ],
             [
              0.2222222222222222,
              "#7201a8"
             ],
             [
              0.3333333333333333,
              "#9c179e"
             ],
             [
              0.4444444444444444,
              "#bd3786"
             ],
             [
              0.5555555555555556,
              "#d8576b"
             ],
             [
              0.6666666666666666,
              "#ed7953"
             ],
             [
              0.7777777777777778,
              "#fb9f3a"
             ],
             [
              0.8888888888888888,
              "#fdca26"
             ],
             [
              1,
              "#f0f921"
             ]
            ],
            "type": "heatmap"
           }
          ],
          "heatmapgl": [
           {
            "colorbar": {
             "outlinewidth": 0,
             "ticks": ""
            },
            "colorscale": [
             [
              0,
              "#0d0887"
             ],
             [
              0.1111111111111111,
              "#46039f"
             ],
             [
              0.2222222222222222,
              "#7201a8"
             ],
             [
              0.3333333333333333,
              "#9c179e"
             ],
             [
              0.4444444444444444,
              "#bd3786"
             ],
             [
              0.5555555555555556,
              "#d8576b"
             ],
             [
              0.6666666666666666,
              "#ed7953"
             ],
             [
              0.7777777777777778,
              "#fb9f3a"
             ],
             [
              0.8888888888888888,
              "#fdca26"
             ],
             [
              1,
              "#f0f921"
             ]
            ],
            "type": "heatmapgl"
           }
          ],
          "histogram": [
           {
            "marker": {
             "pattern": {
              "fillmode": "overlay",
              "size": 10,
              "solidity": 0.2
             }
            },
            "type": "histogram"
           }
          ],
          "histogram2d": [
           {
            "colorbar": {
             "outlinewidth": 0,
             "ticks": ""
            },
            "colorscale": [
             [
              0,
              "#0d0887"
             ],
             [
              0.1111111111111111,
              "#46039f"
             ],
             [
              0.2222222222222222,
              "#7201a8"
             ],
             [
              0.3333333333333333,
              "#9c179e"
             ],
             [
              0.4444444444444444,
              "#bd3786"
             ],
             [
              0.5555555555555556,
              "#d8576b"
             ],
             [
              0.6666666666666666,
              "#ed7953"
             ],
             [
              0.7777777777777778,
              "#fb9f3a"
             ],
             [
              0.8888888888888888,
              "#fdca26"
             ],
             [
              1,
              "#f0f921"
             ]
            ],
            "type": "histogram2d"
           }
          ],
          "histogram2dcontour": [
           {
            "colorbar": {
             "outlinewidth": 0,
             "ticks": ""
            },
            "colorscale": [
             [
              0,
              "#0d0887"
             ],
             [
              0.1111111111111111,
              "#46039f"
             ],
             [
              0.2222222222222222,
              "#7201a8"
             ],
             [
              0.3333333333333333,
              "#9c179e"
             ],
             [
              0.4444444444444444,
              "#bd3786"
             ],
             [
              0.5555555555555556,
              "#d8576b"
             ],
             [
              0.6666666666666666,
              "#ed7953"
             ],
             [
              0.7777777777777778,
              "#fb9f3a"
             ],
             [
              0.8888888888888888,
              "#fdca26"
             ],
             [
              1,
              "#f0f921"
             ]
            ],
            "type": "histogram2dcontour"
           }
          ],
          "mesh3d": [
           {
            "colorbar": {
             "outlinewidth": 0,
             "ticks": ""
            },
            "type": "mesh3d"
           }
          ],
          "parcoords": [
           {
            "line": {
             "colorbar": {
              "outlinewidth": 0,
              "ticks": ""
             }
            },
            "type": "parcoords"
           }
          ],
          "pie": [
           {
            "automargin": true,
            "type": "pie"
           }
          ],
          "scatter": [
           {
            "fillpattern": {
             "fillmode": "overlay",
             "size": 10,
             "solidity": 0.2
            },
            "type": "scatter"
           }
          ],
          "scatter3d": [
           {
            "line": {
             "colorbar": {
              "outlinewidth": 0,
              "ticks": ""
             }
            },
            "marker": {
             "colorbar": {
              "outlinewidth": 0,
              "ticks": ""
             }
            },
            "type": "scatter3d"
           }
          ],
          "scattercarpet": [
           {
            "marker": {
             "colorbar": {
              "outlinewidth": 0,
              "ticks": ""
             }
            },
            "type": "scattercarpet"
           }
          ],
          "scattergeo": [
           {
            "marker": {
             "colorbar": {
              "outlinewidth": 0,
              "ticks": ""
             }
            },
            "type": "scattergeo"
           }
          ],
          "scattergl": [
           {
            "marker": {
             "colorbar": {
              "outlinewidth": 0,
              "ticks": ""
             }
            },
            "type": "scattergl"
           }
          ],
          "scattermapbox": [
           {
            "marker": {
             "colorbar": {
              "outlinewidth": 0,
              "ticks": ""
             }
            },
            "type": "scattermapbox"
           }
          ],
          "scatterpolar": [
           {
            "marker": {
             "colorbar": {
              "outlinewidth": 0,
              "ticks": ""
             }
            },
            "type": "scatterpolar"
           }
          ],
          "scatterpolargl": [
           {
            "marker": {
             "colorbar": {
              "outlinewidth": 0,
              "ticks": ""
             }
            },
            "type": "scatterpolargl"
           }
          ],
          "scatterternary": [
           {
            "marker": {
             "colorbar": {
              "outlinewidth": 0,
              "ticks": ""
             }
            },
            "type": "scatterternary"
           }
          ],
          "surface": [
           {
            "colorbar": {
             "outlinewidth": 0,
             "ticks": ""
            },
            "colorscale": [
             [
              0,
              "#0d0887"
             ],
             [
              0.1111111111111111,
              "#46039f"
             ],
             [
              0.2222222222222222,
              "#7201a8"
             ],
             [
              0.3333333333333333,
              "#9c179e"
             ],
             [
              0.4444444444444444,
              "#bd3786"
             ],
             [
              0.5555555555555556,
              "#d8576b"
             ],
             [
              0.6666666666666666,
              "#ed7953"
             ],
             [
              0.7777777777777778,
              "#fb9f3a"
             ],
             [
              0.8888888888888888,
              "#fdca26"
             ],
             [
              1,
              "#f0f921"
             ]
            ],
            "type": "surface"
           }
          ],
          "table": [
           {
            "cells": {
             "fill": {
              "color": "#EBF0F8"
             },
             "line": {
              "color": "white"
             }
            },
            "header": {
             "fill": {
              "color": "#C8D4E3"
             },
             "line": {
              "color": "white"
             }
            },
            "type": "table"
           }
          ]
         },
         "layout": {
          "annotationdefaults": {
           "arrowcolor": "#2a3f5f",
           "arrowhead": 0,
           "arrowwidth": 1
          },
          "autotypenumbers": "strict",
          "coloraxis": {
           "colorbar": {
            "outlinewidth": 0,
            "ticks": ""
           }
          },
          "colorscale": {
           "diverging": [
            [
             0,
             "#8e0152"
            ],
            [
             0.1,
             "#c51b7d"
            ],
            [
             0.2,
             "#de77ae"
            ],
            [
             0.3,
             "#f1b6da"
            ],
            [
             0.4,
             "#fde0ef"
            ],
            [
             0.5,
             "#f7f7f7"
            ],
            [
             0.6,
             "#e6f5d0"
            ],
            [
             0.7,
             "#b8e186"
            ],
            [
             0.8,
             "#7fbc41"
            ],
            [
             0.9,
             "#4d9221"
            ],
            [
             1,
             "#276419"
            ]
           ],
           "sequential": [
            [
             0,
             "#0d0887"
            ],
            [
             0.1111111111111111,
             "#46039f"
            ],
            [
             0.2222222222222222,
             "#7201a8"
            ],
            [
             0.3333333333333333,
             "#9c179e"
            ],
            [
             0.4444444444444444,
             "#bd3786"
            ],
            [
             0.5555555555555556,
             "#d8576b"
            ],
            [
             0.6666666666666666,
             "#ed7953"
            ],
            [
             0.7777777777777778,
             "#fb9f3a"
            ],
            [
             0.8888888888888888,
             "#fdca26"
            ],
            [
             1,
             "#f0f921"
            ]
           ],
           "sequentialminus": [
            [
             0,
             "#0d0887"
            ],
            [
             0.1111111111111111,
             "#46039f"
            ],
            [
             0.2222222222222222,
             "#7201a8"
            ],
            [
             0.3333333333333333,
             "#9c179e"
            ],
            [
             0.4444444444444444,
             "#bd3786"
            ],
            [
             0.5555555555555556,
             "#d8576b"
            ],
            [
             0.6666666666666666,
             "#ed7953"
            ],
            [
             0.7777777777777778,
             "#fb9f3a"
            ],
            [
             0.8888888888888888,
             "#fdca26"
            ],
            [
             1,
             "#f0f921"
            ]
           ]
          },
          "colorway": [
           "#636efa",
           "#EF553B",
           "#00cc96",
           "#ab63fa",
           "#FFA15A",
           "#19d3f3",
           "#FF6692",
           "#B6E880",
           "#FF97FF",
           "#FECB52"
          ],
          "font": {
           "color": "#2a3f5f"
          },
          "geo": {
           "bgcolor": "white",
           "lakecolor": "white",
           "landcolor": "#E5ECF6",
           "showlakes": true,
           "showland": true,
           "subunitcolor": "white"
          },
          "hoverlabel": {
           "align": "left"
          },
          "hovermode": "closest",
          "mapbox": {
           "style": "light"
          },
          "paper_bgcolor": "white",
          "plot_bgcolor": "#E5ECF6",
          "polar": {
           "angularaxis": {
            "gridcolor": "white",
            "linecolor": "white",
            "ticks": ""
           },
           "bgcolor": "#E5ECF6",
           "radialaxis": {
            "gridcolor": "white",
            "linecolor": "white",
            "ticks": ""
           }
          },
          "scene": {
           "xaxis": {
            "backgroundcolor": "#E5ECF6",
            "gridcolor": "white",
            "gridwidth": 2,
            "linecolor": "white",
            "showbackground": true,
            "ticks": "",
            "zerolinecolor": "white"
           },
           "yaxis": {
            "backgroundcolor": "#E5ECF6",
            "gridcolor": "white",
            "gridwidth": 2,
            "linecolor": "white",
            "showbackground": true,
            "ticks": "",
            "zerolinecolor": "white"
           },
           "zaxis": {
            "backgroundcolor": "#E5ECF6",
            "gridcolor": "white",
            "gridwidth": 2,
            "linecolor": "white",
            "showbackground": true,
            "ticks": "",
            "zerolinecolor": "white"
           }
          },
          "shapedefaults": {
           "line": {
            "color": "#2a3f5f"
           }
          },
          "ternary": {
           "aaxis": {
            "gridcolor": "white",
            "linecolor": "white",
            "ticks": ""
           },
           "baxis": {
            "gridcolor": "white",
            "linecolor": "white",
            "ticks": ""
           },
           "bgcolor": "#E5ECF6",
           "caxis": {
            "gridcolor": "white",
            "linecolor": "white",
            "ticks": ""
           }
          },
          "title": {
           "x": 0.05
          },
          "xaxis": {
           "automargin": true,
           "gridcolor": "white",
           "linecolor": "white",
           "ticks": "",
           "title": {
            "standoff": 15
           },
           "zerolinecolor": "white",
           "zerolinewidth": 2
          },
          "yaxis": {
           "automargin": true,
           "gridcolor": "white",
           "linecolor": "white",
           "ticks": "",
           "title": {
            "standoff": 15
           },
           "zerolinecolor": "white",
           "zerolinewidth": 2
          }
         }
        },
        "xaxis": {
         "anchor": "y",
         "domain": [
          0,
          1
         ],
         "title": {
          "text": "date"
         }
        },
        "yaxis": {
         "anchor": "x",
         "domain": [
          0,
          1
         ],
         "title": {
          "text": "value"
         }
        }
       }
      }
     },
     "metadata": {},
     "output_type": "display_data"
    }
   ],
   "source": [
    "(\n",
    "    df_result_opt['rtn_3_float']\n",
    "    +1\n",
    ").cumprod().plot(kind=\"scatter\")"
   ]
  },
  {
   "cell_type": "code",
   "execution_count": 14,
   "metadata": {},
   "outputs": [
    {
     "data": {
      "text/html": [
       "<div>\n",
       "<style scoped>\n",
       "    .dataframe tbody tr th:only-of-type {\n",
       "        vertical-align: middle;\n",
       "    }\n",
       "\n",
       "    .dataframe tbody tr th {\n",
       "        vertical-align: top;\n",
       "    }\n",
       "\n",
       "    .dataframe thead th {\n",
       "        text-align: right;\n",
       "    }\n",
       "</style>\n",
       "<table border=\"1\" class=\"dataframe\">\n",
       "  <thead>\n",
       "    <tr style=\"text-align: right;\">\n",
       "      <th></th>\n",
       "      <th>rtn_3_fixed</th>\n",
       "      <th>rtn_4_fixed</th>\n",
       "      <th>rtn_5_fixed</th>\n",
       "      <th>rtn_3_float</th>\n",
       "      <th>rtn_4_float</th>\n",
       "      <th>rtn_5_float</th>\n",
       "    </tr>\n",
       "  </thead>\n",
       "  <tbody>\n",
       "    <tr>\n",
       "      <th>rtn_3_fixed</th>\n",
       "      <td>1.000000</td>\n",
       "      <td>0.625138</td>\n",
       "      <td>0.523552</td>\n",
       "      <td>0.718497</td>\n",
       "      <td>0.740857</td>\n",
       "      <td>0.525048</td>\n",
       "    </tr>\n",
       "    <tr>\n",
       "      <th>rtn_4_fixed</th>\n",
       "      <td>0.625138</td>\n",
       "      <td>1.000000</td>\n",
       "      <td>0.824556</td>\n",
       "      <td>0.834940</td>\n",
       "      <td>0.753842</td>\n",
       "      <td>0.841853</td>\n",
       "    </tr>\n",
       "    <tr>\n",
       "      <th>rtn_5_fixed</th>\n",
       "      <td>0.523552</td>\n",
       "      <td>0.824556</td>\n",
       "      <td>1.000000</td>\n",
       "      <td>0.800415</td>\n",
       "      <td>0.691340</td>\n",
       "      <td>0.902927</td>\n",
       "    </tr>\n",
       "    <tr>\n",
       "      <th>rtn_3_float</th>\n",
       "      <td>0.718497</td>\n",
       "      <td>0.834940</td>\n",
       "      <td>0.800415</td>\n",
       "      <td>1.000000</td>\n",
       "      <td>0.774585</td>\n",
       "      <td>0.771783</td>\n",
       "    </tr>\n",
       "    <tr>\n",
       "      <th>rtn_4_float</th>\n",
       "      <td>0.740857</td>\n",
       "      <td>0.753842</td>\n",
       "      <td>0.691340</td>\n",
       "      <td>0.774585</td>\n",
       "      <td>1.000000</td>\n",
       "      <td>0.700850</td>\n",
       "    </tr>\n",
       "    <tr>\n",
       "      <th>rtn_5_float</th>\n",
       "      <td>0.525048</td>\n",
       "      <td>0.841853</td>\n",
       "      <td>0.902927</td>\n",
       "      <td>0.771783</td>\n",
       "      <td>0.700850</td>\n",
       "      <td>1.000000</td>\n",
       "    </tr>\n",
       "  </tbody>\n",
       "</table>\n",
       "</div>"
      ],
      "text/plain": [
       "             rtn_3_fixed  rtn_4_fixed  rtn_5_fixed  rtn_3_float  rtn_4_float  \\\n",
       "rtn_3_fixed     1.000000     0.625138     0.523552     0.718497     0.740857   \n",
       "rtn_4_fixed     0.625138     1.000000     0.824556     0.834940     0.753842   \n",
       "rtn_5_fixed     0.523552     0.824556     1.000000     0.800415     0.691340   \n",
       "rtn_3_float     0.718497     0.834940     0.800415     1.000000     0.774585   \n",
       "rtn_4_float     0.740857     0.753842     0.691340     0.774585     1.000000   \n",
       "rtn_5_float     0.525048     0.841853     0.902927     0.771783     0.700850   \n",
       "\n",
       "             rtn_5_float  \n",
       "rtn_3_fixed     0.525048  \n",
       "rtn_4_fixed     0.841853  \n",
       "rtn_5_fixed     0.902927  \n",
       "rtn_3_float     0.771783  \n",
       "rtn_4_float     0.700850  \n",
       "rtn_5_float     1.000000  "
      ]
     },
     "execution_count": 14,
     "metadata": {},
     "output_type": "execute_result"
    }
   ],
   "source": [
    "df_result_opt.corr()"
   ]
  },
  {
   "cell_type": "code",
   "execution_count": 17,
   "metadata": {},
   "outputs": [
    {
     "data": {
      "text/plain": [
       "0.09857133659198757"
      ]
     },
     "execution_count": 17,
     "metadata": {},
     "output_type": "execute_result"
    }
   ],
   "source": [
    "df_result_opt['rtn_3_fixed'].std()"
   ]
  },
  {
   "cell_type": "code",
   "execution_count": 16,
   "metadata": {},
   "outputs": [
    {
     "data": {
      "text/plain": [
       "0.07543192507564465"
      ]
     },
     "execution_count": 16,
     "metadata": {},
     "output_type": "execute_result"
    }
   ],
   "source": [
    "\n",
    "df_result_opt[['rtn_3_fixed', 'rtn_5_float']].mean(axis=1).std()"
   ]
  },
  {
   "cell_type": "code",
   "execution_count": 18,
   "metadata": {},
   "outputs": [
    {
     "data": {
      "text/plain": [
       "0.07363327236866406"
      ]
     },
     "execution_count": 18,
     "metadata": {},
     "output_type": "execute_result"
    }
   ],
   "source": [
    "df_result_opt['rtn_5_float'].std()"
   ]
  },
  {
   "cell_type": "code",
   "execution_count": 19,
   "metadata": {},
   "outputs": [
    {
     "data": {
      "application/vnd.plotly.v1+json": {
       "config": {
        "plotlyServerURL": "https://plot.ly"
       },
       "data": [
        {
         "hovertemplate": "variable=0<br>date=%{x}<br>value=%{y}<extra></extra>",
         "legendgroup": "0",
         "marker": {
          "color": "#636efa",
          "symbol": "circle"
         },
         "mode": "markers",
         "name": "0",
         "orientation": "v",
         "showlegend": true,
         "type": "scatter",
         "x": [
          "2015-11-26",
          "2015-12-23",
          "2016-01-22",
          "2016-02-23",
          "2016-03-22",
          "2016-04-19",
          "2016-05-18",
          "2016-06-15",
          "2016-07-12",
          "2016-08-08",
          "2016-09-05",
          "2016-10-06",
          "2016-11-02",
          "2016-11-29",
          "2016-12-26",
          "2017-01-23",
          "2017-02-21",
          "2017-03-21",
          "2017-04-17",
          "2017-05-18",
          "2017-06-15",
          "2017-07-12",
          "2017-08-08",
          "2017-09-05",
          "2017-10-10",
          "2017-11-06",
          "2017-12-01",
          "2018-01-02",
          "2018-01-29",
          "2018-02-27",
          "2018-03-27",
          "2018-04-23",
          "2018-05-23",
          "2018-06-21",
          "2018-07-18",
          "2018-08-14",
          "2018-09-11",
          "2018-10-15",
          "2018-11-09",
          "2018-12-06",
          "2019-01-07",
          "2019-02-01",
          "2019-03-06",
          "2019-04-02",
          "2019-04-29",
          "2019-05-28",
          "2019-06-25",
          "2019-07-22",
          "2019-08-19",
          "2019-09-17",
          "2019-10-16",
          "2019-11-12",
          "2019-12-09",
          "2020-01-08",
          "2020-02-06",
          "2020-03-04",
          "2020-03-31",
          "2020-04-28",
          "2020-05-28",
          "2020-06-24",
          "2020-07-21",
          "2020-08-18",
          "2020-09-14",
          "2020-10-15",
          "2020-11-11",
          "2020-12-08",
          "2021-01-07",
          "2021-02-03",
          "2021-03-05",
          "2021-04-01",
          "2021-04-28",
          "2021-05-27",
          "2021-06-23",
          "2021-07-20",
          "2021-08-17",
          "2021-09-13",
          "2021-10-15",
          "2021-11-11",
          "2021-12-08",
          "2022-01-05",
          "2022-02-04",
          "2022-03-04",
          "2022-04-01",
          "2022-04-28",
          "2022-05-26",
          "2022-06-24",
          "2022-07-21",
          "2022-08-18",
          "2022-09-16",
          "2022-10-17",
          "2022-11-11",
          "2022-12-08",
          "2023-01-05",
          "2023-02-03",
          "2023-03-03",
          "2023-03-30",
          "2023-04-26",
          "2023-05-25",
          "2023-06-23",
          "2023-07-20",
          "2023-08-17",
          "2023-09-13",
          "2023-09-19"
         ],
         "xaxis": "x",
         "y": [
          0.9751623078276553,
          1.1316169396964373,
          1.1395472847798713,
          1.2796001048398458,
          1.3924441254594748,
          1.5198863273914556,
          1.4931764704589248,
          1.7937744640234852,
          1.8551337736547076,
          1.9141491318299833,
          1.9126018408453853,
          2.19039801219461,
          1.9934680909780493,
          1.927140877476315,
          2.114831664363271,
          2.5491254288602936,
          2.500393976854055,
          2.6250906577257402,
          2.8047263424940527,
          2.7732205275058868,
          3.0267145258650294,
          3.0995132295651886,
          3.270732862108358,
          3.2567196960402067,
          3.333588997684812,
          3.610970305815895,
          3.9039056564333037,
          4.294418746275083,
          4.7443675097223865,
          5.014669094684615,
          5.103671920883547,
          5.985177872953596,
          6.138018885428034,
          6.167799911330605,
          6.471711957226057,
          6.230735576232352,
          6.917530056928202,
          6.571159481794389,
          6.605630563677986,
          7.201681436765285,
          7.32583794560001,
          8.663224035776254,
          8.639307359262666,
          8.548998742783757,
          8.817261091068634,
          8.648021436873321,
          9.004703161335938,
          9.179376805689058,
          9.148707102643149,
          9.913925597487328,
          10.941602289195723,
          11.906589570360927,
          14.15694881801979,
          14.998116935059103,
          14.57426827483855,
          13.097732730206731,
          12.268999981260638,
          14.114750591548418,
          14.47125007204187,
          13.763248148903958,
          14.420432916583092,
          14.19077212385301,
          16.092698053986606,
          16.55795802350088,
          16.656078768894712,
          16.3295621837884,
          18.165690839208494,
          19.13951132183027,
          19.938075925629978,
          22.55167017242756,
          22.746038385638002,
          23.91352856939429,
          27.247163187559195,
          27.11322801145335,
          25.12477236189344,
          26.941303658770146,
          28.732301008170808,
          30.872161253620384,
          34.74496495853721,
          48.01600618759667,
          49.67827438168615,
          52.84192118460049,
          57.86163208768021,
          55.2510713463058,
          60.477915467844404,
          53.478989708994554,
          60.211378724047,
          62.445712961281245,
          62.04832162620237,
          73.44123787068864,
          83.94372402774597,
          84.88654742719173,
          90.41386006283103,
          90.41386006283103,
          90.41386006283103,
          93.42447214960863,
          97.9994601176501,
          95.3916882855568,
          98.76774691256627,
          107.34248825334099,
          105.78512904360741,
          112.43596507407953,
          112.43596507407953
         ],
         "yaxis": "y"
        }
       ],
       "layout": {
        "legend": {
         "title": {
          "text": "variable"
         },
         "tracegroupgap": 0
        },
        "margin": {
         "t": 60
        },
        "template": {
         "data": {
          "bar": [
           {
            "error_x": {
             "color": "#2a3f5f"
            },
            "error_y": {
             "color": "#2a3f5f"
            },
            "marker": {
             "line": {
              "color": "#E5ECF6",
              "width": 0.5
             },
             "pattern": {
              "fillmode": "overlay",
              "size": 10,
              "solidity": 0.2
             }
            },
            "type": "bar"
           }
          ],
          "barpolar": [
           {
            "marker": {
             "line": {
              "color": "#E5ECF6",
              "width": 0.5
             },
             "pattern": {
              "fillmode": "overlay",
              "size": 10,
              "solidity": 0.2
             }
            },
            "type": "barpolar"
           }
          ],
          "carpet": [
           {
            "aaxis": {
             "endlinecolor": "#2a3f5f",
             "gridcolor": "white",
             "linecolor": "white",
             "minorgridcolor": "white",
             "startlinecolor": "#2a3f5f"
            },
            "baxis": {
             "endlinecolor": "#2a3f5f",
             "gridcolor": "white",
             "linecolor": "white",
             "minorgridcolor": "white",
             "startlinecolor": "#2a3f5f"
            },
            "type": "carpet"
           }
          ],
          "choropleth": [
           {
            "colorbar": {
             "outlinewidth": 0,
             "ticks": ""
            },
            "type": "choropleth"
           }
          ],
          "contour": [
           {
            "colorbar": {
             "outlinewidth": 0,
             "ticks": ""
            },
            "colorscale": [
             [
              0,
              "#0d0887"
             ],
             [
              0.1111111111111111,
              "#46039f"
             ],
             [
              0.2222222222222222,
              "#7201a8"
             ],
             [
              0.3333333333333333,
              "#9c179e"
             ],
             [
              0.4444444444444444,
              "#bd3786"
             ],
             [
              0.5555555555555556,
              "#d8576b"
             ],
             [
              0.6666666666666666,
              "#ed7953"
             ],
             [
              0.7777777777777778,
              "#fb9f3a"
             ],
             [
              0.8888888888888888,
              "#fdca26"
             ],
             [
              1,
              "#f0f921"
             ]
            ],
            "type": "contour"
           }
          ],
          "contourcarpet": [
           {
            "colorbar": {
             "outlinewidth": 0,
             "ticks": ""
            },
            "type": "contourcarpet"
           }
          ],
          "heatmap": [
           {
            "colorbar": {
             "outlinewidth": 0,
             "ticks": ""
            },
            "colorscale": [
             [
              0,
              "#0d0887"
             ],
             [
              0.1111111111111111,
              "#46039f"
             ],
             [
              0.2222222222222222,
              "#7201a8"
             ],
             [
              0.3333333333333333,
              "#9c179e"
             ],
             [
              0.4444444444444444,
              "#bd3786"
             ],
             [
              0.5555555555555556,
              "#d8576b"
             ],
             [
              0.6666666666666666,
              "#ed7953"
             ],
             [
              0.7777777777777778,
              "#fb9f3a"
             ],
             [
              0.8888888888888888,
              "#fdca26"
             ],
             [
              1,
              "#f0f921"
             ]
            ],
            "type": "heatmap"
           }
          ],
          "heatmapgl": [
           {
            "colorbar": {
             "outlinewidth": 0,
             "ticks": ""
            },
            "colorscale": [
             [
              0,
              "#0d0887"
             ],
             [
              0.1111111111111111,
              "#46039f"
             ],
             [
              0.2222222222222222,
              "#7201a8"
             ],
             [
              0.3333333333333333,
              "#9c179e"
             ],
             [
              0.4444444444444444,
              "#bd3786"
             ],
             [
              0.5555555555555556,
              "#d8576b"
             ],
             [
              0.6666666666666666,
              "#ed7953"
             ],
             [
              0.7777777777777778,
              "#fb9f3a"
             ],
             [
              0.8888888888888888,
              "#fdca26"
             ],
             [
              1,
              "#f0f921"
             ]
            ],
            "type": "heatmapgl"
           }
          ],
          "histogram": [
           {
            "marker": {
             "pattern": {
              "fillmode": "overlay",
              "size": 10,
              "solidity": 0.2
             }
            },
            "type": "histogram"
           }
          ],
          "histogram2d": [
           {
            "colorbar": {
             "outlinewidth": 0,
             "ticks": ""
            },
            "colorscale": [
             [
              0,
              "#0d0887"
             ],
             [
              0.1111111111111111,
              "#46039f"
             ],
             [
              0.2222222222222222,
              "#7201a8"
             ],
             [
              0.3333333333333333,
              "#9c179e"
             ],
             [
              0.4444444444444444,
              "#bd3786"
             ],
             [
              0.5555555555555556,
              "#d8576b"
             ],
             [
              0.6666666666666666,
              "#ed7953"
             ],
             [
              0.7777777777777778,
              "#fb9f3a"
             ],
             [
              0.8888888888888888,
              "#fdca26"
             ],
             [
              1,
              "#f0f921"
             ]
            ],
            "type": "histogram2d"
           }
          ],
          "histogram2dcontour": [
           {
            "colorbar": {
             "outlinewidth": 0,
             "ticks": ""
            },
            "colorscale": [
             [
              0,
              "#0d0887"
             ],
             [
              0.1111111111111111,
              "#46039f"
             ],
             [
              0.2222222222222222,
              "#7201a8"
             ],
             [
              0.3333333333333333,
              "#9c179e"
             ],
             [
              0.4444444444444444,
              "#bd3786"
             ],
             [
              0.5555555555555556,
              "#d8576b"
             ],
             [
              0.6666666666666666,
              "#ed7953"
             ],
             [
              0.7777777777777778,
              "#fb9f3a"
             ],
             [
              0.8888888888888888,
              "#fdca26"
             ],
             [
              1,
              "#f0f921"
             ]
            ],
            "type": "histogram2dcontour"
           }
          ],
          "mesh3d": [
           {
            "colorbar": {
             "outlinewidth": 0,
             "ticks": ""
            },
            "type": "mesh3d"
           }
          ],
          "parcoords": [
           {
            "line": {
             "colorbar": {
              "outlinewidth": 0,
              "ticks": ""
             }
            },
            "type": "parcoords"
           }
          ],
          "pie": [
           {
            "automargin": true,
            "type": "pie"
           }
          ],
          "scatter": [
           {
            "fillpattern": {
             "fillmode": "overlay",
             "size": 10,
             "solidity": 0.2
            },
            "type": "scatter"
           }
          ],
          "scatter3d": [
           {
            "line": {
             "colorbar": {
              "outlinewidth": 0,
              "ticks": ""
             }
            },
            "marker": {
             "colorbar": {
              "outlinewidth": 0,
              "ticks": ""
             }
            },
            "type": "scatter3d"
           }
          ],
          "scattercarpet": [
           {
            "marker": {
             "colorbar": {
              "outlinewidth": 0,
              "ticks": ""
             }
            },
            "type": "scattercarpet"
           }
          ],
          "scattergeo": [
           {
            "marker": {
             "colorbar": {
              "outlinewidth": 0,
              "ticks": ""
             }
            },
            "type": "scattergeo"
           }
          ],
          "scattergl": [
           {
            "marker": {
             "colorbar": {
              "outlinewidth": 0,
              "ticks": ""
             }
            },
            "type": "scattergl"
           }
          ],
          "scattermapbox": [
           {
            "marker": {
             "colorbar": {
              "outlinewidth": 0,
              "ticks": ""
             }
            },
            "type": "scattermapbox"
           }
          ],
          "scatterpolar": [
           {
            "marker": {
             "colorbar": {
              "outlinewidth": 0,
              "ticks": ""
             }
            },
            "type": "scatterpolar"
           }
          ],
          "scatterpolargl": [
           {
            "marker": {
             "colorbar": {
              "outlinewidth": 0,
              "ticks": ""
             }
            },
            "type": "scatterpolargl"
           }
          ],
          "scatterternary": [
           {
            "marker": {
             "colorbar": {
              "outlinewidth": 0,
              "ticks": ""
             }
            },
            "type": "scatterternary"
           }
          ],
          "surface": [
           {
            "colorbar": {
             "outlinewidth": 0,
             "ticks": ""
            },
            "colorscale": [
             [
              0,
              "#0d0887"
             ],
             [
              0.1111111111111111,
              "#46039f"
             ],
             [
              0.2222222222222222,
              "#7201a8"
             ],
             [
              0.3333333333333333,
              "#9c179e"
             ],
             [
              0.4444444444444444,
              "#bd3786"
             ],
             [
              0.5555555555555556,
              "#d8576b"
             ],
             [
              0.6666666666666666,
              "#ed7953"
             ],
             [
              0.7777777777777778,
              "#fb9f3a"
             ],
             [
              0.8888888888888888,
              "#fdca26"
             ],
             [
              1,
              "#f0f921"
             ]
            ],
            "type": "surface"
           }
          ],
          "table": [
           {
            "cells": {
             "fill": {
              "color": "#EBF0F8"
             },
             "line": {
              "color": "white"
             }
            },
            "header": {
             "fill": {
              "color": "#C8D4E3"
             },
             "line": {
              "color": "white"
             }
            },
            "type": "table"
           }
          ]
         },
         "layout": {
          "annotationdefaults": {
           "arrowcolor": "#2a3f5f",
           "arrowhead": 0,
           "arrowwidth": 1
          },
          "autotypenumbers": "strict",
          "coloraxis": {
           "colorbar": {
            "outlinewidth": 0,
            "ticks": ""
           }
          },
          "colorscale": {
           "diverging": [
            [
             0,
             "#8e0152"
            ],
            [
             0.1,
             "#c51b7d"
            ],
            [
             0.2,
             "#de77ae"
            ],
            [
             0.3,
             "#f1b6da"
            ],
            [
             0.4,
             "#fde0ef"
            ],
            [
             0.5,
             "#f7f7f7"
            ],
            [
             0.6,
             "#e6f5d0"
            ],
            [
             0.7,
             "#b8e186"
            ],
            [
             0.8,
             "#7fbc41"
            ],
            [
             0.9,
             "#4d9221"
            ],
            [
             1,
             "#276419"
            ]
           ],
           "sequential": [
            [
             0,
             "#0d0887"
            ],
            [
             0.1111111111111111,
             "#46039f"
            ],
            [
             0.2222222222222222,
             "#7201a8"
            ],
            [
             0.3333333333333333,
             "#9c179e"
            ],
            [
             0.4444444444444444,
             "#bd3786"
            ],
            [
             0.5555555555555556,
             "#d8576b"
            ],
            [
             0.6666666666666666,
             "#ed7953"
            ],
            [
             0.7777777777777778,
             "#fb9f3a"
            ],
            [
             0.8888888888888888,
             "#fdca26"
            ],
            [
             1,
             "#f0f921"
            ]
           ],
           "sequentialminus": [
            [
             0,
             "#0d0887"
            ],
            [
             0.1111111111111111,
             "#46039f"
            ],
            [
             0.2222222222222222,
             "#7201a8"
            ],
            [
             0.3333333333333333,
             "#9c179e"
            ],
            [
             0.4444444444444444,
             "#bd3786"
            ],
            [
             0.5555555555555556,
             "#d8576b"
            ],
            [
             0.6666666666666666,
             "#ed7953"
            ],
            [
             0.7777777777777778,
             "#fb9f3a"
            ],
            [
             0.8888888888888888,
             "#fdca26"
            ],
            [
             1,
             "#f0f921"
            ]
           ]
          },
          "colorway": [
           "#636efa",
           "#EF553B",
           "#00cc96",
           "#ab63fa",
           "#FFA15A",
           "#19d3f3",
           "#FF6692",
           "#B6E880",
           "#FF97FF",
           "#FECB52"
          ],
          "font": {
           "color": "#2a3f5f"
          },
          "geo": {
           "bgcolor": "white",
           "lakecolor": "white",
           "landcolor": "#E5ECF6",
           "showlakes": true,
           "showland": true,
           "subunitcolor": "white"
          },
          "hoverlabel": {
           "align": "left"
          },
          "hovermode": "closest",
          "mapbox": {
           "style": "light"
          },
          "paper_bgcolor": "white",
          "plot_bgcolor": "#E5ECF6",
          "polar": {
           "angularaxis": {
            "gridcolor": "white",
            "linecolor": "white",
            "ticks": ""
           },
           "bgcolor": "#E5ECF6",
           "radialaxis": {
            "gridcolor": "white",
            "linecolor": "white",
            "ticks": ""
           }
          },
          "scene": {
           "xaxis": {
            "backgroundcolor": "#E5ECF6",
            "gridcolor": "white",
            "gridwidth": 2,
            "linecolor": "white",
            "showbackground": true,
            "ticks": "",
            "zerolinecolor": "white"
           },
           "yaxis": {
            "backgroundcolor": "#E5ECF6",
            "gridcolor": "white",
            "gridwidth": 2,
            "linecolor": "white",
            "showbackground": true,
            "ticks": "",
            "zerolinecolor": "white"
           },
           "zaxis": {
            "backgroundcolor": "#E5ECF6",
            "gridcolor": "white",
            "gridwidth": 2,
            "linecolor": "white",
            "showbackground": true,
            "ticks": "",
            "zerolinecolor": "white"
           }
          },
          "shapedefaults": {
           "line": {
            "color": "#2a3f5f"
           }
          },
          "ternary": {
           "aaxis": {
            "gridcolor": "white",
            "linecolor": "white",
            "ticks": ""
           },
           "baxis": {
            "gridcolor": "white",
            "linecolor": "white",
            "ticks": ""
           },
           "bgcolor": "#E5ECF6",
           "caxis": {
            "gridcolor": "white",
            "linecolor": "white",
            "ticks": ""
           }
          },
          "title": {
           "x": 0.05
          },
          "xaxis": {
           "automargin": true,
           "gridcolor": "white",
           "linecolor": "white",
           "ticks": "",
           "title": {
            "standoff": 15
           },
           "zerolinecolor": "white",
           "zerolinewidth": 2
          },
          "yaxis": {
           "automargin": true,
           "gridcolor": "white",
           "linecolor": "white",
           "ticks": "",
           "title": {
            "standoff": 15
           },
           "zerolinecolor": "white",
           "zerolinewidth": 2
          }
         }
        },
        "xaxis": {
         "anchor": "y",
         "domain": [
          0,
          1
         ],
         "title": {
          "text": "date"
         }
        },
        "yaxis": {
         "anchor": "x",
         "domain": [
          0,
          1
         ],
         "title": {
          "text": "value"
         }
        }
       }
      }
     },
     "metadata": {},
     "output_type": "display_data"
    }
   ],
   "source": [
    "(\n",
    "    df_result_opt[['rtn_3_fixed', 'rtn_5_float']].mean(axis=1)\n",
    "    +1\n",
    ").cumprod().plot(kind='scatter')"
   ]
  },
  {
   "cell_type": "code",
   "execution_count": 5,
   "metadata": {},
   "outputs": [
    {
     "name": "stdout",
     "output_type": "stream",
     "text": [
      "combi : rtn_3_fixed / rtn_4_fixed / rtn_5_fixed\n",
      "mean : 0.04757255694481994\n",
      "std : 0.07278096966336152\n",
      "sharpe : 0.65364005405342\n",
      "\n",
      "\n",
      "combi : rtn_3_fixed / rtn_4_fixed / rtn_5_float\n",
      "mean : 0.048608249007069865\n",
      "std : 0.07229897812108596\n",
      "sharpe : 0.6723227667984604\n",
      "\n",
      "\n",
      "combi : rtn_3_fixed / rtn_4_fixed / \n",
      "mean : 0.049731194519172746\n",
      "std : 0.07852646327625361\n",
      "sharpe : 0.6333049069613639\n",
      "\n",
      "\n",
      "combi : rtn_3_fixed / rtn_4_float / rtn_5_fixed\n",
      "mean : 0.0489563413613644\n",
      "std : 0.0711077930673679\n",
      "sharpe : 0.6884806748956882\n",
      "\n",
      "\n",
      "combi : rtn_3_fixed / rtn_4_float / rtn_5_float\n",
      "mean : 0.04999203342361436\n",
      "std : 0.07058969331485399\n",
      "sharpe : 0.7082058453014227\n",
      "\n",
      "\n",
      "combi : rtn_3_fixed / rtn_4_float / \n",
      "mean : 0.051806871143989484\n",
      "std : 0.07849748970949326\n",
      "sharpe : 0.659981246989152\n",
      "\n",
      "\n",
      "combi : rtn_3_fixed /  / rtn_5_fixed\n",
      "mean : 0.04796190212901982\n",
      "std : 0.07632717670222296\n",
      "sharpe : 0.6283725430607074\n",
      "\n",
      "\n",
      "combi : rtn_3_fixed /  / rtn_5_float\n",
      "mean : 0.049515440222394715\n",
      "std : 0.07543192507564465\n",
      "sharpe : 0.6564255144322465\n",
      "\n",
      "\n",
      "combi : rtn_3_fixed /  / \n",
      "mean : 0.05266852246192532\n",
      "std : 0.09857133659198757\n",
      "sharpe : 0.5343188424027773\n",
      "\n",
      "\n",
      "combi : rtn_3_float / rtn_4_fixed / rtn_5_fixed\n",
      "mean : 0.04673862030237042\n",
      "std : 0.07016181483409216\n",
      "sharpe : 0.6661546656524023\n",
      "\n",
      "\n",
      "combi : rtn_3_float / rtn_4_fixed / rtn_5_float\n",
      "mean : 0.04777431236462038\n",
      "std : 0.06937264640229183\n",
      "sharpe : 0.6886621001536721\n",
      "\n",
      "\n",
      "combi : rtn_3_float / rtn_4_fixed / \n",
      "mean : 0.048480289555498504\n",
      "std : 0.07112497228328456\n",
      "sharpe : 0.681621208404915\n",
      "\n",
      "\n",
      "combi : rtn_3_float / rtn_4_float / rtn_5_fixed\n",
      "mean : 0.04812240471891492\n",
      "std : 0.06662421296970815\n",
      "sharpe : 0.7222960328371099\n",
      "\n",
      "\n",
      "combi : rtn_3_float / rtn_4_float / rtn_5_float\n",
      "mean : 0.04915809678116485\n",
      "std : 0.06576612682100424\n",
      "sharpe : 0.7474683268935467\n",
      "\n",
      "\n",
      "combi : rtn_3_float / rtn_4_float / \n",
      "mean : 0.05055596618031523\n",
      "std : 0.06713523624460727\n",
      "sharpe : 0.7530466712906847\n",
      "\n",
      "\n",
      "combi : rtn_3_float /  / rtn_5_fixed\n",
      "mean : 0.046710997165345554\n",
      "std : 0.07072500116020838\n",
      "sharpe : 0.6604594754199354\n",
      "\n",
      "\n",
      "combi : rtn_3_float /  / rtn_5_float\n",
      "mean : 0.04826453525872047\n",
      "std : 0.06910671614983573\n",
      "sharpe : 0.6984058561554903\n",
      "\n",
      "\n",
      "combi : rtn_3_float /  / \n",
      "mean : 0.050166712534576836\n",
      "std : 0.0732119422639745\n",
      "sharpe : 0.6852258112985815\n",
      "\n",
      "\n",
      "combi :  / rtn_4_fixed / rtn_5_fixed\n",
      "mean : 0.04502457418626722\n",
      "std : 0.07219207996431591\n",
      "sharpe : 0.6236774755419512\n",
      "\n",
      "\n",
      "combi :  / rtn_4_fixed / rtn_5_float\n",
      "mean : 0.04657811227964214\n",
      "std : 0.07146073552913434\n",
      "sharpe : 0.6518000680338978\n",
      "\n",
      "\n",
      "combi :  / rtn_4_fixed / \n",
      "mean : 0.046793866576420186\n",
      "std : 0.07529689619904167\n",
      "sharpe : 0.6214581070210932\n",
      "\n",
      "\n",
      "combi :  / rtn_4_float / rtn_5_fixed\n",
      "mean : 0.04710025081108395\n",
      "std : 0.06677296899994344\n",
      "sharpe : 0.7053790106461172\n",
      "\n",
      "\n",
      "combi :  / rtn_4_float / rtn_5_float\n",
      "mean : 0.04865378890445886\n",
      "std : 0.06592212011887041\n",
      "sharpe : 0.7380495168651525\n",
      "\n",
      "\n",
      "combi :  / rtn_4_float / \n",
      "mean : 0.050945219826053614\n",
      "std : 0.06932472943539533\n",
      "sharpe : 0.7348780188681466\n",
      "\n",
      "\n",
      "combi :  /  / rtn_5_fixed\n",
      "mean : 0.043255281796114285\n",
      "std : 0.0758696389166372\n",
      "sharpe : 0.570126369569804\n",
      "\n",
      "\n",
      "combi :  /  / rtn_5_float\n",
      "mean : 0.046362357982864096\n",
      "std : 0.07363327236866406\n",
      "sharpe : 0.6296387012482474\n",
      "\n",
      "\n",
      "combi :  /  / \n",
      "mean : nan\n",
      "std : nan\n",
      "sharpe : nan\n",
      "\n",
      "\n"
     ]
    }
   ],
   "source": [
    "for rtn3 in ['rtn_3_fixed', 'rtn_3_float', '']:\n",
    "    for rtn4 in ['rtn_4_fixed', 'rtn_4_float', '']:\n",
    "        for rtn5 in ['rtn_5_fixed', 'rtn_5_float', '']:\n",
    "\n",
    "            cols = []\n",
    "            if rtn3 != '':\n",
    "                cols.append(rtn3)\n",
    "            if rtn4 != '':\n",
    "                cols.append(rtn4)\n",
    "            if rtn5 != '':\n",
    "                cols.append(rtn5)\n",
    "\n",
    "            sr = df_result_opt[cols].mean(axis=1)\n",
    "\n",
    "            print( f\"combi : {rtn3} / {rtn4} / {rtn5}\")\n",
    "            print(f\"mean : {sr.mean()}\")\n",
    "            print(f\"std : {sr.std()}\")\n",
    "            # print((sr+1).cumprod().iloc[-1])\n",
    "            \n",
    "            print(f\"sharpe : {sr.mean()/sr.std()}\")\n",
    "            print('\\n')\n",
    "\n",
    "            "
   ]
  },
  {
   "cell_type": "code",
   "execution_count": null,
   "metadata": {},
   "outputs": [],
   "source": []
  },
  {
   "cell_type": "code",
   "execution_count": 10,
   "metadata": {},
   "outputs": [
    {
     "data": {
      "text/plain": [
       "0.06713523624460727"
      ]
     },
     "execution_count": 10,
     "metadata": {},
     "output_type": "execute_result"
    }
   ],
   "source": [
    "(df_result_opt[['rtn_3_float', 'rtn_4_float']]).mean(axis=1).std()"
   ]
  },
  {
   "cell_type": "code",
   "execution_count": 32,
   "metadata": {},
   "outputs": [
    {
     "data": {
      "application/vnd.plotly.v1+json": {
       "config": {
        "plotlyServerURL": "https://plot.ly"
       },
       "data": [
        {
         "alignmentgroup": "True",
         "bingroup": "x",
         "histnorm": "probability density",
         "hovertemplate": "variable=0<br>value=%{x}<br>probability density=%{y}<extra></extra>",
         "legendgroup": "0",
         "marker": {
          "color": "#636efa",
          "pattern": {
           "shape": ""
          }
         },
         "name": "0",
         "nbinsx": 30,
         "offsetgroup": "0",
         "orientation": "v",
         "showlegend": true,
         "type": "histogram",
         "x": [
          0.0339623783342982,
          0.20221190636907477,
          0.026111096965787027,
          0.10306935178865854,
          0.09627855136681686,
          0.11273456292921981,
          -0.05905691161287965,
          0.1307988577859899,
          0.034556329593824354,
          0.04354930504065803,
          -0.006984789566168943,
          0.12301648366881487,
          -0.06813309447160154,
          0.03011996109927123,
          0.08944854195052862,
          0.10770475842801527,
          -0.018127221765664385,
          0.05284316406943112,
          0.0992777546496682,
          0.010807555649570057,
          0.09817349434605842,
          0.01888819824934178,
          0.0994871540709152,
          -0.019487600026663728,
          0.01609555253583927,
          0.06491353738128942,
          0.08976564215156098,
          0.027091939664272226,
          0.0857613493773964,
          0.05298508818369603,
          0.009706288696409455,
          0.14626935316598447,
          0.08723391855130992,
          0.00010583573449174941,
          0.08077658070807647,
          -0.00996387629697849,
          0.0893144808627854,
          -0.08516116732065127,
          0.05577934920383437,
          0.06942838889065911,
          0.060606790323844945,
          0.1745363084471635,
          0.048051328420051845,
          0.008688334500066454,
          -0.009761553057017446,
          -0.009473335118228133,
          0.029005441223939638,
          0.056935901790804225,
          -0.009998531635716387,
          0.10026110979002707,
          0.12383427915281245,
          0.07840238868430817,
          0.16905606345097568,
          0.1126935213336147,
          -0.03175464454134398,
          -0.05787266438150904,
          -0.047762154277631544,
          0.18960922196354144,
          0.008485459171179426,
          -0.017103636312606058,
          0.025370497936252925,
          0.012546012873846761,
          0.13484076336900816,
          0.011437013999660583,
          -0.005611450218480181,
          -0.0029676028973549106,
          0.1336950474893234,
          0.03738646553915545,
          0.042034113727410116,
          0.04036280924037221,
          -0.024335720172151982,
          0.09728917513458762,
          0.2039111283024676,
          -0.005975397580240932,
          -0.07644541207857919,
          0.04647259664692362,
          0.06371692245623886,
          0.08181048121158524,
          0.044618689839364054,
          0.27698242191579203,
          0.09874458044888682,
          0.06280985450234089,
          0.11151075291655227,
          -0.04475638585789364,
          0.08117956858064489,
          -0.10675607949177236,
          0.08501529549074674,
          0.009382033033243302,
          0.0014379824446749548,
          0.13297653052953445,
          0.12094546627927787,
          -0.00466609264918255,
          0.0979041474622469,
          0,
          0,
          0.005688919872034406,
          0.11245877728177206,
          -0.008364497261729399,
          0.0456638131626288,
          0.06629279778390958,
          0.04101546152420806,
          0.06385135445394668,
          0
         ],
         "xaxis": "x",
         "yaxis": "y"
        },
        {
         "alignmentgroup": "True",
         "hovertemplate": "variable=0<br>value=%{x}<extra></extra>",
         "legendgroup": "0",
         "marker": {
          "color": "#636efa"
         },
         "name": "0",
         "offsetgroup": "0",
         "scalegroup": "x",
         "showlegend": false,
         "type": "violin",
         "x": [
          0.0339623783342982,
          0.20221190636907477,
          0.026111096965787027,
          0.10306935178865854,
          0.09627855136681686,
          0.11273456292921981,
          -0.05905691161287965,
          0.1307988577859899,
          0.034556329593824354,
          0.04354930504065803,
          -0.006984789566168943,
          0.12301648366881487,
          -0.06813309447160154,
          0.03011996109927123,
          0.08944854195052862,
          0.10770475842801527,
          -0.018127221765664385,
          0.05284316406943112,
          0.0992777546496682,
          0.010807555649570057,
          0.09817349434605842,
          0.01888819824934178,
          0.0994871540709152,
          -0.019487600026663728,
          0.01609555253583927,
          0.06491353738128942,
          0.08976564215156098,
          0.027091939664272226,
          0.0857613493773964,
          0.05298508818369603,
          0.009706288696409455,
          0.14626935316598447,
          0.08723391855130992,
          0.00010583573449174941,
          0.08077658070807647,
          -0.00996387629697849,
          0.0893144808627854,
          -0.08516116732065127,
          0.05577934920383437,
          0.06942838889065911,
          0.060606790323844945,
          0.1745363084471635,
          0.048051328420051845,
          0.008688334500066454,
          -0.009761553057017446,
          -0.009473335118228133,
          0.029005441223939638,
          0.056935901790804225,
          -0.009998531635716387,
          0.10026110979002707,
          0.12383427915281245,
          0.07840238868430817,
          0.16905606345097568,
          0.1126935213336147,
          -0.03175464454134398,
          -0.05787266438150904,
          -0.047762154277631544,
          0.18960922196354144,
          0.008485459171179426,
          -0.017103636312606058,
          0.025370497936252925,
          0.012546012873846761,
          0.13484076336900816,
          0.011437013999660583,
          -0.005611450218480181,
          -0.0029676028973549106,
          0.1336950474893234,
          0.03738646553915545,
          0.042034113727410116,
          0.04036280924037221,
          -0.024335720172151982,
          0.09728917513458762,
          0.2039111283024676,
          -0.005975397580240932,
          -0.07644541207857919,
          0.04647259664692362,
          0.06371692245623886,
          0.08181048121158524,
          0.044618689839364054,
          0.27698242191579203,
          0.09874458044888682,
          0.06280985450234089,
          0.11151075291655227,
          -0.04475638585789364,
          0.08117956858064489,
          -0.10675607949177236,
          0.08501529549074674,
          0.009382033033243302,
          0.0014379824446749548,
          0.13297653052953445,
          0.12094546627927787,
          -0.00466609264918255,
          0.0979041474622469,
          0,
          0,
          0.005688919872034406,
          0.11245877728177206,
          -0.008364497261729399,
          0.0456638131626288,
          0.06629279778390958,
          0.04101546152420806,
          0.06385135445394668,
          0
         ],
         "xaxis": "x2",
         "yaxis": "y2"
        }
       ],
       "layout": {
        "barmode": "relative",
        "legend": {
         "title": {
          "text": "variable"
         },
         "tracegroupgap": 0
        },
        "margin": {
         "t": 60
        },
        "template": {
         "data": {
          "bar": [
           {
            "error_x": {
             "color": "#2a3f5f"
            },
            "error_y": {
             "color": "#2a3f5f"
            },
            "marker": {
             "line": {
              "color": "#E5ECF6",
              "width": 0.5
             },
             "pattern": {
              "fillmode": "overlay",
              "size": 10,
              "solidity": 0.2
             }
            },
            "type": "bar"
           }
          ],
          "barpolar": [
           {
            "marker": {
             "line": {
              "color": "#E5ECF6",
              "width": 0.5
             },
             "pattern": {
              "fillmode": "overlay",
              "size": 10,
              "solidity": 0.2
             }
            },
            "type": "barpolar"
           }
          ],
          "carpet": [
           {
            "aaxis": {
             "endlinecolor": "#2a3f5f",
             "gridcolor": "white",
             "linecolor": "white",
             "minorgridcolor": "white",
             "startlinecolor": "#2a3f5f"
            },
            "baxis": {
             "endlinecolor": "#2a3f5f",
             "gridcolor": "white",
             "linecolor": "white",
             "minorgridcolor": "white",
             "startlinecolor": "#2a3f5f"
            },
            "type": "carpet"
           }
          ],
          "choropleth": [
           {
            "colorbar": {
             "outlinewidth": 0,
             "ticks": ""
            },
            "type": "choropleth"
           }
          ],
          "contour": [
           {
            "colorbar": {
             "outlinewidth": 0,
             "ticks": ""
            },
            "colorscale": [
             [
              0,
              "#0d0887"
             ],
             [
              0.1111111111111111,
              "#46039f"
             ],
             [
              0.2222222222222222,
              "#7201a8"
             ],
             [
              0.3333333333333333,
              "#9c179e"
             ],
             [
              0.4444444444444444,
              "#bd3786"
             ],
             [
              0.5555555555555556,
              "#d8576b"
             ],
             [
              0.6666666666666666,
              "#ed7953"
             ],
             [
              0.7777777777777778,
              "#fb9f3a"
             ],
             [
              0.8888888888888888,
              "#fdca26"
             ],
             [
              1,
              "#f0f921"
             ]
            ],
            "type": "contour"
           }
          ],
          "contourcarpet": [
           {
            "colorbar": {
             "outlinewidth": 0,
             "ticks": ""
            },
            "type": "contourcarpet"
           }
          ],
          "heatmap": [
           {
            "colorbar": {
             "outlinewidth": 0,
             "ticks": ""
            },
            "colorscale": [
             [
              0,
              "#0d0887"
             ],
             [
              0.1111111111111111,
              "#46039f"
             ],
             [
              0.2222222222222222,
              "#7201a8"
             ],
             [
              0.3333333333333333,
              "#9c179e"
             ],
             [
              0.4444444444444444,
              "#bd3786"
             ],
             [
              0.5555555555555556,
              "#d8576b"
             ],
             [
              0.6666666666666666,
              "#ed7953"
             ],
             [
              0.7777777777777778,
              "#fb9f3a"
             ],
             [
              0.8888888888888888,
              "#fdca26"
             ],
             [
              1,
              "#f0f921"
             ]
            ],
            "type": "heatmap"
           }
          ],
          "heatmapgl": [
           {
            "colorbar": {
             "outlinewidth": 0,
             "ticks": ""
            },
            "colorscale": [
             [
              0,
              "#0d0887"
             ],
             [
              0.1111111111111111,
              "#46039f"
             ],
             [
              0.2222222222222222,
              "#7201a8"
             ],
             [
              0.3333333333333333,
              "#9c179e"
             ],
             [
              0.4444444444444444,
              "#bd3786"
             ],
             [
              0.5555555555555556,
              "#d8576b"
             ],
             [
              0.6666666666666666,
              "#ed7953"
             ],
             [
              0.7777777777777778,
              "#fb9f3a"
             ],
             [
              0.8888888888888888,
              "#fdca26"
             ],
             [
              1,
              "#f0f921"
             ]
            ],
            "type": "heatmapgl"
           }
          ],
          "histogram": [
           {
            "marker": {
             "pattern": {
              "fillmode": "overlay",
              "size": 10,
              "solidity": 0.2
             }
            },
            "type": "histogram"
           }
          ],
          "histogram2d": [
           {
            "colorbar": {
             "outlinewidth": 0,
             "ticks": ""
            },
            "colorscale": [
             [
              0,
              "#0d0887"
             ],
             [
              0.1111111111111111,
              "#46039f"
             ],
             [
              0.2222222222222222,
              "#7201a8"
             ],
             [
              0.3333333333333333,
              "#9c179e"
             ],
             [
              0.4444444444444444,
              "#bd3786"
             ],
             [
              0.5555555555555556,
              "#d8576b"
             ],
             [
              0.6666666666666666,
              "#ed7953"
             ],
             [
              0.7777777777777778,
              "#fb9f3a"
             ],
             [
              0.8888888888888888,
              "#fdca26"
             ],
             [
              1,
              "#f0f921"
             ]
            ],
            "type": "histogram2d"
           }
          ],
          "histogram2dcontour": [
           {
            "colorbar": {
             "outlinewidth": 0,
             "ticks": ""
            },
            "colorscale": [
             [
              0,
              "#0d0887"
             ],
             [
              0.1111111111111111,
              "#46039f"
             ],
             [
              0.2222222222222222,
              "#7201a8"
             ],
             [
              0.3333333333333333,
              "#9c179e"
             ],
             [
              0.4444444444444444,
              "#bd3786"
             ],
             [
              0.5555555555555556,
              "#d8576b"
             ],
             [
              0.6666666666666666,
              "#ed7953"
             ],
             [
              0.7777777777777778,
              "#fb9f3a"
             ],
             [
              0.8888888888888888,
              "#fdca26"
             ],
             [
              1,
              "#f0f921"
             ]
            ],
            "type": "histogram2dcontour"
           }
          ],
          "mesh3d": [
           {
            "colorbar": {
             "outlinewidth": 0,
             "ticks": ""
            },
            "type": "mesh3d"
           }
          ],
          "parcoords": [
           {
            "line": {
             "colorbar": {
              "outlinewidth": 0,
              "ticks": ""
             }
            },
            "type": "parcoords"
           }
          ],
          "pie": [
           {
            "automargin": true,
            "type": "pie"
           }
          ],
          "scatter": [
           {
            "fillpattern": {
             "fillmode": "overlay",
             "size": 10,
             "solidity": 0.2
            },
            "type": "scatter"
           }
          ],
          "scatter3d": [
           {
            "line": {
             "colorbar": {
              "outlinewidth": 0,
              "ticks": ""
             }
            },
            "marker": {
             "colorbar": {
              "outlinewidth": 0,
              "ticks": ""
             }
            },
            "type": "scatter3d"
           }
          ],
          "scattercarpet": [
           {
            "marker": {
             "colorbar": {
              "outlinewidth": 0,
              "ticks": ""
             }
            },
            "type": "scattercarpet"
           }
          ],
          "scattergeo": [
           {
            "marker": {
             "colorbar": {
              "outlinewidth": 0,
              "ticks": ""
             }
            },
            "type": "scattergeo"
           }
          ],
          "scattergl": [
           {
            "marker": {
             "colorbar": {
              "outlinewidth": 0,
              "ticks": ""
             }
            },
            "type": "scattergl"
           }
          ],
          "scattermapbox": [
           {
            "marker": {
             "colorbar": {
              "outlinewidth": 0,
              "ticks": ""
             }
            },
            "type": "scattermapbox"
           }
          ],
          "scatterpolar": [
           {
            "marker": {
             "colorbar": {
              "outlinewidth": 0,
              "ticks": ""
             }
            },
            "type": "scatterpolar"
           }
          ],
          "scatterpolargl": [
           {
            "marker": {
             "colorbar": {
              "outlinewidth": 0,
              "ticks": ""
             }
            },
            "type": "scatterpolargl"
           }
          ],
          "scatterternary": [
           {
            "marker": {
             "colorbar": {
              "outlinewidth": 0,
              "ticks": ""
             }
            },
            "type": "scatterternary"
           }
          ],
          "surface": [
           {
            "colorbar": {
             "outlinewidth": 0,
             "ticks": ""
            },
            "colorscale": [
             [
              0,
              "#0d0887"
             ],
             [
              0.1111111111111111,
              "#46039f"
             ],
             [
              0.2222222222222222,
              "#7201a8"
             ],
             [
              0.3333333333333333,
              "#9c179e"
             ],
             [
              0.4444444444444444,
              "#bd3786"
             ],
             [
              0.5555555555555556,
              "#d8576b"
             ],
             [
              0.6666666666666666,
              "#ed7953"
             ],
             [
              0.7777777777777778,
              "#fb9f3a"
             ],
             [
              0.8888888888888888,
              "#fdca26"
             ],
             [
              1,
              "#f0f921"
             ]
            ],
            "type": "surface"
           }
          ],
          "table": [
           {
            "cells": {
             "fill": {
              "color": "#EBF0F8"
             },
             "line": {
              "color": "white"
             }
            },
            "header": {
             "fill": {
              "color": "#C8D4E3"
             },
             "line": {
              "color": "white"
             }
            },
            "type": "table"
           }
          ]
         },
         "layout": {
          "annotationdefaults": {
           "arrowcolor": "#2a3f5f",
           "arrowhead": 0,
           "arrowwidth": 1
          },
          "autotypenumbers": "strict",
          "coloraxis": {
           "colorbar": {
            "outlinewidth": 0,
            "ticks": ""
           }
          },
          "colorscale": {
           "diverging": [
            [
             0,
             "#8e0152"
            ],
            [
             0.1,
             "#c51b7d"
            ],
            [
             0.2,
             "#de77ae"
            ],
            [
             0.3,
             "#f1b6da"
            ],
            [
             0.4,
             "#fde0ef"
            ],
            [
             0.5,
             "#f7f7f7"
            ],
            [
             0.6,
             "#e6f5d0"
            ],
            [
             0.7,
             "#b8e186"
            ],
            [
             0.8,
             "#7fbc41"
            ],
            [
             0.9,
             "#4d9221"
            ],
            [
             1,
             "#276419"
            ]
           ],
           "sequential": [
            [
             0,
             "#0d0887"
            ],
            [
             0.1111111111111111,
             "#46039f"
            ],
            [
             0.2222222222222222,
             "#7201a8"
            ],
            [
             0.3333333333333333,
             "#9c179e"
            ],
            [
             0.4444444444444444,
             "#bd3786"
            ],
            [
             0.5555555555555556,
             "#d8576b"
            ],
            [
             0.6666666666666666,
             "#ed7953"
            ],
            [
             0.7777777777777778,
             "#fb9f3a"
            ],
            [
             0.8888888888888888,
             "#fdca26"
            ],
            [
             1,
             "#f0f921"
            ]
           ],
           "sequentialminus": [
            [
             0,
             "#0d0887"
            ],
            [
             0.1111111111111111,
             "#46039f"
            ],
            [
             0.2222222222222222,
             "#7201a8"
            ],
            [
             0.3333333333333333,
             "#9c179e"
            ],
            [
             0.4444444444444444,
             "#bd3786"
            ],
            [
             0.5555555555555556,
             "#d8576b"
            ],
            [
             0.6666666666666666,
             "#ed7953"
            ],
            [
             0.7777777777777778,
             "#fb9f3a"
            ],
            [
             0.8888888888888888,
             "#fdca26"
            ],
            [
             1,
             "#f0f921"
            ]
           ]
          },
          "colorway": [
           "#636efa",
           "#EF553B",
           "#00cc96",
           "#ab63fa",
           "#FFA15A",
           "#19d3f3",
           "#FF6692",
           "#B6E880",
           "#FF97FF",
           "#FECB52"
          ],
          "font": {
           "color": "#2a3f5f"
          },
          "geo": {
           "bgcolor": "white",
           "lakecolor": "white",
           "landcolor": "#E5ECF6",
           "showlakes": true,
           "showland": true,
           "subunitcolor": "white"
          },
          "hoverlabel": {
           "align": "left"
          },
          "hovermode": "closest",
          "mapbox": {
           "style": "light"
          },
          "paper_bgcolor": "white",
          "plot_bgcolor": "#E5ECF6",
          "polar": {
           "angularaxis": {
            "gridcolor": "white",
            "linecolor": "white",
            "ticks": ""
           },
           "bgcolor": "#E5ECF6",
           "radialaxis": {
            "gridcolor": "white",
            "linecolor": "white",
            "ticks": ""
           }
          },
          "scene": {
           "xaxis": {
            "backgroundcolor": "#E5ECF6",
            "gridcolor": "white",
            "gridwidth": 2,
            "linecolor": "white",
            "showbackground": true,
            "ticks": "",
            "zerolinecolor": "white"
           },
           "yaxis": {
            "backgroundcolor": "#E5ECF6",
            "gridcolor": "white",
            "gridwidth": 2,
            "linecolor": "white",
            "showbackground": true,
            "ticks": "",
            "zerolinecolor": "white"
           },
           "zaxis": {
            "backgroundcolor": "#E5ECF6",
            "gridcolor": "white",
            "gridwidth": 2,
            "linecolor": "white",
            "showbackground": true,
            "ticks": "",
            "zerolinecolor": "white"
           }
          },
          "shapedefaults": {
           "line": {
            "color": "#2a3f5f"
           }
          },
          "ternary": {
           "aaxis": {
            "gridcolor": "white",
            "linecolor": "white",
            "ticks": ""
           },
           "baxis": {
            "gridcolor": "white",
            "linecolor": "white",
            "ticks": ""
           },
           "bgcolor": "#E5ECF6",
           "caxis": {
            "gridcolor": "white",
            "linecolor": "white",
            "ticks": ""
           }
          },
          "title": {
           "x": 0.05
          },
          "xaxis": {
           "automargin": true,
           "gridcolor": "white",
           "linecolor": "white",
           "ticks": "",
           "title": {
            "standoff": 15
           },
           "zerolinecolor": "white",
           "zerolinewidth": 2
          },
          "yaxis": {
           "automargin": true,
           "gridcolor": "white",
           "linecolor": "white",
           "ticks": "",
           "title": {
            "standoff": 15
           },
           "zerolinecolor": "white",
           "zerolinewidth": 2
          }
         }
        },
        "xaxis": {
         "anchor": "y",
         "domain": [
          0,
          1
         ],
         "title": {
          "text": "value"
         }
        },
        "xaxis2": {
         "anchor": "y2",
         "domain": [
          0,
          1
         ],
         "matches": "x",
         "showgrid": true,
         "showticklabels": false
        },
        "yaxis": {
         "anchor": "x",
         "domain": [
          0,
          0.7326
         ],
         "title": {
          "text": "probability density"
         }
        },
        "yaxis2": {
         "anchor": "x2",
         "domain": [
          0.7426,
          1
         ],
         "matches": "y2",
         "showgrid": false,
         "showline": false,
         "showticklabels": false,
         "ticks": ""
        }
       }
      }
     },
     "metadata": {},
     "output_type": "display_data"
    }
   ],
   "source": [
    "data = df_result_opt[['rtn_3_float','rtn_4_float']].mean(axis=1)\n",
    "fig = px.histogram(data, nbins=30, marginal=\"violin\", histnorm='probability density')\n",
    "fig.show()"
   ]
  },
  {
   "cell_type": "code",
   "execution_count": 41,
   "metadata": {},
   "outputs": [
    {
     "data": {
      "text/plain": [
       "1.7624574763697665"
      ]
     },
     "execution_count": 41,
     "metadata": {},
     "output_type": "execute_result"
    }
   ],
   "source": [
    "(130.80380193278907)**(1/8.6)"
   ]
  },
  {
   "cell_type": "code",
   "execution_count": 43,
   "metadata": {},
   "outputs": [
    {
     "data": {
      "text/plain": [
       "0.6046511627906977"
      ]
     },
     "execution_count": 43,
     "metadata": {},
     "output_type": "execute_result"
    }
   ],
   "source": [
    "5.2/8.6"
   ]
  },
  {
   "cell_type": "code",
   "execution_count": 50,
   "metadata": {},
   "outputs": [
    {
     "data": {
      "text/plain": [
       "(103, 6)"
      ]
     },
     "execution_count": 50,
     "metadata": {},
     "output_type": "execute_result"
    }
   ],
   "source": [
    "df_result_opt.shape"
   ]
  },
  {
   "cell_type": "code",
   "execution_count": 51,
   "metadata": {},
   "outputs": [
    {
     "data": {
      "text/plain": [
       "152.2291436143277"
      ]
     },
     "execution_count": 51,
     "metadata": {},
     "output_type": "execute_result"
    }
   ],
   "source": [
    "1.05**103"
   ]
  },
  {
   "cell_type": "code",
   "execution_count": null,
   "metadata": {},
   "outputs": [],
   "source": []
  }
 ],
 "metadata": {
  "kernelspec": {
   "display_name": "venv",
   "language": "python",
   "name": "python3"
  },
  "language_info": {
   "codemirror_mode": {
    "name": "ipython",
    "version": 3
   },
   "file_extension": ".py",
   "mimetype": "text/x-python",
   "name": "python",
   "nbconvert_exporter": "python",
   "pygments_lexer": "ipython3",
   "version": "3.11.3"
  }
 },
 "nbformat": 4,
 "nbformat_minor": 2
}
